{
 "cells": [
  {
   "cell_type": "markdown",
   "metadata": {},
   "source": [
    "# Strings in Python"
   ]
  },
  {
   "cell_type": "code",
   "execution_count": 60,
   "metadata": {
    "ExecuteTime": {
     "end_time": "2021-10-19T20:30:18.920462Z",
     "start_time": "2021-10-19T20:30:18.901514Z"
    }
   },
   "outputs": [
    {
     "data": {
      "text/plain": [
       "str"
      ]
     },
     "execution_count": 60,
     "metadata": {},
     "output_type": "execute_result"
    }
   ],
   "source": [
    "type('Hello')"
   ]
  },
  {
   "cell_type": "code",
   "execution_count": 61,
   "metadata": {
    "ExecuteTime": {
     "end_time": "2021-10-19T20:30:19.354378Z",
     "start_time": "2021-10-19T20:30:19.340416Z"
    }
   },
   "outputs": [
    {
     "data": {
      "text/plain": [
       "str"
      ]
     },
     "execution_count": 61,
     "metadata": {},
     "output_type": "execute_result"
    }
   ],
   "source": [
    "type(\"Hello\")"
   ]
  },
  {
   "cell_type": "markdown",
   "metadata": {},
   "source": [
    "## String concatenation\n",
    "\n",
    "- `+` operator"
   ]
  },
  {
   "cell_type": "code",
   "execution_count": 62,
   "metadata": {
    "ExecuteTime": {
     "end_time": "2021-10-19T20:31:10.724691Z",
     "start_time": "2021-10-19T20:31:10.708733Z"
    }
   },
   "outputs": [
    {
     "data": {
      "text/plain": [
       "3"
      ]
     },
     "execution_count": 62,
     "metadata": {},
     "output_type": "execute_result"
    }
   ],
   "source": [
    "1+2"
   ]
  },
  {
   "cell_type": "code",
   "execution_count": 65,
   "metadata": {
    "ExecuteTime": {
     "end_time": "2021-10-19T20:31:50.032696Z",
     "start_time": "2021-10-19T20:31:50.022724Z"
    }
   },
   "outputs": [
    {
     "data": {
      "text/plain": [
       "'Hello_World'"
      ]
     },
     "execution_count": 65,
     "metadata": {},
     "output_type": "execute_result"
    }
   ],
   "source": [
    "'Hello' + '_' + \"World\""
   ]
  },
  {
   "cell_type": "code",
   "execution_count": 66,
   "metadata": {
    "ExecuteTime": {
     "end_time": "2021-10-19T20:32:05.873890Z",
     "start_time": "2021-10-19T20:32:05.868917Z"
    }
   },
   "outputs": [],
   "source": [
    "x = 'Hello'\n",
    "\n",
    "y = \"World\""
   ]
  },
  {
   "cell_type": "code",
   "execution_count": 67,
   "metadata": {
    "ExecuteTime": {
     "end_time": "2021-10-19T20:32:07.378090Z",
     "start_time": "2021-10-19T20:32:07.366122Z"
    }
   },
   "outputs": [
    {
     "data": {
      "text/plain": [
       "'HelloWorld'"
      ]
     },
     "execution_count": 67,
     "metadata": {},
     "output_type": "execute_result"
    }
   ],
   "source": [
    "x + y"
   ]
  },
  {
   "cell_type": "code",
   "execution_count": 68,
   "metadata": {
    "ExecuteTime": {
     "end_time": "2021-10-19T20:32:22.762032Z",
     "start_time": "2021-10-19T20:32:22.757045Z"
    }
   },
   "outputs": [],
   "source": [
    "z =85"
   ]
  },
  {
   "cell_type": "code",
   "execution_count": 69,
   "metadata": {
    "ExecuteTime": {
     "end_time": "2021-10-19T20:33:17.671179Z",
     "start_time": "2021-10-19T20:33:17.654238Z"
    }
   },
   "outputs": [],
   "source": [
    "z += 1\n",
    "#z = z + 1"
   ]
  },
  {
   "cell_type": "code",
   "execution_count": 70,
   "metadata": {
    "ExecuteTime": {
     "end_time": "2021-10-19T20:33:19.914495Z",
     "start_time": "2021-10-19T20:33:19.902528Z"
    },
    "scrolled": true
   },
   "outputs": [
    {
     "data": {
      "text/plain": [
       "86"
      ]
     },
     "execution_count": 70,
     "metadata": {},
     "output_type": "execute_result"
    }
   ],
   "source": [
    "z"
   ]
  },
  {
   "cell_type": "code",
   "execution_count": 71,
   "metadata": {
    "ExecuteTime": {
     "end_time": "2021-10-19T20:33:41.639407Z",
     "start_time": "2021-10-19T20:33:41.629459Z"
    }
   },
   "outputs": [
    {
     "data": {
      "text/plain": [
       "'Hello'"
      ]
     },
     "execution_count": 71,
     "metadata": {},
     "output_type": "execute_result"
    }
   ],
   "source": [
    "x"
   ]
  },
  {
   "cell_type": "code",
   "execution_count": 72,
   "metadata": {
    "ExecuteTime": {
     "end_time": "2021-10-19T20:33:46.475640Z",
     "start_time": "2021-10-19T20:33:46.461417Z"
    }
   },
   "outputs": [],
   "source": [
    "x += 'World'"
   ]
  },
  {
   "cell_type": "code",
   "execution_count": 73,
   "metadata": {
    "ExecuteTime": {
     "end_time": "2021-10-19T20:33:48.884445Z",
     "start_time": "2021-10-19T20:33:48.879458Z"
    }
   },
   "outputs": [
    {
     "data": {
      "text/plain": [
       "'HelloWorld'"
      ]
     },
     "execution_count": 73,
     "metadata": {},
     "output_type": "execute_result"
    }
   ],
   "source": [
    "x"
   ]
  },
  {
   "cell_type": "code",
   "execution_count": 17,
   "metadata": {
    "ExecuteTime": {
     "end_time": "2021-10-19T18:38:30.754097Z",
     "start_time": "2021-10-19T18:38:30.738140Z"
    }
   },
   "outputs": [
    {
     "data": {
      "text/plain": [
       "'HelloWorld'"
      ]
     },
     "execution_count": 17,
     "metadata": {},
     "output_type": "execute_result"
    }
   ],
   "source": [
    "x = 'Hello'\n",
    "#x += 'World'\n",
    "x = x + 'World'\n",
    "x"
   ]
  },
  {
   "cell_type": "markdown",
   "metadata": {},
   "source": [
    "Step by step execution of the cell above:\n",
    "\n",
    "```python \n",
    "1. x <- 'Hello' # Hello is assigned to x (x is now an alias to the string 'Hello'\n",
    "\n",
    "2. x += 'World' # The x += syntax expands to x = x +\n",
    "\n",
    "3. x = x + 'World' # The right `x` expands to its alias 'Hello'\n",
    "\n",
    "4. x = 'Hello' + 'World' # The two strings are concatenated\n",
    "\n",
    "5. x <- 'HelloWorld' # 'HelloWorld' is assigned to x (overwriting its previous value)\n",
    "```"
   ]
  },
  {
   "cell_type": "code",
   "execution_count": 45,
   "metadata": {
    "ExecuteTime": {
     "end_time": "2021-08-10T18:48:37.839182Z",
     "start_time": "2021-08-10T18:48:37.831688Z"
    }
   },
   "outputs": [
    {
     "data": {
      "text/plain": [
       "'Hello'"
      ]
     },
     "execution_count": 45,
     "metadata": {},
     "output_type": "execute_result"
    }
   ],
   "source": [
    "\"Hello\""
   ]
  },
  {
   "cell_type": "code",
   "execution_count": 46,
   "metadata": {
    "ExecuteTime": {
     "end_time": "2021-08-10T18:48:46.015880Z",
     "start_time": "2021-08-10T18:48:46.008414Z"
    }
   },
   "outputs": [
    {
     "name": "stdout",
     "output_type": "stream",
     "text": [
      "Hello\n"
     ]
    }
   ],
   "source": [
    "print('Hello')"
   ]
  },
  {
   "cell_type": "markdown",
   "metadata": {},
   "source": [
    "# String multiplication"
   ]
  },
  {
   "cell_type": "code",
   "execution_count": 78,
   "metadata": {
    "ExecuteTime": {
     "end_time": "2021-10-19T20:40:26.991647Z",
     "start_time": "2021-10-19T20:40:26.980676Z"
    }
   },
   "outputs": [
    {
     "data": {
      "text/plain": [
       "'HelloWorld'"
      ]
     },
     "execution_count": 78,
     "metadata": {},
     "output_type": "execute_result"
    }
   ],
   "source": [
    "x"
   ]
  },
  {
   "cell_type": "code",
   "execution_count": 79,
   "metadata": {
    "ExecuteTime": {
     "end_time": "2021-10-19T20:40:27.504643Z",
     "start_time": "2021-10-19T20:40:27.493672Z"
    }
   },
   "outputs": [
    {
     "data": {
      "text/plain": [
       "'HelloWorldHelloWorldHelloWorld'"
      ]
     },
     "execution_count": 79,
     "metadata": {},
     "output_type": "execute_result"
    }
   ],
   "source": [
    "x + x + x"
   ]
  },
  {
   "cell_type": "code",
   "execution_count": 80,
   "metadata": {
    "ExecuteTime": {
     "end_time": "2021-10-19T20:40:38.076726Z",
     "start_time": "2021-10-19T20:40:38.060768Z"
    }
   },
   "outputs": [
    {
     "data": {
      "text/plain": [
       "'HelloWorldHelloWorldHelloWorld'"
      ]
     },
     "execution_count": 80,
     "metadata": {},
     "output_type": "execute_result"
    }
   ],
   "source": [
    "x * 3"
   ]
  },
  {
   "cell_type": "code",
   "execution_count": 82,
   "metadata": {
    "ExecuteTime": {
     "end_time": "2021-10-19T20:41:31.082555Z",
     "start_time": "2021-10-19T20:41:31.069592Z"
    }
   },
   "outputs": [
    {
     "data": {
      "text/plain": [
       "['p3', 'unp3', 'p3', 'unp3']"
      ]
     },
     "execution_count": 82,
     "metadata": {},
     "output_type": "execute_result"
    }
   ],
   "source": [
    "# curiosidade: listas tem o mesmo princípio de concatenação das strings\n",
    "['p3', 'unp3'] + ['p3', 'unp3']"
   ]
  },
  {
   "cell_type": "code",
   "execution_count": 83,
   "metadata": {
    "ExecuteTime": {
     "end_time": "2021-10-19T20:41:34.283023Z",
     "start_time": "2021-10-19T20:41:34.269062Z"
    }
   },
   "outputs": [
    {
     "data": {
      "text/plain": [
       "['p3',\n",
       " 'unp3',\n",
       " 'p3',\n",
       " 'unp3',\n",
       " 'p3',\n",
       " 'unp3',\n",
       " 'p3',\n",
       " 'unp3',\n",
       " 'p3',\n",
       " 'unp3',\n",
       " 'p3',\n",
       " 'unp3',\n",
       " 'p3',\n",
       " 'unp3',\n",
       " 'p3',\n",
       " 'unp3',\n",
       " 'p3',\n",
       " 'unp3',\n",
       " 'p3',\n",
       " 'unp3']"
      ]
     },
     "execution_count": 83,
     "metadata": {},
     "output_type": "execute_result"
    }
   ],
   "source": [
    "['p3', 'unp3'] * 10"
   ]
  },
  {
   "cell_type": "markdown",
   "metadata": {},
   "source": [
    "## Multiline strings"
   ]
  },
  {
   "cell_type": "code",
   "execution_count": 47,
   "metadata": {
    "ExecuteTime": {
     "end_time": "2021-08-10T18:49:45.187911Z",
     "start_time": "2021-08-10T18:49:45.184410Z"
    },
    "scrolled": true
   },
   "outputs": [
    {
     "data": {
      "text/plain": [
       "'Andre Ribeiro de \\nBarros Aguiar'"
      ]
     },
     "execution_count": 47,
     "metadata": {},
     "output_type": "execute_result"
    }
   ],
   "source": [
    "'''Andre Ribeiro de \n",
    "Barros Aguiar'''"
   ]
  },
  {
   "cell_type": "code",
   "execution_count": 48,
   "metadata": {
    "ExecuteTime": {
     "end_time": "2021-08-10T18:50:04.944896Z",
     "start_time": "2021-08-10T18:50:04.936918Z"
    }
   },
   "outputs": [
    {
     "data": {
      "text/plain": [
       "'Andre Ribeiro de \\nBarros Aguiar'"
      ]
     },
     "execution_count": 48,
     "metadata": {},
     "output_type": "execute_result"
    }
   ],
   "source": [
    "'Andre Ribeiro de \\nBarros Aguiar'"
   ]
  },
  {
   "cell_type": "code",
   "execution_count": 46,
   "metadata": {
    "ExecuteTime": {
     "end_time": "2021-03-23T18:45:39.102102Z",
     "start_time": "2021-03-23T18:45:39.085633Z"
    }
   },
   "outputs": [
    {
     "name": "stdout",
     "output_type": "stream",
     "text": [
      "Andre Ribeiro de \n",
      "Barros Aguiar\n"
     ]
    }
   ],
   "source": [
    "print('Andre Ribeiro de \\nBarros Aguiar')"
   ]
  },
  {
   "cell_type": "code",
   "execution_count": 47,
   "metadata": {
    "ExecuteTime": {
     "end_time": "2021-03-23T18:46:17.616512Z",
     "start_time": "2021-03-23T18:46:17.605548Z"
    }
   },
   "outputs": [
    {
     "name": "stdout",
     "output_type": "stream",
     "text": [
      "Andre Ribeiro de \n",
      "Barros Aguiar\n"
     ]
    }
   ],
   "source": [
    "print('''Andre Ribeiro de \n",
    "Barros Aguiar''')"
   ]
  },
  {
   "cell_type": "code",
   "execution_count": 77,
   "metadata": {
    "ExecuteTime": {
     "end_time": "2021-10-19T20:40:04.075127Z",
     "start_time": "2021-10-19T20:40:04.060167Z"
    }
   },
   "outputs": [
    {
     "name": "stdout",
     "output_type": "stream",
     "text": [
      "Andre Ribeiro de \n",
      "\n",
      "\t\t\tBarros Aguiar\n"
     ]
    }
   ],
   "source": [
    "print(\"\"\"Andre Ribeiro de \\n\\n\\t\\t\\tBarros Aguiar\"\"\")"
   ]
  },
  {
   "cell_type": "markdown",
   "metadata": {},
   "source": [
    "- `\\n` é a representação da quebra de linha (enter)\n",
    "- `\\t` é a representação do TAB"
   ]
  },
  {
   "cell_type": "markdown",
   "metadata": {},
   "source": [
    "# Special characters\n",
    "\n",
    "- the `newline` character representation: `\\n`\n",
    "- the `tab` character representation: `\\t`"
   ]
  },
  {
   "cell_type": "code",
   "execution_count": 18,
   "metadata": {
    "ExecuteTime": {
     "end_time": "2021-10-19T18:43:37.068204Z",
     "start_time": "2021-10-19T18:43:37.050253Z"
    }
   },
   "outputs": [
    {
     "name": "stdout",
     "output_type": "stream",
     "text": [
      "\n",
      "\n",
      "\n",
      "\n"
     ]
    }
   ],
   "source": [
    "print('\\n'* 3)"
   ]
  },
  {
   "cell_type": "code",
   "execution_count": 20,
   "metadata": {
    "ExecuteTime": {
     "end_time": "2021-10-19T18:43:48.789041Z",
     "start_time": "2021-10-19T18:43:48.771090Z"
    }
   },
   "outputs": [
    {
     "name": "stdout",
     "output_type": "stream",
     "text": [
      "\t\t\tAtum\n"
     ]
    }
   ],
   "source": [
    "print('\\t' * 3 + 'Atum')"
   ]
  },
  {
   "cell_type": "markdown",
   "metadata": {},
   "source": [
    "------"
   ]
  },
  {
   "cell_type": "markdown",
   "metadata": {},
   "source": [
    "# `Joining` a <u>list of strings</u> into a `single string`"
   ]
  },
  {
   "cell_type": "code",
   "execution_count": 84,
   "metadata": {
    "ExecuteTime": {
     "end_time": "2021-10-19T20:42:39.540426Z",
     "start_time": "2021-10-19T20:42:39.533444Z"
    },
    "scrolled": true
   },
   "outputs": [
    {
     "data": {
      "text/plain": [
       "['Andre', 'Ribeiro', 'de', 'Barros', 'Aguiar']"
      ]
     },
     "execution_count": 84,
     "metadata": {},
     "output_type": "execute_result"
    }
   ],
   "source": [
    "meu_nome = ['Andre','Ribeiro','de', 'Barros','Aguiar']\n",
    "meu_nome"
   ]
  },
  {
   "cell_type": "code",
   "execution_count": 53,
   "metadata": {
    "ExecuteTime": {
     "end_time": "2021-08-10T18:54:51.298700Z",
     "start_time": "2021-08-10T18:54:51.284688Z"
    }
   },
   "outputs": [
    {
     "data": {
      "text/plain": [
       "5"
      ]
     },
     "execution_count": 53,
     "metadata": {},
     "output_type": "execute_result"
    }
   ],
   "source": [
    "len(meu_nome)"
   ]
  },
  {
   "cell_type": "code",
   "execution_count": 86,
   "metadata": {
    "ExecuteTime": {
     "end_time": "2021-10-19T20:45:10.827228Z",
     "start_time": "2021-10-19T20:45:10.820247Z"
    }
   },
   "outputs": [
    {
     "data": {
      "text/plain": [
       "'AndreRibeirodeBarrosAguiar'"
      ]
     },
     "execution_count": 86,
     "metadata": {},
     "output_type": "execute_result"
    }
   ],
   "source": [
    "meu_nome[0]+meu_nome[1]+meu_nome[2]+meu_nome[3]+meu_nome[4]"
   ]
  },
  {
   "cell_type": "code",
   "execution_count": 94,
   "metadata": {
    "ExecuteTime": {
     "end_time": "2021-10-19T20:47:58.852445Z",
     "start_time": "2021-10-19T20:47:58.845455Z"
    }
   },
   "outputs": [
    {
     "data": {
      "text/plain": [
       "'Andre Ribeiro de Barros Aguiar'"
      ]
     },
     "execution_count": 94,
     "metadata": {},
     "output_type": "execute_result"
    }
   ],
   "source": [
    "n = ''\n",
    "for nome in meu_nome:\n",
    "    n+=nome\n",
    "    n+=' '\n",
    "n=n[0:-1]\n",
    "n"
   ]
  },
  {
   "cell_type": "code",
   "execution_count": null,
   "metadata": {
    "ExecuteTime": {
     "end_time": "2021-01-12T17:37:50.888827Z",
     "start_time": "2021-01-12T17:37:50.879850Z"
    }
   },
   "outputs": [],
   "source": [
    "# meu_nome[0] + ' ' + meu_nome[1] ..."
   ]
  },
  {
   "cell_type": "code",
   "execution_count": 95,
   "metadata": {
    "ExecuteTime": {
     "end_time": "2021-10-19T20:48:47.772176Z",
     "start_time": "2021-10-19T20:48:47.764198Z"
    }
   },
   "outputs": [],
   "source": [
    "espaco = ' '"
   ]
  },
  {
   "cell_type": "code",
   "execution_count": 96,
   "metadata": {
    "ExecuteTime": {
     "end_time": "2021-10-19T20:48:55.519169Z",
     "start_time": "2021-10-19T20:48:55.501224Z"
    }
   },
   "outputs": [
    {
     "data": {
      "text/plain": [
       "str"
      ]
     },
     "execution_count": 96,
     "metadata": {},
     "output_type": "execute_result"
    }
   ],
   "source": [
    "type(espaco)"
   ]
  },
  {
   "cell_type": "code",
   "execution_count": 61,
   "metadata": {
    "ExecuteTime": {
     "end_time": "2021-08-10T18:59:33.953121Z",
     "start_time": "2021-08-10T18:59:33.936646Z"
    },
    "scrolled": true
   },
   "outputs": [
    {
     "ename": "TypeError",
     "evalue": "join() takes exactly one argument (0 given)",
     "output_type": "error",
     "traceback": [
      "\u001b[1;31m---------------------------------------------------------------------------\u001b[0m",
      "\u001b[1;31mTypeError\u001b[0m                                 Traceback (most recent call last)",
      "\u001b[1;32m<ipython-input-61-b1e747be7ea5>\u001b[0m in \u001b[0;36m<module>\u001b[1;34m\u001b[0m\n\u001b[1;32m----> 1\u001b[1;33m \u001b[0mespaco\u001b[0m\u001b[1;33m.\u001b[0m\u001b[0mjoin\u001b[0m\u001b[1;33m(\u001b[0m\u001b[1;33m)\u001b[0m\u001b[1;33m\u001b[0m\u001b[1;33m\u001b[0m\u001b[0m\n\u001b[0m",
      "\u001b[1;31mTypeError\u001b[0m: join() takes exactly one argument (0 given)"
     ]
    }
   ],
   "source": [
    "espaco.join()"
   ]
  },
  {
   "cell_type": "code",
   "execution_count": 97,
   "metadata": {
    "ExecuteTime": {
     "end_time": "2021-10-19T20:49:26.411064Z",
     "start_time": "2021-10-19T20:49:26.396104Z"
    },
    "scrolled": true
   },
   "outputs": [
    {
     "data": {
      "text/plain": [
       "'Andre Ribeiro de Barros Aguiar'"
      ]
     },
     "execution_count": 97,
     "metadata": {},
     "output_type": "execute_result"
    }
   ],
   "source": [
    "espaco.join(meu_nome)"
   ]
  },
  {
   "cell_type": "code",
   "execution_count": 98,
   "metadata": {
    "ExecuteTime": {
     "end_time": "2021-10-19T20:50:19.620259Z",
     "start_time": "2021-10-19T20:50:19.606297Z"
    }
   },
   "outputs": [
    {
     "data": {
      "text/plain": [
       "'Andre Ribeiro de Barros Aguiar'"
      ]
     },
     "execution_count": 98,
     "metadata": {},
     "output_type": "execute_result"
    }
   ],
   "source": [
    "' '.join(meu_nome)"
   ]
  },
  {
   "cell_type": "code",
   "execution_count": 99,
   "metadata": {
    "ExecuteTime": {
     "end_time": "2021-10-19T20:50:24.323814Z",
     "start_time": "2021-10-19T20:50:24.308853Z"
    }
   },
   "outputs": [
    {
     "data": {
      "text/plain": [
       "'Andre-Ribeiro-de-Barros-Aguiar'"
      ]
     },
     "execution_count": 99,
     "metadata": {},
     "output_type": "execute_result"
    }
   ],
   "source": [
    "'-'.join(meu_nome)"
   ]
  },
  {
   "cell_type": "code",
   "execution_count": 100,
   "metadata": {
    "ExecuteTime": {
     "end_time": "2021-10-19T20:50:29.330919Z",
     "start_time": "2021-10-19T20:50:29.325935Z"
    }
   },
   "outputs": [
    {
     "data": {
      "text/plain": [
       "'Andre*****Ribeiro*****de*****Barros*****Aguiar'"
      ]
     },
     "execution_count": 100,
     "metadata": {},
     "output_type": "execute_result"
    }
   ],
   "source": [
    "'*****'.join(meu_nome)"
   ]
  },
  {
   "cell_type": "code",
   "execution_count": 101,
   "metadata": {
    "ExecuteTime": {
     "end_time": "2021-10-19T20:50:32.481352Z",
     "start_time": "2021-10-19T20:50:32.477362Z"
    }
   },
   "outputs": [
    {
     "data": {
      "text/plain": [
       "'Andre->Ribeiro->de->Barros->Aguiar'"
      ]
     },
     "execution_count": 101,
     "metadata": {},
     "output_type": "execute_result"
    }
   ],
   "source": [
    "'->'.join(['Andre','Ribeiro','de', 'Barros','Aguiar'])"
   ]
  },
  {
   "cell_type": "code",
   "execution_count": 102,
   "metadata": {
    "ExecuteTime": {
     "end_time": "2021-10-19T20:51:20.078441Z",
     "start_time": "2021-10-19T20:51:20.069465Z"
    }
   },
   "outputs": [
    {
     "data": {
      "text/plain": [
       "'Happy-Puppies'"
      ]
     },
     "execution_count": 102,
     "metadata": {},
     "output_type": "execute_result"
    }
   ],
   "source": [
    "x = 'Happy'\n",
    "y = 'Puppies'\n",
    "\n",
    "'-'.join([x, y])"
   ]
  },
  {
   "cell_type": "markdown",
   "metadata": {},
   "source": [
    "# Practical example"
   ]
  },
  {
   "cell_type": "code",
   "execution_count": 21,
   "metadata": {
    "ExecuteTime": {
     "end_time": "2021-10-19T18:51:40.668490Z",
     "start_time": "2021-10-19T18:51:40.658517Z"
    }
   },
   "outputs": [],
   "source": [
    "queries = []\n",
    "\n",
    "tables = ['table_A', 'table_B', 'table_C', \n",
    "          'table_D','table_E', 'table_F',\n",
    "          'table_G','table_H', 'table_I']"
   ]
  },
  {
   "cell_type": "code",
   "execution_count": 22,
   "metadata": {
    "ExecuteTime": {
     "end_time": "2021-10-19T18:51:41.304555Z",
     "start_time": "2021-10-19T18:51:41.289595Z"
    }
   },
   "outputs": [
    {
     "data": {
      "text/plain": [
       "['table_A',\n",
       " 'table_B',\n",
       " 'table_C',\n",
       " 'table_D',\n",
       " 'table_E',\n",
       " 'table_F',\n",
       " 'table_G',\n",
       " 'table_H',\n",
       " 'table_I']"
      ]
     },
     "execution_count": 22,
     "metadata": {},
     "output_type": "execute_result"
    }
   ],
   "source": [
    "tables"
   ]
  },
  {
   "cell_type": "code",
   "execution_count": 3,
   "metadata": {
    "ExecuteTime": {
     "end_time": "2021-03-23T17:24:42.746168Z",
     "start_time": "2021-03-23T17:24:42.740184Z"
    },
    "scrolled": true
   },
   "outputs": [
    {
     "data": {
      "text/plain": [
       "'\\nSELECT * FROM table_A\\nUNION\\nSELECT * FROM table_B\\nUNION \\nSELECT * FROM table_C ...\\n'"
      ]
     },
     "execution_count": 3,
     "metadata": {},
     "output_type": "execute_result"
    }
   ],
   "source": [
    "'''\n",
    "SELECT * FROM table_A\n",
    "UNION\n",
    "SELECT * FROM table_B\n",
    "UNION \n",
    "SELECT * FROM table_C ...\n",
    "'''"
   ]
  },
  {
   "cell_type": "code",
   "execution_count": 112,
   "metadata": {
    "ExecuteTime": {
     "end_time": "2021-10-19T20:58:37.137956Z",
     "start_time": "2021-10-19T20:58:37.124990Z"
    },
    "scrolled": true
   },
   "outputs": [
    {
     "data": {
      "text/plain": [
       "['nada',\n",
       " 'table_A',\n",
       " 'table_B',\n",
       " 'table_C',\n",
       " 'table_D',\n",
       " 'table_E',\n",
       " 'table_F',\n",
       " 'table_G',\n",
       " 'table_H',\n",
       " 'table_I']"
      ]
     },
     "execution_count": 112,
     "metadata": {},
     "output_type": "execute_result"
    }
   ],
   "source": [
    "['nada']+tables"
   ]
  },
  {
   "cell_type": "code",
   "execution_count": 118,
   "metadata": {
    "ExecuteTime": {
     "end_time": "2021-10-19T21:00:14.692362Z",
     "start_time": "2021-10-19T21:00:14.685382Z"
    }
   },
   "outputs": [
    {
     "name": "stdout",
     "output_type": "stream",
     "text": [
      "SELECT * FROM table_A\n",
      "UNION\n",
      "SELECT * FROM table_B\n",
      "UNION\n",
      "SELECT * FROM table_C\n",
      "UNION\n",
      "SELECT * FROM table_D\n",
      "UNION\n",
      "SELECT * FROM table_E\n",
      "UNION\n",
      "SELECT * FROM table_F\n",
      "UNION\n",
      "SELECT * FROM table_G\n",
      "UNION\n",
      "SELECT * FROM table_H\n",
      "UNION\n",
      "SELECT * FROM table_I\n"
     ]
    }
   ],
   "source": [
    "print('\\nUNION\\nSELECT * FROM '.join(['nada']+tables)[11:])"
   ]
  },
  {
   "cell_type": "code",
   "execution_count": null,
   "metadata": {},
   "outputs": [],
   "source": []
  },
  {
   "cell_type": "code",
   "execution_count": null,
   "metadata": {},
   "outputs": [],
   "source": []
  },
  {
   "cell_type": "code",
   "execution_count": null,
   "metadata": {},
   "outputs": [],
   "source": []
  },
  {
   "cell_type": "code",
   "execution_count": 70,
   "metadata": {
    "ExecuteTime": {
     "end_time": "2021-03-23T18:58:02.449606Z",
     "start_time": "2021-03-23T18:58:02.446614Z"
    }
   },
   "outputs": [
    {
     "name": "stdout",
     "output_type": "stream",
     "text": [
      "SELECT * FROM table_A\n",
      "UNION\n"
     ]
    }
   ],
   "source": [
    "each_table=tables[0]\n",
    "print(f'''SELECT * FROM {each_table}\\nUNION''')\n",
    "#each_table=tables[1]\n",
    "#print(f'''SELECT * FROM {each_table}\\nUNION''')"
   ]
  },
  {
   "cell_type": "code",
   "execution_count": 71,
   "metadata": {
    "ExecuteTime": {
     "end_time": "2021-03-23T18:58:17.938828Z",
     "start_time": "2021-03-23T18:58:17.926797Z"
    }
   },
   "outputs": [
    {
     "name": "stdout",
     "output_type": "stream",
     "text": [
      "SELECT * FROM table_A\n",
      "UNION\n",
      "SELECT * FROM table_B\n",
      "UNION\n",
      "SELECT * FROM table_C\n",
      "UNION\n",
      "SELECT * FROM table_D\n",
      "UNION\n",
      "SELECT * FROM table_E\n",
      "UNION\n",
      "SELECT * FROM table_F\n",
      "UNION\n",
      "SELECT * FROM table_G\n",
      "UNION\n",
      "SELECT * FROM table_H\n",
      "UNION\n",
      "SELECT * FROM table_I\n",
      "UNION\n"
     ]
    }
   ],
   "source": [
    "for each_table in tables:\n",
    "    print(f'SELECT * FROM {each_table}\\nUNION')"
   ]
  },
  {
   "cell_type": "code",
   "execution_count": 23,
   "metadata": {
    "ExecuteTime": {
     "end_time": "2021-10-19T18:51:48.172730Z",
     "start_time": "2021-10-19T18:51:48.162758Z"
    },
    "scrolled": true
   },
   "outputs": [
    {
     "data": {
      "text/plain": [
       "['SELECT * FROM table_A',\n",
       " 'SELECT * FROM table_B',\n",
       " 'SELECT * FROM table_C',\n",
       " 'SELECT * FROM table_D',\n",
       " 'SELECT * FROM table_E',\n",
       " 'SELECT * FROM table_F',\n",
       " 'SELECT * FROM table_G',\n",
       " 'SELECT * FROM table_H',\n",
       " 'SELECT * FROM table_I']"
      ]
     },
     "execution_count": 23,
     "metadata": {},
     "output_type": "execute_result"
    }
   ],
   "source": [
    "queries = []\n",
    "\n",
    "for each_table in tables:\n",
    "    queries.append(f'SELECT * FROM {each_table}')\n",
    "queries"
   ]
  },
  {
   "cell_type": "code",
   "execution_count": 24,
   "metadata": {
    "ExecuteTime": {
     "end_time": "2021-10-19T18:51:49.934272Z",
     "start_time": "2021-10-19T18:51:49.930282Z"
    }
   },
   "outputs": [
    {
     "name": "stdout",
     "output_type": "stream",
     "text": [
      "SELECT * FROM table_A\n",
      "UNION\n",
      "SELECT * FROM table_B\n",
      "UNION\n",
      "SELECT * FROM table_C\n",
      "UNION\n",
      "SELECT * FROM table_D\n",
      "UNION\n",
      "SELECT * FROM table_E\n",
      "UNION\n",
      "SELECT * FROM table_F\n",
      "UNION\n",
      "SELECT * FROM table_G\n",
      "UNION\n",
      "SELECT * FROM table_H\n",
      "UNION\n",
      "SELECT * FROM table_I\n"
     ]
    }
   ],
   "source": [
    "print('\\nUNION\\n'.join(queries))"
   ]
  },
  {
   "cell_type": "code",
   "execution_count": 25,
   "metadata": {
    "ExecuteTime": {
     "end_time": "2021-10-19T18:51:53.489798Z",
     "start_time": "2021-10-19T18:51:53.481819Z"
    },
    "scrolled": true
   },
   "outputs": [
    {
     "name": "stdout",
     "output_type": "stream",
     "text": [
      "SELECT * FROM table_A\n",
      "UNION\n",
      "SELECT * FROM table_B\n",
      "UNION\n",
      "SELECT * FROM table_C\n",
      "UNION\n",
      "SELECT * FROM table_D\n",
      "UNION\n",
      "SELECT * FROM table_E\n",
      "UNION\n",
      "SELECT * FROM table_F\n",
      "UNION\n",
      "SELECT * FROM table_G\n",
      "UNION\n",
      "SELECT * FROM table_H\n",
      "UNION\n",
      "SELECT * FROM table_I\n"
     ]
    }
   ],
   "source": [
    "final_query = '\\nUNION\\n'.join(queries)\n",
    "print(final_query)"
   ]
  },
  {
   "cell_type": "markdown",
   "metadata": {},
   "source": [
    "# Measuring the size of strings"
   ]
  },
  {
   "cell_type": "code",
   "execution_count": 123,
   "metadata": {
    "ExecuteTime": {
     "end_time": "2021-10-20T12:35:36.863965Z",
     "start_time": "2021-10-20T12:35:36.847028Z"
    }
   },
   "outputs": [
    {
     "data": {
      "text/plain": [
       "9"
      ]
     },
     "execution_count": 123,
     "metadata": {},
     "output_type": "execute_result"
    }
   ],
   "source": [
    "len([1,2,3,4,5,98,1,3,54])"
   ]
  },
  {
   "cell_type": "code",
   "execution_count": 125,
   "metadata": {
    "ExecuteTime": {
     "end_time": "2021-10-20T12:36:53.336854Z",
     "start_time": "2021-10-20T12:36:53.328876Z"
    }
   },
   "outputs": [
    {
     "data": {
      "text/plain": [
       "5"
      ]
     },
     "execution_count": 125,
     "metadata": {},
     "output_type": "execute_result"
    }
   ],
   "source": [
    "# len of string\n",
    "len('Atum ')"
   ]
  },
  {
   "cell_type": "code",
   "execution_count": 127,
   "metadata": {
    "ExecuteTime": {
     "end_time": "2021-10-20T12:38:22.095731Z",
     "start_time": "2021-10-20T12:38:22.088750Z"
    }
   },
   "outputs": [
    {
     "data": {
      "text/plain": [
       "6"
      ]
     },
     "execution_count": 127,
     "metadata": {},
     "output_type": "execute_result"
    }
   ],
   "source": [
    "len('Atum \\n')"
   ]
  },
  {
   "cell_type": "code",
   "execution_count": 129,
   "metadata": {
    "ExecuteTime": {
     "end_time": "2021-10-20T12:40:34.428499Z",
     "start_time": "2021-10-20T12:40:34.419523Z"
    },
    "scrolled": true
   },
   "outputs": [
    {
     "name": "stdout",
     "output_type": "stream",
     "text": [
      "R\n",
      "a\n",
      "i\n",
      "a\n",
      "n\n",
      "a\n",
      " \n",
      "R\n",
      "o\n",
      "c\n",
      "h\n",
      "a\n"
     ]
    }
   ],
   "source": [
    "# strings are also `iterables`\n",
    "\n",
    "for each_character in 'Raiana Rocha':\n",
    "    print(each_character)"
   ]
  },
  {
   "cell_type": "code",
   "execution_count": 32,
   "metadata": {
    "ExecuteTime": {
     "end_time": "2021-10-19T18:55:07.495848Z",
     "start_time": "2021-10-19T18:55:07.481886Z"
    }
   },
   "outputs": [
    {
     "data": {
      "text/plain": [
       "['R', 'a', 'i', 'a', 'n', 'a', ' ', 'R', 'o', 'c', 'h', 'a']"
      ]
     },
     "execution_count": 32,
     "metadata": {},
     "output_type": "execute_result"
    }
   ],
   "source": [
    "# if I convert a string to a list, I can see what they really are under the hood\n",
    "list('Raiana Rocha')"
   ]
  },
  {
   "cell_type": "markdown",
   "metadata": {},
   "source": [
    "# Word slicing"
   ]
  },
  {
   "cell_type": "code",
   "execution_count": 132,
   "metadata": {
    "ExecuteTime": {
     "end_time": "2021-10-20T12:42:58.868419Z",
     "start_time": "2021-10-20T12:42:58.862435Z"
    }
   },
   "outputs": [
    {
     "data": {
      "text/plain": [
       "[1, 2, 3, 566, 88, 5]"
      ]
     },
     "execution_count": 132,
     "metadata": {},
     "output_type": "execute_result"
    }
   ],
   "source": [
    "# slicings in lists\n",
    "x = [1,2,3,566,88,5,5,55576]\n",
    "x[:6]"
   ]
  },
  {
   "cell_type": "code",
   "execution_count": 133,
   "metadata": {
    "ExecuteTime": {
     "end_time": "2021-10-20T12:43:08.155422Z",
     "start_time": "2021-10-20T12:43:08.150436Z"
    }
   },
   "outputs": [],
   "source": [
    "word = 'automobile'"
   ]
  },
  {
   "cell_type": "code",
   "execution_count": 37,
   "metadata": {
    "ExecuteTime": {
     "end_time": "2021-10-19T18:55:26.880071Z",
     "start_time": "2021-10-19T18:55:26.873089Z"
    }
   },
   "outputs": [
    {
     "data": {
      "text/plain": [
       "'a'"
      ]
     },
     "execution_count": 37,
     "metadata": {},
     "output_type": "execute_result"
    }
   ],
   "source": [
    "word[0]"
   ]
  },
  {
   "cell_type": "code",
   "execution_count": 38,
   "metadata": {
    "ExecuteTime": {
     "end_time": "2021-10-19T18:55:27.207443Z",
     "start_time": "2021-10-19T18:55:27.193500Z"
    }
   },
   "outputs": [
    {
     "data": {
      "text/plain": [
       "'u'"
      ]
     },
     "execution_count": 38,
     "metadata": {},
     "output_type": "execute_result"
    }
   ],
   "source": [
    "word[1]"
   ]
  },
  {
   "cell_type": "code",
   "execution_count": 39,
   "metadata": {
    "ExecuteTime": {
     "end_time": "2021-10-19T18:55:27.504146Z",
     "start_time": "2021-10-19T18:55:27.490183Z"
    }
   },
   "outputs": [
    {
     "data": {
      "text/plain": [
       "'e'"
      ]
     },
     "execution_count": 39,
     "metadata": {},
     "output_type": "execute_result"
    }
   ],
   "source": [
    "word[-1]"
   ]
  },
  {
   "cell_type": "code",
   "execution_count": 40,
   "metadata": {
    "ExecuteTime": {
     "end_time": "2021-10-19T18:55:27.844160Z",
     "start_time": "2021-10-19T18:55:27.827191Z"
    }
   },
   "outputs": [
    {
     "data": {
      "text/plain": [
       "10"
      ]
     },
     "execution_count": 40,
     "metadata": {},
     "output_type": "execute_result"
    }
   ],
   "source": [
    "len(word)"
   ]
  },
  {
   "cell_type": "code",
   "execution_count": 41,
   "metadata": {
    "ExecuteTime": {
     "end_time": "2021-10-19T18:55:28.232905Z",
     "start_time": "2021-10-19T18:55:28.210966Z"
    }
   },
   "outputs": [
    {
     "ename": "IndexError",
     "evalue": "string index out of range",
     "output_type": "error",
     "traceback": [
      "\u001b[1;31m---------------------------------------------------------------------------\u001b[0m",
      "\u001b[1;31mIndexError\u001b[0m                                Traceback (most recent call last)",
      "\u001b[1;32m<ipython-input-41-ce7e1a1f21fd>\u001b[0m in \u001b[0;36m<module>\u001b[1;34m\u001b[0m\n\u001b[1;32m----> 1\u001b[1;33m \u001b[0mword\u001b[0m\u001b[1;33m[\u001b[0m\u001b[0mlen\u001b[0m\u001b[1;33m(\u001b[0m\u001b[0mword\u001b[0m\u001b[1;33m)\u001b[0m\u001b[1;33m]\u001b[0m\u001b[1;33m\u001b[0m\u001b[1;33m\u001b[0m\u001b[0m\n\u001b[0m",
      "\u001b[1;31mIndexError\u001b[0m: string index out of range"
     ]
    }
   ],
   "source": [
    "word[len(word)]"
   ]
  },
  {
   "cell_type": "code",
   "execution_count": 42,
   "metadata": {
    "ExecuteTime": {
     "end_time": "2021-10-19T18:55:28.544597Z",
     "start_time": "2021-10-19T18:55:28.530634Z"
    }
   },
   "outputs": [
    {
     "data": {
      "text/plain": [
       "'e'"
      ]
     },
     "execution_count": 42,
     "metadata": {},
     "output_type": "execute_result"
    }
   ],
   "source": [
    "word[len(word)-1]"
   ]
  },
  {
   "cell_type": "code",
   "execution_count": 43,
   "metadata": {
    "ExecuteTime": {
     "end_time": "2021-10-19T18:55:29.727521Z",
     "start_time": "2021-10-19T18:55:29.721537Z"
    }
   },
   "outputs": [
    {
     "data": {
      "text/plain": [
       "'e'"
      ]
     },
     "execution_count": 43,
     "metadata": {},
     "output_type": "execute_result"
    }
   ],
   "source": [
    "word[9]"
   ]
  },
  {
   "cell_type": "code",
   "execution_count": 44,
   "metadata": {
    "ExecuteTime": {
     "end_time": "2021-10-19T18:55:30.287783Z",
     "start_time": "2021-10-19T18:55:30.281799Z"
    }
   },
   "outputs": [
    {
     "data": {
      "text/plain": [
       "'auto'"
      ]
     },
     "execution_count": 44,
     "metadata": {},
     "output_type": "execute_result"
    }
   ],
   "source": [
    "word[:4]"
   ]
  },
  {
   "cell_type": "code",
   "execution_count": 45,
   "metadata": {
    "ExecuteTime": {
     "end_time": "2021-10-19T18:55:30.596725Z",
     "start_time": "2021-10-19T18:55:30.585753Z"
    }
   },
   "outputs": [
    {
     "data": {
      "text/plain": [
       "'aubile'"
      ]
     },
     "execution_count": 45,
     "metadata": {},
     "output_type": "execute_result"
    }
   ],
   "source": [
    "word[:2]+word[-4:]"
   ]
  },
  {
   "cell_type": "code",
   "execution_count": 47,
   "metadata": {
    "ExecuteTime": {
     "end_time": "2021-10-19T18:55:31.237958Z",
     "start_time": "2021-10-19T18:55:31.219010Z"
    }
   },
   "outputs": [
    {
     "data": {
      "text/plain": [
       "'autom'"
      ]
     },
     "execution_count": 47,
     "metadata": {},
     "output_type": "execute_result"
    }
   ],
   "source": [
    "# [0, 5) : 0,1,2,3,4\n",
    "word[:5]"
   ]
  },
  {
   "cell_type": "code",
   "execution_count": 48,
   "metadata": {
    "ExecuteTime": {
     "end_time": "2021-10-19T18:55:31.485852Z",
     "start_time": "2021-10-19T18:55:31.480866Z"
    },
    "scrolled": true
   },
   "outputs": [
    {
     "data": {
      "text/plain": [
       "'mobile'"
      ]
     },
     "execution_count": 48,
     "metadata": {},
     "output_type": "execute_result"
    }
   ],
   "source": [
    "word[4:]"
   ]
  },
  {
   "cell_type": "code",
   "execution_count": 50,
   "metadata": {
    "ExecuteTime": {
     "end_time": "2021-10-19T18:55:32.575769Z",
     "start_time": "2021-10-19T18:55:32.570782Z"
    }
   },
   "outputs": [
    {
     "data": {
      "text/plain": [
       "'uo'"
      ]
     },
     "execution_count": 50,
     "metadata": {},
     "output_type": "execute_result"
    }
   ],
   "source": [
    "word[1:5:2]"
   ]
  },
  {
   "cell_type": "code",
   "execution_count": 51,
   "metadata": {
    "ExecuteTime": {
     "end_time": "2021-10-19T18:55:33.586732Z",
     "start_time": "2021-10-19T18:55:33.570767Z"
    }
   },
   "outputs": [
    {
     "data": {
      "text/plain": [
       "'elibomotua'"
      ]
     },
     "execution_count": 51,
     "metadata": {},
     "output_type": "execute_result"
    }
   ],
   "source": [
    "word[::-1]"
   ]
  },
  {
   "cell_type": "markdown",
   "metadata": {},
   "source": [
    "# Splitting a string\n",
    "\n",
    "Convert a `string` into a `list`, using a `token` as a separator."
   ]
  },
  {
   "cell_type": "code",
   "execution_count": 134,
   "metadata": {
    "ExecuteTime": {
     "end_time": "2021-10-20T12:46:59.803311Z",
     "start_time": "2021-10-20T12:46:59.791346Z"
    }
   },
   "outputs": [],
   "source": [
    "my_string = 'They ate the - mystery chicken meat. It tasted like          chicken'"
   ]
  },
  {
   "cell_type": "code",
   "execution_count": 135,
   "metadata": {
    "ExecuteTime": {
     "end_time": "2021-10-20T12:47:22.103741Z",
     "start_time": "2021-10-20T12:47:22.086798Z"
    }
   },
   "outputs": [
    {
     "data": {
      "text/plain": [
       "19"
      ]
     },
     "execution_count": 135,
     "metadata": {},
     "output_type": "execute_result"
    }
   ],
   "source": [
    "my_string.count(' ')"
   ]
  },
  {
   "cell_type": "code",
   "execution_count": 142,
   "metadata": {
    "ExecuteTime": {
     "end_time": "2021-10-20T12:53:07.493046Z",
     "start_time": "2021-10-20T12:53:07.486066Z"
    },
    "scrolled": false
   },
   "outputs": [
    {
     "data": {
      "text/plain": [
       "['They',\n",
       " 'ate',\n",
       " 'the',\n",
       " '-',\n",
       " 'mystery',\n",
       " 'chicken',\n",
       " 'meat.',\n",
       " 'It',\n",
       " 'tasted',\n",
       " 'like',\n",
       " 'chicken']"
      ]
     },
     "execution_count": 142,
     "metadata": {},
     "output_type": "execute_result"
    }
   ],
   "source": [
    "my_string.split()"
   ]
  },
  {
   "cell_type": "code",
   "execution_count": 139,
   "metadata": {
    "ExecuteTime": {
     "end_time": "2021-10-20T12:51:20.693858Z",
     "start_time": "2021-10-20T12:51:20.678898Z"
    }
   },
   "outputs": [
    {
     "data": {
      "text/plain": [
       "['They',\n",
       " 'ate',\n",
       " 'the',\n",
       " '-',\n",
       " 'mystery',\n",
       " 'chicken',\n",
       " 'meat.',\n",
       " 'It',\n",
       " 'tasted',\n",
       " 'like',\n",
       " '',\n",
       " '',\n",
       " '',\n",
       " '',\n",
       " '',\n",
       " '',\n",
       " '',\n",
       " '',\n",
       " '',\n",
       " 'chicken']"
      ]
     },
     "execution_count": 139,
     "metadata": {},
     "output_type": "execute_result"
    }
   ],
   "source": [
    "# when sep=' ': DO NOT discard empty strings\n",
    "my_string.split(sep=' ')"
   ]
  },
  {
   "cell_type": "code",
   "execution_count": 143,
   "metadata": {
    "ExecuteTime": {
     "end_time": "2021-10-20T12:53:16.185147Z",
     "start_time": "2021-10-20T12:53:16.167196Z"
    },
    "scrolled": true
   },
   "outputs": [
    {
     "data": {
      "text/plain": [
       "['They ate the - mystery chicken meat', ' It tasted like          chicken']"
      ]
     },
     "execution_count": 143,
     "metadata": {},
     "output_type": "execute_result"
    }
   ],
   "source": [
    "my_string.split('.')"
   ]
  },
  {
   "cell_type": "code",
   "execution_count": 144,
   "metadata": {
    "ExecuteTime": {
     "end_time": "2021-10-20T12:53:19.725849Z",
     "start_time": "2021-10-20T12:53:19.710889Z"
    }
   },
   "outputs": [
    {
     "data": {
      "text/plain": [
       "['They ate the ', ' mystery chicken meat. It tasted like          chicken']"
      ]
     },
     "execution_count": 144,
     "metadata": {},
     "output_type": "execute_result"
    }
   ],
   "source": [
    "my_string.split('-')"
   ]
  },
  {
   "cell_type": "code",
   "execution_count": 147,
   "metadata": {
    "ExecuteTime": {
     "end_time": "2021-10-20T12:58:00.980831Z",
     "start_time": "2021-10-20T12:58:00.966869Z"
    },
    "scrolled": true
   },
   "outputs": [
    {
     "data": {
      "text/plain": [
       "['They ate the - mystery ', ' meat. It tasted like          ', '']"
      ]
     },
     "execution_count": 147,
     "metadata": {},
     "output_type": "execute_result"
    }
   ],
   "source": [
    "my_string.split('chicken')"
   ]
  },
  {
   "cell_type": "code",
   "execution_count": 110,
   "metadata": {
    "ExecuteTime": {
     "end_time": "2021-03-23T19:16:27.685506Z",
     "start_time": "2021-03-23T19:16:27.669033Z"
    }
   },
   "outputs": [
    {
     "data": {
      "text/plain": [
       "'They ate the - mystery chicken meat. It tasted like          chicken'"
      ]
     },
     "execution_count": 110,
     "metadata": {},
     "output_type": "execute_result"
    }
   ],
   "source": [
    "my_string"
   ]
  },
  {
   "cell_type": "code",
   "execution_count": 148,
   "metadata": {
    "ExecuteTime": {
     "end_time": "2021-10-20T12:59:03.046741Z",
     "start_time": "2021-10-20T12:59:03.034789Z"
    }
   },
   "outputs": [
    {
     "data": {
      "text/plain": [
       "'They ate the - mystery chicken meat. It tasted like chicken'"
      ]
     },
     "execution_count": 148,
     "metadata": {},
     "output_type": "execute_result"
    }
   ],
   "source": [
    "' '.join(my_string.split())"
   ]
  },
  {
   "cell_type": "code",
   "execution_count": 149,
   "metadata": {
    "ExecuteTime": {
     "end_time": "2021-10-20T13:00:05.653665Z",
     "start_time": "2021-10-20T13:00:05.638705Z"
    }
   },
   "outputs": [],
   "source": [
    "list_string = my_string.split()"
   ]
  },
  {
   "cell_type": "code",
   "execution_count": 152,
   "metadata": {
    "ExecuteTime": {
     "end_time": "2021-10-20T13:01:41.821449Z",
     "start_time": "2021-10-20T13:01:41.813470Z"
    }
   },
   "outputs": [
    {
     "data": {
      "text/plain": [
       "'They ate the - mystery chicken meat. It tasted like chicken'"
      ]
     },
     "execution_count": 152,
     "metadata": {},
     "output_type": "execute_result"
    }
   ],
   "source": [
    "clean_string=' '.join(list_string)\n",
    "clean_string"
   ]
  },
  {
   "cell_type": "markdown",
   "metadata": {},
   "source": [
    "# Startswith vs Endswith"
   ]
  },
  {
   "cell_type": "code",
   "execution_count": 154,
   "metadata": {
    "ExecuteTime": {
     "end_time": "2021-10-20T13:15:10.623729Z",
     "start_time": "2021-10-20T13:15:10.605777Z"
    }
   },
   "outputs": [],
   "source": [
    "my_string = 'There is no business like show business.'"
   ]
  },
  {
   "cell_type": "code",
   "execution_count": 155,
   "metadata": {
    "ExecuteTime": {
     "end_time": "2021-10-20T13:15:41.220038Z",
     "start_time": "2021-10-20T13:15:41.215045Z"
    }
   },
   "outputs": [
    {
     "data": {
      "text/plain": [
       "True"
      ]
     },
     "execution_count": 155,
     "metadata": {},
     "output_type": "execute_result"
    }
   ],
   "source": [
    "my_string.startswith('There')"
   ]
  },
  {
   "cell_type": "code",
   "execution_count": 156,
   "metadata": {
    "ExecuteTime": {
     "end_time": "2021-10-20T13:15:57.174753Z",
     "start_time": "2021-10-20T13:15:57.165784Z"
    }
   },
   "outputs": [
    {
     "data": {
      "text/plain": [
       "False"
      ]
     },
     "execution_count": 156,
     "metadata": {},
     "output_type": "execute_result"
    }
   ],
   "source": [
    "my_string.endswith('s')"
   ]
  },
  {
   "cell_type": "code",
   "execution_count": 157,
   "metadata": {
    "ExecuteTime": {
     "end_time": "2021-10-20T13:15:59.209298Z",
     "start_time": "2021-10-20T13:15:59.197331Z"
    }
   },
   "outputs": [
    {
     "data": {
      "text/plain": [
       "True"
      ]
     },
     "execution_count": 157,
     "metadata": {},
     "output_type": "execute_result"
    }
   ],
   "source": [
    "my_string.endswith('.')"
   ]
  },
  {
   "cell_type": "code",
   "execution_count": 158,
   "metadata": {
    "ExecuteTime": {
     "end_time": "2021-10-20T13:16:12.664072Z",
     "start_time": "2021-10-20T13:16:12.645144Z"
    }
   },
   "outputs": [
    {
     "data": {
      "text/plain": [
       "True"
      ]
     },
     "execution_count": 158,
     "metadata": {},
     "output_type": "execute_result"
    }
   ],
   "source": [
    "my_string.startswith('T')"
   ]
  },
  {
   "cell_type": "code",
   "execution_count": 159,
   "metadata": {
    "ExecuteTime": {
     "end_time": "2021-10-20T13:16:24.967904Z",
     "start_time": "2021-10-20T13:16:24.948923Z"
    }
   },
   "outputs": [
    {
     "data": {
      "text/plain": [
       "True"
      ]
     },
     "execution_count": 159,
     "metadata": {},
     "output_type": "execute_result"
    }
   ],
   "source": [
    "my_string.startswith('There is no business like show business.')"
   ]
  },
  {
   "cell_type": "code",
   "execution_count": 161,
   "metadata": {
    "ExecuteTime": {
     "end_time": "2021-10-20T13:17:35.353334Z",
     "start_time": "2021-10-20T13:17:35.336379Z"
    }
   },
   "outputs": [],
   "source": [
    "variables = ['qtd_casa','qtd_boleto','qtd_titulos','vlr_boleto','vlr_titulos','vlr_cartao']"
   ]
  },
  {
   "cell_type": "code",
   "execution_count": 174,
   "metadata": {
    "ExecuteTime": {
     "end_time": "2021-10-20T13:22:56.604439Z",
     "start_time": "2021-10-20T13:22:56.597460Z"
    }
   },
   "outputs": [
    {
     "data": {
      "text/plain": [
       "True"
      ]
     },
     "execution_count": 174,
     "metadata": {},
     "output_type": "execute_result"
    }
   ],
   "source": [
    "'qtd_casa'.startswith('qtd')"
   ]
  },
  {
   "cell_type": "code",
   "execution_count": 179,
   "metadata": {
    "ExecuteTime": {
     "end_time": "2021-10-20T13:24:51.482709Z",
     "start_time": "2021-10-20T13:24:51.475727Z"
    },
    "cell_style": "split"
   },
   "outputs": [
    {
     "name": "stdout",
     "output_type": "stream",
     "text": [
      "qtd_casa 0\n",
      "qtd_boleto 1\n",
      "qtd_titulos 2\n"
     ]
    }
   ],
   "source": [
    "for x in range(len(variables)):\n",
    "    if variables[x].startswith('qtd')==True:\n",
    "        print(variables[x], x)"
   ]
  },
  {
   "cell_type": "code",
   "execution_count": 172,
   "metadata": {
    "ExecuteTime": {
     "end_time": "2021-10-20T13:21:35.256617Z",
     "start_time": "2021-10-20T13:21:35.244648Z"
    },
    "cell_style": "split"
   },
   "outputs": [
    {
     "name": "stdout",
     "output_type": "stream",
     "text": [
      "qtd_casa 0\n",
      "qtd_boleto 1\n",
      "qtd_titulos 2\n"
     ]
    }
   ],
   "source": [
    "for x in variables:\n",
    "    if x.startswith('qtd')==True:\n",
    "        print(x, variables.index(x))\n",
    "    #variables[:].startswith('qtd')"
   ]
  },
  {
   "cell_type": "code",
   "execution_count": 183,
   "metadata": {
    "ExecuteTime": {
     "end_time": "2021-10-20T13:31:03.168380Z",
     "start_time": "2021-10-20T13:31:03.165379Z"
    }
   },
   "outputs": [],
   "source": [
    "other_variable = ['fafa','fafas','dsadas','fsafas','fdsadf','dada']"
   ]
  },
  {
   "cell_type": "code",
   "execution_count": 187,
   "metadata": {
    "ExecuteTime": {
     "end_time": "2021-10-20T13:32:30.638116Z",
     "start_time": "2021-10-20T13:32:30.628141Z"
    },
    "scrolled": true
   },
   "outputs": [
    {
     "name": "stdout",
     "output_type": "stream",
     "text": [
      "0 qtd_casa\n",
      "1 qtd_boleto\n",
      "2 qtd_titulos\n",
      "3 vlr_boleto\n",
      "4 vlr_titulos\n",
      "5 vlr_cartao\n"
     ]
    }
   ],
   "source": [
    "for i, valor in enumerate(variables):\n",
    "    print(i,valor,other_variable[i])\n",
    "    "
   ]
  },
  {
   "cell_type": "code",
   "execution_count": 189,
   "metadata": {
    "ExecuteTime": {
     "end_time": "2021-10-20T13:33:46.235528Z",
     "start_time": "2021-10-20T13:33:46.220567Z"
    }
   },
   "outputs": [
    {
     "data": {
      "text/plain": [
       "(0, 'qtd_casa')"
      ]
     },
     "execution_count": 189,
     "metadata": {},
     "output_type": "execute_result"
    }
   ],
   "source": [
    "num,valor = list(enumerate(variables))[0]"
   ]
  },
  {
   "cell_type": "code",
   "execution_count": null,
   "metadata": {},
   "outputs": [],
   "source": [
    "# how to print only the ones that starts with 'qtd'?"
   ]
  },
  {
   "cell_type": "code",
   "execution_count": null,
   "metadata": {},
   "outputs": [],
   "source": []
  },
  {
   "cell_type": "code",
   "execution_count": 122,
   "metadata": {
    "ExecuteTime": {
     "end_time": "2021-08-10T19:24:01.582238Z",
     "start_time": "2021-08-10T19:24:01.567758Z"
    }
   },
   "outputs": [
    {
     "name": "stdout",
     "output_type": "stream",
     "text": [
      "qtd_casa\n",
      "qtd_boleto\n",
      "qtd_titulos\n"
     ]
    }
   ],
   "source": [
    "for i in variables:\n",
    "    if i.startswith('qtd'):\n",
    "        print(i)"
   ]
  },
  {
   "cell_type": "markdown",
   "metadata": {},
   "source": [
    "# More string methods. "
   ]
  },
  {
   "cell_type": "code",
   "execution_count": 207,
   "metadata": {
    "ExecuteTime": {
     "end_time": "2021-10-20T13:47:22.915437Z",
     "start_time": "2021-10-20T13:47:22.907459Z"
    }
   },
   "outputs": [],
   "source": [
    "c = 'shE HaD a maRveLoUs aSsoRtmeNt of PUPPETS.'"
   ]
  },
  {
   "cell_type": "code",
   "execution_count": 208,
   "metadata": {
    "ExecuteTime": {
     "end_time": "2021-10-20T13:47:23.135512Z",
     "start_time": "2021-10-20T13:47:23.131522Z"
    }
   },
   "outputs": [
    {
     "data": {
      "text/plain": [
       "'She had a marvelous assortment of puppets.'"
      ]
     },
     "execution_count": 208,
     "metadata": {},
     "output_type": "execute_result"
    }
   ],
   "source": [
    "c.capitalize()"
   ]
  },
  {
   "cell_type": "code",
   "execution_count": 209,
   "metadata": {
    "ExecuteTime": {
     "end_time": "2021-10-20T13:47:23.448480Z",
     "start_time": "2021-10-20T13:47:23.436511Z"
    }
   },
   "outputs": [
    {
     "data": {
      "text/plain": [
       "'she had a marvelous assortment of puppets.'"
      ]
     },
     "execution_count": 209,
     "metadata": {},
     "output_type": "execute_result"
    }
   ],
   "source": [
    "c.lower()"
   ]
  },
  {
   "cell_type": "code",
   "execution_count": 210,
   "metadata": {
    "ExecuteTime": {
     "end_time": "2021-10-20T13:47:23.664368Z",
     "start_time": "2021-10-20T13:47:23.655392Z"
    }
   },
   "outputs": [
    {
     "data": {
      "text/plain": [
       "'SHE HAD A MARVELOUS ASSORTMENT OF PUPPETS.'"
      ]
     },
     "execution_count": 210,
     "metadata": {},
     "output_type": "execute_result"
    }
   ],
   "source": [
    "c.upper()"
   ]
  },
  {
   "cell_type": "code",
   "execution_count": 211,
   "metadata": {
    "ExecuteTime": {
     "end_time": "2021-10-20T13:47:24.206355Z",
     "start_time": "2021-10-20T13:47:24.195384Z"
    }
   },
   "outputs": [
    {
     "data": {
      "text/plain": [
       "'She Had A Marvelous Assortment Of Puppets.'"
      ]
     },
     "execution_count": 211,
     "metadata": {},
     "output_type": "execute_result"
    }
   ],
   "source": [
    "c.title()"
   ]
  },
  {
   "cell_type": "markdown",
   "metadata": {},
   "source": [
    "# Strip"
   ]
  },
  {
   "cell_type": "code",
   "execution_count": 224,
   "metadata": {
    "ExecuteTime": {
     "end_time": "2021-10-20T13:50:47.637437Z",
     "start_time": "2021-10-20T13:50:47.627464Z"
    }
   },
   "outputs": [],
   "source": [
    "d = ' I have a tendency to leave trailing spaces.    '"
   ]
  },
  {
   "cell_type": "code",
   "execution_count": 218,
   "metadata": {
    "ExecuteTime": {
     "end_time": "2021-10-20T13:48:59.154979Z",
     "start_time": "2021-10-20T13:48:59.140019Z"
    }
   },
   "outputs": [
    {
     "data": {
      "text/plain": [
       "'I have a tendency to leave trailing spaces.'"
      ]
     },
     "execution_count": 218,
     "metadata": {},
     "output_type": "execute_result"
    }
   ],
   "source": [
    "# strip default, lstrip and rstrip\n",
    "\n",
    "d.strip()"
   ]
  },
  {
   "cell_type": "code",
   "execution_count": 219,
   "metadata": {
    "ExecuteTime": {
     "end_time": "2021-10-20T13:49:52.012314Z",
     "start_time": "2021-10-20T13:49:51.996357Z"
    }
   },
   "outputs": [
    {
     "data": {
      "text/plain": [
       "'I have a tendency to leave trailing spaces.    '"
      ]
     },
     "execution_count": 219,
     "metadata": {},
     "output_type": "execute_result"
    }
   ],
   "source": [
    "d.lstrip()"
   ]
  },
  {
   "cell_type": "code",
   "execution_count": 220,
   "metadata": {
    "ExecuteTime": {
     "end_time": "2021-10-20T13:49:52.943700Z",
     "start_time": "2021-10-20T13:49:52.931733Z"
    }
   },
   "outputs": [
    {
     "data": {
      "text/plain": [
       "' I have a tendency to leave trailing spaces.'"
      ]
     },
     "execution_count": 220,
     "metadata": {},
     "output_type": "execute_result"
    }
   ],
   "source": [
    "d.rstrip()"
   ]
  },
  {
   "cell_type": "code",
   "execution_count": 225,
   "metadata": {
    "ExecuteTime": {
     "end_time": "2021-10-20T13:51:01.005885Z",
     "start_time": "2021-10-20T13:51:00.996918Z"
    }
   },
   "outputs": [
    {
     "data": {
      "text/plain": [
       "'Ihaveatendencytoleavetrailingspaces.'"
      ]
     },
     "execution_count": 225,
     "metadata": {},
     "output_type": "execute_result"
    }
   ],
   "source": [
    "''.join(d.split())"
   ]
  },
  {
   "cell_type": "markdown",
   "metadata": {},
   "source": [
    "# Replacing values"
   ]
  },
  {
   "cell_type": "code",
   "execution_count": 226,
   "metadata": {
    "ExecuteTime": {
     "end_time": "2021-10-20T13:51:46.317740Z",
     "start_time": "2021-10-20T13:51:46.299788Z"
    }
   },
   "outputs": [
    {
     "data": {
      "text/plain": [
       "'I thought the movie was wonderful wonderful wonderful!'"
      ]
     },
     "execution_count": 226,
     "metadata": {},
     "output_type": "execute_result"
    }
   ],
   "source": [
    "e = 'I thought the movie was wonderful wonderful wonderful!'\n",
    "e"
   ]
  },
  {
   "cell_type": "code",
   "execution_count": 231,
   "metadata": {
    "ExecuteTime": {
     "end_time": "2021-10-20T13:53:56.067577Z",
     "start_time": "2021-10-20T13:53:56.052617Z"
    }
   },
   "outputs": [
    {
     "data": {
      "text/plain": [
       "'I thought the film was wonderful wonderful wonderful!'"
      ]
     },
     "execution_count": 231,
     "metadata": {},
     "output_type": "execute_result"
    }
   ],
   "source": [
    "e.replace('movie', 'film')"
   ]
  },
  {
   "cell_type": "code",
   "execution_count": 237,
   "metadata": {
    "ExecuteTime": {
     "end_time": "2021-10-20T13:59:18.167415Z",
     "start_time": "2021-10-20T13:59:18.155446Z"
    }
   },
   "outputs": [
    {
     "data": {
      "text/plain": [
       "'I thought the movie was wonderful awful awful!'"
      ]
     },
     "execution_count": 237,
     "metadata": {},
     "output_type": "execute_result"
    }
   ],
   "source": [
    "e.replace('wonderful','awful').replace('awful','wonderful',1)"
   ]
  },
  {
   "cell_type": "code",
   "execution_count": 235,
   "metadata": {
    "ExecuteTime": {
     "end_time": "2021-10-20T13:57:46.724251Z",
     "start_time": "2021-10-20T13:57:46.716273Z"
    }
   },
   "outputs": [
    {
     "data": {
      "text/plain": [
       "'I thought the movie was awful awful wonderful!'"
      ]
     },
     "execution_count": 235,
     "metadata": {},
     "output_type": "execute_result"
    }
   ],
   "source": [
    "e.replace('wonderful','awful', 2)"
   ]
  },
  {
   "cell_type": "code",
   "execution_count": 143,
   "metadata": {
    "ExecuteTime": {
     "end_time": "2021-08-10T19:35:10.433552Z",
     "start_time": "2021-08-10T19:35:10.418716Z"
    }
   },
   "outputs": [
    {
     "data": {
      "text/plain": [
       "'I thought the movie was wonderful wonderful wonderful!'"
      ]
     },
     "execution_count": 143,
     "metadata": {},
     "output_type": "execute_result"
    }
   ],
   "source": [
    "e"
   ]
  },
  {
   "cell_type": "markdown",
   "metadata": {},
   "source": [
    "# Resumo\n",
    "## Criar string\n",
    "* nome_string = 'elementos'\n",
    "* nome_string = \"elementos\"\n",
    "* nome_string = '''elementos'''\n",
    "* nome_string = \"\"\"elementos\"\"\"\n",
    "\n",
    "## Concatenar string\n",
    "* 'Hello'+'Hello' = 'HelloHello'\n",
    "* 'Hello' *3 = 'HelloHelloHello'\n",
    "* '\\n' - pula linha\n",
    "* '\\t' - paragrafo\n",
    "\n",
    "## Metodos de string\n",
    "* 'caracteres de uniao'.join([lista de strings]) - transforma lista em string\n",
    "* nome_string.split(separador) - transforma string em lista, usando tokens de separação\n",
    "* nome_string.startswith(string de busca) - retorna bool para se a string começa ou não com a string de busca\n",
    "* nome_string.endswith(string de busca) - retorna bool para se a string termina ou não com a string de busca\n",
    "* nome_string.capitalize()\n",
    "* nome_string.lower()\n",
    "* nome_string.upper()\n",
    "* nome_string.title()\n",
    "* nome_string.strip() - tira espaço do começo e final da string\n",
    "* nome_string.lstrip()  - tira espaço do começo da string\n",
    "* nome_string.rstrip()  - tira espaço do final da string\n",
    "* nome_string.replace(string de busca,string de substituição,quantas vezes fazer substituição)"
   ]
  },
  {
   "cell_type": "code",
   "execution_count": null,
   "metadata": {},
   "outputs": [],
   "source": []
  }
 ],
 "metadata": {
  "kernelspec": {
   "display_name": "Python 3 (ipykernel)",
   "language": "python",
   "name": "python3"
  },
  "language_info": {
   "codemirror_mode": {
    "name": "ipython",
    "version": 3
   },
   "file_extension": ".py",
   "mimetype": "text/x-python",
   "name": "python",
   "nbconvert_exporter": "python",
   "pygments_lexer": "ipython3",
   "version": "3.9.7"
  },
  "toc": {
   "base_numbering": 1,
   "nav_menu": {},
   "number_sections": true,
   "sideBar": true,
   "skip_h1_title": false,
   "title_cell": "Table of Contents",
   "title_sidebar": "Contents",
   "toc_cell": false,
   "toc_position": {},
   "toc_section_display": true,
   "toc_window_display": false
  },
  "varInspector": {
   "cols": {
    "lenName": 16,
    "lenType": 16,
    "lenVar": 40
   },
   "kernels_config": {
    "python": {
     "delete_cmd_postfix": "",
     "delete_cmd_prefix": "del ",
     "library": "var_list.py",
     "varRefreshCmd": "print(var_dic_list())"
    },
    "r": {
     "delete_cmd_postfix": ") ",
     "delete_cmd_prefix": "rm(",
     "library": "var_list.r",
     "varRefreshCmd": "cat(var_dic_list()) "
    }
   },
   "types_to_exclude": [
    "module",
    "function",
    "builtin_function_or_method",
    "instance",
    "_Feature"
   ],
   "window_display": false
  }
 },
 "nbformat": 4,
 "nbformat_minor": 2
}
