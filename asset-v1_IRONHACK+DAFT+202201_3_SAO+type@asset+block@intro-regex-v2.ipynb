{
 "cells": [
  {
   "cell_type": "markdown",
   "metadata": {},
   "source": [
    "# <u>Reg</u>ular <u>Ex</u>pression - Intro to Regex"
   ]
  },
  {
   "cell_type": "markdown",
   "metadata": {},
   "source": [
    "Regex is a powerful way to match text. Instead of trying to match a `literal string`, you can try to match `patterns`."
   ]
  },
  {
   "cell_type": "code",
   "execution_count": 2,
   "metadata": {
    "ExecuteTime": {
     "end_time": "2022-01-11T17:05:27.646215Z",
     "start_time": "2022-01-11T17:05:27.637725Z"
    }
   },
   "outputs": [],
   "source": [
    "import re"
   ]
  },
  {
   "cell_type": "markdown",
   "metadata": {},
   "source": [
    "Website to visually see what your regular expressions look like: https://regexper.com/"
   ]
  },
  {
   "cell_type": "code",
   "execution_count": 3,
   "metadata": {
    "ExecuteTime": {
     "end_time": "2021-10-20T14:28:15.327570Z",
     "start_time": "2021-10-20T14:28:15.318594Z"
    }
   },
   "outputs": [
    {
     "data": {
      "text/plain": [
       "['neighbor']"
      ]
     },
     "execution_count": 3,
     "metadata": {},
     "output_type": "execute_result"
    }
   ],
   "source": [
    "text = 'My neighbor, Mr. Rogers, has 5 dogs.'\n",
    "pattern = 'neighbor'\n",
    "\n",
    "re.findall(pattern, text)"
   ]
  },
  {
   "cell_type": "code",
   "execution_count": 4,
   "metadata": {
    "ExecuteTime": {
     "end_time": "2021-10-20T14:29:15.057124Z",
     "start_time": "2021-10-20T14:29:15.050143Z"
    }
   },
   "outputs": [
    {
     "data": {
      "text/plain": [
       "['neigh', 'neigh']"
      ]
     },
     "execution_count": 4,
     "metadata": {},
     "output_type": "execute_result"
    }
   ],
   "source": [
    "text = 'My neighbor, Mr. neighrogers, has 5 dogs.'\n",
    "pattern = 'neigh'\n",
    "\n",
    "re.findall(pattern, text)"
   ]
  },
  {
   "cell_type": "code",
   "execution_count": 5,
   "metadata": {
    "ExecuteTime": {
     "end_time": "2021-10-20T14:29:44.530660Z",
     "start_time": "2021-10-20T14:29:44.521684Z"
    }
   },
   "outputs": [
    {
     "data": {
      "text/plain": [
       "[]"
      ]
     },
     "execution_count": 5,
     "metadata": {},
     "output_type": "execute_result"
    }
   ],
   "source": [
    "text = 'My , Mr. Rogers, has 5 dogs.'\n",
    "pattern = 'neigh'\n",
    "\n",
    "re.findall(pattern, text)"
   ]
  },
  {
   "cell_type": "markdown",
   "metadata": {},
   "source": [
    "## Introducing Sets"
   ]
  },
  {
   "cell_type": "code",
   "execution_count": 6,
   "metadata": {
    "ExecuteTime": {
     "end_time": "2021-10-19T19:01:51.557994Z",
     "start_time": "2021-10-19T19:01:51.546027Z"
    }
   },
   "outputs": [
    {
     "data": {
      "text/plain": [
       "['n', 'e', 'i', 'g', 'h', 'g', 'e', 'h', 'g']"
      ]
     },
     "execution_count": 6,
     "metadata": {},
     "output_type": "execute_result"
    }
   ],
   "source": [
    "text = 'My neighbor, Mr. Rogers, has 5 dogs.'\n",
    "pattern = '[neigh]'\n",
    "\n",
    "re.findall(pattern, text)"
   ]
  },
  {
   "cell_type": "code",
   "execution_count": 7,
   "metadata": {
    "ExecuteTime": {
     "end_time": "2021-10-20T14:37:50.231037Z",
     "start_time": "2021-10-20T14:37:50.216078Z"
    }
   },
   "outputs": [
    {
     "data": {
      "text/plain": [
       "['Rogers', 'rogers']"
      ]
     },
     "execution_count": 7,
     "metadata": {},
     "output_type": "execute_result"
    }
   ],
   "source": [
    "text = 'My neighbor, Mr. Rogers, has 5 rogers.'\n",
    "\n",
    "#pattern = 'rogers'\n",
    "pattern = '[Rr]ogers'\n",
    "#pattern = '[Rr][Oo][Gg][Ee][Rr][Ss]'\n",
    "#pattern = '[RrOoGgEeRrSs]'\n",
    "# pattern = rogers ou Rogers ou xogers\n",
    "\n",
    "re.findall(pattern, text)\n",
    "#re.findall(pattern, text,re.I)\n",
    "#re.findall(pattern, text.lower())"
   ]
  },
  {
   "cell_type": "code",
   "execution_count": 8,
   "metadata": {
    "ExecuteTime": {
     "end_time": "2021-10-20T14:40:37.003221Z",
     "start_time": "2021-10-20T14:40:36.994234Z"
    }
   },
   "outputs": [
    {
     "data": {
      "text/plain": [
       "['Sãn Paulo',\n",
       " 'São Paulo',\n",
       " 'Sao Paulo',\n",
       " 'Sao Paolo',\n",
       " 'San Pablo',\n",
       " 'sao paulo',\n",
       " 'sao Paulo',\n",
       " 'são Paulo',\n",
       " 'sao-paulo',\n",
       " 'são paulo',\n",
       " 'São Paulo']"
      ]
     },
     "execution_count": 8,
     "metadata": {},
     "output_type": "execute_result"
    }
   ],
   "source": [
    "text = 'Sãn Paulo São Paulo Sao Paulo Sao Paolo San Pablo sao paulo sao Paulo são Paulo sao-paulo são paulo São Paulo Saon Paulo'\n",
    "\n",
    "pattern = '[Ss][áãa][on][ -][Pp]a[uob]lo'\n",
    "\n",
    "re.findall(pattern, text)"
   ]
  },
  {
   "cell_type": "markdown",
   "metadata": {},
   "source": [
    "# Pattern sets:\n",
    "\n",
    "Range\n",
    "\n",
    "1. [a-z]: Any lowercase letter between a and z.\n",
    "2. [A-Z]: Any uppercase letter between A and Z.\n",
    "3. [0-9]: Any numeric character between 0 and 9."
   ]
  },
  {
   "cell_type": "code",
   "execution_count": 9,
   "metadata": {
    "ExecuteTime": {
     "end_time": "2021-10-20T14:48:59.975469Z",
     "start_time": "2021-10-20T14:48:59.968488Z"
    },
    "scrolled": true
   },
   "outputs": [
    {
     "data": {
      "text/plain": [
       "['e', 'b', 'e', 'a', 'e']"
      ]
     },
     "execution_count": 9,
     "metadata": {},
     "output_type": "execute_result"
    }
   ],
   "source": [
    "text = 'My neighbor, Mr. Rogers, has 5 rogers.'\n",
    "pattern = '[a-e]'\n",
    "\n",
    "re.findall(pattern, text)"
   ]
  },
  {
   "cell_type": "code",
   "execution_count": 10,
   "metadata": {
    "ExecuteTime": {
     "end_time": "2021-10-20T14:49:16.497922Z",
     "start_time": "2021-10-20T14:49:16.480967Z"
    }
   },
   "outputs": [
    {
     "data": {
      "text/plain": [
       "['M', 'M', 'R']"
      ]
     },
     "execution_count": 10,
     "metadata": {},
     "output_type": "execute_result"
    }
   ],
   "source": [
    "re.findall('[A-Z]', text)"
   ]
  },
  {
   "cell_type": "code",
   "execution_count": 11,
   "metadata": {
    "ExecuteTime": {
     "end_time": "2021-10-20T14:49:21.113699Z",
     "start_time": "2021-10-20T14:49:21.095759Z"
    }
   },
   "outputs": [
    {
     "data": {
      "text/plain": [
       "['M', 'M']"
      ]
     },
     "execution_count": 11,
     "metadata": {},
     "output_type": "execute_result"
    }
   ],
   "source": [
    "re.findall('[A-N]', text)"
   ]
  },
  {
   "cell_type": "code",
   "execution_count": 12,
   "metadata": {
    "ExecuteTime": {
     "end_time": "2021-10-19T19:01:57.156720Z",
     "start_time": "2021-10-19T19:01:57.144752Z"
    }
   },
   "outputs": [
    {
     "data": {
      "text/plain": [
       "['n', 'e', 'i', 'g', 'h', 'o', 'o', 'g', 'e', 'h', 'o', 'g', 'e']"
      ]
     },
     "execution_count": 12,
     "metadata": {},
     "output_type": "execute_result"
    }
   ],
   "source": [
    "re.findall('[efghijklmno]', text)"
   ]
  },
  {
   "cell_type": "code",
   "execution_count": 13,
   "metadata": {
    "ExecuteTime": {
     "end_time": "2021-10-19T19:01:57.407432Z",
     "start_time": "2021-10-19T19:01:57.401448Z"
    }
   },
   "outputs": [
    {
     "data": {
      "text/plain": [
       "['n', 'e', 'i', 'g', 'h', 'o', 'o', 'g', 'e', 'h', 'o', 'g', 'e']"
      ]
     },
     "execution_count": 13,
     "metadata": {},
     "output_type": "execute_result"
    }
   ],
   "source": [
    "re.findall('[e-o]', text)"
   ]
  },
  {
   "cell_type": "code",
   "execution_count": 14,
   "metadata": {
    "ExecuteTime": {
     "end_time": "2021-10-19T19:01:57.626446Z",
     "start_time": "2021-10-19T19:01:57.607498Z"
    }
   },
   "outputs": [
    {
     "data": {
      "text/plain": [
       "['5']"
      ]
     },
     "execution_count": 14,
     "metadata": {},
     "output_type": "execute_result"
    }
   ],
   "source": [
    "re.findall('[0123456789]', text)"
   ]
  },
  {
   "cell_type": "code",
   "execution_count": 15,
   "metadata": {
    "ExecuteTime": {
     "end_time": "2021-10-19T19:01:57.858549Z",
     "start_time": "2021-10-19T19:01:57.840594Z"
    }
   },
   "outputs": [
    {
     "data": {
      "text/plain": [
       "'My neighbor, Mr. Rogers, has 5 rogers.'"
      ]
     },
     "execution_count": 15,
     "metadata": {},
     "output_type": "execute_result"
    }
   ],
   "source": [
    "text"
   ]
  },
  {
   "cell_type": "code",
   "execution_count": 21,
   "metadata": {
    "ExecuteTime": {
     "end_time": "2021-10-19T19:01:58.044437Z",
     "start_time": "2021-10-19T19:01:58.032793Z"
    }
   },
   "outputs": [
    {
     "data": {
      "text/plain": [
       "['5']"
      ]
     },
     "execution_count": 21,
     "metadata": {},
     "output_type": "execute_result"
    }
   ],
   "source": [
    "re.findall('[0-9]', text)"
   ]
  },
  {
   "cell_type": "code",
   "execution_count": 79,
   "metadata": {
    "ExecuteTime": {
     "end_time": "2021-10-20T14:52:42.716998Z",
     "start_time": "2021-10-20T14:52:42.704034Z"
    }
   },
   "outputs": [
    {
     "data": {
      "text/plain": [
       "['M',\n",
       " 'y',\n",
       " 'n',\n",
       " 'e',\n",
       " 'i',\n",
       " 'g',\n",
       " 'h',\n",
       " 'b',\n",
       " 'o',\n",
       " 'r',\n",
       " 'M',\n",
       " 'r',\n",
       " 'R',\n",
       " 'o',\n",
       " 'g',\n",
       " 'e',\n",
       " 'r',\n",
       " 's',\n",
       " 'h',\n",
       " 'a',\n",
       " 's',\n",
       " '5',\n",
       " 'r',\n",
       " 'o',\n",
       " 'g',\n",
       " 'e',\n",
       " 'r',\n",
       " 's']"
      ]
     },
     "execution_count": 79,
     "metadata": {},
     "output_type": "execute_result"
    }
   ],
   "source": [
    "# you can concatenate ranges\n",
    "\n",
    "re.findall('[A-Za-z0-9]', text)"
   ]
  },
  {
   "cell_type": "code",
   "execution_count": 23,
   "metadata": {
    "ExecuteTime": {
     "end_time": "2021-10-19T19:01:58.822201Z",
     "start_time": "2021-10-19T19:01:58.815219Z"
    }
   },
   "outputs": [
    {
     "data": {
      "text/plain": [
       "'My neighbor, Mr. Rogers, has 5 rogers.'"
      ]
     },
     "execution_count": 23,
     "metadata": {},
     "output_type": "execute_result"
    }
   ],
   "source": [
    "text"
   ]
  },
  {
   "cell_type": "code",
   "execution_count": 24,
   "metadata": {
    "ExecuteTime": {
     "end_time": "2021-10-19T19:01:59.083999Z",
     "start_time": "2021-10-19T19:01:59.074027Z"
    },
    "scrolled": true
   },
   "outputs": [
    {
     "data": {
      "text/plain": [
       "['M', ',', 'M', 'R', ',', '5']"
      ]
     },
     "execution_count": 24,
     "metadata": {},
     "output_type": "execute_result"
    }
   ],
   "source": [
    "re.findall('[A-Z,0-9]', text)"
   ]
  },
  {
   "cell_type": "code",
   "execution_count": 82,
   "metadata": {
    "ExecuteTime": {
     "end_time": "2021-10-20T14:54:17.980906Z",
     "start_time": "2021-10-20T14:54:17.975921Z"
    }
   },
   "outputs": [],
   "source": [
    "text = 'My neighbor, Mr. Rogers, has] 5 rogers.'"
   ]
  },
  {
   "cell_type": "code",
   "execution_count": 86,
   "metadata": {
    "ExecuteTime": {
     "end_time": "2021-10-20T14:56:34.610683Z",
     "start_time": "2021-10-20T14:56:34.600711Z"
    }
   },
   "outputs": [
    {
     "data": {
      "text/plain": [
       "['e', 'i', 'g', 'h', 'b', 'g', 'e', 'h', 'a', ']', 'g', 'e']"
      ]
     },
     "execution_count": 86,
     "metadata": {},
     "output_type": "execute_result"
    }
   ],
   "source": [
    "re.findall('[a-m\\]]',text )"
   ]
  },
  {
   "cell_type": "markdown",
   "metadata": {},
   "source": [
    "The opposite: \n",
    "- `^` matches everything except the pattern "
   ]
  },
  {
   "cell_type": "code",
   "execution_count": 89,
   "metadata": {
    "ExecuteTime": {
     "end_time": "2021-10-20T14:57:52.111516Z",
     "start_time": "2021-10-20T14:57:52.103538Z"
    }
   },
   "outputs": [
    {
     "data": {
      "text/plain": [
       "['M', ' ', ',', ' ', 'M', '.', ' ', 'R', ',', ' ', ']', ' ', '5', ' ', '.']"
      ]
     },
     "execution_count": 89,
     "metadata": {},
     "output_type": "execute_result"
    }
   ],
   "source": [
    "pattern = '[^a-z]'\n",
    "re.findall(pattern, text)"
   ]
  },
  {
   "cell_type": "code",
   "execution_count": 90,
   "metadata": {
    "ExecuteTime": {
     "end_time": "2021-10-20T14:58:12.673703Z",
     "start_time": "2021-10-20T14:58:12.655765Z"
    }
   },
   "outputs": [
    {
     "data": {
      "text/plain": [
       "[',', '.', ',', ']', '.']"
      ]
     },
     "execution_count": 90,
     "metadata": {},
     "output_type": "execute_result"
    }
   ],
   "source": [
    "# concat patterns [] \n",
    "# space character == \\s\n",
    "pattern = '[^a-zA-Z0-9\\s]'\n",
    "pattern = '[^a-zA-Z0-9 ]'\n",
    "re.findall(pattern, text)\n"
   ]
  },
  {
   "cell_type": "code",
   "execution_count": 29,
   "metadata": {
    "ExecuteTime": {
     "end_time": "2021-10-19T19:02:00.840588Z",
     "start_time": "2021-10-19T19:02:00.823634Z"
    }
   },
   "outputs": [
    {
     "data": {
      "text/plain": [
       "[' ', ' ', ' ', ' ', ' ', ' ']"
      ]
     },
     "execution_count": 29,
     "metadata": {},
     "output_type": "execute_result"
    }
   ],
   "source": [
    "re.findall('[ ]', text)"
   ]
  },
  {
   "cell_type": "code",
   "execution_count": 30,
   "metadata": {
    "ExecuteTime": {
     "end_time": "2021-10-19T19:02:01.152544Z",
     "start_time": "2021-10-19T19:02:01.136587Z"
    }
   },
   "outputs": [
    {
     "data": {
      "text/plain": [
       "[' ', ' ', ' ', ' ', ' ', ' ']"
      ]
     },
     "execution_count": 30,
     "metadata": {},
     "output_type": "execute_result"
    }
   ],
   "source": [
    "re.findall('[\\s]', text)"
   ]
  },
  {
   "cell_type": "markdown",
   "metadata": {},
   "source": [
    "# Meta Characters:\n",
    "\n",
    "Characters that don't mean what they are.\n",
    "\n",
    "1. `\\w`: Any alphanumeric character.\n",
    "3. `\\d`: Any numeric character.\n",
    "7. `.` : Any character except newline (\\n)."
   ]
  },
  {
   "cell_type": "code",
   "execution_count": 93,
   "metadata": {
    "ExecuteTime": {
     "end_time": "2021-10-20T17:23:25.941992Z",
     "start_time": "2021-10-20T17:23:25.929037Z"
    }
   },
   "outputs": [],
   "source": [
    "text = 'My neighbor, Mr. Rogers, ] has 5 - dogs 10. α π _'"
   ]
  },
  {
   "cell_type": "code",
   "execution_count": 94,
   "metadata": {
    "ExecuteTime": {
     "end_time": "2021-10-20T17:23:26.266478Z",
     "start_time": "2021-10-20T17:23:26.248526Z"
    }
   },
   "outputs": [
    {
     "name": "stdout",
     "output_type": "stream",
     "text": [
      "['M', 'y', 'n', 'e', 'i', 'g', 'h', 'b', 'o', 'r', 'M', 'r', 'R', 'o', 'g', 'e', 'r', 's', 'h', 'a', 's', '5', 'd', 'o', 'g', 's', '1', '0', 'α', 'π', '_']\n"
     ]
    }
   ],
   "source": [
    "pattern = '\\w'\n",
    "print(re.findall(pattern, text))"
   ]
  },
  {
   "cell_type": "code",
   "execution_count": 97,
   "metadata": {
    "ExecuteTime": {
     "end_time": "2021-10-20T17:23:56.726262Z",
     "start_time": "2021-10-20T17:23:56.721274Z"
    }
   },
   "outputs": [
    {
     "name": "stdout",
     "output_type": "stream",
     "text": [
      "['5', '1', '0']\n"
     ]
    }
   ],
   "source": [
    "print(re.findall('\\d', text))\n",
    "#print(re.findall('[0-9]', text))"
   ]
  },
  {
   "cell_type": "code",
   "execution_count": 98,
   "metadata": {
    "ExecuteTime": {
     "end_time": "2021-10-20T17:24:47.981285Z",
     "start_time": "2021-10-20T17:24:47.968320Z"
    }
   },
   "outputs": [
    {
     "name": "stdout",
     "output_type": "stream",
     "text": [
      "['M', 'y', ' ', 'n', 'e', 'i', 'g', 'h', 'b', 'o', 'r', ',', ' ', 'M', 'r', '.', ' ', 'R', 'o', 'g', 'e', 'r', 's', ',', ' ', ']', ' ', 'h', 'a', 's', ' ', '5', ' ', '-', ' ', 'd', 'o', 'g', 's', ' ', '1', '0', '.', ' ', 'α', ' ', 'π', ' ', '_']\n"
     ]
    }
   ],
   "source": [
    "print(re.findall('.', text))"
   ]
  },
  {
   "cell_type": "code",
   "execution_count": null,
   "metadata": {},
   "outputs": [],
   "source": []
  },
  {
   "cell_type": "markdown",
   "metadata": {},
   "source": [
    "## Quantifiers"
   ]
  },
  {
   "cell_type": "markdown",
   "metadata": {},
   "source": [
    "1. `*`: 0 or more\n",
    "2. `?`: 0 or 1\n",
    "3. `+`: 1 or more"
   ]
  },
  {
   "cell_type": "code",
   "execution_count": 143,
   "metadata": {
    "ExecuteTime": {
     "end_time": "2021-10-20T17:53:10.499012Z",
     "start_time": "2021-10-20T17:53:10.488040Z"
    }
   },
   "outputs": [],
   "source": [
    "text = '''My neighbor, Mr. Rogers, has 5 dogs and 100 cats and β sheeps.'''"
   ]
  },
  {
   "cell_type": "code",
   "execution_count": 138,
   "metadata": {
    "ExecuteTime": {
     "end_time": "2021-10-20T17:52:11.726752Z",
     "start_time": "2021-10-20T17:52:11.711793Z"
    },
    "scrolled": true
   },
   "outputs": [
    {
     "name": "stdout",
     "output_type": "stream",
     "text": [
      "['', '', '', '', '', '', '', '', '', '', '', '', '', '', '', '', '', '', '', '', '', '', '', '', '', '', '', '', '', '5', '', '', '', '', '', '', '', '', '', '100', '', '', '', '', '', '', '', '', '', '', '', '', '', '', '', '', '', '', '', '569', '', '']\n"
     ]
    }
   ],
   "source": [
    "print(re.findall('\\d*', text))"
   ]
  },
  {
   "cell_type": "code",
   "execution_count": 104,
   "metadata": {
    "ExecuteTime": {
     "end_time": "2021-10-20T17:32:17.472780Z",
     "start_time": "2021-10-20T17:32:17.464802Z"
    }
   },
   "outputs": [
    {
     "name": "stdout",
     "output_type": "stream",
     "text": [
      "['5', '100']\n"
     ]
    }
   ],
   "source": [
    "print(re.findall('\\d+', text))"
   ]
  },
  {
   "cell_type": "code",
   "execution_count": 141,
   "metadata": {
    "ExecuteTime": {
     "end_time": "2021-10-20T17:52:49.314857Z",
     "start_time": "2021-10-20T17:52:49.303964Z"
    }
   },
   "outputs": [
    {
     "name": "stdout",
     "output_type": "stream",
     "text": [
      "[', Mr. Rogers, has 5dogs and 100 cats and β sheeps.']\n"
     ]
    }
   ],
   "source": [
    "print(re.findall(',.*', text))"
   ]
  },
  {
   "cell_type": "code",
   "execution_count": 144,
   "metadata": {
    "ExecuteTime": {
     "end_time": "2021-10-20T17:53:12.241614Z",
     "start_time": "2021-10-20T17:53:12.223662Z"
    }
   },
   "outputs": [
    {
     "name": "stdout",
     "output_type": "stream",
     "text": [
      "['My', 'neighbor', 'Mr', 'Rogers', 'has', '5', 'dogs', 'and', '100', 'cats', 'and', 'β', 'sheeps']\n"
     ]
    }
   ],
   "source": [
    "print(re.findall('\\w+', text))"
   ]
  },
  {
   "cell_type": "code",
   "execution_count": 145,
   "metadata": {
    "ExecuteTime": {
     "end_time": "2021-10-20T17:53:27.092413Z",
     "start_time": "2021-10-20T17:53:27.080447Z"
    }
   },
   "outputs": [],
   "source": [
    "my_string = 'Andre Park 1 andre21 and andre 21, Andre Aguiar André 21,65 are part of Ironhack\"s andré 21.65 Da Silva andré 32 Sauro'\n"
   ]
  },
  {
   "cell_type": "code",
   "execution_count": 155,
   "metadata": {
    "ExecuteTime": {
     "end_time": "2021-10-20T18:15:17.226854Z",
     "start_time": "2021-10-20T18:15:17.215884Z"
    }
   },
   "outputs": [
    {
     "data": {
      "text/plain": [
       "['1', '21', '21', '21,65', '21.65', '32']"
      ]
     },
     "execution_count": 155,
     "metadata": {},
     "output_type": "execute_result"
    }
   ],
   "source": [
    "# find all the numbers\n",
    "re.findall('', my_string)"
   ]
  },
  {
   "cell_type": "code",
   "execution_count": 153,
   "metadata": {
    "ExecuteTime": {
     "end_time": "2021-10-20T18:13:28.958500Z",
     "start_time": "2021-10-20T18:13:28.945535Z"
    }
   },
   "outputs": [
    {
     "data": {
      "text/plain": [
       "['1', '21', '21,', '21,65', '21.65', '32']"
      ]
     },
     "execution_count": 153,
     "metadata": {},
     "output_type": "execute_result"
    }
   ],
   "source": [
    "re.findall('\\d+[,.]?\\d*', my_string)"
   ]
  },
  {
   "cell_type": "code",
   "execution_count": 57,
   "metadata": {
    "ExecuteTime": {
     "end_time": "2021-10-19T19:03:27.852938Z",
     "start_time": "2021-10-19T19:03:27.840970Z"
    }
   },
   "outputs": [
    {
     "data": {
      "text/plain": [
       "['Sáo Paulo',\n",
       " 'São Paulo',\n",
       " 'Sao Paulo',\n",
       " 'Sao Paolo',\n",
       " 'San Pablo',\n",
       " 'sao paulo',\n",
       " 'sao Paulo',\n",
       " 'são Paulo',\n",
       " 'sao-paulo',\n",
       " 'são paulo',\n",
       " 'SãoPaulo',\n",
       " 'Saon Paulo']"
      ]
     },
     "execution_count": 57,
     "metadata": {},
     "output_type": "execute_result"
    }
   ],
   "source": [
    "text = 'Sáo Paulo São Paulo Sao Paulo Sao Paolo San Pablo sao paulo sao Paulo são Paulo sao-paulo são paulo São SãoPaulo Saon Paulo'\n",
    "\n",
    "pattern = '[Ss][ãaáàâä][on]n?[ -]?[Pp]a[buo]lo'\n",
    "\n",
    "re.findall(pattern, text)"
   ]
  },
  {
   "cell_type": "code",
   "execution_count": 156,
   "metadata": {
    "ExecuteTime": {
     "end_time": "2021-10-20T18:16:35.033350Z",
     "start_time": "2021-10-20T18:16:35.014909Z"
    }
   },
   "outputs": [
    {
     "data": {
      "text/plain": [
       "['colour', 'color']"
      ]
     },
     "execution_count": 156,
     "metadata": {},
     "output_type": "execute_result"
    }
   ],
   "source": [
    "text = 'This colonel has the colour or color blue'\n",
    "\n",
    "re.findall('colou?r', text)"
   ]
  },
  {
   "cell_type": "code",
   "execution_count": 157,
   "metadata": {
    "ExecuteTime": {
     "end_time": "2021-10-20T18:16:48.241622Z",
     "start_time": "2021-10-20T18:16:48.223671Z"
    }
   },
   "outputs": [
    {
     "data": {
      "text/plain": [
       "['apples', 'apple']"
      ]
     },
     "execution_count": 157,
     "metadata": {},
     "output_type": "execute_result"
    }
   ],
   "source": [
    "text = 'These apples are beautiful and the apple is blue.'\n",
    "\n",
    "re.findall('apples?', text)"
   ]
  },
  {
   "cell_type": "code",
   "execution_count": 159,
   "metadata": {
    "ExecuteTime": {
     "end_time": "2021-10-20T18:19:22.452562Z",
     "start_time": "2021-10-20T18:19:22.438599Z"
    }
   },
   "outputs": [
    {
     "data": {
      "text/plain": [
       "['Andre Aguiar', 'Andre Park']"
      ]
     },
     "execution_count": 159,
     "metadata": {},
     "output_type": "execute_result"
    }
   ],
   "source": [
    "text = 'Andre Aguiar and Andre Park and Fatima Aguiar and Frank Park are from the Ironhack team'\n",
    "\n",
    "re.findall('Andre \\w+', text)"
   ]
  },
  {
   "cell_type": "code",
   "execution_count": 165,
   "metadata": {
    "ExecuteTime": {
     "end_time": "2021-10-20T18:20:47.929784Z",
     "start_time": "2021-10-20T18:20:47.910834Z"
    }
   },
   "outputs": [
    {
     "data": {
      "text/plain": [
       "'Andre Aguiar and Joao Park and Fatima Aguiar and Joao Park are from the Ironhack team'"
      ]
     },
     "execution_count": 165,
     "metadata": {},
     "output_type": "execute_result"
    }
   ],
   "source": [
    "re.sub('\\w+ Park', 'Joao Park', text, 2)"
   ]
  },
  {
   "cell_type": "code",
   "execution_count": 166,
   "metadata": {
    "ExecuteTime": {
     "end_time": "2021-10-20T18:21:01.499729Z",
     "start_time": "2021-10-20T18:21:01.486761Z"
    }
   },
   "outputs": [
    {
     "data": {
      "text/plain": [
       "'Andre Aguiar and Andre Park and Fatima Aguiar and Frank Park are from the Ironhack team'"
      ]
     },
     "execution_count": 166,
     "metadata": {},
     "output_type": "execute_result"
    }
   ],
   "source": [
    "text"
   ]
  },
  {
   "cell_type": "markdown",
   "metadata": {},
   "source": [
    "# Other methods for regular expressions"
   ]
  },
  {
   "cell_type": "code",
   "execution_count": 170,
   "metadata": {
    "ExecuteTime": {
     "end_time": "2021-10-20T18:22:30.102567Z",
     "start_time": "2021-10-20T18:22:30.094589Z"
    }
   },
   "outputs": [],
   "source": [
    "text = 'My neighbor, Mr. Rogers, ] has 5 - rogers 1000,'"
   ]
  },
  {
   "cell_type": "code",
   "execution_count": 168,
   "metadata": {
    "ExecuteTime": {
     "end_time": "2021-10-20T18:22:03.171353Z",
     "start_time": "2021-10-20T18:22:03.166365Z"
    }
   },
   "outputs": [
    {
     "data": {
      "text/plain": [
       "'My neighbor, Mr. Andre, ] has 5 - Andre 1000,'"
      ]
     },
     "execution_count": 168,
     "metadata": {},
     "output_type": "execute_result"
    }
   ],
   "source": [
    "re.sub('[Rr]ogers','Andre', text)"
   ]
  },
  {
   "cell_type": "code",
   "execution_count": 169,
   "metadata": {
    "ExecuteTime": {
     "end_time": "2021-10-20T18:22:03.811263Z",
     "start_time": "2021-10-20T18:22:03.798298Z"
    }
   },
   "outputs": [
    {
     "data": {
      "text/plain": [
       "'My neighbor, Mr. Rogers, ] has -1 - rogers -1,'"
      ]
     },
     "execution_count": 169,
     "metadata": {},
     "output_type": "execute_result"
    }
   ],
   "source": [
    "re.sub('\\d+','-1', text)"
   ]
  },
  {
   "cell_type": "code",
   "execution_count": 87,
   "metadata": {
    "ExecuteTime": {
     "end_time": "2021-03-24T12:27:24.014604Z",
     "start_time": "2021-03-24T12:27:24.003128Z"
    }
   },
   "outputs": [
    {
     "data": {
      "text/plain": [
       "['My neighbor, Mr. ', ', ] has 5 - rogers 1000,']"
      ]
     },
     "execution_count": 87,
     "metadata": {},
     "output_type": "execute_result"
    }
   ],
   "source": [
    "text.split('Rogers')"
   ]
  },
  {
   "cell_type": "code",
   "execution_count": 171,
   "metadata": {
    "ExecuteTime": {
     "end_time": "2021-10-20T18:22:53.339538Z",
     "start_time": "2021-10-20T18:22:53.327569Z"
    }
   },
   "outputs": [
    {
     "name": "stdout",
     "output_type": "stream",
     "text": [
      "['My neighbor, Mr. ', ', ] has 5 - ', ' 1000,']\n"
     ]
    }
   ],
   "source": [
    "print(re.split('[Rr]ogers', text))"
   ]
  },
  {
   "cell_type": "code",
   "execution_count": 173,
   "metadata": {
    "ExecuteTime": {
     "end_time": "2021-10-20T18:23:23.066788Z",
     "start_time": "2021-10-20T18:23:23.056815Z"
    }
   },
   "outputs": [
    {
     "data": {
      "text/plain": [
       "'My neighbor, Mr. Rogers, ] has 5 - rogers 1000,'"
      ]
     },
     "execution_count": 173,
     "metadata": {},
     "output_type": "execute_result"
    }
   ],
   "source": [
    "text"
   ]
  },
  {
   "cell_type": "code",
   "execution_count": 172,
   "metadata": {
    "ExecuteTime": {
     "end_time": "2021-10-20T18:22:56.247468Z",
     "start_time": "2021-10-20T18:22:56.231123Z"
    }
   },
   "outputs": [
    {
     "name": "stdout",
     "output_type": "stream",
     "text": [
      "['My neighbor, Mr. Rogers, ] has ', ' - rogers ', ',']\n"
     ]
    }
   ],
   "source": [
    "print(re.split('[0-9]+', text))"
   ]
  },
  {
   "cell_type": "code",
   "execution_count": 174,
   "metadata": {
    "ExecuteTime": {
     "end_time": "2021-10-20T18:25:04.198052Z",
     "start_time": "2021-10-20T18:25:04.191071Z"
    }
   },
   "outputs": [
    {
     "name": "stdout",
     "output_type": "stream",
     "text": [
      "['My neighbor, Mr. Rogers, ] has ', ' - rogers ', ',']\n"
     ]
    }
   ],
   "source": [
    "print(re.findall('[^0-9]+', text))"
   ]
  },
  {
   "cell_type": "code",
   "execution_count": 175,
   "metadata": {
    "ExecuteTime": {
     "end_time": "2021-10-20T18:26:10.239808Z",
     "start_time": "2021-10-20T18:26:10.230832Z"
    }
   },
   "outputs": [
    {
     "data": {
      "text/plain": [
       "<re.Match object; span=(31, 32), match='5'>"
      ]
     },
     "execution_count": 175,
     "metadata": {},
     "output_type": "execute_result"
    }
   ],
   "source": [
    "re.search('\\d+',text)"
   ]
  },
  {
   "cell_type": "code",
   "execution_count": 178,
   "metadata": {
    "ExecuteTime": {
     "end_time": "2021-10-20T18:27:07.387006Z",
     "start_time": "2021-10-20T18:27:07.375032Z"
    }
   },
   "outputs": [
    {
     "name": "stdout",
     "output_type": "stream",
     "text": [
      "Pattern not found\n"
     ]
    }
   ],
   "source": [
    "search_result = re.search('\\d+','mnosanbdias f saonsiao fsamnp')\n",
    "if search_result:\n",
    "    print(text)\n",
    "else:\n",
    "    print('Pattern not found')"
   ]
  },
  {
   "cell_type": "markdown",
   "metadata": {},
   "source": [
    "# Examples"
   ]
  },
  {
   "cell_type": "markdown",
   "metadata": {},
   "source": [
    "Find the regexes that: \n",
    "1. Matches “Dan” and “Ban” (first letter can be \"D\" or \"B\").\n",
    "2. Matches “Dan”, “Ban”, “Tan”, and “Pan”.\n",
    "3. Matches “Dan” and “Dag” (last letter can be \"n\" or \"g\").\n",
    "4. Matches Dan followed by lower case \"and\"\n"
   ]
  },
  {
   "cell_type": "code",
   "execution_count": 180,
   "metadata": {
    "ExecuteTime": {
     "end_time": "2021-10-20T18:28:29.502041Z",
     "start_time": "2021-10-20T18:28:29.494062Z"
    }
   },
   "outputs": [],
   "source": [
    "text = 'Dan and Ban and Tan Dah andSan And Dag Dan Pan i 09wie'"
   ]
  },
  {
   "cell_type": "code",
   "execution_count": 191,
   "metadata": {
    "ExecuteTime": {
     "end_time": "2021-10-20T18:33:12.931649Z",
     "start_time": "2021-10-20T18:33:12.917686Z"
    }
   },
   "outputs": [
    {
     "data": {
      "text/plain": [
       "['Dan', 'Ban', 'Dan']"
      ]
     },
     "execution_count": 191,
     "metadata": {},
     "output_type": "execute_result"
    }
   ],
   "source": [
    "pattern= '[DB]an'\n",
    "re.findall(pattern, text)"
   ]
  },
  {
   "cell_type": "code",
   "execution_count": 193,
   "metadata": {
    "ExecuteTime": {
     "end_time": "2021-10-20T18:34:30.430508Z",
     "start_time": "2021-10-20T18:34:30.420534Z"
    }
   },
   "outputs": [
    {
     "data": {
      "text/plain": [
       "['Dan', 'Ban', 'Tan', 'Dan', 'Pan']"
      ]
     },
     "execution_count": 193,
     "metadata": {},
     "output_type": "execute_result"
    }
   ],
   "source": [
    "pattern = '[DBTP]an'\n",
    "re.findall(pattern, text)"
   ]
  },
  {
   "cell_type": "code",
   "execution_count": 194,
   "metadata": {
    "ExecuteTime": {
     "end_time": "2021-10-20T18:36:18.163974Z",
     "start_time": "2021-10-20T18:36:18.150012Z"
    }
   },
   "outputs": [
    {
     "data": {
      "text/plain": [
       "['Dan', 'Dag', 'Dan']"
      ]
     },
     "execution_count": 194,
     "metadata": {},
     "output_type": "execute_result"
    }
   ],
   "source": [
    "pattern = 'Da[ng]'\n",
    "re.findall(pattern, text)"
   ]
  },
  {
   "cell_type": "code",
   "execution_count": 201,
   "metadata": {
    "ExecuteTime": {
     "end_time": "2021-10-20T18:38:53.955017Z",
     "start_time": "2021-10-20T18:38:53.942052Z"
    }
   },
   "outputs": [
    {
     "data": {
      "text/plain": [
       "['Dan and']"
      ]
     },
     "execution_count": 201,
     "metadata": {},
     "output_type": "execute_result"
    }
   ],
   "source": [
    "pattern = 'Dan and'\n",
    "re.findall(pattern, text)"
   ]
  },
  {
   "cell_type": "markdown",
   "metadata": {},
   "source": [
    "# Resumo\n",
    "* Cheatsheet https://cheatography.com/davechild/cheat-sheets/regular-expressions/\n",
    "* Testar regex https://regexr.com/\n",
    "* import re - faz operações de string baseados em padrões\n",
    "## Funções\n",
    "* re.findall(padrão, texto) - encontra o padrão no texto, retorno de lista\n",
    "* re.sub(padrão,substituto,texto, numero de subtituição) - substitui o padrão por uma nova palavra \n",
    "* re.split(padrão,texto) - separa a string em uma lista baseado no padrão de separação, eliminando o padrão\n",
    "* re.search(padrão,texto) - retorna bool falando se o padrão existe no texto\n",
    "## Padrões\n",
    "* padrão = '[caracteres]' - encontra um ou outro caracter dentro do set(colchete)\n",
    "* '[A-Za-z0-9]' - sets que buscam de uma letra ate outra\n",
    "* '[\\]]' - vai buscar o caracter ] dentro do set\n",
    "* '[^]' - procura tudo o que não esta no set\n",
    "* meta caracter\n",
    "* \\w: Any alphanumeric character.\n",
    "* \\d: Any numeric character.\n",
    "* .: Any character except newline (\\n)\n",
    "## quantificador\n",
    "* *: 0 or more\n",
    "* ?: 0 or 1\n",
    "* +: 1 or more"
   ]
  },
  {
   "cell_type": "code",
   "execution_count": null,
   "metadata": {},
   "outputs": [],
   "source": []
  }
 ],
 "metadata": {
  "kernelspec": {
   "display_name": "Python 3 (ipykernel)",
   "language": "python",
   "name": "python3"
  },
  "language_info": {
   "codemirror_mode": {
    "name": "ipython",
    "version": 3
   },
   "file_extension": ".py",
   "mimetype": "text/x-python",
   "name": "python",
   "nbconvert_exporter": "python",
   "pygments_lexer": "ipython3",
   "version": "3.9.7"
  },
  "toc": {
   "base_numbering": 1,
   "nav_menu": {},
   "number_sections": true,
   "sideBar": true,
   "skip_h1_title": false,
   "title_cell": "Table of Contents",
   "title_sidebar": "Contents",
   "toc_cell": false,
   "toc_position": {},
   "toc_section_display": true,
   "toc_window_display": false
  },
  "varInspector": {
   "cols": {
    "lenName": 16,
    "lenType": 16,
    "lenVar": 40
   },
   "kernels_config": {
    "python": {
     "delete_cmd_postfix": "",
     "delete_cmd_prefix": "del ",
     "library": "var_list.py",
     "varRefreshCmd": "print(var_dic_list())"
    },
    "r": {
     "delete_cmd_postfix": ") ",
     "delete_cmd_prefix": "rm(",
     "library": "var_list.r",
     "varRefreshCmd": "cat(var_dic_list()) "
    }
   },
   "types_to_exclude": [
    "module",
    "function",
    "builtin_function_or_method",
    "instance",
    "_Feature"
   ],
   "window_display": false
  }
 },
 "nbformat": 4,
 "nbformat_minor": 2
}
