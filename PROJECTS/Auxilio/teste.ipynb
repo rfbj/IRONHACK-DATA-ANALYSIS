{
 "cells": [
  {
   "cell_type": "code",
   "execution_count": 1,
   "metadata": {
    "collapsed": true
   },
   "outputs": [],
   "source": [
    "import json\n",
    "import requests\n",
    "import pandas as pd"
   ]
  },
  {
   "cell_type": "code",
   "execution_count": 12,
   "outputs": [],
   "source": [
    "#params\n",
    "url = \"https://api.portaldatransparencia.gov.br/api-de-dados/auxilio-emergencial-beneficiario-por-municipio\"\n",
    "mesAno = 202008 #precisa ser  uma lista\n",
    "codigoIbge = 3550308 #precisa ser uma lista com os 5.507 municípios - site: https://www.ibge.gov.br/explica/codigos-dos-municipios.php\n",
    "pagina = 1\n",
    "\n",
    "params = {\"mesAno\": mesAno, \"codigoIbge\": codigoIbge,\"pagina\":pagina}\n",
    "headers = {\"chave-api-dados\": \"f356eec7ac4815696c0f98e6f6b590f5\"}\n",
    "\n"
   ],
   "metadata": {
    "collapsed": false,
    "pycharm": {
     "name": "#%%\n"
    }
   }
  },
  {
   "cell_type": "code",
   "execution_count": 14,
   "outputs": [
    {
     "name": "stdout",
     "output_type": "stream",
     "text": [
      "<Response [200]>\n",
      "[{'id': 441009601, 'mesDisponibilizacao': '08/2020', 'beneficiario': {'cpfFormatado': '***.046.998-**', 'nis': '00000000000', 'nome': 'RAFAEL AUGUSTO DOS SANTOS'}, 'responsavelAuxilioEmergencial': {'cpfFormatado': '', 'nis': '-2', 'nome': 'Não se aplica'}, 'municipio': {'codigoIBGE': '3550308', 'nomeIBGE': 'SÃO PAULO', 'codigoRegiao': '3', 'nomeRegiao': 'SUDESTE', 'pais': 'BRASIL', 'uf': {'sigla': 'SÃO PAULO', 'nome': 'SP'}}, 'situacaoAuxilioEmergencial': 'Não há', 'enquadramentoAuxilioEmergencial': 'EXTRACAD', 'valor': 600.0, 'numeroParcela': '2ª'}, {'id': 441009792, 'mesDisponibilizacao': '08/2020', 'beneficiario': {'cpfFormatado': '***.766.668-**', 'nis': '00000000000', 'nome': 'JEFFERSON TEIXEIRA DA SILVA NASCIMENT'}, 'responsavelAuxilioEmergencial': {'cpfFormatado': '', 'nis': '-2', 'nome': 'Não se aplica'}, 'municipio': {'codigoIBGE': '3550308', 'nomeIBGE': 'SÃO PAULO', 'codigoRegiao': '3', 'nomeRegiao': 'SUDESTE', 'pais': 'BRASIL', 'uf': {'sigla': 'SÃO PAULO', 'nome': 'SP'}}, 'situacaoAuxilioEmergencial': 'Não há', 'enquadramentoAuxilioEmergencial': 'EXTRACAD', 'valor': 600.0, 'numeroParcela': '2ª'}, {'id': 441010327, 'mesDisponibilizacao': '08/2020', 'beneficiario': {'cpfFormatado': '***.977.428-**', 'nis': '00000000000', 'nome': 'TALES DE BRITO BATISTA'}, 'responsavelAuxilioEmergencial': {'cpfFormatado': '', 'nis': '-2', 'nome': 'Não se aplica'}, 'municipio': {'codigoIBGE': '3550308', 'nomeIBGE': 'SÃO PAULO', 'codigoRegiao': '3', 'nomeRegiao': 'SUDESTE', 'pais': 'BRASIL', 'uf': {'sigla': 'SÃO PAULO', 'nome': 'SP'}}, 'situacaoAuxilioEmergencial': 'Não há', 'enquadramentoAuxilioEmergencial': 'EXTRACAD', 'valor': 600.0, 'numeroParcela': '4ª'}, {'id': 441010403, 'mesDisponibilizacao': '08/2020', 'beneficiario': {'cpfFormatado': '***.534.638-**', 'nis': '00000000000', 'nome': 'RAFAEL ALVES DA SILVA'}, 'responsavelAuxilioEmergencial': {'cpfFormatado': '', 'nis': '-2', 'nome': 'Não se aplica'}, 'municipio': {'codigoIBGE': '3550308', 'nomeIBGE': 'SÃO PAULO', 'codigoRegiao': '3', 'nomeRegiao': 'SUDESTE', 'pais': 'BRASIL', 'uf': {'sigla': 'SÃO PAULO', 'nome': 'SP'}}, 'situacaoAuxilioEmergencial': 'Não há', 'enquadramentoAuxilioEmergencial': 'EXTRACAD', 'valor': 600.0, 'numeroParcela': '4ª'}, {'id': 441010912, 'mesDisponibilizacao': '08/2020', 'beneficiario': {'cpfFormatado': '***.405.828-**', 'nis': '00000000000', 'nome': 'ANNE CAROLINNE MARTINS COSTA'}, 'responsavelAuxilioEmergencial': {'cpfFormatado': '', 'nis': '-2', 'nome': 'Não se aplica'}, 'municipio': {'codigoIBGE': '3550308', 'nomeIBGE': 'SÃO PAULO', 'codigoRegiao': '3', 'nomeRegiao': 'SUDESTE', 'pais': 'BRASIL', 'uf': {'sigla': 'SÃO PAULO', 'nome': 'SP'}}, 'situacaoAuxilioEmergencial': 'Não há', 'enquadramentoAuxilioEmergencial': 'EXTRACAD', 'valor': 600.0, 'numeroParcela': '3ª'}, {'id': 441011087, 'mesDisponibilizacao': '08/2020', 'beneficiario': {'cpfFormatado': '***.160.448-**', 'nis': '13566669813', 'nome': 'VITOR DJUN YAMAGUCHI'}, 'responsavelAuxilioEmergencial': {'cpfFormatado': '', 'nis': '-2', 'nome': 'Não se aplica'}, 'municipio': {'codigoIBGE': '3550308', 'nomeIBGE': 'SÃO PAULO', 'codigoRegiao': '3', 'nomeRegiao': 'SUDESTE', 'pais': 'BRASIL', 'uf': {'sigla': 'SÃO PAULO', 'nome': 'SP'}}, 'situacaoAuxilioEmergencial': 'Não há', 'enquadramentoAuxilioEmergencial': 'CADUNICO', 'valor': 600.0, 'numeroParcela': '4ª'}, {'id': 441011509, 'mesDisponibilizacao': '08/2020', 'beneficiario': {'cpfFormatado': '***.157.778-**', 'nis': '00000000000', 'nome': 'JULIA ALVES DOS SANTOS'}, 'responsavelAuxilioEmergencial': {'cpfFormatado': '', 'nis': '-2', 'nome': 'Não se aplica'}, 'municipio': {'codigoIBGE': '3550308', 'nomeIBGE': 'SÃO PAULO', 'codigoRegiao': '3', 'nomeRegiao': 'SUDESTE', 'pais': 'BRASIL', 'uf': {'sigla': 'SÃO PAULO', 'nome': 'SP'}}, 'situacaoAuxilioEmergencial': 'Não há', 'enquadramentoAuxilioEmergencial': 'EXTRACAD', 'valor': 600.0, 'numeroParcela': '1ª'}, {'id': 441011674, 'mesDisponibilizacao': '08/2020', 'beneficiario': {'cpfFormatado': '***.504.393-**', 'nis': '00000000000', 'nome': 'VALDEMIR BENICIO COELHO'}, 'responsavelAuxilioEmergencial': {'cpfFormatado': '', 'nis': '-2', 'nome': 'Não se aplica'}, 'municipio': {'codigoIBGE': '3550308', 'nomeIBGE': 'SÃO PAULO', 'codigoRegiao': '3', 'nomeRegiao': 'SUDESTE', 'pais': 'BRASIL', 'uf': {'sigla': 'SÃO PAULO', 'nome': 'SP'}}, 'situacaoAuxilioEmergencial': 'Não há', 'enquadramentoAuxilioEmergencial': 'EXTRACAD', 'valor': 600.0, 'numeroParcela': '3ª'}, {'id': 441011843, 'mesDisponibilizacao': '08/2020', 'beneficiario': {'cpfFormatado': '***.684.568-**', 'nis': '00000000000', 'nome': 'MARIANA CARVALHO MOTA'}, 'responsavelAuxilioEmergencial': {'cpfFormatado': '', 'nis': '-2', 'nome': 'Não se aplica'}, 'municipio': {'codigoIBGE': '3550308', 'nomeIBGE': 'SÃO PAULO', 'codigoRegiao': '3', 'nomeRegiao': 'SUDESTE', 'pais': 'BRASIL', 'uf': {'sigla': 'SÃO PAULO', 'nome': 'SP'}}, 'situacaoAuxilioEmergencial': 'Valor devolvido à União.', 'enquadramentoAuxilioEmergencial': 'EXTRACAD', 'valor': 600.0, 'numeroParcela': '3ª'}, {'id': 441011955, 'mesDisponibilizacao': '08/2020', 'beneficiario': {'cpfFormatado': '***.040.498-**', 'nis': '00000000000', 'nome': 'ELIGIANE DO NASCIMENTO SANTOS'}, 'responsavelAuxilioEmergencial': {'cpfFormatado': '', 'nis': '-2', 'nome': 'Não se aplica'}, 'municipio': {'codigoIBGE': '3550308', 'nomeIBGE': 'SÃO PAULO', 'codigoRegiao': '3', 'nomeRegiao': 'SUDESTE', 'pais': 'BRASIL', 'uf': {'sigla': 'SÃO PAULO', 'nome': 'SP'}}, 'situacaoAuxilioEmergencial': 'Não há', 'enquadramentoAuxilioEmergencial': 'EXTRACAD', 'valor': 600.0, 'numeroParcela': '1ª'}, {'id': 441012163, 'mesDisponibilizacao': '08/2020', 'beneficiario': {'cpfFormatado': '***.585.293-**', 'nis': '00000000000', 'nome': 'ALBI FERREIRA SOARES'}, 'responsavelAuxilioEmergencial': {'cpfFormatado': '', 'nis': '-2', 'nome': 'Não se aplica'}, 'municipio': {'codigoIBGE': '3550308', 'nomeIBGE': 'SÃO PAULO', 'codigoRegiao': '3', 'nomeRegiao': 'SUDESTE', 'pais': 'BRASIL', 'uf': {'sigla': 'SÃO PAULO', 'nome': 'SP'}}, 'situacaoAuxilioEmergencial': 'Não há', 'enquadramentoAuxilioEmergencial': 'EXTRACAD', 'valor': 600.0, 'numeroParcela': '4ª'}, {'id': 441012325, 'mesDisponibilizacao': '08/2020', 'beneficiario': {'cpfFormatado': '***.382.084-**', 'nis': '12189834025', 'nome': 'GIVANILDO JOSE DA SILVA'}, 'responsavelAuxilioEmergencial': {'cpfFormatado': '', 'nis': '-2', 'nome': 'Não se aplica'}, 'municipio': {'codigoIBGE': '3550308', 'nomeIBGE': 'SÃO PAULO', 'codigoRegiao': '3', 'nomeRegiao': 'SUDESTE', 'pais': 'BRASIL', 'uf': {'sigla': 'SÃO PAULO', 'nome': 'SP'}}, 'situacaoAuxilioEmergencial': 'Não há', 'enquadramentoAuxilioEmergencial': 'CADUNICO', 'valor': 600.0, 'numeroParcela': '5ª'}, {'id': 441012692, 'mesDisponibilizacao': '08/2020', 'beneficiario': {'cpfFormatado': '***.038.908-**', 'nis': '00000000000', 'nome': 'TANIA MARIA ALVES'}, 'responsavelAuxilioEmergencial': {'cpfFormatado': '', 'nis': '-2', 'nome': 'Não se aplica'}, 'municipio': {'codigoIBGE': '3550308', 'nomeIBGE': 'SÃO PAULO', 'codigoRegiao': '3', 'nomeRegiao': 'SUDESTE', 'pais': 'BRASIL', 'uf': {'sigla': 'SÃO PAULO', 'nome': 'SP'}}, 'situacaoAuxilioEmergencial': 'Não há', 'enquadramentoAuxilioEmergencial': 'EXTRACAD', 'valor': 600.0, 'numeroParcela': '4ª'}, {'id': 441012792, 'mesDisponibilizacao': '08/2020', 'beneficiario': {'cpfFormatado': '***.405.388-**', 'nis': '00000000000', 'nome': 'CAROLINE SILVA DA PAIXAO'}, 'responsavelAuxilioEmergencial': {'cpfFormatado': '', 'nis': '-2', 'nome': 'Não se aplica'}, 'municipio': {'codigoIBGE': '3550308', 'nomeIBGE': 'SÃO PAULO', 'codigoRegiao': '3', 'nomeRegiao': 'SUDESTE', 'pais': 'BRASIL', 'uf': {'sigla': 'SÃO PAULO', 'nome': 'SP'}}, 'situacaoAuxilioEmergencial': 'Não há', 'enquadramentoAuxilioEmergencial': 'EXTRACAD', 'valor': 600.0, 'numeroParcela': '3ª'}, {'id': 441012864, 'mesDisponibilizacao': '08/2020', 'beneficiario': {'cpfFormatado': '***.161.678-**', 'nis': '00000000000', 'nome': 'JESSICA MIDORI MATSUDA'}, 'responsavelAuxilioEmergencial': {'cpfFormatado': '', 'nis': '-2', 'nome': 'Não se aplica'}, 'municipio': {'codigoIBGE': '3550308', 'nomeIBGE': 'SÃO PAULO', 'codigoRegiao': '3', 'nomeRegiao': 'SUDESTE', 'pais': 'BRASIL', 'uf': {'sigla': 'SÃO PAULO', 'nome': 'SP'}}, 'situacaoAuxilioEmergencial': 'Não há', 'enquadramentoAuxilioEmergencial': 'EXTRACAD', 'valor': 600.0, 'numeroParcela': '3ª'}]\n"
     ]
    },
    {
     "ename": "AttributeError",
     "evalue": "'list' object has no attribute 'keys'",
     "output_type": "error",
     "traceback": [
      "\u001B[1;31m---------------------------------------------------------------------------\u001B[0m",
      "\u001B[1;31mAttributeError\u001B[0m                            Traceback (most recent call last)",
      "Input \u001B[1;32mIn [14]\u001B[0m, in \u001B[0;36m<module>\u001B[1;34m\u001B[0m\n\u001B[0;32m      3\u001B[0m results \u001B[38;5;241m=\u001B[39m response\u001B[38;5;241m.\u001B[39mjson()\n\u001B[0;32m      4\u001B[0m \u001B[38;5;28mprint\u001B[39m(results)\n\u001B[1;32m----> 5\u001B[0m \u001B[43mresults\u001B[49m\u001B[38;5;241;43m.\u001B[39;49m\u001B[43mkeys\u001B[49m()\n",
      "\u001B[1;31mAttributeError\u001B[0m: 'list' object has no attribute 'keys'"
     ]
    }
   ],
   "source": [
    "response = requests.get(url, params=params, headers=headers)\n",
    "print(response)\n",
    "results = response.json()\n",
    "print(results)\n"
   ],
   "metadata": {
    "collapsed": false,
    "pycharm": {
     "name": "#%%\n"
    }
   }
  },
  {
   "cell_type": "code",
   "execution_count": 19,
   "outputs": [
    {
     "data": {
      "text/plain": "(15,\n dict_keys(['id', 'mesDisponibilizacao', 'beneficiario', 'responsavelAuxilioEmergencial', 'municipio', 'situacaoAuxilioEmergencial', 'enquadramentoAuxilioEmergencial', 'valor', 'numeroParcela']))"
     },
     "execution_count": 19,
     "metadata": {},
     "output_type": "execute_result"
    }
   ],
   "source": [
    "len(results), results[14].keys()"
   ],
   "metadata": {
    "collapsed": false,
    "pycharm": {
     "name": "#%%\n"
    }
   }
  }
 ],
 "metadata": {
  "kernelspec": {
   "display_name": "Python 3",
   "language": "python",
   "name": "python3"
  },
  "language_info": {
   "codemirror_mode": {
    "name": "ipython",
    "version": 2
   },
   "file_extension": ".py",
   "mimetype": "text/x-python",
   "name": "python",
   "nbconvert_exporter": "python",
   "pygments_lexer": "ipython2",
   "version": "2.7.6"
  }
 },
 "nbformat": 4,
 "nbformat_minor": 0
}