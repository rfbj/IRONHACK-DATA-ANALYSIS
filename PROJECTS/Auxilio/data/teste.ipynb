{
 "cells": [
  {
   "cell_type": "code",
   "execution_count": 5,
   "metadata": {
    "collapsed": true
   },
   "outputs": [],
   "source": [
    "import pandas as pd\n",
    "df = pd.read_csv(r\"C:\\Ironhack\\DATA_CLASSES\\IRONHACK-DATA-ANALYSIS\\PROJECTS\\Auxilio\\data\\ae_20_21_tratado_final.csv\", chunksize=200000)\n",
    "df2 = pd.read_csv(r\"C:\\Ironhack\\DATA_CLASSES\\IRONHACK-DATA-ANALYSIS\\PROJECTS\\Auxilio\\data\\cod_mun_float.csv\")"
   ]
  },
  {
   "cell_type": "code",
   "execution_count": 10,
   "outputs": [
    {
     "name": "stdout",
     "output_type": "stream",
     "text": [
      "BOLSA FAMILIA    117653\n",
      "EXTRACAD          49277\n",
      "CADUNICO          33070\n",
      "Name: tipo, dtype: int64\n"
     ]
    }
   ],
   "source": [
    "\n",
    "    for chunk in df:\n",
    "        chunk[\"tipo\"].value_counts()\n",
    "        print(a)\n",
    "        break\n"
   ],
   "metadata": {
    "collapsed": false,
    "pycharm": {
     "name": "#%%\n"
    }
   }
  },
  {
   "cell_type": "code",
   "execution_count": 36,
   "outputs": [],
   "source": [
    "#df[\"cod_mun_ibge\"] = df[\"cod_mun_ibge\"].astype(float)\n",
    "#df2.drop([\"Unnamed: 0\"],axis=1,inplace=True)\n",
    "#a = [item for item in df2[\"cod_mun_ibge\"].astype(str).str.split()]\n",
    "df2[\"cod_mun_ibge\"] = df2[\"cod_mun_ibge\"].astype(str).str[:7]\n",
    "df2.to_csv(\"C:\\Ironhack\\DATA_CLASSES\\IRONHACK-DATA-ANALYSIS\\PROJECTS\\Auxilio\\data\\IBGE_cod_mun.csv\",index=False)\n",
    "\n",
    "\n"
   ],
   "metadata": {
    "collapsed": false,
    "pycharm": {
     "name": "#%%\n"
    }
   }
  },
  {
   "cell_type": "code",
   "execution_count": 9,
   "outputs": [],
   "source": [
    "df.to_csv(\"C:\\Ironhack\\DATA_CLASSES\\IRONHACK-DATA-ANALYSIS\\PROJECTS\\Auxilio\\data\\cod_mun_float_sem_i.csv\",index=False)"
   ],
   "metadata": {
    "collapsed": false,
    "pycharm": {
     "name": "#%%\n"
    }
   }
  },
  {
   "cell_type": "code",
   "execution_count": null,
   "outputs": [],
   "source": [],
   "metadata": {
    "collapsed": false,
    "pycharm": {
     "name": "#%%\n"
    }
   }
  }
 ],
 "metadata": {
  "kernelspec": {
   "display_name": "Python 3",
   "language": "python",
   "name": "python3"
  },
  "language_info": {
   "codemirror_mode": {
    "name": "ipython",
    "version": 2
   },
   "file_extension": ".py",
   "mimetype": "text/x-python",
   "name": "python",
   "nbconvert_exporter": "python",
   "pygments_lexer": "ipython2",
   "version": "2.7.6"
  }
 },
 "nbformat": 4,
 "nbformat_minor": 0
}