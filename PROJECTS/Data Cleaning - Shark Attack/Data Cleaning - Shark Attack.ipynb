{
 "cells": [
  {
   "cell_type": "markdown",
   "metadata": {
    "collapsed": true,
    "pycharm": {
     "name": "#%% md\n"
    }
   },
   "source": [
    "# IRONHACK - DATA ANALYSIS FT - JAN22\n",
    "## ***PROJECT: Data cleaning and manipulation - Shark Attack***\n",
    "---"
   ]
  },
  {
   "cell_type": "markdown",
   "metadata": {
    "pycharm": {
     "name": "#%% md\n"
    }
   },
   "source": [
    "Our goal with this data cleaning and manipulation project a few questions from a business perspective, assuming our company has not been established yet.\n",
    "\n",
    "Therefore, at first, we need to identify on what two or three countries we have the highest shark attack occurrences and, moreover, if they were accidental (unprovoked) or provoked.\n",
    "\n",
    "As stated above, first of all, we need to identify where would our potential clients be located at, what should lead to the following answers:\n",
    "\n",
    "    1.  What countries have the most shark attacks?\n",
    "    2.  What countries and cities have the deadliest shark attacks?\n",
    "\n",
    "Once we have the answers for that we should be ready to answer the next logical question:\n",
    "\n",
    "    3.Where should our company install its headquarters at?\n",
    "\n",
    "After deciding where we should install our headquarters at we'll need to decide on what type of business activity we should aim at. In order for that to be possible, we'll need to answer the following questions:\n",
    "\n",
    "    4.  What would be our target audience? (Government, customers (male, female, does not matter?), ecc) It depends on what triggered the attack: Predatory or provocative behavior?\n",
    "\n",
    "    5.  What are shark attacks progression through years?\n",
    "    6.  What season of the year are shark attacks more prevalent?\n",
    "    7. Is there any gender relationship between shark attacks? How likely are men and women to be attacked?\n",
    "\n",
    "Once we have answered the questions above we should be ready to decide:\n",
    "\n",
    "    8.  What would be our company's business purpose? Should we sell a product (i.e. Shark repelent), provide a service to warn or educate bathers/swimmers\n",
    "\n",
    "Considering that we'd like to enrich this project, as for our future plans we'd like to deepen our research and check how does shark attacks relate to moon phases? This currently is our work in progress."
   ]
  },
  {
   "cell_type": "markdown",
   "source": [
    "## Import Libs:\n",
    "First things first! We need to import all the libraries we might need during our project.\n",
    "\n",
    "---"
   ],
   "metadata": {
    "collapsed": false
   }
  },
  {
   "cell_type": "code",
   "execution_count": 175,
   "outputs": [],
   "source": [
    "import pandas as pd\n",
    "import numpy as np\n",
    "from tqdm import tqdm\n",
    "import seaborn as sns\n",
    "import matplotlib.pyplot as plt\n",
    "import re\n",
    "import time\n",
    "from pandas_profiling import ProfileReport\n",
    "from datetime import datetime\n",
    "from bs4 import BeautifulSoup\n",
    "import dateparser\n",
    "import requests"
   ],
   "metadata": {
    "collapsed": false,
    "pycharm": {
     "name": "#%%\n"
    }
   }
  },
  {
   "cell_type": "markdown",
   "source": [
    "## Read CSV and identify encodig.\n",
    "\n",
    "Once we have duly imported our libs, it's time to open our data file that we'll be working with.\n",
    "\n",
    "---"
   ],
   "metadata": {
    "collapsed": false
   }
  },
  {
   "cell_type": "code",
   "execution_count": 187,
   "outputs": [],
   "source": [
    "shark_data = pd.read_csv(\"data/attacks.csv\", encoding=\"latin1\")\n",
    "#DataSet documentation: https://www.sharkattackfile.net/\n",
    "#mp_cols = \"New Moon\",\"First Quarter\",\"Full Moon\", \"Third Quarter\"\n",
    "#\n",
    "#Work in progress\n",
    "\n",
    "#for year in tqdm(range(1800,2020)):\n",
    "    #globals()[f\"df{year}\"] = pd.read_html(f'https://www.timeanddate.com/moon/phases/?year={year}')[1]\n",
    "\n",
    "# for year in range(1800,2020):\n",
    "#     for mp in mp_cols:\n",
    "#         globals()f'df{year}{[mp]}' = (globals()[f'df{year}{[mp]}']+f'/{year}').str.replace(' ','/')\n",
    "#         globals()f'df{year}{[mp]}'.apply(lambda y: datetime.strptime(y, '%d/%b/%Y') if isinstance(y,str) and not y.startswith('*/All/times/') else np.nan)\n",
    "\n",
    "\n",
    "#    pd.to_datetime(moonp[mp])\n",
    "\n",
    "\n",
    "#df['New Moon'].apply(lambda x: datetime.strptime(x, '%d/%b/%Y') if isinstance(x,str) and not x.startswith('*/All/times/') else np.nan)\n"
   ],
   "metadata": {
    "collapsed": false,
    "pycharm": {
     "name": "#%%\n"
    }
   }
  },
  {
   "cell_type": "markdown",
   "source": [
    "## DataSet Preview\n",
    "### ***Head, info, describe and dtypes***\n",
    "\n",
    "Now it's time for us to have a first glimpse of our DataFrame so we can find out what kind of data treatment tools we might use.\n",
    "\n",
    "---"
   ],
   "metadata": {
    "collapsed": false
   }
  },
  {
   "cell_type": "code",
   "execution_count": 177,
   "outputs": [
    {
     "data": {
      "text/plain": "  Case Number         Date    Year        Type    Country             Area  \\\n0  2018.06.25  25-Jun-2018  2018.0     Boating        USA       California   \n1  2018.06.18  18-Jun-2018  2018.0  Unprovoked        USA          Georgia   \n2  2018.06.09  09-Jun-2018  2018.0     Invalid        USA           Hawaii   \n3  2018.06.08  08-Jun-2018  2018.0  Unprovoked  AUSTRALIA  New South Wales   \n4  2018.06.04  04-Jun-2018  2018.0    Provoked     MEXICO           Colima   \n\n                         Location     Activity             Name Sex   ...  \\\n0     Oceanside, San Diego County     Paddling      Julie Wolfe    F  ...   \n1  St. Simon Island, Glynn County     Standing  Adyson McNeely     F  ...   \n2                    Habush, Oahu      Surfing      John Denges    M  ...   \n3              Arrawarra Headland      Surfing             male    M  ...   \n4                        La Ticla  Free diving   Gustavo Ramos     M  ...   \n\n          Species           Investigator or Source                       pdf  \\\n0      White shark                R. Collier, GSAF      2018.06.25-Wolfe.pdf   \n1              NaN  K.McMurray, TrackingSharks.com    2018.06.18-McNeely.pdf   \n2              NaN  K.McMurray, TrackingSharks.com     2018.06.09-Denges.pdf   \n3        2 m shark                  B. Myatt, GSAF  2018.06.08-Arrawarra.pdf   \n4  Tiger shark, 3m                       A .Kipper      2018.06.04-Ramos.pdf   \n\n                                        href formula  \\\n0  http://sharkattackfile.net/spreadsheets/pdf_di...   \n1  http://sharkattackfile.net/spreadsheets/pdf_di...   \n2  http://sharkattackfile.net/spreadsheets/pdf_di...   \n3  http://sharkattackfile.net/spreadsheets/pdf_di...   \n4  http://sharkattackfile.net/spreadsheets/pdf_di...   \n\n                                                href Case Number.1  \\\n0  http://sharkattackfile.net/spreadsheets/pdf_di...    2018.06.25   \n1  http://sharkattackfile.net/spreadsheets/pdf_di...    2018.06.18   \n2  http://sharkattackfile.net/spreadsheets/pdf_di...    2018.06.09   \n3  http://sharkattackfile.net/spreadsheets/pdf_di...    2018.06.08   \n4  http://sharkattackfile.net/spreadsheets/pdf_di...    2018.06.04   \n\n  Case Number.2 original order Unnamed: 22 Unnamed: 23  \n0    2018.06.25         6303.0         NaN         NaN  \n1    2018.06.18         6302.0         NaN         NaN  \n2    2018.06.09         6301.0         NaN         NaN  \n3    2018.06.08         6300.0         NaN         NaN  \n4    2018.06.04         6299.0         NaN         NaN  \n\n[5 rows x 24 columns]",
      "text/html": "<div>\n<style scoped>\n    .dataframe tbody tr th:only-of-type {\n        vertical-align: middle;\n    }\n\n    .dataframe tbody tr th {\n        vertical-align: top;\n    }\n\n    .dataframe thead th {\n        text-align: right;\n    }\n</style>\n<table border=\"1\" class=\"dataframe\">\n  <thead>\n    <tr style=\"text-align: right;\">\n      <th></th>\n      <th>Case Number</th>\n      <th>Date</th>\n      <th>Year</th>\n      <th>Type</th>\n      <th>Country</th>\n      <th>Area</th>\n      <th>Location</th>\n      <th>Activity</th>\n      <th>Name</th>\n      <th>Sex</th>\n      <th>...</th>\n      <th>Species</th>\n      <th>Investigator or Source</th>\n      <th>pdf</th>\n      <th>href formula</th>\n      <th>href</th>\n      <th>Case Number.1</th>\n      <th>Case Number.2</th>\n      <th>original order</th>\n      <th>Unnamed: 22</th>\n      <th>Unnamed: 23</th>\n    </tr>\n  </thead>\n  <tbody>\n    <tr>\n      <th>0</th>\n      <td>2018.06.25</td>\n      <td>25-Jun-2018</td>\n      <td>2018.0</td>\n      <td>Boating</td>\n      <td>USA</td>\n      <td>California</td>\n      <td>Oceanside, San Diego County</td>\n      <td>Paddling</td>\n      <td>Julie Wolfe</td>\n      <td>F</td>\n      <td>...</td>\n      <td>White shark</td>\n      <td>R. Collier, GSAF</td>\n      <td>2018.06.25-Wolfe.pdf</td>\n      <td>http://sharkattackfile.net/spreadsheets/pdf_di...</td>\n      <td>http://sharkattackfile.net/spreadsheets/pdf_di...</td>\n      <td>2018.06.25</td>\n      <td>2018.06.25</td>\n      <td>6303.0</td>\n      <td>NaN</td>\n      <td>NaN</td>\n    </tr>\n    <tr>\n      <th>1</th>\n      <td>2018.06.18</td>\n      <td>18-Jun-2018</td>\n      <td>2018.0</td>\n      <td>Unprovoked</td>\n      <td>USA</td>\n      <td>Georgia</td>\n      <td>St. Simon Island, Glynn County</td>\n      <td>Standing</td>\n      <td>Adyson McNeely</td>\n      <td>F</td>\n      <td>...</td>\n      <td>NaN</td>\n      <td>K.McMurray, TrackingSharks.com</td>\n      <td>2018.06.18-McNeely.pdf</td>\n      <td>http://sharkattackfile.net/spreadsheets/pdf_di...</td>\n      <td>http://sharkattackfile.net/spreadsheets/pdf_di...</td>\n      <td>2018.06.18</td>\n      <td>2018.06.18</td>\n      <td>6302.0</td>\n      <td>NaN</td>\n      <td>NaN</td>\n    </tr>\n    <tr>\n      <th>2</th>\n      <td>2018.06.09</td>\n      <td>09-Jun-2018</td>\n      <td>2018.0</td>\n      <td>Invalid</td>\n      <td>USA</td>\n      <td>Hawaii</td>\n      <td>Habush, Oahu</td>\n      <td>Surfing</td>\n      <td>John Denges</td>\n      <td>M</td>\n      <td>...</td>\n      <td>NaN</td>\n      <td>K.McMurray, TrackingSharks.com</td>\n      <td>2018.06.09-Denges.pdf</td>\n      <td>http://sharkattackfile.net/spreadsheets/pdf_di...</td>\n      <td>http://sharkattackfile.net/spreadsheets/pdf_di...</td>\n      <td>2018.06.09</td>\n      <td>2018.06.09</td>\n      <td>6301.0</td>\n      <td>NaN</td>\n      <td>NaN</td>\n    </tr>\n    <tr>\n      <th>3</th>\n      <td>2018.06.08</td>\n      <td>08-Jun-2018</td>\n      <td>2018.0</td>\n      <td>Unprovoked</td>\n      <td>AUSTRALIA</td>\n      <td>New South Wales</td>\n      <td>Arrawarra Headland</td>\n      <td>Surfing</td>\n      <td>male</td>\n      <td>M</td>\n      <td>...</td>\n      <td>2 m shark</td>\n      <td>B. Myatt, GSAF</td>\n      <td>2018.06.08-Arrawarra.pdf</td>\n      <td>http://sharkattackfile.net/spreadsheets/pdf_di...</td>\n      <td>http://sharkattackfile.net/spreadsheets/pdf_di...</td>\n      <td>2018.06.08</td>\n      <td>2018.06.08</td>\n      <td>6300.0</td>\n      <td>NaN</td>\n      <td>NaN</td>\n    </tr>\n    <tr>\n      <th>4</th>\n      <td>2018.06.04</td>\n      <td>04-Jun-2018</td>\n      <td>2018.0</td>\n      <td>Provoked</td>\n      <td>MEXICO</td>\n      <td>Colima</td>\n      <td>La Ticla</td>\n      <td>Free diving</td>\n      <td>Gustavo Ramos</td>\n      <td>M</td>\n      <td>...</td>\n      <td>Tiger shark, 3m</td>\n      <td>A .Kipper</td>\n      <td>2018.06.04-Ramos.pdf</td>\n      <td>http://sharkattackfile.net/spreadsheets/pdf_di...</td>\n      <td>http://sharkattackfile.net/spreadsheets/pdf_di...</td>\n      <td>2018.06.04</td>\n      <td>2018.06.04</td>\n      <td>6299.0</td>\n      <td>NaN</td>\n      <td>NaN</td>\n    </tr>\n  </tbody>\n</table>\n<p>5 rows × 24 columns</p>\n</div>"
     },
     "execution_count": 177,
     "metadata": {},
     "output_type": "execute_result"
    }
   ],
   "source": [
    "shark_data.head(5)"
   ],
   "metadata": {
    "collapsed": false,
    "pycharm": {
     "name": "#%%\n"
    }
   }
  },
  {
   "cell_type": "markdown",
   "source": [],
   "metadata": {
    "collapsed": false
   }
  },
  {
   "cell_type": "code",
   "execution_count": 17,
   "outputs": [
    {
     "name": "stdout",
     "output_type": "stream",
     "text": [
      "<class 'pandas.core.frame.DataFrame'>\n",
      "RangeIndex: 25723 entries, 0 to 25722\n",
      "Data columns (total 24 columns):\n",
      " #   Column                  Non-Null Count  Dtype  \n",
      "---  ------                  --------------  -----  \n",
      " 0   Case Number             8702 non-null   object \n",
      " 1   Date                    6302 non-null   object \n",
      " 2   Year                    6300 non-null   float64\n",
      " 3   Type                    6298 non-null   object \n",
      " 4   Country                 6252 non-null   object \n",
      " 5   Area                    5847 non-null   object \n",
      " 6   Location                5762 non-null   object \n",
      " 7   Activity                5758 non-null   object \n",
      " 8   Name                    6092 non-null   object \n",
      " 9   Sex                     5737 non-null   object \n",
      " 10  Age                     3471 non-null   object \n",
      " 11  Injury                  6274 non-null   object \n",
      " 12  Fatal (Y/N)             5763 non-null   object \n",
      " 13  Time                    2948 non-null   object \n",
      " 14  Species                 3464 non-null   object \n",
      " 15  Investigator or Source  6285 non-null   object \n",
      " 16  pdf                     6302 non-null   object \n",
      " 17  href formula            6301 non-null   object \n",
      " 18  href                    6302 non-null   object \n",
      " 19  Case Number.1           6302 non-null   object \n",
      " 20  Case Number.2           6302 non-null   object \n",
      " 21  original order          6309 non-null   float64\n",
      " 22  Unnamed: 22             1 non-null      object \n",
      " 23  Unnamed: 23             2 non-null      object \n",
      "dtypes: float64(2), object(22)\n",
      "memory usage: 4.7+ MB\n"
     ]
    }
   ],
   "source": [
    "shark_data.info()"
   ],
   "metadata": {
    "collapsed": false,
    "pycharm": {
     "name": "#%%\n"
    }
   }
  },
  {
   "cell_type": "code",
   "execution_count": 34,
   "outputs": [
    {
     "data": {
      "text/plain": "              Year  original order\ncount  6300.000000     6309.000000\nmean   1927.272381     3155.999683\nstd     281.116308     1821.396206\nmin       0.000000        2.000000\n25%    1942.000000     1579.000000\n50%    1977.000000     3156.000000\n75%    2005.000000     4733.000000\nmax    2018.000000     6310.000000",
      "text/html": "<div>\n<style scoped>\n    .dataframe tbody tr th:only-of-type {\n        vertical-align: middle;\n    }\n\n    .dataframe tbody tr th {\n        vertical-align: top;\n    }\n\n    .dataframe thead th {\n        text-align: right;\n    }\n</style>\n<table border=\"1\" class=\"dataframe\">\n  <thead>\n    <tr style=\"text-align: right;\">\n      <th></th>\n      <th>Year</th>\n      <th>original order</th>\n    </tr>\n  </thead>\n  <tbody>\n    <tr>\n      <th>count</th>\n      <td>6300.000000</td>\n      <td>6309.000000</td>\n    </tr>\n    <tr>\n      <th>mean</th>\n      <td>1927.272381</td>\n      <td>3155.999683</td>\n    </tr>\n    <tr>\n      <th>std</th>\n      <td>281.116308</td>\n      <td>1821.396206</td>\n    </tr>\n    <tr>\n      <th>min</th>\n      <td>0.000000</td>\n      <td>2.000000</td>\n    </tr>\n    <tr>\n      <th>25%</th>\n      <td>1942.000000</td>\n      <td>1579.000000</td>\n    </tr>\n    <tr>\n      <th>50%</th>\n      <td>1977.000000</td>\n      <td>3156.000000</td>\n    </tr>\n    <tr>\n      <th>75%</th>\n      <td>2005.000000</td>\n      <td>4733.000000</td>\n    </tr>\n    <tr>\n      <th>max</th>\n      <td>2018.000000</td>\n      <td>6310.000000</td>\n    </tr>\n  </tbody>\n</table>\n</div>"
     },
     "execution_count": 34,
     "metadata": {},
     "output_type": "execute_result"
    }
   ],
   "source": [
    "shark_data.describe()"
   ],
   "metadata": {
    "collapsed": false,
    "pycharm": {
     "name": "#%%\n"
    }
   }
  },
  {
   "cell_type": "code",
   "execution_count": 37,
   "outputs": [
    {
     "data": {
      "text/plain": "Case Number                object\nDate                       object\nYear                      float64\nType                       object\nCountry                    object\nArea                       object\nLocation                   object\nActivity                   object\nName                       object\nSex                        object\nAge                        object\nInjury                     object\nFatal (Y/N)                object\nTime                       object\nSpecies                    object\nInvestigator or Source     object\npdf                        object\nhref formula               object\nhref                       object\nCase Number.1              object\nCase Number.2              object\noriginal order            float64\nUnnamed: 22                object\nUnnamed: 23                object\ndtype: object"
     },
     "execution_count": 37,
     "metadata": {},
     "output_type": "execute_result"
    }
   ],
   "source": [
    "shark_data.dtypes"
   ],
   "metadata": {
    "collapsed": false,
    "pycharm": {
     "name": "#%%\n"
    }
   }
  },
  {
   "cell_type": "code",
   "execution_count": 7,
   "outputs": [
    {
     "data": {
      "text/plain": "<AxesSubplot:>"
     },
     "execution_count": 7,
     "metadata": {},
     "output_type": "execute_result"
    },
    {
     "data": {
      "text/plain": "<Figure size 432x288 with 2 Axes>",
      "image/png": "[encoded data removed]"
     },
     "metadata": {
      "needs_background": "light"
     },
     "output_type": "display_data"
    }
   ],
   "source": [
    "%matplotlib inline\n",
    "\n",
    "sns.heatmap(shark_data.isnull())\n",
    "#plt.show()"
   ],
   "metadata": {
    "collapsed": false,
    "pycharm": {
     "name": "#%%\n"
    }
   }
  },
  {
   "cell_type": "markdown",
   "source": [
    "## Data cleaning and manipulation."
   ],
   "metadata": {
    "collapsed": false
   }
  },
  {
   "cell_type": "markdown",
   "source": [
    "#### ____Check and drop blank lines:____\n",
    "\n",
    "---"
   ],
   "metadata": {
    "collapsed": false,
    "pycharm": {
     "name": "#%% md\n"
    }
   }
  },
  {
   "cell_type": "code",
   "execution_count": 188,
   "outputs": [
    {
     "data": {
      "text/plain": "      Case Number         Date    Year        Type    Country  \\\n0      2018.06.25  25-Jun-2018  2018.0     Boating        USA   \n1      2018.06.18  18-Jun-2018  2018.0  Unprovoked        USA   \n2      2018.06.09  09-Jun-2018  2018.0     Invalid        USA   \n3      2018.06.08  08-Jun-2018  2018.0  Unprovoked  AUSTRALIA   \n4      2018.06.04  04-Jun-2018  2018.0    Provoked     MEXICO   \n...           ...          ...     ...         ...        ...   \n8698            0          NaN     NaN         NaN        NaN   \n8699            0          NaN     NaN         NaN        NaN   \n8700            0          NaN     NaN         NaN        NaN   \n8701            0          NaN     NaN         NaN        NaN   \n25722          xx          NaN     NaN         NaN        NaN   \n\n                  Area                        Location     Activity  \\\n0           California     Oceanside, San Diego County     Paddling   \n1              Georgia  St. Simon Island, Glynn County     Standing   \n2               Hawaii                    Habush, Oahu      Surfing   \n3      New South Wales              Arrawarra Headland      Surfing   \n4               Colima                        La Ticla  Free diving   \n...                ...                             ...          ...   \n8698               NaN                             NaN          NaN   \n8699               NaN                             NaN          NaN   \n8700               NaN                             NaN          NaN   \n8701               NaN                             NaN          NaN   \n25722              NaN                             NaN          NaN   \n\n                  Name Sex   ...         Species   \\\n0          Julie Wolfe    F  ...      White shark   \n1      Adyson McNeely     F  ...              NaN   \n2          John Denges    M  ...              NaN   \n3                 male    M  ...        2 m shark   \n4       Gustavo Ramos     M  ...  Tiger shark, 3m   \n...                ...  ...  ...              ...   \n8698               NaN  NaN  ...              NaN   \n8699               NaN  NaN  ...              NaN   \n8700               NaN  NaN  ...              NaN   \n8701               NaN  NaN  ...              NaN   \n25722              NaN  NaN  ...              NaN   \n\n               Investigator or Source                       pdf  \\\n0                    R. Collier, GSAF      2018.06.25-Wolfe.pdf   \n1      K.McMurray, TrackingSharks.com    2018.06.18-McNeely.pdf   \n2      K.McMurray, TrackingSharks.com     2018.06.09-Denges.pdf   \n3                      B. Myatt, GSAF  2018.06.08-Arrawarra.pdf   \n4                           A .Kipper      2018.06.04-Ramos.pdf   \n...                               ...                       ...   \n8698                              NaN                       NaN   \n8699                              NaN                       NaN   \n8700                              NaN                       NaN   \n8701                              NaN                       NaN   \n25722                             NaN                       NaN   \n\n                                            href formula  \\\n0      http://sharkattackfile.net/spreadsheets/pdf_di...   \n1      http://sharkattackfile.net/spreadsheets/pdf_di...   \n2      http://sharkattackfile.net/spreadsheets/pdf_di...   \n3      http://sharkattackfile.net/spreadsheets/pdf_di...   \n4      http://sharkattackfile.net/spreadsheets/pdf_di...   \n...                                                  ...   \n8698                                                 NaN   \n8699                                                 NaN   \n8700                                                 NaN   \n8701                                                 NaN   \n25722                                                NaN   \n\n                                                    href Case Number.1  \\\n0      http://sharkattackfile.net/spreadsheets/pdf_di...    2018.06.25   \n1      http://sharkattackfile.net/spreadsheets/pdf_di...    2018.06.18   \n2      http://sharkattackfile.net/spreadsheets/pdf_di...    2018.06.09   \n3      http://sharkattackfile.net/spreadsheets/pdf_di...    2018.06.08   \n4      http://sharkattackfile.net/spreadsheets/pdf_di...    2018.06.04   \n...                                                  ...           ...   \n8698                                                 NaN           NaN   \n8699                                                 NaN           NaN   \n8700                                                 NaN           NaN   \n8701                                                 NaN           NaN   \n25722                                                NaN           NaN   \n\n      Case Number.2 original order Unnamed: 22 Unnamed: 23  \n0        2018.06.25         6303.0         NaN         NaN  \n1        2018.06.18         6302.0         NaN         NaN  \n2        2018.06.09         6301.0         NaN         NaN  \n3        2018.06.08         6300.0         NaN         NaN  \n4        2018.06.04         6299.0         NaN         NaN  \n...             ...            ...         ...         ...  \n8698            NaN            NaN         NaN         NaN  \n8699            NaN            NaN         NaN         NaN  \n8700            NaN            NaN         NaN         NaN  \n8701            NaN            NaN         NaN         NaN  \n25722           NaN            NaN         NaN         NaN  \n\n[8703 rows x 24 columns]",
      "text/html": "<div>\n<style scoped>\n    .dataframe tbody tr th:only-of-type {\n        vertical-align: middle;\n    }\n\n    .dataframe tbody tr th {\n        vertical-align: top;\n    }\n\n    .dataframe thead th {\n        text-align: right;\n    }\n</style>\n<table border=\"1\" class=\"dataframe\">\n  <thead>\n    <tr style=\"text-align: right;\">\n      <th></th>\n      <th>Case Number</th>\n      <th>Date</th>\n      <th>Year</th>\n      <th>Type</th>\n      <th>Country</th>\n      <th>Area</th>\n      <th>Location</th>\n      <th>Activity</th>\n      <th>Name</th>\n      <th>Sex</th>\n      <th>...</th>\n      <th>Species</th>\n      <th>Investigator or Source</th>\n      <th>pdf</th>\n      <th>href formula</th>\n      <th>href</th>\n      <th>Case Number.1</th>\n      <th>Case Number.2</th>\n      <th>original order</th>\n      <th>Unnamed: 22</th>\n      <th>Unnamed: 23</th>\n    </tr>\n  </thead>\n  <tbody>\n    <tr>\n      <th>0</th>\n      <td>2018.06.25</td>\n      <td>25-Jun-2018</td>\n      <td>2018.0</td>\n      <td>Boating</td>\n      <td>USA</td>\n      <td>California</td>\n      <td>Oceanside, San Diego County</td>\n      <td>Paddling</td>\n      <td>Julie Wolfe</td>\n      <td>F</td>\n      <td>...</td>\n      <td>White shark</td>\n      <td>R. Collier, GSAF</td>\n      <td>2018.06.25-Wolfe.pdf</td>\n      <td>http://sharkattackfile.net/spreadsheets/pdf_di...</td>\n      <td>http://sharkattackfile.net/spreadsheets/pdf_di...</td>\n      <td>2018.06.25</td>\n      <td>2018.06.25</td>\n      <td>6303.0</td>\n      <td>NaN</td>\n      <td>NaN</td>\n    </tr>\n    <tr>\n      <th>1</th>\n      <td>2018.06.18</td>\n      <td>18-Jun-2018</td>\n      <td>2018.0</td>\n      <td>Unprovoked</td>\n      <td>USA</td>\n      <td>Georgia</td>\n      <td>St. Simon Island, Glynn County</td>\n      <td>Standing</td>\n      <td>Adyson McNeely</td>\n      <td>F</td>\n      <td>...</td>\n      <td>NaN</td>\n      <td>K.McMurray, TrackingSharks.com</td>\n      <td>2018.06.18-McNeely.pdf</td>\n      <td>http://sharkattackfile.net/spreadsheets/pdf_di...</td>\n      <td>http://sharkattackfile.net/spreadsheets/pdf_di...</td>\n      <td>2018.06.18</td>\n      <td>2018.06.18</td>\n      <td>6302.0</td>\n      <td>NaN</td>\n      <td>NaN</td>\n    </tr>\n    <tr>\n      <th>2</th>\n      <td>2018.06.09</td>\n      <td>09-Jun-2018</td>\n      <td>2018.0</td>\n      <td>Invalid</td>\n      <td>USA</td>\n      <td>Hawaii</td>\n      <td>Habush, Oahu</td>\n      <td>Surfing</td>\n      <td>John Denges</td>\n      <td>M</td>\n      <td>...</td>\n      <td>NaN</td>\n      <td>K.McMurray, TrackingSharks.com</td>\n      <td>2018.06.09-Denges.pdf</td>\n      <td>http://sharkattackfile.net/spreadsheets/pdf_di...</td>\n      <td>http://sharkattackfile.net/spreadsheets/pdf_di...</td>\n      <td>2018.06.09</td>\n      <td>2018.06.09</td>\n      <td>6301.0</td>\n      <td>NaN</td>\n      <td>NaN</td>\n    </tr>\n    <tr>\n      <th>3</th>\n      <td>2018.06.08</td>\n      <td>08-Jun-2018</td>\n      <td>2018.0</td>\n      <td>Unprovoked</td>\n      <td>AUSTRALIA</td>\n      <td>New South Wales</td>\n      <td>Arrawarra Headland</td>\n      <td>Surfing</td>\n      <td>male</td>\n      <td>M</td>\n      <td>...</td>\n      <td>2 m shark</td>\n      <td>B. Myatt, GSAF</td>\n      <td>2018.06.08-Arrawarra.pdf</td>\n      <td>http://sharkattackfile.net/spreadsheets/pdf_di...</td>\n      <td>http://sharkattackfile.net/spreadsheets/pdf_di...</td>\n      <td>2018.06.08</td>\n      <td>2018.06.08</td>\n      <td>6300.0</td>\n      <td>NaN</td>\n      <td>NaN</td>\n    </tr>\n    <tr>\n      <th>4</th>\n      <td>2018.06.04</td>\n      <td>04-Jun-2018</td>\n      <td>2018.0</td>\n      <td>Provoked</td>\n      <td>MEXICO</td>\n      <td>Colima</td>\n      <td>La Ticla</td>\n      <td>Free diving</td>\n      <td>Gustavo Ramos</td>\n      <td>M</td>\n      <td>...</td>\n      <td>Tiger shark, 3m</td>\n      <td>A .Kipper</td>\n      <td>2018.06.04-Ramos.pdf</td>\n      <td>http://sharkattackfile.net/spreadsheets/pdf_di...</td>\n      <td>http://sharkattackfile.net/spreadsheets/pdf_di...</td>\n      <td>2018.06.04</td>\n      <td>2018.06.04</td>\n      <td>6299.0</td>\n      <td>NaN</td>\n      <td>NaN</td>\n    </tr>\n    <tr>\n      <th>...</th>\n      <td>...</td>\n      <td>...</td>\n      <td>...</td>\n      <td>...</td>\n      <td>...</td>\n      <td>...</td>\n      <td>...</td>\n      <td>...</td>\n      <td>...</td>\n      <td>...</td>\n      <td>...</td>\n      <td>...</td>\n      <td>...</td>\n      <td>...</td>\n      <td>...</td>\n      <td>...</td>\n      <td>...</td>\n      <td>...</td>\n      <td>...</td>\n      <td>...</td>\n      <td>...</td>\n    </tr>\n    <tr>\n      <th>8698</th>\n      <td>0</td>\n      <td>NaN</td>\n      <td>NaN</td>\n      <td>NaN</td>\n      <td>NaN</td>\n      <td>NaN</td>\n      <td>NaN</td>\n      <td>NaN</td>\n      <td>NaN</td>\n      <td>NaN</td>\n      <td>...</td>\n      <td>NaN</td>\n      <td>NaN</td>\n      <td>NaN</td>\n      <td>NaN</td>\n      <td>NaN</td>\n      <td>NaN</td>\n      <td>NaN</td>\n      <td>NaN</td>\n      <td>NaN</td>\n      <td>NaN</td>\n    </tr>\n    <tr>\n      <th>8699</th>\n      <td>0</td>\n      <td>NaN</td>\n      <td>NaN</td>\n      <td>NaN</td>\n      <td>NaN</td>\n      <td>NaN</td>\n      <td>NaN</td>\n      <td>NaN</td>\n      <td>NaN</td>\n      <td>NaN</td>\n      <td>...</td>\n      <td>NaN</td>\n      <td>NaN</td>\n      <td>NaN</td>\n      <td>NaN</td>\n      <td>NaN</td>\n      <td>NaN</td>\n      <td>NaN</td>\n      <td>NaN</td>\n      <td>NaN</td>\n      <td>NaN</td>\n    </tr>\n    <tr>\n      <th>8700</th>\n      <td>0</td>\n      <td>NaN</td>\n      <td>NaN</td>\n      <td>NaN</td>\n      <td>NaN</td>\n      <td>NaN</td>\n      <td>NaN</td>\n      <td>NaN</td>\n      <td>NaN</td>\n      <td>NaN</td>\n      <td>...</td>\n      <td>NaN</td>\n      <td>NaN</td>\n      <td>NaN</td>\n      <td>NaN</td>\n      <td>NaN</td>\n      <td>NaN</td>\n      <td>NaN</td>\n      <td>NaN</td>\n      <td>NaN</td>\n      <td>NaN</td>\n    </tr>\n    <tr>\n      <th>8701</th>\n      <td>0</td>\n      <td>NaN</td>\n      <td>NaN</td>\n      <td>NaN</td>\n      <td>NaN</td>\n      <td>NaN</td>\n      <td>NaN</td>\n      <td>NaN</td>\n      <td>NaN</td>\n      <td>NaN</td>\n      <td>...</td>\n      <td>NaN</td>\n      <td>NaN</td>\n      <td>NaN</td>\n      <td>NaN</td>\n      <td>NaN</td>\n      <td>NaN</td>\n      <td>NaN</td>\n      <td>NaN</td>\n      <td>NaN</td>\n      <td>NaN</td>\n    </tr>\n    <tr>\n      <th>25722</th>\n      <td>xx</td>\n      <td>NaN</td>\n      <td>NaN</td>\n      <td>NaN</td>\n      <td>NaN</td>\n      <td>NaN</td>\n      <td>NaN</td>\n      <td>NaN</td>\n      <td>NaN</td>\n      <td>NaN</td>\n      <td>...</td>\n      <td>NaN</td>\n      <td>NaN</td>\n      <td>NaN</td>\n      <td>NaN</td>\n      <td>NaN</td>\n      <td>NaN</td>\n      <td>NaN</td>\n      <td>NaN</td>\n      <td>NaN</td>\n      <td>NaN</td>\n    </tr>\n  </tbody>\n</table>\n<p>8703 rows × 24 columns</p>\n</div>"
     },
     "execution_count": 188,
     "metadata": {},
     "output_type": "execute_result"
    }
   ],
   "source": [
    "lines_to_drop = shark_data.isnull().sum(axis=1) #crio a máscara que soma a quantidade de dados nulos NAS LINHAS\n",
    "shark_data[lines_to_drop >= len(shark_data.columns)] #aplico a máscara que verifica as linhas com todas as entradas nulas\n",
    "shark_data = shark_data.drop(shark_data[lines_to_drop >= len(shark_data.columns)].index) #aplico a máscara no drop e atribuo o resultado à variável para não fazer inplace\n",
    "shark_data"
   ],
   "metadata": {
    "collapsed": false,
    "pycharm": {
     "name": "#%%\n"
    }
   }
  },
  {
   "cell_type": "markdown",
   "source": [
    "#### ____Check and drop blank and unwanted columns:____\n",
    "\n",
    "---"
   ],
   "metadata": {
    "collapsed": false,
    "pycharm": {
     "name": "#%% md\n"
    }
   }
  },
  {
   "cell_type": "code",
   "execution_count": 189,
   "outputs": [
    {
     "data": {
      "text/plain": "      Case Number         Date    Year        Type    Country  \\\n0      2018.06.25  25-Jun-2018  2018.0     Boating        USA   \n1      2018.06.18  18-Jun-2018  2018.0  Unprovoked        USA   \n2      2018.06.09  09-Jun-2018  2018.0     Invalid        USA   \n3      2018.06.08  08-Jun-2018  2018.0  Unprovoked  AUSTRALIA   \n4      2018.06.04  04-Jun-2018  2018.0    Provoked     MEXICO   \n...           ...          ...     ...         ...        ...   \n8698            0          NaN     NaN         NaN        NaN   \n8699            0          NaN     NaN         NaN        NaN   \n8700            0          NaN     NaN         NaN        NaN   \n8701            0          NaN     NaN         NaN        NaN   \n25722          xx          NaN     NaN         NaN        NaN   \n\n                  Area                        Location     Activity  \\\n0           California     Oceanside, San Diego County     Paddling   \n1              Georgia  St. Simon Island, Glynn County     Standing   \n2               Hawaii                    Habush, Oahu      Surfing   \n3      New South Wales              Arrawarra Headland      Surfing   \n4               Colima                        La Ticla  Free diving   \n...                ...                             ...          ...   \n8698               NaN                             NaN          NaN   \n8699               NaN                             NaN          NaN   \n8700               NaN                             NaN          NaN   \n8701               NaN                             NaN          NaN   \n25722              NaN                             NaN          NaN   \n\n                  Name Sex   Age  \\\n0          Julie Wolfe    F   57   \n1      Adyson McNeely     F   11   \n2          John Denges    M   48   \n3                 male    M  NaN   \n4       Gustavo Ramos     M  NaN   \n...                ...  ...  ...   \n8698               NaN  NaN  NaN   \n8699               NaN  NaN  NaN   \n8700               NaN  NaN  NaN   \n8701               NaN  NaN  NaN   \n25722              NaN  NaN  NaN   \n\n                                                  Injury Fatal (Y/N)  \\\n0      No injury to occupant, outrigger canoe and pad...           N   \n1                             Minor injury to left thigh           N   \n2           Injury to left lower leg from surfboard skeg           N   \n3                              Minor injury to lower leg           N   \n4      Lacerations to leg & hand shark PROVOKED INCIDENT           N   \n...                                                  ...         ...   \n8698                                                 NaN         NaN   \n8699                                                 NaN         NaN   \n8700                                                 NaN         NaN   \n8701                                                 NaN         NaN   \n25722                                                NaN         NaN   \n\n                Time         Species  Case Number.1 Case Number.2  \\\n0              18h00      White shark    2018.06.25    2018.06.25   \n1      14h00  -15h00              NaN    2018.06.18    2018.06.18   \n2              07h45              NaN    2018.06.09    2018.06.09   \n3                NaN        2 m shark    2018.06.08    2018.06.08   \n4                NaN  Tiger shark, 3m    2018.06.04    2018.06.04   \n...              ...              ...           ...           ...   \n8698             NaN              NaN           NaN           NaN   \n8699             NaN              NaN           NaN           NaN   \n8700             NaN              NaN           NaN           NaN   \n8701             NaN              NaN           NaN           NaN   \n25722            NaN              NaN           NaN           NaN   \n\n       original order  \n0              6303.0  \n1              6302.0  \n2              6301.0  \n3              6300.0  \n4              6299.0  \n...               ...  \n8698              NaN  \n8699              NaN  \n8700              NaN  \n8701              NaN  \n25722             NaN  \n\n[8703 rows x 18 columns]",
      "text/html": "<div>\n<style scoped>\n    .dataframe tbody tr th:only-of-type {\n        vertical-align: middle;\n    }\n\n    .dataframe tbody tr th {\n        vertical-align: top;\n    }\n\n    .dataframe thead th {\n        text-align: right;\n    }\n</style>\n<table border=\"1\" class=\"dataframe\">\n  <thead>\n    <tr style=\"text-align: right;\">\n      <th></th>\n      <th>Case Number</th>\n      <th>Date</th>\n      <th>Year</th>\n      <th>Type</th>\n      <th>Country</th>\n      <th>Area</th>\n      <th>Location</th>\n      <th>Activity</th>\n      <th>Name</th>\n      <th>Sex</th>\n      <th>Age</th>\n      <th>Injury</th>\n      <th>Fatal (Y/N)</th>\n      <th>Time</th>\n      <th>Species</th>\n      <th>Case Number.1</th>\n      <th>Case Number.2</th>\n      <th>original order</th>\n    </tr>\n  </thead>\n  <tbody>\n    <tr>\n      <th>0</th>\n      <td>2018.06.25</td>\n      <td>25-Jun-2018</td>\n      <td>2018.0</td>\n      <td>Boating</td>\n      <td>USA</td>\n      <td>California</td>\n      <td>Oceanside, San Diego County</td>\n      <td>Paddling</td>\n      <td>Julie Wolfe</td>\n      <td>F</td>\n      <td>57</td>\n      <td>No injury to occupant, outrigger canoe and pad...</td>\n      <td>N</td>\n      <td>18h00</td>\n      <td>White shark</td>\n      <td>2018.06.25</td>\n      <td>2018.06.25</td>\n      <td>6303.0</td>\n    </tr>\n    <tr>\n      <th>1</th>\n      <td>2018.06.18</td>\n      <td>18-Jun-2018</td>\n      <td>2018.0</td>\n      <td>Unprovoked</td>\n      <td>USA</td>\n      <td>Georgia</td>\n      <td>St. Simon Island, Glynn County</td>\n      <td>Standing</td>\n      <td>Adyson McNeely</td>\n      <td>F</td>\n      <td>11</td>\n      <td>Minor injury to left thigh</td>\n      <td>N</td>\n      <td>14h00  -15h00</td>\n      <td>NaN</td>\n      <td>2018.06.18</td>\n      <td>2018.06.18</td>\n      <td>6302.0</td>\n    </tr>\n    <tr>\n      <th>2</th>\n      <td>2018.06.09</td>\n      <td>09-Jun-2018</td>\n      <td>2018.0</td>\n      <td>Invalid</td>\n      <td>USA</td>\n      <td>Hawaii</td>\n      <td>Habush, Oahu</td>\n      <td>Surfing</td>\n      <td>John Denges</td>\n      <td>M</td>\n      <td>48</td>\n      <td>Injury to left lower leg from surfboard skeg</td>\n      <td>N</td>\n      <td>07h45</td>\n      <td>NaN</td>\n      <td>2018.06.09</td>\n      <td>2018.06.09</td>\n      <td>6301.0</td>\n    </tr>\n    <tr>\n      <th>3</th>\n      <td>2018.06.08</td>\n      <td>08-Jun-2018</td>\n      <td>2018.0</td>\n      <td>Unprovoked</td>\n      <td>AUSTRALIA</td>\n      <td>New South Wales</td>\n      <td>Arrawarra Headland</td>\n      <td>Surfing</td>\n      <td>male</td>\n      <td>M</td>\n      <td>NaN</td>\n      <td>Minor injury to lower leg</td>\n      <td>N</td>\n      <td>NaN</td>\n      <td>2 m shark</td>\n      <td>2018.06.08</td>\n      <td>2018.06.08</td>\n      <td>6300.0</td>\n    </tr>\n    <tr>\n      <th>4</th>\n      <td>2018.06.04</td>\n      <td>04-Jun-2018</td>\n      <td>2018.0</td>\n      <td>Provoked</td>\n      <td>MEXICO</td>\n      <td>Colima</td>\n      <td>La Ticla</td>\n      <td>Free diving</td>\n      <td>Gustavo Ramos</td>\n      <td>M</td>\n      <td>NaN</td>\n      <td>Lacerations to leg &amp; hand shark PROVOKED INCIDENT</td>\n      <td>N</td>\n      <td>NaN</td>\n      <td>Tiger shark, 3m</td>\n      <td>2018.06.04</td>\n      <td>2018.06.04</td>\n      <td>6299.0</td>\n    </tr>\n    <tr>\n      <th>...</th>\n      <td>...</td>\n      <td>...</td>\n      <td>...</td>\n      <td>...</td>\n      <td>...</td>\n      <td>...</td>\n      <td>...</td>\n      <td>...</td>\n      <td>...</td>\n      <td>...</td>\n      <td>...</td>\n      <td>...</td>\n      <td>...</td>\n      <td>...</td>\n      <td>...</td>\n      <td>...</td>\n      <td>...</td>\n      <td>...</td>\n    </tr>\n    <tr>\n      <th>8698</th>\n      <td>0</td>\n      <td>NaN</td>\n      <td>NaN</td>\n      <td>NaN</td>\n      <td>NaN</td>\n      <td>NaN</td>\n      <td>NaN</td>\n      <td>NaN</td>\n      <td>NaN</td>\n      <td>NaN</td>\n      <td>NaN</td>\n      <td>NaN</td>\n      <td>NaN</td>\n      <td>NaN</td>\n      <td>NaN</td>\n      <td>NaN</td>\n      <td>NaN</td>\n      <td>NaN</td>\n    </tr>\n    <tr>\n      <th>8699</th>\n      <td>0</td>\n      <td>NaN</td>\n      <td>NaN</td>\n      <td>NaN</td>\n      <td>NaN</td>\n      <td>NaN</td>\n      <td>NaN</td>\n      <td>NaN</td>\n      <td>NaN</td>\n      <td>NaN</td>\n      <td>NaN</td>\n      <td>NaN</td>\n      <td>NaN</td>\n      <td>NaN</td>\n      <td>NaN</td>\n      <td>NaN</td>\n      <td>NaN</td>\n      <td>NaN</td>\n    </tr>\n    <tr>\n      <th>8700</th>\n      <td>0</td>\n      <td>NaN</td>\n      <td>NaN</td>\n      <td>NaN</td>\n      <td>NaN</td>\n      <td>NaN</td>\n      <td>NaN</td>\n      <td>NaN</td>\n      <td>NaN</td>\n      <td>NaN</td>\n      <td>NaN</td>\n      <td>NaN</td>\n      <td>NaN</td>\n      <td>NaN</td>\n      <td>NaN</td>\n      <td>NaN</td>\n      <td>NaN</td>\n      <td>NaN</td>\n    </tr>\n    <tr>\n      <th>8701</th>\n      <td>0</td>\n      <td>NaN</td>\n      <td>NaN</td>\n      <td>NaN</td>\n      <td>NaN</td>\n      <td>NaN</td>\n      <td>NaN</td>\n      <td>NaN</td>\n      <td>NaN</td>\n      <td>NaN</td>\n      <td>NaN</td>\n      <td>NaN</td>\n      <td>NaN</td>\n      <td>NaN</td>\n      <td>NaN</td>\n      <td>NaN</td>\n      <td>NaN</td>\n      <td>NaN</td>\n    </tr>\n    <tr>\n      <th>25722</th>\n      <td>xx</td>\n      <td>NaN</td>\n      <td>NaN</td>\n      <td>NaN</td>\n      <td>NaN</td>\n      <td>NaN</td>\n      <td>NaN</td>\n      <td>NaN</td>\n      <td>NaN</td>\n      <td>NaN</td>\n      <td>NaN</td>\n      <td>NaN</td>\n      <td>NaN</td>\n      <td>NaN</td>\n      <td>NaN</td>\n      <td>NaN</td>\n      <td>NaN</td>\n      <td>NaN</td>\n    </tr>\n  </tbody>\n</table>\n<p>8703 rows × 18 columns</p>\n</div>"
     },
     "execution_count": 189,
     "metadata": {},
     "output_type": "execute_result"
    }
   ],
   "source": [
    "columns_to_drop = shark_data[:][:].isnull().sum()#crio a máscara que soma a quantidade de dados nulos NAS COLUNAS\n",
    "\n",
    "#shark_data[columns_to_drop <= (len(shark_data)*.95)] #aplico a máscara que verifica as colunas com pelo menos 95% das entradas nulas\n",
    "#shark_data = shark_data.drop(shark_data[columns_to_drop <= (len(shark_data)*.95).columns])#aplico a máscara no drop e atribuo o resultado à variável para não fazer inplace\n",
    "#DROP IRRELEVANT COLUMNS ACCORDING TO THIS PROJECTS PURPOSE/SCOPE\n",
    "shark_data = shark_data.drop(columns=[\"Unnamed: 22\",\"Unnamed: 23\",\"Investigator or Source\",\"href\",\"href formula\",\"pdf\"])\n",
    "shark_data"
   ],
   "metadata": {
    "collapsed": false,
    "pycharm": {
     "name": "#%%\n"
    }
   }
  },
  {
   "cell_type": "markdown",
   "source": [
    "### Check possibly duplicated and unwanted columns:\n",
    "\n",
    "---\n"
   ],
   "metadata": {
    "collapsed": false,
    "pycharm": {
     "name": "#%% md\n"
    }
   }
  },
  {
   "cell_type": "code",
   "execution_count": 190,
   "outputs": [
    {
     "data": {
      "text/plain": "              Date    Year        Type    Country             Area  \\\n0      25-Jun-2018  2018.0     Boating        USA       California   \n1      18-Jun-2018  2018.0  Unprovoked        USA          Georgia   \n2      09-Jun-2018  2018.0     Invalid        USA           Hawaii   \n3      08-Jun-2018  2018.0  Unprovoked  AUSTRALIA  New South Wales   \n4      04-Jun-2018  2018.0    Provoked     MEXICO           Colima   \n...            ...     ...         ...        ...              ...   \n8698           NaN     NaN         NaN        NaN              NaN   \n8699           NaN     NaN         NaN        NaN              NaN   \n8700           NaN     NaN         NaN        NaN              NaN   \n8701           NaN     NaN         NaN        NaN              NaN   \n25722          NaN     NaN         NaN        NaN              NaN   \n\n                             Location     Activity             Name Sex   Age  \\\n0         Oceanside, San Diego County     Paddling      Julie Wolfe    F   57   \n1      St. Simon Island, Glynn County     Standing  Adyson McNeely     F   11   \n2                        Habush, Oahu      Surfing      John Denges    M   48   \n3                  Arrawarra Headland      Surfing             male    M  NaN   \n4                            La Ticla  Free diving   Gustavo Ramos     M  NaN   \n...                               ...          ...              ...  ...  ...   \n8698                              NaN          NaN              NaN  NaN  NaN   \n8699                              NaN          NaN              NaN  NaN  NaN   \n8700                              NaN          NaN              NaN  NaN  NaN   \n8701                              NaN          NaN              NaN  NaN  NaN   \n25722                             NaN          NaN              NaN  NaN  NaN   \n\n                                                  Injury Fatal (Y/N)  \\\n0      No injury to occupant, outrigger canoe and pad...           N   \n1                             Minor injury to left thigh           N   \n2           Injury to left lower leg from surfboard skeg           N   \n3                              Minor injury to lower leg           N   \n4      Lacerations to leg & hand shark PROVOKED INCIDENT           N   \n...                                                  ...         ...   \n8698                                                 NaN         NaN   \n8699                                                 NaN         NaN   \n8700                                                 NaN         NaN   \n8701                                                 NaN         NaN   \n25722                                                NaN         NaN   \n\n                Time         Species   original order  \n0              18h00      White shark          6303.0  \n1      14h00  -15h00              NaN          6302.0  \n2              07h45              NaN          6301.0  \n3                NaN        2 m shark          6300.0  \n4                NaN  Tiger shark, 3m          6299.0  \n...              ...              ...             ...  \n8698             NaN              NaN             NaN  \n8699             NaN              NaN             NaN  \n8700             NaN              NaN             NaN  \n8701             NaN              NaN             NaN  \n25722            NaN              NaN             NaN  \n\n[8703 rows x 15 columns]",
      "text/html": "<div>\n<style scoped>\n    .dataframe tbody tr th:only-of-type {\n        vertical-align: middle;\n    }\n\n    .dataframe tbody tr th {\n        vertical-align: top;\n    }\n\n    .dataframe thead th {\n        text-align: right;\n    }\n</style>\n<table border=\"1\" class=\"dataframe\">\n  <thead>\n    <tr style=\"text-align: right;\">\n      <th></th>\n      <th>Date</th>\n      <th>Year</th>\n      <th>Type</th>\n      <th>Country</th>\n      <th>Area</th>\n      <th>Location</th>\n      <th>Activity</th>\n      <th>Name</th>\n      <th>Sex</th>\n      <th>Age</th>\n      <th>Injury</th>\n      <th>Fatal (Y/N)</th>\n      <th>Time</th>\n      <th>Species</th>\n      <th>original order</th>\n    </tr>\n  </thead>\n  <tbody>\n    <tr>\n      <th>0</th>\n      <td>25-Jun-2018</td>\n      <td>2018.0</td>\n      <td>Boating</td>\n      <td>USA</td>\n      <td>California</td>\n      <td>Oceanside, San Diego County</td>\n      <td>Paddling</td>\n      <td>Julie Wolfe</td>\n      <td>F</td>\n      <td>57</td>\n      <td>No injury to occupant, outrigger canoe and pad...</td>\n      <td>N</td>\n      <td>18h00</td>\n      <td>White shark</td>\n      <td>6303.0</td>\n    </tr>\n    <tr>\n      <th>1</th>\n      <td>18-Jun-2018</td>\n      <td>2018.0</td>\n      <td>Unprovoked</td>\n      <td>USA</td>\n      <td>Georgia</td>\n      <td>St. Simon Island, Glynn County</td>\n      <td>Standing</td>\n      <td>Adyson McNeely</td>\n      <td>F</td>\n      <td>11</td>\n      <td>Minor injury to left thigh</td>\n      <td>N</td>\n      <td>14h00  -15h00</td>\n      <td>NaN</td>\n      <td>6302.0</td>\n    </tr>\n    <tr>\n      <th>2</th>\n      <td>09-Jun-2018</td>\n      <td>2018.0</td>\n      <td>Invalid</td>\n      <td>USA</td>\n      <td>Hawaii</td>\n      <td>Habush, Oahu</td>\n      <td>Surfing</td>\n      <td>John Denges</td>\n      <td>M</td>\n      <td>48</td>\n      <td>Injury to left lower leg from surfboard skeg</td>\n      <td>N</td>\n      <td>07h45</td>\n      <td>NaN</td>\n      <td>6301.0</td>\n    </tr>\n    <tr>\n      <th>3</th>\n      <td>08-Jun-2018</td>\n      <td>2018.0</td>\n      <td>Unprovoked</td>\n      <td>AUSTRALIA</td>\n      <td>New South Wales</td>\n      <td>Arrawarra Headland</td>\n      <td>Surfing</td>\n      <td>male</td>\n      <td>M</td>\n      <td>NaN</td>\n      <td>Minor injury to lower leg</td>\n      <td>N</td>\n      <td>NaN</td>\n      <td>2 m shark</td>\n      <td>6300.0</td>\n    </tr>\n    <tr>\n      <th>4</th>\n      <td>04-Jun-2018</td>\n      <td>2018.0</td>\n      <td>Provoked</td>\n      <td>MEXICO</td>\n      <td>Colima</td>\n      <td>La Ticla</td>\n      <td>Free diving</td>\n      <td>Gustavo Ramos</td>\n      <td>M</td>\n      <td>NaN</td>\n      <td>Lacerations to leg &amp; hand shark PROVOKED INCIDENT</td>\n      <td>N</td>\n      <td>NaN</td>\n      <td>Tiger shark, 3m</td>\n      <td>6299.0</td>\n    </tr>\n    <tr>\n      <th>...</th>\n      <td>...</td>\n      <td>...</td>\n      <td>...</td>\n      <td>...</td>\n      <td>...</td>\n      <td>...</td>\n      <td>...</td>\n      <td>...</td>\n      <td>...</td>\n      <td>...</td>\n      <td>...</td>\n      <td>...</td>\n      <td>...</td>\n      <td>...</td>\n      <td>...</td>\n    </tr>\n    <tr>\n      <th>8698</th>\n      <td>NaN</td>\n      <td>NaN</td>\n      <td>NaN</td>\n      <td>NaN</td>\n      <td>NaN</td>\n      <td>NaN</td>\n      <td>NaN</td>\n      <td>NaN</td>\n      <td>NaN</td>\n      <td>NaN</td>\n      <td>NaN</td>\n      <td>NaN</td>\n      <td>NaN</td>\n      <td>NaN</td>\n      <td>NaN</td>\n    </tr>\n    <tr>\n      <th>8699</th>\n      <td>NaN</td>\n      <td>NaN</td>\n      <td>NaN</td>\n      <td>NaN</td>\n      <td>NaN</td>\n      <td>NaN</td>\n      <td>NaN</td>\n      <td>NaN</td>\n      <td>NaN</td>\n      <td>NaN</td>\n      <td>NaN</td>\n      <td>NaN</td>\n      <td>NaN</td>\n      <td>NaN</td>\n      <td>NaN</td>\n    </tr>\n    <tr>\n      <th>8700</th>\n      <td>NaN</td>\n      <td>NaN</td>\n      <td>NaN</td>\n      <td>NaN</td>\n      <td>NaN</td>\n      <td>NaN</td>\n      <td>NaN</td>\n      <td>NaN</td>\n      <td>NaN</td>\n      <td>NaN</td>\n      <td>NaN</td>\n      <td>NaN</td>\n      <td>NaN</td>\n      <td>NaN</td>\n      <td>NaN</td>\n    </tr>\n    <tr>\n      <th>8701</th>\n      <td>NaN</td>\n      <td>NaN</td>\n      <td>NaN</td>\n      <td>NaN</td>\n      <td>NaN</td>\n      <td>NaN</td>\n      <td>NaN</td>\n      <td>NaN</td>\n      <td>NaN</td>\n      <td>NaN</td>\n      <td>NaN</td>\n      <td>NaN</td>\n      <td>NaN</td>\n      <td>NaN</td>\n      <td>NaN</td>\n    </tr>\n    <tr>\n      <th>25722</th>\n      <td>NaN</td>\n      <td>NaN</td>\n      <td>NaN</td>\n      <td>NaN</td>\n      <td>NaN</td>\n      <td>NaN</td>\n      <td>NaN</td>\n      <td>NaN</td>\n      <td>NaN</td>\n      <td>NaN</td>\n      <td>NaN</td>\n      <td>NaN</td>\n      <td>NaN</td>\n      <td>NaN</td>\n      <td>NaN</td>\n    </tr>\n  </tbody>\n</table>\n<p>8703 rows × 15 columns</p>\n</div>"
     },
     "execution_count": 190,
     "metadata": {},
     "output_type": "execute_result"
    }
   ],
   "source": [
    "#shark_data[[\"Case Number\",\"Case Number.2\",\"Case Number.1\"]]\n",
    "mask = ((shark_data[\"Case Number\"] == shark_data[\"Case Number.1\"]) & (shark_data[\"Case Number\"] == shark_data[\"Case Number.2\"])).value_counts()\n",
    "#drop irrelevant (to the scope of this project) and almost identical columns\n",
    "shark_data = shark_data.drop(columns=[\"Case Number.1\",\"Case Number\",\"Case Number.2\"])\n",
    "shark_data"
   ],
   "metadata": {
    "collapsed": false,
    "pycharm": {
     "name": "#%%\n"
    }
   }
  },
  {
   "cell_type": "markdown",
   "source": [
    "### Replace NULL/NaN by 0 so we can better handle data:\n",
    "\n",
    "---"
   ],
   "metadata": {
    "collapsed": false,
    "pycharm": {
     "name": "#%% md\n"
    }
   }
  },
  {
   "cell_type": "code",
   "execution_count": 191,
   "outputs": [],
   "source": [
    "%matplotlib inline\n",
    "col_names = shark_data.columns.values.tolist()\n",
    "\n",
    "for col in col_names:\n",
    "    shark_data[f\"{col}\"] = shark_data[f\"{col}\"].fillna(0)"
   ],
   "metadata": {
    "collapsed": false,
    "pycharm": {
     "name": "#%%\n"
    }
   }
  },
  {
   "cell_type": "markdown",
   "source": [
    "#### Check replacement result:"
   ],
   "metadata": {
    "collapsed": false,
    "pycharm": {
     "name": "#%% md\n"
    }
   }
  },
  {
   "cell_type": "code",
   "execution_count": 182,
   "outputs": [
    {
     "data": {
      "text/plain": "Date              0\nYear              0\nType              0\nCountry           0\nArea              0\nLocation          0\nActivity          0\nName              0\nSex               0\nAge               0\nInjury            0\nFatal (Y/N)       0\nTime              0\nSpecies           0\noriginal order    0\ndtype: int64"
     },
     "execution_count": 182,
     "metadata": {},
     "output_type": "execute_result"
    }
   ],
   "source": [
    "shark_data.isna().sum()"
   ],
   "metadata": {
    "collapsed": false,
    "pycharm": {
     "name": "#%%\n"
    }
   }
  },
  {
   "cell_type": "markdown",
   "source": [
    "### Identify and modify data types, if needed.\n",
    "\n",
    "---"
   ],
   "metadata": {
    "collapsed": false
   }
  },
  {
   "cell_type": "code",
   "execution_count": 81,
   "outputs": [
    {
     "data": {
      "text/plain": "Date               object\nYear                int32\nType               object\nCountry            object\nArea               object\nLocation           object\nActivity           object\nName               object\nSex                object\nAge                object\nInjury             object\nFatal (Y/N)        object\nTime               object\nSpecies            object\noriginal order    float64\ndtype: object"
     },
     "execution_count": 81,
     "metadata": {},
     "output_type": "execute_result"
    }
   ],
   "source": [
    "shark_data.dtypes"
   ],
   "metadata": {
    "collapsed": false,
    "pycharm": {
     "name": "#%%\n"
    }
   }
  },
  {
   "cell_type": "code",
   "execution_count": 192,
   "outputs": [
    {
     "data": {
      "text/plain": "              Date  Year        Type    Country             Area  \\\n0      25-Jun-2018  2018     Boating        USA       California   \n1      18-Jun-2018  2018  Unprovoked        USA          Georgia   \n2      09-Jun-2018  2018     Invalid        USA           Hawaii   \n3      08-Jun-2018  2018  Unprovoked  AUSTRALIA  New South Wales   \n4      04-Jun-2018  2018    Provoked     MEXICO           Colima   \n...            ...   ...         ...        ...              ...   \n8698             0     0           0          0                0   \n8699             0     0           0          0                0   \n8700             0     0           0          0                0   \n8701             0     0           0          0                0   \n25722            0     0           0          0                0   \n\n                             Location     Activity             Name Sex  Age  \\\n0         Oceanside, San Diego County     Paddling      Julie Wolfe    F  57   \n1      St. Simon Island, Glynn County     Standing  Adyson McNeely     F  11   \n2                        Habush, Oahu      Surfing      John Denges    M  48   \n3                  Arrawarra Headland      Surfing             male    M   0   \n4                            La Ticla  Free diving   Gustavo Ramos     M   0   \n...                               ...          ...              ...  ...  ..   \n8698                                0            0                0    0   0   \n8699                                0            0                0    0   0   \n8700                                0            0                0    0   0   \n8701                                0            0                0    0   0   \n25722                               0            0                0    0   0   \n\n                                                  Injury Fatal (Y/N)  \\\n0      No injury to occupant, outrigger canoe and pad...           N   \n1                             Minor injury to left thigh           N   \n2           Injury to left lower leg from surfboard skeg           N   \n3                              Minor injury to lower leg           N   \n4      Lacerations to leg & hand shark PROVOKED INCIDENT           N   \n...                                                  ...         ...   \n8698                                                   0           0   \n8699                                                   0           0   \n8700                                                   0           0   \n8701                                                   0           0   \n25722                                                  0           0   \n\n                Time         Species   original order  \n0              18h00      White shark          6303.0  \n1      14h00  -15h00                0          6302.0  \n2              07h45                0          6301.0  \n3                  0        2 m shark          6300.0  \n4                  0  Tiger shark, 3m          6299.0  \n...              ...              ...             ...  \n8698               0                0             0.0  \n8699               0                0             0.0  \n8700               0                0             0.0  \n8701               0                0             0.0  \n25722              0                0             0.0  \n\n[8703 rows x 15 columns]",
      "text/html": "<div>\n<style scoped>\n    .dataframe tbody tr th:only-of-type {\n        vertical-align: middle;\n    }\n\n    .dataframe tbody tr th {\n        vertical-align: top;\n    }\n\n    .dataframe thead th {\n        text-align: right;\n    }\n</style>\n<table border=\"1\" class=\"dataframe\">\n  <thead>\n    <tr style=\"text-align: right;\">\n      <th></th>\n      <th>Date</th>\n      <th>Year</th>\n      <th>Type</th>\n      <th>Country</th>\n      <th>Area</th>\n      <th>Location</th>\n      <th>Activity</th>\n      <th>Name</th>\n      <th>Sex</th>\n      <th>Age</th>\n      <th>Injury</th>\n      <th>Fatal (Y/N)</th>\n      <th>Time</th>\n      <th>Species</th>\n      <th>original order</th>\n    </tr>\n  </thead>\n  <tbody>\n    <tr>\n      <th>0</th>\n      <td>25-Jun-2018</td>\n      <td>2018</td>\n      <td>Boating</td>\n      <td>USA</td>\n      <td>California</td>\n      <td>Oceanside, San Diego County</td>\n      <td>Paddling</td>\n      <td>Julie Wolfe</td>\n      <td>F</td>\n      <td>57</td>\n      <td>No injury to occupant, outrigger canoe and pad...</td>\n      <td>N</td>\n      <td>18h00</td>\n      <td>White shark</td>\n      <td>6303.0</td>\n    </tr>\n    <tr>\n      <th>1</th>\n      <td>18-Jun-2018</td>\n      <td>2018</td>\n      <td>Unprovoked</td>\n      <td>USA</td>\n      <td>Georgia</td>\n      <td>St. Simon Island, Glynn County</td>\n      <td>Standing</td>\n      <td>Adyson McNeely</td>\n      <td>F</td>\n      <td>11</td>\n      <td>Minor injury to left thigh</td>\n      <td>N</td>\n      <td>14h00  -15h00</td>\n      <td>0</td>\n      <td>6302.0</td>\n    </tr>\n    <tr>\n      <th>2</th>\n      <td>09-Jun-2018</td>\n      <td>2018</td>\n      <td>Invalid</td>\n      <td>USA</td>\n      <td>Hawaii</td>\n      <td>Habush, Oahu</td>\n      <td>Surfing</td>\n      <td>John Denges</td>\n      <td>M</td>\n      <td>48</td>\n      <td>Injury to left lower leg from surfboard skeg</td>\n      <td>N</td>\n      <td>07h45</td>\n      <td>0</td>\n      <td>6301.0</td>\n    </tr>\n    <tr>\n      <th>3</th>\n      <td>08-Jun-2018</td>\n      <td>2018</td>\n      <td>Unprovoked</td>\n      <td>AUSTRALIA</td>\n      <td>New South Wales</td>\n      <td>Arrawarra Headland</td>\n      <td>Surfing</td>\n      <td>male</td>\n      <td>M</td>\n      <td>0</td>\n      <td>Minor injury to lower leg</td>\n      <td>N</td>\n      <td>0</td>\n      <td>2 m shark</td>\n      <td>6300.0</td>\n    </tr>\n    <tr>\n      <th>4</th>\n      <td>04-Jun-2018</td>\n      <td>2018</td>\n      <td>Provoked</td>\n      <td>MEXICO</td>\n      <td>Colima</td>\n      <td>La Ticla</td>\n      <td>Free diving</td>\n      <td>Gustavo Ramos</td>\n      <td>M</td>\n      <td>0</td>\n      <td>Lacerations to leg &amp; hand shark PROVOKED INCIDENT</td>\n      <td>N</td>\n      <td>0</td>\n      <td>Tiger shark, 3m</td>\n      <td>6299.0</td>\n    </tr>\n    <tr>\n      <th>...</th>\n      <td>...</td>\n      <td>...</td>\n      <td>...</td>\n      <td>...</td>\n      <td>...</td>\n      <td>...</td>\n      <td>...</td>\n      <td>...</td>\n      <td>...</td>\n      <td>...</td>\n      <td>...</td>\n      <td>...</td>\n      <td>...</td>\n      <td>...</td>\n      <td>...</td>\n    </tr>\n    <tr>\n      <th>8698</th>\n      <td>0</td>\n      <td>0</td>\n      <td>0</td>\n      <td>0</td>\n      <td>0</td>\n      <td>0</td>\n      <td>0</td>\n      <td>0</td>\n      <td>0</td>\n      <td>0</td>\n      <td>0</td>\n      <td>0</td>\n      <td>0</td>\n      <td>0</td>\n      <td>0.0</td>\n    </tr>\n    <tr>\n      <th>8699</th>\n      <td>0</td>\n      <td>0</td>\n      <td>0</td>\n      <td>0</td>\n      <td>0</td>\n      <td>0</td>\n      <td>0</td>\n      <td>0</td>\n      <td>0</td>\n      <td>0</td>\n      <td>0</td>\n      <td>0</td>\n      <td>0</td>\n      <td>0</td>\n      <td>0.0</td>\n    </tr>\n    <tr>\n      <th>8700</th>\n      <td>0</td>\n      <td>0</td>\n      <td>0</td>\n      <td>0</td>\n      <td>0</td>\n      <td>0</td>\n      <td>0</td>\n      <td>0</td>\n      <td>0</td>\n      <td>0</td>\n      <td>0</td>\n      <td>0</td>\n      <td>0</td>\n      <td>0</td>\n      <td>0.0</td>\n    </tr>\n    <tr>\n      <th>8701</th>\n      <td>0</td>\n      <td>0</td>\n      <td>0</td>\n      <td>0</td>\n      <td>0</td>\n      <td>0</td>\n      <td>0</td>\n      <td>0</td>\n      <td>0</td>\n      <td>0</td>\n      <td>0</td>\n      <td>0</td>\n      <td>0</td>\n      <td>0</td>\n      <td>0.0</td>\n    </tr>\n    <tr>\n      <th>25722</th>\n      <td>0</td>\n      <td>0</td>\n      <td>0</td>\n      <td>0</td>\n      <td>0</td>\n      <td>0</td>\n      <td>0</td>\n      <td>0</td>\n      <td>0</td>\n      <td>0</td>\n      <td>0</td>\n      <td>0</td>\n      <td>0</td>\n      <td>0</td>\n      <td>0.0</td>\n    </tr>\n  </tbody>\n</table>\n<p>8703 rows × 15 columns</p>\n</div>"
     },
     "execution_count": 192,
     "metadata": {},
     "output_type": "execute_result"
    }
   ],
   "source": [
    "shark_data[\"Year\"] = shark_data[\"Year\"].astype(int)\n",
    "shark_data"
   ],
   "metadata": {
    "collapsed": false,
    "pycharm": {
     "name": "#%%\n"
    }
   }
  },
  {
   "cell_type": "markdown",
   "source": [
    "### Drop lines that have no value for country, area and location\n",
    "\n",
    "---\n"
   ],
   "metadata": {
    "collapsed": false,
    "pycharm": {
     "name": "#%% md\n"
    }
   }
  },
  {
   "cell_type": "code",
   "execution_count": 193,
   "outputs": [
    {
     "data": {
      "text/plain": "             Date  Year        Type             Country               Area  \\\n0     25-Jun-2018  2018     Boating                 USA         California   \n1     18-Jun-2018  2018  Unprovoked                 USA            Georgia   \n2     09-Jun-2018  2018     Invalid                 USA             Hawaii   \n3     08-Jun-2018  2018  Unprovoked           AUSTRALIA    New South Wales   \n4     04-Jun-2018  2018    Provoked              MEXICO             Colima   \n...           ...   ...         ...                 ...                ...   \n6297  Before 1903     0  Unprovoked           AUSTRALIA  Western Australia   \n6298  Before 1903     0  Unprovoked           AUSTRALIA  Western Australia   \n6299    1900-1905     0  Unprovoked                 USA     North Carolina   \n6300    1883-1889     0  Unprovoked              PANAMA                  0   \n6301    1845-1853     0  Unprovoked  CEYLON (SRI LANKA)   Eastern Province   \n\n                                 Location      Activity  \\\n0             Oceanside, San Diego County      Paddling   \n1          St. Simon Island, Glynn County      Standing   \n2                            Habush, Oahu       Surfing   \n3                      Arrawarra Headland       Surfing   \n4                                La Ticla   Free diving   \n...                                   ...           ...   \n6297                          Roebuck Bay        Diving   \n6298                                    0  Pearl diving   \n6299                       Ocracoke Inlet      Swimming   \n6300                 Panama Bay 8ºN, 79ºW             0   \n6301  Below the English fort, Trincomalee      Swimming   \n\n                       Name Sex  Age  \\\n0               Julie Wolfe    F  57   \n1           Adyson McNeely     F  11   \n2               John Denges    M  48   \n3                      male    M   0   \n4            Gustavo Ramos     M   0   \n...                     ...  ...  ..   \n6297                   male    M   0   \n6298                  Ahmun    M   0   \n6299  Coast Guard personnel    M   0   \n6300        Jules Patterson    M   0   \n6301                   male    M  15   \n\n                                                 Injury Fatal (Y/N)  \\\n0     No injury to occupant, outrigger canoe and pad...           N   \n1                            Minor injury to left thigh           N   \n2          Injury to left lower leg from surfboard skeg           N   \n3                             Minor injury to lower leg           N   \n4     Lacerations to leg & hand shark PROVOKED INCIDENT           N   \n...                                                 ...         ...   \n6297                                              FATAL           Y   \n6298                                              FATAL           Y   \n6299                                              FATAL           Y   \n6300                                              FATAL           Y   \n6301  FATAL. \"Shark bit him in half, carrying away t...           Y   \n\n               Time         Species   original order  \n0             18h00      White shark          6303.0  \n1     14h00  -15h00                0          6302.0  \n2             07h45                0          6301.0  \n3                 0        2 m shark          6300.0  \n4                 0  Tiger shark, 3m          6299.0  \n...             ...              ...             ...  \n6297              0                0             6.0  \n6298              0                0             5.0  \n6299              0                0             4.0  \n6300              0                0             3.0  \n6301              0                0             2.0  \n\n[6273 rows x 15 columns]",
      "text/html": "<div>\n<style scoped>\n    .dataframe tbody tr th:only-of-type {\n        vertical-align: middle;\n    }\n\n    .dataframe tbody tr th {\n        vertical-align: top;\n    }\n\n    .dataframe thead th {\n        text-align: right;\n    }\n</style>\n<table border=\"1\" class=\"dataframe\">\n  <thead>\n    <tr style=\"text-align: right;\">\n      <th></th>\n      <th>Date</th>\n      <th>Year</th>\n      <th>Type</th>\n      <th>Country</th>\n      <th>Area</th>\n      <th>Location</th>\n      <th>Activity</th>\n      <th>Name</th>\n      <th>Sex</th>\n      <th>Age</th>\n      <th>Injury</th>\n      <th>Fatal (Y/N)</th>\n      <th>Time</th>\n      <th>Species</th>\n      <th>original order</th>\n    </tr>\n  </thead>\n  <tbody>\n    <tr>\n      <th>0</th>\n      <td>25-Jun-2018</td>\n      <td>2018</td>\n      <td>Boating</td>\n      <td>USA</td>\n      <td>California</td>\n      <td>Oceanside, San Diego County</td>\n      <td>Paddling</td>\n      <td>Julie Wolfe</td>\n      <td>F</td>\n      <td>57</td>\n      <td>No injury to occupant, outrigger canoe and pad...</td>\n      <td>N</td>\n      <td>18h00</td>\n      <td>White shark</td>\n      <td>6303.0</td>\n    </tr>\n    <tr>\n      <th>1</th>\n      <td>18-Jun-2018</td>\n      <td>2018</td>\n      <td>Unprovoked</td>\n      <td>USA</td>\n      <td>Georgia</td>\n      <td>St. Simon Island, Glynn County</td>\n      <td>Standing</td>\n      <td>Adyson McNeely</td>\n      <td>F</td>\n      <td>11</td>\n      <td>Minor injury to left thigh</td>\n      <td>N</td>\n      <td>14h00  -15h00</td>\n      <td>0</td>\n      <td>6302.0</td>\n    </tr>\n    <tr>\n      <th>2</th>\n      <td>09-Jun-2018</td>\n      <td>2018</td>\n      <td>Invalid</td>\n      <td>USA</td>\n      <td>Hawaii</td>\n      <td>Habush, Oahu</td>\n      <td>Surfing</td>\n      <td>John Denges</td>\n      <td>M</td>\n      <td>48</td>\n      <td>Injury to left lower leg from surfboard skeg</td>\n      <td>N</td>\n      <td>07h45</td>\n      <td>0</td>\n      <td>6301.0</td>\n    </tr>\n    <tr>\n      <th>3</th>\n      <td>08-Jun-2018</td>\n      <td>2018</td>\n      <td>Unprovoked</td>\n      <td>AUSTRALIA</td>\n      <td>New South Wales</td>\n      <td>Arrawarra Headland</td>\n      <td>Surfing</td>\n      <td>male</td>\n      <td>M</td>\n      <td>0</td>\n      <td>Minor injury to lower leg</td>\n      <td>N</td>\n      <td>0</td>\n      <td>2 m shark</td>\n      <td>6300.0</td>\n    </tr>\n    <tr>\n      <th>4</th>\n      <td>04-Jun-2018</td>\n      <td>2018</td>\n      <td>Provoked</td>\n      <td>MEXICO</td>\n      <td>Colima</td>\n      <td>La Ticla</td>\n      <td>Free diving</td>\n      <td>Gustavo Ramos</td>\n      <td>M</td>\n      <td>0</td>\n      <td>Lacerations to leg &amp; hand shark PROVOKED INCIDENT</td>\n      <td>N</td>\n      <td>0</td>\n      <td>Tiger shark, 3m</td>\n      <td>6299.0</td>\n    </tr>\n    <tr>\n      <th>...</th>\n      <td>...</td>\n      <td>...</td>\n      <td>...</td>\n      <td>...</td>\n      <td>...</td>\n      <td>...</td>\n      <td>...</td>\n      <td>...</td>\n      <td>...</td>\n      <td>...</td>\n      <td>...</td>\n      <td>...</td>\n      <td>...</td>\n      <td>...</td>\n      <td>...</td>\n    </tr>\n    <tr>\n      <th>6297</th>\n      <td>Before 1903</td>\n      <td>0</td>\n      <td>Unprovoked</td>\n      <td>AUSTRALIA</td>\n      <td>Western Australia</td>\n      <td>Roebuck Bay</td>\n      <td>Diving</td>\n      <td>male</td>\n      <td>M</td>\n      <td>0</td>\n      <td>FATAL</td>\n      <td>Y</td>\n      <td>0</td>\n      <td>0</td>\n      <td>6.0</td>\n    </tr>\n    <tr>\n      <th>6298</th>\n      <td>Before 1903</td>\n      <td>0</td>\n      <td>Unprovoked</td>\n      <td>AUSTRALIA</td>\n      <td>Western Australia</td>\n      <td>0</td>\n      <td>Pearl diving</td>\n      <td>Ahmun</td>\n      <td>M</td>\n      <td>0</td>\n      <td>FATAL</td>\n      <td>Y</td>\n      <td>0</td>\n      <td>0</td>\n      <td>5.0</td>\n    </tr>\n    <tr>\n      <th>6299</th>\n      <td>1900-1905</td>\n      <td>0</td>\n      <td>Unprovoked</td>\n      <td>USA</td>\n      <td>North Carolina</td>\n      <td>Ocracoke Inlet</td>\n      <td>Swimming</td>\n      <td>Coast Guard personnel</td>\n      <td>M</td>\n      <td>0</td>\n      <td>FATAL</td>\n      <td>Y</td>\n      <td>0</td>\n      <td>0</td>\n      <td>4.0</td>\n    </tr>\n    <tr>\n      <th>6300</th>\n      <td>1883-1889</td>\n      <td>0</td>\n      <td>Unprovoked</td>\n      <td>PANAMA</td>\n      <td>0</td>\n      <td>Panama Bay 8ºN, 79ºW</td>\n      <td>0</td>\n      <td>Jules Patterson</td>\n      <td>M</td>\n      <td>0</td>\n      <td>FATAL</td>\n      <td>Y</td>\n      <td>0</td>\n      <td>0</td>\n      <td>3.0</td>\n    </tr>\n    <tr>\n      <th>6301</th>\n      <td>1845-1853</td>\n      <td>0</td>\n      <td>Unprovoked</td>\n      <td>CEYLON (SRI LANKA)</td>\n      <td>Eastern Province</td>\n      <td>Below the English fort, Trincomalee</td>\n      <td>Swimming</td>\n      <td>male</td>\n      <td>M</td>\n      <td>15</td>\n      <td>FATAL. \"Shark bit him in half, carrying away t...</td>\n      <td>Y</td>\n      <td>0</td>\n      <td>0</td>\n      <td>2.0</td>\n    </tr>\n  </tbody>\n</table>\n<p>6273 rows × 15 columns</p>\n</div>"
     },
     "execution_count": 193,
     "metadata": {},
     "output_type": "execute_result"
    }
   ],
   "source": [
    "shark_data = shark_data[~((shark_data.loc[:,\"Country\"] == 0) & (shark_data.loc[:,\"Location\"] == 0) & (shark_data.loc[:,\"Area\"] == 0))]\n",
    "shark_data"
   ],
   "metadata": {
    "collapsed": false,
    "pycharm": {
     "name": "#%%\n"
    }
   }
  },
  {
   "cell_type": "markdown",
   "source": [
    "### Show TOP 3 Countries where shark attacks are more prevalent\n",
    "\n",
    "---"
   ],
   "metadata": {
    "collapsed": false,
    "pycharm": {
     "name": "#%% md\n"
    }
   }
  },
  {
   "cell_type": "code",
   "execution_count": 236,
   "outputs": [
    {
     "data": {
      "text/plain": "<AxesSubplot:>"
     },
     "execution_count": 236,
     "metadata": {},
     "output_type": "execute_result"
    },
    {
     "data": {
      "text/plain": "<Figure size 432x288 with 1 Axes>",
      "image/png": "[encoded data removed]"
     },
     "metadata": {
      "needs_background": "light"
     },
     "output_type": "display_data"
    }
   ],
   "source": [
    "%matplotlib inline\n",
    "#shark_data\n",
    "#shark_data2 = shark_data.copy()\n",
    "#shark_data2[\"Country\"].value_counts(normalize=True)\n",
    "#shark_data2[~((shark_data2.loc[:,\"Country\"] == \"USA\") & (shark_data2.loc[:,\"Country\"] == \"AUSTRALIA\") & (shark_data2.loc[:,\"Country\"] == \"SOUTH AFRICA\"))] = \"OTHER COUNTRIES\"\n",
    "#shark_data2[\"Country\"][~((shark_data2.loc[:,\"Country\"] == \"USA\") & (shark_data2.loc[:,\"Country\"] == \"AUSTRALIA\") & (shark_data2.loc[:,\"Country\"] == \"SOUTH AFRICA\"))] = \"OTHER COUNTRIES\"\n",
    "#shark_data2[\"Country\"][((shark_data2.loc[:,\"Country\"] != \"USA\") & (shark_data2.loc[:,\"Country\"] != \"AUSTRALIA\") & (shark_data2.loc[:,\"Country\"] != \"SOUTH AFRICA\"))] = \"OTHER COUNTRIES\"\n",
    "#shark_data2[\"Country\"].value_counts().plot(kind=\"bar\")\n",
    "shark_data2[\"Country\"][shark_data2.loc[:,\"Country\"] != \"OTHER COUNTRIES\"].value_counts().plot(kind=\"bar\")"
   ],
   "metadata": {
    "collapsed": false,
    "pycharm": {
     "name": "#%%\n"
    }
   }
  },
  {
   "cell_type": "markdown",
   "source": [
    "### Graphic above shows us that we should install our headquarters in USA"
   ],
   "metadata": {
    "collapsed": false,
    "pycharm": {
     "name": "#%% md\n"
    }
   }
  },
  {
   "cell_type": "code",
   "execution_count": 242,
   "outputs": [
    {
     "data": {
      "text/plain": "             Date  Year        Type    Country               Area  \\\n0     25-Jun-2018  2018     Boating        USA         California   \n1     18-Jun-2018  2018  Unprovoked        USA            Georgia   \n2     09-Jun-2018  2018     Invalid        USA             Hawaii   \n3     08-Jun-2018  2018  Unprovoked  AUSTRALIA    New South Wales   \n5     03-Jun-2018  2018  Unprovoked  AUSTRALIA    New South Wales   \n...           ...   ...         ...        ...                ...   \n6295  Before 1906     0  Unprovoked  AUSTRALIA                  0   \n6296  Before 1906     0  Unprovoked  AUSTRALIA    New South Wales   \n6297  Before 1903     0  Unprovoked  AUSTRALIA  Western Australia   \n6298  Before 1903     0  Unprovoked  AUSTRALIA  Western Australia   \n6299    1900-1905     0  Unprovoked        USA     North Carolina   \n\n                            Location      Activity                   Name  \\\n0        Oceanside, San Diego County      Paddling            Julie Wolfe   \n1     St. Simon Island, Glynn County      Standing        Adyson McNeely    \n2                       Habush, Oahu       Surfing            John Denges   \n3                 Arrawarra Headland       Surfing                   male   \n5                 Flat Rock, Ballina  Kite surfing                Chris \n   \n...                              ...           ...                    ...   \n6295                               0       Fishing              fisherman   \n6296                                      Swimming               Arab boy   \n6297                     Roebuck Bay        Diving                   male   \n6298                               0  Pearl diving                  Ahmun   \n6299                  Ocracoke Inlet      Swimming  Coast Guard personnel   \n\n     Sex  Age                                             Injury Fatal (Y/N)  \\\n0       F  57  No injury to occupant, outrigger canoe and pad...           N   \n1       F  11                         Minor injury to left thigh           N   \n2       M  48       Injury to left lower leg from surfboard skeg           N   \n3       M   0                          Minor injury to lower leg           N   \n5       M   0                            No injury, board bitten           N   \n...   ...  ..                                                ...         ...   \n6295    M   0                                              FATAL           Y   \n6296    M   0                                              FATAL           Y   \n6297    M   0                                              FATAL           Y   \n6298    M   0                                              FATAL           Y   \n6299    M   0                                              FATAL           Y   \n\n               Time                                           Species   \\\n0             18h00                                        White shark   \n1     14h00  -15h00                                                  0   \n2             07h45                                                  0   \n3                 0                                          2 m shark   \n5                 0                                                  0   \n...             ...                                                ...   \n6295              0                                      Blue pointers   \n6296              0  Said to involve a grey nurse shark that leapt ...   \n6297              0                                                  0   \n6298              0                                                  0   \n6299              0                                                  0   \n\n      original order  \n0             6303.0  \n1             6302.0  \n2             6301.0  \n3             6300.0  \n5             6298.0  \n...              ...  \n6295             8.0  \n6296             7.0  \n6297             6.0  \n6298             5.0  \n6299             4.0  \n\n[4146 rows x 15 columns]",
      "text/html": "<div>\n<style scoped>\n    .dataframe tbody tr th:only-of-type {\n        vertical-align: middle;\n    }\n\n    .dataframe tbody tr th {\n        vertical-align: top;\n    }\n\n    .dataframe thead th {\n        text-align: right;\n    }\n</style>\n<table border=\"1\" class=\"dataframe\">\n  <thead>\n    <tr style=\"text-align: right;\">\n      <th></th>\n      <th>Date</th>\n      <th>Year</th>\n      <th>Type</th>\n      <th>Country</th>\n      <th>Area</th>\n      <th>Location</th>\n      <th>Activity</th>\n      <th>Name</th>\n      <th>Sex</th>\n      <th>Age</th>\n      <th>Injury</th>\n      <th>Fatal (Y/N)</th>\n      <th>Time</th>\n      <th>Species</th>\n      <th>original order</th>\n    </tr>\n  </thead>\n  <tbody>\n    <tr>\n      <th>0</th>\n      <td>25-Jun-2018</td>\n      <td>2018</td>\n      <td>Boating</td>\n      <td>USA</td>\n      <td>California</td>\n      <td>Oceanside, San Diego County</td>\n      <td>Paddling</td>\n      <td>Julie Wolfe</td>\n      <td>F</td>\n      <td>57</td>\n      <td>No injury to occupant, outrigger canoe and pad...</td>\n      <td>N</td>\n      <td>18h00</td>\n      <td>White shark</td>\n      <td>6303.0</td>\n    </tr>\n    <tr>\n      <th>1</th>\n      <td>18-Jun-2018</td>\n      <td>2018</td>\n      <td>Unprovoked</td>\n      <td>USA</td>\n      <td>Georgia</td>\n      <td>St. Simon Island, Glynn County</td>\n      <td>Standing</td>\n      <td>Adyson McNeely</td>\n      <td>F</td>\n      <td>11</td>\n      <td>Minor injury to left thigh</td>\n      <td>N</td>\n      <td>14h00  -15h00</td>\n      <td>0</td>\n      <td>6302.0</td>\n    </tr>\n    <tr>\n      <th>2</th>\n      <td>09-Jun-2018</td>\n      <td>2018</td>\n      <td>Invalid</td>\n      <td>USA</td>\n      <td>Hawaii</td>\n      <td>Habush, Oahu</td>\n      <td>Surfing</td>\n      <td>John Denges</td>\n      <td>M</td>\n      <td>48</td>\n      <td>Injury to left lower leg from surfboard skeg</td>\n      <td>N</td>\n      <td>07h45</td>\n      <td>0</td>\n      <td>6301.0</td>\n    </tr>\n    <tr>\n      <th>3</th>\n      <td>08-Jun-2018</td>\n      <td>2018</td>\n      <td>Unprovoked</td>\n      <td>AUSTRALIA</td>\n      <td>New South Wales</td>\n      <td>Arrawarra Headland</td>\n      <td>Surfing</td>\n      <td>male</td>\n      <td>M</td>\n      <td>0</td>\n      <td>Minor injury to lower leg</td>\n      <td>N</td>\n      <td>0</td>\n      <td>2 m shark</td>\n      <td>6300.0</td>\n    </tr>\n    <tr>\n      <th>5</th>\n      <td>03-Jun-2018</td>\n      <td>2018</td>\n      <td>Unprovoked</td>\n      <td>AUSTRALIA</td>\n      <td>New South Wales</td>\n      <td>Flat Rock, Ballina</td>\n      <td>Kite surfing</td>\n      <td>Chris</td>\n      <td>M</td>\n      <td>0</td>\n      <td>No injury, board bitten</td>\n      <td>N</td>\n      <td>0</td>\n      <td>0</td>\n      <td>6298.0</td>\n    </tr>\n    <tr>\n      <th>...</th>\n      <td>...</td>\n      <td>...</td>\n      <td>...</td>\n      <td>...</td>\n      <td>...</td>\n      <td>...</td>\n      <td>...</td>\n      <td>...</td>\n      <td>...</td>\n      <td>...</td>\n      <td>...</td>\n      <td>...</td>\n      <td>...</td>\n      <td>...</td>\n      <td>...</td>\n    </tr>\n    <tr>\n      <th>6295</th>\n      <td>Before 1906</td>\n      <td>0</td>\n      <td>Unprovoked</td>\n      <td>AUSTRALIA</td>\n      <td>0</td>\n      <td>0</td>\n      <td>Fishing</td>\n      <td>fisherman</td>\n      <td>M</td>\n      <td>0</td>\n      <td>FATAL</td>\n      <td>Y</td>\n      <td>0</td>\n      <td>Blue pointers</td>\n      <td>8.0</td>\n    </tr>\n    <tr>\n      <th>6296</th>\n      <td>Before 1906</td>\n      <td>0</td>\n      <td>Unprovoked</td>\n      <td>AUSTRALIA</td>\n      <td>New South Wales</td>\n      <td></td>\n      <td>Swimming</td>\n      <td>Arab boy</td>\n      <td>M</td>\n      <td>0</td>\n      <td>FATAL</td>\n      <td>Y</td>\n      <td>0</td>\n      <td>Said to involve a grey nurse shark that leapt ...</td>\n      <td>7.0</td>\n    </tr>\n    <tr>\n      <th>6297</th>\n      <td>Before 1903</td>\n      <td>0</td>\n      <td>Unprovoked</td>\n      <td>AUSTRALIA</td>\n      <td>Western Australia</td>\n      <td>Roebuck Bay</td>\n      <td>Diving</td>\n      <td>male</td>\n      <td>M</td>\n      <td>0</td>\n      <td>FATAL</td>\n      <td>Y</td>\n      <td>0</td>\n      <td>0</td>\n      <td>6.0</td>\n    </tr>\n    <tr>\n      <th>6298</th>\n      <td>Before 1903</td>\n      <td>0</td>\n      <td>Unprovoked</td>\n      <td>AUSTRALIA</td>\n      <td>Western Australia</td>\n      <td>0</td>\n      <td>Pearl diving</td>\n      <td>Ahmun</td>\n      <td>M</td>\n      <td>0</td>\n      <td>FATAL</td>\n      <td>Y</td>\n      <td>0</td>\n      <td>0</td>\n      <td>5.0</td>\n    </tr>\n    <tr>\n      <th>6299</th>\n      <td>1900-1905</td>\n      <td>0</td>\n      <td>Unprovoked</td>\n      <td>USA</td>\n      <td>North Carolina</td>\n      <td>Ocracoke Inlet</td>\n      <td>Swimming</td>\n      <td>Coast Guard personnel</td>\n      <td>M</td>\n      <td>0</td>\n      <td>FATAL</td>\n      <td>Y</td>\n      <td>0</td>\n      <td>0</td>\n      <td>4.0</td>\n    </tr>\n  </tbody>\n</table>\n<p>4146 rows × 15 columns</p>\n</div>"
     },
     "execution_count": 242,
     "metadata": {},
     "output_type": "execute_result"
    }
   ],
   "source": [
    "shark_data3 = shark_data2[shark_data2[\"Country\"] != \"OTHER COUNTRIES\"]\n",
    "shark_data3"
   ],
   "metadata": {
    "collapsed": false,
    "pycharm": {
     "name": "#%%\n"
    }
   }
  },
  {
   "cell_type": "code",
   "execution_count": 247,
   "outputs": [
    {
     "data": {
      "text/plain": "<AxesSubplot:>"
     },
     "execution_count": 247,
     "metadata": {},
     "output_type": "execute_result"
    },
    {
     "data": {
      "text/plain": "<Figure size 432x288 with 1 Axes>",
      "image/png": "[encoded data removed]"
     },
     "metadata": {
      "needs_background": "light"
     },
     "output_type": "display_data"
    }
   ],
   "source": [
    "shark_data3[\"Type\"].value_counts(normalize=True).plot(kind=\"bar\")"
   ],
   "metadata": {
    "collapsed": false,
    "pycharm": {
     "name": "#%%\n"
    }
   }
  },
  {
   "cell_type": "code",
   "execution_count": 149,
   "outputs": [
    {
     "name": "stdout",
     "output_type": "stream",
     "text": [
      "186\n",
      "283\n"
     ]
    }
   ],
   "source": [
    "usa_fatal = shark_data[(shark_data[\"Country\"] == \"USA\") &\n",
    "                   (shark_data[\"Fatal (Y/N)\"] == \"Y\")]\n",
    "\n",
    "au_fatal = shark_data[(shark_data[\"Country\"] == \"AUSTRALIA\") &\n",
    "                   (shark_data[\"Fatal (Y/N)\"] == \"Y\")]\n",
    "\n",
    "cases_usa = shark_data[\"Country\"] == \"USA\"\n",
    "\n",
    "cases_au = shark_data[\"Country\"] == \"AUSTRALIA\"\n",
    "\n",
    "print(len(USA_FATAL))\n",
    "print(len(AU_FATAL))\n",
    "\n",
    "\n"
   ],
   "metadata": {
    "collapsed": false,
    "pycharm": {
     "name": "#%%\n"
    }
   }
  },
  {
   "cell_type": "markdown",
   "source": [
    "<div class=\"alert alert-block alert-warning\">\n",
    "    <p>Identify droppable columns / blank cells.</p></div>"
   ],
   "metadata": {
    "collapsed": false,
    "pycharm": {
     "name": "#%% md\n"
    }
   }
  }
 ],
 "metadata": {
  "kernelspec": {
   "display_name": "Python 3 (ipykernel)",
   "language": "python",
   "name": "python3"
  },
  "language_info": {
   "codemirror_mode": {
    "name": "ipython",
    "version": 3
   },
   "file_extension": ".py",
   "mimetype": "text/x-python",
   "name": "python",
   "nbconvert_exporter": "python",
   "pygments_lexer": "ipython3",
   "version": "3.10.1"
  },
  "varInspector": {
   "cols": {
    "lenName": 16,
    "lenType": 16,
    "lenVar": 40
   },
   "kernels_config": {
    "python": {
     "delete_cmd_postfix": "",
     "delete_cmd_prefix": "del ",
     "library": "var_list.py",
     "varRefreshCmd": "print(var_dic_list())"
    },
    "r": {
     "delete_cmd_postfix": ") ",
     "delete_cmd_prefix": "rm(",
     "library": "var_list.r",
     "varRefreshCmd": "cat(var_dic_list()) "
    }
   },
   "types_to_exclude": [
    "module",
    "function",
    "builtin_function_or_method",
    "instance",
    "_Feature"
   ],
   "window_display": false
  }
 },
 "nbformat": 4,
 "nbformat_minor": 1
}