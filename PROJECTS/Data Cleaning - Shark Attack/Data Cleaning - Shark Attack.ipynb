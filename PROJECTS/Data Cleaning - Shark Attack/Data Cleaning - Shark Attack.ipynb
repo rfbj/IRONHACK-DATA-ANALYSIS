{
 "cells": [
  {
   "cell_type": "markdown",
   "metadata": {
    "collapsed": true,
    "pycharm": {
     "name": "#%% md\n"
    }
   },
   "source": [
    "<div class=\"alert alert-block alert-success\">\n",
    "    <p><b>IRONHACK - DATA ANALYSIS FT - JAN22</b></p>\n",
    "    <i><b>PROJECT:</b> Data cleaning and manipulation - Shark Attack</i>\n",
    "</div>\n",
    "\n",
    "---"
   ]
  },
  {
   "cell_type": "markdown",
   "metadata": {
    "pycharm": {
     "name": "#%% md\n"
    }
   },
   "source": [
    "Our goal with this data cleaning and manipulation project a few questions from a business perspective, assuming our company has not been established yet.\n",
    "\n",
    "Therefore, at first, we need to identify on what two or three countries we have the highest shark attack occurrences and, moreover, if they were accidental (unprovoked) or provoked.\n",
    "\n",
    "As stated above, first of all, we need to identify where would our potential clients be located at, what should lead to the following answers:\n",
    "\n",
    "    1.  What countries have the most shark attacks?\n",
    "    2.  What countries and cities have the deadliest shark attacks?\n",
    "\n",
    "Once we have the answers for that we should be ready to answer the next logical question:\n",
    "\n",
    "    3.Where should our company install its headquarters at?\n",
    "\n",
    "After deciding where we should install our headquarters at we'll need to decide on what type of business activity we should aim at. In order for that to be possible, we'll need to answer the following questions:\n",
    "\n",
    "    4.  What would be our target audience? (Government, customers (male, female, does not matter?), ecc) It depends on what triggered the attack: Predatory or provocative behavior?\n",
    "\n",
    "    5.  What are shark attacks progression through years?\n",
    "    6.  What season of the year are shark attacks more prevalent?\n",
    "    7. Is there any gender relationship between shark attacks? How likely are men and women to be attacked?\n",
    "\n",
    "Once we have answered the questions above we should be ready to decide:\n",
    "\n",
    "    8.  What would be our company's business purpose? Should we sell a product (i.e. Shark repelent), provide a service to warn or educate bathers/swimmers\n",
    "\n",
    "Considering that we'd like to enrich this project, as for our future plans we'd like to deepen our research and check how does shark attacks relate to moon phases? This currently is our work in progress."
   ]
  },
  {
   "cell_type": "markdown",
   "source": [
    "<div class=\"alert alert-block alert-info\">\n",
    "    <p><b>Import Libs:</b></p>\n",
    "</div>"
   ],
   "metadata": {
    "collapsed": false
   }
  },
  {
   "cell_type": "code",
   "execution_count": 1,
   "outputs": [],
   "source": [
    "import pandas as pd\n",
    "import numpy as np\n",
    "from tqdm import tqdm\n",
    "import seaborn as sns\n",
    "import matplotlib.pyplot as plt\n",
    "import re\n",
    "import time\n",
    "from pandas_profiling import ProfileReport\n",
    "from datetime import datetime\n",
    "from bs4 import BeautifulSoup\n",
    "import dateparser\n",
    "import requests"
   ],
   "metadata": {
    "collapsed": false,
    "pycharm": {
     "name": "#%%\n"
    }
   }
  },
  {
   "cell_type": "markdown",
   "source": [
    "<div class=\"alert alert-block alert-info\">\n",
    "<b>Read CSV and identify encodig:</b></div>"
   ],
   "metadata": {
    "collapsed": false
   }
  },
  {
   "cell_type": "code",
   "execution_count": 3,
   "outputs": [],
   "source": [
    "shark_data = pd.read_csv(\"data/attacks.csv\", encoding=\"latin1\")\n",
    "#DataSet documentation: https://www.sharkattackfile.net/\n",
    "#mp_cols = \"New Moon\",\"First Quarter\",\"Full Moon\", \"Third Quarter\"\n",
    "#\n",
    "#Work in progress\n",
    "\n",
    "#for year in tqdm(range(1800,2020)):\n",
    "    #globals()[f\"df{year}\"] = pd.read_html(f'https://www.timeanddate.com/moon/phases/?year={year}')[1]\n",
    "\n",
    "# for year in range(1800,2020):\n",
    "#     for mp in mp_cols:\n",
    "#         globals()f'df{year}{[mp]}' = (globals()[f'df{year}{[mp]}']+f'/{year}').str.replace(' ','/')\n",
    "#         globals()f'df{year}{[mp]}'.apply(lambda y: datetime.strptime(y, '%d/%b/%Y') if isinstance(y,str) and not y.startswith('*/All/times/') else np.nan)\n",
    "\n",
    "\n",
    "#    pd.to_datetime(moonp[mp])\n",
    "\n",
    "\n",
    "#df['New Moon'].apply(lambda x: datetime.strptime(x, '%d/%b/%Y') if isinstance(x,str) and not x.startswith('*/All/times/') else np.nan)\n"
   ],
   "metadata": {
    "collapsed": false,
    "pycharm": {
     "name": "#%%\n"
    }
   }
  },
  {
   "cell_type": "markdown",
   "source": [
    "<div class=\"alert alert-block alert-success\">\n",
    "<b>DataSet Preview:</b> Head, info, describe and dtypes</div>"
   ],
   "metadata": {
    "collapsed": false
   }
  },
  {
   "cell_type": "code",
   "execution_count": 32,
   "outputs": [
    {
     "data": {
      "text/plain": "  Case Number         Date    Year        Type    Country             Area  \\\n0  2018.06.25  25-Jun-2018  2018.0     Boating        USA       California   \n1  2018.06.18  18-Jun-2018  2018.0  Unprovoked        USA          Georgia   \n2  2018.06.09  09-Jun-2018  2018.0     Invalid        USA           Hawaii   \n3  2018.06.08  08-Jun-2018  2018.0  Unprovoked  AUSTRALIA  New South Wales   \n4  2018.06.04  04-Jun-2018  2018.0    Provoked     MEXICO           Colima   \n\n                         Location     Activity             Name Sex   ...  \\\n0     Oceanside, San Diego County     Paddling      Julie Wolfe    F  ...   \n1  St. Simon Island, Glynn County     Standing  Adyson McNeely     F  ...   \n2                    Habush, Oahu      Surfing      John Denges    M  ...   \n3              Arrawarra Headland      Surfing             male    M  ...   \n4                        La Ticla  Free diving   Gustavo Ramos     M  ...   \n\n          Species           Investigator or Source                       pdf  \\\n0      White shark                R. Collier, GSAF      2018.06.25-Wolfe.pdf   \n1              NaN  K.McMurray, TrackingSharks.com    2018.06.18-McNeely.pdf   \n2              NaN  K.McMurray, TrackingSharks.com     2018.06.09-Denges.pdf   \n3        2 m shark                  B. Myatt, GSAF  2018.06.08-Arrawarra.pdf   \n4  Tiger shark, 3m                       A .Kipper      2018.06.04-Ramos.pdf   \n\n                                        href formula  \\\n0  http://sharkattackfile.net/spreadsheets/pdf_di...   \n1  http://sharkattackfile.net/spreadsheets/pdf_di...   \n2  http://sharkattackfile.net/spreadsheets/pdf_di...   \n3  http://sharkattackfile.net/spreadsheets/pdf_di...   \n4  http://sharkattackfile.net/spreadsheets/pdf_di...   \n\n                                                href Case Number.1  \\\n0  http://sharkattackfile.net/spreadsheets/pdf_di...    2018.06.25   \n1  http://sharkattackfile.net/spreadsheets/pdf_di...    2018.06.18   \n2  http://sharkattackfile.net/spreadsheets/pdf_di...    2018.06.09   \n3  http://sharkattackfile.net/spreadsheets/pdf_di...    2018.06.08   \n4  http://sharkattackfile.net/spreadsheets/pdf_di...    2018.06.04   \n\n  Case Number.2 original order Unnamed: 22 Unnamed: 23  \n0    2018.06.25         6303.0         NaN         NaN  \n1    2018.06.18         6302.0         NaN         NaN  \n2    2018.06.09         6301.0         NaN         NaN  \n3    2018.06.08         6300.0         NaN         NaN  \n4    2018.06.04         6299.0         NaN         NaN  \n\n[5 rows x 24 columns]",
      "text/html": "<div>\n<style scoped>\n    .dataframe tbody tr th:only-of-type {\n        vertical-align: middle;\n    }\n\n    .dataframe tbody tr th {\n        vertical-align: top;\n    }\n\n    .dataframe thead th {\n        text-align: right;\n    }\n</style>\n<table border=\"1\" class=\"dataframe\">\n  <thead>\n    <tr style=\"text-align: right;\">\n      <th></th>\n      <th>Case Number</th>\n      <th>Date</th>\n      <th>Year</th>\n      <th>Type</th>\n      <th>Country</th>\n      <th>Area</th>\n      <th>Location</th>\n      <th>Activity</th>\n      <th>Name</th>\n      <th>Sex</th>\n      <th>...</th>\n      <th>Species</th>\n      <th>Investigator or Source</th>\n      <th>pdf</th>\n      <th>href formula</th>\n      <th>href</th>\n      <th>Case Number.1</th>\n      <th>Case Number.2</th>\n      <th>original order</th>\n      <th>Unnamed: 22</th>\n      <th>Unnamed: 23</th>\n    </tr>\n  </thead>\n  <tbody>\n    <tr>\n      <th>0</th>\n      <td>2018.06.25</td>\n      <td>25-Jun-2018</td>\n      <td>2018.0</td>\n      <td>Boating</td>\n      <td>USA</td>\n      <td>California</td>\n      <td>Oceanside, San Diego County</td>\n      <td>Paddling</td>\n      <td>Julie Wolfe</td>\n      <td>F</td>\n      <td>...</td>\n      <td>White shark</td>\n      <td>R. Collier, GSAF</td>\n      <td>2018.06.25-Wolfe.pdf</td>\n      <td>http://sharkattackfile.net/spreadsheets/pdf_di...</td>\n      <td>http://sharkattackfile.net/spreadsheets/pdf_di...</td>\n      <td>2018.06.25</td>\n      <td>2018.06.25</td>\n      <td>6303.0</td>\n      <td>NaN</td>\n      <td>NaN</td>\n    </tr>\n    <tr>\n      <th>1</th>\n      <td>2018.06.18</td>\n      <td>18-Jun-2018</td>\n      <td>2018.0</td>\n      <td>Unprovoked</td>\n      <td>USA</td>\n      <td>Georgia</td>\n      <td>St. Simon Island, Glynn County</td>\n      <td>Standing</td>\n      <td>Adyson McNeely</td>\n      <td>F</td>\n      <td>...</td>\n      <td>NaN</td>\n      <td>K.McMurray, TrackingSharks.com</td>\n      <td>2018.06.18-McNeely.pdf</td>\n      <td>http://sharkattackfile.net/spreadsheets/pdf_di...</td>\n      <td>http://sharkattackfile.net/spreadsheets/pdf_di...</td>\n      <td>2018.06.18</td>\n      <td>2018.06.18</td>\n      <td>6302.0</td>\n      <td>NaN</td>\n      <td>NaN</td>\n    </tr>\n    <tr>\n      <th>2</th>\n      <td>2018.06.09</td>\n      <td>09-Jun-2018</td>\n      <td>2018.0</td>\n      <td>Invalid</td>\n      <td>USA</td>\n      <td>Hawaii</td>\n      <td>Habush, Oahu</td>\n      <td>Surfing</td>\n      <td>John Denges</td>\n      <td>M</td>\n      <td>...</td>\n      <td>NaN</td>\n      <td>K.McMurray, TrackingSharks.com</td>\n      <td>2018.06.09-Denges.pdf</td>\n      <td>http://sharkattackfile.net/spreadsheets/pdf_di...</td>\n      <td>http://sharkattackfile.net/spreadsheets/pdf_di...</td>\n      <td>2018.06.09</td>\n      <td>2018.06.09</td>\n      <td>6301.0</td>\n      <td>NaN</td>\n      <td>NaN</td>\n    </tr>\n    <tr>\n      <th>3</th>\n      <td>2018.06.08</td>\n      <td>08-Jun-2018</td>\n      <td>2018.0</td>\n      <td>Unprovoked</td>\n      <td>AUSTRALIA</td>\n      <td>New South Wales</td>\n      <td>Arrawarra Headland</td>\n      <td>Surfing</td>\n      <td>male</td>\n      <td>M</td>\n      <td>...</td>\n      <td>2 m shark</td>\n      <td>B. Myatt, GSAF</td>\n      <td>2018.06.08-Arrawarra.pdf</td>\n      <td>http://sharkattackfile.net/spreadsheets/pdf_di...</td>\n      <td>http://sharkattackfile.net/spreadsheets/pdf_di...</td>\n      <td>2018.06.08</td>\n      <td>2018.06.08</td>\n      <td>6300.0</td>\n      <td>NaN</td>\n      <td>NaN</td>\n    </tr>\n    <tr>\n      <th>4</th>\n      <td>2018.06.04</td>\n      <td>04-Jun-2018</td>\n      <td>2018.0</td>\n      <td>Provoked</td>\n      <td>MEXICO</td>\n      <td>Colima</td>\n      <td>La Ticla</td>\n      <td>Free diving</td>\n      <td>Gustavo Ramos</td>\n      <td>M</td>\n      <td>...</td>\n      <td>Tiger shark, 3m</td>\n      <td>A .Kipper</td>\n      <td>2018.06.04-Ramos.pdf</td>\n      <td>http://sharkattackfile.net/spreadsheets/pdf_di...</td>\n      <td>http://sharkattackfile.net/spreadsheets/pdf_di...</td>\n      <td>2018.06.04</td>\n      <td>2018.06.04</td>\n      <td>6299.0</td>\n      <td>NaN</td>\n      <td>NaN</td>\n    </tr>\n  </tbody>\n</table>\n<p>5 rows × 24 columns</p>\n</div>"
     },
     "execution_count": 32,
     "metadata": {},
     "output_type": "execute_result"
    }
   ],
   "source": [
    "shark_data.head(5)"
   ],
   "metadata": {
    "collapsed": false,
    "pycharm": {
     "name": "#%%\n"
    }
   }
  },
  {
   "cell_type": "markdown",
   "source": [],
   "metadata": {
    "collapsed": false
   }
  },
  {
   "cell_type": "code",
   "execution_count": 33,
   "outputs": [
    {
     "name": "stdout",
     "output_type": "stream",
     "text": [
      "<class 'pandas.core.frame.DataFrame'>\n",
      "RangeIndex: 25723 entries, 0 to 25722\n",
      "Data columns (total 24 columns):\n",
      " #   Column                  Non-Null Count  Dtype  \n",
      "---  ------                  --------------  -----  \n",
      " 0   Case Number             8702 non-null   object \n",
      " 1   Date                    6302 non-null   object \n",
      " 2   Year                    6300 non-null   float64\n",
      " 3   Type                    6298 non-null   object \n",
      " 4   Country                 6252 non-null   object \n",
      " 5   Area                    5847 non-null   object \n",
      " 6   Location                5762 non-null   object \n",
      " 7   Activity                5758 non-null   object \n",
      " 8   Name                    6092 non-null   object \n",
      " 9   Sex                     5737 non-null   object \n",
      " 10  Age                     3471 non-null   object \n",
      " 11  Injury                  6274 non-null   object \n",
      " 12  Fatal (Y/N)             5763 non-null   object \n",
      " 13  Time                    2948 non-null   object \n",
      " 14  Species                 3464 non-null   object \n",
      " 15  Investigator or Source  6285 non-null   object \n",
      " 16  pdf                     6302 non-null   object \n",
      " 17  href formula            6301 non-null   object \n",
      " 18  href                    6302 non-null   object \n",
      " 19  Case Number.1           6302 non-null   object \n",
      " 20  Case Number.2           6302 non-null   object \n",
      " 21  original order          6309 non-null   float64\n",
      " 22  Unnamed: 22             1 non-null      object \n",
      " 23  Unnamed: 23             2 non-null      object \n",
      "dtypes: float64(2), object(22)\n",
      "memory usage: 4.7+ MB\n"
     ]
    }
   ],
   "source": [
    "shark_data.info()"
   ],
   "metadata": {
    "collapsed": false,
    "pycharm": {
     "name": "#%%\n"
    }
   }
  },
  {
   "cell_type": "code",
   "execution_count": 34,
   "outputs": [
    {
     "data": {
      "text/plain": "              Year  original order\ncount  6300.000000     6309.000000\nmean   1927.272381     3155.999683\nstd     281.116308     1821.396206\nmin       0.000000        2.000000\n25%    1942.000000     1579.000000\n50%    1977.000000     3156.000000\n75%    2005.000000     4733.000000\nmax    2018.000000     6310.000000",
      "text/html": "<div>\n<style scoped>\n    .dataframe tbody tr th:only-of-type {\n        vertical-align: middle;\n    }\n\n    .dataframe tbody tr th {\n        vertical-align: top;\n    }\n\n    .dataframe thead th {\n        text-align: right;\n    }\n</style>\n<table border=\"1\" class=\"dataframe\">\n  <thead>\n    <tr style=\"text-align: right;\">\n      <th></th>\n      <th>Year</th>\n      <th>original order</th>\n    </tr>\n  </thead>\n  <tbody>\n    <tr>\n      <th>count</th>\n      <td>6300.000000</td>\n      <td>6309.000000</td>\n    </tr>\n    <tr>\n      <th>mean</th>\n      <td>1927.272381</td>\n      <td>3155.999683</td>\n    </tr>\n    <tr>\n      <th>std</th>\n      <td>281.116308</td>\n      <td>1821.396206</td>\n    </tr>\n    <tr>\n      <th>min</th>\n      <td>0.000000</td>\n      <td>2.000000</td>\n    </tr>\n    <tr>\n      <th>25%</th>\n      <td>1942.000000</td>\n      <td>1579.000000</td>\n    </tr>\n    <tr>\n      <th>50%</th>\n      <td>1977.000000</td>\n      <td>3156.000000</td>\n    </tr>\n    <tr>\n      <th>75%</th>\n      <td>2005.000000</td>\n      <td>4733.000000</td>\n    </tr>\n    <tr>\n      <th>max</th>\n      <td>2018.000000</td>\n      <td>6310.000000</td>\n    </tr>\n  </tbody>\n</table>\n</div>"
     },
     "execution_count": 34,
     "metadata": {},
     "output_type": "execute_result"
    }
   ],
   "source": [
    "shark_data.describe()"
   ],
   "metadata": {
    "collapsed": false,
    "pycharm": {
     "name": "#%%\n"
    }
   }
  },
  {
   "cell_type": "code",
   "execution_count": 37,
   "outputs": [
    {
     "data": {
      "text/plain": "Case Number                object\nDate                       object\nYear                      float64\nType                       object\nCountry                    object\nArea                       object\nLocation                   object\nActivity                   object\nName                       object\nSex                        object\nAge                        object\nInjury                     object\nFatal (Y/N)                object\nTime                       object\nSpecies                    object\nInvestigator or Source     object\npdf                        object\nhref formula               object\nhref                       object\nCase Number.1              object\nCase Number.2              object\noriginal order            float64\nUnnamed: 22                object\nUnnamed: 23                object\ndtype: object"
     },
     "execution_count": 37,
     "metadata": {},
     "output_type": "execute_result"
    }
   ],
   "source": [
    "shark_data.dtypes"
   ],
   "metadata": {
    "collapsed": false,
    "pycharm": {
     "name": "#%%\n"
    }
   }
  },
  {
   "cell_type": "code",
   "execution_count": 7,
   "outputs": [
    {
     "data": {
      "text/plain": "<AxesSubplot:>"
     },
     "execution_count": 7,
     "metadata": {},
     "output_type": "execute_result"
    },
    {
     "data": {
      "text/plain": "<Figure size 432x288 with 2 Axes>",
      "image/png": "[encoded data removed]"
     },
     "metadata": {
      "needs_background": "light"
     },
     "output_type": "display_data"
    }
   ],
   "source": [
    "%matplotlib inline\n",
    "\n",
    "sns.heatmap(shark_data.isnull())\n",
    "#plt.show()"
   ],
   "metadata": {
    "collapsed": false,
    "pycharm": {
     "name": "#%%\n"
    }
   }
  },
  {
   "cell_type": "markdown",
   "source": [
    "<div class=\"alert alert-block alert-success\">\n",
    "<b>Data cleaning and manipulation.</b></div>"
   ],
   "metadata": {
    "collapsed": false
   }
  },
  {
   "cell_type": "markdown",
   "source": [],
   "metadata": {
    "collapsed": false
   }
  },
  {
   "cell_type": "raw",
   "source": [
    "Check and drop blank lines:"
   ],
   "metadata": {
    "collapsed": false,
    "pycharm": {
     "name": "#%% raw\n"
    }
   }
  },
  {
   "cell_type": "code",
   "execution_count": 13,
   "outputs": [
    {
     "data": {
      "text/plain": "             Date    Year        Type    Country             Area  \\\n0     25-Jun-2018  2018.0     Boating        USA       California   \n1     18-Jun-2018  2018.0  Unprovoked        USA          Georgia   \n2     09-Jun-2018  2018.0     Invalid        USA           Hawaii   \n3     08-Jun-2018  2018.0  Unprovoked  AUSTRALIA  New South Wales   \n4     04-Jun-2018  2018.0    Provoked     MEXICO           Colima   \n...           ...     ...         ...        ...              ...   \n6304          NaN     NaN         NaN        NaN              NaN   \n6305          NaN     NaN         NaN        NaN              NaN   \n6306          NaN     NaN         NaN        NaN              NaN   \n6307          NaN     NaN         NaN        NaN              NaN   \n6308          NaN     NaN         NaN        NaN              NaN   \n\n                            Location     Activity             Name Sex   Age  \\\n0        Oceanside, San Diego County     Paddling      Julie Wolfe    F   57   \n1     St. Simon Island, Glynn County     Standing  Adyson McNeely     F   11   \n2                       Habush, Oahu      Surfing      John Denges    M   48   \n3                 Arrawarra Headland      Surfing             male    M  NaN   \n4                           La Ticla  Free diving   Gustavo Ramos     M  NaN   \n...                              ...          ...              ...  ...  ...   \n6304                             NaN          NaN              NaN  NaN  NaN   \n6305                             NaN          NaN              NaN  NaN  NaN   \n6306                             NaN          NaN              NaN  NaN  NaN   \n6307                             NaN          NaN              NaN  NaN  NaN   \n6308                             NaN          NaN              NaN  NaN  NaN   \n\n      ... Fatal (Y/N)           Time         Species   \\\n0     ...           N          18h00      White shark   \n1     ...           N  14h00  -15h00              NaN   \n2     ...           N          07h45              NaN   \n3     ...           N            NaN        2 m shark   \n4     ...           N            NaN  Tiger shark, 3m   \n...   ...         ...            ...              ...   \n6304  ...         NaN            NaN              NaN   \n6305  ...         NaN            NaN              NaN   \n6306  ...         NaN            NaN              NaN   \n6307  ...         NaN            NaN              NaN   \n6308  ...         NaN            NaN              NaN   \n\n              Investigator or Source                       pdf  \\\n0                   R. Collier, GSAF      2018.06.25-Wolfe.pdf   \n1     K.McMurray, TrackingSharks.com    2018.06.18-McNeely.pdf   \n2     K.McMurray, TrackingSharks.com     2018.06.09-Denges.pdf   \n3                     B. Myatt, GSAF  2018.06.08-Arrawarra.pdf   \n4                          A .Kipper      2018.06.04-Ramos.pdf   \n...                              ...                       ...   \n6304                             NaN                       NaN   \n6305                             NaN                       NaN   \n6306                             NaN                       NaN   \n6307                             NaN                       NaN   \n6308                             NaN                       NaN   \n\n                                           href formula  \\\n0     http://sharkattackfile.net/spreadsheets/pdf_di...   \n1     http://sharkattackfile.net/spreadsheets/pdf_di...   \n2     http://sharkattackfile.net/spreadsheets/pdf_di...   \n3     http://sharkattackfile.net/spreadsheets/pdf_di...   \n4     http://sharkattackfile.net/spreadsheets/pdf_di...   \n...                                                 ...   \n6304                                                NaN   \n6305                                                NaN   \n6306                                                NaN   \n6307                                                NaN   \n6308                                                NaN   \n\n                                                   href original order  \\\n0     http://sharkattackfile.net/spreadsheets/pdf_di...         6303.0   \n1     http://sharkattackfile.net/spreadsheets/pdf_di...         6302.0   \n2     http://sharkattackfile.net/spreadsheets/pdf_di...         6301.0   \n3     http://sharkattackfile.net/spreadsheets/pdf_di...         6300.0   \n4     http://sharkattackfile.net/spreadsheets/pdf_di...         6299.0   \n...                                                 ...            ...   \n6304                                                NaN         6306.0   \n6305                                                NaN         6307.0   \n6306                                                NaN         6308.0   \n6307                                                NaN         6309.0   \n6308                                                NaN         6310.0   \n\n      Unnamed: 22 Unnamed: 23  \n0             NaN         NaN  \n1             NaN         NaN  \n2             NaN         NaN  \n3             NaN         NaN  \n4             NaN         NaN  \n...           ...         ...  \n6304          NaN         NaN  \n6305          NaN         NaN  \n6306          NaN         NaN  \n6307          NaN         NaN  \n6308          NaN         NaN  \n\n[6309 rows x 21 columns]",
      "text/html": "<div>\n<style scoped>\n    .dataframe tbody tr th:only-of-type {\n        vertical-align: middle;\n    }\n\n    .dataframe tbody tr th {\n        vertical-align: top;\n    }\n\n    .dataframe thead th {\n        text-align: right;\n    }\n</style>\n<table border=\"1\" class=\"dataframe\">\n  <thead>\n    <tr style=\"text-align: right;\">\n      <th></th>\n      <th>Date</th>\n      <th>Year</th>\n      <th>Type</th>\n      <th>Country</th>\n      <th>Area</th>\n      <th>Location</th>\n      <th>Activity</th>\n      <th>Name</th>\n      <th>Sex</th>\n      <th>Age</th>\n      <th>...</th>\n      <th>Fatal (Y/N)</th>\n      <th>Time</th>\n      <th>Species</th>\n      <th>Investigator or Source</th>\n      <th>pdf</th>\n      <th>href formula</th>\n      <th>href</th>\n      <th>original order</th>\n      <th>Unnamed: 22</th>\n      <th>Unnamed: 23</th>\n    </tr>\n  </thead>\n  <tbody>\n    <tr>\n      <th>0</th>\n      <td>25-Jun-2018</td>\n      <td>2018.0</td>\n      <td>Boating</td>\n      <td>USA</td>\n      <td>California</td>\n      <td>Oceanside, San Diego County</td>\n      <td>Paddling</td>\n      <td>Julie Wolfe</td>\n      <td>F</td>\n      <td>57</td>\n      <td>...</td>\n      <td>N</td>\n      <td>18h00</td>\n      <td>White shark</td>\n      <td>R. Collier, GSAF</td>\n      <td>2018.06.25-Wolfe.pdf</td>\n      <td>http://sharkattackfile.net/spreadsheets/pdf_di...</td>\n      <td>http://sharkattackfile.net/spreadsheets/pdf_di...</td>\n      <td>6303.0</td>\n      <td>NaN</td>\n      <td>NaN</td>\n    </tr>\n    <tr>\n      <th>1</th>\n      <td>18-Jun-2018</td>\n      <td>2018.0</td>\n      <td>Unprovoked</td>\n      <td>USA</td>\n      <td>Georgia</td>\n      <td>St. Simon Island, Glynn County</td>\n      <td>Standing</td>\n      <td>Adyson McNeely</td>\n      <td>F</td>\n      <td>11</td>\n      <td>...</td>\n      <td>N</td>\n      <td>14h00  -15h00</td>\n      <td>NaN</td>\n      <td>K.McMurray, TrackingSharks.com</td>\n      <td>2018.06.18-McNeely.pdf</td>\n      <td>http://sharkattackfile.net/spreadsheets/pdf_di...</td>\n      <td>http://sharkattackfile.net/spreadsheets/pdf_di...</td>\n      <td>6302.0</td>\n      <td>NaN</td>\n      <td>NaN</td>\n    </tr>\n    <tr>\n      <th>2</th>\n      <td>09-Jun-2018</td>\n      <td>2018.0</td>\n      <td>Invalid</td>\n      <td>USA</td>\n      <td>Hawaii</td>\n      <td>Habush, Oahu</td>\n      <td>Surfing</td>\n      <td>John Denges</td>\n      <td>M</td>\n      <td>48</td>\n      <td>...</td>\n      <td>N</td>\n      <td>07h45</td>\n      <td>NaN</td>\n      <td>K.McMurray, TrackingSharks.com</td>\n      <td>2018.06.09-Denges.pdf</td>\n      <td>http://sharkattackfile.net/spreadsheets/pdf_di...</td>\n      <td>http://sharkattackfile.net/spreadsheets/pdf_di...</td>\n      <td>6301.0</td>\n      <td>NaN</td>\n      <td>NaN</td>\n    </tr>\n    <tr>\n      <th>3</th>\n      <td>08-Jun-2018</td>\n      <td>2018.0</td>\n      <td>Unprovoked</td>\n      <td>AUSTRALIA</td>\n      <td>New South Wales</td>\n      <td>Arrawarra Headland</td>\n      <td>Surfing</td>\n      <td>male</td>\n      <td>M</td>\n      <td>NaN</td>\n      <td>...</td>\n      <td>N</td>\n      <td>NaN</td>\n      <td>2 m shark</td>\n      <td>B. Myatt, GSAF</td>\n      <td>2018.06.08-Arrawarra.pdf</td>\n      <td>http://sharkattackfile.net/spreadsheets/pdf_di...</td>\n      <td>http://sharkattackfile.net/spreadsheets/pdf_di...</td>\n      <td>6300.0</td>\n      <td>NaN</td>\n      <td>NaN</td>\n    </tr>\n    <tr>\n      <th>4</th>\n      <td>04-Jun-2018</td>\n      <td>2018.0</td>\n      <td>Provoked</td>\n      <td>MEXICO</td>\n      <td>Colima</td>\n      <td>La Ticla</td>\n      <td>Free diving</td>\n      <td>Gustavo Ramos</td>\n      <td>M</td>\n      <td>NaN</td>\n      <td>...</td>\n      <td>N</td>\n      <td>NaN</td>\n      <td>Tiger shark, 3m</td>\n      <td>A .Kipper</td>\n      <td>2018.06.04-Ramos.pdf</td>\n      <td>http://sharkattackfile.net/spreadsheets/pdf_di...</td>\n      <td>http://sharkattackfile.net/spreadsheets/pdf_di...</td>\n      <td>6299.0</td>\n      <td>NaN</td>\n      <td>NaN</td>\n    </tr>\n    <tr>\n      <th>...</th>\n      <td>...</td>\n      <td>...</td>\n      <td>...</td>\n      <td>...</td>\n      <td>...</td>\n      <td>...</td>\n      <td>...</td>\n      <td>...</td>\n      <td>...</td>\n      <td>...</td>\n      <td>...</td>\n      <td>...</td>\n      <td>...</td>\n      <td>...</td>\n      <td>...</td>\n      <td>...</td>\n      <td>...</td>\n      <td>...</td>\n      <td>...</td>\n      <td>...</td>\n      <td>...</td>\n    </tr>\n    <tr>\n      <th>6304</th>\n      <td>NaN</td>\n      <td>NaN</td>\n      <td>NaN</td>\n      <td>NaN</td>\n      <td>NaN</td>\n      <td>NaN</td>\n      <td>NaN</td>\n      <td>NaN</td>\n      <td>NaN</td>\n      <td>NaN</td>\n      <td>...</td>\n      <td>NaN</td>\n      <td>NaN</td>\n      <td>NaN</td>\n      <td>NaN</td>\n      <td>NaN</td>\n      <td>NaN</td>\n      <td>NaN</td>\n      <td>6306.0</td>\n      <td>NaN</td>\n      <td>NaN</td>\n    </tr>\n    <tr>\n      <th>6305</th>\n      <td>NaN</td>\n      <td>NaN</td>\n      <td>NaN</td>\n      <td>NaN</td>\n      <td>NaN</td>\n      <td>NaN</td>\n      <td>NaN</td>\n      <td>NaN</td>\n      <td>NaN</td>\n      <td>NaN</td>\n      <td>...</td>\n      <td>NaN</td>\n      <td>NaN</td>\n      <td>NaN</td>\n      <td>NaN</td>\n      <td>NaN</td>\n      <td>NaN</td>\n      <td>NaN</td>\n      <td>6307.0</td>\n      <td>NaN</td>\n      <td>NaN</td>\n    </tr>\n    <tr>\n      <th>6306</th>\n      <td>NaN</td>\n      <td>NaN</td>\n      <td>NaN</td>\n      <td>NaN</td>\n      <td>NaN</td>\n      <td>NaN</td>\n      <td>NaN</td>\n      <td>NaN</td>\n      <td>NaN</td>\n      <td>NaN</td>\n      <td>...</td>\n      <td>NaN</td>\n      <td>NaN</td>\n      <td>NaN</td>\n      <td>NaN</td>\n      <td>NaN</td>\n      <td>NaN</td>\n      <td>NaN</td>\n      <td>6308.0</td>\n      <td>NaN</td>\n      <td>NaN</td>\n    </tr>\n    <tr>\n      <th>6307</th>\n      <td>NaN</td>\n      <td>NaN</td>\n      <td>NaN</td>\n      <td>NaN</td>\n      <td>NaN</td>\n      <td>NaN</td>\n      <td>NaN</td>\n      <td>NaN</td>\n      <td>NaN</td>\n      <td>NaN</td>\n      <td>...</td>\n      <td>NaN</td>\n      <td>NaN</td>\n      <td>NaN</td>\n      <td>NaN</td>\n      <td>NaN</td>\n      <td>NaN</td>\n      <td>NaN</td>\n      <td>6309.0</td>\n      <td>NaN</td>\n      <td>NaN</td>\n    </tr>\n    <tr>\n      <th>6308</th>\n      <td>NaN</td>\n      <td>NaN</td>\n      <td>NaN</td>\n      <td>NaN</td>\n      <td>NaN</td>\n      <td>NaN</td>\n      <td>NaN</td>\n      <td>NaN</td>\n      <td>NaN</td>\n      <td>NaN</td>\n      <td>...</td>\n      <td>NaN</td>\n      <td>NaN</td>\n      <td>NaN</td>\n      <td>NaN</td>\n      <td>NaN</td>\n      <td>NaN</td>\n      <td>NaN</td>\n      <td>6310.0</td>\n      <td>NaN</td>\n      <td>NaN</td>\n    </tr>\n  </tbody>\n</table>\n<p>6309 rows × 21 columns</p>\n</div>"
     },
     "execution_count": 13,
     "metadata": {},
     "output_type": "execute_result"
    }
   ],
   "source": [
    "lines_to_drop = shark_data.isnull().sum(axis=1) #crio a máscara que soma a quantidade de dados nulos NAS LINHAS\n",
    "shark_data[lines_to_drop >= len(shark_data.columns)] #aplico a máscara que verifica as linhas com todas as entradas nulas\n",
    "shark_data = shark_data.drop(shark_data[lines_to_drop >= len(shark_data.columns)].index) #aplico a máscara no drop e atribuo o resultado à variável para não fazer inplace\n",
    "shark_data"
   ],
   "metadata": {
    "collapsed": false,
    "pycharm": {
     "name": "#%%\n"
    }
   }
  },
  {
   "cell_type": "code",
   "execution_count": null,
   "outputs": [],
   "source": [],
   "metadata": {
    "collapsed": false,
    "pycharm": {
     "name": "#%%\n"
    }
   }
  },
  {
   "cell_type": "code",
   "execution_count": 11,
   "outputs": [
    {
     "data": {
      "text/plain": "Case Number               17021\nDate                      19421\nYear                      19423\nType                      19425\nCountry                   19471\nArea                      19876\nLocation                  19961\nActivity                  19965\nName                      19631\nSex                       19986\nAge                       22252\nInjury                    19449\nFatal (Y/N)               19960\nTime                      22775\nSpecies                   22259\nInvestigator or Source    19438\npdf                       19421\nhref formula              19422\nhref                      19421\nCase Number.1             19421\nCase Number.2             19421\noriginal order            19414\nUnnamed: 22               25722\nUnnamed: 23               25721\ndtype: int64"
     },
     "execution_count": 11,
     "metadata": {},
     "output_type": "execute_result"
    }
   ],
   "source": [
    "columns_to_drop = shark_data[:][:].isnull().sum()\n",
    "columns_to_drop"
   ],
   "metadata": {
    "collapsed": false,
    "pycharm": {
     "name": "#%%\n"
    }
   }
  },
  {
   "cell_type": "code",
   "execution_count": 105,
   "outputs": [
    {
     "data": {
      "text/plain": "      Case Number         Date    Year        Type    Country  \\\n0      2018.06.25  25-Jun-2018  2018.0     Boating        USA   \n1      2018.06.18  18-Jun-2018  2018.0  Unprovoked        USA   \n2      2018.06.09  09-Jun-2018  2018.0     Invalid        USA   \n3      2018.06.08  08-Jun-2018  2018.0  Unprovoked  AUSTRALIA   \n4      2018.06.04  04-Jun-2018  2018.0    Provoked     MEXICO   \n...           ...          ...     ...         ...        ...   \n8698            0          NaN     NaN         NaN        NaN   \n8699            0          NaN     NaN         NaN        NaN   \n8700            0          NaN     NaN         NaN        NaN   \n8701            0          NaN     NaN         NaN        NaN   \n25722          xx          NaN     NaN         NaN        NaN   \n\n                  Area                        Location     Activity  \\\n0           California     Oceanside, San Diego County     Paddling   \n1              Georgia  St. Simon Island, Glynn County     Standing   \n2               Hawaii                    Habush, Oahu      Surfing   \n3      New South Wales              Arrawarra Headland      Surfing   \n4               Colima                        La Ticla  Free diving   \n...                ...                             ...          ...   \n8698               NaN                             NaN          NaN   \n8699               NaN                             NaN          NaN   \n8700               NaN                             NaN          NaN   \n8701               NaN                             NaN          NaN   \n25722              NaN                             NaN          NaN   \n\n                  Name Sex   Age  \\\n0          Julie Wolfe    F   57   \n1      Adyson McNeely     F   11   \n2          John Denges    M   48   \n3                 male    M  NaN   \n4       Gustavo Ramos     M  NaN   \n...                ...  ...  ...   \n8698               NaN  NaN  NaN   \n8699               NaN  NaN  NaN   \n8700               NaN  NaN  NaN   \n8701               NaN  NaN  NaN   \n25722              NaN  NaN  NaN   \n\n                                                  Injury Fatal (Y/N)  \\\n0      No injury to occupant, outrigger canoe and pad...           N   \n1                             Minor injury to left thigh           N   \n2           Injury to left lower leg from surfboard skeg           N   \n3                              Minor injury to lower leg           N   \n4      Lacerations to leg & hand shark PROVOKED INCIDENT           N   \n...                                                  ...         ...   \n8698                                                 NaN         NaN   \n8699                                                 NaN         NaN   \n8700                                                 NaN         NaN   \n8701                                                 NaN         NaN   \n25722                                                NaN         NaN   \n\n                Time         Species                        pdf Case Number.1  \\\n0              18h00      White shark      2018.06.25-Wolfe.pdf    2018.06.25   \n1      14h00  -15h00              NaN    2018.06.18-McNeely.pdf    2018.06.18   \n2              07h45              NaN     2018.06.09-Denges.pdf    2018.06.09   \n3                NaN        2 m shark  2018.06.08-Arrawarra.pdf    2018.06.08   \n4                NaN  Tiger shark, 3m      2018.06.04-Ramos.pdf    2018.06.04   \n...              ...              ...                       ...           ...   \n8698             NaN              NaN                       NaN           NaN   \n8699             NaN              NaN                       NaN           NaN   \n8700             NaN              NaN                       NaN           NaN   \n8701             NaN              NaN                       NaN           NaN   \n25722            NaN              NaN                       NaN           NaN   \n\n      Case Number.2  original order  \n0        2018.06.25          6303.0  \n1        2018.06.18          6302.0  \n2        2018.06.09          6301.0  \n3        2018.06.08          6300.0  \n4        2018.06.04          6299.0  \n...             ...             ...  \n8698            NaN             NaN  \n8699            NaN             NaN  \n8700            NaN             NaN  \n8701            NaN             NaN  \n25722           NaN             NaN  \n\n[8703 rows x 19 columns]",
      "text/html": "<div>\n<style scoped>\n    .dataframe tbody tr th:only-of-type {\n        vertical-align: middle;\n    }\n\n    .dataframe tbody tr th {\n        vertical-align: top;\n    }\n\n    .dataframe thead th {\n        text-align: right;\n    }\n</style>\n<table border=\"1\" class=\"dataframe\">\n  <thead>\n    <tr style=\"text-align: right;\">\n      <th></th>\n      <th>Case Number</th>\n      <th>Date</th>\n      <th>Year</th>\n      <th>Type</th>\n      <th>Country</th>\n      <th>Area</th>\n      <th>Location</th>\n      <th>Activity</th>\n      <th>Name</th>\n      <th>Sex</th>\n      <th>Age</th>\n      <th>Injury</th>\n      <th>Fatal (Y/N)</th>\n      <th>Time</th>\n      <th>Species</th>\n      <th>pdf</th>\n      <th>Case Number.1</th>\n      <th>Case Number.2</th>\n      <th>original order</th>\n    </tr>\n  </thead>\n  <tbody>\n    <tr>\n      <th>0</th>\n      <td>2018.06.25</td>\n      <td>25-Jun-2018</td>\n      <td>2018.0</td>\n      <td>Boating</td>\n      <td>USA</td>\n      <td>California</td>\n      <td>Oceanside, San Diego County</td>\n      <td>Paddling</td>\n      <td>Julie Wolfe</td>\n      <td>F</td>\n      <td>57</td>\n      <td>No injury to occupant, outrigger canoe and pad...</td>\n      <td>N</td>\n      <td>18h00</td>\n      <td>White shark</td>\n      <td>2018.06.25-Wolfe.pdf</td>\n      <td>2018.06.25</td>\n      <td>2018.06.25</td>\n      <td>6303.0</td>\n    </tr>\n    <tr>\n      <th>1</th>\n      <td>2018.06.18</td>\n      <td>18-Jun-2018</td>\n      <td>2018.0</td>\n      <td>Unprovoked</td>\n      <td>USA</td>\n      <td>Georgia</td>\n      <td>St. Simon Island, Glynn County</td>\n      <td>Standing</td>\n      <td>Adyson McNeely</td>\n      <td>F</td>\n      <td>11</td>\n      <td>Minor injury to left thigh</td>\n      <td>N</td>\n      <td>14h00  -15h00</td>\n      <td>NaN</td>\n      <td>2018.06.18-McNeely.pdf</td>\n      <td>2018.06.18</td>\n      <td>2018.06.18</td>\n      <td>6302.0</td>\n    </tr>\n    <tr>\n      <th>2</th>\n      <td>2018.06.09</td>\n      <td>09-Jun-2018</td>\n      <td>2018.0</td>\n      <td>Invalid</td>\n      <td>USA</td>\n      <td>Hawaii</td>\n      <td>Habush, Oahu</td>\n      <td>Surfing</td>\n      <td>John Denges</td>\n      <td>M</td>\n      <td>48</td>\n      <td>Injury to left lower leg from surfboard skeg</td>\n      <td>N</td>\n      <td>07h45</td>\n      <td>NaN</td>\n      <td>2018.06.09-Denges.pdf</td>\n      <td>2018.06.09</td>\n      <td>2018.06.09</td>\n      <td>6301.0</td>\n    </tr>\n    <tr>\n      <th>3</th>\n      <td>2018.06.08</td>\n      <td>08-Jun-2018</td>\n      <td>2018.0</td>\n      <td>Unprovoked</td>\n      <td>AUSTRALIA</td>\n      <td>New South Wales</td>\n      <td>Arrawarra Headland</td>\n      <td>Surfing</td>\n      <td>male</td>\n      <td>M</td>\n      <td>NaN</td>\n      <td>Minor injury to lower leg</td>\n      <td>N</td>\n      <td>NaN</td>\n      <td>2 m shark</td>\n      <td>2018.06.08-Arrawarra.pdf</td>\n      <td>2018.06.08</td>\n      <td>2018.06.08</td>\n      <td>6300.0</td>\n    </tr>\n    <tr>\n      <th>4</th>\n      <td>2018.06.04</td>\n      <td>04-Jun-2018</td>\n      <td>2018.0</td>\n      <td>Provoked</td>\n      <td>MEXICO</td>\n      <td>Colima</td>\n      <td>La Ticla</td>\n      <td>Free diving</td>\n      <td>Gustavo Ramos</td>\n      <td>M</td>\n      <td>NaN</td>\n      <td>Lacerations to leg &amp; hand shark PROVOKED INCIDENT</td>\n      <td>N</td>\n      <td>NaN</td>\n      <td>Tiger shark, 3m</td>\n      <td>2018.06.04-Ramos.pdf</td>\n      <td>2018.06.04</td>\n      <td>2018.06.04</td>\n      <td>6299.0</td>\n    </tr>\n    <tr>\n      <th>...</th>\n      <td>...</td>\n      <td>...</td>\n      <td>...</td>\n      <td>...</td>\n      <td>...</td>\n      <td>...</td>\n      <td>...</td>\n      <td>...</td>\n      <td>...</td>\n      <td>...</td>\n      <td>...</td>\n      <td>...</td>\n      <td>...</td>\n      <td>...</td>\n      <td>...</td>\n      <td>...</td>\n      <td>...</td>\n      <td>...</td>\n      <td>...</td>\n    </tr>\n    <tr>\n      <th>8698</th>\n      <td>0</td>\n      <td>NaN</td>\n      <td>NaN</td>\n      <td>NaN</td>\n      <td>NaN</td>\n      <td>NaN</td>\n      <td>NaN</td>\n      <td>NaN</td>\n      <td>NaN</td>\n      <td>NaN</td>\n      <td>NaN</td>\n      <td>NaN</td>\n      <td>NaN</td>\n      <td>NaN</td>\n      <td>NaN</td>\n      <td>NaN</td>\n      <td>NaN</td>\n      <td>NaN</td>\n      <td>NaN</td>\n    </tr>\n    <tr>\n      <th>8699</th>\n      <td>0</td>\n      <td>NaN</td>\n      <td>NaN</td>\n      <td>NaN</td>\n      <td>NaN</td>\n      <td>NaN</td>\n      <td>NaN</td>\n      <td>NaN</td>\n      <td>NaN</td>\n      <td>NaN</td>\n      <td>NaN</td>\n      <td>NaN</td>\n      <td>NaN</td>\n      <td>NaN</td>\n      <td>NaN</td>\n      <td>NaN</td>\n      <td>NaN</td>\n      <td>NaN</td>\n      <td>NaN</td>\n    </tr>\n    <tr>\n      <th>8700</th>\n      <td>0</td>\n      <td>NaN</td>\n      <td>NaN</td>\n      <td>NaN</td>\n      <td>NaN</td>\n      <td>NaN</td>\n      <td>NaN</td>\n      <td>NaN</td>\n      <td>NaN</td>\n      <td>NaN</td>\n      <td>NaN</td>\n      <td>NaN</td>\n      <td>NaN</td>\n      <td>NaN</td>\n      <td>NaN</td>\n      <td>NaN</td>\n      <td>NaN</td>\n      <td>NaN</td>\n      <td>NaN</td>\n    </tr>\n    <tr>\n      <th>8701</th>\n      <td>0</td>\n      <td>NaN</td>\n      <td>NaN</td>\n      <td>NaN</td>\n      <td>NaN</td>\n      <td>NaN</td>\n      <td>NaN</td>\n      <td>NaN</td>\n      <td>NaN</td>\n      <td>NaN</td>\n      <td>NaN</td>\n      <td>NaN</td>\n      <td>NaN</td>\n      <td>NaN</td>\n      <td>NaN</td>\n      <td>NaN</td>\n      <td>NaN</td>\n      <td>NaN</td>\n      <td>NaN</td>\n    </tr>\n    <tr>\n      <th>25722</th>\n      <td>xx</td>\n      <td>NaN</td>\n      <td>NaN</td>\n      <td>NaN</td>\n      <td>NaN</td>\n      <td>NaN</td>\n      <td>NaN</td>\n      <td>NaN</td>\n      <td>NaN</td>\n      <td>NaN</td>\n      <td>NaN</td>\n      <td>NaN</td>\n      <td>NaN</td>\n      <td>NaN</td>\n      <td>NaN</td>\n      <td>NaN</td>\n      <td>NaN</td>\n      <td>NaN</td>\n      <td>NaN</td>\n    </tr>\n  </tbody>\n</table>\n<p>8703 rows × 19 columns</p>\n</div>"
     },
     "execution_count": 105,
     "metadata": {},
     "output_type": "execute_result"
    }
   ],
   "source": [
    "columns_to_drop = shark_data[:][:].isnull().sum()#crio a máscara que soma a quantidade de dados nulos NAS COLUNAS\n",
    "\n",
    "#shark_data[columns_to_drop <= (len(shark_data)*.95)] #aplico a máscara que verifica as colunas com pelo menos 95% das entradas nulas\n",
    "#shark_data = shark_data.drop(shark_data[columns_to_drop <= (len(shark_data)*.95).columns])#aplico a máscara no drop e atribuo o resultado à variável para não fazer inplace\n",
    "#DROP IRRELEVANT COLUMNS ACCORDING TO THIS PROJECTS PURPOSE/SCOPE\n",
    "shark_data = shark_data.drop(columns=[\"Unnamed: 22\",\"Unnamed: 23\",\"Investigator or Source\",\"href\",\"href formula\"])\n",
    "shark_data"
   ],
   "metadata": {
    "collapsed": false,
    "pycharm": {
     "name": "#%%\n"
    }
   }
  },
  {
   "cell_type": "markdown",
   "source": [
    "Check possible duplicated columns"
   ],
   "metadata": {
    "collapsed": false,
    "pycharm": {
     "name": "#%% md\n"
    }
   }
  },
  {
   "cell_type": "code",
   "execution_count": 12,
   "outputs": [
    {
     "data": {
      "text/plain": "              Date    Year        Type    Country             Area  \\\n0      25-Jun-2018  2018.0     Boating        USA       California   \n1      18-Jun-2018  2018.0  Unprovoked        USA          Georgia   \n2      09-Jun-2018  2018.0     Invalid        USA           Hawaii   \n3      08-Jun-2018  2018.0  Unprovoked  AUSTRALIA  New South Wales   \n4      04-Jun-2018  2018.0    Provoked     MEXICO           Colima   \n...            ...     ...         ...        ...              ...   \n25718          NaN     NaN         NaN        NaN              NaN   \n25719          NaN     NaN         NaN        NaN              NaN   \n25720          NaN     NaN         NaN        NaN              NaN   \n25721          NaN     NaN         NaN        NaN              NaN   \n25722          NaN     NaN         NaN        NaN              NaN   \n\n                             Location     Activity             Name Sex   Age  \\\n0         Oceanside, San Diego County     Paddling      Julie Wolfe    F   57   \n1      St. Simon Island, Glynn County     Standing  Adyson McNeely     F   11   \n2                        Habush, Oahu      Surfing      John Denges    M   48   \n3                  Arrawarra Headland      Surfing             male    M  NaN   \n4                            La Ticla  Free diving   Gustavo Ramos     M  NaN   \n...                               ...          ...              ...  ...  ...   \n25718                             NaN          NaN              NaN  NaN  NaN   \n25719                             NaN          NaN              NaN  NaN  NaN   \n25720                             NaN          NaN              NaN  NaN  NaN   \n25721                             NaN          NaN              NaN  NaN  NaN   \n25722                             NaN          NaN              NaN  NaN  NaN   \n\n       ... Fatal (Y/N)           Time         Species   \\\n0      ...           N          18h00      White shark   \n1      ...           N  14h00  -15h00              NaN   \n2      ...           N          07h45              NaN   \n3      ...           N            NaN        2 m shark   \n4      ...           N            NaN  Tiger shark, 3m   \n...    ...         ...            ...              ...   \n25718  ...         NaN            NaN              NaN   \n25719  ...         NaN            NaN              NaN   \n25720  ...         NaN            NaN              NaN   \n25721  ...         NaN            NaN              NaN   \n25722  ...         NaN            NaN              NaN   \n\n               Investigator or Source                       pdf  \\\n0                    R. Collier, GSAF      2018.06.25-Wolfe.pdf   \n1      K.McMurray, TrackingSharks.com    2018.06.18-McNeely.pdf   \n2      K.McMurray, TrackingSharks.com     2018.06.09-Denges.pdf   \n3                      B. Myatt, GSAF  2018.06.08-Arrawarra.pdf   \n4                           A .Kipper      2018.06.04-Ramos.pdf   \n...                               ...                       ...   \n25718                             NaN                       NaN   \n25719                             NaN                       NaN   \n25720                             NaN                       NaN   \n25721                             NaN                       NaN   \n25722                             NaN                       NaN   \n\n                                            href formula  \\\n0      http://sharkattackfile.net/spreadsheets/pdf_di...   \n1      http://sharkattackfile.net/spreadsheets/pdf_di...   \n2      http://sharkattackfile.net/spreadsheets/pdf_di...   \n3      http://sharkattackfile.net/spreadsheets/pdf_di...   \n4      http://sharkattackfile.net/spreadsheets/pdf_di...   \n...                                                  ...   \n25718                                                NaN   \n25719                                                NaN   \n25720                                                NaN   \n25721                                                NaN   \n25722                                                NaN   \n\n                                                    href original order  \\\n0      http://sharkattackfile.net/spreadsheets/pdf_di...         6303.0   \n1      http://sharkattackfile.net/spreadsheets/pdf_di...         6302.0   \n2      http://sharkattackfile.net/spreadsheets/pdf_di...         6301.0   \n3      http://sharkattackfile.net/spreadsheets/pdf_di...         6300.0   \n4      http://sharkattackfile.net/spreadsheets/pdf_di...         6299.0   \n...                                                  ...            ...   \n25718                                                NaN            NaN   \n25719                                                NaN            NaN   \n25720                                                NaN            NaN   \n25721                                                NaN            NaN   \n25722                                                NaN            NaN   \n\n       Unnamed: 22 Unnamed: 23  \n0              NaN         NaN  \n1              NaN         NaN  \n2              NaN         NaN  \n3              NaN         NaN  \n4              NaN         NaN  \n...            ...         ...  \n25718          NaN         NaN  \n25719          NaN         NaN  \n25720          NaN         NaN  \n25721          NaN         NaN  \n25722          NaN         NaN  \n\n[25723 rows x 21 columns]",
      "text/html": "<div>\n<style scoped>\n    .dataframe tbody tr th:only-of-type {\n        vertical-align: middle;\n    }\n\n    .dataframe tbody tr th {\n        vertical-align: top;\n    }\n\n    .dataframe thead th {\n        text-align: right;\n    }\n</style>\n<table border=\"1\" class=\"dataframe\">\n  <thead>\n    <tr style=\"text-align: right;\">\n      <th></th>\n      <th>Date</th>\n      <th>Year</th>\n      <th>Type</th>\n      <th>Country</th>\n      <th>Area</th>\n      <th>Location</th>\n      <th>Activity</th>\n      <th>Name</th>\n      <th>Sex</th>\n      <th>Age</th>\n      <th>...</th>\n      <th>Fatal (Y/N)</th>\n      <th>Time</th>\n      <th>Species</th>\n      <th>Investigator or Source</th>\n      <th>pdf</th>\n      <th>href formula</th>\n      <th>href</th>\n      <th>original order</th>\n      <th>Unnamed: 22</th>\n      <th>Unnamed: 23</th>\n    </tr>\n  </thead>\n  <tbody>\n    <tr>\n      <th>0</th>\n      <td>25-Jun-2018</td>\n      <td>2018.0</td>\n      <td>Boating</td>\n      <td>USA</td>\n      <td>California</td>\n      <td>Oceanside, San Diego County</td>\n      <td>Paddling</td>\n      <td>Julie Wolfe</td>\n      <td>F</td>\n      <td>57</td>\n      <td>...</td>\n      <td>N</td>\n      <td>18h00</td>\n      <td>White shark</td>\n      <td>R. Collier, GSAF</td>\n      <td>2018.06.25-Wolfe.pdf</td>\n      <td>http://sharkattackfile.net/spreadsheets/pdf_di...</td>\n      <td>http://sharkattackfile.net/spreadsheets/pdf_di...</td>\n      <td>6303.0</td>\n      <td>NaN</td>\n      <td>NaN</td>\n    </tr>\n    <tr>\n      <th>1</th>\n      <td>18-Jun-2018</td>\n      <td>2018.0</td>\n      <td>Unprovoked</td>\n      <td>USA</td>\n      <td>Georgia</td>\n      <td>St. Simon Island, Glynn County</td>\n      <td>Standing</td>\n      <td>Adyson McNeely</td>\n      <td>F</td>\n      <td>11</td>\n      <td>...</td>\n      <td>N</td>\n      <td>14h00  -15h00</td>\n      <td>NaN</td>\n      <td>K.McMurray, TrackingSharks.com</td>\n      <td>2018.06.18-McNeely.pdf</td>\n      <td>http://sharkattackfile.net/spreadsheets/pdf_di...</td>\n      <td>http://sharkattackfile.net/spreadsheets/pdf_di...</td>\n      <td>6302.0</td>\n      <td>NaN</td>\n      <td>NaN</td>\n    </tr>\n    <tr>\n      <th>2</th>\n      <td>09-Jun-2018</td>\n      <td>2018.0</td>\n      <td>Invalid</td>\n      <td>USA</td>\n      <td>Hawaii</td>\n      <td>Habush, Oahu</td>\n      <td>Surfing</td>\n      <td>John Denges</td>\n      <td>M</td>\n      <td>48</td>\n      <td>...</td>\n      <td>N</td>\n      <td>07h45</td>\n      <td>NaN</td>\n      <td>K.McMurray, TrackingSharks.com</td>\n      <td>2018.06.09-Denges.pdf</td>\n      <td>http://sharkattackfile.net/spreadsheets/pdf_di...</td>\n      <td>http://sharkattackfile.net/spreadsheets/pdf_di...</td>\n      <td>6301.0</td>\n      <td>NaN</td>\n      <td>NaN</td>\n    </tr>\n    <tr>\n      <th>3</th>\n      <td>08-Jun-2018</td>\n      <td>2018.0</td>\n      <td>Unprovoked</td>\n      <td>AUSTRALIA</td>\n      <td>New South Wales</td>\n      <td>Arrawarra Headland</td>\n      <td>Surfing</td>\n      <td>male</td>\n      <td>M</td>\n      <td>NaN</td>\n      <td>...</td>\n      <td>N</td>\n      <td>NaN</td>\n      <td>2 m shark</td>\n      <td>B. Myatt, GSAF</td>\n      <td>2018.06.08-Arrawarra.pdf</td>\n      <td>http://sharkattackfile.net/spreadsheets/pdf_di...</td>\n      <td>http://sharkattackfile.net/spreadsheets/pdf_di...</td>\n      <td>6300.0</td>\n      <td>NaN</td>\n      <td>NaN</td>\n    </tr>\n    <tr>\n      <th>4</th>\n      <td>04-Jun-2018</td>\n      <td>2018.0</td>\n      <td>Provoked</td>\n      <td>MEXICO</td>\n      <td>Colima</td>\n      <td>La Ticla</td>\n      <td>Free diving</td>\n      <td>Gustavo Ramos</td>\n      <td>M</td>\n      <td>NaN</td>\n      <td>...</td>\n      <td>N</td>\n      <td>NaN</td>\n      <td>Tiger shark, 3m</td>\n      <td>A .Kipper</td>\n      <td>2018.06.04-Ramos.pdf</td>\n      <td>http://sharkattackfile.net/spreadsheets/pdf_di...</td>\n      <td>http://sharkattackfile.net/spreadsheets/pdf_di...</td>\n      <td>6299.0</td>\n      <td>NaN</td>\n      <td>NaN</td>\n    </tr>\n    <tr>\n      <th>...</th>\n      <td>...</td>\n      <td>...</td>\n      <td>...</td>\n      <td>...</td>\n      <td>...</td>\n      <td>...</td>\n      <td>...</td>\n      <td>...</td>\n      <td>...</td>\n      <td>...</td>\n      <td>...</td>\n      <td>...</td>\n      <td>...</td>\n      <td>...</td>\n      <td>...</td>\n      <td>...</td>\n      <td>...</td>\n      <td>...</td>\n      <td>...</td>\n      <td>...</td>\n      <td>...</td>\n    </tr>\n    <tr>\n      <th>25718</th>\n      <td>NaN</td>\n      <td>NaN</td>\n      <td>NaN</td>\n      <td>NaN</td>\n      <td>NaN</td>\n      <td>NaN</td>\n      <td>NaN</td>\n      <td>NaN</td>\n      <td>NaN</td>\n      <td>NaN</td>\n      <td>...</td>\n      <td>NaN</td>\n      <td>NaN</td>\n      <td>NaN</td>\n      <td>NaN</td>\n      <td>NaN</td>\n      <td>NaN</td>\n      <td>NaN</td>\n      <td>NaN</td>\n      <td>NaN</td>\n      <td>NaN</td>\n    </tr>\n    <tr>\n      <th>25719</th>\n      <td>NaN</td>\n      <td>NaN</td>\n      <td>NaN</td>\n      <td>NaN</td>\n      <td>NaN</td>\n      <td>NaN</td>\n      <td>NaN</td>\n      <td>NaN</td>\n      <td>NaN</td>\n      <td>NaN</td>\n      <td>...</td>\n      <td>NaN</td>\n      <td>NaN</td>\n      <td>NaN</td>\n      <td>NaN</td>\n      <td>NaN</td>\n      <td>NaN</td>\n      <td>NaN</td>\n      <td>NaN</td>\n      <td>NaN</td>\n      <td>NaN</td>\n    </tr>\n    <tr>\n      <th>25720</th>\n      <td>NaN</td>\n      <td>NaN</td>\n      <td>NaN</td>\n      <td>NaN</td>\n      <td>NaN</td>\n      <td>NaN</td>\n      <td>NaN</td>\n      <td>NaN</td>\n      <td>NaN</td>\n      <td>NaN</td>\n      <td>...</td>\n      <td>NaN</td>\n      <td>NaN</td>\n      <td>NaN</td>\n      <td>NaN</td>\n      <td>NaN</td>\n      <td>NaN</td>\n      <td>NaN</td>\n      <td>NaN</td>\n      <td>NaN</td>\n      <td>NaN</td>\n    </tr>\n    <tr>\n      <th>25721</th>\n      <td>NaN</td>\n      <td>NaN</td>\n      <td>NaN</td>\n      <td>NaN</td>\n      <td>NaN</td>\n      <td>NaN</td>\n      <td>NaN</td>\n      <td>NaN</td>\n      <td>NaN</td>\n      <td>NaN</td>\n      <td>...</td>\n      <td>NaN</td>\n      <td>NaN</td>\n      <td>NaN</td>\n      <td>NaN</td>\n      <td>NaN</td>\n      <td>NaN</td>\n      <td>NaN</td>\n      <td>NaN</td>\n      <td>NaN</td>\n      <td>NaN</td>\n    </tr>\n    <tr>\n      <th>25722</th>\n      <td>NaN</td>\n      <td>NaN</td>\n      <td>NaN</td>\n      <td>NaN</td>\n      <td>NaN</td>\n      <td>NaN</td>\n      <td>NaN</td>\n      <td>NaN</td>\n      <td>NaN</td>\n      <td>NaN</td>\n      <td>...</td>\n      <td>NaN</td>\n      <td>NaN</td>\n      <td>NaN</td>\n      <td>NaN</td>\n      <td>NaN</td>\n      <td>NaN</td>\n      <td>NaN</td>\n      <td>NaN</td>\n      <td>NaN</td>\n      <td>NaN</td>\n    </tr>\n  </tbody>\n</table>\n<p>25723 rows × 21 columns</p>\n</div>"
     },
     "execution_count": 12,
     "metadata": {},
     "output_type": "execute_result"
    }
   ],
   "source": [
    "#shark_data[[\"Case Number\",\"Case Number.2\",\"Case Number.1\"]]\n",
    "mask = ((shark_data[\"Case Number\"] == shark_data[\"Case Number.1\"]) & (shark_data[\"Case Number\"] == shark_data[\"Case Number.2\"])).value_counts()\n",
    "#drop irrelevant (to the scope of this project) and almost identical columns\n",
    "shark_data = shark_data.drop(columns=[\"Case Number.1\",\"Case Number\",\"Case Number.2\"])\n",
    "shark_data"
   ],
   "metadata": {
    "collapsed": false,
    "pycharm": {
     "name": "#%%\n"
    }
   }
  },
  {
   "cell_type": "code",
   "execution_count": 149,
   "outputs": [
    {
     "name": "stdout",
     "output_type": "stream",
     "text": [
      "186\n",
      "283\n"
     ]
    }
   ],
   "source": [
    "USA_FATAL = shark_data[(shark_data[\"Country\"] == \"USA\") &\n",
    "                   (shark_data[\"Fatal (Y/N)\"] == \"Y\")]\n",
    "\n",
    "AU_FATAL = shark_data[(shark_data[\"Country\"] == \"AUSTRALIA\") &\n",
    "                   (shark_data[\"Fatal (Y/N)\"] == \"Y\")]\n",
    "\n",
    "print(len(USA_FATAL))\n",
    "print(len(AU_FATAL))\n",
    "\n",
    "\n"
   ],
   "metadata": {
    "collapsed": false,
    "pycharm": {
     "name": "#%%\n"
    }
   }
  },
  {
   "cell_type": "markdown",
   "source": [
    "<div class=\"alert alert-block alert-warning\">\n",
    "    <p> Identify and modify data types, if needed.</p>\n",
    "</div>"
   ],
   "metadata": {
    "collapsed": false
   }
  },
  {
   "cell_type": "code",
   "execution_count": 35,
   "outputs": [
    {
     "name": "stdout",
     "output_type": "stream",
     "text": [
      "<class 'pandas.core.frame.DataFrame'>\n",
      "RangeIndex: 25723 entries, 0 to 25722\n",
      "Data columns (total 24 columns):\n",
      " #   Column                  Non-Null Count  Dtype  \n",
      "---  ------                  --------------  -----  \n",
      " 0   Case Number             8702 non-null   object \n",
      " 1   Date                    6302 non-null   object \n",
      " 2   Year                    6300 non-null   float64\n",
      " 3   Type                    6298 non-null   object \n",
      " 4   Country                 6252 non-null   object \n",
      " 5   Area                    5847 non-null   object \n",
      " 6   Location                5762 non-null   object \n",
      " 7   Activity                5758 non-null   object \n",
      " 8   Name                    6092 non-null   object \n",
      " 9   Sex                     5737 non-null   object \n",
      " 10  Age                     3471 non-null   object \n",
      " 11  Injury                  6274 non-null   object \n",
      " 12  Fatal (Y/N)             5763 non-null   object \n",
      " 13  Time                    2948 non-null   object \n",
      " 14  Species                 3464 non-null   object \n",
      " 15  Investigator or Source  6285 non-null   object \n",
      " 16  pdf                     6302 non-null   object \n",
      " 17  href formula            6301 non-null   object \n",
      " 18  href                    6302 non-null   object \n",
      " 19  Case Number.1           6302 non-null   object \n",
      " 20  Case Number.2           6302 non-null   object \n",
      " 21  original order          6309 non-null   float64\n",
      " 22  Unnamed: 22             1 non-null      object \n",
      " 23  Unnamed: 23             2 non-null      object \n",
      "dtypes: float64(2), object(22)\n",
      "memory usage: 4.7+ MB\n"
     ]
    }
   ],
   "source": [
    "#check data types\n",
    "shark_data.info()\n",
    "#shark_data.astype({\"Date\":\"datetime6\", \"Year\":\"int64\",\"Age\":\"int64\"})"
   ],
   "metadata": {
    "collapsed": false,
    "pycharm": {
     "name": "#%%\n"
    }
   }
  },
  {
   "cell_type": "markdown",
   "source": [
    "<div class=\"alert alert-block alert-warning\">\n",
    "    <p>Identify droppable columns / blank cells.</p></div>"
   ],
   "metadata": {
    "collapsed": false
   }
  },
  {
   "cell_type": "code",
   "execution_count": 21,
   "outputs": [],
   "source": [],
   "metadata": {
    "collapsed": false,
    "pycharm": {
     "name": "#%%\n"
    }
   }
  },
  {
   "cell_type": "code",
   "execution_count": null,
   "outputs": [],
   "source": [],
   "metadata": {
    "collapsed": false,
    "pycharm": {
     "name": "#%%\n"
    }
   }
  }
 ],
 "metadata": {
  "kernelspec": {
   "display_name": "Python 3 (ipykernel)",
   "language": "python",
   "name": "python3"
  },
  "language_info": {
   "codemirror_mode": {
    "name": "ipython",
    "version": 3
   },
   "file_extension": ".py",
   "mimetype": "text/x-python",
   "name": "python",
   "nbconvert_exporter": "python",
   "pygments_lexer": "ipython3",
   "version": "3.10.1"
  },
  "varInspector": {
   "cols": {
    "lenName": 16,
    "lenType": 16,
    "lenVar": 40
   },
   "kernels_config": {
    "python": {
     "delete_cmd_postfix": "",
     "delete_cmd_prefix": "del ",
     "library": "var_list.py",
     "varRefreshCmd": "print(var_dic_list())"
    },
    "r": {
     "delete_cmd_postfix": ") ",
     "delete_cmd_prefix": "rm(",
     "library": "var_list.r",
     "varRefreshCmd": "cat(var_dic_list()) "
    }
   },
   "types_to_exclude": [
    "module",
    "function",
    "builtin_function_or_method",
    "instance",
    "_Feature"
   ],
   "window_display": false
  }
 },
 "nbformat": 4,
 "nbformat_minor": 1
}