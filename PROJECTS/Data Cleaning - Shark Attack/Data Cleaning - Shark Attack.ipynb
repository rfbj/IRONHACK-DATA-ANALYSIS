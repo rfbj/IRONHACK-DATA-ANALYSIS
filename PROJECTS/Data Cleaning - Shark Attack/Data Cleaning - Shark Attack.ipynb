{
 "cells": [
  {
   "cell_type": "markdown",
   "metadata": {
    "collapsed": true,
    "pycharm": {
     "name": "#%% md\n"
    }
   },
   "source": [
    "<div class=\"alert alert-block alert-success\">\n",
    "    <p><b>IRONHACK - DATA ANALYSIS FT - JAN22</b></p>\n",
    "    <i><b>PROJECT:</b> Data cleaning and manipulation - Shark Attack</i>\n",
    "</div>\n",
    "\n",
    "---"
   ]
  },
  {
   "cell_type": "markdown",
   "metadata": {},
   "source": [
    "<div class=\"alert alert-block alert-info\">\n",
    "    <p><b>Import Libs:</b></p>\n",
    "</div>"
   ]
  },
  {
   "cell_type": "code",
   "execution_count": 112,
   "metadata": {
    "ExecuteTime": {
     "end_time": "2022-01-22T02:27:42.509344Z",
     "start_time": "2022-01-22T02:27:42.500367Z"
    },
    "pycharm": {
     "name": "#%%\n"
    }
   },
   "outputs": [],
   "source": [
    "import pandas as pd\n",
    "import numpy as np\n",
    "from tqdm import tqdm\n",
    "import seaborn as sns\n",
    "import matplotlib as plt\n",
    "import re\n",
    "import time\n",
    "from pandas_profiling import ProfileReport\n",
    "from datetime import datetime\n",
    "from bs4 import BeautifulSoup\n",
    "import dateparser\n",
    "import requests"
   ]
  },
  {
   "cell_type": "markdown",
   "metadata": {},
   "source": [
    "<div class=\"alert alert-block alert-info\">\n",
    "<b>Read CSV and identify encodig:</b></div>"
   ]
  },
  {
   "cell_type": "code",
   "execution_count": 117,
   "metadata": {
    "ExecuteTime": {
     "end_time": "2022-01-22T02:27:44.005648Z",
     "start_time": "2022-01-22T02:27:43.923638Z"
    },
    "pycharm": {
     "name": "#%%\n"
    }
   },
   "outputs": [],
   "source": [
    "shark_data = pd.read_csv(\"data/attacks.csv\", encoding=\"latin1\")\n",
    "#DataSet documentation: https://www.sharkattackfile.net/\n",
    "moonp = pd.read_csv(\"gun_da_lua.csv\")\n",
    "mp_cols = \"New Moon\",\"First Quarter\",\"Full Moon\", \"Third Quarter\"\n",
    "#for year in tqdm(range(1800,2020)):\n",
    "    #globals()[f\"df{year}\"] = pd.read_html(f'https://www.timeanddate.com/moon/phases/?year={year}')[1]\n",
    "\n",
    "# for year in range(1800,2020):\n",
    "#     for mp in mp_cols:\n",
    "#         globals()f'df{year}{[mp]}' = (globals()[f'df{year}{[mp]}']+f'/{year}').str.replace(' ','/')\n",
    "#         globals()f'df{year}{[mp]}'.apply(lambda y: datetime.strptime(y, '%d/%b/%Y') if isinstance(y,str) and not y.startswith('*/All/times/') else np.nan)\n",
    "\n",
    "\n",
    "#    pd.to_datetime(moonp[mp])\n",
    "\n",
    "\n",
    "#df['New Moon'].apply(lambda x: datetime.strptime(x, '%d/%b/%Y') if isinstance(x,str) and not x.startswith('*/All/times/') else np.nan)\n"
   ]
  },
  {
   "cell_type": "code",
   "execution_count": 119,
   "outputs": [
    {
     "data": {
      "text/plain": "                           0\nNew Moon            New Moon\nFirst Quarter  First Quarter\nFull Moon          Full Moon\nThird Quarter  Third Quarter",
      "text/html": "<div>\n<style scoped>\n    .dataframe tbody tr th:only-of-type {\n        vertical-align: middle;\n    }\n\n    .dataframe tbody tr th {\n        vertical-align: top;\n    }\n\n    .dataframe thead th {\n        text-align: right;\n    }\n</style>\n<table border=\"1\" class=\"dataframe\">\n  <thead>\n    <tr style=\"text-align: right;\">\n      <th></th>\n      <th>0</th>\n    </tr>\n  </thead>\n  <tbody>\n    <tr>\n      <th>New Moon</th>\n      <td>New Moon</td>\n    </tr>\n    <tr>\n      <th>First Quarter</th>\n      <td>First Quarter</td>\n    </tr>\n    <tr>\n      <th>Full Moon</th>\n      <td>Full Moon</td>\n    </tr>\n    <tr>\n      <th>Third Quarter</th>\n      <td>Third Quarter</td>\n    </tr>\n  </tbody>\n</table>\n</div>"
     },
     "execution_count": 119,
     "metadata": {},
     "output_type": "execute_result"
    }
   ],
   "source": [
    "moonp.transpose()\n"
   ],
   "metadata": {
    "collapsed": false,
    "pycharm": {
     "name": "#%%\n"
    }
   }
  },
  {
   "cell_type": "markdown",
   "metadata": {
    "pycharm": {
     "name": "#%% md\n"
    }
   },
   "source": [
    "<div class=\"alert alert-block alert-success\">\n",
    "<b>DataSet Preview:</b> Head, info, describe and dtypes</div>"
   ]
  },
  {
   "cell_type": "code",
   "execution_count": 32,
   "metadata": {
    "ExecuteTime": {
     "end_time": "2022-01-22T02:27:45.814998Z",
     "start_time": "2022-01-22T02:27:45.788075Z"
    },
    "pycharm": {
     "name": "#%%\n"
    }
   },
   "outputs": [
    {
     "data": {
      "text/plain": "  Case Number         Date    Year        Type    Country             Area  \\\n0  2018.06.25  25-Jun-2018  2018.0     Boating        USA       California   \n1  2018.06.18  18-Jun-2018  2018.0  Unprovoked        USA          Georgia   \n2  2018.06.09  09-Jun-2018  2018.0     Invalid        USA           Hawaii   \n3  2018.06.08  08-Jun-2018  2018.0  Unprovoked  AUSTRALIA  New South Wales   \n4  2018.06.04  04-Jun-2018  2018.0    Provoked     MEXICO           Colima   \n\n                         Location     Activity             Name Sex   ...  \\\n0     Oceanside, San Diego County     Paddling      Julie Wolfe    F  ...   \n1  St. Simon Island, Glynn County     Standing  Adyson McNeely     F  ...   \n2                    Habush, Oahu      Surfing      John Denges    M  ...   \n3              Arrawarra Headland      Surfing             male    M  ...   \n4                        La Ticla  Free diving   Gustavo Ramos     M  ...   \n\n          Species           Investigator or Source                       pdf  \\\n0      White shark                R. Collier, GSAF      2018.06.25-Wolfe.pdf   \n1              NaN  K.McMurray, TrackingSharks.com    2018.06.18-McNeely.pdf   \n2              NaN  K.McMurray, TrackingSharks.com     2018.06.09-Denges.pdf   \n3        2 m shark                  B. Myatt, GSAF  2018.06.08-Arrawarra.pdf   \n4  Tiger shark, 3m                       A .Kipper      2018.06.04-Ramos.pdf   \n\n                                        href formula  \\\n0  http://sharkattackfile.net/spreadsheets/pdf_di...   \n1  http://sharkattackfile.net/spreadsheets/pdf_di...   \n2  http://sharkattackfile.net/spreadsheets/pdf_di...   \n3  http://sharkattackfile.net/spreadsheets/pdf_di...   \n4  http://sharkattackfile.net/spreadsheets/pdf_di...   \n\n                                                href Case Number.1  \\\n0  http://sharkattackfile.net/spreadsheets/pdf_di...    2018.06.25   \n1  http://sharkattackfile.net/spreadsheets/pdf_di...    2018.06.18   \n2  http://sharkattackfile.net/spreadsheets/pdf_di...    2018.06.09   \n3  http://sharkattackfile.net/spreadsheets/pdf_di...    2018.06.08   \n4  http://sharkattackfile.net/spreadsheets/pdf_di...    2018.06.04   \n\n  Case Number.2 original order Unnamed: 22 Unnamed: 23  \n0    2018.06.25         6303.0         NaN         NaN  \n1    2018.06.18         6302.0         NaN         NaN  \n2    2018.06.09         6301.0         NaN         NaN  \n3    2018.06.08         6300.0         NaN         NaN  \n4    2018.06.04         6299.0         NaN         NaN  \n\n[5 rows x 24 columns]",
      "text/html": "<div>\n<style scoped>\n    .dataframe tbody tr th:only-of-type {\n        vertical-align: middle;\n    }\n\n    .dataframe tbody tr th {\n        vertical-align: top;\n    }\n\n    .dataframe thead th {\n        text-align: right;\n    }\n</style>\n<table border=\"1\" class=\"dataframe\">\n  <thead>\n    <tr style=\"text-align: right;\">\n      <th></th>\n      <th>Case Number</th>\n      <th>Date</th>\n      <th>Year</th>\n      <th>Type</th>\n      <th>Country</th>\n      <th>Area</th>\n      <th>Location</th>\n      <th>Activity</th>\n      <th>Name</th>\n      <th>Sex</th>\n      <th>...</th>\n      <th>Species</th>\n      <th>Investigator or Source</th>\n      <th>pdf</th>\n      <th>href formula</th>\n      <th>href</th>\n      <th>Case Number.1</th>\n      <th>Case Number.2</th>\n      <th>original order</th>\n      <th>Unnamed: 22</th>\n      <th>Unnamed: 23</th>\n    </tr>\n  </thead>\n  <tbody>\n    <tr>\n      <th>0</th>\n      <td>2018.06.25</td>\n      <td>25-Jun-2018</td>\n      <td>2018.0</td>\n      <td>Boating</td>\n      <td>USA</td>\n      <td>California</td>\n      <td>Oceanside, San Diego County</td>\n      <td>Paddling</td>\n      <td>Julie Wolfe</td>\n      <td>F</td>\n      <td>...</td>\n      <td>White shark</td>\n      <td>R. Collier, GSAF</td>\n      <td>2018.06.25-Wolfe.pdf</td>\n      <td>http://sharkattackfile.net/spreadsheets/pdf_di...</td>\n      <td>http://sharkattackfile.net/spreadsheets/pdf_di...</td>\n      <td>2018.06.25</td>\n      <td>2018.06.25</td>\n      <td>6303.0</td>\n      <td>NaN</td>\n      <td>NaN</td>\n    </tr>\n    <tr>\n      <th>1</th>\n      <td>2018.06.18</td>\n      <td>18-Jun-2018</td>\n      <td>2018.0</td>\n      <td>Unprovoked</td>\n      <td>USA</td>\n      <td>Georgia</td>\n      <td>St. Simon Island, Glynn County</td>\n      <td>Standing</td>\n      <td>Adyson McNeely</td>\n      <td>F</td>\n      <td>...</td>\n      <td>NaN</td>\n      <td>K.McMurray, TrackingSharks.com</td>\n      <td>2018.06.18-McNeely.pdf</td>\n      <td>http://sharkattackfile.net/spreadsheets/pdf_di...</td>\n      <td>http://sharkattackfile.net/spreadsheets/pdf_di...</td>\n      <td>2018.06.18</td>\n      <td>2018.06.18</td>\n      <td>6302.0</td>\n      <td>NaN</td>\n      <td>NaN</td>\n    </tr>\n    <tr>\n      <th>2</th>\n      <td>2018.06.09</td>\n      <td>09-Jun-2018</td>\n      <td>2018.0</td>\n      <td>Invalid</td>\n      <td>USA</td>\n      <td>Hawaii</td>\n      <td>Habush, Oahu</td>\n      <td>Surfing</td>\n      <td>John Denges</td>\n      <td>M</td>\n      <td>...</td>\n      <td>NaN</td>\n      <td>K.McMurray, TrackingSharks.com</td>\n      <td>2018.06.09-Denges.pdf</td>\n      <td>http://sharkattackfile.net/spreadsheets/pdf_di...</td>\n      <td>http://sharkattackfile.net/spreadsheets/pdf_di...</td>\n      <td>2018.06.09</td>\n      <td>2018.06.09</td>\n      <td>6301.0</td>\n      <td>NaN</td>\n      <td>NaN</td>\n    </tr>\n    <tr>\n      <th>3</th>\n      <td>2018.06.08</td>\n      <td>08-Jun-2018</td>\n      <td>2018.0</td>\n      <td>Unprovoked</td>\n      <td>AUSTRALIA</td>\n      <td>New South Wales</td>\n      <td>Arrawarra Headland</td>\n      <td>Surfing</td>\n      <td>male</td>\n      <td>M</td>\n      <td>...</td>\n      <td>2 m shark</td>\n      <td>B. Myatt, GSAF</td>\n      <td>2018.06.08-Arrawarra.pdf</td>\n      <td>http://sharkattackfile.net/spreadsheets/pdf_di...</td>\n      <td>http://sharkattackfile.net/spreadsheets/pdf_di...</td>\n      <td>2018.06.08</td>\n      <td>2018.06.08</td>\n      <td>6300.0</td>\n      <td>NaN</td>\n      <td>NaN</td>\n    </tr>\n    <tr>\n      <th>4</th>\n      <td>2018.06.04</td>\n      <td>04-Jun-2018</td>\n      <td>2018.0</td>\n      <td>Provoked</td>\n      <td>MEXICO</td>\n      <td>Colima</td>\n      <td>La Ticla</td>\n      <td>Free diving</td>\n      <td>Gustavo Ramos</td>\n      <td>M</td>\n      <td>...</td>\n      <td>Tiger shark, 3m</td>\n      <td>A .Kipper</td>\n      <td>2018.06.04-Ramos.pdf</td>\n      <td>http://sharkattackfile.net/spreadsheets/pdf_di...</td>\n      <td>http://sharkattackfile.net/spreadsheets/pdf_di...</td>\n      <td>2018.06.04</td>\n      <td>2018.06.04</td>\n      <td>6299.0</td>\n      <td>NaN</td>\n      <td>NaN</td>\n    </tr>\n  </tbody>\n</table>\n<p>5 rows × 24 columns</p>\n</div>"
     },
     "execution_count": 32,
     "metadata": {},
     "output_type": "execute_result"
    }
   ],
   "source": [
    "shark_data.head(5)"
   ]
  },
  {
   "cell_type": "code",
   "execution_count": 33,
   "outputs": [
    {
     "name": "stdout",
     "output_type": "stream",
     "text": [
      "<class 'pandas.core.frame.DataFrame'>\n",
      "RangeIndex: 25723 entries, 0 to 25722\n",
      "Data columns (total 24 columns):\n",
      " #   Column                  Non-Null Count  Dtype  \n",
      "---  ------                  --------------  -----  \n",
      " 0   Case Number             8702 non-null   object \n",
      " 1   Date                    6302 non-null   object \n",
      " 2   Year                    6300 non-null   float64\n",
      " 3   Type                    6298 non-null   object \n",
      " 4   Country                 6252 non-null   object \n",
      " 5   Area                    5847 non-null   object \n",
      " 6   Location                5762 non-null   object \n",
      " 7   Activity                5758 non-null   object \n",
      " 8   Name                    6092 non-null   object \n",
      " 9   Sex                     5737 non-null   object \n",
      " 10  Age                     3471 non-null   object \n",
      " 11  Injury                  6274 non-null   object \n",
      " 12  Fatal (Y/N)             5763 non-null   object \n",
      " 13  Time                    2948 non-null   object \n",
      " 14  Species                 3464 non-null   object \n",
      " 15  Investigator or Source  6285 non-null   object \n",
      " 16  pdf                     6302 non-null   object \n",
      " 17  href formula            6301 non-null   object \n",
      " 18  href                    6302 non-null   object \n",
      " 19  Case Number.1           6302 non-null   object \n",
      " 20  Case Number.2           6302 non-null   object \n",
      " 21  original order          6309 non-null   float64\n",
      " 22  Unnamed: 22             1 non-null      object \n",
      " 23  Unnamed: 23             2 non-null      object \n",
      "dtypes: float64(2), object(22)\n",
      "memory usage: 4.7+ MB\n"
     ]
    }
   ],
   "source": [
    "shark_data.info()"
   ],
   "metadata": {
    "collapsed": false,
    "pycharm": {
     "name": "#%%\n"
    }
   }
  },
  {
   "cell_type": "code",
   "execution_count": 34,
   "outputs": [
    {
     "data": {
      "text/plain": "              Year  original order\ncount  6300.000000     6309.000000\nmean   1927.272381     3155.999683\nstd     281.116308     1821.396206\nmin       0.000000        2.000000\n25%    1942.000000     1579.000000\n50%    1977.000000     3156.000000\n75%    2005.000000     4733.000000\nmax    2018.000000     6310.000000",
      "text/html": "<div>\n<style scoped>\n    .dataframe tbody tr th:only-of-type {\n        vertical-align: middle;\n    }\n\n    .dataframe tbody tr th {\n        vertical-align: top;\n    }\n\n    .dataframe thead th {\n        text-align: right;\n    }\n</style>\n<table border=\"1\" class=\"dataframe\">\n  <thead>\n    <tr style=\"text-align: right;\">\n      <th></th>\n      <th>Year</th>\n      <th>original order</th>\n    </tr>\n  </thead>\n  <tbody>\n    <tr>\n      <th>count</th>\n      <td>6300.000000</td>\n      <td>6309.000000</td>\n    </tr>\n    <tr>\n      <th>mean</th>\n      <td>1927.272381</td>\n      <td>3155.999683</td>\n    </tr>\n    <tr>\n      <th>std</th>\n      <td>281.116308</td>\n      <td>1821.396206</td>\n    </tr>\n    <tr>\n      <th>min</th>\n      <td>0.000000</td>\n      <td>2.000000</td>\n    </tr>\n    <tr>\n      <th>25%</th>\n      <td>1942.000000</td>\n      <td>1579.000000</td>\n    </tr>\n    <tr>\n      <th>50%</th>\n      <td>1977.000000</td>\n      <td>3156.000000</td>\n    </tr>\n    <tr>\n      <th>75%</th>\n      <td>2005.000000</td>\n      <td>4733.000000</td>\n    </tr>\n    <tr>\n      <th>max</th>\n      <td>2018.000000</td>\n      <td>6310.000000</td>\n    </tr>\n  </tbody>\n</table>\n</div>"
     },
     "execution_count": 34,
     "metadata": {},
     "output_type": "execute_result"
    }
   ],
   "source": [
    "shark_data.describe()"
   ],
   "metadata": {
    "collapsed": false,
    "pycharm": {
     "name": "#%%\n"
    }
   }
  },
  {
   "cell_type": "code",
   "execution_count": 37,
   "outputs": [
    {
     "data": {
      "text/plain": "Case Number                object\nDate                       object\nYear                      float64\nType                       object\nCountry                    object\nArea                       object\nLocation                   object\nActivity                   object\nName                       object\nSex                        object\nAge                        object\nInjury                     object\nFatal (Y/N)                object\nTime                       object\nSpecies                    object\nInvestigator or Source     object\npdf                        object\nhref formula               object\nhref                       object\nCase Number.1              object\nCase Number.2              object\noriginal order            float64\nUnnamed: 22                object\nUnnamed: 23                object\ndtype: object"
     },
     "execution_count": 37,
     "metadata": {},
     "output_type": "execute_result"
    }
   ],
   "source": [
    "shark_data.dtypes"
   ],
   "metadata": {
    "collapsed": false,
    "pycharm": {
     "name": "#%%\n"
    }
   }
  },
  {
   "cell_type": "code",
   "execution_count": 40,
   "outputs": [
    {
     "data": {
      "text/plain": "<AxesSubplot:>"
     },
     "execution_count": 40,
     "metadata": {},
     "output_type": "execute_result"
    }
   ],
   "source": [
    "sns.heatmap(shark_data.isnull())"
   ],
   "metadata": {
    "collapsed": false,
    "pycharm": {
     "name": "#%%\n"
    }
   }
  },
  {
   "cell_type": "code",
   "execution_count": 41,
   "outputs": [
    {
     "data": {
      "text/plain": "  Lunation           New Moon New Moon.1      First Quarter First Quarter.1  \\\n0      730        nan de 1982        NaN   3 de Jan de 1982           01:45   \n1      731  25 de Jan de 1982      01:55   1 de Fev de 1982           11:27   \n2      732  23 de Fev de 1982      18:13   2 de Mar de 1982           19:15   \n3      733  25 de Mar de 1982      07:17   1 de Abr de 1982           02:08   \n4      734  23 de Abr de 1982      17:28  30 de Abr de 1982           09:07   \n\n          Full Moon Full Moon.1      Third Quarter Third Quarter.1  \\\n0  9 de Jan de 1982       16:52  16 de Jan de 1982           20:57   \n1  8 de Fev de 1982       04:57  15 de Fev de 1982           17:20   \n2  9 de Mar de 1982       17:45  17 de Mar de 1982           14:14   \n3  8 de Abr de 1982       07:18  16 de Abr de 1982           09:42   \n4  7 de Mai de 1982       21:44  16 de Mai de 1982           02:11   \n\n      Duration  \n0  29d 18h 46m  \n1  29d 16h 17m  \n2  29d 13h 04m  \n3  29d 10h 11m  \n4   29d 8h 12m  ",
      "text/html": "<div>\n<style scoped>\n    .dataframe tbody tr th:only-of-type {\n        vertical-align: middle;\n    }\n\n    .dataframe tbody tr th {\n        vertical-align: top;\n    }\n\n    .dataframe thead th {\n        text-align: right;\n    }\n</style>\n<table border=\"1\" class=\"dataframe\">\n  <thead>\n    <tr style=\"text-align: right;\">\n      <th></th>\n      <th>Lunation</th>\n      <th>New Moon</th>\n      <th>New Moon.1</th>\n      <th>First Quarter</th>\n      <th>First Quarter.1</th>\n      <th>Full Moon</th>\n      <th>Full Moon.1</th>\n      <th>Third Quarter</th>\n      <th>Third Quarter.1</th>\n      <th>Duration</th>\n    </tr>\n  </thead>\n  <tbody>\n    <tr>\n      <th>0</th>\n      <td>730</td>\n      <td>nan de 1982</td>\n      <td>NaN</td>\n      <td>3 de Jan de 1982</td>\n      <td>01:45</td>\n      <td>9 de Jan de 1982</td>\n      <td>16:52</td>\n      <td>16 de Jan de 1982</td>\n      <td>20:57</td>\n      <td>29d 18h 46m</td>\n    </tr>\n    <tr>\n      <th>1</th>\n      <td>731</td>\n      <td>25 de Jan de 1982</td>\n      <td>01:55</td>\n      <td>1 de Fev de 1982</td>\n      <td>11:27</td>\n      <td>8 de Fev de 1982</td>\n      <td>04:57</td>\n      <td>15 de Fev de 1982</td>\n      <td>17:20</td>\n      <td>29d 16h 17m</td>\n    </tr>\n    <tr>\n      <th>2</th>\n      <td>732</td>\n      <td>23 de Fev de 1982</td>\n      <td>18:13</td>\n      <td>2 de Mar de 1982</td>\n      <td>19:15</td>\n      <td>9 de Mar de 1982</td>\n      <td>17:45</td>\n      <td>17 de Mar de 1982</td>\n      <td>14:14</td>\n      <td>29d 13h 04m</td>\n    </tr>\n    <tr>\n      <th>3</th>\n      <td>733</td>\n      <td>25 de Mar de 1982</td>\n      <td>07:17</td>\n      <td>1 de Abr de 1982</td>\n      <td>02:08</td>\n      <td>8 de Abr de 1982</td>\n      <td>07:18</td>\n      <td>16 de Abr de 1982</td>\n      <td>09:42</td>\n      <td>29d 10h 11m</td>\n    </tr>\n    <tr>\n      <th>4</th>\n      <td>734</td>\n      <td>23 de Abr de 1982</td>\n      <td>17:28</td>\n      <td>30 de Abr de 1982</td>\n      <td>09:07</td>\n      <td>7 de Mai de 1982</td>\n      <td>21:44</td>\n      <td>16 de Mai de 1982</td>\n      <td>02:11</td>\n      <td>29d 8h 12m</td>\n    </tr>\n  </tbody>\n</table>\n</div>"
     },
     "execution_count": 41,
     "metadata": {},
     "output_type": "execute_result"
    }
   ],
   "source": [
    "moonp.head(5)"
   ],
   "metadata": {
    "collapsed": false,
    "pycharm": {
     "name": "#%%\n"
    }
   }
  },
  {
   "cell_type": "code",
   "execution_count": 36,
   "outputs": [
    {
     "name": "stdout",
     "output_type": "stream",
     "text": [
      "<class 'pandas.core.frame.DataFrame'>\n",
      "RangeIndex: 14 entries, 0 to 13\n",
      "Data columns (total 10 columns):\n",
      " #   Column           Non-Null Count  Dtype \n",
      "---  ------           --------------  ----- \n",
      " 0   Lunation         14 non-null     object\n",
      " 1   New Moon         14 non-null     object\n",
      " 2   New Moon.1       13 non-null     object\n",
      " 3   First Quarter    14 non-null     object\n",
      " 4   First Quarter.1  14 non-null     object\n",
      " 5   Full Moon        14 non-null     object\n",
      " 6   Full Moon.1      14 non-null     object\n",
      " 7   Third Quarter    14 non-null     object\n",
      " 8   Third Quarter.1  13 non-null     object\n",
      " 9   Duration         14 non-null     object\n",
      "dtypes: object(10)\n",
      "memory usage: 1.2+ KB\n"
     ]
    }
   ],
   "source": [
    "moonp.info()"
   ],
   "metadata": {
    "collapsed": false,
    "pycharm": {
     "name": "#%%\n"
    }
   }
  },
  {
   "cell_type": "markdown",
   "metadata": {
    "pycharm": {
     "name": "#%% md\n"
    }
   },
   "source": [
    "<div class=\"alert alert-block alert-success\">\n",
    "<b>Data cleaning and manipulation.</b></div>"
   ]
  },
  {
   "cell_type": "code",
   "execution_count": null,
   "outputs": [],
   "source": [
    "# Moon phase columns: \"New Moon\",\"First Quarter\",\"Full Moon\", \"Third Quarter\"]\n",
    "#mp_cols = \"New Moon\",\"First Quarter\",\"Full Moon\", \"Third Quarter\"\n",
    "for mp in mp_cols:\n",
    "    moonp[mp] = moonp[mp].map('{} de 1982'.format)\n",
    "\n",
    "#for mp in mp_cols:\n",
    "#    pd.to_datetime(moonp[mp])"
   ],
   "metadata": {
    "collapsed": false,
    "pycharm": {
     "name": "#%%\n"
    }
   }
  },
  {
   "cell_type": "code",
   "execution_count": 31,
   "outputs": [
    {
     "name": "stderr",
     "output_type": "stream",
     "text": [
      "C:\\Users\\Rfbj\\AppData\\Local\\Temp\\ipykernel_12608\\2405535729.py:2: UserWarning: Boolean Series key will be reindexed to match DataFrame index.\n",
      "  shark_data[shark_data.isna().count() >= 1]#.sort_values(by=\"ViewCount\", ascending=True)\n"
     ]
    },
    {
     "ename": "IndexingError",
     "evalue": "Unalignable boolean Series provided as indexer (index of the boolean Series and of the indexed object do not match).",
     "output_type": "error",
     "traceback": [
      "\u001B[1;31m---------------------------------------------------------------------------\u001B[0m",
      "\u001B[1;31mIndexingError\u001B[0m                             Traceback (most recent call last)",
      "Input \u001B[1;32mIn [31]\u001B[0m, in \u001B[0;36m<module>\u001B[1;34m\u001B[0m\n\u001B[0;32m      1\u001B[0m shark_data\u001B[38;5;66;03m#[shark_data.isnull()]\u001B[39;00m\n\u001B[1;32m----> 2\u001B[0m \u001B[43mshark_data\u001B[49m\u001B[43m[\u001B[49m\u001B[43mshark_data\u001B[49m\u001B[38;5;241;43m.\u001B[39;49m\u001B[43misna\u001B[49m\u001B[43m(\u001B[49m\u001B[43m)\u001B[49m\u001B[38;5;241;43m.\u001B[39;49m\u001B[43mcount\u001B[49m\u001B[43m(\u001B[49m\u001B[43m)\u001B[49m\u001B[43m \u001B[49m\u001B[38;5;241;43m>\u001B[39;49m\u001B[38;5;241;43m=\u001B[39;49m\u001B[43m \u001B[49m\u001B[38;5;241;43m1\u001B[39;49m\u001B[43m]\u001B[49m\n",
      "File \u001B[1;32mc:\\ironhack\\data_classes\\ironhack-data-analysis\\projects\\venv\\lib\\site-packages\\pandas\\core\\frame.py:3449\u001B[0m, in \u001B[0;36mDataFrame.__getitem__\u001B[1;34m(self, key)\u001B[0m\n\u001B[0;32m   3447\u001B[0m \u001B[38;5;66;03m# Do we have a (boolean) 1d indexer?\u001B[39;00m\n\u001B[0;32m   3448\u001B[0m \u001B[38;5;28;01mif\u001B[39;00m com\u001B[38;5;241m.\u001B[39mis_bool_indexer(key):\n\u001B[1;32m-> 3449\u001B[0m     \u001B[38;5;28;01mreturn\u001B[39;00m \u001B[38;5;28;43mself\u001B[39;49m\u001B[38;5;241;43m.\u001B[39;49m\u001B[43m_getitem_bool_array\u001B[49m\u001B[43m(\u001B[49m\u001B[43mkey\u001B[49m\u001B[43m)\u001B[49m\n\u001B[0;32m   3451\u001B[0m \u001B[38;5;66;03m# We are left with two options: a single key, and a collection of keys,\u001B[39;00m\n\u001B[0;32m   3452\u001B[0m \u001B[38;5;66;03m# We interpret tuples as collections only for non-MultiIndex\u001B[39;00m\n\u001B[0;32m   3453\u001B[0m is_single_key \u001B[38;5;241m=\u001B[39m \u001B[38;5;28misinstance\u001B[39m(key, \u001B[38;5;28mtuple\u001B[39m) \u001B[38;5;129;01mor\u001B[39;00m \u001B[38;5;129;01mnot\u001B[39;00m is_list_like(key)\n",
      "File \u001B[1;32mc:\\ironhack\\data_classes\\ironhack-data-analysis\\projects\\venv\\lib\\site-packages\\pandas\\core\\frame.py:3502\u001B[0m, in \u001B[0;36mDataFrame._getitem_bool_array\u001B[1;34m(self, key)\u001B[0m\n\u001B[0;32m   3496\u001B[0m     \u001B[38;5;28;01mraise\u001B[39;00m \u001B[38;5;167;01mValueError\u001B[39;00m(\n\u001B[0;32m   3497\u001B[0m         \u001B[38;5;124mf\u001B[39m\u001B[38;5;124m\"\u001B[39m\u001B[38;5;124mItem wrong length \u001B[39m\u001B[38;5;132;01m{\u001B[39;00m\u001B[38;5;28mlen\u001B[39m(key)\u001B[38;5;132;01m}\u001B[39;00m\u001B[38;5;124m instead of \u001B[39m\u001B[38;5;132;01m{\u001B[39;00m\u001B[38;5;28mlen\u001B[39m(\u001B[38;5;28mself\u001B[39m\u001B[38;5;241m.\u001B[39mindex)\u001B[38;5;132;01m}\u001B[39;00m\u001B[38;5;124m.\u001B[39m\u001B[38;5;124m\"\u001B[39m\n\u001B[0;32m   3498\u001B[0m     )\n\u001B[0;32m   3500\u001B[0m \u001B[38;5;66;03m# check_bool_indexer will throw exception if Series key cannot\u001B[39;00m\n\u001B[0;32m   3501\u001B[0m \u001B[38;5;66;03m# be reindexed to match DataFrame rows\u001B[39;00m\n\u001B[1;32m-> 3502\u001B[0m key \u001B[38;5;241m=\u001B[39m \u001B[43mcheck_bool_indexer\u001B[49m\u001B[43m(\u001B[49m\u001B[38;5;28;43mself\u001B[39;49m\u001B[38;5;241;43m.\u001B[39;49m\u001B[43mindex\u001B[49m\u001B[43m,\u001B[49m\u001B[43m \u001B[49m\u001B[43mkey\u001B[49m\u001B[43m)\u001B[49m\n\u001B[0;32m   3503\u001B[0m indexer \u001B[38;5;241m=\u001B[39m key\u001B[38;5;241m.\u001B[39mnonzero()[\u001B[38;5;241m0\u001B[39m]\n\u001B[0;32m   3504\u001B[0m \u001B[38;5;28;01mreturn\u001B[39;00m \u001B[38;5;28mself\u001B[39m\u001B[38;5;241m.\u001B[39m_take_with_is_copy(indexer, axis\u001B[38;5;241m=\u001B[39m\u001B[38;5;241m0\u001B[39m)\n",
      "File \u001B[1;32mc:\\ironhack\\data_classes\\ironhack-data-analysis\\projects\\venv\\lib\\site-packages\\pandas\\core\\indexing.py:2388\u001B[0m, in \u001B[0;36mcheck_bool_indexer\u001B[1;34m(index, key)\u001B[0m\n\u001B[0;32m   2386\u001B[0m     mask \u001B[38;5;241m=\u001B[39m isna(result\u001B[38;5;241m.\u001B[39m_values)\n\u001B[0;32m   2387\u001B[0m     \u001B[38;5;28;01mif\u001B[39;00m mask\u001B[38;5;241m.\u001B[39many():\n\u001B[1;32m-> 2388\u001B[0m         \u001B[38;5;28;01mraise\u001B[39;00m IndexingError(\n\u001B[0;32m   2389\u001B[0m             \u001B[38;5;124m\"\u001B[39m\u001B[38;5;124mUnalignable boolean Series provided as \u001B[39m\u001B[38;5;124m\"\u001B[39m\n\u001B[0;32m   2390\u001B[0m             \u001B[38;5;124m\"\u001B[39m\u001B[38;5;124mindexer (index of the boolean Series and of \u001B[39m\u001B[38;5;124m\"\u001B[39m\n\u001B[0;32m   2391\u001B[0m             \u001B[38;5;124m\"\u001B[39m\u001B[38;5;124mthe indexed object do not match).\u001B[39m\u001B[38;5;124m\"\u001B[39m\n\u001B[0;32m   2392\u001B[0m         )\n\u001B[0;32m   2393\u001B[0m     \u001B[38;5;28;01mreturn\u001B[39;00m result\u001B[38;5;241m.\u001B[39mastype(\u001B[38;5;28mbool\u001B[39m)\u001B[38;5;241m.\u001B[39m_values\n\u001B[0;32m   2394\u001B[0m \u001B[38;5;28;01mif\u001B[39;00m is_object_dtype(key):\n\u001B[0;32m   2395\u001B[0m     \u001B[38;5;66;03m# key might be object-dtype bool, check_array_indexer needs bool array\u001B[39;00m\n",
      "\u001B[1;31mIndexingError\u001B[0m: Unalignable boolean Series provided as indexer (index of the boolean Series and of the indexed object do not match)."
     ]
    }
   ],
   "source": [
    "shark_data#[shark_data.isnull()]\n",
    "#shark_data[shark_data.isna().sum(axis=1) >= 1]"
   ],
   "metadata": {
    "collapsed": false,
    "pycharm": {
     "name": "#%%\n"
    }
   }
  },
  {
   "cell_type": "markdown",
   "metadata": {
    "ExecuteTime": {
     "end_time": "2022-01-22T02:31:49.709147Z",
     "start_time": "2022-01-22T02:31:49.690198Z"
    },
    "cell_style": "center"
   },
   "source": [
    "<div class=\"alert alert-block alert-warning\">\n",
    "    <p> Identify and modify data types, if needed.</p>\n",
    "</div>"
   ]
  },
  {
   "cell_type": "code",
   "execution_count": 35,
   "metadata": {
    "ExecuteTime": {
     "end_time": "2022-01-22T02:54:41.887065Z",
     "start_time": "2022-01-22T02:54:40.061525Z"
    },
    "cell_style": "center",
    "pycharm": {
     "name": "#%%\n"
    }
   },
   "outputs": [
    {
     "name": "stdout",
     "output_type": "stream",
     "text": [
      "<class 'pandas.core.frame.DataFrame'>\n",
      "RangeIndex: 25723 entries, 0 to 25722\n",
      "Data columns (total 24 columns):\n",
      " #   Column                  Non-Null Count  Dtype  \n",
      "---  ------                  --------------  -----  \n",
      " 0   Case Number             8702 non-null   object \n",
      " 1   Date                    6302 non-null   object \n",
      " 2   Year                    6300 non-null   float64\n",
      " 3   Type                    6298 non-null   object \n",
      " 4   Country                 6252 non-null   object \n",
      " 5   Area                    5847 non-null   object \n",
      " 6   Location                5762 non-null   object \n",
      " 7   Activity                5758 non-null   object \n",
      " 8   Name                    6092 non-null   object \n",
      " 9   Sex                     5737 non-null   object \n",
      " 10  Age                     3471 non-null   object \n",
      " 11  Injury                  6274 non-null   object \n",
      " 12  Fatal (Y/N)             5763 non-null   object \n",
      " 13  Time                    2948 non-null   object \n",
      " 14  Species                 3464 non-null   object \n",
      " 15  Investigator or Source  6285 non-null   object \n",
      " 16  pdf                     6302 non-null   object \n",
      " 17  href formula            6301 non-null   object \n",
      " 18  href                    6302 non-null   object \n",
      " 19  Case Number.1           6302 non-null   object \n",
      " 20  Case Number.2           6302 non-null   object \n",
      " 21  original order          6309 non-null   float64\n",
      " 22  Unnamed: 22             1 non-null      object \n",
      " 23  Unnamed: 23             2 non-null      object \n",
      "dtypes: float64(2), object(22)\n",
      "memory usage: 4.7+ MB\n"
     ]
    }
   ],
   "source": [
    "#check data types\n",
    "shark_data.info()\n",
    "#shark_data.astype({\"Date\":\"datetime6\", \"Year\":\"int64\",\"Age\":\"int64\"})"
   ]
  },
  {
   "cell_type": "markdown",
   "metadata": {
    "cell_style": "center"
   },
   "source": [
    "<div class=\"alert alert-block alert-warning\">\n",
    "    <p>Identify droppable columns / blank cells.</p></div>"
   ]
  },
  {
   "cell_type": "code",
   "execution_count": 51,
   "metadata": {
    "ExecuteTime": {
     "end_time": "2022-01-22T02:47:10.087170Z",
     "start_time": "2022-01-22T02:47:09.824743Z"
    },
    "cell_style": "center"
   },
   "outputs": [
    {
     "data": {
      "text/plain": "<AxesSubplot:>"
     },
     "execution_count": 51,
     "metadata": {},
     "output_type": "execute_result"
    },
    {
     "data": {
      "text/plain": "<Figure size 432x288 with 2 Axes>",
      "image/png": "[encoded data removed]"
     },
     "metadata": {
      "needs_background": "light"
     },
     "output_type": "display_data"
    }
   ],
   "source": [
    "sns.heatmap(shark_data.isnull())"
   ]
  },
  {
   "cell_type": "markdown",
   "metadata": {
    "pycharm": {
     "name": "#%% md\n"
    }
   },
   "source": [
    "#Where should our company install its headquarters at?\n",
    "#Country where we have had the highest number of cases - USA\n",
    "#what would be our company's business purpose? Should we sell a product (i.e. Shark repelent), provide a service to warn or\n",
    "#educate bathers/swimmers\n",
    "#It depends on what triggered the attack: Predatory or provocative behavior?\n",
    "#What would be our target audience? (Government, customers (male, female, does not matter?), ecc)\n",
    "#\n",
    "##What countries have the most shark attacks\n",
    "##What countries have the deadliest shark attacks\n",
    "##Shark attacks progression through years\n",
    "#What season of the year are shark attacks more prevalent\n",
    "#Shark attacks per country filtered by gender - Should women or men wear any kind of protective device/shark repelent?"
   ]
  },
  {
   "cell_type": "code",
   "execution_count": 4,
   "metadata": {
    "pycharm": {
     "name": "#%%\n"
    }
   },
   "outputs": [
    {
     "name": "stdout",
     "output_type": "stream",
     "text": [
      "Collecting pandas-profiling\n",
      "  Using cached pandas_profiling-3.1.0-py2.py3-none-any.whl (261 kB)\n",
      "Requirement already satisfied: PyYAML>=5.0.0 in c:\\ironhack\\data_classes\\ironhack-data-analysis\\projects\\venv\\lib\\site-packages (from pandas-profiling) (6.0)\n",
      "Requirement already satisfied: markupsafe~=2.0.1 in c:\\ironhack\\data_classes\\ironhack-data-analysis\\projects\\venv\\lib\\site-packages (from pandas-profiling) (2.0.1)\n",
      "Requirement already satisfied: matplotlib>=3.2.0 in c:\\ironhack\\data_classes\\ironhack-data-analysis\\projects\\venv\\lib\\site-packages (from pandas-profiling) (3.5.1)\n",
      "Requirement already satisfied: numpy>=1.16.0 in c:\\ironhack\\data_classes\\ironhack-data-analysis\\projects\\venv\\lib\\site-packages (from pandas-profiling) (1.22.1)\n",
      "Collecting joblib~=1.0.1\n",
      "  Using cached joblib-1.0.1-py3-none-any.whl (303 kB)\n",
      "Collecting phik>=0.11.1\n",
      "  Using cached phik-0.12.0.tar.gz (44 kB)\n",
      "  Installing build dependencies: started\n",
      "  Installing build dependencies: finished with status 'done'\n",
      "  Getting requirements to build wheel: started\n",
      "  Getting requirements to build wheel: finished with status 'done'\n",
      "  Preparing metadata (pyproject.toml): started\n",
      "  Preparing metadata (pyproject.toml): finished with status 'done'\n",
      "Requirement already satisfied: tqdm>=4.48.2 in c:\\ironhack\\data_classes\\ironhack-data-analysis\\projects\\venv\\lib\\site-packages (from pandas-profiling) (4.62.3)\n",
      "Collecting visions[type_image_path]==0.7.4\n",
      "  Using cached visions-0.7.4-py3-none-any.whl (102 kB)\n",
      "Requirement already satisfied: jinja2>=2.11.1 in c:\\ironhack\\data_classes\\ironhack-data-analysis\\projects\\venv\\lib\\site-packages (from pandas-profiling) (3.0.3)\n",
      "Collecting tangled-up-in-unicode==0.1.0\n",
      "  Using cached tangled_up_in_unicode-0.1.0-py3-none-any.whl (3.1 MB)\n",
      "Collecting multimethod>=1.4\n",
      "  Using cached multimethod-1.6-py3-none-any.whl (9.4 kB)\n",
      "Collecting htmlmin>=0.1.12\n",
      "  Using cached htmlmin-0.1.12-py3-none-any.whl\n",
      "Requirement already satisfied: scipy>=1.4.1 in c:\\ironhack\\data_classes\\ironhack-data-analysis\\projects\\venv\\lib\\site-packages (from pandas-profiling) (1.7.3)\n",
      "Requirement already satisfied: pandas!=1.0.0,!=1.0.1,!=1.0.2,!=1.1.0,>=0.25.3 in c:\\ironhack\\data_classes\\ironhack-data-analysis\\projects\\venv\\lib\\site-packages (from pandas-profiling) (1.3.5)\n",
      "Collecting missingno>=0.4.2\n",
      "  Using cached missingno-0.5.0-py3-none-any.whl (8.8 kB)\n",
      "Collecting pydantic>=1.8.1\n",
      "  Using cached pydantic-1.9.0-cp310-cp310-win_amd64.whl (2.1 MB)\n",
      "Requirement already satisfied: seaborn>=0.10.1 in c:\\ironhack\\data_classes\\ironhack-data-analysis\\projects\\venv\\lib\\site-packages (from pandas-profiling) (0.11.2)\n",
      "Collecting requests>=2.24.0\n",
      "  Using cached requests-2.27.1-py2.py3-none-any.whl (63 kB)\n",
      "Collecting networkx>=2.4\n",
      "  Using cached networkx-2.6.3-py3-none-any.whl (1.9 MB)\n",
      "Requirement already satisfied: attrs>=19.3.0 in c:\\ironhack\\data_classes\\ironhack-data-analysis\\projects\\venv\\lib\\site-packages (from visions[type_image_path]==0.7.4->pandas-profiling) (21.4.0)\n",
      "Requirement already satisfied: Pillow in c:\\ironhack\\data_classes\\ironhack-data-analysis\\projects\\venv\\lib\\site-packages (from visions[type_image_path]==0.7.4->pandas-profiling) (9.0.0)\n",
      "Collecting imagehash\n",
      "  Using cached ImageHash-4.2.1-py2.py3-none-any.whl\n",
      "Requirement already satisfied: fonttools>=4.22.0 in c:\\ironhack\\data_classes\\ironhack-data-analysis\\projects\\venv\\lib\\site-packages (from matplotlib>=3.2.0->pandas-profiling) (4.28.5)\n",
      "Requirement already satisfied: kiwisolver>=1.0.1 in c:\\ironhack\\data_classes\\ironhack-data-analysis\\projects\\venv\\lib\\site-packages (from matplotlib>=3.2.0->pandas-profiling) (1.3.2)\n",
      "Requirement already satisfied: cycler>=0.10 in c:\\ironhack\\data_classes\\ironhack-data-analysis\\projects\\venv\\lib\\site-packages (from matplotlib>=3.2.0->pandas-profiling) (0.11.0)\n",
      "Requirement already satisfied: pyparsing>=2.2.1 in c:\\ironhack\\data_classes\\ironhack-data-analysis\\projects\\venv\\lib\\site-packages (from matplotlib>=3.2.0->pandas-profiling) (3.0.7)\n",
      "Requirement already satisfied: python-dateutil>=2.7 in c:\\ironhack\\data_classes\\ironhack-data-analysis\\projects\\venv\\lib\\site-packages (from matplotlib>=3.2.0->pandas-profiling) (2.8.2)\n",
      "Requirement already satisfied: packaging>=20.0 in c:\\ironhack\\data_classes\\ironhack-data-analysis\\projects\\venv\\lib\\site-packages (from matplotlib>=3.2.0->pandas-profiling) (21.3)\n",
      "Requirement already satisfied: pytz>=2017.3 in c:\\ironhack\\data_classes\\ironhack-data-analysis\\projects\\venv\\lib\\site-packages (from pandas!=1.0.0,!=1.0.1,!=1.0.2,!=1.1.0,>=0.25.3->pandas-profiling) (2021.3)\n",
      "Requirement already satisfied: typing-extensions>=3.7.4.3 in c:\\ironhack\\data_classes\\ironhack-data-analysis\\projects\\venv\\lib\\site-packages (from pydantic>=1.8.1->pandas-profiling) (4.0.1)\n",
      "Collecting urllib3<1.27,>=1.21.1\n",
      "  Using cached urllib3-1.26.8-py2.py3-none-any.whl (138 kB)\n",
      "Collecting idna<4,>=2.5\n",
      "  Using cached idna-3.3-py3-none-any.whl (61 kB)\n",
      "Collecting charset-normalizer~=2.0.0\n",
      "  Using cached charset_normalizer-2.0.10-py3-none-any.whl (39 kB)\n",
      "Collecting certifi>=2017.4.17\n",
      "  Using cached certifi-2021.10.8-py2.py3-none-any.whl (149 kB)\n",
      "Requirement already satisfied: colorama in c:\\ironhack\\data_classes\\ironhack-data-analysis\\projects\\venv\\lib\\site-packages (from tqdm>=4.48.2->pandas-profiling) (0.4.4)\n",
      "Requirement already satisfied: six>=1.5 in c:\\ironhack\\data_classes\\ironhack-data-analysis\\projects\\venv\\lib\\site-packages (from python-dateutil>=2.7->matplotlib>=3.2.0->pandas-profiling) (1.16.0)\n",
      "Collecting PyWavelets\n",
      "  Using cached PyWavelets-1.2.0-cp310-cp310-win_amd64.whl (4.2 MB)\n",
      "Building wheels for collected packages: phik\n",
      "  Building wheel for phik (pyproject.toml): started\n",
      "  Building wheel for phik (pyproject.toml): finished with status 'done'\n",
      "  Created wheel for phik: filename=phik-0.12.0-cp310-cp310-win_amd64.whl size=99555 sha256=d40d89ed0112874ba8e9c5490d0bf14cdecc8d9457df221c19b851fef4645d4e\n",
      "  Stored in directory: c:\\users\\rfbj\\appdata\\local\\pip\\cache\\wheels\\8f\\9d\\eb\\37b2061fb112c7efe09d3bc7570896b214aef866530e6c336e\n",
      "Successfully built phik\n",
      "Installing collected packages: tangled-up-in-unicode, PyWavelets, networkx, multimethod, visions, urllib3, joblib, imagehash, idna, charset-normalizer, certifi, requests, pydantic, phik, missingno, htmlmin, pandas-profiling\n",
      "Successfully installed PyWavelets-1.2.0 certifi-2021.10.8 charset-normalizer-2.0.10 htmlmin-0.1.12 idna-3.3 imagehash-4.2.1 joblib-1.0.1 missingno-0.5.0 multimethod-1.6 networkx-2.6.3 pandas-profiling-3.1.0 phik-0.12.0 pydantic-1.9.0 requests-2.27.1 tangled-up-in-unicode-0.1.0 urllib3-1.26.8 visions-0.7.4\n"
     ]
    }
   ],
   "source": [
    "#!pip install pandas-profiling\n"
   ]
  },
  {
   "cell_type": "code",
   "execution_count": 48,
   "metadata": {
    "pycharm": {
     "name": "#%%\n"
    }
   },
   "outputs": [
    {
     "name": "stdout",
     "output_type": "stream",
     "text": [
      "Requirement already satisfied: pip in c:\\ironhack\\data_classes\\ironhack-data-analysis\\projects\\venv\\lib\\site-packages (21.1.2)\n",
      "Collecting pip\n",
      "  Using cached pip-21.3.1-py3-none-any.whl (1.7 MB)\n",
      "Installing collected packages: pip\n",
      "  Attempting uninstall: pip\n",
      "    Found existing installation: pip 21.1.2\n"
     ]
    },
    {
     "name": "stderr",
     "output_type": "stream",
     "text": [
      "ERROR: Could not install packages due to an OSError: [WinError 5] Acesso negado: 'C:\\\\Users\\\\Rfbj\\\\AppData\\\\Local\\\\Temp\\\\pip-uninstall-w0h3g8pl\\\\pip.exe'"
     ]
    },
    {
     "name": "stdout",
     "output_type": "stream",
     "text": [
      "    Uninstalling pip-21.1.2:\n",
      "      Successfully uninstalled pip-21.1.2\n"
     ]
    },
    {
     "name": "stderr",
     "output_type": "stream",
     "text": [
      "\n",
      "Check the permissions.\n",
      "\n"
     ]
    }
   ],
   "source": [
    "\n",
    "#shark_data#[\"Country\"]]"
   ]
  },
  {
   "cell_type": "code",
   "execution_count": 39,
   "outputs": [
    {
     "data": {
      "text/plain": "0         2\n1         3\n2         3\n3         4\n4         4\n         ..\n25718    24\n25719    24\n25720    24\n25721    24\n25722    23\nLength: 25723, dtype: int64"
     },
     "execution_count": 39,
     "metadata": {},
     "output_type": "execute_result"
    }
   ],
   "source": [
    "null_cols = shark_data.isnull().sum(axis=1) #crio a máscara que soma a quantidade de dados nulos\n",
    "null_cols[null_cols > 0] #aplico a máscara\n",
    "shark_data.drop()\n"
   ],
   "metadata": {
    "collapsed": false,
    "pycharm": {
     "name": "#%%\n"
    }
   }
  },
  {
   "cell_type": "code",
   "execution_count": null,
   "outputs": [],
   "source": [],
   "metadata": {
    "collapsed": false,
    "pycharm": {
     "name": "#%%\n"
    }
   }
  }
 ],
 "metadata": {
  "kernelspec": {
   "display_name": "Python 3 (ipykernel)",
   "language": "python",
   "name": "python3"
  },
  "language_info": {
   "codemirror_mode": {
    "name": "ipython",
    "version": 3
   },
   "file_extension": ".py",
   "mimetype": "text/x-python",
   "name": "python",
   "nbconvert_exporter": "python",
   "pygments_lexer": "ipython3",
   "version": "3.10.1"
  },
  "varInspector": {
   "cols": {
    "lenName": 16,
    "lenType": 16,
    "lenVar": 40
   },
   "kernels_config": {
    "python": {
     "delete_cmd_postfix": "",
     "delete_cmd_prefix": "del ",
     "library": "var_list.py",
     "varRefreshCmd": "print(var_dic_list())"
    },
    "r": {
     "delete_cmd_postfix": ") ",
     "delete_cmd_prefix": "rm(",
     "library": "var_list.r",
     "varRefreshCmd": "cat(var_dic_list()) "
    }
   },
   "types_to_exclude": [
    "module",
    "function",
    "builtin_function_or_method",
    "instance",
    "_Feature"
   ],
   "window_display": false
  }
 },
 "nbformat": 4,
 "nbformat_minor": 1
}