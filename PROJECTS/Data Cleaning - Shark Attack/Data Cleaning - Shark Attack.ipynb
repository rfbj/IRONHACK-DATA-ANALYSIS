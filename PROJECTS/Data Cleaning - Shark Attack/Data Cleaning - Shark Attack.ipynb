{
 "cells": [
  {
   "cell_type": "markdown",
   "metadata": {
    "collapsed": true,
    "pycharm": {
     "name": "#%% md\n"
    }
   },
   "source": [
    "# **IRONHACK - DATA ANALYSIS**\n",
    "## __MANDATORY PROJECT # 1__\n",
    "### ***Data cleaning and manipulation - Shark Attack***\n",
    "---\n",
    "\n"
   ]
  },
  {
   "cell_type": "markdown",
   "source": [
    "<div class=\"alert alert-block alert-info\">\n",
    "<b>Import Libs:</b></div>"
   ],
   "metadata": {
    "collapsed": false
   }
  },
  {
   "cell_type": "code",
   "execution_count": 8,
   "metadata": {
    "ExecuteTime": {
     "end_time": "2022-01-21T20:38:52.518978Z",
     "start_time": "2022-01-21T20:38:52.512992Z"
    },
    "pycharm": {
     "name": "#%%\n"
    }
   },
   "outputs": [],
   "source": [
    "import pandas as pd\n",
    "import numpy as np\n",
    "import tqdm\n",
    "import seaborn as sns\n",
    "import matplotlib as plt\n",
    "import re\n",
    "import time"
   ]
  },
  {
   "cell_type": "markdown",
   "source": [
    "<div class=\"alert alert-block alert-info\">\n",
    "<b>Read CSV and identify encodig:</b></div>"
   ],
   "metadata": {
    "collapsed": false
   }
  },
  {
   "cell_type": "code",
   "execution_count": 9,
   "outputs": [],
   "source": [
    "shark_data = pd.read_csv(\"data/attacks.csv\", encoding=\"latin1\")\n",
    "#DataSet documentation: https://www.sharkattackfile.net/"
   ],
   "metadata": {
    "collapsed": false,
    "pycharm": {
     "name": "#%%\n"
    }
   }
  },
  {
   "cell_type": "markdown",
   "source": [
    "<div class=\"alert alert-block alert-success\">\n",
    "<b>DataSet Preview:</b></div>"
   ],
   "metadata": {
    "collapsed": false,
    "pycharm": {
     "name": "#%% md\n"
    }
   }
  },
  {
   "cell_type": "code",
   "execution_count": 21,
   "outputs": [
    {
     "data": {
      "text/plain": "      Case Number         Date    Year        Type    Country  \\\n0      2018.06.25  25-Jun-2018  2018.0     Boating        USA   \n1      2018.06.18  18-Jun-2018  2018.0  Unprovoked        USA   \n2      2018.06.09  09-Jun-2018  2018.0     Invalid        USA   \n3      2018.06.08  08-Jun-2018  2018.0  Unprovoked  AUSTRALIA   \n4      2018.06.04  04-Jun-2018  2018.0    Provoked     MEXICO   \n...           ...          ...     ...         ...        ...   \n25718         NaN          NaN     NaN         NaN        NaN   \n25719         NaN          NaN     NaN         NaN        NaN   \n25720         NaN          NaN     NaN         NaN        NaN   \n25721         NaN          NaN     NaN         NaN        NaN   \n25722          xx          NaN     NaN         NaN        NaN   \n\n                  Area                        Location     Activity  \\\n0           California     Oceanside, San Diego County     Paddling   \n1              Georgia  St. Simon Island, Glynn County     Standing   \n2               Hawaii                    Habush, Oahu      Surfing   \n3      New South Wales              Arrawarra Headland      Surfing   \n4               Colima                        La Ticla  Free diving   \n...                ...                             ...          ...   \n25718              NaN                             NaN          NaN   \n25719              NaN                             NaN          NaN   \n25720              NaN                             NaN          NaN   \n25721              NaN                             NaN          NaN   \n25722              NaN                             NaN          NaN   \n\n                  Name Sex   ...         Species   \\\n0          Julie Wolfe    F  ...      White shark   \n1      Adyson McNeely     F  ...              NaN   \n2          John Denges    M  ...              NaN   \n3                 male    M  ...        2 m shark   \n4       Gustavo Ramos     M  ...  Tiger shark, 3m   \n...                ...  ...  ...              ...   \n25718              NaN  NaN  ...              NaN   \n25719              NaN  NaN  ...              NaN   \n25720              NaN  NaN  ...              NaN   \n25721              NaN  NaN  ...              NaN   \n25722              NaN  NaN  ...              NaN   \n\n               Investigator or Source                       pdf  \\\n0                    R. Collier, GSAF      2018.06.25-Wolfe.pdf   \n1      K.McMurray, TrackingSharks.com    2018.06.18-McNeely.pdf   \n2      K.McMurray, TrackingSharks.com     2018.06.09-Denges.pdf   \n3                      B. Myatt, GSAF  2018.06.08-Arrawarra.pdf   \n4                           A .Kipper      2018.06.04-Ramos.pdf   \n...                               ...                       ...   \n25718                             NaN                       NaN   \n25719                             NaN                       NaN   \n25720                             NaN                       NaN   \n25721                             NaN                       NaN   \n25722                             NaN                       NaN   \n\n                                            href formula  \\\n0      http://sharkattackfile.net/spreadsheets/pdf_di...   \n1      http://sharkattackfile.net/spreadsheets/pdf_di...   \n2      http://sharkattackfile.net/spreadsheets/pdf_di...   \n3      http://sharkattackfile.net/spreadsheets/pdf_di...   \n4      http://sharkattackfile.net/spreadsheets/pdf_di...   \n...                                                  ...   \n25718                                                NaN   \n25719                                                NaN   \n25720                                                NaN   \n25721                                                NaN   \n25722                                                NaN   \n\n                                                    href Case Number.1  \\\n0      http://sharkattackfile.net/spreadsheets/pdf_di...    2018.06.25   \n1      http://sharkattackfile.net/spreadsheets/pdf_di...    2018.06.18   \n2      http://sharkattackfile.net/spreadsheets/pdf_di...    2018.06.09   \n3      http://sharkattackfile.net/spreadsheets/pdf_di...    2018.06.08   \n4      http://sharkattackfile.net/spreadsheets/pdf_di...    2018.06.04   \n...                                                  ...           ...   \n25718                                                NaN           NaN   \n25719                                                NaN           NaN   \n25720                                                NaN           NaN   \n25721                                                NaN           NaN   \n25722                                                NaN           NaN   \n\n      Case Number.2 original order Unnamed: 22 Unnamed: 23  \n0        2018.06.25         6303.0         NaN         NaN  \n1        2018.06.18         6302.0         NaN         NaN  \n2        2018.06.09         6301.0         NaN         NaN  \n3        2018.06.08         6300.0         NaN         NaN  \n4        2018.06.04         6299.0         NaN         NaN  \n...             ...            ...         ...         ...  \n25718           NaN            NaN         NaN         NaN  \n25719           NaN            NaN         NaN         NaN  \n25720           NaN            NaN         NaN         NaN  \n25721           NaN            NaN         NaN         NaN  \n25722           NaN            NaN         NaN         NaN  \n\n[25723 rows x 24 columns]",
      "text/html": "<div>\n<style scoped>\n    .dataframe tbody tr th:only-of-type {\n        vertical-align: middle;\n    }\n\n    .dataframe tbody tr th {\n        vertical-align: top;\n    }\n\n    .dataframe thead th {\n        text-align: right;\n    }\n</style>\n<table border=\"1\" class=\"dataframe\">\n  <thead>\n    <tr style=\"text-align: right;\">\n      <th></th>\n      <th>Case Number</th>\n      <th>Date</th>\n      <th>Year</th>\n      <th>Type</th>\n      <th>Country</th>\n      <th>Area</th>\n      <th>Location</th>\n      <th>Activity</th>\n      <th>Name</th>\n      <th>Sex</th>\n      <th>...</th>\n      <th>Species</th>\n      <th>Investigator or Source</th>\n      <th>pdf</th>\n      <th>href formula</th>\n      <th>href</th>\n      <th>Case Number.1</th>\n      <th>Case Number.2</th>\n      <th>original order</th>\n      <th>Unnamed: 22</th>\n      <th>Unnamed: 23</th>\n    </tr>\n  </thead>\n  <tbody>\n    <tr>\n      <th>0</th>\n      <td>2018.06.25</td>\n      <td>25-Jun-2018</td>\n      <td>2018.0</td>\n      <td>Boating</td>\n      <td>USA</td>\n      <td>California</td>\n      <td>Oceanside, San Diego County</td>\n      <td>Paddling</td>\n      <td>Julie Wolfe</td>\n      <td>F</td>\n      <td>...</td>\n      <td>White shark</td>\n      <td>R. Collier, GSAF</td>\n      <td>2018.06.25-Wolfe.pdf</td>\n      <td>http://sharkattackfile.net/spreadsheets/pdf_di...</td>\n      <td>http://sharkattackfile.net/spreadsheets/pdf_di...</td>\n      <td>2018.06.25</td>\n      <td>2018.06.25</td>\n      <td>6303.0</td>\n      <td>NaN</td>\n      <td>NaN</td>\n    </tr>\n    <tr>\n      <th>1</th>\n      <td>2018.06.18</td>\n      <td>18-Jun-2018</td>\n      <td>2018.0</td>\n      <td>Unprovoked</td>\n      <td>USA</td>\n      <td>Georgia</td>\n      <td>St. Simon Island, Glynn County</td>\n      <td>Standing</td>\n      <td>Adyson McNeely</td>\n      <td>F</td>\n      <td>...</td>\n      <td>NaN</td>\n      <td>K.McMurray, TrackingSharks.com</td>\n      <td>2018.06.18-McNeely.pdf</td>\n      <td>http://sharkattackfile.net/spreadsheets/pdf_di...</td>\n      <td>http://sharkattackfile.net/spreadsheets/pdf_di...</td>\n      <td>2018.06.18</td>\n      <td>2018.06.18</td>\n      <td>6302.0</td>\n      <td>NaN</td>\n      <td>NaN</td>\n    </tr>\n    <tr>\n      <th>2</th>\n      <td>2018.06.09</td>\n      <td>09-Jun-2018</td>\n      <td>2018.0</td>\n      <td>Invalid</td>\n      <td>USA</td>\n      <td>Hawaii</td>\n      <td>Habush, Oahu</td>\n      <td>Surfing</td>\n      <td>John Denges</td>\n      <td>M</td>\n      <td>...</td>\n      <td>NaN</td>\n      <td>K.McMurray, TrackingSharks.com</td>\n      <td>2018.06.09-Denges.pdf</td>\n      <td>http://sharkattackfile.net/spreadsheets/pdf_di...</td>\n      <td>http://sharkattackfile.net/spreadsheets/pdf_di...</td>\n      <td>2018.06.09</td>\n      <td>2018.06.09</td>\n      <td>6301.0</td>\n      <td>NaN</td>\n      <td>NaN</td>\n    </tr>\n    <tr>\n      <th>3</th>\n      <td>2018.06.08</td>\n      <td>08-Jun-2018</td>\n      <td>2018.0</td>\n      <td>Unprovoked</td>\n      <td>AUSTRALIA</td>\n      <td>New South Wales</td>\n      <td>Arrawarra Headland</td>\n      <td>Surfing</td>\n      <td>male</td>\n      <td>M</td>\n      <td>...</td>\n      <td>2 m shark</td>\n      <td>B. Myatt, GSAF</td>\n      <td>2018.06.08-Arrawarra.pdf</td>\n      <td>http://sharkattackfile.net/spreadsheets/pdf_di...</td>\n      <td>http://sharkattackfile.net/spreadsheets/pdf_di...</td>\n      <td>2018.06.08</td>\n      <td>2018.06.08</td>\n      <td>6300.0</td>\n      <td>NaN</td>\n      <td>NaN</td>\n    </tr>\n    <tr>\n      <th>4</th>\n      <td>2018.06.04</td>\n      <td>04-Jun-2018</td>\n      <td>2018.0</td>\n      <td>Provoked</td>\n      <td>MEXICO</td>\n      <td>Colima</td>\n      <td>La Ticla</td>\n      <td>Free diving</td>\n      <td>Gustavo Ramos</td>\n      <td>M</td>\n      <td>...</td>\n      <td>Tiger shark, 3m</td>\n      <td>A .Kipper</td>\n      <td>2018.06.04-Ramos.pdf</td>\n      <td>http://sharkattackfile.net/spreadsheets/pdf_di...</td>\n      <td>http://sharkattackfile.net/spreadsheets/pdf_di...</td>\n      <td>2018.06.04</td>\n      <td>2018.06.04</td>\n      <td>6299.0</td>\n      <td>NaN</td>\n      <td>NaN</td>\n    </tr>\n    <tr>\n      <th>...</th>\n      <td>...</td>\n      <td>...</td>\n      <td>...</td>\n      <td>...</td>\n      <td>...</td>\n      <td>...</td>\n      <td>...</td>\n      <td>...</td>\n      <td>...</td>\n      <td>...</td>\n      <td>...</td>\n      <td>...</td>\n      <td>...</td>\n      <td>...</td>\n      <td>...</td>\n      <td>...</td>\n      <td>...</td>\n      <td>...</td>\n      <td>...</td>\n      <td>...</td>\n      <td>...</td>\n    </tr>\n    <tr>\n      <th>25718</th>\n      <td>NaN</td>\n      <td>NaN</td>\n      <td>NaN</td>\n      <td>NaN</td>\n      <td>NaN</td>\n      <td>NaN</td>\n      <td>NaN</td>\n      <td>NaN</td>\n      <td>NaN</td>\n      <td>NaN</td>\n      <td>...</td>\n      <td>NaN</td>\n      <td>NaN</td>\n      <td>NaN</td>\n      <td>NaN</td>\n      <td>NaN</td>\n      <td>NaN</td>\n      <td>NaN</td>\n      <td>NaN</td>\n      <td>NaN</td>\n      <td>NaN</td>\n    </tr>\n    <tr>\n      <th>25719</th>\n      <td>NaN</td>\n      <td>NaN</td>\n      <td>NaN</td>\n      <td>NaN</td>\n      <td>NaN</td>\n      <td>NaN</td>\n      <td>NaN</td>\n      <td>NaN</td>\n      <td>NaN</td>\n      <td>NaN</td>\n      <td>...</td>\n      <td>NaN</td>\n      <td>NaN</td>\n      <td>NaN</td>\n      <td>NaN</td>\n      <td>NaN</td>\n      <td>NaN</td>\n      <td>NaN</td>\n      <td>NaN</td>\n      <td>NaN</td>\n      <td>NaN</td>\n    </tr>\n    <tr>\n      <th>25720</th>\n      <td>NaN</td>\n      <td>NaN</td>\n      <td>NaN</td>\n      <td>NaN</td>\n      <td>NaN</td>\n      <td>NaN</td>\n      <td>NaN</td>\n      <td>NaN</td>\n      <td>NaN</td>\n      <td>NaN</td>\n      <td>...</td>\n      <td>NaN</td>\n      <td>NaN</td>\n      <td>NaN</td>\n      <td>NaN</td>\n      <td>NaN</td>\n      <td>NaN</td>\n      <td>NaN</td>\n      <td>NaN</td>\n      <td>NaN</td>\n      <td>NaN</td>\n    </tr>\n    <tr>\n      <th>25721</th>\n      <td>NaN</td>\n      <td>NaN</td>\n      <td>NaN</td>\n      <td>NaN</td>\n      <td>NaN</td>\n      <td>NaN</td>\n      <td>NaN</td>\n      <td>NaN</td>\n      <td>NaN</td>\n      <td>NaN</td>\n      <td>...</td>\n      <td>NaN</td>\n      <td>NaN</td>\n      <td>NaN</td>\n      <td>NaN</td>\n      <td>NaN</td>\n      <td>NaN</td>\n      <td>NaN</td>\n      <td>NaN</td>\n      <td>NaN</td>\n      <td>NaN</td>\n    </tr>\n    <tr>\n      <th>25722</th>\n      <td>xx</td>\n      <td>NaN</td>\n      <td>NaN</td>\n      <td>NaN</td>\n      <td>NaN</td>\n      <td>NaN</td>\n      <td>NaN</td>\n      <td>NaN</td>\n      <td>NaN</td>\n      <td>NaN</td>\n      <td>...</td>\n      <td>NaN</td>\n      <td>NaN</td>\n      <td>NaN</td>\n      <td>NaN</td>\n      <td>NaN</td>\n      <td>NaN</td>\n      <td>NaN</td>\n      <td>NaN</td>\n      <td>NaN</td>\n      <td>NaN</td>\n    </tr>\n  </tbody>\n</table>\n<p>25723 rows × 24 columns</p>\n</div>"
     },
     "execution_count": 21,
     "metadata": {},
     "output_type": "execute_result"
    }
   ],
   "source": [
    "shark_data.head()"
   ],
   "metadata": {
    "collapsed": false,
    "pycharm": {
     "name": "#%%\n"
    }
   }
  },
  {
   "cell_type": "markdown",
   "source": [
    "<div class=\"alert alert-block alert-success\">\n",
    "<b>Data cleaning and manipulation</b> Identify data types, droppable columns, blank cells.</div>"
   ],
   "metadata": {
    "collapsed": false,
    "pycharm": {
     "name": "#%% md\n"
    }
   }
  },
  {
   "cell_type": "code",
   "execution_count": 22,
   "outputs": [
    {
     "data": {
      "text/plain": "Case Number                object\nDate                       object\nYear                      float64\nType                       object\nCountry                    object\nArea                       object\nLocation                   object\nActivity                   object\nName                       object\nSex                        object\nAge                        object\nInjury                     object\nFatal (Y/N)                object\nTime                       object\nSpecies                    object\nInvestigator or Source     object\npdf                        object\nhref formula               object\nhref                       object\nCase Number.1              object\nCase Number.2              object\noriginal order            float64\nUnnamed: 22                object\nUnnamed: 23                object\ndtype: object"
     },
     "execution_count": 22,
     "metadata": {},
     "output_type": "execute_result"
    }
   ],
   "source": [
    "#check data types\n",
    "shark_data.dtypes"
   ],
   "metadata": {
    "collapsed": false,
    "pycharm": {
     "name": "#%%\n"
    }
   }
  },
  {
   "cell_type": "markdown",
   "source": [
    "#Where should our company install its headquarters at?\n",
    "#what would be our company's business purpose? Should we sell a product (i.e. Shark repelent), provide a service to warn or\n",
    "#educate bathers/swimmers\n",
    "#What would be our target audience? (Government, customers (male, female, does not matter?), ecc)\n",
    "##What countries have the most shark attacks\n",
    "##What countries have the deadliest shark attacks\n",
    "##Shark attacks progression through years\n",
    "#What season of the year are shark attacks more prevalent\n",
    "#Shark attacks per country filtered by gender - Should women or men wear any kind of protective device/shark repelent?"
   ],
   "metadata": {
    "collapsed": false,
    "pycharm": {
     "name": "#%% md\n"
    }
   }
  },
  {
   "cell_type": "code",
   "execution_count": null,
   "outputs": [],
   "source": [],
   "metadata": {
    "collapsed": false,
    "pycharm": {
     "name": "#%%\n"
    }
   }
  },
  {
   "cell_type": "code",
   "execution_count": null,
   "outputs": [],
   "source": [
    "[shark_data[\"Country\"]]"
   ],
   "metadata": {
    "collapsed": false,
    "pycharm": {
     "name": "#%%\n"
    }
   }
  }
 ],
 "metadata": {
  "kernelspec": {
   "display_name": "Python 3 (ipykernel)",
   "language": "python",
   "name": "python3"
  },
  "language_info": {
   "codemirror_mode": {
    "name": "ipython",
    "version": 3
   },
   "file_extension": ".py",
   "mimetype": "text/x-python",
   "name": "python",
   "nbconvert_exporter": "python",
   "pygments_lexer": "ipython3",
   "version": "3.10.1"
  },
  "varInspector": {
   "cols": {
    "lenName": 16,
    "lenType": 16,
    "lenVar": 40
   },
   "kernels_config": {
    "python": {
     "delete_cmd_postfix": "",
     "delete_cmd_prefix": "del ",
     "library": "var_list.py",
     "varRefreshCmd": "print(var_dic_list())"
    },
    "r": {
     "delete_cmd_postfix": ") ",
     "delete_cmd_prefix": "rm(",
     "library": "var_list.r",
     "varRefreshCmd": "cat(var_dic_list()) "
    }
   },
   "types_to_exclude": [
    "module",
    "function",
    "builtin_function_or_method",
    "instance",
    "_Feature"
   ],
   "window_display": false
  }
 },
 "nbformat": 4,
 "nbformat_minor": 1
}