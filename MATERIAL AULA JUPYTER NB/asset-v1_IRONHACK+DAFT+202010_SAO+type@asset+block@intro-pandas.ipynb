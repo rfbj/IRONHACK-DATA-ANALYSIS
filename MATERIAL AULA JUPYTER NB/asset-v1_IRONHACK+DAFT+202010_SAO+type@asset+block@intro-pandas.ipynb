{
 "cells": [
  {
   "cell_type": "markdown",
   "metadata": {},
   "source": [
    "# Pandas"
   ]
  },
  {
   "cell_type": "markdown",
   "metadata": {},
   "source": [
    "## Installation"
   ]
  },
  {
   "cell_type": "code",
   "execution_count": 4,
   "metadata": {
    "ExecuteTime": {
     "end_time": "2020-07-29T17:24:50.635718Z",
     "start_time": "2020-07-29T17:24:47.808592Z"
    }
   },
   "outputs": [],
   "source": [
    "#!pip install pandas --upgrade --user"
   ]
  },
  {
   "cell_type": "markdown",
   "metadata": {},
   "source": [
    "\n",
    "## Importing convetion"
   ]
  },
  {
   "cell_type": "code",
   "execution_count": 1,
   "metadata": {
    "ExecuteTime": {
     "end_time": "2022-01-18T14:38:36.939856Z",
     "start_time": "2022-01-18T14:38:36.631731Z"
    }
   },
   "outputs": [],
   "source": [
    "import pandas as pd\n",
    "import numpy as np"
   ]
  },
  {
   "cell_type": "markdown",
   "metadata": {},
   "source": [
    "# What is Pandas?\n",
    "\n",
    "Pandas can be thought as an enhanced version of numpy arrays. In this case, the rows and columns can be identified with labels instead of just simple integer indices."
   ]
  },
  {
   "cell_type": "markdown",
   "metadata": {},
   "source": [
    "There are **three** main pandas elements we **need** to understand.\n",
    "1. Pandas Series\n",
    "2. Pandas DataFrame\n",
    "3. Index"
   ]
  },
  {
   "cell_type": "markdown",
   "metadata": {},
   "source": [
    "# The Pandas Series"
   ]
  },
  {
   "cell_type": "markdown",
   "metadata": {},
   "source": [
    "A pandas series is a one-dimensional (**1-D**) indexed array."
   ]
  },
  {
   "cell_type": "code",
   "execution_count": null,
   "metadata": {
    "ExecuteTime": {
     "end_time": "2020-07-30T00:27:04.437054Z",
     "start_time": "2020-07-30T00:27:04.430051Z"
    }
   },
   "outputs": [],
   "source": [
    "pd"
   ]
  },
  {
   "cell_type": "code",
   "execution_count": null,
   "metadata": {
    "ExecuteTime": {
     "end_time": "2020-07-30T00:29:02.691159Z",
     "start_time": "2020-07-30T00:29:02.687159Z"
    }
   },
   "outputs": [],
   "source": [
    "pd.Series()"
   ]
  },
  {
   "cell_type": "markdown",
   "metadata": {},
   "source": [
    "## Creating a pandas Series from a list\n",
    "\n",
    "You'll start to recognize a pandas Series by its visual "
   ]
  },
  {
   "cell_type": "code",
   "execution_count": 4,
   "metadata": {
    "ExecuteTime": {
     "end_time": "2022-01-18T14:52:59.545580Z",
     "start_time": "2022-01-18T14:52:59.540622Z"
    }
   },
   "outputs": [
    {
     "name": "stdout",
     "output_type": "stream",
     "text": [
      "32 24 24\n"
     ]
    }
   ],
   "source": [
    "a = pd.Series([5,8,3,3]).nbytes\n",
    "b = pd.Series([\"Assim\",8,3]).nbytes\n",
    "c = pd.Series([5.0,8,3]).nbytes\n",
    "\n",
    "print(a,b,c)"
   ]
  },
  {
   "cell_type": "markdown",
   "metadata": {},
   "source": [
    "`dtype` means the `data type` of what is inside your pandas Series."
   ]
  },
  {
   "cell_type": "code",
   "execution_count": null,
   "metadata": {
    "ExecuteTime": {
     "end_time": "2020-07-30T00:30:31.048934Z",
     "start_time": "2020-07-30T00:30:31.044935Z"
    }
   },
   "outputs": [],
   "source": [
    "# As in lists, you don't need to have all of the same type inside a pandas series\n",
    "\n",
    "pd.Series(['a', 2, 3])"
   ]
  },
  {
   "cell_type": "markdown",
   "metadata": {},
   "source": [
    "When you see `dtype: object`, it usually means you have a `str` inside your `Series`"
   ]
  },
  {
   "cell_type": "code",
   "execution_count": null,
   "metadata": {
    "ExecuteTime": {
     "end_time": "2020-07-30T00:31:44.211373Z",
     "start_time": "2020-07-30T00:31:44.208374Z"
    }
   },
   "outputs": [],
   "source": [
    "data = pd.Series([10,23,3,43,25,136])"
   ]
  },
  {
   "cell_type": "code",
   "execution_count": null,
   "metadata": {
    "ExecuteTime": {
     "end_time": "2020-07-30T00:31:44.919662Z",
     "start_time": "2020-07-30T00:31:44.914662Z"
    }
   },
   "outputs": [],
   "source": [
    "data"
   ]
  },
  {
   "cell_type": "code",
   "execution_count": null,
   "metadata": {
    "ExecuteTime": {
     "end_time": "2020-07-30T00:32:40.247932Z",
     "start_time": "2020-07-30T00:32:40.244932Z"
    }
   },
   "outputs": [],
   "source": [
    "type(data)"
   ]
  },
  {
   "cell_type": "markdown",
   "metadata": {},
   "source": [
    "So, the `type` of `data` is a `pandas...Series` and the types of the data inside the `pandas.Series` is `int`"
   ]
  },
  {
   "cell_type": "markdown",
   "metadata": {},
   "source": [
    "## Accessing elements \n",
    "\n",
    "Can be done like a numpy array. "
   ]
  },
  {
   "cell_type": "code",
   "execution_count": null,
   "metadata": {
    "ExecuteTime": {
     "end_time": "2020-07-30T00:33:33.003549Z",
     "start_time": "2020-07-30T00:33:32.998548Z"
    }
   },
   "outputs": [],
   "source": [
    "data"
   ]
  },
  {
   "cell_type": "code",
   "execution_count": null,
   "metadata": {
    "ExecuteTime": {
     "end_time": "2020-07-30T00:33:53.105522Z",
     "start_time": "2020-07-30T00:33:53.101522Z"
    }
   },
   "outputs": [],
   "source": [
    "data[0]"
   ]
  },
  {
   "cell_type": "code",
   "execution_count": null,
   "metadata": {
    "ExecuteTime": {
     "end_time": "2020-07-30T00:34:04.465719Z",
     "start_time": "2020-07-30T00:34:04.461719Z"
    }
   },
   "outputs": [],
   "source": [
    "data[4:]"
   ]
  },
  {
   "cell_type": "markdown",
   "metadata": {},
   "source": [
    "Em resumo: pandas series pode ser considerado uma numpy array de 1-D"
   ]
  },
  {
   "cell_type": "markdown",
   "metadata": {},
   "source": [
    "### What is the difference then? Numpy array vs Pandas Series"
   ]
  },
  {
   "cell_type": "markdown",
   "metadata": {},
   "source": [
    "Mostly the index notation.\n",
    "\n",
    "Numpy arrays only have the **implicit** index associated with its location. By using a **explicit** index notation, Pandas Series are much more flexible. For example:"
   ]
  },
  {
   "cell_type": "markdown",
   "metadata": {},
   "source": [
    "## Index don't need to be numbers."
   ]
  },
  {
   "cell_type": "code",
   "execution_count": null,
   "metadata": {
    "ExecuteTime": {
     "end_time": "2020-07-30T00:42:26.565938Z",
     "start_time": "2020-07-30T00:42:26.559936Z"
    }
   },
   "outputs": [],
   "source": [
    "my_series = pd.Series(data=[1,2,3,5,7,9], index=['Andre','Joao','Andre','Vampirão','Tieko','Satiko']) #index argument\n",
    "my_series"
   ]
  },
  {
   "cell_type": "markdown",
   "metadata": {},
   "source": [
    "## Index don't need to be in sequence"
   ]
  },
  {
   "cell_type": "code",
   "execution_count": null,
   "metadata": {
    "ExecuteTime": {
     "end_time": "2020-07-30T00:42:27.585936Z",
     "start_time": "2020-07-30T00:42:27.582936Z"
    }
   },
   "outputs": [],
   "source": [
    "data = pd.Series(data=[1,2,3,4], \n",
    "                 index=[1,7,4313,19])"
   ]
  },
  {
   "cell_type": "code",
   "execution_count": null,
   "metadata": {
    "ExecuteTime": {
     "end_time": "2020-07-30T00:42:28.216936Z",
     "start_time": "2020-07-30T00:42:28.212935Z"
    }
   },
   "outputs": [],
   "source": [
    "data"
   ]
  },
  {
   "cell_type": "markdown",
   "metadata": {},
   "source": [
    "### Then how can I access these pandas series?"
   ]
  },
  {
   "cell_type": "code",
   "execution_count": null,
   "metadata": {
    "ExecuteTime": {
     "end_time": "2020-07-30T00:43:00.743343Z",
     "start_time": "2020-07-30T00:43:00.739343Z"
    }
   },
   "outputs": [],
   "source": [
    "my_series"
   ]
  },
  {
   "cell_type": "code",
   "execution_count": null,
   "metadata": {
    "ExecuteTime": {
     "end_time": "2020-07-30T00:43:05.069816Z",
     "start_time": "2020-07-30T00:43:05.064814Z"
    }
   },
   "outputs": [],
   "source": [
    "my_series['Andre']"
   ]
  },
  {
   "cell_type": "code",
   "execution_count": null,
   "metadata": {
    "ExecuteTime": {
     "end_time": "2020-07-30T00:43:16.194259Z",
     "start_time": "2020-07-30T00:43:16.190259Z"
    }
   },
   "outputs": [],
   "source": [
    "my_series['Andre'].mean()"
   ]
  },
  {
   "cell_type": "markdown",
   "metadata": {},
   "source": [
    "**NOTE:** One can think of a pandas series, then, as a form of dictionary, in which the indexes are keys and the rows are the values"
   ]
  },
  {
   "cell_type": "code",
   "execution_count": null,
   "metadata": {
    "ExecuteTime": {
     "end_time": "2020-07-30T00:45:19.068823Z",
     "start_time": "2020-07-30T00:45:19.064825Z"
    }
   },
   "outputs": [],
   "source": [
    "my_series"
   ]
  },
  {
   "cell_type": "code",
   "execution_count": null,
   "metadata": {
    "ExecuteTime": {
     "end_time": "2020-07-30T00:44:23.297454Z",
     "start_time": "2020-07-30T00:44:23.293455Z"
    }
   },
   "outputs": [],
   "source": [
    "my_series.keys()"
   ]
  },
  {
   "cell_type": "code",
   "execution_count": null,
   "metadata": {
    "ExecuteTime": {
     "end_time": "2020-07-30T00:44:58.283273Z",
     "start_time": "2020-07-30T00:44:58.280275Z"
    }
   },
   "outputs": [],
   "source": [
    "my_series.values"
   ]
  },
  {
   "cell_type": "code",
   "execution_count": null,
   "metadata": {
    "ExecuteTime": {
     "end_time": "2020-07-30T00:46:03.936795Z",
     "start_time": "2020-07-30T00:46:03.932793Z"
    }
   },
   "outputs": [],
   "source": [
    "my_series * 3"
   ]
  },
  {
   "cell_type": "markdown",
   "metadata": {},
   "source": [
    "## Creating a pandas series from a dict."
   ]
  },
  {
   "cell_type": "code",
   "execution_count": null,
   "metadata": {
    "ExecuteTime": {
     "end_time": "2020-07-30T00:46:14.346959Z",
     "start_time": "2020-07-30T00:46:14.343955Z"
    }
   },
   "outputs": [],
   "source": [
    "my_dict = {'JOAO': 20, \n",
    "           'ANDRE':10}"
   ]
  },
  {
   "cell_type": "code",
   "execution_count": null,
   "metadata": {
    "ExecuteTime": {
     "end_time": "2020-07-30T00:46:15.048959Z",
     "start_time": "2020-07-30T00:46:15.045955Z"
    }
   },
   "outputs": [],
   "source": [
    "my_dict"
   ]
  },
  {
   "cell_type": "code",
   "execution_count": null,
   "metadata": {
    "ExecuteTime": {
     "end_time": "2020-07-30T00:46:30.581206Z",
     "start_time": "2020-07-30T00:46:30.576179Z"
    }
   },
   "outputs": [],
   "source": [
    "pd.Series(my_dict)"
   ]
  },
  {
   "cell_type": "markdown",
   "metadata": {},
   "source": [
    "But what about > 1-D?\n"
   ]
  },
  {
   "cell_type": "markdown",
   "metadata": {},
   "source": [
    "# Pandas DataFrame\n"
   ]
  },
  {
   "cell_type": "markdown",
   "metadata": {},
   "source": [
    "Pandas Dataframes can be thought as a generalization of **2-D** numpy arrays. However, again, they bring flexibility on both the indices and column names."
   ]
  },
  {
   "cell_type": "code",
   "execution_count": null,
   "metadata": {
    "ExecuteTime": {
     "end_time": "2020-07-30T00:48:52.203321Z",
     "start_time": "2020-07-30T00:48:52.198318Z"
    }
   },
   "outputs": [],
   "source": [
    "pd.DataFrame()"
   ]
  },
  {
   "cell_type": "code",
   "execution_count": null,
   "metadata": {
    "ExecuteTime": {
     "end_time": "2020-07-30T00:49:03.233457Z",
     "start_time": "2020-07-30T00:49:03.230486Z"
    }
   },
   "outputs": [],
   "source": [
    "type(pd.DataFrame())"
   ]
  },
  {
   "cell_type": "markdown",
   "metadata": {},
   "source": [
    "## Pandas DataFrame can be thought as a group of Pandas Series"
   ]
  },
  {
   "cell_type": "code",
   "execution_count": null,
   "metadata": {
    "ExecuteTime": {
     "end_time": "2020-07-30T00:54:57.435228Z",
     "start_time": "2020-07-30T00:54:57.432225Z"
    }
   },
   "outputs": [],
   "source": [
    "my_dict = {'JOAO': 25, \n",
    "           'ANDRE':28}\n",
    "\n",
    "data = pd.Series(my_dict)"
   ]
  },
  {
   "cell_type": "code",
   "execution_count": null,
   "metadata": {
    "ExecuteTime": {
     "end_time": "2020-07-30T00:54:57.689224Z",
     "start_time": "2020-07-30T00:54:57.686233Z"
    }
   },
   "outputs": [],
   "source": [
    "data"
   ]
  },
  {
   "cell_type": "code",
   "execution_count": null,
   "metadata": {
    "ExecuteTime": {
     "end_time": "2020-07-30T00:50:30.032842Z",
     "start_time": "2020-07-30T00:50:30.029844Z"
    }
   },
   "outputs": [],
   "source": [
    "another_dict = {'JOAO': 177,'ANDRE': 175}\n",
    "\n",
    "data_2 = pd.Series(another_dict)"
   ]
  },
  {
   "cell_type": "code",
   "execution_count": null,
   "metadata": {
    "ExecuteTime": {
     "end_time": "2020-07-30T00:50:30.407813Z",
     "start_time": "2020-07-30T00:50:30.404811Z"
    }
   },
   "outputs": [],
   "source": [
    "data_2"
   ]
  },
  {
   "cell_type": "code",
   "execution_count": null,
   "metadata": {
    "ExecuteTime": {
     "end_time": "2020-07-30T00:55:26.542538Z",
     "start_time": "2020-07-30T00:55:26.538568Z"
    }
   },
   "outputs": [],
   "source": [
    "my_series"
   ]
  },
  {
   "cell_type": "code",
   "execution_count": null,
   "metadata": {
    "ExecuteTime": {
     "end_time": "2020-07-30T00:56:31.188348Z",
     "start_time": "2020-07-30T00:56:31.182348Z"
    }
   },
   "outputs": [],
   "source": [
    "my_series2 = pd.Series(['Professor','TA','Aluno','Aluno','Aluna','Aluna'], index=['Andre','Matheus','Ale','Thiago','Leticia','Gabriela'])\n",
    "my_series2"
   ]
  },
  {
   "cell_type": "code",
   "execution_count": null,
   "metadata": {
    "ExecuteTime": {
     "end_time": "2020-07-30T00:57:37.023694Z",
     "start_time": "2020-07-30T00:57:37.018660Z"
    }
   },
   "outputs": [],
   "source": [
    "my_dict = {'nota': my_series, 'cargo': my_series2}\n",
    "my_dict"
   ]
  },
  {
   "cell_type": "code",
   "execution_count": null,
   "metadata": {
    "ExecuteTime": {
     "end_time": "2020-07-30T00:58:35.398750Z",
     "start_time": "2020-07-30T00:58:35.387747Z"
    }
   },
   "outputs": [],
   "source": [
    "pd.DataFrame(my_dict).describe()"
   ]
  },
  {
   "cell_type": "markdown",
   "metadata": {},
   "source": [
    "# Create dataframe as a collection of Series"
   ]
  },
  {
   "cell_type": "code",
   "execution_count": null,
   "metadata": {
    "ExecuteTime": {
     "end_time": "2020-07-30T00:50:55.006213Z",
     "start_time": "2020-07-30T00:50:55.000214Z"
    }
   },
   "outputs": [],
   "source": [
    "{'idade':data, 'altura':data_2}"
   ]
  },
  {
   "cell_type": "code",
   "execution_count": null,
   "metadata": {
    "ExecuteTime": {
     "end_time": "2020-07-30T00:51:15.616127Z",
     "start_time": "2020-07-30T00:51:15.610133Z"
    }
   },
   "outputs": [],
   "source": [
    "my_dataframe = pd.DataFrame({'idade':data, 'altura':data_2})\n",
    "my_dataframe "
   ]
  },
  {
   "cell_type": "markdown",
   "metadata": {},
   "source": [
    "**NOTE:**: So a dataframe can be thought of as a dictionary, in which `keys` are the `column names` and `values` are the `pandas Series` themselves"
   ]
  },
  {
   "cell_type": "code",
   "execution_count": null,
   "metadata": {
    "ExecuteTime": {
     "end_time": "2020-07-30T00:52:47.437236Z",
     "start_time": "2020-07-30T00:52:47.433235Z"
    }
   },
   "outputs": [],
   "source": [
    "my_dataframe['altura']"
   ]
  },
  {
   "cell_type": "code",
   "execution_count": null,
   "metadata": {
    "ExecuteTime": {
     "end_time": "2020-07-30T01:16:00.694178Z",
     "start_time": "2020-07-30T01:16:00.690176Z"
    }
   },
   "outputs": [],
   "source": [
    "my_dataframe.altura"
   ]
  },
  {
   "cell_type": "markdown",
   "metadata": {},
   "source": [
    "# `Access` Methods: Accessing dataframes rows and columns\n",
    "\n",
    "These are the correct way to access data in a dataframe. You can specify both row and column. You can also specify only row."
   ]
  },
  {
   "cell_type": "code",
   "execution_count": null,
   "metadata": {
    "ExecuteTime": {
     "end_time": "2020-07-30T01:16:13.111611Z",
     "start_time": "2020-07-30T01:16:13.106608Z"
    }
   },
   "outputs": [],
   "source": [
    "my_dataframe"
   ]
  },
  {
   "cell_type": "markdown",
   "metadata": {
    "ExecuteTime": {
     "end_time": "2020-07-29T17:52:37.678499Z",
     "start_time": "2020-07-29T17:52:37.676498Z"
    }
   },
   "source": [
    "## `dataframe.loc[row_name, col_name]`"
   ]
  },
  {
   "cell_type": "code",
   "execution_count": null,
   "metadata": {
    "ExecuteTime": {
     "end_time": "2020-07-30T01:17:32.423141Z",
     "start_time": "2020-07-30T01:17:32.419139Z"
    }
   },
   "outputs": [],
   "source": [
    "my_dataframe.loc['JOAO', 'idade']"
   ]
  },
  {
   "cell_type": "code",
   "execution_count": null,
   "metadata": {
    "ExecuteTime": {
     "end_time": "2020-07-30T01:18:39.279833Z",
     "start_time": "2020-07-30T01:18:39.276859Z"
    }
   },
   "outputs": [],
   "source": [
    "my_dataframe.loc[:, 'idade']"
   ]
  },
  {
   "cell_type": "code",
   "execution_count": null,
   "metadata": {
    "ExecuteTime": {
     "end_time": "2020-07-30T01:20:13.409269Z",
     "start_time": "2020-07-30T01:20:13.405268Z"
    }
   },
   "outputs": [],
   "source": [
    "my_dataframe.loc[:, 'idade']"
   ]
  },
  {
   "cell_type": "code",
   "execution_count": null,
   "metadata": {
    "ExecuteTime": {
     "end_time": "2020-07-30T01:21:09.101842Z",
     "start_time": "2020-07-30T01:21:09.096841Z"
    }
   },
   "outputs": [],
   "source": [
    "my_dataframe.loc['ANDRE', 'altura']"
   ]
  },
  {
   "cell_type": "markdown",
   "metadata": {},
   "source": [
    "## `dataframe.iloc[row_number, col_number]`"
   ]
  },
  {
   "cell_type": "code",
   "execution_count": null,
   "metadata": {
    "ExecuteTime": {
     "end_time": "2020-07-30T01:22:17.442644Z",
     "start_time": "2020-07-30T01:22:17.437645Z"
    }
   },
   "outputs": [],
   "source": [
    "my_dataframe"
   ]
  },
  {
   "cell_type": "code",
   "execution_count": null,
   "metadata": {
    "ExecuteTime": {
     "end_time": "2020-07-30T01:22:06.895630Z",
     "start_time": "2020-07-30T01:22:06.892632Z"
    }
   },
   "outputs": [],
   "source": [
    "my_dataframe.iloc[0, 0]"
   ]
  },
  {
   "cell_type": "code",
   "execution_count": null,
   "metadata": {
    "ExecuteTime": {
     "end_time": "2020-07-30T01:22:27.153734Z",
     "start_time": "2020-07-30T01:22:27.150733Z"
    }
   },
   "outputs": [],
   "source": [
    "my_dataframe.iloc[1, 1]"
   ]
  },
  {
   "cell_type": "code",
   "execution_count": null,
   "metadata": {
    "ExecuteTime": {
     "end_time": "2020-07-30T01:22:42.062239Z",
     "start_time": "2020-07-30T01:22:42.059242Z"
    }
   },
   "outputs": [],
   "source": [
    "my_dataframe.iloc[-1, 1]"
   ]
  },
  {
   "cell_type": "markdown",
   "metadata": {},
   "source": [
    "What is the difference of selecting a column via: `my_dataframe['idade']` vs `my_dataframe.loc[:, 'idade']`?"
   ]
  },
  {
   "cell_type": "code",
   "execution_count": null,
   "metadata": {},
   "outputs": [],
   "source": []
  },
  {
   "cell_type": "code",
   "execution_count": null,
   "metadata": {},
   "outputs": [],
   "source": []
  },
  {
   "cell_type": "markdown",
   "metadata": {},
   "source": [
    "# Creating dataframes"
   ]
  },
  {
   "cell_type": "markdown",
   "metadata": {},
   "source": [
    "## From a list in 1-D"
   ]
  },
  {
   "cell_type": "code",
   "execution_count": null,
   "metadata": {
    "ExecuteTime": {
     "end_time": "2020-07-30T01:25:41.820940Z",
     "start_time": "2020-07-30T01:25:41.818941Z"
    }
   },
   "outputs": [],
   "source": [
    "my_list = [1,2,3]"
   ]
  },
  {
   "cell_type": "code",
   "execution_count": null,
   "metadata": {
    "ExecuteTime": {
     "end_time": "2020-07-30T01:25:53.675695Z",
     "start_time": "2020-07-30T01:25:53.671696Z"
    }
   },
   "outputs": [],
   "source": [
    "np.array(my_list)"
   ]
  },
  {
   "cell_type": "code",
   "execution_count": null,
   "metadata": {
    "ExecuteTime": {
     "end_time": "2020-07-30T01:25:48.558365Z",
     "start_time": "2020-07-30T01:25:48.554366Z"
    }
   },
   "outputs": [],
   "source": [
    "np.array(my_list).shape"
   ]
  },
  {
   "cell_type": "code",
   "execution_count": null,
   "metadata": {
    "ExecuteTime": {
     "end_time": "2020-07-30T01:26:00.693855Z",
     "start_time": "2020-07-30T01:26:00.687854Z"
    }
   },
   "outputs": [],
   "source": [
    "pd.DataFrame(data=my_list)"
   ]
  },
  {
   "cell_type": "code",
   "execution_count": null,
   "metadata": {
    "ExecuteTime": {
     "end_time": "2020-07-30T01:26:55.201937Z",
     "start_time": "2020-07-30T01:26:55.195937Z"
    }
   },
   "outputs": [],
   "source": [
    "pd.DataFrame(data=my_list, columns=['notas'], index=['Andre','Maria','Joao'])"
   ]
  },
  {
   "cell_type": "markdown",
   "metadata": {},
   "source": [
    "## From a list in > 1-D (let's remember numpy arrays here!)"
   ]
  },
  {
   "cell_type": "code",
   "execution_count": null,
   "metadata": {
    "ExecuteTime": {
     "end_time": "2020-07-30T01:27:12.285919Z",
     "start_time": "2020-07-30T01:27:12.281890Z"
    }
   },
   "outputs": [],
   "source": [
    "my_list = [[1,2,3],\n",
    "           [-5,-6,-7]]"
   ]
  },
  {
   "cell_type": "code",
   "execution_count": null,
   "metadata": {
    "ExecuteTime": {
     "end_time": "2020-07-30T01:27:30.296225Z",
     "start_time": "2020-07-30T01:27:30.292223Z"
    }
   },
   "outputs": [],
   "source": [
    "np.array(my_list)"
   ]
  },
  {
   "cell_type": "code",
   "execution_count": null,
   "metadata": {
    "ExecuteTime": {
     "end_time": "2020-07-30T01:27:31.261565Z",
     "start_time": "2020-07-30T01:27:31.258564Z"
    }
   },
   "outputs": [],
   "source": [
    "np.array(my_list).shape"
   ]
  },
  {
   "cell_type": "code",
   "execution_count": null,
   "metadata": {
    "ExecuteTime": {
     "end_time": "2020-07-30T01:27:50.161798Z",
     "start_time": "2020-07-30T01:27:50.154828Z"
    }
   },
   "outputs": [],
   "source": [
    "df = pd.DataFrame(data=my_list, columns=['idade','peso','altura'])\n",
    "df"
   ]
  },
  {
   "cell_type": "code",
   "execution_count": null,
   "metadata": {
    "ExecuteTime": {
     "end_time": "2020-07-30T01:28:15.701869Z",
     "start_time": "2020-07-30T01:28:15.697839Z"
    }
   },
   "outputs": [],
   "source": [
    "df.shape"
   ]
  },
  {
   "cell_type": "markdown",
   "metadata": {},
   "source": [
    "## From a dictionary composed by lists"
   ]
  },
  {
   "cell_type": "code",
   "execution_count": null,
   "metadata": {
    "ExecuteTime": {
     "end_time": "2020-07-30T01:29:06.565137Z",
     "start_time": "2020-07-30T01:29:06.558138Z"
    }
   },
   "outputs": [],
   "source": [
    "pd.DataFrame({'ironhack_students': ['a','b','c'],\n",
    "              'NOTA':[10, 10, 0]})"
   ]
  },
  {
   "cell_type": "markdown",
   "metadata": {},
   "source": [
    "## From a numpy array"
   ]
  },
  {
   "cell_type": "code",
   "execution_count": null,
   "metadata": {
    "ExecuteTime": {
     "end_time": "2020-07-31T00:21:23.509165Z",
     "start_time": "2020-07-31T00:21:23.505162Z"
    }
   },
   "outputs": [],
   "source": [
    "a = np.random.random(size=(5, 4))\n",
    "a"
   ]
  },
  {
   "cell_type": "code",
   "execution_count": null,
   "metadata": {
    "ExecuteTime": {
     "end_time": "2020-07-31T00:21:29.775595Z",
     "start_time": "2020-07-31T00:21:29.772593Z"
    }
   },
   "outputs": [],
   "source": [
    "data = pd.DataFrame(a, columns=['altura', 'peso', 'idade', 'largura'])"
   ]
  },
  {
   "cell_type": "code",
   "execution_count": null,
   "metadata": {
    "ExecuteTime": {
     "end_time": "2020-07-31T00:23:11.934937Z",
     "start_time": "2020-07-31T00:23:11.926935Z"
    }
   },
   "outputs": [],
   "source": [
    "data"
   ]
  },
  {
   "cell_type": "markdown",
   "metadata": {},
   "source": [
    "### Accessing rows and columns:\n",
    "\n",
    "#### `.loc`\n",
    "\n",
    "remember: `.loc` receives `[row_name, column_name]`"
   ]
  },
  {
   "cell_type": "code",
   "execution_count": null,
   "metadata": {
    "ExecuteTime": {
     "end_time": "2020-07-31T00:23:08.812566Z",
     "start_time": "2020-07-31T00:23:08.808567Z"
    }
   },
   "outputs": [],
   "source": [
    "# get third row and column `peso`: result should be 0.285021\n",
    "\n",
    "data.loc[2, 'peso']"
   ]
  },
  {
   "cell_type": "code",
   "execution_count": null,
   "metadata": {
    "ExecuteTime": {
     "end_time": "2020-07-31T00:25:30.316105Z",
     "start_time": "2020-07-31T00:25:30.311105Z"
    }
   },
   "outputs": [],
   "source": [
    "# get entire third row\n",
    "\n",
    "data.loc[2, :]"
   ]
  },
  {
   "cell_type": "code",
   "execution_count": null,
   "metadata": {
    "ExecuteTime": {
     "end_time": "2020-07-31T00:26:10.395608Z",
     "start_time": "2020-07-31T00:26:10.389607Z"
    }
   },
   "outputs": [],
   "source": [
    "# get entire `idade` column\n",
    "\n",
    "# data['idade']\n",
    "# data.idade\n",
    "data.loc[:, 'idade']"
   ]
  },
  {
   "cell_type": "code",
   "execution_count": null,
   "metadata": {
    "ExecuteTime": {
     "end_time": "2020-07-31T00:26:43.352314Z",
     "start_time": "2020-07-31T00:26:43.345313Z"
    }
   },
   "outputs": [],
   "source": [
    "data"
   ]
  },
  {
   "cell_type": "code",
   "execution_count": null,
   "metadata": {
    "ExecuteTime": {
     "end_time": "2020-07-31T00:27:17.682743Z",
     "start_time": "2020-07-31T00:27:17.675744Z"
    }
   },
   "outputs": [],
   "source": [
    "# get all rows from column `peso` up to `largura`\n",
    "\n",
    "data.loc[:, 'peso':'largura']"
   ]
  },
  {
   "cell_type": "code",
   "execution_count": null,
   "metadata": {
    "ExecuteTime": {
     "end_time": "2020-07-31T00:28:15.998045Z",
     "start_time": "2020-07-31T00:28:15.990044Z"
    }
   },
   "outputs": [],
   "source": [
    "data.loc[:, ['peso','idade','largura']]"
   ]
  },
  {
   "cell_type": "code",
   "execution_count": null,
   "metadata": {
    "ExecuteTime": {
     "end_time": "2020-07-31T00:30:54.659566Z",
     "start_time": "2020-07-31T00:30:54.652565Z"
    }
   },
   "outputs": [],
   "source": [
    "data.loc[:3, ['peso','idade','largura']]"
   ]
  },
  {
   "cell_type": "code",
   "execution_count": null,
   "metadata": {
    "ExecuteTime": {
     "end_time": "2020-07-31T00:32:22.026873Z",
     "start_time": "2020-07-31T00:32:22.019876Z"
    }
   },
   "outputs": [],
   "source": [
    "data.loc[:-1, ['peso','idade','largura']]"
   ]
  },
  {
   "cell_type": "code",
   "execution_count": null,
   "metadata": {},
   "outputs": [],
   "source": []
  },
  {
   "cell_type": "code",
   "execution_count": null,
   "metadata": {
    "ExecuteTime": {
     "end_time": "2020-07-31T00:33:34.472105Z",
     "start_time": "2020-07-31T00:33:34.468105Z"
    }
   },
   "outputs": [],
   "source": [
    "data.loc[:, 'idade']"
   ]
  },
  {
   "cell_type": "code",
   "execution_count": null,
   "metadata": {
    "ExecuteTime": {
     "end_time": "2020-07-31T00:34:31.948046Z",
     "start_time": "2020-07-31T00:34:31.944078Z"
    }
   },
   "outputs": [],
   "source": [
    "data.loc[:, 'idade'].shape"
   ]
  },
  {
   "cell_type": "code",
   "execution_count": null,
   "metadata": {
    "ExecuteTime": {
     "end_time": "2020-07-31T00:35:01.273228Z",
     "start_time": "2020-07-31T00:35:01.267229Z"
    }
   },
   "outputs": [],
   "source": [
    "data.loc[:, ['idade']]"
   ]
  },
  {
   "cell_type": "code",
   "execution_count": null,
   "metadata": {
    "ExecuteTime": {
     "end_time": "2020-07-31T00:35:06.870249Z",
     "start_time": "2020-07-31T00:35:06.865276Z"
    }
   },
   "outputs": [],
   "source": [
    "data.loc[:, ['idade']].shape"
   ]
  },
  {
   "cell_type": "markdown",
   "metadata": {},
   "source": [
    "#### `.iloc`"
   ]
  },
  {
   "cell_type": "code",
   "execution_count": null,
   "metadata": {
    "ExecuteTime": {
     "end_time": "2020-07-31T00:30:05.030961Z",
     "start_time": "2020-07-31T00:30:05.023961Z"
    }
   },
   "outputs": [],
   "source": [
    "data.iloc[0:4, :]"
   ]
  },
  {
   "cell_type": "code",
   "execution_count": null,
   "metadata": {
    "ExecuteTime": {
     "end_time": "2020-07-31T00:33:04.878755Z",
     "start_time": "2020-07-31T00:33:04.870754Z"
    }
   },
   "outputs": [],
   "source": [
    "data.iloc[0:4, 1:4]"
   ]
  },
  {
   "cell_type": "code",
   "execution_count": null,
   "metadata": {
    "ExecuteTime": {
     "end_time": "2020-07-31T00:31:39.203725Z",
     "start_time": "2020-07-31T00:31:39.198728Z"
    }
   },
   "outputs": [],
   "source": [
    "data.iloc[-1, :]"
   ]
  },
  {
   "cell_type": "markdown",
   "metadata": {},
   "source": [
    "## Math operations"
   ]
  },
  {
   "cell_type": "code",
   "execution_count": null,
   "metadata": {
    "ExecuteTime": {
     "end_time": "2020-07-31T00:36:06.276954Z",
     "start_time": "2020-07-31T00:36:06.273953Z"
    }
   },
   "outputs": [],
   "source": [
    "data = np.random.random(size=(8, 4))"
   ]
  },
  {
   "cell_type": "code",
   "execution_count": null,
   "metadata": {
    "ExecuteTime": {
     "end_time": "2020-07-31T00:36:07.827977Z",
     "start_time": "2020-07-31T00:36:07.823977Z"
    }
   },
   "outputs": [],
   "source": [
    "df = pd.DataFrame(data, columns=['Andre','Maria','Joao','Vamp'])"
   ]
  },
  {
   "cell_type": "code",
   "execution_count": null,
   "metadata": {
    "ExecuteTime": {
     "end_time": "2020-07-31T00:36:10.570409Z",
     "start_time": "2020-07-31T00:36:10.561437Z"
    }
   },
   "outputs": [],
   "source": [
    "df.transpose()"
   ]
  },
  {
   "cell_type": "code",
   "execution_count": null,
   "metadata": {
    "ExecuteTime": {
     "end_time": "2020-07-31T00:36:21.550130Z",
     "start_time": "2020-07-31T00:36:21.546129Z"
    }
   },
   "outputs": [],
   "source": [
    "df.mean()"
   ]
  },
  {
   "cell_type": "code",
   "execution_count": null,
   "metadata": {
    "ExecuteTime": {
     "end_time": "2020-07-31T00:36:33.794496Z",
     "start_time": "2020-07-31T00:36:33.789467Z"
    }
   },
   "outputs": [],
   "source": [
    "df.mean(axis=1)"
   ]
  },
  {
   "cell_type": "code",
   "execution_count": null,
   "metadata": {
    "ExecuteTime": {
     "end_time": "2020-07-31T00:36:52.915001Z",
     "start_time": "2020-07-31T00:36:52.911000Z"
    }
   },
   "outputs": [],
   "source": [
    "df.std()"
   ]
  },
  {
   "cell_type": "code",
   "execution_count": null,
   "metadata": {
    "ExecuteTime": {
     "end_time": "2020-07-31T00:36:54.897359Z",
     "start_time": "2020-07-31T00:36:54.880329Z"
    }
   },
   "outputs": [],
   "source": [
    "df.describe()"
   ]
  },
  {
   "cell_type": "code",
   "execution_count": null,
   "metadata": {
    "ExecuteTime": {
     "end_time": "2020-07-31T00:38:25.240405Z",
     "start_time": "2020-07-31T00:38:25.231376Z"
    }
   },
   "outputs": [],
   "source": [
    "df['Total'] = df['Andre'] + df['Vamp']\n",
    "df"
   ]
  },
  {
   "cell_type": "code",
   "execution_count": null,
   "metadata": {
    "ExecuteTime": {
     "end_time": "2020-07-31T00:37:44.790285Z",
     "start_time": "2020-07-31T00:37:44.785284Z"
    }
   },
   "outputs": [],
   "source": [
    "df.mean()"
   ]
  },
  {
   "cell_type": "code",
   "execution_count": null,
   "metadata": {
    "ExecuteTime": {
     "end_time": "2020-07-29T18:08:47.414040Z",
     "start_time": "2020-07-29T18:08:47.409036Z"
    }
   },
   "outputs": [],
   "source": [
    "df['Andre']"
   ]
  },
  {
   "cell_type": "markdown",
   "metadata": {},
   "source": [
    "# Pandas Index"
   ]
  },
  {
   "cell_type": "code",
   "execution_count": null,
   "metadata": {
    "ExecuteTime": {
     "end_time": "2020-07-31T00:38:50.648889Z",
     "start_time": "2020-07-31T00:38:50.644894Z"
    }
   },
   "outputs": [],
   "source": [
    "pd.Index([1,2,3])"
   ]
  },
  {
   "cell_type": "code",
   "execution_count": null,
   "metadata": {
    "ExecuteTime": {
     "end_time": "2020-07-31T00:39:37.228527Z",
     "start_time": "2020-07-31T00:39:37.221527Z"
    }
   },
   "outputs": [],
   "source": [
    "df"
   ]
  },
  {
   "cell_type": "code",
   "execution_count": null,
   "metadata": {
    "ExecuteTime": {
     "end_time": "2020-07-31T00:39:14.349706Z",
     "start_time": "2020-07-31T00:39:14.345678Z"
    }
   },
   "outputs": [],
   "source": [
    "df.index"
   ]
  },
  {
   "cell_type": "code",
   "execution_count": null,
   "metadata": {
    "ExecuteTime": {
     "end_time": "2020-07-31T00:39:28.089918Z",
     "start_time": "2020-07-31T00:39:28.084921Z"
    }
   },
   "outputs": [],
   "source": [
    "df.index.values"
   ]
  },
  {
   "cell_type": "code",
   "execution_count": null,
   "metadata": {},
   "outputs": [],
   "source": [
    " "
   ]
  }
 ],
 "metadata": {
  "kernelspec": {
   "display_name": "Python 3 (ipykernel)",
   "language": "python",
   "name": "python3"
  },
  "language_info": {
   "codemirror_mode": {
    "name": "ipython",
    "version": 3
   },
   "file_extension": ".py",
   "mimetype": "text/x-python",
   "name": "python",
   "nbconvert_exporter": "python",
   "pygments_lexer": "ipython3",
   "version": "3.10.1"
  },
  "toc": {
   "base_numbering": 1,
   "nav_menu": {},
   "number_sections": true,
   "sideBar": true,
   "skip_h1_title": false,
   "title_cell": "Table of Contents",
   "title_sidebar": "Contents",
   "toc_cell": false,
   "toc_position": {},
   "toc_section_display": true,
   "toc_window_display": false
  },
  "varInspector": {
   "cols": {
    "lenName": 16,
    "lenType": 16,
    "lenVar": 40
   },
   "kernels_config": {
    "python": {
     "delete_cmd_postfix": "",
     "delete_cmd_prefix": "del ",
     "library": "var_list.py",
     "varRefreshCmd": "print(var_dic_list())"
    },
    "r": {
     "delete_cmd_postfix": ") ",
     "delete_cmd_prefix": "rm(",
     "library": "var_list.r",
     "varRefreshCmd": "cat(var_dic_list()) "
    }
   },
   "types_to_exclude": [
    "module",
    "function",
    "builtin_function_or_method",
    "instance",
    "_Feature"
   ],
   "window_display": false
  }
 },
 "nbformat": 4,
 "nbformat_minor": 2
}
