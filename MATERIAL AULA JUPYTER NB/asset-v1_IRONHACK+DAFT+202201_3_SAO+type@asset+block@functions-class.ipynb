{
 "cells": [
  {
   "cell_type": "markdown",
   "metadata": {},
   "source": [
    "# Functions in Python"
   ]
  },
  {
   "cell_type": "code",
   "execution_count": 1,
   "metadata": {
    "ExecuteTime": {
     "end_time": "2022-01-20T17:28:55.767971Z",
     "start_time": "2022-01-20T17:28:53.144587Z"
    }
   },
   "outputs": [
    {
     "name": "stdout",
     "output_type": "stream",
     "text": [
      "Collecting seaborn\n",
      "  Downloading seaborn-0.11.2-py3-none-any.whl (292 kB)\n",
      "Requirement already satisfied: matplotlib>=2.2 in c:\\users\\rfbj\\appdata\\local\\programs\\python\\python310\\lib\\site-packages (from seaborn) (3.5.1)\n",
      "Requirement already satisfied: pandas>=0.23 in c:\\users\\rfbj\\appdata\\local\\programs\\python\\python310\\lib\\site-packages (from seaborn) (1.3.5)\n",
      "Requirement already satisfied: numpy>=1.15 in c:\\users\\rfbj\\appdata\\local\\programs\\python\\python310\\lib\\site-packages (from seaborn) (1.22.1)\n",
      "Requirement already satisfied: scipy>=1.0 in c:\\users\\rfbj\\appdata\\local\\programs\\python\\python310\\lib\\site-packages (from seaborn) (1.7.3)\n",
      "Requirement already satisfied: fonttools>=4.22.0 in c:\\users\\rfbj\\appdata\\local\\programs\\python\\python310\\lib\\site-packages (from matplotlib>=2.2->seaborn) (4.28.5)\n",
      "Requirement already satisfied: kiwisolver>=1.0.1 in c:\\users\\rfbj\\appdata\\local\\programs\\python\\python310\\lib\\site-packages (from matplotlib>=2.2->seaborn) (1.3.2)\n",
      "Requirement already satisfied: pyparsing>=2.2.1 in c:\\users\\rfbj\\appdata\\local\\programs\\python\\python310\\lib\\site-packages (from matplotlib>=2.2->seaborn) (3.0.6)\n",
      "Requirement already satisfied: python-dateutil>=2.7 in c:\\users\\rfbj\\appdata\\local\\programs\\python\\python310\\lib\\site-packages (from matplotlib>=2.2->seaborn) (2.8.2)\n",
      "Requirement already satisfied: pillow>=6.2.0 in c:\\users\\rfbj\\appdata\\local\\programs\\python\\python310\\lib\\site-packages (from matplotlib>=2.2->seaborn) (9.0.0)\n",
      "Requirement already satisfied: cycler>=0.10 in c:\\users\\rfbj\\appdata\\local\\programs\\python\\python310\\lib\\site-packages (from matplotlib>=2.2->seaborn) (0.11.0)\n",
      "Requirement already satisfied: packaging>=20.0 in c:\\users\\rfbj\\appdata\\local\\programs\\python\\python310\\lib\\site-packages (from matplotlib>=2.2->seaborn) (21.3)\n",
      "Requirement already satisfied: pytz>=2017.3 in c:\\users\\rfbj\\appdata\\local\\programs\\python\\python310\\lib\\site-packages (from pandas>=0.23->seaborn) (2021.3)\n",
      "Requirement already satisfied: six>=1.5 in c:\\users\\rfbj\\appdata\\local\\programs\\python\\python310\\lib\\site-packages (from python-dateutil>=2.7->matplotlib>=2.2->seaborn) (1.16.0)\n",
      "Installing collected packages: seaborn\n",
      "Successfully installed seaborn-0.11.2\n"
     ]
    }
   ],
   "source": [
    "!pip install seaborn\n"
   ]
  },
  {
   "cell_type": "code",
   "execution_count": null,
   "metadata": {},
   "outputs": [],
   "source": []
  },
  {
   "cell_type": "code",
   "execution_count": 2,
   "metadata": {
    "ExecuteTime": {
     "end_time": "2022-01-12T14:49:05.735349Z",
     "start_time": "2022-01-12T14:49:05.728859Z"
    }
   },
   "outputs": [],
   "source": [
    "# What are examples of python functons that you already know?\n"
   ]
  },
  {
   "cell_type": "markdown",
   "metadata": {},
   "source": [
    "## Why Functions?"
   ]
  },
  {
   "cell_type": "markdown",
   "metadata": {},
   "source": [
    "- Functions help us \n",
    "    - <u>reuse code </u>\n",
    "        - **Rule of three**: https://en.wikipedia.org/wiki/Rule_of_three_(computer_programming)\n",
    "        - **DRY principle**: https://en.wikipedia.org/wiki/Don%27t_repeat_yourself\n",
    "    - <u> document steps</u>\n",
    "        - **docstrings**: https://www.python.org/dev/peps/pep-0257/\n",
    "    - <u> organize thoughts</u>"
   ]
  },
  {
   "cell_type": "markdown",
   "metadata": {},
   "source": [
    "## Function Syntax: \n",
    "\n",
    "Example function: \n",
    "\n",
    "```python\n",
    "def function_name(x,y,z):\n",
    "    \"\"\"Documentation comes here\"\"\"\n",
    "    k = x + y + z\n",
    "    \n",
    "    return k\n",
    "```\n",
    "\n",
    "----\n",
    "### Step by step\n",
    "\n",
    "`def`\n",
    "\n",
    "`function_name`\n",
    "\n",
    "```python\n",
    "def function_name\n",
    "```\n",
    "\n",
    "`parentheses`\n",
    "\n",
    "`[OPTIONAL] list of arguments`\n",
    "\n",
    "```python\n",
    "def function_name(x,y,z)\n",
    "```\n",
    "\n",
    "`required vs optional arguments`\n",
    "\n",
    "`:`\n",
    "\n",
    "`indented code block`\n",
    "\n",
    "```python\n",
    "def function_name(x,y,z):\n",
    "    k = x + y + z\n",
    "    \n",
    "```\n",
    "\n",
    "`[docstring]`\n",
    "\n",
    "```python\n",
    "def function_name(x,y,z):\n",
    "    \"\"\"Documentation comes here\"\"\"\n",
    "    k = x + y + z\n",
    "    \n",
    "```\n",
    "\n",
    "`return statement` \n",
    "\n",
    "```python\n",
    "def function_name(x,y,z):\n",
    "    \"\"\"Documentation comes here\"\"\"\n",
    "    k = x + y + z\n",
    "    \n",
    "    return k\n",
    "    \n",
    "```\n",
    "\n",
    "`functions are Callables!`"
   ]
  },
  {
   "cell_type": "code",
   "execution_count": 55,
   "metadata": {
    "ExecuteTime": {
     "end_time": "2021-10-21T18:22:59.009327Z",
     "start_time": "2021-10-21T18:22:59.004340Z"
    }
   },
   "outputs": [],
   "source": [
    "# make a screaming function\n",
    "def o_grito():\n",
    "    print('AAAAAAAAAAAAAHHHHHHH')"
   ]
  },
  {
   "cell_type": "code",
   "execution_count": 56,
   "metadata": {
    "ExecuteTime": {
     "end_time": "2021-10-21T18:23:02.471176Z",
     "start_time": "2021-10-21T18:23:02.461203Z"
    }
   },
   "outputs": [
    {
     "name": "stdout",
     "output_type": "stream",
     "text": [
      "AAAAAAAAAAAAAHHHHHHH\n"
     ]
    }
   ],
   "source": [
    "o_grito()"
   ]
  },
  {
   "cell_type": "markdown",
   "metadata": {},
   "source": [
    "# Functions in Python"
   ]
  },
  {
   "cell_type": "markdown",
   "metadata": {
    "ExecuteTime": {
     "end_time": "2020-07-21T21:28:50.118075Z",
     "start_time": "2020-07-21T21:28:50.115102Z"
    }
   },
   "source": [
    "Imagine que temos um jogo com algumas regras inventadas. Existem essas duas opções, se a pessoa ganhar, aparece `'Legal! Muito bom'` na tela, mas se ela perder aparecerá `'Ih, você perdeu'`."
   ]
  },
  {
   "cell_type": "code",
   "execution_count": 1,
   "metadata": {
    "ExecuteTime": {
     "end_time": "2021-10-21T18:28:16.037438Z",
     "start_time": "2021-10-21T18:28:07.938821Z"
    }
   },
   "outputs": [
    {
     "name": "stdout",
     "output_type": "stream",
     "text": [
      "a\n"
     ]
    },
    {
     "data": {
      "text/plain": [
       "'a'"
      ]
     },
     "execution_count": 1,
     "metadata": {},
     "output_type": "execute_result"
    }
   ],
   "source": [
    "input()"
   ]
  },
  {
   "cell_type": "code",
   "execution_count": 58,
   "metadata": {
    "ExecuteTime": {
     "end_time": "2021-10-21T18:28:54.645844Z",
     "start_time": "2021-10-21T18:28:44.411953Z"
    }
   },
   "outputs": [
    {
     "name": "stdout",
     "output_type": "stream",
     "text": [
      "Escolha um número:32\n"
     ]
    }
   ],
   "source": [
    "x = int(input('Escolha um número:'))"
   ]
  },
  {
   "cell_type": "code",
   "execution_count": 59,
   "metadata": {
    "ExecuteTime": {
     "end_time": "2021-10-21T18:29:11.441224Z",
     "start_time": "2021-10-21T18:29:11.427267Z"
    }
   },
   "outputs": [
    {
     "data": {
      "text/plain": [
       "int"
      ]
     },
     "execution_count": 59,
     "metadata": {},
     "output_type": "execute_result"
    }
   ],
   "source": [
    "type(x)"
   ]
  },
  {
   "cell_type": "code",
   "execution_count": 60,
   "metadata": {
    "ExecuteTime": {
     "end_time": "2021-10-21T18:29:20.234318Z",
     "start_time": "2021-10-21T18:29:16.514707Z"
    }
   },
   "outputs": [
    {
     "name": "stdout",
     "output_type": "stream",
     "text": [
      "Escolha um número:32\n",
      "Legal! Muito bom\n"
     ]
    }
   ],
   "source": [
    "# jogo completamente aleatório:\n",
    "\n",
    "x = int(input('Escolha um número:'))\n",
    "\n",
    "if x < 3:\n",
    "    print('Legal! Muito bom')\n",
    "elif x < 5:\n",
    "    print('Ih, você perdeu')\n",
    "elif x < 7:\n",
    "    print('Legal! Muito bom')\n",
    "elif x < 9:\n",
    "    print('Ih, você perdeu')\n",
    "elif x < 15:\n",
    "    print('Legal! Muito bom')\n",
    "elif x < 25:\n",
    "    print('Ih, você perdeu')\n",
    "elif x < 37:\n",
    "    print('Legal! Muito bom')"
   ]
  },
  {
   "cell_type": "markdown",
   "metadata": {},
   "source": [
    "> E se quisessemos, por exemplo, mudar o código para mostrar o valor que a pessoa escolheu quando ela perde?"
   ]
  },
  {
   "cell_type": "code",
   "execution_count": 65,
   "metadata": {
    "ExecuteTime": {
     "end_time": "2021-10-21T18:33:36.467031Z",
     "start_time": "2021-10-21T18:33:30.644138Z"
    }
   },
   "outputs": [
    {
     "name": "stdout",
     "output_type": "stream",
     "text": [
      "Escolha um número:4\n",
      "Ih, você perdeu. Voce escolheu 4\n"
     ]
    }
   ],
   "source": [
    "# jogo completamente aleatório:\n",
    "x = int(input('Escolha um número:'))\n",
    "\n",
    "if x < 3:\n",
    "    print('Legal! Muito bom')\n",
    "elif x < 5:\n",
    "    print(f'Ih, você perdeu.')\n",
    "elif x < 7:\n",
    "    print('Legal! Muito bom')\n",
    "elif x < 9:\n",
    "    print(f'Ih, você perdeu. ')\n",
    "elif x < 15:\n",
    "    print('Legal! Muito bom')\n",
    "elif x < 25:\n",
    "    print(f'Ih, você perdeu. ')\n",
    "elif x < 37:\n",
    "    print('Legal! Muito bom')"
   ]
  },
  {
   "cell_type": "markdown",
   "metadata": {},
   "source": [
    "> Se este código tivesse sido escrito em funções, veja qual o processo para modificar o código:"
   ]
  },
  {
   "cell_type": "code",
   "execution_count": 75,
   "metadata": {
    "ExecuteTime": {
     "end_time": "2021-10-21T18:42:08.100716Z",
     "start_time": "2021-10-21T18:42:08.081756Z"
    }
   },
   "outputs": [],
   "source": [
    "def say_congrats():\n",
    "    \"\"\"This function says you won the game.\"\"\"\n",
    "    \n",
    "    print(f'Legal! Muito bom. Parabéns!')"
   ]
  },
  {
   "cell_type": "code",
   "execution_count": 69,
   "metadata": {
    "ExecuteTime": {
     "end_time": "2021-10-21T18:36:05.436960Z",
     "start_time": "2021-10-21T18:36:05.419007Z"
    }
   },
   "outputs": [],
   "source": [
    "def say_condolence(x):\n",
    "    \"\"\"This function says you lost the game and tells you the score\"\"\"\n",
    "    \n",
    "    print(f'Ih você perdeu. Você escolheu {x}')"
   ]
  },
  {
   "cell_type": "code",
   "execution_count": 72,
   "metadata": {
    "ExecuteTime": {
     "end_time": "2021-10-21T18:38:05.402298Z",
     "start_time": "2021-10-21T18:37:56.595801Z"
    }
   },
   "outputs": [
    {
     "name": "stdout",
     "output_type": "stream",
     "text": [
      "Escolha um número:9\n",
      "Legal! Muito bom. Parabéns! Você escolheu bem, o número 9\n"
     ]
    }
   ],
   "source": [
    "# jogo completamente aleatório:\n",
    "\n",
    "x = int(input('Escolha um número:'))\n",
    "if x < 3:\n",
    "    say_congrats(x)\n",
    "elif x < 5:\n",
    "    say_condolence(x)\n",
    "elif x < 7:\n",
    "    say_congrats(x)\n",
    "elif x < 9:\n",
    "    say_condolence(x)\n",
    "elif x < 15:\n",
    "    say_congrats(x)\n",
    "elif x < 25:\n",
    "    say_condolence(x)\n",
    "elif x < 37:\n",
    "    say_congrats(x)"
   ]
  },
  {
   "cell_type": "markdown",
   "metadata": {},
   "source": [
    "- vantagens:\n",
    "    - Corrigir/modificar códigos em apenas um lugar\n",
    "    - Evitar erros (principalmente se existe mais de uma pessoa trabalhando no mesmo código)\n",
    "    - Organizar o código e documentação"
   ]
  },
  {
   "cell_type": "markdown",
   "metadata": {},
   "source": [
    "## Functions are `callables`\n",
    "\n",
    "This means that you have to `call` them for them to run. You call a function by specifying `()` at the end of its name. If you only call the name of the function, it is just a variable name. The function is not executed at all."
   ]
  },
  {
   "cell_type": "code",
   "execution_count": 78,
   "metadata": {
    "ExecuteTime": {
     "end_time": "2021-10-21T18:43:01.924308Z",
     "start_time": "2021-10-21T18:43:01.917327Z"
    }
   },
   "outputs": [
    {
     "data": {
      "text/plain": [
       "<function __main__.say_congrats()>"
      ]
     },
     "execution_count": 78,
     "metadata": {},
     "output_type": "execute_result"
    }
   ],
   "source": [
    "say_congrats"
   ]
  },
  {
   "cell_type": "code",
   "execution_count": 79,
   "metadata": {
    "ExecuteTime": {
     "end_time": "2021-10-21T18:43:02.974856Z",
     "start_time": "2021-10-21T18:43:02.962889Z"
    }
   },
   "outputs": [
    {
     "name": "stdout",
     "output_type": "stream",
     "text": [
      "Legal! Muito bom. Parabéns!\n"
     ]
    }
   ],
   "source": [
    "say_congrats()"
   ]
  },
  {
   "cell_type": "code",
   "execution_count": 80,
   "metadata": {
    "ExecuteTime": {
     "end_time": "2021-10-21T18:43:26.881961Z",
     "start_time": "2021-10-21T18:43:26.874979Z"
    }
   },
   "outputs": [],
   "source": [
    "f = say_congrats"
   ]
  },
  {
   "cell_type": "code",
   "execution_count": 81,
   "metadata": {
    "ExecuteTime": {
     "end_time": "2021-10-21T18:43:28.111601Z",
     "start_time": "2021-10-21T18:43:28.106614Z"
    }
   },
   "outputs": [
    {
     "data": {
      "text/plain": [
       "<function __main__.say_congrats()>"
      ]
     },
     "execution_count": 81,
     "metadata": {},
     "output_type": "execute_result"
    }
   ],
   "source": [
    "f"
   ]
  },
  {
   "cell_type": "code",
   "execution_count": 82,
   "metadata": {
    "ExecuteTime": {
     "end_time": "2021-10-21T18:43:31.609915Z",
     "start_time": "2021-10-21T18:43:31.593955Z"
    }
   },
   "outputs": [
    {
     "name": "stdout",
     "output_type": "stream",
     "text": [
      "Legal! Muito bom. Parabéns!\n"
     ]
    }
   ],
   "source": [
    "f()"
   ]
  },
  {
   "cell_type": "code",
   "execution_count": 83,
   "metadata": {
    "ExecuteTime": {
     "end_time": "2021-10-21T18:44:06.057871Z",
     "start_time": "2021-10-21T18:44:06.050888Z"
    },
    "scrolled": true
   },
   "outputs": [
    {
     "name": "stdout",
     "output_type": "stream",
     "text": [
      "Legal! Muito bom. Parabéns!\n"
     ]
    },
    {
     "data": {
      "text/plain": [
       "NoneType"
      ]
     },
     "execution_count": 83,
     "metadata": {},
     "output_type": "execute_result"
    }
   ],
   "source": [
    "f = say_congrats()\n",
    "type(f)"
   ]
  },
  {
   "cell_type": "code",
   "execution_count": 21,
   "metadata": {
    "ExecuteTime": {
     "end_time": "2021-10-21T15:22:06.929048Z",
     "start_time": "2021-10-21T15:22:06.923064Z"
    }
   },
   "outputs": [
    {
     "ename": "TypeError",
     "evalue": "'NoneType' object is not callable",
     "output_type": "error",
     "traceback": [
      "\u001b[1;31m---------------------------------------------------------------------------\u001b[0m",
      "\u001b[1;31mTypeError\u001b[0m                                 Traceback (most recent call last)",
      "\u001b[1;32m<ipython-input-21-c43e34e6d405>\u001b[0m in \u001b[0;36m<module>\u001b[1;34m\u001b[0m\n\u001b[1;32m----> 1\u001b[1;33m \u001b[0mf\u001b[0m\u001b[1;33m(\u001b[0m\u001b[1;33m)\u001b[0m\u001b[1;33m\u001b[0m\u001b[1;33m\u001b[0m\u001b[0m\n\u001b[0m",
      "\u001b[1;31mTypeError\u001b[0m: 'NoneType' object is not callable"
     ]
    }
   ],
   "source": [
    "f()"
   ]
  },
  {
   "cell_type": "code",
   "execution_count": 84,
   "metadata": {
    "ExecuteTime": {
     "end_time": "2021-10-21T18:45:18.812771Z",
     "start_time": "2021-10-21T18:45:18.794819Z"
    }
   },
   "outputs": [
    {
     "data": {
      "text/plain": [
       "['.ipynb_checkpoints', 'functions-class.ipynb', 'recursion.key']"
      ]
     },
     "execution_count": 84,
     "metadata": {},
     "output_type": "execute_result"
    }
   ],
   "source": [
    "import os\n",
    "\n",
    "os.listdir()"
   ]
  },
  {
   "cell_type": "code",
   "execution_count": 23,
   "metadata": {
    "ExecuteTime": {
     "end_time": "2021-10-21T15:22:07.427903Z",
     "start_time": "2021-10-21T15:22:07.411441Z"
    }
   },
   "outputs": [
    {
     "data": {
      "text/plain": [
       "<function nt.listdir(path=None)>"
      ]
     },
     "execution_count": 23,
     "metadata": {},
     "output_type": "execute_result"
    }
   ],
   "source": [
    "os.listdir"
   ]
  },
  {
   "cell_type": "markdown",
   "metadata": {},
   "source": [
    "To **call** the function, I have to put `()`"
   ]
  },
  {
   "cell_type": "code",
   "execution_count": 85,
   "metadata": {
    "ExecuteTime": {
     "end_time": "2021-10-21T18:46:50.350143Z",
     "start_time": "2021-10-21T18:46:50.346138Z"
    }
   },
   "outputs": [
    {
     "name": "stdout",
     "output_type": "stream",
     "text": [
      "Legal! Muito bom. Parabéns!\n"
     ]
    }
   ],
   "source": [
    "say_congrats()"
   ]
  },
  {
   "cell_type": "code",
   "execution_count": 86,
   "metadata": {
    "ExecuteTime": {
     "end_time": "2021-10-21T18:46:53.453639Z",
     "start_time": "2021-10-21T18:46:53.443674Z"
    }
   },
   "outputs": [
    {
     "ename": "TypeError",
     "evalue": "'NoneType' object is not callable",
     "output_type": "error",
     "traceback": [
      "\u001b[1;31m---------------------------------------------------------------------------\u001b[0m",
      "\u001b[1;31mTypeError\u001b[0m                                 Traceback (most recent call last)",
      "\u001b[1;32m<ipython-input-86-c43e34e6d405>\u001b[0m in \u001b[0;36m<module>\u001b[1;34m\u001b[0m\n\u001b[1;32m----> 1\u001b[1;33m \u001b[0mf\u001b[0m\u001b[1;33m(\u001b[0m\u001b[1;33m)\u001b[0m\u001b[1;33m\u001b[0m\u001b[1;33m\u001b[0m\u001b[0m\n\u001b[0m",
      "\u001b[1;31mTypeError\u001b[0m: 'NoneType' object is not callable"
     ]
    }
   ],
   "source": [
    "f()"
   ]
  },
  {
   "cell_type": "markdown",
   "metadata": {},
   "source": [
    "If I try to call something **that is not a funcition**, I will get an error:"
   ]
  },
  {
   "cell_type": "code",
   "execution_count": 26,
   "metadata": {
    "ExecuteTime": {
     "end_time": "2021-10-21T15:22:09.587522Z",
     "start_time": "2021-10-21T15:22:09.578553Z"
    }
   },
   "outputs": [
    {
     "name": "stderr",
     "output_type": "stream",
     "text": [
      "<>:1: SyntaxWarning: 'int' object is not callable; perhaps you missed a comma?\n",
      "<>:1: SyntaxWarning: 'int' object is not callable; perhaps you missed a comma?\n",
      "<ipython-input-26-81d36aa9d3ee>:1: SyntaxWarning: 'int' object is not callable; perhaps you missed a comma?\n",
      "  329888()\n"
     ]
    },
    {
     "ename": "TypeError",
     "evalue": "'int' object is not callable",
     "output_type": "error",
     "traceback": [
      "\u001b[1;31m---------------------------------------------------------------------------\u001b[0m",
      "\u001b[1;31mTypeError\u001b[0m                                 Traceback (most recent call last)",
      "\u001b[1;32m<ipython-input-26-81d36aa9d3ee>\u001b[0m in \u001b[0;36m<module>\u001b[1;34m\u001b[0m\n\u001b[1;32m----> 1\u001b[1;33m \u001b[1;36m329888\u001b[0m\u001b[1;33m(\u001b[0m\u001b[1;33m)\u001b[0m\u001b[1;33m\u001b[0m\u001b[1;33m\u001b[0m\u001b[0m\n\u001b[0m",
      "\u001b[1;31mTypeError\u001b[0m: 'int' object is not callable"
     ]
    }
   ],
   "source": [
    "329888()"
   ]
  },
  {
   "cell_type": "code",
   "execution_count": 27,
   "metadata": {
    "ExecuteTime": {
     "end_time": "2021-10-21T15:22:09.914210Z",
     "start_time": "2021-10-21T15:22:09.900247Z"
    }
   },
   "outputs": [
    {
     "name": "stderr",
     "output_type": "stream",
     "text": [
      "<>:1: SyntaxWarning: 'str' object is not callable; perhaps you missed a comma?\n",
      "<>:1: SyntaxWarning: 'str' object is not callable; perhaps you missed a comma?\n",
      "<ipython-input-27-29217aac6365>:1: SyntaxWarning: 'str' object is not callable; perhaps you missed a comma?\n",
      "  'asdsd'()\n"
     ]
    },
    {
     "ename": "TypeError",
     "evalue": "'str' object is not callable",
     "output_type": "error",
     "traceback": [
      "\u001b[1;31m---------------------------------------------------------------------------\u001b[0m",
      "\u001b[1;31mTypeError\u001b[0m                                 Traceback (most recent call last)",
      "\u001b[1;32m<ipython-input-27-29217aac6365>\u001b[0m in \u001b[0;36m<module>\u001b[1;34m\u001b[0m\n\u001b[1;32m----> 1\u001b[1;33m \u001b[1;34m'asdsd'\u001b[0m\u001b[1;33m(\u001b[0m\u001b[1;33m)\u001b[0m\u001b[1;33m\u001b[0m\u001b[1;33m\u001b[0m\u001b[0m\n\u001b[0m",
      "\u001b[1;31mTypeError\u001b[0m: 'str' object is not callable"
     ]
    }
   ],
   "source": [
    "'asdsd'()"
   ]
  },
  {
   "cell_type": "markdown",
   "metadata": {},
   "source": [
    "# Functions can receive arguments"
   ]
  },
  {
   "cell_type": "code",
   "execution_count": 2,
   "metadata": {
    "ExecuteTime": {
     "end_time": "2022-01-12T17:28:25.979012Z",
     "start_time": "2022-01-12T17:28:25.963117Z"
    }
   },
   "outputs": [],
   "source": [
    "# required arguments\n",
    "def my_function_with_args(username, greeting):\n",
    "    \n",
    "    print(f'Hello, {username} , From My Function!, I wish you {greeting}')\n",
    "    "
   ]
  },
  {
   "cell_type": "code",
   "execution_count": 6,
   "metadata": {
    "ExecuteTime": {
     "end_time": "2022-01-12T17:28:26.276626Z",
     "start_time": "2022-01-12T17:28:26.270135Z"
    }
   },
   "outputs": [
    {
     "ename": "SyntaxError",
     "evalue": "invalid syntax (Temp/ipykernel_23336/172143218.py, line 3)",
     "output_type": "error",
     "traceback": [
      "\u001b[1;36m  Input \u001b[1;32mIn [6]\u001b[1;36m\u001b[0m\n\u001b[1;33m    my_function_with_args(x,y)\u001b[0m\n\u001b[1;37m    ^\u001b[0m\n\u001b[1;31mSyntaxError\u001b[0m\u001b[1;31m:\u001b[0m invalid syntax\n"
     ]
    }
   ],
   "source": [
    "my_function_with_args(x=input(\"Qual seu nome\"),y=input(\"Qual sua idade\")\n",
    "\n",
    "my_function_with_args(x,y)\n"
   ]
  },
  {
   "cell_type": "code",
   "execution_count": 4,
   "metadata": {
    "ExecuteTime": {
     "end_time": "2022-01-12T17:28:26.497981Z",
     "start_time": "2022-01-12T17:28:26.486013Z"
    }
   },
   "outputs": [
    {
     "ename": "TypeError",
     "evalue": "my_function_with_args() missing 1 required positional argument: 'greeting'",
     "output_type": "error",
     "traceback": [
      "\u001b[1;31m---------------------------------------------------------------------------\u001b[0m",
      "\u001b[1;31mTypeError\u001b[0m                                 Traceback (most recent call last)",
      "\u001b[1;32m<ipython-input-4-8899b06956f6>\u001b[0m in \u001b[0;36m<module>\u001b[1;34m\u001b[0m\n\u001b[1;32m----> 1\u001b[1;33m \u001b[0mmy_function_with_args\u001b[0m\u001b[1;33m(\u001b[0m\u001b[0musername\u001b[0m\u001b[1;33m=\u001b[0m\u001b[1;34m'Atum'\u001b[0m\u001b[1;33m)\u001b[0m\u001b[1;33m\u001b[0m\u001b[1;33m\u001b[0m\u001b[0m\n\u001b[0m",
      "\u001b[1;31mTypeError\u001b[0m: my_function_with_args() missing 1 required positional argument: 'greeting'"
     ]
    }
   ],
   "source": [
    "my_function_with_args(username='Atum')"
   ]
  },
  {
   "cell_type": "code",
   "execution_count": 5,
   "metadata": {
    "ExecuteTime": {
     "end_time": "2022-01-12T17:28:26.718769Z",
     "start_time": "2022-01-12T17:28:26.713782Z"
    }
   },
   "outputs": [
    {
     "name": "stdout",
     "output_type": "stream",
     "text": [
      "Hello, Atum , From My Function!, I wish you Merry Christmas\n"
     ]
    }
   ],
   "source": [
    "my_function_with_args(greeting='Merry Christmas',username='Atum')"
   ]
  },
  {
   "cell_type": "code",
   "execution_count": 6,
   "metadata": {
    "ExecuteTime": {
     "end_time": "2022-01-12T17:28:27.001180Z",
     "start_time": "2022-01-12T17:28:26.986147Z"
    }
   },
   "outputs": [
    {
     "ename": "SyntaxError",
     "evalue": "positional argument follows keyword argument (<ipython-input-6-a3be1e8d9cb6>, line 1)",
     "output_type": "error",
     "traceback": [
      "\u001b[1;36m  File \u001b[1;32m\"<ipython-input-6-a3be1e8d9cb6>\"\u001b[1;36m, line \u001b[1;32m1\u001b[0m\n\u001b[1;33m    my_function_with_args(username= 'Atum',  'Merry Christmas')\u001b[0m\n\u001b[1;37m                                             ^\u001b[0m\n\u001b[1;31mSyntaxError\u001b[0m\u001b[1;31m:\u001b[0m positional argument follows keyword argument\n"
     ]
    }
   ],
   "source": [
    "my_function_with_args(username= 'Atum',  'Merry Christmas')"
   ]
  },
  {
   "cell_type": "code",
   "execution_count": 7,
   "metadata": {
    "ExecuteTime": {
     "end_time": "2022-01-12T17:28:27.252939Z",
     "start_time": "2022-01-12T17:28:27.243903Z"
    }
   },
   "outputs": [
    {
     "name": "stdout",
     "output_type": "stream",
     "text": [
      "Hello, Atum , From My Function!, I wish you Merry Christmas\n"
     ]
    }
   ],
   "source": [
    "my_function_with_args(username='Atum', greeting='Merry Christmas')"
   ]
  },
  {
   "cell_type": "code",
   "execution_count": 8,
   "metadata": {
    "ExecuteTime": {
     "end_time": "2022-01-12T17:28:27.520238Z",
     "start_time": "2022-01-12T17:28:27.501779Z"
    }
   },
   "outputs": [
    {
     "name": "stdout",
     "output_type": "stream",
     "text": [
      "Hello, Atum , From My Function!, I wish you Merry Christmas\n"
     ]
    }
   ],
   "source": [
    "my_function_with_args(greeting='Merry Christmas', username='Atum')"
   ]
  },
  {
   "cell_type": "code",
   "execution_count": 9,
   "metadata": {
    "ExecuteTime": {
     "end_time": "2022-01-12T17:28:28.023497Z",
     "start_time": "2022-01-12T17:28:28.009515Z"
    }
   },
   "outputs": [],
   "source": [
    "#camelCase myFunctionWithArgs\n",
    "#snake_case my_function_with_args"
   ]
  },
  {
   "cell_type": "code",
   "execution_count": 10,
   "metadata": {
    "ExecuteTime": {
     "end_time": "2022-01-12T17:28:28.510799Z",
     "start_time": "2022-01-12T17:28:28.499582Z"
    }
   },
   "outputs": [
    {
     "ename": "SyntaxError",
     "evalue": "invalid syntax (<ipython-input-10-ca858594f1e6>, line 1)",
     "output_type": "error",
     "traceback": [
      "\u001b[1;36m  File \u001b[1;32m\"<ipython-input-10-ca858594f1e6>\"\u001b[1;36m, line \u001b[1;32m1\u001b[0m\n\u001b[1;33m    def 3qualquer():\u001b[0m\n\u001b[1;37m        ^\u001b[0m\n\u001b[1;31mSyntaxError\u001b[0m\u001b[1;31m:\u001b[0m invalid syntax\n"
     ]
    }
   ],
   "source": [
    "def 3qualquer():\n",
    "    print('Nao vai dar')"
   ]
  },
  {
   "cell_type": "code",
   "execution_count": 11,
   "metadata": {
    "ExecuteTime": {
     "end_time": "2022-01-12T17:28:28.967640Z",
     "start_time": "2022-01-12T17:28:28.953615Z"
    }
   },
   "outputs": [],
   "source": [
    "def _indicativo_de_funcao_privada():\n",
    "    print('Usualmente, colocar o nome de uma função com _ no inicio, representa que você quer que o usuário não use essa função... ou seja, representa uma função privada')"
   ]
  },
  {
   "cell_type": "code",
   "execution_count": 12,
   "metadata": {
    "ExecuteTime": {
     "end_time": "2022-01-12T17:28:29.203912Z",
     "start_time": "2022-01-12T17:28:29.193939Z"
    }
   },
   "outputs": [
    {
     "name": "stdout",
     "output_type": "stream",
     "text": [
      "Usualmente, colocar o nome de uma função com _ no inicio, representa que você quer que o usuário não use essa função... ou seja, representa uma função privada\n"
     ]
    }
   ],
   "source": [
    "_indicativo_de_funcao_privada()"
   ]
  },
  {
   "cell_type": "markdown",
   "metadata": {},
   "source": [
    "# Functions can receive `OPTIONAL` arguments"
   ]
  },
  {
   "cell_type": "code",
   "execution_count": 13,
   "metadata": {
    "ExecuteTime": {
     "end_time": "2022-01-12T17:28:46.401652Z",
     "start_time": "2022-01-12T17:28:46.386516Z"
    }
   },
   "outputs": [
    {
     "data": {
      "text/plain": [
       "['.ipynb_checkpoints', 'functions-class.ipynb', 'recursion.key']"
      ]
     },
     "execution_count": 13,
     "metadata": {},
     "output_type": "execute_result"
    }
   ],
   "source": [
    "import os\n",
    "os.listdir()"
   ]
  },
  {
   "cell_type": "markdown",
   "metadata": {},
   "source": [
    "Argumentos opcionais são aqueles que você pode ou não `passar`. Se você não passar o argumento para a função, ela utilizará um valor DEFAULT"
   ]
  },
  {
   "cell_type": "code",
   "execution_count": 14,
   "metadata": {
    "ExecuteTime": {
     "end_time": "2022-01-12T17:28:48.059790Z",
     "start_time": "2022-01-12T17:28:48.042885Z"
    }
   },
   "outputs": [
    {
     "ename": "TypeError",
     "evalue": "my_function_with_args_optional() missing 1 required positional argument: 'username'",
     "output_type": "error",
     "traceback": [
      "\u001b[1;31m---------------------------------------------------------------------------\u001b[0m",
      "\u001b[1;31mTypeError\u001b[0m                                 Traceback (most recent call last)",
      "\u001b[1;32m<ipython-input-14-8374761cdf4f>\u001b[0m in \u001b[0;36m<module>\u001b[1;34m\u001b[0m\n\u001b[0;32m      3\u001b[0m     \u001b[0mprint\u001b[0m\u001b[1;33m(\u001b[0m\u001b[1;34mf'Hello, {username} , From My Function!, I wish you {greeting}'\u001b[0m\u001b[1;33m)\u001b[0m\u001b[1;33m\u001b[0m\u001b[1;33m\u001b[0m\u001b[0m\n\u001b[0;32m      4\u001b[0m \u001b[1;33m\u001b[0m\u001b[0m\n\u001b[1;32m----> 5\u001b[1;33m \u001b[0mmy_function_with_args_optional\u001b[0m\u001b[1;33m(\u001b[0m\u001b[1;33m)\u001b[0m\u001b[1;33m\u001b[0m\u001b[1;33m\u001b[0m\u001b[0m\n\u001b[0m",
      "\u001b[1;31mTypeError\u001b[0m: my_function_with_args_optional() missing 1 required positional argument: 'username'"
     ]
    }
   ],
   "source": [
    "def my_function_with_args_optional(username, greeting='NOTHING!'):\n",
    "    \n",
    "    print(f'Hello, {username} , From My Function!, I wish you {greeting}')\n",
    "    \n",
    "my_function_with_args_optional()"
   ]
  },
  {
   "cell_type": "code",
   "execution_count": 15,
   "metadata": {
    "ExecuteTime": {
     "end_time": "2022-01-12T17:28:51.034090Z",
     "start_time": "2022-01-12T17:28:51.018575Z"
    }
   },
   "outputs": [
    {
     "name": "stdout",
     "output_type": "stream",
     "text": [
      "Hello, Atum , From My Function!, I wish you NOTHING!\n"
     ]
    }
   ],
   "source": [
    "my_function_with_args_optional('Atum')"
   ]
  },
  {
   "cell_type": "code",
   "execution_count": 16,
   "metadata": {
    "ExecuteTime": {
     "end_time": "2022-01-12T17:28:51.378407Z",
     "start_time": "2022-01-12T17:28:51.362450Z"
    }
   },
   "outputs": [
    {
     "name": "stdout",
     "output_type": "stream",
     "text": [
      "Hello, Atum , From My Function!, I wish you Merry Christmas\n"
     ]
    }
   ],
   "source": [
    "my_function_with_args_optional('Atum', 'Merry Christmas')"
   ]
  },
  {
   "cell_type": "code",
   "execution_count": 17,
   "metadata": {
    "ExecuteTime": {
     "end_time": "2022-01-12T17:28:51.676504Z",
     "start_time": "2022-01-12T17:28:51.660548Z"
    }
   },
   "outputs": [
    {
     "ename": "SyntaxError",
     "evalue": "non-default argument follows default argument (<ipython-input-17-48243e55c62f>, line 2)",
     "output_type": "error",
     "traceback": [
      "\u001b[1;36m  File \u001b[1;32m\"<ipython-input-17-48243e55c62f>\"\u001b[1;36m, line \u001b[1;32m2\u001b[0m\n\u001b[1;33m    def my_function_with_args_optional_improper_order(username, greeting='NOTHING!', password):\u001b[0m\n\u001b[1;37m                                                      ^\u001b[0m\n\u001b[1;31mSyntaxError\u001b[0m\u001b[1;31m:\u001b[0m non-default argument follows default argument\n"
     ]
    }
   ],
   "source": [
    "# order matters - can't have optional in front of required args\n",
    "def my_function_with_args_optional_improper_order(username, greeting='NOTHING!', password):\n",
    "    \n",
    "    print(f'Hello, {username} , From My Function!, I wish you {greeting}: {password}')\n",
    "    \n",
    "#my_function_with_args_optional_improper_order()"
   ]
  },
  {
   "cell_type": "code",
   "execution_count": 18,
   "metadata": {
    "ExecuteTime": {
     "end_time": "2022-01-12T17:28:51.944212Z",
     "start_time": "2022-01-12T17:28:51.929689Z"
    }
   },
   "outputs": [
    {
     "name": "stdout",
     "output_type": "stream",
     "text": [
      "Hello, Atum , From My Function!, I wish you MERRY CHRISTMAS: 12345\n"
     ]
    }
   ],
   "source": [
    "def my_function_with_args_optional_proper_order(username, password, greeting='NOTHING!'):\n",
    "    print(f'Hello, {username} , From My Function!, I wish you {greeting}: {password}')\n",
    "    \n",
    "my_function_with_args_optional_proper_order('Atum','12345','MERRY CHRISTMAS')"
   ]
  },
  {
   "cell_type": "code",
   "execution_count": 19,
   "metadata": {
    "ExecuteTime": {
     "end_time": "2022-01-12T17:28:53.239346Z",
     "start_time": "2022-01-12T17:28:53.233855Z"
    }
   },
   "outputs": [
    {
     "name": "stdout",
     "output_type": "stream",
     "text": [
      "Hello, Atum , From My Function!, I wish you NOTHING!: 12345\n"
     ]
    }
   ],
   "source": [
    "my_function_with_args_optional_proper_order('Atum','12345')"
   ]
  },
  {
   "cell_type": "code",
   "execution_count": 20,
   "metadata": {
    "ExecuteTime": {
     "end_time": "2022-01-12T17:28:54.630482Z",
     "start_time": "2022-01-12T17:28:53.847730Z"
    },
    "scrolled": true
   },
   "outputs": [
    {
     "ename": "TypeError",
     "evalue": "read_csv() missing 1 required positional argument: 'filepath_or_buffer'",
     "output_type": "error",
     "traceback": [
      "\u001b[1;31m---------------------------------------------------------------------------\u001b[0m",
      "\u001b[1;31mTypeError\u001b[0m                                 Traceback (most recent call last)",
      "\u001b[1;32m<ipython-input-20-9ea5b5c442a4>\u001b[0m in \u001b[0;36m<module>\u001b[1;34m\u001b[0m\n\u001b[0;32m      1\u001b[0m \u001b[1;32mimport\u001b[0m \u001b[0mpandas\u001b[0m \u001b[1;32mas\u001b[0m \u001b[0mpd\u001b[0m\u001b[1;33m\u001b[0m\u001b[1;33m\u001b[0m\u001b[0m\n\u001b[0;32m      2\u001b[0m \u001b[1;33m\u001b[0m\u001b[0m\n\u001b[1;32m----> 3\u001b[1;33m \u001b[0mpd\u001b[0m\u001b[1;33m.\u001b[0m\u001b[0mread_csv\u001b[0m\u001b[1;33m(\u001b[0m\u001b[1;33m)\u001b[0m\u001b[1;33m\u001b[0m\u001b[1;33m\u001b[0m\u001b[0m\n\u001b[0m",
      "\u001b[1;32m~\\AppData\\Roaming\\Python\\Python38\\site-packages\\pandas\\util\\_decorators.py\u001b[0m in \u001b[0;36mwrapper\u001b[1;34m(*args, **kwargs)\u001b[0m\n\u001b[0;32m    309\u001b[0m                     \u001b[0mstacklevel\u001b[0m\u001b[1;33m=\u001b[0m\u001b[0mstacklevel\u001b[0m\u001b[1;33m,\u001b[0m\u001b[1;33m\u001b[0m\u001b[1;33m\u001b[0m\u001b[0m\n\u001b[0;32m    310\u001b[0m                 )\n\u001b[1;32m--> 311\u001b[1;33m             \u001b[1;32mreturn\u001b[0m \u001b[0mfunc\u001b[0m\u001b[1;33m(\u001b[0m\u001b[1;33m*\u001b[0m\u001b[0margs\u001b[0m\u001b[1;33m,\u001b[0m \u001b[1;33m**\u001b[0m\u001b[0mkwargs\u001b[0m\u001b[1;33m)\u001b[0m\u001b[1;33m\u001b[0m\u001b[1;33m\u001b[0m\u001b[0m\n\u001b[0m\u001b[0;32m    312\u001b[0m \u001b[1;33m\u001b[0m\u001b[0m\n\u001b[0;32m    313\u001b[0m         \u001b[1;32mreturn\u001b[0m \u001b[0mwrapper\u001b[0m\u001b[1;33m\u001b[0m\u001b[1;33m\u001b[0m\u001b[0m\n",
      "\u001b[1;31mTypeError\u001b[0m: read_csv() missing 1 required positional argument: 'filepath_or_buffer'"
     ]
    }
   ],
   "source": [
    "import pandas as pd\n",
    "\n",
    "pd.read_csv()"
   ]
  },
  {
   "cell_type": "code",
   "execution_count": 21,
   "metadata": {
    "ExecuteTime": {
     "end_time": "2022-01-12T17:28:54.755535Z",
     "start_time": "2022-01-12T17:28:54.740577Z"
    }
   },
   "outputs": [
    {
     "ename": "NameError",
     "evalue": "name 'say_congrats' is not defined",
     "output_type": "error",
     "traceback": [
      "\u001b[1;31m---------------------------------------------------------------------------\u001b[0m",
      "\u001b[1;31mNameError\u001b[0m                                 Traceback (most recent call last)",
      "\u001b[1;32m<ipython-input-21-dc39fcb7f864>\u001b[0m in \u001b[0;36m<module>\u001b[1;34m\u001b[0m\n\u001b[1;32m----> 1\u001b[1;33m \u001b[0msay_congrats\u001b[0m\u001b[1;33m(\u001b[0m\u001b[1;33m)\u001b[0m\u001b[1;33m\u001b[0m\u001b[1;33m\u001b[0m\u001b[0m\n\u001b[0m",
      "\u001b[1;31mNameError\u001b[0m: name 'say_congrats' is not defined"
     ]
    }
   ],
   "source": [
    "say_congrats()"
   ]
  },
  {
   "cell_type": "markdown",
   "metadata": {},
   "source": [
    "# Recursive functions"
   ]
  },
  {
   "cell_type": "code",
   "execution_count": 47,
   "metadata": {
    "ExecuteTime": {
     "end_time": "2021-10-21T15:31:58.587695Z",
     "start_time": "2021-10-21T15:31:58.572734Z"
    }
   },
   "outputs": [],
   "source": [
    "# Como fazer o jogo rodar de novo?"
   ]
  },
  {
   "cell_type": "code",
   "execution_count": 120,
   "metadata": {
    "ExecuteTime": {
     "end_time": "2021-10-21T19:36:20.827581Z",
     "start_time": "2021-10-21T19:36:20.816611Z"
    }
   },
   "outputs": [],
   "source": [
    "def random_game():\n",
    "    x = input('Escolha um número:')\n",
    "    x = int(x)\n",
    "    if x < 3:\n",
    "        say_congrats()\n",
    "    elif x < 5:\n",
    "        say_condolence(x)\n",
    "    elif x < 7:\n",
    "        say_congrats()\n",
    "    elif x < 9:\n",
    "        say_condolence(x)\n",
    "    elif x < 15:\n",
    "        say_congrats()\n",
    "    elif x < 25:\n",
    "        say_condolence(x)\n",
    "    elif x < 37:\n",
    "        say_congrats()\n"
   ]
  },
  {
   "cell_type": "code",
   "execution_count": 121,
   "metadata": {
    "ExecuteTime": {
     "end_time": "2021-10-21T19:37:18.769970Z",
     "start_time": "2021-10-21T19:36:23.608925Z"
    }
   },
   "outputs": [
    {
     "name": "stdout",
     "output_type": "stream",
     "text": [
      "Escolha um número:36\n",
      "Legal! Muito bom. Parabéns!\n",
      "Você quer jogar de novo? S/NS\n",
      "Escolha um número:95\n",
      "Você quer jogar de novo? S/NS\n",
      "Escolha um número:5\n",
      "Legal! Muito bom. Parabéns!\n",
      "Você quer jogar de novo? S/N12\n"
     ]
    }
   ],
   "source": [
    "random_game()"
   ]
  },
  {
   "cell_type": "code",
   "execution_count": null,
   "metadata": {},
   "outputs": [],
   "source": []
  },
  {
   "cell_type": "code",
   "execution_count": null,
   "metadata": {},
   "outputs": [],
   "source": []
  },
  {
   "cell_type": "code",
   "execution_count": 45,
   "metadata": {
    "ExecuteTime": {
     "end_time": "2021-08-12T13:30:41.288947Z",
     "start_time": "2021-08-12T13:30:41.284410Z"
    }
   },
   "outputs": [],
   "source": [
    "def random_game():\n",
    "    x = input('Escolha um número:')\n",
    "    x = int(x)\n",
    "    if x < 3:\n",
    "        say_congrats()\n",
    "    elif x < 5:\n",
    "        say_condolence(x)\n",
    "    elif x < 7:\n",
    "        say_congrats()\n",
    "    elif x < 9:\n",
    "        say_condolence(x)\n",
    "    elif x < 15:\n",
    "        say_congrats()\n",
    "    elif x < 25:\n",
    "        say_condolence(x)\n",
    "    elif x < 37:\n",
    "        say_congrats()\n",
    "    play = input('Você quer jogar de novo?')\n",
    "    if play=='sim':\n",
    "        random_game()\n"
   ]
  },
  {
   "cell_type": "code",
   "execution_count": 46,
   "metadata": {
    "ExecuteTime": {
     "end_time": "2021-08-12T13:30:59.141051Z",
     "start_time": "2021-08-12T13:30:43.836189Z"
    }
   },
   "outputs": [
    {
     "name": "stdout",
     "output_type": "stream",
     "text": [
      "Escolha um número:8\n",
      "Ih você perdeu, você escolheu 8\n",
      "Você quer jogar de novo?sim\n",
      "Escolha um número:4\n",
      "Ih você perdeu, você escolheu 4\n",
      "Você quer jogar de novo?sim\n",
      "Escolha um número:5\n",
      "Legal! Muito bom. Parabéns!\n",
      "Você quer jogar de novo?sim\n",
      "Escolha um número:9\n",
      "Legal! Muito bom. Parabéns!\n",
      "Você quer jogar de novo?nao\n"
     ]
    }
   ],
   "source": [
    "random_game()"
   ]
  },
  {
   "cell_type": "markdown",
   "metadata": {},
   "source": [
    "# Functions can <u>return</u> 1 or more values"
   ]
  },
  {
   "cell_type": "markdown",
   "metadata": {
    "ExecuteTime": {
     "end_time": "2020-07-21T23:03:32.177941Z",
     "start_time": "2020-07-21T23:03:32.174942Z"
    }
   },
   "source": [
    "Se você não especificar um '`return` statement', a função retornará `vazio` (`None`)"
   ]
  },
  {
   "cell_type": "code",
   "execution_count": 127,
   "metadata": {
    "ExecuteTime": {
     "end_time": "2021-10-21T20:06:16.119165Z",
     "start_time": "2021-10-21T20:06:16.103207Z"
    },
    "code_folding": []
   },
   "outputs": [],
   "source": [
    "def funcao_sem_retorno():\n",
    "    x = 3\n",
    "    print(x)"
   ]
  },
  {
   "cell_type": "code",
   "execution_count": 123,
   "metadata": {
    "ExecuteTime": {
     "end_time": "2021-10-21T20:03:14.902811Z",
     "start_time": "2021-10-21T20:03:14.887852Z"
    }
   },
   "outputs": [
    {
     "name": "stdout",
     "output_type": "stream",
     "text": [
      "3\n"
     ]
    }
   ],
   "source": [
    "funcao_sem_retorno()"
   ]
  },
  {
   "cell_type": "code",
   "execution_count": 124,
   "metadata": {
    "ExecuteTime": {
     "end_time": "2021-10-21T20:03:25.020577Z",
     "start_time": "2021-10-21T20:03:25.015591Z"
    }
   },
   "outputs": [
    {
     "name": "stdout",
     "output_type": "stream",
     "text": [
      "3\n"
     ]
    }
   ],
   "source": [
    "x = funcao_sem_retorno()"
   ]
  },
  {
   "cell_type": "code",
   "execution_count": 125,
   "metadata": {
    "ExecuteTime": {
     "end_time": "2021-10-21T20:03:31.569509Z",
     "start_time": "2021-10-21T20:03:31.552554Z"
    }
   },
   "outputs": [],
   "source": [
    "x"
   ]
  },
  {
   "cell_type": "code",
   "execution_count": 126,
   "metadata": {
    "ExecuteTime": {
     "end_time": "2021-10-21T20:03:37.404466Z",
     "start_time": "2021-10-21T20:03:37.391501Z"
    }
   },
   "outputs": [
    {
     "name": "stdout",
     "output_type": "stream",
     "text": [
      "None\n"
     ]
    }
   ],
   "source": [
    "print(x)"
   ]
  },
  {
   "cell_type": "code",
   "execution_count": 129,
   "metadata": {
    "ExecuteTime": {
     "end_time": "2021-10-21T20:08:48.935721Z",
     "start_time": "2021-10-21T20:08:48.920761Z"
    }
   },
   "outputs": [],
   "source": [
    "def funcao_sem_retorno():\n",
    "    x = 3\n",
    "    return None"
   ]
  },
  {
   "cell_type": "code",
   "execution_count": 130,
   "metadata": {
    "ExecuteTime": {
     "end_time": "2021-10-21T20:08:49.614573Z",
     "start_time": "2021-10-21T20:08:49.606595Z"
    }
   },
   "outputs": [
    {
     "name": "stdout",
     "output_type": "stream",
     "text": [
      "None\n"
     ]
    }
   ],
   "source": [
    "x = funcao_sem_retorno()\n",
    "print(x)"
   ]
  },
  {
   "cell_type": "code",
   "execution_count": 131,
   "metadata": {
    "ExecuteTime": {
     "end_time": "2021-10-21T20:09:23.127133Z",
     "start_time": "2021-10-21T20:09:23.119152Z"
    },
    "scrolled": true
   },
   "outputs": [
    {
     "name": "stdout",
     "output_type": "stream",
     "text": [
      "Atum\n"
     ]
    }
   ],
   "source": [
    "x = print('Atum')"
   ]
  },
  {
   "cell_type": "code",
   "execution_count": 132,
   "metadata": {
    "ExecuteTime": {
     "end_time": "2021-10-21T20:09:24.213747Z",
     "start_time": "2021-10-21T20:09:24.206772Z"
    }
   },
   "outputs": [
    {
     "name": "stdout",
     "output_type": "stream",
     "text": [
      "None\n"
     ]
    }
   ],
   "source": [
    "print(x)"
   ]
  },
  {
   "cell_type": "code",
   "execution_count": 151,
   "metadata": {
    "ExecuteTime": {
     "end_time": "2021-10-21T20:23:08.342664Z",
     "start_time": "2021-10-21T20:23:08.326707Z"
    }
   },
   "outputs": [],
   "source": [
    "my_list = [1,2]"
   ]
  },
  {
   "cell_type": "code",
   "execution_count": 152,
   "metadata": {
    "ExecuteTime": {
     "end_time": "2021-10-21T20:23:08.681602Z",
     "start_time": "2021-10-21T20:23:08.665631Z"
    }
   },
   "outputs": [
    {
     "name": "stdout",
     "output_type": "stream",
     "text": [
      "[1, 2, 3]\n"
     ]
    }
   ],
   "source": [
    "my_list.append(3)\n",
    "print(my_list)"
   ]
  },
  {
   "cell_type": "code",
   "execution_count": 141,
   "metadata": {
    "ExecuteTime": {
     "end_time": "2021-10-21T20:15:50.192973Z",
     "start_time": "2021-10-21T20:15:50.183001Z"
    }
   },
   "outputs": [
    {
     "data": {
      "text/plain": [
       "'afasfaef'"
      ]
     },
     "execution_count": 141,
     "metadata": {},
     "output_type": "execute_result"
    }
   ],
   "source": [
    "x = 'Afasfaef'.lower()\n",
    "x"
   ]
  },
  {
   "cell_type": "code",
   "execution_count": 144,
   "metadata": {
    "ExecuteTime": {
     "end_time": "2021-10-21T20:18:12.564142Z",
     "start_time": "2021-10-21T20:18:12.551197Z"
    }
   },
   "outputs": [],
   "source": [
    "my_list = my_list.append(3)"
   ]
  },
  {
   "cell_type": "code",
   "execution_count": 145,
   "metadata": {
    "ExecuteTime": {
     "end_time": "2021-10-21T20:18:13.436264Z",
     "start_time": "2021-10-21T20:18:13.430284Z"
    }
   },
   "outputs": [
    {
     "name": "stdout",
     "output_type": "stream",
     "text": [
      "None\n"
     ]
    }
   ],
   "source": [
    "print(my_list)"
   ]
  },
  {
   "cell_type": "code",
   "execution_count": 148,
   "metadata": {
    "ExecuteTime": {
     "end_time": "2021-10-21T20:21:33.512478Z",
     "start_time": "2021-10-21T20:21:33.502503Z"
    }
   },
   "outputs": [],
   "source": [
    "def meu_append(lista,elemento_para_adicionar):\n",
    "    lista = lista+elemento_para_adicionar \n",
    "    return lista"
   ]
  },
  {
   "cell_type": "code",
   "execution_count": 149,
   "metadata": {
    "ExecuteTime": {
     "end_time": "2021-10-21T20:21:36.346785Z",
     "start_time": "2021-10-21T20:21:36.327274Z"
    }
   },
   "outputs": [
    {
     "name": "stdout",
     "output_type": "stream",
     "text": [
      "None\n"
     ]
    }
   ],
   "source": [
    "my_list = [1,2,3]\n",
    "my_list = meu_append(my_list,[54,68,45])\n",
    "print(my_list)"
   ]
  },
  {
   "cell_type": "code",
   "execution_count": 153,
   "metadata": {
    "ExecuteTime": {
     "end_time": "2021-10-21T20:25:45.356152Z",
     "start_time": "2021-10-21T20:25:45.342190Z"
    }
   },
   "outputs": [],
   "source": [
    "# returning a result\n",
    "def sum_two_numbers(a, b=0):\n",
    "    return a + b"
   ]
  },
  {
   "cell_type": "code",
   "execution_count": 154,
   "metadata": {
    "ExecuteTime": {
     "end_time": "2021-10-21T20:25:47.440416Z",
     "start_time": "2021-10-21T20:25:47.431440Z"
    }
   },
   "outputs": [
    {
     "data": {
      "text/plain": [
       "10"
      ]
     },
     "execution_count": 154,
     "metadata": {},
     "output_type": "execute_result"
    }
   ],
   "source": [
    "sum_two_numbers(10)"
   ]
  },
  {
   "cell_type": "code",
   "execution_count": 155,
   "metadata": {
    "ExecuteTime": {
     "end_time": "2021-10-21T20:25:57.221154Z",
     "start_time": "2021-10-21T20:25:57.206194Z"
    }
   },
   "outputs": [],
   "source": [
    "x = sum_two_numbers(10, 3)"
   ]
  },
  {
   "cell_type": "code",
   "execution_count": 156,
   "metadata": {
    "ExecuteTime": {
     "end_time": "2021-10-21T20:25:58.477376Z",
     "start_time": "2021-10-21T20:25:58.462415Z"
    }
   },
   "outputs": [
    {
     "name": "stdout",
     "output_type": "stream",
     "text": [
      "13\n"
     ]
    }
   ],
   "source": [
    "print(x)"
   ]
  },
  {
   "cell_type": "code",
   "execution_count": 110,
   "metadata": {
    "ExecuteTime": {
     "end_time": "2021-08-12T13:44:30.433594Z",
     "start_time": "2021-08-12T13:44:30.420629Z"
    }
   },
   "outputs": [
    {
     "data": {
      "text/plain": [
       "10"
      ]
     },
     "execution_count": 110,
     "metadata": {},
     "output_type": "execute_result"
    }
   ],
   "source": [
    "sum_two_numbers(10)"
   ]
  },
  {
   "cell_type": "code",
   "execution_count": null,
   "metadata": {},
   "outputs": [],
   "source": [
    "# create a function that returns a tuple with sum and subtraction of two numbers"
   ]
  },
  {
   "cell_type": "code",
   "execution_count": null,
   "metadata": {
    "ExecuteTime": {
     "end_time": "2021-10-21T20:37:37.812576Z",
     "start_time": "2021-10-21T20:37:37.797617Z"
    }
   },
   "outputs": [],
   "source": []
  },
  {
   "cell_type": "code",
   "execution_count": null,
   "metadata": {
    "ExecuteTime": {
     "end_time": "2021-10-21T20:37:42.521086Z",
     "start_time": "2021-10-21T20:37:42.510128Z"
    }
   },
   "outputs": [],
   "source": []
  },
  {
   "cell_type": "code",
   "execution_count": null,
   "metadata": {},
   "outputs": [],
   "source": []
  },
  {
   "cell_type": "code",
   "execution_count": null,
   "metadata": {},
   "outputs": [],
   "source": []
  },
  {
   "cell_type": "code",
   "execution_count": null,
   "metadata": {},
   "outputs": [],
   "source": []
  },
  {
   "cell_type": "code",
   "execution_count": 173,
   "metadata": {
    "ExecuteTime": {
     "end_time": "2021-10-21T20:42:51.344379Z",
     "start_time": "2021-10-21T20:42:51.326428Z"
    }
   },
   "outputs": [],
   "source": [
    "# returning a tuple\n",
    "\n",
    "def sum_and_diff_two_numbers(a, b=0):\n",
    "    '''Faz a soma e subtração de dois números\n",
    "    args: a - número inteiro ou float\n",
    "          b - número inteiro ou float por default é 0\n",
    "    return: tupla primeiro elemento é um numerico referente a soma e o segundo elemento é um numerico referente a subtracao\n",
    "    exemplo: sum_and_diff_two_numbers(9,5)\n",
    "            return (14,4)'''\n",
    "    soma = a + b\n",
    "    subtr = a - b\n",
    "    return (soma, subtr)\n",
    "   "
   ]
  },
  {
   "cell_type": "code",
   "execution_count": 174,
   "metadata": {
    "ExecuteTime": {
     "end_time": "2021-10-21T20:42:59.266565Z",
     "start_time": "2021-10-21T20:42:59.251605Z"
    }
   },
   "outputs": [],
   "source": [
    "resultado = sum_and_diff_two_numbers(9, 5)"
   ]
  },
  {
   "cell_type": "code",
   "execution_count": 175,
   "metadata": {
    "ExecuteTime": {
     "end_time": "2021-10-21T20:42:59.625599Z",
     "start_time": "2021-10-21T20:42:59.617621Z"
    }
   },
   "outputs": [
    {
     "data": {
      "text/plain": [
       "(14, 4)"
      ]
     },
     "execution_count": 175,
     "metadata": {},
     "output_type": "execute_result"
    }
   ],
   "source": [
    "resultado"
   ]
  },
  {
   "cell_type": "code",
   "execution_count": 176,
   "metadata": {
    "ExecuteTime": {
     "end_time": "2021-10-21T20:43:01.207297Z",
     "start_time": "2021-10-21T20:43:01.190343Z"
    }
   },
   "outputs": [],
   "source": [
    "# multiple assignment\n",
    "soma, subt = sum_and_diff_two_numbers(13, 5)"
   ]
  },
  {
   "cell_type": "code",
   "execution_count": 177,
   "metadata": {
    "ExecuteTime": {
     "end_time": "2021-10-21T20:43:01.982503Z",
     "start_time": "2021-10-21T20:43:01.973528Z"
    }
   },
   "outputs": [
    {
     "data": {
      "text/plain": [
       "18"
      ]
     },
     "execution_count": 177,
     "metadata": {},
     "output_type": "execute_result"
    }
   ],
   "source": [
    "soma"
   ]
  },
  {
   "cell_type": "code",
   "execution_count": 178,
   "metadata": {
    "ExecuteTime": {
     "end_time": "2021-10-21T20:43:02.493095Z",
     "start_time": "2021-10-21T20:43:02.486115Z"
    }
   },
   "outputs": [
    {
     "data": {
      "text/plain": [
       "8"
      ]
     },
     "execution_count": 178,
     "metadata": {},
     "output_type": "execute_result"
    }
   ],
   "source": [
    "subt"
   ]
  },
  {
   "cell_type": "markdown",
   "metadata": {},
   "source": [
    "## Reserved Keywords\n",
    "\n",
    "Careful assigning to variables that has a built in functionality. \n",
    "\n",
    "For example, if you run\n",
    "\n",
    "```python\n",
    "print = 'Hello World'\n",
    "```\n",
    "you will not be able to run the `print` function again."
   ]
  },
  {
   "cell_type": "code",
   "execution_count": 179,
   "metadata": {
    "ExecuteTime": {
     "end_time": "2021-10-21T20:44:29.406451Z",
     "start_time": "2021-10-21T20:44:29.397477Z"
    }
   },
   "outputs": [
    {
     "data": {
      "text/plain": [
       "[]"
      ]
     },
     "execution_count": 179,
     "metadata": {},
     "output_type": "execute_result"
    }
   ],
   "source": [
    "list()"
   ]
  },
  {
   "cell_type": "code",
   "execution_count": 180,
   "metadata": {
    "ExecuteTime": {
     "end_time": "2021-10-21T20:44:39.172848Z",
     "start_time": "2021-10-21T20:44:39.156892Z"
    }
   },
   "outputs": [],
   "source": [
    "def list():\n",
    "    print('BLA')\n",
    "    "
   ]
  },
  {
   "cell_type": "code",
   "execution_count": 181,
   "metadata": {
    "ExecuteTime": {
     "end_time": "2021-10-21T20:44:40.534301Z",
     "start_time": "2021-10-21T20:44:40.517352Z"
    }
   },
   "outputs": [
    {
     "name": "stdout",
     "output_type": "stream",
     "text": [
      "BLA\n"
     ]
    }
   ],
   "source": [
    "list()"
   ]
  },
  {
   "cell_type": "code",
   "execution_count": 182,
   "metadata": {
    "ExecuteTime": {
     "end_time": "2021-10-21T20:44:50.955091Z",
     "start_time": "2021-10-21T20:44:50.941129Z"
    }
   },
   "outputs": [
    {
     "data": {
      "text/plain": [
       "3"
      ]
     },
     "execution_count": 182,
     "metadata": {},
     "output_type": "execute_result"
    }
   ],
   "source": [
    "int(3.1415)"
   ]
  },
  {
   "cell_type": "code",
   "execution_count": 183,
   "metadata": {
    "ExecuteTime": {
     "end_time": "2021-10-21T20:44:51.653712Z",
     "start_time": "2021-10-21T20:44:51.646732Z"
    }
   },
   "outputs": [],
   "source": [
    "def int(x):\n",
    "    print('MUAHUAHUA')\n",
    "    \n",
    "    return"
   ]
  },
  {
   "cell_type": "code",
   "execution_count": 184,
   "metadata": {
    "ExecuteTime": {
     "end_time": "2021-10-21T20:44:54.145637Z",
     "start_time": "2021-10-21T20:44:54.141648Z"
    }
   },
   "outputs": [
    {
     "name": "stdout",
     "output_type": "stream",
     "text": [
      "MUAHUAHUA\n"
     ]
    }
   ],
   "source": [
    "int(3.1415)"
   ]
  },
  {
   "cell_type": "code",
   "execution_count": 185,
   "metadata": {
    "ExecuteTime": {
     "end_time": "2021-10-21T20:45:05.108625Z",
     "start_time": "2021-10-21T20:45:05.092668Z"
    }
   },
   "outputs": [
    {
     "name": "stdout",
     "output_type": "stream",
     "text": [
      "MUAHUAHUA\n"
     ]
    }
   ],
   "source": [
    "int('8')"
   ]
  },
  {
   "cell_type": "code",
   "execution_count": 7,
   "metadata": {
    "ExecuteTime": {
     "end_time": "2021-01-13T20:51:36.630620Z",
     "start_time": "2021-01-13T20:51:36.616657Z"
    }
   },
   "outputs": [],
   "source": [
    "list = []"
   ]
  },
  {
   "cell_type": "markdown",
   "metadata": {},
   "source": [
    "# Scope"
   ]
  },
  {
   "cell_type": "markdown",
   "metadata": {},
   "source": [
    "`Global` vs `Local` scope"
   ]
  },
  {
   "cell_type": "markdown",
   "metadata": {},
   "source": [
    "Variables that are defined `inside a function body` have a `local scope`, and those `defined outside` have a `global scope`."
   ]
  },
  {
   "cell_type": "markdown",
   "metadata": {},
   "source": [
    "The rules are:\n",
    "- if a variable `is created` inside a function, it creates a new variable - with a different scope of the any variable that exists outside the function"
   ]
  },
  {
   "cell_type": "code",
   "execution_count": null,
   "metadata": {},
   "outputs": [],
   "source": []
  },
  {
   "cell_type": "code",
   "execution_count": 14,
   "metadata": {
    "ExecuteTime": {
     "end_time": "2021-10-22T13:25:42.939497Z",
     "start_time": "2021-10-22T13:25:42.930176Z"
    }
   },
   "outputs": [],
   "source": [
    "total = 0; # This is global variable.\n",
    "\n",
    "def my_sum( arg1, arg2 ):\n",
    "    total = arg1 + arg2\n",
    "    print(\"Inside the function local total : \", total)\n",
    "    return total\n"
   ]
  },
  {
   "cell_type": "code",
   "execution_count": 15,
   "metadata": {
    "ExecuteTime": {
     "end_time": "2021-10-22T13:25:48.085740Z",
     "start_time": "2021-10-22T13:25:48.076764Z"
    }
   },
   "outputs": [],
   "source": [
    "a = 2\n",
    "b = 3"
   ]
  },
  {
   "cell_type": "code",
   "execution_count": 16,
   "metadata": {
    "ExecuteTime": {
     "end_time": "2021-10-22T13:25:50.719369Z",
     "start_time": "2021-10-22T13:25:50.708398Z"
    }
   },
   "outputs": [
    {
     "name": "stdout",
     "output_type": "stream",
     "text": [
      "Inside the function local total :  5\n",
      "5\n"
     ]
    }
   ],
   "source": [
    "x = my_sum(a, b)\n",
    "print(x)"
   ]
  },
  {
   "cell_type": "code",
   "execution_count": 17,
   "metadata": {
    "ExecuteTime": {
     "end_time": "2021-10-22T13:26:07.277915Z",
     "start_time": "2021-10-22T13:26:07.262954Z"
    }
   },
   "outputs": [
    {
     "data": {
      "text/plain": [
       "0"
      ]
     },
     "execution_count": 17,
     "metadata": {},
     "output_type": "execute_result"
    }
   ],
   "source": [
    "total"
   ]
  },
  {
   "cell_type": "code",
   "execution_count": 12,
   "metadata": {
    "ExecuteTime": {
     "end_time": "2021-01-13T20:51:36.710317Z",
     "start_time": "2021-01-13T20:51:36.695359Z"
    }
   },
   "outputs": [],
   "source": [
    "# total didnt change outside because the total inside the function is a different one"
   ]
  },
  {
   "cell_type": "markdown",
   "metadata": {},
   "source": [
    "- if the variable exists outside and you `use` that inside the function, the function will use its value, but you can't modify it (because you would be creating this variable inside the function)"
   ]
  },
  {
   "cell_type": "code",
   "execution_count": 18,
   "metadata": {
    "ExecuteTime": {
     "end_time": "2021-10-22T13:28:17.232561Z",
     "start_time": "2021-10-22T13:28:17.221087Z"
    }
   },
   "outputs": [],
   "source": [
    "total = 5 # This is global variable.\n",
    "\n",
    "def my_sum( arg1, arg2 ):\n",
    "    x = arg1 + arg2 + total\n",
    "    print(\"Inside the function local total : \", x)\n",
    "    return x"
   ]
  },
  {
   "cell_type": "code",
   "execution_count": 19,
   "metadata": {
    "ExecuteTime": {
     "end_time": "2021-10-22T13:28:19.062679Z",
     "start_time": "2021-10-22T13:28:19.046720Z"
    },
    "scrolled": false
   },
   "outputs": [
    {
     "name": "stdout",
     "output_type": "stream",
     "text": [
      "Inside the function local total :  9\n",
      "9\n"
     ]
    }
   ],
   "source": [
    "y = my_sum(1, 3)\n",
    "print(y)"
   ]
  },
  {
   "cell_type": "code",
   "execution_count": null,
   "metadata": {},
   "outputs": [],
   "source": []
  },
  {
   "cell_type": "code",
   "execution_count": 22,
   "metadata": {
    "ExecuteTime": {
     "end_time": "2021-10-22T13:34:31.314038Z",
     "start_time": "2021-10-22T13:34:31.300075Z"
    }
   },
   "outputs": [],
   "source": [
    "total = 10 # This is global variable.\n",
    "\n",
    "def my_sum( arg1, arg2 , total):\n",
    "    x = arg1 + arg2 + total\n",
    "    print(\"Inside the function local total : \", x)\n",
    "    return x"
   ]
  },
  {
   "cell_type": "code",
   "execution_count": 23,
   "metadata": {
    "ExecuteTime": {
     "end_time": "2021-10-22T13:34:31.656203Z",
     "start_time": "2021-10-22T13:34:31.646696Z"
    }
   },
   "outputs": [
    {
     "name": "stdout",
     "output_type": "stream",
     "text": [
      "Inside the function local total :  94\n"
     ]
    },
    {
     "data": {
      "text/plain": [
       "94"
      ]
     },
     "execution_count": 23,
     "metadata": {},
     "output_type": "execute_result"
    }
   ],
   "source": [
    "outro_total = 90\n",
    "my_sum(1,3,outro_total)"
   ]
  },
  {
   "cell_type": "code",
   "execution_count": null,
   "metadata": {},
   "outputs": [],
   "source": []
  },
  {
   "cell_type": "code",
   "execution_count": 22,
   "metadata": {
    "ExecuteTime": {
     "end_time": "2021-03-24T17:29:01.350624Z",
     "start_time": "2021-03-24T17:29:01.340651Z"
    }
   },
   "outputs": [],
   "source": [
    "# total didnt change, but its value could be used inside the function because \n",
    "# you are not creating a new `total` variable inside the function"
   ]
  },
  {
   "cell_type": "markdown",
   "metadata": {},
   "source": [
    "- if you want to modify a `global` variable, you can call `global name_of_variable` at the beginning of the function\n"
   ]
  },
  {
   "cell_type": "code",
   "execution_count": 32,
   "metadata": {
    "ExecuteTime": {
     "end_time": "2021-10-22T13:45:56.240974Z",
     "start_time": "2021-10-22T13:45:56.227011Z"
    }
   },
   "outputs": [],
   "source": [
    "total = 5 # This is global variable.\n",
    "\n",
    "def my_sum( arg1, arg2 ):\n",
    "    global total \n",
    "    total = arg1 + arg2\n",
    "    print(\"Inside the function local total : \", total)\n",
    "    return total"
   ]
  },
  {
   "cell_type": "code",
   "execution_count": 26,
   "metadata": {
    "ExecuteTime": {
     "end_time": "2021-10-22T13:39:55.451652Z",
     "start_time": "2021-10-22T13:39:55.435694Z"
    }
   },
   "outputs": [
    {
     "data": {
      "text/plain": [
       "5"
      ]
     },
     "execution_count": 26,
     "metadata": {},
     "output_type": "execute_result"
    }
   ],
   "source": [
    "total"
   ]
  },
  {
   "cell_type": "code",
   "execution_count": 33,
   "metadata": {
    "ExecuteTime": {
     "end_time": "2021-10-22T13:45:57.271196Z",
     "start_time": "2021-10-22T13:45:57.259228Z"
    }
   },
   "outputs": [
    {
     "name": "stdout",
     "output_type": "stream",
     "text": [
      "Inside the function local total :  6\n"
     ]
    },
    {
     "data": {
      "text/plain": [
       "6"
      ]
     },
     "execution_count": 33,
     "metadata": {},
     "output_type": "execute_result"
    }
   ],
   "source": [
    "my_sum(3, 3)"
   ]
  },
  {
   "cell_type": "code",
   "execution_count": 28,
   "metadata": {
    "ExecuteTime": {
     "end_time": "2021-10-22T13:40:00.641128Z",
     "start_time": "2021-10-22T13:40:00.623178Z"
    }
   },
   "outputs": [
    {
     "data": {
      "text/plain": [
       "6"
      ]
     },
     "execution_count": 28,
     "metadata": {},
     "output_type": "execute_result"
    }
   ],
   "source": [
    "total"
   ]
  },
  {
   "cell_type": "code",
   "execution_count": 40,
   "metadata": {
    "ExecuteTime": {
     "end_time": "2021-08-12T15:06:33.801240Z",
     "start_time": "2021-08-12T15:06:33.784267Z"
    }
   },
   "outputs": [],
   "source": [
    "total = 5 # This is global variable.\n",
    "\n",
    "def my_sum( arg1, arg2, ):\n",
    "    total = arg1 + arg2\n",
    "    print(\"Inside the function local total : \", total)\n",
    "    return total"
   ]
  },
  {
   "cell_type": "code",
   "execution_count": 41,
   "metadata": {
    "ExecuteTime": {
     "end_time": "2021-08-12T15:06:37.660551Z",
     "start_time": "2021-08-12T15:06:37.644570Z"
    }
   },
   "outputs": [
    {
     "name": "stdout",
     "output_type": "stream",
     "text": [
      "Inside the function local total :  6\n"
     ]
    }
   ],
   "source": [
    "total = my_sum(3,3)"
   ]
  },
  {
   "cell_type": "code",
   "execution_count": 42,
   "metadata": {
    "ExecuteTime": {
     "end_time": "2021-08-12T15:06:37.988217Z",
     "start_time": "2021-08-12T15:06:37.980710Z"
    }
   },
   "outputs": [
    {
     "data": {
      "text/plain": [
       "6"
      ]
     },
     "execution_count": 42,
     "metadata": {},
     "output_type": "execute_result"
    }
   ],
   "source": [
    "total"
   ]
  },
  {
   "cell_type": "code",
   "execution_count": 28,
   "metadata": {
    "ExecuteTime": {
     "end_time": "2021-08-12T14:31:50.023400Z",
     "start_time": "2021-08-12T14:31:50.012425Z"
    }
   },
   "outputs": [],
   "source": [
    "# total has changed because you specified the `global` statement"
   ]
  },
  {
   "cell_type": "markdown",
   "metadata": {},
   "source": [
    "- with lists, though, you can change its value, since the list itself is not changed, but the values to which it points to are."
   ]
  },
  {
   "cell_type": "code",
   "execution_count": 14,
   "metadata": {
    "ExecuteTime": {
     "end_time": "2021-10-22T13:47:34.892800Z",
     "start_time": "2021-10-22T13:47:34.876845Z"
    }
   },
   "outputs": [],
   "source": [
    "def change_first_element(arr):\n",
    "    arr[0] = 100000\n",
    "    return arr"
   ]
  },
  {
   "cell_type": "code",
   "execution_count": 15,
   "metadata": {
    "ExecuteTime": {
     "end_time": "2021-10-22T13:47:35.795366Z",
     "start_time": "2021-10-22T13:47:35.780406Z"
    }
   },
   "outputs": [],
   "source": [
    "my_list = [1, 2, 3]\n",
    "my_list=change_first_element(my_list)"
   ]
  },
  {
   "cell_type": "code",
   "execution_count": 16,
   "metadata": {
    "ExecuteTime": {
     "end_time": "2021-10-22T13:47:36.988177Z",
     "start_time": "2021-10-22T13:47:36.981195Z"
    }
   },
   "outputs": [
    {
     "data": {
      "text/plain": [
       "[100000, 2, 3]"
      ]
     },
     "execution_count": 16,
     "metadata": {},
     "output_type": "execute_result"
    }
   ],
   "source": [
    "my_list"
   ]
  },
  {
   "cell_type": "code",
   "execution_count": 18,
   "metadata": {
    "ExecuteTime": {
     "end_time": "2021-10-22T13:53:07.488624Z",
     "start_time": "2021-10-22T13:53:07.484636Z"
    },
    "cell_style": "center"
   },
   "outputs": [],
   "source": [
    "def change_first_element(arr):\n",
    "    '''Essa funcao modifica o primeiro elemeto da lista\n",
    "    argumentos: uma lista\n",
    "    returns: nada'''\n",
    "    arr[0] = 100000\n",
    "    \n",
    "    "
   ]
  },
  {
   "cell_type": "code",
   "execution_count": 19,
   "metadata": {
    "ExecuteTime": {
     "end_time": "2021-10-22T13:53:09.399079Z",
     "start_time": "2021-10-22T13:53:09.382126Z"
    }
   },
   "outputs": [],
   "source": [
    "my_list = [1, 2, 3]"
   ]
  },
  {
   "cell_type": "code",
   "execution_count": 20,
   "metadata": {
    "ExecuteTime": {
     "end_time": "2021-10-22T13:53:17.334238Z",
     "start_time": "2021-10-22T13:53:17.316286Z"
    }
   },
   "outputs": [],
   "source": [
    "change_first_element(my_list)"
   ]
  },
  {
   "cell_type": "code",
   "execution_count": 21,
   "metadata": {
    "ExecuteTime": {
     "end_time": "2021-10-22T13:53:18.448161Z",
     "start_time": "2021-10-22T13:53:18.443175Z"
    }
   },
   "outputs": [
    {
     "data": {
      "text/plain": [
       "[100000, 2, 3]"
      ]
     },
     "execution_count": 21,
     "metadata": {},
     "output_type": "execute_result"
    }
   ],
   "source": [
    "my_list"
   ]
  },
  {
   "cell_type": "code",
   "execution_count": 28,
   "metadata": {
    "ExecuteTime": {
     "end_time": "2021-01-13T20:51:36.959616Z",
     "start_time": "2021-01-13T20:51:36.944656Z"
    }
   },
   "outputs": [],
   "source": [
    "# the first element of the list can be changed because when you access a list index as in arr[0], \n",
    "# you are actually accessing its position in memory, its location. And then you are changing that location"
   ]
  },
  {
   "cell_type": "markdown",
   "metadata": {},
   "source": [
    "# Resumo\n",
    "```python\n",
    " def nome_da_função(argumentos_obrigatorios,argumento_opcional=valor_default)::\n",
    "        '''Documentação\n",
    "        resumo\n",
    "        argumentos\n",
    "        retorno\n",
    "        exemplo'''\n",
    "        código\n",
    "        return\n",
    "  ``` \n",
    "* nome_da_função(argumento1,argumento2= valor_argumento2)\n",
    "```python\n",
    "def função_recursiva():\n",
    "    função_recursiva()\n",
    "```\n",
    "\n",
    "```python\n",
    "def função_retorno():\n",
    "    return (x,y,z) - retorno pode ser de uma variavel ou uma tupla com muitas variaveis\n",
    "```\n"
   ]
  },
  {
   "cell_type": "code",
   "execution_count": 25,
   "metadata": {},
   "outputs": [
    {
     "name": "stdout",
     "output_type": "stream",
     "text": [
      "3\n",
      "-1\n"
     ]
    }
   ],
   "source": [
    "def python_sum_sub (num1,num2):\n",
    "    \n",
    "    \"\"\"This function adds and subtracts two integer numbers and returns its result\n",
    "    \n",
    "    Arguments:\n",
    "    NUM1 - Given number provided by user\n",
    "    NUM2 - Given number provided by user\n",
    "    \n",
    "    result_add - It's the result of the addition of num1 and num2\n",
    "    result_sub -It's the result of the subtraction of num1 and num2\n",
    "    \n",
    "    Examples:\n",
    "    \n",
    "    result_add = num1 + num2\n",
    "    result_sub = num1 - num2\n",
    "    \n",
    "    \"\"\"\n",
    "\n",
    "    result_add = num1 + num2\n",
    "    result_sub = num1 - num2\n",
    "    \n",
    "    return result_add, result_sub\n",
    "  \n",
    "python_sum_sub(1,2)\n",
    "\n",
    "add, sub = python_sum_sub(1,2)\n",
    "\n",
    "\n",
    "\n"
   ]
  },
  {
   "cell_type": "code",
   "execution_count": null,
   "metadata": {},
   "outputs": [],
   "source": []
  }
 ],
 "metadata": {
  "kernelspec": {
   "display_name": "Python 3 (ipykernel)",
   "language": "python",
   "name": "python3"
  },
  "language_info": {
   "codemirror_mode": {
    "name": "ipython",
    "version": 3
   },
   "file_extension": ".py",
   "mimetype": "text/x-python",
   "name": "python",
   "nbconvert_exporter": "python",
   "pygments_lexer": "ipython3",
   "version": "3.10.1"
  },
  "toc": {
   "base_numbering": 1,
   "nav_menu": {},
   "number_sections": true,
   "sideBar": true,
   "skip_h1_title": false,
   "title_cell": "Table of Contents",
   "title_sidebar": "Contents",
   "toc_cell": false,
   "toc_position": {},
   "toc_section_display": true,
   "toc_window_display": false
  },
  "varInspector": {
   "cols": {
    "lenName": 16,
    "lenType": 16,
    "lenVar": 40
   },
   "kernels_config": {
    "python": {
     "delete_cmd_postfix": "",
     "delete_cmd_prefix": "del ",
     "library": "var_list.py",
     "varRefreshCmd": "print(var_dic_list())"
    },
    "r": {
     "delete_cmd_postfix": ") ",
     "delete_cmd_prefix": "rm(",
     "library": "var_list.r",
     "varRefreshCmd": "cat(var_dic_list()) "
    }
   },
   "position": {
    "height": "275.4px",
    "left": "912.8px",
    "right": "20px",
    "top": "120px",
    "width": "296px"
   },
   "types_to_exclude": [
    "module",
    "function",
    "builtin_function_or_method",
    "instance",
    "_Feature"
   ],
   "window_display": false
  }
 },
 "nbformat": 4,
 "nbformat_minor": 2
}
