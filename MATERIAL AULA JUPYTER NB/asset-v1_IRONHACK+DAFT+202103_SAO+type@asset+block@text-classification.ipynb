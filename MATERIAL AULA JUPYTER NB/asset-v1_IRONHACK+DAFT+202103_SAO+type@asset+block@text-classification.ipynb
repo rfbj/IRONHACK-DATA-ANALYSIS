{
 "cells": [
  {
   "cell_type": "code",
   "execution_count": 1,
   "metadata": {
    "ExecuteTime": {
     "end_time": "2021-05-13T13:22:46.447308Z",
     "start_time": "2021-05-13T13:22:45.440797Z"
    }
   },
   "outputs": [],
   "source": [
    "from sklearn.model_selection import train_test_split\n",
    "import pandas as pd\n",
    "import numpy as np\n",
    "import matplotlib.pyplot as plt\n",
    "import seaborn as sns"
   ]
  },
  {
   "cell_type": "markdown",
   "metadata": {},
   "source": [
    "# Natural Language Processing - dealing with text data"
   ]
  },
  {
   "cell_type": "code",
   "execution_count": 2,
   "metadata": {
    "ExecuteTime": {
     "end_time": "2021-05-13T13:22:48.008726Z",
     "start_time": "2021-05-13T13:22:47.945439Z"
    },
    "scrolled": true
   },
   "outputs": [
    {
     "data": {
      "text/html": [
       "<div>\n",
       "<style scoped>\n",
       "    .dataframe tbody tr th:only-of-type {\n",
       "        vertical-align: middle;\n",
       "    }\n",
       "\n",
       "    .dataframe tbody tr th {\n",
       "        vertical-align: top;\n",
       "    }\n",
       "\n",
       "    .dataframe thead th {\n",
       "        text-align: right;\n",
       "    }\n",
       "</style>\n",
       "<table border=\"1\" class=\"dataframe\">\n",
       "  <thead>\n",
       "    <tr style=\"text-align: right;\">\n",
       "      <th></th>\n",
       "      <th>review</th>\n",
       "      <th>sentiment</th>\n",
       "    </tr>\n",
       "  </thead>\n",
       "  <tbody>\n",
       "    <tr>\n",
       "      <th>0</th>\n",
       "      <td>Beware the Scottish Play! In his riveting and ...</td>\n",
       "      <td>positive</td>\n",
       "    </tr>\n",
       "    <tr>\n",
       "      <th>1</th>\n",
       "      <td>I think this is a lovely family movie. There a...</td>\n",
       "      <td>positive</td>\n",
       "    </tr>\n",
       "    <tr>\n",
       "      <th>2</th>\n",
       "      <td>As Dr. Alan Feinstone, Corbin Bernsen turns a ...</td>\n",
       "      <td>positive</td>\n",
       "    </tr>\n",
       "    <tr>\n",
       "      <th>3</th>\n",
       "      <td>Well the reason for seeing it in the cinema wa...</td>\n",
       "      <td>negative</td>\n",
       "    </tr>\n",
       "    <tr>\n",
       "      <th>4</th>\n",
       "      <td>Having seen the full length film Kieslowski ma...</td>\n",
       "      <td>positive</td>\n",
       "    </tr>\n",
       "  </tbody>\n",
       "</table>\n",
       "</div>"
      ],
      "text/plain": [
       "                                              review sentiment\n",
       "0  Beware the Scottish Play! In his riveting and ...  positive\n",
       "1  I think this is a lovely family movie. There a...  positive\n",
       "2  As Dr. Alan Feinstone, Corbin Bernsen turns a ...  positive\n",
       "3  Well the reason for seeing it in the cinema wa...  negative\n",
       "4  Having seen the full length film Kieslowski ma...  positive"
      ]
     },
     "execution_count": 2,
     "metadata": {},
     "output_type": "execute_result"
    }
   ],
   "source": [
    "imdb = pd.read_csv('sample_imdb.csv', encoding=\"latin1\")\n",
    "imdb.head()"
   ]
  },
  {
   "cell_type": "code",
   "execution_count": 4,
   "metadata": {
    "ExecuteTime": {
     "end_time": "2020-12-09T18:21:59.430538Z",
     "start_time": "2020-12-09T18:21:59.416574Z"
    }
   },
   "outputs": [
    {
     "data": {
      "text/plain": [
       "(5000, 2)"
      ]
     },
     "execution_count": 4,
     "metadata": {},
     "output_type": "execute_result"
    }
   ],
   "source": [
    "imdb.shape"
   ]
  },
  {
   "cell_type": "markdown",
   "metadata": {},
   "source": [
    "## Documents vs Corpus"
   ]
  },
  {
   "cell_type": "markdown",
   "metadata": {},
   "source": [
    "- **Documents**: each observation, each row of the dataset above.\n",
    "    \n",
    "- **Corpus**: the whole set of observations, the whole dataset. "
   ]
  },
  {
   "cell_type": "markdown",
   "metadata": {},
   "source": [
    "## Extracting features from text"
   ]
  },
  {
   "cell_type": "markdown",
   "metadata": {},
   "source": [
    "- Transforming words in numbers"
   ]
  },
  {
   "cell_type": "markdown",
   "metadata": {},
   "source": [
    "## One Hot Encoding"
   ]
  },
  {
   "cell_type": "code",
   "execution_count": 5,
   "metadata": {
    "ExecuteTime": {
     "end_time": "2020-12-09T18:21:59.446494Z",
     "start_time": "2020-12-09T18:21:59.431535Z"
    }
   },
   "outputs": [],
   "source": [
    "from sklearn.preprocessing import OneHotEncoder"
   ]
  },
  {
   "cell_type": "code",
   "execution_count": 6,
   "metadata": {
    "ExecuteTime": {
     "end_time": "2020-12-09T18:21:59.462452Z",
     "start_time": "2020-12-09T18:21:59.447493Z"
    }
   },
   "outputs": [],
   "source": [
    "encoder = OneHotEncoder()"
   ]
  },
  {
   "cell_type": "code",
   "execution_count": 3,
   "metadata": {
    "ExecuteTime": {
     "end_time": "2021-05-13T13:28:32.479002Z",
     "start_time": "2021-05-13T13:28:32.306426Z"
    }
   },
   "outputs": [
    {
     "data": {
      "text/plain": [
       "105781"
      ]
     },
     "execution_count": 3,
     "metadata": {},
     "output_type": "execute_result"
    }
   ],
   "source": [
    "len(set(imdb.review.str.cat().split()))"
   ]
  },
  {
   "cell_type": "code",
   "execution_count": null,
   "metadata": {},
   "outputs": [],
   "source": [
    "\"I love to hate this movie\"\n",
    "'I hate to love this movie'"
   ]
  },
  {
   "cell_type": "code",
   "execution_count": null,
   "metadata": {},
   "outputs": [],
   "source": [
    "'I love this movie'\n",
    "'I love love love love this movie'"
   ]
  },
  {
   "cell_type": "markdown",
   "metadata": {},
   "source": [
    "- Too many words will lead to too many dimensions!\n",
    "- Miss information about frequency of words\n",
    "- Context is not captured nor order of words"
   ]
  },
  {
   "cell_type": "markdown",
   "metadata": {},
   "source": [
    "## Count Vectorizer"
   ]
  },
  {
   "cell_type": "code",
   "execution_count": 72,
   "metadata": {
    "ExecuteTime": {
     "end_time": "2021-05-13T15:20:04.514290Z",
     "start_time": "2021-05-13T15:20:04.506313Z"
    }
   },
   "outputs": [],
   "source": [
    "from sklearn.feature_extraction.text import CountVectorizer"
   ]
  },
  {
   "cell_type": "code",
   "execution_count": 8,
   "metadata": {
    "ExecuteTime": {
     "end_time": "2020-12-09T18:21:59.509327Z",
     "start_time": "2020-12-09T18:21:59.495364Z"
    }
   },
   "outputs": [],
   "source": [
    "train_text = [\"Be yourself; everyone else is already taken.\",\n",
    "              \"A room without books is like a body without a soul.\",\n",
    "              \"Be the change that you wish to see in the world.\",\n",
    "              \"If you tell the truth, you don't have to remember anything.\",\n",
    "              \"Always forgive your enemies; nothing annoys them so much.\"\n",
    "             ]\n",
    "\n",
    "count_vectorizer = CountVectorizer()"
   ]
  },
  {
   "cell_type": "code",
   "execution_count": 9,
   "metadata": {
    "ExecuteTime": {
     "end_time": "2020-12-09T18:21:59.524287Z",
     "start_time": "2020-12-09T18:21:59.510324Z"
    }
   },
   "outputs": [
    {
     "data": {
      "text/plain": [
       "<5x38 sparse matrix of type '<class 'numpy.int64'>'\n",
       "\twith 43 stored elements in Compressed Sparse Row format>"
      ]
     },
     "execution_count": 9,
     "metadata": {},
     "output_type": "execute_result"
    }
   ],
   "source": [
    "count_vectorizer.fit_transform(train_text)"
   ]
  },
  {
   "cell_type": "code",
   "execution_count": 10,
   "metadata": {
    "ExecuteTime": {
     "end_time": "2020-12-09T18:21:59.539247Z",
     "start_time": "2020-12-09T18:21:59.525284Z"
    }
   },
   "outputs": [
    {
     "data": {
      "text/plain": [
       "CountVectorizer()"
      ]
     },
     "execution_count": 10,
     "metadata": {},
     "output_type": "execute_result"
    }
   ],
   "source": [
    "count_vectorizer.fit(train_text)"
   ]
  },
  {
   "cell_type": "code",
   "execution_count": 11,
   "metadata": {
    "ExecuteTime": {
     "end_time": "2020-12-09T18:21:59.555204Z",
     "start_time": "2020-12-09T18:21:59.540243Z"
    }
   },
   "outputs": [
    {
     "data": {
      "text/plain": [
       "{'be': 4,\n",
       " 'yourself': 37,\n",
       " 'everyone': 11,\n",
       " 'else': 9,\n",
       " 'is': 16,\n",
       " 'already': 0,\n",
       " 'taken': 25,\n",
       " 'room': 21,\n",
       " 'without': 33,\n",
       " 'books': 6,\n",
       " 'like': 17,\n",
       " 'body': 5,\n",
       " 'soul': 24,\n",
       " 'the': 28,\n",
       " 'change': 7,\n",
       " 'that': 27,\n",
       " 'you': 35,\n",
       " 'wish': 32,\n",
       " 'to': 30,\n",
       " 'see': 22,\n",
       " 'in': 15,\n",
       " 'world': 34,\n",
       " 'if': 14,\n",
       " 'tell': 26,\n",
       " 'truth': 31,\n",
       " 'don': 8,\n",
       " 'have': 13,\n",
       " 'remember': 20,\n",
       " 'anything': 3,\n",
       " 'always': 1,\n",
       " 'forgive': 12,\n",
       " 'your': 36,\n",
       " 'enemies': 10,\n",
       " 'nothing': 19,\n",
       " 'annoys': 2,\n",
       " 'them': 29,\n",
       " 'so': 23,\n",
       " 'much': 18}"
      ]
     },
     "execution_count": 11,
     "metadata": {},
     "output_type": "execute_result"
    }
   ],
   "source": [
    "count_vectorizer.vocabulary_"
   ]
  },
  {
   "cell_type": "code",
   "execution_count": 12,
   "metadata": {
    "ExecuteTime": {
     "end_time": "2020-12-09T18:21:59.570164Z",
     "start_time": "2020-12-09T18:21:59.556201Z"
    }
   },
   "outputs": [
    {
     "data": {
      "text/plain": [
       "17"
      ]
     },
     "execution_count": 12,
     "metadata": {},
     "output_type": "execute_result"
    }
   ],
   "source": [
    "count_vectorizer.vocabulary_.get('like')"
   ]
  },
  {
   "cell_type": "code",
   "execution_count": 13,
   "metadata": {
    "ExecuteTime": {
     "end_time": "2020-12-09T18:21:59.586121Z",
     "start_time": "2020-12-09T18:21:59.571189Z"
    }
   },
   "outputs": [
    {
     "data": {
      "text/plain": [
       "17"
      ]
     },
     "execution_count": 13,
     "metadata": {},
     "output_type": "execute_result"
    }
   ],
   "source": [
    "count_vectorizer.vocabulary_['like']"
   ]
  },
  {
   "cell_type": "code",
   "execution_count": 14,
   "metadata": {
    "ExecuteTime": {
     "end_time": "2020-12-09T18:21:59.602078Z",
     "start_time": "2020-12-09T18:21:59.587118Z"
    }
   },
   "outputs": [
    {
     "data": {
      "text/plain": [
       "set()"
      ]
     },
     "execution_count": 14,
     "metadata": {},
     "output_type": "execute_result"
    }
   ],
   "source": [
    "count_vectorizer.stop_words_"
   ]
  },
  {
   "cell_type": "code",
   "execution_count": 15,
   "metadata": {
    "ExecuteTime": {
     "end_time": "2020-12-09T18:21:59.617038Z",
     "start_time": "2020-12-09T18:21:59.603075Z"
    }
   },
   "outputs": [
    {
     "data": {
      "text/plain": [
       "<5x38 sparse matrix of type '<class 'numpy.int64'>'\n",
       "\twith 43 stored elements in Compressed Sparse Row format>"
      ]
     },
     "execution_count": 15,
     "metadata": {},
     "output_type": "execute_result"
    }
   ],
   "source": [
    "transformed_vector = count_vectorizer.transform(train_text)\n",
    "transformed_vector"
   ]
  },
  {
   "cell_type": "code",
   "execution_count": 16,
   "metadata": {
    "ExecuteTime": {
     "end_time": "2020-12-09T18:21:59.632998Z",
     "start_time": "2020-12-09T18:21:59.618035Z"
    }
   },
   "outputs": [
    {
     "data": {
      "text/plain": [
       "array([[1, 0, 0, 0, 1, 0, 0, 0, 0, 1, 0, 1, 0, 0, 0, 0, 1, 0, 0, 0, 0, 0,\n",
       "        0, 0, 0, 1, 0, 0, 0, 0, 0, 0, 0, 0, 0, 0, 0, 1],\n",
       "       [0, 0, 0, 0, 0, 1, 1, 0, 0, 0, 0, 0, 0, 0, 0, 0, 1, 1, 0, 0, 0, 1,\n",
       "        0, 0, 1, 0, 0, 0, 0, 0, 0, 0, 0, 2, 0, 0, 0, 0],\n",
       "       [0, 0, 0, 0, 1, 0, 0, 1, 0, 0, 0, 0, 0, 0, 0, 1, 0, 0, 0, 0, 0, 0,\n",
       "        1, 0, 0, 0, 0, 1, 2, 0, 1, 0, 1, 0, 1, 1, 0, 0],\n",
       "       [0, 0, 0, 1, 0, 0, 0, 0, 1, 0, 0, 0, 0, 1, 1, 0, 0, 0, 0, 0, 1, 0,\n",
       "        0, 0, 0, 0, 1, 0, 1, 0, 1, 1, 0, 0, 0, 2, 0, 0],\n",
       "       [0, 1, 1, 0, 0, 0, 0, 0, 0, 0, 1, 0, 1, 0, 0, 0, 0, 0, 1, 1, 0, 0,\n",
       "        0, 1, 0, 0, 0, 0, 0, 1, 0, 0, 0, 0, 0, 0, 1, 0]], dtype=int64)"
      ]
     },
     "execution_count": 16,
     "metadata": {},
     "output_type": "execute_result"
    }
   ],
   "source": [
    "transformed_vector.toarray()"
   ]
  },
  {
   "cell_type": "code",
   "execution_count": 17,
   "metadata": {
    "ExecuteTime": {
     "end_time": "2020-12-09T18:21:59.647959Z",
     "start_time": "2020-12-09T18:21:59.633997Z"
    },
    "scrolled": true
   },
   "outputs": [
    {
     "data": {
      "text/plain": [
       "['already',\n",
       " 'always',\n",
       " 'annoys',\n",
       " 'anything',\n",
       " 'be',\n",
       " 'body',\n",
       " 'books',\n",
       " 'change',\n",
       " 'don',\n",
       " 'else',\n",
       " 'enemies',\n",
       " 'everyone',\n",
       " 'forgive',\n",
       " 'have',\n",
       " 'if',\n",
       " 'in',\n",
       " 'is',\n",
       " 'like',\n",
       " 'much',\n",
       " 'nothing',\n",
       " 'remember',\n",
       " 'room',\n",
       " 'see',\n",
       " 'so',\n",
       " 'soul',\n",
       " 'taken',\n",
       " 'tell',\n",
       " 'that',\n",
       " 'the',\n",
       " 'them',\n",
       " 'to',\n",
       " 'truth',\n",
       " 'wish',\n",
       " 'without',\n",
       " 'world',\n",
       " 'you',\n",
       " 'your',\n",
       " 'yourself']"
      ]
     },
     "execution_count": 17,
     "metadata": {},
     "output_type": "execute_result"
    }
   ],
   "source": [
    "count_vectorizer.get_feature_names()"
   ]
  },
  {
   "cell_type": "code",
   "execution_count": 18,
   "metadata": {
    "ExecuteTime": {
     "end_time": "2020-12-09T18:21:59.663917Z",
     "start_time": "2020-12-09T18:21:59.649954Z"
    }
   },
   "outputs": [
    {
     "data": {
      "text/html": [
       "<div>\n",
       "<style scoped>\n",
       "    .dataframe tbody tr th:only-of-type {\n",
       "        vertical-align: middle;\n",
       "    }\n",
       "\n",
       "    .dataframe tbody tr th {\n",
       "        vertical-align: top;\n",
       "    }\n",
       "\n",
       "    .dataframe thead th {\n",
       "        text-align: right;\n",
       "    }\n",
       "</style>\n",
       "<table border=\"1\" class=\"dataframe\">\n",
       "  <thead>\n",
       "    <tr style=\"text-align: right;\">\n",
       "      <th></th>\n",
       "      <th>already</th>\n",
       "      <th>always</th>\n",
       "      <th>annoys</th>\n",
       "      <th>anything</th>\n",
       "      <th>be</th>\n",
       "      <th>body</th>\n",
       "      <th>books</th>\n",
       "      <th>change</th>\n",
       "      <th>don</th>\n",
       "      <th>else</th>\n",
       "      <th>...</th>\n",
       "      <th>the</th>\n",
       "      <th>them</th>\n",
       "      <th>to</th>\n",
       "      <th>truth</th>\n",
       "      <th>wish</th>\n",
       "      <th>without</th>\n",
       "      <th>world</th>\n",
       "      <th>you</th>\n",
       "      <th>your</th>\n",
       "      <th>yourself</th>\n",
       "    </tr>\n",
       "  </thead>\n",
       "  <tbody>\n",
       "    <tr>\n",
       "      <th>0</th>\n",
       "      <td>1</td>\n",
       "      <td>0</td>\n",
       "      <td>0</td>\n",
       "      <td>0</td>\n",
       "      <td>1</td>\n",
       "      <td>0</td>\n",
       "      <td>0</td>\n",
       "      <td>0</td>\n",
       "      <td>0</td>\n",
       "      <td>1</td>\n",
       "      <td>...</td>\n",
       "      <td>0</td>\n",
       "      <td>0</td>\n",
       "      <td>0</td>\n",
       "      <td>0</td>\n",
       "      <td>0</td>\n",
       "      <td>0</td>\n",
       "      <td>0</td>\n",
       "      <td>0</td>\n",
       "      <td>0</td>\n",
       "      <td>1</td>\n",
       "    </tr>\n",
       "    <tr>\n",
       "      <th>1</th>\n",
       "      <td>0</td>\n",
       "      <td>0</td>\n",
       "      <td>0</td>\n",
       "      <td>0</td>\n",
       "      <td>0</td>\n",
       "      <td>1</td>\n",
       "      <td>1</td>\n",
       "      <td>0</td>\n",
       "      <td>0</td>\n",
       "      <td>0</td>\n",
       "      <td>...</td>\n",
       "      <td>0</td>\n",
       "      <td>0</td>\n",
       "      <td>0</td>\n",
       "      <td>0</td>\n",
       "      <td>0</td>\n",
       "      <td>2</td>\n",
       "      <td>0</td>\n",
       "      <td>0</td>\n",
       "      <td>0</td>\n",
       "      <td>0</td>\n",
       "    </tr>\n",
       "    <tr>\n",
       "      <th>2</th>\n",
       "      <td>0</td>\n",
       "      <td>0</td>\n",
       "      <td>0</td>\n",
       "      <td>0</td>\n",
       "      <td>1</td>\n",
       "      <td>0</td>\n",
       "      <td>0</td>\n",
       "      <td>1</td>\n",
       "      <td>0</td>\n",
       "      <td>0</td>\n",
       "      <td>...</td>\n",
       "      <td>2</td>\n",
       "      <td>0</td>\n",
       "      <td>1</td>\n",
       "      <td>0</td>\n",
       "      <td>1</td>\n",
       "      <td>0</td>\n",
       "      <td>1</td>\n",
       "      <td>1</td>\n",
       "      <td>0</td>\n",
       "      <td>0</td>\n",
       "    </tr>\n",
       "    <tr>\n",
       "      <th>3</th>\n",
       "      <td>0</td>\n",
       "      <td>0</td>\n",
       "      <td>0</td>\n",
       "      <td>1</td>\n",
       "      <td>0</td>\n",
       "      <td>0</td>\n",
       "      <td>0</td>\n",
       "      <td>0</td>\n",
       "      <td>1</td>\n",
       "      <td>0</td>\n",
       "      <td>...</td>\n",
       "      <td>1</td>\n",
       "      <td>0</td>\n",
       "      <td>1</td>\n",
       "      <td>1</td>\n",
       "      <td>0</td>\n",
       "      <td>0</td>\n",
       "      <td>0</td>\n",
       "      <td>2</td>\n",
       "      <td>0</td>\n",
       "      <td>0</td>\n",
       "    </tr>\n",
       "    <tr>\n",
       "      <th>4</th>\n",
       "      <td>0</td>\n",
       "      <td>1</td>\n",
       "      <td>1</td>\n",
       "      <td>0</td>\n",
       "      <td>0</td>\n",
       "      <td>0</td>\n",
       "      <td>0</td>\n",
       "      <td>0</td>\n",
       "      <td>0</td>\n",
       "      <td>0</td>\n",
       "      <td>...</td>\n",
       "      <td>0</td>\n",
       "      <td>1</td>\n",
       "      <td>0</td>\n",
       "      <td>0</td>\n",
       "      <td>0</td>\n",
       "      <td>0</td>\n",
       "      <td>0</td>\n",
       "      <td>0</td>\n",
       "      <td>1</td>\n",
       "      <td>0</td>\n",
       "    </tr>\n",
       "  </tbody>\n",
       "</table>\n",
       "<p>5 rows × 38 columns</p>\n",
       "</div>"
      ],
      "text/plain": [
       "   already  always  annoys  anything  be  body  books  change  don  else  ...  \\\n",
       "0        1       0       0         0   1     0      0       0    0     1  ...   \n",
       "1        0       0       0         0   0     1      1       0    0     0  ...   \n",
       "2        0       0       0         0   1     0      0       1    0     0  ...   \n",
       "3        0       0       0         1   0     0      0       0    1     0  ...   \n",
       "4        0       1       1         0   0     0      0       0    0     0  ...   \n",
       "\n",
       "   the  them  to  truth  wish  without  world  you  your  yourself  \n",
       "0    0     0   0      0     0        0      0    0     0         1  \n",
       "1    0     0   0      0     0        2      0    0     0         0  \n",
       "2    2     0   1      0     1        0      1    1     0         0  \n",
       "3    1     0   1      1     0        0      0    2     0         0  \n",
       "4    0     1   0      0     0        0      0    0     1         0  \n",
       "\n",
       "[5 rows x 38 columns]"
      ]
     },
     "execution_count": 18,
     "metadata": {},
     "output_type": "execute_result"
    }
   ],
   "source": [
    "pd.DataFrame(transformed_vector.toarray(), columns=count_vectorizer.get_feature_names())"
   ]
  },
  {
   "cell_type": "markdown",
   "metadata": {},
   "source": [
    "- Deals with the matter of frequency only\n",
    "- The other drawbacks remain"
   ]
  },
  {
   "cell_type": "markdown",
   "metadata": {},
   "source": [
    "## N-Grams"
   ]
  },
  {
   "cell_type": "code",
   "execution_count": 19,
   "metadata": {
    "ExecuteTime": {
     "end_time": "2020-12-09T18:21:59.679259Z",
     "start_time": "2020-12-09T18:21:59.664913Z"
    }
   },
   "outputs": [
    {
     "data": {
      "text/plain": [
       "['Be yourself; everyone else is already taken.',\n",
       " 'A room without books is like a body without a soul.',\n",
       " 'Be the change that you wish to see in the world.',\n",
       " \"If you tell the truth, you don't have to remember anything.\",\n",
       " 'Always forgive your enemies; nothing annoys them so much.']"
      ]
     },
     "execution_count": 19,
     "metadata": {},
     "output_type": "execute_result"
    }
   ],
   "source": [
    "train_text"
   ]
  },
  {
   "cell_type": "markdown",
   "metadata": {},
   "source": [
    "### Bigram"
   ]
  },
  {
   "cell_type": "code",
   "execution_count": 20,
   "metadata": {
    "ExecuteTime": {
     "end_time": "2020-12-09T18:21:59.694220Z",
     "start_time": "2020-12-09T18:21:59.680256Z"
    }
   },
   "outputs": [],
   "source": [
    "n_gram_vectorizer = CountVectorizer(ngram_range=(2, 2))"
   ]
  },
  {
   "cell_type": "code",
   "execution_count": 21,
   "metadata": {
    "ExecuteTime": {
     "end_time": "2020-12-09T18:21:59.709178Z",
     "start_time": "2020-12-09T18:21:59.695215Z"
    }
   },
   "outputs": [
    {
     "data": {
      "text/plain": [
       "(5, 41)"
      ]
     },
     "execution_count": 21,
     "metadata": {},
     "output_type": "execute_result"
    }
   ],
   "source": [
    "transformed_vector = n_gram_vectorizer.fit_transform(train_text)\n",
    "\n",
    "transformed_vector.shape"
   ]
  },
  {
   "cell_type": "code",
   "execution_count": 22,
   "metadata": {
    "ExecuteTime": {
     "end_time": "2020-12-09T18:21:59.725136Z",
     "start_time": "2020-12-09T18:21:59.712170Z"
    }
   },
   "outputs": [
    {
     "data": {
      "text/html": [
       "<div>\n",
       "<style scoped>\n",
       "    .dataframe tbody tr th:only-of-type {\n",
       "        vertical-align: middle;\n",
       "    }\n",
       "\n",
       "    .dataframe tbody tr th {\n",
       "        vertical-align: top;\n",
       "    }\n",
       "\n",
       "    .dataframe thead th {\n",
       "        text-align: right;\n",
       "    }\n",
       "</style>\n",
       "<table border=\"1\" class=\"dataframe\">\n",
       "  <thead>\n",
       "    <tr style=\"text-align: right;\">\n",
       "      <th></th>\n",
       "      <th>already taken</th>\n",
       "      <th>always forgive</th>\n",
       "      <th>annoys them</th>\n",
       "      <th>be the</th>\n",
       "      <th>be yourself</th>\n",
       "      <th>body without</th>\n",
       "      <th>books is</th>\n",
       "      <th>change that</th>\n",
       "      <th>don have</th>\n",
       "      <th>else is</th>\n",
       "      <th>...</th>\n",
       "      <th>to see</th>\n",
       "      <th>truth you</th>\n",
       "      <th>wish to</th>\n",
       "      <th>without books</th>\n",
       "      <th>without soul</th>\n",
       "      <th>you don</th>\n",
       "      <th>you tell</th>\n",
       "      <th>you wish</th>\n",
       "      <th>your enemies</th>\n",
       "      <th>yourself everyone</th>\n",
       "    </tr>\n",
       "  </thead>\n",
       "  <tbody>\n",
       "    <tr>\n",
       "      <th>0</th>\n",
       "      <td>1</td>\n",
       "      <td>0</td>\n",
       "      <td>0</td>\n",
       "      <td>0</td>\n",
       "      <td>1</td>\n",
       "      <td>0</td>\n",
       "      <td>0</td>\n",
       "      <td>0</td>\n",
       "      <td>0</td>\n",
       "      <td>1</td>\n",
       "      <td>...</td>\n",
       "      <td>0</td>\n",
       "      <td>0</td>\n",
       "      <td>0</td>\n",
       "      <td>0</td>\n",
       "      <td>0</td>\n",
       "      <td>0</td>\n",
       "      <td>0</td>\n",
       "      <td>0</td>\n",
       "      <td>0</td>\n",
       "      <td>1</td>\n",
       "    </tr>\n",
       "    <tr>\n",
       "      <th>1</th>\n",
       "      <td>0</td>\n",
       "      <td>0</td>\n",
       "      <td>0</td>\n",
       "      <td>0</td>\n",
       "      <td>0</td>\n",
       "      <td>1</td>\n",
       "      <td>1</td>\n",
       "      <td>0</td>\n",
       "      <td>0</td>\n",
       "      <td>0</td>\n",
       "      <td>...</td>\n",
       "      <td>0</td>\n",
       "      <td>0</td>\n",
       "      <td>0</td>\n",
       "      <td>1</td>\n",
       "      <td>1</td>\n",
       "      <td>0</td>\n",
       "      <td>0</td>\n",
       "      <td>0</td>\n",
       "      <td>0</td>\n",
       "      <td>0</td>\n",
       "    </tr>\n",
       "    <tr>\n",
       "      <th>2</th>\n",
       "      <td>0</td>\n",
       "      <td>0</td>\n",
       "      <td>0</td>\n",
       "      <td>1</td>\n",
       "      <td>0</td>\n",
       "      <td>0</td>\n",
       "      <td>0</td>\n",
       "      <td>1</td>\n",
       "      <td>0</td>\n",
       "      <td>0</td>\n",
       "      <td>...</td>\n",
       "      <td>1</td>\n",
       "      <td>0</td>\n",
       "      <td>1</td>\n",
       "      <td>0</td>\n",
       "      <td>0</td>\n",
       "      <td>0</td>\n",
       "      <td>0</td>\n",
       "      <td>1</td>\n",
       "      <td>0</td>\n",
       "      <td>0</td>\n",
       "    </tr>\n",
       "    <tr>\n",
       "      <th>3</th>\n",
       "      <td>0</td>\n",
       "      <td>0</td>\n",
       "      <td>0</td>\n",
       "      <td>0</td>\n",
       "      <td>0</td>\n",
       "      <td>0</td>\n",
       "      <td>0</td>\n",
       "      <td>0</td>\n",
       "      <td>1</td>\n",
       "      <td>0</td>\n",
       "      <td>...</td>\n",
       "      <td>0</td>\n",
       "      <td>1</td>\n",
       "      <td>0</td>\n",
       "      <td>0</td>\n",
       "      <td>0</td>\n",
       "      <td>1</td>\n",
       "      <td>1</td>\n",
       "      <td>0</td>\n",
       "      <td>0</td>\n",
       "      <td>0</td>\n",
       "    </tr>\n",
       "    <tr>\n",
       "      <th>4</th>\n",
       "      <td>0</td>\n",
       "      <td>1</td>\n",
       "      <td>1</td>\n",
       "      <td>0</td>\n",
       "      <td>0</td>\n",
       "      <td>0</td>\n",
       "      <td>0</td>\n",
       "      <td>0</td>\n",
       "      <td>0</td>\n",
       "      <td>0</td>\n",
       "      <td>...</td>\n",
       "      <td>0</td>\n",
       "      <td>0</td>\n",
       "      <td>0</td>\n",
       "      <td>0</td>\n",
       "      <td>0</td>\n",
       "      <td>0</td>\n",
       "      <td>0</td>\n",
       "      <td>0</td>\n",
       "      <td>1</td>\n",
       "      <td>0</td>\n",
       "    </tr>\n",
       "  </tbody>\n",
       "</table>\n",
       "<p>5 rows × 41 columns</p>\n",
       "</div>"
      ],
      "text/plain": [
       "   already taken  always forgive  annoys them  be the  be yourself  \\\n",
       "0              1               0            0       0            1   \n",
       "1              0               0            0       0            0   \n",
       "2              0               0            0       1            0   \n",
       "3              0               0            0       0            0   \n",
       "4              0               1            1       0            0   \n",
       "\n",
       "   body without  books is  change that  don have  else is  ...  to see  \\\n",
       "0             0         0            0         0        1  ...       0   \n",
       "1             1         1            0         0        0  ...       0   \n",
       "2             0         0            1         0        0  ...       1   \n",
       "3             0         0            0         1        0  ...       0   \n",
       "4             0         0            0         0        0  ...       0   \n",
       "\n",
       "   truth you  wish to  without books  without soul  you don  you tell  \\\n",
       "0          0        0              0             0        0         0   \n",
       "1          0        0              1             1        0         0   \n",
       "2          0        1              0             0        0         0   \n",
       "3          1        0              0             0        1         1   \n",
       "4          0        0              0             0        0         0   \n",
       "\n",
       "   you wish  your enemies  yourself everyone  \n",
       "0         0             0                  1  \n",
       "1         0             0                  0  \n",
       "2         1             0                  0  \n",
       "3         0             0                  0  \n",
       "4         0             1                  0  \n",
       "\n",
       "[5 rows x 41 columns]"
      ]
     },
     "execution_count": 22,
     "metadata": {},
     "output_type": "execute_result"
    }
   ],
   "source": [
    "pd.DataFrame(transformed_vector.toarray(), columns=n_gram_vectorizer.get_feature_names())"
   ]
  },
  {
   "cell_type": "code",
   "execution_count": 23,
   "metadata": {
    "ExecuteTime": {
     "end_time": "2020-12-09T18:21:59.740376Z",
     "start_time": "2020-12-09T18:21:59.727130Z"
    }
   },
   "outputs": [
    {
     "data": {
      "text/plain": [
       "{'be yourself': 4,\n",
       " 'yourself everyone': 40,\n",
       " 'everyone else': 11,\n",
       " 'else is': 9,\n",
       " 'is already': 16,\n",
       " 'already taken': 0,\n",
       " 'room without': 21,\n",
       " 'without books': 34,\n",
       " 'books is': 6,\n",
       " 'is like': 17,\n",
       " 'like body': 18,\n",
       " 'body without': 5,\n",
       " 'without soul': 35,\n",
       " 'be the': 3,\n",
       " 'the change': 26,\n",
       " 'change that': 7,\n",
       " 'that you': 25,\n",
       " 'you wish': 38,\n",
       " 'wish to': 33,\n",
       " 'to see': 31,\n",
       " 'see in': 22,\n",
       " 'in the': 15,\n",
       " 'the world': 28,\n",
       " 'if you': 14,\n",
       " 'you tell': 37,\n",
       " 'tell the': 24,\n",
       " 'the truth': 27,\n",
       " 'truth you': 32,\n",
       " 'you don': 36,\n",
       " 'don have': 8,\n",
       " 'have to': 13,\n",
       " 'to remember': 30,\n",
       " 'remember anything': 20,\n",
       " 'always forgive': 1,\n",
       " 'forgive your': 12,\n",
       " 'your enemies': 39,\n",
       " 'enemies nothing': 10,\n",
       " 'nothing annoys': 19,\n",
       " 'annoys them': 2,\n",
       " 'them so': 29,\n",
       " 'so much': 23}"
      ]
     },
     "execution_count": 23,
     "metadata": {},
     "output_type": "execute_result"
    }
   ],
   "source": [
    "n_gram_vectorizer.vocabulary_"
   ]
  },
  {
   "cell_type": "code",
   "execution_count": 24,
   "metadata": {
    "ExecuteTime": {
     "end_time": "2020-12-09T18:21:59.756333Z",
     "start_time": "2020-12-09T18:21:59.741373Z"
    }
   },
   "outputs": [
    {
     "data": {
      "text/plain": [
       "array([[1, 0, 0, 0, 1, 0, 0, 0, 0, 1, 0, 1, 0, 0, 0, 0, 1, 0, 0, 0, 0, 0,\n",
       "        0, 0, 0, 0, 0, 0, 0, 0, 0, 0, 0, 0, 0, 0, 0, 0, 0, 0, 1],\n",
       "       [0, 0, 0, 0, 0, 1, 1, 0, 0, 0, 0, 0, 0, 0, 0, 0, 0, 1, 1, 0, 0, 1,\n",
       "        0, 0, 0, 0, 0, 0, 0, 0, 0, 0, 0, 0, 1, 1, 0, 0, 0, 0, 0],\n",
       "       [0, 0, 0, 1, 0, 0, 0, 1, 0, 0, 0, 0, 0, 0, 0, 1, 0, 0, 0, 0, 0, 0,\n",
       "        1, 0, 0, 1, 1, 0, 1, 0, 0, 1, 0, 1, 0, 0, 0, 0, 1, 0, 0],\n",
       "       [0, 0, 0, 0, 0, 0, 0, 0, 1, 0, 0, 0, 0, 1, 1, 0, 0, 0, 0, 0, 1, 0,\n",
       "        0, 0, 1, 0, 0, 1, 0, 0, 1, 0, 1, 0, 0, 0, 1, 1, 0, 0, 0],\n",
       "       [0, 1, 1, 0, 0, 0, 0, 0, 0, 0, 1, 0, 1, 0, 0, 0, 0, 0, 0, 1, 0, 0,\n",
       "        0, 1, 0, 0, 0, 0, 0, 1, 0, 0, 0, 0, 0, 0, 0, 0, 0, 1, 0]],\n",
       "      dtype=int64)"
      ]
     },
     "execution_count": 24,
     "metadata": {},
     "output_type": "execute_result"
    }
   ],
   "source": [
    "transformed_vector.toarray()"
   ]
  },
  {
   "cell_type": "code",
   "execution_count": 25,
   "metadata": {
    "ExecuteTime": {
     "end_time": "2020-12-09T18:21:59.771319Z",
     "start_time": "2020-12-09T18:21:59.757329Z"
    }
   },
   "outputs": [
    {
     "data": {
      "text/plain": [
       "[array(['be yourself', 'yourself everyone', 'everyone else', 'else is',\n",
       "        'is already', 'already taken'], dtype='<U17'),\n",
       " array(['room without', 'without books', 'books is', 'is like',\n",
       "        'like body', 'body without', 'without soul'], dtype='<U17'),\n",
       " array(['be the', 'the change', 'change that', 'that you', 'you wish',\n",
       "        'wish to', 'to see', 'see in', 'in the', 'the world'], dtype='<U17'),\n",
       " array(['if you', 'you tell', 'tell the', 'the truth', 'truth you',\n",
       "        'you don', 'don have', 'have to', 'to remember',\n",
       "        'remember anything'], dtype='<U17'),\n",
       " array(['always forgive', 'forgive your', 'your enemies',\n",
       "        'enemies nothing', 'nothing annoys', 'annoys them', 'them so',\n",
       "        'so much'], dtype='<U17')]"
      ]
     },
     "execution_count": 25,
     "metadata": {},
     "output_type": "execute_result"
    }
   ],
   "source": [
    "n_gram_vectorizer.inverse_transform(transformed_vector)"
   ]
  },
  {
   "cell_type": "markdown",
   "metadata": {},
   "source": [
    "- Usually able to find authorship patterns"
   ]
  },
  {
   "cell_type": "code",
   "execution_count": 26,
   "metadata": {
    "ExecuteTime": {
     "end_time": "2020-12-09T18:22:02.154327Z",
     "start_time": "2020-12-09T18:21:59.772316Z"
    }
   },
   "outputs": [
    {
     "data": {
      "text/plain": [
       "CountVectorizer(ngram_range=(2, 2))"
      ]
     },
     "execution_count": 26,
     "metadata": {},
     "output_type": "execute_result"
    }
   ],
   "source": [
    "n_gram_vectorizer = CountVectorizer(ngram_range=(2, 2))\n",
    "n_gram_vectorizer.fit(imdb.review)"
   ]
  },
  {
   "cell_type": "code",
   "execution_count": 27,
   "metadata": {
    "ExecuteTime": {
     "end_time": "2020-12-09T18:22:02.170285Z",
     "start_time": "2020-12-09T18:22:02.155325Z"
    }
   },
   "outputs": [
    {
     "data": {
      "text/plain": [
       "434117"
      ]
     },
     "execution_count": 27,
     "metadata": {},
     "output_type": "execute_result"
    }
   ],
   "source": [
    "len(n_gram_vectorizer.vocabulary_)"
   ]
  },
  {
   "cell_type": "markdown",
   "metadata": {},
   "source": [
    "## Tf-IDf\n",
    "\n",
    "- Term frequency - if a word occurs often in a document, the algorithm will consider the word important\n",
    "\n",
    "- Inverse Document Frequency - if a word occurs frequently on the **corpus**, it means it has few information (information theory)"
   ]
  },
  {
   "cell_type": "code",
   "execution_count": 4,
   "metadata": {
    "ExecuteTime": {
     "end_time": "2021-05-13T13:54:22.370447Z",
     "start_time": "2021-05-13T13:54:22.364463Z"
    }
   },
   "outputs": [
    {
     "data": {
      "text/plain": [
       "['Be yourself; everyone else is already taken change.',\n",
       " 'A room without books is like a body without a soul .',\n",
       " 'Be the change that you wish to see in the world and change everything, this would change it all!.',\n",
       " \"If you tell the truth, you don't have to remember change anything.\",\n",
       " 'Always forgive your enemies; nothing annoys change them so much.']"
      ]
     },
     "execution_count": 4,
     "metadata": {},
     "output_type": "execute_result"
    }
   ],
   "source": [
    "train_text = ['Be yourself; everyone else is already taken change.',\n",
    "             'A room without books is like a body without a soul .',\n",
    "             'Be the change that you wish to see in the world and change everything, this would change it all!.',\n",
    "             \"If you tell the truth, you don't have to remember change anything.\",\n",
    "             'Always forgive your enemies; nothing annoys change them so much.']\n",
    "\n",
    "train_text"
   ]
  },
  {
   "cell_type": "code",
   "execution_count": 5,
   "metadata": {
    "ExecuteTime": {
     "end_time": "2021-05-13T13:54:22.698949Z",
     "start_time": "2021-05-13T13:54:22.662031Z"
    }
   },
   "outputs": [],
   "source": [
    "from sklearn.feature_extraction.text import TfidfVectorizer, TfidfTransformer\n",
    "\n",
    "tfidf_vectorizer = TfidfVectorizer()"
   ]
  },
  {
   "cell_type": "code",
   "execution_count": 6,
   "metadata": {
    "ExecuteTime": {
     "end_time": "2021-05-13T13:54:23.465561Z",
     "start_time": "2021-05-13T13:54:23.432662Z"
    },
    "scrolled": true
   },
   "outputs": [
    {
     "data": {
      "text/plain": [
       "{'be': 6,\n",
       " 'yourself': 43,\n",
       " 'everyone': 13,\n",
       " 'else': 11,\n",
       " 'is': 19,\n",
       " 'already': 1,\n",
       " 'taken': 29,\n",
       " 'change': 9,\n",
       " 'room': 25,\n",
       " 'without': 38,\n",
       " 'books': 8,\n",
       " 'like': 21,\n",
       " 'body': 7,\n",
       " 'soul': 28,\n",
       " 'the': 32,\n",
       " 'that': 31,\n",
       " 'you': 41,\n",
       " 'wish': 37,\n",
       " 'to': 35,\n",
       " 'see': 26,\n",
       " 'in': 18,\n",
       " 'world': 39,\n",
       " 'and': 3,\n",
       " 'everything': 14,\n",
       " 'this': 34,\n",
       " 'would': 40,\n",
       " 'it': 20,\n",
       " 'all': 0,\n",
       " 'if': 17,\n",
       " 'tell': 30,\n",
       " 'truth': 36,\n",
       " 'don': 10,\n",
       " 'have': 16,\n",
       " 'remember': 24,\n",
       " 'anything': 5,\n",
       " 'always': 2,\n",
       " 'forgive': 15,\n",
       " 'your': 42,\n",
       " 'enemies': 12,\n",
       " 'nothing': 23,\n",
       " 'annoys': 4,\n",
       " 'them': 33,\n",
       " 'so': 27,\n",
       " 'much': 22}"
      ]
     },
     "execution_count": 6,
     "metadata": {},
     "output_type": "execute_result"
    }
   ],
   "source": [
    "tfidf_vector = tfidf_vectorizer.fit_transform(train_text)\n",
    "\n",
    "tfidf_vectorizer.vocabulary_"
   ]
  },
  {
   "cell_type": "code",
   "execution_count": 7,
   "metadata": {
    "ExecuteTime": {
     "end_time": "2021-05-13T13:54:28.089607Z",
     "start_time": "2021-05-13T13:54:28.070658Z"
    },
    "scrolled": true
   },
   "outputs": [
    {
     "data": {
      "text/plain": [
       "array([[0.        , 0.38868358, 0.        , 0.        , 0.        ,\n",
       "        0.        , 0.31358747, 0.        , 0.        , 0.21897755,\n",
       "        0.        , 0.38868358, 0.        , 0.38868358, 0.        ,\n",
       "        0.        , 0.        , 0.        , 0.        , 0.31358747,\n",
       "        0.        , 0.        , 0.        , 0.        , 0.        ,\n",
       "        0.        , 0.        , 0.        , 0.        , 0.38868358,\n",
       "        0.        , 0.        , 0.        , 0.        , 0.        ,\n",
       "        0.        , 0.        , 0.        , 0.        , 0.        ,\n",
       "        0.        , 0.        , 0.        , 0.38868358],\n",
       "       [0.        , 0.        , 0.        , 0.        , 0.        ,\n",
       "        0.        , 0.        , 0.32189611, 0.32189611, 0.        ,\n",
       "        0.        , 0.        , 0.        , 0.        , 0.        ,\n",
       "        0.        , 0.        , 0.        , 0.        , 0.25970376,\n",
       "        0.        , 0.32189611, 0.        , 0.        , 0.        ,\n",
       "        0.32189611, 0.        , 0.        , 0.32189611, 0.        ,\n",
       "        0.        , 0.        , 0.        , 0.        , 0.        ,\n",
       "        0.        , 0.        , 0.        , 0.64379222, 0.        ,\n",
       "        0.        , 0.        , 0.        , 0.        ],\n",
       "       [0.23304382, 0.        , 0.        , 0.23304382, 0.        ,\n",
       "        0.        , 0.18801828, 0.        , 0.        , 0.39387846,\n",
       "        0.        , 0.        , 0.        , 0.        , 0.23304382,\n",
       "        0.        , 0.        , 0.        , 0.23304382, 0.        ,\n",
       "        0.23304382, 0.        , 0.        , 0.        , 0.        ,\n",
       "        0.        , 0.23304382, 0.        , 0.        , 0.        ,\n",
       "        0.        , 0.23304382, 0.37603657, 0.        , 0.23304382,\n",
       "        0.18801828, 0.        , 0.23304382, 0.        , 0.23304382,\n",
       "        0.23304382, 0.18801828, 0.        , 0.        ],\n",
       "       [0.        , 0.        , 0.        , 0.        , 0.        ,\n",
       "        0.29850219, 0.        , 0.        , 0.        , 0.16817093,\n",
       "        0.29850219, 0.        , 0.        , 0.        , 0.        ,\n",
       "        0.        , 0.29850219, 0.29850219, 0.        , 0.        ,\n",
       "        0.        , 0.        , 0.        , 0.        , 0.29850219,\n",
       "        0.        , 0.        , 0.        , 0.        , 0.        ,\n",
       "        0.29850219, 0.        , 0.24082969, 0.        , 0.        ,\n",
       "        0.24082969, 0.29850219, 0.        , 0.        , 0.        ,\n",
       "        0.        , 0.48165938, 0.        , 0.        ],\n",
       "       [0.        , 0.        , 0.32760659, 0.        , 0.32760659,\n",
       "        0.        , 0.        , 0.        , 0.        , 0.18456784,\n",
       "        0.        , 0.        , 0.32760659, 0.        , 0.        ,\n",
       "        0.32760659, 0.        , 0.        , 0.        , 0.        ,\n",
       "        0.        , 0.        , 0.32760659, 0.32760659, 0.        ,\n",
       "        0.        , 0.        , 0.32760659, 0.        , 0.        ,\n",
       "        0.        , 0.        , 0.        , 0.32760659, 0.        ,\n",
       "        0.        , 0.        , 0.        , 0.        , 0.        ,\n",
       "        0.        , 0.        , 0.32760659, 0.        ]])"
      ]
     },
     "execution_count": 7,
     "metadata": {},
     "output_type": "execute_result"
    }
   ],
   "source": [
    "tfidf_vector.toarray()"
   ]
  },
  {
   "cell_type": "code",
   "execution_count": 12,
   "metadata": {
    "ExecuteTime": {
     "end_time": "2021-05-13T13:56:23.546942Z",
     "start_time": "2021-05-13T13:56:23.534974Z"
    }
   },
   "outputs": [
    {
     "data": {
      "text/html": [
       "<div>\n",
       "<style scoped>\n",
       "    .dataframe tbody tr th:only-of-type {\n",
       "        vertical-align: middle;\n",
       "    }\n",
       "\n",
       "    .dataframe tbody tr th {\n",
       "        vertical-align: top;\n",
       "    }\n",
       "\n",
       "    .dataframe thead th {\n",
       "        text-align: right;\n",
       "    }\n",
       "</style>\n",
       "<table border=\"1\" class=\"dataframe\">\n",
       "  <thead>\n",
       "    <tr style=\"text-align: right;\">\n",
       "      <th></th>\n",
       "      <th>world</th>\n",
       "      <th>would</th>\n",
       "      <th>you</th>\n",
       "      <th>your</th>\n",
       "      <th>yourself</th>\n",
       "    </tr>\n",
       "  </thead>\n",
       "  <tbody>\n",
       "    <tr>\n",
       "      <th>0</th>\n",
       "      <td>0.000000</td>\n",
       "      <td>0.000000</td>\n",
       "      <td>0.000000</td>\n",
       "      <td>0.000000</td>\n",
       "      <td>0.388684</td>\n",
       "    </tr>\n",
       "    <tr>\n",
       "      <th>1</th>\n",
       "      <td>0.000000</td>\n",
       "      <td>0.000000</td>\n",
       "      <td>0.000000</td>\n",
       "      <td>0.000000</td>\n",
       "      <td>0.000000</td>\n",
       "    </tr>\n",
       "    <tr>\n",
       "      <th>2</th>\n",
       "      <td>0.233044</td>\n",
       "      <td>0.233044</td>\n",
       "      <td>0.188018</td>\n",
       "      <td>0.000000</td>\n",
       "      <td>0.000000</td>\n",
       "    </tr>\n",
       "    <tr>\n",
       "      <th>3</th>\n",
       "      <td>0.000000</td>\n",
       "      <td>0.000000</td>\n",
       "      <td>0.481659</td>\n",
       "      <td>0.000000</td>\n",
       "      <td>0.000000</td>\n",
       "    </tr>\n",
       "    <tr>\n",
       "      <th>4</th>\n",
       "      <td>0.000000</td>\n",
       "      <td>0.000000</td>\n",
       "      <td>0.000000</td>\n",
       "      <td>0.327607</td>\n",
       "      <td>0.000000</td>\n",
       "    </tr>\n",
       "  </tbody>\n",
       "</table>\n",
       "</div>"
      ],
      "text/plain": [
       "      world     would       you      your  yourself\n",
       "0  0.000000  0.000000  0.000000  0.000000  0.388684\n",
       "1  0.000000  0.000000  0.000000  0.000000  0.000000\n",
       "2  0.233044  0.233044  0.188018  0.000000  0.000000\n",
       "3  0.000000  0.000000  0.481659  0.000000  0.000000\n",
       "4  0.000000  0.000000  0.000000  0.327607  0.000000"
      ]
     },
     "execution_count": 12,
     "metadata": {},
     "output_type": "execute_result"
    }
   ],
   "source": [
    "pd.DataFrame(tfidf_vector.toarray(), columns=tfidf_vectorizer.get_feature_names()).iloc[:,-5:]"
   ]
  },
  {
   "cell_type": "code",
   "execution_count": 33,
   "metadata": {
    "ExecuteTime": {
     "end_time": "2020-12-09T18:22:02.264034Z",
     "start_time": "2020-12-09T18:22:02.249073Z"
    }
   },
   "outputs": [
    {
     "data": {
      "text/plain": [
       "['Be yourself; everyone else is already taken change.',\n",
       " 'A room without books is like a body without a soul .',\n",
       " 'Be the change that you wish to see in the world and change everything, this would change it all!.',\n",
       " \"If you tell the truth, you don't have to remember change anything.\",\n",
       " 'Always forgive your enemies; nothing annoys change them so much.']"
      ]
     },
     "execution_count": 33,
     "metadata": {},
     "output_type": "execute_result"
    }
   ],
   "source": [
    "train_text"
   ]
  },
  {
   "cell_type": "markdown",
   "metadata": {},
   "source": [
    "- still not capturing context."
   ]
  },
  {
   "cell_type": "markdown",
   "metadata": {},
   "source": [
    "## Word Embeddings"
   ]
  },
  {
   "cell_type": "markdown",
   "metadata": {},
   "source": [
    "London - **2343432**900\n",
    "\n",
    "Paris - **2343432**382"
   ]
  },
  {
   "cell_type": "markdown",
   "metadata": {},
   "source": [
    "- word2vec"
   ]
  },
  {
   "cell_type": "markdown",
   "metadata": {},
   "source": [
    "London - England\n",
    "\n",
    "Paris - France\n",
    "\n",
    "-----\n",
    "Queen - King\n",
    "\n",
    "Woman - Man"
   ]
  },
  {
   "cell_type": "code",
   "execution_count": 59,
   "metadata": {
    "ExecuteTime": {
     "end_time": "2021-05-13T15:18:09.945231Z",
     "start_time": "2021-05-13T15:18:08.539503Z"
    }
   },
   "outputs": [
    {
     "name": "stdout",
     "output_type": "stream",
     "text": [
      "Requirement already satisfied: gensim in c:\\users\\raian\\appdata\\local\\programs\\python\\python39\\lib\\site-packages (4.0.1)\n",
      "Requirement already satisfied: scipy>=0.18.1 in c:\\users\\raian\\appdata\\local\\programs\\python\\python39\\lib\\site-packages (from gensim) (1.5.4)\n",
      "Requirement already satisfied: numpy>=1.11.3 in c:\\users\\raian\\appdata\\local\\programs\\python\\python39\\lib\\site-packages (from gensim) (1.19.5)\n",
      "Requirement already satisfied: smart-open>=1.8.1 in c:\\users\\raian\\appdata\\local\\programs\\python\\python39\\lib\\site-packages (from gensim) (5.0.0)\n"
     ]
    }
   ],
   "source": [
    "!pip install gensim\n",
    "# conda install -c anaconda gensim\n",
    "# recomended tutorial https://www.machinelearningplus.com/nlp/topic-modeling-gensim-python/"
   ]
  },
  {
   "cell_type": "code",
   "execution_count": 91,
   "metadata": {
    "ExecuteTime": {
     "end_time": "2021-05-13T15:33:49.359554Z",
     "start_time": "2021-05-13T15:33:49.341097Z"
    },
    "scrolled": true
   },
   "outputs": [],
   "source": [
    "from gensim.models.word2vec import Word2Vec\n",
    "from multiprocessing import cpu_count\n",
    "\n",
    "# Download dataset\n",
    "texts\n",
    "model = Word2Vec(texts, min_count = 0)"
   ]
  },
  {
   "cell_type": "code",
   "execution_count": 102,
   "metadata": {
    "ExecuteTime": {
     "end_time": "2021-05-13T15:44:57.355509Z",
     "start_time": "2021-05-13T15:42:22.993661Z"
    }
   },
   "outputs": [
    {
     "name": "stdout",
     "output_type": "stream",
     "text": [
      "[--------------------------------------------------] 1.4% 23.4/1662.8MB downloaded"
     ]
    },
    {
     "name": "stderr",
     "output_type": "stream",
     "text": [
      "IOPub message rate exceeded.\n",
      "The notebook server will temporarily stop sending output\n",
      "to the client in order to avoid crashing it.\n",
      "To change this limit, set the config variable\n",
      "`--NotebookApp.iopub_msg_rate_limit`.\n",
      "\n",
      "Current values:\n",
      "NotebookApp.iopub_msg_rate_limit=1000.0 (msgs/sec)\n",
      "NotebookApp.rate_limit_window=3.0 (secs)\n",
      "\n"
     ]
    },
    {
     "name": "stdout",
     "output_type": "stream",
     "text": [
      "[=-------------------------------------------------] 4.0% 65.9/1662.8MB downloaded"
     ]
    },
    {
     "name": "stderr",
     "output_type": "stream",
     "text": [
      "IOPub message rate exceeded.\n",
      "The notebook server will temporarily stop sending output\n",
      "to the client in order to avoid crashing it.\n",
      "To change this limit, set the config variable\n",
      "`--NotebookApp.iopub_msg_rate_limit`.\n",
      "\n",
      "Current values:\n",
      "NotebookApp.iopub_msg_rate_limit=1000.0 (msgs/sec)\n",
      "NotebookApp.rate_limit_window=3.0 (secs)\n",
      "\n"
     ]
    },
    {
     "name": "stdout",
     "output_type": "stream",
     "text": [
      "[===-----------------------------------------------] 6.5% 107.9/1662.8MB downloaded"
     ]
    },
    {
     "name": "stderr",
     "output_type": "stream",
     "text": [
      "IOPub message rate exceeded.\n",
      "The notebook server will temporarily stop sending output\n",
      "to the client in order to avoid crashing it.\n",
      "To change this limit, set the config variable\n",
      "`--NotebookApp.iopub_msg_rate_limit`.\n",
      "\n",
      "Current values:\n",
      "NotebookApp.iopub_msg_rate_limit=1000.0 (msgs/sec)\n",
      "NotebookApp.rate_limit_window=3.0 (secs)\n",
      "\n"
     ]
    },
    {
     "name": "stdout",
     "output_type": "stream",
     "text": [
      "[====----------------------------------------------] 9.0% 150.4/1662.8MB downloaded"
     ]
    },
    {
     "name": "stderr",
     "output_type": "stream",
     "text": [
      "IOPub message rate exceeded.\n",
      "The notebook server will temporarily stop sending output\n",
      "to the client in order to avoid crashing it.\n",
      "To change this limit, set the config variable\n",
      "`--NotebookApp.iopub_msg_rate_limit`.\n",
      "\n",
      "Current values:\n",
      "NotebookApp.iopub_msg_rate_limit=1000.0 (msgs/sec)\n",
      "NotebookApp.rate_limit_window=3.0 (secs)\n",
      "\n"
     ]
    },
    {
     "name": "stdout",
     "output_type": "stream",
     "text": [
      "[=====---------------------------------------------] 11.5% 192.0/1662.8MB downloaded"
     ]
    },
    {
     "name": "stderr",
     "output_type": "stream",
     "text": [
      "IOPub message rate exceeded.\n",
      "The notebook server will temporarily stop sending output\n",
      "to the client in order to avoid crashing it.\n",
      "To change this limit, set the config variable\n",
      "`--NotebookApp.iopub_msg_rate_limit`.\n",
      "\n",
      "Current values:\n",
      "NotebookApp.iopub_msg_rate_limit=1000.0 (msgs/sec)\n",
      "NotebookApp.rate_limit_window=3.0 (secs)\n",
      "\n"
     ]
    },
    {
     "name": "stdout",
     "output_type": "stream",
     "text": [
      "[=======-------------------------------------------] 15.0% 249.9/1662.8MB downloaded"
     ]
    },
    {
     "name": "stderr",
     "output_type": "stream",
     "text": [
      "IOPub message rate exceeded.\n",
      "The notebook server will temporarily stop sending output\n",
      "to the client in order to avoid crashing it.\n",
      "To change this limit, set the config variable\n",
      "`--NotebookApp.iopub_msg_rate_limit`.\n",
      "\n",
      "Current values:\n",
      "NotebookApp.iopub_msg_rate_limit=1000.0 (msgs/sec)\n",
      "NotebookApp.rate_limit_window=3.0 (secs)\n",
      "\n"
     ]
    },
    {
     "name": "stdout",
     "output_type": "stream",
     "text": [
      "[========------------------------------------------] 17.6% 292.2/1662.8MB downloaded"
     ]
    },
    {
     "name": "stderr",
     "output_type": "stream",
     "text": [
      "IOPub message rate exceeded.\n",
      "The notebook server will temporarily stop sending output\n",
      "to the client in order to avoid crashing it.\n",
      "To change this limit, set the config variable\n",
      "`--NotebookApp.iopub_msg_rate_limit`.\n",
      "\n",
      "Current values:\n",
      "NotebookApp.iopub_msg_rate_limit=1000.0 (msgs/sec)\n",
      "NotebookApp.rate_limit_window=3.0 (secs)\n",
      "\n"
     ]
    },
    {
     "name": "stdout",
     "output_type": "stream",
     "text": [
      "[==========----------------------------------------] 20.2% 335.5/1662.8MB downloaded"
     ]
    },
    {
     "name": "stderr",
     "output_type": "stream",
     "text": [
      "IOPub message rate exceeded.\n",
      "The notebook server will temporarily stop sending output\n",
      "to the client in order to avoid crashing it.\n",
      "To change this limit, set the config variable\n",
      "`--NotebookApp.iopub_msg_rate_limit`.\n",
      "\n",
      "Current values:\n",
      "NotebookApp.iopub_msg_rate_limit=1000.0 (msgs/sec)\n",
      "NotebookApp.rate_limit_window=3.0 (secs)\n",
      "\n"
     ]
    },
    {
     "name": "stdout",
     "output_type": "stream",
     "text": [
      "[===========---------------------------------------] 22.8% 378.9/1662.8MB downloaded"
     ]
    },
    {
     "name": "stderr",
     "output_type": "stream",
     "text": [
      "IOPub message rate exceeded.\n",
      "The notebook server will temporarily stop sending output\n",
      "to the client in order to avoid crashing it.\n",
      "To change this limit, set the config variable\n",
      "`--NotebookApp.iopub_msg_rate_limit`.\n",
      "\n",
      "Current values:\n",
      "NotebookApp.iopub_msg_rate_limit=1000.0 (msgs/sec)\n",
      "NotebookApp.rate_limit_window=3.0 (secs)\n",
      "\n"
     ]
    },
    {
     "name": "stdout",
     "output_type": "stream",
     "text": [
      "[============--------------------------------------] 25.4% 422.3/1662.8MB downloaded"
     ]
    },
    {
     "name": "stderr",
     "output_type": "stream",
     "text": [
      "IOPub message rate exceeded.\n",
      "The notebook server will temporarily stop sending output\n",
      "to the client in order to avoid crashing it.\n",
      "To change this limit, set the config variable\n",
      "`--NotebookApp.iopub_msg_rate_limit`.\n",
      "\n",
      "Current values:\n",
      "NotebookApp.iopub_msg_rate_limit=1000.0 (msgs/sec)\n",
      "NotebookApp.rate_limit_window=3.0 (secs)\n",
      "\n"
     ]
    },
    {
     "name": "stdout",
     "output_type": "stream",
     "text": [
      "[=============-------------------------------------] 28.0% 464.9/1662.8MB downloaded"
     ]
    },
    {
     "name": "stderr",
     "output_type": "stream",
     "text": [
      "IOPub message rate exceeded.\n",
      "The notebook server will temporarily stop sending output\n",
      "to the client in order to avoid crashing it.\n",
      "To change this limit, set the config variable\n",
      "`--NotebookApp.iopub_msg_rate_limit`.\n",
      "\n",
      "Current values:\n",
      "NotebookApp.iopub_msg_rate_limit=1000.0 (msgs/sec)\n",
      "NotebookApp.rate_limit_window=3.0 (secs)\n",
      "\n"
     ]
    },
    {
     "name": "stdout",
     "output_type": "stream",
     "text": [
      "[===============-----------------------------------] 30.6% 508.2/1662.8MB downloaded"
     ]
    },
    {
     "name": "stderr",
     "output_type": "stream",
     "text": [
      "IOPub message rate exceeded.\n",
      "The notebook server will temporarily stop sending output\n",
      "to the client in order to avoid crashing it.\n",
      "To change this limit, set the config variable\n",
      "`--NotebookApp.iopub_msg_rate_limit`.\n",
      "\n",
      "Current values:\n",
      "NotebookApp.iopub_msg_rate_limit=1000.0 (msgs/sec)\n",
      "NotebookApp.rate_limit_window=3.0 (secs)\n",
      "\n"
     ]
    },
    {
     "name": "stdout",
     "output_type": "stream",
     "text": [
      "[================----------------------------------] 33.2% 551.9/1662.8MB downloaded"
     ]
    },
    {
     "name": "stderr",
     "output_type": "stream",
     "text": [
      "IOPub message rate exceeded.\n",
      "The notebook server will temporarily stop sending output\n",
      "to the client in order to avoid crashing it.\n",
      "To change this limit, set the config variable\n",
      "`--NotebookApp.iopub_msg_rate_limit`.\n",
      "\n",
      "Current values:\n",
      "NotebookApp.iopub_msg_rate_limit=1000.0 (msgs/sec)\n",
      "NotebookApp.rate_limit_window=3.0 (secs)\n",
      "\n"
     ]
    },
    {
     "name": "stdout",
     "output_type": "stream",
     "text": [
      "[=================---------------------------------] 35.8% 594.6/1662.8MB downloaded"
     ]
    },
    {
     "name": "stderr",
     "output_type": "stream",
     "text": [
      "IOPub message rate exceeded.\n",
      "The notebook server will temporarily stop sending output\n",
      "to the client in order to avoid crashing it.\n",
      "To change this limit, set the config variable\n",
      "`--NotebookApp.iopub_msg_rate_limit`.\n",
      "\n",
      "Current values:\n",
      "NotebookApp.iopub_msg_rate_limit=1000.0 (msgs/sec)\n",
      "NotebookApp.rate_limit_window=3.0 (secs)\n",
      "\n"
     ]
    },
    {
     "name": "stdout",
     "output_type": "stream",
     "text": [
      "[===================-------------------------------] 38.4% 638.0/1662.8MB downloaded"
     ]
    },
    {
     "name": "stderr",
     "output_type": "stream",
     "text": [
      "IOPub message rate exceeded.\n",
      "The notebook server will temporarily stop sending output\n",
      "to the client in order to avoid crashing it.\n",
      "To change this limit, set the config variable\n",
      "`--NotebookApp.iopub_msg_rate_limit`.\n",
      "\n",
      "Current values:\n",
      "NotebookApp.iopub_msg_rate_limit=1000.0 (msgs/sec)\n",
      "NotebookApp.rate_limit_window=3.0 (secs)\n",
      "\n"
     ]
    },
    {
     "name": "stdout",
     "output_type": "stream",
     "text": [
      "[====================------------------------------] 41.0% 681.4/1662.8MB downloaded"
     ]
    },
    {
     "name": "stderr",
     "output_type": "stream",
     "text": [
      "IOPub message rate exceeded.\n",
      "The notebook server will temporarily stop sending output\n",
      "to the client in order to avoid crashing it.\n",
      "To change this limit, set the config variable\n",
      "`--NotebookApp.iopub_msg_rate_limit`.\n",
      "\n",
      "Current values:\n",
      "NotebookApp.iopub_msg_rate_limit=1000.0 (msgs/sec)\n",
      "NotebookApp.rate_limit_window=3.0 (secs)\n",
      "\n"
     ]
    },
    {
     "name": "stdout",
     "output_type": "stream",
     "text": [
      "[=====================-----------------------------] 43.6% 724.4/1662.8MB downloaded"
     ]
    },
    {
     "name": "stderr",
     "output_type": "stream",
     "text": [
      "IOPub message rate exceeded.\n",
      "The notebook server will temporarily stop sending output\n",
      "to the client in order to avoid crashing it.\n",
      "To change this limit, set the config variable\n",
      "`--NotebookApp.iopub_msg_rate_limit`.\n",
      "\n",
      "Current values:\n",
      "NotebookApp.iopub_msg_rate_limit=1000.0 (msgs/sec)\n",
      "NotebookApp.rate_limit_window=3.0 (secs)\n",
      "\n"
     ]
    },
    {
     "name": "stdout",
     "output_type": "stream",
     "text": [
      "[=======================---------------------------] 46.2% 767.6/1662.8MB downloaded"
     ]
    },
    {
     "name": "stderr",
     "output_type": "stream",
     "text": [
      "IOPub message rate exceeded.\n",
      "The notebook server will temporarily stop sending output\n",
      "to the client in order to avoid crashing it.\n",
      "To change this limit, set the config variable\n",
      "`--NotebookApp.iopub_msg_rate_limit`.\n",
      "\n",
      "Current values:\n",
      "NotebookApp.iopub_msg_rate_limit=1000.0 (msgs/sec)\n",
      "NotebookApp.rate_limit_window=3.0 (secs)\n",
      "\n"
     ]
    },
    {
     "name": "stdout",
     "output_type": "stream",
     "text": [
      "[========================--------------------------] 49.0% 814.2/1662.8MB downloaded"
     ]
    },
    {
     "name": "stderr",
     "output_type": "stream",
     "text": [
      "IOPub message rate exceeded.\n",
      "The notebook server will temporarily stop sending output\n",
      "to the client in order to avoid crashing it.\n",
      "To change this limit, set the config variable\n",
      "`--NotebookApp.iopub_msg_rate_limit`.\n",
      "\n",
      "Current values:\n",
      "NotebookApp.iopub_msg_rate_limit=1000.0 (msgs/sec)\n",
      "NotebookApp.rate_limit_window=3.0 (secs)\n",
      "\n"
     ]
    },
    {
     "name": "stdout",
     "output_type": "stream",
     "text": [
      "[==========================------------------------] 52.1% 866.3/1662.8MB downloaded"
     ]
    },
    {
     "name": "stderr",
     "output_type": "stream",
     "text": [
      "IOPub message rate exceeded.\n",
      "The notebook server will temporarily stop sending output\n",
      "to the client in order to avoid crashing it.\n",
      "To change this limit, set the config variable\n",
      "`--NotebookApp.iopub_msg_rate_limit`.\n",
      "\n",
      "Current values:\n",
      "NotebookApp.iopub_msg_rate_limit=1000.0 (msgs/sec)\n",
      "NotebookApp.rate_limit_window=3.0 (secs)\n",
      "\n"
     ]
    },
    {
     "name": "stdout",
     "output_type": "stream",
     "text": [
      "[===========================-----------------------] 55.3% 919.4/1662.8MB downloaded"
     ]
    },
    {
     "name": "stderr",
     "output_type": "stream",
     "text": [
      "IOPub message rate exceeded.\n",
      "The notebook server will temporarily stop sending output\n",
      "to the client in order to avoid crashing it.\n",
      "To change this limit, set the config variable\n",
      "`--NotebookApp.iopub_msg_rate_limit`.\n",
      "\n",
      "Current values:\n",
      "NotebookApp.iopub_msg_rate_limit=1000.0 (msgs/sec)\n",
      "NotebookApp.rate_limit_window=3.0 (secs)\n",
      "\n"
     ]
    },
    {
     "name": "stdout",
     "output_type": "stream",
     "text": [
      "[=============================---------------------] 58.8% 976.9/1662.8MB downloaded"
     ]
    },
    {
     "name": "stderr",
     "output_type": "stream",
     "text": [
      "IOPub message rate exceeded.\n",
      "The notebook server will temporarily stop sending output\n",
      "to the client in order to avoid crashing it.\n",
      "To change this limit, set the config variable\n",
      "`--NotebookApp.iopub_msg_rate_limit`.\n",
      "\n",
      "Current values:\n",
      "NotebookApp.iopub_msg_rate_limit=1000.0 (msgs/sec)\n",
      "NotebookApp.rate_limit_window=3.0 (secs)\n",
      "\n"
     ]
    },
    {
     "name": "stdout",
     "output_type": "stream",
     "text": [
      "[==============================--------------------] 62.0% 1030.9/1662.8MB downloaded"
     ]
    },
    {
     "name": "stderr",
     "output_type": "stream",
     "text": [
      "IOPub message rate exceeded.\n",
      "The notebook server will temporarily stop sending output\n",
      "to the client in order to avoid crashing it.\n",
      "To change this limit, set the config variable\n",
      "`--NotebookApp.iopub_msg_rate_limit`.\n",
      "\n",
      "Current values:\n",
      "NotebookApp.iopub_msg_rate_limit=1000.0 (msgs/sec)\n",
      "NotebookApp.rate_limit_window=3.0 (secs)\n",
      "\n"
     ]
    },
    {
     "name": "stdout",
     "output_type": "stream",
     "text": [
      "[================================------------------] 65.5% 1088.8/1662.8MB downloaded"
     ]
    },
    {
     "name": "stderr",
     "output_type": "stream",
     "text": [
      "IOPub message rate exceeded.\n",
      "The notebook server will temporarily stop sending output\n",
      "to the client in order to avoid crashing it.\n",
      "To change this limit, set the config variable\n",
      "`--NotebookApp.iopub_msg_rate_limit`.\n",
      "\n",
      "Current values:\n",
      "NotebookApp.iopub_msg_rate_limit=1000.0 (msgs/sec)\n",
      "NotebookApp.rate_limit_window=3.0 (secs)\n",
      "\n"
     ]
    },
    {
     "name": "stdout",
     "output_type": "stream",
     "text": [
      "[==================================----------------] 69.0% 1147.9/1662.8MB downloaded"
     ]
    },
    {
     "name": "stderr",
     "output_type": "stream",
     "text": [
      "IOPub message rate exceeded.\n",
      "The notebook server will temporarily stop sending output\n",
      "to the client in order to avoid crashing it.\n",
      "To change this limit, set the config variable\n",
      "`--NotebookApp.iopub_msg_rate_limit`.\n",
      "\n",
      "Current values:\n",
      "NotebookApp.iopub_msg_rate_limit=1000.0 (msgs/sec)\n",
      "NotebookApp.rate_limit_window=3.0 (secs)\n",
      "\n"
     ]
    },
    {
     "name": "stdout",
     "output_type": "stream",
     "text": [
      "[====================================--------------] 72.6% 1206.9/1662.8MB downloaded"
     ]
    },
    {
     "name": "stderr",
     "output_type": "stream",
     "text": [
      "IOPub message rate exceeded.\n",
      "The notebook server will temporarily stop sending output\n",
      "to the client in order to avoid crashing it.\n",
      "To change this limit, set the config variable\n",
      "`--NotebookApp.iopub_msg_rate_limit`.\n",
      "\n",
      "Current values:\n",
      "NotebookApp.iopub_msg_rate_limit=1000.0 (msgs/sec)\n",
      "NotebookApp.rate_limit_window=3.0 (secs)\n",
      "\n"
     ]
    },
    {
     "name": "stdout",
     "output_type": "stream",
     "text": [
      "[=====================================-------------] 75.6% 1257.5/1662.8MB downloaded"
     ]
    },
    {
     "name": "stderr",
     "output_type": "stream",
     "text": [
      "IOPub message rate exceeded.\n",
      "The notebook server will temporarily stop sending output\n",
      "to the client in order to avoid crashing it.\n",
      "To change this limit, set the config variable\n",
      "`--NotebookApp.iopub_msg_rate_limit`.\n",
      "\n",
      "Current values:\n",
      "NotebookApp.iopub_msg_rate_limit=1000.0 (msgs/sec)\n",
      "NotebookApp.rate_limit_window=3.0 (secs)\n",
      "\n"
     ]
    },
    {
     "name": "stdout",
     "output_type": "stream",
     "text": [
      "[=======================================-----------] 78.7% 1309.4/1662.8MB downloaded"
     ]
    },
    {
     "name": "stderr",
     "output_type": "stream",
     "text": [
      "IOPub message rate exceeded.\n",
      "The notebook server will temporarily stop sending output\n",
      "to the client in order to avoid crashing it.\n",
      "To change this limit, set the config variable\n",
      "`--NotebookApp.iopub_msg_rate_limit`.\n",
      "\n",
      "Current values:\n",
      "NotebookApp.iopub_msg_rate_limit=1000.0 (msgs/sec)\n",
      "NotebookApp.rate_limit_window=3.0 (secs)\n",
      "\n"
     ]
    },
    {
     "name": "stdout",
     "output_type": "stream",
     "text": [
      "[=========================================---------] 82.2% 1366.9/1662.8MB downloaded"
     ]
    },
    {
     "name": "stderr",
     "output_type": "stream",
     "text": [
      "IOPub message rate exceeded.\n",
      "The notebook server will temporarily stop sending output\n",
      "to the client in order to avoid crashing it.\n",
      "To change this limit, set the config variable\n",
      "`--NotebookApp.iopub_msg_rate_limit`.\n",
      "\n",
      "Current values:\n",
      "NotebookApp.iopub_msg_rate_limit=1000.0 (msgs/sec)\n",
      "NotebookApp.rate_limit_window=3.0 (secs)\n",
      "\n"
     ]
    },
    {
     "name": "stdout",
     "output_type": "stream",
     "text": [
      "[==========================================--------] 85.5% 1421.8/1662.8MB downloaded"
     ]
    },
    {
     "name": "stderr",
     "output_type": "stream",
     "text": [
      "IOPub message rate exceeded.\n",
      "The notebook server will temporarily stop sending output\n",
      "to the client in order to avoid crashing it.\n",
      "To change this limit, set the config variable\n",
      "`--NotebookApp.iopub_msg_rate_limit`.\n",
      "\n",
      "Current values:\n",
      "NotebookApp.iopub_msg_rate_limit=1000.0 (msgs/sec)\n",
      "NotebookApp.rate_limit_window=3.0 (secs)\n",
      "\n"
     ]
    },
    {
     "name": "stdout",
     "output_type": "stream",
     "text": [
      "[============================================------] 88.9% 1478.1/1662.8MB downloaded"
     ]
    },
    {
     "name": "stderr",
     "output_type": "stream",
     "text": [
      "IOPub message rate exceeded.\n",
      "The notebook server will temporarily stop sending output\n",
      "to the client in order to avoid crashing it.\n",
      "To change this limit, set the config variable\n",
      "`--NotebookApp.iopub_msg_rate_limit`.\n",
      "\n",
      "Current values:\n",
      "NotebookApp.iopub_msg_rate_limit=1000.0 (msgs/sec)\n",
      "NotebookApp.rate_limit_window=3.0 (secs)\n",
      "\n"
     ]
    },
    {
     "name": "stdout",
     "output_type": "stream",
     "text": [
      "[=============================================-----] 91.9% 1528.6/1662.8MB downloaded"
     ]
    },
    {
     "name": "stderr",
     "output_type": "stream",
     "text": [
      "IOPub message rate exceeded.\n",
      "The notebook server will temporarily stop sending output\n",
      "to the client in order to avoid crashing it.\n",
      "To change this limit, set the config variable\n",
      "`--NotebookApp.iopub_msg_rate_limit`.\n",
      "\n",
      "Current values:\n",
      "NotebookApp.iopub_msg_rate_limit=1000.0 (msgs/sec)\n",
      "NotebookApp.rate_limit_window=3.0 (secs)\n",
      "\n"
     ]
    },
    {
     "name": "stdout",
     "output_type": "stream",
     "text": [
      "[===============================================---] 94.8% 1576.6/1662.8MB downloaded"
     ]
    },
    {
     "name": "stderr",
     "output_type": "stream",
     "text": [
      "IOPub message rate exceeded.\n",
      "The notebook server will temporarily stop sending output\n",
      "to the client in order to avoid crashing it.\n",
      "To change this limit, set the config variable\n",
      "`--NotebookApp.iopub_msg_rate_limit`.\n",
      "\n",
      "Current values:\n",
      "NotebookApp.iopub_msg_rate_limit=1000.0 (msgs/sec)\n",
      "NotebookApp.rate_limit_window=3.0 (secs)\n",
      "\n"
     ]
    },
    {
     "name": "stdout",
     "output_type": "stream",
     "text": [
      "[=================================================-] 98.4% 1636.2/1662.8MB downloaded"
     ]
    },
    {
     "name": "stderr",
     "output_type": "stream",
     "text": [
      "IOPub message rate exceeded.\n",
      "The notebook server will temporarily stop sending output\n",
      "to the client in order to avoid crashing it.\n",
      "To change this limit, set the config variable\n",
      "`--NotebookApp.iopub_msg_rate_limit`.\n",
      "\n",
      "Current values:\n",
      "NotebookApp.iopub_msg_rate_limit=1000.0 (msgs/sec)\n",
      "NotebookApp.rate_limit_window=3.0 (secs)\n",
      "\n"
     ]
    },
    {
     "name": "stdout",
     "output_type": "stream",
     "text": [
      "[==================================================] 100.0% 1662.8/1662.8MB downloaded\n"
     ]
    },
    {
     "data": {
      "text/plain": [
       "[('supporting', 0.6251285076141357),\n",
       " ('suport', 0.6071150302886963),\n",
       " ('suppport', 0.6053199768066406),\n",
       " ('Support', 0.6044272780418396),\n",
       " ('supported', 0.6009396314620972),\n",
       " ('backing', 0.6007589101791382),\n",
       " ('supports', 0.5269277691841125),\n",
       " ('assistance', 0.5207138061523438),\n",
       " ('sup_port', 0.5192490220069885),\n",
       " ('supportive', 0.5110024809837341)]"
      ]
     },
     "execution_count": 102,
     "metadata": {},
     "output_type": "execute_result"
    }
   ],
   "source": [
    "import gensim.downloader as api\n",
    "word2vec_model300 = api.load('word2vec-google-news-300')\n",
    "word2vec_model300.most_similar('support')"
   ]
  },
  {
   "cell_type": "code",
   "execution_count": 103,
   "metadata": {
    "ExecuteTime": {
     "end_time": "2021-05-13T16:04:36.397947Z",
     "start_time": "2021-05-13T16:04:36.119512Z"
    }
   },
   "outputs": [
    {
     "data": {
      "text/plain": [
       "[('supporting', 0.6251285076141357),\n",
       " ('suport', 0.6071150302886963),\n",
       " ('suppport', 0.6053199768066406),\n",
       " ('Support', 0.6044272780418396),\n",
       " ('supported', 0.6009396314620972),\n",
       " ('backing', 0.6007589101791382),\n",
       " ('supports', 0.5269277691841125),\n",
       " ('assistance', 0.5207138061523438),\n",
       " ('sup_port', 0.5192490220069885),\n",
       " ('supportive', 0.5110024809837341)]"
      ]
     },
     "execution_count": 103,
     "metadata": {},
     "output_type": "execute_result"
    }
   ],
   "source": [
    "word2vec_model300.most_similar('support')"
   ]
  },
  {
   "cell_type": "code",
   "execution_count": 105,
   "metadata": {
    "ExecuteTime": {
     "end_time": "2021-05-13T16:04:52.833286Z",
     "start_time": "2021-05-13T16:04:52.741866Z"
    }
   },
   "outputs": [
    {
     "data": {
      "text/plain": [
       "array([-8.98437500e-02, -1.47460938e-01, -4.95605469e-02,  2.92968750e-03,\n",
       "       -3.35937500e-01,  1.68945312e-01, -7.32421875e-02, -1.43554688e-01,\n",
       "        1.06933594e-01, -2.08740234e-02, -1.14257812e-01,  2.61718750e-01,\n",
       "       -8.49609375e-02,  2.27539062e-01,  3.75976562e-02, -1.10839844e-01,\n",
       "        2.97851562e-02,  7.91015625e-02, -2.53906250e-02, -2.59765625e-01,\n",
       "        8.00781250e-02,  2.04101562e-01,  8.78906250e-02,  1.36718750e-02,\n",
       "        5.98144531e-02, -1.49414062e-01, -1.52343750e-01,  5.49316406e-02,\n",
       "       -3.68652344e-02, -2.65625000e-01,  2.44140625e-01, -9.27734375e-02,\n",
       "       -1.30859375e-01, -6.98242188e-02,  8.44726562e-02,  5.59082031e-02,\n",
       "       -6.54296875e-02,  1.44531250e-01, -1.36718750e-01, -1.28906250e-01,\n",
       "        1.30859375e-01,  4.56542969e-02, -7.22656250e-02, -2.20947266e-02,\n",
       "       -2.50000000e-01, -1.62109375e-01, -2.05078125e-01, -1.28906250e-01,\n",
       "       -1.83105469e-02,  7.71484375e-02,  8.39843750e-02, -1.26953125e-01,\n",
       "       -2.33459473e-03,  4.61425781e-02, -2.61718750e-01,  4.42504883e-03,\n",
       "       -1.59179688e-01,  2.27050781e-02, -1.65039062e-01, -1.94335938e-01,\n",
       "       -1.81640625e-01,  3.41796875e-02,  3.66210938e-02, -1.72851562e-01,\n",
       "       -6.39648438e-02, -1.43554688e-01, -2.32421875e-01,  5.98144531e-02,\n",
       "       -6.20117188e-02,  3.16406250e-01,  1.04003906e-01, -2.00195312e-01,\n",
       "        1.23535156e-01,  5.78613281e-02,  4.73632812e-02, -8.93554688e-02,\n",
       "        1.68945312e-01, -8.15429688e-02,  2.50000000e-01,  1.46484375e-01,\n",
       "       -3.78417969e-02,  1.37695312e-01,  3.80859375e-02,  4.58984375e-02,\n",
       "       -4.76074219e-03,  6.34765625e-02, -1.32812500e-01,  1.14746094e-02,\n",
       "       -1.21093750e-01, -1.03027344e-01, -4.57763672e-03, -5.05371094e-02,\n",
       "       -3.36914062e-02, -2.09960938e-01,  1.66015625e-01, -1.25000000e-01,\n",
       "       -1.46484375e-01,  2.24609375e-02,  2.40478516e-02,  2.28271484e-02,\n",
       "       -2.06054688e-01, -3.97949219e-02,  1.08886719e-01,  6.49414062e-02,\n",
       "       -1.21582031e-01, -2.37304688e-01,  8.78906250e-02, -2.25585938e-01,\n",
       "        1.44531250e-01, -9.96093750e-02, -1.91406250e-01, -8.20312500e-02,\n",
       "       -1.01562500e-01,  1.70898438e-01,  5.07812500e-02,  3.22265625e-02,\n",
       "       -1.14257812e-01,  1.05590820e-02,  1.47460938e-01,  1.12304688e-01,\n",
       "        1.25976562e-01,  1.53198242e-02,  3.93066406e-02,  6.34765625e-02,\n",
       "       -1.05468750e-01, -6.07910156e-02,  2.20947266e-02,  1.47094727e-02,\n",
       "        1.25976562e-01,  2.41699219e-02, -2.62451172e-02, -1.03515625e-01,\n",
       "        1.48437500e-01, -1.03515625e-01, -1.73950195e-03, -1.84570312e-01,\n",
       "        1.59179688e-01, -1.28906250e-01, -7.08007812e-02,  8.49609375e-02,\n",
       "       -1.03027344e-01,  1.16699219e-01,  2.22167969e-02,  1.03515625e-01,\n",
       "       -8.44726562e-02, -4.88281250e-02, -7.22656250e-02, -1.11816406e-01,\n",
       "        8.64257812e-02,  1.98974609e-02,  5.15136719e-02,  5.61523438e-02,\n",
       "       -7.03125000e-02,  5.98144531e-02,  2.19726562e-01, -1.82617188e-01,\n",
       "       -7.17773438e-02,  5.46264648e-03, -1.83593750e-01, -2.39257812e-01,\n",
       "        5.61523438e-02,  2.36816406e-02, -1.14746094e-01,  1.20605469e-01,\n",
       "        3.39355469e-02, -2.85156250e-01, -1.80664062e-01,  6.86645508e-03,\n",
       "        1.73339844e-02, -1.44531250e-01,  8.10546875e-02, -7.51953125e-02,\n",
       "        1.12792969e-01, -3.41796875e-01,  2.40234375e-01, -9.22851562e-02,\n",
       "       -3.97949219e-02,  1.09375000e-01,  7.08007812e-02,  2.50244141e-02,\n",
       "       -3.43750000e-01, -1.30859375e-01,  2.05078125e-02, -4.37011719e-02,\n",
       "        7.51953125e-02, -1.04003906e-01, -1.16699219e-01, -9.03320312e-02,\n",
       "        7.56835938e-02, -1.95312500e-02,  1.91650391e-02,  2.69775391e-02,\n",
       "        1.34765625e-01, -1.15234375e-01, -1.25976562e-01,  2.20947266e-02,\n",
       "        2.22656250e-01, -4.78515625e-02,  5.34667969e-02, -3.14453125e-01,\n",
       "       -2.45117188e-01,  1.42578125e-01, -5.68847656e-02, -2.38281250e-01,\n",
       "        5.64575195e-03,  6.59179688e-02, -2.06054688e-01, -4.73022461e-03,\n",
       "        7.17773438e-02,  3.19824219e-02,  2.14843750e-01,  4.32128906e-02,\n",
       "        2.36816406e-02,  1.22070312e-01, -7.91015625e-02, -7.39097595e-05,\n",
       "        2.51953125e-01,  1.64794922e-02, -1.20605469e-01,  8.72802734e-03,\n",
       "       -1.89208984e-02, -3.22265625e-02, -1.16699219e-01,  5.05371094e-02,\n",
       "       -1.26953125e-01, -2.37304688e-01,  8.85009766e-03, -9.17968750e-02,\n",
       "        3.18359375e-01,  5.37109375e-02, -1.89453125e-01,  5.32226562e-02,\n",
       "        6.73828125e-02, -1.31835938e-01, -3.95507812e-02, -5.90820312e-02,\n",
       "       -8.39843750e-02,  3.51562500e-02,  2.19726562e-01, -8.91113281e-03,\n",
       "       -1.78710938e-01, -2.79541016e-02, -1.43554688e-01,  2.32421875e-01,\n",
       "        6.98242188e-02, -1.00097656e-02,  6.98242188e-02,  1.67236328e-02,\n",
       "       -8.48388672e-03,  4.27246094e-02,  7.32421875e-03,  2.30468750e-01,\n",
       "       -3.83300781e-02,  1.08398438e-01, -1.14257812e-01,  8.05664062e-02,\n",
       "        9.71679688e-02,  5.05371094e-02, -8.20312500e-02,  6.29882812e-02,\n",
       "       -8.20312500e-02, -4.71191406e-02, -1.69921875e-01,  1.67968750e-01,\n",
       "        1.00097656e-02,  9.91210938e-02, -5.11169434e-04,  3.24707031e-02,\n",
       "       -2.64892578e-02, -1.14135742e-02, -2.28515625e-01, -4.58984375e-02,\n",
       "        1.83593750e-01, -1.11816406e-01,  2.41210938e-01, -3.90625000e-02,\n",
       "       -1.59179688e-01, -7.76367188e-02, -1.25976562e-01, -1.59179688e-01,\n",
       "       -2.74658203e-02,  1.30859375e-01,  1.51367188e-01,  2.79296875e-01,\n",
       "       -2.45117188e-01, -1.61132812e-02, -1.96533203e-02, -4.82177734e-03,\n",
       "        2.87109375e-01, -1.76757812e-01, -1.62109375e-01,  7.03125000e-02,\n",
       "        1.34765625e-01, -2.42187500e-01,  1.13769531e-01,  1.39770508e-02,\n",
       "       -1.42211914e-02,  1.82617188e-01, -3.22265625e-02,  4.80957031e-02],\n",
       "      dtype=float32)"
      ]
     },
     "execution_count": 105,
     "metadata": {},
     "output_type": "execute_result"
    }
   ],
   "source": [
    "word2vec_model300['support']"
   ]
  },
  {
   "cell_type": "markdown",
   "metadata": {},
   "source": [
    "# Classification\n"
   ]
  },
  {
   "cell_type": "code",
   "execution_count": 66,
   "metadata": {
    "ExecuteTime": {
     "end_time": "2021-05-13T15:19:43.226010Z",
     "start_time": "2021-05-13T15:19:43.218030Z"
    }
   },
   "outputs": [],
   "source": [
    "imdb = imdb.sample(1000, random_state=42)"
   ]
  },
  {
   "cell_type": "code",
   "execution_count": 67,
   "metadata": {
    "ExecuteTime": {
     "end_time": "2021-05-13T15:19:45.064208Z",
     "start_time": "2021-05-13T15:19:45.043264Z"
    }
   },
   "outputs": [
    {
     "data": {
      "text/html": [
       "<div>\n",
       "<style scoped>\n",
       "    .dataframe tbody tr th:only-of-type {\n",
       "        vertical-align: middle;\n",
       "    }\n",
       "\n",
       "    .dataframe tbody tr th {\n",
       "        vertical-align: top;\n",
       "    }\n",
       "\n",
       "    .dataframe thead th {\n",
       "        text-align: right;\n",
       "    }\n",
       "</style>\n",
       "<table border=\"1\" class=\"dataframe\">\n",
       "  <thead>\n",
       "    <tr style=\"text-align: right;\">\n",
       "      <th></th>\n",
       "      <th>review</th>\n",
       "      <th>sentiment</th>\n",
       "    </tr>\n",
       "  </thead>\n",
       "  <tbody>\n",
       "    <tr>\n",
       "      <th>1501</th>\n",
       "      <td>Saw this today with my 8 year old. I thought i...</td>\n",
       "      <td>positive</td>\n",
       "    </tr>\n",
       "    <tr>\n",
       "      <th>2586</th>\n",
       "      <td>i was hoping this was going to be good as a fa...</td>\n",
       "      <td>positive</td>\n",
       "    </tr>\n",
       "    <tr>\n",
       "      <th>2653</th>\n",
       "      <td>Dear me. Where do I start? The dad isn't anywh...</td>\n",
       "      <td>negative</td>\n",
       "    </tr>\n",
       "    <tr>\n",
       "      <th>1055</th>\n",
       "      <td>I haven't seen anything this bad since I walke...</td>\n",
       "      <td>negative</td>\n",
       "    </tr>\n",
       "    <tr>\n",
       "      <th>705</th>\n",
       "      <td>Cult of the Cobra is now available on DVD in a...</td>\n",
       "      <td>negative</td>\n",
       "    </tr>\n",
       "  </tbody>\n",
       "</table>\n",
       "</div>"
      ],
      "text/plain": [
       "                                                 review sentiment\n",
       "1501  Saw this today with my 8 year old. I thought i...  positive\n",
       "2586  i was hoping this was going to be good as a fa...  positive\n",
       "2653  Dear me. Where do I start? The dad isn't anywh...  negative\n",
       "1055  I haven't seen anything this bad since I walke...  negative\n",
       "705   Cult of the Cobra is now available on DVD in a...  negative"
      ]
     },
     "execution_count": 67,
     "metadata": {},
     "output_type": "execute_result"
    }
   ],
   "source": [
    "imdb.head()"
   ]
  },
  {
   "cell_type": "code",
   "execution_count": 68,
   "metadata": {
    "ExecuteTime": {
     "end_time": "2021-05-13T15:19:48.457231Z",
     "start_time": "2021-05-13T15:19:48.442749Z"
    }
   },
   "outputs": [],
   "source": [
    "X = imdb['review']\n",
    "\n",
    "y = imdb['sentiment'].apply(lambda x : 1 if x=='negative' else 0)"
   ]
  },
  {
   "cell_type": "code",
   "execution_count": 69,
   "metadata": {
    "ExecuteTime": {
     "end_time": "2021-05-13T15:19:51.432656Z",
     "start_time": "2021-05-13T15:19:51.410749Z"
    }
   },
   "outputs": [],
   "source": [
    "X_train, X_test, y_train, y_test = train_test_split(X, y, test_size=0.2, random_state=42)"
   ]
  },
  {
   "cell_type": "code",
   "execution_count": 70,
   "metadata": {
    "ExecuteTime": {
     "end_time": "2021-05-13T15:19:52.967171Z",
     "start_time": "2021-05-13T15:19:52.962169Z"
    }
   },
   "outputs": [
    {
     "data": {
      "text/plain": [
       "(800,)"
      ]
     },
     "execution_count": 70,
     "metadata": {},
     "output_type": "execute_result"
    }
   ],
   "source": [
    "X_train.shape"
   ]
  },
  {
   "cell_type": "code",
   "execution_count": 106,
   "metadata": {
    "ExecuteTime": {
     "end_time": "2021-05-13T16:34:17.207946Z",
     "start_time": "2021-05-13T16:34:16.675691Z"
    }
   },
   "outputs": [],
   "source": [
    "count_vectorizer = CountVectorizer()\n",
    "transformed_vector = count_vectorizer.fit_transform(X_train)"
   ]
  },
  {
   "cell_type": "code",
   "execution_count": 107,
   "metadata": {
    "ExecuteTime": {
     "end_time": "2021-05-13T16:34:23.021944Z",
     "start_time": "2021-05-13T16:34:22.960706Z"
    }
   },
   "outputs": [],
   "source": [
    "tfidf_transformer = TfidfTransformer()                 \n",
    "tfidf_vector = tfidf_transformer.fit_transform(transformed_vector)"
   ]
  },
  {
   "cell_type": "code",
   "execution_count": 108,
   "metadata": {
    "ExecuteTime": {
     "end_time": "2021-05-13T16:34:27.810285Z",
     "start_time": "2021-05-13T16:34:27.797119Z"
    }
   },
   "outputs": [],
   "source": [
    "tfidf_vec = TfidfVectorizer()"
   ]
  },
  {
   "cell_type": "code",
   "execution_count": 109,
   "metadata": {
    "ExecuteTime": {
     "end_time": "2021-05-13T16:34:32.776491Z",
     "start_time": "2021-05-13T16:34:32.620596Z"
    }
   },
   "outputs": [
    {
     "data": {
      "text/plain": [
       "<800x16569 sparse matrix of type '<class 'numpy.float64'>'\n",
       "\twith 113258 stored elements in Compressed Sparse Row format>"
      ]
     },
     "execution_count": 109,
     "metadata": {},
     "output_type": "execute_result"
    }
   ],
   "source": [
    "tfidf_vec.fit_transform(X_train)"
   ]
  },
  {
   "cell_type": "code",
   "execution_count": 110,
   "metadata": {
    "ExecuteTime": {
     "end_time": "2021-05-13T16:34:37.573712Z",
     "start_time": "2021-05-13T16:34:37.544581Z"
    }
   },
   "outputs": [],
   "source": [
    "from sklearn.naive_bayes import GaussianNB"
   ]
  },
  {
   "cell_type": "code",
   "execution_count": 111,
   "metadata": {
    "ExecuteTime": {
     "end_time": "2021-05-13T16:34:42.434310Z",
     "start_time": "2021-05-13T16:34:42.279503Z"
    }
   },
   "outputs": [],
   "source": [
    "from sklearn.linear_model import LogisticRegression"
   ]
  },
  {
   "cell_type": "code",
   "execution_count": 112,
   "metadata": {
    "ExecuteTime": {
     "end_time": "2021-05-13T16:34:49.546509Z",
     "start_time": "2021-05-13T16:34:47.196768Z"
    }
   },
   "outputs": [
    {
     "data": {
      "text/plain": [
       "LogisticRegression()"
      ]
     },
     "execution_count": 112,
     "metadata": {},
     "output_type": "execute_result"
    }
   ],
   "source": [
    "clf = LogisticRegression()\n",
    "clf.fit(tfidf_vector.toarray(), y_train)"
   ]
  },
  {
   "cell_type": "code",
   "execution_count": 113,
   "metadata": {
    "ExecuteTime": {
     "end_time": "2021-05-13T16:34:54.232257Z",
     "start_time": "2021-05-13T16:34:54.218648Z"
    }
   },
   "outputs": [],
   "source": [
    "from sklearn.metrics import roc_auc_score, precision_score, recall_score"
   ]
  },
  {
   "cell_type": "code",
   "execution_count": 114,
   "metadata": {
    "ExecuteTime": {
     "end_time": "2021-05-13T16:34:58.807475Z",
     "start_time": "2021-05-13T16:34:58.762499Z"
    }
   },
   "outputs": [],
   "source": [
    "tfidf_vector_test = tfidf_transformer.transform(count_vectorizer.transform(X_test))"
   ]
  },
  {
   "cell_type": "code",
   "execution_count": 120,
   "metadata": {
    "ExecuteTime": {
     "end_time": "2021-05-13T16:35:45.506996Z",
     "start_time": "2021-05-13T16:35:45.477662Z"
    }
   },
   "outputs": [
    {
     "data": {
      "text/plain": [
       "0.8350515463917526"
      ]
     },
     "execution_count": 120,
     "metadata": {},
     "output_type": "execute_result"
    }
   ],
   "source": [
    "precision_score(y_test, clf.predict(tfidf_vector_test.toarray())) "
   ]
  },
  {
   "cell_type": "code",
   "execution_count": 116,
   "metadata": {
    "ExecuteTime": {
     "end_time": "2021-05-13T16:35:08.346647Z",
     "start_time": "2021-05-13T16:35:08.316494Z"
    }
   },
   "outputs": [
    {
     "data": {
      "text/plain": [
       "0.7570093457943925"
      ]
     },
     "execution_count": 116,
     "metadata": {},
     "output_type": "execute_result"
    }
   ],
   "source": [
    "recall_score(y_test, clf.predict(tfidf_vector_test.toarray()))"
   ]
  },
  {
   "cell_type": "code",
   "execution_count": 117,
   "metadata": {
    "ExecuteTime": {
     "end_time": "2021-05-13T16:35:13.126631Z",
     "start_time": "2021-05-13T16:35:13.096585Z"
    }
   },
   "outputs": [
    {
     "data": {
      "text/plain": [
       "0.7924831675208521"
      ]
     },
     "execution_count": 117,
     "metadata": {},
     "output_type": "execute_result"
    }
   ],
   "source": [
    "roc_auc_score(y_test, clf.predict(tfidf_vector_test.toarray()))"
   ]
  },
  {
   "cell_type": "code",
   "execution_count": 119,
   "metadata": {
    "ExecuteTime": {
     "end_time": "2021-05-13T16:35:40.829920Z",
     "start_time": "2021-05-13T16:35:40.810432Z"
    }
   },
   "outputs": [
    {
     "data": {
      "text/plain": [
       "0.79"
      ]
     },
     "execution_count": 119,
     "metadata": {},
     "output_type": "execute_result"
    }
   ],
   "source": [
    "clf.score(tfidf_vector_test.toarray(),y_test)"
   ]
  },
  {
   "cell_type": "code",
   "execution_count": 52,
   "metadata": {
    "ExecuteTime": {
     "end_time": "2020-12-09T18:22:03.304495Z",
     "start_time": "2020-12-09T18:22:03.289536Z"
    }
   },
   "outputs": [
    {
     "data": {
      "text/plain": [
       "0.535"
      ]
     },
     "execution_count": 52,
     "metadata": {},
     "output_type": "execute_result"
    }
   ],
   "source": [
    "y_test.mean()"
   ]
  },
  {
   "cell_type": "code",
   "execution_count": 53,
   "metadata": {
    "ExecuteTime": {
     "end_time": "2020-12-09T18:22:03.507893Z",
     "start_time": "2020-12-09T18:22:03.305515Z"
    }
   },
   "outputs": [
    {
     "data": {
      "text/plain": [
       "0.9648859543817527"
      ]
     },
     "execution_count": 53,
     "metadata": {},
     "output_type": "execute_result"
    }
   ],
   "source": [
    "roc_auc_score(y_train, clf.predict(tfidf_vec.fit_transform(X_train).toarray())) "
   ]
  },
  {
   "cell_type": "code",
   "execution_count": 54,
   "metadata": {
    "ExecuteTime": {
     "end_time": "2020-12-09T18:22:03.679184Z",
     "start_time": "2020-12-09T18:22:03.509887Z"
    }
   },
   "outputs": [
    {
     "data": {
      "text/plain": [
       "(800, 16569)"
      ]
     },
     "execution_count": 54,
     "metadata": {},
     "output_type": "execute_result"
    }
   ],
   "source": [
    "tfidf_vec.fit_transform(X_train).toarray().shape"
   ]
  },
  {
   "cell_type": "markdown",
   "metadata": {},
   "source": [
    "# Using pipelines"
   ]
  },
  {
   "cell_type": "code",
   "execution_count": 123,
   "metadata": {
    "ExecuteTime": {
     "end_time": "2021-05-13T16:36:56.046709Z",
     "start_time": "2021-05-13T16:36:55.952681Z"
    }
   },
   "outputs": [],
   "source": [
    "imdb = pd.read_csv('sample_imdb.csv', encoding=\"latin1\")\n",
    "\n",
    "imdb = imdb.sample(5000, random_state=42)\n",
    "\n",
    "X = imdb['review']\n",
    "\n",
    "y = imdb['sentiment'].apply(lambda x : 1 if x=='negative' else 0)\n",
    "\n",
    "X_train, X_test, y_train, y_test = train_test_split(X, y, \n",
    "                                                    test_size=0.1, \n",
    "                                                    random_state=42)"
   ]
  },
  {
   "cell_type": "code",
   "execution_count": 124,
   "metadata": {
    "ExecuteTime": {
     "end_time": "2021-05-13T16:37:00.751163Z",
     "start_time": "2021-05-13T16:37:00.721471Z"
    }
   },
   "outputs": [],
   "source": [
    "from sklearn.pipeline import Pipeline"
   ]
  },
  {
   "cell_type": "code",
   "execution_count": 125,
   "metadata": {
    "ExecuteTime": {
     "end_time": "2021-05-13T16:37:05.556323Z",
     "start_time": "2021-05-13T16:37:05.541267Z"
    }
   },
   "outputs": [],
   "source": [
    "from sklearn.linear_model import LogisticRegression"
   ]
  },
  {
   "cell_type": "code",
   "execution_count": 126,
   "metadata": {
    "ExecuteTime": {
     "end_time": "2021-05-13T16:37:12.719120Z",
     "start_time": "2021-05-13T16:37:10.274131Z"
    }
   },
   "outputs": [
    {
     "data": {
      "text/plain": [
       "Pipeline(steps=[('count_vectorizer', CountVectorizer()),\n",
       "                ('classifier', LogisticRegression(max_iter=10000))])"
      ]
     },
     "execution_count": 126,
     "metadata": {},
     "output_type": "execute_result"
    }
   ],
   "source": [
    "pipeline = Pipeline(steps=[('count_vectorizer', CountVectorizer()),\n",
    "                           ('classifier', LogisticRegression(solver='lbfgs', max_iter=10000))])\n",
    "\n",
    "pipeline.fit(X_train, y_train)"
   ]
  },
  {
   "cell_type": "code",
   "execution_count": 127,
   "metadata": {
    "ExecuteTime": {
     "end_time": "2021-05-13T16:37:17.368497Z",
     "start_time": "2021-05-13T16:37:17.291643Z"
    }
   },
   "outputs": [
    {
     "data": {
      "text/plain": [
       "0.9238580306233584"
      ]
     },
     "execution_count": 127,
     "metadata": {},
     "output_type": "execute_result"
    }
   ],
   "source": [
    "roc_auc_score(y_test, pipeline.predict_proba(X_test)[:, 1])"
   ]
  },
  {
   "cell_type": "code",
   "execution_count": 128,
   "metadata": {
    "ExecuteTime": {
     "end_time": "2021-05-13T16:37:22.744602Z",
     "start_time": "2021-05-13T16:37:22.139588Z"
    }
   },
   "outputs": [
    {
     "data": {
      "text/plain": [
       "1.0"
      ]
     },
     "execution_count": 128,
     "metadata": {},
     "output_type": "execute_result"
    }
   ],
   "source": [
    "roc_auc_score(y_train, pipeline.predict_proba(X_train)[:, 1])"
   ]
  },
  {
   "cell_type": "code",
   "execution_count": 129,
   "metadata": {
    "ExecuteTime": {
     "end_time": "2021-05-13T16:37:28.062927Z",
     "start_time": "2021-05-13T16:37:27.453894Z"
    }
   },
   "outputs": [
    {
     "data": {
      "text/plain": [
       "<4500x37347 sparse matrix of type '<class 'numpy.int64'>'\n",
       "\twith 622591 stored elements in Compressed Sparse Row format>"
      ]
     },
     "execution_count": 129,
     "metadata": {},
     "output_type": "execute_result"
    }
   ],
   "source": [
    "pipeline.named_steps.count_vectorizer.transform(X_train)"
   ]
  },
  {
   "cell_type": "markdown",
   "metadata": {},
   "source": [
    "## Adding the TfidfTransformer"
   ]
  },
  {
   "cell_type": "code",
   "execution_count": 130,
   "metadata": {
    "ExecuteTime": {
     "end_time": "2021-05-13T16:37:34.888783Z",
     "start_time": "2021-05-13T16:37:32.864211Z"
    }
   },
   "outputs": [
    {
     "name": "stdout",
     "output_type": "stream",
     "text": [
      "0.9265808187584086\n",
      "0.9864421002063039\n"
     ]
    }
   ],
   "source": [
    "pipeline = Pipeline([\n",
    "    ('count_vectorizer', CountVectorizer()),\n",
    "    ('tfidf_transformer', TfidfTransformer()),\n",
    "    ('classifier', LogisticRegression(solver='lbfgs', max_iter=10000))\n",
    "])\n",
    "\n",
    "pipeline.fit(X_train, y_train)\n",
    "\n",
    "print(roc_auc_score(y_test, pipeline.predict_proba(X_test)[:, 1]))\n",
    "print(roc_auc_score(y_train, pipeline.predict_proba(X_train)[:, 1]))"
   ]
  },
  {
   "cell_type": "code",
   "execution_count": 131,
   "metadata": {
    "ExecuteTime": {
     "end_time": "2021-05-13T16:37:39.605434Z",
     "start_time": "2021-05-13T16:37:39.591231Z"
    }
   },
   "outputs": [],
   "source": [
    "from nltk.corpus import stopwords"
   ]
  },
  {
   "cell_type": "code",
   "execution_count": 132,
   "metadata": {
    "ExecuteTime": {
     "end_time": "2021-05-13T16:37:44.363505Z",
     "start_time": "2021-05-13T16:37:44.334981Z"
    }
   },
   "outputs": [
    {
     "data": {
      "text/plain": [
       "['i',\n",
       " 'me',\n",
       " 'my',\n",
       " 'myself',\n",
       " 'we',\n",
       " 'our',\n",
       " 'ours',\n",
       " 'ourselves',\n",
       " 'you',\n",
       " \"you're\",\n",
       " \"you've\",\n",
       " \"you'll\",\n",
       " \"you'd\",\n",
       " 'your',\n",
       " 'yours',\n",
       " 'yourself',\n",
       " 'yourselves',\n",
       " 'he',\n",
       " 'him',\n",
       " 'his',\n",
       " 'himself',\n",
       " 'she',\n",
       " \"she's\",\n",
       " 'her',\n",
       " 'hers',\n",
       " 'herself',\n",
       " 'it',\n",
       " \"it's\",\n",
       " 'its',\n",
       " 'itself',\n",
       " 'they',\n",
       " 'them',\n",
       " 'their',\n",
       " 'theirs',\n",
       " 'themselves',\n",
       " 'what',\n",
       " 'which',\n",
       " 'who',\n",
       " 'whom',\n",
       " 'this',\n",
       " 'that',\n",
       " \"that'll\",\n",
       " 'these',\n",
       " 'those',\n",
       " 'am',\n",
       " 'is',\n",
       " 'are',\n",
       " 'was',\n",
       " 'were',\n",
       " 'be',\n",
       " 'been',\n",
       " 'being',\n",
       " 'have',\n",
       " 'has',\n",
       " 'had',\n",
       " 'having',\n",
       " 'do',\n",
       " 'does',\n",
       " 'did',\n",
       " 'doing',\n",
       " 'a',\n",
       " 'an',\n",
       " 'the',\n",
       " 'and',\n",
       " 'but',\n",
       " 'if',\n",
       " 'or',\n",
       " 'because',\n",
       " 'as',\n",
       " 'until',\n",
       " 'while',\n",
       " 'of',\n",
       " 'at',\n",
       " 'by',\n",
       " 'for',\n",
       " 'with',\n",
       " 'about',\n",
       " 'against',\n",
       " 'between',\n",
       " 'into',\n",
       " 'through',\n",
       " 'during',\n",
       " 'before',\n",
       " 'after',\n",
       " 'above',\n",
       " 'below',\n",
       " 'to',\n",
       " 'from',\n",
       " 'up',\n",
       " 'down',\n",
       " 'in',\n",
       " 'out',\n",
       " 'on',\n",
       " 'off',\n",
       " 'over',\n",
       " 'under',\n",
       " 'again',\n",
       " 'further',\n",
       " 'then',\n",
       " 'once',\n",
       " 'here',\n",
       " 'there',\n",
       " 'when',\n",
       " 'where',\n",
       " 'why',\n",
       " 'how',\n",
       " 'all',\n",
       " 'any',\n",
       " 'both',\n",
       " 'each',\n",
       " 'few',\n",
       " 'more',\n",
       " 'most',\n",
       " 'other',\n",
       " 'some',\n",
       " 'such',\n",
       " 'no',\n",
       " 'nor',\n",
       " 'not',\n",
       " 'only',\n",
       " 'own',\n",
       " 'same',\n",
       " 'so',\n",
       " 'than',\n",
       " 'too',\n",
       " 'very',\n",
       " 's',\n",
       " 't',\n",
       " 'can',\n",
       " 'will',\n",
       " 'just',\n",
       " 'don',\n",
       " \"don't\",\n",
       " 'should',\n",
       " \"should've\",\n",
       " 'now',\n",
       " 'd',\n",
       " 'll',\n",
       " 'm',\n",
       " 'o',\n",
       " 're',\n",
       " 've',\n",
       " 'y',\n",
       " 'ain',\n",
       " 'aren',\n",
       " \"aren't\",\n",
       " 'couldn',\n",
       " \"couldn't\",\n",
       " 'didn',\n",
       " \"didn't\",\n",
       " 'doesn',\n",
       " \"doesn't\",\n",
       " 'hadn',\n",
       " \"hadn't\",\n",
       " 'hasn',\n",
       " \"hasn't\",\n",
       " 'haven',\n",
       " \"haven't\",\n",
       " 'isn',\n",
       " \"isn't\",\n",
       " 'ma',\n",
       " 'mightn',\n",
       " \"mightn't\",\n",
       " 'mustn',\n",
       " \"mustn't\",\n",
       " 'needn',\n",
       " \"needn't\",\n",
       " 'shan',\n",
       " \"shan't\",\n",
       " 'shouldn',\n",
       " \"shouldn't\",\n",
       " 'wasn',\n",
       " \"wasn't\",\n",
       " 'weren',\n",
       " \"weren't\",\n",
       " 'won',\n",
       " \"won't\",\n",
       " 'wouldn',\n",
       " \"wouldn't\"]"
      ]
     },
     "execution_count": 132,
     "metadata": {},
     "output_type": "execute_result"
    }
   ],
   "source": [
    "stopwords.words('english')"
   ]
  },
  {
   "cell_type": "code",
   "execution_count": 133,
   "metadata": {
    "ExecuteTime": {
     "end_time": "2021-05-13T16:37:50.563634Z",
     "start_time": "2021-05-13T16:37:49.032446Z"
    }
   },
   "outputs": [
    {
     "name": "stdout",
     "output_type": "stream",
     "text": [
      "0.9412358254852969\n",
      "0.9911803329464314\n"
     ]
    }
   ],
   "source": [
    "pipeline = Pipeline([\n",
    "    ('count_vectorizer', CountVectorizer(stop_words=stopwords.words('english'))),\n",
    "    ('tfidf_transformer', TfidfTransformer()),\n",
    "    ('classifier', LogisticRegression(solver='lbfgs', max_iter=10000))\n",
    "])\n",
    "\n",
    "pipeline.fit(X_train, y_train)\n",
    "\n",
    "print(roc_auc_score(y_test, pipeline.predict_proba(X_test)[:, 1]))\n",
    "print(roc_auc_score(y_train, pipeline.predict_proba(X_train)[:, 1]))"
   ]
  },
  {
   "cell_type": "code",
   "execution_count": 134,
   "metadata": {
    "ExecuteTime": {
     "end_time": "2021-05-13T16:37:55.242387Z",
     "start_time": "2021-05-13T16:37:55.197146Z"
    }
   },
   "outputs": [],
   "source": [
    "from sklearn.decomposition import PCA"
   ]
  },
  {
   "cell_type": "code",
   "execution_count": 135,
   "metadata": {
    "ExecuteTime": {
     "end_time": "2021-05-13T16:38:00.784169Z",
     "start_time": "2021-05-13T16:38:00.051083Z"
    },
    "scrolled": true
   },
   "outputs": [
    {
     "ename": "TypeError",
     "evalue": "PCA does not support sparse input. See TruncatedSVD for a possible alternative.",
     "output_type": "error",
     "traceback": [
      "\u001b[1;31m---------------------------------------------------------------------------\u001b[0m",
      "\u001b[1;31mTypeError\u001b[0m                                 Traceback (most recent call last)",
      "\u001b[1;32m<ipython-input-135-7a103ebeb7df>\u001b[0m in \u001b[0;36m<module>\u001b[1;34m\u001b[0m\n\u001b[0;32m      6\u001b[0m ])\n\u001b[0;32m      7\u001b[0m \u001b[1;33m\u001b[0m\u001b[0m\n\u001b[1;32m----> 8\u001b[1;33m \u001b[0mpipeline\u001b[0m\u001b[1;33m.\u001b[0m\u001b[0mfit\u001b[0m\u001b[1;33m(\u001b[0m\u001b[0mX_train\u001b[0m\u001b[1;33m,\u001b[0m \u001b[0my_train\u001b[0m\u001b[1;33m)\u001b[0m\u001b[1;33m\u001b[0m\u001b[1;33m\u001b[0m\u001b[0m\n\u001b[0m\u001b[0;32m      9\u001b[0m \u001b[1;33m\u001b[0m\u001b[0m\n\u001b[0;32m     10\u001b[0m \u001b[0mprint\u001b[0m\u001b[1;33m(\u001b[0m\u001b[0mroc_auc_score\u001b[0m\u001b[1;33m(\u001b[0m\u001b[0my_test\u001b[0m\u001b[1;33m,\u001b[0m \u001b[0mpipeline\u001b[0m\u001b[1;33m.\u001b[0m\u001b[0mpredict_proba\u001b[0m\u001b[1;33m(\u001b[0m\u001b[0mX_test\u001b[0m\u001b[1;33m)\u001b[0m\u001b[1;33m[\u001b[0m\u001b[1;33m:\u001b[0m\u001b[1;33m,\u001b[0m \u001b[1;36m1\u001b[0m\u001b[1;33m]\u001b[0m\u001b[1;33m)\u001b[0m\u001b[1;33m)\u001b[0m\u001b[1;33m\u001b[0m\u001b[1;33m\u001b[0m\u001b[0m\n",
      "\u001b[1;32mc:\\users\\raian\\appdata\\local\\programs\\python\\python39\\lib\\site-packages\\sklearn\\pipeline.py\u001b[0m in \u001b[0;36mfit\u001b[1;34m(self, X, y, **fit_params)\u001b[0m\n\u001b[0;32m    328\u001b[0m         \"\"\"\n\u001b[0;32m    329\u001b[0m         \u001b[0mfit_params_steps\u001b[0m \u001b[1;33m=\u001b[0m \u001b[0mself\u001b[0m\u001b[1;33m.\u001b[0m\u001b[0m_check_fit_params\u001b[0m\u001b[1;33m(\u001b[0m\u001b[1;33m**\u001b[0m\u001b[0mfit_params\u001b[0m\u001b[1;33m)\u001b[0m\u001b[1;33m\u001b[0m\u001b[1;33m\u001b[0m\u001b[0m\n\u001b[1;32m--> 330\u001b[1;33m         \u001b[0mXt\u001b[0m \u001b[1;33m=\u001b[0m \u001b[0mself\u001b[0m\u001b[1;33m.\u001b[0m\u001b[0m_fit\u001b[0m\u001b[1;33m(\u001b[0m\u001b[0mX\u001b[0m\u001b[1;33m,\u001b[0m \u001b[0my\u001b[0m\u001b[1;33m,\u001b[0m \u001b[1;33m**\u001b[0m\u001b[0mfit_params_steps\u001b[0m\u001b[1;33m)\u001b[0m\u001b[1;33m\u001b[0m\u001b[1;33m\u001b[0m\u001b[0m\n\u001b[0m\u001b[0;32m    331\u001b[0m         with _print_elapsed_time('Pipeline',\n\u001b[0;32m    332\u001b[0m                                  self._log_message(len(self.steps) - 1)):\n",
      "\u001b[1;32mc:\\users\\raian\\appdata\\local\\programs\\python\\python39\\lib\\site-packages\\sklearn\\pipeline.py\u001b[0m in \u001b[0;36m_fit\u001b[1;34m(self, X, y, **fit_params_steps)\u001b[0m\n\u001b[0;32m    290\u001b[0m                 \u001b[0mcloned_transformer\u001b[0m \u001b[1;33m=\u001b[0m \u001b[0mclone\u001b[0m\u001b[1;33m(\u001b[0m\u001b[0mtransformer\u001b[0m\u001b[1;33m)\u001b[0m\u001b[1;33m\u001b[0m\u001b[1;33m\u001b[0m\u001b[0m\n\u001b[0;32m    291\u001b[0m             \u001b[1;31m# Fit or load from cache the current transformer\u001b[0m\u001b[1;33m\u001b[0m\u001b[1;33m\u001b[0m\u001b[1;33m\u001b[0m\u001b[0m\n\u001b[1;32m--> 292\u001b[1;33m             X, fitted_transformer = fit_transform_one_cached(\n\u001b[0m\u001b[0;32m    293\u001b[0m                 \u001b[0mcloned_transformer\u001b[0m\u001b[1;33m,\u001b[0m \u001b[0mX\u001b[0m\u001b[1;33m,\u001b[0m \u001b[0my\u001b[0m\u001b[1;33m,\u001b[0m \u001b[1;32mNone\u001b[0m\u001b[1;33m,\u001b[0m\u001b[1;33m\u001b[0m\u001b[1;33m\u001b[0m\u001b[0m\n\u001b[0;32m    294\u001b[0m                 \u001b[0mmessage_clsname\u001b[0m\u001b[1;33m=\u001b[0m\u001b[1;34m'Pipeline'\u001b[0m\u001b[1;33m,\u001b[0m\u001b[1;33m\u001b[0m\u001b[1;33m\u001b[0m\u001b[0m\n",
      "\u001b[1;32mc:\\users\\raian\\appdata\\local\\programs\\python\\python39\\lib\\site-packages\\joblib\\memory.py\u001b[0m in \u001b[0;36m__call__\u001b[1;34m(self, *args, **kwargs)\u001b[0m\n\u001b[0;32m    350\u001b[0m \u001b[1;33m\u001b[0m\u001b[0m\n\u001b[0;32m    351\u001b[0m     \u001b[1;32mdef\u001b[0m \u001b[0m__call__\u001b[0m\u001b[1;33m(\u001b[0m\u001b[0mself\u001b[0m\u001b[1;33m,\u001b[0m \u001b[1;33m*\u001b[0m\u001b[0margs\u001b[0m\u001b[1;33m,\u001b[0m \u001b[1;33m**\u001b[0m\u001b[0mkwargs\u001b[0m\u001b[1;33m)\u001b[0m\u001b[1;33m:\u001b[0m\u001b[1;33m\u001b[0m\u001b[1;33m\u001b[0m\u001b[0m\n\u001b[1;32m--> 352\u001b[1;33m         \u001b[1;32mreturn\u001b[0m \u001b[0mself\u001b[0m\u001b[1;33m.\u001b[0m\u001b[0mfunc\u001b[0m\u001b[1;33m(\u001b[0m\u001b[1;33m*\u001b[0m\u001b[0margs\u001b[0m\u001b[1;33m,\u001b[0m \u001b[1;33m**\u001b[0m\u001b[0mkwargs\u001b[0m\u001b[1;33m)\u001b[0m\u001b[1;33m\u001b[0m\u001b[1;33m\u001b[0m\u001b[0m\n\u001b[0m\u001b[0;32m    353\u001b[0m \u001b[1;33m\u001b[0m\u001b[0m\n\u001b[0;32m    354\u001b[0m     \u001b[1;32mdef\u001b[0m \u001b[0mcall_and_shelve\u001b[0m\u001b[1;33m(\u001b[0m\u001b[0mself\u001b[0m\u001b[1;33m,\u001b[0m \u001b[1;33m*\u001b[0m\u001b[0margs\u001b[0m\u001b[1;33m,\u001b[0m \u001b[1;33m**\u001b[0m\u001b[0mkwargs\u001b[0m\u001b[1;33m)\u001b[0m\u001b[1;33m:\u001b[0m\u001b[1;33m\u001b[0m\u001b[1;33m\u001b[0m\u001b[0m\n",
      "\u001b[1;32mc:\\users\\raian\\appdata\\local\\programs\\python\\python39\\lib\\site-packages\\sklearn\\pipeline.py\u001b[0m in \u001b[0;36m_fit_transform_one\u001b[1;34m(transformer, X, y, weight, message_clsname, message, **fit_params)\u001b[0m\n\u001b[0;32m    738\u001b[0m     \u001b[1;32mwith\u001b[0m \u001b[0m_print_elapsed_time\u001b[0m\u001b[1;33m(\u001b[0m\u001b[0mmessage_clsname\u001b[0m\u001b[1;33m,\u001b[0m \u001b[0mmessage\u001b[0m\u001b[1;33m)\u001b[0m\u001b[1;33m:\u001b[0m\u001b[1;33m\u001b[0m\u001b[1;33m\u001b[0m\u001b[0m\n\u001b[0;32m    739\u001b[0m         \u001b[1;32mif\u001b[0m \u001b[0mhasattr\u001b[0m\u001b[1;33m(\u001b[0m\u001b[0mtransformer\u001b[0m\u001b[1;33m,\u001b[0m \u001b[1;34m'fit_transform'\u001b[0m\u001b[1;33m)\u001b[0m\u001b[1;33m:\u001b[0m\u001b[1;33m\u001b[0m\u001b[1;33m\u001b[0m\u001b[0m\n\u001b[1;32m--> 740\u001b[1;33m             \u001b[0mres\u001b[0m \u001b[1;33m=\u001b[0m \u001b[0mtransformer\u001b[0m\u001b[1;33m.\u001b[0m\u001b[0mfit_transform\u001b[0m\u001b[1;33m(\u001b[0m\u001b[0mX\u001b[0m\u001b[1;33m,\u001b[0m \u001b[0my\u001b[0m\u001b[1;33m,\u001b[0m \u001b[1;33m**\u001b[0m\u001b[0mfit_params\u001b[0m\u001b[1;33m)\u001b[0m\u001b[1;33m\u001b[0m\u001b[1;33m\u001b[0m\u001b[0m\n\u001b[0m\u001b[0;32m    741\u001b[0m         \u001b[1;32melse\u001b[0m\u001b[1;33m:\u001b[0m\u001b[1;33m\u001b[0m\u001b[1;33m\u001b[0m\u001b[0m\n\u001b[0;32m    742\u001b[0m             \u001b[0mres\u001b[0m \u001b[1;33m=\u001b[0m \u001b[0mtransformer\u001b[0m\u001b[1;33m.\u001b[0m\u001b[0mfit\u001b[0m\u001b[1;33m(\u001b[0m\u001b[0mX\u001b[0m\u001b[1;33m,\u001b[0m \u001b[0my\u001b[0m\u001b[1;33m,\u001b[0m \u001b[1;33m**\u001b[0m\u001b[0mfit_params\u001b[0m\u001b[1;33m)\u001b[0m\u001b[1;33m.\u001b[0m\u001b[0mtransform\u001b[0m\u001b[1;33m(\u001b[0m\u001b[0mX\u001b[0m\u001b[1;33m)\u001b[0m\u001b[1;33m\u001b[0m\u001b[1;33m\u001b[0m\u001b[0m\n",
      "\u001b[1;32mc:\\users\\raian\\appdata\\local\\programs\\python\\python39\\lib\\site-packages\\sklearn\\decomposition\\_pca.py\u001b[0m in \u001b[0;36mfit_transform\u001b[1;34m(self, X, y)\u001b[0m\n\u001b[0;32m    374\u001b[0m         \u001b[0mC\u001b[0m\u001b[1;33m-\u001b[0m\u001b[0mordered\u001b[0m \u001b[0marray\u001b[0m\u001b[1;33m,\u001b[0m \u001b[0muse\u001b[0m \u001b[1;34m'np.ascontiguousarray'\u001b[0m\u001b[1;33m.\u001b[0m\u001b[1;33m\u001b[0m\u001b[1;33m\u001b[0m\u001b[0m\n\u001b[0;32m    375\u001b[0m         \"\"\"\n\u001b[1;32m--> 376\u001b[1;33m         \u001b[0mU\u001b[0m\u001b[1;33m,\u001b[0m \u001b[0mS\u001b[0m\u001b[1;33m,\u001b[0m \u001b[0mV\u001b[0m \u001b[1;33m=\u001b[0m \u001b[0mself\u001b[0m\u001b[1;33m.\u001b[0m\u001b[0m_fit\u001b[0m\u001b[1;33m(\u001b[0m\u001b[0mX\u001b[0m\u001b[1;33m)\u001b[0m\u001b[1;33m\u001b[0m\u001b[1;33m\u001b[0m\u001b[0m\n\u001b[0m\u001b[0;32m    377\u001b[0m         \u001b[0mU\u001b[0m \u001b[1;33m=\u001b[0m \u001b[0mU\u001b[0m\u001b[1;33m[\u001b[0m\u001b[1;33m:\u001b[0m\u001b[1;33m,\u001b[0m \u001b[1;33m:\u001b[0m\u001b[0mself\u001b[0m\u001b[1;33m.\u001b[0m\u001b[0mn_components_\u001b[0m\u001b[1;33m]\u001b[0m\u001b[1;33m\u001b[0m\u001b[1;33m\u001b[0m\u001b[0m\n\u001b[0;32m    378\u001b[0m \u001b[1;33m\u001b[0m\u001b[0m\n",
      "\u001b[1;32mc:\\users\\raian\\appdata\\local\\programs\\python\\python39\\lib\\site-packages\\sklearn\\decomposition\\_pca.py\u001b[0m in \u001b[0;36m_fit\u001b[1;34m(self, X)\u001b[0m\n\u001b[0;32m    392\u001b[0m         \u001b[1;31m# This is more informative than the generic one raised by check_array.\u001b[0m\u001b[1;33m\u001b[0m\u001b[1;33m\u001b[0m\u001b[1;33m\u001b[0m\u001b[0m\n\u001b[0;32m    393\u001b[0m         \u001b[1;32mif\u001b[0m \u001b[0missparse\u001b[0m\u001b[1;33m(\u001b[0m\u001b[0mX\u001b[0m\u001b[1;33m)\u001b[0m\u001b[1;33m:\u001b[0m\u001b[1;33m\u001b[0m\u001b[1;33m\u001b[0m\u001b[0m\n\u001b[1;32m--> 394\u001b[1;33m             raise TypeError('PCA does not support sparse input. See '\n\u001b[0m\u001b[0;32m    395\u001b[0m                             'TruncatedSVD for a possible alternative.')\n\u001b[0;32m    396\u001b[0m \u001b[1;33m\u001b[0m\u001b[0m\n",
      "\u001b[1;31mTypeError\u001b[0m: PCA does not support sparse input. See TruncatedSVD for a possible alternative."
     ]
    }
   ],
   "source": [
    "pipeline = Pipeline([\n",
    "    ('count_vectorizer', CountVectorizer(stop_words=stopwords.words('english'))),\n",
    "    ('tfidf_transformer', TfidfTransformer()),\n",
    "    ('pca', PCA(n_components=100)),\n",
    "    ('classifier', LogisticRegression(solver='lbfgs', max_iter=10000))\n",
    "])\n",
    "\n",
    "pipeline.fit(X_train, y_train)\n",
    "\n",
    "print(roc_auc_score(y_test, pipeline.predict_proba(X_test)[:, 1]))\n",
    "print(roc_auc_score(y_train, pipeline.predict_proba(X_train)[:, 1]))"
   ]
  },
  {
   "cell_type": "code",
   "execution_count": null,
   "metadata": {
    "ExecuteTime": {
     "end_time": "2021-05-13T16:38:00.788159Z",
     "start_time": "2021-05-13T16:37:09.364Z"
    }
   },
   "outputs": [],
   "source": [
    "from sklearn.decomposition import PCA, TruncatedSVD"
   ]
  },
  {
   "cell_type": "code",
   "execution_count": null,
   "metadata": {
    "ExecuteTime": {
     "end_time": "2021-05-13T16:38:00.790154Z",
     "start_time": "2021-05-13T16:37:13.638Z"
    }
   },
   "outputs": [],
   "source": [
    "pipeline = Pipeline([\n",
    "    ('count_vectorizer', CountVectorizer(ngram_range=(1,1), \n",
    "                                         stop_words=stopwords.words('english'))),\n",
    "    ('tfidf_transformer', TfidfTransformer()),\n",
    "    ('pca', TruncatedSVD(n_components=250)),\n",
    "    ('classifier', LogisticRegression(solver='lbfgs', C=1, max_iter=10000))\n",
    "])\n",
    "\n",
    "pipeline.fit(X_train, y_train)\n",
    "\n",
    "print(roc_auc_score(y_test, pipeline.predict_proba(X_test)[:, 1]))\n",
    "print(roc_auc_score(y_train, pipeline.predict_proba(X_train)[:, 1]))"
   ]
  },
  {
   "cell_type": "code",
   "execution_count": null,
   "metadata": {
    "ExecuteTime": {
     "end_time": "2021-05-13T16:38:00.791151Z",
     "start_time": "2021-05-13T16:37:14.309Z"
    }
   },
   "outputs": [],
   "source": [
    "pipeline.named_steps.pca.explained_variance_.cumsum()"
   ]
  },
  {
   "cell_type": "code",
   "execution_count": 77,
   "metadata": {
    "ExecuteTime": {
     "end_time": "2020-12-09T18:23:09.076779Z",
     "start_time": "2020-12-09T18:23:08.942761Z"
    }
   },
   "outputs": [
    {
     "data": {
      "text/plain": [
       "[<matplotlib.lines.Line2D at 0x28a077326d0>]"
      ]
     },
     "execution_count": 77,
     "metadata": {},
     "output_type": "execute_result"
    },
    {
     "data": {
      "image/png": "[encoded data removed]",
      "text/plain": [
       "<Figure size 432x288 with 1 Axes>"
      ]
     },
     "metadata": {
      "needs_background": "light"
     },
     "output_type": "display_data"
    }
   ],
   "source": [
    "import matplotlib.pyplot as plt\n",
    "plt.plot(pipeline.named_steps.pca.explained_variance_.cumsum())"
   ]
  },
  {
   "cell_type": "code",
   "execution_count": null,
   "metadata": {
    "ExecuteTime": {
     "end_time": "2021-05-13T16:38:00.793146Z",
     "start_time": "2021-05-13T16:37:26.350Z"
    }
   },
   "outputs": [],
   "source": [
    "pipeline = Pipeline([\n",
    "    ('count_vectorizer', CountVectorizer(ngram_range=(1,1), \n",
    "                                         stop_words=stopwords.words('english'))),\n",
    "    ('tfidf_transformer', TfidfTransformer()),\n",
    "    ('pca', TruncatedSVD(n_components=2000)),\n",
    "    ('classifier', LogisticRegression(solver='lbfgs', C=1, max_iter=10000))\n",
    "])\n",
    "\n",
    "pipeline.fit(X_train, y_train)\n",
    "\n",
    "print(roc_auc_score(y_test, pipeline.predict_proba(X_test)[:, 1]))\n",
    "print(roc_auc_score(y_train, pipeline.predict_proba(X_train)[:, 1]))"
   ]
  },
  {
   "cell_type": "code",
   "execution_count": null,
   "metadata": {
    "ExecuteTime": {
     "end_time": "2021-05-13T16:38:00.795141Z",
     "start_time": "2021-05-13T16:37:26.753Z"
    }
   },
   "outputs": [],
   "source": [
    "import matplotlib.pyplot as plt\n",
    "plt.plot(pipeline.named_steps.pca.explained_variance_.cumsum())"
   ]
  },
  {
   "cell_type": "markdown",
   "metadata": {},
   "source": [
    "# Multiclass"
   ]
  },
  {
   "cell_type": "code",
   "execution_count": 137,
   "metadata": {
    "ExecuteTime": {
     "end_time": "2021-05-13T16:38:11.139023Z",
     "start_time": "2021-05-13T16:38:11.103091Z"
    }
   },
   "outputs": [
    {
     "data": {
      "text/html": [
       "<div>\n",
       "<style scoped>\n",
       "    .dataframe tbody tr th:only-of-type {\n",
       "        vertical-align: middle;\n",
       "    }\n",
       "\n",
       "    .dataframe tbody tr th {\n",
       "        vertical-align: top;\n",
       "    }\n",
       "\n",
       "    .dataframe thead th {\n",
       "        text-align: right;\n",
       "    }\n",
       "</style>\n",
       "<table border=\"1\" class=\"dataframe\">\n",
       "  <thead>\n",
       "    <tr style=\"text-align: right;\">\n",
       "      <th></th>\n",
       "      <th>question_text</th>\n",
       "      <th>question_topic</th>\n",
       "    </tr>\n",
       "  </thead>\n",
       "  <tbody>\n",
       "    <tr>\n",
       "      <th>3315</th>\n",
       "      <td>I think I'm going to get the Revere 4 Drawer C...</td>\n",
       "      <td>Returns &amp; Refunds</td>\n",
       "    </tr>\n",
       "    <tr>\n",
       "      <th>4791</th>\n",
       "      <td>Could you give me a coupon or promo code so I ...</td>\n",
       "      <td>Sales/Promotions</td>\n",
       "    </tr>\n",
       "    <tr>\n",
       "      <th>542</th>\n",
       "      <td>Let's say I get the menthol ice tobacco cartri...</td>\n",
       "      <td>Returns &amp; Refunds</td>\n",
       "    </tr>\n",
       "    <tr>\n",
       "      <th>2050</th>\n",
       "      <td>What are the dimensions of the Logo backpack (...</td>\n",
       "      <td>Product Specifications</td>\n",
       "    </tr>\n",
       "    <tr>\n",
       "      <th>41</th>\n",
       "      <td>What's the thickness of the band on the golden...</td>\n",
       "      <td>Product Specifications</td>\n",
       "    </tr>\n",
       "    <tr>\n",
       "      <th>2842</th>\n",
       "      <td>Do you have any women's leather boots in gray ...</td>\n",
       "      <td>Product Availability</td>\n",
       "    </tr>\n",
       "    <tr>\n",
       "      <th>614</th>\n",
       "      <td>I really like these tings (STYLE NUMBER: R1287...</td>\n",
       "      <td>Product Comparison</td>\n",
       "    </tr>\n",
       "    <tr>\n",
       "      <th>4413</th>\n",
       "      <td>I think I want to get the Military Jacket (Ite...</td>\n",
       "      <td>Returns &amp; Refunds</td>\n",
       "    </tr>\n",
       "    <tr>\n",
       "      <th>1262</th>\n",
       "      <td>You guys don't sell apparel, do you? I'd love ...</td>\n",
       "      <td>Product Availability</td>\n",
       "    </tr>\n",
       "    <tr>\n",
       "      <th>1811</th>\n",
       "      <td>If I order the Frontier Ring (R15544MSS) and d...</td>\n",
       "      <td>Returns &amp; Refunds</td>\n",
       "    </tr>\n",
       "  </tbody>\n",
       "</table>\n",
       "</div>"
      ],
      "text/plain": [
       "                                          question_text  \\\n",
       "3315  I think I'm going to get the Revere 4 Drawer C...   \n",
       "4791  Could you give me a coupon or promo code so I ...   \n",
       "542   Let's say I get the menthol ice tobacco cartri...   \n",
       "2050  What are the dimensions of the Logo backpack (...   \n",
       "41    What's the thickness of the band on the golden...   \n",
       "2842  Do you have any women's leather boots in gray ...   \n",
       "614   I really like these tings (STYLE NUMBER: R1287...   \n",
       "4413  I think I want to get the Military Jacket (Ite...   \n",
       "1262  You guys don't sell apparel, do you? I'd love ...   \n",
       "1811  If I order the Frontier Ring (R15544MSS) and d...   \n",
       "\n",
       "              question_topic  \n",
       "3315       Returns & Refunds  \n",
       "4791        Sales/Promotions  \n",
       "542        Returns & Refunds  \n",
       "2050  Product Specifications  \n",
       "41    Product Specifications  \n",
       "2842    Product Availability  \n",
       "614       Product Comparison  \n",
       "4413       Returns & Refunds  \n",
       "1262    Product Availability  \n",
       "1811       Returns & Refunds  "
      ]
     },
     "execution_count": 137,
     "metadata": {},
     "output_type": "execute_result"
    }
   ],
   "source": [
    "questions_df = pd.read_csv('question_topic.csv')\n",
    "questions_df.sample(10)"
   ]
  },
  {
   "cell_type": "code",
   "execution_count": 138,
   "metadata": {
    "ExecuteTime": {
     "end_time": "2021-05-13T16:38:15.893101Z",
     "start_time": "2021-05-13T16:38:15.878210Z"
    }
   },
   "outputs": [
    {
     "data": {
      "text/plain": [
       "(5000, 2)"
      ]
     },
     "execution_count": 138,
     "metadata": {},
     "output_type": "execute_result"
    }
   ],
   "source": [
    "questions_df.shape"
   ]
  },
  {
   "cell_type": "code",
   "execution_count": 139,
   "metadata": {
    "ExecuteTime": {
     "end_time": "2021-05-13T16:38:20.656126Z",
     "start_time": "2021-05-13T16:38:20.627118Z"
    }
   },
   "outputs": [
    {
     "name": "stdout",
     "output_type": "stream",
     "text": [
      "['Sales/Promotions' 'Shipping' 'Product Availability'\n",
      " 'Product Specifications' 'Omnichannel' 'Product Comparison'\n",
      " 'Returns & Refunds']\n"
     ]
    }
   ],
   "source": [
    "print(questions_df['question_topic'].unique())"
   ]
  },
  {
   "cell_type": "code",
   "execution_count": 140,
   "metadata": {
    "ExecuteTime": {
     "end_time": "2021-05-13T16:38:25.434598Z",
     "start_time": "2021-05-13T16:38:25.421179Z"
    }
   },
   "outputs": [],
   "source": [
    "X = questions_df['question_text']\n",
    "y = questions_df['question_topic']"
   ]
  },
  {
   "cell_type": "code",
   "execution_count": 141,
   "metadata": {
    "ExecuteTime": {
     "end_time": "2021-05-13T16:38:30.447156Z",
     "start_time": "2021-05-13T16:38:30.261098Z"
    }
   },
   "outputs": [
    {
     "name": "stderr",
     "output_type": "stream",
     "text": [
      "c:\\users\\raian\\appdata\\local\\programs\\python\\python39\\lib\\site-packages\\seaborn\\_decorators.py:36: FutureWarning: Pass the following variable as a keyword arg: x. From version 0.12, the only valid positional argument will be `data`, and passing other arguments without an explicit keyword will result in an error or misinterpretation.\n",
      "  warnings.warn(\n"
     ]
    },
    {
     "data": {
      "text/plain": [
       "(array([0, 1, 2, 3, 4, 5, 6]),\n",
       " [Text(0, 0, 'Sales/Promotions'),\n",
       "  Text(1, 0, 'Shipping'),\n",
       "  Text(2, 0, 'Product Availability'),\n",
       "  Text(3, 0, 'Product Specifications'),\n",
       "  Text(4, 0, 'Omnichannel'),\n",
       "  Text(5, 0, 'Product Comparison'),\n",
       "  Text(6, 0, 'Returns & Refunds')])"
      ]
     },
     "execution_count": 141,
     "metadata": {},
     "output_type": "execute_result"
    },
    {
     "data": {
      "image/png": "[encoded data removed]",
      "text/plain": [
       "<Figure size 432x288 with 1 Axes>"
      ]
     },
     "metadata": {
      "needs_background": "light"
     },
     "output_type": "display_data"
    }
   ],
   "source": [
    "sns.countplot(y)\n",
    "plt.xticks(rotation=90)"
   ]
  },
  {
   "cell_type": "code",
   "execution_count": 142,
   "metadata": {
    "ExecuteTime": {
     "end_time": "2021-05-13T16:38:35.155325Z",
     "start_time": "2021-05-13T16:38:35.140211Z"
    }
   },
   "outputs": [],
   "source": [
    "X_train, X_test, y_train, y_test = train_test_split(X, y, test_size=0.2, random_state=42)"
   ]
  },
  {
   "cell_type": "code",
   "execution_count": 143,
   "metadata": {
    "ExecuteTime": {
     "end_time": "2021-05-13T16:38:39.963345Z",
     "start_time": "2021-05-13T16:38:39.948941Z"
    }
   },
   "outputs": [],
   "source": [
    "pipeline = Pipeline([\n",
    "    ('count_vectorizer', CountVectorizer(min_df=3, max_df=1000)),\n",
    "    ('tfidf_transformer', TfidfTransformer()),\n",
    "    ('classifier', LogisticRegression(solver='lbfgs', max_iter=10000))\n",
    "])"
   ]
  },
  {
   "cell_type": "code",
   "execution_count": 144,
   "metadata": {
    "ExecuteTime": {
     "end_time": "2021-05-13T16:38:45.055667Z",
     "start_time": "2021-05-13T16:38:44.681989Z"
    }
   },
   "outputs": [
    {
     "data": {
      "text/plain": [
       "Pipeline(steps=[('count_vectorizer', CountVectorizer(max_df=1000, min_df=3)),\n",
       "                ('tfidf_transformer', TfidfTransformer()),\n",
       "                ('classifier', LogisticRegression(max_iter=10000))])"
      ]
     },
     "execution_count": 144,
     "metadata": {},
     "output_type": "execute_result"
    }
   ],
   "source": [
    "pipeline.fit(X_train, y_train)"
   ]
  },
  {
   "cell_type": "code",
   "execution_count": 145,
   "metadata": {
    "ExecuteTime": {
     "end_time": "2021-05-13T16:38:49.932563Z",
     "start_time": "2021-05-13T16:38:49.902074Z"
    }
   },
   "outputs": [
    {
     "data": {
      "text/plain": [
       "array(['Returns & Refunds', 'Sales/Promotions', 'Product Specifications',\n",
       "       'Shipping', 'Product Availability', 'Omnichannel',\n",
       "       'Product Availability', 'Product Availability',\n",
       "       'Returns & Refunds', 'Shipping', 'Product Comparison',\n",
       "       'Returns & Refunds', 'Product Comparison', 'Omnichannel',\n",
       "       'Returns & Refunds', 'Product Specifications', 'Shipping',\n",
       "       'Product Comparison', 'Product Comparison', 'Shipping'],\n",
       "      dtype=object)"
      ]
     },
     "execution_count": 145,
     "metadata": {},
     "output_type": "execute_result"
    }
   ],
   "source": [
    "pipeline.predict(X_test)[:20]"
   ]
  },
  {
   "cell_type": "code",
   "execution_count": 146,
   "metadata": {
    "ExecuteTime": {
     "end_time": "2021-05-13T16:38:54.665676Z",
     "start_time": "2021-05-13T16:38:54.637147Z"
    }
   },
   "outputs": [
    {
     "data": {
      "text/plain": [
       "array([0.02483425, 0.04032134, 0.02611806, 0.02566996, 0.01323995,\n",
       "       0.85311495, 0.01670148])"
      ]
     },
     "execution_count": 146,
     "metadata": {},
     "output_type": "execute_result"
    }
   ],
   "source": [
    "pipeline.predict_proba(X_test)[1]"
   ]
  },
  {
   "cell_type": "code",
   "execution_count": 147,
   "metadata": {
    "ExecuteTime": {
     "end_time": "2021-05-13T16:38:59.562319Z",
     "start_time": "2021-05-13T16:38:59.531878Z"
    }
   },
   "outputs": [
    {
     "data": {
      "text/plain": [
       "4"
      ]
     },
     "execution_count": 147,
     "metadata": {},
     "output_type": "execute_result"
    }
   ],
   "source": [
    "np.argmax(pipeline.predict_proba(X_test)[0])"
   ]
  },
  {
   "cell_type": "code",
   "execution_count": 148,
   "metadata": {
    "ExecuteTime": {
     "end_time": "2021-05-13T16:39:04.256803Z",
     "start_time": "2021-05-13T16:39:04.241868Z"
    }
   },
   "outputs": [
    {
     "data": {
      "text/plain": [
       "array(['Omnichannel', 'Product Availability', 'Product Comparison',\n",
       "       'Product Specifications', 'Returns & Refunds', 'Sales/Promotions',\n",
       "       'Shipping'], dtype=object)"
      ]
     },
     "execution_count": 148,
     "metadata": {},
     "output_type": "execute_result"
    }
   ],
   "source": [
    "pipeline.named_steps.classifier.classes_"
   ]
  },
  {
   "cell_type": "code",
   "execution_count": 149,
   "metadata": {
    "ExecuteTime": {
     "end_time": "2021-05-13T16:39:09.124522Z",
     "start_time": "2021-05-13T16:39:09.094603Z"
    }
   },
   "outputs": [
    {
     "data": {
      "text/plain": [
       "'Returns & Refunds'"
      ]
     },
     "execution_count": 149,
     "metadata": {},
     "output_type": "execute_result"
    }
   ],
   "source": [
    "pipeline.named_steps.classifier.classes_[np.argmax(pipeline.predict_proba(X_test)[0])]"
   ]
  },
  {
   "cell_type": "code",
   "execution_count": 150,
   "metadata": {
    "ExecuteTime": {
     "end_time": "2021-05-13T16:39:13.953489Z",
     "start_time": "2021-05-13T16:39:13.938407Z"
    }
   },
   "outputs": [],
   "source": [
    "from sklearn.metrics import confusion_matrix"
   ]
  },
  {
   "cell_type": "code",
   "execution_count": 151,
   "metadata": {
    "ExecuteTime": {
     "end_time": "2021-05-13T16:39:18.578621Z",
     "start_time": "2021-05-13T16:39:18.548049Z"
    }
   },
   "outputs": [
    {
     "data": {
      "text/plain": [
       "array([[ 90,   1,   0,   1,   0,   0,   0],\n",
       "       [  0, 169,   1,   1,   1,   0,   0],\n",
       "       [  0,   3, 149,   3,   0,   0,   0],\n",
       "       [  0,   6,   3, 152,   0,   0,   0],\n",
       "       [  0,   0,   0,   0, 170,   0,   0],\n",
       "       [  0,   6,   0,   4,   0,  87,   0],\n",
       "       [  0,   1,   0,   0,   0,   0, 152]], dtype=int64)"
      ]
     },
     "execution_count": 151,
     "metadata": {},
     "output_type": "execute_result"
    }
   ],
   "source": [
    "confusion_matrix(y_test, pipeline.predict(X_test))"
   ]
  },
  {
   "cell_type": "code",
   "execution_count": 152,
   "metadata": {
    "ExecuteTime": {
     "end_time": "2021-05-13T16:39:23.718778Z",
     "start_time": "2021-05-13T16:39:23.675383Z"
    }
   },
   "outputs": [
    {
     "data": {
      "text/html": [
       "<div>\n",
       "<style scoped>\n",
       "    .dataframe tbody tr th:only-of-type {\n",
       "        vertical-align: middle;\n",
       "    }\n",
       "\n",
       "    .dataframe tbody tr th {\n",
       "        vertical-align: top;\n",
       "    }\n",
       "\n",
       "    .dataframe thead th {\n",
       "        text-align: right;\n",
       "    }\n",
       "</style>\n",
       "<table border=\"1\" class=\"dataframe\">\n",
       "  <thead>\n",
       "    <tr style=\"text-align: right;\">\n",
       "      <th></th>\n",
       "      <th>Omnichannel</th>\n",
       "      <th>Product Availability</th>\n",
       "      <th>Product Comparison</th>\n",
       "      <th>Product Specifications</th>\n",
       "      <th>Returns &amp; Refunds</th>\n",
       "      <th>Sales/Promotions</th>\n",
       "      <th>Shipping</th>\n",
       "    </tr>\n",
       "  </thead>\n",
       "  <tbody>\n",
       "    <tr>\n",
       "      <th>Omnichannel</th>\n",
       "      <td>90</td>\n",
       "      <td>1</td>\n",
       "      <td>0</td>\n",
       "      <td>1</td>\n",
       "      <td>0</td>\n",
       "      <td>0</td>\n",
       "      <td>0</td>\n",
       "    </tr>\n",
       "    <tr>\n",
       "      <th>Product Availability</th>\n",
       "      <td>0</td>\n",
       "      <td>169</td>\n",
       "      <td>1</td>\n",
       "      <td>1</td>\n",
       "      <td>1</td>\n",
       "      <td>0</td>\n",
       "      <td>0</td>\n",
       "    </tr>\n",
       "    <tr>\n",
       "      <th>Product Comparison</th>\n",
       "      <td>0</td>\n",
       "      <td>3</td>\n",
       "      <td>149</td>\n",
       "      <td>3</td>\n",
       "      <td>0</td>\n",
       "      <td>0</td>\n",
       "      <td>0</td>\n",
       "    </tr>\n",
       "    <tr>\n",
       "      <th>Product Specifications</th>\n",
       "      <td>0</td>\n",
       "      <td>6</td>\n",
       "      <td>3</td>\n",
       "      <td>152</td>\n",
       "      <td>0</td>\n",
       "      <td>0</td>\n",
       "      <td>0</td>\n",
       "    </tr>\n",
       "    <tr>\n",
       "      <th>Returns &amp; Refunds</th>\n",
       "      <td>0</td>\n",
       "      <td>0</td>\n",
       "      <td>0</td>\n",
       "      <td>0</td>\n",
       "      <td>170</td>\n",
       "      <td>0</td>\n",
       "      <td>0</td>\n",
       "    </tr>\n",
       "    <tr>\n",
       "      <th>Sales/Promotions</th>\n",
       "      <td>0</td>\n",
       "      <td>6</td>\n",
       "      <td>0</td>\n",
       "      <td>4</td>\n",
       "      <td>0</td>\n",
       "      <td>87</td>\n",
       "      <td>0</td>\n",
       "    </tr>\n",
       "    <tr>\n",
       "      <th>Shipping</th>\n",
       "      <td>0</td>\n",
       "      <td>1</td>\n",
       "      <td>0</td>\n",
       "      <td>0</td>\n",
       "      <td>0</td>\n",
       "      <td>0</td>\n",
       "      <td>152</td>\n",
       "    </tr>\n",
       "  </tbody>\n",
       "</table>\n",
       "</div>"
      ],
      "text/plain": [
       "                        Omnichannel  Product Availability  Product Comparison  \\\n",
       "Omnichannel                      90                     1                   0   \n",
       "Product Availability              0                   169                   1   \n",
       "Product Comparison                0                     3                 149   \n",
       "Product Specifications            0                     6                   3   \n",
       "Returns & Refunds                 0                     0                   0   \n",
       "Sales/Promotions                  0                     6                   0   \n",
       "Shipping                          0                     1                   0   \n",
       "\n",
       "                        Product Specifications  Returns & Refunds  \\\n",
       "Omnichannel                                  1                  0   \n",
       "Product Availability                         1                  1   \n",
       "Product Comparison                           3                  0   \n",
       "Product Specifications                     152                  0   \n",
       "Returns & Refunds                            0                170   \n",
       "Sales/Promotions                             4                  0   \n",
       "Shipping                                     0                  0   \n",
       "\n",
       "                        Sales/Promotions  Shipping  \n",
       "Omnichannel                            0         0  \n",
       "Product Availability                   0         0  \n",
       "Product Comparison                     0         0  \n",
       "Product Specifications                 0         0  \n",
       "Returns & Refunds                      0         0  \n",
       "Sales/Promotions                      87         0  \n",
       "Shipping                               0       152  "
      ]
     },
     "execution_count": 152,
     "metadata": {},
     "output_type": "execute_result"
    }
   ],
   "source": [
    "pd.DataFrame(confusion_matrix(y_test, pipeline.predict(X_test)), \n",
    "             columns=pipeline.classes_, index=pipeline.classes_)"
   ]
  },
  {
   "cell_type": "code",
   "execution_count": 153,
   "metadata": {
    "ExecuteTime": {
     "end_time": "2021-05-13T16:39:30.034059Z",
     "start_time": "2021-05-13T16:39:28.636908Z"
    },
    "scrolled": false
   },
   "outputs": [
    {
     "name": "stderr",
     "output_type": "stream",
     "text": [
      "c:\\users\\raian\\appdata\\local\\programs\\python\\python39\\lib\\site-packages\\sklearn\\base.py:209: FutureWarning: From version 0.24, get_params will raise an AttributeError if a parameter cannot be retrieved as an instance attribute. Previously it would return None.\n",
      "  warnings.warn('From version 0.24, get_params will raise an '\n"
     ]
    },
    {
     "data": {
      "image/png": "[encoded data removed]",
      "text/plain": [
       "<Figure size 576x396 with 1 Axes>"
      ]
     },
     "metadata": {},
     "output_type": "display_data"
    },
    {
     "data": {
      "text/plain": [
       "<AxesSubplot:title={'center':'LogisticRegression Confusion Matrix'}, xlabel='Predicted Class', ylabel='True Class'>"
      ]
     },
     "execution_count": 153,
     "metadata": {},
     "output_type": "execute_result"
    }
   ],
   "source": [
    "from yellowbrick.classifier import ConfusionMatrix\n",
    "\n",
    "cm = ConfusionMatrix(pipeline, classes=pipeline.classes_)\n",
    "cm.fit(X_train, y_train)\n",
    "cm.score(X_test, y_test)\n",
    "cm.show()"
   ]
  },
  {
   "cell_type": "code",
   "execution_count": 154,
   "metadata": {
    "ExecuteTime": {
     "end_time": "2021-05-13T16:39:34.864586Z",
     "start_time": "2021-05-13T16:39:34.818119Z"
    }
   },
   "outputs": [
    {
     "ename": "ValueError",
     "evalue": "multi_class must be in ('ovo', 'ovr')",
     "output_type": "error",
     "traceback": [
      "\u001b[1;31m---------------------------------------------------------------------------\u001b[0m",
      "\u001b[1;31mValueError\u001b[0m                                Traceback (most recent call last)",
      "\u001b[1;32m<ipython-input-154-870c90d83bc4>\u001b[0m in \u001b[0;36m<module>\u001b[1;34m\u001b[0m\n\u001b[1;32m----> 1\u001b[1;33m \u001b[0mroc_auc_score\u001b[0m\u001b[1;33m(\u001b[0m\u001b[0my_test\u001b[0m\u001b[1;33m,\u001b[0m \u001b[0mpipeline\u001b[0m\u001b[1;33m.\u001b[0m\u001b[0mpredict_proba\u001b[0m\u001b[1;33m(\u001b[0m\u001b[0mX_test\u001b[0m\u001b[1;33m)\u001b[0m\u001b[1;33m)\u001b[0m\u001b[1;33m\u001b[0m\u001b[1;33m\u001b[0m\u001b[0m\n\u001b[0m",
      "\u001b[1;32mc:\\users\\raian\\appdata\\local\\programs\\python\\python39\\lib\\site-packages\\sklearn\\utils\\validation.py\u001b[0m in \u001b[0;36minner_f\u001b[1;34m(*args, **kwargs)\u001b[0m\n\u001b[0;32m     70\u001b[0m                           FutureWarning)\n\u001b[0;32m     71\u001b[0m         \u001b[0mkwargs\u001b[0m\u001b[1;33m.\u001b[0m\u001b[0mupdate\u001b[0m\u001b[1;33m(\u001b[0m\u001b[1;33m{\u001b[0m\u001b[0mk\u001b[0m\u001b[1;33m:\u001b[0m \u001b[0marg\u001b[0m \u001b[1;32mfor\u001b[0m \u001b[0mk\u001b[0m\u001b[1;33m,\u001b[0m \u001b[0marg\u001b[0m \u001b[1;32min\u001b[0m \u001b[0mzip\u001b[0m\u001b[1;33m(\u001b[0m\u001b[0msig\u001b[0m\u001b[1;33m.\u001b[0m\u001b[0mparameters\u001b[0m\u001b[1;33m,\u001b[0m \u001b[0margs\u001b[0m\u001b[1;33m)\u001b[0m\u001b[1;33m}\u001b[0m\u001b[1;33m)\u001b[0m\u001b[1;33m\u001b[0m\u001b[1;33m\u001b[0m\u001b[0m\n\u001b[1;32m---> 72\u001b[1;33m         \u001b[1;32mreturn\u001b[0m \u001b[0mf\u001b[0m\u001b[1;33m(\u001b[0m\u001b[1;33m**\u001b[0m\u001b[0mkwargs\u001b[0m\u001b[1;33m)\u001b[0m\u001b[1;33m\u001b[0m\u001b[1;33m\u001b[0m\u001b[0m\n\u001b[0m\u001b[0;32m     73\u001b[0m     \u001b[1;32mreturn\u001b[0m \u001b[0minner_f\u001b[0m\u001b[1;33m\u001b[0m\u001b[1;33m\u001b[0m\u001b[0m\n\u001b[0;32m     74\u001b[0m \u001b[1;33m\u001b[0m\u001b[0m\n",
      "\u001b[1;32mc:\\users\\raian\\appdata\\local\\programs\\python\\python39\\lib\\site-packages\\sklearn\\metrics\\_ranking.py\u001b[0m in \u001b[0;36mroc_auc_score\u001b[1;34m(y_true, y_score, average, sample_weight, max_fpr, multi_class, labels)\u001b[0m\n\u001b[0;32m    382\u001b[0m                              \"instead\".format(max_fpr))\n\u001b[0;32m    383\u001b[0m         \u001b[1;32mif\u001b[0m \u001b[0mmulti_class\u001b[0m \u001b[1;33m==\u001b[0m \u001b[1;34m'raise'\u001b[0m\u001b[1;33m:\u001b[0m\u001b[1;33m\u001b[0m\u001b[1;33m\u001b[0m\u001b[0m\n\u001b[1;32m--> 384\u001b[1;33m             \u001b[1;32mraise\u001b[0m \u001b[0mValueError\u001b[0m\u001b[1;33m(\u001b[0m\u001b[1;34m\"multi_class must be in ('ovo', 'ovr')\"\u001b[0m\u001b[1;33m)\u001b[0m\u001b[1;33m\u001b[0m\u001b[1;33m\u001b[0m\u001b[0m\n\u001b[0m\u001b[0;32m    385\u001b[0m         return _multiclass_roc_auc_score(y_true, y_score, labels,\n\u001b[0;32m    386\u001b[0m                                          multi_class, average, sample_weight)\n",
      "\u001b[1;31mValueError\u001b[0m: multi_class must be in ('ovo', 'ovr')"
     ]
    }
   ],
   "source": [
    "roc_auc_score(y_test, pipeline.predict_proba(X_test))"
   ]
  },
  {
   "cell_type": "code",
   "execution_count": null,
   "metadata": {
    "ExecuteTime": {
     "end_time": "2021-05-13T16:39:34.866581Z",
     "start_time": "2021-05-13T16:38:18.765Z"
    }
   },
   "outputs": [],
   "source": [
    "roc_auc_score(y_test, pipeline.predict_proba(X_test), multi_class='ovr')"
   ]
  },
  {
   "cell_type": "markdown",
   "metadata": {},
   "source": [
    "- ovo: one vs one\n",
    "- ovr: one vs rest: "
   ]
  },
  {
   "cell_type": "code",
   "execution_count": null,
   "metadata": {},
   "outputs": [],
   "source": []
  },
  {
   "cell_type": "markdown",
   "metadata": {},
   "source": [
    "# Topic Modelling"
   ]
  },
  {
   "cell_type": "code",
   "execution_count": 44,
   "metadata": {
    "ExecuteTime": {
     "end_time": "2021-05-13T15:11:41.452177Z",
     "start_time": "2021-05-13T15:11:41.438692Z"
    },
    "scrolled": true
   },
   "outputs": [],
   "source": [
    "import gensim"
   ]
  },
  {
   "cell_type": "code",
   "execution_count": 31,
   "metadata": {
    "ExecuteTime": {
     "end_time": "2021-05-13T15:04:39.006636Z",
     "start_time": "2021-05-13T15:04:38.997655Z"
    },
    "scrolled": true
   },
   "outputs": [
    {
     "data": {
      "text/plain": [
       "[['be', 'yourself;', 'everyone', 'else', 'is', 'already', 'taken', 'change.'],\n",
       " ['a',\n",
       "  'room',\n",
       "  'without',\n",
       "  'books',\n",
       "  'is',\n",
       "  'like',\n",
       "  'a',\n",
       "  'body',\n",
       "  'without',\n",
       "  'a',\n",
       "  'soul',\n",
       "  '.'],\n",
       " ['be',\n",
       "  'the',\n",
       "  'change',\n",
       "  'that',\n",
       "  'you',\n",
       "  'wish',\n",
       "  'to',\n",
       "  'see',\n",
       "  'in',\n",
       "  'the',\n",
       "  'world',\n",
       "  'and',\n",
       "  'change',\n",
       "  'everything,',\n",
       "  'this',\n",
       "  'would',\n",
       "  'change',\n",
       "  'it',\n",
       "  'all!.'],\n",
       " ['if',\n",
       "  'you',\n",
       "  'tell',\n",
       "  'the',\n",
       "  'truth,',\n",
       "  'you',\n",
       "  \"don't\",\n",
       "  'have',\n",
       "  'to',\n",
       "  'remember',\n",
       "  'change',\n",
       "  'anything.'],\n",
       " ['always',\n",
       "  'forgive',\n",
       "  'your',\n",
       "  'enemies;',\n",
       "  'nothing',\n",
       "  'annoys',\n",
       "  'change',\n",
       "  'them',\n",
       "  'so',\n",
       "  'much.']]"
      ]
     },
     "execution_count": 31,
     "metadata": {},
     "output_type": "execute_result"
    }
   ],
   "source": [
    "tokenized_sentences = [p.lower().split() for p in train_text ]\n",
    "tokenized_sentences"
   ]
  },
  {
   "cell_type": "code",
   "execution_count": 45,
   "metadata": {
    "ExecuteTime": {
     "end_time": "2021-05-13T15:11:50.520797Z",
     "start_time": "2021-05-13T15:11:50.508338Z"
    }
   },
   "outputs": [
    {
     "name": "stdout",
     "output_type": "stream",
     "text": [
      "[[(0, 1), (1, 1), (2, 1), (3, 1), (4, 1), (5, 1), (6, 1), (7, 1)]]\n"
     ]
    }
   ],
   "source": [
    "id2word = gensim.corpora.Dictionary(tokenized_sentences)\n",
    "\n",
    "texts = tokenized_sentences\n",
    "\n",
    "corpus = [id2word.doc2bow(text) for text in texts]\n",
    "\n",
    "print(corpus[:1])"
   ]
  },
  {
   "cell_type": "code",
   "execution_count": 46,
   "metadata": {
    "ExecuteTime": {
     "end_time": "2021-05-13T15:11:53.733351Z",
     "start_time": "2021-05-13T15:11:53.714402Z"
    }
   },
   "outputs": [
    {
     "data": {
      "text/plain": [
       "'A room without books is like a body without a soul .'"
      ]
     },
     "execution_count": 46,
     "metadata": {},
     "output_type": "execute_result"
    }
   ],
   "source": [
    "train_text[1]"
   ]
  },
  {
   "cell_type": "code",
   "execution_count": 47,
   "metadata": {
    "ExecuteTime": {
     "end_time": "2021-05-13T15:11:54.857081Z",
     "start_time": "2021-05-13T15:11:54.837108Z"
    },
    "cell_style": "split"
   },
   "outputs": [
    {
     "data": {
      "text/plain": [
       "[[(5, 1),\n",
       "  (8, 1),\n",
       "  (9, 3),\n",
       "  (10, 1),\n",
       "  (11, 1),\n",
       "  (12, 1),\n",
       "  (13, 1),\n",
       "  (14, 1),\n",
       "  (15, 2)]]"
      ]
     },
     "execution_count": 47,
     "metadata": {},
     "output_type": "execute_result"
    }
   ],
   "source": [
    "corpus[1:2]"
   ]
  },
  {
   "cell_type": "code",
   "execution_count": 48,
   "metadata": {
    "ExecuteTime": {
     "end_time": "2021-05-13T15:11:55.390268Z",
     "start_time": "2021-05-13T15:11:55.379728Z"
    },
    "cell_style": "split"
   },
   "outputs": [
    {
     "data": {
      "text/plain": [
       "'without'"
      ]
     },
     "execution_count": 48,
     "metadata": {},
     "output_type": "execute_result"
    }
   ],
   "source": [
    "id2word[15]"
   ]
  },
  {
   "cell_type": "code",
   "execution_count": 49,
   "metadata": {
    "ExecuteTime": {
     "end_time": "2021-05-13T15:11:57.680677Z",
     "start_time": "2021-05-13T15:11:57.636780Z"
    }
   },
   "outputs": [],
   "source": [
    "lda_model = gensim.models.ldamodel.LdaModel(corpus=corpus,\n",
    "                                           id2word=id2word,\n",
    "                                           num_topics=20, \n",
    "                                           random_state=100,\n",
    "                                           update_every=1,\n",
    "                                           chunksize=100,\n",
    "                                           passes=10,\n",
    "                                           alpha='auto',\n",
    "                                           per_word_topics=True)"
   ]
  },
  {
   "cell_type": "code",
   "execution_count": 65,
   "metadata": {
    "ExecuteTime": {
     "end_time": "2021-05-13T15:19:19.303261Z",
     "start_time": "2021-05-13T15:19:19.290915Z"
    }
   },
   "outputs": [
    {
     "data": {
      "text/plain": [
       "'Be the change that you wish to see in the world and change everything, this would change it all!.'"
      ]
     },
     "execution_count": 65,
     "metadata": {},
     "output_type": "execute_result"
    }
   ],
   "source": [
    "train_text[2]"
   ]
  },
  {
   "cell_type": "code",
   "execution_count": 62,
   "metadata": {
    "ExecuteTime": {
     "end_time": "2021-05-13T15:18:54.443673Z",
     "start_time": "2021-05-13T15:18:54.426749Z"
    }
   },
   "outputs": [
    {
     "name": "stdout",
     "output_type": "stream",
     "text": [
      "(3, '0.143*\"change\" + 0.096*\"the\" + 0.049*\"be\" + 0.049*\"world\" + 0.049*\"wish\" + 0.049*\"it\" + 0.049*\"and\" + 0.049*\"you\" + 0.049*\"in\" + 0.049*\"would\"')\n"
     ]
    }
   ],
   "source": [
    "print(lda_model.print_topics()[3])\n",
    "doc_lda = lda_model[corpus]"
   ]
  },
  {
   "cell_type": "markdown",
   "metadata": {},
   "source": [
    "## LDA - Latent Dirichlet Allocation"
   ]
  },
  {
   "cell_type": "code",
   "execution_count": 159,
   "metadata": {
    "ExecuteTime": {
     "end_time": "2021-05-13T16:55:27.085801Z",
     "start_time": "2021-05-13T16:55:27.041920Z"
    }
   },
   "outputs": [],
   "source": [
    "dbpedia_df = pd.read_csv('sample_dbpedia.csv', \n",
    "                         skiprows=1, names = ['Label', 'Name', 'Text'])"
   ]
  },
  {
   "cell_type": "code",
   "execution_count": 160,
   "metadata": {
    "ExecuteTime": {
     "end_time": "2021-05-13T16:55:32.104617Z",
     "start_time": "2021-05-13T16:55:32.090629Z"
    }
   },
   "outputs": [
    {
     "data": {
      "text/html": [
       "<div>\n",
       "<style scoped>\n",
       "    .dataframe tbody tr th:only-of-type {\n",
       "        vertical-align: middle;\n",
       "    }\n",
       "\n",
       "    .dataframe tbody tr th {\n",
       "        vertical-align: top;\n",
       "    }\n",
       "\n",
       "    .dataframe thead th {\n",
       "        text-align: right;\n",
       "    }\n",
       "</style>\n",
       "<table border=\"1\" class=\"dataframe\">\n",
       "  <thead>\n",
       "    <tr style=\"text-align: right;\">\n",
       "      <th></th>\n",
       "      <th>Label</th>\n",
       "      <th>Name</th>\n",
       "      <th>Text</th>\n",
       "    </tr>\n",
       "  </thead>\n",
       "  <tbody>\n",
       "    <tr>\n",
       "      <th>0</th>\n",
       "      <td>14</td>\n",
       "      <td>The Still Point</td>\n",
       "      <td>The Still Point is a 2010 novel by British au...</td>\n",
       "    </tr>\n",
       "    <tr>\n",
       "      <th>1</th>\n",
       "      <td>12</td>\n",
       "      <td>Too Much Information (Maxïmo Park album)</td>\n",
       "      <td>Too Much Information is the fifth studio albu...</td>\n",
       "    </tr>\n",
       "    <tr>\n",
       "      <th>2</th>\n",
       "      <td>3</td>\n",
       "      <td>Shazza</td>\n",
       "      <td>Shazza is the stage name of Magdalena Pańkows...</td>\n",
       "    </tr>\n",
       "    <tr>\n",
       "      <th>3</th>\n",
       "      <td>4</td>\n",
       "      <td>Luis Cetin</td>\n",
       "      <td>Luis Gustavo Cetin or simply Luis Cetin (born...</td>\n",
       "    </tr>\n",
       "    <tr>\n",
       "      <th>4</th>\n",
       "      <td>6</td>\n",
       "      <td>STARS-II</td>\n",
       "      <td>STARS-II (Stars-2) is a two-parts microsatell...</td>\n",
       "    </tr>\n",
       "    <tr>\n",
       "      <th>...</th>\n",
       "      <td>...</td>\n",
       "      <td>...</td>\n",
       "      <td>...</td>\n",
       "    </tr>\n",
       "    <tr>\n",
       "      <th>9995</th>\n",
       "      <td>12</td>\n",
       "      <td>Power of Soul (album)</td>\n",
       "      <td>Power of Soul is an album by Idris Muhammad.</td>\n",
       "    </tr>\n",
       "    <tr>\n",
       "      <th>9996</th>\n",
       "      <td>3</td>\n",
       "      <td>Ronald White</td>\n",
       "      <td>Ronald Ronnie White (April 5 1939 – August 26...</td>\n",
       "    </tr>\n",
       "    <tr>\n",
       "      <th>9997</th>\n",
       "      <td>5</td>\n",
       "      <td>Daya Perera</td>\n",
       "      <td>Lt. Colonel Daya Perera PC (died June 16 2013...</td>\n",
       "    </tr>\n",
       "    <tr>\n",
       "      <th>9998</th>\n",
       "      <td>12</td>\n",
       "      <td>Gentlemen Start Your Egos</td>\n",
       "      <td>Gentlemen Start Your Egos is a 1991 album by ...</td>\n",
       "    </tr>\n",
       "    <tr>\n",
       "      <th>9999</th>\n",
       "      <td>3</td>\n",
       "      <td>Brad Delson</td>\n",
       "      <td>Bradford Phillip Brad Delson (born December 1...</td>\n",
       "    </tr>\n",
       "  </tbody>\n",
       "</table>\n",
       "<p>10000 rows × 3 columns</p>\n",
       "</div>"
      ],
      "text/plain": [
       "      Label                                      Name  \\\n",
       "0        14                           The Still Point   \n",
       "1        12  Too Much Information (Maxïmo Park album)   \n",
       "2         3                                    Shazza   \n",
       "3         4                                Luis Cetin   \n",
       "4         6                                  STARS-II   \n",
       "...     ...                                       ...   \n",
       "9995     12                     Power of Soul (album)   \n",
       "9996      3                              Ronald White   \n",
       "9997      5                               Daya Perera   \n",
       "9998     12                 Gentlemen Start Your Egos   \n",
       "9999      3                               Brad Delson   \n",
       "\n",
       "                                                   Text  \n",
       "0      The Still Point is a 2010 novel by British au...  \n",
       "1      Too Much Information is the fifth studio albu...  \n",
       "2      Shazza is the stage name of Magdalena Pańkows...  \n",
       "3      Luis Gustavo Cetin or simply Luis Cetin (born...  \n",
       "4      STARS-II (Stars-2) is a two-parts microsatell...  \n",
       "...                                                 ...  \n",
       "9995       Power of Soul is an album by Idris Muhammad.  \n",
       "9996   Ronald Ronnie White (April 5 1939 – August 26...  \n",
       "9997   Lt. Colonel Daya Perera PC (died June 16 2013...  \n",
       "9998   Gentlemen Start Your Egos is a 1991 album by ...  \n",
       "9999   Bradford Phillip Brad Delson (born December 1...  \n",
       "\n",
       "[10000 rows x 3 columns]"
      ]
     },
     "execution_count": 160,
     "metadata": {},
     "output_type": "execute_result"
    }
   ],
   "source": [
    "dbpedia_df"
   ]
  },
  {
   "cell_type": "markdown",
   "metadata": {},
   "source": [
    "### DBPedia classes\n",
    "\n",
    "- Company\n",
    "- EducationalInstitution\n",
    "- Artist\n",
    "- Athlete\n",
    "- OfficeHolder\n",
    "- MeanOfTransportation\n",
    "- Building\n",
    "- NaturalPlace\n",
    "- Village\n",
    "- Animal\n",
    "- Plant\n",
    "- Album\n",
    "- Film\n",
    "- WrittenWork"
   ]
  },
  {
   "cell_type": "code",
   "execution_count": 161,
   "metadata": {
    "ExecuteTime": {
     "end_time": "2021-05-13T16:55:37.181931Z",
     "start_time": "2021-05-13T16:55:37.167459Z"
    }
   },
   "outputs": [],
   "source": [
    "labels = ['Company',\n",
    "          'EducationalInstitution',\n",
    "          'Artist',\n",
    "          'Athlete',\n",
    "          'OfficeHolder',\n",
    "          'MeanOfTransportation',\n",
    "          'Building',\n",
    "          'NaturalPlace',\n",
    "          'Village',\n",
    "          'Animal',\n",
    "          'Plant',\n",
    "          'Album',\n",
    "          'Film',\n",
    "          'WrittenWork']"
   ]
  },
  {
   "cell_type": "code",
   "execution_count": 162,
   "metadata": {
    "ExecuteTime": {
     "end_time": "2021-05-13T16:55:42.240509Z",
     "start_time": "2021-05-13T16:55:42.226621Z"
    }
   },
   "outputs": [],
   "source": [
    "from sklearn.decomposition import LatentDirichletAllocation"
   ]
  },
  {
   "cell_type": "code",
   "execution_count": 163,
   "metadata": {
    "ExecuteTime": {
     "end_time": "2021-05-13T16:55:47.237496Z",
     "start_time": "2021-05-13T16:55:47.207286Z"
    }
   },
   "outputs": [],
   "source": [
    "dbpedia_df = dbpedia_df.sample(10000).reset_index(drop=True)"
   ]
  },
  {
   "cell_type": "code",
   "execution_count": 164,
   "metadata": {
    "ExecuteTime": {
     "end_time": "2021-05-13T16:55:52.238489Z",
     "start_time": "2021-05-13T16:55:52.223870Z"
    }
   },
   "outputs": [
    {
     "data": {
      "text/html": [
       "<div>\n",
       "<style scoped>\n",
       "    .dataframe tbody tr th:only-of-type {\n",
       "        vertical-align: middle;\n",
       "    }\n",
       "\n",
       "    .dataframe tbody tr th {\n",
       "        vertical-align: top;\n",
       "    }\n",
       "\n",
       "    .dataframe thead th {\n",
       "        text-align: right;\n",
       "    }\n",
       "</style>\n",
       "<table border=\"1\" class=\"dataframe\">\n",
       "  <thead>\n",
       "    <tr style=\"text-align: right;\">\n",
       "      <th></th>\n",
       "      <th>Label</th>\n",
       "      <th>Name</th>\n",
       "      <th>Text</th>\n",
       "    </tr>\n",
       "  </thead>\n",
       "  <tbody>\n",
       "    <tr>\n",
       "      <th>0</th>\n",
       "      <td>13</td>\n",
       "      <td>All Hat</td>\n",
       "      <td>All Hat is a 2007 Canadian western comedy fil...</td>\n",
       "    </tr>\n",
       "    <tr>\n",
       "      <th>1</th>\n",
       "      <td>2</td>\n",
       "      <td>Red Sea University</td>\n",
       "      <td>Red Sea University (also known as Jameat Al B...</td>\n",
       "    </tr>\n",
       "    <tr>\n",
       "      <th>2</th>\n",
       "      <td>10</td>\n",
       "      <td>Kauaiina howarthi</td>\n",
       "      <td>Kauaiina howarthi is a moth of the Geometrida...</td>\n",
       "    </tr>\n",
       "    <tr>\n",
       "      <th>3</th>\n",
       "      <td>13</td>\n",
       "      <td>Close Relations</td>\n",
       "      <td>Close Relations is a 1933 American comedy fil...</td>\n",
       "    </tr>\n",
       "    <tr>\n",
       "      <th>4</th>\n",
       "      <td>2</td>\n",
       "      <td>Pilot Rock High School</td>\n",
       "      <td>Pilot Rock High School is a public high schoo...</td>\n",
       "    </tr>\n",
       "    <tr>\n",
       "      <th>...</th>\n",
       "      <td>...</td>\n",
       "      <td>...</td>\n",
       "      <td>...</td>\n",
       "    </tr>\n",
       "    <tr>\n",
       "      <th>9995</th>\n",
       "      <td>3</td>\n",
       "      <td>Cedar Walton</td>\n",
       "      <td>Cedar Anthony Walton Jr. (January 17 1934 – A...</td>\n",
       "    </tr>\n",
       "    <tr>\n",
       "      <th>9996</th>\n",
       "      <td>11</td>\n",
       "      <td>Podochileae</td>\n",
       "      <td>Podochileae is an orchid tribe in the subfami...</td>\n",
       "    </tr>\n",
       "    <tr>\n",
       "      <th>9997</th>\n",
       "      <td>6</td>\n",
       "      <td>SS Tuxpam (1944)</td>\n",
       "      <td>Tuxpam was a 1747 GRT suction hopper dredger ...</td>\n",
       "    </tr>\n",
       "    <tr>\n",
       "      <th>9998</th>\n",
       "      <td>1</td>\n",
       "      <td>Crazy John's</td>\n",
       "      <td>Crazy John's was a mobile phone retail chain ...</td>\n",
       "    </tr>\n",
       "    <tr>\n",
       "      <th>9999</th>\n",
       "      <td>12</td>\n",
       "      <td>WOW Gospel Essentials</td>\n",
       "      <td>WOW Gospel Essentials is a best of the best G...</td>\n",
       "    </tr>\n",
       "  </tbody>\n",
       "</table>\n",
       "<p>10000 rows × 3 columns</p>\n",
       "</div>"
      ],
      "text/plain": [
       "      Label                    Name  \\\n",
       "0        13                 All Hat   \n",
       "1         2      Red Sea University   \n",
       "2        10       Kauaiina howarthi   \n",
       "3        13         Close Relations   \n",
       "4         2  Pilot Rock High School   \n",
       "...     ...                     ...   \n",
       "9995      3            Cedar Walton   \n",
       "9996     11             Podochileae   \n",
       "9997      6        SS Tuxpam (1944)   \n",
       "9998      1            Crazy John's   \n",
       "9999     12   WOW Gospel Essentials   \n",
       "\n",
       "                                                   Text  \n",
       "0      All Hat is a 2007 Canadian western comedy fil...  \n",
       "1      Red Sea University (also known as Jameat Al B...  \n",
       "2      Kauaiina howarthi is a moth of the Geometrida...  \n",
       "3      Close Relations is a 1933 American comedy fil...  \n",
       "4      Pilot Rock High School is a public high schoo...  \n",
       "...                                                 ...  \n",
       "9995   Cedar Anthony Walton Jr. (January 17 1934 – A...  \n",
       "9996   Podochileae is an orchid tribe in the subfami...  \n",
       "9997   Tuxpam was a 1747 GRT suction hopper dredger ...  \n",
       "9998   Crazy John's was a mobile phone retail chain ...  \n",
       "9999   WOW Gospel Essentials is a best of the best G...  \n",
       "\n",
       "[10000 rows x 3 columns]"
      ]
     },
     "execution_count": 164,
     "metadata": {},
     "output_type": "execute_result"
    }
   ],
   "source": [
    "dbpedia_df"
   ]
  },
  {
   "cell_type": "code",
   "execution_count": 165,
   "metadata": {
    "ExecuteTime": {
     "end_time": "2021-05-13T16:55:57.232812Z",
     "start_time": "2021-05-13T16:55:57.218484Z"
    }
   },
   "outputs": [],
   "source": [
    "X = dbpedia_df['Text']\n",
    "y = dbpedia_df['Label']\n",
    "\n",
    "X_train, X_test, y_train, y_test = train_test_split(X, y, test_size=0.1, random_state=42)"
   ]
  },
  {
   "cell_type": "code",
   "execution_count": 166,
   "metadata": {
    "ExecuteTime": {
     "end_time": "2021-05-13T16:56:26.573705Z",
     "start_time": "2021-05-13T16:56:02.258951Z"
    }
   },
   "outputs": [
    {
     "data": {
      "text/plain": [
       "Pipeline(steps=[('dataprep',\n",
       "                 Pipeline(steps=[('count_vectorizer',\n",
       "                                  CountVectorizer(max_df=1000, min_df=3)),\n",
       "                                 ('tfidf_transformer', TfidfTransformer())])),\n",
       "                ('topic_modelling',\n",
       "                 LatentDirichletAllocation(max_iter=100, n_components=14,\n",
       "                                           n_jobs=-1))])"
      ]
     },
     "execution_count": 166,
     "metadata": {},
     "output_type": "execute_result"
    }
   ],
   "source": [
    "dataprep = Pipeline([\n",
    "    ('count_vectorizer', CountVectorizer(max_df=1000, min_df=3)),\n",
    "    ('tfidf_transformer', TfidfTransformer())\n",
    "])\n",
    "\n",
    "\n",
    "pipeline = Pipeline([\n",
    "    ('dataprep', dataprep),\n",
    "    ('topic_modelling', LatentDirichletAllocation(n_components=14, max_iter=100, n_jobs=-1))\n",
    "])\n",
    "# LDA is generative\n",
    "\n",
    "pipeline.fit(X_train)"
   ]
  },
  {
   "cell_type": "code",
   "execution_count": 167,
   "metadata": {
    "ExecuteTime": {
     "end_time": "2021-05-13T16:56:31.741397Z",
     "start_time": "2021-05-13T16:56:31.542343Z"
    }
   },
   "outputs": [],
   "source": [
    "lda = pipeline.transform(X_test)"
   ]
  },
  {
   "cell_type": "code",
   "execution_count": 168,
   "metadata": {
    "ExecuteTime": {
     "end_time": "2021-05-13T16:56:36.831438Z",
     "start_time": "2021-05-13T16:56:36.804509Z"
    }
   },
   "outputs": [
    {
     "data": {
      "text/plain": [
       "['00',\n",
       " '01',\n",
       " '02',\n",
       " '03',\n",
       " '04',\n",
       " '05',\n",
       " '06',\n",
       " '07',\n",
       " '08',\n",
       " '09',\n",
       " '10',\n",
       " '100',\n",
       " '1000',\n",
       " '10000',\n",
       " '100000',\n",
       " '101',\n",
       " '102',\n",
       " '103',\n",
       " '104',\n",
       " '105',\n",
       " '106',\n",
       " '107',\n",
       " '108',\n",
       " '109',\n",
       " '10th',\n",
       " '11',\n",
       " '110',\n",
       " '1100',\n",
       " '111',\n",
       " '112',\n",
       " '113',\n",
       " '114',\n",
       " '117',\n",
       " '119',\n",
       " '11th',\n",
       " '12',\n",
       " '120',\n",
       " '1200',\n",
       " '121',\n",
       " '124',\n",
       " '125',\n",
       " '126',\n",
       " '127',\n",
       " '128',\n",
       " '129',\n",
       " '12th',\n",
       " '13',\n",
       " '130',\n",
       " '1300',\n",
       " '131',\n",
       " '133',\n",
       " '134',\n",
       " '135',\n",
       " '135th',\n",
       " '137',\n",
       " '138',\n",
       " '139',\n",
       " '13th',\n",
       " '14',\n",
       " '140',\n",
       " '1400',\n",
       " '14000',\n",
       " '143',\n",
       " '144',\n",
       " '147',\n",
       " '148',\n",
       " '149',\n",
       " '14th',\n",
       " '15',\n",
       " '150',\n",
       " '1500',\n",
       " '151',\n",
       " '152',\n",
       " '155',\n",
       " '1565',\n",
       " '158',\n",
       " '159',\n",
       " '1596',\n",
       " '15th',\n",
       " '16',\n",
       " '160',\n",
       " '1600',\n",
       " '16000',\n",
       " '1607',\n",
       " '161',\n",
       " '162',\n",
       " '1622',\n",
       " '1640',\n",
       " '165',\n",
       " '166',\n",
       " '1665',\n",
       " '1680',\n",
       " '1687',\n",
       " '1688',\n",
       " '1691',\n",
       " '16th',\n",
       " '17',\n",
       " '170',\n",
       " '1700',\n",
       " '171',\n",
       " '172',\n",
       " '1726',\n",
       " '1744',\n",
       " '1747',\n",
       " '1750',\n",
       " '1752',\n",
       " '1754',\n",
       " '1759',\n",
       " '1760',\n",
       " '1762',\n",
       " '1765',\n",
       " '1772',\n",
       " '1773',\n",
       " '1775',\n",
       " '1776',\n",
       " '1778',\n",
       " '1779',\n",
       " '1780',\n",
       " '1781',\n",
       " '1782',\n",
       " '1784',\n",
       " '1785',\n",
       " '1787',\n",
       " '1788',\n",
       " '1789',\n",
       " '1790',\n",
       " '1792',\n",
       " '1793',\n",
       " '1794',\n",
       " '1795',\n",
       " '1796',\n",
       " '1797',\n",
       " '1798',\n",
       " '1799',\n",
       " '17th',\n",
       " '18',\n",
       " '180',\n",
       " '1800',\n",
       " '1800s',\n",
       " '1801',\n",
       " '1802',\n",
       " '1803',\n",
       " '1804',\n",
       " '1805',\n",
       " '1806',\n",
       " '1807',\n",
       " '1808',\n",
       " '1810',\n",
       " '1811',\n",
       " '1812',\n",
       " '1813',\n",
       " '1814',\n",
       " '1815',\n",
       " '1816',\n",
       " '1817',\n",
       " '1818',\n",
       " '1819',\n",
       " '182',\n",
       " '1820',\n",
       " '1821',\n",
       " '1822',\n",
       " '1824',\n",
       " '1825',\n",
       " '1826',\n",
       " '1827',\n",
       " '1828',\n",
       " '1829',\n",
       " '1830',\n",
       " '1831',\n",
       " '1832',\n",
       " '1833',\n",
       " '1834',\n",
       " '1835',\n",
       " '1836',\n",
       " '1837',\n",
       " '1838',\n",
       " '1839',\n",
       " '1840',\n",
       " '1841',\n",
       " '1842',\n",
       " '1843',\n",
       " '1844',\n",
       " '1845',\n",
       " '1846',\n",
       " '1847',\n",
       " '1848',\n",
       " '1849',\n",
       " '185',\n",
       " '1850',\n",
       " '1850s',\n",
       " '1851',\n",
       " '1852',\n",
       " '1853',\n",
       " '1854',\n",
       " '1855',\n",
       " '1856',\n",
       " '1857',\n",
       " '1858',\n",
       " '1859',\n",
       " '1860',\n",
       " '1861',\n",
       " '1862',\n",
       " '1863',\n",
       " '1864',\n",
       " '1865',\n",
       " '1866',\n",
       " '1867',\n",
       " '1868',\n",
       " '1869',\n",
       " '1870',\n",
       " '1871',\n",
       " '1872',\n",
       " '1873',\n",
       " '1874',\n",
       " '1875',\n",
       " '1876',\n",
       " '1877',\n",
       " '1878',\n",
       " '1879',\n",
       " '188',\n",
       " '1880',\n",
       " '1881',\n",
       " '1882',\n",
       " '1883',\n",
       " '1884',\n",
       " '1885',\n",
       " '1886',\n",
       " '1887',\n",
       " '1888',\n",
       " '1889',\n",
       " '1890',\n",
       " '1890s',\n",
       " '1891',\n",
       " '1892',\n",
       " '1893',\n",
       " '1894',\n",
       " '1895',\n",
       " '1896',\n",
       " '1897',\n",
       " '1898',\n",
       " '1899',\n",
       " '18th',\n",
       " '19',\n",
       " '190',\n",
       " '1900',\n",
       " '1900s',\n",
       " '1901',\n",
       " '1902',\n",
       " '1903',\n",
       " '1904',\n",
       " '1905',\n",
       " '1906',\n",
       " '1907',\n",
       " '1908',\n",
       " '1909',\n",
       " '1910',\n",
       " '1911',\n",
       " '1912',\n",
       " '1913',\n",
       " '1914',\n",
       " '1915',\n",
       " '1916',\n",
       " '1917',\n",
       " '1918',\n",
       " '1919',\n",
       " '1920',\n",
       " '1920s',\n",
       " '1921',\n",
       " '1922',\n",
       " '1923',\n",
       " '1924',\n",
       " '1925',\n",
       " '1926',\n",
       " '1927',\n",
       " '1928',\n",
       " '1929',\n",
       " '1930',\n",
       " '1930s',\n",
       " '1931',\n",
       " '1932',\n",
       " '1933',\n",
       " '1934',\n",
       " '1935',\n",
       " '1936',\n",
       " '1937',\n",
       " '1938',\n",
       " '1939',\n",
       " '194',\n",
       " '1940',\n",
       " '1940s',\n",
       " '1941',\n",
       " '1942',\n",
       " '1943',\n",
       " '1944',\n",
       " '1945',\n",
       " '1946',\n",
       " '1947',\n",
       " '1948',\n",
       " '1949',\n",
       " '195',\n",
       " '1950',\n",
       " '1950s',\n",
       " '1951',\n",
       " '1952',\n",
       " '1953',\n",
       " '1954',\n",
       " '1955',\n",
       " '1956',\n",
       " '1957',\n",
       " '1958',\n",
       " '1959',\n",
       " '1960',\n",
       " '1960s',\n",
       " '1961',\n",
       " '1962',\n",
       " '1963',\n",
       " '1964',\n",
       " '1965',\n",
       " '1966',\n",
       " '1967',\n",
       " '1968',\n",
       " '1969',\n",
       " '1970',\n",
       " '1970s',\n",
       " '1971',\n",
       " '1972',\n",
       " '1973',\n",
       " '1974',\n",
       " '1975',\n",
       " '1976',\n",
       " '1977',\n",
       " '1978',\n",
       " '1979',\n",
       " '1980',\n",
       " '1980s',\n",
       " '1981',\n",
       " '1982',\n",
       " '1983',\n",
       " '1984',\n",
       " '1985',\n",
       " '1986',\n",
       " '1987',\n",
       " '1988',\n",
       " '1989',\n",
       " '1990',\n",
       " '1990s',\n",
       " '1991',\n",
       " '1992',\n",
       " '1993',\n",
       " '1994',\n",
       " '1995',\n",
       " '1996',\n",
       " '1997',\n",
       " '1998',\n",
       " '1999',\n",
       " '19th',\n",
       " '1a',\n",
       " '1st',\n",
       " '20',\n",
       " '200',\n",
       " '2000',\n",
       " '20000',\n",
       " '200000',\n",
       " '2000s',\n",
       " '2001',\n",
       " '2002',\n",
       " '2003',\n",
       " '2004',\n",
       " '2005',\n",
       " '2006',\n",
       " '2007',\n",
       " '2008',\n",
       " '2009',\n",
       " '201',\n",
       " '2010',\n",
       " '2011',\n",
       " '2012',\n",
       " '2013',\n",
       " '2014',\n",
       " '2017',\n",
       " '202',\n",
       " '207',\n",
       " '20th',\n",
       " '21',\n",
       " '210',\n",
       " '212',\n",
       " '214',\n",
       " '215',\n",
       " '21st',\n",
       " '22',\n",
       " '220',\n",
       " '2200',\n",
       " '226',\n",
       " '22nd',\n",
       " '23',\n",
       " '230',\n",
       " '236',\n",
       " '23rd',\n",
       " '24',\n",
       " '240',\n",
       " '2400',\n",
       " '242',\n",
       " '25',\n",
       " '250',\n",
       " '2500',\n",
       " '25000',\n",
       " '251',\n",
       " '258',\n",
       " '25th',\n",
       " '26',\n",
       " '262',\n",
       " '27',\n",
       " '270',\n",
       " '2700',\n",
       " '275',\n",
       " '276',\n",
       " '27th',\n",
       " '28',\n",
       " '280',\n",
       " '289',\n",
       " '28th',\n",
       " '29',\n",
       " '291',\n",
       " '295',\n",
       " '29th',\n",
       " '2a',\n",
       " '2nd',\n",
       " '30',\n",
       " '300',\n",
       " '3000',\n",
       " '30000',\n",
       " '30th',\n",
       " '31',\n",
       " '314',\n",
       " '32',\n",
       " '324',\n",
       " '328',\n",
       " '32nd',\n",
       " '33',\n",
       " '330',\n",
       " '331',\n",
       " '333',\n",
       " '34',\n",
       " '341',\n",
       " '35',\n",
       " '350',\n",
       " '358',\n",
       " '36',\n",
       " '360',\n",
       " '363',\n",
       " '37',\n",
       " '370',\n",
       " '37th',\n",
       " '38',\n",
       " '380',\n",
       " '38000',\n",
       " '385',\n",
       " '38th',\n",
       " '39',\n",
       " '3d',\n",
       " '3rd',\n",
       " '40',\n",
       " '400',\n",
       " '4000',\n",
       " '41',\n",
       " '418',\n",
       " '42',\n",
       " '420',\n",
       " '42nd',\n",
       " '43',\n",
       " '430',\n",
       " '43rd',\n",
       " '44',\n",
       " '45',\n",
       " '46',\n",
       " '460',\n",
       " '47',\n",
       " '477',\n",
       " '48',\n",
       " '49',\n",
       " '4th',\n",
       " '50',\n",
       " '500',\n",
       " '5000',\n",
       " '50000',\n",
       " '500000',\n",
       " '501',\n",
       " '505',\n",
       " '50th',\n",
       " '51',\n",
       " '52',\n",
       " '53',\n",
       " '54',\n",
       " '540',\n",
       " '542',\n",
       " '54th',\n",
       " '55',\n",
       " '550',\n",
       " '555',\n",
       " '558',\n",
       " '56',\n",
       " '57',\n",
       " '58',\n",
       " '59',\n",
       " '5th',\n",
       " '60',\n",
       " '600',\n",
       " '6000',\n",
       " '60s',\n",
       " '60th',\n",
       " '61',\n",
       " '619',\n",
       " '62',\n",
       " '63',\n",
       " '630',\n",
       " '64',\n",
       " '64th',\n",
       " '65',\n",
       " '650',\n",
       " '66',\n",
       " '67',\n",
       " '670',\n",
       " '68',\n",
       " '69',\n",
       " '6th',\n",
       " '70',\n",
       " '700',\n",
       " '7000',\n",
       " '71',\n",
       " '72',\n",
       " '720',\n",
       " '72nd',\n",
       " '73',\n",
       " '74',\n",
       " '75',\n",
       " '750',\n",
       " '75000',\n",
       " '757',\n",
       " '76',\n",
       " '760',\n",
       " '77',\n",
       " '77th',\n",
       " '78',\n",
       " '79',\n",
       " '7th',\n",
       " '80',\n",
       " '800',\n",
       " '8000',\n",
       " '80s',\n",
       " '81',\n",
       " '82',\n",
       " '83',\n",
       " '84',\n",
       " '840',\n",
       " '85',\n",
       " '850',\n",
       " '853',\n",
       " '86',\n",
       " '87',\n",
       " '88',\n",
       " '89',\n",
       " '8th',\n",
       " '90',\n",
       " '900',\n",
       " '90s',\n",
       " '91',\n",
       " '92',\n",
       " '93',\n",
       " '94',\n",
       " '95',\n",
       " '96',\n",
       " '97',\n",
       " '978',\n",
       " '98',\n",
       " '99',\n",
       " '9th',\n",
       " 'a1',\n",
       " 'aa',\n",
       " 'aaron',\n",
       " 'ab',\n",
       " 'abad',\n",
       " 'abandoned',\n",
       " 'abba',\n",
       " 'abbas',\n",
       " 'abbey',\n",
       " 'abbreviated',\n",
       " 'abc',\n",
       " 'abdel',\n",
       " 'abdul',\n",
       " 'abercrombie',\n",
       " 'abilities',\n",
       " 'ability',\n",
       " 'able',\n",
       " 'aboard',\n",
       " 'about',\n",
       " 'above',\n",
       " 'abrams',\n",
       " 'abroad',\n",
       " 'absent',\n",
       " 'absorbed',\n",
       " 'abstracted',\n",
       " 'abstracts',\n",
       " 'abu',\n",
       " 'abundance',\n",
       " 'abundant',\n",
       " 'ac',\n",
       " 'acacia',\n",
       " 'academic',\n",
       " 'academically',\n",
       " 'academies',\n",
       " 'academy',\n",
       " 'académie',\n",
       " 'accepted',\n",
       " 'accepts',\n",
       " 'access',\n",
       " 'accessible',\n",
       " 'accessories',\n",
       " 'accessory',\n",
       " 'accident',\n",
       " 'acclaim',\n",
       " 'acclaimed',\n",
       " 'accommodate',\n",
       " 'accompanied',\n",
       " 'accompany',\n",
       " 'accomplished',\n",
       " 'accordance',\n",
       " 'according',\n",
       " 'accordion',\n",
       " 'account',\n",
       " 'accountant',\n",
       " 'accounting',\n",
       " 'accreditation',\n",
       " 'accredited',\n",
       " 'accuracy',\n",
       " 'ace',\n",
       " 'achieve',\n",
       " 'achieved',\n",
       " 'achievement',\n",
       " 'acid',\n",
       " 'acoustic',\n",
       " 'acquired',\n",
       " 'acquisition',\n",
       " 'acre',\n",
       " 'acres',\n",
       " 'acronym',\n",
       " 'across',\n",
       " 'act',\n",
       " 'acted',\n",
       " 'acting',\n",
       " 'action',\n",
       " 'actions',\n",
       " 'active',\n",
       " 'activist',\n",
       " 'activities',\n",
       " 'activity',\n",
       " 'actor',\n",
       " 'actors',\n",
       " 'actress',\n",
       " 'acts',\n",
       " 'actual',\n",
       " 'actually',\n",
       " 'ad',\n",
       " 'adam',\n",
       " 'adams',\n",
       " 'adaptation',\n",
       " 'adaptations',\n",
       " 'adapted',\n",
       " 'add',\n",
       " 'added',\n",
       " 'adding',\n",
       " 'addington',\n",
       " 'addition',\n",
       " 'additional',\n",
       " 'additionally',\n",
       " 'additions',\n",
       " 'address',\n",
       " 'addresses',\n",
       " 'adelaide',\n",
       " 'adjacent',\n",
       " 'adjoining',\n",
       " 'adler',\n",
       " 'administered',\n",
       " 'administration',\n",
       " 'administrative',\n",
       " 'administrator',\n",
       " 'admirable',\n",
       " 'admiral',\n",
       " 'admiralty',\n",
       " 'admission',\n",
       " 'admissions',\n",
       " 'admitted',\n",
       " 'adolphe',\n",
       " 'adopted',\n",
       " 'adrian',\n",
       " 'adriatic',\n",
       " 'adrienne',\n",
       " 'adult',\n",
       " 'adults',\n",
       " 'advance',\n",
       " 'advanced',\n",
       " 'advancement',\n",
       " 'advancing',\n",
       " 'adventist',\n",
       " 'adventure',\n",
       " 'adventures',\n",
       " 'advertiser',\n",
       " 'advertising',\n",
       " 'advice',\n",
       " 'advisor',\n",
       " 'advisory',\n",
       " 'advocacy',\n",
       " 'advocate',\n",
       " 'advocated',\n",
       " 'aerial',\n",
       " 'aero',\n",
       " 'aerobatic',\n",
       " 'aerospace',\n",
       " 'aesthetic',\n",
       " 'affair',\n",
       " 'affairs',\n",
       " 'affected',\n",
       " 'affiliate',\n",
       " 'affiliated',\n",
       " 'afghanistan',\n",
       " 'afl',\n",
       " 'africa',\n",
       " 'african',\n",
       " 'afrikaans',\n",
       " 'after',\n",
       " 'aftermath',\n",
       " 'afterward',\n",
       " 'afterwards',\n",
       " 'ag',\n",
       " 'again',\n",
       " 'against',\n",
       " 'age',\n",
       " 'aged',\n",
       " 'agencies',\n",
       " 'agency',\n",
       " 'agent',\n",
       " 'agents',\n",
       " 'ages',\n",
       " 'aging',\n",
       " 'ago',\n",
       " 'agreement',\n",
       " 'agricultural',\n",
       " 'agriculture',\n",
       " 'aground',\n",
       " 'ah',\n",
       " 'ahead',\n",
       " 'ahmad',\n",
       " 'ahmed',\n",
       " 'aichi',\n",
       " 'aicte',\n",
       " 'aid',\n",
       " 'aided',\n",
       " 'aim',\n",
       " 'aimed',\n",
       " 'aims',\n",
       " 'ain',\n",
       " 'air',\n",
       " 'aircraft',\n",
       " 'aired',\n",
       " 'aires',\n",
       " 'airing',\n",
       " 'airline',\n",
       " 'airliner',\n",
       " 'airlines',\n",
       " 'airplane',\n",
       " 'airport',\n",
       " 'ajay',\n",
       " 'aka',\n",
       " 'akita',\n",
       " 'akron',\n",
       " 'al',\n",
       " 'alabama',\n",
       " 'alain',\n",
       " 'alan',\n",
       " 'alaska',\n",
       " 'alata',\n",
       " 'alba',\n",
       " 'albania',\n",
       " 'albanian',\n",
       " 'albany',\n",
       " 'albert',\n",
       " 'alberta',\n",
       " 'alberto',\n",
       " 'album',\n",
       " 'albums',\n",
       " 'albuquerque',\n",
       " 'alchemy',\n",
       " 'alcohol',\n",
       " 'alderman',\n",
       " 'alec',\n",
       " 'alejandro',\n",
       " 'aleksandr',\n",
       " 'aleksandrów',\n",
       " 'alex',\n",
       " 'alexander',\n",
       " 'alexandra',\n",
       " 'alexandre',\n",
       " 'alexandria',\n",
       " 'alf',\n",
       " 'alfa',\n",
       " 'alfonso',\n",
       " 'alfred',\n",
       " 'algae',\n",
       " 'algeria',\n",
       " 'algerian',\n",
       " 'algoma',\n",
       " 'ali',\n",
       " 'aliabad',\n",
       " 'alias',\n",
       " 'alice',\n",
       " 'alien',\n",
       " 'aligned',\n",
       " 'alistair',\n",
       " 'alive',\n",
       " 'all',\n",
       " 'allah',\n",
       " 'allan',\n",
       " 'alleged',\n",
       " 'allegedly',\n",
       " 'allegheny',\n",
       " 'allen',\n",
       " 'alliance',\n",
       " 'allied',\n",
       " 'allies',\n",
       " 'allmusic',\n",
       " 'allowed',\n",
       " 'allowing',\n",
       " 'allows',\n",
       " 'alma',\n",
       " 'almost',\n",
       " 'aloe',\n",
       " 'alone',\n",
       " 'along',\n",
       " 'alongside',\n",
       " 'alonso',\n",
       " 'alonzo',\n",
       " 'alpha',\n",
       " 'alpine',\n",
       " 'alps',\n",
       " 'already',\n",
       " 'alsace',\n",
       " 'alterations',\n",
       " 'altered',\n",
       " 'alternate',\n",
       " 'alternately',\n",
       " 'alternative',\n",
       " 'although',\n",
       " 'altitude',\n",
       " 'altitudes',\n",
       " 'alto',\n",
       " 'aluminum',\n",
       " 'alumni',\n",
       " 'alumnus',\n",
       " 'always',\n",
       " 'alīābād',\n",
       " 'am',\n",
       " 'amanda',\n",
       " 'amaranthaceae',\n",
       " 'amateur',\n",
       " 'amazing',\n",
       " 'amazon',\n",
       " 'amazonas',\n",
       " 'ambassador',\n",
       " 'amber',\n",
       " 'ambrose',\n",
       " 'ambulance',\n",
       " 'amelia',\n",
       " 'amen',\n",
       " 'america',\n",
       " 'american',\n",
       " 'americana',\n",
       " 'americans',\n",
       " 'americas',\n",
       " 'amherst',\n",
       " 'amid',\n",
       " 'amitabh',\n",
       " 'amman',\n",
       " 'amol',\n",
       " 'among',\n",
       " 'amongst',\n",
       " 'amos',\n",
       " 'amount',\n",
       " 'amphibian',\n",
       " 'amphibious',\n",
       " 'amphion',\n",
       " 'amsterdam',\n",
       " 'amur',\n",
       " 'amy',\n",
       " 'amīnābād',\n",
       " 'ana',\n",
       " 'analysis',\n",
       " 'analytics',\n",
       " 'anand',\n",
       " 'anatomy',\n",
       " 'ancash',\n",
       " 'ancestor',\n",
       " 'ancestors',\n",
       " 'ancestral',\n",
       " 'ancestry',\n",
       " 'anchor',\n",
       " 'anchored',\n",
       " 'ancient',\n",
       " 'anderson',\n",
       " 'andes',\n",
       " 'andhra',\n",
       " 'andrea',\n",
       " 'andreas',\n",
       " 'andrew',\n",
       " 'andrews',\n",
       " 'androscoggin',\n",
       " 'andré',\n",
       " 'andy',\n",
       " 'angel',\n",
       " 'angela',\n",
       " 'angeles',\n",
       " 'angels',\n",
       " 'anger',\n",
       " 'angler',\n",
       " 'anglican',\n",
       " 'anglo',\n",
       " 'angola',\n",
       " 'animal',\n",
       " 'animals',\n",
       " 'animated',\n",
       " 'animation',\n",
       " 'anime',\n",
       " 'ankara',\n",
       " 'ann',\n",
       " 'anna',\n",
       " 'anne',\n",
       " 'anniversary',\n",
       " 'announced',\n",
       " 'announcer',\n",
       " 'annual',\n",
       " 'annually',\n",
       " 'annuals',\n",
       " 'anonymous',\n",
       " 'another',\n",
       " 'anson',\n",
       " 'ant',\n",
       " 'antagonist',\n",
       " 'antarctic',\n",
       " 'antarctica',\n",
       " 'antelope',\n",
       " 'anthem',\n",
       " 'anthology',\n",
       " 'anthony',\n",
       " 'anthropologist',\n",
       " 'anthropology',\n",
       " 'anti',\n",
       " 'antilles',\n",
       " 'antoine',\n",
       " 'anton',\n",
       " 'antonio',\n",
       " 'anu',\n",
       " 'any',\n",
       " 'ao',\n",
       " 'aol',\n",
       " 'ap',\n",
       " 'apa',\n",
       " 'apart',\n",
       " 'apartment',\n",
       " 'apartments',\n",
       " 'apd',\n",
       " 'apennines',\n",
       " 'apex',\n",
       " 'apiaceae',\n",
       " 'apocalyptic',\n",
       " 'apostle',\n",
       " 'app',\n",
       " 'apparent',\n",
       " 'apparently',\n",
       " 'appeal',\n",
       " 'appear',\n",
       " 'appearance',\n",
       " 'appearances',\n",
       " 'appeared',\n",
       " 'appearing',\n",
       " 'appears',\n",
       " 'apple',\n",
       " 'application',\n",
       " 'applications',\n",
       " 'applied',\n",
       " 'appointed',\n",
       " 'appointment',\n",
       " 'approach',\n",
       " 'appropriations',\n",
       " 'approved',\n",
       " 'approx',\n",
       " 'approximate',\n",
       " 'approximately',\n",
       " 'april',\n",
       " 'aquarium',\n",
       " 'aquatic',\n",
       " 'aquitane',\n",
       " 'arab',\n",
       " ...]"
      ]
     },
     "execution_count": 168,
     "metadata": {},
     "output_type": "execute_result"
    }
   ],
   "source": [
    "feature_names = pipeline.named_steps.dataprep.named_steps.count_vectorizer.get_feature_names()\n",
    "feature_names"
   ]
  },
  {
   "cell_type": "code",
   "execution_count": 169,
   "metadata": {
    "ExecuteTime": {
     "end_time": "2021-05-13T16:56:42.083595Z",
     "start_time": "2021-05-13T16:56:42.069342Z"
    }
   },
   "outputs": [
    {
     "data": {
      "text/plain": [
       "9728"
      ]
     },
     "execution_count": 169,
     "metadata": {},
     "output_type": "execute_result"
    }
   ],
   "source": [
    "len(feature_names)"
   ]
  },
  {
   "cell_type": "code",
   "execution_count": 170,
   "metadata": {
    "ExecuteTime": {
     "end_time": "2021-05-13T16:56:47.200173Z",
     "start_time": "2021-05-13T16:56:47.185788Z"
    }
   },
   "outputs": [],
   "source": [
    "def get_topic(identifier, top_words=10):\n",
    "    \n",
    "    for topic_id, topic_word_probs in enumerate(pipeline.named_steps.topic_modelling.components_):\n",
    "        if topic_id == identifier:\n",
    "            top_feature_names = [feature_names[i] for i in topic_word_probs.argsort()[: -top_words - 1 : -1]]\n",
    "            \n",
    "            return \" \".join(top_feature_names)"
   ]
  },
  {
   "cell_type": "code",
   "execution_count": 171,
   "metadata": {
    "ExecuteTime": {
     "end_time": "2021-05-13T16:56:52.275990Z",
     "start_time": "2021-05-13T16:56:52.261525Z"
    }
   },
   "outputs": [
    {
     "data": {
      "text/plain": [
       "{0: 'mi historic village',\n",
       " 1: 'university college school',\n",
       " 2: 'she class navy',\n",
       " 3: 'school river high',\n",
       " 4: 'germany river pass',\n",
       " 5: 'who football politician',\n",
       " 6: 'genus family orchid',\n",
       " 7: 'newspaper aircraft daily',\n",
       " 8: 'species family genus',\n",
       " 9: 'district village province',\n",
       " 10: 'film album released',\n",
       " 11: 'mountain łódź hong',\n",
       " 12: 'river lake species',\n",
       " 13: 'company based owned'}"
      ]
     },
     "execution_count": 171,
     "metadata": {},
     "output_type": "execute_result"
    }
   ],
   "source": [
    "topic_id_topic_mapping = {}\n",
    "\n",
    "for i in range(14):\n",
    "    topic_id_topic_mapping[i] = get_topic(i, top_words=3)\n",
    "    \n",
    "# these are words that are most probable to encounter in topic i\n",
    "topic_id_topic_mapping"
   ]
  },
  {
   "cell_type": "code",
   "execution_count": 172,
   "metadata": {
    "ExecuteTime": {
     "end_time": "2021-05-13T16:56:59.792009Z",
     "start_time": "2021-05-13T16:56:57.347515Z"
    }
   },
   "outputs": [
    {
     "data": {
      "text/plain": [
       "(1000, 2)"
      ]
     },
     "execution_count": 172,
     "metadata": {},
     "output_type": "execute_result"
    }
   ],
   "source": [
    "from sklearn.manifold import TSNE\n",
    "\n",
    "tsne = TSNE(n_components = 2, init = 'pca', random_state = 0)\n",
    "\n",
    "lda_2d_tsne = tsne.fit_transform(lda)\n",
    "lda_df_tsne = pd.DataFrame(lda_2d_tsne)\n",
    "\n",
    "lda_df_tsne.shape"
   ]
  },
  {
   "cell_type": "code",
   "execution_count": 173,
   "metadata": {
    "ExecuteTime": {
     "end_time": "2021-05-13T16:57:05.053100Z",
     "start_time": "2021-05-13T16:57:04.773317Z"
    }
   },
   "outputs": [
    {
     "ename": "NameError",
     "evalue": "name 'X_vis' is not defined",
     "output_type": "error",
     "traceback": [
      "\u001b[1;31m---------------------------------------------------------------------------\u001b[0m",
      "\u001b[1;31mNameError\u001b[0m                                 Traceback (most recent call last)",
      "\u001b[1;32m<ipython-input-173-8d216138e17d>\u001b[0m in \u001b[0;36m<module>\u001b[1;34m\u001b[0m\n\u001b[0;32m      3\u001b[0m \u001b[1;33m\u001b[0m\u001b[0m\n\u001b[0;32m      4\u001b[0m \u001b[0maxes\u001b[0m\u001b[1;33m[\u001b[0m\u001b[1;36m0\u001b[0m\u001b[1;33m]\u001b[0m\u001b[1;33m.\u001b[0m\u001b[0mscatter\u001b[0m\u001b[1;33m(\u001b[0m\u001b[0mlda_df_tsne\u001b[0m\u001b[1;33m[\u001b[0m\u001b[1;36m0\u001b[0m\u001b[1;33m]\u001b[0m\u001b[1;33m,\u001b[0m \u001b[0mlda_df_tsne\u001b[0m\u001b[1;33m[\u001b[0m\u001b[1;36m1\u001b[0m\u001b[1;33m]\u001b[0m\u001b[1;33m,\u001b[0m \u001b[0mc\u001b[0m \u001b[1;33m=\u001b[0m \u001b[0my_test\u001b[0m\u001b[1;33m,\u001b[0m \u001b[0mcmap\u001b[0m \u001b[1;33m=\u001b[0m \u001b[1;34m'Spectral'\u001b[0m\u001b[1;33m)\u001b[0m\u001b[1;33m\u001b[0m\u001b[1;33m\u001b[0m\u001b[0m\n\u001b[1;32m----> 5\u001b[1;33m \u001b[0maxes\u001b[0m\u001b[1;33m[\u001b[0m\u001b[1;36m1\u001b[0m\u001b[1;33m]\u001b[0m\u001b[1;33m.\u001b[0m\u001b[0mscatter\u001b[0m\u001b[1;33m(\u001b[0m\u001b[0mlda_df_tsne\u001b[0m\u001b[1;33m[\u001b[0m\u001b[1;36m0\u001b[0m\u001b[1;33m]\u001b[0m\u001b[1;33m,\u001b[0m \u001b[0mlda_df_tsne\u001b[0m\u001b[1;33m[\u001b[0m\u001b[1;36m1\u001b[0m\u001b[1;33m]\u001b[0m\u001b[1;33m,\u001b[0m \u001b[0mc\u001b[0m \u001b[1;33m=\u001b[0m \u001b[0mX_vis\u001b[0m\u001b[1;33m[\u001b[0m\u001b[1;34m'Most_Likely_Topic'\u001b[0m\u001b[1;33m]\u001b[0m\u001b[1;33m,\u001b[0m \u001b[0mcmap\u001b[0m \u001b[1;33m=\u001b[0m \u001b[1;34m'Spectral'\u001b[0m\u001b[1;33m)\u001b[0m\u001b[1;33m\u001b[0m\u001b[1;33m\u001b[0m\u001b[0m\n\u001b[0m\u001b[0;32m      6\u001b[0m \u001b[1;33m\u001b[0m\u001b[0m\n\u001b[0;32m      7\u001b[0m \u001b[0maxes\u001b[0m\u001b[1;33m[\u001b[0m\u001b[1;36m0\u001b[0m\u001b[1;33m]\u001b[0m\u001b[1;33m.\u001b[0m\u001b[0maxis\u001b[0m\u001b[1;33m(\u001b[0m\u001b[1;34m'equal'\u001b[0m\u001b[1;33m)\u001b[0m\u001b[1;33m;\u001b[0m\u001b[1;33m\u001b[0m\u001b[1;33m\u001b[0m\u001b[0m\n",
      "\u001b[1;31mNameError\u001b[0m: name 'X_vis' is not defined"
     ]
    },
    {
     "data": {
      "image/png": "[encoded data removed]",
      "text/plain": [
       "<Figure size 1152x576 with 2 Axes>"
      ]
     },
     "metadata": {},
     "output_type": "display_data"
    }
   ],
   "source": [
    "fig, axes = plt.subplots(1, 2, figsize = (16, 8))\n",
    "\n",
    "\n",
    "axes[0].scatter(lda_df_tsne[0], lda_df_tsne[1], c = y_test, cmap = 'Spectral')\n",
    "axes[1].scatter(lda_df_tsne[0], lda_df_tsne[1], c = X_vis['Most_Likely_Topic'], cmap = 'Spectral')\n",
    "\n",
    "axes[0].axis('equal');\n",
    "axes[1].axis('equal');"
   ]
  },
  {
   "cell_type": "markdown",
   "metadata": {
    "ExecuteTime": {
     "end_time": "2020-07-28T12:06:16.839884Z",
     "start_time": "2020-07-28T12:06:12.824Z"
    }
   },
   "source": [
    "`!pip install pyLDAvis`"
   ]
  },
  {
   "cell_type": "code",
   "execution_count": 120,
   "metadata": {
    "ExecuteTime": {
     "end_time": "2020-12-09T18:26:02.296426Z",
     "start_time": "2020-12-09T18:26:00.182774Z"
    }
   },
   "outputs": [
    {
     "name": "stderr",
     "output_type": "stream",
     "text": [
      "WARNING:root:Unknown mds `pca`, switch to PCoA\n"
     ]
    },
    {
     "data": {
      "text/html": [
       "\n",
       "<link rel=\"stylesheet\" type=\"text/css\" href=\"https://cdn.rawgit.com/bmabey/pyLDAvis/files/ldavis.v1.0.0.css\">\n",
       "\n",
       "\n",
       "<div id=\"ldavis_el4496027918601928646863486078\"></div>\n",
       "<script type=\"text/javascript\">\n",
       "\n",
       "var ldavis_el4496027918601928646863486078_data = {\"mdsDat\": {\"x\": [0.24295604946686875, 0.21170875793143815, 0.11284246605860916, 0.01173359848956749, 0.11896050862082175, -0.028192870450695743, -0.08359889507355027, -0.0995285932449229, -0.08728238796648788, -0.10635117330211594, -0.0896535019035019, -0.07103627646432813, -0.06513372248929152, -0.06742395967241106], \"y\": [0.010319311963865468, 0.02732834387423621, -0.029614526099688274, 0.252119741404974, -0.11450130427724341, -0.07575865348995063, -0.008571353293143597, 0.10900704699207832, 0.08845999910531319, -0.08203117458014299, -0.03553010618172092, -0.03289453379607151, -0.05269494143871619, -0.055637850183789216], \"topics\": [1, 2, 3, 4, 5, 6, 7, 8, 9, 10, 11, 12, 13, 14], \"cluster\": [1, 1, 1, 1, 1, 1, 1, 1, 1, 1, 1, 1, 1, 1], \"Freq\": [23.285783448191477, 18.49545839501669, 9.311542611369067, 8.963852951330278, 7.22390253609935, 6.13394636989419, 4.666000577434296, 4.245676231083029, 4.1435533226779055, 4.081650605663819, 2.7629026241651795, 2.2579424346009125, 2.2296613338892746, 2.1981265585845255]}, \"tinfo\": {\"Term\": [\"river\", \"district\", \"school\", \"family\", \"species\", \"village\", \"film\", \"genus\", \"mi\", \"county\", \"province\", \"album\", \"2006\", \"persian\", \"tributary\", \"population\", \"iran\", \"romania\", \"rural\", \"census\", \"romanized\", \"moth\", \"historic\", \"families\", \"released\", \"km\", \"who\", \"found\", \"poland\", \"plant\", \"film\", \"album\", \"released\", \"directed\", \"novel\", \"music\", \"book\", \"records\", \"written\", \"singer\", \"band\", \"studio\", \"starring\", \"label\", \"comedy\", \"drama\", \"songs\", \"fiction\", \"jazz\", \"songwriter\", \"magazine\", \"musician\", \"release\", \"award\", \"producer\", \"books\", \"song\", \"author\", \"albums\", \"movie\", \"artist\", \"series\", \"title\", \"published\", \"writer\", \"best\", \"his\", \"first\", \"american\", \"produced\", \"rock\", \"based\", \"her\", \"known\", \"has\", \"which\", \"who\", \"school\", \"students\", \"education\", \"catholic\", \"schools\", \"representatives\", \"representing\", \"services\", \"elected\", \"senate\", \"campus\", \"hospital\", \"republican\", \"minister\", \"college\", \"educational\", \"engineering\", \"secondary\", \"government\", \"institution\", \"daily\", \"serves\", \"health\", \"offers\", \"university\", \"liberal\", \"technology\", \"newspaper\", \"politician\", \"public\", \"private\", \"high\", \"serving\", \"established\", \"ohio\", \"president\", \"company\", \"member\", \"located\", \"city\", \"served\", \"founded\", \"state\", \"party\", \"states\", \"united\", \"new\", \"since\", \"st\", \"has\", \"house\", \"district\", \"york\", \"one\", \"american\", \"county\", \"navy\", \"aircraft\", \"ship\", \"uss\", \"hms\", \"commissioned\", \"submarine\", \"boat\", \"laid\", \"ships\", \"gun\", \"destroyer\", \"vessel\", \"class\", \"command\", \"frigate\", \"shipbuilding\", \"prototype\", \"mordellistena\", \"naval\", \"mordellidae\", \"war\", \"dd\", \"cruiser\", \"imperial\", \"launched\", \"skyscraper\", \"mrs\", \"honda\", \"tallest\", \"royal\", \"fleet\", \"sponsored\", \"designed\", \"she\", \"ii\", \"tower\", \"during\", \"1944\", \"built\", \"world\", \"hotel\", \"down\", \"named\", \"were\", \"her\", \"french\", \"after\", \"united\", \"states\", \"british\", \"that\", \"service\", \"first\", \"plants\", \"grows\", \"beetle\", \"subfamily\", \"elevation\", \"perennial\", \"grass\", \"shrub\", \"native\", \"leaves\", \"daisy\", \"mountains\", \"orchidaceae\", \"extinct\", \"peak\", \"poaceae\", \"summit\", \"cm\", \"surface\", \"fish\", \"flowering\", \"asia\", \"volcano\", \"subspecies\", \"herb\", \"glacier\", \"trees\", \"above\", \"occurs\", \"metres\", \"ft\", \"tree\", \"mountain\", \"yellow\", \"lake\", \"range\", \"common\", \"genus\", \"species\", \"commonly\", \"plant\", \"are\", \"family\", \"america\", \"long\", \"found\", \"this\", \"southern\", \"small\", \"australia\", \"known\", \"south\", \"or\", \"western\", \"northern\", \"north\", \"endemic\", \"which\", \"river\", \"that\", \"footballer\", \"football\", \"league\", \"olympics\", \"midfielder\", \"baseball\", \"competed\", \"hockey\", \"rugby\", \"plays\", \"soccer\", \"defender\", \"racing\", \"player\", \"seasons\", \"fc\", \"draft\", \"championships\", \"medal\", \"bulgarian\", \"striker\", \"nfl\", \"played\", \"team\", \"cup\", \"professional\", \"pitcher\", \"forward\", \"defensive\", \"drafted\", \"playing\", \"championship\", \"retired\", \"club\", \"summer\", \"who\", \"season\", \"currently\", \"former\", \"won\", \"his\", \"march\", \"february\", \"january\", \"russian\", \"september\", \"april\", \"american\", \"july\", \"national\", \"register\", \"historic\", \"added\", \"mall\", \"revival\", \"places\", \"brick\", \"frame\", \"property\", \"priory\", \"cricket\", \"shopping\", \"bridge\", \"cricketer\", \"butterfly\", \"gable\", \"presbyterian\", \"residence\", \"roof\", \"block\", \"edgar\", \"methodist\", \"cemetery\", \"corner\", \"volumes\", \"congo\", \"shadow\", \"lycaenidae\", \"structure\", \"serialized\", \"thompson\", \"listed\", \"illinois\", \"style\", \"house\", \"building\", \"street\", \"church\", \"built\", \"national\", \"story\", \"documentary\", \"collection\", \"home\", \"located\", \"christian\", \"19th\", \"century\", \"county\", \"main\", \"two\", \"massachusetts\", \"york\", \"new\", \"administrative\", \"gmina\", \"voivodeship\", \"poland\", \"mi\", \"\\u0142\\u00f3d\\u017a\", \"czech\", \"kilometres\", \"nadu\", \"masovian\", \"taluk\", \"pomeranian\", \"karnataka\", \"lublin\", \"silesian\", \"podlaskie\", \"krak\\u00f3w\", \"headwater\", \"km\", \"s\\u025b\", \"regional\", \"minas\", \"pozna\\u0144\", \"gerais\", \"kuyavian\", \"ford\", \"w\\u00fcrttemberg\", \"estonia\", \"belgaum\", \"wroc\\u0142aw\", \"capital\", \"approximately\", \"lies\", \"within\", \"east\", \"village\", \"baden\", \"west\", \"north\", \"south\", \"county\", \"district\", \"central\", \"tamil\", \"municipality\", \"india\", \"river\", \"germany\", \"eastern\", \"region\", \"state\", \"population\", \"romania\", \"tributary\", \"subtropical\", \"threatened\", \"valea\", \"journal\", \"fabaceae\", \"malaysia\", \"basin\", \"loss\", \"pinyin\", \"montane\", \"legume\", \"crater\", \"papua\", \"taiwan\", \"moist\", \"mare\", \"vietnam\", \"lowland\", \"reviewed\", \"mic\", \"peer\", \"quarterly\", \"habitat\", \"natural\", \"shrubland\", \"forests\", \"var\", \"watershed\", \"tropical\", \"indonesia\", \"river\", \"ecuador\", \"rivers\", \"chinese\", \"endemic\", \"china\", \"plant\", \"species\", \"family\", \"or\", \"found\", \"brazil\", \"gastropod\", \"mollusk\", \"snail\", \"snails\", \"arctiidae\", \"pass\", \"moth\", \"feed\", \"geometridae\", \"locomotives\", \"rhine\", \"wingspan\", \"canton\", \"westphalia\", \"forewings\", \"mollusks\", \"larvae\", \"tortricidae\", \"railways\", \"locomotive\", \"rubiaceae\", \"costa\", \"rica\", \"diesel\", \"sphingidae\", \"marine\", \"hindwings\", \"melastomataceae\", \"tyrol\", \"contributing\", \"panama\", \"adults\", \"sea\", \"mm\", \"peru\", \"family\", \"found\", \"species\", \"alps\", \"described\", \"endemic\", \"plant\", \"genus\", \"noctuidae\", \"south\", \"or\", \"iran\", \"romanized\", \"persian\", \"families\", \"ye\", \"rural\", \"kerman\", \"census\", \"\\u0627\\u0628\\u0627\\u062f\", \"khorasan\", \"existence\", \"fars\", \"lorestan\", \"gilan\", \"khuzestan\", \"kurdistan\", \"mazandaran\", \"sar\", \"jonubi\", \"fork\", \"darreh\", \"razavi\", \"sharqi\", \"isfahan\", \"tehran\", \"province\", \"kermanshah\", \"72\", \"saudi\", \"rud\", \"population\", \"reported\", \"2006\", \"district\", \"azerbaijan\", \"village\", \"county\", \"central\", \"noted\", \"thailand\", \"reservoir\", \"known\", \"not\", \"municipality\", \"but\", \"lake\", \"bulbophyllum\", \"sri\", \"serbian\", \"lanka\", \"algae\", \"constituency\", \"serbia\", \"cyrillic\", \"bosnia\", \"herzegovina\", \"election\", \"taxonomy\", \"tolombeh\", \"turkey\", \"ankara\", \"moths\", \"snout\", \"lankan\", \"specifically\", \"tribe\", \"senators\", \"\\u062a\\u0644\\u0645\\u0628\\u0647\", \"racehorse\", \"pterophoridae\", \"republika\", \"srpska\", \"sworn\", \"resignation\", \"graub\\u00fcnden\", \"obama\", \"noctuidae\", \"chairman\", \"finance\", \"crambidae\", \"legislative\", \"our\", \"orchid\", \"people\", \"genus\", \"municipality\", \"according\", \"village\", \"family\", \"province\", \"2002\", \"species\", \"puerto\", \"bavaria\", \"hesse\", \"rico\", \"incomplete\", \"tachinidae\", \"saxony\", \"latvia\", \"chess\", \"mites\", \"nudibranch\", \"sul\", \"valentine\", \"dreadnought\", \"predatory\", \"exists\", \"paraguay\", \"latvian\", \"kara\", \"saunders\", \"riga\", \"conus\", \"25th\", \"christmas\", \"rogers\", \"lodge\", \"eduardo\", \"alchemy\", \"adventist\", \"fountain\", \"flies\", \"germany\", \"ricky\", \"giant\", \"mini\", \"battleship\", \"river\", \"r\\u00edo\", \"mountain\", \"basketball\", \"nepal\", \"physics\", \"households\", \"rhode\", \"\\u012bn\", \"lutheran\", \"qazvin\", \"andhra\", \"macedonian\", \"p\\u0101\", \"ab\", \"lubin\", \"inter\", \"sikkim\", \"mandal\", \"tanki\", \"zone\", \"episcopal\", \"1834\", \"rosaceae\", \"mazowiecki\", \"sportsperson\", \"harju\", \"al\\u012b\", \"k\\u0254\\u02c8l\\u0254\\u0272a\", \"kolonia\", \"pradesh\", \"sofla\", \"slug\", \"251\", \"106\", \"daigaku\", \"institutes\", \"committee\", \"hamilton\", \"individual\", \"living\", \"development\", \"1991\", \"had\", \"time\", \"people\", \"census\", \"joseph\", \"population\", \"cham\", \"murex\", \"muricidae\", \"courthouse\", \"timi\\u015f\", \"oppland\", \"belarusian\", \"thug\", \"puget\", \"margin\", \"bahrain\", \"bistri\\u0163a\", \"skate\", \"jupiter\", \"alden\", \"card\", \"hughes\", \"rao\", \"oman\", \"miters\", \"caledonian\", \"cypriot\", \"yemen\", \"somali\", \"rama\", \"sp\", \"josh\", \"screw\", \"marginellidae\", \"syrian\", \"patrol\", \"syria\", \"horn\", \"ricardo\", \"roberts\", \"al\", \"animal\", \"mitsubishi\", \"launch\", \"hero\", \"aka\", \"sound\"], \"Freq\": [124.0, 118.0, 133.0, 120.0, 113.0, 90.0, 117.0, 85.0, 50.0, 82.0, 53.0, 101.0, 53.0, 37.0, 38.0, 49.0, 36.0, 37.0, 37.0, 41.0, 33.0, 35.0, 40.0, 33.0, 79.0, 39.0, 71.0, 53.0, 31.0, 51.0, 116.88324470676064, 100.69740139492272, 78.97426219197021, 54.91431639331616, 44.388563377137146, 41.00851605931216, 36.08160782120312, 35.254691114729454, 36.006399133279835, 29.742430672216457, 40.238589328389075, 28.768741935199213, 27.117004013944705, 24.822941456992208, 20.225718719278888, 19.72159763160412, 17.549587624185097, 17.02032996533922, 16.299094836609207, 16.22378789930226, 17.90421729633768, 15.196760551966843, 15.156372588448571, 16.78957078226558, 14.04550991752382, 14.036717595277425, 12.906737023508734, 22.174756706148873, 12.39390045441641, 12.181227433428813, 20.472860912167157, 29.566714240928057, 15.54543471053006, 38.435069455817704, 18.264358683050727, 26.45643804819505, 46.02895302323381, 43.69485243850044, 45.524663429952476, 23.66817516534963, 21.217961216309575, 26.61442573661347, 25.694063564031737, 25.6306916452096, 24.836583344457942, 22.904476583664508, 22.126977137365735, 131.10948833503997, 21.050438727150766, 18.95475359048883, 15.390526319487229, 15.27045716853531, 15.21442510286364, 14.322312881723766, 14.305485208197686, 13.533955989265285, 12.582705828792474, 12.417268267852334, 11.994855862015314, 13.426838427589857, 18.88962110180266, 46.694429553644895, 10.707129534095518, 10.378918831631394, 15.285684467003442, 14.161727347529986, 9.666596453696856, 10.31850104158298, 12.496294979065189, 8.469787456365024, 8.46698652499502, 52.0000152581472, 8.187172837507282, 12.206796165850022, 14.881574882224063, 33.164786724070325, 29.84657149161657, 17.774447292534898, 54.738845706872254, 10.532360681831554, 18.645743039632254, 13.77057681403703, 15.60657752675532, 36.709555294168496, 31.154628669383587, 43.92970979447533, 29.920322802213615, 23.531290152406314, 23.769203921388435, 30.718786054045136, 16.565639132556573, 30.52230732016745, 32.258795993459145, 31.342708554092567, 20.23017086243202, 17.809246329874505, 23.713683635146563, 20.611968718458034, 26.32117387589613, 17.413424470133588, 19.172130915475506, 17.866188338437723, 17.742255092303637, 37.03020516438128, 19.68545815446329, 24.29483577904967, 15.688237612505139, 12.145532013321759, 10.921026228927682, 8.575759460541047, 7.9274713070852085, 9.611020332877654, 5.724567790477629, 5.684566629049718, 6.241633771513161, 7.385790463159724, 36.41861987773977, 5.451605206923022, 4.581899613990779, 4.542987631320066, 4.187393866608338, 3.9660383276325497, 5.2576010286926405, 3.763314838542577, 29.568954470624636, 3.558705150464278, 3.4671538702812597, 4.032619747116367, 13.24096601625656, 3.414841361905108, 4.860761395111016, 4.065828944864575, 3.2286532084779584, 14.530546205022288, 6.978279594479314, 5.037650919265042, 13.972999640842923, 37.364534644928874, 13.77629484450615, 6.100588588699075, 20.465465353294064, 7.507724349011926, 24.36630163670576, 19.99063471252835, 7.084848589039575, 8.78419655823154, 13.47187978267826, 14.526702931450481, 15.333403104187171, 12.44141729225882, 10.922144496235905, 11.877723622240072, 11.390013357302438, 9.949582452698971, 9.931713175943283, 8.36633285739711, 9.482290873544807, 21.115276669599613, 10.93933577795299, 10.828699756931414, 10.182917223743708, 10.103727662408701, 8.595432476021987, 8.237540290889058, 7.966604477043071, 27.726474408636015, 11.295283259889459, 6.691133655306193, 11.251839986710946, 5.991763461561436, 5.78231908098582, 10.33934428344467, 5.419713893592301, 6.279139404569739, 9.138021498517919, 5.7344572712208635, 8.895767644078004, 25.5918198577306, 8.344217115285415, 4.048073689493575, 4.027983691348078, 4.0192446578592245, 5.456204280589224, 4.48758220129144, 5.852317186736169, 5.280597705930133, 10.80712637248667, 12.629861503481608, 10.637141153722133, 30.014563939964756, 7.026742914950893, 38.35635830808302, 16.276761347546667, 14.035379864457738, 59.07761408339941, 65.38606614524491, 9.847431293820522, 27.123445307388, 30.276866711056737, 46.98078405085371, 13.720175526014268, 13.986105127066677, 22.059141052572915, 20.336732691808486, 14.331512120466371, 13.96963992260416, 13.669775884167105, 22.29198801123405, 20.11738324772607, 19.067274691394772, 14.309033628235115, 13.50066477162333, 17.034532413658116, 14.675007479589363, 16.057479656165935, 18.11281719155807, 13.533076234844108, 28.788289641500274, 33.94749216560566, 27.609745069097944, 12.436604186009058, 11.585791997466528, 13.742815503222316, 9.588988583057633, 8.30511256356886, 8.262133982023595, 27.43661253219164, 6.604310943792746, 6.357163072033528, 6.344987928204348, 24.335699822086127, 6.164904224130023, 5.807375586240191, 5.648031057362259, 5.593732599729012, 8.686261892195455, 5.292603214297978, 5.1111314798408625, 4.741034127003699, 31.089141515489924, 18.52296998191528, 5.699166818074141, 25.07932768927736, 5.699034295642294, 6.341351992474743, 3.7693831818616363, 3.5664699815813288, 11.229102070806379, 5.893079181204645, 10.284638306106663, 12.779208433411041, 10.801851939773616, 33.0629323327005, 6.62958561676273, 16.810859898859032, 16.01933643251237, 9.732773476976186, 16.3721231334373, 11.972997141257233, 11.273428644200337, 11.839647533153977, 9.799308587078183, 10.776211145932184, 10.207737812503451, 10.828019154397541, 9.679472274783775, 9.97212315069825, 18.605526433201412, 38.10590476624965, 10.200846947839507, 7.46242482969951, 7.221548699414521, 17.29553621283414, 6.7675588433448794, 4.979033692927327, 4.8650456462924945, 4.694594167119533, 4.659262660638787, 4.499065995314572, 8.01450779711056, 4.238666889528217, 4.2022409325109145, 3.70125124111929, 3.6756017972061072, 3.6018443404124905, 3.526969442797989, 3.2338699357793224, 3.150600451834733, 3.1469870990622146, 3.044024827790813, 4.126433742865236, 2.9091719466151926, 4.615842203778137, 2.527801392166871, 2.430939478405027, 4.692064585804645, 2.340021632143291, 2.902484694469995, 11.725598267200702, 8.214272553641518, 9.441804571823756, 23.601424100386744, 17.0855221613755, 11.862410495167016, 16.15015909338089, 17.86319923659175, 17.17008573745451, 12.714268219148876, 5.111684749642513, 5.943929937123251, 6.891993034345215, 10.763069428631066, 5.462077385672395, 5.019170417882347, 5.631453138594266, 7.029727966747859, 5.340103949845138, 5.708178345742719, 5.11737798159932, 5.222198727834182, 5.337678763207833, 23.32553436021824, 23.225529410058137, 22.901356647070784, 30.15453599143178, 48.3352963368472, 6.96493111531679, 9.709001483151688, 22.276380272674036, 5.7616909294322, 5.461149611226878, 5.11828891269079, 4.336248305562378, 5.861991903337897, 3.8974855164100384, 3.7869851734060838, 3.660721879587048, 3.3423710551176335, 3.325619976815062, 31.987550653840625, 2.913522487682208, 15.201593356617336, 2.8911083854638124, 2.822825942762047, 2.6252016405748173, 2.605374449540592, 4.172421022790629, 3.400407896577841, 5.849498867888745, 2.4551738516990196, 2.4241718283351306, 14.395357612029592, 17.961348286658808, 17.55839953509721, 23.209646193354597, 24.283357700627644, 38.669611330441406, 3.6002254295035745, 16.716405868482894, 19.667128625590895, 19.985080568232853, 20.68984256776897, 25.55311407875291, 14.406043558332456, 6.092679698971766, 7.31433142367281, 8.389503592817167, 9.542674268664019, 7.171651930420767, 6.830474461064222, 6.581216108861064, 7.188670295660729, 6.766142573542186, 36.33323643750657, 37.34501117121893, 14.822258618118122, 14.414133637186767, 8.88838784268945, 16.64814945004145, 8.210656927352177, 6.90029805339517, 6.838125941893245, 13.88178781307557, 5.431175969835369, 7.199646831021169, 7.186664012928129, 5.8800113191056536, 4.810219569308374, 4.57135179596601, 10.280277168273738, 3.739093388748647, 5.612330671010033, 5.149725918580139, 6.109944780964724, 3.0979458611426067, 6.653506316808368, 3.3855816414616644, 19.838482838990263, 12.849224390215047, 2.516573095168459, 12.855995773986509, 2.257424822938993, 2.5380249070465313, 13.740595058861881, 6.084213504585042, 82.01479417001426, 10.16180830168268, 5.133764675878175, 9.262650214855046, 15.364538410851816, 8.375223152917041, 14.787115308035245, 19.540353083212235, 18.797982659213066, 13.190252771561802, 10.070138623204045, 6.997308110166279, 17.581874592665717, 14.037306326118795, 13.922447065296664, 11.313846960218376, 8.923503922748836, 8.745079919210655, 32.49235785828724, 6.536759205663849, 6.5120560843865976, 6.248264893075816, 5.206873904104308, 5.192425220403666, 4.849632855473562, 4.734992490761159, 4.318746538192694, 4.058161170287501, 6.5703301838594275, 3.578716403731586, 3.3140014758216836, 3.9641662565610694, 3.1892817096376143, 3.722764189615363, 3.090998359170731, 3.394039414321356, 2.5363379933573564, 16.1507251582822, 2.2754305897846265, 1.9706442325639986, 1.965211384557125, 4.104442147547512, 4.126857222330715, 4.001009165615246, 15.808807599621408, 6.598440887316309, 4.65824912732867, 38.004388133785135, 18.718704969080118, 24.650288320000445, 5.0648839986394405, 7.735572188637164, 9.428386430259495, 8.186142644412106, 8.671076436333813, 4.526349501738179, 4.965189694954623, 4.932573373824809, 35.896396736782386, 33.075175327422485, 36.865484929850304, 31.774936087924093, 11.413455468888133, 34.94472606846807, 6.698398745164757, 36.997122196854384, 5.34348151402792, 5.261826057750291, 5.395030291907173, 3.6562412026567683, 3.502947033749018, 3.23113937220122, 3.204729489065367, 3.02041779095955, 2.9114059017029303, 2.797588025339293, 2.7544542527551297, 2.708254186022518, 2.589458761602864, 2.520455848700678, 2.499184706507032, 2.4902416971308465, 2.459350673201597, 40.93288833427735, 2.4234683077740504, 2.3908023748463787, 2.3023591981475944, 2.285079538061886, 36.62917092103295, 5.15921093569877, 31.297516723277298, 57.788351971260965, 5.756673955449154, 37.51988107915391, 30.486386953994046, 17.322385853003574, 4.959408100085855, 3.448185645488869, 3.890538435630859, 9.912576694804645, 4.27695648575898, 3.9965441553071925, 3.9514608469651886, 3.6584099623335913, 11.623021981219159, 8.593135407610966, 7.8851521148453925, 6.656897479754855, 6.351832115074321, 5.670132977677313, 4.636926146357196, 4.420739811221717, 4.313469515868816, 4.313469515868816, 5.651248658748541, 3.970764787482485, 3.33911731744914, 11.00681416922345, 3.089457203322911, 11.763516577219379, 2.90031894142381, 1.8821294568904443, 4.748060215702662, 2.3025392275097567, 1.8007226536911018, 1.6964580120745478, 2.1382329031106284, 2.066341779939483, 1.3832572380622805, 1.3832572380622805, 1.3738951215498039, 1.3643436661029176, 1.342031079347022, 1.3158490565320093, 7.047564135314382, 3.3523235786888286, 1.9588461159462913, 2.426846350538447, 3.560941531072528, 1.9564913385741067, 5.972148133616094, 6.6741170797269405, 13.645736926544055, 5.347667470281444, 3.678367107420606, 9.050896030318496, 7.8465814136380265, 4.685365777697956, 3.3050869793765263, 3.227527169335426, 6.572934102274365, 6.203645965868432, 5.8385504918526525, 5.4632526737806675, 2.553179027497013, 2.1513643130935987, 3.2264680269945076, 1.836331073966427, 2.765789789411662, 1.7832367879844588, 1.522291765023915, 1.4594737362413077, 1.4294850968477548, 1.3962051551232053, 1.7002508774707452, 1.313153076375032, 1.752940035909, 1.670606616868081, 1.2721239045211052, 1.250867232667282, 1.5269428139379229, 1.2272778770789408, 1.2113431822784633, 1.783165505985499, 1.5330215413404082, 1.1180196539248526, 1.0867438040122444, 1.0749168562538927, 1.058621737679308, 1.3290491461801301, 3.2595668691031676, 12.533164365061134, 1.4917073052812393, 1.61622988398197, 1.9442869261937337, 1.6474783347383806, 8.563019911846496, 1.6804540537817525, 1.8004564521899076, 1.3297974538980257, 7.280237019350131, 2.850412319016565, 2.823228914188197, 2.2535612920468564, 1.9295707663708528, 1.917204055230998, 1.902633629089494, 2.9503112270829646, 1.7615865378054147, 1.7551558283870665, 1.7506032267567948, 1.6375610302279942, 1.5910576258166564, 1.5740090014945098, 1.4978956459665782, 1.4934885354899237, 3.313787150757581, 2.08393095462762, 1.4170396837791897, 1.6765294252308773, 1.3937588981942515, 1.3760784925232006, 1.3229416510375858, 1.1673541471801763, 1.136260233582853, 1.136260233582853, 3.583983396680573, 1.4616334438530076, 1.3427157973073158, 1.0724536401260363, 1.4895105378142892, 1.8035809165712788, 1.3081752697244047, 2.8027447699175845, 1.7520708202865765, 2.181854543466853, 2.387624150489084, 2.5330343479931168, 2.4008974831489636, 2.506231812219945, 2.3595104917151293, 2.0527237388751924, 1.6553137372640194, 1.5308140338109706, 1.5343053403475604, 2.539699708316706, 2.4744100538545775, 2.227274910023077, 1.998603424478694, 1.8967405241175312, 1.8540820401688778, 1.7201489624602144, 1.6588487742864197, 1.607920218654145, 1.490284823772582, 1.3646531764090784, 1.3609996177130534, 1.303663443469408, 1.2501421018253418, 1.2128240800536494, 1.6377350237362804, 1.191109042421986, 1.8678799642388786, 1.1597719062969467, 1.1412531989196748, 1.1118219463824064, 1.109575211167876, 1.100328102903735, 1.059491162288502, 1.0573986793103707, 1.7910447597997308, 1.3026890335431949, 1.033271513605807, 1.00552353050401, 1.3644416460515831, 3.005516314523886, 1.5815200813037262, 1.5895267492336784, 1.6286815150521068, 1.6746695727649201, 2.640321857379053, 1.7147688398221124, 1.3551756558127552, 1.3610479878081068, 1.2715414046208162, 1.2589702701355034, 1.3226248043872852], \"Total\": [124.0, 118.0, 133.0, 120.0, 113.0, 90.0, 117.0, 85.0, 50.0, 82.0, 53.0, 101.0, 53.0, 37.0, 38.0, 49.0, 36.0, 37.0, 37.0, 41.0, 33.0, 35.0, 40.0, 33.0, 79.0, 39.0, 71.0, 53.0, 31.0, 51.0, 117.60617751373655, 101.42033456967441, 79.69719874910287, 55.6372494758561, 45.11150363311711, 41.73145548757217, 36.80454569755884, 35.97762283944889, 36.808480005708624, 30.46536379033951, 41.23302493486849, 29.4916808927531, 27.839936051177133, 25.54587310673586, 20.948650593738403, 20.4445295285517, 18.272519439947484, 17.743261802539255, 17.02202658382624, 16.946719675879358, 18.72963090770788, 15.919692457950736, 15.879312454261727, 17.591129977520946, 14.768441698111545, 14.75965020771362, 13.629668790251364, 23.43545366279461, 13.116832113646407, 12.904159214797133, 22.183669343520464, 33.647307139326436, 16.74887119967636, 46.675992054178536, 20.090324327535537, 31.477070828758997, 74.28251568222045, 74.37961902906416, 79.81638601352155, 31.178479023769647, 26.7485890576369, 44.64678776635344, 43.20945490424549, 81.99225070120397, 73.69509198892685, 63.22347479931836, 71.79658062658858, 133.62132245103155, 21.86767226072081, 19.7932937839606, 16.11352155775068, 15.993452478086311, 15.937420840730283, 15.045312351455456, 15.02848296523948, 14.256952205350244, 13.305701440473436, 13.140264119705048, 12.717851032839235, 14.244709037668748, 20.05317840009623, 49.7420383573165, 11.430124982739487, 11.101914959112936, 16.367831353915104, 15.216858083535492, 10.389591680564124, 11.181081368502092, 13.558212801071043, 9.19278403066093, 9.189982145676462, 56.44605288722714, 8.91016808801765, 13.292676749198986, 16.207299050494512, 36.13245843431209, 32.58645239352664, 19.530550508056486, 64.35517225363284, 11.542400537015528, 22.138498735732774, 15.7109699991733, 18.207025919459063, 54.22497068798668, 45.256214694200374, 73.10299092768855, 43.88544801993694, 32.423742105361406, 33.32817887480234, 48.276311494998524, 20.057482139631627, 57.072961843481664, 63.509914395848305, 69.16076493496212, 31.030392531237847, 23.95705781250479, 73.69509198892685, 47.70821682753476, 118.80458880712109, 32.37440004811647, 55.549673879466326, 79.81638601352155, 82.21621168103712, 37.75353864045324, 20.408792895886084, 25.226645866849676, 16.411569742722758, 12.868864158241102, 11.64436166237136, 9.299091675420497, 8.650804131765895, 10.54719143207152, 6.447900678832188, 6.407899130909048, 7.111652810271308, 8.415981866779408, 41.630671372926805, 6.286840138604948, 5.305231675814535, 5.266319881710375, 4.910726410781933, 4.689370524798472, 6.23574570204578, 4.4866471445654765, 35.26034640893293, 4.2820372236943625, 4.190486020393696, 4.874092449589117, 16.020558147778146, 4.1381744854964175, 5.905132025080424, 4.974528891544792, 3.951987883493752, 17.864620492544812, 8.589661980844184, 6.310854312553582, 20.61410221331238, 65.02280716890127, 20.46945836621494, 7.9661604954403655, 37.15837389090662, 10.446812015617212, 47.891974310512374, 41.78884581776394, 10.035104729883399, 14.046148535551085, 28.046779670955058, 35.13594329809256, 43.20945490424549, 36.36260742547519, 38.460396278471414, 63.509914395848305, 57.072961843481664, 39.216217163430954, 64.10438809217943, 21.622619023413627, 74.37961902906416, 21.93873485842886, 11.663818290438682, 11.553182680927792, 10.907399816957318, 10.828226161046048, 9.319914907882673, 8.962022693846894, 8.69108697902481, 30.598501406116565, 12.48727728016425, 7.415615870557783, 12.517178515213711, 6.716246632897487, 6.506801873694212, 11.693510296154852, 6.144196287208962, 7.154991690192724, 10.466403421950552, 6.568490299436346, 10.204289304379056, 29.610760954224062, 9.698317293421757, 4.772556557972514, 4.752466445919194, 4.743727520675978, 6.460478969585541, 5.331206807165745, 6.9735734356895795, 6.302843102258988, 12.900711180869655, 15.196883311416395, 12.84918429173061, 38.19496367542404, 8.439645763380682, 49.915030758771366, 20.539670627693667, 17.853267025068458, 85.19821656107905, 113.36568905078288, 12.997452105695235, 51.32120711346505, 64.20012300943996, 120.29160709523676, 21.727262356616787, 23.70636032436384, 53.17899543833505, 46.14809376936622, 25.016495459281103, 24.228533531831943, 25.182979436153147, 81.99225070120397, 66.27594820913029, 65.05542119926622, 31.091581561334777, 27.09400652292013, 59.293959151955285, 40.083188091776236, 63.22347479931836, 124.87325618400256, 64.10438809217943, 29.512632061367107, 35.03242814604048, 28.980819252765674, 13.160946779865187, 12.310134223822796, 14.757102989807132, 10.313331009179702, 9.029456794853399, 8.98647707609816, 29.964045135500765, 7.328654749013669, 7.081505676718345, 7.069332150804609, 27.131924245510636, 6.889246901773226, 6.5317178162347815, 6.37237335308115, 6.318076948999886, 9.866881619326852, 6.016946665678261, 5.8354736967495775, 5.4653802335245905, 35.84367293043972, 21.67133082241165, 6.7100526116106884, 29.553846688428766, 6.734356033950104, 7.522029402139968, 4.493725458366811, 4.290812612430554, 14.054901679710676, 7.22715420267439, 13.11129934259187, 17.35705199232318, 15.281572474323916, 71.79658062658858, 8.248368165754782, 32.10918886187355, 37.90804588683522, 21.22503109802091, 74.28251568222045, 35.65641777510792, 31.136702687405766, 37.7633817798138, 24.350401257509592, 35.30951613538087, 31.768152268612962, 79.81638601352155, 32.86637036311075, 48.004252406710556, 19.329334220751345, 40.33196431549117, 10.924654753266752, 8.186230249340575, 7.945354729653725, 19.08081523661498, 7.491364212101123, 5.702839542577784, 5.588855246558934, 5.418399282048263, 5.383068985445396, 5.22287206583213, 9.323454650533964, 4.962476100039745, 4.926047155125551, 4.425056427453089, 4.399409931282743, 4.3256521413881615, 4.25077682442203, 3.9576802048243764, 3.8744101507463324, 3.8707929664348084, 3.767830663501866, 5.142793892352552, 3.6329787057626137, 5.9262409932219695, 3.2516082145450245, 3.1547454568220936, 6.0970067420650125, 3.063828275737647, 3.8185955538768983, 17.528460551648667, 11.959722873769996, 14.122527993923581, 47.70821682753476, 32.919409255361884, 21.257949899643883, 33.84651444861273, 47.891974310512374, 48.004252406710556, 32.27014943671007, 7.883362691178771, 10.776650626364898, 17.207202012431672, 73.10299092768855, 10.993557197707787, 8.87841848900227, 18.137085208422757, 82.21621168103712, 18.26786264953661, 43.2080630859575, 15.030309653576493, 32.37440004811647, 69.16076493496212, 24.050864038598416, 23.95085588289151, 23.62668311985793, 31.447564160148083, 50.56468000515098, 7.690257974858066, 10.824306463413233, 24.96699183533698, 6.487017826189326, 6.186476081254988, 5.843615414380786, 5.061574773259914, 6.889998345370506, 4.622812006069755, 4.512313152090356, 4.386048352576607, 4.067698761223362, 4.05094788995174, 39.49441875454984, 3.6388489485329254, 18.98891192466896, 3.6164350930755136, 3.5481524104433557, 3.35052831844899, 3.3307009273372836, 5.348871560005063, 4.3962864060921065, 7.5654431285250165, 3.180500549737077, 3.1494982871495623, 19.060792840439056, 23.96073436529299, 24.623390479120836, 35.06516884554068, 43.79657058419677, 90.02380378208855, 4.850539621668998, 44.32239665435805, 59.293959151955285, 66.27594820913029, 82.21621168103712, 118.80458880712109, 49.330465618506416, 11.831664100306252, 20.453878745014592, 30.667707226996043, 124.87325618400256, 32.054164484009995, 23.908000758621935, 20.338813897108096, 48.276311494998524, 49.15638405293439, 37.46044712254733, 38.75496928743001, 15.548924237833376, 15.140799822108088, 9.61505255435461, 18.09071381031788, 8.93732481687418, 7.626967330094396, 7.564795744879244, 15.647146862432953, 6.157842262113518, 8.181896353045543, 8.191842705897498, 6.712599639185762, 5.536884997909234, 5.298017575952998, 12.109222360233842, 4.465759579121062, 6.7348487900367004, 6.215458670482009, 7.509236777387631, 3.824611221593637, 8.25210905219025, 4.235263643689088, 24.93726486242616, 16.462059914476743, 3.243237830159563, 16.87744678878398, 2.984090698436126, 3.399757840898104, 18.499332277123603, 8.20020281376273, 124.87325618400256, 14.120531706256614, 6.980808768894399, 17.068835511820037, 40.083188091776236, 15.834151227368611, 51.32120711346505, 113.36568905078288, 120.29160709523676, 65.05542119926622, 53.17899543833505, 20.32533624820819, 18.308248252174167, 14.763679992257556, 14.6488207174751, 12.040220689930553, 9.649877789587153, 9.471456416991547, 35.85066255503578, 7.2631350483025, 7.238429752841435, 6.974639551084463, 5.933248022793503, 5.918799930995106, 5.576011727512742, 5.461366151827927, 5.0451204251945745, 4.784534757700968, 7.814648992991437, 4.305090010080365, 4.040376026807223, 4.848018581676394, 3.915657305311198, 4.573643727950137, 3.8173728454137597, 4.2643032180855736, 3.262711842621531, 20.979277598126746, 3.0018046021348774, 2.6970205305082393, 2.691585125180615, 5.626234097686684, 5.79784042184426, 5.6757905324517335, 27.102307207996727, 10.340739935507319, 6.900893597228291, 120.29160709523676, 53.17899543833505, 113.36568905078288, 8.70501531779724, 20.914664028279915, 40.083188091776236, 51.32120711346505, 85.19821656107905, 12.246487107437085, 66.27594820913029, 65.05542119926622, 36.62229188994175, 33.80106794502798, 37.78737020955664, 33.771384620525566, 12.139348251586235, 37.416587476974236, 7.424291107846282, 41.53240869146689, 6.069373853192931, 5.98771841846666, 6.443321371272958, 4.38213355013316, 4.228839413799623, 3.9570317236685364, 3.930621826333778, 3.746310163590344, 3.6372982441196755, 3.523480366916859, 3.480346593051358, 3.434148039299666, 3.315351087945265, 3.2463482087529116, 3.2250770686453576, 3.2161340166107237, 3.185243762321866, 53.14233878687062, 3.1493606348206287, 3.116703014815202, 3.0282537655364647, 3.010971888836201, 49.15638405293439, 6.808470001166735, 53.01412734130207, 118.80458880712109, 8.492861122847494, 90.02380378208855, 82.21621168103712, 49.330465618506416, 8.663695129629135, 5.267222386289664, 7.031419936179576, 81.99225070120397, 25.85762579543095, 20.453878745014592, 33.29731372878697, 49.915030758771366, 12.350354676840048, 9.320469957141501, 8.612486014134257, 7.384231459341548, 7.079165762473512, 6.397470114846661, 5.364262224586208, 5.148074798845389, 5.0408027574823056, 5.0408027574823056, 6.645707332994219, 4.833084823597208, 4.066451377877069, 13.449363956671982, 3.816789886623495, 14.541885563910729, 3.627658970997591, 2.6094633468184476, 6.593522033122407, 3.21098103989407, 2.5280794231711625, 2.4237922252299584, 3.1664459915434424, 3.1273827974417223, 2.11058992136271, 2.11058992136271, 2.1012311000408017, 2.0916791229263585, 2.0693793883821843, 2.0431857836681373, 12.246487107437085, 5.767462857851078, 3.219816085319326, 4.317016130348241, 7.395490283832015, 3.410072564632763, 17.19901448180937, 20.85044657878672, 85.19821656107905, 20.453878745014592, 10.685466954188222, 90.02380378208855, 120.29160709523676, 53.14233878687062, 20.259711946890747, 113.36568905078288, 7.3000952704638244, 6.930807861388739, 6.565711288305441, 6.190413828352561, 3.280341905679509, 2.878524981462151, 4.502336397336029, 2.563495706484356, 3.8700544215257975, 2.5103975484944923, 2.2494573051353752, 2.1866350454665753, 2.1566482023442464, 2.1233675159777703, 2.614890256874297, 2.0403150430613146, 2.7313162808149487, 2.6218063356745387, 1.9992874236550513, 1.9780300142206853, 2.41509445730196, 1.954438775056864, 1.9385054055470197, 2.8549611923253995, 2.47808157525058, 1.8451848198492413, 1.8139057297408228, 1.802077851863733, 1.7857862158226618, 2.248035632848674, 6.39911756883169, 32.054164484009995, 2.6680050950010643, 3.0292394347577623, 4.029029355218714, 3.4737804433854347, 124.87325618400256, 3.9288869445600487, 38.19496367542404, 7.825479886740997, 8.2122847360599, 3.577497393928076, 3.5503109515271523, 2.980645969523096, 2.65665483645126, 2.644289888597673, 2.629716830455122, 4.106767033181427, 2.488668718164695, 2.482238456449298, 2.4776886314064406, 2.3646480397603256, 2.3181406171017502, 2.3010918320591784, 2.2249775814287696, 2.220570474877346, 5.000981236363636, 3.1521078134475484, 2.144128108935511, 2.5434901705223214, 2.1208470815424714, 2.1031614198041586, 2.050024470995046, 1.8944398592584306, 1.863344105936179, 1.863344105936179, 5.927015408361918, 2.4252274798763023, 2.250225850143864, 1.799538385435347, 2.5877368609991898, 3.367390554810782, 2.33526052405072, 8.016570017284078, 4.023924555274758, 6.837866945560161, 9.393012857729564, 15.347171125774492, 18.68701762262032, 28.39434687237437, 22.42571097830847, 20.85044657878672, 41.53240869146689, 8.755483326833144, 49.15638405293439, 3.2667108887348317, 3.2014213986368265, 2.954286308372425, 2.7256224382242342, 2.6237513132874963, 2.5810926979704854, 2.4471592787180487, 2.385858808339096, 2.3349313395275075, 2.2173051305186773, 2.0916634672432037, 2.088010246967837, 2.030674095654696, 1.977152228719154, 1.9398343728161214, 2.628070662399193, 1.9181295402085536, 3.0291429532192, 1.8867828650472895, 1.8682656534036028, 1.8388324400149856, 1.8365861027571841, 1.8273406519632482, 1.786501548862117, 1.7844101167990911, 3.0282080614239986, 2.219114900918826, 1.7602917597845065, 1.7325345770098495, 2.3691083101604296, 5.260885982925213, 2.7568934811475407, 2.7763453651814123, 3.0354231813099872, 3.36630671322495, 9.532590736556616, 4.355294359258206, 2.7410905733977504, 3.118758625109558, 2.7417387552627535, 3.467589375558455, 8.58843659898653], \"Category\": [\"Default\", \"Default\", \"Default\", \"Default\", \"Default\", \"Default\", \"Default\", \"Default\", \"Default\", \"Default\", \"Default\", \"Default\", \"Default\", \"Default\", \"Default\", \"Default\", \"Default\", \"Default\", \"Default\", \"Default\", \"Default\", \"Default\", \"Default\", \"Default\", \"Default\", \"Default\", \"Default\", \"Default\", \"Default\", \"Default\", \"Topic1\", \"Topic1\", \"Topic1\", \"Topic1\", \"Topic1\", \"Topic1\", \"Topic1\", \"Topic1\", \"Topic1\", \"Topic1\", \"Topic1\", \"Topic1\", \"Topic1\", \"Topic1\", \"Topic1\", \"Topic1\", \"Topic1\", \"Topic1\", \"Topic1\", \"Topic1\", \"Topic1\", \"Topic1\", \"Topic1\", \"Topic1\", \"Topic1\", \"Topic1\", \"Topic1\", \"Topic1\", \"Topic1\", \"Topic1\", \"Topic1\", \"Topic1\", \"Topic1\", \"Topic1\", \"Topic1\", \"Topic1\", \"Topic1\", \"Topic1\", \"Topic1\", \"Topic1\", \"Topic1\", \"Topic1\", \"Topic1\", \"Topic1\", \"Topic1\", \"Topic1\", \"Topic1\", \"Topic2\", \"Topic2\", \"Topic2\", \"Topic2\", \"Topic2\", \"Topic2\", \"Topic2\", \"Topic2\", \"Topic2\", \"Topic2\", \"Topic2\", \"Topic2\", \"Topic2\", \"Topic2\", \"Topic2\", \"Topic2\", \"Topic2\", \"Topic2\", \"Topic2\", \"Topic2\", \"Topic2\", \"Topic2\", \"Topic2\", \"Topic2\", \"Topic2\", \"Topic2\", \"Topic2\", \"Topic2\", \"Topic2\", \"Topic2\", \"Topic2\", \"Topic2\", \"Topic2\", \"Topic2\", \"Topic2\", \"Topic2\", \"Topic2\", \"Topic2\", \"Topic2\", \"Topic2\", \"Topic2\", \"Topic2\", \"Topic2\", \"Topic2\", \"Topic2\", \"Topic2\", \"Topic2\", \"Topic2\", \"Topic2\", \"Topic2\", \"Topic2\", \"Topic2\", \"Topic2\", \"Topic2\", \"Topic2\", \"Topic2\", \"Topic3\", \"Topic3\", \"Topic3\", \"Topic3\", \"Topic3\", \"Topic3\", \"Topic3\", \"Topic3\", \"Topic3\", \"Topic3\", \"Topic3\", \"Topic3\", \"Topic3\", \"Topic3\", \"Topic3\", \"Topic3\", \"Topic3\", \"Topic3\", \"Topic3\", \"Topic3\", \"Topic3\", \"Topic3\", \"Topic3\", \"Topic3\", \"Topic3\", \"Topic3\", \"Topic3\", \"Topic3\", \"Topic3\", \"Topic3\", \"Topic3\", \"Topic3\", \"Topic3\", \"Topic3\", \"Topic3\", \"Topic3\", \"Topic3\", \"Topic3\", \"Topic3\", \"Topic3\", \"Topic3\", \"Topic3\", \"Topic3\", \"Topic3\", \"Topic3\", \"Topic3\", \"Topic3\", \"Topic3\", \"Topic3\", \"Topic3\", \"Topic3\", \"Topic3\", \"Topic3\", \"Topic3\", \"Topic4\", \"Topic4\", \"Topic4\", \"Topic4\", \"Topic4\", \"Topic4\", \"Topic4\", \"Topic4\", \"Topic4\", \"Topic4\", \"Topic4\", \"Topic4\", \"Topic4\", \"Topic4\", \"Topic4\", \"Topic4\", \"Topic4\", \"Topic4\", \"Topic4\", \"Topic4\", \"Topic4\", \"Topic4\", \"Topic4\", \"Topic4\", \"Topic4\", \"Topic4\", \"Topic4\", \"Topic4\", \"Topic4\", \"Topic4\", \"Topic4\", \"Topic4\", \"Topic4\", \"Topic4\", \"Topic4\", \"Topic4\", \"Topic4\", \"Topic4\", \"Topic4\", \"Topic4\", \"Topic4\", \"Topic4\", \"Topic4\", \"Topic4\", \"Topic4\", \"Topic4\", \"Topic4\", \"Topic4\", \"Topic4\", \"Topic4\", \"Topic4\", \"Topic4\", \"Topic4\", \"Topic4\", \"Topic4\", \"Topic4\", \"Topic4\", \"Topic4\", \"Topic4\", \"Topic4\", \"Topic5\", \"Topic5\", \"Topic5\", \"Topic5\", \"Topic5\", \"Topic5\", \"Topic5\", \"Topic5\", \"Topic5\", \"Topic5\", \"Topic5\", \"Topic5\", \"Topic5\", \"Topic5\", \"Topic5\", \"Topic5\", \"Topic5\", \"Topic5\", \"Topic5\", \"Topic5\", \"Topic5\", \"Topic5\", \"Topic5\", \"Topic5\", \"Topic5\", \"Topic5\", \"Topic5\", \"Topic5\", \"Topic5\", \"Topic5\", \"Topic5\", \"Topic5\", \"Topic5\", \"Topic5\", \"Topic5\", \"Topic5\", \"Topic5\", \"Topic5\", \"Topic5\", \"Topic5\", \"Topic5\", \"Topic5\", \"Topic5\", \"Topic5\", \"Topic5\", \"Topic5\", \"Topic5\", \"Topic5\", \"Topic5\", \"Topic5\", \"Topic6\", \"Topic6\", \"Topic6\", \"Topic6\", \"Topic6\", \"Topic6\", \"Topic6\", \"Topic6\", \"Topic6\", \"Topic6\", \"Topic6\", \"Topic6\", \"Topic6\", \"Topic6\", \"Topic6\", \"Topic6\", \"Topic6\", \"Topic6\", \"Topic6\", \"Topic6\", \"Topic6\", \"Topic6\", \"Topic6\", \"Topic6\", \"Topic6\", \"Topic6\", \"Topic6\", \"Topic6\", \"Topic6\", \"Topic6\", \"Topic6\", \"Topic6\", \"Topic6\", \"Topic6\", \"Topic6\", \"Topic6\", \"Topic6\", \"Topic6\", \"Topic6\", \"Topic6\", \"Topic6\", \"Topic6\", \"Topic6\", \"Topic6\", \"Topic6\", \"Topic6\", \"Topic6\", \"Topic6\", \"Topic6\", \"Topic6\", \"Topic6\", \"Topic6\", \"Topic6\", \"Topic6\", \"Topic7\", \"Topic7\", \"Topic7\", \"Topic7\", \"Topic7\", \"Topic7\", \"Topic7\", \"Topic7\", \"Topic7\", \"Topic7\", \"Topic7\", \"Topic7\", \"Topic7\", \"Topic7\", \"Topic7\", \"Topic7\", \"Topic7\", \"Topic7\", \"Topic7\", \"Topic7\", \"Topic7\", \"Topic7\", \"Topic7\", \"Topic7\", \"Topic7\", \"Topic7\", \"Topic7\", \"Topic7\", \"Topic7\", \"Topic7\", \"Topic7\", \"Topic7\", \"Topic7\", \"Topic7\", \"Topic7\", \"Topic7\", \"Topic7\", \"Topic7\", \"Topic7\", \"Topic7\", \"Topic7\", \"Topic7\", \"Topic7\", \"Topic7\", \"Topic7\", \"Topic7\", \"Topic7\", \"Topic7\", \"Topic7\", \"Topic7\", \"Topic7\", \"Topic7\", \"Topic8\", \"Topic8\", \"Topic8\", \"Topic8\", \"Topic8\", \"Topic8\", \"Topic8\", \"Topic8\", \"Topic8\", \"Topic8\", \"Topic8\", \"Topic8\", \"Topic8\", \"Topic8\", \"Topic8\", \"Topic8\", \"Topic8\", \"Topic8\", \"Topic8\", \"Topic8\", \"Topic8\", \"Topic8\", \"Topic8\", \"Topic8\", \"Topic8\", \"Topic8\", \"Topic8\", \"Topic8\", \"Topic8\", \"Topic8\", \"Topic8\", \"Topic8\", \"Topic8\", \"Topic8\", \"Topic8\", \"Topic8\", \"Topic8\", \"Topic8\", \"Topic8\", \"Topic8\", \"Topic8\", \"Topic8\", \"Topic8\", \"Topic8\", \"Topic9\", \"Topic9\", \"Topic9\", \"Topic9\", \"Topic9\", \"Topic9\", \"Topic9\", \"Topic9\", \"Topic9\", \"Topic9\", \"Topic9\", \"Topic9\", \"Topic9\", \"Topic9\", \"Topic9\", \"Topic9\", \"Topic9\", \"Topic9\", \"Topic9\", \"Topic9\", \"Topic9\", \"Topic9\", \"Topic9\", \"Topic9\", \"Topic9\", \"Topic9\", \"Topic9\", \"Topic9\", \"Topic9\", \"Topic9\", \"Topic9\", \"Topic9\", \"Topic9\", \"Topic9\", \"Topic9\", \"Topic9\", \"Topic9\", \"Topic9\", \"Topic9\", \"Topic9\", \"Topic9\", \"Topic9\", \"Topic9\", \"Topic9\", \"Topic9\", \"Topic9\", \"Topic10\", \"Topic10\", \"Topic10\", \"Topic10\", \"Topic10\", \"Topic10\", \"Topic10\", \"Topic10\", \"Topic10\", \"Topic10\", \"Topic10\", \"Topic10\", \"Topic10\", \"Topic10\", \"Topic10\", \"Topic10\", \"Topic10\", \"Topic10\", \"Topic10\", \"Topic10\", \"Topic10\", \"Topic10\", \"Topic10\", \"Topic10\", \"Topic10\", \"Topic10\", \"Topic10\", \"Topic10\", \"Topic10\", \"Topic10\", \"Topic10\", \"Topic10\", \"Topic10\", \"Topic10\", \"Topic10\", \"Topic10\", \"Topic10\", \"Topic10\", \"Topic10\", \"Topic10\", \"Topic10\", \"Topic10\", \"Topic10\", \"Topic10\", \"Topic10\", \"Topic10\", \"Topic11\", \"Topic11\", \"Topic11\", \"Topic11\", \"Topic11\", \"Topic11\", \"Topic11\", \"Topic11\", \"Topic11\", \"Topic11\", \"Topic11\", \"Topic11\", \"Topic11\", \"Topic11\", \"Topic11\", \"Topic11\", \"Topic11\", \"Topic11\", \"Topic11\", \"Topic11\", \"Topic11\", \"Topic11\", \"Topic11\", \"Topic11\", \"Topic11\", \"Topic11\", \"Topic11\", \"Topic11\", \"Topic11\", \"Topic11\", \"Topic11\", \"Topic11\", \"Topic11\", \"Topic11\", \"Topic11\", \"Topic11\", \"Topic11\", \"Topic11\", \"Topic11\", \"Topic11\", \"Topic11\", \"Topic11\", \"Topic11\", \"Topic11\", \"Topic11\", \"Topic11\", \"Topic12\", \"Topic12\", \"Topic12\", \"Topic12\", \"Topic12\", \"Topic12\", \"Topic12\", \"Topic12\", \"Topic12\", \"Topic12\", \"Topic12\", \"Topic12\", \"Topic12\", \"Topic12\", \"Topic12\", \"Topic12\", \"Topic12\", \"Topic12\", \"Topic12\", \"Topic12\", \"Topic12\", \"Topic12\", \"Topic12\", \"Topic12\", \"Topic12\", \"Topic12\", \"Topic12\", \"Topic12\", \"Topic12\", \"Topic12\", \"Topic12\", \"Topic12\", \"Topic12\", \"Topic12\", \"Topic12\", \"Topic12\", \"Topic12\", \"Topic12\", \"Topic12\", \"Topic12\", \"Topic13\", \"Topic13\", \"Topic13\", \"Topic13\", \"Topic13\", \"Topic13\", \"Topic13\", \"Topic13\", \"Topic13\", \"Topic13\", \"Topic13\", \"Topic13\", \"Topic13\", \"Topic13\", \"Topic13\", \"Topic13\", \"Topic13\", \"Topic13\", \"Topic13\", \"Topic13\", \"Topic13\", \"Topic13\", \"Topic13\", \"Topic13\", \"Topic13\", \"Topic13\", \"Topic13\", \"Topic13\", \"Topic13\", \"Topic13\", \"Topic13\", \"Topic13\", \"Topic13\", \"Topic13\", \"Topic13\", \"Topic13\", \"Topic13\", \"Topic13\", \"Topic13\", \"Topic13\", \"Topic13\", \"Topic13\", \"Topic13\", \"Topic13\", \"Topic13\", \"Topic14\", \"Topic14\", \"Topic14\", \"Topic14\", \"Topic14\", \"Topic14\", \"Topic14\", \"Topic14\", \"Topic14\", \"Topic14\", \"Topic14\", \"Topic14\", \"Topic14\", \"Topic14\", \"Topic14\", \"Topic14\", \"Topic14\", \"Topic14\", \"Topic14\", \"Topic14\", \"Topic14\", \"Topic14\", \"Topic14\", \"Topic14\", \"Topic14\", \"Topic14\", \"Topic14\", \"Topic14\", \"Topic14\", \"Topic14\", \"Topic14\", \"Topic14\", \"Topic14\", \"Topic14\", \"Topic14\", \"Topic14\", \"Topic14\", \"Topic14\", \"Topic14\", \"Topic14\", \"Topic14\", \"Topic14\"], \"logprob\": [30.0, 29.0, 28.0, 27.0, 26.0, 25.0, 24.0, 23.0, 22.0, 21.0, 20.0, 19.0, 18.0, 17.0, 16.0, 15.0, 14.0, 13.0, 12.0, 11.0, 10.0, 9.0, 8.0, 7.0, 6.0, 5.0, 4.0, 3.0, 2.0, 1.0, -4.3358, -4.4848, -4.7278, -5.0912, -5.304, -5.3832, -5.5112, -5.5344, -5.5133, -5.7044, -5.4021, -5.7377, -5.7968, -5.8852, -6.09, -6.1152, -6.2319, -6.2626, -6.3058, -6.3105, -6.2119, -6.3759, -6.3785, -6.2762, -6.4547, -6.4553, -6.5392, -5.998, -6.5798, -6.5971, -6.0779, -5.7103, -6.3532, -5.448, -6.192, -5.8215, -5.2677, -5.3197, -5.2787, -5.9328, -6.0421, -5.8155, -5.8507, -5.8532, -5.8846, -5.9656, -6.0002, -3.9906, -5.8197, -5.9246, -6.1329, -6.1407, -6.1444, -6.2048, -6.206, -6.2614, -6.3343, -6.3476, -6.3822, -6.2694, -5.928, -5.023, -6.4957, -6.5269, -6.1397, -6.2161, -6.598, -6.5327, -6.3412, -6.7301, -6.7305, -4.9154, -6.7641, -6.3646, -6.1665, -5.3652, -5.4706, -5.9889, -4.8641, -6.5122, -5.941, -6.2441, -6.1189, -5.2636, -5.4277, -5.0841, -5.4681, -5.7083, -5.6983, -5.4418, -6.0593, -5.4482, -5.3929, -5.4217, -5.8595, -5.9869, -5.7006, -5.8408, -5.5963, -6.0094, -5.9132, -5.9837, -5.9907, -4.5686, -5.2005, -4.9901, -5.4275, -5.6834, -5.7897, -6.0314, -6.11, -5.9175, -6.4356, -6.4426, -6.3491, -6.1808, -4.5853, -6.4845, -6.6583, -6.6668, -6.7483, -6.8026, -6.5207, -6.8551, -4.7936, -6.911, -6.937, -6.786, -5.5971, -6.9522, -6.5992, -6.7778, -7.0083, -5.5041, -6.2376, -6.5634, -5.5432, -4.5596, -5.5574, -6.372, -5.1616, -6.1644, -4.9872, -5.1851, -6.2224, -6.0074, -5.5798, -5.5044, -5.4503, -5.6593, -5.7896, -5.7057, -5.7476, -5.8828, -5.8846, -6.0562, -5.9309, -5.0923, -5.75, -5.7601, -5.8216, -5.8294, -5.9911, -6.0336, -6.0671, -4.8199, -5.7179, -6.2415, -5.7218, -6.3519, -6.3875, -5.8064, -6.4523, -6.3051, -5.9299, -6.3958, -5.9567, -4.9, -6.0207, -6.7441, -6.7491, -6.7512, -6.4456, -6.641, -6.3755, -6.4783, -5.7621, -5.6063, -5.778, -4.7406, -6.1926, -4.4954, -5.3526, -5.5007, -4.0635, -3.962, -5.8551, -4.8419, -4.7319, -4.2926, -5.5234, -5.5043, -5.0486, -5.1299, -5.4799, -5.5054, -5.5271, -5.0381, -5.1407, -5.1943, -5.4814, -5.5396, -5.3071, -5.4562, -5.3661, -5.2457, -5.5372, -4.5665, -4.4017, -4.6083, -5.4059, -5.4767, -5.306, -5.6659, -5.8096, -5.8148, -4.6146, -6.0388, -6.0769, -6.0788, -4.7346, -6.1076, -6.1674, -6.1952, -6.2049, -5.7648, -6.2602, -6.2951, -6.3703, -4.4897, -5.0075, -6.1862, -4.7045, -6.1862, -6.0794, -6.5996, -6.6549, -5.508, -6.1527, -5.5959, -5.3787, -5.5468, -4.4281, -6.035, -5.1045, -5.1527, -5.651, -5.1309, -5.4439, -5.5041, -5.4551, -5.6442, -5.5492, -5.6034, -5.5444, -5.6565, -5.6267, -4.8395, -4.1226, -5.4405, -5.7531, -5.7859, -4.9125, -5.8508, -6.1577, -6.1809, -6.2165, -6.2241, -6.2591, -5.6817, -6.3187, -6.3273, -6.4543, -6.4612, -6.4815, -6.5025, -6.5893, -6.6154, -6.6165, -6.6498, -6.3455, -6.6951, -6.2335, -6.8356, -6.8747, -6.2171, -6.9128, -6.6974, -5.3012, -5.6571, -5.5178, -4.6016, -4.9247, -5.2896, -4.981, -4.8802, -4.9198, -5.2202, -6.1314, -5.9806, -5.8326, -5.3868, -6.0651, -6.1497, -6.0346, -5.8128, -6.0877, -6.0211, -6.1303, -6.11, -6.0882, -4.3399, -4.3442, -4.3582, -4.0831, -3.6113, -5.5485, -5.2164, -4.3859, -5.7382, -5.7918, -5.8566, -6.0224, -5.7209, -6.1291, -6.1578, -6.1918, -6.2827, -6.2878, -4.0241, -6.4201, -4.768, -6.4278, -6.4517, -6.5243, -6.5318, -6.0609, -6.2655, -5.7231, -6.5912, -6.6039, -4.8225, -4.6012, -4.6239, -4.3449, -4.2996, -3.8344, -6.2084, -4.673, -4.5105, -4.4944, -4.4598, -4.2487, -4.8218, -5.6823, -5.4996, -5.3624, -5.2336, -5.5193, -5.568, -5.6052, -5.5169, -5.5775, -3.8023, -3.7748, -4.6989, -4.7268, -5.2103, -4.5827, -5.2896, -5.4635, -5.4725, -4.7644, -5.7029, -5.421, -5.4228, -5.6235, -5.8243, -5.8752, -5.0648, -6.0762, -5.6701, -5.7561, -5.5851, -6.2643, -5.4999, -6.1755, -4.4074, -4.8417, -6.4721, -4.8412, -6.5808, -6.4636, -4.7747, -5.5893, -2.9881, -5.0764, -5.7592, -5.169, -4.663, -5.2697, -4.7013, -4.4225, -4.4613, -4.8155, -5.0854, -5.4495, -4.5038, -4.729, -4.7372, -4.9446, -5.182, -5.2022, -3.8897, -5.4932, -5.497, -5.5384, -5.7207, -5.7235, -5.7918, -5.8157, -5.9077, -5.9699, -5.4881, -6.0957, -6.1725, -5.9934, -6.2109, -6.0562, -6.2422, -6.1486, -6.4399, -4.5887, -6.5485, -6.6923, -6.6951, -5.9586, -5.9532, -5.9841, -4.6101, -5.4838, -5.832, -3.733, -4.4411, -4.1659, -5.7483, -5.3248, -5.1269, -5.2682, -5.2107, -5.8608, -5.7682, -5.7748, -3.775, -3.8568, -3.7483, -3.8969, -4.9208, -3.8019, -5.4537, -3.7448, -5.6797, -5.6951, -5.6701, -6.0592, -6.102, -6.1828, -6.191, -6.2502, -6.287, -6.3269, -6.3424, -6.3593, -6.4042, -6.4312, -6.4397, -6.4432, -6.4557, -3.6437, -6.4704, -6.484, -6.5217, -6.5292, -3.7548, -5.7148, -3.9121, -3.2988, -5.6053, -3.7307, -3.9383, -4.5036, -5.7543, -6.1178, -5.9971, -5.0618, -5.9024, -5.9702, -5.9815, -6.0586, -4.5124, -4.8144, -4.9004, -5.0697, -5.1167, -5.2302, -5.4313, -5.4791, -5.5037, -5.5037, -5.2335, -5.5864, -5.7597, -4.5669, -5.8374, -4.5004, -5.9006, -6.333, -5.4077, -6.1314, -6.3772, -6.4369, -6.2054, -6.2396, -6.641, -6.641, -6.6477, -6.6547, -6.6712, -6.6909, -5.0127, -5.7557, -6.293, -6.0788, -5.6954, -6.2942, -5.1783, -5.0672, -4.352, -5.2887, -5.6629, -4.7625, -4.9053, -5.421, -5.7699, -5.7937, -4.8806, -4.9384, -4.9991, -5.0655, -5.8262, -5.9975, -5.5922, -6.1558, -5.7462, -6.1851, -6.3434, -6.3855, -6.4063, -6.4298, -6.2328, -6.4911, -6.2023, -6.2504, -6.5229, -6.5397, -6.3403, -6.5588, -6.5718, -6.1852, -6.3363, -6.652, -6.6804, -6.6913, -6.7066, -6.4791, -5.582, -4.2352, -6.3636, -6.2835, -6.0987, -6.2643, -4.6161, -6.2445, -6.1755, -6.4785, -4.7658, -5.7035, -5.7131, -5.9385, -6.0937, -6.1001, -6.1077, -5.6691, -6.1848, -6.1884, -6.191, -6.2578, -6.2866, -6.2973, -6.3469, -6.3499, -5.5529, -6.0167, -6.4024, -6.2342, -6.419, -6.4317, -6.4711, -6.5962, -6.6232, -6.6232, -5.4745, -6.3714, -6.4563, -6.681, -6.3525, -6.1612, -6.4823, -5.7204, -6.1902, -5.9708, -5.8807, -5.8215, -5.8751, -5.8322, -5.8925, -6.0318, -6.247, -6.3252, -6.3229, -5.8047, -5.8307, -5.9359, -6.0443, -6.0966, -6.1193, -6.1943, -6.2306, -6.2618, -6.3378, -6.4258, -6.4285, -6.4715, -6.5135, -6.5438, -6.2434, -6.5618, -6.1119, -6.5885, -6.6046, -6.6307, -6.6327, -6.6411, -6.6789, -6.6809, -6.1539, -6.4723, -6.704, -6.7312, -6.426, -5.6363, -6.2783, -6.2733, -6.249, -6.2211, -5.7658, -6.1974, -6.4328, -6.4285, -6.4965, -6.5064, -6.4571], \"loglift\": [30.0, 29.0, 28.0, 27.0, 26.0, 25.0, 24.0, 23.0, 22.0, 21.0, 20.0, 19.0, 18.0, 17.0, 16.0, 15.0, 14.0, 13.0, 12.0, 11.0, 10.0, 9.0, 8.0, 7.0, 6.0, 5.0, 4.0, 3.0, 2.0, 1.0, 1.4512, 1.4502, 1.4482, 1.4442, 1.4412, 1.4399, 1.4375, 1.437, 1.4353, 1.4333, 1.4329, 1.4325, 1.431, 1.4286, 1.4222, 1.4213, 1.417, 1.4157, 1.4139, 1.4137, 1.4123, 1.4109, 1.4107, 1.4107, 1.4071, 1.4071, 1.4028, 1.402, 1.4006, 1.3997, 1.3771, 1.328, 1.3828, 1.2631, 1.362, 1.2836, 0.9787, 0.9254, 0.8959, 1.1817, 1.2257, 0.94, 0.9375, 0.2945, 0.3697, 0.442, 0.2803, 1.6687, 1.6496, 1.6444, 1.6417, 1.6414, 1.6412, 1.6384, 1.6383, 1.6356, 1.6318, 1.6311, 1.6291, 1.6285, 1.6279, 1.6244, 1.6223, 1.6203, 1.6192, 1.6158, 1.6155, 1.6074, 1.6061, 1.6057, 1.6057, 1.6056, 1.603, 1.6024, 1.6023, 1.6019, 1.5998, 1.5934, 1.5258, 1.5961, 1.5159, 1.5558, 1.5335, 1.2975, 1.3143, 1.1784, 1.3046, 1.3671, 1.3496, 1.2356, 1.4964, 1.0618, 1.0102, 0.8962, 1.2599, 1.3911, 0.5538, 0.8484, 0.1805, 1.0675, 0.6238, 0.1908, 0.1542, 2.3546, 2.3378, 2.3363, 2.3288, 2.3161, 2.3098, 2.2929, 2.2866, 2.281, 2.2549, 2.2541, 2.2434, 2.2433, 2.2402, 2.2314, 2.2273, 2.2262, 2.2146, 2.2064, 2.2033, 2.1981, 2.1979, 2.1889, 2.1844, 2.1844, 2.1834, 2.1818, 2.1793, 2.1722, 2.1718, 2.1673, 2.1662, 2.1486, 1.9851, 1.8199, 1.9779, 2.1071, 1.7775, 2.0436, 1.6982, 1.6365, 2.0258, 1.9045, 1.6406, 1.4907, 1.3379, 1.3014, 1.1151, 0.6974, 0.7623, 1.0024, 0.5091, 1.4244, 0.3142, 2.3737, 2.3478, 2.3472, 2.3432, 2.3427, 2.331, 2.3277, 2.3249, 2.3134, 2.3116, 2.3092, 2.3054, 2.2978, 2.2939, 2.2889, 2.2865, 2.2814, 2.2762, 2.2762, 2.2747, 2.2661, 2.2616, 2.2473, 2.2466, 2.2462, 2.243, 2.2397, 2.2367, 2.235, 2.2349, 2.2269, 2.223, 2.1709, 2.2288, 2.1486, 2.1794, 2.1714, 2.0458, 1.8617, 2.1344, 1.7743, 1.6603, 1.4718, 1.9523, 1.8843, 1.532, 1.5925, 1.8549, 1.8613, 1.801, 1.1096, 1.2197, 1.1847, 1.6359, 1.7154, 1.1647, 1.4072, 1.0415, 0.4813, 0.8566, 2.6029, 2.5963, 2.5793, 2.5712, 2.5671, 2.5566, 2.555, 2.5442, 2.5437, 2.5397, 2.5237, 2.5199, 2.5197, 2.519, 2.5167, 2.5102, 2.5071, 2.506, 2.5003, 2.4995, 2.4952, 2.4856, 2.4855, 2.4708, 2.4645, 2.4636, 2.4608, 2.457, 2.452, 2.4429, 2.4033, 2.4237, 2.385, 2.3216, 2.2808, 1.8524, 2.4093, 1.9807, 1.7664, 1.8481, 1.1155, 1.5365, 1.6118, 1.4679, 1.7175, 1.441, 1.4925, 0.6302, 1.4053, 1.0563, 2.7532, 2.7346, 2.7228, 2.6988, 2.6958, 2.6931, 2.6897, 2.6556, 2.6526, 2.6479, 2.6469, 2.6422, 2.6401, 2.6337, 2.6324, 2.6127, 2.6116, 2.6082, 2.6047, 2.5894, 2.5845, 2.5843, 2.578, 2.5711, 2.5691, 2.5414, 2.5395, 2.5307, 2.5294, 2.5218, 2.517, 2.3893, 2.4157, 2.3887, 2.0875, 2.1355, 2.208, 2.0514, 1.8051, 1.7632, 1.8599, 2.3581, 2.1963, 1.8764, 0.8756, 2.0919, 2.221, 1.6217, 0.3321, 1.5614, 0.7672, 1.7139, 0.9669, 0.2297, 3.0342, 3.0341, 3.0337, 3.0229, 3.0198, 2.9658, 2.9561, 2.9508, 2.9463, 2.9402, 2.9323, 2.9102, 2.9033, 2.8942, 2.8896, 2.8841, 2.8685, 2.8676, 2.8541, 2.8426, 2.8424, 2.841, 2.8362, 2.8209, 2.8193, 2.8165, 2.808, 2.8076, 2.806, 2.8031, 2.7841, 2.7767, 2.7267, 2.6522, 2.4751, 2.2198, 2.7668, 2.0898, 1.9613, 1.866, 1.6852, 1.5281, 1.834, 2.4012, 2.0365, 1.7686, 0.4933, 1.5676, 1.812, 1.9366, 1.1604, 1.0818, 3.1287, 3.1222, 3.1114, 3.1101, 3.0807, 3.0762, 3.0745, 3.0591, 3.0583, 3.0396, 3.0337, 3.0314, 3.0284, 3.0268, 3.0186, 3.0117, 2.9955, 2.9817, 2.9769, 2.9712, 2.9531, 2.9486, 2.9439, 2.9353, 2.9305, 2.9115, 2.9056, 2.8871, 2.8802, 2.867, 2.8619, 2.8608, 2.7389, 2.8303, 2.8519, 2.548, 2.2004, 2.5224, 1.9149, 1.4011, 1.3031, 1.5635, 1.4952, 2.0929, 3.1431, 3.1332, 3.1328, 3.1214, 3.1054, 3.1038, 3.0853, 3.0782, 3.0779, 3.0736, 3.053, 3.0527, 3.044, 3.0409, 3.0282, 3.019, 3.0102, 2.9988, 2.9854, 2.9823, 2.9784, 2.9778, 2.9725, 2.9554, 2.9318, 2.922, 2.9066, 2.8698, 2.8691, 2.8682, 2.8436, 2.834, 2.6446, 2.7344, 2.7906, 2.0314, 2.1395, 1.6578, 2.642, 2.189, 1.7364, 1.348, 0.8986, 2.1883, 0.5922, 0.6042, 3.1786, 3.177, 3.174, 3.1377, 3.137, 3.1303, 3.0958, 3.083, 3.0713, 3.0694, 3.0211, 3.0176, 3.0103, 2.996, 2.9945, 2.9833, 2.9761, 2.968, 2.9648, 2.9612, 2.9516, 2.9456, 2.9437, 2.9429, 2.94, 2.9376, 2.9367, 2.9335, 2.9246, 2.9228, 2.9045, 2.9213, 2.6716, 2.478, 2.8098, 2.3235, 2.2066, 2.1521, 2.6408, 2.775, 2.6068, 1.0858, 1.3993, 1.5659, 1.0673, 0.5854, 3.5282, 3.5076, 3.5007, 3.4852, 3.4805, 3.4682, 3.4432, 3.4366, 3.4331, 3.4331, 3.4268, 3.3924, 3.3918, 3.3885, 3.3775, 3.3769, 3.3651, 3.2621, 3.2605, 3.2563, 3.2496, 3.2321, 3.1963, 3.1745, 3.1664, 3.1664, 3.164, 3.1616, 3.1558, 3.1489, 3.0363, 3.0463, 3.0919, 3.0129, 2.858, 3.0333, 2.5311, 2.4497, 1.7573, 2.2474, 2.5225, 1.2917, 0.859, 1.1604, 1.7757, 0.03, 3.6858, 3.6799, 3.6733, 3.6658, 3.5401, 3.4995, 3.4575, 3.4571, 3.4548, 3.4487, 3.4002, 3.3864, 3.3795, 3.3715, 3.3603, 3.35, 3.3472, 3.34, 3.3386, 3.3325, 3.3322, 3.3254, 3.3205, 3.32, 3.3105, 3.2897, 3.2784, 3.274, 3.2678, 3.2651, 3.1162, 2.8517, 3.2093, 3.1625, 3.0621, 3.0447, 1.1109, 2.9414, 0.7361, 2.0184, 3.6829, 3.5761, 3.5742, 3.5237, 3.4836, 3.4818, 3.4797, 3.4726, 3.4578, 3.4567, 3.456, 3.4359, 3.427, 3.4236, 3.4076, 3.4067, 3.3918, 3.3895, 3.3892, 3.3865, 3.3835, 3.3791, 3.3653, 3.3191, 3.3087, 3.3087, 3.3003, 3.2969, 3.287, 3.2857, 3.251, 3.179, 3.2238, 2.7524, 2.9719, 2.661, 2.4337, 2.0018, 1.7513, 1.3759, 1.5516, 1.4851, 0.5808, 2.0594, 0.3364, 3.5658, 3.56, 3.5351, 3.5073, 3.4931, 3.4867, 3.465, 3.4541, 3.4445, 3.4202, 3.3905, 3.3896, 3.3744, 3.3592, 3.3479, 3.3446, 3.3411, 3.3341, 3.3309, 3.3247, 3.3144, 3.3136, 3.3103, 3.2951, 3.2943, 3.2924, 3.2849, 3.2848, 3.2735, 3.2658, 3.2577, 3.2618, 3.2599, 3.195, 3.1194, 2.5337, 2.8855, 3.1131, 2.9884, 3.0492, 2.8044, 1.9468]}, \"token.table\": {\"Topic\": [13, 13, 1, 3, 1, 2, 5, 13, 3, 6, 1, 2, 5, 11, 1, 2, 5, 10, 13, 12, 10, 13, 4, 1, 2, 11, 6, 7, 4, 9, 12, 1, 2, 3, 4, 5, 3, 5, 14, 1, 3, 5, 14, 1, 1, 12, 14, 11, 4, 9, 13, 1, 3, 4, 6, 1, 2, 3, 5, 13, 4, 8, 14, 11, 2, 4, 7, 1, 2, 3, 5, 9, 1, 2, 3, 4, 8, 9, 11, 1, 3, 4, 6, 1, 2, 4, 1, 1, 5, 10, 12, 7, 12, 14, 1, 5, 1, 2, 3, 8, 2, 3, 12, 2, 12, 12, 4, 14, 7, 1, 2, 3, 5, 14, 6, 3, 1, 1, 11, 4, 7, 8, 9, 6, 3, 6, 1, 2, 3, 4, 5, 2, 3, 6, 2, 3, 6, 11, 5, 1, 2, 3, 4, 10, 6, 14, 2, 9, 2, 7, 14, 2, 6, 10, 11, 13, 2, 3, 4, 6, 7, 10, 1, 3, 6, 3, 11, 13, 14, 1, 5, 5, 12, 3, 4, 8, 9, 11, 1, 2, 8, 1, 5, 6, 12, 2, 3, 6, 1, 2, 3, 5, 6, 2, 3, 6, 9, 1, 2, 5, 3, 4, 2, 3, 5, 6, 2, 5, 1, 3, 3, 2, 13, 2, 4, 9, 1, 3, 4, 5, 1, 2, 3, 5, 6, 11, 11, 9, 10, 12, 6, 9, 2, 4, 5, 6, 7, 10, 14, 9, 11, 8, 6, 6, 3, 5, 1, 2, 5, 14, 11, 7, 3, 13, 2, 4, 10, 3, 5, 5, 1, 4, 9, 11, 2, 3, 6, 3, 1, 2, 3, 13, 9, 1, 2, 3, 4, 6, 7, 10, 11, 13, 3, 5, 6, 1, 2, 3, 8, 5, 5, 1, 12, 1, 2, 3, 4, 5, 1, 2, 4, 7, 9, 10, 2, 4, 7, 8, 13, 8, 9, 6, 12, 2, 2, 2, 11, 4, 4, 8, 9, 2, 13, 1, 2, 8, 7, 13, 10, 12, 4, 8, 2, 9, 10, 1, 2, 3, 4, 8, 9, 11, 12, 10, 5, 1, 2, 3, 5, 9, 1, 1, 11, 1, 2, 3, 4, 5, 4, 8, 2, 3, 8, 9, 12, 4, 8, 5, 5, 7, 4, 8, 9, 10, 1, 2, 4, 5, 5, 1, 4, 8, 9, 1, 2, 12, 6, 1, 3, 5, 9, 3, 3, 4, 6, 9, 4, 8, 9, 11, 12, 9, 7, 1, 2, 3, 5, 7, 9, 12, 9, 12, 10, 4, 7, 2, 4, 11, 4, 3, 4, 8, 1, 2, 3, 10, 11, 13, 2, 9, 13, 13, 1, 2, 3, 4, 5, 6, 7, 11, 7, 2, 1, 2, 3, 4, 14, 11, 12, 1, 2, 3, 4, 8, 9, 9, 1, 2, 3, 5, 2, 6, 3, 5, 1, 2, 6, 3, 11, 14, 2, 3, 6, 1, 2, 6, 13, 14, 1, 2, 3, 5, 6, 10, 11, 3, 12, 1, 2, 4, 7, 8, 9, 1, 2, 3, 13, 2, 7, 8, 13, 2, 13, 10, 10, 1, 2, 3, 5, 1, 10, 1, 3, 5, 13, 14, 1, 8, 1, 2, 3, 5, 14, 12, 7, 10, 10, 10, 10, 4, 7, 4, 7, 8, 1, 2, 3, 4, 5, 6, 9, 10, 13, 7, 10, 7, 13, 1, 3, 2, 3, 4, 7, 10, 11, 11, 4, 9, 12, 12, 1, 14, 1, 3, 2, 5, 4, 1, 11, 8, 2, 4, 7, 9, 1, 2, 6, 1, 3, 8, 12, 13, 2, 4, 6, 7, 9, 9, 9, 12, 1, 2, 4, 5, 8, 10, 1, 8, 8, 13, 7, 13, 6, 13, 1, 1, 2, 4, 6, 7, 8, 6, 13, 1, 2, 3, 5, 8, 14, 14, 2, 3, 9, 7, 2, 3, 6, 10, 13, 5, 9, 1, 2, 4, 5, 6, 3, 4, 4, 7, 8, 5, 7, 3, 5, 12, 2, 14, 12, 7, 14, 4, 9, 4, 8, 9, 9, 8, 3, 3, 4, 9, 9, 11, 4, 6, 7, 9, 12, 4, 1, 3, 4, 7, 10, 11, 14, 14, 1, 1, 7, 1, 2, 3, 4, 2, 3, 4, 5, 6, 1, 4, 5, 1, 4, 6, 8, 3, 3, 13, 1, 2, 3, 4, 5, 6, 8, 2, 8, 5, 9, 11, 1, 2, 3, 4, 5, 6, 7, 9, 10, 2, 3, 4, 7, 9, 10, 1, 2, 3, 4, 10, 1, 10, 1, 12, 11, 4, 2, 2, 5, 5, 14, 1, 2, 3, 4, 5, 6, 9, 14, 1, 2, 3, 4, 5, 8, 9, 13, 4, 11, 4, 5, 11, 8, 9, 8, 12, 1, 2, 9, 2, 14, 4, 5, 8, 1, 2, 11, 13, 4, 10, 3, 8, 9, 13, 8, 5, 4, 6, 1, 4, 8, 9, 4, 1, 5, 1, 5, 3, 5, 1, 5, 4, 7, 5, 7, 2, 5, 11, 7, 2, 7, 10, 11, 13, 7, 1, 13, 12, 6, 2, 3, 5, 6, 2, 1, 3, 1, 1, 2, 5, 6, 3, 1, 2, 4, 10, 11, 11, 1, 2, 1, 2, 8, 12, 14, 13, 13, 8, 11, 5, 9, 14, 2, 3, 4, 14, 10, 1, 2, 3, 4, 7, 6, 7, 10, 11, 6, 1, 1, 4, 10, 2, 2, 2, 11, 2, 10, 6, 11, 2, 3, 5, 1, 8, 6, 9, 13, 9, 5, 14, 1, 12, 12, 12, 3, 4, 6, 7, 8, 9, 12, 3, 8, 10, 14, 1, 4, 6, 9, 12, 8, 10, 6, 13, 2, 3, 9, 10, 5, 2, 10, 1, 2, 3, 5, 8, 9, 4, 12, 10, 10, 12, 7, 12, 1, 2, 2, 14, 2, 3, 4, 9, 1, 5, 5, 2, 2, 11, 1, 2, 3, 5, 11, 11, 6, 1, 3, 5, 9, 2, 3, 2, 2, 3, 2, 2, 6, 10, 1, 2, 3, 5, 3, 3, 3, 6, 4, 8, 13, 7, 1, 2, 5, 1, 14, 3, 13, 1, 2, 3, 4, 9, 9, 9, 11, 5, 13, 14, 1, 1, 1, 1, 7, 14, 1, 2, 4, 5, 7, 9, 10, 13, 1, 2, 4, 7, 9, 13, 14, 4, 8, 9, 11, 3, 11, 9, 2, 3, 13, 11, 11, 2, 3, 5, 6, 1, 1, 2, 4, 5, 7, 8, 1, 2, 3, 4, 5, 6, 8, 1, 6, 1, 2, 6, 5, 4, 6, 2, 1, 1, 3, 6, 4, 3, 4, 8, 12, 1, 3, 4, 5, 4, 4, 11, 3, 14, 14, 7, 12, 8, 3, 7, 1, 7, 13, 11, 1, 3, 5, 2, 10, 5, 10, 1, 2, 3, 4, 6, 9, 1, 2, 3, 4, 9, 12, 6, 8, 14, 1, 2, 3, 5, 13, 14, 1, 11, 9, 2, 3, 1, 4, 8, 4, 11, 7, 8, 4, 8, 4, 9, 11, 1, 2, 3, 4, 5, 6, 9, 1, 2, 3, 4, 5, 6, 2, 5, 8, 3, 8, 12, 8, 3, 8, 1, 6, 7, 10, 11, 13, 7, 4, 6, 1, 2, 3, 8, 1, 2, 3, 4, 1, 2, 3, 4, 6, 7, 10, 1, 2, 3, 4, 7, 8, 10, 9, 1, 2, 3, 4, 1, 2, 3, 5, 9, 1, 2, 4, 7, 9, 1, 5, 1, 2, 3, 4, 5, 1, 3, 1, 7, 7, 10, 4, 8, 14, 1, 2, 3, 6, 4, 13, 13, 7, 10, 11], \"Freq\": [0.3864380552255514, 0.4663900425690828, 0.1914459642817491, 0.7657838571269964, 0.4281046960814194, 0.2140523480407097, 0.2140523480407097, 0.10702617402035484, 0.3378980168276716, 0.5631633613794528, 0.5429494767169267, 0.24679521668951215, 0.049359043337902433, 0.1480771300137073, 0.26408055177196, 0.09431448277569998, 0.037725793110279994, 0.58474979320934, 0.5556980657337178, 0.5158613420104514, 0.6417037460717396, 0.8072039297628434, 0.8603910255383569, 0.09358505382004341, 0.46792526910021703, 0.37434021528017364, 0.915360734581543, 0.9563065993424635, 0.17618691075409307, 0.7047476430163723, 0.5599774436266034, 0.3900115820802501, 0.20800617710946673, 0.28600849352551677, 0.05200154427736668, 0.05200154427736668, 0.9799697660723243, 0.28838478023048797, 0.28838478023048797, 0.10490327631134852, 0.3147098289340456, 0.20980655262269704, 0.3147098289340456, 0.9958555197884341, 0.9148550424393643, 0.5549149827049851, 0.5155079289312041, 0.847557494953128, 0.3446289168344777, 0.5743815280574629, 0.527860515134772, 0.2301256328539388, 0.09205025314157553, 0.6443517719910287, 0.046025126570787764, 0.5763227614967085, 0.22551760232479898, 0.06264377842355527, 0.13781631253182158, 0.7305016271341699, 0.2296056058471143, 0.2296056058471143, 0.4592112116942286, 0.7860008250687165, 0.16693979153635546, 0.041734947884088866, 0.7512290619135996, 0.3462587281435325, 0.18886839716919954, 0.12591226477946635, 0.3147806619486659, 0.9326542984525241, 0.2024918238566067, 0.1869155297137908, 0.0155762941428159, 0.467288824284477, 0.0623051765712636, 0.0467288824284477, 0.0155762941428159, 0.9015641051213972, 0.04507820525606986, 0.8248853649515361, 0.10311067061894201, 0.11912808044044006, 0.27796552102769345, 0.5559310420553869, 0.9387486291731791, 0.9663961338312929, 0.23549189973442522, 0.7064756992032757, 0.11774594986721261, 0.8246505156108094, 0.20616262890270234, 0.47808838068869286, 0.9700961805054039, 0.9486956897752852, 0.604746754487624, 0.3583684471037772, 0.022398027943986074, 0.9253389299689202, 0.3833630708172942, 0.2555753805448628, 0.1277876902724314, 0.2878708128788451, 0.5757416257576902, 0.865699947249406, 0.9521185896384209, 0.8172741420606286, 0.6288318359716474, 0.8259980778213049, 0.03176915683928096, 0.03176915683928096, 0.06353831367856191, 0.4789248527166848, 0.7580198107828487, 0.924769521786289, 0.9781400454125915, 0.9485319640355288, 0.7935244032436318, 0.393597424529951, 0.09839935613248775, 0.34439774646370713, 0.14759903419873163, 0.9344092480102086, 0.10725638054588799, 0.8580510443671039, 0.5099930958830461, 0.15299792876491383, 0.25499654794152304, 0.025499654794152303, 0.050999309588304606, 0.4252810216428684, 0.06075443166326692, 0.5164126691377687, 0.10440162620112513, 0.5011278057654006, 0.37584585432405043, 0.9716320149495747, 0.8309862589477307, 0.30032452712107427, 0.06006490542421485, 0.210227168984752, 0.30032452712107427, 0.1201298108484297, 0.812010091263134, 0.5438233404191252, 0.9132236529404979, 0.8966982575250644, 0.20985485931695702, 0.7344920076093496, 0.761014545238361, 0.930895207868756, 0.7962141263566672, 0.8908705554465445, 0.04815516515927267, 0.04815516515927267, 0.12162869181897785, 0.02027144863649631, 0.1824430377284668, 0.02027144863649631, 0.28380028091094833, 0.34461462682043725, 0.2205426039539376, 0.4410852079078752, 0.3308139059309064, 0.17338646553028586, 0.5201593965908576, 0.17338646553028586, 0.9183549148305173, 0.1383670490426166, 0.8302022942556996, 0.9496560501609218, 0.7751828975100634, 0.06315463239176, 0.18946389717527998, 0.50523705913408, 0.06315463239176, 0.06315463239176, 0.29293152403616163, 0.11717260961446464, 0.5272767432650909, 0.2728871052424701, 0.09096236841415671, 0.45481184207078357, 0.7005349163331276, 0.4727222362672501, 0.02954513976670313, 0.4727222362672501, 0.15950617609782486, 0.6835978975621065, 0.02278659658540355, 0.02278659658540355, 0.0911463863416142, 0.07206225364770254, 0.8647470437724304, 0.024020751215900842, 0.024020751215900842, 0.11522694066276788, 0.05761347033138394, 0.7489751143079912, 0.09554380427404133, 0.859894238466372, 0.0927932095667569, 0.1855864191335138, 0.0927932095667569, 0.5567592574005414, 0.9448748292617329, 0.04020743954305246, 0.9547154319323099, 0.7953120947512278, 0.9446632042996734, 0.6237081431609504, 0.3742248858965702, 0.05601215724807463, 0.7841702014730448, 0.11202431449614926, 0.07693815617614926, 0.07693815617614926, 0.7693815617614925, 0.07693815617614926, 0.2397419461008597, 0.6823424619793699, 0.07376675264641837, 0.9696188351851781, 0.8437051422172435, 0.16874102844344868, 0.9378707351951127, 0.7109551310075534, 0.17773878275188834, 0.5116558332562273, 0.7777873435581558, 0.8745762105507858, 0.21893492331940703, 0.060815256477613065, 0.012163051295522613, 0.08514135906865829, 0.2554240772059749, 0.3648915388656784, 0.7337773463968901, 0.2316414786986985, 0.463282957397397, 0.8938414805754451, 0.928838180138295, 0.8060492220744324, 0.7159074115508324, 0.8941807683620759, 0.1245749314069282, 0.3114373285173205, 0.5294434584794449, 0.5444884933511938, 0.7769894875841976, 0.9238467179214266, 0.2969658504777125, 0.593931700955425, 0.8943678764534098, 0.9439539644700445, 0.9048815405729146, 0.9341348033749617, 0.8472774398424929, 0.8901300351031571, 0.1434400282951487, 0.38250674212039654, 0.38250674212039654, 0.09562668553009913, 0.09702096066586981, 0.6791467246610886, 0.19404192133173961, 0.8436857310208176, 0.19547576393161548, 0.5212687038176412, 0.06515858797720515, 0.19547576393161548, 0.7035147001921752, 0.9885463519160371, 0.21884676560945743, 0.008417183292671439, 0.016834366585342878, 0.016834366585342878, 0.21884676560945743, 0.48819663097494354, 0.02525154987801432, 0.016834366585342878, 0.1268494218994856, 0.1268494218994856, 0.6342471094974279, 0.2847755731669731, 0.07119389329174328, 0.6407450396256895, 0.07119389329174328, 0.9415644168273504, 0.9322243503274729, 0.9782567983317544, 0.47095003218956144, 0.1883828399098228, 0.13455917136415912, 0.5382366854566365, 0.026911834272831826, 0.08073550281849548, 0.02283283797478044, 0.1826627037982435, 0.1826627037982435, 0.5479881113947306, 0.02283283797478044, 0.04566567594956088, 0.12548100655878183, 0.4182700218626061, 0.2927890153038243, 0.08365400437252123, 0.04182700218626061, 0.7081886297220052, 0.21245658891660157, 0.7743114134217582, 0.5512965660805776, 0.9599210827354343, 0.9623691793931375, 0.9819770592164981, 0.9028384337979423, 0.9235122956680064, 0.3742217302090676, 0.3742217302090676, 0.2245330381254406, 0.9007455053320836, 0.6344960637030191, 0.04517018122759806, 0.8582334433243631, 0.04517018122759806, 0.7930797837045904, 0.13217996395076506, 0.7759973019958475, 0.4901203877316845, 0.9221119862673063, 0.8951224403185553, 0.029610867639469546, 0.029610867639469546, 0.9475477644630255, 0.024939395793630498, 0.024939395793630498, 0.008313131931210166, 0.39071720076687777, 0.15794950669299315, 0.3158990133859863, 0.06650505544968133, 0.008313131931210166, 0.9127973746666055, 0.918594490577474, 0.2890479473807719, 0.2248150701850448, 0.12846575439145416, 0.35328082457649895, 0.9637711475068884, 0.9581101935590621, 0.994845700059712, 0.6211534904490204, 0.5915599000689532, 0.21511269093416477, 0.1210008886504677, 0.026889086366770596, 0.040333629550155896, 0.8819820500520061, 0.09799800556133402, 0.11641901651428208, 0.8149331155999746, 0.3125430934011027, 0.15627154670055135, 0.468814640101654, 0.8780591637004528, 0.10131451888851378, 0.9705293580640036, 0.9826300798823647, 0.7478212843824977, 0.17775200464525653, 0.7702586867961116, 0.7928452966205921, 0.8735791135584816, 0.10551849630922622, 0.42207398523690487, 0.026379624077306554, 0.42207398523690487, 0.7976570788586707, 0.03760883377947872, 0.41369717157426594, 0.1880441688973936, 0.35728392090504785, 0.2700417575712311, 0.720111353523283, 0.4448328066458699, 0.876756212877754, 0.49501400681705304, 0.3300093378780354, 0.0550015563130059, 0.08250233446950885, 0.9424659101682545, 0.13160593254654623, 0.8554385615525505, 0.9039432752052527, 0.9831634218671051, 0.6925027586428713, 0.02347466978450411, 0.1056360140302685, 0.16432268849152876, 0.011737334892252056, 0.9670605696286767, 0.8953811801801888, 0.09359158313100097, 0.06239438875400064, 0.09359158313100097, 0.03119719437700032, 0.21838036063900224, 0.12478877750800128, 0.40556352690100417, 0.330115866222363, 0.660231732444726, 0.7581440356052341, 0.7739364253856189, 0.9602997117288522, 0.9200322381364573, 0.892655628454568, 0.48323666777303115, 0.9430873943755759, 0.936344327122518, 0.16040251495371244, 0.8020125747685621, 0.4578376131851813, 0.21130966762392983, 0.10565483381196492, 0.03521827793732164, 0.07043655587464329, 0.10565483381196492, 0.24851360562641536, 0.24851360562641536, 0.4970272112528307, 0.4877990551569452, 0.33923561699002164, 0.32566619231042077, 0.013569424679600865, 0.1492636714756095, 0.02713884935920173, 0.02713884935920173, 0.08141654807760519, 0.02713884935920173, 0.7405674132322003, 0.8702477914544053, 0.6017201572576516, 0.04628616594289627, 0.34714624457172205, 0.843218752039536, 0.3647320511775621, 0.7935244032436318, 0.9138385372940383, 0.031077533164198784, 0.8546321620154665, 0.015538766582099392, 0.06215506632839757, 0.015538766582099392, 0.015538766582099392, 0.666265885053812, 0.6192574332940923, 0.10769694492071172, 0.04038635434526689, 0.21539388984142344, 0.04958846002032727, 0.9421807403862181, 0.9324832287016808, 0.8859890668683228, 0.2905760039539057, 0.23246080316312456, 0.406806405535468, 0.8040962445305727, 0.36018573645093244, 0.7203714729018649, 0.9435556344396828, 0.6975512651257936, 0.19930036146451247, 0.06288224963102272, 0.4401757474171591, 0.5030579970481818, 0.8449964076272142, 0.5213412228098382, 0.14655981347076247, 0.14655981347076247, 0.6839457961968916, 0.08361397756073387, 0.668911820485871, 0.08361397756073387, 0.08361397756073387, 0.8206655990567429, 0.9145388152393104, 0.0652151784675787, 0.3912910708054722, 0.0652151784675787, 0.2608607138703148, 0.03260758923378935, 0.1304303569351574, 0.14624443674636017, 0.14624443674636017, 0.29248887349272035, 0.29248887349272035, 0.12194820332024714, 0.12194820332024714, 0.7316892199214828, 0.4282177468856493, 0.9625017332208603, 0.8627604318932538, 0.9830078387280655, 0.6218646330253585, 0.2118454339350602, 0.39721018862823787, 0.05296135848376505, 0.3177681509025903, 0.9399585837330712, 0.8619831157016408, 0.4568565607042049, 0.11421414017605122, 0.22842828035210244, 0.22842828035210244, 0.45063011364844124, 0.05527697859161637, 0.9397086360574782, 0.3346886157026458, 0.24340990232919696, 0.09127871337344885, 0.3042623779114962, 0.5057779494540102, 0.5001782075794899, 0.8708274950503422, 0.9428509602219295, 0.6350495328757133, 0.8350426073109171, 0.7632380148863621, 0.08010576577228275, 0.8811634234951102, 0.15192020009938206, 0.8102410671967044, 0.025320033349897013, 0.31710313813373847, 0.15855156906686924, 0.03658882363081598, 0.2683180399593172, 0.04878509817442131, 0.024392549087210655, 0.024392549087210655, 0.12196274543605327, 0.5366695270155596, 0.7375177406445282, 0.8007879403997067, 0.9007113113570178, 0.5366695270155596, 0.9786316519911027, 0.9481197022358351, 0.08013618221195018, 0.020034045552987545, 0.7612937310135267, 0.04006809110597509, 0.08013618221195018, 0.9479659513035078, 0.7664411161162591, 0.12796480058117127, 0.8957536040681988, 0.7801846497893501, 0.7628328503086936, 0.32064039581289216, 0.32064039581289216, 0.12483959557160468, 0.8114573712154304, 0.03450558078700859, 0.9661562620362406, 0.8808965920435871, 0.40565261867202845, 0.5408701582293712, 0.8545085948684704, 0.8978506264947302, 0.1624471659738232, 0.7310122468822043, 0.0812235829869116, 0.05705007562149794, 0.22820030248599177, 0.6846009074579753, 0.42584845358839013, 0.10646211339709753, 0.10646211339709753, 0.10646211339709753, 0.21292422679419507, 0.6018905579872044, 0.1504726394968011, 0.1504726394968011, 0.06839665431672777, 0.013679330863345553, 0.8250793458421197, 0.8602595096211216, 0.5419511309884415, 0.1687310892633764, 0.0843655446316882, 0.5905588124218174, 0.0421827723158441, 0.0843655446316882, 0.9458860005293959, 0.06390941484679792, 0.8947318078551708, 0.8044458607287706, 0.8457918330216765, 0.8652742085873268, 0.7563467260621132, 0.6339655694487261, 0.8036425199553797, 0.9610440317108646, 0.1094818829312105, 0.38318659025923674, 0.16422282439681574, 0.27370470732802626, 0.05474094146560525, 0.9177959858801917, 0.8550944435705153, 0.4494427307253361, 0.33654530513094094, 0.22436353675396062, 0.08413632628273524, 0.33654530513094094, 0.8957042870604487, 0.45099791915697124, 0.5771890577363726, 0.04766608360667722, 0.14299825082003167, 0.7626573377068355, 0.8082145528938504, 0.5322578299706808, 0.0665322287463351, 0.33266114373167555, 0.8247880153490358, 0.47150971359647004, 0.9121422904650199, 0.7415590565130442, 0.17677130210859654, 0.6849887956708116, 0.044192825527149135, 0.0662892382907237, 0.7750349930916476, 0.07751510641389218, 0.852666170552814, 0.039553300837585875, 0.9492792201020609, 0.7843934523493766, 0.9748065928296201, 0.8295462030396126, 0.24819873766983644, 0.24819873766983644, 0.4963974753396729, 0.9474807245473279, 0.5352557855882015, 0.7966865651216947, 0.364818298857027, 0.364818298857027, 0.2901146357717408, 0.6769341501340618, 0.08258168611090638, 0.8258168611090638, 0.9482730597887485, 0.8360269498642022, 0.8555473814324711, 0.8915343398120943, 0.8529929505137371, 0.08368046184347584, 0.8925915929970757, 0.13753374630890322, 0.8252024778534193, 0.7854438678077088, 0.02618146226025696, 0.02618146226025696, 0.10472584904102784, 0.05236292452051392, 0.8787922922590189, 0.9299327294597901, 0.8467211196572533, 0.14667144737675816, 0.34223337721243574, 0.19556192983567755, 0.24445241229459694, 0.6247225063378427, 0.6769824557396537, 0.9824723226394536, 0.9422292572309451, 0.9249242349507439, 0.10696415186328032, 0.21392830372656063, 0.46351132474088136, 0.17827358643880054, 0.29164082967872507, 0.04166297566838929, 0.06249446350258394, 0.20831487834194645, 0.354135293181309, 0.03268133908676006, 0.9150774944292818, 0.03268133908676006, 0.06074573930572319, 0.06074573930572319, 0.06074573930572319, 0.7896946109744014, 0.8018287208793063, 0.9800405824834173, 0.852381550929817, 0.2458041060706396, 0.4482310169523428, 0.0433771951889364, 0.1156725205038304, 0.0144590650629788, 0.072295325314894, 0.0289181301259576, 0.9255089298511046, 0.06170059532340697, 0.9148494315784376, 0.4082803465300334, 0.5715924851420469, 0.033730248892210254, 0.1686512444610513, 0.033730248892210254, 0.2867071155837872, 0.016865124446105127, 0.05059537333831539, 0.3373024889221026, 0.06746049778442051, 0.016865124446105127, 0.1845426587526012, 0.03690853175052024, 0.5167194445072834, 0.1845426587526012, 0.03690853175052024, 0.03690853175052024, 0.3480597975700578, 0.15469324336447013, 0.11601993252335259, 0.15469324336447013, 0.15469324336447013, 0.3462725725124195, 0.5771209541873658, 0.9753609712911202, 0.8891033385848759, 0.48943175309525555, 0.79329279166222, 0.8705131166945408, 0.8910971124466962, 0.06364979374619259, 0.9117885058511666, 0.5300026932219021, 0.3420362114317157, 0.3420362114317157, 0.07200762345930857, 0.10801143518896286, 0.05400571759448143, 0.036003811729654285, 0.018001905864827143, 0.7748656224445566, 0.13834358204265249, 0.15371509115850276, 0.07685754557925138, 0.29205867320115525, 0.03074301823170055, 0.19982961850605357, 0.07685754557925138, 0.015371509115850276, 0.6395715296149211, 0.34885719797177517, 0.8933561150972075, 0.29324889164277707, 0.5864977832855541, 0.17247801375014488, 0.6899120550005795, 0.9030348294913176, 0.7322476763486562, 0.14957011947537985, 0.8475640103604858, 0.9502234507307908, 0.3801641028699768, 0.5702461543049653, 0.8551751994683988, 0.12118114213900058, 0.8482679949730041, 0.287763620665296, 0.287763620665296, 0.33572422410951197, 0.09592120688843199, 0.9656740527092053, 0.9791631382340147, 0.14490876955437262, 0.14490876955437262, 0.7245438477718632, 0.838575034349924, 0.8119727312215823, 0.8909537852991476, 0.05240866218761229, 0.8909472571894089, 0.019485122354763004, 0.5260983035786011, 0.29227683532144505, 0.15588097883810403, 0.9572110760038564, 0.11159570638206158, 0.8648667244609772, 0.07371390181921685, 0.8845668218306021, 0.1422991099885923, 0.7826451049372576, 0.06674666223988704, 0.9010799402384752, 0.8137760849875582, 0.9119826500887022, 0.031798965252362844, 0.9539689575708853, 0.9133062467917364, 0.05535189374495373, 0.027675946872476865, 0.7902678868110042, 0.02034323759296744, 0.14240266315077207, 0.7526997909397952, 0.06102971277890232, 0.04068647518593488, 0.8455104665656508, 0.33743796197633824, 0.6748759239526765, 0.7648504539501002, 0.9092128404669291, 0.8787816346710273, 0.05492385216693921, 0.05492385216693921, 0.9227817552252997, 0.9216330073530122, 0.7697617315361354, 0.19244043288403384, 0.9479673134227963, 0.03383654285489444, 0.06767308570978887, 0.8459135713723609, 0.8946375920325557, 0.8145434433524228, 0.018817387846073886, 0.056452163538221654, 0.056452163538221654, 0.7715129016890293, 0.09408693923036943, 0.6395123748957275, 0.061375198989053, 0.920627984835795, 0.8141230282988309, 0.10712145109195144, 0.06427287065517086, 0.9588915953360212, 0.8565562362123746, 0.8057243633477853, 0.7605381601690788, 0.7083384299983926, 0.6316229632027062, 0.8487364678878611, 0.7425051480593634, 0.5604092862877392, 0.14605881731886663, 0.04868627243962221, 0.7789803590339553, 0.6602527615524102, 0.9241152849565861, 0.9728269195602066, 0.19666830230295512, 0.04916707557573878, 0.39333660460591024, 0.34416952903017145, 0.052662311772633766, 0.7899346765895066, 0.052662311772633766, 0.052662311772633766, 0.982961947008098, 0.9446252816805216, 0.9912519039559001, 0.14687587664021942, 0.7343793832010972, 0.9411811452995849, 0.9305223894966638, 0.9126195533810317, 0.47380118225635526, 0.28443756995783587, 0.5688751399156717, 0.9247160588175138, 0.478084802319465, 0.07627009145855698, 0.07627009145855698, 0.7627009145855699, 0.13316932594418568, 0.7990159556651141, 0.8810179328903386, 0.8427087458322517, 0.670995489048302, 0.7858807932801843, 0.3294433560886339, 0.6588867121772678, 0.3748118779359382, 0.3748118779359382, 0.8077004443708793, 0.8281249596482922, 0.008008119837337192, 0.14414615707206946, 0.008008119837337192, 0.08008119837337191, 0.6566658266616497, 0.03203247934934877, 0.07207307853603473, 0.14324987735745942, 0.7162493867872971, 0.2970614638503904, 0.5941229277007808, 0.7850881388453781, 0.11215544840648259, 0.03738514946882753, 0.07477029893765506, 0.8070759332439502, 0.9610136227747188, 0.976300513749128, 0.9410044717047388, 0.7863211044331607, 0.11195311990168677, 0.8396483992626508, 0.7661548920358274, 0.6642373538641833, 0.8902264961291729, 0.05345222894072792, 0.9354140064627385, 0.28746959550989826, 0.0410670850728426, 0.1642683402913704, 0.4106708507284261, 0.0410670850728426, 0.0410670850728426, 0.5090500256743725, 0.5090500256743725, 0.8514308829894465, 0.6604466319042762, 0.5055535016206442, 0.22210690444891823, 0.6663207133467547, 0.014967671052147712, 0.9803824539156751, 0.9378838009211891, 0.568087644813164, 0.03689722769081973, 0.11069168307245919, 0.2582805938357381, 0.5903556430531157, 0.12123610148147324, 0.8486527103703126, 0.8709224804318826, 0.9164317297546003, 0.9770247782996581, 0.7911143857542449, 0.3681727030797154, 0.22656781727982486, 0.08496293147993432, 0.31153074875975917, 0.9320946274929155, 0.9288839467339529, 0.6527780998164723, 0.8916018115736959, 0.05944012077157972, 0.02972006038578986, 0.02972006038578986, 0.7401983374408686, 0.24673277914695618, 0.8850724041631836, 0.6012222657173586, 0.36998293274914373, 0.9315644188692673, 0.953007995583233, 0.9226203779964831, 0.620140219111126, 0.2306882869734685, 0.12303375305251653, 0.5690311078678889, 0.061516876526258264, 0.9513749916130702, 0.949429604032355, 0.9305354252272214, 0.7658621443492515, 0.9204832513248701, 0.9250015438591513, 0.8691526223054991, 0.8864632983521935, 0.2578117563916253, 0.6445293909790631, 0.06445293909790632, 0.9847248241136357, 0.4924473120230535, 0.7249573478630441, 0.4443998365479922, 0.12382094838957293, 0.1650945978527639, 0.08254729892638195, 0.5778310924846737, 0.041273649463190974, 0.9557083310671487, 0.9136045163357754, 0.8269796097109461, 0.9551548326030911, 0.41233245470688984, 0.5597532230727332, 0.9538016073654163, 0.9850858311661336, 0.9441355203847005, 0.6986137617535682, 0.11643562695892802, 0.11643562695892802, 0.06035371968392227, 0.1961495889727474, 0.30176859841961134, 0.030176859841961137, 0.30176859841961134, 0.07544214960490284, 0.015088429920980568, 0.015088429920980568, 0.07994724933615757, 0.11992087400423636, 0.559630745353103, 0.11992087400423636, 0.07994724933615757, 0.039973624668078786, 0.660456599887496, 0.5733657206536524, 0.17642022173958535, 0.2205252771744817, 0.026463033260937806, 0.15166401127902854, 0.7583200563951428, 0.9194805256199252, 0.15845715183296105, 0.7922857591648053, 0.4754746785404221, 0.9656165452369757, 0.47380118225635526, 0.7513443487457211, 0.08348270541619122, 0.08348270541619122, 0.08348270541619122, 0.9698298139179231, 0.020714092875624954, 0.6421368791443736, 0.10357046437812477, 0.020714092875624954, 0.14499865012937468, 0.06214227862687486, 0.08760715824968268, 0.5431643811480327, 0.19273574814930192, 0.10512858989961922, 0.01752143164993654, 0.03504286329987308, 0.01752143164993654, 0.5887794240700313, 0.4028490796268635, 0.09408244959846783, 0.3292885735946374, 0.5644946975908071, 0.8568284701180393, 0.16401490802047353, 0.8200745401023677, 0.9603216908331235, 0.9833281495706839, 0.21242655714973924, 0.07080885238324641, 0.6372796714492177, 0.91680878741177, 0.9678364634030805, 0.8416682254400102, 0.9646969636331661, 0.4573236864895413, 0.13087658376521122, 0.06543829188260561, 0.06543829188260561, 0.7198212107086617, 0.8385753974004108, 0.9134519085024562, 0.4759114787424296, 0.3627271081883642, 0.7254542163767284, 0.4220997392610905, 0.8244365299113363, 0.6948002928166692, 0.9437492285216907, 0.7591116391146049, 0.8556346791226713, 0.42259482331573117, 0.5071137879788774, 0.4503347276358051, 0.827628760097541, 0.09228782562498088, 0.04614391281249044, 0.8767343434373184, 0.9027527131225183, 0.6278954294355515, 0.1898533850788138, 0.5695601552364413, 0.2963915664038286, 0.265192454150794, 0.15599556126517294, 0.21839378577124213, 0.03119911225303459, 0.015599556126517295, 0.3900486137078248, 0.06500810228463746, 0.043338734856424976, 0.43338734856424976, 0.021669367428212488, 0.021669367428212488, 0.7856291554506724, 0.924653926112785, 0.8382725721277239, 0.5351000916585048, 0.1337750229146262, 0.1783666972195016, 0.0445916743048754, 0.0891833486097508, 0.7622673650019249, 0.9552882584892749, 0.7377439741001354, 0.9291327221112691, 0.12553098830639622, 0.7531859298383773, 0.07782595200565168, 0.8560854720621686, 0.07782595200565168, 0.7502991620252937, 0.6228626002930182, 0.025803142626263036, 0.9547162771717324, 0.21622402041755998, 0.7567840714614599, 0.07435295849094174, 0.07435295849094174, 0.8178825434003593, 0.32401359839131416, 0.16200679919565708, 0.18515062765217954, 0.09257531382608977, 0.09257531382608977, 0.13886297073913464, 0.7430565659207203, 0.12596458483847314, 0.5038583393538926, 0.1889468772577097, 0.0787278655240457, 0.031491146209618286, 0.047236719314427425, 0.9212335910163665, 0.05314809178940576, 0.017716030596468587, 0.9749219758271291, 0.9360323252652367, 0.4636824860508144, 0.6702209155533179, 0.831750841530595, 0.890888598549709, 0.011108173149632715, 0.02221634629926543, 0.43321875283567585, 0.42211057968604315, 0.09997355834669443, 0.011108173149632715, 0.973475620057256, 0.8381252168333206, 0.8257686716526618, 0.08508141029607054, 0.05672094019738035, 0.8508141029607054, 0.8824157897103339, 0.39845237343492707, 0.1423044190839025, 0.42691325725170753, 0.05692176763356101, 0.06768587049556629, 0.29330543881412063, 0.022561956831855433, 0.13537174099113258, 0.022561956831855433, 0.38355326614154234, 0.045123913663710866, 0.06432609406036723, 0.19297828218110166, 0.03216304703018361, 0.45028265842257054, 0.16081523515091806, 0.03216304703018361, 0.03216304703018361, 0.9155218421541821, 0.3637889260754136, 0.26888746709921874, 0.11071836880556066, 0.25307055726985295, 0.3064212781165889, 0.19499535880146568, 0.02785647982878081, 0.4596319171748834, 0.8447658407604544, 0.028518328384640655, 0.14259164192320328, 0.08555498515392196, 0.655921552846735, 0.028518328384640655, 0.5182560133457554, 0.47114183031432316, 0.28715796680124966, 0.09571932226708323, 0.47859661133541614, 0.023929830566770807, 0.09571932226708323, 0.8959536793206188, 0.049775204406701044, 0.9780354960165908, 0.6350217773288869, 0.6823941215119157, 0.9061441991799389, 0.8294186979236435, 0.11848838541766336, 0.5472433390707012, 0.21622022306502192, 0.5251062560150532, 0.06177720659000627, 0.15444301647501565, 0.19996075824654166, 0.599882274739625, 0.7528264389331003, 0.9102425462039451, 0.8238082083820948, 0.825153236808592], \"Term\": [\"106\", \"1834\", \"1944\", \"1944\", \"1991\", \"1991\", \"1991\", \"1991\", \"19th\", \"19th\", \"2002\", \"2002\", \"2002\", \"2002\", \"2006\", \"2006\", \"2006\", \"2006\", \"251\", \"25th\", \"72\", \"ab\", \"above\", \"according\", \"according\", \"according\", \"added\", \"administrative\", \"adults\", \"adults\", \"adventist\", \"after\", \"after\", \"after\", \"after\", \"after\", \"aircraft\", \"aka\", \"aka\", \"al\", \"al\", \"al\", \"al\", \"album\", \"albums\", \"alchemy\", \"alden\", \"algae\", \"alps\", \"alps\", \"al\\u012b\", \"america\", \"america\", \"america\", \"america\", \"american\", \"american\", \"american\", \"american\", \"andhra\", \"animal\", \"animal\", \"animal\", \"ankara\", \"approximately\", \"approximately\", \"approximately\", \"april\", \"april\", \"april\", \"april\", \"arctiidae\", \"are\", \"are\", \"are\", \"are\", \"are\", \"are\", \"are\", \"artist\", \"artist\", \"asia\", \"asia\", \"australia\", \"australia\", \"australia\", \"author\", \"award\", \"azerbaijan\", \"azerbaijan\", \"azerbaijan\", \"baden\", \"baden\", \"bahrain\", \"band\", \"baseball\", \"based\", \"based\", \"based\", \"basin\", \"basketball\", \"basketball\", \"basketball\", \"battleship\", \"battleship\", \"bavaria\", \"beetle\", \"belarusian\", \"belgaum\", \"best\", \"best\", \"best\", \"best\", \"bistri\\u0163a\", \"block\", \"boat\", \"book\", \"books\", \"bosnia\", \"brazil\", \"brazil\", \"brazil\", \"brazil\", \"brick\", \"bridge\", \"bridge\", \"british\", \"british\", \"british\", \"british\", \"british\", \"building\", \"building\", \"building\", \"built\", \"built\", \"built\", \"bulbophyllum\", \"bulgarian\", \"but\", \"but\", \"but\", \"but\", \"but\", \"butterfly\", \"caledonian\", \"campus\", \"canton\", \"capital\", \"capital\", \"card\", \"catholic\", \"cemetery\", \"census\", \"census\", \"census\", \"central\", \"central\", \"central\", \"central\", \"central\", \"central\", \"century\", \"century\", \"century\", \"chairman\", \"chairman\", \"chairman\", \"cham\", \"championship\", \"championship\", \"championships\", \"chess\", \"china\", \"china\", \"china\", \"china\", \"china\", \"chinese\", \"chinese\", \"chinese\", \"christian\", \"christian\", \"christian\", \"christmas\", \"church\", \"church\", \"church\", \"city\", \"city\", \"city\", \"city\", \"city\", \"class\", \"class\", \"class\", \"class\", \"club\", \"club\", \"club\", \"cm\", \"cm\", \"collection\", \"collection\", \"collection\", \"collection\", \"college\", \"college\", \"comedy\", \"command\", \"commissioned\", \"committee\", \"committee\", \"common\", \"common\", \"common\", \"commonly\", \"commonly\", \"commonly\", \"commonly\", \"company\", \"company\", \"company\", \"competed\", \"congo\", \"congo\", \"constituency\", \"contributing\", \"contributing\", \"conus\", \"corner\", \"costa\", \"county\", \"county\", \"county\", \"county\", \"county\", \"county\", \"courthouse\", \"crambidae\", \"crambidae\", \"crater\", \"cricket\", \"cricketer\", \"cruiser\", \"cup\", \"currently\", \"currently\", \"currently\", \"cypriot\", \"cyrillic\", \"czech\", \"daigaku\", \"daigaku\", \"daily\", \"daisy\", \"darreh\", \"dd\", \"defender\", \"defensive\", \"described\", \"described\", \"described\", \"described\", \"designed\", \"designed\", \"designed\", \"destroyer\", \"development\", \"development\", \"development\", \"development\", \"diesel\", \"directed\", \"district\", \"district\", \"district\", \"district\", \"district\", \"district\", \"district\", \"district\", \"documentary\", \"documentary\", \"documentary\", \"down\", \"down\", \"down\", \"down\", \"draft\", \"drafted\", \"drama\", \"dreadnought\", \"during\", \"during\", \"during\", \"during\", \"during\", \"east\", \"east\", \"east\", \"east\", \"east\", \"east\", \"eastern\", \"eastern\", \"eastern\", \"eastern\", \"eastern\", \"ecuador\", \"ecuador\", \"edgar\", \"eduardo\", \"education\", \"educational\", \"elected\", \"election\", \"elevation\", \"endemic\", \"endemic\", \"endemic\", \"engineering\", \"episcopal\", \"established\", \"established\", \"established\", \"estonia\", \"estonia\", \"existence\", \"exists\", \"extinct\", \"fabaceae\", \"families\", \"families\", \"families\", \"family\", \"family\", \"family\", \"family\", \"family\", \"family\", \"family\", \"family\", \"fars\", \"fc\", \"february\", \"february\", \"february\", \"february\", \"feed\", \"fiction\", \"film\", \"finance\", \"first\", \"first\", \"first\", \"first\", \"first\", \"fish\", \"fish\", \"fleet\", \"fleet\", \"flies\", \"flies\", \"flies\", \"flowering\", \"flowering\", \"football\", \"footballer\", \"ford\", \"forests\", \"forests\", \"forewings\", \"fork\", \"former\", \"former\", \"former\", \"former\", \"forward\", \"found\", \"found\", \"found\", \"found\", \"founded\", \"founded\", \"fountain\", \"frame\", \"french\", \"french\", \"french\", \"french\", \"frigate\", \"ft\", \"ft\", \"gable\", \"gastropod\", \"genus\", \"genus\", \"genus\", \"genus\", \"genus\", \"geometridae\", \"gerais\", \"germany\", \"germany\", \"germany\", \"germany\", \"germany\", \"germany\", \"germany\", \"giant\", \"giant\", \"gilan\", \"glacier\", \"gmina\", \"government\", \"grass\", \"graub\\u00fcnden\", \"grows\", \"gun\", \"habitat\", \"habitat\", \"had\", \"had\", \"had\", \"had\", \"had\", \"had\", \"hamilton\", \"hamilton\", \"hamilton\", \"harju\", \"has\", \"has\", \"has\", \"has\", \"has\", \"has\", \"has\", \"has\", \"headwater\", \"health\", \"her\", \"her\", \"her\", \"herb\", \"hero\", \"herzegovina\", \"hesse\", \"high\", \"high\", \"high\", \"high\", \"high\", \"high\", \"hindwings\", \"his\", \"his\", \"his\", \"his\", \"historic\", \"historic\", \"hms\", \"hockey\", \"home\", \"home\", \"home\", \"honda\", \"horn\", \"horn\", \"hospital\", \"hotel\", \"hotel\", \"house\", \"house\", \"house\", \"households\", \"hughes\", \"ii\", \"ii\", \"ii\", \"illinois\", \"illinois\", \"illinois\", \"illinois\", \"imperial\", \"incomplete\", \"india\", \"india\", \"india\", \"india\", \"india\", \"india\", \"individual\", \"individual\", \"individual\", \"individual\", \"indonesia\", \"indonesia\", \"indonesia\", \"institutes\", \"institution\", \"inter\", \"iran\", \"isfahan\", \"january\", \"january\", \"january\", \"january\", \"jazz\", \"jonubi\", \"joseph\", \"joseph\", \"joseph\", \"joseph\", \"josh\", \"journal\", \"journal\", \"july\", \"july\", \"july\", \"july\", \"jupiter\", \"kara\", \"karnataka\", \"kerman\", \"kermanshah\", \"khorasan\", \"khuzestan\", \"kilometres\", \"kilometres\", \"km\", \"km\", \"km\", \"known\", \"known\", \"known\", \"known\", \"known\", \"known\", \"known\", \"known\", \"kolonia\", \"krak\\u00f3w\", \"kurdistan\", \"kuyavian\", \"k\\u0254\\u02c8l\\u0254\\u0272a\", \"label\", \"laid\", \"lake\", \"lake\", \"lake\", \"lake\", \"lake\", \"lanka\", \"lankan\", \"larvae\", \"larvae\", \"latvia\", \"latvian\", \"launch\", \"launch\", \"launched\", \"launched\", \"league\", \"league\", \"leaves\", \"legislative\", \"legislative\", \"legume\", \"liberal\", \"lies\", \"lies\", \"lies\", \"listed\", \"listed\", \"listed\", \"living\", \"living\", \"living\", \"living\", \"living\", \"located\", \"located\", \"located\", \"located\", \"located\", \"locomotive\", \"locomotives\", \"lodge\", \"long\", \"long\", \"long\", \"long\", \"long\", \"lorestan\", \"loss\", \"loss\", \"lowland\", \"lubin\", \"lublin\", \"lutheran\", \"lycaenidae\", \"macedonian\", \"magazine\", \"main\", \"main\", \"main\", \"main\", \"main\", \"malaysia\", \"mall\", \"mandal\", \"march\", \"march\", \"march\", \"march\", \"mare\", \"margin\", \"marginellidae\", \"marine\", \"marine\", \"marine\", \"masovian\", \"massachusetts\", \"massachusetts\", \"massachusetts\", \"mazandaran\", \"mazowiecki\", \"medal\", \"melastomataceae\", \"member\", \"member\", \"member\", \"member\", \"methodist\", \"metres\", \"metres\", \"mi\", \"mi\", \"mic\", \"midfielder\", \"minas\", \"mini\", \"mini\", \"mini\", \"minister\", \"miters\", \"mites\", \"mitsubishi\", \"mitsubishi\", \"mm\", \"mm\", \"moist\", \"moist\", \"mollusk\", \"mollusks\", \"montane\", \"mordellidae\", \"mordellistena\", \"moth\", \"moth\", \"moths\", \"moths\", \"mountain\", \"mountain\", \"mountain\", \"mountain\", \"mountain\", \"mountains\", \"movie\", \"mrs\", \"municipality\", \"municipality\", \"municipality\", \"municipality\", \"murex\", \"muricidae\", \"music\", \"musician\", \"nadu\", \"named\", \"named\", \"named\", \"named\", \"national\", \"national\", \"national\", \"national\", \"national\", \"native\", \"native\", \"native\", \"natural\", \"natural\", \"natural\", \"natural\", \"naval\", \"navy\", \"nepal\", \"new\", \"new\", \"new\", \"new\", \"new\", \"new\", \"new\", \"newspaper\", \"newspaper\", \"nfl\", \"noctuidae\", \"noctuidae\", \"north\", \"north\", \"north\", \"north\", \"north\", \"north\", \"north\", \"north\", \"north\", \"northern\", \"northern\", \"northern\", \"northern\", \"northern\", \"northern\", \"not\", \"not\", \"not\", \"not\", \"not\", \"noted\", \"noted\", \"novel\", \"nudibranch\", \"obama\", \"occurs\", \"offers\", \"ohio\", \"ohio\", \"olympics\", \"oman\", \"one\", \"one\", \"one\", \"one\", \"one\", \"one\", \"one\", \"oppland\", \"or\", \"or\", \"or\", \"or\", \"or\", \"or\", \"or\", \"or\", \"orchid\", \"orchid\", \"orchidaceae\", \"our\", \"our\", \"panama\", \"panama\", \"papua\", \"paraguay\", \"party\", \"party\", \"pass\", \"patrol\", \"patrol\", \"peak\", \"peer\", \"peer\", \"people\", \"people\", \"people\", \"people\", \"perennial\", \"persian\", \"peru\", \"peru\", \"peru\", \"physics\", \"pinyin\", \"pitcher\", \"places\", \"places\", \"plant\", \"plant\", \"plant\", \"plant\", \"plants\", \"played\", \"played\", \"player\", \"player\", \"playing\", \"playing\", \"plays\", \"plays\", \"poaceae\", \"podlaskie\", \"poland\", \"poland\", \"politician\", \"politician\", \"politician\", \"pomeranian\", \"population\", \"population\", \"population\", \"population\", \"population\", \"pozna\\u0144\", \"pradesh\", \"pradesh\", \"predatory\", \"presbyterian\", \"president\", \"president\", \"president\", \"priory\", \"private\", \"produced\", \"produced\", \"producer\", \"professional\", \"professional\", \"professional\", \"property\", \"prototype\", \"province\", \"province\", \"province\", \"province\", \"province\", \"pterophoridae\", \"public\", \"public\", \"published\", \"published\", \"published\", \"puerto\", \"puget\", \"p\\u0101\", \"qazvin\", \"quarterly\", \"racehorse\", \"racing\", \"railways\", \"rama\", \"range\", \"range\", \"range\", \"rao\", \"razavi\", \"records\", \"region\", \"region\", \"region\", \"region\", \"regional\", \"regional\", \"regional\", \"regional\", \"register\", \"release\", \"released\", \"reported\", \"reported\", \"representatives\", \"representing\", \"republican\", \"republika\", \"reservoir\", \"reservoir\", \"residence\", \"resignation\", \"retired\", \"retired\", \"retired\", \"reviewed\", \"reviewed\", \"revival\", \"rhine\", \"rhode\", \"rica\", \"ricardo\", \"ricardo\", \"ricky\", \"ricky\", \"rico\", \"riga\", \"river\", \"river\", \"river\", \"river\", \"river\", \"river\", \"river\", \"rivers\", \"rivers\", \"roberts\", \"roberts\", \"rock\", \"rock\", \"rock\", \"rock\", \"rogers\", \"romania\", \"romanized\", \"roof\", \"rosaceae\", \"royal\", \"royal\", \"rubiaceae\", \"rud\", \"rugby\", \"rural\", \"rural\", \"russian\", \"russian\", \"russian\", \"russian\", \"russian\", \"russian\", \"r\\u00edo\", \"r\\u00edo\", \"sar\", \"saudi\", \"saunders\", \"saxony\", \"saxony\", \"school\", \"school\", \"schools\", \"screw\", \"sea\", \"sea\", \"sea\", \"sea\", \"season\", \"season\", \"seasons\", \"secondary\", \"senate\", \"senators\", \"september\", \"september\", \"september\", \"september\", \"serbia\", \"serbian\", \"serialized\", \"series\", \"series\", \"series\", \"series\", \"served\", \"served\", \"serves\", \"service\", \"service\", \"services\", \"serving\", \"shadow\", \"sharqi\", \"she\", \"she\", \"she\", \"she\", \"ship\", \"shipbuilding\", \"ships\", \"shopping\", \"shrub\", \"shrubland\", \"sikkim\", \"silesian\", \"since\", \"since\", \"since\", \"singer\", \"skate\", \"skyscraper\", \"slug\", \"small\", \"small\", \"small\", \"small\", \"small\", \"snail\", \"snails\", \"snout\", \"soccer\", \"sofla\", \"somali\", \"song\", \"songs\", \"songwriter\", \"sound\", \"sound\", \"sound\", \"south\", \"south\", \"south\", \"south\", \"south\", \"south\", \"south\", \"south\", \"southern\", \"southern\", \"southern\", \"southern\", \"southern\", \"southern\", \"sp\", \"species\", \"species\", \"species\", \"species\", \"specifically\", \"specifically\", \"sphingidae\", \"sponsored\", \"sponsored\", \"sportsperson\", \"sri\", \"srpska\", \"st\", \"st\", \"st\", \"st\", \"starring\", \"state\", \"state\", \"state\", \"state\", \"state\", \"state\", \"states\", \"states\", \"states\", \"states\", \"states\", \"states\", \"states\", \"story\", \"story\", \"street\", \"street\", \"street\", \"striker\", \"structure\", \"structure\", \"students\", \"studio\", \"style\", \"style\", \"style\", \"subfamily\", \"submarine\", \"subspecies\", \"subtropical\", \"sul\", \"summer\", \"summer\", \"summer\", \"summer\", \"summit\", \"surface\", \"sworn\", \"syria\", \"syria\", \"syrian\", \"s\\u025b\", \"tachinidae\", \"taiwan\", \"tallest\", \"taluk\", \"tamil\", \"tamil\", \"tanki\", \"taxonomy\", \"team\", \"team\", \"team\", \"technology\", \"tehran\", \"thailand\", \"thailand\", \"that\", \"that\", \"that\", \"that\", \"that\", \"that\", \"this\", \"this\", \"this\", \"this\", \"this\", \"this\", \"thompson\", \"threatened\", \"thug\", \"time\", \"time\", \"time\", \"time\", \"time\", \"timi\\u015f\", \"title\", \"tolombeh\", \"tortricidae\", \"tower\", \"tower\", \"tree\", \"tree\", \"tree\", \"trees\", \"tribe\", \"tributary\", \"tributary\", \"tropical\", \"tropical\", \"turkey\", \"turkey\", \"turkey\", \"two\", \"two\", \"two\", \"two\", \"two\", \"two\", \"tyrol\", \"united\", \"united\", \"united\", \"united\", \"united\", \"united\", \"university\", \"university\", \"university\", \"uss\", \"valea\", \"valentine\", \"var\", \"vessel\", \"vietnam\", \"village\", \"village\", \"village\", \"village\", \"village\", \"village\", \"voivodeship\", \"volcano\", \"volumes\", \"war\", \"war\", \"war\", \"watershed\", \"were\", \"were\", \"were\", \"were\", \"west\", \"west\", \"west\", \"west\", \"west\", \"west\", \"west\", \"western\", \"western\", \"western\", \"western\", \"western\", \"western\", \"western\", \"westphalia\", \"which\", \"which\", \"which\", \"which\", \"who\", \"who\", \"who\", \"who\", \"wingspan\", \"within\", \"within\", \"within\", \"within\", \"within\", \"won\", \"won\", \"world\", \"world\", \"world\", \"world\", \"world\", \"writer\", \"writer\", \"written\", \"wroc\\u0142aw\", \"w\\u00fcrttemberg\", \"ye\", \"yellow\", \"yellow\", \"yemen\", \"york\", \"york\", \"york\", \"york\", \"zone\", \"zone\", \"\\u012bn\", \"\\u0142\\u00f3d\\u017a\", \"\\u0627\\u0628\\u0627\\u062f\", \"\\u062a\\u0644\\u0645\\u0628\\u0647\"]}, \"R\": 30, \"lambda.step\": 0.01, \"plot.opts\": {\"xlab\": \"PC1\", \"ylab\": \"PC2\"}, \"topic.order\": [3, 14, 5, 7, 13, 1, 12, 2, 11, 4, 8, 10, 9, 6]};\n",
       "\n",
       "function LDAvis_load_lib(url, callback){\n",
       "  var s = document.createElement('script');\n",
       "  s.src = url;\n",
       "  s.async = true;\n",
       "  s.onreadystatechange = s.onload = callback;\n",
       "  s.onerror = function(){console.warn(\"failed to load library \" + url);};\n",
       "  document.getElementsByTagName(\"head\")[0].appendChild(s);\n",
       "}\n",
       "\n",
       "if(typeof(LDAvis) !== \"undefined\"){\n",
       "   // already loaded: just create the visualization\n",
       "   !function(LDAvis){\n",
       "       new LDAvis(\"#\" + \"ldavis_el4496027918601928646863486078\", ldavis_el4496027918601928646863486078_data);\n",
       "   }(LDAvis);\n",
       "}else if(typeof define === \"function\" && define.amd){\n",
       "   // require.js is available: use it to load d3/LDAvis\n",
       "   require.config({paths: {d3: \"https://cdnjs.cloudflare.com/ajax/libs/d3/3.5.5/d3.min\"}});\n",
       "   require([\"d3\"], function(d3){\n",
       "      window.d3 = d3;\n",
       "      LDAvis_load_lib(\"https://cdn.rawgit.com/bmabey/pyLDAvis/files/ldavis.v1.0.0.js\", function(){\n",
       "        new LDAvis(\"#\" + \"ldavis_el4496027918601928646863486078\", ldavis_el4496027918601928646863486078_data);\n",
       "      });\n",
       "    });\n",
       "}else{\n",
       "    // require.js not available: dynamically load d3 & LDAvis\n",
       "    LDAvis_load_lib(\"https://cdnjs.cloudflare.com/ajax/libs/d3/3.5.5/d3.min.js\", function(){\n",
       "         LDAvis_load_lib(\"https://cdn.rawgit.com/bmabey/pyLDAvis/files/ldavis.v1.0.0.js\", function(){\n",
       "                 new LDAvis(\"#\" + \"ldavis_el4496027918601928646863486078\", ldavis_el4496027918601928646863486078_data);\n",
       "            })\n",
       "         });\n",
       "}\n",
       "</script>"
      ],
      "text/plain": [
       "PreparedData(topic_coordinates=              x         y  topics  cluster       Freq\n",
       "topic                                                \n",
       "2      0.242956  0.010319       1        1  23.285783\n",
       "13     0.211709  0.027328       2        1  18.495458\n",
       "4      0.112842 -0.029615       3        1   9.311543\n",
       "6      0.011734  0.252120       4        1   8.963853\n",
       "12     0.118961 -0.114501       5        1   7.223903\n",
       "0     -0.028193 -0.075759       6        1   6.133946\n",
       "11    -0.083599 -0.008571       7        1   4.666001\n",
       "1     -0.099529  0.109007       8        1   4.245676\n",
       "10    -0.087282  0.088460       9        1   4.143553\n",
       "3     -0.106351 -0.082031      10        1   4.081651\n",
       "7     -0.089654 -0.035530      11        1   2.762903\n",
       "9     -0.071036 -0.032895      12        1   2.257942\n",
       "8     -0.065134 -0.052695      13        1   2.229661\n",
       "5     -0.067424 -0.055638      14        1   2.198127, topic_info=            Term        Freq       Total Category  logprob  loglift\n",
       "7599       river  124.000000  124.000000  Default  30.0000  30.0000\n",
       "2958    district  118.000000  118.000000  Default  29.0000  29.0000\n",
       "7839      school  133.000000  133.000000  Default  28.0000  28.0000\n",
       "3528      family  120.000000  120.000000  Default  27.0000  27.0000\n",
       "8335     species  113.000000  113.000000  Default  26.0000  26.0000\n",
       "...          ...         ...         ...      ...      ...      ...\n",
       "5884  mitsubishi    1.355176    2.741091  Topic14  -6.4328   3.1131\n",
       "5176      launch    1.361048    3.118759  Topic14  -6.4285   2.9884\n",
       "4345        hero    1.271541    2.741739  Topic14  -6.4965   3.0492\n",
       "778          aka    1.258970    3.467589  Topic14  -6.5064   2.8044\n",
       "8294       sound    1.322625    8.588437  Topic14  -6.4571   1.9468\n",
       "\n",
       "[712 rows x 6 columns], token_table=      Topic      Freq   Term\n",
       "term                        \n",
       "19       13  0.386438    106\n",
       "176      13  0.466390   1834\n",
       "300       1  0.191446   1944\n",
       "300       3  0.765784   1944\n",
       "353       1  0.428105   1991\n",
       "...     ...       ...    ...\n",
       "9763     13  0.599882   zone\n",
       "9772     13  0.752826     īn\n",
       "9774      7  0.910243   łódź\n",
       "9786     10  0.823808   اباد\n",
       "9787     11  0.825153  تلمبه\n",
       "\n",
       "[1227 rows x 3 columns], R=30, lambda_step=0.01, plot_opts={'xlab': 'PC1', 'ylab': 'PC2'}, topic_order=[3, 14, 5, 7, 13, 1, 12, 2, 11, 4, 8, 10, 9, 6])"
      ]
     },
     "execution_count": 120,
     "metadata": {},
     "output_type": "execute_result"
    }
   ],
   "source": [
    "import pyLDAvis.sklearn\n",
    " \n",
    "pyLDAvis.enable_notebook()\n",
    "\n",
    "panel = pyLDAvis.sklearn.prepare(pipeline.named_steps.topic_modelling, \n",
    "                                 pipeline.named_steps.dataprep.transform(X_train), \n",
    "                                 pipeline.named_steps.dataprep.named_steps.count_vectorizer, \n",
    "                                 mds='pca')\n",
    "\n",
    "panel"
   ]
  },
  {
   "cell_type": "markdown",
   "metadata": {},
   "source": [
    "----"
   ]
  },
  {
   "cell_type": "code",
   "execution_count": 121,
   "metadata": {
    "ExecuteTime": {
     "end_time": "2020-12-09T18:27:22.357613Z",
     "start_time": "2020-12-09T18:26:09.695600Z"
    }
   },
   "outputs": [
    {
     "name": "stderr",
     "output_type": "stream",
     "text": [
      "c:\\users\\raian\\appdata\\local\\programs\\python\\python39\\lib\\site-packages\\ipykernel\\ipkernel.py:287: DeprecationWarning: `should_run_async` will not call `transform_cell` automatically in the future. Please pass the result to `transformed_cell` argument and any exception that happen during thetransform in `preprocessing_exc_tuple` in IPython 7.17 and above.\n",
      "  and should_run_async(code)\n"
     ]
    },
    {
     "data": {
      "text/plain": [
       "Pipeline(steps=[('dataprep',\n",
       "                 Pipeline(steps=[('count_vectorizer',\n",
       "                                  CountVectorizer(max_df=1000, min_df=3,\n",
       "                                                  ngram_range=(2, 2))),\n",
       "                                 ('tfidf_transformer', TfidfTransformer())])),\n",
       "                ('topic_modelling',\n",
       "                 LatentDirichletAllocation(max_iter=100, n_components=14))])"
      ]
     },
     "execution_count": 121,
     "metadata": {},
     "output_type": "execute_result"
    }
   ],
   "source": [
    "dataprep = Pipeline([\n",
    "    ('count_vectorizer', CountVectorizer(ngram_range=(2,2), max_df=1000, min_df=3)),\n",
    "    ('tfidf_transformer', TfidfTransformer())\n",
    "])\n",
    "\n",
    "\n",
    "pipeline = Pipeline([\n",
    "    ('dataprep', dataprep),\n",
    "    ('topic_modelling', LatentDirichletAllocation(n_components=14, max_iter=100))\n",
    "])\n",
    "\n",
    "pipeline.fit(X_train, y_train)"
   ]
  },
  {
   "cell_type": "code",
   "execution_count": 122,
   "metadata": {
    "ExecuteTime": {
     "end_time": "2020-12-09T18:27:22.480545Z",
     "start_time": "2020-12-09T18:27:22.359607Z"
    }
   },
   "outputs": [
    {
     "name": "stderr",
     "output_type": "stream",
     "text": [
      "c:\\users\\raian\\appdata\\local\\programs\\python\\python39\\lib\\site-packages\\ipykernel\\ipkernel.py:287: DeprecationWarning: `should_run_async` will not call `transform_cell` automatically in the future. Please pass the result to `transformed_cell` argument and any exception that happen during thetransform in `preprocessing_exc_tuple` in IPython 7.17 and above.\n",
      "  and should_run_async(code)\n"
     ]
    }
   ],
   "source": [
    "lda = pipeline.transform(X_test)"
   ]
  },
  {
   "cell_type": "code",
   "execution_count": 123,
   "metadata": {
    "ExecuteTime": {
     "end_time": "2020-12-09T18:27:22.495505Z",
     "start_time": "2020-12-09T18:27:22.481543Z"
    }
   },
   "outputs": [
    {
     "name": "stderr",
     "output_type": "stream",
     "text": [
      "c:\\users\\raian\\appdata\\local\\programs\\python\\python39\\lib\\site-packages\\ipykernel\\ipkernel.py:287: DeprecationWarning: `should_run_async` will not call `transform_cell` automatically in the future. Please pass the result to `transformed_cell` argument and any exception that happen during thetransform in `preprocessing_exc_tuple` in IPython 7.17 and above.\n",
      "  and should_run_async(code)\n"
     ]
    }
   ],
   "source": [
    "feature_names = pipeline.named_steps.dataprep.named_steps.count_vectorizer.get_feature_names()"
   ]
  },
  {
   "cell_type": "code",
   "execution_count": 124,
   "metadata": {
    "ExecuteTime": {
     "end_time": "2020-12-09T18:27:25.542037Z",
     "start_time": "2020-12-09T18:27:22.497517Z"
    }
   },
   "outputs": [
    {
     "name": "stderr",
     "output_type": "stream",
     "text": [
      "c:\\users\\raian\\appdata\\local\\programs\\python\\python39\\lib\\site-packages\\ipykernel\\ipkernel.py:287: DeprecationWarning: `should_run_async` will not call `transform_cell` automatically in the future. Please pass the result to `transformed_cell` argument and any exception that happen during thetransform in `preprocessing_exc_tuple` in IPython 7.17 and above.\n",
      "  and should_run_async(code)\n"
     ]
    },
    {
     "data": {
      "text/html": [
       "\n",
       "<link rel=\"stylesheet\" type=\"text/css\" href=\"https://cdn.rawgit.com/bmabey/pyLDAvis/files/ldavis.v1.0.0.css\">\n",
       "\n",
       "\n",
       "<div id=\"ldavis_el4496027919197365288954342074\"></div>\n",
       "<script type=\"text/javascript\">\n",
       "\n",
       "var ldavis_el4496027919197365288954342074_data = {\"mdsDat\": {\"x\": [1.425140142440796, 93.69695281982422, 141.6940155029297, -126.23350524902344, -59.868133544921875, 151.9666290283203, 12.54269027709961, 49.37258529663086, 203.50599670410156, 119.92347717285156, -19.31559181213379, -95.84105682373047, 37.55474853515625, 243.64891052246094], \"y\": [-203.13143920898438, -55.01815414428711, 25.3204288482666, 5.739787578582764, 101.51930236816406, 133.119140625, -101.44165802001953, 57.773475646972656, -84.54183959960938, -166.0689697265625, -8.882428169250488, -109.37347412109375, 165.05709838867188, 32.73354721069336], \"topics\": [1, 2, 3, 4, 5, 6, 7, 8, 9, 10, 11, 12, 13, 14], \"cluster\": [1, 1, 1, 1, 1, 1, 1, 1, 1, 1, 1, 1, 1, 1], \"Freq\": [14.126961938468336, 13.515724489230601, 12.119196889331421, 8.885469914581666, 7.69408083590776, 6.436622135070862, 5.917578152718178, 4.939562928598037, 4.852185686163866, 4.830525078183883, 4.595169782859551, 4.463056213706662, 3.829651816946251, 3.794214138232909]}, \"tinfo\": {\"Term\": [\"species of\", \"is species\", \"high school\", \"is village\", \"directed by\", \"village in\", \"river is\", \"river in\", \"the 2006\", \"tributary of\", \"its population\", \"in romania\", \"album by\", \"census its\", \"province iran\", \"iran at\", \"rural district\", \"2006 census\", \"is tributary\", \"population was\", \"romanized as\", \"also romanized\", \"family it\", \"film directed\", \"the film\", \"endemic to\", \"school is\", \"released in\", \"at the\", \"plant in\", \"war ii\", \"during world\", \"major league\", \"royal navy\", \"she was\", \"minister of\", \"states navy\", \"world war\", \"laid down\", \"league baseball\", \"ship of\", \"launched on\", \"and commissioned\", \"was laid\", \"the navy\", \"and politician\", \"navy during\", \"was elected\", \"elected to\", \"secretary of\", \"was sold\", \"down on\", \"commissioned on\", \"class destroyer\", \"in command\", \"was born\", \"by mrs\", \"basketball player\", \"navy she\", \"the war\", \"he was\", \"he served\", \"was launched\", \"served as\", \"the royal\", \"born in\", \"named for\", \"he is\", \"she is\", \"for the\", \"was the\", \"member of\", \"was an\", \"an american\", \"during the\", \"for his\", \"the united\", \"best known\", \"as the\", \"with the\", \"united states\", \"the first\", \"by the\", \"at the\", \"to the\", \"known for\", \"and the\", \"is former\", \"one of\", \"known as\", \"album by\", \"film directed\", \"the film\", \"released in\", \"was released\", \"released on\", \"the album\", \"directed by\", \"studio album\", \"novel by\", \"drama film\", \"an album\", \"written by\", \"comedy film\", \"released by\", \"and starring\", \"album was\", \"the band\", \"and directed\", \"film was\", \"the book\", \"written and\", \"album released\", \"film starring\", \"the novel\", \"and produced\", \"debut album\", \"film is\", \"science fiction\", \"film festival\", \"the story\", \"first published\", \"by american\", \"based on\", \"published in\", \"produced by\", \"on the\", \"the first\", \"the second\", \"by the\", \"and the\", \"national register\", \"of historic\", \"register of\", \"historic places\", \"is historic\", \"places in\", \"house is\", \"listed on\", \"was listed\", \"added to\", \"historic district\", \"building in\", \"the building\", \"street in\", \"house was\", \"was added\", \"building was\", \"historic home\", \"two story\", \"college of\", \"home located\", \"building located\", \"offices in\", \"located at\", \"the college\", \"for profit\", \"and added\", \"york it\", \"massachusetts the\", \"revival style\", \"the national\", \"university of\", \"the university\", \"county new\", \"was built\", \"built in\", \"was founded\", \"owned by\", \"the company\", \"new york\", \"founded in\", \"based in\", \"and is\", \"located in\", \"one of\", \"united states\", \"on the\", \"by the\", \"to the\", \"known as\", \"as the\", \"and the\", \"is located\", \"endemic to\", \"is endemic\", \"plant in\", \"of plant\", \"flowering plant\", \"subtropical or\", \"or tropical\", \"native to\", \"threatened by\", \"habitat loss\", \"is threatened\", \"by habitat\", \"its natural\", \"the genus\", \"species is\", \"tropical moist\", \"species in\", \"is native\", \"habitat is\", \"common names\", \"natural habitat\", \"found only\", \"it grows\", \"to ecuador\", \"be found\", \"montane forests\", \"is subtropical\", \"moist montane\", \"mountain range\", \"habitats are\", \"the lake\", \"this species\", \"species of\", \"is species\", \"the common\", \"only in\", \"family it\", \"found in\", \"genus of\", \"the family\", \"is genus\", \"of flowering\", \"is found\", \"to the\", \"known as\", \"up to\", \"school district\", \"public high\", \"secondary school\", \"school located\", \"school is\", \"the school\", \"high school\", \"schools in\", \"students in\", \"school was\", \"is secondary\", \"public school\", \"public schools\", \"middle school\", \"school in\", \"sixth form\", \"independent school\", \"is school\", \"in grades\", \"high schools\", \"students from\", \"is public\", \"elementary school\", \"school has\", \"co educational\", \"primary school\", \"catholic school\", \"school and\", \"mascot is\", \"only high\", \"grades 12\", \"academy is\", \"school for\", \"located in\", \"is private\", \"is high\", \"opened in\", \"is part\", \"is located\", \"part of\", \"school of\", \"united states\", \"one of\", \"was established\", \"established in\", \"founded in\", \"by the\", \"to the\", \"and the\", \"on the\", \"and is\", \"voivodeship in\", \"administrative district\", \"of gmina\", \"the administrative\", \"mi south\", \"kilometres mi\", \"mi north\", \"lies approximately\", \"poland it\", \"approximately kilometres\", \"regional capital\", \"central poland\", \"the regional\", \"the municipality\", \"municipality of\", \"village has\", \"has population\", \"north east\", \"km mi\", \"mi west\", \"mi east\", \"eastern poland\", \"east of\", \"south east\", \"masovian voivodeship\", \"county masovian\", \"it lies\", \"east central\", \"the village\", \"and herzegovina\", \"bosnia and\", \"mountain in\", \"west of\", \"mountain is\", \"is village\", \"village in\", \"district of\", \"population of\", \"south of\", \"is mountain\", \"north of\", \"the 2006\", \"its population\", \"census its\", \"province iran\", \"rural district\", \"2006 census\", \"iran at\", \"romanized as\", \"also romanized\", \"central district\", \"marine gastropod\", \"of sea\", \"mollusk in\", \"sea snail\", \"snail marine\", \"population was\", \"gastropod mollusk\", \"in families\", \"county kerman\", \"kerman province\", \"azerbaijan province\", \"khorasan province\", \"existence was\", \"its existence\", \"noted but\", \"not reported\", \"\\u0627\\u0628\\u0627\\u062f also\", \"fars province\", \"county lorestan\", \"lorestan province\", \"was noted\", \"but its\", \"the central\", \"district in\", \"village in\", \"is village\", \"at the\", \"district of\", \"also known\", \"the family\", \"known as\", \"is species\", \"species of\", \"is moth\", \"peer reviewed\", \"arctiidae family\", \"the arctiidae\", \"the journal\", \"feed on\", \"journal of\", \"the larvae\", \"wingspan is\", \"the wingspan\", \"is peer\", \"larvae feed\", \"academic journal\", \"the orchid\", \"for fc\", \"moth of\", \"plants from\", \"reviewed academic\", \"orchid family\", \"the geometridae\", \"geometridae family\", \"family orchidaceae\", \"chief is\", \"the mordellidae\", \"mordellidae family\", \"footballer he\", \"adults are\", \"journal covering\", \"he plays\", \"on wing\", \"was described\", \"moth in\", \"known from\", \"described by\", \"length of\", \"is found\", \"family it\", \"found in\", \"is known\", \"published by\", \"plays for\", \"footballer who\", \"who plays\", \"species of\", \"is species\", \"from the\", \"democratic member\", \"representatives representing\", \"republican member\", \"ice hockey\", \"of representatives\", \"is democratic\", \"currently playing\", \"district since\", \"professional ice\", \"hockey league\", \"as striker\", \"noctuidae family\", \"the noctuidae\", \"representatives from\", \"playing with\", \"moths of\", \"of moths\", \"since january\", \"grade ii\", \"ii listed\", \"national hockey\", \"representing district\", \"loan from\", \"engineering college\", \"senate representing\", \"district from\", \"hockey player\", \"on loan\", \"spanish footballer\", \"house of\", \"representing the\", \"the ohio\", \"1990 is\", \"as midfielder\", \"who plays\", \"american politician\", \"playing for\", \"footballer who\", \"member of\", \"is brazilian\", \"plays for\", \"plays as\", \"politician and\", \"is genus\", \"an american\", \"genus of\", \"he is\", \"plants in\", \"daisy family\", \"the daisy\", \"bavaria germany\", \"hesse germany\", \"of bavaria\", \"it belongs\", \"of hesse\", \"records is\", \"the legume\", \"legume family\", \"northern poland\", \"fabaceae it\", \"the crambidae\", \"crambidae family\", \"independent record\", \"the label\", \"of congo\", \"mic river\", \"records was\", \"county lower\", \"lower silesian\", \"label based\", \"poland prior\", \"11 mi\", \"habitat consists\", \"belongs to\", \"kingdom of\", \"flowering plants\", \"eastern brazil\", \"democratic republic\", \"record label\", \"is river\", \"family fabaceae\", \"river of\", \"republic of\", \"short story\", \"of flowering\", \"the river\", \"is genus\", \"genus of\", \"river in\", \"to the\", \"in romania\", \"is tributary\", \"tributary of\", \"the valea\", \"river is\", \"river in\", \"rhine westphalia\", \"north rhine\", \"westphalia germany\", \"mare river\", \"w\\u00fcrttemberg germany\", \"baden w\\u00fcrttemberg\", \"headwater of\", \"river or\", \"length album\", \"of baden\", \"mile long\", \"the roman\", \"is headwater\", \"the line\", \"destroyer in\", \"second full\", \"catholic diocese\", \"canton of\", \"roman catholic\", \"is roman\", \"the canton\", \"and mixed\", \"is beetle\", \"romania the\", \"full length\", \"river of\", \"is river\", \"the river\", \"of north\", \"mountain of\", \"is mountain\", \"football midfielder\", \"rules footballer\", \"is 1976\", \"english footballer\", \"midfielder who\", \"priory was\", \"premier league\", \"was priory\", \"priory in\", \"movie directed\", \"australian rules\", \"death metal\", \"species found\", \"wholly owned\", \"medical journal\", \"australian football\", \"the club\", \"1986 in\", \"event at\", \"wing from\", \"born 22\", \"is croatian\", \"reviewed medical\", \"or fruit\", \"tephritid or\", \"of tephritid\", \"fruit flies\", \"indian feature\", \"star wars\", \"former australian\", \"who currently\", \"also played\", \"currently plays\", \"are on\", \"1991 is\", \"plays for\", \"footballer who\", \"is retired\", \"his career\", \"first studio\", \"played for\", \"who played\", \"he also\", \"feature film\", \"who plays\", \"football league\", \"is former\", \"summer olympics\", \"was an\", \"football player\", \"made his\", \"at an\", \"southeastern brazil\", \"its surface\", \"surface area\", \"ankara province\", \"shopping mall\", \"western brazil\", \"germany at\", \"boyer ahmad\", \"subfamily of\", \"mall in\", \"the manga\", \"santa catarina\", \"area is\", \"is shopping\", \"kohgiluyeh and\", \"and boyer\", \"ahmad province\", \"county kohgiluyeh\", \"county bushehr\", \"serialized in\", \"the mall\", \"restaurant chain\", \"manga was\", \"province turkey\", \"catarina state\", \"the 60th\", \"the gila\", \"bushehr province\", \"pass is\", \"in southeastern\", \"and municipality\", \"state in\", \"elevation of\", \"an elevation\", \"the valley\", \"the district\", \"lies at\", \"is lake\", \"de janeiro\", \"rio de\", \"and illustrated\", \"lake in\", \"district of\", \"river of\", \"is village\", \"village and\", \"film based\", \"village in\", \"is river\", \"was british\", \"municipality in\", \"nadu india\", \"district tamil\", \"to venezuela\", \"korea it\", \"tamil nadu\", \"the r\\u00e2ul\", \"the timi\\u015f\", \"timi\\u015f river\", \"pennsylvania house\", \"ad\\u0131yaman province\", \"their allies\", \"japanese football\", \"poland tributary\", \"stan laurel\", \"are to\", \"forewings are\", \"hepialidae family\", \"the hepialidae\", \"to bolivia\", \"sydney australia\", \"of mexico\", \"and ecuador\", \"pyramidellidae the\", \"pyrams and\", \"family pyramidellidae\", \"the pyrams\", \"growing in\", \"thanjavur district\", \"of thanjavur\", \"pennsylvania in\", \"the pennsylvania\", \"south korea\", \"taluk of\", \"state owned\", \"is 1918\", \"argentina and\", \"northwest of\", \"of poland\", \"or the\", \"members of\", \"museum of\", \"is japanese\", \"1948 is\", \"an american\", \"based in\", \"and the\", \"new zealand\", \"for the\"], \"Freq\": [66.0, 62.0, 48.0, 58.0, 53.0, 55.0, 33.0, 31.0, 29.0, 28.0, 29.0, 26.0, 43.0, 29.0, 29.0, 29.0, 29.0, 29.0, 27.0, 30.0, 28.0, 27.0, 40.0, 40.0, 37.0, 29.0, 29.0, 35.0, 65.0, 27.0, 12.512571324701547, 9.025954755936244, 8.916573697705724, 8.850192288912357, 27.38988606526482, 10.12737840726438, 11.924101998816148, 17.737061793846117, 7.8265953265026775, 7.801485475988578, 7.666269916637962, 6.8725968639248505, 6.694650934671041, 6.500471855803972, 6.271435073404867, 8.077534255292699, 5.575567675262618, 5.17741401402755, 5.0572504770590285, 4.663331668012247, 5.302650485338558, 4.508971104722478, 4.405767720683859, 4.388959846694967, 4.33383343202957, 13.670996799427854, 4.030851132975152, 3.9631804817985614, 3.8579679261073636, 5.0157936320231515, 31.59060282448334, 6.392234928041495, 5.884509355476474, 14.931639489323384, 9.80936735741693, 15.390009059780079, 7.830930566208692, 18.011814127569615, 9.629036379629394, 33.19844064289533, 21.167741646708585, 20.72505118854722, 19.842397885762566, 22.645147834428677, 14.197547084154758, 9.934279186087359, 17.093934152396123, 10.36579476219117, 15.753204373878502, 14.225403191443858, 16.583343884312864, 14.222309434973278, 15.865124354956354, 15.408340961332748, 13.382948512682576, 10.24263912941328, 11.962367705342636, 9.78140570450963, 10.143571994182633, 9.96603835519164, 42.73389932784892, 39.811271864273834, 36.788234445501246, 34.772884486721196, 30.913018430297225, 26.645256518280394, 25.999426764097873, 51.90372314395638, 22.14974616011462, 19.223873780349578, 16.081178847133305, 15.997085603024534, 22.00748086731541, 15.276173623765876, 14.159667590367308, 12.850219758167889, 12.386536315187893, 13.747903348871308, 11.388641695219588, 11.256490649302986, 13.109370996944712, 10.686058622804781, 10.684760276112065, 10.61104044462332, 10.005594701639673, 9.602086136926436, 9.22228146119317, 8.929347839146576, 11.35213282216212, 8.766454233908627, 12.249726867015793, 12.169541965810359, 11.774554832147395, 18.485057295945143, 21.71994522095096, 18.620694385241332, 25.959435802739794, 18.279429857678597, 14.106154735945893, 18.30214249437012, 14.153926580307639, 16.21103882474085, 15.38910075218875, 15.338622022546774, 15.335086108657901, 14.657859305545399, 11.224518831559609, 9.892219624763639, 10.419477676279957, 8.86239223171231, 7.999940386642252, 6.747228309232808, 6.292945263508007, 9.002997698377982, 8.277514032068996, 5.5290716547888445, 5.483702732834763, 5.086316931284612, 4.664578810954132, 4.414726975202126, 8.384529664418368, 3.957356884287117, 3.948210658383068, 3.923540650947228, 14.638645224878148, 8.203951403944489, 3.4211441948606818, 3.410662988853185, 3.4005485271850695, 4.106867910333044, 3.1827614575676675, 20.386947609692953, 16.230053413080356, 14.260042210200295, 5.650103371627306, 18.412186532050583, 17.439655976898056, 11.941286346298453, 8.420906764026869, 15.13831367298111, 18.64658686234189, 14.93806207765304, 12.880329016301335, 14.460361700429113, 16.619441115039827, 13.55056859285701, 14.708245373155192, 15.977560546463232, 14.22555369494456, 13.025465944002788, 11.729199242206192, 10.280337382356723, 10.375935376248552, 9.25193453931224, 29.213918602508585, 24.45396775036305, 26.83594080784436, 17.590853713435482, 12.889297850321737, 10.747181932527317, 10.747181932527317, 22.02321363157718, 10.0408668386322, 10.00394452124303, 9.92715217392508, 9.601069640829209, 9.541098264543198, 24.79638281284373, 8.09832564369929, 7.663494196705381, 7.481228896746503, 8.139446164224912, 6.583950598932842, 6.488282264104266, 6.278561003118263, 6.187296424449249, 5.643169472546006, 5.628607166018823, 5.372631344535992, 5.304925400775462, 5.134474152433182, 5.025848700353939, 4.851521208649446, 4.798270946158766, 9.548888713477474, 8.686144303557908, 55.521865522228204, 51.52929536768605, 7.3589608280906775, 6.392137925492861, 25.844497282553217, 18.96389233677549, 23.4875035000234, 21.020347536156475, 20.682951166683303, 12.198495459124262, 15.250319016735745, 20.445279565102194, 10.438151959941077, 7.91340133535763, 11.330117934136457, 8.765375396415752, 9.961891519817405, 14.333643425218236, 26.73034975976175, 22.59729540605751, 42.61939770445938, 4.3556926634246915, 4.946570305708394, 7.766836302754383, 3.973750876617097, 3.902537944536728, 3.4479949182901932, 3.4306954195570896, 18.75883304311466, 3.1844032228627897, 2.877429173756815, 2.762720119808038, 2.755196246110478, 2.66218693656907, 3.1745676360177955, 11.745124397335449, 3.1554428321390446, 2.1990640510902497, 3.92328826801024, 2.579334087241814, 2.1077571651219014, 5.278518570753951, 2.0396307062860473, 1.9366030279702795, 2.8200840977643344, 2.7359931493200746, 4.452933435024807, 20.96870577846291, 6.584706724054951, 3.8919626394696554, 3.9350366332062063, 6.33946929495542, 9.850715211681752, 7.984063115950608, 4.421690271933664, 6.590263577927579, 5.92464268480898, 4.360225970385564, 4.464879915509697, 4.6781823429594285, 4.995044808421111, 4.830686001428558, 4.735157064604531, 4.540096175328174, 4.19637304419291, 17.02218394297722, 16.78331356237408, 16.54132803220593, 16.54132803220593, 14.192155792725593, 13.194816121080562, 12.995112042882136, 12.178252598057217, 11.301050606992122, 10.278933425120258, 10.240269662811539, 9.805566677222446, 10.745222867428819, 8.89275857559038, 8.843867266818977, 7.663847937183196, 6.977778069853491, 6.629580701154004, 5.119533439532495, 5.0048618759705805, 4.893804336134599, 4.722650964494582, 16.897152488668727, 7.696834293265461, 4.1335618913293715, 4.1335618913293715, 13.494199776591847, 4.941502616069399, 11.414484460649412, 3.6681400862384774, 3.6681400862384774, 7.807611764400497, 12.184603311958302, 5.060292535765662, 25.937265839672545, 24.050120111428686, 15.439360215955915, 7.995997132505726, 7.351834859997816, 7.8465799611810905, 6.7209856029614405, 29.147059766414298, 29.127747912863395, 28.55302959005661, 28.537364851545902, 28.490841867876824, 28.49084186787682, 28.490841867876824, 27.394109392999628, 27.34676845719318, 15.248720175672043, 12.40786307244744, 10.876862335989124, 10.614583252935052, 9.896007412060454, 9.272434398664808, 28.18171350945373, 10.750467588642483, 5.89924248514749, 5.162119036837615, 5.162119036837615, 4.677411247442742, 4.0311600897000455, 3.9568319502165563, 3.9568319502165563, 3.9568319502165563, 3.9568319502165563, 3.938723031453574, 3.0354056909644633, 2.9487612642684673, 2.9487612642684673, 4.117211170106752, 3.996575891993505, 14.697403913929609, 15.990500875193295, 25.352740948336997, 25.4080207667996, 24.558119923140964, 12.158839592203817, 11.694308596001683, 11.724323865965806, 11.806438977036464, 7.076364336697394, 7.009937451593993, 16.58302374813664, 5.281214863101136, 4.994655406958827, 4.994655406958827, 4.939776058802631, 4.553383807416919, 3.9928669869423867, 4.419906324402113, 3.599968792951155, 3.599968792951155, 3.576618561877747, 3.4438071513022623, 3.1020692318306566, 3.0995877177137783, 2.9587318886948792, 12.954902130502715, 2.845301786097546, 2.8446064009424314, 2.8368736266857386, 2.5331652624783954, 2.5331652624783954, 2.909675389744095, 2.201434664599719, 2.08498896004654, 2.08498896004654, 2.658812640325458, 2.0166633113956034, 1.9965074603003266, 3.8752175183187485, 1.8817709637471136, 7.013772218246744, 7.080170756256818, 5.071725725440021, 5.821416978052064, 3.4889007210769725, 11.64864940871366, 13.362921850754198, 10.87330345977732, 5.072392687626003, 4.188427092080849, 4.044151243120788, 3.9527806439242363, 3.197978772578316, 3.5582077302499098, 3.4804052095188185, 3.1655897412494243, 4.268393109454448, 4.259214499930668, 3.8726769458169077, 3.840652479902208, 9.151358389028616, 3.203941367387222, 4.038375535363821, 3.1967086751819447, 2.696682880796547, 2.5182376157630952, 2.2839617921861857, 5.832604044681885, 5.832604044681885, 1.8855741429576856, 1.845336892464477, 5.07647519437007, 5.9788286038425955, 3.0182238076503576, 1.6979237266420895, 1.6979237266420895, 1.6472738091624037, 3.3846486983394692, 1.5695708354533182, 1.5612783610194232, 1.813585203266537, 1.7827852730232596, 1.659396665114839, 1.7065384222032554, 1.3978852907441566, 9.434834501329709, 3.891481160496996, 2.464803628935849, 3.1534318428119565, 3.2316380976904835, 5.891172395294567, 3.817403276532171, 2.7499476788469734, 6.033292015604622, 8.36919168749715, 2.500680657041019, 3.5020225692895854, 2.7489148935272243, 3.096529707878014, 4.150387377558118, 4.16371986192929, 3.8278064696690963, 3.3266266029743736, 7.633266025399438, 3.9468896633709436, 3.9468896633709436, 3.853474383438121, 3.7610198047197456, 3.3725464105348864, 2.8452478016845295, 2.7746220977305596, 3.493447594787747, 2.473563809953884, 2.473563809953884, 2.323253471219982, 2.153410500330511, 2.0822234362665295, 2.0822234362665295, 2.442643437213879, 4.16021618307723, 1.9517750238106941, 1.913335901391206, 1.8605435211003951, 1.8428947508609819, 1.8428947508609819, 1.794313657461875, 1.7070515558846489, 1.6014501248397752, 1.575838977841135, 4.059924623739404, 1.5346869355401558, 7.527771209559235, 1.5131410301422559, 2.539741471249465, 4.210137633577739, 8.417059417182987, 2.339645065579512, 6.3407606277150315, 3.1633631949409975, 2.5883737081979192, 4.986968185096215, 3.3156660156748803, 5.235769062035039, 5.358620644667817, 3.2480059585246788, 3.5868021321455594, 26.192274916238684, 25.93191490915419, 26.75479881629778, 5.908066427970972, 29.98837704412254, 26.973137978908632, 3.0288194713160856, 3.0288194713160856, 2.909465306689187, 2.225478238259534, 2.2146794167200485, 2.2146794167200485, 2.211062141858901, 2.2048975228097443, 2.615401442328883, 2.1589304003220593, 2.15023677895309, 2.5573740251892767, 2.0254696886683234, 2.1755994841588207, 1.6161888726503464, 1.4279901144913991, 1.4013073545401886, 2.4475283822136364, 4.448420296773378, 1.343409012901061, 2.2699032382953224, 1.8937356333537614, 1.6806840999806234, 1.2297589482955402, 3.3981010965654885, 11.113860820366801, 11.876322189568818, 5.348737647711773, 2.9442249724960456, 2.9533475037997317, 2.5871309137092044, 2.4160099733648566, 2.0715925613434583, 2.014830480342252, 2.5380822663952807, 1.9685442006234803, 1.938137586443237, 1.7537815294320056, 1.751103274524393, 1.751103274524393, 1.6969204089583423, 2.1510057809824015, 1.6890095750904195, 1.5976033169927235, 1.5878070551259618, 1.5523693391104036, 1.467162395341616, 1.6947968297107388, 1.9633047121065812, 1.33761988314204, 1.270558509864115, 1.496506697488074, 1.2379018578011916, 1.2235784517870953, 1.1675129615828175, 1.1675129615828175, 1.1675129615828175, 1.1675129615828175, 1.1498362463671328, 1.0823658377410552, 1.5679299719152375, 4.020423258749888, 2.5730231557039094, 4.327631343995407, 1.4798923683095642, 1.6618591210331792, 6.309270095826781, 6.051124814378092, 3.369561916863036, 2.3395248264071262, 1.7251446629850165, 3.2780131162753188, 3.116359006481062, 2.306675317689868, 1.8130217587939983, 2.5177443852985486, 2.119402055614344, 2.087814029314083, 1.9140348027895735, 2.0372551733925937, 1.7709575008764762, 1.7401797120114237, 4.071706785040096, 2.654545046426002, 2.5611032146990254, 2.9031770000614348, 2.1099600327696306, 2.0795621001972635, 1.5079633089724307, 1.4849313801860193, 1.434866168267378, 1.3064744119222587, 1.2920189218473686, 1.5703407765664694, 1.6521848834419683, 2.5230423616888755, 1.2602004438142027, 1.1525769297537274, 1.1525769297537274, 1.1525769297537274, 1.1525769297537274, 1.1494604828866588, 1.3144339436206132, 1.4584807888919127, 1.257469565368804, 1.037659358145461, 4.712275425910323, 0.9540341289044533, 0.9498687501883696, 0.9447528155243772, 1.131337141771268, 1.152142314410236, 2.782397970938062, 2.1081258374823184, 3.5942372824224607, 3.120390304292655, 3.0595131295681943, 1.3851888997345578, 4.413121061111031, 1.3458254538679633, 2.825066726759018, 1.3511350189550055, 1.351135018955006, 1.651670694250982, 2.3045073956223985, 3.305092114546773, 2.516810502973878, 3.317385295178662, 1.7278435874089102, 1.4752503458050172, 2.7179706510285704, 2.25046464354207, 1.7894287261977484, 1.5994437444911067, 3.055795889506063, 1.794866240782849, 1.5532386104673, 1.5501734664524056, 3.317388674090088, 1.316269184944234, 1.242591099617955, 1.242591099617955, 1.847611837635609, 1.1220701452612478, 1.1154456142871125, 1.0865046277948676, 1.0697823352985336, 1.259271301654098, 0.9961382145800155, 0.9852893635514314, 0.9547400813260088, 0.9547400813260088, 0.9185199353638184, 0.9044504831163813, 1.238466684157089, 0.8312411310483301, 0.8152618318155392, 0.8152618318155392, 0.8152618318155392, 0.8152618318155392, 1.07484764031086, 0.8084925406243785, 0.8084925406243785, 0.9309095189003287, 2.2768855853600813, 1.9886427845193002, 1.7050149596364574, 1.0226846000166465, 0.9352711531258041, 1.0913483769270207, 1.0145848766946142, 1.2011140913883929, 1.77996860461172, 1.3822173849052548, 1.1868001308877163, 1.3911347889214196, 1.0927785836802513, 1.4152974101971494, 1.1956230701412542, 1.1817254607053382, 1.100437106529785, 1.145585600838894], \"Total\": [66.0, 62.0, 48.0, 58.0, 53.0, 55.0, 33.0, 31.0, 29.0, 28.0, 29.0, 26.0, 43.0, 29.0, 29.0, 29.0, 29.0, 29.0, 27.0, 30.0, 28.0, 27.0, 40.0, 40.0, 37.0, 29.0, 29.0, 35.0, 65.0, 27.0, 13.11389796601968, 9.627279309747303, 9.517898081991436, 9.451516770517705, 29.32364784301247, 10.848227552203475, 12.789946581315231, 19.034250526052165, 8.427919567374655, 8.402809882937197, 8.267594311105976, 7.473921342912392, 7.295975213710468, 7.101796187418131, 6.872762489511698, 8.90510906552285, 6.176892034053565, 5.77873855547032, 5.658575047503573, 5.2646564002734495, 6.0081221338588335, 5.1102966153449865, 5.0070919700174805, 4.9902841327133025, 4.93515771000661, 15.685209396039516, 4.632175580411253, 4.564505306087148, 4.459292188514178, 5.8247457258662205, 37.43124427760454, 7.45805517263135, 6.871040218356764, 18.172146006588495, 12.106992541150628, 20.47636519563185, 9.597186703589967, 26.432431769295277, 12.552177667783765, 56.583861382913334, 36.350214709697916, 35.9361184539363, 34.97636212805644, 44.68953711602938, 23.0771488362497, 14.470597840951664, 38.29658116821539, 16.85600318537793, 41.83949419098642, 34.202683575026796, 50.07138390705472, 42.83933040856341, 62.53560065312471, 65.30970850790091, 67.8484464891654, 20.100460029000118, 54.9339336935448, 16.882915308335207, 37.33346691203814, 51.630435858979254, 43.336148415933806, 40.41352064670205, 37.39048326935742, 35.37513335420423, 31.515267947414152, 27.24750525721393, 26.601675958648073, 53.17121453767237, 22.751995028382385, 19.826123698686548, 16.68342743895208, 16.59933428009037, 22.836335649139226, 15.878422226722424, 14.76191675299331, 13.452468280535744, 12.988784991934605, 14.443649591699986, 11.990890307512363, 11.858739420000667, 13.830425935496917, 11.288307406729029, 11.287008932663962, 11.21328907682915, 10.607843592938654, 10.204334787125564, 9.824530460265043, 9.531596478520385, 12.124686939777424, 9.368702815143743, 13.249750270535706, 13.189448578495147, 12.830025956705331, 21.38156647359566, 26.585679949124284, 22.19935681381393, 66.73707954189169, 42.83933040856341, 24.08311218028975, 62.53560065312471, 54.9339336935448, 16.81322602759187, 15.991287968083597, 15.940810726839953, 15.937273318637606, 15.409030990046269, 11.826705996208025, 10.494407933696412, 11.114242473063971, 9.464579847680838, 8.602127617286456, 7.349415478900705, 6.895132744618074, 9.926909191132028, 9.14927407269023, 6.131258883618196, 6.085889977854803, 5.6885045174136994, 5.26676598608999, 5.016914195250347, 9.534904657289161, 4.559544047959632, 4.5503981956232895, 4.525728062571787, 16.915846986414703, 9.524383310299115, 4.023331672771975, 4.01285007428087, 4.002735939605639, 4.840865431630829, 3.7849486702901416, 26.693596324953532, 21.403703752783745, 18.76218371510389, 6.929520724204675, 25.06861681645797, 24.04199843216373, 16.654145167526753, 11.04445284822906, 22.39124164234588, 29.00004741754097, 24.231926602797756, 20.903265556140138, 31.79192279619013, 45.88301546809817, 37.33346691203814, 50.07138390705472, 66.73707954189169, 62.53560065312471, 67.8484464891654, 51.630435858979254, 41.83949419098642, 54.9339336935448, 29.586808113897145, 29.818854328980194, 25.058903406622292, 27.650464614586, 18.195789203184358, 13.494233465594046, 11.35211736120096, 11.35211736120096, 23.296944123146513, 10.645802306722187, 10.608879995281539, 10.53208763790414, 10.206005100847525, 10.146033732393708, 26.565520759514637, 8.703261368745876, 8.268429624812276, 8.086164732065612, 8.854599242563928, 7.188886075428041, 7.093218055379696, 6.883496476331992, 6.79223186447431, 6.248105414586675, 6.233542592295113, 5.977567198479457, 5.909860855842475, 5.739409580018103, 5.6307841304280295, 5.456458929632051, 5.403206442769859, 10.789535397492164, 9.814546796857769, 66.60370330382338, 62.59975719179149, 8.328386245106195, 7.292435437876561, 40.236354936982856, 31.539612574660538, 42.176476928930825, 39.12029110433448, 38.947897584674116, 19.521314098093224, 28.01703983585364, 67.8484464891654, 51.630435858979254, 11.494835414817837, 11.935591971908828, 9.370849385340952, 10.814583911442755, 15.627670224572158, 29.29669698170092, 24.843957812184637, 48.32466515104929, 4.961166825315502, 5.667819282048866, 8.940793190306486, 4.5792248429464735, 4.508012049064001, 4.053470555692446, 4.036169488989943, 22.309129786430546, 3.7898773051782593, 3.4829033410249415, 3.3681944229690735, 3.3606702293861104, 3.2676609728584753, 3.939860160374368, 14.590927876784042, 3.954419334242189, 2.804538733184068, 5.0289236222022184, 3.317130065156296, 2.713231113845186, 6.811523565136997, 2.645104666937382, 2.542077012071968, 3.733708169556413, 3.6704916278646573, 6.5637927851259175, 45.88301546809817, 11.6619128599448, 6.094532984523169, 6.364174346662393, 14.032456976370078, 29.586808113897145, 31.81861291876755, 11.210356412277223, 50.07138390705472, 37.33346691203814, 13.135528531715188, 16.81871774248512, 24.231926602797756, 62.53560065312471, 67.8484464891654, 54.9339336935448, 66.73707954189169, 31.79192279619013, 17.629138900540454, 17.390268519084028, 17.14828299018349, 17.14828299018349, 14.799110763300414, 13.801772805315297, 13.602068170186378, 12.785207553223911, 11.908005551210426, 10.885888371884509, 10.847224631916225, 10.412521578687707, 11.427720342561937, 9.499713762594896, 9.450823975457423, 8.270803350088052, 7.584733044323791, 7.393604382043781, 5.7264885439372994, 5.611816832486814, 5.500759312084198, 5.329605876086024, 19.219628902323617, 8.825075477045075, 4.740516775014616, 4.740516775014616, 15.52852254697355, 5.6904239264774805, 13.267171538070487, 4.275095469602432, 4.275095469602432, 9.361775340804495, 15.704690797542396, 6.000309436062374, 58.49081646592637, 55.96580321525986, 35.30809360730558, 12.437197328095841, 11.745516716030227, 15.03117755187021, 10.608697939437056, 29.754916898710412, 29.735602530748725, 29.160883855913948, 29.145219958235042, 29.098696124876405, 29.0986961248764, 29.098696124876405, 28.001963655827364, 27.954622717025217, 15.85657443101122, 13.015717555895758, 11.484717074069694, 11.222437691748606, 10.503861829264592, 9.880288828487425, 30.43537205965366, 11.715026865807205, 6.507096748670875, 5.769973282551338, 5.769973282551338, 5.2852654922407245, 4.639014331757007, 4.5646862044370895, 4.5646862044370895, 4.5646862044370895, 4.5646862044370895, 4.54657728899669, 3.643259945226798, 3.5566155345286363, 3.5566155345286363, 4.973548878603946, 4.8299082707748635, 19.905685250412798, 24.707253405374818, 55.96580321525986, 58.49081646592637, 65.30970850790091, 35.30809360730558, 33.78501510776428, 39.12029110433448, 51.630435858979254, 62.59975719179149, 66.60370330382338, 17.192707992393917, 5.890897628527236, 5.604337955463436, 5.604337955463436, 5.5494589107515075, 5.163066828154571, 4.602550022925742, 5.151347171466094, 4.209651876797722, 4.209651876797722, 4.186301368138639, 4.053490096993193, 3.7117523085987574, 3.7092704045772007, 3.5684146814768494, 15.729746611541865, 3.4549843815821775, 3.454289240963648, 3.446556212500759, 3.142847903916973, 3.142847903916973, 3.6228644957853517, 2.81111740422192, 2.694671499336482, 2.694671499336482, 3.459565401490962, 2.6263468115117665, 2.606190115419084, 5.120712643619088, 2.491453826049789, 9.814651746692736, 10.381908741979572, 7.641373112915699, 10.750423799177254, 5.389359506179429, 28.01703983585364, 40.236354936982856, 31.539612574660538, 11.326721022952913, 14.245485361072621, 14.376975753265931, 16.55872924841739, 12.128428678602194, 66.60370330382338, 62.59975719179149, 41.37309599873524, 4.878292722383622, 4.869114145974175, 4.482576797963864, 4.450552180355414, 10.762215093372125, 3.813841207121888, 4.887535283145724, 3.9062676838375348, 3.3065825998174745, 3.128137477312231, 2.8938617382733365, 7.437239636987708, 7.437239636987708, 2.4954742336820974, 2.45523652391037, 6.761399845123546, 7.969267564431525, 4.088511315449984, 2.3078234549932333, 2.3078234549932333, 2.2571738668410175, 4.653680808378157, 2.179471236243769, 2.1711790343505375, 2.5289193687822804, 2.5184535679149906, 2.3715876816078674, 2.4405403481951984, 2.007784781162487, 13.648451868406225, 6.0201699332931184, 3.7211955831515375, 4.982071685058206, 5.364927022666045, 12.128428678602194, 7.631401298289996, 4.872896389119815, 16.55872924841739, 35.9361184539363, 4.681095231901378, 14.376975753265931, 7.461052236688573, 11.674799801147936, 38.947897584674116, 44.68953711602938, 42.176476928930825, 26.432431769295277, 8.679676049706494, 4.5567764543924225, 4.5567764543924225, 4.463362067054631, 4.370906736138158, 3.9824326520316604, 3.455134849233416, 3.3845084676159862, 4.271168533356784, 3.0834501840831625, 3.0834501840831625, 2.933144922091446, 2.7632967491099936, 2.692110322804422, 2.692110322804422, 3.1637740746122875, 5.458266334061933, 2.5616613155374983, 2.5232250248748533, 2.470431443613232, 2.452781499270087, 2.452781499270087, 2.4042004568917132, 2.31693824143308, 2.211339627418073, 2.1857263943028284, 5.651111064999256, 2.144574263875139, 10.538889173089288, 2.1230272507853662, 3.703033393779241, 7.144232164836319, 23.068383833308545, 3.951699145265156, 20.495969874511406, 7.203255294295239, 4.933675316187036, 19.521314098093224, 11.268701692669364, 38.947897584674116, 42.176476928930825, 31.73786399379804, 67.8484464891654, 26.803189803223493, 27.00000554065221, 28.607123723649792, 6.518980909874912, 33.47974707005145, 31.73786399379804, 3.639734109384617, 3.639734109384617, 3.5203799451695788, 2.836392712412595, 2.8255939345396155, 2.8255939345396155, 2.8219766097467325, 2.8158122365377287, 3.3418315861508634, 2.7698448618820657, 2.761151974568983, 3.3260568505429977, 2.636384150228362, 2.914717531865867, 2.2271075856844917, 2.0389053749028623, 2.012222367753903, 3.51494312121135, 6.398235269736548, 1.954326494677915, 3.3406121834220546, 2.787812955405051, 2.4786015432495963, 1.8406739704254245, 5.167303849884947, 20.495969874511406, 23.068383833308545, 11.268701692669364, 7.030310839637926, 7.5510776119846605, 15.03117755187021, 3.026740690636536, 2.682322312852025, 2.62556205358052, 3.3144361426556253, 2.579274058019418, 2.5488673915565605, 2.364511384712058, 2.361832926245767, 2.361832926245767, 2.3076510000948476, 2.927419210564332, 2.299741969136917, 2.2083337126236495, 2.1985378602415806, 2.1631006140106224, 2.0778922408366496, 2.445257133886935, 2.8593320101195725, 1.948350687564016, 1.881289552578379, 2.2161817395483436, 1.8486319131038296, 1.8343099581962479, 1.778242541069057, 1.778242541069057, 1.778242541069057, 1.778242541069057, 1.7605658299160787, 1.6930968986355828, 2.4726278449225543, 6.39084653954807, 4.072558117743972, 7.837904438663333, 2.334292902786131, 2.7244004415748857, 14.376975753265931, 16.55872924841739, 8.677083161485713, 5.152462315600045, 3.2491192534822164, 12.124796960206394, 12.164705293183541, 6.484523874101493, 3.910432425836515, 12.128428678602194, 7.739611375514714, 16.882915308335207, 9.061271713117545, 34.97636212805644, 7.618064868825079, 4.922558374318931, 4.949042043818405, 3.267061939399552, 3.1736200735798885, 3.6206621418478493, 2.7224767935049727, 2.8335870728564756, 2.120480278316681, 2.0974568371999847, 2.047383535860826, 1.9189918725814312, 1.9045360273290348, 2.326520834300839, 2.4500239092365255, 3.745326656283987, 1.8727182518834424, 1.7650943298068444, 1.7650943298068444, 1.7650943298068444, 1.7650943298068444, 1.7619804557676106, 2.0466619253782308, 2.2831954103622065, 1.982135355540668, 1.6501776606520022, 7.673930729341472, 1.5665508952316536, 1.5623887864722932, 1.5572707198104165, 1.8716850265486698, 1.9313139861007802, 5.1280170786909025, 3.84195590759971, 7.189686464043556, 6.160733301397712, 6.103974705473715, 2.4275323311482913, 11.675563110183981, 2.355779553449492, 9.670396999300984, 2.4826611985811367, 2.4826611985811367, 4.0245741902642305, 9.545906431197011, 35.30809360730558, 20.495969874511406, 58.49081646592637, 5.931078753303489, 3.2618993839847943, 55.96580321525986, 23.068383833308545, 8.404591013755725, 5.482321380214559, 3.8057767869101076, 2.407331990633185, 2.1657102533335246, 2.1626394362896213, 4.786508042863359, 1.9287354865296726, 1.8550571505105982, 1.8550571505105982, 2.842462980986577, 1.734537257751841, 1.727911309727879, 1.6989719094142872, 1.6822480627658027, 2.016006648281963, 1.6086053063420742, 1.5977571793629388, 1.567206361734017, 1.567206361734017, 1.5309865136927359, 1.5169165699604314, 2.1294875244459037, 1.4437072347017468, 1.427727666267399, 1.427727666267399, 1.427727666267399, 1.427727666267399, 1.8836511309966848, 1.4209579917892574, 1.4209579917892574, 1.6715918550345985, 4.269475454953272, 3.7901162636936805, 3.571339251693451, 1.9035210834883958, 1.7063187372439028, 2.1069636935332445, 1.9274111197174606, 2.6303261635858113, 6.03060564452205, 6.010547608153565, 3.6906918745412787, 8.189088601322846, 2.858210400133088, 44.68953711602938, 20.903265556140138, 54.9339336935448, 13.710993687554941, 56.583861382913334], \"Category\": [\"Default\", \"Default\", \"Default\", \"Default\", \"Default\", \"Default\", \"Default\", \"Default\", \"Default\", \"Default\", \"Default\", \"Default\", \"Default\", \"Default\", \"Default\", \"Default\", \"Default\", \"Default\", \"Default\", \"Default\", \"Default\", \"Default\", \"Default\", \"Default\", \"Default\", \"Default\", \"Default\", \"Default\", \"Default\", \"Default\", \"Topic1\", \"Topic1\", \"Topic1\", \"Topic1\", \"Topic1\", \"Topic1\", \"Topic1\", \"Topic1\", \"Topic1\", \"Topic1\", \"Topic1\", \"Topic1\", \"Topic1\", \"Topic1\", \"Topic1\", \"Topic1\", \"Topic1\", \"Topic1\", \"Topic1\", \"Topic1\", \"Topic1\", \"Topic1\", \"Topic1\", \"Topic1\", \"Topic1\", \"Topic1\", \"Topic1\", \"Topic1\", \"Topic1\", \"Topic1\", \"Topic1\", \"Topic1\", \"Topic1\", \"Topic1\", \"Topic1\", \"Topic1\", \"Topic1\", \"Topic1\", \"Topic1\", \"Topic1\", \"Topic1\", \"Topic1\", \"Topic1\", \"Topic1\", \"Topic1\", \"Topic1\", \"Topic1\", \"Topic1\", \"Topic1\", \"Topic1\", \"Topic1\", \"Topic1\", \"Topic1\", \"Topic1\", \"Topic1\", \"Topic1\", \"Topic1\", \"Topic1\", \"Topic1\", \"Topic1\", \"Topic2\", \"Topic2\", \"Topic2\", \"Topic2\", \"Topic2\", \"Topic2\", \"Topic2\", \"Topic2\", \"Topic2\", \"Topic2\", \"Topic2\", \"Topic2\", \"Topic2\", \"Topic2\", \"Topic2\", \"Topic2\", \"Topic2\", \"Topic2\", \"Topic2\", \"Topic2\", \"Topic2\", \"Topic2\", \"Topic2\", \"Topic2\", \"Topic2\", \"Topic2\", \"Topic2\", \"Topic2\", \"Topic2\", \"Topic2\", \"Topic2\", \"Topic2\", \"Topic2\", \"Topic2\", \"Topic2\", \"Topic2\", \"Topic2\", \"Topic2\", \"Topic2\", \"Topic2\", \"Topic2\", \"Topic3\", \"Topic3\", \"Topic3\", \"Topic3\", \"Topic3\", \"Topic3\", \"Topic3\", \"Topic3\", \"Topic3\", \"Topic3\", \"Topic3\", \"Topic3\", \"Topic3\", \"Topic3\", \"Topic3\", \"Topic3\", \"Topic3\", \"Topic3\", \"Topic3\", \"Topic3\", \"Topic3\", \"Topic3\", \"Topic3\", \"Topic3\", \"Topic3\", \"Topic3\", \"Topic3\", \"Topic3\", \"Topic3\", \"Topic3\", \"Topic3\", \"Topic3\", \"Topic3\", \"Topic3\", \"Topic3\", \"Topic3\", \"Topic3\", \"Topic3\", \"Topic3\", \"Topic3\", \"Topic3\", \"Topic3\", \"Topic3\", \"Topic3\", \"Topic3\", \"Topic3\", \"Topic3\", \"Topic3\", \"Topic3\", \"Topic3\", \"Topic3\", \"Topic3\", \"Topic3\", \"Topic4\", \"Topic4\", \"Topic4\", \"Topic4\", \"Topic4\", \"Topic4\", \"Topic4\", \"Topic4\", \"Topic4\", \"Topic4\", \"Topic4\", \"Topic4\", \"Topic4\", \"Topic4\", \"Topic4\", \"Topic4\", \"Topic4\", \"Topic4\", \"Topic4\", \"Topic4\", \"Topic4\", \"Topic4\", \"Topic4\", \"Topic4\", \"Topic4\", \"Topic4\", \"Topic4\", \"Topic4\", \"Topic4\", \"Topic4\", \"Topic4\", \"Topic4\", \"Topic4\", \"Topic4\", \"Topic4\", \"Topic4\", \"Topic4\", \"Topic4\", \"Topic4\", \"Topic4\", \"Topic4\", \"Topic4\", \"Topic4\", \"Topic4\", \"Topic4\", \"Topic4\", \"Topic5\", \"Topic5\", \"Topic5\", \"Topic5\", \"Topic5\", \"Topic5\", \"Topic5\", \"Topic5\", \"Topic5\", \"Topic5\", \"Topic5\", \"Topic5\", \"Topic5\", \"Topic5\", \"Topic5\", \"Topic5\", \"Topic5\", \"Topic5\", \"Topic5\", \"Topic5\", \"Topic5\", \"Topic5\", \"Topic5\", \"Topic5\", \"Topic5\", \"Topic5\", \"Topic5\", \"Topic5\", \"Topic5\", \"Topic5\", \"Topic5\", \"Topic5\", \"Topic5\", \"Topic5\", \"Topic5\", \"Topic5\", \"Topic5\", \"Topic5\", \"Topic5\", \"Topic5\", \"Topic5\", \"Topic5\", \"Topic5\", \"Topic5\", \"Topic5\", \"Topic5\", \"Topic5\", \"Topic5\", \"Topic5\", \"Topic5\", \"Topic5\", \"Topic6\", \"Topic6\", \"Topic6\", \"Topic6\", \"Topic6\", \"Topic6\", \"Topic6\", \"Topic6\", \"Topic6\", \"Topic6\", \"Topic6\", \"Topic6\", \"Topic6\", \"Topic6\", \"Topic6\", \"Topic6\", \"Topic6\", \"Topic6\", \"Topic6\", \"Topic6\", \"Topic6\", \"Topic6\", \"Topic6\", \"Topic6\", \"Topic6\", \"Topic6\", \"Topic6\", \"Topic6\", \"Topic6\", \"Topic6\", \"Topic6\", \"Topic6\", \"Topic6\", \"Topic6\", \"Topic6\", \"Topic6\", \"Topic6\", \"Topic6\", \"Topic6\", \"Topic6\", \"Topic6\", \"Topic7\", \"Topic7\", \"Topic7\", \"Topic7\", \"Topic7\", \"Topic7\", \"Topic7\", \"Topic7\", \"Topic7\", \"Topic7\", \"Topic7\", \"Topic7\", \"Topic7\", \"Topic7\", \"Topic7\", \"Topic7\", \"Topic7\", \"Topic7\", \"Topic7\", \"Topic7\", \"Topic7\", \"Topic7\", \"Topic7\", \"Topic7\", \"Topic7\", \"Topic7\", \"Topic7\", \"Topic7\", \"Topic7\", \"Topic7\", \"Topic7\", \"Topic7\", \"Topic7\", \"Topic7\", \"Topic7\", \"Topic7\", \"Topic7\", \"Topic7\", \"Topic7\", \"Topic7\", \"Topic7\", \"Topic7\", \"Topic7\", \"Topic8\", \"Topic8\", \"Topic8\", \"Topic8\", \"Topic8\", \"Topic8\", \"Topic8\", \"Topic8\", \"Topic8\", \"Topic8\", \"Topic8\", \"Topic8\", \"Topic8\", \"Topic8\", \"Topic8\", \"Topic8\", \"Topic8\", \"Topic8\", \"Topic8\", \"Topic8\", \"Topic8\", \"Topic8\", \"Topic8\", \"Topic8\", \"Topic8\", \"Topic8\", \"Topic8\", \"Topic8\", \"Topic8\", \"Topic8\", \"Topic8\", \"Topic8\", \"Topic8\", \"Topic8\", \"Topic8\", \"Topic8\", \"Topic8\", \"Topic8\", \"Topic8\", \"Topic8\", \"Topic8\", \"Topic8\", \"Topic8\", \"Topic8\", \"Topic8\", \"Topic8\", \"Topic9\", \"Topic9\", \"Topic9\", \"Topic9\", \"Topic9\", \"Topic9\", \"Topic9\", \"Topic9\", \"Topic9\", \"Topic9\", \"Topic9\", \"Topic9\", \"Topic9\", \"Topic9\", \"Topic9\", \"Topic9\", \"Topic9\", \"Topic9\", \"Topic9\", \"Topic9\", \"Topic9\", \"Topic9\", \"Topic9\", \"Topic9\", \"Topic9\", \"Topic9\", \"Topic9\", \"Topic9\", \"Topic9\", \"Topic9\", \"Topic9\", \"Topic9\", \"Topic9\", \"Topic9\", \"Topic9\", \"Topic9\", \"Topic9\", \"Topic9\", \"Topic9\", \"Topic9\", \"Topic9\", \"Topic9\", \"Topic9\", \"Topic9\", \"Topic9\", \"Topic9\", \"Topic9\", \"Topic10\", \"Topic10\", \"Topic10\", \"Topic10\", \"Topic10\", \"Topic10\", \"Topic10\", \"Topic10\", \"Topic10\", \"Topic10\", \"Topic10\", \"Topic10\", \"Topic10\", \"Topic10\", \"Topic10\", \"Topic10\", \"Topic10\", \"Topic10\", \"Topic10\", \"Topic10\", \"Topic10\", \"Topic10\", \"Topic10\", \"Topic10\", \"Topic10\", \"Topic10\", \"Topic10\", \"Topic10\", \"Topic10\", \"Topic10\", \"Topic10\", \"Topic10\", \"Topic10\", \"Topic10\", \"Topic10\", \"Topic10\", \"Topic10\", \"Topic10\", \"Topic10\", \"Topic10\", \"Topic10\", \"Topic10\", \"Topic10\", \"Topic11\", \"Topic11\", \"Topic11\", \"Topic11\", \"Topic11\", \"Topic11\", \"Topic11\", \"Topic11\", \"Topic11\", \"Topic11\", \"Topic11\", \"Topic11\", \"Topic11\", \"Topic11\", \"Topic11\", \"Topic11\", \"Topic11\", \"Topic11\", \"Topic11\", \"Topic11\", \"Topic11\", \"Topic11\", \"Topic11\", \"Topic11\", \"Topic11\", \"Topic11\", \"Topic11\", \"Topic11\", \"Topic11\", \"Topic11\", \"Topic11\", \"Topic11\", \"Topic11\", \"Topic11\", \"Topic11\", \"Topic11\", \"Topic11\", \"Topic12\", \"Topic12\", \"Topic12\", \"Topic12\", \"Topic12\", \"Topic12\", \"Topic12\", \"Topic12\", \"Topic12\", \"Topic12\", \"Topic12\", \"Topic12\", \"Topic12\", \"Topic12\", \"Topic12\", \"Topic12\", \"Topic12\", \"Topic12\", \"Topic12\", \"Topic12\", \"Topic12\", \"Topic12\", \"Topic12\", \"Topic12\", \"Topic12\", \"Topic12\", \"Topic12\", \"Topic12\", \"Topic12\", \"Topic12\", \"Topic12\", \"Topic12\", \"Topic12\", \"Topic12\", \"Topic12\", \"Topic12\", \"Topic12\", \"Topic12\", \"Topic12\", \"Topic12\", \"Topic12\", \"Topic12\", \"Topic12\", \"Topic12\", \"Topic12\", \"Topic12\", \"Topic12\", \"Topic12\", \"Topic12\", \"Topic12\", \"Topic12\", \"Topic13\", \"Topic13\", \"Topic13\", \"Topic13\", \"Topic13\", \"Topic13\", \"Topic13\", \"Topic13\", \"Topic13\", \"Topic13\", \"Topic13\", \"Topic13\", \"Topic13\", \"Topic13\", \"Topic13\", \"Topic13\", \"Topic13\", \"Topic13\", \"Topic13\", \"Topic13\", \"Topic13\", \"Topic13\", \"Topic13\", \"Topic13\", \"Topic13\", \"Topic13\", \"Topic13\", \"Topic13\", \"Topic13\", \"Topic13\", \"Topic13\", \"Topic13\", \"Topic13\", \"Topic13\", \"Topic13\", \"Topic13\", \"Topic13\", \"Topic13\", \"Topic13\", \"Topic13\", \"Topic13\", \"Topic13\", \"Topic13\", \"Topic13\", \"Topic13\", \"Topic13\", \"Topic13\", \"Topic13\", \"Topic13\", \"Topic13\", \"Topic13\", \"Topic13\", \"Topic14\", \"Topic14\", \"Topic14\", \"Topic14\", \"Topic14\", \"Topic14\", \"Topic14\", \"Topic14\", \"Topic14\", \"Topic14\", \"Topic14\", \"Topic14\", \"Topic14\", \"Topic14\", \"Topic14\", \"Topic14\", \"Topic14\", \"Topic14\", \"Topic14\", \"Topic14\", \"Topic14\", \"Topic14\", \"Topic14\", \"Topic14\", \"Topic14\", \"Topic14\", \"Topic14\", \"Topic14\", \"Topic14\", \"Topic14\", \"Topic14\", \"Topic14\", \"Topic14\", \"Topic14\", \"Topic14\", \"Topic14\", \"Topic14\", \"Topic14\", \"Topic14\", \"Topic14\", \"Topic14\", \"Topic14\", \"Topic14\", \"Topic14\", \"Topic14\", \"Topic14\", \"Topic14\", \"Topic14\"], \"logprob\": [30.0, 29.0, 28.0, 27.0, 26.0, 25.0, 24.0, 23.0, 22.0, 21.0, 20.0, 19.0, 18.0, 17.0, 16.0, 15.0, 14.0, 13.0, 12.0, 11.0, 10.0, 9.0, 8.0, 7.0, 6.0, 5.0, 4.0, 3.0, 2.0, 1.0, -6.0346, -6.3613, -6.3735, -6.3809, -5.2512, -6.2461, -6.0828, -5.6857, -6.5039, -6.5071, -6.5246, -6.6338, -6.6601, -6.6895, -6.7254, -6.4723, -6.843, -6.9171, -6.9406, -7.0217, -6.8932, -7.0553, -7.0785, -7.0823, -7.0949, -5.9461, -7.1674, -7.1843, -7.2112, -6.9488, -5.1085, -6.7063, -6.7891, -5.8579, -6.278, -5.8277, -6.5033, -5.6704, -6.2966, -5.0589, -5.5089, -5.53, -5.5736, -5.4414, -5.9083, -6.2654, -5.7227, -6.2229, -5.8043, -5.9064, -5.753, -5.9066, -5.7973, -5.8265, -5.9674, -6.2348, -6.0796, -6.2809, -6.2445, -6.2622, -4.7622, -4.833, -4.912, -4.9683, -5.086, -5.2345, -5.2591, -4.5678, -5.4193, -5.561, -5.7395, -5.7447, -5.4258, -5.7909, -5.8668, -5.9638, -6.0005, -5.8963, -6.0845, -6.0962, -5.9438, -6.1482, -6.1483, -6.1553, -6.214, -6.2552, -6.2955, -6.3278, -6.0877, -6.3462, -6.0116, -6.0182, -6.0512, -5.6002, -5.4389, -5.5929, -5.2606, -5.6114, -5.8705, -5.6101, -5.8672, -5.6224, -5.6744, -5.6777, -5.6779, -5.7231, -5.99, -6.1163, -6.0644, -6.2263, -6.3287, -6.499, -6.5687, -6.2105, -6.2945, -6.6981, -6.7063, -6.7815, -6.8681, -6.9231, -6.2817, -7.0325, -7.0348, -7.0411, -5.7244, -6.3035, -7.1781, -7.1812, -7.1842, -6.9954, -7.2503, -5.3932, -5.6212, -5.7506, -6.6764, -5.4951, -5.5493, -5.9281, -6.2774, -5.6909, -5.4824, -5.7042, -5.8524, -5.7367, -5.5975, -5.8017, -5.7197, -5.6369, -5.753, -5.8412, -5.946, -6.0779, -6.0686, -6.1833, -4.7231, -4.9009, -4.808, -5.2303, -5.5413, -5.7231, -5.7231, -5.0056, -5.791, -5.7947, -5.8024, -5.8358, -5.8421, -4.887, -6.0061, -6.0612, -6.0853, -6.001, -6.2131, -6.2277, -6.2606, -6.2752, -6.3673, -6.3699, -6.4164, -6.4291, -6.4617, -6.4831, -6.5184, -6.5295, -5.8413, -5.936, -4.0809, -4.1556, -6.1018, -6.2426, -4.8456, -5.1552, -4.9412, -5.0522, -5.0684, -5.5964, -5.3731, -5.08, -5.7522, -6.0292, -5.5263, -5.7829, -5.655, -5.2911, -4.6679, -4.8359, -4.2014, -6.4823, -6.3551, -5.9039, -6.574, -6.5921, -6.716, -6.721, -5.0221, -6.7955, -6.8969, -6.9375, -6.9403, -6.9746, -6.7986, -5.4903, -6.8046, -7.1657, -6.5868, -7.0062, -7.2081, -6.2901, -7.241, -7.2928, -6.917, -6.9473, -6.4602, -4.9107, -6.069, -6.5948, -6.5838, -6.107, -5.6662, -5.8763, -6.4672, -6.0682, -6.1746, -6.4812, -6.4575, -6.4108, -6.3453, -6.3788, -6.3987, -6.4408, -6.5195, -4.9408, -4.9549, -4.9694, -4.9694, -5.1226, -5.1955, -5.2107, -5.2756, -5.3504, -5.4452, -5.449, -5.4923, -5.4008, -5.5901, -5.5956, -5.7388, -5.8326, -5.8838, -6.1422, -6.1649, -6.1873, -6.2229, -4.9482, -5.7345, -6.3562, -6.3562, -5.173, -6.1776, -5.3404, -6.4756, -6.4756, -5.7202, -5.2751, -6.1539, -4.5196, -4.5952, -5.0384, -5.6964, -5.7804, -5.7152, -5.8701, -4.3189, -4.3195, -4.3395, -4.34, -4.3416, -4.3416, -4.3416, -4.3809, -4.3826, -4.9667, -5.1729, -5.3046, -5.329, -5.3991, -5.4642, -4.3526, -5.3163, -5.9164, -6.0499, -6.0499, -6.1485, -6.2972, -6.3158, -6.3158, -6.3158, -6.3158, -6.3204, -6.5809, -6.6098, -6.6098, -6.276, -6.3058, -5.0036, -4.9192, -4.4583, -4.4562, -4.4902, -5.1932, -5.2321, -5.2296, -5.2226, -5.7345, -5.7439, -4.7022, -5.8464, -5.9022, -5.9022, -5.9133, -5.9947, -6.1261, -6.0245, -6.2296, -6.2296, -6.2362, -6.274, -6.3785, -6.3793, -6.4258, -4.9491, -6.4649, -6.4651, -6.4679, -6.5811, -6.5811, -6.4425, -6.7215, -6.7758, -6.7758, -6.5327, -6.8091, -6.8192, -6.156, -6.8784, -5.5627, -5.5533, -5.8869, -5.749, -6.261, -5.0554, -4.9181, -5.1243, -5.8868, -6.0782, -6.1133, -6.1362, -6.3481, -6.2413, -6.2634, -6.3582, -6.0415, -6.0436, -6.1388, -6.1471, -5.2788, -6.3283, -6.0969, -6.3306, -6.5007, -6.5692, -6.6668, -5.7293, -5.7293, -6.8585, -6.8801, -5.8681, -5.7045, -6.3881, -6.9633, -6.9633, -6.9936, -6.2735, -7.0419, -7.0472, -6.8974, -6.9145, -6.9863, -6.9583, -7.1578, -5.2483, -6.1339, -6.5906, -6.3442, -6.3197, -5.7193, -6.1532, -6.4811, -5.6954, -5.3682, -6.5762, -6.2394, -6.4815, -6.3624, -6.0695, -6.0663, -6.1504, -6.2908, -5.4557, -6.1153, -6.1153, -6.1393, -6.1636, -6.2726, -6.4426, -6.4677, -6.2374, -6.5826, -6.5826, -6.6453, -6.7212, -6.7548, -6.7548, -6.5952, -6.0627, -6.8195, -6.8394, -6.8674, -6.8769, -6.8769, -6.9036, -6.9535, -7.0173, -7.0335, -6.0871, -7.0599, -5.4697, -7.0741, -6.5562, -6.0508, -5.358, -6.6383, -5.6413, -6.3366, -6.5372, -5.8814, -6.2896, -5.8327, -5.8095, -6.3102, -6.211, -4.1728, -4.1828, -4.1516, -5.662, -4.0375, -4.1435, -6.3301, -6.3301, -6.3703, -6.6383, -6.6432, -6.6432, -6.6448, -6.6476, -6.4769, -6.6687, -6.6727, -6.4993, -6.7325, -6.661, -6.9582, -7.082, -7.1009, -6.5432, -5.9458, -7.1431, -6.6186, -6.7998, -6.9191, -7.2315, -6.2151, -5.0301, -4.9638, -5.7614, -6.3585, -6.3554, -6.4878, -6.527, -6.6808, -6.7086, -6.4777, -6.7318, -6.7474, -6.8474, -6.8489, -6.8489, -6.8803, -6.6432, -6.885, -6.9406, -6.9468, -6.9693, -7.0258, -6.8816, -6.7345, -7.1182, -7.1697, -7.006, -7.1957, -7.2074, -7.2543, -7.2543, -7.2543, -7.2543, -7.2695, -7.33, -6.9594, -6.0177, -6.464, -5.9441, -7.0172, -6.9012, -5.5671, -5.6089, -6.1943, -6.5592, -6.8638, -6.2219, -6.2725, -6.5733, -6.8141, -6.4858, -6.658, -6.673, -6.7599, -6.6975, -6.8376, -6.8551, -5.852, -6.2798, -6.3156, -6.1903, -6.5094, -6.5239, -6.8453, -6.8607, -6.895, -6.9887, -6.9999, -6.8048, -6.754, -6.3306, -7.0248, -7.1141, -7.1141, -7.1141, -7.1141, -7.1168, -6.9827, -6.8787, -7.027, -7.2191, -5.7059, -7.3031, -7.3075, -7.3129, -7.1327, -7.1144, -6.2328, -6.5103, -5.9767, -6.1181, -6.1378, -6.9302, -5.7715, -6.9591, -6.2175, -6.9551, -6.9551, -6.7543, -6.4212, -6.0606, -6.3331, -6.0569, -6.7092, -6.8672, -6.2562, -6.4449, -6.6742, -6.7864, -6.1297, -6.6618, -6.8064, -6.8084, -6.0476, -6.972, -7.0296, -7.0296, -6.6329, -7.1316, -7.1375, -7.1638, -7.1793, -7.0162, -7.2506, -7.2616, -7.2931, -7.2931, -7.3318, -7.3472, -7.0329, -7.4316, -7.451, -7.451, -7.451, -7.451, -7.1746, -7.4594, -7.4594, -7.3184, -6.424, -6.5593, -6.7132, -7.2243, -7.3137, -7.1594, -7.2323, -7.0635, -6.6702, -6.9231, -7.0755, -6.9167, -7.158, -6.8994, -7.0681, -7.0798, -7.1511, -7.1109], \"loglift\": [30.0, 29.0, 28.0, 27.0, 26.0, 25.0, 24.0, 23.0, 22.0, 21.0, 20.0, 19.0, 18.0, 17.0, 16.0, 15.0, 14.0, 13.0, 12.0, 11.0, 10.0, 9.0, 8.0, 7.0, 6.0, 5.0, 4.0, 3.0, 2.0, 1.0, 1.9101, 1.8926, 1.8918, 1.8913, 1.8889, 1.8883, 1.887, 1.8865, 1.8831, 1.8828, 1.8816, 1.8732, 1.8711, 1.8686, 1.8655, 1.8595, 1.8547, 1.8472, 1.8447, 1.8358, 1.8322, 1.8319, 1.8291, 1.8287, 1.8272, 1.8196, 1.818, 1.8158, 1.8122, 1.8076, 1.7874, 1.8029, 1.8021, 1.7607, 1.7466, 1.6715, 1.7537, 1.5735, 1.692, 1.4239, 1.4164, 1.4067, 1.3902, 1.2773, 1.4713, 1.581, 1.1504, 1.4709, 0.9803, 1.0798, 0.852, 0.8544, 0.5855, 0.5129, 0.3338, 1.2829, 0.4327, 1.4113, 0.654, 0.3122, 1.9873, 1.9863, 1.9851, 1.9841, 1.982, 1.979, 1.9784, 1.9772, 1.9745, 1.9705, 1.9646, 1.9644, 1.9643, 1.9626, 1.9597, 1.9555, 1.9538, 1.9519, 1.9498, 1.9492, 1.9478, 1.9465, 1.9465, 1.9461, 1.9429, 1.9405, 1.9381, 1.936, 1.9355, 1.9349, 1.9228, 1.9208, 1.9155, 1.8557, 1.7992, 1.8255, 1.0571, 1.1496, 1.4664, 0.7726, 0.6452, 2.0739, 2.072, 2.0719, 2.0719, 2.0604, 2.0581, 2.0513, 2.0458, 2.0446, 2.0378, 2.0249, 2.019, 2.0127, 2.0102, 2.007, 2.0062, 1.9985, 1.989, 1.9825, 1.9818, 1.9687, 1.9684, 1.9676, 1.9658, 1.9611, 1.9482, 1.9478, 1.9473, 1.9459, 1.9371, 1.8409, 1.8337, 1.836, 1.9063, 1.8018, 1.7893, 1.7777, 1.8392, 1.7189, 1.6687, 1.6266, 1.6262, 1.3226, 1.0949, 1.0969, 0.8853, 0.6808, 0.6297, 0.46, 0.6283, 0.7068, 0.4437, 0.9479, 2.4003, 2.3963, 2.3909, 2.3869, 2.3749, 2.366, 2.366, 2.3645, 2.3623, 2.362, 2.3616, 2.3597, 2.3593, 2.3518, 2.3487, 2.3448, 2.343, 2.3365, 2.3329, 2.3316, 2.3288, 2.3275, 2.3189, 2.3187, 2.3141, 2.3128, 2.3094, 2.3071, 2.3032, 2.302, 2.2986, 2.2986, 2.2388, 2.2261, 2.297, 2.289, 1.9781, 1.912, 1.8354, 1.7996, 1.7878, 1.9506, 1.8125, 1.2212, 0.8221, 2.0474, 2.5127, 2.4979, 2.4826, 2.4783, 2.473, 2.4699, 2.4391, 2.4346, 2.4286, 2.424, 2.4229, 2.4205, 2.4029, 2.4022, 2.3914, 2.3907, 2.3737, 2.3666, 2.3661, 2.3598, 2.3487, 2.3478, 2.339, 2.3215, 2.3164, 2.3132, 2.3122, 2.3097, 2.3048, 2.2927, 2.2841, 2.2709, 2.1767, 1.7817, 1.9931, 2.1162, 2.084, 1.7701, 1.4649, 1.1821, 1.6344, 0.5369, 0.7239, 1.4619, 1.2385, 0.92, 0.0374, -0.0776, 0.1136, -0.1231, 0.5397, 2.7081, 2.7076, 2.7071, 2.7071, 2.7013, 2.6982, 2.6975, 2.6945, 2.6909, 2.6858, 2.6856, 2.6831, 2.6816, 2.6771, 2.6768, 2.6669, 2.6598, 2.6341, 2.6311, 2.6287, 2.6263, 2.6223, 2.6144, 2.6064, 2.6062, 2.6062, 2.6027, 2.6021, 2.5928, 2.59, 2.59, 2.5616, 2.4894, 2.5728, 1.93, 1.8986, 1.916, 2.3014, 2.2746, 2.0931, 2.2867, 2.8066, 2.8066, 2.8062, 2.8062, 2.8061, 2.8061, 2.8061, 2.8053, 2.8053, 2.7882, 2.7794, 2.7729, 2.7716, 2.7676, 2.7637, 2.7503, 2.7413, 2.7292, 2.7159, 2.7159, 2.7051, 2.6868, 2.6843, 2.6843, 2.6843, 2.6843, 2.6837, 2.6447, 2.6398, 2.6398, 2.6383, 2.6379, 2.5239, 2.3921, 2.0354, 1.9934, 1.8491, 1.7612, 1.7663, 1.6223, 1.3518, 0.6472, 0.5758, 2.9718, 2.8986, 2.8927, 2.8927, 2.8915, 2.8822, 2.8658, 2.8548, 2.8514, 2.8514, 2.8505, 2.8449, 2.8285, 2.8283, 2.8205, 2.8138, 2.8137, 2.8137, 2.8132, 2.7922, 2.7922, 2.7887, 2.7634, 2.7514, 2.7514, 2.7446, 2.7437, 2.7414, 2.7292, 2.7272, 2.6719, 2.6251, 2.598, 2.3945, 2.5731, 2.1303, 1.9056, 1.943, 2.2045, 1.7838, 1.7395, 1.5754, 1.6749, 0.0784, 0.1183, 0.4376, 2.8922, 2.8919, 2.8795, 2.8784, 2.8636, 2.8515, 2.8349, 2.8253, 2.8218, 2.8089, 2.7891, 2.7827, 2.7827, 2.7455, 2.7402, 2.7391, 2.7384, 2.7222, 2.7188, 2.7188, 2.7107, 2.7073, 2.6975, 2.696, 2.6933, 2.6803, 2.6686, 2.668, 2.6637, 2.6565, 2.5894, 2.6138, 2.5684, 2.5188, 2.3036, 2.333, 2.4536, 2.0161, 1.5686, 2.3988, 1.6135, 2.0273, 1.6986, 0.7867, 0.6524, 0.6262, 0.9531, 2.9017, 2.8865, 2.8865, 2.8833, 2.8799, 2.864, 2.836, 2.8315, 2.8292, 2.8098, 2.8098, 2.7971, 2.7808, 2.7733, 2.7733, 2.7715, 2.7587, 2.7583, 2.7535, 2.7467, 2.7443, 2.7443, 2.7376, 2.7247, 2.7075, 2.7031, 2.6995, 2.6956, 2.6937, 2.6916, 2.6531, 2.5014, 2.022, 2.5061, 1.857, 2.2073, 2.3852, 1.6655, 1.8068, 1.0235, 0.9671, 0.7507, 0.0902, 3.0571, 3.0398, 3.0132, 2.9818, 2.97, 2.9175, 2.8964, 2.8964, 2.8896, 2.8376, 2.8366, 2.8366, 2.8362, 2.8356, 2.8351, 2.831, 2.8301, 2.8174, 2.8166, 2.7877, 2.7595, 2.724, 2.7183, 2.7182, 2.7167, 2.7053, 2.6937, 2.6935, 2.6917, 2.6769, 2.661, 2.4681, 2.4162, 2.335, 2.2098, 2.1414, 1.3206, 2.884, 2.851, 2.8446, 2.8425, 2.8391, 2.8354, 2.8105, 2.8101, 2.8101, 2.8019, 2.8012, 2.8007, 2.7856, 2.7839, 2.7776, 2.7613, 2.7427, 2.7334, 2.7332, 2.7168, 2.7167, 2.7083, 2.7044, 2.6886, 2.6886, 2.6886, 2.6886, 2.6833, 2.6619, 2.6538, 2.6459, 2.6501, 2.5154, 2.6536, 2.615, 2.2857, 2.1027, 2.1634, 2.3198, 2.4763, 1.8013, 1.7475, 2.0757, 2.3407, 1.5371, 1.8141, 1.0192, 1.5545, 0.2663, 1.6503, 2.0695, 3.0673, 3.0548, 3.048, 3.0415, 3.0075, 2.953, 2.9215, 2.917, 2.9069, 2.8779, 2.8744, 2.8693, 2.8684, 2.8674, 2.8663, 2.8362, 2.8362, 2.8362, 2.8362, 2.8353, 2.8196, 2.8142, 2.8073, 2.7985, 2.7747, 2.7665, 2.7647, 2.7626, 2.759, 2.7458, 2.651, 2.6622, 2.5691, 2.5822, 2.5717, 2.7014, 2.2895, 2.7025, 2.0319, 2.654, 2.654, 2.3718, 1.8412, 0.8937, 1.1652, 0.3927, 2.0291, 2.4689, 0.2375, 0.9351, 1.7155, 2.0305, 3.0522, 2.9781, 2.9393, 2.9387, 2.9051, 2.8896, 2.871, 2.871, 2.8409, 2.8361, 2.834, 2.8246, 2.819, 2.8011, 2.7925, 2.7883, 2.7761, 2.7761, 2.7608, 2.7546, 2.7297, 2.7196, 2.7114, 2.7114, 2.7114, 2.7114, 2.7107, 2.7078, 2.7078, 2.6863, 2.643, 2.6267, 2.5323, 2.6504, 2.6704, 2.6139, 2.63, 2.4878, 2.0514, 1.8019, 2.1371, 1.499, 2.3102, -0.1807, 0.4105, -0.5675, 0.7492, -0.6281]}, \"token.table\": {\"Topic\": [10, 1, 14, 12, 8, 9, 12, 12, 7, 8, 5, 3, 6, 8, 14, 13, 2, 2, 2, 1, 2, 3, 4, 7, 3, 12, 7, 1, 9, 2, 1, 2, 3, 5, 6, 9, 10, 14, 6, 13, 3, 13, 1, 2, 14, 6, 8, 10, 13, 1, 2, 3, 4, 5, 8, 9, 11, 5, 13, 1, 2, 2, 1, 2, 3, 4, 5, 8, 9, 10, 11, 14, 13, 6, 8, 12, 14, 6, 13, 14, 8, 9, 12, 9, 1, 2, 3, 4, 5, 13, 1, 2, 3, 5, 6, 7, 10, 11, 12, 12, 12, 7, 11, 2, 3, 5, 6, 10, 14, 2, 3, 5, 1, 10, 4, 10, 1, 2, 3, 5, 9, 12, 1, 3, 5, 9, 6, 13, 3, 3, 3, 1, 3, 5, 13, 7, 2, 4, 1, 1, 2, 3, 4, 5, 8, 11, 13, 11, 5, 7, 7, 6, 8, 1, 3, 5, 3, 2, 1, 4, 13, 7, 13, 7, 10, 6, 3, 10, 9, 8, 9, 12, 10, 8, 13, 12, 2, 9, 10, 1, 4, 7, 8, 11, 2, 12, 9, 1, 3, 5, 6, 7, 13, 1, 4, 5, 6, 7, 13, 9, 14, 1, 2, 1, 2, 3, 4, 5, 6, 10, 1, 6, 4, 5, 6, 10, 6, 1, 5, 6, 13, 4, 9, 12, 1, 3, 5, 8, 12, 7, 10, 4, 10, 4, 8, 10, 8, 14, 7, 6, 10, 12, 8, 1, 13, 2, 2, 2, 2, 2, 2, 1, 12, 4, 8, 10, 3, 8, 12, 12, 8, 9, 12, 8, 8, 9, 12, 8, 1, 2, 3, 9, 3, 1, 2, 3, 5, 6, 8, 9, 10, 12, 14, 14, 12, 4, 8, 10, 4, 1, 2, 3, 5, 14, 1, 2, 3, 4, 5, 6, 8, 10, 12, 11, 12, 7, 4, 6, 7, 8, 9, 10, 8, 13, 9, 5, 14, 10, 4, 4, 4, 6, 1, 12, 1, 2, 3, 9, 14, 8, 1, 9, 1, 3, 5, 12, 11, 14, 10, 3, 5, 5, 8, 12, 3, 3, 3, 9, 9, 3, 3, 1, 9, 3, 9, 9, 1, 7, 5, 11, 6, 13, 10, 5, 12, 7, 14, 12, 11, 1, 9, 13, 12, 9, 4, 1, 3, 8, 9, 11, 12, 4, 8, 10, 4, 6, 7, 8, 9, 10, 11, 3, 5, 3, 2, 3, 9, 14, 3, 6, 7, 8, 9, 12, 13, 4, 5, 13, 1, 3, 4, 5, 6, 11, 13, 8, 5, 6, 10, 11, 4, 3, 4, 5, 6, 8, 11, 13, 8, 3, 5, 3, 5, 1, 8, 12, 10, 11, 13, 11, 5, 5, 13, 4, 7, 8, 4, 4, 10, 11, 4, 5, 6, 7, 13, 14, 10, 4, 6, 11, 7, 4, 7, 13, 14, 8, 8, 7, 7, 6, 10, 6, 1, 2, 3, 4, 5, 7, 9, 1, 2, 3, 5, 9, 4, 8, 13, 14, 10, 1, 4, 6, 13, 8, 1, 1, 10, 11, 4, 8, 6, 13, 3, 9, 3, 4, 5, 1, 3, 4, 5, 6, 11, 7, 10, 5, 8, 9, 12, 1, 13, 13, 11, 7, 5, 6, 3, 12, 1, 2, 3, 4, 5, 9, 14, 1, 2, 8, 14, 6, 6, 6, 6, 10, 5, 12, 11, 1, 4, 7, 4, 8, 6, 8, 4, 8, 9, 10, 5, 6, 6, 5, 6, 10, 11, 4, 12, 5, 6, 13, 6, 5, 14, 14, 1, 3, 9, 3, 4, 9, 4, 1, 1, 1, 2, 3, 1, 2, 3, 4, 14, 9, 12, 6, 4, 5, 6, 11, 11, 10, 14, 7, 7, 2, 11, 10, 10, 4, 8, 10, 6, 10, 3, 14, 9, 10, 5, 7, 11, 4, 10, 14, 1, 9, 7, 12, 14, 3, 9, 1, 2, 3, 4, 5, 6, 8, 11, 13, 8, 1, 2, 3, 4, 5, 7, 5, 4, 2, 3, 5, 12, 2, 3, 5, 14, 4, 8, 1, 3, 1, 2, 3, 4, 5, 6, 8, 9, 10, 13, 13, 8, 14, 14, 3, 4, 8, 10, 1, 8, 12, 8, 9, 9, 8, 9, 12, 8, 9, 12, 6, 10, 14, 1, 5, 9, 4, 6, 7, 6, 7, 12, 5, 12, 12, 1, 2, 5, 9, 7, 4, 13, 5, 5, 5, 2, 8, 1, 2, 3, 9, 14, 14, 2, 10, 14, 10, 10, 6, 3, 2, 2, 2, 9, 9, 9, 12, 1, 9, 1, 4, 10, 9, 13, 8, 12, 3, 11, 8, 13, 10, 11, 10, 11, 13, 10, 11, 13, 11, 3, 11, 11, 7, 1, 12, 7, 13, 3, 5, 5, 3, 5, 5, 3, 5, 3, 5, 3, 5, 1, 3, 5, 3, 5, 5, 2, 7, 11, 5, 1, 9, 13, 1, 3, 9, 1, 3, 1, 3, 1, 13, 5, 9, 10, 9, 5, 7, 6, 11, 2, 14, 3, 4, 6, 11, 13, 9, 12, 4, 4, 4, 7, 8, 14, 12, 3, 10, 11, 13, 14, 1, 3, 5, 5, 2, 13, 4, 1, 7, 12, 13, 14, 5, 14, 14, 12, 14, 7, 13, 6, 2, 8, 2, 2, 3, 11, 13, 1, 3, 4, 5, 7, 10, 12, 3, 5, 4, 1, 3, 10, 10, 3, 4, 5, 13, 4, 6, 7, 8, 9, 11, 2, 1, 2, 3, 4, 5, 9, 4, 8, 13, 14, 8, 10, 3, 4, 8, 10, 11, 13, 13, 8, 6, 1, 2, 3, 5, 1, 9, 12, 2, 9, 8, 3, 14, 14, 6, 6, 10, 11, 11, 1, 3, 14, 3, 5, 1, 2, 3, 2, 14, 1, 2, 3, 4, 5, 10, 13, 1, 3, 5, 8, 11, 13, 3, 5, 6, 1, 8, 14, 4, 8, 4, 14, 14, 4, 1, 2, 3, 4, 5, 6, 10, 14, 10, 11, 4, 3, 1, 2, 3, 4, 5, 6, 10, 13, 14, 1, 3, 5, 8, 1, 2, 4, 5, 6, 13, 6, 4, 5, 6, 7, 13, 14, 6, 1, 3, 1, 2, 3, 5, 9, 10, 12, 1, 3, 1, 5, 7, 13, 1, 3, 5, 4, 7, 8, 1, 3, 5, 8, 1, 3, 5, 1, 1, 3, 7, 12, 2, 1, 1, 2, 3, 4, 5, 6, 11, 13, 11, 9, 12, 1, 8, 12, 8, 9, 12, 12, 12, 8, 1, 2, 3, 4, 5, 9, 12, 1, 2, 2, 2, 11, 3, 7], \"Freq\": [0.904429141142453, 0.3498692748278561, 0.3498692748278561, 0.6994640681535836, 0.2007197132468231, 0.6021591397404694, 0.2007197132468231, 0.7341064732921077, 0.9622424276276377, 0.8082435870114796, 0.8173292038661529, 0.9300024779827206, 0.9775582235170349, 0.7615140510893794, 0.5765226405664613, 0.5665419593237437, 0.9922432327693845, 0.9745717457675279, 0.9238739425936613, 0.11839568481000154, 0.08879676360750116, 0.2663902908225035, 0.17759352721500232, 0.35518705443000465, 0.2455459126888921, 0.7366377380666762, 0.9658509890586424, 0.3931125992119199, 0.5241501322825598, 0.9638940773179544, 0.5146618534061811, 0.1566362162540551, 0.13425961393204724, 0.04475320464401575, 0.022376602322007874, 0.0895064092880315, 0.022376602322007874, 0.022376602322007874, 0.32765535515841965, 0.49148303273762944, 0.7475983264930776, 0.5665419593237437, 0.9594330839893375, 0.9173630746257796, 0.6926612099485588, 0.9356516195817225, 0.24847349128737162, 0.24847349128737162, 0.49694698257474323, 0.06290906066995341, 0.15727265167488355, 0.44036342468967393, 0.12581812133990683, 0.12581812133990683, 0.03145453033497671, 0.03145453033497671, 0.7174082450984999, 0.26028409072106123, 0.5205681814421225, 0.8983606984638646, 0.9799756876476293, 0.9663654081094979, 0.21844421458953522, 0.2548515836877911, 0.18203684549127935, 0.10922210729476761, 0.09101842274563968, 0.03640736909825587, 0.018203684549127935, 0.018203684549127935, 0.018203684549127935, 0.018203684549127935, 0.7346251783564917, 0.9186204798707532, 0.8921660399023061, 0.4283952535718352, 0.6216565344260697, 0.2669994080014834, 0.8009982240044503, 0.4746166263183507, 0.18639582528805032, 0.559187475864151, 0.18639582528805032, 0.6911180218282744, 0.3824138008687236, 0.1912069004343618, 0.23900862554295227, 0.11950431277147613, 0.04780172510859045, 0.8082372234028997, 0.2296748882011219, 0.13780493292067314, 0.13780493292067314, 0.015311659213408126, 0.030623318426816253, 0.38279148033520316, 0.015311659213408126, 0.015311659213408126, 0.015311659213408126, 0.481256910414833, 0.6831956259569844, 0.9460262700786704, 0.7078157889399163, 0.0478394152011459, 0.6219123976148967, 0.0956788304022918, 0.0478394152011459, 0.0956788304022918, 0.0478394152011459, 0.8418466449700214, 0.04676925805389008, 0.04676925805389008, 0.8763271662025821, 0.8961854180563031, 0.8364606927834912, 0.707825408842947, 0.593260447926036, 0.1186520895852072, 0.0593260447926036, 0.0593260447926036, 0.1186520895852072, 0.451226531721085, 0.7325518888088545, 0.1465103777617709, 0.04883679258725696, 0.04883679258725696, 0.9356516195817225, 0.48842827075853584, 0.8701790411045007, 0.8790439491311598, 0.8789656375755626, 0.20796940046842896, 0.7070959615926584, 0.041593880093685795, 0.534277929147069, 0.8281730781935283, 0.9353059799328359, 0.9798153049296029, 0.8635251256267951, 0.25585426273826845, 0.287836045580552, 0.22387247989598488, 0.11193623994799244, 0.07995445710570888, 0.015990891421141778, 0.5689992500677344, 0.6383450439075107, 0.4969629679229871, 0.7371285069651158, 0.9944828882173501, 0.945979856195422, 0.9603821633818215, 0.7114608578767537, 0.801557565385587, 0.1988497092270591, 0.7953988369082364, 0.8390225479479996, 0.9446782423228365, 0.7988668919908086, 0.8458784085242426, 0.5675431851282072, 0.8665551390194869, 0.5665419593237437, 0.8434985369869602, 0.8154008013331687, 0.8437898629707237, 0.8658607483548064, 0.7429116047207762, 0.8184084141128721, 0.25517024552305945, 0.12758512276152972, 0.5103404910461189, 0.8778135245463429, 0.4027935831806245, 0.4027935831806245, 0.8696627825384216, 0.9160743138209173, 0.8199589954178739, 0.8101466233169075, 0.09301958868603222, 0.27905876605809665, 0.09301958868603222, 0.5581175321161933, 0.8980257679762286, 0.9779727706456178, 0.01880716866626188, 0.7941381272539344, 0.04047394437547882, 0.04047394437547882, 0.12142183312643645, 0.08094788875095764, 0.6475831100076611, 0.04047394437547882, 0.028322118184061076, 0.08496635455218322, 0.028322118184061076, 0.42483177276091616, 0.3398654182087329, 0.08496635455218322, 0.7679965232318096, 0.830795257065459, 0.9784167879778657, 0.9590355494125608, 0.6066607317628739, 0.08666581882326771, 0.12999872823490158, 0.043332909411633855, 0.043332909411633855, 0.043332909411633855, 0.043332909411633855, 0.9348435534520949, 0.8786691579752177, 0.05203014090865729, 0.05203014090865729, 0.8845123954471739, 0.9420510260808687, 0.9381556753445939, 0.8836146835599324, 0.7586448847299371, 0.32463667913464966, 0.48695501870197455, 0.9725390412406163, 0.9211584896306158, 0.9051313318096725, 0.05945756479841137, 0.5351180831857023, 0.23783025919364548, 0.11891512959682274, 0.5132546242228497, 0.8762924373885355, 0.7237731527184559, 0.2530557016715656, 0.5061114033431312, 0.6461817935725175, 0.32309089678625874, 0.024853145906635288, 0.828074029125307, 0.7004136878669339, 0.8234383615504673, 0.25572619370505584, 0.25572619370505584, 0.5114523874101117, 0.9684166729616289, 0.30656984850905555, 0.30656984850905555, 0.9897677648449124, 0.9606452651537024, 0.9442279706533584, 0.9809789014295649, 0.9275859440378345, 0.9098181723507005, 0.3077757145811925, 0.615551429162385, 0.9633744690386318, 0.18977332118710719, 0.7590932847484287, 0.25841090759766894, 0.3876163613965034, 0.25841090759766894, 0.6607767907528912, 0.3938007947762047, 0.2625338631841365, 0.2625338631841365, 0.8671609441772935, 0.24156443045786877, 0.36234664568680314, 0.36234664568680314, 0.8407094656270159, 0.6910564518419612, 0.13821129036839222, 0.06910564518419611, 0.06910564518419611, 0.7456506805796289, 0.5832051612151912, 0.14138306938550088, 0.12371018571231328, 0.03534576734637522, 0.01767288367318761, 0.01767288367318761, 0.01767288367318761, 0.01767288367318761, 0.01767288367318761, 0.01767288367318761, 0.6258773316222696, 0.808856053330841, 0.6024170384155233, 0.3487677590826714, 0.03170615991660649, 0.8833620700409311, 0.08253574025637256, 0.04126787012818628, 0.6190180519227942, 0.2063393506409314, 0.04126787012818628, 0.19336237250034558, 0.24170296562543198, 0.1691920759378024, 0.19336237250034558, 0.07251088968762959, 0.024170296562543197, 0.07251088968762959, 0.024170296562543197, 0.5623529844240553, 0.5805735616005622, 0.1935245205335207, 0.9389649828380536, 0.5453276725497008, 0.09483959522603493, 0.0711296964195262, 0.04741979761301746, 0.09483959522603493, 0.11854949403254365, 0.9545482605954492, 0.476767856322115, 0.866617416368127, 0.8034907560427836, 0.5308838688567963, 0.9150276105980462, 0.9737252651598329, 0.9426065715181671, 0.9253764506241664, 0.9229065754975531, 0.4626399807057053, 0.3084266538038035, 0.6809816121764987, 0.07566462357516653, 0.07566462357516653, 0.11349693536274978, 0.03783231178758326, 0.7811412743467248, 0.8044992777766058, 0.13408321296276762, 0.8549007818889391, 0.08014694830208804, 0.026715649434029348, 0.026715649434029348, 0.7087230961065608, 0.6380780632446909, 0.9151419239693349, 0.10346683177982524, 0.8898147533064971, 0.9180878998520059, 0.19408196290389407, 0.38816392580778813, 0.9524566981001639, 0.9493491856682938, 0.9411898572673956, 0.959037133680477, 0.8433169119195535, 0.8772807012995029, 0.9528884395556112, 0.29307353233660877, 0.6594154477573697, 0.9785918542815244, 0.8987648808289146, 0.866617416368127, 0.8105110788839699, 0.9220701999283392, 0.8926790774553344, 0.9700337978755462, 0.19500715084499745, 0.5850214525349924, 0.6321563907009052, 0.8613503466097242, 0.5679992096902546, 0.9622424276276376, 0.5860569764446413, 0.7617416610940765, 0.8069066225860084, 0.2136252202657748, 0.6408756607973244, 0.2136252202657748, 0.5409405695701816, 0.7866085232908654, 0.9577434259815831, 0.592314764207988, 0.059231476420798804, 0.059231476420798804, 0.11846295284159761, 0.059231476420798804, 0.11846295284159761, 0.5353884667288931, 0.42831077338311446, 0.035692564448592874, 0.5391818635228064, 0.1027013073376774, 0.07702598050325805, 0.0513506536688387, 0.1027013073376774, 0.12837663417209677, 0.7586147867816462, 0.164081481311113, 0.656325925244452, 0.973455112764035, 0.48845484457865673, 0.12211371114466418, 0.12211371114466418, 0.12211371114466418, 0.176573608191384, 0.088286804095692, 0.088286804095692, 0.44143402047846003, 0.088286804095692, 0.088286804095692, 0.088286804095692, 0.5170418546789155, 0.2068167418715662, 0.3102251128073493, 0.033798846977693836, 0.3041896227992445, 0.16899423488846918, 0.33798846977693836, 0.10139654093308151, 0.033798846977693836, 0.033798846977693836, 0.9887912949792917, 0.1330567743676979, 0.5322270974707916, 0.1330567743676979, 0.19958516155154685, 0.9034852714218976, 0.0712633576346571, 0.0712633576346571, 0.4275801458079426, 0.2137900729039713, 0.0712633576346571, 0.0712633576346571, 0.0712633576346571, 0.9554973825925307, 0.4287461293913035, 0.600244581147825, 0.1370714746100723, 0.8224288476604339, 0.34573830216539403, 0.115246100721798, 0.34573830216539403, 0.34679499256678586, 0.5201924888501788, 0.08669874814169647, 0.511685229015332, 0.8906849258884204, 0.8735102855150971, 0.5339831546973355, 0.8306741484744704, 0.11182151998694793, 0.047923508565834834, 0.8711697484367772, 0.9494793761505363, 0.037037029436692626, 0.9629627653540084, 0.01709670099377988, 0.01709670099377988, 0.4445142258382769, 0.427417524844497, 0.05129010298133964, 0.01709670099377988, 0.8682729128982054, 0.9602910965606544, 0.8371691486215249, 0.06439762681704038, 0.8762924373885355, 0.9856068158015817, 0.9752618925415061, 0.9452927352504288, 0.588591250072372, 0.7674037239905629, 0.8690834385450712, 0.8665551390194869, 0.8622521324449146, 0.9419079840955996, 0.9325860305653857, 0.8731354235037384, 0.19368420648846527, 0.07747368259538612, 0.23242104778615832, 0.19368420648846527, 0.05810526194653958, 0.23242104778615832, 0.01936842064884653, 0.49750105149695134, 0.1492503154490854, 0.1492503154490854, 0.049750105149695134, 0.09950021029939027, 0.26173306426034015, 0.6543326606508504, 0.5665419593237437, 0.9247958612237936, 0.8318773895358599, 0.9492259549994787, 0.6285416731502185, 0.10475694552503641, 0.20951389105007281, 0.7401029552842245, 0.9365900012632837, 0.9520624780818682, 0.648624067391795, 0.8977113067075332, 0.18555080596375173, 0.5566524178912552, 0.9385846846869597, 0.4244879358663811, 0.8997464311432467, 0.9176537715849463, 0.8867424736134502, 0.05911616490756334, 0.05911616490756334, 0.021794557088238593, 0.37050747050005606, 0.06538367126471578, 0.45768569885301047, 0.043589114176477185, 0.021794557088238593, 0.8434985369869602, 0.8154008013331687, 0.20314639745401836, 0.20314639745401836, 0.20314639745401836, 0.4062927949080367, 0.94558692712088, 0.5250622648511528, 0.6059953566483803, 0.7051209768124205, 0.9219622313150406, 0.7561137466502176, 0.8437898629707237, 0.8262985320483177, 0.9245986927495637, 0.5843702910462703, 0.027827156716489058, 0.055654313432978116, 0.055654313432978116, 0.055654313432978116, 0.22261725373191246, 0.027827156716489058, 0.1663741917031748, 0.3327483834063496, 0.1663741917031748, 0.1663741917031748, 0.9089654202858652, 0.9557370127356061, 0.9460027851617889, 0.8909770488329188, 0.7926363999577072, 0.7432789946466679, 0.7754119783361707, 0.7243353565542877, 0.921809572289882, 0.8879757923910893, 0.9801792001115627, 0.846043607787654, 0.7422054972164387, 0.28896420442123577, 0.6742498103162169, 0.1271476298628027, 0.8264595941082176, 0.7394918381592382, 0.14789836763184766, 0.10681734645365522, 0.8545387716292417, 0.8332903583187845, 0.1324314291794398, 0.1324314291794398, 0.2648628583588796, 0.3972942875383194, 0.9163452093163961, 0.8666821802420718, 0.18240448354759958, 0.36480896709519917, 0.36480896709519917, 0.9522979185065604, 0.27095190657830015, 0.27095190657830015, 0.7882753424526734, 0.8335776146782143, 0.10419720183477679, 0.8860637762030534, 0.9516317673801982, 0.9443298607623846, 0.042924084580108386, 0.8716500430602704, 0.9713622914115466, 0.897003342885407, 0.24137891566915093, 0.06896540447690026, 0.6551713425305525, 0.43760504429711905, 0.07293417404951985, 0.21880252214855953, 0.21880252214855953, 0.07293417404951985, 0.806750930837314, 0.13445848847288566, 0.946764208401562, 0.09426227475876879, 0.09426227475876879, 0.6598359233113815, 0.09426227475876879, 0.8242360320400494, 0.6818619785666514, 0.5188306686466508, 0.8762924373885355, 0.8762924373885355, 0.958331557331034, 0.7220621008503096, 0.7533084077315239, 0.7807433355335468, 0.6147127155324097, 0.10245211925540162, 0.2561302981385041, 0.9913528957815559, 0.8863916366896165, 0.9380107487238006, 0.4695965524663976, 0.7528922766728564, 0.12548204611214273, 0.1422412213072931, 0.1422412213072931, 0.4267236639218794, 0.9892398619813592, 0.3801809881390309, 0.3801809881390309, 0.09291767459803388, 0.8362590713823049, 0.9577946003420412, 0.5623529844240553, 0.7037505723450762, 0.8838356933286361, 0.8194906515186352, 0.08990504291147061, 0.38958851928303934, 0.23974678109725497, 0.10488921673004906, 0.07492086909289218, 0.044952521455735306, 0.014984173818578436, 0.014984173818578436, 0.014984173818578436, 0.8027441564795158, 0.2678561844674412, 0.10714247378697647, 0.37499865825441764, 0.053571236893488236, 0.16071371068046472, 0.026785618446744118, 0.7867582258532216, 0.8227703969563154, 0.15712957337889977, 0.15712957337889977, 0.6285182935155991, 0.5623529844240553, 0.1658208244653434, 0.1658208244653434, 0.1658208244653434, 0.3316416489306868, 0.9689822303630845, 0.8704340840630753, 0.09054319066248234, 0.7243455252998587, 0.12571258245015082, 0.06285629122507541, 0.12571258245015082, 0.15714072806268856, 0.25142516490030165, 0.15714072806268856, 0.031428145612537706, 0.031428145612537706, 0.031428145612537706, 0.031428145612537706, 0.5177821976109367, 0.8487670836082808, 0.7036151441120367, 0.5982321563652881, 0.9300983725753316, 0.9764754544398191, 0.8683107269579546, 0.9216933851201189, 0.6598048632283092, 0.08247560790353865, 0.24742682371061597, 0.2052167581959666, 0.6156502745878999, 0.8145854708998339, 0.4020880573986552, 0.4020880573986552, 0.13402935246621842, 0.2782226296160612, 0.2782226296160612, 0.41733394442409183, 0.9237483097143728, 0.8632081616309952, 0.594442652147204, 0.5995820158998973, 0.08565457369998533, 0.256963721099956, 0.16080793343062635, 0.6432317337225054, 0.16080793343062635, 0.06571301300605027, 0.9199821820847038, 0.8458407148856054, 0.9043962525052952, 0.846799948368526, 0.784662241207702, 0.04504635014370024, 0.8558806527303044, 0.04504635014370024, 0.9072811307256023, 0.9950173661944174, 0.26062262881171816, 0.6515565720292954, 0.9604252111957876, 0.8873090747019011, 0.7401065232327847, 0.6317791055820046, 0.28079071359200203, 0.03761423450194432, 0.8275131590427751, 0.07522846900388865, 0.03761423450194432, 0.7004136878669339, 0.7004136878669339, 0.27994610951250093, 0.5598922190250019, 0.13997305475625046, 0.7023838971866205, 0.809575187836347, 0.9218948016045135, 0.9409809988361579, 0.9483863264004104, 0.989395563531928, 0.9909164066626466, 0.8014508717443176, 0.8215046680117849, 0.6446510028360803, 0.2148836676120268, 0.1661082678862166, 0.6644330715448664, 0.27765224447673537, 0.13882612223836768, 0.416478366715103, 0.8923438861810318, 0.5045064138554904, 0.8684854656708151, 0.5451641340830646, 0.792613126711182, 0.8242360320400494, 0.4027935831806245, 0.4027935831806245, 0.09452431961351387, 0.8507188765216249, 0.059737607808544486, 0.8960641171281672, 0.029868803904272243, 0.2927404771150422, 0.5366908747109106, 0.1463702385575211, 0.7102746319687719, 0.15629309611823256, 0.6251723844729302, 0.5432792640452647, 0.9642180931258065, 0.9522281151818797, 0.7456225489447112, 0.9622424276276376, 0.8163185642638232, 0.14681003309130994, 0.7340501654565497, 0.9216132744726191, 0.30470187976259105, 0.6094037595251821, 0.7131297479815322, 0.13447409328465784, 0.8516692574694996, 0.06826708148188941, 0.921605600005507, 0.06398906462894581, 0.8958469048052414, 0.08920322987276587, 0.44601614936382933, 0.3568129194910635, 0.11184689979007562, 0.8947751983206049, 0.8062619421683371, 0.9072399192355501, 0.9520308018655774, 0.4904592495115876, 0.9246772767114179, 0.9497295967387913, 0.7908516280465816, 0.48860048042140436, 0.8254391085434598, 0.11005854780579465, 0.05502927390289732, 0.7966745105644779, 0.07966745105644779, 0.9207585681204336, 0.03410216918964568, 0.967633352455803, 0.705819143219003, 0.20268865215330883, 0.20268865215330883, 0.6080659564599264, 0.7337634088631153, 0.7915823543683014, 0.9109045450220722, 0.9065078277017368, 0.1133134784627171, 0.26384414894582786, 0.5276882978916557, 0.08513886823175727, 0.17027773646351455, 0.595972077622301, 0.08513886823175727, 0.9182562362289848, 0.498061350689694, 0.9056602218076293, 0.8656761557480476, 0.9191956510382022, 0.840794088348918, 0.10509926104361475, 0.06005672059635129, 0.4960301102440302, 0.5906336493828975, 0.13908812366173606, 0.13908812366173606, 0.13908812366173606, 0.5563524946469443, 0.525342224299086, 0.9382369131651214, 0.8743863104811002, 0.7614483453430332, 0.8821735046909515, 0.9669481719100107, 0.5211069490642491, 0.9689822303630845, 0.6621587112672168, 0.11035978521120281, 0.22071957042240561, 0.828577724865793, 0.6592320367534023, 0.28000700284237123, 0.5600140056847425, 0.6267617171296669, 0.5623529844240553, 0.7037505723450762, 0.9746288352516578, 0.6400455563034941, 0.9913528957815559, 0.9773820281254696, 0.8921660399023061, 0.9692841072553485, 0.9399565899582629, 0.9066266072061926, 0.59869266175975, 0.299346330879875, 0.050236904051281644, 0.050236904051281644, 0.050236904051281644, 0.050236904051281644, 0.7535535607692246, 0.050236904051281644, 0.8179098926994387, 0.8399493950804421, 0.10499367438505526, 0.8404989627027971, 0.26796191545952136, 0.6699047886488033, 0.7429116047207762, 0.8778135245463429, 0.25694692167637356, 0.17129794778424903, 0.08564897389212452, 0.34259589556849807, 0.5368058214084513, 0.07668654591549305, 0.3067461836619722, 0.025562181971831015, 0.025562181971831015, 0.025562181971831015, 0.9895566134691436, 0.3268024935609511, 0.4201746345783657, 0.14005821152612188, 0.023343035254353647, 0.046686070508707295, 0.023343035254353647, 0.9410694496190543, 0.9545482605954492, 0.6421491056620784, 0.6380780632446909, 0.9009887414992861, 0.7328334227735054, 0.09268239670750163, 0.9268239670750162, 0.7764959081299084, 0.648624067391795, 0.6861728377225264, 0.43798266038094386, 0.8596527357559794, 0.7422054972164387, 0.9473969663630796, 0.14984867349105546, 0.037462168372763865, 0.7492433674552773, 0.037462168372763865, 0.8730113995873432, 0.806750930837314, 0.13445848847288566, 0.9426986656040744, 0.5374616720108458, 0.8087843895926357, 0.23422081015592688, 0.46844162031185377, 0.7004136878669339, 0.9625716827380773, 0.17748273532709286, 0.2662241029906393, 0.44370683831773217, 0.9019689484592643, 0.8259689568661134, 0.08259689568661134, 0.5184744134092104, 0.08050247126965844, 0.925778419601072, 0.29066010852737645, 0.5813202170547529, 0.08304574529353613, 0.9056774471202786, 0.5390669498914108, 0.4439038546372727, 0.15667194869550802, 0.235007923043262, 0.07833597434775401, 0.05222398289850267, 0.026111991449251335, 0.026111991449251335, 0.05329869993730966, 0.7461817991223352, 0.10659739987461932, 0.05329869993730966, 0.9203892576079241, 0.4119409604431393, 0.0753740160161851, 0.0753740160161851, 0.8291141761780361, 0.8584065700578596, 0.9501973362801668, 0.578733407420943, 0.9170061732123428, 0.10188957480137142, 0.9393373756044294, 0.5390669498914108, 0.6531736178315525, 0.9625345317149544, 0.19160350269885615, 0.10317111683784562, 0.19160350269885615, 0.2947746195367018, 0.07369365488417545, 0.044216192930505265, 0.058954923907340355, 0.9234845690560598, 0.03495632799928397, 0.9438208559806672, 0.9675355978108878, 0.7973028527749013, 0.3395152814541005, 0.059914461433076556, 0.2995723071653828, 0.09985743572179426, 0.13980041001051197, 0.01997148714435885, 0.01997148714435885, 0.01997148714435885, 0.01997148714435885, 0.09344177171859248, 0.7475341737487399, 0.09344177171859248, 0.04672088585929624, 0.0869955909686983, 0.1739911819373966, 0.6959647277495864, 0.33720678534002624, 0.16860339267001312, 0.33720678534002624, 0.9672579145428275, 0.01786805410714334, 0.01786805410714334, 0.4288332985714402, 0.4467013526785835, 0.053604162321430025, 0.01786805410714334, 0.9643125563823672, 0.9913147131146812, 0.821572525660813, 0.571814756685542, 0.08577221350283132, 0.1429536891713855, 0.05718147566855421, 0.028590737834277104, 0.028590737834277104, 0.05718147566855421, 0.892560605759906, 0.06375432898285043, 0.35694776760581504, 0.11898258920193834, 0.11898258920193834, 0.23796517840387668, 0.19945256799000638, 0.718029244764023, 0.039890513598001276, 0.203776970555674, 0.101888485277837, 0.713219396944859, 0.8652407358465554, 0.4567764430272637, 0.3045176286848425, 0.15225881434242125, 0.06004511128856135, 0.7205413354627361, 0.18013533386568403, 0.9856661350548924, 0.8732302256025688, 0.9509138434925163, 0.8042546876754095, 0.846799948368526, 0.9836502120726398, 0.8322067841834387, 0.577713231344336, 0.1925710771147787, 0.1650609232412389, 0.06367524282340462, 0.06367524282340462, 0.7641029138808554, 0.06367524282340462, 0.943182551826267, 0.8521807437621589, 0.1564737932309536, 0.6258951729238144, 0.5754352309646523, 0.08220503299495034, 0.246615098984851, 0.24735273459560395, 0.4947054691912079, 0.24735273459560395, 0.9096955008908671, 0.531550286147851, 0.9501973362801668, 0.409324606628883, 0.23389977521650454, 0.1754248314123784, 0.058474943804126135, 0.058474943804126135, 0.029237471902063068, 0.029237471902063068, 0.9456637116004863, 0.05253687286669369, 0.9744596425007732, 0.9633769768500162, 0.7078157889399163, 0.7494873619606215, 0.8797826905264586], \"Term\": [\"11 mi\", \"1948 is\", \"1948 is\", \"1986 in\", \"1990 is\", \"1990 is\", \"1990 is\", \"1991 is\", \"2006 census\", \"academic journal\", \"academy is\", \"added to\", \"administrative district\", \"adults are\", \"ad\\u0131yaman province\", \"ahmad province\", \"album by\", \"album released\", \"album was\", \"also known\", \"also known\", \"also known\", \"also known\", \"also known\", \"also played\", \"also played\", \"also romanized\", \"american politician\", \"american politician\", \"an album\", \"an american\", \"an american\", \"an american\", \"an american\", \"an american\", \"an american\", \"an american\", \"an american\", \"an elevation\", \"an elevation\", \"and added\", \"and boyer\", \"and commissioned\", \"and directed\", \"and ecuador\", \"and herzegovina\", \"and illustrated\", \"and illustrated\", \"and illustrated\", \"and is\", \"and is\", \"and is\", \"and is\", \"and is\", \"and is\", \"and is\", \"and mixed\", \"and municipality\", \"and municipality\", \"and politician\", \"and produced\", \"and starring\", \"and the\", \"and the\", \"and the\", \"and the\", \"and the\", \"and the\", \"and the\", \"and the\", \"and the\", \"and the\", \"ankara province\", \"approximately kilometres\", \"arctiidae family\", \"are on\", \"are to\", \"area is\", \"area is\", \"argentina and\", \"as midfielder\", \"as midfielder\", \"as midfielder\", \"as striker\", \"as the\", \"as the\", \"as the\", \"as the\", \"as the\", \"at an\", \"at the\", \"at the\", \"at the\", \"at the\", \"at the\", \"at the\", \"at the\", \"at the\", \"at the\", \"australian football\", \"australian rules\", \"azerbaijan province\", \"baden w\\u00fcrttemberg\", \"based in\", \"based in\", \"based in\", \"based in\", \"based in\", \"based in\", \"based on\", \"based on\", \"based on\", \"basketball player\", \"bavaria germany\", \"be found\", \"belongs to\", \"best known\", \"best known\", \"best known\", \"best known\", \"best known\", \"born 22\", \"born in\", \"born in\", \"born in\", \"born in\", \"bosnia and\", \"boyer ahmad\", \"building in\", \"building located\", \"building was\", \"built in\", \"built in\", \"built in\", \"bushehr province\", \"but its\", \"by american\", \"by habitat\", \"by mrs\", \"by the\", \"by the\", \"by the\", \"by the\", \"by the\", \"by the\", \"canton of\", \"catarina state\", \"catholic diocese\", \"catholic school\", \"census its\", \"central district\", \"central poland\", \"chief is\", \"class destroyer\", \"co educational\", \"co educational\", \"college of\", \"comedy film\", \"commissioned on\", \"common names\", \"county bushehr\", \"county kerman\", \"county kohgiluyeh\", \"county lorestan\", \"county lower\", \"county masovian\", \"county new\", \"crambidae family\", \"currently playing\", \"currently plays\", \"currently plays\", \"currently plays\", \"daisy family\", \"de janeiro\", \"de janeiro\", \"death metal\", \"debut album\", \"democratic member\", \"democratic republic\", \"described by\", \"described by\", \"described by\", \"described by\", \"destroyer in\", \"directed by\", \"directed by\", \"district from\", \"district in\", \"district in\", \"district in\", \"district in\", \"district in\", \"district in\", \"district of\", \"district of\", \"district of\", \"district of\", \"district of\", \"district of\", \"district since\", \"district tamil\", \"down on\", \"drama film\", \"during the\", \"during the\", \"during the\", \"during the\", \"during the\", \"during the\", \"during the\", \"during world\", \"east central\", \"east of\", \"east of\", \"east of\", \"eastern brazil\", \"eastern poland\", \"elected to\", \"elementary school\", \"elevation of\", \"elevation of\", \"endemic to\", \"engineering college\", \"english footballer\", \"established in\", \"established in\", \"established in\", \"established in\", \"event at\", \"existence was\", \"fabaceae it\", \"family fabaceae\", \"family fabaceae\", \"family it\", \"family it\", \"family it\", \"family orchidaceae\", \"family pyramidellidae\", \"fars province\", \"feature film\", \"feature film\", \"feature film\", \"feed on\", \"film based\", \"film based\", \"film directed\", \"film festival\", \"film is\", \"film starring\", \"film was\", \"first published\", \"first studio\", \"first studio\", \"flowering plant\", \"flowering plants\", \"flowering plants\", \"football league\", \"football league\", \"football league\", \"football midfielder\", \"football player\", \"football player\", \"football player\", \"footballer he\", \"footballer who\", \"footballer who\", \"footballer who\", \"for fc\", \"for his\", \"for his\", \"for his\", \"for his\", \"for profit\", \"for the\", \"for the\", \"for the\", \"for the\", \"for the\", \"for the\", \"for the\", \"for the\", \"for the\", \"for the\", \"forewings are\", \"former australian\", \"found in\", \"found in\", \"found in\", \"found only\", \"founded in\", \"founded in\", \"founded in\", \"founded in\", \"founded in\", \"from the\", \"from the\", \"from the\", \"from the\", \"from the\", \"from the\", \"from the\", \"from the\", \"fruit flies\", \"full length\", \"full length\", \"gastropod mollusk\", \"genus of\", \"genus of\", \"genus of\", \"genus of\", \"genus of\", \"genus of\", \"geometridae family\", \"germany at\", \"grade ii\", \"grades 12\", \"growing in\", \"habitat consists\", \"habitat is\", \"habitat loss\", \"habitats are\", \"has population\", \"he also\", \"he also\", \"he is\", \"he is\", \"he is\", \"he is\", \"he is\", \"he plays\", \"he served\", \"he served\", \"he was\", \"he was\", \"he was\", \"he was\", \"headwater of\", \"hepialidae family\", \"hesse germany\", \"high school\", \"high school\", \"high schools\", \"his career\", \"his career\", \"historic district\", \"historic home\", \"historic places\", \"hockey league\", \"hockey player\", \"home located\", \"house is\", \"house of\", \"house of\", \"house was\", \"ice hockey\", \"ii listed\", \"in command\", \"in families\", \"in grades\", \"in romania\", \"in southeastern\", \"in southeastern\", \"independent record\", \"independent school\", \"indian feature\", \"iran at\", \"is 1918\", \"is 1976\", \"is beetle\", \"is brazilian\", \"is brazilian\", \"is brazilian\", \"is croatian\", \"is democratic\", \"is endemic\", \"is former\", \"is former\", \"is former\", \"is former\", \"is former\", \"is former\", \"is found\", \"is found\", \"is found\", \"is genus\", \"is genus\", \"is genus\", \"is genus\", \"is genus\", \"is genus\", \"is headwater\", \"is high\", \"is high\", \"is historic\", \"is japanese\", \"is japanese\", \"is japanese\", \"is japanese\", \"is known\", \"is known\", \"is known\", \"is known\", \"is known\", \"is known\", \"is known\", \"is lake\", \"is lake\", \"is lake\", \"is located\", \"is located\", \"is located\", \"is located\", \"is located\", \"is located\", \"is located\", \"is moth\", \"is mountain\", \"is mountain\", \"is mountain\", \"is mountain\", \"is native\", \"is part\", \"is part\", \"is part\", \"is part\", \"is part\", \"is part\", \"is part\", \"is peer\", \"is private\", \"is private\", \"is public\", \"is public\", \"is retired\", \"is retired\", \"is retired\", \"is river\", \"is river\", \"is river\", \"is roman\", \"is school\", \"is secondary\", \"is shopping\", \"is species\", \"is species\", \"is species\", \"is subtropical\", \"is threatened\", \"is tributary\", \"is tributary\", \"is village\", \"is village\", \"is village\", \"is village\", \"is village\", \"is village\", \"it belongs\", \"it grows\", \"it lies\", \"it lies\", \"its existence\", \"its natural\", \"its population\", \"its surface\", \"japanese football\", \"journal covering\", \"journal of\", \"kerman province\", \"khorasan province\", \"kilometres mi\", \"kingdom of\", \"km mi\", \"known as\", \"known as\", \"known as\", \"known as\", \"known as\", \"known as\", \"known as\", \"known for\", \"known for\", \"known for\", \"known for\", \"known for\", \"known from\", \"known from\", \"kohgiluyeh and\", \"korea it\", \"label based\", \"laid down\", \"lake in\", \"lake in\", \"lake in\", \"larvae feed\", \"launched on\", \"league baseball\", \"legume family\", \"length album\", \"length of\", \"length of\", \"lies approximately\", \"lies at\", \"listed on\", \"loan from\", \"located at\", \"located at\", \"located at\", \"located in\", \"located in\", \"located in\", \"located in\", \"located in\", \"located in\", \"lorestan province\", \"lower silesian\", \"made his\", \"made his\", \"made his\", \"made his\", \"major league\", \"mall in\", \"manga was\", \"mare river\", \"marine gastropod\", \"mascot is\", \"masovian voivodeship\", \"massachusetts the\", \"medical journal\", \"member of\", \"member of\", \"member of\", \"member of\", \"member of\", \"member of\", \"member of\", \"members of\", \"members of\", \"members of\", \"members of\", \"mi east\", \"mi north\", \"mi south\", \"mi west\", \"mic river\", \"middle school\", \"midfielder who\", \"mile long\", \"minister of\", \"moist montane\", \"mollusk in\", \"montane forests\", \"mordellidae family\", \"moth in\", \"moth in\", \"moth of\", \"moth of\", \"moths of\", \"moths of\", \"mountain in\", \"mountain in\", \"mountain is\", \"mountain of\", \"mountain of\", \"mountain of\", \"mountain of\", \"mountain range\", \"movie directed\", \"municipality in\", \"municipality in\", \"municipality in\", \"municipality of\", \"museum of\", \"museum of\", \"nadu india\", \"named for\", \"named for\", \"national hockey\", \"national register\", \"native to\", \"native to\", \"natural habitat\", \"navy during\", \"navy she\", \"new york\", \"new york\", \"new york\", \"new zealand\", \"new zealand\", \"new zealand\", \"new zealand\", \"new zealand\", \"noctuidae family\", \"noctuidae family\", \"north east\", \"north of\", \"north of\", \"north of\", \"north of\", \"north rhine\", \"northern poland\", \"northwest of\", \"not reported\", \"noted but\", \"novel by\", \"of baden\", \"of bavaria\", \"of congo\", \"of flowering\", \"of flowering\", \"of flowering\", \"of gmina\", \"of hesse\", \"of historic\", \"of mexico\", \"of moths\", \"of moths\", \"of north\", \"of north\", \"of north\", \"of plant\", \"of poland\", \"of poland\", \"of representatives\", \"of representatives\", \"of sea\", \"of tephritid\", \"of thanjavur\", \"offices in\", \"on loan\", \"on the\", \"on the\", \"on the\", \"on the\", \"on the\", \"on the\", \"on the\", \"on the\", \"on the\", \"on wing\", \"one of\", \"one of\", \"one of\", \"one of\", \"one of\", \"one of\", \"only high\", \"only in\", \"opened in\", \"opened in\", \"opened in\", \"or fruit\", \"or the\", \"or the\", \"or the\", \"or the\", \"or tropical\", \"orchid family\", \"owned by\", \"owned by\", \"part of\", \"part of\", \"part of\", \"part of\", \"part of\", \"part of\", \"part of\", \"part of\", \"part of\", \"part of\", \"pass is\", \"peer reviewed\", \"pennsylvania house\", \"pennsylvania in\", \"places in\", \"plant in\", \"plants from\", \"plants in\", \"played for\", \"played for\", \"played for\", \"playing for\", \"playing for\", \"playing with\", \"plays as\", \"plays as\", \"plays as\", \"plays for\", \"plays for\", \"plays for\", \"poland it\", \"poland prior\", \"poland tributary\", \"politician and\", \"politician and\", \"politician and\", \"population of\", \"population of\", \"population of\", \"population was\", \"population was\", \"premier league\", \"primary school\", \"priory in\", \"priory was\", \"produced by\", \"produced by\", \"produced by\", \"professional ice\", \"province iran\", \"province turkey\", \"province turkey\", \"public high\", \"public school\", \"public schools\", \"published by\", \"published by\", \"published in\", \"published in\", \"published in\", \"published in\", \"pyramidellidae the\", \"pyrams and\", \"record label\", \"record label\", \"record label\", \"records is\", \"records was\", \"regional capital\", \"register of\", \"released by\", \"released in\", \"released on\", \"representatives from\", \"representatives representing\", \"representing district\", \"representing district\", \"representing the\", \"representing the\", \"republic of\", \"republic of\", \"republic of\", \"republican member\", \"restaurant chain\", \"reviewed academic\", \"reviewed medical\", \"revival style\", \"rhine westphalia\", \"rio de\", \"rio de\", \"river in\", \"river in\", \"river is\", \"river is\", \"river is\", \"river of\", \"river of\", \"river of\", \"river or\", \"roman catholic\", \"roman catholic\", \"romania the\", \"romanized as\", \"royal navy\", \"rules footballer\", \"rural district\", \"santa catarina\", \"school and\", \"school and\", \"school district\", \"school for\", \"school for\", \"school has\", \"school in\", \"school in\", \"school is\", \"school is\", \"school located\", \"school located\", \"school of\", \"school of\", \"school of\", \"school was\", \"school was\", \"schools in\", \"science fiction\", \"sea snail\", \"second full\", \"secondary school\", \"secretary of\", \"senate representing\", \"serialized in\", \"served as\", \"served as\", \"served as\", \"she is\", \"she is\", \"she was\", \"she was\", \"ship of\", \"shopping mall\", \"short story\", \"short story\", \"short story\", \"since january\", \"sixth form\", \"snail marine\", \"south east\", \"south east\", \"south korea\", \"south korea\", \"south of\", \"south of\", \"south of\", \"south of\", \"southeastern brazil\", \"spanish footballer\", \"species found\", \"species in\", \"species is\", \"species of\", \"species of\", \"species of\", \"stan laurel\", \"star wars\", \"state in\", \"state in\", \"state in\", \"state in\", \"state owned\", \"states navy\", \"street in\", \"students from\", \"students in\", \"studio album\", \"subfamily of\", \"subtropical or\", \"summer olympics\", \"summer olympics\", \"summer olympics\", \"surface area\", \"sydney australia\", \"taluk of\", \"taluk of\", \"tamil nadu\", \"tephritid or\", \"thanjavur district\", \"the 2006\", \"the 60th\", \"the administrative\", \"the album\", \"the arctiidae\", \"the band\", \"the book\", \"the building\", \"the canton\", \"the canton\", \"the central\", \"the central\", \"the central\", \"the central\", \"the central\", \"the central\", \"the club\", \"the college\", \"the college\", \"the common\", \"the company\", \"the company\", \"the crambidae\", \"the daisy\", \"the district\", \"the district\", \"the district\", \"the district\", \"the family\", \"the family\", \"the family\", \"the family\", \"the family\", \"the family\", \"the film\", \"the first\", \"the first\", \"the first\", \"the first\", \"the first\", \"the first\", \"the genus\", \"the geometridae\", \"the gila\", \"the hepialidae\", \"the journal\", \"the label\", \"the lake\", \"the lake\", \"the larvae\", \"the legume\", \"the line\", \"the mall\", \"the manga\", \"the mordellidae\", \"the municipality\", \"the national\", \"the national\", \"the national\", \"the national\", \"the navy\", \"the noctuidae\", \"the noctuidae\", \"the novel\", \"the ohio\", \"the orchid\", \"the pennsylvania\", \"the pennsylvania\", \"the pyrams\", \"the regional\", \"the river\", \"the river\", \"the river\", \"the roman\", \"the royal\", \"the royal\", \"the r\\u00e2ul\", \"the school\", \"the school\", \"the second\", \"the second\", \"the second\", \"the story\", \"the timi\\u015f\", \"the united\", \"the united\", \"the united\", \"the united\", \"the united\", \"the united\", \"the united\", \"the university\", \"the university\", \"the university\", \"the university\", \"the valea\", \"the valley\", \"the village\", \"the village\", \"the village\", \"the war\", \"the wingspan\", \"their allies\", \"this species\", \"this species\", \"threatened by\", \"timi\\u015f river\", \"to bolivia\", \"to ecuador\", \"to the\", \"to the\", \"to the\", \"to the\", \"to the\", \"to the\", \"to the\", \"to venezuela\", \"tributary of\", \"tributary of\", \"tropical moist\", \"two story\", \"united states\", \"united states\", \"united states\", \"united states\", \"united states\", \"united states\", \"united states\", \"united states\", \"united states\", \"university of\", \"university of\", \"university of\", \"university of\", \"up to\", \"up to\", \"up to\", \"village and\", \"village and\", \"village and\", \"village has\", \"village in\", \"village in\", \"village in\", \"village in\", \"village in\", \"village in\", \"voivodeship in\", \"war ii\", \"was added\", \"was an\", \"was an\", \"was an\", \"was an\", \"was an\", \"was an\", \"was an\", \"was born\", \"was born\", \"was british\", \"was british\", \"was british\", \"was british\", \"was built\", \"was built\", \"was built\", \"was described\", \"was described\", \"was described\", \"was elected\", \"was established\", \"was established\", \"was established\", \"was founded\", \"was founded\", \"was founded\", \"was laid\", \"was launched\", \"was listed\", \"was noted\", \"was priory\", \"was released\", \"was sold\", \"was the\", \"was the\", \"was the\", \"west of\", \"west of\", \"west of\", \"west of\", \"western brazil\", \"westphalia germany\", \"who currently\", \"who currently\", \"who played\", \"who played\", \"who played\", \"who plays\", \"who plays\", \"who plays\", \"wholly owned\", \"wing from\", \"wingspan is\", \"with the\", \"with the\", \"with the\", \"with the\", \"with the\", \"with the\", \"with the\", \"world war\", \"world war\", \"written and\", \"written by\", \"w\\u00fcrttemberg germany\", \"york it\", \"\\u0627\\u0628\\u0627\\u062f also\"]}, \"R\": 30, \"lambda.step\": 0.01, \"plot.opts\": {\"xlab\": \"PC1\", \"ylab\": \"PC2\"}, \"topic.order\": [8, 4, 2, 14, 3, 7, 5, 11, 6, 10, 13, 9, 1, 12]};\n",
       "\n",
       "function LDAvis_load_lib(url, callback){\n",
       "  var s = document.createElement('script');\n",
       "  s.src = url;\n",
       "  s.async = true;\n",
       "  s.onreadystatechange = s.onload = callback;\n",
       "  s.onerror = function(){console.warn(\"failed to load library \" + url);};\n",
       "  document.getElementsByTagName(\"head\")[0].appendChild(s);\n",
       "}\n",
       "\n",
       "if(typeof(LDAvis) !== \"undefined\"){\n",
       "   // already loaded: just create the visualization\n",
       "   !function(LDAvis){\n",
       "       new LDAvis(\"#\" + \"ldavis_el4496027919197365288954342074\", ldavis_el4496027919197365288954342074_data);\n",
       "   }(LDAvis);\n",
       "}else if(typeof define === \"function\" && define.amd){\n",
       "   // require.js is available: use it to load d3/LDAvis\n",
       "   require.config({paths: {d3: \"https://cdnjs.cloudflare.com/ajax/libs/d3/3.5.5/d3.min\"}});\n",
       "   require([\"d3\"], function(d3){\n",
       "      window.d3 = d3;\n",
       "      LDAvis_load_lib(\"https://cdn.rawgit.com/bmabey/pyLDAvis/files/ldavis.v1.0.0.js\", function(){\n",
       "        new LDAvis(\"#\" + \"ldavis_el4496027919197365288954342074\", ldavis_el4496027919197365288954342074_data);\n",
       "      });\n",
       "    });\n",
       "}else{\n",
       "    // require.js not available: dynamically load d3 & LDAvis\n",
       "    LDAvis_load_lib(\"https://cdnjs.cloudflare.com/ajax/libs/d3/3.5.5/d3.min.js\", function(){\n",
       "         LDAvis_load_lib(\"https://cdn.rawgit.com/bmabey/pyLDAvis/files/ldavis.v1.0.0.js\", function(){\n",
       "                 new LDAvis(\"#\" + \"ldavis_el4496027919197365288954342074\", ldavis_el4496027919197365288954342074_data);\n",
       "            })\n",
       "         });\n",
       "}\n",
       "</script>"
      ],
      "text/plain": [
       "PreparedData(topic_coordinates=                x           y  topics  cluster       Freq\n",
       "topic                                                    \n",
       "7        1.425140 -203.131439       1        1  14.126962\n",
       "3       93.696953  -55.018154       2        1  13.515724\n",
       "1      141.694016   25.320429       3        1  12.119197\n",
       "13    -126.233505    5.739788       4        1   8.885470\n",
       "2      -59.868134  101.519302       5        1   7.694081\n",
       "6      151.966629  133.119141       6        1   6.436622\n",
       "4       12.542690 -101.441658       7        1   5.917578\n",
       "10      49.372585   57.773476       8        1   4.939563\n",
       "5      203.505997  -84.541840       9        1   4.852186\n",
       "9      119.923477 -166.068970      10        1   4.830525\n",
       "12     -19.315592   -8.882428      11        1   4.595170\n",
       "8      -95.841057 -109.373474      12        1   4.463056\n",
       "0       37.554749  165.057098      13        1   3.829652\n",
       "11     243.648911   32.733547      14        1   3.794214, topic_info=              Term       Freq      Total Category  logprob  loglift\n",
       "13984   species of  66.000000  66.000000  Default  30.0000  30.0000\n",
       "8772    is species  62.000000  62.000000  Default  29.0000  29.0000\n",
       "7149   high school  48.000000  48.000000  Default  28.0000  28.0000\n",
       "8826    is village  58.000000  58.000000  Default  27.0000  27.0000\n",
       "5223   directed by  53.000000  53.000000  Default  26.0000  26.0000\n",
       "...            ...        ...        ...      ...      ...      ...\n",
       "1628   an american   1.415297  44.689537  Topic14  -6.8994  -0.1807\n",
       "3155      based in   1.195623  20.903266  Topic14  -7.0681   0.4105\n",
       "2424       and the   1.181725  54.933934  Topic14  -7.0798  -0.5675\n",
       "10651  new zealand   1.100437  13.710994  Topic14  -7.1511   0.7492\n",
       "6250       for the   1.145586  56.583861  Topic14  -7.1109  -0.6281\n",
       "\n",
       "[689 rows x 6 columns], token_table=       Topic      Freq                 Term\n",
       "term                                       \n",
       "35        10  0.904429                11 mi\n",
       "377        1  0.349869              1948 is\n",
       "377       14  0.349869              1948 is\n",
       "611       12  0.699464              1986 in\n",
       "643        8  0.200720              1990 is\n",
       "...      ...       ...                  ...\n",
       "17707      2  0.974460          written and\n",
       "17709      2  0.963377           written by\n",
       "17720     11  0.707816  württemberg germany\n",
       "17787      3  0.749487              york it\n",
       "17842      7  0.879783            اباد also\n",
       "\n",
       "[1063 rows x 3 columns], R=30, lambda_step=0.01, plot_opts={'xlab': 'PC1', 'ylab': 'PC2'}, topic_order=[8, 4, 2, 14, 3, 7, 5, 11, 6, 10, 13, 9, 1, 12])"
      ]
     },
     "execution_count": 124,
     "metadata": {},
     "output_type": "execute_result"
    }
   ],
   "source": [
    "import pyLDAvis.sklearn\n",
    " \n",
    "pyLDAvis.enable_notebook()\n",
    "\n",
    "panel = pyLDAvis.sklearn.prepare(pipeline.named_steps.topic_modelling, \n",
    "                                 pipeline.named_steps.dataprep.transform(X_train), \n",
    "                                 pipeline.named_steps.dataprep.named_steps.count_vectorizer, \n",
    "                                 mds='tsne')\n",
    "\n",
    "panel"
   ]
  },
  {
   "cell_type": "code",
   "execution_count": null,
   "metadata": {
    "ExecuteTime": {
     "end_time": "2020-12-09T18:22:12.656048Z",
     "start_time": "2020-12-09T18:21:58.389Z"
    }
   },
   "outputs": [],
   "source": [
    "X_train"
   ]
  },
  {
   "cell_type": "code",
   "execution_count": null,
   "metadata": {
    "ExecuteTime": {
     "end_time": "2020-12-09T18:22:12.657044Z",
     "start_time": "2020-12-09T18:21:58.392Z"
    }
   },
   "outputs": [],
   "source": [
    "dbpedia_df.sample(10000).to_csv('sample_dbpedia.csv', index=False)"
   ]
  },
  {
   "cell_type": "code",
   "execution_count": null,
   "metadata": {
    "ExecuteTime": {
     "end_time": "2020-12-09T18:22:12.658041Z",
     "start_time": "2020-12-09T18:21:58.394Z"
    }
   },
   "outputs": [],
   "source": [
    "pd.read_csv('imdb_dataset.csv').sample(5000).to_csv('sample_imdb.csv', index=False)"
   ]
  },
  {
   "cell_type": "code",
   "execution_count": null,
   "metadata": {
    "ExecuteTime": {
     "end_time": "2020-12-09T18:22:12.658041Z",
     "start_time": "2020-12-09T18:21:58.397Z"
    }
   },
   "outputs": [],
   "source": [
    "dbpedia_df.sample(10000).to_csv('sample_dbpedia.csv', index=False)"
   ]
  }
 ],
 "metadata": {
  "kernelspec": {
   "display_name": "Python 3",
   "language": "python",
   "name": "python3"
  },
  "language_info": {
   "codemirror_mode": {
    "name": "ipython",
    "version": 3
   },
   "file_extension": ".py",
   "mimetype": "text/x-python",
   "name": "python",
   "nbconvert_exporter": "python",
   "pygments_lexer": "ipython3",
   "version": "3.9.0"
  },
  "toc": {
   "base_numbering": 1,
   "nav_menu": {},
   "number_sections": true,
   "sideBar": true,
   "skip_h1_title": false,
   "title_cell": "Table of Contents",
   "title_sidebar": "Contents",
   "toc_cell": false,
   "toc_position": {},
   "toc_section_display": true,
   "toc_window_display": false
  },
  "varInspector": {
   "cols": {
    "lenName": 16,
    "lenType": 16,
    "lenVar": 40
   },
   "kernels_config": {
    "python": {
     "delete_cmd_postfix": "",
     "delete_cmd_prefix": "del ",
     "library": "var_list.py",
     "varRefreshCmd": "print(var_dic_list())"
    },
    "r": {
     "delete_cmd_postfix": ") ",
     "delete_cmd_prefix": "rm(",
     "library": "var_list.r",
     "varRefreshCmd": "cat(var_dic_list()) "
    }
   },
   "types_to_exclude": [
    "module",
    "function",
    "builtin_function_or_method",
    "instance",
    "_Feature"
   ],
   "window_display": false
  }
 },
 "nbformat": 4,
 "nbformat_minor": 2
}
