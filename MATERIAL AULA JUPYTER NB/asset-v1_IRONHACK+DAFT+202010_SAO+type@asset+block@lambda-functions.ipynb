{
 "cells": [
  {
   "cell_type": "code",
   "execution_count": 1,
   "metadata": {
    "ExecuteTime": {
     "end_time": "2020-11-02T00:56:54.511934Z",
     "start_time": "2020-11-02T00:56:47.853425Z"
    }
   },
   "outputs": [],
   "source": [
    "import re\n",
    "import numpy as np\n",
    "import pandas as pd"
   ]
  },
  {
   "cell_type": "markdown",
   "metadata": {},
   "source": [
    "# Function definitions"
   ]
  },
  {
   "cell_type": "markdown",
   "metadata": {},
   "source": [
    "Broken into tokens:\n",
    "\n",
    "> <b>def </b>\n",
    "- Tell python that you're starting to create a function\n",
    "\n",
    "> <b>function_name</b>\n",
    "- you give that function a name for a future call\n",
    "\n",
    "> <b>(</b>\n",
    "- Open parenthesis to give arguments (or variables) that you'll use in that functions. These helps you parametrize code.\n",
    "\n",
    "> <b>[OPTIONAL] arg1, arg2, arg3, ... </b>\n",
    "- The arguments of that function\n",
    "\n",
    "> <b>)</b>\n",
    "- CLose parenthesis to say you're done creating arguments\n",
    "\n",
    "> <b>:</b>\n",
    "- colon to say you're about to start a `code block`\n",
    "\n",
    "> <b>code block</b>\n",
    "- where you effectively do something with (or without) the arguments\n",
    "\n",
    "> <b>return</b>\n",
    "- The return statement tells you're done with the function. Whether you'll return something from that or not is optional\n",
    "\n",
    "> <b>[OPTIONAL] something</b>\n",
    "- The `something` you're allowed to retur.\n",
    "\n"
   ]
  },
  {
   "cell_type": "markdown",
   "metadata": {},
   "source": [
    "```python\n",
    "def function_name(arg1):\n",
    "    something = arg1 + 10\n",
    "    return something\n",
    "```"
   ]
  },
  {
   "cell_type": "code",
   "execution_count": null,
   "metadata": {
    "ExecuteTime": {
     "end_time": "2020-08-31T14:01:07.253951Z",
     "start_time": "2020-08-31T14:01:07.244949Z"
    },
    "scrolled": true
   },
   "outputs": [],
   "source": [
    "def function_name(arg1):\n",
    "    something = arg1 + 10\n",
    "    return something\n",
    "\n",
    "function_name(30)"
   ]
  },
  {
   "cell_type": "code",
   "execution_count": null,
   "metadata": {
    "ExecuteTime": {
     "end_time": "2020-08-31T14:01:29.608944Z",
     "start_time": "2020-08-31T14:01:29.604946Z"
    }
   },
   "outputs": [],
   "source": [
    "function_name(54)"
   ]
  },
  {
   "cell_type": "markdown",
   "metadata": {},
   "source": [
    "# What is a lambda function?\n",
    "\n",
    "https://realpython.com/python-lambda/\n",
    "\n",
    "\n",
    "> Named after `lambda calculus`.\n",
    "\n",
    "> Usually refers to `anonymous functions`"
   ]
  },
  {
   "cell_type": "markdown",
   "metadata": {},
   "source": [
    "## Defining lambda functions"
   ]
  },
  {
   "cell_type": "code",
   "execution_count": null,
   "metadata": {
    "ExecuteTime": {
     "end_time": "2020-08-31T14:02:06.407529Z",
     "start_time": "2020-08-31T14:02:06.404529Z"
    }
   },
   "outputs": [],
   "source": [
    "def half(x):\n",
    "    return x/2"
   ]
  },
  {
   "cell_type": "code",
   "execution_count": null,
   "metadata": {
    "ExecuteTime": {
     "end_time": "2020-08-31T14:03:20.982794Z",
     "start_time": "2020-08-31T14:03:20.979795Z"
    }
   },
   "outputs": [],
   "source": [
    "lambda x : x/2"
   ]
  },
  {
   "cell_type": "code",
   "execution_count": null,
   "metadata": {
    "ExecuteTime": {
     "end_time": "2020-08-31T14:03:47.259308Z",
     "start_time": "2020-08-31T14:03:47.255305Z"
    }
   },
   "outputs": [],
   "source": [
    "lambda arg1 : arg1 + 10"
   ]
  },
  {
   "cell_type": "code",
   "execution_count": null,
   "metadata": {
    "ExecuteTime": {
     "end_time": "2020-08-31T14:04:21.604035Z",
     "start_time": "2020-08-31T14:04:21.600035Z"
    }
   },
   "outputs": [],
   "source": [
    "(lambda arg1 : arg1 + 10)(30)"
   ]
  },
  {
   "cell_type": "code",
   "execution_count": null,
   "metadata": {
    "ExecuteTime": {
     "end_time": "2020-08-31T14:04:40.588042Z",
     "start_time": "2020-08-31T14:04:40.584042Z"
    }
   },
   "outputs": [],
   "source": [
    "(lambda arg1 : arg1 + 10)(35)"
   ]
  },
  {
   "cell_type": "code",
   "execution_count": null,
   "metadata": {
    "ExecuteTime": {
     "end_time": "2020-08-31T14:04:55.346746Z",
     "start_time": "2020-08-31T14:04:55.342749Z"
    }
   },
   "outputs": [],
   "source": [
    "function_name = lambda arg1 : arg1 + 10"
   ]
  },
  {
   "cell_type": "code",
   "execution_count": null,
   "metadata": {
    "ExecuteTime": {
     "end_time": "2020-08-31T14:05:01.297539Z",
     "start_time": "2020-08-31T14:05:01.293538Z"
    }
   },
   "outputs": [],
   "source": [
    "function_name(30)"
   ]
  },
  {
   "cell_type": "code",
   "execution_count": 4,
   "metadata": {
    "ExecuteTime": {
     "end_time": "2020-11-02T00:58:42.244854Z",
     "start_time": "2020-11-02T00:58:42.222865Z"
    }
   },
   "outputs": [],
   "source": [
    "# map\n",
    "example_list = [1,4,5,8]"
   ]
  },
  {
   "cell_type": "code",
   "execution_count": null,
   "metadata": {
    "ExecuteTime": {
     "end_time": "2020-08-31T14:06:19.832114Z",
     "start_time": "2020-08-31T14:06:19.829112Z"
    }
   },
   "outputs": [],
   "source": [
    "def half(x):\n",
    "    return x / 2 "
   ]
  },
  {
   "cell_type": "code",
   "execution_count": null,
   "metadata": {
    "ExecuteTime": {
     "end_time": "2020-08-31T14:06:21.453324Z",
     "start_time": "2020-08-31T14:06:21.450322Z"
    }
   },
   "outputs": [],
   "source": [
    "list(map(half, example_list))"
   ]
  },
  {
   "cell_type": "code",
   "execution_count": null,
   "metadata": {
    "ExecuteTime": {
     "end_time": "2020-08-31T14:06:51.223176Z",
     "start_time": "2020-08-31T14:06:51.219177Z"
    }
   },
   "outputs": [],
   "source": [
    "list(map(lambda x : x/2, example_list))"
   ]
  },
  {
   "cell_type": "markdown",
   "metadata": {},
   "source": [
    "## More than 1 argument"
   ]
  },
  {
   "cell_type": "code",
   "execution_count": null,
   "metadata": {
    "ExecuteTime": {
     "end_time": "2020-08-31T14:07:26.139062Z",
     "start_time": "2020-08-31T14:07:26.135063Z"
    }
   },
   "outputs": [],
   "source": [
    "def my_sum(a , b):\n",
    "    return a + b"
   ]
  },
  {
   "cell_type": "code",
   "execution_count": 14,
   "metadata": {
    "ExecuteTime": {
     "end_time": "2020-11-02T01:06:05.767245Z",
     "start_time": "2020-11-02T01:06:05.749257Z"
    }
   },
   "outputs": [
    {
     "data": {
      "text/plain": [
       "20"
      ]
     },
     "execution_count": 14,
     "metadata": {},
     "output_type": "execute_result"
    }
   ],
   "source": [
    "add_args = lambda a, b : a + b\n",
    "add_args(10, 20)"
   ]
  },
  {
   "cell_type": "code",
   "execution_count": 2,
   "metadata": {
    "ExecuteTime": {
     "end_time": "2020-11-02T00:58:03.460255Z",
     "start_time": "2020-11-02T00:58:03.429275Z"
    }
   },
   "outputs": [
    {
     "data": {
      "text/plain": [
       "40"
      ]
     },
     "execution_count": 2,
     "metadata": {},
     "output_type": "execute_result"
    }
   ],
   "source": [
    "(lambda a, b : a + b)(10, 30)"
   ]
  },
  {
   "cell_type": "code",
   "execution_count": null,
   "metadata": {
    "ExecuteTime": {
     "end_time": "2020-08-31T14:08:50.149989Z",
     "start_time": "2020-08-31T14:08:50.146952Z"
    }
   },
   "outputs": [],
   "source": [
    "from functools import reduce"
   ]
  },
  {
   "cell_type": "code",
   "execution_count": null,
   "metadata": {
    "ExecuteTime": {
     "end_time": "2020-08-31T14:25:19.858009Z",
     "start_time": "2020-08-31T14:25:19.854005Z"
    }
   },
   "outputs": [],
   "source": [
    "example_list"
   ]
  },
  {
   "cell_type": "code",
   "execution_count": null,
   "metadata": {
    "ExecuteTime": {
     "end_time": "2020-08-31T14:25:20.151246Z",
     "start_time": "2020-08-31T14:25:20.148274Z"
    }
   },
   "outputs": [],
   "source": [
    "reduce(lambda acc, value : acc + value, example_list)"
   ]
  },
  {
   "cell_type": "markdown",
   "metadata": {},
   "source": [
    "## Conditions"
   ]
  },
  {
   "cell_type": "code",
   "execution_count": null,
   "metadata": {
    "ExecuteTime": {
     "end_time": "2020-08-31T14:09:53.790183Z",
     "start_time": "2020-08-31T14:09:53.786182Z"
    }
   },
   "outputs": [],
   "source": [
    "def safe_div(num, denom):\n",
    "    \"\"\"\n",
    "    Return the division of num by denom. \n",
    "    In case denom is 0, return 0\n",
    "    \"\"\"\n",
    "    if denom != 0:\n",
    "        return num/denom\n",
    "    else:\n",
    "        return 0"
   ]
  },
  {
   "cell_type": "code",
   "execution_count": null,
   "metadata": {
    "ExecuteTime": {
     "end_time": "2020-08-31T14:09:54.228397Z",
     "start_time": "2020-08-31T14:09:54.221397Z"
    }
   },
   "outputs": [],
   "source": [
    "9/0"
   ]
  },
  {
   "cell_type": "code",
   "execution_count": null,
   "metadata": {
    "ExecuteTime": {
     "end_time": "2020-08-31T14:10:09.946099Z",
     "start_time": "2020-08-31T14:10:09.943098Z"
    }
   },
   "outputs": [],
   "source": [
    "safe_div(9, 0)"
   ]
  },
  {
   "cell_type": "code",
   "execution_count": 27,
   "metadata": {
    "ExecuteTime": {
     "end_time": "2020-11-02T01:34:39.669296Z",
     "start_time": "2020-11-02T01:34:39.638067Z"
    }
   },
   "outputs": [],
   "source": [
    "example_tuples=[(10,20),(30,0),(60,30)]"
   ]
  },
  {
   "cell_type": "code",
   "execution_count": 28,
   "metadata": {
    "ExecuteTime": {
     "end_time": "2020-11-02T01:35:06.126549Z",
     "start_time": "2020-11-02T01:35:06.104389Z"
    }
   },
   "outputs": [
    {
     "data": {
      "text/plain": [
       "[0.5, 0, 2.0]"
      ]
     },
     "execution_count": 28,
     "metadata": {},
     "output_type": "execute_result"
    }
   ],
   "source": [
    "[(a/b if b != 0 else 0) for a,b in example_tuples]"
   ]
  },
  {
   "cell_type": "code",
   "execution_count": null,
   "metadata": {
    "ExecuteTime": {
     "end_time": "2020-08-31T14:11:43.420569Z",
     "start_time": "2020-08-31T14:11:43.416567Z"
    }
   },
   "outputs": [],
   "source": [
    "(lambda num, denom : num/denom if denom != 0 else 0)(9, 3)"
   ]
  },
  {
   "cell_type": "markdown",
   "metadata": {},
   "source": [
    "# Applications\n",
    "\n"
   ]
  },
  {
   "cell_type": "markdown",
   "metadata": {},
   "source": [
    "## map"
   ]
  },
  {
   "cell_type": "code",
   "execution_count": null,
   "metadata": {
    "ExecuteTime": {
     "end_time": "2020-08-31T14:13:37.341961Z",
     "start_time": "2020-08-31T14:13:37.338958Z"
    }
   },
   "outputs": [],
   "source": [
    "example_list = [1,4,6,7,10,31,13]"
   ]
  },
  {
   "cell_type": "code",
   "execution_count": null,
   "metadata": {
    "ExecuteTime": {
     "end_time": "2020-08-31T14:13:39.051564Z",
     "start_time": "2020-08-31T14:13:39.048564Z"
    }
   },
   "outputs": [],
   "source": [
    "def half(x):\n",
    "    return x/2"
   ]
  },
  {
   "cell_type": "code",
   "execution_count": null,
   "metadata": {
    "ExecuteTime": {
     "end_time": "2020-08-31T14:13:43.773599Z",
     "start_time": "2020-08-31T14:13:43.770597Z"
    }
   },
   "outputs": [],
   "source": [
    "list(map(half, example_list))"
   ]
  },
  {
   "cell_type": "code",
   "execution_count": null,
   "metadata": {
    "ExecuteTime": {
     "end_time": "2020-08-31T14:13:46.711082Z",
     "start_time": "2020-08-31T14:13:46.706081Z"
    }
   },
   "outputs": [],
   "source": [
    "list(map(lambda x : x/2, example_list))"
   ]
  },
  {
   "cell_type": "markdown",
   "metadata": {},
   "source": [
    "## filter"
   ]
  },
  {
   "cell_type": "code",
   "execution_count": null,
   "metadata": {
    "ExecuteTime": {
     "end_time": "2020-08-31T14:14:00.219150Z",
     "start_time": "2020-08-31T14:14:00.216122Z"
    }
   },
   "outputs": [],
   "source": [
    "def check_if_even(x):\n",
    "    if x % 2 == 0:\n",
    "        return True\n",
    "    else:\n",
    "        return False\n",
    "    \n",
    "# def check_if_even(x):\n",
    "#     return x % 2 == 0"
   ]
  },
  {
   "cell_type": "code",
   "execution_count": null,
   "metadata": {
    "ExecuteTime": {
     "end_time": "2020-08-31T14:14:01.957156Z",
     "start_time": "2020-08-31T14:14:01.954153Z"
    }
   },
   "outputs": [],
   "source": [
    "example_list"
   ]
  },
  {
   "cell_type": "code",
   "execution_count": null,
   "metadata": {
    "ExecuteTime": {
     "end_time": "2020-08-31T14:14:04.107367Z",
     "start_time": "2020-08-31T14:14:04.104366Z"
    },
    "scrolled": true
   },
   "outputs": [],
   "source": [
    "list(filter(check_if_even, example_list))"
   ]
  },
  {
   "cell_type": "code",
   "execution_count": null,
   "metadata": {
    "ExecuteTime": {
     "end_time": "2020-08-31T14:15:01.077211Z",
     "start_time": "2020-08-31T14:15:01.074248Z"
    }
   },
   "outputs": [],
   "source": [
    "list(filter(lambda x : x % 2 == 0, example_list))"
   ]
  },
  {
   "cell_type": "markdown",
   "metadata": {},
   "source": [
    "## Using lambdas to order stuff\n"
   ]
  },
  {
   "cell_type": "code",
   "execution_count": 10,
   "metadata": {
    "ExecuteTime": {
     "end_time": "2020-11-02T01:01:27.212410Z",
     "start_time": "2020-11-02T01:01:27.199436Z"
    }
   },
   "outputs": [],
   "source": [
    "school_dash = ['Philosophy', 'Art-History', 'Computer-Science', 'Calculus']"
   ]
  },
  {
   "cell_type": "code",
   "execution_count": null,
   "metadata": {
    "ExecuteTime": {
     "end_time": "2020-08-31T14:26:45.436898Z",
     "start_time": "2020-08-31T14:26:45.431897Z"
    }
   },
   "outputs": [],
   "source": [
    "sorted(school_dash)"
   ]
  },
  {
   "cell_type": "code",
   "execution_count": 7,
   "metadata": {
    "ExecuteTime": {
     "end_time": "2020-11-02T01:01:14.185639Z",
     "start_time": "2020-11-02T01:01:14.168630Z"
    }
   },
   "outputs": [],
   "source": [
    "def get_last_letter(word):\n",
    "    return word[-1]"
   ]
  },
  {
   "cell_type": "code",
   "execution_count": 8,
   "metadata": {
    "ExecuteTime": {
     "end_time": "2020-11-02T01:01:14.686427Z",
     "start_time": "2020-11-02T01:01:14.679454Z"
    }
   },
   "outputs": [
    {
     "data": {
      "text/plain": [
       "'e'"
      ]
     },
     "execution_count": 8,
     "metadata": {},
     "output_type": "execute_result"
    }
   ],
   "source": [
    "get_last_letter('Computer-Science')"
   ]
  },
  {
   "cell_type": "code",
   "execution_count": 11,
   "metadata": {
    "ExecuteTime": {
     "end_time": "2020-11-02T01:01:30.206739Z",
     "start_time": "2020-11-02T01:01:30.189731Z"
    }
   },
   "outputs": [
    {
     "data": {
      "text/plain": [
       "['Computer-Science', 'Calculus', 'Philosophy', 'Art-History']"
      ]
     },
     "execution_count": 11,
     "metadata": {},
     "output_type": "execute_result"
    }
   ],
   "source": [
    "sorted(school_dash, key=get_last_letter)"
   ]
  },
  {
   "cell_type": "code",
   "execution_count": null,
   "metadata": {
    "ExecuteTime": {
     "end_time": "2020-08-31T14:29:28.730591Z",
     "start_time": "2020-08-31T14:29:28.726590Z"
    }
   },
   "outputs": [],
   "source": [
    "sorted(school_dash, key=lambda x : x[-1])"
   ]
  },
  {
   "cell_type": "markdown",
   "metadata": {},
   "source": [
    "# Ordering a dictionary by its values"
   ]
  },
  {
   "cell_type": "code",
   "execution_count": null,
   "metadata": {
    "ExecuteTime": {
     "end_time": "2020-08-31T14:33:10.674116Z",
     "start_time": "2020-08-31T14:33:10.671146Z"
    }
   },
   "outputs": [],
   "source": [
    "my_dict = {'Andre': 80, \n",
    "           'Joao' : 90 , \n",
    "           'Pedro': 80, \n",
    "           'Carla': 70, \n",
    "           'Maria': 80, \n",
    "           'Aurora' : 80, \n",
    "           'Camila': 60}"
   ]
  },
  {
   "cell_type": "code",
   "execution_count": null,
   "metadata": {
    "ExecuteTime": {
     "end_time": "2020-08-31T14:33:12.781713Z",
     "start_time": "2020-08-31T14:33:12.778712Z"
    }
   },
   "outputs": [],
   "source": [
    "my_dict"
   ]
  },
  {
   "cell_type": "code",
   "execution_count": null,
   "metadata": {
    "ExecuteTime": {
     "end_time": "2020-08-31T14:33:17.191656Z",
     "start_time": "2020-08-31T14:33:17.187689Z"
    }
   },
   "outputs": [],
   "source": [
    "my_dict.items()"
   ]
  },
  {
   "cell_type": "code",
   "execution_count": null,
   "metadata": {
    "ExecuteTime": {
     "end_time": "2020-08-31T14:34:34.567912Z",
     "start_time": "2020-08-31T14:34:34.563910Z"
    }
   },
   "outputs": [],
   "source": [
    "sorted(my_dict.items(), key=lambda x : x[1])"
   ]
  },
  {
   "cell_type": "markdown",
   "metadata": {},
   "source": [
    "# Pandas apply"
   ]
  },
  {
   "cell_type": "code",
   "execution_count": 16,
   "metadata": {
    "ExecuteTime": {
     "end_time": "2020-11-02T01:14:18.655402Z",
     "start_time": "2020-11-02T01:14:18.645410Z"
    }
   },
   "outputs": [],
   "source": [
    "import pandas as pd"
   ]
  },
  {
   "cell_type": "code",
   "execution_count": 17,
   "metadata": {
    "ExecuteTime": {
     "end_time": "2020-11-02T01:14:21.487837Z",
     "start_time": "2020-11-02T01:14:21.468343Z"
    }
   },
   "outputs": [],
   "source": [
    "from tqdm.auto import tqdm\n",
    "tqdm.pandas(desc=\"Applying transformation\")"
   ]
  },
  {
   "cell_type": "code",
   "execution_count": 18,
   "metadata": {
    "ExecuteTime": {
     "end_time": "2020-11-02T01:14:31.806966Z",
     "start_time": "2020-11-02T01:14:27.869333Z"
    }
   },
   "outputs": [],
   "source": [
    "def create_sample_dataframe(n_rows=1000000, n_cols=1):\n",
    "    \"\"\"\n",
    "    Create a pandas dataframe containing n_rows rows and n_cols columns\n",
    "    and mess up with it by changing the dots (.) by commas (,).\n",
    "    \"\"\"\n",
    "    cpf = np.random.randint(1, 999999999, size=n_rows)\n",
    "    variables = {f'column_{col_number}': np.random.random(n_rows) for col_number in range(n_cols)}\n",
    "    variables.update({'CPF': cpf})  \n",
    "\n",
    "    return pd.DataFrame(variables).applymap(lambda x : str(x).replace('.',','))\n",
    "\n",
    "df = create_sample_dataframe()"
   ]
  },
  {
   "cell_type": "code",
   "execution_count": 19,
   "metadata": {
    "ExecuteTime": {
     "end_time": "2020-11-02T01:19:01.731794Z",
     "start_time": "2020-11-02T01:19:01.652840Z"
    }
   },
   "outputs": [
    {
     "data": {
      "text/html": [
       "<div>\n",
       "<style scoped>\n",
       "    .dataframe tbody tr th:only-of-type {\n",
       "        vertical-align: middle;\n",
       "    }\n",
       "\n",
       "    .dataframe tbody tr th {\n",
       "        vertical-align: top;\n",
       "    }\n",
       "\n",
       "    .dataframe thead th {\n",
       "        text-align: right;\n",
       "    }\n",
       "</style>\n",
       "<table border=\"1\" class=\"dataframe\">\n",
       "  <thead>\n",
       "    <tr style=\"text-align: right;\">\n",
       "      <th></th>\n",
       "      <th>column_0</th>\n",
       "      <th>CPF</th>\n",
       "    </tr>\n",
       "  </thead>\n",
       "  <tbody>\n",
       "    <tr>\n",
       "      <th>0</th>\n",
       "      <td>0,5436986317756778</td>\n",
       "      <td>451181210</td>\n",
       "    </tr>\n",
       "    <tr>\n",
       "      <th>1</th>\n",
       "      <td>0,9660024668568563</td>\n",
       "      <td>312778914</td>\n",
       "    </tr>\n",
       "    <tr>\n",
       "      <th>2</th>\n",
       "      <td>0,08408296706174745</td>\n",
       "      <td>308581585</td>\n",
       "    </tr>\n",
       "    <tr>\n",
       "      <th>3</th>\n",
       "      <td>0,009369559486926526</td>\n",
       "      <td>89376925</td>\n",
       "    </tr>\n",
       "    <tr>\n",
       "      <th>4</th>\n",
       "      <td>0,32088037966219196</td>\n",
       "      <td>634993654</td>\n",
       "    </tr>\n",
       "  </tbody>\n",
       "</table>\n",
       "</div>"
      ],
      "text/plain": [
       "               column_0        CPF\n",
       "0    0,5436986317756778  451181210\n",
       "1    0,9660024668568563  312778914\n",
       "2   0,08408296706174745  308581585\n",
       "3  0,009369559486926526   89376925\n",
       "4   0,32088037966219196  634993654"
      ]
     },
     "execution_count": 19,
     "metadata": {},
     "output_type": "execute_result"
    }
   ],
   "source": [
    "df.head()"
   ]
  },
  {
   "cell_type": "code",
   "execution_count": 20,
   "metadata": {
    "ExecuteTime": {
     "end_time": "2020-11-02T01:20:57.869631Z",
     "start_time": "2020-11-02T01:20:52.539639Z"
    }
   },
   "outputs": [
    {
     "data": {
      "application/vnd.jupyter.widget-view+json": {
       "model_id": "9ad7b81806544e2e967ff33bbeb53694",
       "version_major": 2,
       "version_minor": 0
      },
      "text/plain": [
       "HBox(children=(FloatProgress(value=0.0, description='Applying transformation', max=1000000.0, style=ProgressSt…"
      ]
     },
     "metadata": {},
     "output_type": "display_data"
    },
    {
     "name": "stdout",
     "output_type": "stream",
     "text": [
      "\n"
     ]
    },
    {
     "data": {
      "text/plain": [
       "0         0.543699\n",
       "1         0.966002\n",
       "2         0.084083\n",
       "3         0.009370\n",
       "4         0.320880\n",
       "            ...   \n",
       "999995    0.763507\n",
       "999996    0.433446\n",
       "999997    0.607042\n",
       "999998    0.148597\n",
       "999999    0.136325\n",
       "Name: column_0, Length: 1000000, dtype: float64"
      ]
     },
     "execution_count": 20,
     "metadata": {},
     "output_type": "execute_result"
    }
   ],
   "source": [
    "df.column_0.progress_apply(lambda x : float(x.replace(',','.')))"
   ]
  },
  {
   "cell_type": "markdown",
   "metadata": {},
   "source": [
    "---"
   ]
  },
  {
   "cell_type": "code",
   "execution_count": 25,
   "metadata": {
    "ExecuteTime": {
     "end_time": "2020-11-02T01:25:14.746345Z",
     "start_time": "2020-11-02T01:25:12.332491Z"
    }
   },
   "outputs": [
    {
     "data": {
      "text/html": [
       "<div>\n",
       "<style scoped>\n",
       "    .dataframe tbody tr th:only-of-type {\n",
       "        vertical-align: middle;\n",
       "    }\n",
       "\n",
       "    .dataframe tbody tr th {\n",
       "        vertical-align: top;\n",
       "    }\n",
       "\n",
       "    .dataframe thead th {\n",
       "        text-align: right;\n",
       "    }\n",
       "</style>\n",
       "<table border=\"1\" class=\"dataframe\">\n",
       "  <thead>\n",
       "    <tr style=\"text-align: right;\">\n",
       "      <th></th>\n",
       "      <th>grade</th>\n",
       "      <th>user_name</th>\n",
       "      <th>text</th>\n",
       "      <th>date</th>\n",
       "    </tr>\n",
       "  </thead>\n",
       "  <tbody>\n",
       "    <tr>\n",
       "      <th>0</th>\n",
       "      <td>4</td>\n",
       "      <td>mds27272</td>\n",
       "      <td>My gf started playing before me. No option to ...</td>\n",
       "      <td>2020-03-20</td>\n",
       "    </tr>\n",
       "    <tr>\n",
       "      <th>1</th>\n",
       "      <td>5</td>\n",
       "      <td>lolo2178</td>\n",
       "      <td>While the game itself is great, really relaxin...</td>\n",
       "      <td>2020-03-20</td>\n",
       "    </tr>\n",
       "    <tr>\n",
       "      <th>2</th>\n",
       "      <td>0</td>\n",
       "      <td>Roachant</td>\n",
       "      <td>My wife and I were looking forward to playing ...</td>\n",
       "      <td>2020-03-20</td>\n",
       "    </tr>\n",
       "    <tr>\n",
       "      <th>3</th>\n",
       "      <td>0</td>\n",
       "      <td>Houndf</td>\n",
       "      <td>We need equal values and opportunities for all...</td>\n",
       "      <td>2020-03-20</td>\n",
       "    </tr>\n",
       "    <tr>\n",
       "      <th>4</th>\n",
       "      <td>0</td>\n",
       "      <td>ProfessorFox</td>\n",
       "      <td>BEWARE!  If you have multiple people in your h...</td>\n",
       "      <td>2020-03-20</td>\n",
       "    </tr>\n",
       "    <tr>\n",
       "      <th>...</th>\n",
       "      <td>...</td>\n",
       "      <td>...</td>\n",
       "      <td>...</td>\n",
       "      <td>...</td>\n",
       "    </tr>\n",
       "    <tr>\n",
       "      <th>2994</th>\n",
       "      <td>1</td>\n",
       "      <td>TakezoShinmen</td>\n",
       "      <td>1 Island for console limitation.I cannot play ...</td>\n",
       "      <td>2020-05-03</td>\n",
       "    </tr>\n",
       "    <tr>\n",
       "      <th>2995</th>\n",
       "      <td>1</td>\n",
       "      <td>Pikey17</td>\n",
       "      <td>Per giocare con figli o fidanzate, mogli o per...</td>\n",
       "      <td>2020-05-03</td>\n",
       "    </tr>\n",
       "    <tr>\n",
       "      <th>2996</th>\n",
       "      <td>0</td>\n",
       "      <td>Lemmeadem</td>\n",
       "      <td>One island per console is a pathetic limitatio...</td>\n",
       "      <td>2020-05-03</td>\n",
       "    </tr>\n",
       "    <tr>\n",
       "      <th>2997</th>\n",
       "      <td>2</td>\n",
       "      <td>TandemTester938</td>\n",
       "      <td>Even though it seems like a great game with ma...</td>\n",
       "      <td>2020-05-03</td>\n",
       "    </tr>\n",
       "    <tr>\n",
       "      <th>2998</th>\n",
       "      <td>4</td>\n",
       "      <td>DwerG</td>\n",
       "      <td>Game is fantastic.Nintendo deciding that you c...</td>\n",
       "      <td>2020-05-03</td>\n",
       "    </tr>\n",
       "  </tbody>\n",
       "</table>\n",
       "<p>2999 rows × 4 columns</p>\n",
       "</div>"
      ],
      "text/plain": [
       "      grade        user_name  \\\n",
       "0         4         mds27272   \n",
       "1         5         lolo2178   \n",
       "2         0         Roachant   \n",
       "3         0           Houndf   \n",
       "4         0     ProfessorFox   \n",
       "...     ...              ...   \n",
       "2994      1    TakezoShinmen   \n",
       "2995      1          Pikey17   \n",
       "2996      0        Lemmeadem   \n",
       "2997      2  TandemTester938   \n",
       "2998      4            DwerG   \n",
       "\n",
       "                                                   text        date  \n",
       "0     My gf started playing before me. No option to ...  2020-03-20  \n",
       "1     While the game itself is great, really relaxin...  2020-03-20  \n",
       "2     My wife and I were looking forward to playing ...  2020-03-20  \n",
       "3     We need equal values and opportunities for all...  2020-03-20  \n",
       "4     BEWARE!  If you have multiple people in your h...  2020-03-20  \n",
       "...                                                 ...         ...  \n",
       "2994  1 Island for console limitation.I cannot play ...  2020-05-03  \n",
       "2995  Per giocare con figli o fidanzate, mogli o per...  2020-05-03  \n",
       "2996  One island per console is a pathetic limitatio...  2020-05-03  \n",
       "2997  Even though it seems like a great game with ma...  2020-05-03  \n",
       "2998  Game is fantastic.Nintendo deciding that you c...  2020-05-03  \n",
       "\n",
       "[2999 rows x 4 columns]"
      ]
     },
     "execution_count": 25,
     "metadata": {},
     "output_type": "execute_result"
    }
   ],
   "source": [
    "df = pd.read_csv('https://raw.githubusercontent.com/rfordatascience/tidytuesday/62f97ae1f8896b6b8e4bb08dcf65a07e0502aa8a/data/2020/2020-05-05/user_reviews.tsv', sep='\\t')\n",
    "df.head()"
   ]
  },
  {
   "cell_type": "code",
   "execution_count": null,
   "metadata": {
    "ExecuteTime": {
     "end_time": "2020-08-31T14:38:20.734463Z",
     "start_time": "2020-08-31T14:38:20.731458Z"
    }
   },
   "outputs": [],
   "source": [
    "import re"
   ]
  },
  {
   "cell_type": "code",
   "execution_count": 22,
   "metadata": {
    "ExecuteTime": {
     "end_time": "2020-11-02T01:24:25.768601Z",
     "start_time": "2020-11-02T01:24:25.749612Z"
    }
   },
   "outputs": [],
   "source": [
    "x = 'BEWARE!  If you have multiple people in your h'"
   ]
  },
  {
   "cell_type": "code",
   "execution_count": null,
   "metadata": {},
   "outputs": [],
   "source": [
    "#hoe can i find the warning?"
   ]
  },
  {
   "cell_type": "code",
   "execution_count": null,
   "metadata": {
    "ExecuteTime": {
     "end_time": "2020-08-31T14:43:49.349102Z",
     "start_time": "2020-08-31T14:43:49.309084Z"
    }
   },
   "outputs": [],
   "source": [
    "df['text_warning'] = df.text.apply(lambda x : re.findall('[A-Z]+!', x))"
   ]
  }
 ],
 "metadata": {
  "kernelspec": {
   "display_name": "Python 3",
   "language": "python",
   "name": "python3"
  },
  "language_info": {
   "codemirror_mode": {
    "name": "ipython",
    "version": 3
   },
   "file_extension": ".py",
   "mimetype": "text/x-python",
   "name": "python",
   "nbconvert_exporter": "python",
   "pygments_lexer": "ipython3",
   "version": "3.7.6"
  },
  "toc": {
   "base_numbering": 1,
   "nav_menu": {},
   "number_sections": true,
   "sideBar": true,
   "skip_h1_title": false,
   "title_cell": "Table of Contents",
   "title_sidebar": "Contents",
   "toc_cell": false,
   "toc_position": {},
   "toc_section_display": true,
   "toc_window_display": false
  },
  "varInspector": {
   "cols": {
    "lenName": 16,
    "lenType": 16,
    "lenVar": 40
   },
   "kernels_config": {
    "python": {
     "delete_cmd_postfix": "",
     "delete_cmd_prefix": "del ",
     "library": "var_list.py",
     "varRefreshCmd": "print(var_dic_list())"
    },
    "r": {
     "delete_cmd_postfix": ") ",
     "delete_cmd_prefix": "rm(",
     "library": "var_list.r",
     "varRefreshCmd": "cat(var_dic_list()) "
    }
   },
   "types_to_exclude": [
    "module",
    "function",
    "builtin_function_or_method",
    "instance",
    "_Feature"
   ],
   "window_display": false
  }
 },
 "nbformat": 4,
 "nbformat_minor": 2
}
