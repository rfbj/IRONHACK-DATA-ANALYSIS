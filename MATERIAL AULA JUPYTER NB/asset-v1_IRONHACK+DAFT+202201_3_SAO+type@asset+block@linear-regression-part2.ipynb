{
 "cells": [
  {
   "cell_type": "code",
   "execution_count": 1,
   "metadata": {
    "ExecuteTime": {
     "end_time": "2022-02-16T18:17:16.542123Z",
     "start_time": "2022-02-16T18:17:15.029576Z"
    }
   },
   "outputs": [],
   "source": [
    "import numpy as np\n",
    "import pandas as pd\n",
    "import seaborn as sns\n",
    "import matplotlib.pyplot as plt"
   ]
  },
  {
   "cell_type": "code",
   "execution_count": 4,
   "metadata": {
    "ExecuteTime": {
     "end_time": "2022-02-16T18:19:25.466325Z",
     "start_time": "2022-02-16T18:19:25.403495Z"
    },
    "scrolled": true
   },
   "outputs": [
    {
     "data": {
      "text/html": [
       "<div>\n",
       "<style scoped>\n",
       "    .dataframe tbody tr th:only-of-type {\n",
       "        vertical-align: middle;\n",
       "    }\n",
       "\n",
       "    .dataframe tbody tr th {\n",
       "        vertical-align: top;\n",
       "    }\n",
       "\n",
       "    .dataframe thead th {\n",
       "        text-align: right;\n",
       "    }\n",
       "</style>\n",
       "<table border=\"1\" class=\"dataframe\">\n",
       "  <thead>\n",
       "    <tr style=\"text-align: right;\">\n",
       "      <th></th>\n",
       "      <th>TV</th>\n",
       "      <th>Radio</th>\n",
       "      <th>Newspaper</th>\n",
       "      <th>Sales</th>\n",
       "    </tr>\n",
       "  </thead>\n",
       "  <tbody>\n",
       "    <tr>\n",
       "      <th>0</th>\n",
       "      <td>230.1</td>\n",
       "      <td>37.8</td>\n",
       "      <td>69.2</td>\n",
       "      <td>22.1</td>\n",
       "    </tr>\n",
       "    <tr>\n",
       "      <th>1</th>\n",
       "      <td>44.5</td>\n",
       "      <td>39.3</td>\n",
       "      <td>45.1</td>\n",
       "      <td>10.4</td>\n",
       "    </tr>\n",
       "    <tr>\n",
       "      <th>2</th>\n",
       "      <td>17.2</td>\n",
       "      <td>45.9</td>\n",
       "      <td>69.3</td>\n",
       "      <td>12.0</td>\n",
       "    </tr>\n",
       "    <tr>\n",
       "      <th>3</th>\n",
       "      <td>151.5</td>\n",
       "      <td>41.3</td>\n",
       "      <td>58.5</td>\n",
       "      <td>16.5</td>\n",
       "    </tr>\n",
       "    <tr>\n",
       "      <th>4</th>\n",
       "      <td>180.8</td>\n",
       "      <td>10.8</td>\n",
       "      <td>58.4</td>\n",
       "      <td>17.9</td>\n",
       "    </tr>\n",
       "  </tbody>\n",
       "</table>\n",
       "</div>"
      ],
      "text/plain": [
       "      TV  Radio  Newspaper  Sales\n",
       "0  230.1   37.8       69.2   22.1\n",
       "1   44.5   39.3       45.1   10.4\n",
       "2   17.2   45.9       69.3   12.0\n",
       "3  151.5   41.3       58.5   16.5\n",
       "4  180.8   10.8       58.4   17.9"
      ]
     },
     "execution_count": 4,
     "metadata": {},
     "output_type": "execute_result"
    }
   ],
   "source": [
    "df = pd.read_csv('data/advertising.csv')\n",
    "df.head()"
   ]
  },
  {
   "cell_type": "code",
   "execution_count": 5,
   "metadata": {
    "ExecuteTime": {
     "end_time": "2022-02-16T18:19:30.807042Z",
     "start_time": "2022-02-16T18:19:30.103282Z"
    }
   },
   "outputs": [
    {
     "data": {
      "text/plain": [
       "LinearRegression()"
      ]
     },
     "execution_count": 5,
     "metadata": {},
     "output_type": "execute_result"
    }
   ],
   "source": [
    "from sklearn.linear_model import LinearRegression\n",
    "\n",
    "X = df[['TV']]\n",
    "y = df['Sales']\n",
    "\n",
    "model = LinearRegression()\n",
    "model.fit(X, y)"
   ]
  },
  {
   "cell_type": "code",
   "execution_count": 6,
   "metadata": {
    "ExecuteTime": {
     "end_time": "2022-02-16T18:19:33.669133Z",
     "start_time": "2022-02-16T18:19:33.658164Z"
    }
   },
   "outputs": [
    {
     "data": {
      "text/plain": [
       "array([0.05546477])"
      ]
     },
     "execution_count": 6,
     "metadata": {},
     "output_type": "execute_result"
    }
   ],
   "source": [
    "model.coef_"
   ]
  },
  {
   "cell_type": "code",
   "execution_count": 7,
   "metadata": {
    "ExecuteTime": {
     "end_time": "2022-02-16T18:19:37.037441Z",
     "start_time": "2022-02-16T18:19:37.028433Z"
    }
   },
   "outputs": [
    {
     "data": {
      "text/plain": [
       "6.974821488229891"
      ]
     },
     "execution_count": 7,
     "metadata": {},
     "output_type": "execute_result"
    }
   ],
   "source": [
    "model.intercept_"
   ]
  },
  {
   "cell_type": "code",
   "execution_count": 8,
   "metadata": {
    "ExecuteTime": {
     "end_time": "2022-02-16T18:19:42.052171Z",
     "start_time": "2022-02-16T18:19:42.037211Z"
    },
    "scrolled": true
   },
   "outputs": [],
   "source": [
    "y_pred=model.predict(X)"
   ]
  },
  {
   "cell_type": "code",
   "execution_count": 9,
   "metadata": {
    "ExecuteTime": {
     "end_time": "2022-02-16T18:19:44.231889Z",
     "start_time": "2022-02-16T18:19:44.017327Z"
    }
   },
   "outputs": [
    {
     "data": {
      "image/png": "[encoded data removed]",
      "text/plain": [
       "<Figure size 576x432 with 1 Axes>"
      ]
     },
     "metadata": {
      "needs_background": "light"
     },
     "output_type": "display_data"
    }
   ],
   "source": [
    "plt.figure(figsize=(8,6))\n",
    "plt.xlabel('TV')\n",
    "plt.ylabel('Sales')\n",
    "plt.scatter(X, y, color='red', label='observed')\n",
    "\n",
    "# plot the predicted values together with the observed values\n",
    "plt.scatter(X, y_pred, label='predicted')\n",
    "\n",
    "\n",
    "plt.legend();"
   ]
  },
  {
   "cell_type": "markdown",
   "metadata": {},
   "source": [
    "-----"
   ]
  },
  {
   "cell_type": "markdown",
   "metadata": {},
   "source": [
    "# Some theory"
   ]
  },
  {
   "cell_type": "markdown",
   "metadata": {},
   "source": [
    "> The regression sole purpose in life is to <b>find a curve that best fits the data points</b>. "
   ]
  },
  {
   "cell_type": "markdown",
   "metadata": {},
   "source": [
    "-----"
   ]
  },
  {
   "cell_type": "markdown",
   "metadata": {},
   "source": [
    "There are two main **applications** for finding best lines between variables:\n",
    "\n",
    "<u><b> Describe: </b></u>\n",
    "- Use <b> regression </b> to determine the strength of the relationship between the variable you are interested in and the other variables. \n",
    "\n",
    "<u><b> Predict: </b></u>\n",
    "- Use <b> regression </b> to predict values of new data points. "
   ]
  },
  {
   "cell_type": "markdown",
   "metadata": {},
   "source": [
    "------"
   ]
  },
  {
   "cell_type": "markdown",
   "metadata": {},
   "source": [
    "<u><b> Degrees of freedom </b></u>\n",
    "\n",
    "A regression line is one of the simplest models. We say it has <b>few degrees of freedom</b>. Namely, a linear regression has <b> two degrees of freedom - the slope and the intercept. </b>\n",
    "\n",
    "<u><b> Slope:</b></u> The angular coefficient of the linear regression. The greater this number is, the more impact of that specific variable on the Y variable.\n",
    "\n",
    "<u><b> Intercept:</b></u> The value of Y for which X equals 0."
   ]
  },
  {
   "cell_type": "markdown",
   "metadata": {},
   "source": [
    "$$y = b + a x$$"
   ]
  },
  {
   "cell_type": "markdown",
   "metadata": {},
   "source": [
    "$b \\rightarrow$ intercept\n",
    "\n",
    "$a \\rightarrow$ slope"
   ]
  },
  {
   "cell_type": "markdown",
   "metadata": {},
   "source": [
    "![title](https://raw.githubusercontent.com/Rairocha/images/main/lin_reg.png)"
   ]
  },
  {
   "cell_type": "markdown",
   "metadata": {},
   "source": [
    "# Measuring your error."
   ]
  },
  {
   "cell_type": "markdown",
   "metadata": {},
   "source": [
    "## Error terms: \n",
    "\n",
    "<u>1. Residuals</u>\n",
    "\n",
    "$Y_{observed} - Y_{predicted}$\n",
    "\n",
    "<u>2. Sum of Residuals</u>\n",
    "\n",
    "$\\sum_{i = 1}^{n} (Y_{observed} - Y_{predicted})$\n",
    "\n",
    "- This might cancel the errors.\n",
    "\n",
    "<u>3. Sum of square of residuals</u>\n",
    "\n",
    "$\\sum_{i = 1}^{n} (Y_{observed} - Y_{predicted})^2$\n",
    "\n",
    "- Heavily penalize higher error value.\n",
    "- Not robust to outliers.\n"
   ]
  },
  {
   "cell_type": "markdown",
   "metadata": {},
   "source": [
    "Linear regression looks for optimizing the intercept and coefficients such that it minimizes the objective function. The objective function is a simple measure of error: \n",
    "\n",
    "\n",
    "## <u> Objective Function (Cost Function)</u> \n",
    "\n",
    "Minimize the objective function:\n",
    "- Objective function for **Mean** Squared Error (MSE): $\\frac{1}{n} \\sum_{i = 1}^{n} (Y_{observed} - Y_{predicted})^2$\n",
    "\n"
   ]
  },
  {
   "cell_type": "markdown",
   "metadata": {},
   "source": [
    "Since it tries to make the **mean** error as small as possible, how do you think outliers affect the linear regression?"
   ]
  },
  {
   "cell_type": "markdown",
   "metadata": {
    "ExecuteTime": {
     "end_time": "2020-04-09T12:08:33.789978Z",
     "start_time": "2020-04-09T12:08:33.749116Z"
    }
   },
   "source": [
    "<b> Outlier greatly affect the regression </b>"
   ]
  },
  {
   "cell_type": "markdown",
   "metadata": {},
   "source": [
    "In practice:"
   ]
  },
  {
   "cell_type": "code",
   "execution_count": 27,
   "metadata": {
    "ExecuteTime": {
     "end_time": "2022-02-16T18:21:55.972869Z",
     "start_time": "2022-02-16T18:21:55.953892Z"
    }
   },
   "outputs": [
    {
     "data": {
      "text/plain": [
       "LinearRegression()"
      ]
     },
     "execution_count": 27,
     "metadata": {},
     "output_type": "execute_result"
    }
   ],
   "source": [
    "from sklearn.linear_model import LinearRegression\n",
    "\n",
    "model = LinearRegression()\n",
    "\n",
    "X = df[['TV']]\n",
    "y = df['Newspaper']\n",
    "\n",
    "model.fit(X, y)"
   ]
  },
  {
   "cell_type": "code",
   "execution_count": 28,
   "metadata": {
    "ExecuteTime": {
     "end_time": "2022-02-16T18:21:59.851777Z",
     "start_time": "2022-02-16T18:21:59.832857Z"
    }
   },
   "outputs": [],
   "source": [
    "y_observed = df['Sales']\n",
    "y_predicted = model.predict(X)"
   ]
  },
  {
   "cell_type": "code",
   "execution_count": 29,
   "metadata": {
    "ExecuteTime": {
     "end_time": "2022-02-16T18:22:01.856520Z",
     "start_time": "2022-02-16T18:22:01.838594Z"
    }
   },
   "outputs": [
    {
     "data": {
      "text/plain": [
       "[(22.1, 31.747523905825243),\n",
       " (10.4, 29.080479545940033),\n",
       " (12.0, 28.688182611538814),\n",
       " (16.5, 30.61805361117558),\n",
       " (17.9, 31.039090247730734),\n",
       " (7.2, 28.566038877384585),\n",
       " (11.8, 29.267287609940613),\n",
       " (13.2, 30.16827727246649),\n",
       " (4.8, 28.56460189227689),\n",
       " (15.6, 31.31211741819312),\n",
       " (12.6, 29.390868329202533),\n",
       " (17.4, 31.52622819923994),\n",
       " (9.2, 28.7830236286468),\n",
       " (13.7, 29.84208165301932),\n",
       " (19.0, 31.373907777824083),\n",
       " (22.4, 31.248890073454465),\n",
       " (12.5, 29.41529707603338),\n",
       " (24.4, 32.48469726607369),\n",
       " (11.3, 29.435414867541134),\n",
       " (14.6, 30.557700236652316),\n",
       " (18.0, 31.579396648224723),\n",
       " (17.5, 31.852423818687107),\n",
       " (5.6, 28.63070320723094),\n",
       " (20.5, 31.721658173886702),\n",
       " (9.7, 29.336262895110057),\n",
       " (17.0, 32.218855021149786),\n",
       " (15.0, 30.494472891913656),\n",
       " (20.9, 31.89122241659492),\n",
       " (18.9, 32.01624012096454),\n",
       " (10.5, 29.455532659048888),\n",
       " (21.4, 32.649950553458815),\n",
       " (11.9, 30.063377359604626),\n",
       " (13.2, 29.837770697696232),\n",
       " (17.4, 32.2576536190576),\n",
       " (11.9, 29.81621592108078),\n",
       " (17.8, 32.61833688108949),\n",
       " (25.4, 32.276334425457655),\n",
       " (14.7, 29.514449048464456),\n",
       " (10.1, 29.060361754432275),\n",
       " (21.5, 31.717347218563614),\n",
       " (16.6, 31.350916016100935),\n",
       " (17.1, 30.984484813638257),\n",
       " (20.7, 32.660009449212694),\n",
       " (17.9, 31.414143360839592),\n",
       " (8.5, 28.801704435046858),\n",
       " (16.1, 30.957182096592017),\n",
       " (10.6, 29.729996814618975),\n",
       " (23.2, 31.888348446379528),\n",
       " (19.8, 31.705851337702036),\n",
       " (9.7, 29.40236421006411),\n",
       " (16.4, 31.31211741819312),\n",
       " (10.7, 29.883754221142528),\n",
       " (22.6, 31.550656946070788),\n",
       " (21.2, 31.06495597966928),\n",
       " (20.2, 32.215981050934396),\n",
       " (23.7, 31.29918455222385),\n",
       " (5.5, 28.54592108587683),\n",
       " (13.2, 30.398194889697972),\n",
       " (23.8, 31.470185780039767),\n",
       " (18.4, 31.46874879493207),\n",
       " (8.1, 29.20980820563274),\n",
       " (24.2, 32.19586325942664),\n",
       " (20.7, 31.879726535733347),\n",
       " (14.0, 29.916804878619555),\n",
       " (16.0, 30.324908649205437),\n",
       " (11.3, 29.43254089732574),\n",
       " (11.0, 28.89367148193945),\n",
       " (13.4, 30.442741428036573),\n",
       " (18.9, 31.852423818687107),\n",
       " (22.3, 31.556404886501575),\n",
       " (18.3, 31.302058522439246),\n",
       " (12.4, 30.018830821266025),\n",
       " (8.8, 28.8261331818777),\n",
       " (11.0, 30.300479902374594),\n",
       " (17.0, 31.507547392839882),\n",
       " (8.7, 28.68387165621572),\n",
       " (6.9, 28.83619207763158),\n",
       " (14.2, 30.17258822778958),\n",
       " (5.3, 28.51861836883059),\n",
       " (11.0, 30.107923897943223),\n",
       " (11.8, 29.538877795295303),\n",
       " (17.3, 31.886911461271833),\n",
       " (11.3, 29.523070959110637),\n",
       " (13.6, 29.42391898667956),\n",
       " (21.7, 31.50898437794758),\n",
       " (20.2, 31.217276401085133),\n",
       " (12.0, 29.537440810187604),\n",
       " (16.0, 30.031763687235298),\n",
       " (12.9, 29.709879023111217),\n",
       " (16.7, 30.018830821266025),\n",
       " (14.0, 30.370892172651736),\n",
       " (7.3, 28.851998913816246),\n",
       " (19.4, 31.569337752470844),\n",
       " (22.2, 32.046416808226176),\n",
       " (11.5, 29.984343178681303),\n",
       " (16.9, 30.7876178538838),\n",
       " (16.7, 31.280503745823793),\n",
       " (20.5, 31.0980066371463),\n",
       " (25.4, 32.60396703001252),\n",
       " (17.2, 30.383825038621005),\n",
       " (16.7, 31.636876052532592),\n",
       " (23.8, 32.7002450322282),\n",
       " (19.8, 32.46745344478133),\n",
       " (19.7, 31.141116190377204),\n",
       " (20.7, 31.86391969954868),\n",
       " (15.0, 30.42262363652882),\n",
       " (7.2, 28.80026744993916),\n",
       " (12.0, 29.74005571037285),\n",
       " (5.3, 28.629266222123245),\n",
       " (19.8, 32.11108113807253),\n",
       " (18.4, 31.685733546194285),\n",
       " (21.8, 31.91421417831807),\n",
       " (17.1, 30.965804007238198),\n",
       " (20.9, 31.452941958747406),\n",
       " (14.6, 29.564743527233844),\n",
       " (12.6, 29.520196988895243),\n",
       " (12.2, 30.441304442928875),\n",
       " (9.4, 29.538877795295303),\n",
       " (15.9, 30.247311453389813),\n",
       " (6.6, 28.719796283908142),\n",
       " (15.5, 30.471481130190508),\n",
       " (7.0, 28.71117437326196),\n",
       " (16.6, 31.65986781425574),\n",
       " (15.2, 30.209949840589697),\n",
       " (19.7, 31.738901995179063),\n",
       " (10.6, 29.694072186926554),\n",
       " (6.6, 28.553106011415316),\n",
       " (11.9, 29.59348322938778),\n",
       " (24.7, 31.606699365270963),\n",
       " (9.7, 29.297464297202243),\n",
       " (1.6, 28.451080068768846),\n",
       " (17.7, 32.25190567862681),\n",
       " (5.7, 28.561727922061497),\n",
       " (19.6, 31.599514439732477),\n",
       " (10.8, 28.971268677755077),\n",
       " (11.6, 29.13508498003251),\n",
       " (9.5, 28.80888936058534),\n",
       " (20.8, 32.37404941278104),\n",
       " (9.6, 29.05892476932458),\n",
       " (20.7, 31.0980066371463),\n",
       " (10.9, 29.4957682420644),\n",
       " (19.2, 31.22446132662362),\n",
       " (20.1, 31.609573335486353),\n",
       " (10.4, 29.94410759566579),\n",
       " (12.3, 29.823400846619265),\n",
       " (10.3, 30.45711127911354),\n",
       " (18.2, 31.89122241659492),\n",
       " (25.4, 31.935768954933522),\n",
       " (10.9, 28.98707551393974),\n",
       " (10.1, 29.083353516155427),\n",
       " (16.1, 32.47463837031981),\n",
       " (11.6, 30.179773153328064),\n",
       " (16.6, 31.280503745823793),\n",
       " (16.0, 30.90257666249954),\n",
       " (20.6, 31.13967920526951),\n",
       " (3.2, 28.499937562430535),\n",
       " (15.3, 29.790350189142238),\n",
       " (10.1, 30.593624864344736),\n",
       " (7.3, 28.60914843061549),\n",
       " (12.9, 30.333530559851617),\n",
       " (16.4, 30.919820483791902),\n",
       " (13.3, 29.6725174103111),\n",
       " (19.9, 31.14830111591569),\n",
       " (18.0, 30.790491824099192),\n",
       " (11.9, 30.125167719235588),\n",
       " (16.9, 31.810751250563904),\n",
       " (8.0, 28.69824150729269),\n",
       " (17.2, 31.412706375731897),\n",
       " (17.1, 31.536287094993817),\n",
       " (20.0, 32.5263698341969),\n",
       " (8.4, 29.159513726863356),\n",
       " (17.5, 30.80486167517616),\n",
       " (7.6, 28.722670254123535),\n",
       " (16.7, 30.860904094376334),\n",
       " (16.5, 31.636876052532592),\n",
       " (27.0, 32.42003293622734),\n",
       " (20.2, 32.01049218053375),\n",
       " (16.7, 30.886769826314875),\n",
       " (16.8, 32.41715896601194),\n",
       " (17.6, 30.820668511360825),\n",
       " (15.5, 30.691339851668115),\n",
       " (17.2, 31.580833633332418),\n",
       " (8.7, 29.248606803540554),\n",
       " (26.2, 32.57379034275089),\n",
       " (17.6, 32.08808937634938),\n",
       " (22.6, 31.386840643793356),\n",
       " (10.3, 30.445615398251967),\n",
       " (17.3, 31.187099713823503),\n",
       " (20.9, 32.55079858102774),\n",
       " (6.7, 28.709737388154263),\n",
       " (10.8, 29.008630290555192),\n",
       " (11.9, 29.52594492932603),\n",
       " (5.9, 28.688182611538814),\n",
       " (19.6, 30.837912332653186),\n",
       " (17.3, 30.592187879237038),\n",
       " (7.6, 28.989949484155133),\n",
       " (14.0, 29.79466114446533),\n",
       " (14.8, 30.984484813638257),\n",
       " (25.5, 32.51631093844302),\n",
       " (18.4, 31.776263607979182)]"
      ]
     },
     "execution_count": 29,
     "metadata": {},
     "output_type": "execute_result"
    }
   ],
   "source": [
    "list(zip(y_observed, y_predicted))"
   ]
  },
  {
   "cell_type": "code",
   "execution_count": 30,
   "metadata": {
    "ExecuteTime": {
     "end_time": "2022-02-16T18:22:05.974656Z",
     "start_time": "2022-02-16T18:22:05.960694Z"
    }
   },
   "outputs": [],
   "source": [
    "residual_squared = []\n",
    "\n",
    "for y_o, y_p in list(zip(y_observed, y_predicted)):\n",
    "    residual = y_o - y_p\n",
    "    residual_squared.append(residual ** 2)"
   ]
  },
  {
   "cell_type": "code",
   "execution_count": 31,
   "metadata": {
    "ExecuteTime": {
     "end_time": "2022-02-16T18:22:10.653864Z",
     "start_time": "2022-02-16T18:22:10.636909Z"
    }
   },
   "outputs": [
    {
     "name": "stdout",
     "output_type": "stream",
     "text": [
      "Max error 720.9805008594354, min error 29.376757029789122, mean error 255.48786028658296\n"
     ]
    }
   ],
   "source": [
    "np.max(residual_squared)\n",
    "print(f'Max error {np.max(residual_squared)}, min error {np.min(residual_squared)}, mean error {np.mean(residual_squared)}')"
   ]
  },
  {
   "cell_type": "code",
   "execution_count": 32,
   "metadata": {
    "ExecuteTime": {
     "end_time": "2022-02-16T18:22:22.653869Z",
     "start_time": "2022-02-16T18:22:22.649850Z"
    }
   },
   "outputs": [],
   "source": [
    "from sklearn.metrics import mean_squared_error"
   ]
  },
  {
   "cell_type": "code",
   "execution_count": 17,
   "metadata": {
    "ExecuteTime": {
     "end_time": "2022-02-16T18:20:23.072914Z",
     "start_time": "2022-02-16T18:20:23.059951Z"
    }
   },
   "outputs": [
    {
     "data": {
      "text/plain": [
       "5.2177438977951285"
      ]
     },
     "execution_count": 17,
     "metadata": {},
     "output_type": "execute_result"
    }
   ],
   "source": [
    "mean_squared_error(y_observed, y_predicted)"
   ]
  },
  {
   "cell_type": "markdown",
   "metadata": {},
   "source": [
    "## Root Mean Squared Error (RMSE)"
   ]
  },
  {
   "cell_type": "markdown",
   "metadata": {},
   "source": [
    "### interpreting the mean squared error\n",
    "\n",
    "5.2 sales² $\\rightarrow$ out of our variable scale\n",
    "\n",
    "2.28 sales\n",
    "\n",
    "The average mean error I will have in my prediction in sales is 2.28 if I use only the TV as my predictive variable."
   ]
  },
  {
   "cell_type": "code",
   "execution_count": 33,
   "metadata": {
    "ExecuteTime": {
     "end_time": "2022-02-16T18:22:29.060603Z",
     "start_time": "2022-02-16T18:22:29.040684Z"
    }
   },
   "outputs": [
    {
     "data": {
      "text/plain": [
       "15.983987621572501"
      ]
     },
     "execution_count": 33,
     "metadata": {},
     "output_type": "execute_result"
    }
   ],
   "source": [
    "np.sqrt(mean_squared_error(y_observed, y_predicted))"
   ]
  },
  {
   "cell_type": "markdown",
   "metadata": {},
   "source": [
    "## Coefficient of Determination $R^2$"
   ]
  },
  {
   "cell_type": "markdown",
   "metadata": {},
   "source": [
    "What is important to understand?\n",
    "\n",
    "> $R^2$ is a measure of how much information of our Y-variable is explained by our X-variable."
   ]
  },
  {
   "cell_type": "markdown",
   "metadata": {
    "ExecuteTime": {
     "end_time": "2020-04-25T17:14:05.060519Z",
     "start_time": "2020-04-25T17:14:05.042593Z"
    }
   },
   "source": [
    "![title](https://raw.githubusercontent.com/Rairocha/images/main/lin_reg.png)"
   ]
  },
  {
   "cell_type": "code",
   "execution_count": 45,
   "metadata": {
    "ExecuteTime": {
     "end_time": "2022-02-16T18:25:17.709365Z",
     "start_time": "2022-02-16T18:25:17.701386Z"
    }
   },
   "outputs": [
    {
     "data": {
      "text/plain": [
       "30.553999999999995"
      ]
     },
     "execution_count": 45,
     "metadata": {},
     "output_type": "execute_result"
    }
   ],
   "source": [
    "y.mean()"
   ]
  },
  {
   "cell_type": "markdown",
   "metadata": {},
   "source": [
    "<font size=\"5\">\n",
    "\n",
    "$R^2 = 1 - \\frac{\\sum_{i = 1}^{n}(y_{observed} - y_{predicted})^2}{\\sum_{i = 1}^{n}(y_{observed} - y_{mean})^2}$\n",
    "    \n",
    "</font>\n",
    "\n",
    "- Numerator: ~variance of model's prediction\n",
    "- Denominator: ~variance\n",
    "\n"
   ]
  },
  {
   "cell_type": "markdown",
   "metadata": {},
   "source": [
    "For example: if you measure your error considering your model and it result in 90. And you measure your error using only the mean you obtain 100, the R² will be:\n",
    "\n",
    "$R² = 1 - \\frac{90}{100} = 1 - 0.9 = 0.1$\n",
    "\n",
    "This means that your model is 10% better than using only the average. This means that using the variable TV increased your performance by 10%"
   ]
  },
  {
   "cell_type": "markdown",
   "metadata": {
    "ExecuteTime": {
     "end_time": "2020-04-25T17:48:38.097327Z",
     "start_time": "2020-04-25T17:48:38.093337Z"
    }
   },
   "source": [
    "Moreover, remember that $(y_{obs} - y_{mean})^2$ is the variance. So it is also a measure of how much information that adding this variable brought to your model."
   ]
  },
  {
   "cell_type": "markdown",
   "metadata": {},
   "source": [
    "### In practice\n",
    "\n",
    "- `r2_score`\n",
    "\n",
    "- `model.score()`"
   ]
  },
  {
   "cell_type": "code",
   "execution_count": 41,
   "metadata": {
    "ExecuteTime": {
     "end_time": "2022-02-16T18:24:32.783652Z",
     "start_time": "2022-02-16T18:24:32.765676Z"
    }
   },
   "outputs": [],
   "source": [
    "from sklearn.metrics import r2_score"
   ]
  },
  {
   "cell_type": "markdown",
   "metadata": {},
   "source": [
    "The `r2_score` method expects you to pass the `y_observed` (that comes from the real data) and the values you predicted, `y_predicted` (that comes from the `model.predict(X)` method)."
   ]
  },
  {
   "cell_type": "code",
   "execution_count": 46,
   "metadata": {
    "ExecuteTime": {
     "end_time": "2022-02-16T18:25:27.113385Z",
     "start_time": "2022-02-16T18:25:27.094408Z"
    }
   },
   "outputs": [
    {
     "data": {
      "text/plain": [
       "-8.196853791724253"
      ]
     },
     "execution_count": 46,
     "metadata": {},
     "output_type": "execute_result"
    }
   ],
   "source": [
    "r2_score(y_observed, y_predicted)"
   ]
  },
  {
   "cell_type": "markdown",
   "metadata": {},
   "source": [
    "Also, you could use the model's  `model.score(X, y)` method."
   ]
  },
  {
   "cell_type": "code",
   "execution_count": 47,
   "metadata": {
    "ExecuteTime": {
     "end_time": "2022-02-16T18:25:29.740340Z",
     "start_time": "2022-02-16T18:25:29.720393Z"
    }
   },
   "outputs": [
    {
     "data": {
      "text/plain": [
       "0.0032089817380568375"
      ]
     },
     "execution_count": 47,
     "metadata": {},
     "output_type": "execute_result"
    }
   ],
   "source": [
    "model.score(X, y)"
   ]
  },
  {
   "cell_type": "markdown",
   "metadata": {},
   "source": [
    "## Using Newspaper"
   ]
  },
  {
   "cell_type": "code",
   "execution_count": 48,
   "metadata": {
    "ExecuteTime": {
     "end_time": "2022-02-16T18:25:34.244483Z",
     "start_time": "2022-02-16T18:25:34.065004Z"
    }
   },
   "outputs": [
    {
     "data": {
      "image/png": "[encoded data removed]",
      "text/plain": [
       "<Figure size 432x288 with 1 Axes>"
      ]
     },
     "metadata": {
      "needs_background": "light"
     },
     "output_type": "display_data"
    }
   ],
   "source": [
    "sns.regplot(x= df['Newspaper'], y = df['Sales']);"
   ]
  },
  {
   "cell_type": "code",
   "execution_count": 52,
   "metadata": {
    "ExecuteTime": {
     "end_time": "2022-02-16T18:35:45.745023Z",
     "start_time": "2022-02-16T18:35:45.567304Z"
    },
    "cell_style": "split"
   },
   "outputs": [
    {
     "data": {
      "text/plain": [
       "<matplotlib.collections.LineCollection at 0x23777cf49d0>"
      ]
     },
     "execution_count": 52,
     "metadata": {},
     "output_type": "execute_result"
    },
    {
     "data": {
      "image/png": "[encoded data removed]",
      "text/plain": [
       "<Figure size 432x288 with 1 Axes>"
      ]
     },
     "metadata": {
      "needs_background": "light"
     },
     "output_type": "display_data"
    }
   ],
   "source": [
    "sns.regplot(x= df['Radio'], y = df['Sales']);\n",
    "plt.hlines(15.13,0,120,'red')"
   ]
  },
  {
   "cell_type": "code",
   "execution_count": 24,
   "metadata": {
    "ExecuteTime": {
     "end_time": "2021-09-15T14:33:19.639677Z",
     "start_time": "2021-09-15T14:33:19.423850Z"
    },
    "cell_style": "split"
   },
   "outputs": [
    {
     "data": {
      "image/png": "[encoded data removed]",
      "text/plain": [
       "<Figure size 432x288 with 1 Axes>"
      ]
     },
     "metadata": {
      "needs_background": "light"
     },
     "output_type": "display_data"
    }
   ],
   "source": [
    "sns.regplot(x= df['TV'], y = df['Sales'])\n",
    "plt.hlines(15.13,0,320,'red');"
   ]
  },
  {
   "cell_type": "code",
   "execution_count": 24,
   "metadata": {
    "ExecuteTime": {
     "end_time": "2022-02-16T18:20:49.343559Z",
     "start_time": "2022-02-16T18:20:49.321590Z"
    }
   },
   "outputs": [
    {
     "data": {
      "text/plain": [
       "0.024951369862864836"
      ]
     },
     "execution_count": 24,
     "metadata": {},
     "output_type": "execute_result"
    }
   ],
   "source": [
    "model = LinearRegression()\n",
    "\n",
    "model.fit(df[['Newspaper']], df['Sales'])\n",
    "\n",
    "model.score(df[['Newspaper']], df['Sales'])"
   ]
  },
  {
   "cell_type": "code",
   "execution_count": 51,
   "metadata": {
    "ExecuteTime": {
     "end_time": "2022-02-16T18:31:48.571639Z",
     "start_time": "2022-02-16T18:31:48.384683Z"
    }
   },
   "outputs": [
    {
     "data": {
      "image/png": "[encoded data removed]",
      "text/plain": [
       "<Figure size 432x288 with 1 Axes>"
      ]
     },
     "metadata": {
      "needs_background": "light"
     },
     "output_type": "display_data"
    }
   ],
   "source": [
    "model_news = LinearRegression()\n",
    "X = df[[\"Newspaper\"]] #dois [] para retornar um dataframe e não uma série\n",
    "y = df[\"Sales\"]\n",
    "\n",
    "model_news.fit(X,y)\n",
    "model_news.score(X,y)\n",
    "sns.regplot(x=df[\"Newspaper\"], y = df[\"Sales\"]);"
   ]
  },
  {
   "cell_type": "code",
   "execution_count": 25,
   "metadata": {
    "ExecuteTime": {
     "end_time": "2022-02-16T18:20:51.015045Z",
     "start_time": "2022-02-16T18:20:51.008040Z"
    }
   },
   "outputs": [
    {
     "data": {
      "text/plain": [
       "array([0.038324])"
      ]
     },
     "execution_count": 25,
     "metadata": {},
     "output_type": "execute_result"
    }
   ],
   "source": [
    "model.coef_"
   ]
  },
  {
   "cell_type": "code",
   "execution_count": 26,
   "metadata": {
    "ExecuteTime": {
     "end_time": "2022-02-16T18:20:53.964415Z",
     "start_time": "2022-02-16T18:20:53.948434Z"
    }
   },
   "outputs": [
    {
     "data": {
      "text/plain": [
       "13.959548653554414"
      ]
     },
     "execution_count": 26,
     "metadata": {},
     "output_type": "execute_result"
    }
   ],
   "source": [
    "model.intercept_"
   ]
  },
  {
   "cell_type": "markdown",
   "metadata": {},
   "source": [
    "----"
   ]
  },
  {
   "cell_type": "markdown",
   "metadata": {},
   "source": [
    "# Multiple Linear Regression\n",
    "\n",
    "Same thing, except that now we'll use more than 1 predictor variable"
   ]
  },
  {
   "cell_type": "markdown",
   "metadata": {},
   "source": [
    "$$y = a_0 + a_1 x_1 + a_2 x_2 + ... + a_n x_n$$"
   ]
  },
  {
   "cell_type": "markdown",
   "metadata": {},
   "source": [
    "![title](https://raw.githubusercontent.com/Rairocha/images/main/mult_lin_reg.png)"
   ]
  },
  {
   "cell_type": "code",
   "execution_count": 25,
   "metadata": {
    "ExecuteTime": {
     "end_time": "2021-09-15T14:49:39.441790Z",
     "start_time": "2021-09-15T14:49:39.419848Z"
    },
    "scrolled": true
   },
   "outputs": [
    {
     "data": {
      "text/plain": [
       "array([0.05444896, 0.10717457])"
      ]
     },
     "execution_count": 25,
     "metadata": {},
     "output_type": "execute_result"
    }
   ],
   "source": [
    "X = df[['TV','Radio']]\n",
    "y = df['Sales']\n",
    "\n",
    "model.fit(X,y)\n",
    "\n",
    "model.coef_"
   ]
  },
  {
   "cell_type": "code",
   "execution_count": 26,
   "metadata": {
    "ExecuteTime": {
     "end_time": "2021-09-15T14:49:41.460961Z",
     "start_time": "2021-09-15T14:49:41.455975Z"
    }
   },
   "outputs": [
    {
     "data": {
      "text/plain": [
       "4.63087946409777"
      ]
     },
     "execution_count": 26,
     "metadata": {},
     "output_type": "execute_result"
    }
   ],
   "source": [
    "model.intercept_"
   ]
  },
  {
   "cell_type": "code",
   "execution_count": 57,
   "metadata": {
    "ExecuteTime": {
     "end_time": "2021-02-13T17:54:44.362640Z",
     "start_time": "2021-02-13T17:54:44.350569Z"
    },
    "scrolled": true
   },
   "outputs": [
    {
     "ename": "NameError",
     "evalue": "name 'TV' is not defined",
     "output_type": "error",
     "traceback": [
      "\u001b[1;31m---------------------------------------------------------------------------\u001b[0m",
      "\u001b[1;31mNameError\u001b[0m                                 Traceback (most recent call last)",
      "\u001b[1;32m<ipython-input-57-9b0af892cc6e>\u001b[0m in \u001b[0;36m<module>\u001b[1;34m\u001b[0m\n\u001b[1;32m----> 1\u001b[1;33m \u001b[0mSales\u001b[0m \u001b[1;33m=\u001b[0m \u001b[1;36m4.63087946409777\u001b[0m \u001b[1;33m+\u001b[0m \u001b[1;36m0.05444896\u001b[0m\u001b[1;33m*\u001b[0m\u001b[0mTV\u001b[0m \u001b[1;33m+\u001b[0m  \u001b[1;36m0.10717457\u001b[0m\u001b[1;33m*\u001b[0m\u001b[0mRadio\u001b[0m\u001b[1;33m\u001b[0m\u001b[1;33m\u001b[0m\u001b[0m\n\u001b[0m",
      "\u001b[1;31mNameError\u001b[0m: name 'TV' is not defined"
     ]
    }
   ],
   "source": [
    "Sales = 4.63087946409777 + 0.05444896*TV +  0.10717457*Radio"
   ]
  },
  {
   "cell_type": "code",
   "execution_count": 21,
   "metadata": {
    "ExecuteTime": {
     "end_time": "2021-02-17T14:12:43.666146Z",
     "start_time": "2021-02-17T14:12:43.647197Z"
    }
   },
   "outputs": [
    {
     "data": {
      "text/plain": [
       "0.9025896186081139"
      ]
     },
     "execution_count": 21,
     "metadata": {},
     "output_type": "execute_result"
    }
   ],
   "source": [
    "model.score(X, y)"
   ]
  },
  {
   "cell_type": "code",
   "execution_count": 59,
   "metadata": {
    "ExecuteTime": {
     "end_time": "2021-02-13T17:54:45.247434Z",
     "start_time": "2021-02-13T17:54:45.229963Z"
    }
   },
   "outputs": [
    {
     "data": {
      "text/plain": [
       "1.6450083823140502"
      ]
     },
     "execution_count": 59,
     "metadata": {},
     "output_type": "execute_result"
    }
   ],
   "source": [
    "np.sqrt(mean_squared_error(y, model.predict(X)))"
   ]
  },
  {
   "cell_type": "markdown",
   "metadata": {},
   "source": [
    "> Any number of variables can be used. It doesn't mean you should."
   ]
  },
  {
   "cell_type": "code",
   "execution_count": 31,
   "metadata": {
    "ExecuteTime": {
     "end_time": "2021-09-15T14:51:27.354891Z",
     "start_time": "2021-09-15T14:51:27.344819Z"
    }
   },
   "outputs": [
    {
     "data": {
      "text/html": [
       "<div>\n",
       "<style scoped>\n",
       "    .dataframe tbody tr th:only-of-type {\n",
       "        vertical-align: middle;\n",
       "    }\n",
       "\n",
       "    .dataframe tbody tr th {\n",
       "        vertical-align: top;\n",
       "    }\n",
       "\n",
       "    .dataframe thead th {\n",
       "        text-align: right;\n",
       "    }\n",
       "</style>\n",
       "<table border=\"1\" class=\"dataframe\">\n",
       "  <thead>\n",
       "    <tr style=\"text-align: right;\">\n",
       "      <th></th>\n",
       "      <th>TV</th>\n",
       "      <th>Radio</th>\n",
       "      <th>Newspaper</th>\n",
       "    </tr>\n",
       "  </thead>\n",
       "  <tbody>\n",
       "    <tr>\n",
       "      <th>0</th>\n",
       "      <td>230.1</td>\n",
       "      <td>37.8</td>\n",
       "      <td>69.2</td>\n",
       "    </tr>\n",
       "    <tr>\n",
       "      <th>1</th>\n",
       "      <td>44.5</td>\n",
       "      <td>39.3</td>\n",
       "      <td>45.1</td>\n",
       "    </tr>\n",
       "    <tr>\n",
       "      <th>2</th>\n",
       "      <td>17.2</td>\n",
       "      <td>45.9</td>\n",
       "      <td>69.3</td>\n",
       "    </tr>\n",
       "    <tr>\n",
       "      <th>3</th>\n",
       "      <td>151.5</td>\n",
       "      <td>41.3</td>\n",
       "      <td>58.5</td>\n",
       "    </tr>\n",
       "    <tr>\n",
       "      <th>4</th>\n",
       "      <td>180.8</td>\n",
       "      <td>10.8</td>\n",
       "      <td>58.4</td>\n",
       "    </tr>\n",
       "    <tr>\n",
       "      <th>...</th>\n",
       "      <td>...</td>\n",
       "      <td>...</td>\n",
       "      <td>...</td>\n",
       "    </tr>\n",
       "    <tr>\n",
       "      <th>195</th>\n",
       "      <td>38.2</td>\n",
       "      <td>3.7</td>\n",
       "      <td>13.8</td>\n",
       "    </tr>\n",
       "    <tr>\n",
       "      <th>196</th>\n",
       "      <td>94.2</td>\n",
       "      <td>4.9</td>\n",
       "      <td>8.1</td>\n",
       "    </tr>\n",
       "    <tr>\n",
       "      <th>197</th>\n",
       "      <td>177.0</td>\n",
       "      <td>9.3</td>\n",
       "      <td>6.4</td>\n",
       "    </tr>\n",
       "    <tr>\n",
       "      <th>198</th>\n",
       "      <td>283.6</td>\n",
       "      <td>42.0</td>\n",
       "      <td>66.2</td>\n",
       "    </tr>\n",
       "    <tr>\n",
       "      <th>199</th>\n",
       "      <td>232.1</td>\n",
       "      <td>8.6</td>\n",
       "      <td>8.7</td>\n",
       "    </tr>\n",
       "  </tbody>\n",
       "</table>\n",
       "<p>200 rows × 3 columns</p>\n",
       "</div>"
      ],
      "text/plain": [
       "        TV  Radio  Newspaper\n",
       "0    230.1   37.8       69.2\n",
       "1     44.5   39.3       45.1\n",
       "2     17.2   45.9       69.3\n",
       "3    151.5   41.3       58.5\n",
       "4    180.8   10.8       58.4\n",
       "..     ...    ...        ...\n",
       "195   38.2    3.7       13.8\n",
       "196   94.2    4.9        8.1\n",
       "197  177.0    9.3        6.4\n",
       "198  283.6   42.0       66.2\n",
       "199  232.1    8.6        8.7\n",
       "\n",
       "[200 rows x 3 columns]"
      ]
     },
     "execution_count": 31,
     "metadata": {},
     "output_type": "execute_result"
    }
   ],
   "source": [
    "X = df[['TV','Radio','Newspaper']]\n",
    "y = df['Sales']\n",
    "\n",
    "X"
   ]
  },
  {
   "cell_type": "code",
   "execution_count": 32,
   "metadata": {
    "ExecuteTime": {
     "end_time": "2021-09-15T14:51:29.320734Z",
     "start_time": "2021-09-15T14:51:29.311771Z"
    }
   },
   "outputs": [
    {
     "data": {
      "text/plain": [
       "LinearRegression()"
      ]
     },
     "execution_count": 32,
     "metadata": {},
     "output_type": "execute_result"
    }
   ],
   "source": [
    "model.fit(X,y)"
   ]
  },
  {
   "cell_type": "code",
   "execution_count": 33,
   "metadata": {
    "ExecuteTime": {
     "end_time": "2021-09-15T14:51:30.184984Z",
     "start_time": "2021-09-15T14:51:30.175011Z"
    }
   },
   "outputs": [
    {
     "data": {
      "text/plain": [
       "array([0.05444578, 0.10700123, 0.00033566])"
      ]
     },
     "execution_count": 33,
     "metadata": {},
     "output_type": "execute_result"
    }
   ],
   "source": [
    "model.coef_"
   ]
  },
  {
   "cell_type": "code",
   "execution_count": 34,
   "metadata": {
    "ExecuteTime": {
     "end_time": "2021-09-15T14:51:31.320849Z",
     "start_time": "2021-09-15T14:51:31.303896Z"
    }
   },
   "outputs": [
    {
     "data": {
      "text/plain": [
       "0.9025912899684558"
      ]
     },
     "execution_count": 34,
     "metadata": {},
     "output_type": "execute_result"
    }
   ],
   "source": [
    "model.score(X, y)"
   ]
  },
  {
   "cell_type": "markdown",
   "metadata": {},
   "source": [
    "0.9025896186081139"
   ]
  },
  {
   "cell_type": "code",
   "execution_count": 37,
   "metadata": {
    "ExecuteTime": {
     "end_time": "2021-02-13T14:01:32.916975Z",
     "start_time": "2021-02-13T14:01:32.902961Z"
    }
   },
   "outputs": [
    {
     "data": {
      "text/html": [
       "<div>\n",
       "<style scoped>\n",
       "    .dataframe tbody tr th:only-of-type {\n",
       "        vertical-align: middle;\n",
       "    }\n",
       "\n",
       "    .dataframe tbody tr th {\n",
       "        vertical-align: top;\n",
       "    }\n",
       "\n",
       "    .dataframe thead th {\n",
       "        text-align: right;\n",
       "    }\n",
       "</style>\n",
       "<table border=\"1\" class=\"dataframe\">\n",
       "  <thead>\n",
       "    <tr style=\"text-align: right;\">\n",
       "      <th></th>\n",
       "      <th>TV</th>\n",
       "      <th>Newspaper</th>\n",
       "    </tr>\n",
       "  </thead>\n",
       "  <tbody>\n",
       "    <tr>\n",
       "      <th>TV</th>\n",
       "      <td>1.000000</td>\n",
       "      <td>0.056648</td>\n",
       "    </tr>\n",
       "    <tr>\n",
       "      <th>Newspaper</th>\n",
       "      <td>0.056648</td>\n",
       "      <td>1.000000</td>\n",
       "    </tr>\n",
       "  </tbody>\n",
       "</table>\n",
       "</div>"
      ],
      "text/plain": [
       "                 TV  Newspaper\n",
       "TV         1.000000   0.056648\n",
       "Newspaper  0.056648   1.000000"
      ]
     },
     "execution_count": 37,
     "metadata": {},
     "output_type": "execute_result"
    }
   ],
   "source": [
    "X.corr()"
   ]
  },
  {
   "cell_type": "code",
   "execution_count": 68,
   "metadata": {
    "ExecuteTime": {
     "end_time": "2020-11-24T15:46:30.536420Z",
     "start_time": "2020-11-24T15:46:30.522948Z"
    },
    "scrolled": false
   },
   "outputs": [
    {
     "data": {
      "text/html": [
       "<div>\n",
       "<style scoped>\n",
       "    .dataframe tbody tr th:only-of-type {\n",
       "        vertical-align: middle;\n",
       "    }\n",
       "\n",
       "    .dataframe tbody tr th {\n",
       "        vertical-align: top;\n",
       "    }\n",
       "\n",
       "    .dataframe thead th {\n",
       "        text-align: right;\n",
       "    }\n",
       "</style>\n",
       "<table border=\"1\" class=\"dataframe\">\n",
       "  <thead>\n",
       "    <tr style=\"text-align: right;\">\n",
       "      <th></th>\n",
       "      <th>coefs</th>\n",
       "      <th>Columns</th>\n",
       "    </tr>\n",
       "  </thead>\n",
       "  <tbody>\n",
       "    <tr>\n",
       "      <th>0</th>\n",
       "      <td>0.054446</td>\n",
       "      <td>TV</td>\n",
       "    </tr>\n",
       "    <tr>\n",
       "      <th>1</th>\n",
       "      <td>0.107001</td>\n",
       "      <td>Radio</td>\n",
       "    </tr>\n",
       "    <tr>\n",
       "      <th>2</th>\n",
       "      <td>0.000336</td>\n",
       "      <td>Newspaper</td>\n",
       "    </tr>\n",
       "  </tbody>\n",
       "</table>\n",
       "</div>"
      ],
      "text/plain": [
       "      coefs    Columns\n",
       "0  0.054446         TV\n",
       "1  0.107001      Radio\n",
       "2  0.000336  Newspaper"
      ]
     },
     "execution_count": 68,
     "metadata": {},
     "output_type": "execute_result"
    }
   ],
   "source": [
    "pd.DataFrame({'coefs':model.coef_,'Columns':X.columns})"
   ]
  },
  {
   "cell_type": "code",
   "execution_count": 40,
   "metadata": {
    "ExecuteTime": {
     "end_time": "2021-09-15T15:11:06.064293Z",
     "start_time": "2021-09-15T15:11:05.951592Z"
    },
    "cell_style": "split"
   },
   "outputs": [
    {
     "data": {
      "image/png": "[encoded data removed]",
      "text/plain": [
       "<Figure size 432x288 with 1 Axes>"
      ]
     },
     "metadata": {
      "needs_background": "light"
     },
     "output_type": "display_data"
    }
   ],
   "source": [
    "sns.scatterplot(x='TV',y='Sales',data=df);"
   ]
  },
  {
   "cell_type": "code",
   "execution_count": 38,
   "metadata": {
    "ExecuteTime": {
     "end_time": "2021-09-15T15:08:56.283946Z",
     "start_time": "2021-09-15T15:08:56.184685Z"
    },
    "cell_style": "split"
   },
   "outputs": [
    {
     "data": {
      "text/plain": [
       "(<AxesSubplot:xlabel='Radio', ylabel='Sales'>,)"
      ]
     },
     "execution_count": 38,
     "metadata": {},
     "output_type": "execute_result"
    },
    {
     "data": {
      "image/png": "[encoded data removed]",
      "text/plain": [
       "<Figure size 432x288 with 1 Axes>"
      ]
     },
     "metadata": {
      "needs_background": "light"
     },
     "output_type": "display_data"
    }
   ],
   "source": [
    "sns.scatterplot(x=df['Radio'],y=df['Sales']),"
   ]
  },
  {
   "cell_type": "code",
   "execution_count": 95,
   "metadata": {
    "ExecuteTime": {
     "end_time": "2020-11-24T18:50:01.667991Z",
     "start_time": "2020-11-24T18:50:01.658018Z"
    }
   },
   "outputs": [
    {
     "data": {
      "text/html": [
       "<div>\n",
       "<style scoped>\n",
       "    .dataframe tbody tr th:only-of-type {\n",
       "        vertical-align: middle;\n",
       "    }\n",
       "\n",
       "    .dataframe tbody tr th {\n",
       "        vertical-align: top;\n",
       "    }\n",
       "\n",
       "    .dataframe thead th {\n",
       "        text-align: right;\n",
       "    }\n",
       "</style>\n",
       "<table border=\"1\" class=\"dataframe\">\n",
       "  <thead>\n",
       "    <tr style=\"text-align: right;\">\n",
       "      <th></th>\n",
       "      <th>TV</th>\n",
       "      <th>Radio</th>\n",
       "      <th>Newspaper</th>\n",
       "      <th>Sales</th>\n",
       "    </tr>\n",
       "  </thead>\n",
       "  <tbody>\n",
       "    <tr>\n",
       "      <th>0</th>\n",
       "      <td>230.1</td>\n",
       "      <td>37.8</td>\n",
       "      <td>69.2</td>\n",
       "      <td>22.1</td>\n",
       "    </tr>\n",
       "    <tr>\n",
       "      <th>1</th>\n",
       "      <td>44.5</td>\n",
       "      <td>39.3</td>\n",
       "      <td>45.1</td>\n",
       "      <td>10.4</td>\n",
       "    </tr>\n",
       "    <tr>\n",
       "      <th>2</th>\n",
       "      <td>17.2</td>\n",
       "      <td>45.9</td>\n",
       "      <td>69.3</td>\n",
       "      <td>12.0</td>\n",
       "    </tr>\n",
       "    <tr>\n",
       "      <th>3</th>\n",
       "      <td>151.5</td>\n",
       "      <td>41.3</td>\n",
       "      <td>58.5</td>\n",
       "      <td>16.5</td>\n",
       "    </tr>\n",
       "    <tr>\n",
       "      <th>4</th>\n",
       "      <td>180.8</td>\n",
       "      <td>10.8</td>\n",
       "      <td>58.4</td>\n",
       "      <td>17.9</td>\n",
       "    </tr>\n",
       "  </tbody>\n",
       "</table>\n",
       "</div>"
      ],
      "text/plain": [
       "      TV  Radio  Newspaper  Sales\n",
       "0  230.1   37.8       69.2   22.1\n",
       "1   44.5   39.3       45.1   10.4\n",
       "2   17.2   45.9       69.3   12.0\n",
       "3  151.5   41.3       58.5   16.5\n",
       "4  180.8   10.8       58.4   17.9"
      ]
     },
     "execution_count": 95,
     "metadata": {},
     "output_type": "execute_result"
    }
   ],
   "source": [
    "df.head()"
   ]
  },
  {
   "cell_type": "markdown",
   "metadata": {},
   "source": [
    "# Standardization (Z-score)"
   ]
  },
  {
   "cell_type": "markdown",
   "metadata": {},
   "source": [
    "Standardize a variables means: transform it into a variable that has **mean = 0** and **standard deviation = 1**. In this manner, all variables are scaled to the same scale!\n",
    "\n",
    "$$X_{std} = \\frac{X - \\mu}{\\sigma}$$\n",
    "\n",
    "$\\mu \\rightarrow$ média\n",
    "\n",
    "$\\sigma \\rightarrow$ desvio padrão\n",
    "\n",
    "<br><br>\n",
    "<b>Understanding:</b>\n",
    "\n",
    "If $X_{std}$ > 0 $\\rightarrow$ it means that that specific observation is <u>above average</u>\n",
    "\n",
    "If $X_{std}$ < 0 $\\rightarrow$ it means that that specific observation is <u>below average</u>\n",
    "\n",
    "If $X_{std}$ = 0 $\\rightarrow$ it means that that specific observation is <u>the average</u>\n",
    "\n",
    "If $X_{std}$ = 1 $\\rightarrow$ it means that that specific observation is <u>1 standard deviation above average</u>\n",
    "\n",
    "If $X_{std}$ = -2 $\\rightarrow$ it means that that specific observation is <u>2 standard deviations below average</u>\n"
   ]
  },
  {
   "cell_type": "code",
   "execution_count": 41,
   "metadata": {
    "ExecuteTime": {
     "end_time": "2021-09-15T15:13:48.116888Z",
     "start_time": "2021-09-15T15:13:48.108909Z"
    }
   },
   "outputs": [],
   "source": [
    "X_std = (X - X.mean())/X.std()"
   ]
  },
  {
   "cell_type": "code",
   "execution_count": 42,
   "metadata": {
    "ExecuteTime": {
     "end_time": "2021-09-15T15:13:48.504827Z",
     "start_time": "2021-09-15T15:13:48.490864Z"
    }
   },
   "outputs": [
    {
     "data": {
      "text/plain": [
       "LinearRegression()"
      ]
     },
     "execution_count": 42,
     "metadata": {},
     "output_type": "execute_result"
    }
   ],
   "source": [
    "model.fit(X_std, y)"
   ]
  },
  {
   "cell_type": "code",
   "execution_count": 43,
   "metadata": {
    "ExecuteTime": {
     "end_time": "2021-09-15T15:13:51.152013Z",
     "start_time": "2021-09-15T15:13:51.143038Z"
    }
   },
   "outputs": [
    {
     "data": {
      "text/plain": [
       "array([4.67440089, 1.58862682, 0.00731017])"
      ]
     },
     "execution_count": 43,
     "metadata": {},
     "output_type": "execute_result"
    }
   ],
   "source": [
    "model.coef_"
   ]
  },
  {
   "cell_type": "code",
   "execution_count": 45,
   "metadata": {
    "ExecuteTime": {
     "end_time": "2021-09-15T15:15:25.545691Z",
     "start_time": "2021-09-15T15:15:25.534722Z"
    }
   },
   "outputs": [
    {
     "name": "stdout",
     "output_type": "stream",
     "text": [
      "media 147.0425 desvio padrao 85.8542363149081\n"
     ]
    }
   ],
   "source": [
    "print(f\"media {X['TV'].mean()} desvio padrao {X['TV'].std()}\")"
   ]
  },
  {
   "cell_type": "code",
   "execution_count": 48,
   "metadata": {
    "ExecuteTime": {
     "end_time": "2021-09-15T15:17:17.385543Z",
     "start_time": "2021-09-15T15:17:17.375571Z"
    }
   },
   "outputs": [
    {
     "data": {
      "text/plain": [
       "-24.665972629816224"
      ]
     },
     "execution_count": 48,
     "metadata": {},
     "output_type": "execute_result"
    }
   ],
   "source": [
    "X['TV'].mean()-X['TV'].std()"
   ]
  },
  {
   "cell_type": "code",
   "execution_count": 69,
   "metadata": {
    "ExecuteTime": {
     "end_time": "2021-02-13T18:27:59.269072Z",
     "start_time": "2021-02-13T18:27:59.253115Z"
    },
    "cell_style": "split"
   },
   "outputs": [
    {
     "data": {
      "text/plain": [
       "[(230.1, 0.9674245973763037),\n",
       " (44.5, -1.1943790359264317),\n",
       " (17.2, -1.5123598505232243),\n",
       " (151.5, 0.05191939491081339),\n",
       " (180.8, 0.39319550728026476),\n",
       " (8.7, -1.6113648660570241),\n",
       " (57.5, -1.0429596004041497),\n",
       " (120.2, -0.3126520152312966),\n",
       " (8.6, -1.612529630945657),\n",
       " (199.8, 0.6145008361205232),\n",
       " (66.1, -0.9427898199817168),\n",
       " (214.7, 0.788050804526831),\n",
       " (23.8, -1.4354853678734503),\n",
       " (97.5, -0.5770536449509739),\n",
       " (204.1, 0.6645857263317394),\n",
       " (195.4, 0.5632511810206738),\n",
       " (67.8, -0.9229888168749569),\n",
       " (281.4, 1.5649489852450014),\n",
       " (69.2, -0.9066821084340957),\n",
       " (147.3, 0.0029992695882300703),\n",
       " (218.4, 0.8311471054062499),\n",
       " (237.4, 1.0524524342465085),\n",
       " (13.2, -1.558950446068542),\n",
       " (228.3, 0.946458829380911),\n",
       " (62.3, -0.9870508857497685),\n",
       " (262.9, 1.3494674808479077),\n",
       " (142.9, -0.04825038551161933),\n",
       " (240.1, 1.0839010862395977),\n",
       " (248.8, 1.1852356315506636),\n",
       " (70.6, -0.8903753999932347),\n",
       " (292.9, 1.6988969474377893),\n",
       " (112.9, -0.39767985210150114),\n",
       " (97.2, -0.5805479396168727),\n",
       " (265.6, 1.3809161328409976),\n",
       " (95.7, -0.5980194129463667),\n",
       " (290.7, 1.6732721198878648),\n",
       " (266.9, 1.396058076393225),\n",
       " (74.7, -0.842620039559284),\n",
       " (43.1, -1.210685744367293),\n",
       " (228.0, 0.942964534715012),\n",
       " (202.5, 0.6459494881136125),\n",
       " (177.0, 0.3489344415122129),\n",
       " (293.6, 1.7070503016582206),\n",
       " (206.9, 0.6971991432134619),\n",
       " (25.1, -1.420343424321222),\n",
       " (175.1, 0.32680390862818703),\n",
       " (89.7, -0.6679053062643431),\n",
       " (239.9, 1.0815715564623318),\n",
       " (227.2, 0.9336464156059484),\n",
       " (66.9, -0.9334717008726533),\n",
       " (199.8, 0.6145008361205232),\n",
       " (100.4, -0.5432754631806186),\n",
       " (216.4, 0.8078518076335911),\n",
       " (182.6, 0.4141612752756575),\n",
       " (262.7, 1.3471379510706418),\n",
       " (198.9, 0.6040179521228267),\n",
       " (7.3, -1.6276715744978851),\n",
       " (136.2, -0.12628963305002647),\n",
       " (210.8, 0.7426249738701466),\n",
       " (210.7, 0.7414602089815133),\n",
       " (53.5, -1.0895501959494671),\n",
       " (261.3, 1.330831242629781),\n",
       " (239.3, 1.0745829671305343),\n",
       " (102.7, -0.516485870742061),\n",
       " (131.1, -0.1856926423703063),\n",
       " (69.0, -0.9090116382113616),\n",
       " (31.5, -1.345798471448714),\n",
       " (139.3, -0.09018192150240507),\n",
       " (237.4, 1.0524524342465085),\n",
       " (216.8, 0.8125108671881229),\n",
       " (199.1, 0.6063474819000925),\n",
       " (109.8, -0.43378756364912235),\n",
       " (26.8, -1.400542421214462),\n",
       " (129.4, -0.20549364547706614),\n",
       " (213.4, 0.7729088609746029),\n",
       " (16.9, -1.515854145189123),\n",
       " (27.5, -1.3923890669940315),\n",
       " (120.5, -0.3091577205653978),\n",
       " (5.4, -1.649802107381911),\n",
       " (116.0, -0.3615721405538801),\n",
       " (76.4, -0.822819036452524),\n",
       " (239.8, 1.080406791573699),\n",
       " (75.3, -0.8356314502274864),\n",
       " (68.4, -0.9160002275431591),\n",
       " (213.5, 0.7740736258632358),\n",
       " (193.2, 0.5376263534707489),\n",
       " (76.3, -0.823983801341157),\n",
       " (110.7, -0.4233046796514258),\n",
       " (88.3, -0.6842120147052043),\n",
       " (109.8, -0.43378756364912235),\n",
       " (134.3, -0.14842016593405205),\n",
       " (28.6, -1.3795766532190692),\n",
       " (217.7, 0.8229937511858191),\n",
       " (250.9, 1.2096956942119552),\n",
       " (107.4, -0.4617419209763128),\n",
       " (163.3, 0.18936165176950037),\n",
       " (197.6, 0.5888760085705984),\n",
       " (184.9, 0.4409508677142152),\n",
       " (289.7, 1.6616244710015355),\n",
       " (135.2, -0.13793728193635585),\n",
       " (222.4, 0.8777377009515674),\n",
       " (296.4, 1.7396637185399422),\n",
       " (280.2, 1.5509718065814062),\n",
       " (187.9, 0.4758938143732034),\n",
       " (238.2, 1.0617705533555717),\n",
       " (137.9, -0.1064886299432663),\n",
       " (25.0, -1.4215081892098549),\n",
       " (90.4, -0.6597519520439125),\n",
       " (13.1, -1.5601152109571748),\n",
       " (255.4, 1.2621101142004374),\n",
       " (225.8, 0.9173397071650875),\n",
       " (241.7, 1.1025373244577246),\n",
       " (175.7, 0.3337924979599846),\n",
       " (209.6, 0.7286477952065511),\n",
       " (78.2, -0.8018532684571311),\n",
       " (75.1, -0.8379609800047524),\n",
       " (139.2, -0.09134668639103828),\n",
       " (76.4, -0.822819036452524),\n",
       " (125.7, -0.24858994635648493),\n",
       " (19.4, -1.4867350229732994),\n",
       " (141.3, -0.0668866237297463),\n",
       " (18.8, -1.493723612305097),\n",
       " (224.0, 0.8963739391696944),\n",
       " (123.1, -0.27887383346094147),\n",
       " (229.5, 0.9604360080445061),\n",
       " (87.2, -0.6970244284801665),\n",
       " (7.8, -1.6218477500547204),\n",
       " (80.2, -0.7785579706844723),\n",
       " (220.3, 0.8532776382902758),\n",
       " (59.6, -1.018499537742858),\n",
       " (0.7, -1.7045460571476594),\n",
       " (265.2, 1.3762570732864654),\n",
       " (8.4, -1.6148591607229228),\n",
       " (219.8, 0.8474538138471112),\n",
       " (36.9, -1.282901167462535),\n",
       " (48.3, -1.1501179701583801),\n",
       " (25.6, -1.4145195998780573),\n",
       " (273.7, 1.4752620888202652),\n",
       " (43.0, -1.2118505092559257),\n",
       " (184.9, 0.4409508677142152),\n",
       " (73.4, -0.8577619831115122),\n",
       " (193.7, 0.5434501779139137),\n",
       " (220.5, 0.8556071680675416),\n",
       " (104.6, -0.49435533785803526),\n",
       " (96.2, -0.5921955885032021),\n",
       " (140.3, -0.07853427261607568),\n",
       " (240.1, 1.0839010862395977),\n",
       " (243.2, 1.1200087977872186),\n",
       " (38.0, -1.270088753687573),\n",
       " (44.7, -1.1920495061491658),\n",
       " (280.7, 1.556795631024571),\n",
       " (121.0, -0.3033338961222331),\n",
       " (197.6, 0.5888760085705984),\n",
       " (171.3, 0.28254284286013553),\n",
       " (187.8, 0.4747290494845705),\n",
       " (4.1, -1.6649440509341393),\n",
       " (93.9, -0.6189851809417596),\n",
       " (149.8, 0.032118391804053556),\n",
       " (11.7, -1.576421919398036),\n",
       " (131.7, -0.17870405303850873),\n",
       " (172.5, 0.29652002152373064),\n",
       " (85.7, -0.7144959018096607),\n",
       " (188.4, 0.4817176388163681),\n",
       " (163.5, 0.19169118154676612),\n",
       " (117.2, -0.34759496189028477),\n",
       " (234.5, 1.0186742524761532),\n",
       " (17.9, -1.5042064963027935),\n",
       " (206.8, 0.696034378324829),\n",
       " (215.4, 0.7962041587472617),\n",
       " (284.3, 1.598727167015357),\n",
       " (50.0, -1.13031696705162),\n",
       " (164.5, 0.2033388304330955),\n",
       " (19.6, -1.4844054931960338),\n",
       " (168.4, 0.2487646610897802),\n",
       " (222.4, 0.8777377009515674),\n",
       " (276.9, 1.5125345652565192),\n",
       " (248.4, 1.1805765719961316),\n",
       " (170.2, 0.2697304290851729),\n",
       " (276.7, 1.5102050354792533),\n",
       " (165.6, 0.21615124420805779),\n",
       " (156.6, 0.11132240423109323),\n",
       " (218.5, 0.8323118702948827),\n",
       " (56.2, -1.058101543956378),\n",
       " (287.6, 1.6371644083402441),\n",
       " (253.8, 1.2434738759823105),\n",
       " (205.0, 0.675068610329436),\n",
       " (139.5, -0.08785239172513934),\n",
       " (191.1, 0.5131662908094573),\n",
       " (286.0, 1.6185281701221168),\n",
       " (18.7, -1.4948883771937302),\n",
       " (39.5, -1.2526172803580786),\n",
       " (75.5, -0.8333019204502206),\n",
       " (17.2, -1.5123598505232243),\n",
       " (166.8, 0.23012842287165325),\n",
       " (149.7, 0.030953626915420352),\n",
       " (38.2, -1.2677592239103068),\n",
       " (94.2, -0.6154908862758608),\n",
       " (177.0, 0.3489344415122129),\n",
       " (283.6, 1.5905738127949265),\n",
       " (232.1, 0.9907198951489624)]"
      ]
     },
     "execution_count": 69,
     "metadata": {},
     "output_type": "execute_result"
    }
   ],
   "source": [
    "list(zip(X[\"TV\"],X_std['TV']))"
   ]
  },
  {
   "cell_type": "code",
   "execution_count": 70,
   "metadata": {
    "ExecuteTime": {
     "end_time": "2021-02-13T18:28:44.809762Z",
     "start_time": "2021-02-13T18:28:44.786993Z"
    },
    "cell_style": "split"
   },
   "outputs": [
    {
     "data": {
      "text/plain": [
       "[(37.8, 0.9790655909643101),\n",
       " (39.3, 1.0800974007088386),\n",
       " (45.9, 1.5246373635847648),\n",
       " (41.3, 1.2148064803682102),\n",
       " (10.8, -0.8395069844372047),\n",
       " (48.9, 1.726700983073822),\n",
       " (32.8, 0.6422928918158815),\n",
       " (19.6, -0.2467870339359701),\n",
       " (2.1, -1.4254914809554706),\n",
       " (2.6, -1.3918142110406277),\n",
       " (5.8, -1.1762796835856335),\n",
       " (24.0, 0.049572941314647075),\n",
       " (35.1, 0.7972083334241589),\n",
       " (7.6, -1.0550415118921992),\n",
       " (32.9, 0.64902834579885),\n",
       " (47.7, 1.6458755352781993),\n",
       " (36.6, 0.8982401431686875),\n",
       " (39.6, 1.1003037626577448),\n",
       " (20.5, -0.18616794808925302),\n",
       " (23.9, 0.04283748733167841),\n",
       " (27.7, 0.2987847386844843),\n",
       " (5.1, -1.2234278614664134),\n",
       " (15.9, -0.4959988313058074),\n",
       " (16.9, -0.4286442914761218),\n",
       " (12.6, -0.7182688127437704),\n",
       " (3.5, -1.3311951251939107),\n",
       " (29.3, 0.4065520024119816),\n",
       " (16.7, -0.4421151994420589),\n",
       " (27.1, 0.258372014786673),\n",
       " (16.0, -0.48926337732283887),\n",
       " (28.3, 0.33919746258229583),\n",
       " (17.4, -0.39496702156127894),\n",
       " (1.5, -1.4659042048532822),\n",
       " (20.0, -0.2198452180040959),\n",
       " (1.4, -1.4726396588362507),\n",
       " (4.1, -1.2907824012960991),\n",
       " (43.8, 1.3831928299424245),\n",
       " (49.4, 1.760378252988665),\n",
       " (26.7, 0.23143019885479854),\n",
       " (37.7, 0.972330136981342),\n",
       " (22.3, -0.06492977639581864),\n",
       " (33.4, 0.6827056157136929),\n",
       " (27.7, 0.2987847386844843),\n",
       " (8.4, -1.0011578800284504),\n",
       " (25.7, 0.16407565902511279),\n",
       " (22.5, -0.05145886842988154),\n",
       " (9.9, -0.9001260702839219),\n",
       " (41.5, 1.2282773883341476),\n",
       " (15.8, -0.502734285288776),\n",
       " (11.7, -0.7788878985904876),\n",
       " (3.1, -1.3581369411257849),\n",
       " (9.6, -0.9203324322328277),\n",
       " (41.7, 1.241748296300085),\n",
       " (46.2, 1.5448437255336707),\n",
       " (28.8, 0.3728747324971387),\n",
       " (49.4, 1.760378252988665),\n",
       " (28.1, 0.32572655461635874),\n",
       " (19.2, -0.2737288498678445),\n",
       " (49.6, 1.773849160954602),\n",
       " (29.5, 0.42002291037791867),\n",
       " (2.0, -1.4322269349384393),\n",
       " (42.7, 1.3091028361297707),\n",
       " (15.5, -0.5229406472376817),\n",
       " (29.6, 0.4267583643608873),\n",
       " (42.8, 1.3158382901127388),\n",
       " (9.3, -0.9405387941817333),\n",
       " (24.6, 0.08998566521245861),\n",
       " (14.5, -0.5902951870673675),\n",
       " (27.5, 0.28531383071854716),\n",
       " (43.9, 1.3899282839253932),\n",
       " (30.6, 0.4941129041905731),\n",
       " (14.3, -0.6037660950333046),\n",
       " (33.0, 0.6557637997818188),\n",
       " (5.7, -1.183015137568602),\n",
       " (24.6, 0.08998566521245861),\n",
       " (43.7, 1.3764573759594565),\n",
       " (1.6, -1.4591687508703135),\n",
       " (28.5, 0.3526683705482329),\n",
       " (29.9, 0.44696472630979284),\n",
       " (7.7, -1.0483060579092305),\n",
       " (26.7, 0.23143019885479854),\n",
       " (4.1, -1.2907824012960991),\n",
       " (20.3, -0.19963885605519013),\n",
       " (44.5, 1.4303410078232048),\n",
       " (43.0, 1.3293091980786762),\n",
       " (18.4, -0.3276124817315932),\n",
       " (27.5, 0.28531383071854716),\n",
       " (40.6, 1.1676583024874305),\n",
       " (25.5, 0.1506047510591757),\n",
       " (47.8, 1.6526109892611676),\n",
       " (4.9, -1.2368987694323508),\n",
       " (1.5, -1.4659042048532822),\n",
       " (33.5, 0.6894410696966616),\n",
       " (36.5, 0.8915046891857189),\n",
       " (14.0, -0.6239724569822104),\n",
       " (31.6, 0.5614674440202588),\n",
       " (3.5, -1.3311951251939107),\n",
       " (21.0, -0.15249067817441014),\n",
       " (42.3, 1.282161020197896),\n",
       " (41.7, 1.241748296300085),\n",
       " (4.3, -1.277311493330162),\n",
       " (36.3, 0.8780337812197815),\n",
       " (10.1, -0.8866551623179848),\n",
       " (17.2, -0.408437929527216),\n",
       " (34.3, 0.7433247015604101),\n",
       " (46.4, 1.5583146334996076),\n",
       " (11.0, -0.8260360764712675),\n",
       " (0.3, -1.546729652648905),\n",
       " (0.4, -1.5399941986659365),\n",
       " (26.9, 0.24490110682073563),\n",
       " (8.2, -1.0146287879943876),\n",
       " (38.0, 0.9925364989302474),\n",
       " (15.4, -0.5296761012206503),\n",
       " (20.6, -0.17943249410628434),\n",
       " (46.8, 1.5852564494314818),\n",
       " (35.0, 0.7904728794411903),\n",
       " (14.3, -0.6037660950333046),\n",
       " (0.8, -1.513052382734062),\n",
       " (36.9, 0.9184465051175931),\n",
       " (16.0, -0.48926337732283887),\n",
       " (26.8, 0.2381656528377672),\n",
       " (21.7, -0.10534250029363018),\n",
       " (2.4, -1.4052851190065652),\n",
       " (34.6, 0.7635310635093161),\n",
       " (32.3, 0.6086156219010386),\n",
       " (11.8, -0.772152444607519),\n",
       " (38.9, 1.0531555847769645),\n",
       " (0.0, -1.5669360145978108),\n",
       " (49.0, 1.7334364370567907),\n",
       " (12.0, -0.7586815366415819),\n",
       " (39.6, 1.1003037626577448),\n",
       " (2.9, -1.3716078490917223),\n",
       " (27.2, 0.2651074687696414),\n",
       " (33.5, 0.6894410696966616),\n",
       " (38.6, 1.032949222828059),\n",
       " (47.0, 1.5987273573974192),\n",
       " (39.0, 1.0598910387599332),\n",
       " (28.9, 0.37961018648010714),\n",
       " (25.9, 0.1775465669910499),\n",
       " (43.9, 1.3899282839253932),\n",
       " (17.0, -0.4219088374931531),\n",
       " (35.4, 0.8174146953730644),\n",
       " (33.2, 0.6692347077477561),\n",
       " (5.7, -1.183015137568602),\n",
       " (14.8, -0.5700888251184617),\n",
       " (1.9, -1.438962388921408),\n",
       " (7.3, -1.0752478738411049),\n",
       " (49.0, 1.7334364370567907),\n",
       " (40.3, 1.1474519405385244),\n",
       " (25.8, 0.17081111300808147),\n",
       " (13.9, -0.6307079109651789),\n",
       " (8.4, -1.0011578800284504),\n",
       " (23.3, 0.0024247634338671036),\n",
       " (39.7, 1.1070392166407135),\n",
       " (21.1, -0.1457552241914415),\n",
       " (11.6, -0.7856233525734562),\n",
       " (43.5, 1.362986467993519),\n",
       " (1.3, -1.4793751128192192),\n",
       " (36.9, 0.9184465051175931),\n",
       " (18.4, -0.3276124817315932),\n",
       " (18.1, -0.3478188436804987),\n",
       " (35.8, 0.8443565113049386),\n",
       " (18.1, -0.3478188436804987),\n",
       " (36.8, 0.9117110511346244),\n",
       " (14.7, -0.5768242791014304),\n",
       " (3.4, -1.3379305791768794),\n",
       " (37.6, 0.9655946829983733),\n",
       " (5.2, -1.2166924074834449),\n",
       " (23.6, 0.022631125382772874),\n",
       " (10.6, -0.8529778924031419),\n",
       " (11.6, -0.7856233525734562),\n",
       " (20.9, -0.15922613215737882),\n",
       " (20.1, -0.21310976402112722),\n",
       " (7.1, -1.0887187818070418),\n",
       " (3.4, -1.3379305791768794),\n",
       " (48.9, 1.726700983073822),\n",
       " (30.2, 0.46717108825869863),\n",
       " (7.8, -1.041570603926262),\n",
       " (2.3, -1.4120205729895334),\n",
       " (10.0, -0.8933906163009533),\n",
       " (2.6, -1.3918142110406277),\n",
       " (5.4, -1.203221499517508),\n",
       " (5.7, -1.183015137568602),\n",
       " (43.0, 1.3293091980786762),\n",
       " (21.3, -0.13228431622550438),\n",
       " (45.1, 1.4707537317210164),\n",
       " (2.1, -1.4254914809554706),\n",
       " (28.7, 0.36613927851417),\n",
       " (13.9, -0.6307079109651789),\n",
       " (12.1, -0.7519460826586133),\n",
       " (41.1, 1.2013355724022734),\n",
       " (10.8, -0.8395069844372047),\n",
       " (4.1, -1.2907824012960991),\n",
       " (42.0, 1.2619546582489904),\n",
       " (35.6, 0.8308856033390017),\n",
       " (3.7, -1.3177242172279735),\n",
       " (4.9, -1.2368987694323508),\n",
       " (9.3, -0.9405387941817333),\n",
       " (42.0, 1.2619546582489904),\n",
       " (8.6, -0.9876869720625134)]"
      ]
     },
     "execution_count": 70,
     "metadata": {},
     "output_type": "execute_result"
    }
   ],
   "source": [
    "list(zip(X[\"Radio\"],X_std['Radio']))"
   ]
  },
  {
   "cell_type": "code",
   "execution_count": 71,
   "metadata": {
    "ExecuteTime": {
     "end_time": "2021-02-13T18:31:08.883526Z",
     "start_time": "2021-02-13T18:31:08.863579Z"
    }
   },
   "outputs": [
    {
     "data": {
      "text/plain": [
       "StandardScaler()"
      ]
     },
     "execution_count": 71,
     "metadata": {},
     "output_type": "execute_result"
    }
   ],
   "source": [
    "# good way to Standardize\n",
    "\n",
    "from sklearn.preprocessing import StandardScaler\n",
    "\n",
    "scaler = StandardScaler()\n",
    "scaler.fit(X) # aprende a media e a variancia do seu X"
   ]
  },
  {
   "cell_type": "code",
   "execution_count": 72,
   "metadata": {
    "ExecuteTime": {
     "end_time": "2021-02-13T18:31:10.537581Z",
     "start_time": "2021-02-13T18:31:10.520316Z"
    }
   },
   "outputs": [
    {
     "data": {
      "text/plain": [
       "array([[ 9.69852266e-01,  9.81522472e-01,  1.77894547e+00],\n",
       "       [-1.19737623e+00,  1.08280781e+00,  6.69578760e-01],\n",
       "       [-1.51615499e+00,  1.52846331e+00,  1.78354865e+00],\n",
       "       [ 5.20496822e-02,  1.21785493e+00,  1.28640506e+00],\n",
       "       [ 3.94182198e-01, -8.41613655e-01,  1.28180188e+00],\n",
       "       [-1.61540845e+00,  1.73103399e+00,  2.04592999e+00],\n",
       "       [-1.04557682e+00,  6.43904671e-01, -3.24708413e-01],\n",
       "       [-3.13436589e-01, -2.47406325e-01, -8.72486994e-01],\n",
       "       [-1.61657614e+00, -1.42906863e+00, -1.36042422e+00],\n",
       "       [ 6.16042873e-01, -1.39530685e+00, -4.30581584e-01],\n",
       "       [-9.45155670e-01, -1.17923146e+00, -2.92486143e-01],\n",
       "       [ 7.90028350e-01,  4.96973404e-02, -1.22232878e+00],\n",
       "       [-1.43908760e+00,  7.99208859e-01,  1.62704048e+00],\n",
       "       [-5.78501712e-01, -1.05768905e+00, -1.07502697e+00],\n",
       "       [ 6.66253447e-01,  6.50657027e-01,  7.11007392e-01],\n",
       "       [ 5.64664612e-01,  1.65000572e+00,  1.02862691e+00],\n",
       "       [-9.25304978e-01,  9.00494200e-01,  3.84117072e+00],\n",
       "       [ 1.56887609e+00,  1.10306488e+00,  1.16211917e+00],\n",
       "       [-9.08957349e-01, -1.86635121e-01, -5.64073843e-01],\n",
       "       [ 3.00679600e-03,  4.29449843e-02, -5.27248393e-01],\n",
       "       [ 8.33232798e-01,  2.99534513e-01,  1.05164281e+00],\n",
       "       [ 1.05509347e+00, -1.22649795e+00, -3.24708413e-01],\n",
       "       [-1.56286250e+00, -4.97243498e-01,  8.76721921e-01],\n",
       "       [ 9.48833887e-01, -4.29719938e-01, -2.00422516e-01],\n",
       "       [-9.89527805e-01, -7.20071247e-01, -5.64073843e-01],\n",
       "       [ 1.35285385e+00, -1.33453565e+00, -5.08835667e-01],\n",
       "       [-4.83714657e-02,  4.07572210e-01, -8.26455181e-01],\n",
       "       [ 1.08662104e+00, -4.43224650e-01, -3.52327501e-01],\n",
       "       [ 1.18820988e+00,  2.59020377e-01, -3.52327501e-01],\n",
       "       [-8.92609721e-01, -4.90491142e-01,  4.71641962e-01],\n",
       "       [ 1.70316018e+00,  3.40048650e-01,  5.82118314e-01],\n",
       "       [-3.98677796e-01, -3.95958157e-01,  3.70371972e-01],\n",
       "       [-5.82004775e-01, -1.46958277e+00, -2.55016247e-02],\n",
       "       [ 1.38438142e+00, -2.20396901e-01, -1.39264649e+00],\n",
       "       [-5.99520091e-01, -1.47633512e+00, -1.06582061e+00],\n",
       "       [ 1.67747105e+00, -1.29402151e+00, -1.01518562e+00],\n",
       "       [ 1.39956136e+00,  1.38666383e+00, -1.17629696e+00],\n",
       "       [-8.44734522e-01,  1.76479577e+00,  6.97197848e-01],\n",
       "       [-1.21372386e+00,  2.32010953e-01,  2.09260624e-01],\n",
       "       [ 9.45330823e-01,  9.74770116e-01,  6.65620024e-02],\n",
       "       [ 6.47570443e-01, -6.50927121e-02,  4.81492770e-02],\n",
       "       [ 3.49810063e-01,  6.84418807e-01,  3.74975153e-01],\n",
       "       [ 1.71133400e+00,  2.99534513e-01, -1.32359877e+00],\n",
       "       [ 6.98948705e-01, -1.00367020e+00, -1.91216154e-01],\n",
       "       [-1.42390765e+00,  1.64487393e-01,  5.86721496e-01],\n",
       "       [ 3.27623995e-01, -5.15880000e-02,  4.35460956e-02],\n",
       "       [-6.69581357e-01, -9.02384859e-01,  2.36879713e-01],\n",
       "       [ 1.08428567e+00,  1.23135965e+00, -5.54867481e-01],\n",
       "       [ 9.35989321e-01, -5.03995854e-01,  8.90531465e-01],\n",
       "       [-9.35814168e-01, -7.80842451e-01,  2.87514708e-01],\n",
       "       [ 6.16042873e-01, -1.36154507e+00,  1.86244718e-01],\n",
       "       [-5.44638766e-01, -9.22641928e-01, -1.24074150e+00],\n",
       "       [ 8.09879042e-01,  1.24486436e+00,  4.16403786e-01],\n",
       "       [ 4.15200577e-01,  1.54872038e+00,  1.29561142e+00],\n",
       "       [ 1.35051848e+00,  3.73810430e-01, -6.74550196e-01],\n",
       "       [ 6.05533683e-01,  1.76479577e+00,  1.35545278e+00],\n",
       "       [-1.63175608e+00,  3.26543937e-01,  4.99261050e-01],\n",
       "       [-1.26606546e-01, -2.74415749e-01, -6.42327927e-01],\n",
       "       [ 7.44488528e-01,  1.77830048e+00,  3.28943340e-01],\n",
       "       [ 7.43320840e-01,  4.21076922e-01, -9.78360166e-01],\n",
       "       [-1.09228433e+00, -1.43582099e+00, -4.21375221e-01],\n",
       "       [ 1.33417085e+00,  1.31238792e+00,  1.11148417e+00],\n",
       "       [ 1.07727954e+00, -5.24252922e-01, -1.49787521e-01],\n",
       "       [-5.17781948e-01,  4.27829278e-01, -1.01978880e+00],\n",
       "       [-1.86158622e-01,  1.31914027e+00, -7.61366196e-02],\n",
       "       [-9.11292725e-01, -9.42898996e-01, -1.36502740e+00],\n",
       "       [-1.34917564e+00,  9.02114765e-02, -1.30518604e+00],\n",
       "       [-9.04082253e-02, -5.91776482e-01, -9.36931533e-01],\n",
       "       [ 1.05509347e+00,  2.86029801e-01, -9.00106083e-01],\n",
       "       [ 8.14549794e-01,  1.39341619e+00, -1.54390703e-01],\n",
       "       [ 6.07869059e-01,  4.95352838e-01,  3.74975153e-01],\n",
       "       [-4.34876116e-01, -6.05281194e-01,  5.27524584e-02],\n",
       "       [-1.40405696e+00,  6.57409383e-01, -5.18042030e-01],\n",
       "       [-2.06009314e-01, -1.18598381e+00,  3.43397329e-02],\n",
       "       [ 7.74848409e-01,  9.02114765e-02, -8.03439274e-01],\n",
       "       [-1.51965805e+00,  1.37991148e+00,  2.70878810e+00],\n",
       "       [-1.39588315e+00, -1.46283041e+00, -4.53597491e-01],\n",
       "       [-3.09933525e-01,  3.53553362e-01, -7.52804279e-01],\n",
       "       [-1.65394214e+00,  4.48086346e-01, -9.73756984e-01],\n",
       "       [-3.62479475e-01, -1.05093669e+00, -3.43121138e-01],\n",
       "       [-8.24883830e-01,  2.32010953e-01, -3.79946589e-01],\n",
       "       [ 1.08311798e+00, -1.29402151e+00,  2.92117889e-01],\n",
       "       [-8.37728396e-01, -2.00139833e-01,  8.95779092e-02],\n",
       "       [-9.18298852e-01,  1.43393033e+00,  2.32276531e-01],\n",
       "       [ 7.76016097e-01,  1.33264499e+00,  1.49419267e-01],\n",
       "       [ 5.38975481e-01, -3.28434597e-01,  1.61783412e+00],\n",
       "       [-8.26051518e-01,  2.86029801e-01, -6.69947015e-01],\n",
       "       [-4.24366926e-01,  1.17058844e+00,  1.50275459e+00],\n",
       "       [-6.85928986e-01,  1.50982681e-01,  1.97227908e+00],\n",
       "       [-4.34876116e-01,  1.65675807e+00,  9.59579186e-01],\n",
       "       [-1.48792614e-01, -1.24000266e+00, -9.78360166e-01],\n",
       "       [-1.38303858e+00, -1.46958277e+00,  1.12593816e-01],\n",
       "       [ 8.25058983e-01,  6.91171163e-01,  1.30942097e+00],\n",
       "       [ 1.21273132e+00,  8.93741844e-01,  1.92164409e+00],\n",
       "       [-4.62900623e-01, -6.25538262e-01, -9.04709264e-01],\n",
       "       [ 1.89836839e-01,  5.62876398e-01,  1.02862691e+00],\n",
       "       [ 5.90353742e-01, -1.33453565e+00, -1.13486833e+00],\n",
       "       [ 4.42057396e-01, -1.52873340e-01, -3.93756133e-01],\n",
       "       [ 1.66579418e+00,  1.28537849e+00,  9.50372823e-01],\n",
       "       [-1.38283424e-01,  1.24486436e+00,  7.06404211e-01],\n",
       "       [ 8.79940308e-01, -1.28051680e+00,  8.85928284e-01],\n",
       "       [ 1.74402926e+00,  8.80237132e-01,  3.23815396e+00],\n",
       "       [ 1.55486384e+00, -8.88880147e-01, -4.21375221e-01],\n",
       "       [ 4.77088029e-01, -4.09462869e-01, -5.82486569e-01],\n",
       "       [ 1.06443498e+00,  7.45190011e-01, -1.16248742e+00],\n",
       "       [-1.06755854e-01,  1.56222509e+00,  1.30942097e+00],\n",
       "       [-1.42507534e+00, -8.28108943e-01, -3.93111688e-02],\n",
       "       [-6.61407543e-01, -1.55061104e+00, -3.38517957e-01],\n",
       "       [-1.56403019e+00, -1.54385868e+00, -2.28041604e-01],\n",
       "       [ 1.26527727e+00,  2.45515665e-01, -1.15328106e+00],\n",
       "       [ 9.19641692e-01, -1.01717491e+00,  1.19434143e+00],\n",
       "       [ 1.10530405e+00,  9.95027184e-01, -3.38517957e-01],\n",
       "       [ 3.34630122e-01, -5.31005278e-01, -1.29597968e+00],\n",
       "       [ 7.30476274e-01, -1.79882765e-01, -9.13915627e-01],\n",
       "       [-8.03865450e-01,  1.58923451e+00,  1.81641536e-01],\n",
       "       [-8.40063771e-01,  7.92456503e-01,  1.01942054e+00],\n",
       "       [-9.15759131e-02, -6.05281194e-01, -2.28041604e-01],\n",
       "       [-8.24883830e-01, -1.51684926e+00, -7.25185191e-01],\n",
       "       [-2.49213762e-01,  9.20751268e-01,  2.23926360e+00],\n",
       "       [-1.49046586e+00, -4.90491142e-01, -3.79946589e-01],\n",
       "       [-6.70544700e-02,  2.38763309e-01,  7.20213755e-01],\n",
       "       [-1.49747198e+00, -1.05606848e-01,  9.13547372e-01],\n",
       "       [ 8.98623313e-01, -1.40881156e+00, -6.88359740e-01],\n",
       "       [-2.79573643e-01,  7.65447079e-01, -8.35661544e-01],\n",
       "       [ 9.62846140e-01,  6.10142891e-01,  2.00910454e+00],\n",
       "       [-6.98773552e-01, -7.74090095e-01, -2.14232060e-01],\n",
       "       [-1.62591764e+00,  1.05579839e+00,  9.22753735e-01],\n",
       "       [-7.80511695e-01, -1.57086811e+00, -9.82963347e-01],\n",
       "       [ 8.55418865e-01,  1.73778635e+00, -1.25915423e+00],\n",
       "       [-1.02105537e+00, -7.60585383e-01,  5.77515133e-01],\n",
       "       [-1.70882347e+00,  1.10306488e+00, -1.00597925e+00],\n",
       "       [ 1.37971067e+00, -1.37504978e+00,  5.72911952e-01],\n",
       "       [-1.61891151e+00,  2.65772733e-01, -1.30978922e+00],\n",
       "       [ 8.49580427e-01,  6.91171163e-01,  6.69578760e-01],\n",
       "       [-1.28612050e+00,  1.03554132e+00,  1.61323094e+00],\n",
       "       [-1.15300409e+00,  1.60273923e+00, -1.01518562e+00],\n",
       "       [-1.41806922e+00,  1.06255074e+00, -9.78360166e-01],\n",
       "       [ 1.47896413e+00,  3.80562786e-01,  1.34164324e+00],\n",
       "       [-1.21489154e+00,  1.77992105e-01, -4.62803854e-01],\n",
       "       [ 4.42057396e-01,  1.39341619e+00, -1.32820195e+00],\n",
       "       [-8.59914463e-01, -4.22967582e-01, -8.12645637e-01],\n",
       "       [ 5.44813920e-01,  8.19465927e-01,  2.07354907e+00],\n",
       "       [ 8.57754241e-01,  6.70914095e-01,  3.38149702e-01],\n",
       "       [-4.95595880e-01, -1.18598381e+00,  1.77038355e-01],\n",
       "       [-5.93681653e-01, -5.71519414e-01,  3.84181516e-01],\n",
       "       [-7.87313476e-02, -1.44257334e+00, -9.92169710e-01],\n",
       "       [ 1.08662104e+00, -1.07794612e+00, -1.00597925e+00],\n",
       "       [ 1.12281936e+00,  1.73778635e+00,  6.32753309e-01],\n",
       "       [-1.27327593e+00,  1.15033137e+00, -8.58677450e-01],\n",
       "       [-1.19504085e+00,  1.71239749e-01, -4.58200672e-01],\n",
       "       [ 1.56070228e+00, -6.32290618e-01,  2.96721070e-01],\n",
       "       [-3.04095087e-01, -1.00367020e+00,  8.35293289e-01],\n",
       "       [ 5.90353742e-01,  2.43084817e-03, -7.52804279e-01],\n",
       "       [ 2.83251860e-01,  1.10981724e+00,  3.28943340e-01],\n",
       "       [ 4.75920341e-01, -1.46120984e-01, -9.69153803e-01],\n",
       "       [-1.66912209e+00, -7.87594807e-01, -1.14407469e+00],\n",
       "       [-6.20538471e-01,  1.36640677e+00,  9.18150553e-01],\n",
       "       [ 3.21989902e-02, -1.48308748e+00, -2.87882962e-01],\n",
       "       [-1.58037782e+00,  9.20751268e-01,  6.74181942e-01],\n",
       "       [-1.79152496e-01, -3.28434597e-01,  1.86244718e-01],\n",
       "       [ 2.97264113e-01, -3.48691665e-01,  6.72064478e-03],\n",
       "       [-7.16288868e-01,  8.46475352e-01,  8.62912377e-01],\n",
       "       [ 4.82926468e-01, -3.48691665e-01, -2.28041604e-01],\n",
       "       [ 1.92172214e-01,  9.13998912e-01, -1.06582061e+00],\n",
       "       [-3.48467222e-01, -5.78271770e-01, -1.15788424e+00],\n",
       "       [ 1.02123053e+00, -1.34128800e+00,  2.49704176e+00],\n",
       "       [-1.50798117e+00,  9.68017760e-01, -4.12168859e-01],\n",
       "       [ 6.97781017e-01, -1.21974559e+00, -5.13438849e-01],\n",
       "       [ 7.98202165e-01,  2.26879163e-02,  1.24497643e+00],\n",
       "       [ 1.60273904e+00, -8.55118367e-01, -1.11185242e+00],\n",
       "       [-1.13315340e+00, -7.87594807e-01, -5.59470662e-01],\n",
       "       [ 2.03849092e-01, -1.59625696e-01,  7.75451931e-01],\n",
       "       [-1.48813048e+00, -2.13644545e-01, -6.23915201e-01],\n",
       "       [ 2.49388915e-01, -1.09145083e+00, -8.17248818e-01],\n",
       "       [ 8.79940308e-01, -1.34128800e+00, -8.03439274e-01],\n",
       "       [ 1.51633014e+00,  1.73103399e+00,  5.17673775e-01],\n",
       "       [ 1.18353913e+00,  4.68343414e-01, -4.72010216e-01],\n",
       "       [ 2.70407294e-01, -1.04418434e+00,  2.13863806e-01],\n",
       "       [ 1.51399477e+00, -1.41556392e+00, -3.15502050e-01],\n",
       "       [ 2.16693657e-01, -8.95632503e-01, -5.96296113e-01],\n",
       "       [ 1.11601758e-01, -1.39530685e+00, -1.02439198e+00],\n",
       "       [ 8.34400486e-01, -1.20624088e+00, -1.45184340e-01],\n",
       "       [-1.06075676e+00, -1.18598381e+00, -3.93111688e-02],\n",
       "       [ 1.64127273e+00,  1.33264499e+00,  1.89862818e+00],\n",
       "       [ 1.24659427e+00, -1.32616272e-01, -2.55016247e-02],\n",
       "       [ 6.76762637e-01,  1.47444446e+00, -5.04232486e-01],\n",
       "       [-8.80728498e-02, -1.42906863e+00, -1.82009791e-01],\n",
       "       [ 5.14454038e-01,  3.67058074e-01, -5.68677025e-01],\n",
       "       [ 1.62258973e+00, -6.32290618e-01, -1.23613832e+00],\n",
       "       [-1.49863967e+00, -7.53833027e-01, -3.29311594e-01],\n",
       "       [-1.25576062e+00,  1.20435022e+00, -1.13947151e+00],\n",
       "       [-8.35393020e-01, -8.41613655e-01, -1.13026515e+00],\n",
       "       [-1.51615499e+00, -1.29402151e+00,  4.81492770e-02],\n",
       "       [ 2.30705910e-01,  1.26512143e+00, -1.24074150e+00],\n",
       "       [ 3.10313024e-02,  8.32970639e-01, -1.13026515e+00],\n",
       "       [-1.27094056e+00, -1.32103093e+00, -7.71217005e-01],\n",
       "       [-6.17035408e-01, -1.24000266e+00, -1.03359834e+00],\n",
       "       [ 3.49810063e-01, -9.42898996e-01, -1.11185242e+00],\n",
       "       [ 1.59456522e+00,  1.26512143e+00,  1.64085003e+00],\n",
       "       [ 9.93206022e-01, -9.90165488e-01, -1.00597925e+00]])"
      ]
     },
     "execution_count": 72,
     "metadata": {},
     "output_type": "execute_result"
    }
   ],
   "source": [
    "scaler.transform(X)"
   ]
  },
  {
   "cell_type": "code",
   "execution_count": 73,
   "metadata": {
    "ExecuteTime": {
     "end_time": "2021-02-13T18:31:28.566397Z",
     "start_time": "2021-02-13T18:31:28.552435Z"
    }
   },
   "outputs": [
    {
     "data": {
      "text/plain": [
       "array([[ 9.69852266e-01,  9.81522472e-01,  1.77894547e+00],\n",
       "       [-1.19737623e+00,  1.08280781e+00,  6.69578760e-01],\n",
       "       [-1.51615499e+00,  1.52846331e+00,  1.78354865e+00],\n",
       "       [ 5.20496822e-02,  1.21785493e+00,  1.28640506e+00],\n",
       "       [ 3.94182198e-01, -8.41613655e-01,  1.28180188e+00],\n",
       "       [-1.61540845e+00,  1.73103399e+00,  2.04592999e+00],\n",
       "       [-1.04557682e+00,  6.43904671e-01, -3.24708413e-01],\n",
       "       [-3.13436589e-01, -2.47406325e-01, -8.72486994e-01],\n",
       "       [-1.61657614e+00, -1.42906863e+00, -1.36042422e+00],\n",
       "       [ 6.16042873e-01, -1.39530685e+00, -4.30581584e-01],\n",
       "       [-9.45155670e-01, -1.17923146e+00, -2.92486143e-01],\n",
       "       [ 7.90028350e-01,  4.96973404e-02, -1.22232878e+00],\n",
       "       [-1.43908760e+00,  7.99208859e-01,  1.62704048e+00],\n",
       "       [-5.78501712e-01, -1.05768905e+00, -1.07502697e+00],\n",
       "       [ 6.66253447e-01,  6.50657027e-01,  7.11007392e-01],\n",
       "       [ 5.64664612e-01,  1.65000572e+00,  1.02862691e+00],\n",
       "       [-9.25304978e-01,  9.00494200e-01,  3.84117072e+00],\n",
       "       [ 1.56887609e+00,  1.10306488e+00,  1.16211917e+00],\n",
       "       [-9.08957349e-01, -1.86635121e-01, -5.64073843e-01],\n",
       "       [ 3.00679600e-03,  4.29449843e-02, -5.27248393e-01],\n",
       "       [ 8.33232798e-01,  2.99534513e-01,  1.05164281e+00],\n",
       "       [ 1.05509347e+00, -1.22649795e+00, -3.24708413e-01],\n",
       "       [-1.56286250e+00, -4.97243498e-01,  8.76721921e-01],\n",
       "       [ 9.48833887e-01, -4.29719938e-01, -2.00422516e-01],\n",
       "       [-9.89527805e-01, -7.20071247e-01, -5.64073843e-01],\n",
       "       [ 1.35285385e+00, -1.33453565e+00, -5.08835667e-01],\n",
       "       [-4.83714657e-02,  4.07572210e-01, -8.26455181e-01],\n",
       "       [ 1.08662104e+00, -4.43224650e-01, -3.52327501e-01],\n",
       "       [ 1.18820988e+00,  2.59020377e-01, -3.52327501e-01],\n",
       "       [-8.92609721e-01, -4.90491142e-01,  4.71641962e-01],\n",
       "       [ 1.70316018e+00,  3.40048650e-01,  5.82118314e-01],\n",
       "       [-3.98677796e-01, -3.95958157e-01,  3.70371972e-01],\n",
       "       [-5.82004775e-01, -1.46958277e+00, -2.55016247e-02],\n",
       "       [ 1.38438142e+00, -2.20396901e-01, -1.39264649e+00],\n",
       "       [-5.99520091e-01, -1.47633512e+00, -1.06582061e+00],\n",
       "       [ 1.67747105e+00, -1.29402151e+00, -1.01518562e+00],\n",
       "       [ 1.39956136e+00,  1.38666383e+00, -1.17629696e+00],\n",
       "       [-8.44734522e-01,  1.76479577e+00,  6.97197848e-01],\n",
       "       [-1.21372386e+00,  2.32010953e-01,  2.09260624e-01],\n",
       "       [ 9.45330823e-01,  9.74770116e-01,  6.65620024e-02],\n",
       "       [ 6.47570443e-01, -6.50927121e-02,  4.81492770e-02],\n",
       "       [ 3.49810063e-01,  6.84418807e-01,  3.74975153e-01],\n",
       "       [ 1.71133400e+00,  2.99534513e-01, -1.32359877e+00],\n",
       "       [ 6.98948705e-01, -1.00367020e+00, -1.91216154e-01],\n",
       "       [-1.42390765e+00,  1.64487393e-01,  5.86721496e-01],\n",
       "       [ 3.27623995e-01, -5.15880000e-02,  4.35460956e-02],\n",
       "       [-6.69581357e-01, -9.02384859e-01,  2.36879713e-01],\n",
       "       [ 1.08428567e+00,  1.23135965e+00, -5.54867481e-01],\n",
       "       [ 9.35989321e-01, -5.03995854e-01,  8.90531465e-01],\n",
       "       [-9.35814168e-01, -7.80842451e-01,  2.87514708e-01],\n",
       "       [ 6.16042873e-01, -1.36154507e+00,  1.86244718e-01],\n",
       "       [-5.44638766e-01, -9.22641928e-01, -1.24074150e+00],\n",
       "       [ 8.09879042e-01,  1.24486436e+00,  4.16403786e-01],\n",
       "       [ 4.15200577e-01,  1.54872038e+00,  1.29561142e+00],\n",
       "       [ 1.35051848e+00,  3.73810430e-01, -6.74550196e-01],\n",
       "       [ 6.05533683e-01,  1.76479577e+00,  1.35545278e+00],\n",
       "       [-1.63175608e+00,  3.26543937e-01,  4.99261050e-01],\n",
       "       [-1.26606546e-01, -2.74415749e-01, -6.42327927e-01],\n",
       "       [ 7.44488528e-01,  1.77830048e+00,  3.28943340e-01],\n",
       "       [ 7.43320840e-01,  4.21076922e-01, -9.78360166e-01],\n",
       "       [-1.09228433e+00, -1.43582099e+00, -4.21375221e-01],\n",
       "       [ 1.33417085e+00,  1.31238792e+00,  1.11148417e+00],\n",
       "       [ 1.07727954e+00, -5.24252922e-01, -1.49787521e-01],\n",
       "       [-5.17781948e-01,  4.27829278e-01, -1.01978880e+00],\n",
       "       [-1.86158622e-01,  1.31914027e+00, -7.61366196e-02],\n",
       "       [-9.11292725e-01, -9.42898996e-01, -1.36502740e+00],\n",
       "       [-1.34917564e+00,  9.02114765e-02, -1.30518604e+00],\n",
       "       [-9.04082253e-02, -5.91776482e-01, -9.36931533e-01],\n",
       "       [ 1.05509347e+00,  2.86029801e-01, -9.00106083e-01],\n",
       "       [ 8.14549794e-01,  1.39341619e+00, -1.54390703e-01],\n",
       "       [ 6.07869059e-01,  4.95352838e-01,  3.74975153e-01],\n",
       "       [-4.34876116e-01, -6.05281194e-01,  5.27524584e-02],\n",
       "       [-1.40405696e+00,  6.57409383e-01, -5.18042030e-01],\n",
       "       [-2.06009314e-01, -1.18598381e+00,  3.43397329e-02],\n",
       "       [ 7.74848409e-01,  9.02114765e-02, -8.03439274e-01],\n",
       "       [-1.51965805e+00,  1.37991148e+00,  2.70878810e+00],\n",
       "       [-1.39588315e+00, -1.46283041e+00, -4.53597491e-01],\n",
       "       [-3.09933525e-01,  3.53553362e-01, -7.52804279e-01],\n",
       "       [-1.65394214e+00,  4.48086346e-01, -9.73756984e-01],\n",
       "       [-3.62479475e-01, -1.05093669e+00, -3.43121138e-01],\n",
       "       [-8.24883830e-01,  2.32010953e-01, -3.79946589e-01],\n",
       "       [ 1.08311798e+00, -1.29402151e+00,  2.92117889e-01],\n",
       "       [-8.37728396e-01, -2.00139833e-01,  8.95779092e-02],\n",
       "       [-9.18298852e-01,  1.43393033e+00,  2.32276531e-01],\n",
       "       [ 7.76016097e-01,  1.33264499e+00,  1.49419267e-01],\n",
       "       [ 5.38975481e-01, -3.28434597e-01,  1.61783412e+00],\n",
       "       [-8.26051518e-01,  2.86029801e-01, -6.69947015e-01],\n",
       "       [-4.24366926e-01,  1.17058844e+00,  1.50275459e+00],\n",
       "       [-6.85928986e-01,  1.50982681e-01,  1.97227908e+00],\n",
       "       [-4.34876116e-01,  1.65675807e+00,  9.59579186e-01],\n",
       "       [-1.48792614e-01, -1.24000266e+00, -9.78360166e-01],\n",
       "       [-1.38303858e+00, -1.46958277e+00,  1.12593816e-01],\n",
       "       [ 8.25058983e-01,  6.91171163e-01,  1.30942097e+00],\n",
       "       [ 1.21273132e+00,  8.93741844e-01,  1.92164409e+00],\n",
       "       [-4.62900623e-01, -6.25538262e-01, -9.04709264e-01],\n",
       "       [ 1.89836839e-01,  5.62876398e-01,  1.02862691e+00],\n",
       "       [ 5.90353742e-01, -1.33453565e+00, -1.13486833e+00],\n",
       "       [ 4.42057396e-01, -1.52873340e-01, -3.93756133e-01],\n",
       "       [ 1.66579418e+00,  1.28537849e+00,  9.50372823e-01],\n",
       "       [-1.38283424e-01,  1.24486436e+00,  7.06404211e-01],\n",
       "       [ 8.79940308e-01, -1.28051680e+00,  8.85928284e-01],\n",
       "       [ 1.74402926e+00,  8.80237132e-01,  3.23815396e+00],\n",
       "       [ 1.55486384e+00, -8.88880147e-01, -4.21375221e-01],\n",
       "       [ 4.77088029e-01, -4.09462869e-01, -5.82486569e-01],\n",
       "       [ 1.06443498e+00,  7.45190011e-01, -1.16248742e+00],\n",
       "       [-1.06755854e-01,  1.56222509e+00,  1.30942097e+00],\n",
       "       [-1.42507534e+00, -8.28108943e-01, -3.93111688e-02],\n",
       "       [-6.61407543e-01, -1.55061104e+00, -3.38517957e-01],\n",
       "       [-1.56403019e+00, -1.54385868e+00, -2.28041604e-01],\n",
       "       [ 1.26527727e+00,  2.45515665e-01, -1.15328106e+00],\n",
       "       [ 9.19641692e-01, -1.01717491e+00,  1.19434143e+00],\n",
       "       [ 1.10530405e+00,  9.95027184e-01, -3.38517957e-01],\n",
       "       [ 3.34630122e-01, -5.31005278e-01, -1.29597968e+00],\n",
       "       [ 7.30476274e-01, -1.79882765e-01, -9.13915627e-01],\n",
       "       [-8.03865450e-01,  1.58923451e+00,  1.81641536e-01],\n",
       "       [-8.40063771e-01,  7.92456503e-01,  1.01942054e+00],\n",
       "       [-9.15759131e-02, -6.05281194e-01, -2.28041604e-01],\n",
       "       [-8.24883830e-01, -1.51684926e+00, -7.25185191e-01],\n",
       "       [-2.49213762e-01,  9.20751268e-01,  2.23926360e+00],\n",
       "       [-1.49046586e+00, -4.90491142e-01, -3.79946589e-01],\n",
       "       [-6.70544700e-02,  2.38763309e-01,  7.20213755e-01],\n",
       "       [-1.49747198e+00, -1.05606848e-01,  9.13547372e-01],\n",
       "       [ 8.98623313e-01, -1.40881156e+00, -6.88359740e-01],\n",
       "       [-2.79573643e-01,  7.65447079e-01, -8.35661544e-01],\n",
       "       [ 9.62846140e-01,  6.10142891e-01,  2.00910454e+00],\n",
       "       [-6.98773552e-01, -7.74090095e-01, -2.14232060e-01],\n",
       "       [-1.62591764e+00,  1.05579839e+00,  9.22753735e-01],\n",
       "       [-7.80511695e-01, -1.57086811e+00, -9.82963347e-01],\n",
       "       [ 8.55418865e-01,  1.73778635e+00, -1.25915423e+00],\n",
       "       [-1.02105537e+00, -7.60585383e-01,  5.77515133e-01],\n",
       "       [-1.70882347e+00,  1.10306488e+00, -1.00597925e+00],\n",
       "       [ 1.37971067e+00, -1.37504978e+00,  5.72911952e-01],\n",
       "       [-1.61891151e+00,  2.65772733e-01, -1.30978922e+00],\n",
       "       [ 8.49580427e-01,  6.91171163e-01,  6.69578760e-01],\n",
       "       [-1.28612050e+00,  1.03554132e+00,  1.61323094e+00],\n",
       "       [-1.15300409e+00,  1.60273923e+00, -1.01518562e+00],\n",
       "       [-1.41806922e+00,  1.06255074e+00, -9.78360166e-01],\n",
       "       [ 1.47896413e+00,  3.80562786e-01,  1.34164324e+00],\n",
       "       [-1.21489154e+00,  1.77992105e-01, -4.62803854e-01],\n",
       "       [ 4.42057396e-01,  1.39341619e+00, -1.32820195e+00],\n",
       "       [-8.59914463e-01, -4.22967582e-01, -8.12645637e-01],\n",
       "       [ 5.44813920e-01,  8.19465927e-01,  2.07354907e+00],\n",
       "       [ 8.57754241e-01,  6.70914095e-01,  3.38149702e-01],\n",
       "       [-4.95595880e-01, -1.18598381e+00,  1.77038355e-01],\n",
       "       [-5.93681653e-01, -5.71519414e-01,  3.84181516e-01],\n",
       "       [-7.87313476e-02, -1.44257334e+00, -9.92169710e-01],\n",
       "       [ 1.08662104e+00, -1.07794612e+00, -1.00597925e+00],\n",
       "       [ 1.12281936e+00,  1.73778635e+00,  6.32753309e-01],\n",
       "       [-1.27327593e+00,  1.15033137e+00, -8.58677450e-01],\n",
       "       [-1.19504085e+00,  1.71239749e-01, -4.58200672e-01],\n",
       "       [ 1.56070228e+00, -6.32290618e-01,  2.96721070e-01],\n",
       "       [-3.04095087e-01, -1.00367020e+00,  8.35293289e-01],\n",
       "       [ 5.90353742e-01,  2.43084817e-03, -7.52804279e-01],\n",
       "       [ 2.83251860e-01,  1.10981724e+00,  3.28943340e-01],\n",
       "       [ 4.75920341e-01, -1.46120984e-01, -9.69153803e-01],\n",
       "       [-1.66912209e+00, -7.87594807e-01, -1.14407469e+00],\n",
       "       [-6.20538471e-01,  1.36640677e+00,  9.18150553e-01],\n",
       "       [ 3.21989902e-02, -1.48308748e+00, -2.87882962e-01],\n",
       "       [-1.58037782e+00,  9.20751268e-01,  6.74181942e-01],\n",
       "       [-1.79152496e-01, -3.28434597e-01,  1.86244718e-01],\n",
       "       [ 2.97264113e-01, -3.48691665e-01,  6.72064478e-03],\n",
       "       [-7.16288868e-01,  8.46475352e-01,  8.62912377e-01],\n",
       "       [ 4.82926468e-01, -3.48691665e-01, -2.28041604e-01],\n",
       "       [ 1.92172214e-01,  9.13998912e-01, -1.06582061e+00],\n",
       "       [-3.48467222e-01, -5.78271770e-01, -1.15788424e+00],\n",
       "       [ 1.02123053e+00, -1.34128800e+00,  2.49704176e+00],\n",
       "       [-1.50798117e+00,  9.68017760e-01, -4.12168859e-01],\n",
       "       [ 6.97781017e-01, -1.21974559e+00, -5.13438849e-01],\n",
       "       [ 7.98202165e-01,  2.26879163e-02,  1.24497643e+00],\n",
       "       [ 1.60273904e+00, -8.55118367e-01, -1.11185242e+00],\n",
       "       [-1.13315340e+00, -7.87594807e-01, -5.59470662e-01],\n",
       "       [ 2.03849092e-01, -1.59625696e-01,  7.75451931e-01],\n",
       "       [-1.48813048e+00, -2.13644545e-01, -6.23915201e-01],\n",
       "       [ 2.49388915e-01, -1.09145083e+00, -8.17248818e-01],\n",
       "       [ 8.79940308e-01, -1.34128800e+00, -8.03439274e-01],\n",
       "       [ 1.51633014e+00,  1.73103399e+00,  5.17673775e-01],\n",
       "       [ 1.18353913e+00,  4.68343414e-01, -4.72010216e-01],\n",
       "       [ 2.70407294e-01, -1.04418434e+00,  2.13863806e-01],\n",
       "       [ 1.51399477e+00, -1.41556392e+00, -3.15502050e-01],\n",
       "       [ 2.16693657e-01, -8.95632503e-01, -5.96296113e-01],\n",
       "       [ 1.11601758e-01, -1.39530685e+00, -1.02439198e+00],\n",
       "       [ 8.34400486e-01, -1.20624088e+00, -1.45184340e-01],\n",
       "       [-1.06075676e+00, -1.18598381e+00, -3.93111688e-02],\n",
       "       [ 1.64127273e+00,  1.33264499e+00,  1.89862818e+00],\n",
       "       [ 1.24659427e+00, -1.32616272e-01, -2.55016247e-02],\n",
       "       [ 6.76762637e-01,  1.47444446e+00, -5.04232486e-01],\n",
       "       [-8.80728498e-02, -1.42906863e+00, -1.82009791e-01],\n",
       "       [ 5.14454038e-01,  3.67058074e-01, -5.68677025e-01],\n",
       "       [ 1.62258973e+00, -6.32290618e-01, -1.23613832e+00],\n",
       "       [-1.49863967e+00, -7.53833027e-01, -3.29311594e-01],\n",
       "       [-1.25576062e+00,  1.20435022e+00, -1.13947151e+00],\n",
       "       [-8.35393020e-01, -8.41613655e-01, -1.13026515e+00],\n",
       "       [-1.51615499e+00, -1.29402151e+00,  4.81492770e-02],\n",
       "       [ 2.30705910e-01,  1.26512143e+00, -1.24074150e+00],\n",
       "       [ 3.10313024e-02,  8.32970639e-01, -1.13026515e+00],\n",
       "       [-1.27094056e+00, -1.32103093e+00, -7.71217005e-01],\n",
       "       [-6.17035408e-01, -1.24000266e+00, -1.03359834e+00],\n",
       "       [ 3.49810063e-01, -9.42898996e-01, -1.11185242e+00],\n",
       "       [ 1.59456522e+00,  1.26512143e+00,  1.64085003e+00],\n",
       "       [ 9.93206022e-01, -9.90165488e-01, -1.00597925e+00]])"
      ]
     },
     "execution_count": 73,
     "metadata": {},
     "output_type": "execute_result"
    }
   ],
   "source": [
    "X_std = scaler.transform(X) # aplica a padronização baseada no mean e std que ele aprendeu no fit\n",
    "X_std"
   ]
  },
  {
   "cell_type": "code",
   "execution_count": 74,
   "metadata": {
    "ExecuteTime": {
     "end_time": "2021-02-13T18:31:32.579785Z",
     "start_time": "2021-02-13T18:31:32.566794Z"
    }
   },
   "outputs": [
    {
     "data": {
      "text/plain": [
       "LinearRegression()"
      ]
     },
     "execution_count": 74,
     "metadata": {},
     "output_type": "execute_result"
    }
   ],
   "source": [
    "model = LinearRegression()\n",
    "\n",
    "model.fit(X_std, y)"
   ]
  },
  {
   "cell_type": "code",
   "execution_count": 75,
   "metadata": {
    "ExecuteTime": {
     "end_time": "2021-02-13T18:31:34.638779Z",
     "start_time": "2021-02-13T18:31:34.623505Z"
    }
   },
   "outputs": [
    {
     "data": {
      "text/plain": [
       "array([4.66270025, 1.58465027, 0.00729187])"
      ]
     },
     "execution_count": 75,
     "metadata": {},
     "output_type": "execute_result"
    }
   ],
   "source": [
    "model.coef_"
   ]
  },
  {
   "cell_type": "code",
   "execution_count": null,
   "metadata": {
    "ExecuteTime": {
     "end_time": "2020-07-07T19:43:09.333212Z",
     "start_time": "2020-07-07T19:43:09.329222Z"
    }
   },
   "outputs": [],
   "source": [
    "model.intercept_"
   ]
  },
  {
   "cell_type": "code",
   "execution_count": 76,
   "metadata": {
    "ExecuteTime": {
     "end_time": "2021-02-13T18:32:39.849937Z",
     "start_time": "2021-02-13T18:32:39.831422Z"
    }
   },
   "outputs": [
    {
     "data": {
      "text/plain": [
       "1.6449942697855562"
      ]
     },
     "execution_count": 76,
     "metadata": {},
     "output_type": "execute_result"
    }
   ],
   "source": [
    "# the mean error I would have in sales is:\n",
    "np.sqrt(mean_squared_error(y_observed, model.predict(X_std)))"
   ]
  },
  {
   "cell_type": "code",
   "execution_count": 77,
   "metadata": {
    "ExecuteTime": {
     "end_time": "2021-02-13T18:32:40.068984Z",
     "start_time": "2021-02-13T18:32:40.056333Z"
    },
    "scrolled": true
   },
   "outputs": [
    {
     "data": {
      "text/plain": [
       "0.9025912899684558"
      ]
     },
     "execution_count": 77,
     "metadata": {},
     "output_type": "execute_result"
    }
   ],
   "source": [
    "model.score(X_std, y)"
   ]
  }
 ],
 "metadata": {
  "kernelspec": {
   "display_name": "Python 3 (ipykernel)",
   "language": "python",
   "name": "python3"
  },
  "language_info": {
   "codemirror_mode": {
    "name": "ipython",
    "version": 3
   },
   "file_extension": ".py",
   "mimetype": "text/x-python",
   "name": "python",
   "nbconvert_exporter": "python",
   "pygments_lexer": "ipython3",
   "version": "3.10.1"
  },
  "toc": {
   "base_numbering": 1,
   "nav_menu": {},
   "number_sections": true,
   "sideBar": true,
   "skip_h1_title": false,
   "title_cell": "Table of Contents",
   "title_sidebar": "Contents",
   "toc_cell": false,
   "toc_position": {},
   "toc_section_display": true,
   "toc_window_display": false
  },
  "varInspector": {
   "cols": {
    "lenName": 16,
    "lenType": 16,
    "lenVar": 40
   },
   "kernels_config": {
    "python": {
     "delete_cmd_postfix": "",
     "delete_cmd_prefix": "del ",
     "library": "var_list.py",
     "varRefreshCmd": "print(var_dic_list())"
    },
    "r": {
     "delete_cmd_postfix": ") ",
     "delete_cmd_prefix": "rm(",
     "library": "var_list.r",
     "varRefreshCmd": "cat(var_dic_list()) "
    }
   },
   "types_to_exclude": [
    "module",
    "function",
    "builtin_function_or_method",
    "instance",
    "_Feature"
   ],
   "window_display": false
  }
 },
 "nbformat": 4,
 "nbformat_minor": 2
}
