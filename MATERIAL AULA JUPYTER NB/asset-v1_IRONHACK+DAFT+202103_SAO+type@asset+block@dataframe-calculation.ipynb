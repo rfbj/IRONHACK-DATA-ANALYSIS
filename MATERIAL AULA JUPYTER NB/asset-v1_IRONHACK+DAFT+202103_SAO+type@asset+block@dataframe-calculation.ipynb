{
 "cells": [
  {
   "cell_type": "code",
   "execution_count": 1,
   "metadata": {
    "ExecuteTime": {
     "end_time": "2022-01-21T12:24:02.752937Z",
     "start_time": "2022-01-21T12:24:01.538923Z"
    }
   },
   "outputs": [],
   "source": [
    "import pandas as pd\n",
    "import numpy as np"
   ]
  },
  {
   "cell_type": "markdown",
   "metadata": {},
   "source": [
    "# DataFrame Calculations"
   ]
  },
  {
   "cell_type": "markdown",
   "metadata": {},
   "source": [
    "## Read DataFrame"
   ]
  },
  {
   "cell_type": "markdown",
   "metadata": {},
   "source": [
    "Description: \n",
    "\n",
    "http://lib.stat.cmu.edu/datasets/sleep"
   ]
  },
  {
   "cell_type": "code",
   "execution_count": 4,
   "metadata": {
    "ExecuteTime": {
     "end_time": "2022-01-21T12:28:35.090446Z",
     "start_time": "2022-01-21T12:28:34.183917Z"
    }
   },
   "outputs": [],
   "source": [
    "animals = pd.read_csv('http://www.statsci.org/data/general/sleep.txt', sep='\\t')"
   ]
  },
  {
   "cell_type": "code",
   "execution_count": 3,
   "metadata": {
    "ExecuteTime": {
     "end_time": "2021-04-02T12:55:42.471537Z",
     "start_time": "2021-04-02T12:55:42.442615Z"
    },
    "scrolled": true
   },
   "outputs": [
    {
     "data": {
      "text/html": [
       "<div>\n",
       "<style scoped>\n",
       "    .dataframe tbody tr th:only-of-type {\n",
       "        vertical-align: middle;\n",
       "    }\n",
       "\n",
       "    .dataframe tbody tr th {\n",
       "        vertical-align: top;\n",
       "    }\n",
       "\n",
       "    .dataframe thead th {\n",
       "        text-align: right;\n",
       "    }\n",
       "</style>\n",
       "<table border=\"1\" class=\"dataframe\">\n",
       "  <thead>\n",
       "    <tr style=\"text-align: right;\">\n",
       "      <th></th>\n",
       "      <th>Species</th>\n",
       "      <th>BodyWt</th>\n",
       "      <th>BrainWt</th>\n",
       "      <th>NonDreaming</th>\n",
       "      <th>Dreaming</th>\n",
       "      <th>TotalSleep</th>\n",
       "      <th>LifeSpan</th>\n",
       "      <th>Gestation</th>\n",
       "      <th>Predation</th>\n",
       "      <th>Exposure</th>\n",
       "      <th>Danger</th>\n",
       "    </tr>\n",
       "  </thead>\n",
       "  <tbody>\n",
       "    <tr>\n",
       "      <th>0</th>\n",
       "      <td>Africanelephant</td>\n",
       "      <td>6654.000</td>\n",
       "      <td>5712.0</td>\n",
       "      <td>NaN</td>\n",
       "      <td>NaN</td>\n",
       "      <td>3.3</td>\n",
       "      <td>38.6</td>\n",
       "      <td>645.0</td>\n",
       "      <td>3</td>\n",
       "      <td>5</td>\n",
       "      <td>3</td>\n",
       "    </tr>\n",
       "    <tr>\n",
       "      <th>1</th>\n",
       "      <td>Africangiantpouchedrat</td>\n",
       "      <td>1.000</td>\n",
       "      <td>6.6</td>\n",
       "      <td>6.3</td>\n",
       "      <td>2.0</td>\n",
       "      <td>8.3</td>\n",
       "      <td>4.5</td>\n",
       "      <td>42.0</td>\n",
       "      <td>3</td>\n",
       "      <td>1</td>\n",
       "      <td>3</td>\n",
       "    </tr>\n",
       "    <tr>\n",
       "      <th>2</th>\n",
       "      <td>ArcticFox</td>\n",
       "      <td>3.385</td>\n",
       "      <td>44.5</td>\n",
       "      <td>NaN</td>\n",
       "      <td>NaN</td>\n",
       "      <td>12.5</td>\n",
       "      <td>14.0</td>\n",
       "      <td>60.0</td>\n",
       "      <td>1</td>\n",
       "      <td>1</td>\n",
       "      <td>1</td>\n",
       "    </tr>\n",
       "    <tr>\n",
       "      <th>3</th>\n",
       "      <td>Arcticgroundsquirrel</td>\n",
       "      <td>0.920</td>\n",
       "      <td>5.7</td>\n",
       "      <td>NaN</td>\n",
       "      <td>NaN</td>\n",
       "      <td>16.5</td>\n",
       "      <td>NaN</td>\n",
       "      <td>25.0</td>\n",
       "      <td>5</td>\n",
       "      <td>2</td>\n",
       "      <td>3</td>\n",
       "    </tr>\n",
       "    <tr>\n",
       "      <th>4</th>\n",
       "      <td>Asianelephant</td>\n",
       "      <td>2547.000</td>\n",
       "      <td>4603.0</td>\n",
       "      <td>2.1</td>\n",
       "      <td>1.8</td>\n",
       "      <td>3.9</td>\n",
       "      <td>69.0</td>\n",
       "      <td>624.0</td>\n",
       "      <td>3</td>\n",
       "      <td>5</td>\n",
       "      <td>4</td>\n",
       "    </tr>\n",
       "  </tbody>\n",
       "</table>\n",
       "</div>"
      ],
      "text/plain": [
       "                  Species    BodyWt  BrainWt  NonDreaming  Dreaming  \\\n",
       "0         Africanelephant  6654.000   5712.0          NaN       NaN   \n",
       "1  Africangiantpouchedrat     1.000      6.6          6.3       2.0   \n",
       "2               ArcticFox     3.385     44.5          NaN       NaN   \n",
       "3    Arcticgroundsquirrel     0.920      5.7          NaN       NaN   \n",
       "4           Asianelephant  2547.000   4603.0          2.1       1.8   \n",
       "\n",
       "   TotalSleep  LifeSpan  Gestation  Predation  Exposure  Danger  \n",
       "0         3.3      38.6      645.0          3         5       3  \n",
       "1         8.3       4.5       42.0          3         1       3  \n",
       "2        12.5      14.0       60.0          1         1       1  \n",
       "3        16.5       NaN       25.0          5         2       3  \n",
       "4         3.9      69.0      624.0          3         5       4  "
      ]
     },
     "execution_count": 3,
     "metadata": {},
     "output_type": "execute_result"
    }
   ],
   "source": [
    "animals.head()"
   ]
  },
  {
   "cell_type": "code",
   "execution_count": 4,
   "metadata": {
    "ExecuteTime": {
     "end_time": "2021-04-02T12:55:42.517414Z",
     "start_time": "2021-04-02T12:55:42.473532Z"
    },
    "scrolled": true
   },
   "outputs": [
    {
     "data": {
      "text/html": [
       "<div>\n",
       "<style scoped>\n",
       "    .dataframe tbody tr th:only-of-type {\n",
       "        vertical-align: middle;\n",
       "    }\n",
       "\n",
       "    .dataframe tbody tr th {\n",
       "        vertical-align: top;\n",
       "    }\n",
       "\n",
       "    .dataframe thead th {\n",
       "        text-align: right;\n",
       "    }\n",
       "</style>\n",
       "<table border=\"1\" class=\"dataframe\">\n",
       "  <thead>\n",
       "    <tr style=\"text-align: right;\">\n",
       "      <th></th>\n",
       "      <th>BodyWt</th>\n",
       "      <th>BrainWt</th>\n",
       "      <th>NonDreaming</th>\n",
       "      <th>Dreaming</th>\n",
       "      <th>TotalSleep</th>\n",
       "      <th>LifeSpan</th>\n",
       "      <th>Gestation</th>\n",
       "      <th>Predation</th>\n",
       "      <th>Exposure</th>\n",
       "      <th>Danger</th>\n",
       "    </tr>\n",
       "  </thead>\n",
       "  <tbody>\n",
       "    <tr>\n",
       "      <th>count</th>\n",
       "      <td>62.000000</td>\n",
       "      <td>62.000000</td>\n",
       "      <td>48.000000</td>\n",
       "      <td>50.000000</td>\n",
       "      <td>58.000000</td>\n",
       "      <td>58.000000</td>\n",
       "      <td>58.000000</td>\n",
       "      <td>62.000000</td>\n",
       "      <td>62.000000</td>\n",
       "      <td>62.000000</td>\n",
       "    </tr>\n",
       "    <tr>\n",
       "      <th>mean</th>\n",
       "      <td>198.789984</td>\n",
       "      <td>283.134194</td>\n",
       "      <td>8.672917</td>\n",
       "      <td>1.972000</td>\n",
       "      <td>10.532759</td>\n",
       "      <td>19.877586</td>\n",
       "      <td>142.353448</td>\n",
       "      <td>2.870968</td>\n",
       "      <td>2.419355</td>\n",
       "      <td>2.612903</td>\n",
       "    </tr>\n",
       "    <tr>\n",
       "      <th>std</th>\n",
       "      <td>899.158011</td>\n",
       "      <td>930.278942</td>\n",
       "      <td>3.666452</td>\n",
       "      <td>1.442651</td>\n",
       "      <td>4.606760</td>\n",
       "      <td>18.206255</td>\n",
       "      <td>146.805039</td>\n",
       "      <td>1.476414</td>\n",
       "      <td>1.604792</td>\n",
       "      <td>1.441252</td>\n",
       "    </tr>\n",
       "    <tr>\n",
       "      <th>min</th>\n",
       "      <td>0.005000</td>\n",
       "      <td>0.140000</td>\n",
       "      <td>2.100000</td>\n",
       "      <td>0.000000</td>\n",
       "      <td>2.600000</td>\n",
       "      <td>2.000000</td>\n",
       "      <td>12.000000</td>\n",
       "      <td>1.000000</td>\n",
       "      <td>1.000000</td>\n",
       "      <td>1.000000</td>\n",
       "    </tr>\n",
       "    <tr>\n",
       "      <th>25%</th>\n",
       "      <td>0.600000</td>\n",
       "      <td>4.250000</td>\n",
       "      <td>6.250000</td>\n",
       "      <td>0.900000</td>\n",
       "      <td>8.050000</td>\n",
       "      <td>6.625000</td>\n",
       "      <td>35.750000</td>\n",
       "      <td>2.000000</td>\n",
       "      <td>1.000000</td>\n",
       "      <td>1.000000</td>\n",
       "    </tr>\n",
       "    <tr>\n",
       "      <th>50%</th>\n",
       "      <td>3.342500</td>\n",
       "      <td>17.250000</td>\n",
       "      <td>8.350000</td>\n",
       "      <td>1.800000</td>\n",
       "      <td>10.450000</td>\n",
       "      <td>15.100000</td>\n",
       "      <td>79.000000</td>\n",
       "      <td>3.000000</td>\n",
       "      <td>2.000000</td>\n",
       "      <td>2.000000</td>\n",
       "    </tr>\n",
       "    <tr>\n",
       "      <th>75%</th>\n",
       "      <td>48.202500</td>\n",
       "      <td>166.000000</td>\n",
       "      <td>11.000000</td>\n",
       "      <td>2.550000</td>\n",
       "      <td>13.200000</td>\n",
       "      <td>27.750000</td>\n",
       "      <td>207.500000</td>\n",
       "      <td>4.000000</td>\n",
       "      <td>4.000000</td>\n",
       "      <td>4.000000</td>\n",
       "    </tr>\n",
       "    <tr>\n",
       "      <th>max</th>\n",
       "      <td>6654.000000</td>\n",
       "      <td>5712.000000</td>\n",
       "      <td>17.900000</td>\n",
       "      <td>6.600000</td>\n",
       "      <td>19.900000</td>\n",
       "      <td>100.000000</td>\n",
       "      <td>645.000000</td>\n",
       "      <td>5.000000</td>\n",
       "      <td>5.000000</td>\n",
       "      <td>5.000000</td>\n",
       "    </tr>\n",
       "  </tbody>\n",
       "</table>\n",
       "</div>"
      ],
      "text/plain": [
       "            BodyWt      BrainWt  NonDreaming   Dreaming  TotalSleep  \\\n",
       "count    62.000000    62.000000    48.000000  50.000000   58.000000   \n",
       "mean    198.789984   283.134194     8.672917   1.972000   10.532759   \n",
       "std     899.158011   930.278942     3.666452   1.442651    4.606760   \n",
       "min       0.005000     0.140000     2.100000   0.000000    2.600000   \n",
       "25%       0.600000     4.250000     6.250000   0.900000    8.050000   \n",
       "50%       3.342500    17.250000     8.350000   1.800000   10.450000   \n",
       "75%      48.202500   166.000000    11.000000   2.550000   13.200000   \n",
       "max    6654.000000  5712.000000    17.900000   6.600000   19.900000   \n",
       "\n",
       "         LifeSpan   Gestation  Predation   Exposure     Danger  \n",
       "count   58.000000   58.000000  62.000000  62.000000  62.000000  \n",
       "mean    19.877586  142.353448   2.870968   2.419355   2.612903  \n",
       "std     18.206255  146.805039   1.476414   1.604792   1.441252  \n",
       "min      2.000000   12.000000   1.000000   1.000000   1.000000  \n",
       "25%      6.625000   35.750000   2.000000   1.000000   1.000000  \n",
       "50%     15.100000   79.000000   3.000000   2.000000   2.000000  \n",
       "75%     27.750000  207.500000   4.000000   4.000000   4.000000  \n",
       "max    100.000000  645.000000   5.000000   5.000000   5.000000  "
      ]
     },
     "execution_count": 4,
     "metadata": {},
     "output_type": "execute_result"
    }
   ],
   "source": [
    "animals.describe()"
   ]
  },
  {
   "cell_type": "code",
   "execution_count": 5,
   "metadata": {
    "ExecuteTime": {
     "end_time": "2021-04-02T12:55:42.533372Z",
     "start_time": "2021-04-02T12:55:42.518412Z"
    }
   },
   "outputs": [
    {
     "name": "stdout",
     "output_type": "stream",
     "text": [
      "<class 'pandas.core.frame.DataFrame'>\n",
      "RangeIndex: 62 entries, 0 to 61\n",
      "Data columns (total 11 columns):\n",
      " #   Column       Non-Null Count  Dtype  \n",
      "---  ------       --------------  -----  \n",
      " 0   Species      62 non-null     object \n",
      " 1   BodyWt       62 non-null     float64\n",
      " 2   BrainWt      62 non-null     float64\n",
      " 3   NonDreaming  48 non-null     float64\n",
      " 4   Dreaming     50 non-null     float64\n",
      " 5   TotalSleep   58 non-null     float64\n",
      " 6   LifeSpan     58 non-null     float64\n",
      " 7   Gestation    58 non-null     float64\n",
      " 8   Predation    62 non-null     int64  \n",
      " 9   Exposure     62 non-null     int64  \n",
      " 10  Danger       62 non-null     int64  \n",
      "dtypes: float64(7), int64(3), object(1)\n",
      "memory usage: 5.5+ KB\n"
     ]
    }
   ],
   "source": [
    "animals.info()"
   ]
  },
  {
   "cell_type": "markdown",
   "metadata": {},
   "source": [
    "# DataFrame Calculations"
   ]
  },
  {
   "cell_type": "markdown",
   "metadata": {},
   "source": [
    "## Performing calculations to create a new column "
   ]
  },
  {
   "cell_type": "markdown",
   "metadata": {},
   "source": [
    "### Using constants"
   ]
  },
  {
   "cell_type": "code",
   "execution_count": 6,
   "metadata": {
    "ExecuteTime": {
     "end_time": "2021-04-02T12:55:42.549329Z",
     "start_time": "2021-04-02T12:55:42.535367Z"
    }
   },
   "outputs": [],
   "source": [
    "# criar uma coluna é basicamente o mesmo processo que se faz em um dicionário\n",
    "# dataframe['key'] = value\n",
    "animals['nova_coluna'] = 1"
   ]
  },
  {
   "cell_type": "code",
   "execution_count": 7,
   "metadata": {
    "ExecuteTime": {
     "end_time": "2021-04-02T12:55:42.565287Z",
     "start_time": "2021-04-02T12:55:42.550327Z"
    }
   },
   "outputs": [
    {
     "data": {
      "text/html": [
       "<div>\n",
       "<style scoped>\n",
       "    .dataframe tbody tr th:only-of-type {\n",
       "        vertical-align: middle;\n",
       "    }\n",
       "\n",
       "    .dataframe tbody tr th {\n",
       "        vertical-align: top;\n",
       "    }\n",
       "\n",
       "    .dataframe thead th {\n",
       "        text-align: right;\n",
       "    }\n",
       "</style>\n",
       "<table border=\"1\" class=\"dataframe\">\n",
       "  <thead>\n",
       "    <tr style=\"text-align: right;\">\n",
       "      <th></th>\n",
       "      <th>Species</th>\n",
       "      <th>BodyWt</th>\n",
       "      <th>BrainWt</th>\n",
       "      <th>NonDreaming</th>\n",
       "      <th>Dreaming</th>\n",
       "      <th>TotalSleep</th>\n",
       "      <th>LifeSpan</th>\n",
       "      <th>Gestation</th>\n",
       "      <th>Predation</th>\n",
       "      <th>Exposure</th>\n",
       "      <th>Danger</th>\n",
       "      <th>nova_coluna</th>\n",
       "    </tr>\n",
       "  </thead>\n",
       "  <tbody>\n",
       "    <tr>\n",
       "      <th>0</th>\n",
       "      <td>Africanelephant</td>\n",
       "      <td>6654.000</td>\n",
       "      <td>5712.0</td>\n",
       "      <td>NaN</td>\n",
       "      <td>NaN</td>\n",
       "      <td>3.3</td>\n",
       "      <td>38.6</td>\n",
       "      <td>645.0</td>\n",
       "      <td>3</td>\n",
       "      <td>5</td>\n",
       "      <td>3</td>\n",
       "      <td>1</td>\n",
       "    </tr>\n",
       "    <tr>\n",
       "      <th>1</th>\n",
       "      <td>Africangiantpouchedrat</td>\n",
       "      <td>1.000</td>\n",
       "      <td>6.6</td>\n",
       "      <td>6.3</td>\n",
       "      <td>2.0</td>\n",
       "      <td>8.3</td>\n",
       "      <td>4.5</td>\n",
       "      <td>42.0</td>\n",
       "      <td>3</td>\n",
       "      <td>1</td>\n",
       "      <td>3</td>\n",
       "      <td>1</td>\n",
       "    </tr>\n",
       "    <tr>\n",
       "      <th>2</th>\n",
       "      <td>ArcticFox</td>\n",
       "      <td>3.385</td>\n",
       "      <td>44.5</td>\n",
       "      <td>NaN</td>\n",
       "      <td>NaN</td>\n",
       "      <td>12.5</td>\n",
       "      <td>14.0</td>\n",
       "      <td>60.0</td>\n",
       "      <td>1</td>\n",
       "      <td>1</td>\n",
       "      <td>1</td>\n",
       "      <td>1</td>\n",
       "    </tr>\n",
       "    <tr>\n",
       "      <th>3</th>\n",
       "      <td>Arcticgroundsquirrel</td>\n",
       "      <td>0.920</td>\n",
       "      <td>5.7</td>\n",
       "      <td>NaN</td>\n",
       "      <td>NaN</td>\n",
       "      <td>16.5</td>\n",
       "      <td>NaN</td>\n",
       "      <td>25.0</td>\n",
       "      <td>5</td>\n",
       "      <td>2</td>\n",
       "      <td>3</td>\n",
       "      <td>1</td>\n",
       "    </tr>\n",
       "    <tr>\n",
       "      <th>4</th>\n",
       "      <td>Asianelephant</td>\n",
       "      <td>2547.000</td>\n",
       "      <td>4603.0</td>\n",
       "      <td>2.1</td>\n",
       "      <td>1.8</td>\n",
       "      <td>3.9</td>\n",
       "      <td>69.0</td>\n",
       "      <td>624.0</td>\n",
       "      <td>3</td>\n",
       "      <td>5</td>\n",
       "      <td>4</td>\n",
       "      <td>1</td>\n",
       "    </tr>\n",
       "    <tr>\n",
       "      <th>...</th>\n",
       "      <td>...</td>\n",
       "      <td>...</td>\n",
       "      <td>...</td>\n",
       "      <td>...</td>\n",
       "      <td>...</td>\n",
       "      <td>...</td>\n",
       "      <td>...</td>\n",
       "      <td>...</td>\n",
       "      <td>...</td>\n",
       "      <td>...</td>\n",
       "      <td>...</td>\n",
       "      <td>...</td>\n",
       "    </tr>\n",
       "    <tr>\n",
       "      <th>57</th>\n",
       "      <td>Treehyrax</td>\n",
       "      <td>2.000</td>\n",
       "      <td>12.3</td>\n",
       "      <td>4.9</td>\n",
       "      <td>0.5</td>\n",
       "      <td>5.4</td>\n",
       "      <td>7.5</td>\n",
       "      <td>200.0</td>\n",
       "      <td>3</td>\n",
       "      <td>1</td>\n",
       "      <td>3</td>\n",
       "      <td>1</td>\n",
       "    </tr>\n",
       "    <tr>\n",
       "      <th>58</th>\n",
       "      <td>Treeshrew</td>\n",
       "      <td>0.104</td>\n",
       "      <td>2.5</td>\n",
       "      <td>13.2</td>\n",
       "      <td>2.6</td>\n",
       "      <td>15.8</td>\n",
       "      <td>2.3</td>\n",
       "      <td>46.0</td>\n",
       "      <td>3</td>\n",
       "      <td>2</td>\n",
       "      <td>2</td>\n",
       "      <td>1</td>\n",
       "    </tr>\n",
       "    <tr>\n",
       "      <th>59</th>\n",
       "      <td>Vervet</td>\n",
       "      <td>4.190</td>\n",
       "      <td>58.0</td>\n",
       "      <td>9.7</td>\n",
       "      <td>0.6</td>\n",
       "      <td>10.3</td>\n",
       "      <td>24.0</td>\n",
       "      <td>210.0</td>\n",
       "      <td>4</td>\n",
       "      <td>3</td>\n",
       "      <td>4</td>\n",
       "      <td>1</td>\n",
       "    </tr>\n",
       "    <tr>\n",
       "      <th>60</th>\n",
       "      <td>Wateropossum</td>\n",
       "      <td>3.500</td>\n",
       "      <td>3.9</td>\n",
       "      <td>12.8</td>\n",
       "      <td>6.6</td>\n",
       "      <td>19.4</td>\n",
       "      <td>3.0</td>\n",
       "      <td>14.0</td>\n",
       "      <td>2</td>\n",
       "      <td>1</td>\n",
       "      <td>1</td>\n",
       "      <td>1</td>\n",
       "    </tr>\n",
       "    <tr>\n",
       "      <th>61</th>\n",
       "      <td>Yellow-belliedmarmot</td>\n",
       "      <td>4.050</td>\n",
       "      <td>17.0</td>\n",
       "      <td>NaN</td>\n",
       "      <td>NaN</td>\n",
       "      <td>NaN</td>\n",
       "      <td>13.0</td>\n",
       "      <td>38.0</td>\n",
       "      <td>3</td>\n",
       "      <td>1</td>\n",
       "      <td>1</td>\n",
       "      <td>1</td>\n",
       "    </tr>\n",
       "  </tbody>\n",
       "</table>\n",
       "<p>62 rows × 12 columns</p>\n",
       "</div>"
      ],
      "text/plain": [
       "                   Species    BodyWt  BrainWt  NonDreaming  Dreaming  \\\n",
       "0          Africanelephant  6654.000   5712.0          NaN       NaN   \n",
       "1   Africangiantpouchedrat     1.000      6.6          6.3       2.0   \n",
       "2                ArcticFox     3.385     44.5          NaN       NaN   \n",
       "3     Arcticgroundsquirrel     0.920      5.7          NaN       NaN   \n",
       "4            Asianelephant  2547.000   4603.0          2.1       1.8   \n",
       "..                     ...       ...      ...          ...       ...   \n",
       "57               Treehyrax     2.000     12.3          4.9       0.5   \n",
       "58               Treeshrew     0.104      2.5         13.2       2.6   \n",
       "59                  Vervet     4.190     58.0          9.7       0.6   \n",
       "60            Wateropossum     3.500      3.9         12.8       6.6   \n",
       "61    Yellow-belliedmarmot     4.050     17.0          NaN       NaN   \n",
       "\n",
       "    TotalSleep  LifeSpan  Gestation  Predation  Exposure  Danger  nova_coluna  \n",
       "0          3.3      38.6      645.0          3         5       3            1  \n",
       "1          8.3       4.5       42.0          3         1       3            1  \n",
       "2         12.5      14.0       60.0          1         1       1            1  \n",
       "3         16.5       NaN       25.0          5         2       3            1  \n",
       "4          3.9      69.0      624.0          3         5       4            1  \n",
       "..         ...       ...        ...        ...       ...     ...          ...  \n",
       "57         5.4       7.5      200.0          3         1       3            1  \n",
       "58        15.8       2.3       46.0          3         2       2            1  \n",
       "59        10.3      24.0      210.0          4         3       4            1  \n",
       "60        19.4       3.0       14.0          2         1       1            1  \n",
       "61         NaN      13.0       38.0          3         1       1            1  \n",
       "\n",
       "[62 rows x 12 columns]"
      ]
     },
     "execution_count": 7,
     "metadata": {},
     "output_type": "execute_result"
    }
   ],
   "source": [
    "animals"
   ]
  },
  {
   "cell_type": "code",
   "execution_count": 8,
   "metadata": {
    "ExecuteTime": {
     "end_time": "2021-04-02T12:55:42.581244Z",
     "start_time": "2021-04-02T12:55:42.569276Z"
    }
   },
   "outputs": [],
   "source": [
    "animals['emoji'] = '😅'"
   ]
  },
  {
   "cell_type": "code",
   "execution_count": 9,
   "metadata": {
    "ExecuteTime": {
     "end_time": "2021-04-02T12:55:42.597201Z",
     "start_time": "2021-04-02T12:55:42.583239Z"
    }
   },
   "outputs": [
    {
     "data": {
      "text/html": [
       "<div>\n",
       "<style scoped>\n",
       "    .dataframe tbody tr th:only-of-type {\n",
       "        vertical-align: middle;\n",
       "    }\n",
       "\n",
       "    .dataframe tbody tr th {\n",
       "        vertical-align: top;\n",
       "    }\n",
       "\n",
       "    .dataframe thead th {\n",
       "        text-align: right;\n",
       "    }\n",
       "</style>\n",
       "<table border=\"1\" class=\"dataframe\">\n",
       "  <thead>\n",
       "    <tr style=\"text-align: right;\">\n",
       "      <th></th>\n",
       "      <th>Species</th>\n",
       "      <th>BodyWt</th>\n",
       "      <th>BrainWt</th>\n",
       "      <th>NonDreaming</th>\n",
       "      <th>Dreaming</th>\n",
       "      <th>TotalSleep</th>\n",
       "      <th>LifeSpan</th>\n",
       "      <th>Gestation</th>\n",
       "      <th>Predation</th>\n",
       "      <th>Exposure</th>\n",
       "      <th>Danger</th>\n",
       "      <th>nova_coluna</th>\n",
       "      <th>emoji</th>\n",
       "    </tr>\n",
       "  </thead>\n",
       "  <tbody>\n",
       "    <tr>\n",
       "      <th>0</th>\n",
       "      <td>Africanelephant</td>\n",
       "      <td>6654.000</td>\n",
       "      <td>5712.0</td>\n",
       "      <td>NaN</td>\n",
       "      <td>NaN</td>\n",
       "      <td>3.3</td>\n",
       "      <td>38.6</td>\n",
       "      <td>645.0</td>\n",
       "      <td>3</td>\n",
       "      <td>5</td>\n",
       "      <td>3</td>\n",
       "      <td>1</td>\n",
       "      <td>😅</td>\n",
       "    </tr>\n",
       "    <tr>\n",
       "      <th>1</th>\n",
       "      <td>Africangiantpouchedrat</td>\n",
       "      <td>1.000</td>\n",
       "      <td>6.6</td>\n",
       "      <td>6.3</td>\n",
       "      <td>2.0</td>\n",
       "      <td>8.3</td>\n",
       "      <td>4.5</td>\n",
       "      <td>42.0</td>\n",
       "      <td>3</td>\n",
       "      <td>1</td>\n",
       "      <td>3</td>\n",
       "      <td>1</td>\n",
       "      <td>😅</td>\n",
       "    </tr>\n",
       "    <tr>\n",
       "      <th>2</th>\n",
       "      <td>ArcticFox</td>\n",
       "      <td>3.385</td>\n",
       "      <td>44.5</td>\n",
       "      <td>NaN</td>\n",
       "      <td>NaN</td>\n",
       "      <td>12.5</td>\n",
       "      <td>14.0</td>\n",
       "      <td>60.0</td>\n",
       "      <td>1</td>\n",
       "      <td>1</td>\n",
       "      <td>1</td>\n",
       "      <td>1</td>\n",
       "      <td>😅</td>\n",
       "    </tr>\n",
       "    <tr>\n",
       "      <th>3</th>\n",
       "      <td>Arcticgroundsquirrel</td>\n",
       "      <td>0.920</td>\n",
       "      <td>5.7</td>\n",
       "      <td>NaN</td>\n",
       "      <td>NaN</td>\n",
       "      <td>16.5</td>\n",
       "      <td>NaN</td>\n",
       "      <td>25.0</td>\n",
       "      <td>5</td>\n",
       "      <td>2</td>\n",
       "      <td>3</td>\n",
       "      <td>1</td>\n",
       "      <td>😅</td>\n",
       "    </tr>\n",
       "    <tr>\n",
       "      <th>4</th>\n",
       "      <td>Asianelephant</td>\n",
       "      <td>2547.000</td>\n",
       "      <td>4603.0</td>\n",
       "      <td>2.1</td>\n",
       "      <td>1.8</td>\n",
       "      <td>3.9</td>\n",
       "      <td>69.0</td>\n",
       "      <td>624.0</td>\n",
       "      <td>3</td>\n",
       "      <td>5</td>\n",
       "      <td>4</td>\n",
       "      <td>1</td>\n",
       "      <td>😅</td>\n",
       "    </tr>\n",
       "  </tbody>\n",
       "</table>\n",
       "</div>"
      ],
      "text/plain": [
       "                  Species    BodyWt  BrainWt  NonDreaming  Dreaming  \\\n",
       "0         Africanelephant  6654.000   5712.0          NaN       NaN   \n",
       "1  Africangiantpouchedrat     1.000      6.6          6.3       2.0   \n",
       "2               ArcticFox     3.385     44.5          NaN       NaN   \n",
       "3    Arcticgroundsquirrel     0.920      5.7          NaN       NaN   \n",
       "4           Asianelephant  2547.000   4603.0          2.1       1.8   \n",
       "\n",
       "   TotalSleep  LifeSpan  Gestation  Predation  Exposure  Danger  nova_coluna  \\\n",
       "0         3.3      38.6      645.0          3         5       3            1   \n",
       "1         8.3       4.5       42.0          3         1       3            1   \n",
       "2        12.5      14.0       60.0          1         1       1            1   \n",
       "3        16.5       NaN       25.0          5         2       3            1   \n",
       "4         3.9      69.0      624.0          3         5       4            1   \n",
       "\n",
       "  emoji  \n",
       "0     😅  \n",
       "1     😅  \n",
       "2     😅  \n",
       "3     😅  \n",
       "4     😅  "
      ]
     },
     "execution_count": 9,
     "metadata": {},
     "output_type": "execute_result"
    }
   ],
   "source": [
    "animals.head()"
   ]
  },
  {
   "cell_type": "markdown",
   "metadata": {},
   "source": [
    "## From lists"
   ]
  },
  {
   "cell_type": "code",
   "execution_count": 10,
   "metadata": {
    "ExecuteTime": {
     "end_time": "2021-04-02T12:55:42.613158Z",
     "start_time": "2021-04-02T12:55:42.598199Z"
    }
   },
   "outputs": [],
   "source": [
    "my_list = [item ** 2 for item in range(62)]"
   ]
  },
  {
   "cell_type": "code",
   "execution_count": 11,
   "metadata": {
    "ExecuteTime": {
     "end_time": "2021-04-02T12:55:42.628118Z",
     "start_time": "2021-04-02T12:55:42.614168Z"
    }
   },
   "outputs": [],
   "source": [
    "animals['terceira_coluna'] = my_list"
   ]
  },
  {
   "cell_type": "code",
   "execution_count": 12,
   "metadata": {
    "ExecuteTime": {
     "end_time": "2021-04-02T12:55:42.659913Z",
     "start_time": "2021-04-02T12:55:42.629116Z"
    }
   },
   "outputs": [
    {
     "data": {
      "text/html": [
       "<div>\n",
       "<style scoped>\n",
       "    .dataframe tbody tr th:only-of-type {\n",
       "        vertical-align: middle;\n",
       "    }\n",
       "\n",
       "    .dataframe tbody tr th {\n",
       "        vertical-align: top;\n",
       "    }\n",
       "\n",
       "    .dataframe thead th {\n",
       "        text-align: right;\n",
       "    }\n",
       "</style>\n",
       "<table border=\"1\" class=\"dataframe\">\n",
       "  <thead>\n",
       "    <tr style=\"text-align: right;\">\n",
       "      <th></th>\n",
       "      <th>Species</th>\n",
       "      <th>BodyWt</th>\n",
       "      <th>BrainWt</th>\n",
       "      <th>NonDreaming</th>\n",
       "      <th>Dreaming</th>\n",
       "      <th>TotalSleep</th>\n",
       "      <th>LifeSpan</th>\n",
       "      <th>Gestation</th>\n",
       "      <th>Predation</th>\n",
       "      <th>Exposure</th>\n",
       "      <th>Danger</th>\n",
       "      <th>nova_coluna</th>\n",
       "      <th>emoji</th>\n",
       "      <th>terceira_coluna</th>\n",
       "    </tr>\n",
       "  </thead>\n",
       "  <tbody>\n",
       "    <tr>\n",
       "      <th>0</th>\n",
       "      <td>Africanelephant</td>\n",
       "      <td>6654.000</td>\n",
       "      <td>5712.0</td>\n",
       "      <td>NaN</td>\n",
       "      <td>NaN</td>\n",
       "      <td>3.3</td>\n",
       "      <td>38.6</td>\n",
       "      <td>645.0</td>\n",
       "      <td>3</td>\n",
       "      <td>5</td>\n",
       "      <td>3</td>\n",
       "      <td>1</td>\n",
       "      <td>😅</td>\n",
       "      <td>0</td>\n",
       "    </tr>\n",
       "    <tr>\n",
       "      <th>1</th>\n",
       "      <td>Africangiantpouchedrat</td>\n",
       "      <td>1.000</td>\n",
       "      <td>6.6</td>\n",
       "      <td>6.3</td>\n",
       "      <td>2.0</td>\n",
       "      <td>8.3</td>\n",
       "      <td>4.5</td>\n",
       "      <td>42.0</td>\n",
       "      <td>3</td>\n",
       "      <td>1</td>\n",
       "      <td>3</td>\n",
       "      <td>1</td>\n",
       "      <td>😅</td>\n",
       "      <td>1</td>\n",
       "    </tr>\n",
       "    <tr>\n",
       "      <th>2</th>\n",
       "      <td>ArcticFox</td>\n",
       "      <td>3.385</td>\n",
       "      <td>44.5</td>\n",
       "      <td>NaN</td>\n",
       "      <td>NaN</td>\n",
       "      <td>12.5</td>\n",
       "      <td>14.0</td>\n",
       "      <td>60.0</td>\n",
       "      <td>1</td>\n",
       "      <td>1</td>\n",
       "      <td>1</td>\n",
       "      <td>1</td>\n",
       "      <td>😅</td>\n",
       "      <td>4</td>\n",
       "    </tr>\n",
       "    <tr>\n",
       "      <th>3</th>\n",
       "      <td>Arcticgroundsquirrel</td>\n",
       "      <td>0.920</td>\n",
       "      <td>5.7</td>\n",
       "      <td>NaN</td>\n",
       "      <td>NaN</td>\n",
       "      <td>16.5</td>\n",
       "      <td>NaN</td>\n",
       "      <td>25.0</td>\n",
       "      <td>5</td>\n",
       "      <td>2</td>\n",
       "      <td>3</td>\n",
       "      <td>1</td>\n",
       "      <td>😅</td>\n",
       "      <td>9</td>\n",
       "    </tr>\n",
       "    <tr>\n",
       "      <th>4</th>\n",
       "      <td>Asianelephant</td>\n",
       "      <td>2547.000</td>\n",
       "      <td>4603.0</td>\n",
       "      <td>2.1</td>\n",
       "      <td>1.8</td>\n",
       "      <td>3.9</td>\n",
       "      <td>69.0</td>\n",
       "      <td>624.0</td>\n",
       "      <td>3</td>\n",
       "      <td>5</td>\n",
       "      <td>4</td>\n",
       "      <td>1</td>\n",
       "      <td>😅</td>\n",
       "      <td>16</td>\n",
       "    </tr>\n",
       "    <tr>\n",
       "      <th>...</th>\n",
       "      <td>...</td>\n",
       "      <td>...</td>\n",
       "      <td>...</td>\n",
       "      <td>...</td>\n",
       "      <td>...</td>\n",
       "      <td>...</td>\n",
       "      <td>...</td>\n",
       "      <td>...</td>\n",
       "      <td>...</td>\n",
       "      <td>...</td>\n",
       "      <td>...</td>\n",
       "      <td>...</td>\n",
       "      <td>...</td>\n",
       "      <td>...</td>\n",
       "    </tr>\n",
       "    <tr>\n",
       "      <th>57</th>\n",
       "      <td>Treehyrax</td>\n",
       "      <td>2.000</td>\n",
       "      <td>12.3</td>\n",
       "      <td>4.9</td>\n",
       "      <td>0.5</td>\n",
       "      <td>5.4</td>\n",
       "      <td>7.5</td>\n",
       "      <td>200.0</td>\n",
       "      <td>3</td>\n",
       "      <td>1</td>\n",
       "      <td>3</td>\n",
       "      <td>1</td>\n",
       "      <td>😅</td>\n",
       "      <td>3249</td>\n",
       "    </tr>\n",
       "    <tr>\n",
       "      <th>58</th>\n",
       "      <td>Treeshrew</td>\n",
       "      <td>0.104</td>\n",
       "      <td>2.5</td>\n",
       "      <td>13.2</td>\n",
       "      <td>2.6</td>\n",
       "      <td>15.8</td>\n",
       "      <td>2.3</td>\n",
       "      <td>46.0</td>\n",
       "      <td>3</td>\n",
       "      <td>2</td>\n",
       "      <td>2</td>\n",
       "      <td>1</td>\n",
       "      <td>😅</td>\n",
       "      <td>3364</td>\n",
       "    </tr>\n",
       "    <tr>\n",
       "      <th>59</th>\n",
       "      <td>Vervet</td>\n",
       "      <td>4.190</td>\n",
       "      <td>58.0</td>\n",
       "      <td>9.7</td>\n",
       "      <td>0.6</td>\n",
       "      <td>10.3</td>\n",
       "      <td>24.0</td>\n",
       "      <td>210.0</td>\n",
       "      <td>4</td>\n",
       "      <td>3</td>\n",
       "      <td>4</td>\n",
       "      <td>1</td>\n",
       "      <td>😅</td>\n",
       "      <td>3481</td>\n",
       "    </tr>\n",
       "    <tr>\n",
       "      <th>60</th>\n",
       "      <td>Wateropossum</td>\n",
       "      <td>3.500</td>\n",
       "      <td>3.9</td>\n",
       "      <td>12.8</td>\n",
       "      <td>6.6</td>\n",
       "      <td>19.4</td>\n",
       "      <td>3.0</td>\n",
       "      <td>14.0</td>\n",
       "      <td>2</td>\n",
       "      <td>1</td>\n",
       "      <td>1</td>\n",
       "      <td>1</td>\n",
       "      <td>😅</td>\n",
       "      <td>3600</td>\n",
       "    </tr>\n",
       "    <tr>\n",
       "      <th>61</th>\n",
       "      <td>Yellow-belliedmarmot</td>\n",
       "      <td>4.050</td>\n",
       "      <td>17.0</td>\n",
       "      <td>NaN</td>\n",
       "      <td>NaN</td>\n",
       "      <td>NaN</td>\n",
       "      <td>13.0</td>\n",
       "      <td>38.0</td>\n",
       "      <td>3</td>\n",
       "      <td>1</td>\n",
       "      <td>1</td>\n",
       "      <td>1</td>\n",
       "      <td>😅</td>\n",
       "      <td>3721</td>\n",
       "    </tr>\n",
       "  </tbody>\n",
       "</table>\n",
       "<p>62 rows × 14 columns</p>\n",
       "</div>"
      ],
      "text/plain": [
       "                   Species    BodyWt  BrainWt  NonDreaming  Dreaming  \\\n",
       "0          Africanelephant  6654.000   5712.0          NaN       NaN   \n",
       "1   Africangiantpouchedrat     1.000      6.6          6.3       2.0   \n",
       "2                ArcticFox     3.385     44.5          NaN       NaN   \n",
       "3     Arcticgroundsquirrel     0.920      5.7          NaN       NaN   \n",
       "4            Asianelephant  2547.000   4603.0          2.1       1.8   \n",
       "..                     ...       ...      ...          ...       ...   \n",
       "57               Treehyrax     2.000     12.3          4.9       0.5   \n",
       "58               Treeshrew     0.104      2.5         13.2       2.6   \n",
       "59                  Vervet     4.190     58.0          9.7       0.6   \n",
       "60            Wateropossum     3.500      3.9         12.8       6.6   \n",
       "61    Yellow-belliedmarmot     4.050     17.0          NaN       NaN   \n",
       "\n",
       "    TotalSleep  LifeSpan  Gestation  Predation  Exposure  Danger  nova_coluna  \\\n",
       "0          3.3      38.6      645.0          3         5       3            1   \n",
       "1          8.3       4.5       42.0          3         1       3            1   \n",
       "2         12.5      14.0       60.0          1         1       1            1   \n",
       "3         16.5       NaN       25.0          5         2       3            1   \n",
       "4          3.9      69.0      624.0          3         5       4            1   \n",
       "..         ...       ...        ...        ...       ...     ...          ...   \n",
       "57         5.4       7.5      200.0          3         1       3            1   \n",
       "58        15.8       2.3       46.0          3         2       2            1   \n",
       "59        10.3      24.0      210.0          4         3       4            1   \n",
       "60        19.4       3.0       14.0          2         1       1            1   \n",
       "61         NaN      13.0       38.0          3         1       1            1   \n",
       "\n",
       "   emoji  terceira_coluna  \n",
       "0      😅                0  \n",
       "1      😅                1  \n",
       "2      😅                4  \n",
       "3      😅                9  \n",
       "4      😅               16  \n",
       "..   ...              ...  \n",
       "57     😅             3249  \n",
       "58     😅             3364  \n",
       "59     😅             3481  \n",
       "60     😅             3600  \n",
       "61     😅             3721  \n",
       "\n",
       "[62 rows x 14 columns]"
      ]
     },
     "execution_count": 12,
     "metadata": {},
     "output_type": "execute_result"
    }
   ],
   "source": [
    "animals"
   ]
  },
  {
   "cell_type": "code",
   "execution_count": 13,
   "metadata": {
    "ExecuteTime": {
     "end_time": "2021-04-02T12:55:42.690831Z",
     "start_time": "2021-04-02T12:55:42.660910Z"
    }
   },
   "outputs": [
    {
     "data": {
      "text/plain": [
       "0     14672.070000\n",
       "1         2.205000\n",
       "2         7.463925\n",
       "3         2.028600\n",
       "4      5616.135000\n",
       "          ...     \n",
       "57        4.410000\n",
       "58        0.229320\n",
       "59        9.238950\n",
       "60        7.717500\n",
       "61        8.930250\n",
       "Name: BodyWt, Length: 62, dtype: float64"
      ]
     },
     "execution_count": 13,
     "metadata": {},
     "output_type": "execute_result"
    }
   ],
   "source": [
    "animals['BodyWt'] * 2.205"
   ]
  },
  {
   "cell_type": "code",
   "execution_count": 14,
   "metadata": {
    "ExecuteTime": {
     "end_time": "2021-04-02T12:55:42.706787Z",
     "start_time": "2021-04-02T12:55:42.691827Z"
    }
   },
   "outputs": [],
   "source": [
    "animals.columns = [col.lower() for col in animals.columns]"
   ]
  },
  {
   "cell_type": "code",
   "execution_count": 15,
   "metadata": {
    "ExecuteTime": {
     "end_time": "2021-04-02T12:55:42.722744Z",
     "start_time": "2021-04-02T12:55:42.708782Z"
    }
   },
   "outputs": [
    {
     "data": {
      "text/plain": [
       "Index(['species', 'bodywt', 'brainwt', 'nondreaming', 'dreaming', 'totalsleep',\n",
       "       'lifespan', 'gestation', 'predation', 'exposure', 'danger',\n",
       "       'nova_coluna', 'emoji', 'terceira_coluna'],\n",
       "      dtype='object')"
      ]
     },
     "execution_count": 15,
     "metadata": {},
     "output_type": "execute_result"
    }
   ],
   "source": [
    "animals.columns"
   ]
  },
  {
   "cell_type": "markdown",
   "metadata": {},
   "source": [
    "## Performing calculations of `columns` * constant"
   ]
  },
  {
   "cell_type": "code",
   "execution_count": 16,
   "metadata": {
    "ExecuteTime": {
     "end_time": "2021-04-02T12:55:42.738298Z",
     "start_time": "2021-04-02T12:55:42.723747Z"
    }
   },
   "outputs": [],
   "source": [
    "# from kggrams to pounds\n",
    "animals['bodywt_pounds'] = round(animals['bodywt'] * 2.205)"
   ]
  },
  {
   "cell_type": "code",
   "execution_count": 17,
   "metadata": {
    "ExecuteTime": {
     "end_time": "2021-04-02T12:55:42.754255Z",
     "start_time": "2021-04-02T12:55:42.739295Z"
    },
    "scrolled": true
   },
   "outputs": [
    {
     "data": {
      "text/html": [
       "<div>\n",
       "<style scoped>\n",
       "    .dataframe tbody tr th:only-of-type {\n",
       "        vertical-align: middle;\n",
       "    }\n",
       "\n",
       "    .dataframe tbody tr th {\n",
       "        vertical-align: top;\n",
       "    }\n",
       "\n",
       "    .dataframe thead th {\n",
       "        text-align: right;\n",
       "    }\n",
       "</style>\n",
       "<table border=\"1\" class=\"dataframe\">\n",
       "  <thead>\n",
       "    <tr style=\"text-align: right;\">\n",
       "      <th></th>\n",
       "      <th>species</th>\n",
       "      <th>bodywt</th>\n",
       "      <th>brainwt</th>\n",
       "      <th>nondreaming</th>\n",
       "      <th>dreaming</th>\n",
       "      <th>totalsleep</th>\n",
       "      <th>lifespan</th>\n",
       "      <th>gestation</th>\n",
       "      <th>predation</th>\n",
       "      <th>exposure</th>\n",
       "      <th>danger</th>\n",
       "      <th>nova_coluna</th>\n",
       "      <th>emoji</th>\n",
       "      <th>terceira_coluna</th>\n",
       "      <th>bodywt_pounds</th>\n",
       "    </tr>\n",
       "  </thead>\n",
       "  <tbody>\n",
       "    <tr>\n",
       "      <th>0</th>\n",
       "      <td>Africanelephant</td>\n",
       "      <td>6654.000</td>\n",
       "      <td>5712.0</td>\n",
       "      <td>NaN</td>\n",
       "      <td>NaN</td>\n",
       "      <td>3.3</td>\n",
       "      <td>38.6</td>\n",
       "      <td>645.0</td>\n",
       "      <td>3</td>\n",
       "      <td>5</td>\n",
       "      <td>3</td>\n",
       "      <td>1</td>\n",
       "      <td>😅</td>\n",
       "      <td>0</td>\n",
       "      <td>14672.0</td>\n",
       "    </tr>\n",
       "    <tr>\n",
       "      <th>1</th>\n",
       "      <td>Africangiantpouchedrat</td>\n",
       "      <td>1.000</td>\n",
       "      <td>6.6</td>\n",
       "      <td>6.3</td>\n",
       "      <td>2.0</td>\n",
       "      <td>8.3</td>\n",
       "      <td>4.5</td>\n",
       "      <td>42.0</td>\n",
       "      <td>3</td>\n",
       "      <td>1</td>\n",
       "      <td>3</td>\n",
       "      <td>1</td>\n",
       "      <td>😅</td>\n",
       "      <td>1</td>\n",
       "      <td>2.0</td>\n",
       "    </tr>\n",
       "    <tr>\n",
       "      <th>2</th>\n",
       "      <td>ArcticFox</td>\n",
       "      <td>3.385</td>\n",
       "      <td>44.5</td>\n",
       "      <td>NaN</td>\n",
       "      <td>NaN</td>\n",
       "      <td>12.5</td>\n",
       "      <td>14.0</td>\n",
       "      <td>60.0</td>\n",
       "      <td>1</td>\n",
       "      <td>1</td>\n",
       "      <td>1</td>\n",
       "      <td>1</td>\n",
       "      <td>😅</td>\n",
       "      <td>4</td>\n",
       "      <td>7.0</td>\n",
       "    </tr>\n",
       "    <tr>\n",
       "      <th>3</th>\n",
       "      <td>Arcticgroundsquirrel</td>\n",
       "      <td>0.920</td>\n",
       "      <td>5.7</td>\n",
       "      <td>NaN</td>\n",
       "      <td>NaN</td>\n",
       "      <td>16.5</td>\n",
       "      <td>NaN</td>\n",
       "      <td>25.0</td>\n",
       "      <td>5</td>\n",
       "      <td>2</td>\n",
       "      <td>3</td>\n",
       "      <td>1</td>\n",
       "      <td>😅</td>\n",
       "      <td>9</td>\n",
       "      <td>2.0</td>\n",
       "    </tr>\n",
       "    <tr>\n",
       "      <th>4</th>\n",
       "      <td>Asianelephant</td>\n",
       "      <td>2547.000</td>\n",
       "      <td>4603.0</td>\n",
       "      <td>2.1</td>\n",
       "      <td>1.8</td>\n",
       "      <td>3.9</td>\n",
       "      <td>69.0</td>\n",
       "      <td>624.0</td>\n",
       "      <td>3</td>\n",
       "      <td>5</td>\n",
       "      <td>4</td>\n",
       "      <td>1</td>\n",
       "      <td>😅</td>\n",
       "      <td>16</td>\n",
       "      <td>5616.0</td>\n",
       "    </tr>\n",
       "  </tbody>\n",
       "</table>\n",
       "</div>"
      ],
      "text/plain": [
       "                  species    bodywt  brainwt  nondreaming  dreaming  \\\n",
       "0         Africanelephant  6654.000   5712.0          NaN       NaN   \n",
       "1  Africangiantpouchedrat     1.000      6.6          6.3       2.0   \n",
       "2               ArcticFox     3.385     44.5          NaN       NaN   \n",
       "3    Arcticgroundsquirrel     0.920      5.7          NaN       NaN   \n",
       "4           Asianelephant  2547.000   4603.0          2.1       1.8   \n",
       "\n",
       "   totalsleep  lifespan  gestation  predation  exposure  danger  nova_coluna  \\\n",
       "0         3.3      38.6      645.0          3         5       3            1   \n",
       "1         8.3       4.5       42.0          3         1       3            1   \n",
       "2        12.5      14.0       60.0          1         1       1            1   \n",
       "3        16.5       NaN       25.0          5         2       3            1   \n",
       "4         3.9      69.0      624.0          3         5       4            1   \n",
       "\n",
       "  emoji  terceira_coluna  bodywt_pounds  \n",
       "0     😅                0        14672.0  \n",
       "1     😅                1            2.0  \n",
       "2     😅                4            7.0  \n",
       "3     😅                9            2.0  \n",
       "4     😅               16         5616.0  "
      ]
     },
     "execution_count": 17,
     "metadata": {},
     "output_type": "execute_result"
    }
   ],
   "source": [
    "animals.head()"
   ]
  },
  {
   "cell_type": "code",
   "execution_count": 18,
   "metadata": {
    "ExecuteTime": {
     "end_time": "2021-04-02T12:55:42.770212Z",
     "start_time": "2021-04-02T12:55:42.755254Z"
    }
   },
   "outputs": [],
   "source": [
    "# from grams to kg\n",
    "animals['brainwt_kg'] = round(animals['brainwt'] / 1000,2)"
   ]
  },
  {
   "cell_type": "code",
   "execution_count": 19,
   "metadata": {
    "ExecuteTime": {
     "end_time": "2021-04-02T12:55:42.786169Z",
     "start_time": "2021-04-02T12:55:42.772207Z"
    }
   },
   "outputs": [],
   "source": [
    "animals.loc[0,'nova_coluna']=10000"
   ]
  },
  {
   "cell_type": "code",
   "execution_count": 20,
   "metadata": {
    "ExecuteTime": {
     "end_time": "2021-04-02T12:55:42.802127Z",
     "start_time": "2021-04-02T12:55:42.787183Z"
    }
   },
   "outputs": [
    {
     "data": {
      "text/html": [
       "<div>\n",
       "<style scoped>\n",
       "    .dataframe tbody tr th:only-of-type {\n",
       "        vertical-align: middle;\n",
       "    }\n",
       "\n",
       "    .dataframe tbody tr th {\n",
       "        vertical-align: top;\n",
       "    }\n",
       "\n",
       "    .dataframe thead th {\n",
       "        text-align: right;\n",
       "    }\n",
       "</style>\n",
       "<table border=\"1\" class=\"dataframe\">\n",
       "  <thead>\n",
       "    <tr style=\"text-align: right;\">\n",
       "      <th></th>\n",
       "      <th>species</th>\n",
       "      <th>bodywt</th>\n",
       "      <th>brainwt</th>\n",
       "      <th>nondreaming</th>\n",
       "      <th>dreaming</th>\n",
       "      <th>totalsleep</th>\n",
       "      <th>lifespan</th>\n",
       "      <th>gestation</th>\n",
       "      <th>predation</th>\n",
       "      <th>exposure</th>\n",
       "      <th>danger</th>\n",
       "      <th>nova_coluna</th>\n",
       "      <th>emoji</th>\n",
       "      <th>terceira_coluna</th>\n",
       "      <th>bodywt_pounds</th>\n",
       "      <th>brainwt_kg</th>\n",
       "    </tr>\n",
       "  </thead>\n",
       "  <tbody>\n",
       "    <tr>\n",
       "      <th>0</th>\n",
       "      <td>Africanelephant</td>\n",
       "      <td>6654.000</td>\n",
       "      <td>5712.0</td>\n",
       "      <td>NaN</td>\n",
       "      <td>NaN</td>\n",
       "      <td>3.3</td>\n",
       "      <td>38.6</td>\n",
       "      <td>645.0</td>\n",
       "      <td>3</td>\n",
       "      <td>5</td>\n",
       "      <td>3</td>\n",
       "      <td>10000</td>\n",
       "      <td>😅</td>\n",
       "      <td>0</td>\n",
       "      <td>14672.0</td>\n",
       "      <td>5.71</td>\n",
       "    </tr>\n",
       "    <tr>\n",
       "      <th>1</th>\n",
       "      <td>Africangiantpouchedrat</td>\n",
       "      <td>1.000</td>\n",
       "      <td>6.6</td>\n",
       "      <td>6.3</td>\n",
       "      <td>2.0</td>\n",
       "      <td>8.3</td>\n",
       "      <td>4.5</td>\n",
       "      <td>42.0</td>\n",
       "      <td>3</td>\n",
       "      <td>1</td>\n",
       "      <td>3</td>\n",
       "      <td>1</td>\n",
       "      <td>😅</td>\n",
       "      <td>1</td>\n",
       "      <td>2.0</td>\n",
       "      <td>0.01</td>\n",
       "    </tr>\n",
       "    <tr>\n",
       "      <th>2</th>\n",
       "      <td>ArcticFox</td>\n",
       "      <td>3.385</td>\n",
       "      <td>44.5</td>\n",
       "      <td>NaN</td>\n",
       "      <td>NaN</td>\n",
       "      <td>12.5</td>\n",
       "      <td>14.0</td>\n",
       "      <td>60.0</td>\n",
       "      <td>1</td>\n",
       "      <td>1</td>\n",
       "      <td>1</td>\n",
       "      <td>1</td>\n",
       "      <td>😅</td>\n",
       "      <td>4</td>\n",
       "      <td>7.0</td>\n",
       "      <td>0.04</td>\n",
       "    </tr>\n",
       "    <tr>\n",
       "      <th>3</th>\n",
       "      <td>Arcticgroundsquirrel</td>\n",
       "      <td>0.920</td>\n",
       "      <td>5.7</td>\n",
       "      <td>NaN</td>\n",
       "      <td>NaN</td>\n",
       "      <td>16.5</td>\n",
       "      <td>NaN</td>\n",
       "      <td>25.0</td>\n",
       "      <td>5</td>\n",
       "      <td>2</td>\n",
       "      <td>3</td>\n",
       "      <td>1</td>\n",
       "      <td>😅</td>\n",
       "      <td>9</td>\n",
       "      <td>2.0</td>\n",
       "      <td>0.01</td>\n",
       "    </tr>\n",
       "    <tr>\n",
       "      <th>4</th>\n",
       "      <td>Asianelephant</td>\n",
       "      <td>2547.000</td>\n",
       "      <td>4603.0</td>\n",
       "      <td>2.1</td>\n",
       "      <td>1.8</td>\n",
       "      <td>3.9</td>\n",
       "      <td>69.0</td>\n",
       "      <td>624.0</td>\n",
       "      <td>3</td>\n",
       "      <td>5</td>\n",
       "      <td>4</td>\n",
       "      <td>1</td>\n",
       "      <td>😅</td>\n",
       "      <td>16</td>\n",
       "      <td>5616.0</td>\n",
       "      <td>4.60</td>\n",
       "    </tr>\n",
       "  </tbody>\n",
       "</table>\n",
       "</div>"
      ],
      "text/plain": [
       "                  species    bodywt  brainwt  nondreaming  dreaming  \\\n",
       "0         Africanelephant  6654.000   5712.0          NaN       NaN   \n",
       "1  Africangiantpouchedrat     1.000      6.6          6.3       2.0   \n",
       "2               ArcticFox     3.385     44.5          NaN       NaN   \n",
       "3    Arcticgroundsquirrel     0.920      5.7          NaN       NaN   \n",
       "4           Asianelephant  2547.000   4603.0          2.1       1.8   \n",
       "\n",
       "   totalsleep  lifespan  gestation  predation  exposure  danger  nova_coluna  \\\n",
       "0         3.3      38.6      645.0          3         5       3        10000   \n",
       "1         8.3       4.5       42.0          3         1       3            1   \n",
       "2        12.5      14.0       60.0          1         1       1            1   \n",
       "3        16.5       NaN       25.0          5         2       3            1   \n",
       "4         3.9      69.0      624.0          3         5       4            1   \n",
       "\n",
       "  emoji  terceira_coluna  bodywt_pounds  brainwt_kg  \n",
       "0     😅                0        14672.0        5.71  \n",
       "1     😅                1            2.0        0.01  \n",
       "2     😅                4            7.0        0.04  \n",
       "3     😅                9            2.0        0.01  \n",
       "4     😅               16         5616.0        4.60  "
      ]
     },
     "execution_count": 20,
     "metadata": {},
     "output_type": "execute_result"
    }
   ],
   "source": [
    "animals.head()"
   ]
  },
  {
   "cell_type": "code",
   "execution_count": 21,
   "metadata": {
    "ExecuteTime": {
     "end_time": "2021-04-02T12:55:42.818084Z",
     "start_time": "2021-04-02T12:55:42.803124Z"
    }
   },
   "outputs": [],
   "source": [
    "animals = animals.drop(columns = ['nova_coluna','emoji','terceira_coluna'])\n",
    "#animals.drop( ['nova_coluna','emoji','terceira_coluna'],axis=1,inplace=True)"
   ]
  },
  {
   "cell_type": "code",
   "execution_count": null,
   "metadata": {},
   "outputs": [],
   "source": []
  },
  {
   "cell_type": "markdown",
   "metadata": {},
   "source": [
    "## Performing calculations within columns"
   ]
  },
  {
   "cell_type": "code",
   "execution_count": 22,
   "metadata": {
    "ExecuteTime": {
     "end_time": "2021-04-02T12:55:42.834043Z",
     "start_time": "2021-04-02T12:55:42.819081Z"
    }
   },
   "outputs": [
    {
     "data": {
      "text/plain": [
       "0      0.858431\n",
       "1      6.600000\n",
       "2     13.146233\n",
       "3      6.195652\n",
       "4      1.807224\n",
       "        ...    \n",
       "57     6.150000\n",
       "58    24.038462\n",
       "59    13.842482\n",
       "60     1.114286\n",
       "61     4.197531\n",
       "Length: 62, dtype: float64"
      ]
     },
     "execution_count": 22,
     "metadata": {},
     "output_type": "execute_result"
    }
   ],
   "source": [
    "animals['brainwt'] / animals['bodywt']"
   ]
  },
  {
   "cell_type": "code",
   "execution_count": 23,
   "metadata": {
    "ExecuteTime": {
     "end_time": "2021-04-02T12:55:42.850000Z",
     "start_time": "2021-04-02T12:55:42.838031Z"
    }
   },
   "outputs": [],
   "source": [
    "# get the ratio between brain and body.\n",
    "animals['ratio_brain_body'] = animals['brainwt'] / animals['bodywt']"
   ]
  },
  {
   "cell_type": "code",
   "execution_count": 24,
   "metadata": {
    "ExecuteTime": {
     "end_time": "2021-04-02T12:55:42.865958Z",
     "start_time": "2021-04-02T12:55:42.851994Z"
    }
   },
   "outputs": [
    {
     "data": {
      "text/html": [
       "<div>\n",
       "<style scoped>\n",
       "    .dataframe tbody tr th:only-of-type {\n",
       "        vertical-align: middle;\n",
       "    }\n",
       "\n",
       "    .dataframe tbody tr th {\n",
       "        vertical-align: top;\n",
       "    }\n",
       "\n",
       "    .dataframe thead th {\n",
       "        text-align: right;\n",
       "    }\n",
       "</style>\n",
       "<table border=\"1\" class=\"dataframe\">\n",
       "  <thead>\n",
       "    <tr style=\"text-align: right;\">\n",
       "      <th></th>\n",
       "      <th>species</th>\n",
       "      <th>bodywt</th>\n",
       "      <th>brainwt</th>\n",
       "      <th>nondreaming</th>\n",
       "      <th>dreaming</th>\n",
       "      <th>totalsleep</th>\n",
       "      <th>lifespan</th>\n",
       "      <th>gestation</th>\n",
       "      <th>predation</th>\n",
       "      <th>exposure</th>\n",
       "      <th>danger</th>\n",
       "      <th>bodywt_pounds</th>\n",
       "      <th>brainwt_kg</th>\n",
       "      <th>ratio_brain_body</th>\n",
       "    </tr>\n",
       "  </thead>\n",
       "  <tbody>\n",
       "    <tr>\n",
       "      <th>0</th>\n",
       "      <td>Africanelephant</td>\n",
       "      <td>6654.000</td>\n",
       "      <td>5712.0</td>\n",
       "      <td>NaN</td>\n",
       "      <td>NaN</td>\n",
       "      <td>3.3</td>\n",
       "      <td>38.6</td>\n",
       "      <td>645.0</td>\n",
       "      <td>3</td>\n",
       "      <td>5</td>\n",
       "      <td>3</td>\n",
       "      <td>14672.0</td>\n",
       "      <td>5.71</td>\n",
       "      <td>0.858431</td>\n",
       "    </tr>\n",
       "    <tr>\n",
       "      <th>1</th>\n",
       "      <td>Africangiantpouchedrat</td>\n",
       "      <td>1.000</td>\n",
       "      <td>6.6</td>\n",
       "      <td>6.3</td>\n",
       "      <td>2.0</td>\n",
       "      <td>8.3</td>\n",
       "      <td>4.5</td>\n",
       "      <td>42.0</td>\n",
       "      <td>3</td>\n",
       "      <td>1</td>\n",
       "      <td>3</td>\n",
       "      <td>2.0</td>\n",
       "      <td>0.01</td>\n",
       "      <td>6.600000</td>\n",
       "    </tr>\n",
       "    <tr>\n",
       "      <th>2</th>\n",
       "      <td>ArcticFox</td>\n",
       "      <td>3.385</td>\n",
       "      <td>44.5</td>\n",
       "      <td>NaN</td>\n",
       "      <td>NaN</td>\n",
       "      <td>12.5</td>\n",
       "      <td>14.0</td>\n",
       "      <td>60.0</td>\n",
       "      <td>1</td>\n",
       "      <td>1</td>\n",
       "      <td>1</td>\n",
       "      <td>7.0</td>\n",
       "      <td>0.04</td>\n",
       "      <td>13.146233</td>\n",
       "    </tr>\n",
       "    <tr>\n",
       "      <th>3</th>\n",
       "      <td>Arcticgroundsquirrel</td>\n",
       "      <td>0.920</td>\n",
       "      <td>5.7</td>\n",
       "      <td>NaN</td>\n",
       "      <td>NaN</td>\n",
       "      <td>16.5</td>\n",
       "      <td>NaN</td>\n",
       "      <td>25.0</td>\n",
       "      <td>5</td>\n",
       "      <td>2</td>\n",
       "      <td>3</td>\n",
       "      <td>2.0</td>\n",
       "      <td>0.01</td>\n",
       "      <td>6.195652</td>\n",
       "    </tr>\n",
       "    <tr>\n",
       "      <th>4</th>\n",
       "      <td>Asianelephant</td>\n",
       "      <td>2547.000</td>\n",
       "      <td>4603.0</td>\n",
       "      <td>2.1</td>\n",
       "      <td>1.8</td>\n",
       "      <td>3.9</td>\n",
       "      <td>69.0</td>\n",
       "      <td>624.0</td>\n",
       "      <td>3</td>\n",
       "      <td>5</td>\n",
       "      <td>4</td>\n",
       "      <td>5616.0</td>\n",
       "      <td>4.60</td>\n",
       "      <td>1.807224</td>\n",
       "    </tr>\n",
       "  </tbody>\n",
       "</table>\n",
       "</div>"
      ],
      "text/plain": [
       "                  species    bodywt  brainwt  nondreaming  dreaming  \\\n",
       "0         Africanelephant  6654.000   5712.0          NaN       NaN   \n",
       "1  Africangiantpouchedrat     1.000      6.6          6.3       2.0   \n",
       "2               ArcticFox     3.385     44.5          NaN       NaN   \n",
       "3    Arcticgroundsquirrel     0.920      5.7          NaN       NaN   \n",
       "4           Asianelephant  2547.000   4603.0          2.1       1.8   \n",
       "\n",
       "   totalsleep  lifespan  gestation  predation  exposure  danger  \\\n",
       "0         3.3      38.6      645.0          3         5       3   \n",
       "1         8.3       4.5       42.0          3         1       3   \n",
       "2        12.5      14.0       60.0          1         1       1   \n",
       "3        16.5       NaN       25.0          5         2       3   \n",
       "4         3.9      69.0      624.0          3         5       4   \n",
       "\n",
       "   bodywt_pounds  brainwt_kg  ratio_brain_body  \n",
       "0        14672.0        5.71          0.858431  \n",
       "1            2.0        0.01          6.600000  \n",
       "2            7.0        0.04         13.146233  \n",
       "3            2.0        0.01          6.195652  \n",
       "4         5616.0        4.60          1.807224  "
      ]
     },
     "execution_count": 24,
     "metadata": {},
     "output_type": "execute_result"
    }
   ],
   "source": [
    "# careful with scales!!\n",
    "animals.head()"
   ]
  },
  {
   "cell_type": "code",
   "execution_count": 25,
   "metadata": {
    "ExecuteTime": {
     "end_time": "2021-04-02T12:55:42.881947Z",
     "start_time": "2021-04-02T12:55:42.866955Z"
    }
   },
   "outputs": [],
   "source": [
    "animals['brainwt_kg'] = animals['brainwt']/100"
   ]
  },
  {
   "cell_type": "code",
   "execution_count": 26,
   "metadata": {
    "ExecuteTime": {
     "end_time": "2021-04-02T12:55:42.897166Z",
     "start_time": "2021-04-02T12:55:42.883675Z"
    }
   },
   "outputs": [],
   "source": [
    "# get the ratio between brain and body.\n",
    "animals['ratio_brain_body'] = animals['brainwt_kg'] / animals['bodywt']"
   ]
  },
  {
   "cell_type": "code",
   "execution_count": 27,
   "metadata": {
    "ExecuteTime": {
     "end_time": "2021-04-02T12:55:42.912125Z",
     "start_time": "2021-04-02T12:55:42.898163Z"
    }
   },
   "outputs": [
    {
     "data": {
      "text/html": [
       "<div>\n",
       "<style scoped>\n",
       "    .dataframe tbody tr th:only-of-type {\n",
       "        vertical-align: middle;\n",
       "    }\n",
       "\n",
       "    .dataframe tbody tr th {\n",
       "        vertical-align: top;\n",
       "    }\n",
       "\n",
       "    .dataframe thead th {\n",
       "        text-align: right;\n",
       "    }\n",
       "</style>\n",
       "<table border=\"1\" class=\"dataframe\">\n",
       "  <thead>\n",
       "    <tr style=\"text-align: right;\">\n",
       "      <th></th>\n",
       "      <th>species</th>\n",
       "      <th>bodywt</th>\n",
       "      <th>brainwt</th>\n",
       "      <th>nondreaming</th>\n",
       "      <th>dreaming</th>\n",
       "      <th>totalsleep</th>\n",
       "      <th>lifespan</th>\n",
       "      <th>gestation</th>\n",
       "      <th>predation</th>\n",
       "      <th>exposure</th>\n",
       "      <th>danger</th>\n",
       "      <th>bodywt_pounds</th>\n",
       "      <th>brainwt_kg</th>\n",
       "      <th>ratio_brain_body</th>\n",
       "    </tr>\n",
       "  </thead>\n",
       "  <tbody>\n",
       "    <tr>\n",
       "      <th>0</th>\n",
       "      <td>Africanelephant</td>\n",
       "      <td>6654.000</td>\n",
       "      <td>5712.0</td>\n",
       "      <td>NaN</td>\n",
       "      <td>NaN</td>\n",
       "      <td>3.3</td>\n",
       "      <td>38.6</td>\n",
       "      <td>645.0</td>\n",
       "      <td>3</td>\n",
       "      <td>5</td>\n",
       "      <td>3</td>\n",
       "      <td>14672.0</td>\n",
       "      <td>57.120</td>\n",
       "      <td>0.008584</td>\n",
       "    </tr>\n",
       "    <tr>\n",
       "      <th>1</th>\n",
       "      <td>Africangiantpouchedrat</td>\n",
       "      <td>1.000</td>\n",
       "      <td>6.6</td>\n",
       "      <td>6.3</td>\n",
       "      <td>2.0</td>\n",
       "      <td>8.3</td>\n",
       "      <td>4.5</td>\n",
       "      <td>42.0</td>\n",
       "      <td>3</td>\n",
       "      <td>1</td>\n",
       "      <td>3</td>\n",
       "      <td>2.0</td>\n",
       "      <td>0.066</td>\n",
       "      <td>0.066000</td>\n",
       "    </tr>\n",
       "    <tr>\n",
       "      <th>2</th>\n",
       "      <td>ArcticFox</td>\n",
       "      <td>3.385</td>\n",
       "      <td>44.5</td>\n",
       "      <td>NaN</td>\n",
       "      <td>NaN</td>\n",
       "      <td>12.5</td>\n",
       "      <td>14.0</td>\n",
       "      <td>60.0</td>\n",
       "      <td>1</td>\n",
       "      <td>1</td>\n",
       "      <td>1</td>\n",
       "      <td>7.0</td>\n",
       "      <td>0.445</td>\n",
       "      <td>0.131462</td>\n",
       "    </tr>\n",
       "    <tr>\n",
       "      <th>3</th>\n",
       "      <td>Arcticgroundsquirrel</td>\n",
       "      <td>0.920</td>\n",
       "      <td>5.7</td>\n",
       "      <td>NaN</td>\n",
       "      <td>NaN</td>\n",
       "      <td>16.5</td>\n",
       "      <td>NaN</td>\n",
       "      <td>25.0</td>\n",
       "      <td>5</td>\n",
       "      <td>2</td>\n",
       "      <td>3</td>\n",
       "      <td>2.0</td>\n",
       "      <td>0.057</td>\n",
       "      <td>0.061957</td>\n",
       "    </tr>\n",
       "    <tr>\n",
       "      <th>4</th>\n",
       "      <td>Asianelephant</td>\n",
       "      <td>2547.000</td>\n",
       "      <td>4603.0</td>\n",
       "      <td>2.1</td>\n",
       "      <td>1.8</td>\n",
       "      <td>3.9</td>\n",
       "      <td>69.0</td>\n",
       "      <td>624.0</td>\n",
       "      <td>3</td>\n",
       "      <td>5</td>\n",
       "      <td>4</td>\n",
       "      <td>5616.0</td>\n",
       "      <td>46.030</td>\n",
       "      <td>0.018072</td>\n",
       "    </tr>\n",
       "  </tbody>\n",
       "</table>\n",
       "</div>"
      ],
      "text/plain": [
       "                  species    bodywt  brainwt  nondreaming  dreaming  \\\n",
       "0         Africanelephant  6654.000   5712.0          NaN       NaN   \n",
       "1  Africangiantpouchedrat     1.000      6.6          6.3       2.0   \n",
       "2               ArcticFox     3.385     44.5          NaN       NaN   \n",
       "3    Arcticgroundsquirrel     0.920      5.7          NaN       NaN   \n",
       "4           Asianelephant  2547.000   4603.0          2.1       1.8   \n",
       "\n",
       "   totalsleep  lifespan  gestation  predation  exposure  danger  \\\n",
       "0         3.3      38.6      645.0          3         5       3   \n",
       "1         8.3       4.5       42.0          3         1       3   \n",
       "2        12.5      14.0       60.0          1         1       1   \n",
       "3        16.5       NaN       25.0          5         2       3   \n",
       "4         3.9      69.0      624.0          3         5       4   \n",
       "\n",
       "   bodywt_pounds  brainwt_kg  ratio_brain_body  \n",
       "0        14672.0      57.120          0.008584  \n",
       "1            2.0       0.066          0.066000  \n",
       "2            7.0       0.445          0.131462  \n",
       "3            2.0       0.057          0.061957  \n",
       "4         5616.0      46.030          0.018072  "
      ]
     },
     "execution_count": 27,
     "metadata": {},
     "output_type": "execute_result"
    }
   ],
   "source": [
    "animals.head()"
   ]
  },
  {
   "cell_type": "markdown",
   "metadata": {},
   "source": [
    "## Sorting results"
   ]
  },
  {
   "cell_type": "code",
   "execution_count": 28,
   "metadata": {
    "ExecuteTime": {
     "end_time": "2021-04-02T12:55:42.943041Z",
     "start_time": "2021-04-02T12:55:42.913122Z"
    }
   },
   "outputs": [
    {
     "data": {
      "text/html": [
       "<div>\n",
       "<style scoped>\n",
       "    .dataframe tbody tr th:only-of-type {\n",
       "        vertical-align: middle;\n",
       "    }\n",
       "\n",
       "    .dataframe tbody tr th {\n",
       "        vertical-align: top;\n",
       "    }\n",
       "\n",
       "    .dataframe thead th {\n",
       "        text-align: right;\n",
       "    }\n",
       "</style>\n",
       "<table border=\"1\" class=\"dataframe\">\n",
       "  <thead>\n",
       "    <tr style=\"text-align: right;\">\n",
       "      <th></th>\n",
       "      <th>species</th>\n",
       "      <th>bodywt</th>\n",
       "      <th>brainwt</th>\n",
       "      <th>nondreaming</th>\n",
       "      <th>dreaming</th>\n",
       "      <th>totalsleep</th>\n",
       "      <th>lifespan</th>\n",
       "      <th>gestation</th>\n",
       "      <th>predation</th>\n",
       "      <th>exposure</th>\n",
       "      <th>danger</th>\n",
       "      <th>bodywt_pounds</th>\n",
       "      <th>brainwt_kg</th>\n",
       "      <th>ratio_brain_body</th>\n",
       "    </tr>\n",
       "  </thead>\n",
       "  <tbody>\n",
       "    <tr>\n",
       "      <th>26</th>\n",
       "      <td>Groundsquirrel</td>\n",
       "      <td>0.101</td>\n",
       "      <td>4.00</td>\n",
       "      <td>10.4</td>\n",
       "      <td>3.4</td>\n",
       "      <td>13.8</td>\n",
       "      <td>9.0</td>\n",
       "      <td>28.0</td>\n",
       "      <td>5</td>\n",
       "      <td>1</td>\n",
       "      <td>3</td>\n",
       "      <td>0.0</td>\n",
       "      <td>0.0400</td>\n",
       "      <td>0.396040</td>\n",
       "    </tr>\n",
       "    <tr>\n",
       "      <th>41</th>\n",
       "      <td>Owlmonkey</td>\n",
       "      <td>0.480</td>\n",
       "      <td>15.50</td>\n",
       "      <td>15.2</td>\n",
       "      <td>1.8</td>\n",
       "      <td>17.0</td>\n",
       "      <td>12.0</td>\n",
       "      <td>140.0</td>\n",
       "      <td>2</td>\n",
       "      <td>2</td>\n",
       "      <td>2</td>\n",
       "      <td>1.0</td>\n",
       "      <td>0.1550</td>\n",
       "      <td>0.322917</td>\n",
       "    </tr>\n",
       "    <tr>\n",
       "      <th>31</th>\n",
       "      <td>Lessershort-tailedshrew</td>\n",
       "      <td>0.005</td>\n",
       "      <td>0.14</td>\n",
       "      <td>7.7</td>\n",
       "      <td>1.4</td>\n",
       "      <td>9.1</td>\n",
       "      <td>2.6</td>\n",
       "      <td>21.5</td>\n",
       "      <td>5</td>\n",
       "      <td>2</td>\n",
       "      <td>4</td>\n",
       "      <td>0.0</td>\n",
       "      <td>0.0014</td>\n",
       "      <td>0.280000</td>\n",
       "    </tr>\n",
       "    <tr>\n",
       "      <th>49</th>\n",
       "      <td>Rhesusmonkey</td>\n",
       "      <td>6.800</td>\n",
       "      <td>179.00</td>\n",
       "      <td>8.4</td>\n",
       "      <td>1.2</td>\n",
       "      <td>9.6</td>\n",
       "      <td>29.0</td>\n",
       "      <td>164.0</td>\n",
       "      <td>2</td>\n",
       "      <td>3</td>\n",
       "      <td>2</td>\n",
       "      <td>15.0</td>\n",
       "      <td>1.7900</td>\n",
       "      <td>0.263235</td>\n",
       "    </tr>\n",
       "    <tr>\n",
       "      <th>17</th>\n",
       "      <td>Galago</td>\n",
       "      <td>0.200</td>\n",
       "      <td>5.00</td>\n",
       "      <td>9.5</td>\n",
       "      <td>1.2</td>\n",
       "      <td>10.7</td>\n",
       "      <td>10.4</td>\n",
       "      <td>120.0</td>\n",
       "      <td>2</td>\n",
       "      <td>2</td>\n",
       "      <td>2</td>\n",
       "      <td>0.0</td>\n",
       "      <td>0.0500</td>\n",
       "      <td>0.250000</td>\n",
       "    </tr>\n",
       "    <tr>\n",
       "      <th>...</th>\n",
       "      <td>...</td>\n",
       "      <td>...</td>\n",
       "      <td>...</td>\n",
       "      <td>...</td>\n",
       "      <td>...</td>\n",
       "      <td>...</td>\n",
       "      <td>...</td>\n",
       "      <td>...</td>\n",
       "      <td>...</td>\n",
       "      <td>...</td>\n",
       "      <td>...</td>\n",
       "      <td>...</td>\n",
       "      <td>...</td>\n",
       "      <td>...</td>\n",
       "    </tr>\n",
       "    <tr>\n",
       "      <th>60</th>\n",
       "      <td>Wateropossum</td>\n",
       "      <td>3.500</td>\n",
       "      <td>3.90</td>\n",
       "      <td>12.8</td>\n",
       "      <td>6.6</td>\n",
       "      <td>19.4</td>\n",
       "      <td>3.0</td>\n",
       "      <td>14.0</td>\n",
       "      <td>2</td>\n",
       "      <td>1</td>\n",
       "      <td>1</td>\n",
       "      <td>8.0</td>\n",
       "      <td>0.0390</td>\n",
       "      <td>0.011143</td>\n",
       "    </tr>\n",
       "    <tr>\n",
       "      <th>7</th>\n",
       "      <td>Braziliantapir</td>\n",
       "      <td>160.000</td>\n",
       "      <td>169.00</td>\n",
       "      <td>5.2</td>\n",
       "      <td>1.0</td>\n",
       "      <td>6.2</td>\n",
       "      <td>30.4</td>\n",
       "      <td>392.0</td>\n",
       "      <td>4</td>\n",
       "      <td>5</td>\n",
       "      <td>4</td>\n",
       "      <td>353.0</td>\n",
       "      <td>1.6900</td>\n",
       "      <td>0.010562</td>\n",
       "    </tr>\n",
       "    <tr>\n",
       "      <th>44</th>\n",
       "      <td>Pig</td>\n",
       "      <td>192.000</td>\n",
       "      <td>180.00</td>\n",
       "      <td>6.5</td>\n",
       "      <td>1.9</td>\n",
       "      <td>8.4</td>\n",
       "      <td>27.0</td>\n",
       "      <td>115.0</td>\n",
       "      <td>4</td>\n",
       "      <td>4</td>\n",
       "      <td>4</td>\n",
       "      <td>423.0</td>\n",
       "      <td>1.8000</td>\n",
       "      <td>0.009375</td>\n",
       "    </tr>\n",
       "    <tr>\n",
       "      <th>11</th>\n",
       "      <td>Cow</td>\n",
       "      <td>465.000</td>\n",
       "      <td>423.00</td>\n",
       "      <td>3.2</td>\n",
       "      <td>0.7</td>\n",
       "      <td>3.9</td>\n",
       "      <td>30.0</td>\n",
       "      <td>281.0</td>\n",
       "      <td>5</td>\n",
       "      <td>5</td>\n",
       "      <td>5</td>\n",
       "      <td>1025.0</td>\n",
       "      <td>4.2300</td>\n",
       "      <td>0.009097</td>\n",
       "    </tr>\n",
       "    <tr>\n",
       "      <th>0</th>\n",
       "      <td>Africanelephant</td>\n",
       "      <td>6654.000</td>\n",
       "      <td>5712.00</td>\n",
       "      <td>NaN</td>\n",
       "      <td>NaN</td>\n",
       "      <td>3.3</td>\n",
       "      <td>38.6</td>\n",
       "      <td>645.0</td>\n",
       "      <td>3</td>\n",
       "      <td>5</td>\n",
       "      <td>3</td>\n",
       "      <td>14672.0</td>\n",
       "      <td>57.1200</td>\n",
       "      <td>0.008584</td>\n",
       "    </tr>\n",
       "  </tbody>\n",
       "</table>\n",
       "<p>62 rows × 14 columns</p>\n",
       "</div>"
      ],
      "text/plain": [
       "                    species    bodywt  brainwt  nondreaming  dreaming  \\\n",
       "26           Groundsquirrel     0.101     4.00         10.4       3.4   \n",
       "41                Owlmonkey     0.480    15.50         15.2       1.8   \n",
       "31  Lessershort-tailedshrew     0.005     0.14          7.7       1.4   \n",
       "49             Rhesusmonkey     6.800   179.00          8.4       1.2   \n",
       "17                   Galago     0.200     5.00          9.5       1.2   \n",
       "..                      ...       ...      ...          ...       ...   \n",
       "60             Wateropossum     3.500     3.90         12.8       6.6   \n",
       "7            Braziliantapir   160.000   169.00          5.2       1.0   \n",
       "44                      Pig   192.000   180.00          6.5       1.9   \n",
       "11                      Cow   465.000   423.00          3.2       0.7   \n",
       "0           Africanelephant  6654.000  5712.00          NaN       NaN   \n",
       "\n",
       "    totalsleep  lifespan  gestation  predation  exposure  danger  \\\n",
       "26        13.8       9.0       28.0          5         1       3   \n",
       "41        17.0      12.0      140.0          2         2       2   \n",
       "31         9.1       2.6       21.5          5         2       4   \n",
       "49         9.6      29.0      164.0          2         3       2   \n",
       "17        10.7      10.4      120.0          2         2       2   \n",
       "..         ...       ...        ...        ...       ...     ...   \n",
       "60        19.4       3.0       14.0          2         1       1   \n",
       "7          6.2      30.4      392.0          4         5       4   \n",
       "44         8.4      27.0      115.0          4         4       4   \n",
       "11         3.9      30.0      281.0          5         5       5   \n",
       "0          3.3      38.6      645.0          3         5       3   \n",
       "\n",
       "    bodywt_pounds  brainwt_kg  ratio_brain_body  \n",
       "26            0.0      0.0400          0.396040  \n",
       "41            1.0      0.1550          0.322917  \n",
       "31            0.0      0.0014          0.280000  \n",
       "49           15.0      1.7900          0.263235  \n",
       "17            0.0      0.0500          0.250000  \n",
       "..            ...         ...               ...  \n",
       "60            8.0      0.0390          0.011143  \n",
       "7           353.0      1.6900          0.010562  \n",
       "44          423.0      1.8000          0.009375  \n",
       "11         1025.0      4.2300          0.009097  \n",
       "0         14672.0     57.1200          0.008584  \n",
       "\n",
       "[62 rows x 14 columns]"
      ]
     },
     "execution_count": 28,
     "metadata": {},
     "output_type": "execute_result"
    }
   ],
   "source": [
    "# sort values to see results.\n",
    "animals.sort_values(by='ratio_brain_body', ascending=False)"
   ]
  },
  {
   "cell_type": "markdown",
   "metadata": {},
   "source": [
    "## Performing calculations row-wise "
   ]
  },
  {
   "cell_type": "markdown",
   "metadata": {},
   "source": [
    "### Calculate the sum of weights for each animal"
   ]
  },
  {
   "cell_type": "code",
   "execution_count": 29,
   "metadata": {
    "ExecuteTime": {
     "end_time": "2021-04-02T12:55:42.959000Z",
     "start_time": "2021-04-02T12:55:42.945037Z"
    }
   },
   "outputs": [
    {
     "data": {
      "text/plain": [
       "0     6711.120\n",
       "1        1.066\n",
       "2        3.830\n",
       "3        0.977\n",
       "4     2593.030\n",
       "        ...   \n",
       "57       2.123\n",
       "58       0.129\n",
       "59       4.770\n",
       "60       3.539\n",
       "61       4.220\n",
       "Length: 62, dtype: float64"
      ]
     },
     "execution_count": 29,
     "metadata": {},
     "output_type": "execute_result"
    }
   ],
   "source": [
    "animals[['bodywt','brainwt_kg']].sum(axis=1)"
   ]
  },
  {
   "cell_type": "code",
   "execution_count": 30,
   "metadata": {
    "ExecuteTime": {
     "end_time": "2021-04-02T12:55:42.974957Z",
     "start_time": "2021-04-02T12:55:42.959997Z"
    }
   },
   "outputs": [],
   "source": [
    "animals['total_wt'] = animals[['bodywt','brainwt_kg']].sum(axis=1)"
   ]
  },
  {
   "cell_type": "code",
   "execution_count": 31,
   "metadata": {
    "ExecuteTime": {
     "end_time": "2021-04-02T12:55:43.005805Z",
     "start_time": "2021-04-02T12:55:42.975954Z"
    }
   },
   "outputs": [
    {
     "data": {
      "text/html": [
       "<div>\n",
       "<style scoped>\n",
       "    .dataframe tbody tr th:only-of-type {\n",
       "        vertical-align: middle;\n",
       "    }\n",
       "\n",
       "    .dataframe tbody tr th {\n",
       "        vertical-align: top;\n",
       "    }\n",
       "\n",
       "    .dataframe thead th {\n",
       "        text-align: right;\n",
       "    }\n",
       "</style>\n",
       "<table border=\"1\" class=\"dataframe\">\n",
       "  <thead>\n",
       "    <tr style=\"text-align: right;\">\n",
       "      <th></th>\n",
       "      <th>species</th>\n",
       "      <th>bodywt</th>\n",
       "      <th>brainwt</th>\n",
       "      <th>nondreaming</th>\n",
       "      <th>dreaming</th>\n",
       "      <th>totalsleep</th>\n",
       "      <th>lifespan</th>\n",
       "      <th>gestation</th>\n",
       "      <th>predation</th>\n",
       "      <th>exposure</th>\n",
       "      <th>danger</th>\n",
       "      <th>bodywt_pounds</th>\n",
       "      <th>brainwt_kg</th>\n",
       "      <th>ratio_brain_body</th>\n",
       "      <th>total_wt</th>\n",
       "    </tr>\n",
       "  </thead>\n",
       "  <tbody>\n",
       "    <tr>\n",
       "      <th>0</th>\n",
       "      <td>Africanelephant</td>\n",
       "      <td>6654.000</td>\n",
       "      <td>5712.0</td>\n",
       "      <td>NaN</td>\n",
       "      <td>NaN</td>\n",
       "      <td>3.3</td>\n",
       "      <td>38.6</td>\n",
       "      <td>645.0</td>\n",
       "      <td>3</td>\n",
       "      <td>5</td>\n",
       "      <td>3</td>\n",
       "      <td>14672.0</td>\n",
       "      <td>57.120</td>\n",
       "      <td>0.008584</td>\n",
       "      <td>6711.120</td>\n",
       "    </tr>\n",
       "    <tr>\n",
       "      <th>1</th>\n",
       "      <td>Africangiantpouchedrat</td>\n",
       "      <td>1.000</td>\n",
       "      <td>6.6</td>\n",
       "      <td>6.3</td>\n",
       "      <td>2.0</td>\n",
       "      <td>8.3</td>\n",
       "      <td>4.5</td>\n",
       "      <td>42.0</td>\n",
       "      <td>3</td>\n",
       "      <td>1</td>\n",
       "      <td>3</td>\n",
       "      <td>2.0</td>\n",
       "      <td>0.066</td>\n",
       "      <td>0.066000</td>\n",
       "      <td>1.066</td>\n",
       "    </tr>\n",
       "    <tr>\n",
       "      <th>2</th>\n",
       "      <td>ArcticFox</td>\n",
       "      <td>3.385</td>\n",
       "      <td>44.5</td>\n",
       "      <td>NaN</td>\n",
       "      <td>NaN</td>\n",
       "      <td>12.5</td>\n",
       "      <td>14.0</td>\n",
       "      <td>60.0</td>\n",
       "      <td>1</td>\n",
       "      <td>1</td>\n",
       "      <td>1</td>\n",
       "      <td>7.0</td>\n",
       "      <td>0.445</td>\n",
       "      <td>0.131462</td>\n",
       "      <td>3.830</td>\n",
       "    </tr>\n",
       "    <tr>\n",
       "      <th>3</th>\n",
       "      <td>Arcticgroundsquirrel</td>\n",
       "      <td>0.920</td>\n",
       "      <td>5.7</td>\n",
       "      <td>NaN</td>\n",
       "      <td>NaN</td>\n",
       "      <td>16.5</td>\n",
       "      <td>NaN</td>\n",
       "      <td>25.0</td>\n",
       "      <td>5</td>\n",
       "      <td>2</td>\n",
       "      <td>3</td>\n",
       "      <td>2.0</td>\n",
       "      <td>0.057</td>\n",
       "      <td>0.061957</td>\n",
       "      <td>0.977</td>\n",
       "    </tr>\n",
       "    <tr>\n",
       "      <th>4</th>\n",
       "      <td>Asianelephant</td>\n",
       "      <td>2547.000</td>\n",
       "      <td>4603.0</td>\n",
       "      <td>2.1</td>\n",
       "      <td>1.8</td>\n",
       "      <td>3.9</td>\n",
       "      <td>69.0</td>\n",
       "      <td>624.0</td>\n",
       "      <td>3</td>\n",
       "      <td>5</td>\n",
       "      <td>4</td>\n",
       "      <td>5616.0</td>\n",
       "      <td>46.030</td>\n",
       "      <td>0.018072</td>\n",
       "      <td>2593.030</td>\n",
       "    </tr>\n",
       "    <tr>\n",
       "      <th>...</th>\n",
       "      <td>...</td>\n",
       "      <td>...</td>\n",
       "      <td>...</td>\n",
       "      <td>...</td>\n",
       "      <td>...</td>\n",
       "      <td>...</td>\n",
       "      <td>...</td>\n",
       "      <td>...</td>\n",
       "      <td>...</td>\n",
       "      <td>...</td>\n",
       "      <td>...</td>\n",
       "      <td>...</td>\n",
       "      <td>...</td>\n",
       "      <td>...</td>\n",
       "      <td>...</td>\n",
       "    </tr>\n",
       "    <tr>\n",
       "      <th>57</th>\n",
       "      <td>Treehyrax</td>\n",
       "      <td>2.000</td>\n",
       "      <td>12.3</td>\n",
       "      <td>4.9</td>\n",
       "      <td>0.5</td>\n",
       "      <td>5.4</td>\n",
       "      <td>7.5</td>\n",
       "      <td>200.0</td>\n",
       "      <td>3</td>\n",
       "      <td>1</td>\n",
       "      <td>3</td>\n",
       "      <td>4.0</td>\n",
       "      <td>0.123</td>\n",
       "      <td>0.061500</td>\n",
       "      <td>2.123</td>\n",
       "    </tr>\n",
       "    <tr>\n",
       "      <th>58</th>\n",
       "      <td>Treeshrew</td>\n",
       "      <td>0.104</td>\n",
       "      <td>2.5</td>\n",
       "      <td>13.2</td>\n",
       "      <td>2.6</td>\n",
       "      <td>15.8</td>\n",
       "      <td>2.3</td>\n",
       "      <td>46.0</td>\n",
       "      <td>3</td>\n",
       "      <td>2</td>\n",
       "      <td>2</td>\n",
       "      <td>0.0</td>\n",
       "      <td>0.025</td>\n",
       "      <td>0.240385</td>\n",
       "      <td>0.129</td>\n",
       "    </tr>\n",
       "    <tr>\n",
       "      <th>59</th>\n",
       "      <td>Vervet</td>\n",
       "      <td>4.190</td>\n",
       "      <td>58.0</td>\n",
       "      <td>9.7</td>\n",
       "      <td>0.6</td>\n",
       "      <td>10.3</td>\n",
       "      <td>24.0</td>\n",
       "      <td>210.0</td>\n",
       "      <td>4</td>\n",
       "      <td>3</td>\n",
       "      <td>4</td>\n",
       "      <td>9.0</td>\n",
       "      <td>0.580</td>\n",
       "      <td>0.138425</td>\n",
       "      <td>4.770</td>\n",
       "    </tr>\n",
       "    <tr>\n",
       "      <th>60</th>\n",
       "      <td>Wateropossum</td>\n",
       "      <td>3.500</td>\n",
       "      <td>3.9</td>\n",
       "      <td>12.8</td>\n",
       "      <td>6.6</td>\n",
       "      <td>19.4</td>\n",
       "      <td>3.0</td>\n",
       "      <td>14.0</td>\n",
       "      <td>2</td>\n",
       "      <td>1</td>\n",
       "      <td>1</td>\n",
       "      <td>8.0</td>\n",
       "      <td>0.039</td>\n",
       "      <td>0.011143</td>\n",
       "      <td>3.539</td>\n",
       "    </tr>\n",
       "    <tr>\n",
       "      <th>61</th>\n",
       "      <td>Yellow-belliedmarmot</td>\n",
       "      <td>4.050</td>\n",
       "      <td>17.0</td>\n",
       "      <td>NaN</td>\n",
       "      <td>NaN</td>\n",
       "      <td>NaN</td>\n",
       "      <td>13.0</td>\n",
       "      <td>38.0</td>\n",
       "      <td>3</td>\n",
       "      <td>1</td>\n",
       "      <td>1</td>\n",
       "      <td>9.0</td>\n",
       "      <td>0.170</td>\n",
       "      <td>0.041975</td>\n",
       "      <td>4.220</td>\n",
       "    </tr>\n",
       "  </tbody>\n",
       "</table>\n",
       "<p>62 rows × 15 columns</p>\n",
       "</div>"
      ],
      "text/plain": [
       "                   species    bodywt  brainwt  nondreaming  dreaming  \\\n",
       "0          Africanelephant  6654.000   5712.0          NaN       NaN   \n",
       "1   Africangiantpouchedrat     1.000      6.6          6.3       2.0   \n",
       "2                ArcticFox     3.385     44.5          NaN       NaN   \n",
       "3     Arcticgroundsquirrel     0.920      5.7          NaN       NaN   \n",
       "4            Asianelephant  2547.000   4603.0          2.1       1.8   \n",
       "..                     ...       ...      ...          ...       ...   \n",
       "57               Treehyrax     2.000     12.3          4.9       0.5   \n",
       "58               Treeshrew     0.104      2.5         13.2       2.6   \n",
       "59                  Vervet     4.190     58.0          9.7       0.6   \n",
       "60            Wateropossum     3.500      3.9         12.8       6.6   \n",
       "61    Yellow-belliedmarmot     4.050     17.0          NaN       NaN   \n",
       "\n",
       "    totalsleep  lifespan  gestation  predation  exposure  danger  \\\n",
       "0          3.3      38.6      645.0          3         5       3   \n",
       "1          8.3       4.5       42.0          3         1       3   \n",
       "2         12.5      14.0       60.0          1         1       1   \n",
       "3         16.5       NaN       25.0          5         2       3   \n",
       "4          3.9      69.0      624.0          3         5       4   \n",
       "..         ...       ...        ...        ...       ...     ...   \n",
       "57         5.4       7.5      200.0          3         1       3   \n",
       "58        15.8       2.3       46.0          3         2       2   \n",
       "59        10.3      24.0      210.0          4         3       4   \n",
       "60        19.4       3.0       14.0          2         1       1   \n",
       "61         NaN      13.0       38.0          3         1       1   \n",
       "\n",
       "    bodywt_pounds  brainwt_kg  ratio_brain_body  total_wt  \n",
       "0         14672.0      57.120          0.008584  6711.120  \n",
       "1             2.0       0.066          0.066000     1.066  \n",
       "2             7.0       0.445          0.131462     3.830  \n",
       "3             2.0       0.057          0.061957     0.977  \n",
       "4          5616.0      46.030          0.018072  2593.030  \n",
       "..            ...         ...               ...       ...  \n",
       "57            4.0       0.123          0.061500     2.123  \n",
       "58            0.0       0.025          0.240385     0.129  \n",
       "59            9.0       0.580          0.138425     4.770  \n",
       "60            8.0       0.039          0.011143     3.539  \n",
       "61            9.0       0.170          0.041975     4.220  \n",
       "\n",
       "[62 rows x 15 columns]"
      ]
     },
     "execution_count": 31,
     "metadata": {},
     "output_type": "execute_result"
    }
   ],
   "source": [
    "animals"
   ]
  },
  {
   "cell_type": "code",
   "execution_count": 32,
   "metadata": {
    "ExecuteTime": {
     "end_time": "2021-04-02T12:55:43.020765Z",
     "start_time": "2021-04-02T12:55:43.007801Z"
    }
   },
   "outputs": [],
   "source": [
    "animals['totalwt'] = animals['bodywt'] + animals['brainwt_kg']"
   ]
  },
  {
   "cell_type": "code",
   "execution_count": 33,
   "metadata": {
    "ExecuteTime": {
     "end_time": "2021-04-02T12:55:43.051682Z",
     "start_time": "2021-04-02T12:55:43.022760Z"
    }
   },
   "outputs": [
    {
     "data": {
      "text/html": [
       "<div>\n",
       "<style scoped>\n",
       "    .dataframe tbody tr th:only-of-type {\n",
       "        vertical-align: middle;\n",
       "    }\n",
       "\n",
       "    .dataframe tbody tr th {\n",
       "        vertical-align: top;\n",
       "    }\n",
       "\n",
       "    .dataframe thead th {\n",
       "        text-align: right;\n",
       "    }\n",
       "</style>\n",
       "<table border=\"1\" class=\"dataframe\">\n",
       "  <thead>\n",
       "    <tr style=\"text-align: right;\">\n",
       "      <th></th>\n",
       "      <th>species</th>\n",
       "      <th>bodywt</th>\n",
       "      <th>brainwt</th>\n",
       "      <th>nondreaming</th>\n",
       "      <th>dreaming</th>\n",
       "      <th>totalsleep</th>\n",
       "      <th>lifespan</th>\n",
       "      <th>gestation</th>\n",
       "      <th>predation</th>\n",
       "      <th>exposure</th>\n",
       "      <th>danger</th>\n",
       "      <th>bodywt_pounds</th>\n",
       "      <th>brainwt_kg</th>\n",
       "      <th>ratio_brain_body</th>\n",
       "      <th>total_wt</th>\n",
       "      <th>totalwt</th>\n",
       "    </tr>\n",
       "  </thead>\n",
       "  <tbody>\n",
       "    <tr>\n",
       "      <th>0</th>\n",
       "      <td>Africanelephant</td>\n",
       "      <td>6654.000</td>\n",
       "      <td>5712.0</td>\n",
       "      <td>NaN</td>\n",
       "      <td>NaN</td>\n",
       "      <td>3.3</td>\n",
       "      <td>38.6</td>\n",
       "      <td>645.0</td>\n",
       "      <td>3</td>\n",
       "      <td>5</td>\n",
       "      <td>3</td>\n",
       "      <td>14672.0</td>\n",
       "      <td>57.120</td>\n",
       "      <td>0.008584</td>\n",
       "      <td>6711.120</td>\n",
       "      <td>6711.120</td>\n",
       "    </tr>\n",
       "    <tr>\n",
       "      <th>1</th>\n",
       "      <td>Africangiantpouchedrat</td>\n",
       "      <td>1.000</td>\n",
       "      <td>6.6</td>\n",
       "      <td>6.3</td>\n",
       "      <td>2.0</td>\n",
       "      <td>8.3</td>\n",
       "      <td>4.5</td>\n",
       "      <td>42.0</td>\n",
       "      <td>3</td>\n",
       "      <td>1</td>\n",
       "      <td>3</td>\n",
       "      <td>2.0</td>\n",
       "      <td>0.066</td>\n",
       "      <td>0.066000</td>\n",
       "      <td>1.066</td>\n",
       "      <td>1.066</td>\n",
       "    </tr>\n",
       "    <tr>\n",
       "      <th>2</th>\n",
       "      <td>ArcticFox</td>\n",
       "      <td>3.385</td>\n",
       "      <td>44.5</td>\n",
       "      <td>NaN</td>\n",
       "      <td>NaN</td>\n",
       "      <td>12.5</td>\n",
       "      <td>14.0</td>\n",
       "      <td>60.0</td>\n",
       "      <td>1</td>\n",
       "      <td>1</td>\n",
       "      <td>1</td>\n",
       "      <td>7.0</td>\n",
       "      <td>0.445</td>\n",
       "      <td>0.131462</td>\n",
       "      <td>3.830</td>\n",
       "      <td>3.830</td>\n",
       "    </tr>\n",
       "    <tr>\n",
       "      <th>3</th>\n",
       "      <td>Arcticgroundsquirrel</td>\n",
       "      <td>0.920</td>\n",
       "      <td>5.7</td>\n",
       "      <td>NaN</td>\n",
       "      <td>NaN</td>\n",
       "      <td>16.5</td>\n",
       "      <td>NaN</td>\n",
       "      <td>25.0</td>\n",
       "      <td>5</td>\n",
       "      <td>2</td>\n",
       "      <td>3</td>\n",
       "      <td>2.0</td>\n",
       "      <td>0.057</td>\n",
       "      <td>0.061957</td>\n",
       "      <td>0.977</td>\n",
       "      <td>0.977</td>\n",
       "    </tr>\n",
       "    <tr>\n",
       "      <th>4</th>\n",
       "      <td>Asianelephant</td>\n",
       "      <td>2547.000</td>\n",
       "      <td>4603.0</td>\n",
       "      <td>2.1</td>\n",
       "      <td>1.8</td>\n",
       "      <td>3.9</td>\n",
       "      <td>69.0</td>\n",
       "      <td>624.0</td>\n",
       "      <td>3</td>\n",
       "      <td>5</td>\n",
       "      <td>4</td>\n",
       "      <td>5616.0</td>\n",
       "      <td>46.030</td>\n",
       "      <td>0.018072</td>\n",
       "      <td>2593.030</td>\n",
       "      <td>2593.030</td>\n",
       "    </tr>\n",
       "    <tr>\n",
       "      <th>...</th>\n",
       "      <td>...</td>\n",
       "      <td>...</td>\n",
       "      <td>...</td>\n",
       "      <td>...</td>\n",
       "      <td>...</td>\n",
       "      <td>...</td>\n",
       "      <td>...</td>\n",
       "      <td>...</td>\n",
       "      <td>...</td>\n",
       "      <td>...</td>\n",
       "      <td>...</td>\n",
       "      <td>...</td>\n",
       "      <td>...</td>\n",
       "      <td>...</td>\n",
       "      <td>...</td>\n",
       "      <td>...</td>\n",
       "    </tr>\n",
       "    <tr>\n",
       "      <th>57</th>\n",
       "      <td>Treehyrax</td>\n",
       "      <td>2.000</td>\n",
       "      <td>12.3</td>\n",
       "      <td>4.9</td>\n",
       "      <td>0.5</td>\n",
       "      <td>5.4</td>\n",
       "      <td>7.5</td>\n",
       "      <td>200.0</td>\n",
       "      <td>3</td>\n",
       "      <td>1</td>\n",
       "      <td>3</td>\n",
       "      <td>4.0</td>\n",
       "      <td>0.123</td>\n",
       "      <td>0.061500</td>\n",
       "      <td>2.123</td>\n",
       "      <td>2.123</td>\n",
       "    </tr>\n",
       "    <tr>\n",
       "      <th>58</th>\n",
       "      <td>Treeshrew</td>\n",
       "      <td>0.104</td>\n",
       "      <td>2.5</td>\n",
       "      <td>13.2</td>\n",
       "      <td>2.6</td>\n",
       "      <td>15.8</td>\n",
       "      <td>2.3</td>\n",
       "      <td>46.0</td>\n",
       "      <td>3</td>\n",
       "      <td>2</td>\n",
       "      <td>2</td>\n",
       "      <td>0.0</td>\n",
       "      <td>0.025</td>\n",
       "      <td>0.240385</td>\n",
       "      <td>0.129</td>\n",
       "      <td>0.129</td>\n",
       "    </tr>\n",
       "    <tr>\n",
       "      <th>59</th>\n",
       "      <td>Vervet</td>\n",
       "      <td>4.190</td>\n",
       "      <td>58.0</td>\n",
       "      <td>9.7</td>\n",
       "      <td>0.6</td>\n",
       "      <td>10.3</td>\n",
       "      <td>24.0</td>\n",
       "      <td>210.0</td>\n",
       "      <td>4</td>\n",
       "      <td>3</td>\n",
       "      <td>4</td>\n",
       "      <td>9.0</td>\n",
       "      <td>0.580</td>\n",
       "      <td>0.138425</td>\n",
       "      <td>4.770</td>\n",
       "      <td>4.770</td>\n",
       "    </tr>\n",
       "    <tr>\n",
       "      <th>60</th>\n",
       "      <td>Wateropossum</td>\n",
       "      <td>3.500</td>\n",
       "      <td>3.9</td>\n",
       "      <td>12.8</td>\n",
       "      <td>6.6</td>\n",
       "      <td>19.4</td>\n",
       "      <td>3.0</td>\n",
       "      <td>14.0</td>\n",
       "      <td>2</td>\n",
       "      <td>1</td>\n",
       "      <td>1</td>\n",
       "      <td>8.0</td>\n",
       "      <td>0.039</td>\n",
       "      <td>0.011143</td>\n",
       "      <td>3.539</td>\n",
       "      <td>3.539</td>\n",
       "    </tr>\n",
       "    <tr>\n",
       "      <th>61</th>\n",
       "      <td>Yellow-belliedmarmot</td>\n",
       "      <td>4.050</td>\n",
       "      <td>17.0</td>\n",
       "      <td>NaN</td>\n",
       "      <td>NaN</td>\n",
       "      <td>NaN</td>\n",
       "      <td>13.0</td>\n",
       "      <td>38.0</td>\n",
       "      <td>3</td>\n",
       "      <td>1</td>\n",
       "      <td>1</td>\n",
       "      <td>9.0</td>\n",
       "      <td>0.170</td>\n",
       "      <td>0.041975</td>\n",
       "      <td>4.220</td>\n",
       "      <td>4.220</td>\n",
       "    </tr>\n",
       "  </tbody>\n",
       "</table>\n",
       "<p>62 rows × 16 columns</p>\n",
       "</div>"
      ],
      "text/plain": [
       "                   species    bodywt  brainwt  nondreaming  dreaming  \\\n",
       "0          Africanelephant  6654.000   5712.0          NaN       NaN   \n",
       "1   Africangiantpouchedrat     1.000      6.6          6.3       2.0   \n",
       "2                ArcticFox     3.385     44.5          NaN       NaN   \n",
       "3     Arcticgroundsquirrel     0.920      5.7          NaN       NaN   \n",
       "4            Asianelephant  2547.000   4603.0          2.1       1.8   \n",
       "..                     ...       ...      ...          ...       ...   \n",
       "57               Treehyrax     2.000     12.3          4.9       0.5   \n",
       "58               Treeshrew     0.104      2.5         13.2       2.6   \n",
       "59                  Vervet     4.190     58.0          9.7       0.6   \n",
       "60            Wateropossum     3.500      3.9         12.8       6.6   \n",
       "61    Yellow-belliedmarmot     4.050     17.0          NaN       NaN   \n",
       "\n",
       "    totalsleep  lifespan  gestation  predation  exposure  danger  \\\n",
       "0          3.3      38.6      645.0          3         5       3   \n",
       "1          8.3       4.5       42.0          3         1       3   \n",
       "2         12.5      14.0       60.0          1         1       1   \n",
       "3         16.5       NaN       25.0          5         2       3   \n",
       "4          3.9      69.0      624.0          3         5       4   \n",
       "..         ...       ...        ...        ...       ...     ...   \n",
       "57         5.4       7.5      200.0          3         1       3   \n",
       "58        15.8       2.3       46.0          3         2       2   \n",
       "59        10.3      24.0      210.0          4         3       4   \n",
       "60        19.4       3.0       14.0          2         1       1   \n",
       "61         NaN      13.0       38.0          3         1       1   \n",
       "\n",
       "    bodywt_pounds  brainwt_kg  ratio_brain_body  total_wt   totalwt  \n",
       "0         14672.0      57.120          0.008584  6711.120  6711.120  \n",
       "1             2.0       0.066          0.066000     1.066     1.066  \n",
       "2             7.0       0.445          0.131462     3.830     3.830  \n",
       "3             2.0       0.057          0.061957     0.977     0.977  \n",
       "4          5616.0      46.030          0.018072  2593.030  2593.030  \n",
       "..            ...         ...               ...       ...       ...  \n",
       "57            4.0       0.123          0.061500     2.123     2.123  \n",
       "58            0.0       0.025          0.240385     0.129     0.129  \n",
       "59            9.0       0.580          0.138425     4.770     4.770  \n",
       "60            8.0       0.039          0.011143     3.539     3.539  \n",
       "61            9.0       0.170          0.041975     4.220     4.220  \n",
       "\n",
       "[62 rows x 16 columns]"
      ]
     },
     "execution_count": 33,
     "metadata": {},
     "output_type": "execute_result"
    }
   ],
   "source": [
    "animals"
   ]
  },
  {
   "cell_type": "markdown",
   "metadata": {},
   "source": [
    "# Conditional Calculations"
   ]
  },
  {
   "cell_type": "markdown",
   "metadata": {},
   "source": [
    "## Assign values based on conditions"
   ]
  },
  {
   "cell_type": "code",
   "execution_count": 34,
   "metadata": {
    "ExecuteTime": {
     "end_time": "2021-04-02T12:55:43.067641Z",
     "start_time": "2021-04-02T12:55:43.052680Z"
    }
   },
   "outputs": [
    {
     "data": {
      "text/plain": [
       "0     False\n",
       "1     False\n",
       "2     False\n",
       "3     False\n",
       "4      True\n",
       "      ...  \n",
       "57    False\n",
       "58    False\n",
       "59     True\n",
       "60    False\n",
       "61    False\n",
       "Name: danger, Length: 62, dtype: bool"
      ]
     },
     "execution_count": 34,
     "metadata": {},
     "output_type": "execute_result"
    }
   ],
   "source": [
    "animals['danger'] >= 4"
   ]
  },
  {
   "cell_type": "code",
   "execution_count": 35,
   "metadata": {
    "ExecuteTime": {
     "end_time": "2021-04-02T12:55:43.082600Z",
     "start_time": "2021-04-02T12:55:43.068638Z"
    }
   },
   "outputs": [],
   "source": [
    "animals.loc[animals['danger'] >= 4, 'flag_extincao'] = 1"
   ]
  },
  {
   "cell_type": "code",
   "execution_count": 36,
   "metadata": {
    "ExecuteTime": {
     "end_time": "2021-04-02T12:55:43.114515Z",
     "start_time": "2021-04-02T12:55:43.083597Z"
    },
    "scrolled": false
   },
   "outputs": [
    {
     "data": {
      "text/html": [
       "<div>\n",
       "<style scoped>\n",
       "    .dataframe tbody tr th:only-of-type {\n",
       "        vertical-align: middle;\n",
       "    }\n",
       "\n",
       "    .dataframe tbody tr th {\n",
       "        vertical-align: top;\n",
       "    }\n",
       "\n",
       "    .dataframe thead th {\n",
       "        text-align: right;\n",
       "    }\n",
       "</style>\n",
       "<table border=\"1\" class=\"dataframe\">\n",
       "  <thead>\n",
       "    <tr style=\"text-align: right;\">\n",
       "      <th></th>\n",
       "      <th>species</th>\n",
       "      <th>bodywt</th>\n",
       "      <th>brainwt</th>\n",
       "      <th>nondreaming</th>\n",
       "      <th>dreaming</th>\n",
       "      <th>totalsleep</th>\n",
       "      <th>lifespan</th>\n",
       "      <th>gestation</th>\n",
       "      <th>predation</th>\n",
       "      <th>exposure</th>\n",
       "      <th>danger</th>\n",
       "      <th>bodywt_pounds</th>\n",
       "      <th>brainwt_kg</th>\n",
       "      <th>ratio_brain_body</th>\n",
       "      <th>total_wt</th>\n",
       "      <th>totalwt</th>\n",
       "      <th>flag_extincao</th>\n",
       "    </tr>\n",
       "  </thead>\n",
       "  <tbody>\n",
       "    <tr>\n",
       "      <th>0</th>\n",
       "      <td>Africanelephant</td>\n",
       "      <td>6654.000</td>\n",
       "      <td>5712.0</td>\n",
       "      <td>NaN</td>\n",
       "      <td>NaN</td>\n",
       "      <td>3.3</td>\n",
       "      <td>38.6</td>\n",
       "      <td>645.0</td>\n",
       "      <td>3</td>\n",
       "      <td>5</td>\n",
       "      <td>3</td>\n",
       "      <td>14672.0</td>\n",
       "      <td>57.120</td>\n",
       "      <td>0.008584</td>\n",
       "      <td>6711.120</td>\n",
       "      <td>6711.120</td>\n",
       "      <td>NaN</td>\n",
       "    </tr>\n",
       "    <tr>\n",
       "      <th>1</th>\n",
       "      <td>Africangiantpouchedrat</td>\n",
       "      <td>1.000</td>\n",
       "      <td>6.6</td>\n",
       "      <td>6.3</td>\n",
       "      <td>2.0</td>\n",
       "      <td>8.3</td>\n",
       "      <td>4.5</td>\n",
       "      <td>42.0</td>\n",
       "      <td>3</td>\n",
       "      <td>1</td>\n",
       "      <td>3</td>\n",
       "      <td>2.0</td>\n",
       "      <td>0.066</td>\n",
       "      <td>0.066000</td>\n",
       "      <td>1.066</td>\n",
       "      <td>1.066</td>\n",
       "      <td>NaN</td>\n",
       "    </tr>\n",
       "    <tr>\n",
       "      <th>2</th>\n",
       "      <td>ArcticFox</td>\n",
       "      <td>3.385</td>\n",
       "      <td>44.5</td>\n",
       "      <td>NaN</td>\n",
       "      <td>NaN</td>\n",
       "      <td>12.5</td>\n",
       "      <td>14.0</td>\n",
       "      <td>60.0</td>\n",
       "      <td>1</td>\n",
       "      <td>1</td>\n",
       "      <td>1</td>\n",
       "      <td>7.0</td>\n",
       "      <td>0.445</td>\n",
       "      <td>0.131462</td>\n",
       "      <td>3.830</td>\n",
       "      <td>3.830</td>\n",
       "      <td>NaN</td>\n",
       "    </tr>\n",
       "    <tr>\n",
       "      <th>3</th>\n",
       "      <td>Arcticgroundsquirrel</td>\n",
       "      <td>0.920</td>\n",
       "      <td>5.7</td>\n",
       "      <td>NaN</td>\n",
       "      <td>NaN</td>\n",
       "      <td>16.5</td>\n",
       "      <td>NaN</td>\n",
       "      <td>25.0</td>\n",
       "      <td>5</td>\n",
       "      <td>2</td>\n",
       "      <td>3</td>\n",
       "      <td>2.0</td>\n",
       "      <td>0.057</td>\n",
       "      <td>0.061957</td>\n",
       "      <td>0.977</td>\n",
       "      <td>0.977</td>\n",
       "      <td>NaN</td>\n",
       "    </tr>\n",
       "    <tr>\n",
       "      <th>4</th>\n",
       "      <td>Asianelephant</td>\n",
       "      <td>2547.000</td>\n",
       "      <td>4603.0</td>\n",
       "      <td>2.1</td>\n",
       "      <td>1.8</td>\n",
       "      <td>3.9</td>\n",
       "      <td>69.0</td>\n",
       "      <td>624.0</td>\n",
       "      <td>3</td>\n",
       "      <td>5</td>\n",
       "      <td>4</td>\n",
       "      <td>5616.0</td>\n",
       "      <td>46.030</td>\n",
       "      <td>0.018072</td>\n",
       "      <td>2593.030</td>\n",
       "      <td>2593.030</td>\n",
       "      <td>1.0</td>\n",
       "    </tr>\n",
       "    <tr>\n",
       "      <th>...</th>\n",
       "      <td>...</td>\n",
       "      <td>...</td>\n",
       "      <td>...</td>\n",
       "      <td>...</td>\n",
       "      <td>...</td>\n",
       "      <td>...</td>\n",
       "      <td>...</td>\n",
       "      <td>...</td>\n",
       "      <td>...</td>\n",
       "      <td>...</td>\n",
       "      <td>...</td>\n",
       "      <td>...</td>\n",
       "      <td>...</td>\n",
       "      <td>...</td>\n",
       "      <td>...</td>\n",
       "      <td>...</td>\n",
       "      <td>...</td>\n",
       "    </tr>\n",
       "    <tr>\n",
       "      <th>57</th>\n",
       "      <td>Treehyrax</td>\n",
       "      <td>2.000</td>\n",
       "      <td>12.3</td>\n",
       "      <td>4.9</td>\n",
       "      <td>0.5</td>\n",
       "      <td>5.4</td>\n",
       "      <td>7.5</td>\n",
       "      <td>200.0</td>\n",
       "      <td>3</td>\n",
       "      <td>1</td>\n",
       "      <td>3</td>\n",
       "      <td>4.0</td>\n",
       "      <td>0.123</td>\n",
       "      <td>0.061500</td>\n",
       "      <td>2.123</td>\n",
       "      <td>2.123</td>\n",
       "      <td>NaN</td>\n",
       "    </tr>\n",
       "    <tr>\n",
       "      <th>58</th>\n",
       "      <td>Treeshrew</td>\n",
       "      <td>0.104</td>\n",
       "      <td>2.5</td>\n",
       "      <td>13.2</td>\n",
       "      <td>2.6</td>\n",
       "      <td>15.8</td>\n",
       "      <td>2.3</td>\n",
       "      <td>46.0</td>\n",
       "      <td>3</td>\n",
       "      <td>2</td>\n",
       "      <td>2</td>\n",
       "      <td>0.0</td>\n",
       "      <td>0.025</td>\n",
       "      <td>0.240385</td>\n",
       "      <td>0.129</td>\n",
       "      <td>0.129</td>\n",
       "      <td>NaN</td>\n",
       "    </tr>\n",
       "    <tr>\n",
       "      <th>59</th>\n",
       "      <td>Vervet</td>\n",
       "      <td>4.190</td>\n",
       "      <td>58.0</td>\n",
       "      <td>9.7</td>\n",
       "      <td>0.6</td>\n",
       "      <td>10.3</td>\n",
       "      <td>24.0</td>\n",
       "      <td>210.0</td>\n",
       "      <td>4</td>\n",
       "      <td>3</td>\n",
       "      <td>4</td>\n",
       "      <td>9.0</td>\n",
       "      <td>0.580</td>\n",
       "      <td>0.138425</td>\n",
       "      <td>4.770</td>\n",
       "      <td>4.770</td>\n",
       "      <td>1.0</td>\n",
       "    </tr>\n",
       "    <tr>\n",
       "      <th>60</th>\n",
       "      <td>Wateropossum</td>\n",
       "      <td>3.500</td>\n",
       "      <td>3.9</td>\n",
       "      <td>12.8</td>\n",
       "      <td>6.6</td>\n",
       "      <td>19.4</td>\n",
       "      <td>3.0</td>\n",
       "      <td>14.0</td>\n",
       "      <td>2</td>\n",
       "      <td>1</td>\n",
       "      <td>1</td>\n",
       "      <td>8.0</td>\n",
       "      <td>0.039</td>\n",
       "      <td>0.011143</td>\n",
       "      <td>3.539</td>\n",
       "      <td>3.539</td>\n",
       "      <td>NaN</td>\n",
       "    </tr>\n",
       "    <tr>\n",
       "      <th>61</th>\n",
       "      <td>Yellow-belliedmarmot</td>\n",
       "      <td>4.050</td>\n",
       "      <td>17.0</td>\n",
       "      <td>NaN</td>\n",
       "      <td>NaN</td>\n",
       "      <td>NaN</td>\n",
       "      <td>13.0</td>\n",
       "      <td>38.0</td>\n",
       "      <td>3</td>\n",
       "      <td>1</td>\n",
       "      <td>1</td>\n",
       "      <td>9.0</td>\n",
       "      <td>0.170</td>\n",
       "      <td>0.041975</td>\n",
       "      <td>4.220</td>\n",
       "      <td>4.220</td>\n",
       "      <td>NaN</td>\n",
       "    </tr>\n",
       "  </tbody>\n",
       "</table>\n",
       "<p>62 rows × 17 columns</p>\n",
       "</div>"
      ],
      "text/plain": [
       "                   species    bodywt  brainwt  nondreaming  dreaming  \\\n",
       "0          Africanelephant  6654.000   5712.0          NaN       NaN   \n",
       "1   Africangiantpouchedrat     1.000      6.6          6.3       2.0   \n",
       "2                ArcticFox     3.385     44.5          NaN       NaN   \n",
       "3     Arcticgroundsquirrel     0.920      5.7          NaN       NaN   \n",
       "4            Asianelephant  2547.000   4603.0          2.1       1.8   \n",
       "..                     ...       ...      ...          ...       ...   \n",
       "57               Treehyrax     2.000     12.3          4.9       0.5   \n",
       "58               Treeshrew     0.104      2.5         13.2       2.6   \n",
       "59                  Vervet     4.190     58.0          9.7       0.6   \n",
       "60            Wateropossum     3.500      3.9         12.8       6.6   \n",
       "61    Yellow-belliedmarmot     4.050     17.0          NaN       NaN   \n",
       "\n",
       "    totalsleep  lifespan  gestation  predation  exposure  danger  \\\n",
       "0          3.3      38.6      645.0          3         5       3   \n",
       "1          8.3       4.5       42.0          3         1       3   \n",
       "2         12.5      14.0       60.0          1         1       1   \n",
       "3         16.5       NaN       25.0          5         2       3   \n",
       "4          3.9      69.0      624.0          3         5       4   \n",
       "..         ...       ...        ...        ...       ...     ...   \n",
       "57         5.4       7.5      200.0          3         1       3   \n",
       "58        15.8       2.3       46.0          3         2       2   \n",
       "59        10.3      24.0      210.0          4         3       4   \n",
       "60        19.4       3.0       14.0          2         1       1   \n",
       "61         NaN      13.0       38.0          3         1       1   \n",
       "\n",
       "    bodywt_pounds  brainwt_kg  ratio_brain_body  total_wt   totalwt  \\\n",
       "0         14672.0      57.120          0.008584  6711.120  6711.120   \n",
       "1             2.0       0.066          0.066000     1.066     1.066   \n",
       "2             7.0       0.445          0.131462     3.830     3.830   \n",
       "3             2.0       0.057          0.061957     0.977     0.977   \n",
       "4          5616.0      46.030          0.018072  2593.030  2593.030   \n",
       "..            ...         ...               ...       ...       ...   \n",
       "57            4.0       0.123          0.061500     2.123     2.123   \n",
       "58            0.0       0.025          0.240385     0.129     0.129   \n",
       "59            9.0       0.580          0.138425     4.770     4.770   \n",
       "60            8.0       0.039          0.011143     3.539     3.539   \n",
       "61            9.0       0.170          0.041975     4.220     4.220   \n",
       "\n",
       "    flag_extincao  \n",
       "0             NaN  \n",
       "1             NaN  \n",
       "2             NaN  \n",
       "3             NaN  \n",
       "4             1.0  \n",
       "..            ...  \n",
       "57            NaN  \n",
       "58            NaN  \n",
       "59            1.0  \n",
       "60            NaN  \n",
       "61            NaN  \n",
       "\n",
       "[62 rows x 17 columns]"
      ]
     },
     "execution_count": 36,
     "metadata": {},
     "output_type": "execute_result"
    }
   ],
   "source": [
    "animals"
   ]
  },
  {
   "cell_type": "code",
   "execution_count": 37,
   "metadata": {
    "ExecuteTime": {
     "end_time": "2021-04-02T12:55:43.129892Z",
     "start_time": "2021-04-02T12:55:43.116510Z"
    }
   },
   "outputs": [],
   "source": [
    "animals['flag_extincao'] = animals['flag_extincao'].fillna(0)"
   ]
  },
  {
   "cell_type": "code",
   "execution_count": 38,
   "metadata": {
    "ExecuteTime": {
     "end_time": "2021-04-02T12:55:43.145849Z",
     "start_time": "2021-04-02T12:55:43.130889Z"
    }
   },
   "outputs": [],
   "source": [
    "animals.loc[~(animals['danger'] >= 4), 'flag_extincao'] = 0\n",
    "#animals.loc[(animals['danger'] < 4), 'flag_extincao'] = 0"
   ]
  },
  {
   "cell_type": "code",
   "execution_count": 40,
   "metadata": {
    "ExecuteTime": {
     "end_time": "2021-04-02T12:55:43.193721Z",
     "start_time": "2021-04-02T12:55:43.162804Z"
    }
   },
   "outputs": [
    {
     "data": {
      "text/html": [
       "<div>\n",
       "<style scoped>\n",
       "    .dataframe tbody tr th:only-of-type {\n",
       "        vertical-align: middle;\n",
       "    }\n",
       "\n",
       "    .dataframe tbody tr th {\n",
       "        vertical-align: top;\n",
       "    }\n",
       "\n",
       "    .dataframe thead th {\n",
       "        text-align: right;\n",
       "    }\n",
       "</style>\n",
       "<table border=\"1\" class=\"dataframe\">\n",
       "  <thead>\n",
       "    <tr style=\"text-align: right;\">\n",
       "      <th></th>\n",
       "      <th>bodywt</th>\n",
       "      <th>brainwt</th>\n",
       "      <th>nondreaming</th>\n",
       "      <th>dreaming</th>\n",
       "      <th>totalsleep</th>\n",
       "      <th>lifespan</th>\n",
       "      <th>gestation</th>\n",
       "      <th>predation</th>\n",
       "      <th>exposure</th>\n",
       "      <th>danger</th>\n",
       "      <th>bodywt_pounds</th>\n",
       "      <th>brainwt_kg</th>\n",
       "      <th>ratio_brain_body</th>\n",
       "      <th>total_wt</th>\n",
       "      <th>totalwt</th>\n",
       "    </tr>\n",
       "    <tr>\n",
       "      <th>flag_extincao</th>\n",
       "      <th></th>\n",
       "      <th></th>\n",
       "      <th></th>\n",
       "      <th></th>\n",
       "      <th></th>\n",
       "      <th></th>\n",
       "      <th></th>\n",
       "      <th></th>\n",
       "      <th></th>\n",
       "      <th></th>\n",
       "      <th></th>\n",
       "      <th></th>\n",
       "      <th></th>\n",
       "      <th></th>\n",
       "      <th></th>\n",
       "    </tr>\n",
       "  </thead>\n",
       "  <tbody>\n",
       "    <tr>\n",
       "      <th>0.0</th>\n",
       "      <td>170.050674</td>\n",
       "      <td>211.964651</td>\n",
       "      <td>9.655882</td>\n",
       "      <td>2.447059</td>\n",
       "      <td>11.978571</td>\n",
       "      <td>17.415385</td>\n",
       "      <td>103.307692</td>\n",
       "      <td>2.139535</td>\n",
       "      <td>1.534884</td>\n",
       "      <td>1.790698</td>\n",
       "      <td>374.883721</td>\n",
       "      <td>2.119647</td>\n",
       "      <td>0.110273</td>\n",
       "      <td>172.170321</td>\n",
       "      <td>172.170321</td>\n",
       "    </tr>\n",
       "    <tr>\n",
       "      <th>1.0</th>\n",
       "      <td>263.831579</td>\n",
       "      <td>444.202105</td>\n",
       "      <td>6.285714</td>\n",
       "      <td>0.962500</td>\n",
       "      <td>6.737500</td>\n",
       "      <td>24.931579</td>\n",
       "      <td>222.500000</td>\n",
       "      <td>4.526316</td>\n",
       "      <td>4.421053</td>\n",
       "      <td>4.473684</td>\n",
       "      <td>581.684211</td>\n",
       "      <td>4.442021</td>\n",
       "      <td>0.064489</td>\n",
       "      <td>268.273600</td>\n",
       "      <td>268.273600</td>\n",
       "    </tr>\n",
       "  </tbody>\n",
       "</table>\n",
       "</div>"
      ],
      "text/plain": [
       "                   bodywt     brainwt  nondreaming  dreaming  totalsleep  \\\n",
       "flag_extincao                                                              \n",
       "0.0            170.050674  211.964651     9.655882  2.447059   11.978571   \n",
       "1.0            263.831579  444.202105     6.285714  0.962500    6.737500   \n",
       "\n",
       "                lifespan   gestation  predation  exposure    danger  \\\n",
       "flag_extincao                                                         \n",
       "0.0            17.415385  103.307692   2.139535  1.534884  1.790698   \n",
       "1.0            24.931579  222.500000   4.526316  4.421053  4.473684   \n",
       "\n",
       "               bodywt_pounds  brainwt_kg  ratio_brain_body    total_wt  \\\n",
       "flag_extincao                                                            \n",
       "0.0               374.883721    2.119647          0.110273  172.170321   \n",
       "1.0               581.684211    4.442021          0.064489  268.273600   \n",
       "\n",
       "                  totalwt  \n",
       "flag_extincao              \n",
       "0.0            172.170321  \n",
       "1.0            268.273600  "
      ]
     },
     "execution_count": 40,
     "metadata": {},
     "output_type": "execute_result"
    }
   ],
   "source": [
    "animals.groupby(by='flag_extincao').mean()"
   ]
  },
  {
   "cell_type": "code",
   "execution_count": 42,
   "metadata": {
    "ExecuteTime": {
     "end_time": "2021-04-02T12:55:43.225636Z",
     "start_time": "2021-04-02T12:55:43.210676Z"
    }
   },
   "outputs": [
    {
     "data": {
      "text/plain": [
       "198.78998387096775"
      ]
     },
     "execution_count": 42,
     "metadata": {},
     "output_type": "execute_result"
    }
   ],
   "source": [
    "avg_bodywt = animals['bodywt'].mean()\n",
    "avg_bodywt"
   ]
  },
  {
   "cell_type": "code",
   "execution_count": 43,
   "metadata": {
    "ExecuteTime": {
     "end_time": "2021-04-02T12:55:43.241594Z",
     "start_time": "2021-04-02T12:55:43.226633Z"
    }
   },
   "outputs": [],
   "source": [
    "animals.loc[(animals['bodywt'] > avg_bodywt), 'flag_overweight'] = True\n",
    "animals.loc[~(animals.bodywt > avg_bodywt), 'flag_overweight'] = False"
   ]
  },
  {
   "cell_type": "code",
   "execution_count": 44,
   "metadata": {
    "ExecuteTime": {
     "end_time": "2021-04-02T12:55:43.256559Z",
     "start_time": "2021-04-02T12:55:43.242591Z"
    },
    "scrolled": true
   },
   "outputs": [
    {
     "data": {
      "text/html": [
       "<div>\n",
       "<style scoped>\n",
       "    .dataframe tbody tr th:only-of-type {\n",
       "        vertical-align: middle;\n",
       "    }\n",
       "\n",
       "    .dataframe tbody tr th {\n",
       "        vertical-align: top;\n",
       "    }\n",
       "\n",
       "    .dataframe thead th {\n",
       "        text-align: right;\n",
       "    }\n",
       "</style>\n",
       "<table border=\"1\" class=\"dataframe\">\n",
       "  <thead>\n",
       "    <tr style=\"text-align: right;\">\n",
       "      <th></th>\n",
       "      <th>bodywt</th>\n",
       "      <th>brainwt</th>\n",
       "      <th>nondreaming</th>\n",
       "      <th>dreaming</th>\n",
       "      <th>totalsleep</th>\n",
       "      <th>lifespan</th>\n",
       "      <th>gestation</th>\n",
       "      <th>predation</th>\n",
       "      <th>exposure</th>\n",
       "      <th>danger</th>\n",
       "      <th>bodywt_pounds</th>\n",
       "      <th>brainwt_kg</th>\n",
       "      <th>ratio_brain_body</th>\n",
       "      <th>total_wt</th>\n",
       "      <th>totalwt</th>\n",
       "      <th>flag_extincao</th>\n",
       "    </tr>\n",
       "    <tr>\n",
       "      <th>flag_overweight</th>\n",
       "      <th></th>\n",
       "      <th></th>\n",
       "      <th></th>\n",
       "      <th></th>\n",
       "      <th></th>\n",
       "      <th></th>\n",
       "      <th></th>\n",
       "      <th></th>\n",
       "      <th></th>\n",
       "      <th></th>\n",
       "      <th></th>\n",
       "      <th></th>\n",
       "      <th></th>\n",
       "      <th></th>\n",
       "      <th></th>\n",
       "      <th></th>\n",
       "    </tr>\n",
       "  </thead>\n",
       "  <tbody>\n",
       "    <tr>\n",
       "      <th>False</th>\n",
       "      <td>20.945073</td>\n",
       "      <td>83.369455</td>\n",
       "      <td>9.086667</td>\n",
       "      <td>2.088889</td>\n",
       "      <td>11.035849</td>\n",
       "      <td>17.223529</td>\n",
       "      <td>103.500000</td>\n",
       "      <td>2.745455</td>\n",
       "      <td>2.109091</td>\n",
       "      <td>2.436364</td>\n",
       "      <td>46.127273</td>\n",
       "      <td>0.833695</td>\n",
       "      <td>0.106666</td>\n",
       "      <td>21.778767</td>\n",
       "      <td>21.778767</td>\n",
       "      <td>0.254545</td>\n",
       "    </tr>\n",
       "    <tr>\n",
       "      <th>True</th>\n",
       "      <td>1596.142857</td>\n",
       "      <td>1852.714286</td>\n",
       "      <td>2.466667</td>\n",
       "      <td>0.920000</td>\n",
       "      <td>5.200000</td>\n",
       "      <td>39.214286</td>\n",
       "      <td>425.428571</td>\n",
       "      <td>3.857143</td>\n",
       "      <td>4.857143</td>\n",
       "      <td>4.000000</td>\n",
       "      <td>3519.285714</td>\n",
       "      <td>18.527143</td>\n",
       "      <td>0.014342</td>\n",
       "      <td>1614.670000</td>\n",
       "      <td>1614.670000</td>\n",
       "      <td>0.714286</td>\n",
       "    </tr>\n",
       "  </tbody>\n",
       "</table>\n",
       "</div>"
      ],
      "text/plain": [
       "                      bodywt      brainwt  nondreaming  dreaming  totalsleep  \\\n",
       "flag_overweight                                                                \n",
       "False              20.945073    83.369455     9.086667  2.088889   11.035849   \n",
       "True             1596.142857  1852.714286     2.466667  0.920000    5.200000   \n",
       "\n",
       "                  lifespan   gestation  predation  exposure    danger  \\\n",
       "flag_overweight                                                         \n",
       "False            17.223529  103.500000   2.745455  2.109091  2.436364   \n",
       "True             39.214286  425.428571   3.857143  4.857143  4.000000   \n",
       "\n",
       "                 bodywt_pounds  brainwt_kg  ratio_brain_body     total_wt  \\\n",
       "flag_overweight                                                             \n",
       "False                46.127273    0.833695          0.106666    21.778767   \n",
       "True               3519.285714   18.527143          0.014342  1614.670000   \n",
       "\n",
       "                     totalwt  flag_extincao  \n",
       "flag_overweight                              \n",
       "False              21.778767       0.254545  \n",
       "True             1614.670000       0.714286  "
      ]
     },
     "execution_count": 44,
     "metadata": {},
     "output_type": "execute_result"
    }
   ],
   "source": [
    "animals.groupby(by='flag_overweight').mean()"
   ]
  },
  {
   "cell_type": "code",
   "execution_count": 45,
   "metadata": {
    "ExecuteTime": {
     "end_time": "2021-04-02T12:55:43.288469Z",
     "start_time": "2021-04-02T12:55:43.258549Z"
    }
   },
   "outputs": [
    {
     "data": {
      "text/html": [
       "<div>\n",
       "<style scoped>\n",
       "    .dataframe tbody tr th:only-of-type {\n",
       "        vertical-align: middle;\n",
       "    }\n",
       "\n",
       "    .dataframe tbody tr th {\n",
       "        vertical-align: top;\n",
       "    }\n",
       "\n",
       "    .dataframe thead th {\n",
       "        text-align: right;\n",
       "    }\n",
       "</style>\n",
       "<table border=\"1\" class=\"dataframe\">\n",
       "  <thead>\n",
       "    <tr style=\"text-align: right;\">\n",
       "      <th></th>\n",
       "      <th>species</th>\n",
       "      <th>bodywt</th>\n",
       "      <th>brainwt</th>\n",
       "      <th>nondreaming</th>\n",
       "      <th>dreaming</th>\n",
       "      <th>totalsleep</th>\n",
       "      <th>lifespan</th>\n",
       "      <th>gestation</th>\n",
       "      <th>predation</th>\n",
       "      <th>exposure</th>\n",
       "      <th>danger</th>\n",
       "      <th>bodywt_pounds</th>\n",
       "      <th>brainwt_kg</th>\n",
       "      <th>ratio_brain_body</th>\n",
       "      <th>total_wt</th>\n",
       "      <th>totalwt</th>\n",
       "      <th>flag_extincao</th>\n",
       "      <th>flag_overweight</th>\n",
       "    </tr>\n",
       "  </thead>\n",
       "  <tbody>\n",
       "    <tr>\n",
       "      <th>0</th>\n",
       "      <td>Africanelephant</td>\n",
       "      <td>6654.000</td>\n",
       "      <td>5712.0</td>\n",
       "      <td>NaN</td>\n",
       "      <td>NaN</td>\n",
       "      <td>3.3</td>\n",
       "      <td>38.6</td>\n",
       "      <td>645.0</td>\n",
       "      <td>3</td>\n",
       "      <td>5</td>\n",
       "      <td>3</td>\n",
       "      <td>14672.0</td>\n",
       "      <td>57.120</td>\n",
       "      <td>0.008584</td>\n",
       "      <td>6711.120</td>\n",
       "      <td>6711.120</td>\n",
       "      <td>0.0</td>\n",
       "      <td>True</td>\n",
       "    </tr>\n",
       "    <tr>\n",
       "      <th>1</th>\n",
       "      <td>Africangiantpouchedrat</td>\n",
       "      <td>1.000</td>\n",
       "      <td>6.6</td>\n",
       "      <td>6.3</td>\n",
       "      <td>2.0</td>\n",
       "      <td>8.3</td>\n",
       "      <td>4.5</td>\n",
       "      <td>42.0</td>\n",
       "      <td>3</td>\n",
       "      <td>1</td>\n",
       "      <td>3</td>\n",
       "      <td>2.0</td>\n",
       "      <td>0.066</td>\n",
       "      <td>0.066000</td>\n",
       "      <td>1.066</td>\n",
       "      <td>1.066</td>\n",
       "      <td>0.0</td>\n",
       "      <td>False</td>\n",
       "    </tr>\n",
       "    <tr>\n",
       "      <th>2</th>\n",
       "      <td>ArcticFox</td>\n",
       "      <td>3.385</td>\n",
       "      <td>44.5</td>\n",
       "      <td>NaN</td>\n",
       "      <td>NaN</td>\n",
       "      <td>12.5</td>\n",
       "      <td>14.0</td>\n",
       "      <td>60.0</td>\n",
       "      <td>1</td>\n",
       "      <td>1</td>\n",
       "      <td>1</td>\n",
       "      <td>7.0</td>\n",
       "      <td>0.445</td>\n",
       "      <td>0.131462</td>\n",
       "      <td>3.830</td>\n",
       "      <td>3.830</td>\n",
       "      <td>0.0</td>\n",
       "      <td>False</td>\n",
       "    </tr>\n",
       "    <tr>\n",
       "      <th>3</th>\n",
       "      <td>Arcticgroundsquirrel</td>\n",
       "      <td>0.920</td>\n",
       "      <td>5.7</td>\n",
       "      <td>NaN</td>\n",
       "      <td>NaN</td>\n",
       "      <td>16.5</td>\n",
       "      <td>NaN</td>\n",
       "      <td>25.0</td>\n",
       "      <td>5</td>\n",
       "      <td>2</td>\n",
       "      <td>3</td>\n",
       "      <td>2.0</td>\n",
       "      <td>0.057</td>\n",
       "      <td>0.061957</td>\n",
       "      <td>0.977</td>\n",
       "      <td>0.977</td>\n",
       "      <td>0.0</td>\n",
       "      <td>False</td>\n",
       "    </tr>\n",
       "    <tr>\n",
       "      <th>4</th>\n",
       "      <td>Asianelephant</td>\n",
       "      <td>2547.000</td>\n",
       "      <td>4603.0</td>\n",
       "      <td>2.1</td>\n",
       "      <td>1.8</td>\n",
       "      <td>3.9</td>\n",
       "      <td>69.0</td>\n",
       "      <td>624.0</td>\n",
       "      <td>3</td>\n",
       "      <td>5</td>\n",
       "      <td>4</td>\n",
       "      <td>5616.0</td>\n",
       "      <td>46.030</td>\n",
       "      <td>0.018072</td>\n",
       "      <td>2593.030</td>\n",
       "      <td>2593.030</td>\n",
       "      <td>1.0</td>\n",
       "      <td>True</td>\n",
       "    </tr>\n",
       "    <tr>\n",
       "      <th>...</th>\n",
       "      <td>...</td>\n",
       "      <td>...</td>\n",
       "      <td>...</td>\n",
       "      <td>...</td>\n",
       "      <td>...</td>\n",
       "      <td>...</td>\n",
       "      <td>...</td>\n",
       "      <td>...</td>\n",
       "      <td>...</td>\n",
       "      <td>...</td>\n",
       "      <td>...</td>\n",
       "      <td>...</td>\n",
       "      <td>...</td>\n",
       "      <td>...</td>\n",
       "      <td>...</td>\n",
       "      <td>...</td>\n",
       "      <td>...</td>\n",
       "      <td>...</td>\n",
       "    </tr>\n",
       "    <tr>\n",
       "      <th>57</th>\n",
       "      <td>Treehyrax</td>\n",
       "      <td>2.000</td>\n",
       "      <td>12.3</td>\n",
       "      <td>4.9</td>\n",
       "      <td>0.5</td>\n",
       "      <td>5.4</td>\n",
       "      <td>7.5</td>\n",
       "      <td>200.0</td>\n",
       "      <td>3</td>\n",
       "      <td>1</td>\n",
       "      <td>3</td>\n",
       "      <td>4.0</td>\n",
       "      <td>0.123</td>\n",
       "      <td>0.061500</td>\n",
       "      <td>2.123</td>\n",
       "      <td>2.123</td>\n",
       "      <td>0.0</td>\n",
       "      <td>False</td>\n",
       "    </tr>\n",
       "    <tr>\n",
       "      <th>58</th>\n",
       "      <td>Treeshrew</td>\n",
       "      <td>0.104</td>\n",
       "      <td>2.5</td>\n",
       "      <td>13.2</td>\n",
       "      <td>2.6</td>\n",
       "      <td>15.8</td>\n",
       "      <td>2.3</td>\n",
       "      <td>46.0</td>\n",
       "      <td>3</td>\n",
       "      <td>2</td>\n",
       "      <td>2</td>\n",
       "      <td>0.0</td>\n",
       "      <td>0.025</td>\n",
       "      <td>0.240385</td>\n",
       "      <td>0.129</td>\n",
       "      <td>0.129</td>\n",
       "      <td>0.0</td>\n",
       "      <td>False</td>\n",
       "    </tr>\n",
       "    <tr>\n",
       "      <th>59</th>\n",
       "      <td>Vervet</td>\n",
       "      <td>4.190</td>\n",
       "      <td>58.0</td>\n",
       "      <td>9.7</td>\n",
       "      <td>0.6</td>\n",
       "      <td>10.3</td>\n",
       "      <td>24.0</td>\n",
       "      <td>210.0</td>\n",
       "      <td>4</td>\n",
       "      <td>3</td>\n",
       "      <td>4</td>\n",
       "      <td>9.0</td>\n",
       "      <td>0.580</td>\n",
       "      <td>0.138425</td>\n",
       "      <td>4.770</td>\n",
       "      <td>4.770</td>\n",
       "      <td>1.0</td>\n",
       "      <td>False</td>\n",
       "    </tr>\n",
       "    <tr>\n",
       "      <th>60</th>\n",
       "      <td>Wateropossum</td>\n",
       "      <td>3.500</td>\n",
       "      <td>3.9</td>\n",
       "      <td>12.8</td>\n",
       "      <td>6.6</td>\n",
       "      <td>19.4</td>\n",
       "      <td>3.0</td>\n",
       "      <td>14.0</td>\n",
       "      <td>2</td>\n",
       "      <td>1</td>\n",
       "      <td>1</td>\n",
       "      <td>8.0</td>\n",
       "      <td>0.039</td>\n",
       "      <td>0.011143</td>\n",
       "      <td>3.539</td>\n",
       "      <td>3.539</td>\n",
       "      <td>0.0</td>\n",
       "      <td>False</td>\n",
       "    </tr>\n",
       "    <tr>\n",
       "      <th>61</th>\n",
       "      <td>Yellow-belliedmarmot</td>\n",
       "      <td>4.050</td>\n",
       "      <td>17.0</td>\n",
       "      <td>NaN</td>\n",
       "      <td>NaN</td>\n",
       "      <td>NaN</td>\n",
       "      <td>13.0</td>\n",
       "      <td>38.0</td>\n",
       "      <td>3</td>\n",
       "      <td>1</td>\n",
       "      <td>1</td>\n",
       "      <td>9.0</td>\n",
       "      <td>0.170</td>\n",
       "      <td>0.041975</td>\n",
       "      <td>4.220</td>\n",
       "      <td>4.220</td>\n",
       "      <td>0.0</td>\n",
       "      <td>False</td>\n",
       "    </tr>\n",
       "  </tbody>\n",
       "</table>\n",
       "<p>62 rows × 18 columns</p>\n",
       "</div>"
      ],
      "text/plain": [
       "                   species    bodywt  brainwt  nondreaming  dreaming  \\\n",
       "0          Africanelephant  6654.000   5712.0          NaN       NaN   \n",
       "1   Africangiantpouchedrat     1.000      6.6          6.3       2.0   \n",
       "2                ArcticFox     3.385     44.5          NaN       NaN   \n",
       "3     Arcticgroundsquirrel     0.920      5.7          NaN       NaN   \n",
       "4            Asianelephant  2547.000   4603.0          2.1       1.8   \n",
       "..                     ...       ...      ...          ...       ...   \n",
       "57               Treehyrax     2.000     12.3          4.9       0.5   \n",
       "58               Treeshrew     0.104      2.5         13.2       2.6   \n",
       "59                  Vervet     4.190     58.0          9.7       0.6   \n",
       "60            Wateropossum     3.500      3.9         12.8       6.6   \n",
       "61    Yellow-belliedmarmot     4.050     17.0          NaN       NaN   \n",
       "\n",
       "    totalsleep  lifespan  gestation  predation  exposure  danger  \\\n",
       "0          3.3      38.6      645.0          3         5       3   \n",
       "1          8.3       4.5       42.0          3         1       3   \n",
       "2         12.5      14.0       60.0          1         1       1   \n",
       "3         16.5       NaN       25.0          5         2       3   \n",
       "4          3.9      69.0      624.0          3         5       4   \n",
       "..         ...       ...        ...        ...       ...     ...   \n",
       "57         5.4       7.5      200.0          3         1       3   \n",
       "58        15.8       2.3       46.0          3         2       2   \n",
       "59        10.3      24.0      210.0          4         3       4   \n",
       "60        19.4       3.0       14.0          2         1       1   \n",
       "61         NaN      13.0       38.0          3         1       1   \n",
       "\n",
       "    bodywt_pounds  brainwt_kg  ratio_brain_body  total_wt   totalwt  \\\n",
       "0         14672.0      57.120          0.008584  6711.120  6711.120   \n",
       "1             2.0       0.066          0.066000     1.066     1.066   \n",
       "2             7.0       0.445          0.131462     3.830     3.830   \n",
       "3             2.0       0.057          0.061957     0.977     0.977   \n",
       "4          5616.0      46.030          0.018072  2593.030  2593.030   \n",
       "..            ...         ...               ...       ...       ...   \n",
       "57            4.0       0.123          0.061500     2.123     2.123   \n",
       "58            0.0       0.025          0.240385     0.129     0.129   \n",
       "59            9.0       0.580          0.138425     4.770     4.770   \n",
       "60            8.0       0.039          0.011143     3.539     3.539   \n",
       "61            9.0       0.170          0.041975     4.220     4.220   \n",
       "\n",
       "    flag_extincao flag_overweight  \n",
       "0             0.0            True  \n",
       "1             0.0           False  \n",
       "2             0.0           False  \n",
       "3             0.0           False  \n",
       "4             1.0            True  \n",
       "..            ...             ...  \n",
       "57            0.0           False  \n",
       "58            0.0           False  \n",
       "59            1.0           False  \n",
       "60            0.0           False  \n",
       "61            0.0           False  \n",
       "\n",
       "[62 rows x 18 columns]"
      ]
     },
     "execution_count": 45,
     "metadata": {},
     "output_type": "execute_result"
    }
   ],
   "source": [
    "animals"
   ]
  },
  {
   "cell_type": "markdown",
   "metadata": {},
   "source": [
    "# Quantiles\n",
    "*Touching statistics*"
   ]
  },
  {
   "cell_type": "markdown",
   "metadata": {},
   "source": [
    "![Data](images/data_quantiles.png)"
   ]
  },
  {
   "cell_type": "markdown",
   "metadata": {},
   "source": [
    "![Percentiles](images/data_quantiles_q10.png)"
   ]
  },
  {
   "cell_type": "markdown",
   "metadata": {},
   "source": [
    "![Quartiles](images/quartiles.jpg)"
   ]
  },
  {
   "cell_type": "markdown",
   "metadata": {},
   "source": [
    "> Percentiles: \n",
    "    - q50 means that 50% of your dataset is below that number. That is the median value.\n",
    "    - q90 means that 90% of your dataset is below that number.\n",
    "    - q10 means that 10% of your dataset is below that number."
   ]
  },
  {
   "cell_type": "markdown",
   "metadata": {},
   "source": [
    "> Calculating the q50 "
   ]
  },
  {
   "cell_type": "code",
   "execution_count": 2,
   "metadata": {
    "ExecuteTime": {
     "end_time": "2022-01-21T12:24:44.580336Z",
     "start_time": "2022-01-21T12:24:40.669831Z"
    }
   },
   "outputs": [],
   "source": [
    "import seaborn as sns\n",
    "import matplotlib.pyplot as plt\n"
   ]
  },
  {
   "cell_type": "code",
   "execution_count": 107,
   "metadata": {
    "ExecuteTime": {
     "end_time": "2021-04-02T13:25:40.696364Z",
     "start_time": "2021-04-02T13:25:40.685891Z"
    }
   },
   "outputs": [
    {
     "data": {
      "text/plain": [
       "30"
      ]
     },
     "execution_count": 107,
     "metadata": {},
     "output_type": "execute_result"
    }
   ],
   "source": [
    "animals.loc[animals['bodywt']<=3.3,'bodywt'].count()"
   ]
  },
  {
   "cell_type": "code",
   "execution_count": 108,
   "metadata": {
    "ExecuteTime": {
     "end_time": "2021-04-02T13:25:45.626619Z",
     "start_time": "2021-04-02T13:25:45.540300Z"
    },
    "scrolled": false
   },
   "outputs": [
    {
     "data": {
      "image/png": "[encoded data removed]",
      "text/plain": [
       "<Figure size 432x288 with 1 Axes>"
      ]
     },
     "metadata": {
      "needs_background": "light"
     },
     "output_type": "display_data"
    }
   ],
   "source": [
    "sns.swarmplot(x=animals.loc[animals['bodywt']<=3.3,'bodywt'])\n",
    "plt.xlim(0,3.5);"
   ]
  },
  {
   "cell_type": "code",
   "execution_count": 109,
   "metadata": {
    "ExecuteTime": {
     "end_time": "2021-04-02T13:28:55.309568Z",
     "start_time": "2021-04-02T13:28:55.294508Z"
    }
   },
   "outputs": [
    {
     "data": {
      "text/plain": [
       "0.515"
      ]
     },
     "execution_count": 109,
     "metadata": {},
     "output_type": "execute_result"
    }
   ],
   "source": [
    "(animals.loc[animals['bodywt']<=3.3,'bodywt']).median()"
   ]
  },
  {
   "cell_type": "code",
   "execution_count": 55,
   "metadata": {
    "ExecuteTime": {
     "end_time": "2021-04-02T12:55:44.289299Z",
     "start_time": "2021-04-02T12:55:44.276333Z"
    }
   },
   "outputs": [
    {
     "data": {
      "text/plain": [
       "(60, 18)"
      ]
     },
     "execution_count": 55,
     "metadata": {},
     "output_type": "execute_result"
    }
   ],
   "source": [
    "animals = animals.drop([3,4])\n",
    "animals.shape"
   ]
  },
  {
   "cell_type": "code",
   "execution_count": 56,
   "metadata": {
    "ExecuteTime": {
     "end_time": "2021-04-02T12:55:44.305257Z",
     "start_time": "2021-04-02T12:55:44.291295Z"
    }
   },
   "outputs": [
    {
     "data": {
      "text/plain": [
       "0.0735"
      ]
     },
     "execution_count": 56,
     "metadata": {},
     "output_type": "execute_result"
    }
   ],
   "source": [
    "animals['bodywt'].quantile(q=0.1)"
   ]
  },
  {
   "cell_type": "code",
   "execution_count": 57,
   "metadata": {
    "ExecuteTime": {
     "end_time": "2021-04-02T12:55:44.320218Z",
     "start_time": "2021-04-02T12:55:44.306254Z"
    }
   },
   "outputs": [],
   "source": [
    "mask = animals['bodywt'] < animals['bodywt'].quantile(q=0.1)"
   ]
  },
  {
   "cell_type": "code",
   "execution_count": 58,
   "metadata": {
    "ExecuteTime": {
     "end_time": "2021-04-02T12:55:44.350136Z",
     "start_time": "2021-04-02T12:55:44.321214Z"
    }
   },
   "outputs": [
    {
     "data": {
      "text/html": [
       "<div>\n",
       "<style scoped>\n",
       "    .dataframe tbody tr th:only-of-type {\n",
       "        vertical-align: middle;\n",
       "    }\n",
       "\n",
       "    .dataframe tbody tr th {\n",
       "        vertical-align: top;\n",
       "    }\n",
       "\n",
       "    .dataframe thead th {\n",
       "        text-align: right;\n",
       "    }\n",
       "</style>\n",
       "<table border=\"1\" class=\"dataframe\">\n",
       "  <thead>\n",
       "    <tr style=\"text-align: right;\">\n",
       "      <th></th>\n",
       "      <th>species</th>\n",
       "      <th>bodywt</th>\n",
       "      <th>brainwt</th>\n",
       "      <th>nondreaming</th>\n",
       "      <th>dreaming</th>\n",
       "      <th>totalsleep</th>\n",
       "      <th>lifespan</th>\n",
       "      <th>gestation</th>\n",
       "      <th>predation</th>\n",
       "      <th>exposure</th>\n",
       "      <th>danger</th>\n",
       "      <th>bodywt_pounds</th>\n",
       "      <th>brainwt_kg</th>\n",
       "      <th>ratio_brain_body</th>\n",
       "      <th>total_wt</th>\n",
       "      <th>totalwt</th>\n",
       "      <th>flag_extincao</th>\n",
       "      <th>flag_overweight</th>\n",
       "    </tr>\n",
       "  </thead>\n",
       "  <tbody>\n",
       "    <tr>\n",
       "      <th>6</th>\n",
       "      <td>Bigbrownbat</td>\n",
       "      <td>0.023</td>\n",
       "      <td>0.30</td>\n",
       "      <td>15.8</td>\n",
       "      <td>3.9</td>\n",
       "      <td>19.7</td>\n",
       "      <td>19.0</td>\n",
       "      <td>35.0</td>\n",
       "      <td>1</td>\n",
       "      <td>1</td>\n",
       "      <td>1</td>\n",
       "      <td>0.0</td>\n",
       "      <td>0.0030</td>\n",
       "      <td>0.130435</td>\n",
       "      <td>0.0260</td>\n",
       "      <td>0.0260</td>\n",
       "      <td>0.0</td>\n",
       "      <td>False</td>\n",
       "    </tr>\n",
       "    <tr>\n",
       "      <th>31</th>\n",
       "      <td>Lessershort-tailedshrew</td>\n",
       "      <td>0.005</td>\n",
       "      <td>0.14</td>\n",
       "      <td>7.7</td>\n",
       "      <td>1.4</td>\n",
       "      <td>9.1</td>\n",
       "      <td>2.6</td>\n",
       "      <td>21.5</td>\n",
       "      <td>5</td>\n",
       "      <td>2</td>\n",
       "      <td>4</td>\n",
       "      <td>0.0</td>\n",
       "      <td>0.0014</td>\n",
       "      <td>0.280000</td>\n",
       "      <td>0.0064</td>\n",
       "      <td>0.0064</td>\n",
       "      <td>1.0</td>\n",
       "      <td>False</td>\n",
       "    </tr>\n",
       "    <tr>\n",
       "      <th>32</th>\n",
       "      <td>Littlebrownbat</td>\n",
       "      <td>0.010</td>\n",
       "      <td>0.25</td>\n",
       "      <td>17.9</td>\n",
       "      <td>2.0</td>\n",
       "      <td>19.9</td>\n",
       "      <td>24.0</td>\n",
       "      <td>50.0</td>\n",
       "      <td>1</td>\n",
       "      <td>1</td>\n",
       "      <td>1</td>\n",
       "      <td>0.0</td>\n",
       "      <td>0.0025</td>\n",
       "      <td>0.250000</td>\n",
       "      <td>0.0125</td>\n",
       "      <td>0.0125</td>\n",
       "      <td>0.0</td>\n",
       "      <td>False</td>\n",
       "    </tr>\n",
       "    <tr>\n",
       "      <th>36</th>\n",
       "      <td>Mouse</td>\n",
       "      <td>0.023</td>\n",
       "      <td>0.40</td>\n",
       "      <td>11.9</td>\n",
       "      <td>1.3</td>\n",
       "      <td>13.2</td>\n",
       "      <td>3.2</td>\n",
       "      <td>19.0</td>\n",
       "      <td>4</td>\n",
       "      <td>1</td>\n",
       "      <td>3</td>\n",
       "      <td>0.0</td>\n",
       "      <td>0.0040</td>\n",
       "      <td>0.173913</td>\n",
       "      <td>0.0270</td>\n",
       "      <td>0.0270</td>\n",
       "      <td>0.0</td>\n",
       "      <td>False</td>\n",
       "    </tr>\n",
       "    <tr>\n",
       "      <th>37</th>\n",
       "      <td>Muskshrew</td>\n",
       "      <td>0.048</td>\n",
       "      <td>0.33</td>\n",
       "      <td>10.8</td>\n",
       "      <td>2.0</td>\n",
       "      <td>12.8</td>\n",
       "      <td>2.0</td>\n",
       "      <td>30.0</td>\n",
       "      <td>4</td>\n",
       "      <td>1</td>\n",
       "      <td>3</td>\n",
       "      <td>0.0</td>\n",
       "      <td>0.0033</td>\n",
       "      <td>0.068750</td>\n",
       "      <td>0.0513</td>\n",
       "      <td>0.0513</td>\n",
       "      <td>0.0</td>\n",
       "      <td>False</td>\n",
       "    </tr>\n",
       "    <tr>\n",
       "      <th>55</th>\n",
       "      <td>Starnosedmole</td>\n",
       "      <td>0.060</td>\n",
       "      <td>1.00</td>\n",
       "      <td>8.1</td>\n",
       "      <td>2.2</td>\n",
       "      <td>10.3</td>\n",
       "      <td>3.5</td>\n",
       "      <td>NaN</td>\n",
       "      <td>3</td>\n",
       "      <td>1</td>\n",
       "      <td>2</td>\n",
       "      <td>0.0</td>\n",
       "      <td>0.0100</td>\n",
       "      <td>0.166667</td>\n",
       "      <td>0.0700</td>\n",
       "      <td>0.0700</td>\n",
       "      <td>0.0</td>\n",
       "      <td>False</td>\n",
       "    </tr>\n",
       "  </tbody>\n",
       "</table>\n",
       "</div>"
      ],
      "text/plain": [
       "                    species  bodywt  brainwt  nondreaming  dreaming  \\\n",
       "6               Bigbrownbat   0.023     0.30         15.8       3.9   \n",
       "31  Lessershort-tailedshrew   0.005     0.14          7.7       1.4   \n",
       "32           Littlebrownbat   0.010     0.25         17.9       2.0   \n",
       "36                    Mouse   0.023     0.40         11.9       1.3   \n",
       "37                Muskshrew   0.048     0.33         10.8       2.0   \n",
       "55            Starnosedmole   0.060     1.00          8.1       2.2   \n",
       "\n",
       "    totalsleep  lifespan  gestation  predation  exposure  danger  \\\n",
       "6         19.7      19.0       35.0          1         1       1   \n",
       "31         9.1       2.6       21.5          5         2       4   \n",
       "32        19.9      24.0       50.0          1         1       1   \n",
       "36        13.2       3.2       19.0          4         1       3   \n",
       "37        12.8       2.0       30.0          4         1       3   \n",
       "55        10.3       3.5        NaN          3         1       2   \n",
       "\n",
       "    bodywt_pounds  brainwt_kg  ratio_brain_body  total_wt  totalwt  \\\n",
       "6             0.0      0.0030          0.130435    0.0260   0.0260   \n",
       "31            0.0      0.0014          0.280000    0.0064   0.0064   \n",
       "32            0.0      0.0025          0.250000    0.0125   0.0125   \n",
       "36            0.0      0.0040          0.173913    0.0270   0.0270   \n",
       "37            0.0      0.0033          0.068750    0.0513   0.0513   \n",
       "55            0.0      0.0100          0.166667    0.0700   0.0700   \n",
       "\n",
       "    flag_extincao flag_overweight  \n",
       "6             0.0           False  \n",
       "31            1.0           False  \n",
       "32            0.0           False  \n",
       "36            0.0           False  \n",
       "37            0.0           False  \n",
       "55            0.0           False  "
      ]
     },
     "execution_count": 58,
     "metadata": {},
     "output_type": "execute_result"
    }
   ],
   "source": [
    "animals.loc[mask, :]"
   ]
  },
  {
   "cell_type": "code",
   "execution_count": 110,
   "metadata": {
    "ExecuteTime": {
     "end_time": "2021-04-02T13:33:35.422226Z",
     "start_time": "2021-04-02T13:33:35.414740Z"
    }
   },
   "outputs": [
    {
     "data": {
      "text/plain": [
       "0.0735"
      ]
     },
     "execution_count": 110,
     "metadata": {},
     "output_type": "execute_result"
    }
   ],
   "source": [
    "# using numpy\n",
    "np.quantile(animals['bodywt'], q=0.1)"
   ]
  },
  {
   "cell_type": "code",
   "execution_count": 111,
   "metadata": {
    "ExecuteTime": {
     "end_time": "2021-04-02T13:33:41.181816Z",
     "start_time": "2021-04-02T13:33:41.173363Z"
    }
   },
   "outputs": [
    {
     "data": {
      "text/plain": [
       "0.0735"
      ]
     },
     "execution_count": 111,
     "metadata": {},
     "output_type": "execute_result"
    }
   ],
   "source": [
    "animals['bodywt'].quantile(q=0.1)"
   ]
  },
  {
   "cell_type": "code",
   "execution_count": 66,
   "metadata": {
    "ExecuteTime": {
     "end_time": "2021-04-02T12:55:44.476798Z",
     "start_time": "2021-04-02T12:55:44.463833Z"
    }
   },
   "outputs": [
    {
     "data": {
      "text/plain": [
       "0.1      0.0735\n",
       "0.5      3.3425\n",
       "0.9    193.5000\n",
       "Name: bodywt, dtype: float64"
      ]
     },
     "execution_count": 66,
     "metadata": {},
     "output_type": "execute_result"
    }
   ],
   "source": [
    "animals['bodywt'].quantile(q=[0.1, 0.5,0.9])"
   ]
  },
  {
   "cell_type": "markdown",
   "metadata": {},
   "source": [
    "## Binarizing (categorizing) data"
   ]
  },
  {
   "cell_type": "code",
   "execution_count": 67,
   "metadata": {
    "ExecuteTime": {
     "end_time": "2021-04-02T12:55:44.492755Z",
     "start_time": "2021-04-02T12:55:44.477795Z"
    },
    "scrolled": true
   },
   "outputs": [
    {
     "data": {
      "text/plain": [
       "0     6654.000\n",
       "1        1.000\n",
       "2        3.385\n",
       "5       10.550\n",
       "6        0.023\n",
       "7      160.000\n",
       "8        3.300\n",
       "9       52.160\n",
       "10       0.425\n",
       "11     465.000\n",
       "12       0.550\n",
       "13     187.100\n",
       "14       0.075\n",
       "15       3.000\n",
       "16       0.785\n",
       "17       0.200\n",
       "18       1.410\n",
       "19      60.000\n",
       "20     529.000\n",
       "21      27.660\n",
       "22       0.120\n",
       "23     207.000\n",
       "24      85.000\n",
       "25      36.330\n",
       "26       0.101\n",
       "27       1.040\n",
       "28     521.000\n",
       "29     100.000\n",
       "30      35.000\n",
       "31       0.005\n",
       "32       0.010\n",
       "33      62.000\n",
       "34       0.122\n",
       "35       1.350\n",
       "36       0.023\n",
       "37       0.048\n",
       "38       1.700\n",
       "39       3.500\n",
       "40     250.000\n",
       "41       0.480\n",
       "42      10.000\n",
       "43       1.620\n",
       "44     192.000\n",
       "45       2.500\n",
       "46       4.288\n",
       "47       0.280\n",
       "48       4.235\n",
       "49       6.800\n",
       "50       0.750\n",
       "51       3.600\n",
       "52      14.830\n",
       "53      55.500\n",
       "54       1.400\n",
       "55       0.060\n",
       "56       0.900\n",
       "57       2.000\n",
       "58       0.104\n",
       "59       4.190\n",
       "60       3.500\n",
       "61       4.050\n",
       "Name: bodywt, dtype: float64"
      ]
     },
     "execution_count": 67,
     "metadata": {},
     "output_type": "execute_result"
    }
   ],
   "source": [
    "animals['bodywt']"
   ]
  },
  {
   "cell_type": "code",
   "execution_count": 68,
   "metadata": {
    "ExecuteTime": {
     "end_time": "2021-04-02T12:55:44.508712Z",
     "start_time": "2021-04-02T12:55:44.499736Z"
    }
   },
   "outputs": [
    {
     "data": {
      "text/plain": [
       "G     15\n",
       "M     15\n",
       "P     15\n",
       "PP    15\n",
       "Name: bodywt, dtype: int64"
      ]
     },
     "execution_count": 68,
     "metadata": {},
     "output_type": "execute_result"
    }
   ],
   "source": [
    "pd.qcut(animals['bodywt'], q=4, labels=['PP','P','M','G']).value_counts()"
   ]
  },
  {
   "cell_type": "code",
   "execution_count": 69,
   "metadata": {
    "ExecuteTime": {
     "end_time": "2021-04-02T12:55:44.524670Z",
     "start_time": "2021-04-02T12:55:44.511704Z"
    }
   },
   "outputs": [
    {
     "data": {
      "text/plain": [
       "A    59\n",
       "B     1\n",
       "Name: bodywt, dtype: int64"
      ]
     },
     "execution_count": 69,
     "metadata": {},
     "output_type": "execute_result"
    }
   ],
   "source": [
    "pd.cut(animals['bodywt'], bins=2, labels=['A','B']).value_counts()"
   ]
  },
  {
   "cell_type": "code",
   "execution_count": 70,
   "metadata": {
    "ExecuteTime": {
     "end_time": "2021-04-02T12:55:44.540626Z",
     "start_time": "2021-04-02T12:55:44.526665Z"
    }
   },
   "outputs": [
    {
     "data": {
      "text/plain": [
       "SOBREPESO    30\n",
       "LEVE         30\n",
       "Name: bodywt, dtype: int64"
      ]
     },
     "execution_count": 70,
     "metadata": {},
     "output_type": "execute_result"
    }
   ],
   "source": [
    "pd.qcut(animals['bodywt'], q=2, labels=['LEVE', 'SOBREPESO']).value_counts()"
   ]
  },
  {
   "cell_type": "markdown",
   "metadata": {},
   "source": [
    "> Calculating the threshold for different quantiles"
   ]
  },
  {
   "cell_type": "code",
   "execution_count": 71,
   "metadata": {
    "ExecuteTime": {
     "end_time": "2021-04-02T12:55:44.556588Z",
     "start_time": "2021-04-02T12:55:44.541624Z"
    }
   },
   "outputs": [
    {
     "data": {
      "text/plain": [
       "467.79999999999984"
      ]
     },
     "execution_count": 71,
     "metadata": {},
     "output_type": "execute_result"
    }
   ],
   "source": [
    "# say that animals above quantile 0.95 (percentile 95%) are super-overweight\n"
   ]
  },
  {
   "cell_type": "code",
   "execution_count": 72,
   "metadata": {
    "ExecuteTime": {
     "end_time": "2021-04-02T12:55:44.571544Z",
     "start_time": "2021-04-02T12:55:44.558579Z"
    }
   },
   "outputs": [],
   "source": []
  },
  {
   "cell_type": "code",
   "execution_count": 73,
   "metadata": {
    "ExecuteTime": {
     "end_time": "2021-04-02T12:55:44.587504Z",
     "start_time": "2021-04-02T12:55:44.572541Z"
    }
   },
   "outputs": [],
   "source": [
    "# say that animals below quantile 0.1 (percentile 10%) are super-skinny\n",
    "q10 = animals.bodywt.quantile(0.1)"
   ]
  },
  {
   "cell_type": "code",
   "execution_count": 74,
   "metadata": {
    "ExecuteTime": {
     "end_time": "2021-04-02T12:55:44.603459Z",
     "start_time": "2021-04-02T12:55:44.589499Z"
    }
   },
   "outputs": [
    {
     "data": {
      "text/plain": [
       "0.0735"
      ]
     },
     "execution_count": 74,
     "metadata": {},
     "output_type": "execute_result"
    }
   ],
   "source": [
    "q10"
   ]
  },
  {
   "cell_type": "markdown",
   "metadata": {},
   "source": [
    "> Selecting (and counting) the observations that are above (or below) that threshold"
   ]
  },
  {
   "cell_type": "code",
   "execution_count": 75,
   "metadata": {
    "ExecuteTime": {
     "end_time": "2021-04-02T12:55:44.619416Z",
     "start_time": "2021-04-02T12:55:44.605454Z"
    }
   },
   "outputs": [
    {
     "data": {
      "text/plain": [
       "0.0735"
      ]
     },
     "execution_count": 75,
     "metadata": {},
     "output_type": "execute_result"
    }
   ],
   "source": [
    "q10"
   ]
  },
  {
   "cell_type": "code",
   "execution_count": 77,
   "metadata": {
    "ExecuteTime": {
     "end_time": "2021-04-02T12:55:44.666291Z",
     "start_time": "2021-04-02T12:55:44.636371Z"
    }
   },
   "outputs": [
    {
     "data": {
      "text/html": [
       "<div>\n",
       "<style scoped>\n",
       "    .dataframe tbody tr th:only-of-type {\n",
       "        vertical-align: middle;\n",
       "    }\n",
       "\n",
       "    .dataframe tbody tr th {\n",
       "        vertical-align: top;\n",
       "    }\n",
       "\n",
       "    .dataframe thead th {\n",
       "        text-align: right;\n",
       "    }\n",
       "</style>\n",
       "<table border=\"1\" class=\"dataframe\">\n",
       "  <thead>\n",
       "    <tr style=\"text-align: right;\">\n",
       "      <th></th>\n",
       "      <th>species</th>\n",
       "      <th>bodywt</th>\n",
       "      <th>brainwt</th>\n",
       "      <th>nondreaming</th>\n",
       "      <th>dreaming</th>\n",
       "      <th>totalsleep</th>\n",
       "      <th>lifespan</th>\n",
       "      <th>gestation</th>\n",
       "      <th>predation</th>\n",
       "      <th>exposure</th>\n",
       "      <th>danger</th>\n",
       "      <th>bodywt_pounds</th>\n",
       "      <th>brainwt_kg</th>\n",
       "      <th>ratio_brain_body</th>\n",
       "      <th>total_wt</th>\n",
       "      <th>totalwt</th>\n",
       "      <th>flag_extincao</th>\n",
       "      <th>flag_overweight</th>\n",
       "    </tr>\n",
       "  </thead>\n",
       "  <tbody>\n",
       "    <tr>\n",
       "      <th>0</th>\n",
       "      <td>Africanelephant</td>\n",
       "      <td>6654.0</td>\n",
       "      <td>5712.0</td>\n",
       "      <td>NaN</td>\n",
       "      <td>NaN</td>\n",
       "      <td>3.3</td>\n",
       "      <td>38.6</td>\n",
       "      <td>645.0</td>\n",
       "      <td>3</td>\n",
       "      <td>5</td>\n",
       "      <td>3</td>\n",
       "      <td>14672.0</td>\n",
       "      <td>57.12</td>\n",
       "      <td>0.008584</td>\n",
       "      <td>6711.12</td>\n",
       "      <td>6711.12</td>\n",
       "      <td>0.0</td>\n",
       "      <td>True</td>\n",
       "    </tr>\n",
       "    <tr>\n",
       "      <th>20</th>\n",
       "      <td>Giraffe</td>\n",
       "      <td>529.0</td>\n",
       "      <td>680.0</td>\n",
       "      <td>NaN</td>\n",
       "      <td>0.3</td>\n",
       "      <td>NaN</td>\n",
       "      <td>28.0</td>\n",
       "      <td>400.0</td>\n",
       "      <td>5</td>\n",
       "      <td>5</td>\n",
       "      <td>5</td>\n",
       "      <td>1166.0</td>\n",
       "      <td>6.80</td>\n",
       "      <td>0.012854</td>\n",
       "      <td>535.80</td>\n",
       "      <td>535.80</td>\n",
       "      <td>1.0</td>\n",
       "      <td>True</td>\n",
       "    </tr>\n",
       "    <tr>\n",
       "      <th>28</th>\n",
       "      <td>Horse</td>\n",
       "      <td>521.0</td>\n",
       "      <td>655.0</td>\n",
       "      <td>2.1</td>\n",
       "      <td>0.8</td>\n",
       "      <td>2.9</td>\n",
       "      <td>46.0</td>\n",
       "      <td>336.0</td>\n",
       "      <td>5</td>\n",
       "      <td>5</td>\n",
       "      <td>5</td>\n",
       "      <td>1149.0</td>\n",
       "      <td>6.55</td>\n",
       "      <td>0.012572</td>\n",
       "      <td>527.55</td>\n",
       "      <td>527.55</td>\n",
       "      <td>1.0</td>\n",
       "      <td>True</td>\n",
       "    </tr>\n",
       "  </tbody>\n",
       "</table>\n",
       "</div>"
      ],
      "text/plain": [
       "            species  bodywt  brainwt  nondreaming  dreaming  totalsleep  \\\n",
       "0   Africanelephant  6654.0   5712.0          NaN       NaN         3.3   \n",
       "20          Giraffe   529.0    680.0          NaN       0.3         NaN   \n",
       "28            Horse   521.0    655.0          2.1       0.8         2.9   \n",
       "\n",
       "    lifespan  gestation  predation  exposure  danger  bodywt_pounds  \\\n",
       "0       38.6      645.0          3         5       3        14672.0   \n",
       "20      28.0      400.0          5         5       5         1166.0   \n",
       "28      46.0      336.0          5         5       5         1149.0   \n",
       "\n",
       "    brainwt_kg  ratio_brain_body  total_wt  totalwt  flag_extincao  \\\n",
       "0        57.12          0.008584   6711.12  6711.12            0.0   \n",
       "20        6.80          0.012854    535.80   535.80            1.0   \n",
       "28        6.55          0.012572    527.55   527.55            1.0   \n",
       "\n",
       "   flag_overweight  \n",
       "0             True  \n",
       "20            True  \n",
       "28            True  "
      ]
     },
     "execution_count": 77,
     "metadata": {},
     "output_type": "execute_result"
    }
   ],
   "source": [
    "animals.query(f'bodywt > {q95}')"
   ]
  },
  {
   "cell_type": "markdown",
   "metadata": {},
   "source": [
    "## Numpy where"
   ]
  },
  {
   "cell_type": "code",
   "execution_count": 78,
   "metadata": {
    "ExecuteTime": {
     "end_time": "2021-04-02T12:55:44.682258Z",
     "start_time": "2021-04-02T12:55:44.668286Z"
    }
   },
   "outputs": [],
   "source": [
    "import numpy as np"
   ]
  },
  {
   "cell_type": "code",
   "execution_count": 79,
   "metadata": {
    "ExecuteTime": {
     "end_time": "2021-04-02T12:55:44.698205Z",
     "start_time": "2021-04-02T12:55:44.683246Z"
    }
   },
   "outputs": [],
   "source": [
    "q95 = animals.bodywt.quantile(0.95)"
   ]
  },
  {
   "cell_type": "markdown",
   "metadata": {},
   "source": [
    "> np.where(condition is true, then this value, else this value)"
   ]
  },
  {
   "cell_type": "code",
   "execution_count": 80,
   "metadata": {
    "ExecuteTime": {
     "end_time": "2021-04-02T12:55:44.714163Z",
     "start_time": "2021-04-02T12:55:44.699203Z"
    }
   },
   "outputs": [
    {
     "data": {
      "text/plain": [
       "467.79999999999984"
      ]
     },
     "execution_count": 80,
     "metadata": {},
     "output_type": "execute_result"
    }
   ],
   "source": [
    "q95"
   ]
  },
  {
   "cell_type": "code",
   "execution_count": 81,
   "metadata": {
    "ExecuteTime": {
     "end_time": "2021-04-02T12:55:44.730120Z",
     "start_time": "2021-04-02T12:55:44.716158Z"
    },
    "scrolled": true
   },
   "outputs": [
    {
     "data": {
      "text/plain": [
       "array(['SUPER-OVERWEIGHT', 'NORMAL', 'NORMAL', 'NORMAL', 'NORMAL',\n",
       "       'NORMAL', 'NORMAL', 'NORMAL', 'NORMAL', 'NORMAL', 'NORMAL',\n",
       "       'NORMAL', 'NORMAL', 'NORMAL', 'NORMAL', 'NORMAL', 'NORMAL',\n",
       "       'NORMAL', 'SUPER-OVERWEIGHT', 'NORMAL', 'NORMAL', 'NORMAL',\n",
       "       'NORMAL', 'NORMAL', 'NORMAL', 'NORMAL', 'SUPER-OVERWEIGHT',\n",
       "       'NORMAL', 'NORMAL', 'NORMAL', 'NORMAL', 'NORMAL', 'NORMAL',\n",
       "       'NORMAL', 'NORMAL', 'NORMAL', 'NORMAL', 'NORMAL', 'NORMAL',\n",
       "       'NORMAL', 'NORMAL', 'NORMAL', 'NORMAL', 'NORMAL', 'NORMAL',\n",
       "       'NORMAL', 'NORMAL', 'NORMAL', 'NORMAL', 'NORMAL', 'NORMAL',\n",
       "       'NORMAL', 'NORMAL', 'NORMAL', 'NORMAL', 'NORMAL', 'NORMAL',\n",
       "       'NORMAL', 'NORMAL', 'NORMAL'], dtype='<U16')"
      ]
     },
     "execution_count": 81,
     "metadata": {},
     "output_type": "execute_result"
    }
   ],
   "source": [
    "np.where(animals['bodywt'] > q95, 'SUPER-OVERWEIGHT','NORMAL')"
   ]
  },
  {
   "cell_type": "code",
   "execution_count": 82,
   "metadata": {
    "ExecuteTime": {
     "end_time": "2021-04-02T12:55:44.746077Z",
     "start_time": "2021-04-02T12:55:44.732115Z"
    }
   },
   "outputs": [],
   "source": [
    "animals['class'] = np.where(animals['bodywt'] > q95, 'SUPER-OVERWEIGHT','NORMAL')"
   ]
  },
  {
   "cell_type": "code",
   "execution_count": 92,
   "metadata": {
    "ExecuteTime": {
     "end_time": "2021-04-02T13:05:08.266509Z",
     "start_time": "2021-04-02T13:05:08.259949Z"
    }
   },
   "outputs": [],
   "source": [
    "animals.loc[animals['bodywt']>q95,'class'] = 'SUPER-OVERWEIGHT'\n",
    "animals.loc[~(animals['bodywt']>q95),'class'] = 'NORMAL'"
   ]
  },
  {
   "cell_type": "code",
   "execution_count": null,
   "metadata": {
    "ExecuteTime": {
     "end_time": "2021-04-02T12:55:45.170828Z",
     "start_time": "2021-04-02T12:55:40.854Z"
    },
    "scrolled": true
   },
   "outputs": [],
   "source": [
    "animals"
   ]
  },
  {
   "cell_type": "code",
   "execution_count": 88,
   "metadata": {
    "ExecuteTime": {
     "end_time": "2021-04-02T12:59:36.447712Z",
     "start_time": "2021-04-02T12:59:36.428717Z"
    }
   },
   "outputs": [],
   "source": [
    "q85 = animals['bodywt'].quantile(0.85)\n",
    "q50 = animals['bodywt'].quantile(0.50)"
   ]
  },
  {
   "cell_type": "code",
   "execution_count": null,
   "metadata": {
    "ExecuteTime": {
     "end_time": "2021-04-02T12:55:45.172823Z",
     "start_time": "2021-04-02T12:55:40.860Z"
    }
   },
   "outputs": [],
   "source": [
    "animals['class'] = np.where(animals['bodywt'] > q95, 'SUPER-OVERWEIGHT',\n",
    "                           np.where(animals['bodywt'] > q85, 'ALMOST-SUPER-OVERWEIGHT', \n",
    "                                   np.where(animals['bodywt'] > q50,'QUASI-ALMOST-SUPER-OVERWEIGHT','NORMAL')))"
   ]
  },
  {
   "cell_type": "code",
   "execution_count": null,
   "metadata": {},
   "outputs": [],
   "source": [
    "animals['class'].value_counts()"
   ]
  },
  {
   "cell_type": "code",
   "execution_count": 89,
   "metadata": {
    "ExecuteTime": {
     "end_time": "2021-04-02T12:59:38.242424Z",
     "start_time": "2021-04-02T12:59:38.235442Z"
    }
   },
   "outputs": [],
   "source": [
    "animals.loc[animals['bodywt']>q95,'class'] = 'SUPER-OVERWEIGHT'\n",
    "animals.loc[animals['bodywt']<q95,'class'] = 'ALMOST-SUPER-OVERWEIGHT'\n",
    "animals.loc[animals['bodywt']<q85,'class'] = 'QUASI-ALMOST-SUPER-OVERWEIGHT'\n",
    "animals.loc[animals['bodywt']<q50,'class'] = 'NORMAL'"
   ]
  },
  {
   "cell_type": "code",
   "execution_count": 90,
   "metadata": {
    "ExecuteTime": {
     "end_time": "2021-04-02T12:59:39.722946Z",
     "start_time": "2021-04-02T12:59:39.706460Z"
    },
    "scrolled": true
   },
   "outputs": [
    {
     "data": {
      "text/plain": [
       "NORMAL                           30\n",
       "QUASI-ALMOST-SUPER-OVERWEIGHT    21\n",
       "ALMOST-SUPER-OVERWEIGHT           6\n",
       "SUPER-OVERWEIGHT                  3\n",
       "Name: class, dtype: int64"
      ]
     },
     "execution_count": 90,
     "metadata": {},
     "output_type": "execute_result"
    }
   ],
   "source": [
    "animals['class'].value_counts()"
   ]
  },
  {
   "cell_type": "code",
   "execution_count": 95,
   "metadata": {
    "ExecuteTime": {
     "end_time": "2021-04-02T13:15:53.557635Z",
     "start_time": "2021-04-02T13:15:53.540670Z"
    }
   },
   "outputs": [],
   "source": [
    "q0 = animals['bodywt'].quantile(0)\n",
    "q100= animals['bodywt'].quantile(1)"
   ]
  },
  {
   "cell_type": "code",
   "execution_count": 101,
   "metadata": {
    "ExecuteTime": {
     "end_time": "2021-04-02T13:20:03.755680Z",
     "start_time": "2021-04-02T13:20:03.748699Z"
    }
   },
   "outputs": [
    {
     "data": {
      "text/plain": [
       "NORMAL                           30\n",
       "QUASI-ALMOST-SUPER-OVERWEIGHT    21\n",
       "ALMOST-SUPER-OVERWEIGHT           6\n",
       "SUPER-OVERWEIGHT                  3\n",
       "Name: bodywt, dtype: int64"
      ]
     },
     "execution_count": 101,
     "metadata": {},
     "output_type": "execute_result"
    }
   ],
   "source": [
    "pd.cut(animals['bodywt'], bins=[q0-0.01,q50,q85,q95,q100], labels=['NORMAL','QUASI-ALMOST-SUPER-OVERWEIGHT','ALMOST-SUPER-OVERWEIGHT','SUPER-OVERWEIGHT'],).value_counts()"
   ]
  },
  {
   "cell_type": "markdown",
   "metadata": {},
   "source": [
    "# Bonus: \n",
    "\n",
    "## Correlation\n",
    "\n",
    "*Touching statistics*"
   ]
  },
  {
   "cell_type": "code",
   "execution_count": null,
   "metadata": {
    "ExecuteTime": {
     "end_time": "2021-04-02T12:55:45.173820Z",
     "start_time": "2021-04-02T12:55:40.864Z"
    }
   },
   "outputs": [],
   "source": [
    "animals.head()"
   ]
  },
  {
   "cell_type": "code",
   "execution_count": null,
   "metadata": {
    "ExecuteTime": {
     "end_time": "2021-04-02T12:55:45.174818Z",
     "start_time": "2021-04-02T12:55:40.868Z"
    },
    "scrolled": true
   },
   "outputs": [],
   "source": [
    "animals.corr()"
   ]
  },
  {
   "cell_type": "code",
   "execution_count": 86,
   "metadata": {
    "ExecuteTime": {
     "end_time": "2021-04-02T12:56:16.610181Z",
     "start_time": "2021-04-02T12:56:16.458071Z"
    },
    "scrolled": true
   },
   "outputs": [
    {
     "data": {
      "text/plain": [
       "(0.0, 600.0)"
      ]
     },
     "execution_count": 86,
     "metadata": {},
     "output_type": "execute_result"
    },
    {
     "data": {
      "image/png": "[encoded data removed]",
      "text/plain": [
       "<Figure size 432x288 with 1 Axes>"
      ]
     },
     "metadata": {
      "needs_background": "light"
     },
     "output_type": "display_data"
    }
   ],
   "source": [
    "sns.scatterplot(x=animals['brainwt'],y=animals['bodywt'])\n",
    "plt.xlim((0,800))\n",
    "plt.ylim((0,600))"
   ]
  },
  {
   "cell_type": "code",
   "execution_count": 22,
   "metadata": {
    "ExecuteTime": {
     "end_time": "2022-01-21T12:50:14.818065Z",
     "start_time": "2022-01-21T12:50:14.779168Z"
    }
   },
   "outputs": [
    {
     "data": {
      "text/html": [
       "<div>\n",
       "<style scoped>\n",
       "    .dataframe tbody tr th:only-of-type {\n",
       "        vertical-align: middle;\n",
       "    }\n",
       "\n",
       "    .dataframe tbody tr th {\n",
       "        vertical-align: top;\n",
       "    }\n",
       "\n",
       "    .dataframe thead th {\n",
       "        text-align: right;\n",
       "    }\n",
       "</style>\n",
       "<table border=\"1\" class=\"dataframe\">\n",
       "  <thead>\n",
       "    <tr style=\"text-align: right;\">\n",
       "      <th></th>\n",
       "      <th>Species</th>\n",
       "      <th>BodyWt</th>\n",
       "      <th>BrainWt</th>\n",
       "      <th>NonDreaming</th>\n",
       "      <th>Dreaming</th>\n",
       "      <th>TotalSleep</th>\n",
       "      <th>LifeSpan</th>\n",
       "      <th>Gestation</th>\n",
       "      <th>Predation</th>\n",
       "      <th>Exposure</th>\n",
       "      <th>Danger</th>\n",
       "      <th>wtcat</th>\n",
       "    </tr>\n",
       "  </thead>\n",
       "  <tbody>\n",
       "    <tr>\n",
       "      <th>0</th>\n",
       "      <td>Africanelephant</td>\n",
       "      <td>6654.000</td>\n",
       "      <td>5712.0</td>\n",
       "      <td>NaN</td>\n",
       "      <td>NaN</td>\n",
       "      <td>3.3</td>\n",
       "      <td>38.6</td>\n",
       "      <td>645.0</td>\n",
       "      <td>3</td>\n",
       "      <td>5</td>\n",
       "      <td>3</td>\n",
       "      <td>SUPER OVERWEIGHT</td>\n",
       "    </tr>\n",
       "    <tr>\n",
       "      <th>1</th>\n",
       "      <td>Africangiantpouchedrat</td>\n",
       "      <td>1.000</td>\n",
       "      <td>6.6</td>\n",
       "      <td>6.3</td>\n",
       "      <td>2.0</td>\n",
       "      <td>8.3</td>\n",
       "      <td>4.5</td>\n",
       "      <td>42.0</td>\n",
       "      <td>3</td>\n",
       "      <td>1</td>\n",
       "      <td>3</td>\n",
       "      <td>NORMAL</td>\n",
       "    </tr>\n",
       "    <tr>\n",
       "      <th>2</th>\n",
       "      <td>ArcticFox</td>\n",
       "      <td>3.385</td>\n",
       "      <td>44.5</td>\n",
       "      <td>NaN</td>\n",
       "      <td>NaN</td>\n",
       "      <td>12.5</td>\n",
       "      <td>14.0</td>\n",
       "      <td>60.0</td>\n",
       "      <td>1</td>\n",
       "      <td>1</td>\n",
       "      <td>1</td>\n",
       "      <td>NORMAL</td>\n",
       "    </tr>\n",
       "    <tr>\n",
       "      <th>3</th>\n",
       "      <td>Arcticgroundsquirrel</td>\n",
       "      <td>0.920</td>\n",
       "      <td>5.7</td>\n",
       "      <td>NaN</td>\n",
       "      <td>NaN</td>\n",
       "      <td>16.5</td>\n",
       "      <td>NaN</td>\n",
       "      <td>25.0</td>\n",
       "      <td>5</td>\n",
       "      <td>2</td>\n",
       "      <td>3</td>\n",
       "      <td>NORMAL</td>\n",
       "    </tr>\n",
       "    <tr>\n",
       "      <th>4</th>\n",
       "      <td>Asianelephant</td>\n",
       "      <td>2547.000</td>\n",
       "      <td>4603.0</td>\n",
       "      <td>2.1</td>\n",
       "      <td>1.8</td>\n",
       "      <td>3.9</td>\n",
       "      <td>69.0</td>\n",
       "      <td>624.0</td>\n",
       "      <td>3</td>\n",
       "      <td>5</td>\n",
       "      <td>4</td>\n",
       "      <td>SUPER OVERWEIGHT</td>\n",
       "    </tr>\n",
       "    <tr>\n",
       "      <th>...</th>\n",
       "      <td>...</td>\n",
       "      <td>...</td>\n",
       "      <td>...</td>\n",
       "      <td>...</td>\n",
       "      <td>...</td>\n",
       "      <td>...</td>\n",
       "      <td>...</td>\n",
       "      <td>...</td>\n",
       "      <td>...</td>\n",
       "      <td>...</td>\n",
       "      <td>...</td>\n",
       "      <td>...</td>\n",
       "    </tr>\n",
       "    <tr>\n",
       "      <th>57</th>\n",
       "      <td>Treehyrax</td>\n",
       "      <td>2.000</td>\n",
       "      <td>12.3</td>\n",
       "      <td>4.9</td>\n",
       "      <td>0.5</td>\n",
       "      <td>5.4</td>\n",
       "      <td>7.5</td>\n",
       "      <td>200.0</td>\n",
       "      <td>3</td>\n",
       "      <td>1</td>\n",
       "      <td>3</td>\n",
       "      <td>NORMAL</td>\n",
       "    </tr>\n",
       "    <tr>\n",
       "      <th>58</th>\n",
       "      <td>Treeshrew</td>\n",
       "      <td>0.104</td>\n",
       "      <td>2.5</td>\n",
       "      <td>13.2</td>\n",
       "      <td>2.6</td>\n",
       "      <td>15.8</td>\n",
       "      <td>2.3</td>\n",
       "      <td>46.0</td>\n",
       "      <td>3</td>\n",
       "      <td>2</td>\n",
       "      <td>2</td>\n",
       "      <td>NORMAL</td>\n",
       "    </tr>\n",
       "    <tr>\n",
       "      <th>59</th>\n",
       "      <td>Vervet</td>\n",
       "      <td>4.190</td>\n",
       "      <td>58.0</td>\n",
       "      <td>9.7</td>\n",
       "      <td>0.6</td>\n",
       "      <td>10.3</td>\n",
       "      <td>24.0</td>\n",
       "      <td>210.0</td>\n",
       "      <td>4</td>\n",
       "      <td>3</td>\n",
       "      <td>4</td>\n",
       "      <td>NORMAL</td>\n",
       "    </tr>\n",
       "    <tr>\n",
       "      <th>60</th>\n",
       "      <td>Wateropossum</td>\n",
       "      <td>3.500</td>\n",
       "      <td>3.9</td>\n",
       "      <td>12.8</td>\n",
       "      <td>6.6</td>\n",
       "      <td>19.4</td>\n",
       "      <td>3.0</td>\n",
       "      <td>14.0</td>\n",
       "      <td>2</td>\n",
       "      <td>1</td>\n",
       "      <td>1</td>\n",
       "      <td>NORMAL</td>\n",
       "    </tr>\n",
       "    <tr>\n",
       "      <th>61</th>\n",
       "      <td>Yellow-belliedmarmot</td>\n",
       "      <td>4.050</td>\n",
       "      <td>17.0</td>\n",
       "      <td>NaN</td>\n",
       "      <td>NaN</td>\n",
       "      <td>NaN</td>\n",
       "      <td>13.0</td>\n",
       "      <td>38.0</td>\n",
       "      <td>3</td>\n",
       "      <td>1</td>\n",
       "      <td>1</td>\n",
       "      <td>NORMAL</td>\n",
       "    </tr>\n",
       "  </tbody>\n",
       "</table>\n",
       "<p>62 rows × 12 columns</p>\n",
       "</div>"
      ],
      "text/plain": [
       "                   Species    BodyWt  BrainWt  NonDreaming  Dreaming  \\\n",
       "0          Africanelephant  6654.000   5712.0          NaN       NaN   \n",
       "1   Africangiantpouchedrat     1.000      6.6          6.3       2.0   \n",
       "2                ArcticFox     3.385     44.5          NaN       NaN   \n",
       "3     Arcticgroundsquirrel     0.920      5.7          NaN       NaN   \n",
       "4            Asianelephant  2547.000   4603.0          2.1       1.8   \n",
       "..                     ...       ...      ...          ...       ...   \n",
       "57               Treehyrax     2.000     12.3          4.9       0.5   \n",
       "58               Treeshrew     0.104      2.5         13.2       2.6   \n",
       "59                  Vervet     4.190     58.0          9.7       0.6   \n",
       "60            Wateropossum     3.500      3.9         12.8       6.6   \n",
       "61    Yellow-belliedmarmot     4.050     17.0          NaN       NaN   \n",
       "\n",
       "    TotalSleep  LifeSpan  Gestation  Predation  Exposure  Danger  \\\n",
       "0          3.3      38.6      645.0          3         5       3   \n",
       "1          8.3       4.5       42.0          3         1       3   \n",
       "2         12.5      14.0       60.0          1         1       1   \n",
       "3         16.5       NaN       25.0          5         2       3   \n",
       "4          3.9      69.0      624.0          3         5       4   \n",
       "..         ...       ...        ...        ...       ...     ...   \n",
       "57         5.4       7.5      200.0          3         1       3   \n",
       "58        15.8       2.3       46.0          3         2       2   \n",
       "59        10.3      24.0      210.0          4         3       4   \n",
       "60        19.4       3.0       14.0          2         1       1   \n",
       "61         NaN      13.0       38.0          3         1       1   \n",
       "\n",
       "               wtcat  \n",
       "0   SUPER OVERWEIGHT  \n",
       "1             NORMAL  \n",
       "2             NORMAL  \n",
       "3             NORMAL  \n",
       "4   SUPER OVERWEIGHT  \n",
       "..               ...  \n",
       "57            NORMAL  \n",
       "58            NORMAL  \n",
       "59            NORMAL  \n",
       "60            NORMAL  \n",
       "61            NORMAL  \n",
       "\n",
       "[62 rows x 12 columns]"
      ]
     },
     "execution_count": 22,
     "metadata": {},
     "output_type": "execute_result"
    }
   ],
   "source": [
    "# (animals['BodyWt'] > animals['BodyWt'].quantile(q=[0.1]) #= \"ALMOST SUPER OVERWEIGHT\"\n",
    "# (animals['BodyWt'] > animals['BodyWt'].quantile(q=[0.85]) #= \"SUPER OVERWEIGHT\"\n",
    "# (animals['BodyWt'] < animals['BodyWt'].quantile(q=[0.95]) #= \"SUPER SKINNY\"\n",
    "# animals\n",
    "#MASCARA N FUNCIONA COM IF\n",
    "animals[\"wtcat\"] = pd.qcut(animals[\"BodyWt\"], q=[0,0.1,0.85,0.95,1], labels = [\"SUPER SKINNY\",\"NORMAL\", \"ALMOST SUPER OVERWEIGHT\", \"SUPER OVERWEIGHT\"])\n",
    "animals"
   ]
  },
  {
   "cell_type": "code",
   "execution_count": null,
   "metadata": {
    "ExecuteTime": {
     "end_time": "2021-04-02T12:55:45.177810Z",
     "start_time": "2021-04-02T12:55:40.873Z"
    }
   },
   "outputs": [],
   "source": [
    "sns.scatterplot(animals['ratio_brain_body'],animals['totalsleep'])"
   ]
  },
  {
   "cell_type": "markdown",
   "metadata": {},
   "source": [
    "# Today:\n",
    "\n",
    "- Creating columns based on: \n",
    "   - mathematical calculations, \n",
    "   - column based calculations, \n",
    "   - conditions\n",
    "   - variable conditions\n",
    "- quantiles \n",
    "- correlations"
   ]
  }
 ],
 "metadata": {
  "kernelspec": {
   "display_name": "Python 3 (ipykernel)",
   "language": "python",
   "name": "python3"
  },
  "language_info": {
   "codemirror_mode": {
    "name": "ipython",
    "version": 3
   },
   "file_extension": ".py",
   "mimetype": "text/x-python",
   "name": "python",
   "nbconvert_exporter": "python",
   "pygments_lexer": "ipython3",
   "version": "3.10.1"
  },
  "toc": {
   "base_numbering": 1,
   "nav_menu": {},
   "number_sections": true,
   "sideBar": true,
   "skip_h1_title": false,
   "title_cell": "Table of Contents",
   "title_sidebar": "Contents",
   "toc_cell": false,
   "toc_position": {},
   "toc_section_display": true,
   "toc_window_display": false
  },
  "varInspector": {
   "cols": {
    "lenName": 16,
    "lenType": 16,
    "lenVar": 40
   },
   "kernels_config": {
    "python": {
     "delete_cmd_postfix": "",
     "delete_cmd_prefix": "del ",
     "library": "var_list.py",
     "varRefreshCmd": "print(var_dic_list())"
    },
    "r": {
     "delete_cmd_postfix": ") ",
     "delete_cmd_prefix": "rm(",
     "library": "var_list.r",
     "varRefreshCmd": "cat(var_dic_list()) "
    }
   },
   "types_to_exclude": [
    "module",
    "function",
    "builtin_function_or_method",
    "instance",
    "_Feature"
   ],
   "window_display": false
  }
 },
 "nbformat": 4,
 "nbformat_minor": 2
}
