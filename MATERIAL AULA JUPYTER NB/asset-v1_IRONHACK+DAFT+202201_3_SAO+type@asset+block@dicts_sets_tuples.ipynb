{
 "cells": [
  {
   "cell_type": "markdown",
   "metadata": {},
   "source": [
    "# Some python inherent `data structures`"
   ]
  },
  {
   "cell_type": "markdown",
   "metadata": {},
   "source": [
    "- Tuples\n",
    "- Dicts\n",
    "- Sets"
   ]
  },
  {
   "cell_type": "markdown",
   "metadata": {},
   "source": [
    "# Tuples"
   ]
  },
  {
   "cell_type": "markdown",
   "metadata": {},
   "source": [
    "- Tuples are identified by `parenthesis` and `comma` separation\n",
    "\n",
    "- Tuples are immutable sequences of elements"
   ]
  },
  {
   "cell_type": "markdown",
   "metadata": {},
   "source": [
    "## Creating a tuple"
   ]
  },
  {
   "cell_type": "code",
   "execution_count": 43,
   "metadata": {
    "ExecuteTime": {
     "end_time": "2021-10-19T12:16:09.406973Z",
     "start_time": "2021-10-19T12:16:09.389021Z"
    }
   },
   "outputs": [
    {
     "data": {
      "text/plain": [
       "(10, 20)"
      ]
     },
     "execution_count": 43,
     "metadata": {},
     "output_type": "execute_result"
    }
   ],
   "source": [
    "x = (10, 20)\n",
    "x"
   ]
  },
  {
   "cell_type": "code",
   "execution_count": 44,
   "metadata": {
    "ExecuteTime": {
     "end_time": "2021-10-19T12:16:12.329133Z",
     "start_time": "2021-10-19T12:16:12.325143Z"
    },
    "scrolled": true
   },
   "outputs": [
    {
     "data": {
      "text/plain": [
       "tuple"
      ]
     },
     "execution_count": 44,
     "metadata": {},
     "output_type": "execute_result"
    }
   ],
   "source": [
    "type(x)"
   ]
  },
  {
   "cell_type": "code",
   "execution_count": 45,
   "metadata": {
    "ExecuteTime": {
     "end_time": "2021-10-19T12:16:21.458942Z",
     "start_time": "2021-10-19T12:16:21.451961Z"
    }
   },
   "outputs": [],
   "source": [
    "y=()"
   ]
  },
  {
   "cell_type": "code",
   "execution_count": 46,
   "metadata": {
    "ExecuteTime": {
     "end_time": "2021-10-19T12:16:22.884320Z",
     "start_time": "2021-10-19T12:16:22.877339Z"
    }
   },
   "outputs": [
    {
     "data": {
      "text/plain": [
       "tuple"
      ]
     },
     "execution_count": 46,
     "metadata": {},
     "output_type": "execute_result"
    }
   ],
   "source": [
    "type(y)"
   ]
  },
  {
   "cell_type": "code",
   "execution_count": 47,
   "metadata": {
    "ExecuteTime": {
     "end_time": "2021-10-19T12:19:10.281781Z",
     "start_time": "2021-10-19T12:19:10.268816Z"
    }
   },
   "outputs": [],
   "source": [
    "y = (10)"
   ]
  },
  {
   "cell_type": "code",
   "execution_count": 68,
   "metadata": {
    "ExecuteTime": {
     "end_time": "2021-10-19T12:27:31.000230Z",
     "start_time": "2021-10-19T12:27:30.980284Z"
    },
    "scrolled": true
   },
   "outputs": [
    {
     "data": {
      "text/plain": [
       "int"
      ]
     },
     "execution_count": 68,
     "metadata": {},
     "output_type": "execute_result"
    }
   ],
   "source": [
    "type(y)"
   ]
  },
  {
   "cell_type": "code",
   "execution_count": 1,
   "metadata": {
    "ExecuteTime": {
     "end_time": "2022-01-11T10:26:47.508841Z",
     "start_time": "2022-01-11T10:26:47.497870Z"
    }
   },
   "outputs": [],
   "source": [
    "a=[1,3]\n",
    "b=[4,9]\n",
    "a_1,b_1 = list(zip(a,b))[1]"
   ]
  },
  {
   "cell_type": "code",
   "execution_count": 3,
   "metadata": {
    "ExecuteTime": {
     "end_time": "2022-01-11T10:27:02.329014Z",
     "start_time": "2022-01-11T10:27:02.319041Z"
    }
   },
   "outputs": [],
   "source": [
    "y = (10,)"
   ]
  },
  {
   "cell_type": "code",
   "execution_count": 4,
   "metadata": {
    "ExecuteTime": {
     "end_time": "2022-01-11T10:27:03.134711Z",
     "start_time": "2022-01-11T10:27:03.111752Z"
    }
   },
   "outputs": [
    {
     "data": {
      "text/plain": [
       "tuple"
      ]
     },
     "execution_count": 4,
     "metadata": {},
     "output_type": "execute_result"
    }
   ],
   "source": [
    "type(y)"
   ]
  },
  {
   "cell_type": "code",
   "execution_count": 5,
   "metadata": {
    "ExecuteTime": {
     "end_time": "2022-01-11T10:27:29.908890Z",
     "start_time": "2022-01-11T10:27:29.904900Z"
    }
   },
   "outputs": [
    {
     "data": {
      "text/plain": [
       "1"
      ]
     },
     "execution_count": 5,
     "metadata": {},
     "output_type": "execute_result"
    }
   ],
   "source": [
    "len(y)"
   ]
  },
  {
   "cell_type": "code",
   "execution_count": 76,
   "metadata": {
    "ExecuteTime": {
     "end_time": "2021-10-19T12:30:46.641053Z",
     "start_time": "2021-10-19T12:30:46.628088Z"
    }
   },
   "outputs": [
    {
     "data": {
      "text/plain": [
       "(10, 20, 10, 2, 113, 54)"
      ]
     },
     "execution_count": 76,
     "metadata": {},
     "output_type": "execute_result"
    }
   ],
   "source": [
    "y = (10,20, 10, 2, 113, 54)\n",
    "y"
   ]
  },
  {
   "cell_type": "code",
   "execution_count": 9,
   "metadata": {
    "ExecuteTime": {
     "end_time": "2022-01-11T10:40:54.972818Z",
     "start_time": "2022-01-11T10:40:54.956839Z"
    }
   },
   "outputs": [],
   "source": [
    "# empty tuple: useful for answering, for example, a `null answer`\n",
    "y=()\n",
    "y = tuple()"
   ]
  },
  {
   "cell_type": "code",
   "execution_count": 8,
   "metadata": {
    "ExecuteTime": {
     "end_time": "2022-01-11T10:40:49.903195Z",
     "start_time": "2022-01-11T10:40:49.886222Z"
    }
   },
   "outputs": [
    {
     "data": {
      "text/plain": [
       "tuple"
      ]
     },
     "execution_count": 8,
     "metadata": {},
     "output_type": "execute_result"
    }
   ],
   "source": [
    "type(y)"
   ]
  },
  {
   "cell_type": "code",
   "execution_count": 6,
   "metadata": {
    "ExecuteTime": {
     "end_time": "2022-01-11T10:27:56.888674Z",
     "start_time": "2022-01-11T10:27:56.718790Z"
    }
   },
   "outputs": [
    {
     "ename": "TypeError",
     "evalue": "unsupported operand type(s) for +: 'NoneType' and 'int'",
     "output_type": "error",
     "traceback": [
      "\u001b[1;31m---------------------------------------------------------------------------\u001b[0m",
      "\u001b[1;31mTypeError\u001b[0m                                 Traceback (most recent call last)",
      "\u001b[1;32m<ipython-input-6-3fd8740bf8ab>\u001b[0m in \u001b[0;36m<module>\u001b[1;34m\u001b[0m\n\u001b[1;32m----> 1\u001b[1;33m \u001b[1;32mNone\u001b[0m \u001b[1;33m+\u001b[0m \u001b[1;36m1\u001b[0m\u001b[1;33m\u001b[0m\u001b[1;33m\u001b[0m\u001b[0m\n\u001b[0m",
      "\u001b[1;31mTypeError\u001b[0m: unsupported operand type(s) for +: 'NoneType' and 'int'"
     ]
    }
   ],
   "source": [
    "None + 1"
   ]
  },
  {
   "cell_type": "code",
   "execution_count": 77,
   "metadata": {
    "ExecuteTime": {
     "end_time": "2021-10-19T12:30:51.791097Z",
     "start_time": "2021-10-19T12:30:51.783119Z"
    }
   },
   "outputs": [
    {
     "data": {
      "text/plain": [
       "3"
      ]
     },
     "execution_count": 77,
     "metadata": {},
     "output_type": "execute_result"
    }
   ],
   "source": [
    "## multiple assignment\n",
    "a , b = (3, 4)\n",
    "a"
   ]
  },
  {
   "cell_type": "code",
   "execution_count": 13,
   "metadata": {
    "ExecuteTime": {
     "end_time": "2021-08-10T11:16:12.782474Z",
     "start_time": "2021-08-10T11:16:12.762566Z"
    }
   },
   "outputs": [
    {
     "data": {
      "text/plain": [
       "int"
      ]
     },
     "execution_count": 13,
     "metadata": {},
     "output_type": "execute_result"
    }
   ],
   "source": [
    "type(b)"
   ]
  },
  {
   "cell_type": "markdown",
   "metadata": {},
   "source": [
    "## Converting a `list` into a `tuple`"
   ]
  },
  {
   "cell_type": "code",
   "execution_count": 10,
   "metadata": {
    "ExecuteTime": {
     "end_time": "2022-01-11T10:44:59.525685Z",
     "start_time": "2022-01-11T10:44:59.515562Z"
    }
   },
   "outputs": [],
   "source": [
    "my_list = [1,3,5,8]"
   ]
  },
  {
   "cell_type": "code",
   "execution_count": 11,
   "metadata": {
    "ExecuteTime": {
     "end_time": "2022-01-11T10:44:59.869359Z",
     "start_time": "2022-01-11T10:44:59.862871Z"
    }
   },
   "outputs": [
    {
     "data": {
      "text/plain": [
       "list"
      ]
     },
     "execution_count": 11,
     "metadata": {},
     "output_type": "execute_result"
    }
   ],
   "source": [
    "type(my_list)"
   ]
  },
  {
   "cell_type": "code",
   "execution_count": 12,
   "metadata": {
    "ExecuteTime": {
     "end_time": "2022-01-11T10:45:00.168235Z",
     "start_time": "2022-01-11T10:45:00.155760Z"
    }
   },
   "outputs": [
    {
     "data": {
      "text/plain": [
       "(1, 3, 5, 8)"
      ]
     },
     "execution_count": 12,
     "metadata": {},
     "output_type": "execute_result"
    }
   ],
   "source": [
    "y = tuple(my_list)\n",
    "y"
   ]
  },
  {
   "cell_type": "code",
   "execution_count": 13,
   "metadata": {
    "ExecuteTime": {
     "end_time": "2022-01-11T10:45:00.552423Z",
     "start_time": "2022-01-11T10:45:00.540139Z"
    }
   },
   "outputs": [
    {
     "data": {
      "text/plain": [
       "tuple"
      ]
     },
     "execution_count": 13,
     "metadata": {},
     "output_type": "execute_result"
    }
   ],
   "source": [
    "type(y)"
   ]
  },
  {
   "cell_type": "code",
   "execution_count": 14,
   "metadata": {
    "ExecuteTime": {
     "end_time": "2022-01-11T10:45:03.111343Z",
     "start_time": "2022-01-11T10:45:03.092380Z"
    }
   },
   "outputs": [
    {
     "data": {
      "text/plain": [
       "(0, 1, 2, 3, 4)"
      ]
     },
     "execution_count": 14,
     "metadata": {},
     "output_type": "execute_result"
    }
   ],
   "source": [
    "tuple(range(5))"
   ]
  },
  {
   "cell_type": "code",
   "execution_count": 15,
   "metadata": {
    "ExecuteTime": {
     "end_time": "2022-01-11T10:45:03.731643Z",
     "start_time": "2022-01-11T10:45:03.717164Z"
    }
   },
   "outputs": [],
   "source": [
    "x = list(y)"
   ]
  },
  {
   "cell_type": "code",
   "execution_count": 16,
   "metadata": {
    "ExecuteTime": {
     "end_time": "2022-01-11T10:45:04.199286Z",
     "start_time": "2022-01-11T10:45:04.190310Z"
    }
   },
   "outputs": [],
   "source": [
    "x[0] = 100"
   ]
  },
  {
   "cell_type": "code",
   "execution_count": 17,
   "metadata": {
    "ExecuteTime": {
     "end_time": "2022-01-11T10:45:06.722652Z",
     "start_time": "2022-01-11T10:45:06.699554Z"
    }
   },
   "outputs": [
    {
     "ename": "TypeError",
     "evalue": "'tuple' object does not support item assignment",
     "output_type": "error",
     "traceback": [
      "\u001b[1;31m---------------------------------------------------------------------------\u001b[0m",
      "\u001b[1;31mTypeError\u001b[0m                                 Traceback (most recent call last)",
      "\u001b[1;32m<ipython-input-17-e27b0d590975>\u001b[0m in \u001b[0;36m<module>\u001b[1;34m\u001b[0m\n\u001b[1;32m----> 1\u001b[1;33m \u001b[0my\u001b[0m\u001b[1;33m[\u001b[0m\u001b[1;36m0\u001b[0m\u001b[1;33m]\u001b[0m \u001b[1;33m=\u001b[0m \u001b[1;36m100\u001b[0m\u001b[1;33m\u001b[0m\u001b[1;33m\u001b[0m\u001b[0m\n\u001b[0m",
      "\u001b[1;31mTypeError\u001b[0m: 'tuple' object does not support item assignment"
     ]
    }
   ],
   "source": [
    "y[0] = 100"
   ]
  },
  {
   "cell_type": "markdown",
   "metadata": {},
   "source": [
    "## <u>Accessing</u> an element in a tuple"
   ]
  },
  {
   "cell_type": "markdown",
   "metadata": {},
   "source": [
    "Imagine I create a service that, given the address, it returns me latitude and longitude as a tuple, i.e., `(lat, long)`"
   ]
  },
  {
   "cell_type": "code",
   "execution_count": 18,
   "metadata": {
    "ExecuteTime": {
     "end_time": "2022-01-11T10:45:30.010331Z",
     "start_time": "2022-01-11T10:45:29.995245Z"
    }
   },
   "outputs": [],
   "source": [
    "coords = (-23.561762, -46.660213)"
   ]
  },
  {
   "cell_type": "markdown",
   "metadata": {},
   "source": [
    "If I want to access the `latitude` (i.e., the first element):"
   ]
  },
  {
   "cell_type": "code",
   "execution_count": 19,
   "metadata": {
    "ExecuteTime": {
     "end_time": "2022-01-11T10:45:30.726252Z",
     "start_time": "2022-01-11T10:45:30.715252Z"
    }
   },
   "outputs": [
    {
     "data": {
      "text/plain": [
       "(-23.561762, -46.660213)"
      ]
     },
     "execution_count": 19,
     "metadata": {},
     "output_type": "execute_result"
    }
   ],
   "source": [
    "coords"
   ]
  },
  {
   "cell_type": "code",
   "execution_count": 20,
   "metadata": {
    "ExecuteTime": {
     "end_time": "2022-01-11T10:45:31.686414Z",
     "start_time": "2022-01-11T10:45:31.676421Z"
    }
   },
   "outputs": [
    {
     "data": {
      "text/plain": [
       "-23.561762"
      ]
     },
     "execution_count": 20,
     "metadata": {},
     "output_type": "execute_result"
    }
   ],
   "source": [
    "coords[0]"
   ]
  },
  {
   "cell_type": "code",
   "execution_count": 21,
   "metadata": {
    "ExecuteTime": {
     "end_time": "2022-01-11T10:45:32.252681Z",
     "start_time": "2022-01-11T10:45:32.234960Z"
    }
   },
   "outputs": [
    {
     "data": {
      "text/plain": [
       "-46.660213"
      ]
     },
     "execution_count": 21,
     "metadata": {},
     "output_type": "execute_result"
    }
   ],
   "source": [
    "coords[1]"
   ]
  },
  {
   "cell_type": "markdown",
   "metadata": {},
   "source": [
    "These are called `indices` (or `index`) "
   ]
  },
  {
   "cell_type": "code",
   "execution_count": 22,
   "metadata": {
    "ExecuteTime": {
     "end_time": "2022-01-11T10:46:58.224004Z",
     "start_time": "2022-01-11T10:46:58.212037Z"
    }
   },
   "outputs": [],
   "source": [
    "latitude = coords[0]"
   ]
  },
  {
   "cell_type": "code",
   "execution_count": 23,
   "metadata": {
    "ExecuteTime": {
     "end_time": "2022-01-11T10:46:58.617616Z",
     "start_time": "2022-01-11T10:46:58.603639Z"
    }
   },
   "outputs": [],
   "source": [
    "longitude = coords[1]"
   ]
  },
  {
   "cell_type": "code",
   "execution_count": 24,
   "metadata": {
    "ExecuteTime": {
     "end_time": "2022-01-11T10:46:59.058626Z",
     "start_time": "2022-01-11T10:46:59.054638Z"
    }
   },
   "outputs": [],
   "source": [
    "latitude, longitude = coords "
   ]
  },
  {
   "cell_type": "code",
   "execution_count": 25,
   "metadata": {
    "ExecuteTime": {
     "end_time": "2022-01-11T10:47:06.214609Z",
     "start_time": "2022-01-11T10:47:06.195660Z"
    }
   },
   "outputs": [
    {
     "data": {
      "text/plain": [
       "-46.660213"
      ]
     },
     "execution_count": 25,
     "metadata": {},
     "output_type": "execute_result"
    }
   ],
   "source": [
    "# think of tuples (and lists) as a circular element. \n",
    "# Accessing 0 returns the first element, 1 accesses the second element and so on\n",
    "# Accessing -1 returns the last element, -2 the second to last element and so on\n",
    "coords[-1]"
   ]
  },
  {
   "cell_type": "code",
   "execution_count": 26,
   "metadata": {
    "ExecuteTime": {
     "end_time": "2022-01-11T10:47:06.575479Z",
     "start_time": "2022-01-11T10:47:06.563950Z"
    },
    "scrolled": true
   },
   "outputs": [
    {
     "data": {
      "text/plain": [
       "-46.660213"
      ]
     },
     "execution_count": 26,
     "metadata": {},
     "output_type": "execute_result"
    }
   ],
   "source": [
    "coords[1]"
   ]
  },
  {
   "cell_type": "code",
   "execution_count": 27,
   "metadata": {
    "ExecuteTime": {
     "end_time": "2022-01-11T10:47:06.917077Z",
     "start_time": "2022-01-11T10:47:06.913087Z"
    }
   },
   "outputs": [
    {
     "data": {
      "text/plain": [
       "-46.660213"
      ]
     },
     "execution_count": 27,
     "metadata": {},
     "output_type": "execute_result"
    }
   ],
   "source": [
    "coords[len(coords)-1]"
   ]
  },
  {
   "cell_type": "code",
   "execution_count": 28,
   "metadata": {
    "ExecuteTime": {
     "end_time": "2022-01-11T10:47:12.252673Z",
     "start_time": "2022-01-11T10:47:12.234954Z"
    }
   },
   "outputs": [],
   "source": [
    "lista = list(range(560,15600,7))"
   ]
  },
  {
   "cell_type": "code",
   "execution_count": 29,
   "metadata": {
    "ExecuteTime": {
     "end_time": "2022-01-11T10:47:12.816877Z",
     "start_time": "2022-01-11T10:47:12.804121Z"
    }
   },
   "outputs": [
    {
     "data": {
      "text/plain": [
       "2148"
      ]
     },
     "execution_count": 29,
     "metadata": {},
     "output_type": "execute_result"
    }
   ],
   "source": [
    "len(lista)-1"
   ]
  },
  {
   "cell_type": "code",
   "execution_count": 30,
   "metadata": {
    "ExecuteTime": {
     "end_time": "2022-01-11T10:47:13.536610Z",
     "start_time": "2022-01-11T10:47:13.531625Z"
    }
   },
   "outputs": [
    {
     "data": {
      "text/plain": [
       "15596"
      ]
     },
     "execution_count": 30,
     "metadata": {},
     "output_type": "execute_result"
    }
   ],
   "source": [
    "lista[len(lista)-1]"
   ]
  },
  {
   "cell_type": "code",
   "execution_count": 113,
   "metadata": {
    "ExecuteTime": {
     "end_time": "2021-10-19T12:47:07.420868Z",
     "start_time": "2021-10-19T12:47:07.411912Z"
    }
   },
   "outputs": [
    {
     "data": {
      "text/plain": [
       "15596"
      ]
     },
     "execution_count": 113,
     "metadata": {},
     "output_type": "execute_result"
    }
   ],
   "source": [
    "lista[-1]"
   ]
  },
  {
   "cell_type": "markdown",
   "metadata": {},
   "source": [
    "## Running through a tuple"
   ]
  },
  {
   "cell_type": "markdown",
   "metadata": {},
   "source": [
    "Tuples and lists are what is called in Python **iterable**. It means you can run through it. \n",
    "\n",
    "The syntax is simple: \n",
    "\n",
    "```python\n",
    "my_tuple = (1, 5, 8)\n",
    "\n",
    "for element in my_tuple:\n",
    "    # now you have access to each element\n",
    "    print(element)\n",
    "\n",
    "# Output\n",
    "1\n",
    "5\n",
    "8\n",
    "```\n"
   ]
  },
  {
   "cell_type": "markdown",
   "metadata": {},
   "source": [
    "What a loop like below\n",
    "```python\n",
    "coords = (-23.561762, -46.660213)\n",
    "\n",
    "for i in coords:\n",
    "    print(i)\n",
    "```\n",
    "\n",
    "is effectively doing is:\n",
    "    \n",
    "```python\n",
    "coords = (-23.561762, -46.660213)\n",
    "\n",
    "# first step of the loop\n",
    "i = coords[0]\n",
    "print(i)\n",
    "# second step of the loop\n",
    "i = coords[1]\n",
    "print(i)\n",
    "```\n",
    "\n",
    "which expands to the following:\n",
    "\n",
    "```python\n",
    "coords = (-23.561762, -46.660213)\n",
    "\n",
    "# first step of the loop\n",
    "i = -23.561762\n",
    "print(i)\n",
    "# second step of the loop\n",
    "i = -46.660213\n",
    "print(i)\n",
    "```"
   ]
  },
  {
   "cell_type": "code",
   "execution_count": 116,
   "metadata": {
    "ExecuteTime": {
     "end_time": "2021-10-19T12:52:09.763574Z",
     "start_time": "2021-10-19T12:52:09.746619Z"
    }
   },
   "outputs": [
    {
     "name": "stdout",
     "output_type": "stream",
     "text": [
      "-23.561762\n",
      "-46.660213\n"
     ]
    }
   ],
   "source": [
    "for each_coord in coords:\n",
    "    print(each_coord)"
   ]
  },
  {
   "cell_type": "code",
   "execution_count": 121,
   "metadata": {
    "ExecuteTime": {
     "end_time": "2021-10-19T12:56:41.062926Z",
     "start_time": "2021-10-19T12:56:41.050958Z"
    }
   },
   "outputs": [],
   "source": [
    "coords = (-23.561762, -46.660213)"
   ]
  },
  {
   "cell_type": "code",
   "execution_count": 32,
   "metadata": {
    "ExecuteTime": {
     "end_time": "2022-01-11T11:00:15.709214Z",
     "start_time": "2022-01-11T11:00:15.692726Z"
    }
   },
   "outputs": [
    {
     "name": "stdout",
     "output_type": "stream",
     "text": [
      "-23.561762\n",
      "100000000\n",
      "(-23.561762, -46.660213)\n",
      "-46.660213\n",
      "100000000\n",
      "(-23.561762, -46.660213)\n"
     ]
    }
   ],
   "source": [
    "for each_coord in coords:\n",
    "    # each_coord = coords[0]\n",
    "    print(each_coord)\n",
    "    each_coord = 100000000\n",
    "    print(each_coord)\n",
    "    print(coords)"
   ]
  },
  {
   "cell_type": "code",
   "execution_count": 31,
   "metadata": {
    "ExecuteTime": {
     "end_time": "2022-01-11T10:55:36.841396Z",
     "start_time": "2022-01-11T10:55:36.827895Z"
    },
    "cell_style": "center"
   },
   "outputs": [
    {
     "name": "stdout",
     "output_type": "stream",
     "text": [
      "0\n"
     ]
    },
    {
     "ename": "TypeError",
     "evalue": "'tuple' object does not support item assignment",
     "output_type": "error",
     "traceback": [
      "\u001b[1;31m---------------------------------------------------------------------------\u001b[0m",
      "\u001b[1;31mTypeError\u001b[0m                                 Traceback (most recent call last)",
      "\u001b[1;32m<ipython-input-31-61e6017cd11c>\u001b[0m in \u001b[0;36m<module>\u001b[1;34m\u001b[0m\n\u001b[0;32m      1\u001b[0m \u001b[1;32mfor\u001b[0m \u001b[0mindex\u001b[0m \u001b[1;32min\u001b[0m \u001b[0mrange\u001b[0m\u001b[1;33m(\u001b[0m\u001b[0mlen\u001b[0m\u001b[1;33m(\u001b[0m\u001b[0mcoords\u001b[0m\u001b[1;33m)\u001b[0m\u001b[1;33m)\u001b[0m\u001b[1;33m:\u001b[0m\u001b[1;33m\u001b[0m\u001b[1;33m\u001b[0m\u001b[0m\n\u001b[0;32m      2\u001b[0m     \u001b[0mprint\u001b[0m\u001b[1;33m(\u001b[0m\u001b[0mindex\u001b[0m\u001b[1;33m)\u001b[0m\u001b[1;33m\u001b[0m\u001b[1;33m\u001b[0m\u001b[0m\n\u001b[1;32m----> 3\u001b[1;33m     \u001b[0mcoords\u001b[0m\u001b[1;33m[\u001b[0m\u001b[0mindex\u001b[0m\u001b[1;33m]\u001b[0m \u001b[1;33m=\u001b[0m \u001b[1;36m100000\u001b[0m\u001b[1;33m\u001b[0m\u001b[1;33m\u001b[0m\u001b[0m\n\u001b[0m\u001b[0;32m      4\u001b[0m     \u001b[0mprint\u001b[0m\u001b[1;33m(\u001b[0m\u001b[0mindex\u001b[0m\u001b[1;33m)\u001b[0m\u001b[1;33m\u001b[0m\u001b[1;33m\u001b[0m\u001b[0m\n\u001b[0;32m      5\u001b[0m     \u001b[0mprint\u001b[0m\u001b[1;33m(\u001b[0m\u001b[0mlist_coords\u001b[0m\u001b[1;33m)\u001b[0m\u001b[1;33m\u001b[0m\u001b[1;33m\u001b[0m\u001b[0m\n",
      "\u001b[1;31mTypeError\u001b[0m: 'tuple' object does not support item assignment"
     ]
    }
   ],
   "source": [
    "# will raise an error\n",
    "for index in range(len(coords)):\n",
    "    print(index)\n",
    "    coords[index] = 100000\n",
    "    print(index)\n",
    "    print(list_coords)"
   ]
  },
  {
   "cell_type": "code",
   "execution_count": null,
   "metadata": {},
   "outputs": [],
   "source": [
    "## tuples are immutable"
   ]
  },
  {
   "cell_type": "code",
   "execution_count": 33,
   "metadata": {
    "ExecuteTime": {
     "end_time": "2022-01-11T11:01:23.161615Z",
     "start_time": "2022-01-11T11:01:23.147008Z"
    }
   },
   "outputs": [
    {
     "name": "stdout",
     "output_type": "stream",
     "text": [
      "-23.561762\n",
      "-46.660213\n"
     ]
    }
   ],
   "source": [
    "# you can use any name to perform a loop through an iterable.\n",
    "# usually you want to give names that means something\n",
    "for banana in coords:\n",
    "    print(banana)"
   ]
  },
  {
   "cell_type": "markdown",
   "metadata": {},
   "source": [
    "## Tuple methods\n",
    "\n",
    "- `count`: returns the number of occurences of the value you specify \n",
    "- `index`: returns the first index of the value you specify"
   ]
  },
  {
   "cell_type": "code",
   "execution_count": 34,
   "metadata": {
    "ExecuteTime": {
     "end_time": "2022-01-11T11:01:31.427701Z",
     "start_time": "2022-01-11T11:01:31.411743Z"
    }
   },
   "outputs": [],
   "source": [
    "y = (1,3,7,4,6,3,8,8,-5)"
   ]
  },
  {
   "cell_type": "code",
   "execution_count": 35,
   "metadata": {
    "ExecuteTime": {
     "end_time": "2022-01-11T11:01:33.240837Z",
     "start_time": "2022-01-11T11:01:33.234857Z"
    }
   },
   "outputs": [
    {
     "data": {
      "text/plain": [
       "2"
      ]
     },
     "execution_count": 35,
     "metadata": {},
     "output_type": "execute_result"
    }
   ],
   "source": [
    "y.count(3)"
   ]
  },
  {
   "cell_type": "code",
   "execution_count": 36,
   "metadata": {
    "ExecuteTime": {
     "end_time": "2022-01-11T11:01:39.681570Z",
     "start_time": "2022-01-11T11:01:39.674588Z"
    },
    "scrolled": true
   },
   "outputs": [
    {
     "data": {
      "text/plain": [
       "0"
      ]
     },
     "execution_count": 36,
     "metadata": {},
     "output_type": "execute_result"
    }
   ],
   "source": [
    "y.count('a')"
   ]
  },
  {
   "cell_type": "code",
   "execution_count": 145,
   "metadata": {
    "ExecuteTime": {
     "end_time": "2021-10-19T13:35:28.278234Z",
     "start_time": "2021-10-19T13:35:28.266266Z"
    }
   },
   "outputs": [
    {
     "data": {
      "text/plain": [
       "(1, 3, 7, 4, 6, 3, 8, 8)"
      ]
     },
     "execution_count": 145,
     "metadata": {},
     "output_type": "execute_result"
    }
   ],
   "source": [
    "y"
   ]
  },
  {
   "cell_type": "code",
   "execution_count": 37,
   "metadata": {
    "ExecuteTime": {
     "end_time": "2022-01-11T11:01:49.198090Z",
     "start_time": "2022-01-11T11:01:49.187460Z"
    },
    "scrolled": true
   },
   "outputs": [
    {
     "data": {
      "text/plain": [
       "2"
      ]
     },
     "execution_count": 37,
     "metadata": {},
     "output_type": "execute_result"
    }
   ],
   "source": [
    "y.index(7)"
   ]
  },
  {
   "cell_type": "code",
   "execution_count": 38,
   "metadata": {
    "ExecuteTime": {
     "end_time": "2022-01-11T11:01:51.856081Z",
     "start_time": "2022-01-11T11:01:51.842810Z"
    },
    "scrolled": true
   },
   "outputs": [
    {
     "data": {
      "text/plain": [
       "7"
      ]
     },
     "execution_count": 38,
     "metadata": {},
     "output_type": "execute_result"
    }
   ],
   "source": [
    "y[2]"
   ]
  },
  {
   "cell_type": "code",
   "execution_count": 39,
   "metadata": {
    "ExecuteTime": {
     "end_time": "2022-01-11T11:01:53.547598Z",
     "start_time": "2022-01-11T11:01:53.532614Z"
    }
   },
   "outputs": [
    {
     "data": {
      "text/plain": [
       "7"
      ]
     },
     "execution_count": 39,
     "metadata": {},
     "output_type": "execute_result"
    }
   ],
   "source": [
    "y[y.index(7)]"
   ]
  },
  {
   "cell_type": "code",
   "execution_count": 40,
   "metadata": {
    "ExecuteTime": {
     "end_time": "2022-01-11T11:01:58.162030Z",
     "start_time": "2022-01-11T11:01:58.153055Z"
    }
   },
   "outputs": [
    {
     "data": {
      "text/plain": [
       "(1, 3, 7, 4, 6, 3, 8, 8, -5)"
      ]
     },
     "execution_count": 40,
     "metadata": {},
     "output_type": "execute_result"
    }
   ],
   "source": [
    "y"
   ]
  },
  {
   "cell_type": "code",
   "execution_count": 41,
   "metadata": {
    "ExecuteTime": {
     "end_time": "2022-01-11T11:01:58.942118Z",
     "start_time": "2022-01-11T11:01:58.930151Z"
    }
   },
   "outputs": [
    {
     "data": {
      "text/plain": [
       "1"
      ]
     },
     "execution_count": 41,
     "metadata": {},
     "output_type": "execute_result"
    }
   ],
   "source": [
    "y.index(3)"
   ]
  },
  {
   "cell_type": "code",
   "execution_count": 48,
   "metadata": {
    "ExecuteTime": {
     "end_time": "2022-01-11T11:03:12.882856Z",
     "start_time": "2022-01-11T11:03:12.865871Z"
    }
   },
   "outputs": [
    {
     "data": {
      "text/plain": [
       "3"
      ]
     },
     "execution_count": 48,
     "metadata": {},
     "output_type": "execute_result"
    }
   ],
   "source": [
    "'Uma frase'.index(' ')"
   ]
  },
  {
   "cell_type": "markdown",
   "metadata": {},
   "source": [
    "## Built in functions - `sorted()`\n",
    "\n",
    "- Sort a tuple (or any **iterable** actually)"
   ]
  },
  {
   "cell_type": "code",
   "execution_count": 168,
   "metadata": {
    "ExecuteTime": {
     "end_time": "2021-10-19T13:47:59.851007Z",
     "start_time": "2021-10-19T13:47:59.833067Z"
    }
   },
   "outputs": [
    {
     "data": {
      "text/plain": [
       "(1, 3, 7, 4, 6, 3, 8, 8)"
      ]
     },
     "execution_count": 168,
     "metadata": {},
     "output_type": "execute_result"
    }
   ],
   "source": [
    "y"
   ]
  },
  {
   "cell_type": "code",
   "execution_count": 173,
   "metadata": {
    "ExecuteTime": {
     "end_time": "2021-10-19T13:50:02.059503Z",
     "start_time": "2021-10-19T13:50:02.040554Z"
    }
   },
   "outputs": [
    {
     "data": {
      "text/plain": [
       "[1, 3, 3, 4, 6, 7, 8, 8]"
      ]
     },
     "execution_count": 173,
     "metadata": {},
     "output_type": "execute_result"
    }
   ],
   "source": [
    "sorted(y)"
   ]
  },
  {
   "cell_type": "code",
   "execution_count": 25,
   "metadata": {
    "ExecuteTime": {
     "end_time": "2021-10-19T11:44:28.150645Z",
     "start_time": "2021-10-19T11:44:28.141670Z"
    }
   },
   "outputs": [
    {
     "data": {
      "text/plain": [
       "(1, 3, 7, 4, 6, 3, 8, 8)"
      ]
     },
     "execution_count": 25,
     "metadata": {},
     "output_type": "execute_result"
    }
   ],
   "source": [
    "y"
   ]
  },
  {
   "cell_type": "code",
   "execution_count": 174,
   "metadata": {
    "ExecuteTime": {
     "end_time": "2021-10-19T13:51:09.721179Z",
     "start_time": "2021-10-19T13:51:09.705242Z"
    },
    "scrolled": true
   },
   "outputs": [
    {
     "data": {
      "text/plain": [
       "[' ', 'U', 'a', 'a', 'e', 'f', 'm', 'r', 's']"
      ]
     },
     "execution_count": 174,
     "metadata": {},
     "output_type": "execute_result"
    }
   ],
   "source": [
    "sorted('Uma frase')"
   ]
  },
  {
   "cell_type": "code",
   "execution_count": 49,
   "metadata": {
    "ExecuteTime": {
     "end_time": "2022-01-11T11:07:11.376375Z",
     "start_time": "2022-01-11T11:07:11.362378Z"
    }
   },
   "outputs": [],
   "source": [
    "x=[1,7,2,3,4]\n",
    "x.sort()"
   ]
  },
  {
   "cell_type": "code",
   "execution_count": 50,
   "metadata": {
    "ExecuteTime": {
     "end_time": "2022-01-11T11:07:12.606205Z",
     "start_time": "2022-01-11T11:07:12.593210Z"
    }
   },
   "outputs": [
    {
     "data": {
      "text/plain": [
       "[1, 2, 3, 4, 7]"
      ]
     },
     "execution_count": 50,
     "metadata": {},
     "output_type": "execute_result"
    }
   ],
   "source": [
    "x"
   ]
  },
  {
   "cell_type": "code",
   "execution_count": 51,
   "metadata": {
    "ExecuteTime": {
     "end_time": "2022-01-11T11:07:16.297467Z",
     "start_time": "2022-01-11T11:07:16.284118Z"
    },
    "scrolled": true
   },
   "outputs": [
    {
     "ename": "AttributeError",
     "evalue": "'tuple' object has no attribute 'sort'",
     "output_type": "error",
     "traceback": [
      "\u001b[1;31m---------------------------------------------------------------------------\u001b[0m",
      "\u001b[1;31mAttributeError\u001b[0m                            Traceback (most recent call last)",
      "\u001b[1;32m<ipython-input-51-a65c6cb3e953>\u001b[0m in \u001b[0;36m<module>\u001b[1;34m\u001b[0m\n\u001b[1;32m----> 1\u001b[1;33m \u001b[0my\u001b[0m\u001b[1;33m.\u001b[0m\u001b[0msort\u001b[0m\u001b[1;33m(\u001b[0m\u001b[1;33m)\u001b[0m\u001b[1;33m\u001b[0m\u001b[1;33m\u001b[0m\u001b[0m\n\u001b[0m",
      "\u001b[1;31mAttributeError\u001b[0m: 'tuple' object has no attribute 'sort'"
     ]
    }
   ],
   "source": [
    "y.sort()"
   ]
  },
  {
   "cell_type": "code",
   "execution_count": 52,
   "metadata": {
    "ExecuteTime": {
     "end_time": "2022-01-11T11:07:18.930211Z",
     "start_time": "2022-01-11T11:07:18.921724Z"
    }
   },
   "outputs": [],
   "source": [
    "y = tuple(sorted(y))"
   ]
  },
  {
   "cell_type": "markdown",
   "metadata": {},
   "source": [
    "## Slicing\n",
    "\n",
    "`Slicing` means: take a part specific `part`/`sequence` of elements\n",
    "\n",
    "Slices have a syntax of `[starting_index:ending_index]`"
   ]
  },
  {
   "cell_type": "code",
   "execution_count": 181,
   "metadata": {
    "ExecuteTime": {
     "end_time": "2021-10-19T14:00:10.490472Z",
     "start_time": "2021-10-19T14:00:10.480498Z"
    }
   },
   "outputs": [
    {
     "data": {
      "text/plain": [
       "(9, 8, 5, 6, 10, 8, 10)"
      ]
     },
     "execution_count": 181,
     "metadata": {},
     "output_type": "execute_result"
    }
   ],
   "source": [
    "grades = (9,8,5,6,10,8,10)\n",
    "grades"
   ]
  },
  {
   "cell_type": "code",
   "execution_count": 31,
   "metadata": {
    "ExecuteTime": {
     "end_time": "2021-10-19T11:48:10.594368Z",
     "start_time": "2021-10-19T11:48:10.581403Z"
    }
   },
   "outputs": [
    {
     "data": {
      "text/plain": [
       "9"
      ]
     },
     "execution_count": 31,
     "metadata": {},
     "output_type": "execute_result"
    }
   ],
   "source": [
    "grades[0]"
   ]
  },
  {
   "cell_type": "code",
   "execution_count": 32,
   "metadata": {
    "ExecuteTime": {
     "end_time": "2021-10-19T11:48:10.948770Z",
     "start_time": "2021-10-19T11:48:10.942787Z"
    },
    "scrolled": true
   },
   "outputs": [
    {
     "data": {
      "text/plain": [
       "10"
      ]
     },
     "execution_count": 32,
     "metadata": {},
     "output_type": "execute_result"
    }
   ],
   "source": [
    "grades[-1]"
   ]
  },
  {
   "cell_type": "code",
   "execution_count": 33,
   "metadata": {
    "ExecuteTime": {
     "end_time": "2021-10-19T11:48:11.211873Z",
     "start_time": "2021-10-19T11:48:11.205890Z"
    }
   },
   "outputs": [
    {
     "data": {
      "text/plain": [
       "5"
      ]
     },
     "execution_count": 33,
     "metadata": {},
     "output_type": "execute_result"
    }
   ],
   "source": [
    "grades[2]"
   ]
  },
  {
   "cell_type": "code",
   "execution_count": 34,
   "metadata": {
    "ExecuteTime": {
     "end_time": "2021-10-19T11:48:11.738714Z",
     "start_time": "2021-10-19T11:48:11.725749Z"
    }
   },
   "outputs": [
    {
     "data": {
      "text/plain": [
       "(9, 8, 5, 6, 10, 8, 10)"
      ]
     },
     "execution_count": 34,
     "metadata": {},
     "output_type": "execute_result"
    }
   ],
   "source": [
    "grades"
   ]
  },
  {
   "cell_type": "code",
   "execution_count": 183,
   "metadata": {
    "ExecuteTime": {
     "end_time": "2021-10-19T14:02:01.407796Z",
     "start_time": "2021-10-19T14:02:01.399799Z"
    }
   },
   "outputs": [
    {
     "data": {
      "text/plain": [
       "(5, 6, 10, 8)"
      ]
     },
     "execution_count": 183,
     "metadata": {},
     "output_type": "execute_result"
    }
   ],
   "source": [
    "# quero pegar do 5 ao 8 (do indice do ao indice 5)\n",
    "# [2, 6) -> indexes 2,4,5\n",
    "\n"
   ]
  },
  {
   "cell_type": "code",
   "execution_count": 185,
   "metadata": {
    "ExecuteTime": {
     "end_time": "2021-10-19T14:03:18.086906Z",
     "start_time": "2021-10-19T14:03:18.071953Z"
    }
   },
   "outputs": [
    {
     "data": {
      "text/plain": [
       "(5, 6, 10, 8, 10)"
      ]
     },
     "execution_count": 185,
     "metadata": {},
     "output_type": "execute_result"
    }
   ],
   "source": [
    "# do 5 em diante (ou do terceiro índice em diante)\n",
    "#grades[2:7]"
   ]
  },
  {
   "cell_type": "code",
   "execution_count": 189,
   "metadata": {
    "ExecuteTime": {
     "end_time": "2021-10-19T14:05:13.303455Z",
     "start_time": "2021-10-19T14:05:13.295476Z"
    },
    "scrolled": true
   },
   "outputs": [
    {
     "data": {
      "text/plain": [
       "(9, 8, 5)"
      ]
     },
     "execution_count": 189,
     "metadata": {},
     "output_type": "execute_result"
    }
   ],
   "source": [
    "# do 5 pra tras (do terceiro indice pra trás)\n",
    "grades[:3]\n",
    "grades[0:3]"
   ]
  },
  {
   "cell_type": "code",
   "execution_count": 53,
   "metadata": {
    "ExecuteTime": {
     "end_time": "2022-01-11T11:08:31.991540Z",
     "start_time": "2022-01-11T11:08:31.984559Z"
    }
   },
   "outputs": [
    {
     "data": {
      "text/plain": [
       "[5, 7, 9]"
      ]
     },
     "execution_count": 53,
     "metadata": {},
     "output_type": "execute_result"
    }
   ],
   "source": [
    "list(range(5,10,2))"
   ]
  },
  {
   "cell_type": "code",
   "execution_count": 197,
   "metadata": {
    "ExecuteTime": {
     "end_time": "2021-10-19T14:07:06.218074Z",
     "start_time": "2021-10-19T14:07:06.209098Z"
    }
   },
   "outputs": [
    {
     "data": {
      "text/plain": [
       "(9, 5, 10, 10)"
      ]
     },
     "execution_count": 197,
     "metadata": {},
     "output_type": "execute_result"
    }
   ],
   "source": [
    "grades[0:len(grades):2]\n",
    "grades[::2]"
   ]
  },
  {
   "cell_type": "code",
   "execution_count": 204,
   "metadata": {
    "ExecuteTime": {
     "end_time": "2021-10-19T14:09:00.852007Z",
     "start_time": "2021-10-19T14:09:00.848018Z"
    }
   },
   "outputs": [
    {
     "data": {
      "text/plain": [
       "(10, 8, 10, 6, 5, 8, 9)"
      ]
     },
     "execution_count": 204,
     "metadata": {},
     "output_type": "execute_result"
    }
   ],
   "source": [
    "grades[::-1]"
   ]
  },
  {
   "cell_type": "code",
   "execution_count": 101,
   "metadata": {
    "ExecuteTime": {
     "end_time": "2021-03-23T13:26:45.867557Z",
     "start_time": "2021-03-23T13:26:45.854593Z"
    }
   },
   "outputs": [
    {
     "data": {
      "text/plain": [
       "(9, 8, 5, 6, 10, 8, 10)"
      ]
     },
     "execution_count": 101,
     "metadata": {},
     "output_type": "execute_result"
    }
   ],
   "source": [
    "grades"
   ]
  },
  {
   "cell_type": "code",
   "execution_count": 111,
   "metadata": {
    "ExecuteTime": {
     "end_time": "2021-08-10T13:42:17.572008Z",
     "start_time": "2021-08-10T13:42:17.559815Z"
    }
   },
   "outputs": [
    {
     "data": {
      "text/plain": [
       "(10, 8, 10, 6, 5, 8, 9)"
      ]
     },
     "execution_count": 111,
     "metadata": {},
     "output_type": "execute_result"
    }
   ],
   "source": [
    "list_grades = list(grades)\n",
    "list_grades.reverse()\n",
    "reverse_grades = tuple(list_grades)\n",
    "reverse_grades"
   ]
  },
  {
   "cell_type": "markdown",
   "metadata": {},
   "source": [
    "-----"
   ]
  },
  {
   "cell_type": "markdown",
   "metadata": {},
   "source": [
    "# DICT's"
   ]
  },
  {
   "cell_type": "markdown",
   "metadata": {},
   "source": [
    "## What is a dictionary?"
   ]
  },
  {
   "cell_type": "markdown",
   "metadata": {},
   "source": [
    "In real life, we use it to find the `description of something`."
   ]
  },
  {
   "cell_type": "markdown",
   "metadata": {},
   "source": [
    "## What are keys and values?"
   ]
  },
  {
   "cell_type": "markdown",
   "metadata": {},
   "source": [
    "`keys`: it is the `something`\n",
    "\n",
    "`values`: it is the `description` of something"
   ]
  },
  {
   "cell_type": "markdown",
   "metadata": {},
   "source": [
    "## Creating a dictionary\n",
    "\n",
    "- Syntax of a dictionary `{key: value}`"
   ]
  },
  {
   "cell_type": "code",
   "execution_count": 4,
   "metadata": {
    "ExecuteTime": {
     "end_time": "2022-01-11T11:12:59.928508Z",
     "start_time": "2022-01-11T11:12:59.914595Z"
    }
   },
   "outputs": [],
   "source": [
    "my_dict={}"
   ]
  },
  {
   "cell_type": "code",
   "execution_count": 5,
   "metadata": {
    "ExecuteTime": {
     "end_time": "2022-01-11T11:13:00.239468Z",
     "start_time": "2022-01-11T11:13:00.227935Z"
    }
   },
   "outputs": [
    {
     "data": {
      "text/plain": [
       "dict"
      ]
     },
     "execution_count": 5,
     "metadata": {},
     "output_type": "execute_result"
    }
   ],
   "source": [
    "type(my_dict)"
   ]
  },
  {
   "cell_type": "code",
   "execution_count": 6,
   "metadata": {
    "ExecuteTime": {
     "end_time": "2022-01-11T11:13:00.507229Z",
     "start_time": "2022-01-11T11:13:00.496259Z"
    }
   },
   "outputs": [],
   "source": [
    "# curly braces {key:value}\n",
    "my_dict = {'raiana' : 'lead-teacher',\n",
    "           'raiana' : 'outra coisa'}"
   ]
  },
  {
   "cell_type": "code",
   "execution_count": 7,
   "metadata": {
    "ExecuteTime": {
     "end_time": "2022-01-11T11:13:00.742139Z",
     "start_time": "2022-01-11T11:13:00.731169Z"
    }
   },
   "outputs": [
    {
     "data": {
      "text/plain": [
       "{'raiana': 'outra coisa'}"
      ]
     },
     "execution_count": 7,
     "metadata": {},
     "output_type": "execute_result"
    }
   ],
   "source": [
    "my_dict"
   ]
  },
  {
   "cell_type": "code",
   "execution_count": 8,
   "metadata": {
    "ExecuteTime": {
     "end_time": "2022-01-11T11:13:00.962314Z",
     "start_time": "2022-01-11T11:13:00.954826Z"
    }
   },
   "outputs": [
    {
     "data": {
      "text/plain": [
       "dict"
      ]
     },
     "execution_count": 8,
     "metadata": {},
     "output_type": "execute_result"
    }
   ],
   "source": [
    "type(my_dict)"
   ]
  },
  {
   "cell_type": "markdown",
   "metadata": {},
   "source": [
    "## <u>Accessing</u> a dictionary value:"
   ]
  },
  {
   "cell_type": "markdown",
   "metadata": {},
   "source": [
    "- o índice de um dicionário é genérico, é você quem decide."
   ]
  },
  {
   "cell_type": "code",
   "execution_count": 9,
   "metadata": {
    "ExecuteTime": {
     "end_time": "2022-01-11T11:13:01.613131Z",
     "start_time": "2022-01-11T11:13:01.599882Z"
    }
   },
   "outputs": [
    {
     "name": "stdout",
     "output_type": "stream",
     "text": [
      "outra coisa\n"
     ]
    }
   ],
   "source": [
    "print(my_dict['raiana'])"
   ]
  },
  {
   "cell_type": "markdown",
   "metadata": {},
   "source": [
    "## Creating new items for your dictionary"
   ]
  },
  {
   "cell_type": "code",
   "execution_count": 10,
   "metadata": {
    "ExecuteTime": {
     "end_time": "2022-01-11T11:13:02.070243Z",
     "start_time": "2022-01-11T11:13:02.065258Z"
    },
    "scrolled": false
   },
   "outputs": [
    {
     "data": {
      "text/plain": [
       "{'raiana': 'outra coisa'}"
      ]
     },
     "execution_count": 10,
     "metadata": {},
     "output_type": "execute_result"
    }
   ],
   "source": [
    "my_dict"
   ]
  },
  {
   "cell_type": "code",
   "execution_count": 11,
   "metadata": {
    "ExecuteTime": {
     "end_time": "2022-01-11T11:13:02.319169Z",
     "start_time": "2022-01-11T11:13:02.303698Z"
    }
   },
   "outputs": [
    {
     "ename": "KeyError",
     "evalue": "'joao'",
     "output_type": "error",
     "traceback": [
      "\u001b[1;31m---------------------------------------------------------------------------\u001b[0m",
      "\u001b[1;31mKeyError\u001b[0m                                  Traceback (most recent call last)",
      "\u001b[1;32m~\\AppData\\Local\\Temp/ipykernel_16412/2508976704.py\u001b[0m in \u001b[0;36m<module>\u001b[1;34m\u001b[0m\n\u001b[1;32m----> 1\u001b[1;33m \u001b[0mmy_dict\u001b[0m\u001b[1;33m[\u001b[0m\u001b[1;34m'joao'\u001b[0m\u001b[1;33m]\u001b[0m\u001b[1;33m\u001b[0m\u001b[1;33m\u001b[0m\u001b[0m\n\u001b[0m",
      "\u001b[1;31mKeyError\u001b[0m: 'joao'"
     ]
    }
   ],
   "source": [
    "my_dict['joao']"
   ]
  },
  {
   "cell_type": "code",
   "execution_count": 12,
   "metadata": {
    "ExecuteTime": {
     "end_time": "2022-01-11T11:13:02.569603Z",
     "start_time": "2022-01-11T11:13:02.554644Z"
    }
   },
   "outputs": [],
   "source": [
    "# by accessing a non-existent key and then assigning a value\n",
    "\n",
    "my_dict['joao'] = 10"
   ]
  },
  {
   "cell_type": "code",
   "execution_count": 13,
   "metadata": {
    "ExecuteTime": {
     "end_time": "2022-01-11T11:13:02.821316Z",
     "start_time": "2022-01-11T11:13:02.803352Z"
    }
   },
   "outputs": [
    {
     "data": {
      "text/plain": [
       "{'raiana': 'outra coisa', 'joao': 10}"
      ]
     },
     "execution_count": 13,
     "metadata": {},
     "output_type": "execute_result"
    }
   ],
   "source": [
    "my_dict"
   ]
  },
  {
   "cell_type": "code",
   "execution_count": 14,
   "metadata": {
    "ExecuteTime": {
     "end_time": "2022-01-11T11:13:03.071155Z",
     "start_time": "2022-01-11T11:13:03.066168Z"
    }
   },
   "outputs": [
    {
     "data": {
      "text/plain": [
       "10"
      ]
     },
     "execution_count": 14,
     "metadata": {},
     "output_type": "execute_result"
    }
   ],
   "source": [
    "my_dict['joao']"
   ]
  },
  {
   "cell_type": "code",
   "execution_count": 15,
   "metadata": {
    "ExecuteTime": {
     "end_time": "2022-01-11T11:13:03.337884Z",
     "start_time": "2022-01-11T11:13:03.327911Z"
    }
   },
   "outputs": [],
   "source": [
    "my_dict[3] = 'bla'"
   ]
  },
  {
   "cell_type": "code",
   "execution_count": 16,
   "metadata": {
    "ExecuteTime": {
     "end_time": "2022-01-11T11:13:03.619730Z",
     "start_time": "2022-01-11T11:13:03.612243Z"
    }
   },
   "outputs": [
    {
     "data": {
      "text/plain": [
       "{'raiana': 'outra coisa', 'joao': 10, 3: 'bla'}"
      ]
     },
     "execution_count": 16,
     "metadata": {},
     "output_type": "execute_result"
    }
   ],
   "source": [
    "my_dict"
   ]
  },
  {
   "cell_type": "code",
   "execution_count": 17,
   "metadata": {
    "ExecuteTime": {
     "end_time": "2022-01-11T11:13:03.913064Z",
     "start_time": "2022-01-11T11:13:03.896110Z"
    }
   },
   "outputs": [],
   "source": [
    "# using `.update()` function containing a new dict inside\n",
    "my_dict.update({'jose': 'student','maria':'uhuul', 'raiana':'fazendeira','resultado':9/3})"
   ]
  },
  {
   "cell_type": "code",
   "execution_count": 18,
   "metadata": {
    "ExecuteTime": {
     "end_time": "2022-01-11T11:13:04.273482Z",
     "start_time": "2022-01-11T11:13:04.264996Z"
    }
   },
   "outputs": [
    {
     "data": {
      "text/plain": [
       "{'raiana': 'fazendeira',\n",
       " 'joao': 10,\n",
       " 3: 'bla',\n",
       " 'jose': 'student',\n",
       " 'maria': 'uhuul',\n",
       " 'resultado': 3.0}"
      ]
     },
     "execution_count": 18,
     "metadata": {},
     "output_type": "execute_result"
    }
   ],
   "source": [
    "my_dict"
   ]
  },
  {
   "cell_type": "code",
   "execution_count": 19,
   "metadata": {
    "ExecuteTime": {
     "end_time": "2022-01-11T11:13:04.915141Z",
     "start_time": "2022-01-11T11:13:04.898895Z"
    }
   },
   "outputs": [],
   "source": [
    "my_dict['joao']='dono da lojinha'"
   ]
  },
  {
   "cell_type": "code",
   "execution_count": 20,
   "metadata": {
    "ExecuteTime": {
     "end_time": "2022-01-11T11:13:05.430268Z",
     "start_time": "2022-01-11T11:13:05.423780Z"
    }
   },
   "outputs": [],
   "source": [
    "nomes=['felipe','leo','joana','maria','rosa']\n",
    "func=['sei la','prof','nunca soube','nem sei','mae']"
   ]
  },
  {
   "cell_type": "code",
   "execution_count": 21,
   "metadata": {
    "ExecuteTime": {
     "end_time": "2022-01-11T11:13:05.805050Z",
     "start_time": "2022-01-11T11:13:05.787099Z"
    }
   },
   "outputs": [],
   "source": [
    "for i in range(len(nomes)):\n",
    "    my_dict[nomes[i]]=func[i]\n",
    "#i = 0\n",
    "#my_dict[nomes[0]] = func[0]\n",
    "#my_dict['felipe'] = 'sei la'"
   ]
  },
  {
   "cell_type": "code",
   "execution_count": 22,
   "metadata": {
    "ExecuteTime": {
     "end_time": "2022-01-11T11:13:06.113760Z",
     "start_time": "2022-01-11T11:13:06.103787Z"
    }
   },
   "outputs": [],
   "source": [
    "my_dict.update(zip(nomes,func))"
   ]
  },
  {
   "cell_type": "code",
   "execution_count": 23,
   "metadata": {
    "ExecuteTime": {
     "end_time": "2022-01-11T11:13:06.363134Z",
     "start_time": "2022-01-11T11:13:06.352130Z"
    }
   },
   "outputs": [
    {
     "data": {
      "text/plain": [
       "{'raiana': 'fazendeira',\n",
       " 'joao': 'dono da lojinha',\n",
       " 3: 'bla',\n",
       " 'jose': 'student',\n",
       " 'maria': 'nem sei',\n",
       " 'resultado': 3.0,\n",
       " 'felipe': 'sei la',\n",
       " 'leo': 'prof',\n",
       " 'joana': 'nunca soube',\n",
       " 'rosa': 'mae'}"
      ]
     },
     "execution_count": 23,
     "metadata": {},
     "output_type": "execute_result"
    }
   ],
   "source": [
    "my_dict"
   ]
  },
  {
   "cell_type": "markdown",
   "metadata": {},
   "source": [
    "## A value can be anything"
   ]
  },
  {
   "cell_type": "code",
   "execution_count": 24,
   "metadata": {
    "ExecuteTime": {
     "end_time": "2022-01-11T11:13:06.919902Z",
     "start_time": "2022-01-11T11:13:06.907176Z"
    }
   },
   "outputs": [],
   "source": [
    "my_dict['maria'] = [10, 30]"
   ]
  },
  {
   "cell_type": "code",
   "execution_count": 25,
   "metadata": {
    "ExecuteTime": {
     "end_time": "2022-01-11T11:13:07.200105Z",
     "start_time": "2022-01-11T11:13:07.188154Z"
    }
   },
   "outputs": [
    {
     "data": {
      "text/plain": [
       "{'raiana': 'fazendeira',\n",
       " 'joao': 'dono da lojinha',\n",
       " 3: 'bla',\n",
       " 'jose': 'student',\n",
       " 'maria': [10, 30],\n",
       " 'resultado': 3.0,\n",
       " 'felipe': 'sei la',\n",
       " 'leo': 'prof',\n",
       " 'joana': 'nunca soube',\n",
       " 'rosa': 'mae'}"
      ]
     },
     "execution_count": 25,
     "metadata": {},
     "output_type": "execute_result"
    }
   ],
   "source": [
    "my_dict"
   ]
  },
  {
   "cell_type": "code",
   "execution_count": 26,
   "metadata": {
    "ExecuteTime": {
     "end_time": "2022-01-11T11:13:07.528596Z",
     "start_time": "2022-01-11T11:13:07.511641Z"
    }
   },
   "outputs": [],
   "source": [
    "my_dict['yuri'] = {'nota': 1000, 'idade': 22}"
   ]
  },
  {
   "cell_type": "code",
   "execution_count": 27,
   "metadata": {
    "ExecuteTime": {
     "end_time": "2022-01-11T11:13:07.884289Z",
     "start_time": "2022-01-11T11:13:07.879302Z"
    },
    "scrolled": true
   },
   "outputs": [
    {
     "data": {
      "text/plain": [
       "{'raiana': 'fazendeira',\n",
       " 'joao': 'dono da lojinha',\n",
       " 3: 'bla',\n",
       " 'jose': 'student',\n",
       " 'maria': [10, 30],\n",
       " 'resultado': 3.0,\n",
       " 'felipe': 'sei la',\n",
       " 'leo': 'prof',\n",
       " 'joana': 'nunca soube',\n",
       " 'rosa': 'mae',\n",
       " 'yuri': {'nota': 1000, 'idade': 22}}"
      ]
     },
     "execution_count": 27,
     "metadata": {},
     "output_type": "execute_result"
    }
   ],
   "source": [
    "my_dict"
   ]
  },
  {
   "cell_type": "code",
   "execution_count": 28,
   "metadata": {
    "ExecuteTime": {
     "end_time": "2022-01-11T11:13:08.180858Z",
     "start_time": "2022-01-11T11:13:08.169408Z"
    }
   },
   "outputs": [
    {
     "data": {
      "text/plain": [
       "22"
      ]
     },
     "execution_count": 28,
     "metadata": {},
     "output_type": "execute_result"
    }
   ],
   "source": [
    "# accessing a dict, inside a dict,\n",
    "# acessar idade do yuri\n",
    "\n",
    "list(my_dict.values())[3][1]\n",
    "my_dict['maria'][1]\n",
    "my_dict['yuri']['idade']\n"
   ]
  },
  {
   "cell_type": "code",
   "execution_count": 29,
   "metadata": {
    "ExecuteTime": {
     "end_time": "2022-01-11T11:13:08.995759Z",
     "start_time": "2022-01-11T11:13:08.978844Z"
    }
   },
   "outputs": [],
   "source": [
    "my_dict['track'] = {'album': {'album_type': 'album',\n",
    "                      'artists': [{'external_urls': {'spotify': 'https://open.spotify.com/artist/2FcC4sDMXme2ziI7tGKMK8'},\n",
    "                        'href': 'https://api.spotify.com/v1/artists/2FcC4sDMXme2ziI7tGKMK8',\n",
    "                        'id': '2FcC4sDMXme2ziI7tGKMK8',\n",
    "                        'name': 'David Gilmour',\n",
    "                        'type': 'artist',\n",
    "                        'uri': 'spotify:artist:2FcC4sDMXme2ziI7tGKMK8'}],\n",
    "                             },\n",
    "                    'id': '0M8rrUcBYXa24y3AIKQ19z',\n",
    "                    'is_local': False,\n",
    "                    'name': 'Comfortably Numb - Live At Pompeii 2016',\n",
    "                    'popularity': 54,\n",
    "                              }"
   ]
  },
  {
   "cell_type": "code",
   "execution_count": 38,
   "metadata": {
    "ExecuteTime": {
     "end_time": "2022-01-11T11:13:09.709481Z",
     "start_time": "2022-01-11T11:13:09.697476Z"
    }
   },
   "outputs": [
    {
     "data": {
      "text/plain": [
       "dict_keys(['album', 'id', 'is_local', 'name', 'popularity'])"
      ]
     },
     "execution_count": 38,
     "metadata": {},
     "output_type": "execute_result"
    }
   ],
   "source": [
    "# get the track name\n",
    "\n",
    "my_dict['track'].keys()\n",
    "#my_dict['track']['name']\n"
   ]
  },
  {
   "cell_type": "code",
   "execution_count": 82,
   "metadata": {
    "ExecuteTime": {
     "end_time": "2022-01-11T11:13:09.979000Z",
     "start_time": "2022-01-11T11:13:09.961156Z"
    }
   },
   "outputs": [
    {
     "name": "stdout",
     "output_type": "stream",
     "text": [
      "David Gilmour\n"
     ]
    }
   ],
   "source": [
    "# get the artist name\n"
   ]
  },
  {
   "cell_type": "code",
   "execution_count": 83,
   "metadata": {
    "ExecuteTime": {
     "end_time": "2022-01-11T11:17:15.814371Z",
     "start_time": "2022-01-11T11:17:15.800883Z"
    }
   },
   "outputs": [
    {
     "name": "stdout",
     "output_type": "stream",
     "text": [
      "David Gilmour\n"
     ]
    }
   ],
   "source": [
    "# get the artist name (multiple artists)\n",
    "for i in range(len(my_dict['track']['album']['artists'])):\n",
    "    print(my_dict['track']['album']['artists'][i]['name'])"
   ]
  },
  {
   "cell_type": "markdown",
   "metadata": {},
   "source": [
    "# Dictionary <u>methods</u>\n",
    "\n",
    "- `.update()`\n",
    "- `.keys()`\n",
    "- `.values()`\n",
    "- `.items()`"
   ]
  },
  {
   "cell_type": "code",
   "execution_count": 348,
   "metadata": {
    "ExecuteTime": {
     "end_time": "2021-10-19T17:07:16.050780Z",
     "start_time": "2021-10-19T17:07:16.040806Z"
    }
   },
   "outputs": [
    {
     "data": {
      "text/plain": [
       "{'raiana': 'fazendeira',\n",
       " 'joao': 'dono da lojinha',\n",
       " 3: 'bla',\n",
       " 'jose': 'student',\n",
       " 'maria': 'nem sei',\n",
       " 'resultado': 3.0,\n",
       " 'felipe': 'sei la',\n",
       " 'leo': 'prof',\n",
       " 'joana': 'nunca soube',\n",
       " 'rosa': 'mae'}"
      ]
     },
     "execution_count": 348,
     "metadata": {},
     "output_type": "execute_result"
    }
   ],
   "source": [
    "my_dict"
   ]
  },
  {
   "cell_type": "code",
   "execution_count": 349,
   "metadata": {
    "ExecuteTime": {
     "end_time": "2021-10-19T17:07:17.938388Z",
     "start_time": "2021-10-19T17:07:17.929411Z"
    }
   },
   "outputs": [
    {
     "data": {
      "text/plain": [
       "dict_values(['fazendeira', 'dono da lojinha', 'bla', 'student', 'nem sei', 3.0, 'sei la', 'prof', 'nunca soube', 'mae'])"
      ]
     },
     "execution_count": 349,
     "metadata": {},
     "output_type": "execute_result"
    }
   ],
   "source": [
    "my_dict.values()"
   ]
  },
  {
   "cell_type": "code",
   "execution_count": 350,
   "metadata": {
    "ExecuteTime": {
     "end_time": "2021-10-19T17:07:19.339711Z",
     "start_time": "2021-10-19T17:07:19.320763Z"
    },
    "cell_style": "split"
   },
   "outputs": [
    {
     "data": {
      "text/plain": [
       "[('raiana', 'fazendeira'),\n",
       " ('joao', 'dono da lojinha'),\n",
       " (3, 'bla'),\n",
       " ('jose', 'student'),\n",
       " ('maria', 'nem sei'),\n",
       " ('resultado', 3.0),\n",
       " ('felipe', 'sei la'),\n",
       " ('leo', 'prof'),\n",
       " ('joana', 'nunca soube'),\n",
       " ('rosa', 'mae')]"
      ]
     },
     "execution_count": 350,
     "metadata": {},
     "output_type": "execute_result"
    }
   ],
   "source": [
    "list(my_dict.items())"
   ]
  },
  {
   "cell_type": "code",
   "execution_count": 190,
   "metadata": {
    "ExecuteTime": {
     "end_time": "2021-08-10T14:36:13.291240Z",
     "start_time": "2021-08-10T14:36:13.273822Z"
    },
    "cell_style": "split"
   },
   "outputs": [
    {
     "data": {
      "text/plain": [
       "{'raiana': 'fazendeira',\n",
       " 'joao': 10,\n",
       " 3: 'bla',\n",
       " 'jose': 'student',\n",
       " 'maria': [10, 30],\n",
       " 'felipe': 'sei la',\n",
       " 'leo': 'prof',\n",
       " 'joana': 'nunca soube',\n",
       " 'rosa': 'mae',\n",
       " (1, 2): 'oi',\n",
       " 'yuri': {'nota': 1000, 'idade': 22}}"
      ]
     },
     "execution_count": 190,
     "metadata": {},
     "output_type": "execute_result"
    }
   ],
   "source": [
    "my_dict"
   ]
  },
  {
   "cell_type": "markdown",
   "metadata": {},
   "source": [
    "## Iterating through a dict"
   ]
  },
  {
   "cell_type": "code",
   "execution_count": 351,
   "metadata": {
    "ExecuteTime": {
     "end_time": "2021-10-19T17:11:44.122065Z",
     "start_time": "2021-10-19T17:11:44.103116Z"
    }
   },
   "outputs": [
    {
     "data": {
      "text/plain": [
       "[('raiana', 'fazendeira'),\n",
       " ('joao', 'dono da lojinha'),\n",
       " (3, 'bla'),\n",
       " ('jose', 'student'),\n",
       " ('maria', 'nem sei'),\n",
       " ('resultado', 3.0),\n",
       " ('felipe', 'sei la'),\n",
       " ('leo', 'prof'),\n",
       " ('joana', 'nunca soube'),\n",
       " ('rosa', 'mae')]"
      ]
     },
     "execution_count": 351,
     "metadata": {},
     "output_type": "execute_result"
    }
   ],
   "source": [
    "list(my_dict.items())"
   ]
  },
  {
   "cell_type": "code",
   "execution_count": 84,
   "metadata": {
    "ExecuteTime": {
     "end_time": "2022-01-11T11:17:59.934847Z",
     "start_time": "2022-01-11T11:17:59.920884Z"
    }
   },
   "outputs": [
    {
     "name": "stdout",
     "output_type": "stream",
     "text": [
      "('raiana', 'fazendeira')\n",
      "('joao', 'dono da lojinha')\n",
      "(3, 'bla')\n",
      "('jose', 'student')\n",
      "('maria', [10, 30])\n",
      "('resultado', 3.0)\n",
      "('felipe', 'sei la')\n",
      "('leo', 'prof')\n",
      "('joana', 'nunca soube')\n",
      "('rosa', 'mae')\n",
      "('yuri', {'nota': 1000, 'idade': 22})\n",
      "('track', {'album': {'album_type': 'album', 'artists': [{'external_urls': {'spotify': 'https://open.spotify.com/artist/2FcC4sDMXme2ziI7tGKMK8'}, 'href': 'https://api.spotify.com/v1/artists/2FcC4sDMXme2ziI7tGKMK8', 'id': '2FcC4sDMXme2ziI7tGKMK8', 'name': 'David Gilmour', 'type': 'artist', 'uri': 'spotify:artist:2FcC4sDMXme2ziI7tGKMK8'}]}, 'id': '0M8rrUcBYXa24y3AIKQ19z', 'is_local': False, 'name': 'Comfortably Numb - Live At Pompeii 2016', 'popularity': 54})\n"
     ]
    }
   ],
   "source": [
    "for each_item in my_dict.items():\n",
    "    print(each_item)"
   ]
  },
  {
   "cell_type": "code",
   "execution_count": 85,
   "metadata": {
    "ExecuteTime": {
     "end_time": "2022-01-11T11:18:02.588863Z",
     "start_time": "2022-01-11T11:18:02.584874Z"
    },
    "cell_style": "split"
   },
   "outputs": [
    {
     "name": "stdout",
     "output_type": "stream",
     "text": [
      "raiana\n",
      "joao\n",
      "3\n",
      "jose\n",
      "maria\n",
      "resultado\n",
      "felipe\n",
      "leo\n",
      "joana\n",
      "rosa\n",
      "yuri\n",
      "track\n"
     ]
    }
   ],
   "source": [
    "for i in my_dict:\n",
    "    print(i)"
   ]
  },
  {
   "cell_type": "code",
   "execution_count": 86,
   "metadata": {
    "ExecuteTime": {
     "end_time": "2022-01-11T11:18:02.990896Z",
     "start_time": "2022-01-11T11:18:02.978930Z"
    },
    "cell_style": "split"
   },
   "outputs": [
    {
     "name": "stdout",
     "output_type": "stream",
     "text": [
      "raiana\n",
      "joao\n",
      "3\n",
      "jose\n",
      "maria\n",
      "resultado\n",
      "felipe\n",
      "leo\n",
      "joana\n",
      "rosa\n",
      "yuri\n",
      "track\n"
     ]
    }
   ],
   "source": [
    "for i in my_dict.keys():\n",
    "    print(i)"
   ]
  },
  {
   "cell_type": "markdown",
   "metadata": {},
   "source": [
    "## Loops can receive more than 1 argument"
   ]
  },
  {
   "cell_type": "code",
   "execution_count": 87,
   "metadata": {
    "ExecuteTime": {
     "end_time": "2022-01-11T11:18:04.468643Z",
     "start_time": "2022-01-11T11:18:04.455360Z"
    },
    "code_folding": [],
    "scrolled": true
   },
   "outputs": [
    {
     "name": "stdout",
     "output_type": "stream",
     "text": [
      "raiana fazendeira\n"
     ]
    }
   ],
   "source": [
    "# you can perform `multiple assignment` in the loop definition\n",
    "\n",
    "for key, value in my_dict.items():\n",
    "    if value == 'fazendeira':\n",
    "        print(key,value)"
   ]
  },
  {
   "cell_type": "markdown",
   "metadata": {},
   "source": [
    "## Verifying if a key is `in` the dictionary"
   ]
  },
  {
   "cell_type": "code",
   "execution_count": 361,
   "metadata": {
    "ExecuteTime": {
     "end_time": "2021-10-19T17:18:58.108493Z",
     "start_time": "2021-10-19T17:18:58.095527Z"
    }
   },
   "outputs": [
    {
     "data": {
      "text/plain": [
       "False"
      ]
     },
     "execution_count": 361,
     "metadata": {},
     "output_type": "execute_result"
    }
   ],
   "source": [
    "# how it works with lists?\n",
    "4 in [1, 2, 3]"
   ]
  },
  {
   "cell_type": "code",
   "execution_count": 362,
   "metadata": {
    "ExecuteTime": {
     "end_time": "2021-10-19T17:19:01.551180Z",
     "start_time": "2021-10-19T17:19:01.543217Z"
    }
   },
   "outputs": [
    {
     "data": {
      "text/plain": [
       "True"
      ]
     },
     "execution_count": 362,
     "metadata": {},
     "output_type": "execute_result"
    }
   ],
   "source": [
    "1 in [1, 2, 3]"
   ]
  },
  {
   "cell_type": "markdown",
   "metadata": {},
   "source": [
    "actually, it works like this with any **iterable**"
   ]
  },
  {
   "cell_type": "code",
   "execution_count": 363,
   "metadata": {
    "ExecuteTime": {
     "end_time": "2021-10-19T17:19:09.912005Z",
     "start_time": "2021-10-19T17:19:09.905024Z"
    }
   },
   "outputs": [
    {
     "data": {
      "text/plain": [
       "True"
      ]
     },
     "execution_count": 363,
     "metadata": {},
     "output_type": "execute_result"
    }
   ],
   "source": [
    "'raiana' in my_dict.keys()"
   ]
  },
  {
   "cell_type": "code",
   "execution_count": 364,
   "metadata": {
    "ExecuteTime": {
     "end_time": "2021-10-19T17:19:16.939959Z",
     "start_time": "2021-10-19T17:19:16.927992Z"
    }
   },
   "outputs": [],
   "source": [
    "x={'Raiana':'dançarina'}"
   ]
  },
  {
   "cell_type": "code",
   "execution_count": 368,
   "metadata": {
    "ExecuteTime": {
     "end_time": "2021-10-19T17:20:27.927280Z",
     "start_time": "2021-10-19T17:20:27.918319Z"
    },
    "scrolled": true
   },
   "outputs": [
    {
     "data": {
      "text/plain": [
       "True"
      ]
     },
     "execution_count": 368,
     "metadata": {},
     "output_type": "execute_result"
    }
   ],
   "source": [
    "'Raiana' in x"
   ]
  },
  {
   "cell_type": "code",
   "execution_count": 369,
   "metadata": {
    "ExecuteTime": {
     "end_time": "2021-10-19T17:20:48.958274Z",
     "start_time": "2021-10-19T17:20:48.943315Z"
    }
   },
   "outputs": [
    {
     "data": {
      "text/plain": [
       "True"
      ]
     },
     "execution_count": 369,
     "metadata": {},
     "output_type": "execute_result"
    }
   ],
   "source": [
    "'dançarina' not in x"
   ]
  },
  {
   "cell_type": "markdown",
   "metadata": {},
   "source": [
    "-----"
   ]
  },
  {
   "cell_type": "markdown",
   "metadata": {},
   "source": [
    "# SETS\n",
    "\n",
    "Sets are just like dictionaries, but they only have `keys`.\n",
    "\n",
    "And just like `keys` in a dictionary, there are no `duplicates`. You can imagine a set like a [venn-diagram](https://pt.wikipedia.org/wiki/Diagrama_de_Venn) containing the elements you want."
   ]
  },
  {
   "cell_type": "code",
   "execution_count": 39,
   "metadata": {
    "ExecuteTime": {
     "end_time": "2021-10-19T17:29:32.717830Z",
     "start_time": "2021-10-19T17:29:32.703867Z"
    }
   },
   "outputs": [],
   "source": [
    "my_list = ['Andre','Joao', 'Andre', 'Aldrey', 'Joao', 'Joao', 'Jose', 'André']"
   ]
  },
  {
   "cell_type": "code",
   "execution_count": 40,
   "metadata": {
    "ExecuteTime": {
     "end_time": "2021-10-19T17:29:40.277684Z",
     "start_time": "2021-10-19T17:29:40.270704Z"
    }
   },
   "outputs": [
    {
     "data": {
      "text/plain": [
       "['Andre', 'Joao', 'Andre', 'Aldrey', 'Joao', 'Joao', 'Jose', 'André']"
      ]
     },
     "execution_count": 40,
     "metadata": {},
     "output_type": "execute_result"
    }
   ],
   "source": [
    "my_list"
   ]
  },
  {
   "cell_type": "code",
   "execution_count": 41,
   "metadata": {
    "ExecuteTime": {
     "end_time": "2021-10-19T17:33:10.233231Z",
     "start_time": "2021-10-19T17:33:10.229242Z"
    }
   },
   "outputs": [
    {
     "data": {
      "text/plain": [
       "['Aldrey', 'Andre', 'André', 'Joao', 'Jose']"
      ]
     },
     "execution_count": 41,
     "metadata": {},
     "output_type": "execute_result"
    }
   ],
   "source": [
    "list(sorted(set(my_list)))"
   ]
  },
  {
   "cell_type": "markdown",
   "metadata": {},
   "source": [
    "----"
   ]
  },
  {
   "cell_type": "code",
   "execution_count": 42,
   "metadata": {
    "ExecuteTime": {
     "end_time": "2021-10-19T17:33:43.767772Z",
     "start_time": "2021-10-19T17:33:43.760791Z"
    }
   },
   "outputs": [
    {
     "data": {
      "text/plain": [
       "{1, 2, 3, 4, 5, 6, 7, 8}"
      ]
     },
     "execution_count": 42,
     "metadata": {},
     "output_type": "execute_result"
    }
   ],
   "source": [
    "x = set([1,2,3,4,4,4,4,4,5,6,6,6,7,7,8])\n",
    "x"
   ]
  },
  {
   "cell_type": "code",
   "execution_count": 43,
   "metadata": {
    "ExecuteTime": {
     "end_time": "2021-10-19T17:33:45.005757Z",
     "start_time": "2021-10-19T17:33:44.991792Z"
    }
   },
   "outputs": [
    {
     "data": {
      "text/plain": [
       "{6, 7, 8, 10, 12}"
      ]
     },
     "execution_count": 43,
     "metadata": {},
     "output_type": "execute_result"
    }
   ],
   "source": [
    "y = set([8,8,6,7, 10, 12])\n",
    "y"
   ]
  },
  {
   "cell_type": "code",
   "execution_count": 44,
   "metadata": {
    "ExecuteTime": {
     "end_time": "2021-10-19T17:35:22.615086Z",
     "start_time": "2021-10-19T17:35:22.598133Z"
    }
   },
   "outputs": [],
   "source": [
    "y = {8,8,6,7, 10, 12}"
   ]
  },
  {
   "cell_type": "code",
   "execution_count": 392,
   "metadata": {
    "ExecuteTime": {
     "end_time": "2021-10-19T17:35:25.793372Z",
     "start_time": "2021-10-19T17:35:25.782401Z"
    }
   },
   "outputs": [
    {
     "data": {
      "text/plain": [
       "set"
      ]
     },
     "execution_count": 392,
     "metadata": {},
     "output_type": "execute_result"
    }
   ],
   "source": [
    "type(y)"
   ]
  },
  {
   "cell_type": "markdown",
   "metadata": {},
   "source": [
    "## Set methods"
   ]
  },
  {
   "cell_type": "markdown",
   "metadata": {},
   "source": [
    "<img src=\"image-set.png\" align='left' alt=\"set-image\" width=\"300\" height=\"300\">\n"
   ]
  },
  {
   "cell_type": "code",
   "execution_count": 24,
   "metadata": {
    "ExecuteTime": {
     "end_time": "2021-03-23T11:24:08.326316Z",
     "start_time": "2021-03-23T11:24:08.307368Z"
    }
   },
   "outputs": [
    {
     "data": {
      "text/plain": [
       "{1, 2, 3, 4, 5, 6, 7, 8}"
      ]
     },
     "execution_count": 24,
     "metadata": {},
     "output_type": "execute_result"
    }
   ],
   "source": [
    "x"
   ]
  },
  {
   "cell_type": "code",
   "execution_count": 25,
   "metadata": {
    "ExecuteTime": {
     "end_time": "2021-03-23T11:24:08.572649Z",
     "start_time": "2021-03-23T11:24:08.555753Z"
    }
   },
   "outputs": [
    {
     "data": {
      "text/plain": [
       "{6, 7, 8, 10, 12}"
      ]
     },
     "execution_count": 25,
     "metadata": {},
     "output_type": "execute_result"
    }
   ],
   "source": [
    "y"
   ]
  },
  {
   "cell_type": "code",
   "execution_count": 403,
   "metadata": {
    "ExecuteTime": {
     "end_time": "2021-10-19T17:43:23.875469Z",
     "start_time": "2021-10-19T17:43:23.871473Z"
    }
   },
   "outputs": [
    {
     "data": {
      "text/plain": [
       "{6, 7, 8}"
      ]
     },
     "execution_count": 403,
     "metadata": {},
     "output_type": "execute_result"
    }
   ],
   "source": [
    "x.intersection(y)"
   ]
  },
  {
   "cell_type": "code",
   "execution_count": 396,
   "metadata": {
    "ExecuteTime": {
     "end_time": "2021-10-19T17:40:10.666307Z",
     "start_time": "2021-10-19T17:40:10.654338Z"
    }
   },
   "outputs": [
    {
     "data": {
      "text/plain": [
       "{1, 2, 3, 4, 5}"
      ]
     },
     "execution_count": 396,
     "metadata": {},
     "output_type": "execute_result"
    }
   ],
   "source": [
    "x.difference(y)"
   ]
  },
  {
   "cell_type": "code",
   "execution_count": 28,
   "metadata": {
    "ExecuteTime": {
     "end_time": "2021-03-23T11:24:09.962974Z",
     "start_time": "2021-03-23T11:24:09.950010Z"
    }
   },
   "outputs": [
    {
     "data": {
      "text/plain": [
       "{1, 2, 3, 4, 5}"
      ]
     },
     "execution_count": 28,
     "metadata": {},
     "output_type": "execute_result"
    }
   ],
   "source": [
    "x - y"
   ]
  },
  {
   "cell_type": "code",
   "execution_count": 401,
   "metadata": {
    "ExecuteTime": {
     "end_time": "2021-10-19T17:43:04.035401Z",
     "start_time": "2021-10-19T17:43:04.022436Z"
    }
   },
   "outputs": [
    {
     "data": {
      "text/plain": [
       "{10, 12}"
      ]
     },
     "execution_count": 401,
     "metadata": {},
     "output_type": "execute_result"
    }
   ],
   "source": [
    "y.difference(x)"
   ]
  },
  {
   "cell_type": "code",
   "execution_count": 30,
   "metadata": {
    "ExecuteTime": {
     "end_time": "2021-03-23T11:24:12.105018Z",
     "start_time": "2021-03-23T11:24:12.086003Z"
    },
    "scrolled": true
   },
   "outputs": [
    {
     "data": {
      "text/plain": [
       "{10, 12}"
      ]
     },
     "execution_count": 30,
     "metadata": {},
     "output_type": "execute_result"
    }
   ],
   "source": [
    "y - x"
   ]
  },
  {
   "cell_type": "code",
   "execution_count": 398,
   "metadata": {
    "ExecuteTime": {
     "end_time": "2021-10-19T17:42:37.690474Z",
     "start_time": "2021-10-19T17:42:37.686485Z"
    }
   },
   "outputs": [],
   "source": [
    "z = {5,6,15}"
   ]
  },
  {
   "cell_type": "code",
   "execution_count": 399,
   "metadata": {
    "ExecuteTime": {
     "end_time": "2021-10-19T17:42:41.103065Z",
     "start_time": "2021-10-19T17:42:41.084116Z"
    },
    "scrolled": true
   },
   "outputs": [
    {
     "data": {
      "text/plain": [
       "{1, 2, 3, 4, 5, 6, 7, 8, 10, 12, 15}"
      ]
     },
     "execution_count": 399,
     "metadata": {},
     "output_type": "execute_result"
    }
   ],
   "source": [
    "x.union(y,z)"
   ]
  },
  {
   "cell_type": "code",
   "execution_count": 410,
   "metadata": {
    "ExecuteTime": {
     "end_time": "2021-10-19T17:49:29.124616Z",
     "start_time": "2021-10-19T17:49:29.111651Z"
    },
    "cell_style": "split"
   },
   "outputs": [
    {
     "data": {
      "text/plain": [
       "({6, 7, 8, 10, 12}, {1, 2, 3, 4, 7, 8, 15})"
      ]
     },
     "execution_count": 410,
     "metadata": {},
     "output_type": "execute_result"
    }
   ],
   "source": [
    "y.symmetric_difference(x)"
   ]
  },
  {
   "cell_type": "code",
   "execution_count": 31,
   "metadata": {
    "ExecuteTime": {
     "end_time": "2021-03-23T11:24:37.182848Z",
     "start_time": "2021-03-23T11:24:37.172803Z"
    },
    "cell_style": "split"
   },
   "outputs": [
    {
     "data": {
      "text/plain": [
       "{1, 2, 3, 4, 5, 10, 12}"
      ]
     },
     "execution_count": 31,
     "metadata": {},
     "output_type": "execute_result"
    }
   ],
   "source": [
    "x.symmetric_difference(y)"
   ]
  },
  {
   "cell_type": "code",
   "execution_count": 411,
   "metadata": {
    "ExecuteTime": {
     "end_time": "2021-10-19T17:50:58.497861Z",
     "start_time": "2021-10-19T17:50:58.478912Z"
    }
   },
   "outputs": [
    {
     "name": "stdout",
     "output_type": "stream",
     "text": [
      "Missing columns: {'vlr_cheques'}\n"
     ]
    }
   ],
   "source": [
    "# Practical example\n",
    "col_names = ['qtd_cartoes', 'vlr_cartao','qtd_cheques','vlr_cheques']\n",
    "\n",
    "incoming_col_names = ['qtd_cartoes', 'vlr_cartao','qtd_cheques','vlr_cheque']\n",
    "\n",
    "print(f'Missing columns: {set(col_names) - set(incoming_col_names)}')"
   ]
  },
  {
   "cell_type": "code",
   "execution_count": 141,
   "metadata": {
    "ExecuteTime": {
     "end_time": "2020-07-10T00:47:42.106276Z",
     "start_time": "2020-07-10T00:47:42.102287Z"
    }
   },
   "outputs": [
    {
     "name": "stdout",
     "output_type": "stream",
     "text": [
      "Found columns: {'vlr_cheque'}\n"
     ]
    }
   ],
   "source": [
    "print(f'Found columns: {set(incoming_col_names) - set(col_names)}')"
   ]
  },
  {
   "cell_type": "code",
   "execution_count": 412,
   "metadata": {
    "ExecuteTime": {
     "end_time": "2021-10-19T17:53:17.014806Z",
     "start_time": "2021-10-19T17:53:16.997851Z"
    }
   },
   "outputs": [
    {
     "data": {
      "text/plain": [
       "{'vlr_cheques'}"
      ]
     },
     "execution_count": 412,
     "metadata": {},
     "output_type": "execute_result"
    }
   ],
   "source": [
    "set(col_names) - set(incoming_col_names)"
   ]
  },
  {
   "cell_type": "markdown",
   "metadata": {},
   "source": [
    "---\n",
    "\n",
    "https://medium.com/@diegoalvesteo/5-coisas-que-voc%C3%AA-precisa-saber-sobre-tuplas-no-python-66b11f25b0cd"
   ]
  },
  {
   "cell_type": "markdown",
   "metadata": {},
   "source": [
    "# Resumo"
   ]
  },
  {
   "cell_type": "markdown",
   "metadata": {},
   "source": [
    " Criar tupla\n",
    "* nome = (elementos,elementos)\n",
    "* nome = ()\n",
    "* nome = (elemento,)\n",
    "\n",
    "<br />\n",
    "\n",
    "* Transformar lista em tupla e vice versa\n",
    "* nome_tupla = tuple(lista)\n",
    "* nome_lista = list(nome_tupla)\n",
    "\n",
    " <br />\n",
    " \n",
    "* Acessar elemento\n",
    "* nome_tupla[index]\n",
    "* nome_tupla[começo:fim:passo]\n",
    "* nome_tupla[::-1] - inverso da tupla\n",
    "\n",
    " <br />\n",
    " \n",
    "* Metodos de tupla\n",
    "* nome_tupla.count(elemento a ser buscado) - contagem de vezes que o elemento aparece\n",
    "* nome_tupla.index(elemento a ser buscado) - indice/posição da primeira vez que o elemento aparece\n",
    "* sorted(nome_tupla) - devolve uma visualização da lista com os elementos ordenados\n",
    "* nome_lista.sort() - altera a lista para ordenar os elementos(não é visualização)"
   ]
  },
  {
   "cell_type": "markdown",
   "metadata": {},
   "source": [
    "Criar um dict\n",
    "\n",
    "* nome_dict = {chave:valor}\n",
    "<br />\n",
    "* Inserir valor no dicionario\n",
    "\n",
    "* nome_dict[chave] = valor\n",
    "\n",
    "* nome_dict.update({chave:valor})\n",
    "<br />\n",
    "* Metodos de dicionario\n",
    "\n",
    "* nome_dict.keys() - lista com todas as chaves\n",
    "\n",
    "* nome_dict.values() - lista com todos os valores\n",
    "\n",
    "* nome_dict.items() - lista de tuplas com (chave,valor)"
   ]
  },
  {
   "cell_type": "markdown",
   "metadata": {},
   "source": [
    "Set \n",
    "* nome_set = {elemento,elemento}\n",
    "* set1.intersection(set2) - elementos que existem nos dois sets\n",
    "* set1.difference(set2) - elementos que existem no set1 mas não no set2\n",
    "* set1.union(set2) - elementos dos dois sets\n",
    "* set1.symmetric_difference(set2) - união menos intersecção\n",
    "\n"
   ]
  },
  {
   "cell_type": "code",
   "execution_count": null,
   "metadata": {},
   "outputs": [],
   "source": []
  }
 ],
 "metadata": {
  "kernelspec": {
   "display_name": "Python 3 (ipykernel)",
   "language": "python",
   "name": "python3"
  },
  "language_info": {
   "codemirror_mode": {
    "name": "ipython",
    "version": 3
   },
   "file_extension": ".py",
   "mimetype": "text/x-python",
   "name": "python",
   "nbconvert_exporter": "python",
   "pygments_lexer": "ipython3",
   "version": "3.9.7"
  },
  "toc": {
   "base_numbering": 1,
   "nav_menu": {},
   "number_sections": true,
   "sideBar": true,
   "skip_h1_title": false,
   "title_cell": "Table of Contents",
   "title_sidebar": "Contents",
   "toc_cell": false,
   "toc_position": {},
   "toc_section_display": true,
   "toc_window_display": false
  },
  "varInspector": {
   "cols": {
    "lenName": 16,
    "lenType": 16,
    "lenVar": 40
   },
   "kernels_config": {
    "python": {
     "delete_cmd_postfix": "",
     "delete_cmd_prefix": "del ",
     "library": "var_list.py",
     "varRefreshCmd": "print(var_dic_list())"
    },
    "r": {
     "delete_cmd_postfix": ") ",
     "delete_cmd_prefix": "rm(",
     "library": "var_list.r",
     "varRefreshCmd": "cat(var_dic_list()) "
    }
   },
   "types_to_exclude": [
    "module",
    "function",
    "builtin_function_or_method",
    "instance",
    "_Feature"
   ],
   "window_display": false
  }
 },
 "nbformat": 4,
 "nbformat_minor": 2
}
