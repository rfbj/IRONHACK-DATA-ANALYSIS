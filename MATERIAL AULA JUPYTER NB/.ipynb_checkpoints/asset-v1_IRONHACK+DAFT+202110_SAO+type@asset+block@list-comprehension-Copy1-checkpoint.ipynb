{
 "cells": [
  {
   "cell_type": "markdown",
   "metadata": {},
   "source": [
    "# Lists\n",
    "\n",
    "Sequencia de elementos mutáveis"
   ]
  },
  {
   "cell_type": "markdown",
   "metadata": {},
   "source": [
    "# List Comprehensions"
   ]
  },
  {
   "cell_type": "markdown",
   "metadata": {},
   "source": [
    "## Loops with lists"
   ]
  },
  {
   "cell_type": "code",
   "execution_count": 13,
   "metadata": {
    "ExecuteTime": {
     "end_time": "2021-10-21T12:34:28.608618Z",
     "start_time": "2021-10-21T12:34:28.600640Z"
    }
   },
   "outputs": [],
   "source": [
    "my_list = []\n",
    "for i in range(5):\n",
    "    my_list.append(i)"
   ]
  },
  {
   "cell_type": "code",
   "execution_count": 14,
   "metadata": {
    "ExecuteTime": {
     "end_time": "2021-10-21T12:34:31.388978Z",
     "start_time": "2021-10-21T12:34:31.369031Z"
    }
   },
   "outputs": [
    {
     "data": {
      "text/plain": [
       "[0, 1, 2, 3, 4]"
      ]
     },
     "execution_count": 14,
     "metadata": {},
     "output_type": "execute_result"
    }
   ],
   "source": [
    "my_list"
   ]
  },
  {
   "cell_type": "code",
   "execution_count": 19,
   "metadata": {
    "ExecuteTime": {
     "end_time": "2021-10-21T12:49:15.802983Z",
     "start_time": "2021-10-21T12:49:15.784467Z"
    }
   },
   "outputs": [
    {
     "name": "stdout",
     "output_type": "stream",
     "text": [
      "[0, 4, 16, 36, 64, 100, 144, 196, 256, 324, 400, 484, 576, 676, 784, 900, 1024, 1156, 1296, 1444, 1600, 1764, 1936, 2116, 2304, 2500, 2704, 2916, 3136, 3364, 3600, 3844, 4096, 4356, 4624, 4900, 5184, 5476, 5776, 6084, 6400, 6724, 7056, 7396, 7744, 8100, 8464, 8836, 9216, 9604, 10000, 10404, 10816, 11236, 11664, 12100, 12544, 12996, 13456, 13924, 14400, 14884, 15376, 15876, 16384, 16900, 17424, 17956, 18496, 19044, 19600, 20164, 20736, 21316, 21904, 22500, 23104, 23716, 24336, 24964, 25600, 26244, 26896, 27556, 28224, 28900, 29584, 30276, 30976, 31684, 32400, 33124, 33856, 34596, 35344, 36100, 36864, 37636, 38416, 39204, 40000]\n"
     ]
    }
   ],
   "source": [
    "# make a for that creates a list with the square of the double of the number 0 to 100\n",
    "\n"
   ]
  },
  {
   "cell_type": "code",
   "execution_count": 4,
   "metadata": {
    "ExecuteTime": {
     "end_time": "2021-10-20T18:57:00.089241Z",
     "start_time": "2021-10-20T18:57:00.076262Z"
    }
   },
   "outputs": [],
   "source": [
    "# make a for that creates a list with the square of the double of the number 0 to 100\n",
    "list_square_double=[]\n",
    "for i in range(0,101):\n",
    "    i = i*2\n",
    "    i = i*i\n",
    "    list_square_double.append(i)\n",
    "print(list_square_double)"
   ]
  },
  {
   "cell_type": "markdown",
   "metadata": {},
   "source": [
    "## Extra: `tqdm`\n",
    "\n",
    "External package to visualize a loading bar in a `for loop`"
   ]
  },
  {
   "cell_type": "code",
   "execution_count": 6,
   "metadata": {
    "ExecuteTime": {
     "end_time": "2021-10-20T18:57:01.367899Z",
     "start_time": "2021-10-20T18:57:01.356928Z"
    }
   },
   "outputs": [],
   "source": [
    "#!pip3 install tqdm --user"
   ]
  },
  {
   "cell_type": "code",
   "execution_count": 7,
   "metadata": {
    "ExecuteTime": {
     "end_time": "2021-10-20T18:57:01.664550Z",
     "start_time": "2021-10-20T18:57:01.660559Z"
    }
   },
   "outputs": [],
   "source": [
    "#!pip install tqdm\n",
    "# !pip install tqdm --user# (windows users)\n",
    "# conda install tqdm (anaconda users)"
   ]
  },
  {
   "cell_type": "code",
   "execution_count": 20,
   "metadata": {
    "ExecuteTime": {
     "end_time": "2021-10-21T12:51:53.922964Z",
     "start_time": "2021-10-21T12:51:53.918975Z"
    }
   },
   "outputs": [],
   "source": [
    "from tqdm.auto import tqdm"
   ]
  },
  {
   "cell_type": "code",
   "execution_count": 21,
   "metadata": {
    "ExecuteTime": {
     "end_time": "2021-10-21T12:52:12.908180Z",
     "start_time": "2021-10-21T12:52:09.347460Z"
    }
   },
   "outputs": [
    {
     "data": {
      "application/vnd.jupyter.widget-view+json": {
       "model_id": "f6582dac19f9437dbcae5c2922392b64",
       "version_major": 2,
       "version_minor": 0
      },
      "text/plain": [
       "  0%|          | 0/10000000 [00:00<?, ?it/s]"
      ]
     },
     "metadata": {},
     "output_type": "display_data"
    }
   ],
   "source": [
    "new_list = []\n",
    "\n",
    "# just put `tqdm` around what you want to loop\n",
    "for i in tqdm(range(10000000)):\n",
    "    new_list.append(i)"
   ]
  },
  {
   "cell_type": "markdown",
   "metadata": {},
   "source": [
    "## Comprehensions\n",
    "\n",
    "Comprehensions are used for the same objective as the above. To create a new list. However, it has a different (more compact) syntax."
   ]
  },
  {
   "cell_type": "code",
   "execution_count": 11,
   "metadata": {
    "ExecuteTime": {
     "end_time": "2021-10-20T18:57:09.340912Z",
     "start_time": "2021-10-20T18:57:09.332934Z"
    },
    "scrolled": true
   },
   "outputs": [
    {
     "name": "stdout",
     "output_type": "stream",
     "text": [
      "[0, 1, 2, 3, 4, 5, 6, 7, 8, 9]\n"
     ]
    }
   ],
   "source": [
    "new_list = []\n",
    "\n",
    "for item in range(10):\n",
    "    new_list.append(item)\n",
    "\n",
    "print(new_list)"
   ]
  },
  {
   "cell_type": "code",
   "execution_count": null,
   "metadata": {
    "ExecuteTime": {
     "end_time": "2021-10-21T12:58:13.371838Z",
     "start_time": "2021-10-21T12:58:13.358872Z"
    }
   },
   "outputs": [],
   "source": []
  },
  {
   "cell_type": "code",
   "execution_count": 32,
   "metadata": {
    "ExecuteTime": {
     "end_time": "2020-07-17T00:46:23.763869Z",
     "start_time": "2020-07-17T00:46:23.758883Z"
    }
   },
   "outputs": [
    {
     "data": {
      "text/plain": [
       "[0, 1, 2, 3, 4, 5, 6, 7, 8, 9]"
      ]
     },
     "execution_count": 32,
     "metadata": {},
     "output_type": "execute_result"
    }
   ],
   "source": [
    "new_list = [item for item in range(10)]\n",
    "new_list"
   ]
  },
  {
   "cell_type": "markdown",
   "metadata": {},
   "source": [
    "## Operations inside comprehensions"
   ]
  },
  {
   "cell_type": "code",
   "execution_count": 27,
   "metadata": {
    "ExecuteTime": {
     "end_time": "2021-10-21T13:00:37.718172Z",
     "start_time": "2021-10-21T13:00:37.712188Z"
    }
   },
   "outputs": [
    {
     "name": "stdout",
     "output_type": "stream",
     "text": [
      "[0, 1, 4, 9, 16, 25, 36, 49, 64, 81]\n"
     ]
    }
   ],
   "source": [
    "new_list=[]\n",
    "for i in range(10):\n",
    "    new_list.append(i**2)\n",
    "print(new_list)"
   ]
  },
  {
   "cell_type": "code",
   "execution_count": 34,
   "metadata": {
    "ExecuteTime": {
     "end_time": "2021-10-21T13:08:25.587882Z",
     "start_time": "2021-10-21T13:08:25.580900Z"
    }
   },
   "outputs": [
    {
     "name": "stdout",
     "output_type": "stream",
     "text": [
      "[]\n"
     ]
    }
   ],
   "source": [
    "new_list=[]\n",
    "print(new_list)"
   ]
  },
  {
   "cell_type": "code",
   "execution_count": 33,
   "metadata": {
    "ExecuteTime": {
     "end_time": "2021-10-21T13:06:56.050086Z",
     "start_time": "2021-10-21T13:06:56.038120Z"
    }
   },
   "outputs": [
    {
     "data": {
      "text/plain": [
       "[1.6666666666666667,\n",
       " 2.0,\n",
       " 2.3333333333333335,\n",
       " 2.6666666666666665,\n",
       " 3.0,\n",
       " 3.3333333333333335,\n",
       " 3.6666666666666665,\n",
       " 4.0,\n",
       " 4.333333333333333,\n",
       " 4.666666666666667,\n",
       " 5.0,\n",
       " 5.333333333333333,\n",
       " 5.666666666666667,\n",
       " 6.0,\n",
       " 6.333333333333333,\n",
       " 6.666666666666667,\n",
       " 7.0,\n",
       " 7.333333333333333,\n",
       " 7.666666666666667,\n",
       " 8.0,\n",
       " 8.333333333333334,\n",
       " 8.666666666666666,\n",
       " 9.0,\n",
       " 9.333333333333334,\n",
       " 9.666666666666666,\n",
       " 10.0,\n",
       " 10.333333333333334,\n",
       " 10.666666666666666,\n",
       " 11.0,\n",
       " 11.333333333333334,\n",
       " 11.666666666666666,\n",
       " 12.0,\n",
       " 12.333333333333334,\n",
       " 12.666666666666666,\n",
       " 13.0]"
      ]
     },
     "execution_count": 33,
     "metadata": {},
     "output_type": "execute_result"
    }
   ],
   "source": [
    "# criar uma lista com os numeros de 5 ate 40 dividos por 3\n",
    "[numero/3 for numero in range(5,40)]"
   ]
  },
  {
   "cell_type": "code",
   "execution_count": 90,
   "metadata": {
    "ExecuteTime": {
     "end_time": "2021-03-24T15:09:29.353928Z",
     "start_time": "2021-03-24T15:09:29.344954Z"
    }
   },
   "outputs": [
    {
     "name": "stdout",
     "output_type": "stream",
     "text": [
      "[0, 4, 16, 36, 64, 100, 144, 196, 256, 324, 400, 484, 576, 676, 784, 900, 1024, 1156, 1296, 1444, 1600, 1764, 1936, 2116, 2304, 2500, 2704, 2916, 3136, 3364, 3600, 3844, 4096, 4356, 4624, 4900, 5184, 5476, 5776, 6084, 6400, 6724, 7056, 7396, 7744, 8100, 8464, 8836, 9216, 9604, 10000, 10404, 10816, 11236, 11664, 12100, 12544, 12996, 13456, 13924, 14400, 14884, 15376, 15876, 16384, 16900, 17424, 17956, 18496, 19044, 19600, 20164, 20736, 21316, 21904, 22500, 23104, 23716, 24336, 24964, 25600, 26244, 26896, 27556, 28224, 28900, 29584, 30276, 30976, 31684, 32400, 33124, 33856, 34596, 35344, 36100, 36864, 37636, 38416, 39204]\n"
     ]
    }
   ],
   "source": [
    "new_list = []\n",
    "\n",
    "for item in range(100):\n",
    "    new_list.append(item ** 2)\n",
    "    \n",
    "print(new_list)"
   ]
  },
  {
   "cell_type": "code",
   "execution_count": 37,
   "metadata": {
    "ExecuteTime": {
     "end_time": "2020-07-17T00:48:24.782699Z",
     "start_time": "2020-07-17T00:48:24.778737Z"
    },
    "scrolled": true
   },
   "outputs": [],
   "source": [
    "new_list = [item ** 2 for item in range(100)]"
   ]
  },
  {
   "cell_type": "code",
   "execution_count": 38,
   "metadata": {
    "ExecuteTime": {
     "end_time": "2020-07-17T00:48:30.747203Z",
     "start_time": "2020-07-17T00:48:30.743213Z"
    }
   },
   "outputs": [
    {
     "name": "stdout",
     "output_type": "stream",
     "text": [
      "[0, 1, 4, 9, 16, 25, 36, 49, 64, 81, 100, 121, 144, 169, 196, 225, 256, 289, 324, 361, 400, 441, 484, 529, 576, 625, 676, 729, 784, 841, 900, 961, 1024, 1089, 1156, 1225, 1296, 1369, 1444, 1521, 1600, 1681, 1764, 1849, 1936, 2025, 2116, 2209, 2304, 2401, 2500, 2601, 2704, 2809, 2916, 3025, 3136, 3249, 3364, 3481, 3600, 3721, 3844, 3969, 4096, 4225, 4356, 4489, 4624, 4761, 4900, 5041, 5184, 5329, 5476, 5625, 5776, 5929, 6084, 6241, 6400, 6561, 6724, 6889, 7056, 7225, 7396, 7569, 7744, 7921, 8100, 8281, 8464, 8649, 8836, 9025, 9216, 9409, 9604, 9801]\n"
     ]
    }
   ],
   "source": [
    "print(new_list)"
   ]
  },
  {
   "cell_type": "markdown",
   "metadata": {
    "ExecuteTime": {
     "end_time": "2020-07-16T22:46:10.223420Z",
     "start_time": "2020-07-16T22:46:10.219430Z"
    }
   },
   "source": [
    "### `if` conditions in comprehensions"
   ]
  },
  {
   "cell_type": "code",
   "execution_count": 39,
   "metadata": {
    "ExecuteTime": {
     "end_time": "2021-10-21T13:25:32.825892Z",
     "start_time": "2021-10-21T13:25:32.807941Z"
    }
   },
   "outputs": [],
   "source": [
    "#A list of square of even numbers 0 to 100 \n",
    "new_list=[]\n",
    "for item in range(0,101,2):\n",
    "    new_list.append(item**2)\n"
   ]
  },
  {
   "cell_type": "code",
   "execution_count": 49,
   "metadata": {
    "ExecuteTime": {
     "end_time": "2021-10-21T13:29:47.795981Z",
     "start_time": "2021-10-21T13:29:47.789996Z"
    }
   },
   "outputs": [
    {
     "name": "stdout",
     "output_type": "stream",
     "text": [
      "[0, 4, 16, 36, 64, 100, 144, 196, 256, 324, 400, 484, 576, 676, 784, 900, 1024, 1156, 1296, 1444, 1600, 1764, 1936, 2116, 2304, 2500, 2704, 2916, 3136, 3364, 3600, 3844, 4096, 4356, 4624, 4900, 5184, 5476, 5776, 6084, 6400, 6724, 7056, 7396, 7744, 8100, 8464, 8836, 9216, 9604, 10000]\n"
     ]
    }
   ],
   "source": [
    "new_list = []\n",
    "\n",
    "for item in range(101):\n",
    "    \n",
    "    # append se o numero for par\n",
    "    # item % 2 é o resto da divisão de item por 2\n",
    "    if item % 2 == 0:\n",
    "        new_list.append(item**2)\n",
    "        \n",
    "print(new_list)"
   ]
  },
  {
   "cell_type": "code",
   "execution_count": 4,
   "metadata": {
    "ExecuteTime": {
     "end_time": "2021-08-11T13:11:16.855781Z",
     "start_time": "2021-08-11T13:11:16.846250Z"
    }
   },
   "outputs": [
    {
     "data": {
      "text/plain": [
       "[0,\n",
       " 2,\n",
       " 4,\n",
       " 6,\n",
       " 8,\n",
       " 10,\n",
       " 12,\n",
       " 14,\n",
       " 16,\n",
       " 18,\n",
       " 20,\n",
       " 22,\n",
       " 24,\n",
       " 26,\n",
       " 28,\n",
       " 30,\n",
       " 32,\n",
       " 34,\n",
       " 36,\n",
       " 38,\n",
       " 40,\n",
       " 42,\n",
       " 44,\n",
       " 46,\n",
       " 48,\n",
       " 50,\n",
       " 52,\n",
       " 54,\n",
       " 56,\n",
       " 58,\n",
       " 60,\n",
       " 62,\n",
       " 64,\n",
       " 66,\n",
       " 68,\n",
       " 70,\n",
       " 72,\n",
       " 74,\n",
       " 76,\n",
       " 78,\n",
       " 80,\n",
       " 82,\n",
       " 84,\n",
       " 86,\n",
       " 88,\n",
       " 90,\n",
       " 92,\n",
       " 94,\n",
       " 96,\n",
       " 98,\n",
       " 100]"
      ]
     },
     "execution_count": 4,
     "metadata": {},
     "output_type": "execute_result"
    }
   ],
   "source": [
    "new_list = [item**2 for item in range(101) if item % 2 == 0]\n",
    "new_list"
   ]
  },
  {
   "cell_type": "code",
   "execution_count": 53,
   "metadata": {
    "ExecuteTime": {
     "end_time": "2021-10-21T13:34:43.587462Z",
     "start_time": "2021-10-21T13:34:43.566518Z"
    }
   },
   "outputs": [
    {
     "data": {
      "text/plain": [
       "['.DS_Store',\n",
       " 'aldrey_treated.xlsx',\n",
       " 'aldrey_treated2.xlsx',\n",
       " 'aldrey_treated_new2.xlsx',\n",
       " 'aldrey_treated_newversion.xlsx',\n",
       " 'aldrey_treated_newversion2.xlsx',\n",
       " 'aldrey_treated_v2.xlsx',\n",
       " 'CSV.8859-1.csv',\n",
       " 'CSV.ANSI.csv',\n",
       " 'CSV.UTF8.csv',\n",
       " 'dados_artigo1.xlsx',\n",
       " 'data.7z',\n",
       " 'exported_file.csv',\n",
       " 'exported_file_pipe.csv',\n",
       " 'exported_file_plusminus.csv',\n",
       " 'exported_file_semicolon.csv',\n",
       " 'exported_file_semicolon_excel.xlsx',\n",
       " 'exported_file_v1.csv',\n",
       " 'exported_file_v2.csv',\n",
       " 'exported_file_v3.csv',\n",
       " 'exported_file_v3csv',\n",
       " 'teste1.csv',\n",
       " 'vehicles',\n",
       " 'vehicles.csv',\n",
       " 'vehicles.json',\n",
       " 'vehicles.xlsx',\n",
       " 'vehicles.zip',\n",
       " 'vehicles_columns.json',\n",
       " 'vehicles_hash.txt',\n",
       " 'vehicles_index.json',\n",
       " 'vehicles_newsheet.xlsx',\n",
       " 'vehicles_pipe.txt',\n",
       " 'vehicles_split.json',\n",
       " 'vehicles_tab.txt',\n",
       " 'vehicles_table.json',\n",
       " 'vehicles_values.json']"
      ]
     },
     "execution_count": 53,
     "metadata": {},
     "output_type": "execute_result"
    }
   ],
   "source": [
    "#for google colab first you need this comands to be abble to see the directory\n",
    "#from google.colab import drive\n",
    "#drive.mount('/content/drive')\n",
    "#import os\n",
    "#os.chdir('drive/My Drive/nome da sua pasta no drive')\n",
    "import os\n",
    "os.listdir('data')\n",
    "os.listdir('C:\\\\Users\\\\raian\\\\OneDrive\\\\Documentos\\\\IronHack\\\\ironhack-course-before-class\\\\ironhack-course\\\\full-time\\\\week1\\\\5-list-comprehensions\\\\data')"
   ]
  },
  {
   "cell_type": "code",
   "execution_count": 54,
   "metadata": {
    "ExecuteTime": {
     "end_time": "2021-10-21T13:35:02.571249Z",
     "start_time": "2021-10-21T13:35:02.559281Z"
    }
   },
   "outputs": [
    {
     "data": {
      "text/plain": [
       "['.DS_Store',\n",
       " 'aldrey_treated.xlsx',\n",
       " 'aldrey_treated2.xlsx',\n",
       " 'aldrey_treated_new2.xlsx',\n",
       " 'aldrey_treated_newversion.xlsx',\n",
       " 'aldrey_treated_newversion2.xlsx',\n",
       " 'aldrey_treated_v2.xlsx',\n",
       " 'CSV.8859-1.csv',\n",
       " 'CSV.ANSI.csv',\n",
       " 'CSV.UTF8.csv',\n",
       " 'dados_artigo1.xlsx',\n",
       " 'data.7z',\n",
       " 'exported_file.csv',\n",
       " 'exported_file_pipe.csv',\n",
       " 'exported_file_plusminus.csv',\n",
       " 'exported_file_semicolon.csv',\n",
       " 'exported_file_semicolon_excel.xlsx',\n",
       " 'exported_file_v1.csv',\n",
       " 'exported_file_v2.csv',\n",
       " 'exported_file_v3.csv',\n",
       " 'exported_file_v3csv',\n",
       " 'teste1.csv',\n",
       " 'vehicles',\n",
       " 'vehicles.csv',\n",
       " 'vehicles.json',\n",
       " 'vehicles.xlsx',\n",
       " 'vehicles.zip',\n",
       " 'vehicles_columns.json',\n",
       " 'vehicles_hash.txt',\n",
       " 'vehicles_index.json',\n",
       " 'vehicles_newsheet.xlsx',\n",
       " 'vehicles_pipe.txt',\n",
       " 'vehicles_split.json',\n",
       " 'vehicles_tab.txt',\n",
       " 'vehicles_table.json',\n",
       " 'vehicles_values.json']"
      ]
     },
     "execution_count": 54,
     "metadata": {},
     "output_type": "execute_result"
    }
   ],
   "source": [
    "filenames = os.listdir('data')\n",
    "filenames"
   ]
  },
  {
   "cell_type": "code",
   "execution_count": 59,
   "metadata": {
    "ExecuteTime": {
     "end_time": "2021-10-21T13:38:59.025469Z",
     "start_time": "2021-10-21T13:38:59.015496Z"
    }
   },
   "outputs": [
    {
     "data": {
      "text/plain": [
       "['CSV.8859-1.csv',\n",
       " 'CSV.ANSI.csv',\n",
       " 'CSV.UTF8.csv',\n",
       " 'exported_file.csv',\n",
       " 'exported_file_pipe.csv',\n",
       " 'exported_file_plusminus.csv',\n",
       " 'exported_file_semicolon.csv',\n",
       " 'exported_file_v1.csv',\n",
       " 'exported_file_v2.csv',\n",
       " 'exported_file_v3.csv',\n",
       " 'teste1.csv',\n",
       " 'vehicles.csv']"
      ]
     },
     "execution_count": 59,
     "metadata": {},
     "output_type": "execute_result"
    }
   ],
   "source": [
    "[file for file in filenames if file[-4:]=='.csv']"
   ]
  },
  {
   "cell_type": "code",
   "execution_count": null,
   "metadata": {},
   "outputs": [],
   "source": []
  },
  {
   "cell_type": "code",
   "execution_count": null,
   "metadata": {},
   "outputs": [],
   "source": []
  },
  {
   "cell_type": "code",
   "execution_count": 13,
   "metadata": {
    "ExecuteTime": {
     "end_time": "2021-08-11T17:57:15.252330Z",
     "start_time": "2021-08-11T17:57:15.231880Z"
    },
    "cell_style": "center"
   },
   "outputs": [
    {
     "data": {
      "text/plain": [
       "['CSV.8859-1.csv',\n",
       " 'CSV.ANSI.csv',\n",
       " 'CSV.UTF8.csv',\n",
       " 'exported_file.csv',\n",
       " 'exported_file_pipe.csv',\n",
       " 'exported_file_plusminus.csv',\n",
       " 'exported_file_semicolon.csv',\n",
       " 'exported_file_v1.csv',\n",
       " 'exported_file_v2.csv',\n",
       " 'exported_file_v3.csv',\n",
       " 'teste1.csv',\n",
       " 'vehicles.csv']"
      ]
     },
     "execution_count": 13,
     "metadata": {},
     "output_type": "execute_result"
    }
   ],
   "source": [
    "filenames\n",
    "[filenames[i] for i in range(len(filenames)) if filenames[i].endswith('.csv')]"
   ]
  },
  {
   "cell_type": "code",
   "execution_count": 18,
   "metadata": {
    "ExecuteTime": {
     "end_time": "2021-08-11T18:03:20.465515Z",
     "start_time": "2021-08-11T18:03:20.453303Z"
    },
    "cell_style": "center"
   },
   "outputs": [
    {
     "data": {
      "text/plain": [
       "['CSV.8859-1.csv',\n",
       " 'CSV.ANSI.csv',\n",
       " 'CSV.UTF8.csv',\n",
       " 'exported_file.csv',\n",
       " 'exported_file_pipe.csv',\n",
       " 'exported_file_plusminus.csv',\n",
       " 'exported_file_semicolon.csv',\n",
       " 'exported_file_v1.csv',\n",
       " 'exported_file_v2.csv',\n",
       " 'exported_file_v3.csv',\n",
       " 'teste1.csv',\n",
       " 'vehicles.csv']"
      ]
     },
     "execution_count": 18,
     "metadata": {},
     "output_type": "execute_result"
    }
   ],
   "source": [
    "[i for i in filenames if i.endswith('.csv')]"
   ]
  },
  {
   "cell_type": "code",
   "execution_count": 17,
   "metadata": {
    "ExecuteTime": {
     "end_time": "2021-08-11T17:59:34.913003Z",
     "start_time": "2021-08-11T17:59:34.897436Z"
    }
   },
   "outputs": [
    {
     "name": "stdout",
     "output_type": "stream",
     "text": [
      "Quando o indice da lista é 0 o elemento da lista é .DS_Store\n",
      "Quando o indice da lista é 1 o elemento da lista é aldrey_treated.xlsx\n",
      "Quando o indice da lista é 2 o elemento da lista é aldrey_treated2.xlsx\n",
      "Quando o indice da lista é 3 o elemento da lista é aldrey_treated_new2.xlsx\n",
      "Quando o indice da lista é 4 o elemento da lista é aldrey_treated_newversion.xlsx\n",
      "Quando o indice da lista é 5 o elemento da lista é aldrey_treated_newversion2.xlsx\n",
      "Quando o indice da lista é 6 o elemento da lista é aldrey_treated_v2.xlsx\n",
      "Quando o indice da lista é 7 o elemento da lista é CSV.8859-1.csv\n",
      "Quando o indice da lista é 8 o elemento da lista é CSV.ANSI.csv\n",
      "Quando o indice da lista é 9 o elemento da lista é CSV.UTF8.csv\n",
      "Quando o indice da lista é 10 o elemento da lista é dados_artigo1.xlsx\n",
      "Quando o indice da lista é 11 o elemento da lista é data.7z\n",
      "Quando o indice da lista é 12 o elemento da lista é exported_file.csv\n",
      "Quando o indice da lista é 13 o elemento da lista é exported_file_pipe.csv\n",
      "Quando o indice da lista é 14 o elemento da lista é exported_file_plusminus.csv\n",
      "Quando o indice da lista é 15 o elemento da lista é exported_file_semicolon.csv\n",
      "Quando o indice da lista é 16 o elemento da lista é exported_file_semicolon_excel.xlsx\n",
      "Quando o indice da lista é 17 o elemento da lista é exported_file_v1.csv\n",
      "Quando o indice da lista é 18 o elemento da lista é exported_file_v2.csv\n",
      "Quando o indice da lista é 19 o elemento da lista é exported_file_v3.csv\n",
      "Quando o indice da lista é 20 o elemento da lista é exported_file_v3csv\n",
      "Quando o indice da lista é 21 o elemento da lista é teste1.csv\n",
      "Quando o indice da lista é 22 o elemento da lista é vehicles\n",
      "Quando o indice da lista é 23 o elemento da lista é vehicles.csv\n",
      "Quando o indice da lista é 24 o elemento da lista é vehicles.json\n",
      "Quando o indice da lista é 25 o elemento da lista é vehicles.xlsx\n",
      "Quando o indice da lista é 26 o elemento da lista é vehicles.zip\n",
      "Quando o indice da lista é 27 o elemento da lista é vehicles_columns.json\n",
      "Quando o indice da lista é 28 o elemento da lista é vehicles_hash.txt\n",
      "Quando o indice da lista é 29 o elemento da lista é vehicles_index.json\n",
      "Quando o indice da lista é 30 o elemento da lista é vehicles_newsheet.xlsx\n",
      "Quando o indice da lista é 31 o elemento da lista é vehicles_pipe.txt\n",
      "Quando o indice da lista é 32 o elemento da lista é vehicles_split.json\n",
      "Quando o indice da lista é 33 o elemento da lista é vehicles_tab.txt\n",
      "Quando o indice da lista é 34 o elemento da lista é vehicles_table.json\n",
      "Quando o indice da lista é 35 o elemento da lista é vehicles_values.json\n"
     ]
    }
   ],
   "source": [
    "for i in range(len(filenames)):\n",
    "    filenames[i] = 'Outra coisa'"
   ]
  },
  {
   "cell_type": "code",
   "execution_count": null,
   "metadata": {
    "ExecuteTime": {
     "end_time": "2020-07-17T01:17:35.525361Z",
     "start_time": "2020-07-17T01:17:35.521365Z"
    }
   },
   "outputs": [],
   "source": [
    "csv_files = [file for file in filenames if file.endswith('.csv')]\n",
    "csv_files"
   ]
  },
  {
   "cell_type": "markdown",
   "metadata": {},
   "source": [
    "## Two `for` loops"
   ]
  },
  {
   "cell_type": "code",
   "execution_count": 1,
   "metadata": {
    "ExecuteTime": {
     "end_time": "2021-10-21T13:53:09.063204Z",
     "start_time": "2021-10-21T13:53:09.046249Z"
    }
   },
   "outputs": [],
   "source": [
    "list_of_lists = [[1,2,3,4], \n",
    "                 [5,6,7,8], \n",
    "                 [1,3,6,8]]"
   ]
  },
  {
   "cell_type": "code",
   "execution_count": 78,
   "metadata": {
    "ExecuteTime": {
     "end_time": "2021-10-21T13:52:26.131765Z",
     "start_time": "2021-10-21T13:52:26.115562Z"
    }
   },
   "outputs": [],
   "source": []
  },
  {
   "cell_type": "code",
   "execution_count": 9,
   "metadata": {
    "ExecuteTime": {
     "end_time": "2021-10-21T13:59:25.467796Z",
     "start_time": "2021-10-21T13:59:25.462810Z"
    }
   },
   "outputs": [
    {
     "data": {
      "text/plain": [
       "[6, 7, 8, 6, 8]"
      ]
     },
     "execution_count": 9,
     "metadata": {},
     "output_type": "execute_result"
    }
   ],
   "source": []
  },
  {
   "cell_type": "code",
   "execution_count": 50,
   "metadata": {
    "ExecuteTime": {
     "end_time": "2020-07-17T01:24:37.628960Z",
     "start_time": "2020-07-17T01:24:37.624002Z"
    }
   },
   "outputs": [
    {
     "name": "stdout",
     "output_type": "stream",
     "text": [
      "[6, 7, 8, 6, 8]\n",
      "Wall time: 1 ms\n"
     ]
    }
   ],
   "source": [
    "%%time\n",
    "list_of_lists = [[1,2,3,4], \n",
    "                 [5,6,7,8], \n",
    "                 [1,3,6,8]]\n",
    "my_results = []\n",
    "\n",
    "for item in list_of_lists:\n",
    "    for another_item in item:\n",
    "        if another_item > 5:    \n",
    "            my_results.append(another_item)\n",
    "#\n",
    "print(my_results)"
   ]
  },
  {
   "cell_type": "code",
   "execution_count": 117,
   "metadata": {
    "ExecuteTime": {
     "end_time": "2021-03-24T15:31:28.380884Z",
     "start_time": "2021-03-24T15:31:28.363634Z"
    }
   },
   "outputs": [
    {
     "data": {
      "text/plain": [
       "[6, 7, 8, 6, 8]"
      ]
     },
     "execution_count": 117,
     "metadata": {},
     "output_type": "execute_result"
    }
   ],
   "source": [
    "list_over_5 = [another_item for item in list_of_lists for another_item in item if another_item>5]\n",
    "list_over_5"
   ]
  },
  {
   "cell_type": "code",
   "execution_count": 51,
   "metadata": {
    "ExecuteTime": {
     "end_time": "2020-07-17T01:25:47.239457Z",
     "start_time": "2020-07-17T01:25:47.235442Z"
    }
   },
   "outputs": [
    {
     "name": "stdout",
     "output_type": "stream",
     "text": [
      "Wall time: 0 ns\n"
     ]
    },
    {
     "data": {
      "text/plain": [
       "[6, 7, 8, 6, 8]"
      ]
     },
     "execution_count": 51,
     "metadata": {},
     "output_type": "execute_result"
    }
   ],
   "source": [
    "%%time\n",
    "[another_item for item in list_of_lists for another_item in item if another_item > 5]"
   ]
  },
  {
   "cell_type": "markdown",
   "metadata": {},
   "source": [
    "## If-Else syntax in comprehensions"
   ]
  },
  {
   "cell_type": "code",
   "execution_count": 18,
   "metadata": {
    "ExecuteTime": {
     "end_time": "2021-10-21T14:05:55.440708Z",
     "start_time": "2021-10-21T14:05:55.422756Z"
    }
   },
   "outputs": [],
   "source": [
    "new_list=[]\n",
    "for num in range(0,11):\n",
    "    if num<5:\n",
    "        new_list.append('Menor que 5')\n",
    "    else:\n",
    "        new_list.append('Maior que 5')"
   ]
  },
  {
   "cell_type": "code",
   "execution_count": 32,
   "metadata": {
    "ExecuteTime": {
     "end_time": "2021-10-21T14:13:31.098881Z",
     "start_time": "2021-10-21T14:13:31.089905Z"
    }
   },
   "outputs": [
    {
     "data": {
      "text/plain": [
       "['Menor que 5',\n",
       " 'Menor que 5',\n",
       " 'Menor que 5',\n",
       " 'Menor que 5',\n",
       " 'Menor que 5',\n",
       " 'Maior que 5',\n",
       " 'Maior que 5',\n",
       " 'Maior que 5',\n",
       " 'Maior que 5',\n",
       " 'Maior que 5',\n",
       " 'Maior que 5']"
      ]
     },
     "execution_count": 32,
     "metadata": {},
     "output_type": "execute_result"
    }
   ],
   "source": [
    "['Menor que 5' if num<5 else 'Maior que 5' for num in range(0,11)]"
   ]
  },
  {
   "cell_type": "code",
   "execution_count": null,
   "metadata": {},
   "outputs": [],
   "source": []
  },
  {
   "cell_type": "code",
   "execution_count": null,
   "metadata": {},
   "outputs": [],
   "source": []
  },
  {
   "cell_type": "code",
   "execution_count": 118,
   "metadata": {
    "ExecuteTime": {
     "end_time": "2021-03-24T15:35:05.668704Z",
     "start_time": "2021-03-24T15:35:05.660218Z"
    }
   },
   "outputs": [
    {
     "data": {
      "text/plain": [
       "[0, 0, 0, 0, 0, 1, 1, 1, 1, 1]"
      ]
     },
     "execution_count": 118,
     "metadata": {},
     "output_type": "execute_result"
    }
   ],
   "source": [
    "new_list = []\n",
    "\n",
    "for item in range(10):\n",
    "    if item < 5:\n",
    "        new_list.append(0)\n",
    "    else:\n",
    "        new_list.append(1)\n",
    "\n",
    "new_list"
   ]
  },
  {
   "cell_type": "code",
   "execution_count": 95,
   "metadata": {
    "ExecuteTime": {
     "end_time": "2021-01-13T15:30:25.526622Z",
     "start_time": "2021-01-13T15:30:25.508671Z"
    },
    "scrolled": true
   },
   "outputs": [
    {
     "data": {
      "text/plain": [
       "[0, 0, 0, 0, 0, 1, 1, 1, 1, 1]"
      ]
     },
     "execution_count": 95,
     "metadata": {},
     "output_type": "execute_result"
    }
   ],
   "source": [
    "new_list = [0 if item<5 else 1 for item in range(10)]\n",
    "new_list"
   ]
  },
  {
   "cell_type": "code",
   "execution_count": null,
   "metadata": {},
   "outputs": [],
   "source": [
    "new_list = []\n",
    "\n",
    "for item in range(10):\n",
    "    if item == 5:\n",
    "        new_list.append('Igual a 5')\n",
    "    elif item <5:\n",
    "        new_list.append('Menor que 5')\n",
    "    else:\n",
    "        new_list.append('Maior que 5')\n",
    "\n",
    "new_list"
   ]
  },
  {
   "cell_type": "code",
   "execution_count": 34,
   "metadata": {
    "ExecuteTime": {
     "end_time": "2021-10-21T14:23:37.158782Z",
     "start_time": "2021-10-21T14:23:37.140830Z"
    }
   },
   "outputs": [
    {
     "ename": "SyntaxError",
     "evalue": "invalid syntax (<ipython-input-34-bad939d54197>, line 1)",
     "output_type": "error",
     "traceback": [
      "\u001b[1;36m  File \u001b[1;32m\"<ipython-input-34-bad939d54197>\"\u001b[1;36m, line \u001b[1;32m1\u001b[0m\n\u001b[1;33m    ['Igual a 5' if item==5 'Menor que 5' elif item<5  else 'Maior que 5' for item in range(10)]\u001b[0m\n\u001b[1;37m                            ^\u001b[0m\n\u001b[1;31mSyntaxError\u001b[0m\u001b[1;31m:\u001b[0m invalid syntax\n"
     ]
    }
   ],
   "source": [
    "['Igual a 5' if item==5 elif item<5 'Menor que 5' else 'Maior que 5' for item in range(10)]"
   ]
  },
  {
   "cell_type": "code",
   "execution_count": 35,
   "metadata": {
    "ExecuteTime": {
     "end_time": "2021-10-21T14:24:00.667312Z",
     "start_time": "2021-10-21T14:24:00.660331Z"
    },
    "cell_style": "center"
   },
   "outputs": [
    {
     "data": {
      "text/plain": [
       "[0, 0, 0, 0, 0, 5, 1, 1, 1, 1]"
      ]
     },
     "execution_count": 35,
     "metadata": {},
     "output_type": "execute_result"
    }
   ],
   "source": [
    "new_list = []\n",
    "\n",
    "for item in range(10):\n",
    "    if item == 5:\n",
    "        new_list.append('Igual a 5')\n",
    "    else:\n",
    "        if item <5:\n",
    "            new_list.append('Menor que 5')\n",
    "        else:\n",
    "            new_list.append('Maior que 5')\n",
    "\n",
    "new_list"
   ]
  },
  {
   "cell_type": "code",
   "execution_count": 36,
   "metadata": {
    "ExecuteTime": {
     "end_time": "2021-10-21T14:25:44.340838Z",
     "start_time": "2021-10-21T14:25:44.331862Z"
    },
    "cell_style": "center"
   },
   "outputs": [
    {
     "data": {
      "text/plain": [
       "['Menor que 5',\n",
       " 'Menor que 5',\n",
       " 'Menor que 5',\n",
       " 'Menor que 5',\n",
       " 'Menor que 5',\n",
       " 'Igual a 5',\n",
       " 'Maior que 5',\n",
       " 'Maior que 5',\n",
       " 'Maior que 5',\n",
       " 'Maior que 5']"
      ]
     },
     "execution_count": 36,
     "metadata": {},
     "output_type": "execute_result"
    }
   ],
   "source": [
    "new_list = ['Igual a 5' if item==5 else ('Menor que 5' if item<5 else 'Maior que 5') for item in range(10)]\n",
    "new_list"
   ]
  },
  {
   "cell_type": "code",
   "execution_count": 120,
   "metadata": {
    "ExecuteTime": {
     "end_time": "2021-03-24T15:51:22.559653Z",
     "start_time": "2021-03-24T15:51:22.537652Z"
    },
    "scrolled": true
   },
   "outputs": [
    {
     "name": "stdout",
     "output_type": "stream",
     "text": [
      "The Zen of Python, by Tim Peters\n",
      "\n",
      "Beautiful is better than ugly.\n",
      "Explicit is better than implicit.\n",
      "Simple is better than complex.\n",
      "Complex is better than complicated.\n",
      "Flat is better than nested.\n",
      "Sparse is better than dense.\n",
      "Readability counts.\n",
      "Special cases aren't special enough to break the rules.\n",
      "Although practicality beats purity.\n",
      "Errors should never pass silently.\n",
      "Unless explicitly silenced.\n",
      "In the face of ambiguity, refuse the temptation to guess.\n",
      "There should be one-- and preferably only one --obvious way to do it.\n",
      "Although that way may not be obvious at first unless you're Dutch.\n",
      "Now is better than never.\n",
      "Although never is often better than *right* now.\n",
      "If the implementation is hard to explain, it's a bad idea.\n",
      "If the implementation is easy to explain, it may be a good idea.\n",
      "Namespaces are one honking great idea -- let's do more of those!\n"
     ]
    }
   ],
   "source": [
    "import this"
   ]
  },
  {
   "cell_type": "markdown",
   "metadata": {},
   "source": [
    "# Resumo\n",
    "* Primeiro escrever []\n",
    "* segundo criar o for [i for i in list]\n",
    "* depois adicionar outros fors [e for i in list for e in i]\n",
    "* quando só tenho uma condição, ela entra no fim[i for in in list if i>5]\n",
    "* se tenho if else, a condição vai no começo [ 'resposta 1' if i>5 else 'resposta 2' for i in list]\n"
   ]
  },
  {
   "cell_type": "code",
   "execution_count": 37,
   "metadata": {
    "ExecuteTime": {
     "end_time": "2021-10-21T14:34:02.494707Z",
     "start_time": "2021-10-21T14:34:02.484734Z"
    }
   },
   "outputs": [
    {
     "data": {
      "text/plain": [
       "[0, 2, 4]"
      ]
     },
     "execution_count": 37,
     "metadata": {},
     "output_type": "execute_result"
    }
   ],
   "source": [
    "[i for i in range(10) if i<5 and i%2==0]"
   ]
  }
 ],
 "metadata": {
  "kernelspec": {
   "display_name": "Python 3 (ipykernel)",
   "language": "python",
   "name": "python3"
  },
  "language_info": {
   "codemirror_mode": {
    "name": "ipython",
    "version": 3
   },
   "file_extension": ".py",
   "mimetype": "text/x-python",
   "name": "python",
   "nbconvert_exporter": "python",
   "pygments_lexer": "ipython3",
   "version": "3.9.7"
  },
  "toc": {
   "base_numbering": 1,
   "nav_menu": {},
   "number_sections": true,
   "sideBar": true,
   "skip_h1_title": false,
   "title_cell": "Table of Contents",
   "title_sidebar": "Contents",
   "toc_cell": false,
   "toc_position": {},
   "toc_section_display": true,
   "toc_window_display": false
  },
  "varInspector": {
   "cols": {
    "lenName": 16,
    "lenType": 16,
    "lenVar": 40
   },
   "kernels_config": {
    "python": {
     "delete_cmd_postfix": "",
     "delete_cmd_prefix": "del ",
     "library": "var_list.py",
     "varRefreshCmd": "print(var_dic_list())"
    },
    "r": {
     "delete_cmd_postfix": ") ",
     "delete_cmd_prefix": "rm(",
     "library": "var_list.r",
     "varRefreshCmd": "cat(var_dic_list()) "
    }
   },
   "position": {
    "height": "144.4px",
    "left": "644px",
    "right": "20px",
    "top": "121px",
    "width": "350px"
   },
   "types_to_exclude": [
    "module",
    "function",
    "builtin_function_or_method",
    "instance",
    "_Feature"
   ],
   "window_display": false
  }
 },
 "nbformat": 4,
 "nbformat_minor": 2
}
