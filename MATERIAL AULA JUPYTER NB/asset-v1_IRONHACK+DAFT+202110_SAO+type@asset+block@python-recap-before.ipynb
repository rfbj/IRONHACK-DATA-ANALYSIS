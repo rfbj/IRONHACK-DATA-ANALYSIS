{
 "cells": [
  {
   "cell_type": "markdown",
   "metadata": {},
   "source": [
    "# Terminal Recap"
   ]
  },
  {
   "cell_type": "markdown",
   "metadata": {},
   "source": [
    "For those who want to get deeper on `bash`: https://missing.csail.mit.edu/2020/course-shell/"
   ]
  },
  {
   "cell_type": "markdown",
   "metadata": {},
   "source": [
    "-----"
   ]
  },
  {
   "cell_type": "markdown",
   "metadata": {},
   "source": []
  },
  {
   "cell_type": "markdown",
   "metadata": {},
   "source": [
    "# Titulo\n",
    "\n",
    "Hoje a aula é de revisão!"
   ]
  },
  {
   "cell_type": "markdown",
   "metadata": {},
   "source": [
    "# Example Code"
   ]
  },
  {
   "cell_type": "code",
   "execution_count": 1,
   "metadata": {
    "ExecuteTime": {
     "end_time": "2021-10-18T15:16:34.061991Z",
     "start_time": "2021-10-18T15:16:34.046034Z"
    }
   },
   "outputs": [],
   "source": [
    "x='Hello World'"
   ]
  },
  {
   "cell_type": "code",
   "execution_count": 2,
   "metadata": {
    "ExecuteTime": {
     "end_time": "2021-10-18T15:15:19.660677Z",
     "start_time": "2021-10-18T15:15:19.643722Z"
    }
   },
   "outputs": [
    {
     "name": "stdout",
     "output_type": "stream",
     "text": [
      "Hello World\n"
     ]
    }
   ],
   "source": [
    "print(x)"
   ]
  },
  {
   "cell_type": "markdown",
   "metadata": {
    "ExecuteTime": {
     "end_time": "2020-06-01T21:03:11.750648Z",
     "start_time": "2020-06-01T21:03:11.742640Z"
    }
   },
   "source": [
    "`ctrl+enter`: executa o código e permanece na mesma célula\n",
    "\n",
    "`shift+enter`: executa o código e vai pra célula seguinte"
   ]
  },
  {
   "cell_type": "markdown",
   "metadata": {
    "heading_collapsed": true
   },
   "source": [
    "# Markdown\n",
    "\n",
    "[Guia para markdown](https://www.markdownguide.org/)\n",
    "\n",
    "\n",
    "## Hello World\n",
    "### Hello World\n",
    "#### Hello World"
   ]
  },
  {
   "cell_type": "markdown",
   "metadata": {},
   "source": [
    "# Hello World\n",
    "\n",
    "##### Teste\n",
    "\n",
    "Simplesmente escrever aqui em <b> negrito </b> ou também em **negrito**, ou ainda em *itálico*, ou ainda <i> itálico </i>\n",
    "\n",
    "* Primeiro tópico\n",
    "* Segundo tópico\n",
    "\n",
    "> Citação\n",
    "\n",
    "```python\n",
    "print('Hello World')\n",
    "\n",
    "for i in range(10):\n",
    "    print('oi')\n",
    "```\n",
    "\n",
    "é uma documentação"
   ]
  },
  {
   "cell_type": "code",
   "execution_count": null,
   "metadata": {},
   "outputs": [],
   "source": [
    "#comentarios de codigo"
   ]
  },
  {
   "cell_type": "markdown",
   "metadata": {},
   "source": [
    "# Miscelaneous \n",
    "\n",
    "## keyboard shortcuts\n",
    "- `ESC` enters `NORMAL` mode\n",
    "\n",
    "- `NORMAL MODE`\n",
    "    - `m`: turn the cell into a `markdown` cell\n",
    "    - `y`: turn the cell into a `code` cell\n",
    "    - `a`: to create a cell `above`\n",
    "    - `b`: to create a cell `below`\n",
    "    - `x`: to cut the current cell\n",
    "    - `z`: to undo deletion\n",
    "    - `enter`: to return to `INSERT` mode\n",
    "- `CTRL+ENTER` run the current cell and `stays at the same` cell\n",
    "- `SHIFT+ENTER` run the current cell and `move to next` cell\n",
    "    \n",
    "## multiple cursors\n",
    "- Use `CTRL+mouse click` (or `COMMAND + mouse click` on mac)"
   ]
  },
  {
   "cell_type": "markdown",
   "metadata": {},
   "source": [
    "----"
   ]
  },
  {
   "cell_type": "markdown",
   "metadata": {},
   "source": [
    "# Python Basics"
   ]
  },
  {
   "cell_type": "markdown",
   "metadata": {},
   "source": [
    "## Variable assignment"
   ]
  },
  {
   "cell_type": "code",
   "execution_count": 4,
   "metadata": {
    "ExecuteTime": {
     "end_time": "2021-10-18T17:07:34.819923Z",
     "start_time": "2021-10-18T17:07:34.814936Z"
    }
   },
   "outputs": [],
   "source": [
    "# when you assign 2 to x, x is now an alias that will expand to 2 whenever you use it again.\n",
    "x = 2\n",
    "y = 8"
   ]
  },
  {
   "cell_type": "markdown",
   "metadata": {},
   "source": [
    "## The print `function`"
   ]
  },
  {
   "cell_type": "code",
   "execution_count": 5,
   "metadata": {
    "ExecuteTime": {
     "end_time": "2021-10-18T17:08:05.331701Z",
     "start_time": "2021-10-18T17:08:05.323721Z"
    }
   },
   "outputs": [
    {
     "name": "stdout",
     "output_type": "stream",
     "text": [
      "2\n"
     ]
    }
   ],
   "source": [
    "print(x)"
   ]
  },
  {
   "cell_type": "code",
   "execution_count": 6,
   "metadata": {
    "ExecuteTime": {
     "end_time": "2021-10-18T17:09:48.134468Z",
     "start_time": "2021-10-18T17:09:48.126489Z"
    }
   },
   "outputs": [],
   "source": [
    "x = 3\n",
    "x = 10"
   ]
  },
  {
   "cell_type": "code",
   "execution_count": 7,
   "metadata": {
    "ExecuteTime": {
     "end_time": "2021-10-18T17:09:52.895109Z",
     "start_time": "2021-10-18T17:09:52.886133Z"
    }
   },
   "outputs": [
    {
     "name": "stdout",
     "output_type": "stream",
     "text": [
      "Hello World\n"
     ]
    }
   ],
   "source": [
    "x = 2\n",
    "\n",
    "print('Hello World')\n",
    "# useful for debugging\n",
    "y = 3"
   ]
  },
  {
   "cell_type": "code",
   "execution_count": 8,
   "metadata": {
    "ExecuteTime": {
     "end_time": "2021-10-18T17:14:19.249280Z",
     "start_time": "2021-10-18T17:14:19.238310Z"
    }
   },
   "outputs": [],
   "source": [
    "for x in range(10):\n",
    "    if x==10:\n",
    "        print(x)"
   ]
  },
  {
   "cell_type": "markdown",
   "metadata": {
    "ExecuteTime": {
     "end_time": "2020-06-02T12:36:58.069371Z",
     "start_time": "2020-06-02T12:36:58.066379Z"
    }
   },
   "source": [
    "## Print vs display"
   ]
  },
  {
   "cell_type": "code",
   "execution_count": 9,
   "metadata": {
    "ExecuteTime": {
     "end_time": "2021-10-18T17:16:01.011774Z",
     "start_time": "2021-10-18T17:16:01.004924Z"
    }
   },
   "outputs": [
    {
     "name": "stdout",
     "output_type": "stream",
     "text": [
      "9\n"
     ]
    }
   ],
   "source": [
    "print(x)"
   ]
  },
  {
   "cell_type": "code",
   "execution_count": 10,
   "metadata": {
    "ExecuteTime": {
     "end_time": "2021-10-18T17:16:01.276510Z",
     "start_time": "2021-10-18T17:16:01.269529Z"
    }
   },
   "outputs": [
    {
     "data": {
      "text/plain": [
       "9"
      ]
     },
     "execution_count": 10,
     "metadata": {},
     "output_type": "execute_result"
    }
   ],
   "source": [
    "y\n",
    "x"
   ]
  },
  {
   "cell_type": "code",
   "execution_count": 11,
   "metadata": {
    "ExecuteTime": {
     "end_time": "2021-10-18T17:16:15.834082Z",
     "start_time": "2021-10-18T17:16:15.824112Z"
    }
   },
   "outputs": [
    {
     "name": "stdout",
     "output_type": "stream",
     "text": [
      "2\n",
      "3\n"
     ]
    }
   ],
   "source": [
    "x = 2\n",
    "print(x)\n",
    "\n",
    "x = 3\n",
    "print(x)"
   ]
  },
  {
   "cell_type": "markdown",
   "metadata": {},
   "source": [
    "### f-strings"
   ]
  },
  {
   "cell_type": "code",
   "execution_count": 12,
   "metadata": {
    "ExecuteTime": {
     "end_time": "2021-10-18T11:48:42.239577Z",
     "start_time": "2021-10-18T11:48:42.228607Z"
    }
   },
   "outputs": [
    {
     "name": "stdout",
     "output_type": "stream",
     "text": [
      "Agora você esta no loop número 0 meus parabens\n",
      "Agora você esta no loop número 1 meus parabens\n",
      "Agora você esta no loop número 2 meus parabens\n",
      "Agora você esta no loop número 3 meus parabens\n",
      "Agora você esta no loop número 4 meus parabens\n",
      "Agora você esta no loop número 5 meus parabens\n",
      "Agora você esta no loop número 6 meus parabens\n",
      "Agora você esta no loop número 7 meus parabens\n",
      "Agora você esta no loop número 8 meus parabens\n",
      "Agora você esta no loop número 9 meus parabens\n"
     ]
    }
   ],
   "source": [
    "for x in range(10):\n",
    "    print('Agora você esta no loop número', x, 'meus parabens')\n",
    "    #if x==10:\n",
    "        #print('voce é nota 10')"
   ]
  },
  {
   "cell_type": "code",
   "execution_count": 13,
   "metadata": {
    "ExecuteTime": {
     "end_time": "2021-01-11T17:11:39.610691Z",
     "start_time": "2021-01-11T17:11:39.596729Z"
    }
   },
   "outputs": [
    {
     "name": "stdout",
     "output_type": "stream",
     "text": [
      "O valor da variável x é igual a 9\n"
     ]
    }
   ],
   "source": [
    "print('O valor da variável x é igual a', x)"
   ]
  },
  {
   "cell_type": "code",
   "execution_count": 14,
   "metadata": {
    "ExecuteTime": {
     "end_time": "2021-10-18T17:20:49.147281Z",
     "start_time": "2021-10-18T17:20:49.134316Z"
    }
   },
   "outputs": [
    {
     "name": "stdout",
     "output_type": "stream",
     "text": [
      "O valor da variável x é igual a 10\n"
     ]
    }
   ],
   "source": [
    "print('O valor da variável x é igual a {}'.format(10))"
   ]
  },
  {
   "cell_type": "code",
   "execution_count": 15,
   "metadata": {
    "ExecuteTime": {
     "end_time": "2021-10-18T17:20:35.263682Z",
     "start_time": "2021-10-18T17:20:35.245729Z"
    }
   },
   "outputs": [
    {
     "name": "stdout",
     "output_type": "stream",
     "text": [
      "Agora nos estamos na iteracao numero 0\n",
      "Agora nos estamos na iteracao numero 1\n",
      "Agora nos estamos na iteracao numero 2\n",
      "Agora nos estamos na iteracao numero 3\n",
      "Agora nos estamos na iteracao numero 4\n",
      "Agora nos estamos na iteracao numero 5\n",
      "Agora nos estamos na iteracao numero 6\n",
      "Agora nos estamos na iteracao numero 7\n",
      "Agora nos estamos na iteracao numero 8\n",
      "Agora nos estamos na iteracao numero 9\n"
     ]
    }
   ],
   "source": [
    "for i in range(10):\n",
    "    print(f'Agora nos estamos na iteracao numero {i}')"
   ]
  },
  {
   "cell_type": "code",
   "execution_count": 16,
   "metadata": {
    "ExecuteTime": {
     "end_time": "2021-01-11T17:11:39.658563Z",
     "start_time": "2021-01-11T17:11:39.645598Z"
    }
   },
   "outputs": [
    {
     "name": "stdout",
     "output_type": "stream",
     "text": [
      "A variável x é igual a {x}\n"
     ]
    }
   ],
   "source": [
    "print('A variável x é igual a {x}')"
   ]
  },
  {
   "cell_type": "code",
   "execution_count": 17,
   "metadata": {
    "ExecuteTime": {
     "end_time": "2021-10-18T17:21:30.713997Z",
     "start_time": "2021-10-18T17:21:30.710007Z"
    }
   },
   "outputs": [
    {
     "name": "stdout",
     "output_type": "stream",
     "text": [
      "A variável x é igual a 8 que é igual a 512\n"
     ]
    }
   ],
   "source": [
    "x=8\n",
    "print(f'A variável x é igual a {x} que é igual a {x**3}')"
   ]
  },
  {
   "cell_type": "markdown",
   "metadata": {},
   "source": [
    "# Data Types\n",
    "\n",
    "## The `type` function"
   ]
  },
  {
   "cell_type": "markdown",
   "metadata": {},
   "source": [
    "* Númericos , fazem operações matematicas\n",
    "    * Inteiro - números inteiros\n",
    "    * Float - números decimais\n",
    "    * bool - True/False, resultados de comparação\n",
    "* Sequênciais, acessar elementos utilizando os indices(posições)\n",
    "    * String - definidas pelas aspas, sequências de caracteres\n",
    "    * Lista - definida pelo [], sequência de objetos/elementos\n",
    "    * Tupla - definida pelo (), sequência de objetos/elementos imutáveis\n",
    "* Map\n",
    "    * Dicionario - definido pelo {}, conjuntos de chaves e valores\n",
    "    * Set - definido pelo {}, conjunto de chaves(não tem repetição dos elementos)\n"
   ]
  },
  {
   "cell_type": "code",
   "execution_count": 18,
   "metadata": {
    "ExecuteTime": {
     "end_time": "2021-10-18T18:12:38.707347Z",
     "start_time": "2021-10-18T18:12:38.699368Z"
    }
   },
   "outputs": [],
   "source": [
    "x = {'facaa',0,2,'fasf',0 }"
   ]
  },
  {
   "cell_type": "code",
   "execution_count": 19,
   "metadata": {
    "ExecuteTime": {
     "end_time": "2021-10-18T18:01:32.397201Z",
     "start_time": "2021-10-18T18:01:32.382242Z"
    }
   },
   "outputs": [
    {
     "data": {
      "text/plain": [
       "4"
      ]
     },
     "execution_count": 19,
     "metadata": {},
     "output_type": "execute_result"
    }
   ],
   "source": [
    "len(set(x))"
   ]
  },
  {
   "cell_type": "code",
   "execution_count": 20,
   "metadata": {
    "ExecuteTime": {
     "end_time": "2021-10-18T18:16:07.928609Z",
     "start_time": "2021-10-18T18:16:07.916641Z"
    }
   },
   "outputs": [
    {
     "data": {
      "text/plain": [
       "float"
      ]
     },
     "execution_count": 20,
     "metadata": {},
     "output_type": "execute_result"
    }
   ],
   "source": [
    "type(1.1)"
   ]
  },
  {
   "cell_type": "code",
   "execution_count": null,
   "metadata": {},
   "outputs": [],
   "source": []
  },
  {
   "cell_type": "code",
   "execution_count": null,
   "metadata": {},
   "outputs": [],
   "source": []
  },
  {
   "cell_type": "markdown",
   "metadata": {},
   "source": [
    "## `isinstance` function"
   ]
  },
  {
   "cell_type": "code",
   "execution_count": null,
   "metadata": {
    "ExecuteTime": {
     "end_time": "2021-10-18T18:17:31.901147Z",
     "start_time": "2021-10-18T18:17:31.883194Z"
    }
   },
   "outputs": [],
   "source": [
    "x = (1,2)\n",
    "isinstance(x,int)\n"
   ]
  },
  {
   "cell_type": "code",
   "execution_count": null,
   "metadata": {
    "ExecuteTime": {
     "end_time": "2021-10-18T18:19:03.208960Z",
     "start_time": "2021-10-18T18:19:03.204972Z"
    },
    "scrolled": true
   },
   "outputs": [],
   "source": [
    "x='onze'\n",
    "if isinstance(x, int):\n",
    "    x+=1\n",
    "print(x)"
   ]
  },
  {
   "cell_type": "code",
   "execution_count": null,
   "metadata": {
    "ExecuteTime": {
     "end_time": "2021-08-09T15:50:21.279235Z",
     "start_time": "2021-08-09T15:50:21.263277Z"
    }
   },
   "outputs": [],
   "source": [
    "isinstance('Alguma coisa', str)"
   ]
  },
  {
   "cell_type": "code",
   "execution_count": null,
   "metadata": {
    "ExecuteTime": {
     "end_time": "2021-10-18T18:24:42.755359Z",
     "start_time": "2021-10-18T18:24:38.243363Z"
    }
   },
   "outputs": [],
   "source": [
    "x = input('Coloque sua idade ')\n",
    "if x.isdigit():\n",
    "    x = int(x)\n",
    "    print(x/2)\n",
    "else:\n",
    "    print('Digite novamente')"
   ]
  },
  {
   "cell_type": "code",
   "execution_count": null,
   "metadata": {
    "ExecuteTime": {
     "end_time": "2021-10-18T18:30:27.628180Z",
     "start_time": "2021-10-18T18:30:27.611226Z"
    }
   },
   "outputs": [],
   "source": [
    "'1722'.isdigit()"
   ]
  },
  {
   "cell_type": "code",
   "execution_count": null,
   "metadata": {
    "ExecuteTime": {
     "end_time": "2021-10-18T18:27:36.333188Z",
     "start_time": "2021-10-18T18:27:36.315910Z"
    }
   },
   "outputs": [],
   "source": [
    "isinstance('1722',str)"
   ]
  },
  {
   "cell_type": "markdown",
   "metadata": {},
   "source": [
    "# Code Execution"
   ]
  },
  {
   "cell_type": "markdown",
   "metadata": {},
   "source": [
    "## For loops"
   ]
  },
  {
   "cell_type": "code",
   "execution_count": null,
   "metadata": {
    "ExecuteTime": {
     "end_time": "2021-10-18T18:36:12.136274Z",
     "start_time": "2021-10-18T18:36:12.123309Z"
    }
   },
   "outputs": [],
   "source": [
    "print('Miau')"
   ]
  },
  {
   "cell_type": "code",
   "execution_count": null,
   "metadata": {
    "ExecuteTime": {
     "end_time": "2021-08-09T17:05:34.066401Z",
     "start_time": "2021-08-09T17:05:34.058422Z"
    },
    "scrolled": false
   },
   "outputs": [],
   "source": [
    "print('Miau')\n",
    "print('Miau')\n",
    "print('Miau')\n",
    "print('Miau')\n",
    "print('Miau')"
   ]
  },
  {
   "cell_type": "code",
   "execution_count": null,
   "metadata": {
    "ExecuteTime": {
     "end_time": "2021-01-11T17:11:40.060488Z",
     "start_time": "2021-01-11T17:11:40.046526Z"
    }
   },
   "outputs": [],
   "source": [
    "# range(5) --> [0, 1, 2, 3, 4]\n",
    "for item in range(5):\n",
    "    print('Miau')"
   ]
  },
  {
   "cell_type": "code",
   "execution_count": null,
   "metadata": {
    "ExecuteTime": {
     "end_time": "2021-10-18T18:42:37.811317Z",
     "start_time": "2021-10-18T18:42:37.802340Z"
    },
    "scrolled": true
   },
   "outputs": [],
   "source": [
    "lista_miados= ['Miau', 'Miiiau', 'Miaar', 'Meaow' ,'Meeeeeow']\n",
    "for item in lista_miados:\n",
    "    print(item)\n"
   ]
  },
  {
   "cell_type": "code",
   "execution_count": null,
   "metadata": {
    "ExecuteTime": {
     "end_time": "2021-10-18T18:45:00.496665Z",
     "start_time": "2021-10-18T18:45:00.481705Z"
    },
    "scrolled": false
   },
   "outputs": [],
   "source": [
    "atum =['Miau', 'Miiiau', 'Miaar', 'Meaow' ,'Meeeeeow']\n",
    "pingo =['Miau', 'Miiiau', 'Meew', 'Miou' ,'Meeee']\n",
    "for indice in range(len(atum)):\n",
    "    print(atum[indice])\n",
    "    print(pingo[indice])"
   ]
  },
  {
   "cell_type": "code",
   "execution_count": null,
   "metadata": {
    "ExecuteTime": {
     "end_time": "2021-10-18T18:50:13.941408Z",
     "start_time": "2021-10-18T18:50:13.930437Z"
    },
    "cell_style": "split"
   },
   "outputs": [],
   "source": [
    "atum[3]"
   ]
  },
  {
   "cell_type": "code",
   "execution_count": null,
   "metadata": {
    "ExecuteTime": {
     "end_time": "2021-10-18T18:50:17.806659Z",
     "start_time": "2021-10-18T18:50:17.800675Z"
    },
    "cell_style": "split"
   },
   "outputs": [],
   "source": [
    "pingo[3]"
   ]
  },
  {
   "cell_type": "code",
   "execution_count": null,
   "metadata": {
    "ExecuteTime": {
     "end_time": "2021-10-18T18:53:43.039106Z",
     "start_time": "2021-10-18T18:53:43.032124Z"
    },
    "cell_style": "center"
   },
   "outputs": [],
   "source": [
    "list(zip(atum,pingo))"
   ]
  },
  {
   "cell_type": "code",
   "execution_count": null,
   "metadata": {
    "ExecuteTime": {
     "end_time": "2021-10-18T18:52:49.462459Z",
     "start_time": "2021-10-18T18:52:49.450500Z"
    }
   },
   "outputs": [],
   "source": [
    "for a,b in zip(atum,pingo):\n",
    "    print(a)\n",
    "    print(b)"
   ]
  },
  {
   "cell_type": "code",
   "execution_count": null,
   "metadata": {},
   "outputs": [],
   "source": []
  },
  {
   "cell_type": "code",
   "execution_count": null,
   "metadata": {},
   "outputs": [],
   "source": []
  },
  {
   "cell_type": "markdown",
   "metadata": {},
   "source": [
    "## While loops\n",
    "\n",
    "`while` loop run `while a condition is True`"
   ]
  },
  {
   "cell_type": "code",
   "execution_count": null,
   "metadata": {
    "ExecuteTime": {
     "end_time": "2021-10-18T18:55:53.518826Z",
     "start_time": "2021-10-18T18:55:53.512851Z"
    }
   },
   "outputs": [],
   "source": [
    "item = 0\n",
    "item < 5"
   ]
  },
  {
   "cell_type": "code",
   "execution_count": null,
   "metadata": {
    "ExecuteTime": {
     "end_time": "2021-10-18T18:57:14.256175Z",
     "start_time": "2021-10-18T18:57:14.241215Z"
    }
   },
   "outputs": [],
   "source": [
    "item = 0\n",
    "while item <= 5:\n",
    "    print('Miau')\n",
    "    item = item + 1\n",
    "    #item += 1"
   ]
  },
  {
   "cell_type": "code",
   "execution_count": null,
   "metadata": {
    "ExecuteTime": {
     "end_time": "2021-10-18T19:08:19.512699Z",
     "start_time": "2021-10-18T19:08:17.633806Z"
    }
   },
   "outputs": [],
   "source": [
    "x = input('Coloque sua idade ')\n",
    "while x.isdigit()==False:\n",
    "    x = input('Digite novamente. Coloque sua idade ')\n",
    "x = int(x)\n",
    "print(int(x/2))"
   ]
  },
  {
   "cell_type": "code",
   "execution_count": null,
   "metadata": {},
   "outputs": [],
   "source": []
  },
  {
   "cell_type": "code",
   "execution_count": null,
   "metadata": {},
   "outputs": [],
   "source": []
  },
  {
   "cell_type": "code",
   "execution_count": null,
   "metadata": {},
   "outputs": [],
   "source": []
  },
  {
   "cell_type": "code",
   "execution_count": null,
   "metadata": {
    "ExecuteTime": {
     "end_time": "2021-10-18T19:13:53.012993Z",
     "start_time": "2021-10-18T19:13:50.111916Z"
    }
   },
   "outputs": [],
   "source": [
    "while True:\n",
    "    print('Infinite')\n",
    "    "
   ]
  },
  {
   "cell_type": "code",
   "execution_count": null,
   "metadata": {
    "ExecuteTime": {
     "end_time": "2021-10-18T19:20:11.974585Z",
     "start_time": "2021-10-18T19:20:11.960623Z"
    }
   },
   "outputs": [],
   "source": [
    "lista = [1,2,3,4]\n",
    "for item in lista:\n",
    "    if len(lista)<100:\n",
    "        pass\n",
    "lista.append(item)\n",
    "print(lista)"
   ]
  },
  {
   "cell_type": "code",
   "execution_count": null,
   "metadata": {
    "ExecuteTime": {
     "end_time": "2021-10-18T19:44:32.008485Z",
     "start_time": "2021-10-18T19:44:31.990534Z"
    }
   },
   "outputs": [],
   "source": []
  },
  {
   "cell_type": "code",
   "execution_count": null,
   "metadata": {
    "ExecuteTime": {
     "end_time": "2021-10-18T19:44:32.241620Z",
     "start_time": "2021-10-18T19:44:32.223676Z"
    }
   },
   "outputs": [],
   "source": [
    "lista=[[2,1,'fada'],[3.465,'modanbida',4]]\n",
    "for item in lista:\n",
    "    for i in item:\n",
    "        if isinstance(i,(int,float)):\n",
    "            print(i*2)"
   ]
  },
  {
   "cell_type": "markdown",
   "metadata": {},
   "source": [
    "# Conditions"
   ]
  },
  {
   "cell_type": "code",
   "execution_count": null,
   "metadata": {
    "ExecuteTime": {
     "end_time": "2021-10-18T19:56:20.937978Z",
     "start_time": "2021-10-18T19:56:20.926011Z"
    }
   },
   "outputs": [],
   "source": [
    "a = 10\n",
    "b = 5\n",
    "c = 70"
   ]
  },
  {
   "cell_type": "code",
   "execution_count": null,
   "metadata": {
    "ExecuteTime": {
     "end_time": "2021-10-18T19:47:00.860079Z",
     "start_time": "2021-10-18T19:47:00.847129Z"
    }
   },
   "outputs": [],
   "source": [
    "a == a\n",
    "a != b\n",
    "a > b\n",
    "a < b\n",
    "a <= b\n",
    "a >= b\n"
   ]
  },
  {
   "cell_type": "code",
   "execution_count": null,
   "metadata": {
    "ExecuteTime": {
     "end_time": "2021-08-09T17:46:05.039327Z",
     "start_time": "2021-08-09T17:46:05.020847Z"
    },
    "scrolled": true
   },
   "outputs": [],
   "source": [
    "'a' in 'atum'"
   ]
  },
  {
   "cell_type": "code",
   "execution_count": null,
   "metadata": {
    "ExecuteTime": {
     "end_time": "2021-10-18T19:49:47.432112Z",
     "start_time": "2021-10-18T19:49:47.422140Z"
    }
   },
   "outputs": [],
   "source": [
    "if a > b:\n",
    "    print('oi')\n",
    "print('ola')"
   ]
  },
  {
   "cell_type": "code",
   "execution_count": null,
   "metadata": {
    "ExecuteTime": {
     "end_time": "2021-10-18T19:54:44.498290Z",
     "start_time": "2021-10-18T19:54:44.488313Z"
    }
   },
   "outputs": [],
   "source": [
    "a = 5\n",
    "b = 5"
   ]
  },
  {
   "cell_type": "code",
   "execution_count": null,
   "metadata": {
    "ExecuteTime": {
     "end_time": "2021-10-18T19:55:20.904883Z",
     "start_time": "2021-10-18T19:55:20.895906Z"
    }
   },
   "outputs": [],
   "source": [
    "if a <= b:\n",
    "    print('oi')\n",
    "elif a==b:\n",
    "    print('qualquer coisa')\n",
    "else: \n",
    "    print('tchau')"
   ]
  },
  {
   "cell_type": "code",
   "execution_count": null,
   "metadata": {
    "ExecuteTime": {
     "end_time": "2021-10-18T19:56:23.890925Z",
     "start_time": "2021-10-18T19:56:23.886935Z"
    }
   },
   "outputs": [],
   "source": [
    "if a > b and a < c:\n",
    "    print('Ambas as condições são verdadeiras')\n",
    "else:\n",
    "    print('Ou uma ou outra condição não são verdadeiras')"
   ]
  },
  {
   "cell_type": "markdown",
   "metadata": {},
   "source": [
    "## <u>AND</u> operator \n",
    "\n",
    "- `True` **and** `True` $\\to$ `True`\n",
    "- `True` **and** `False` $\\to$ `False`\n",
    "- `False` **and** `True` $\\to$ `False`\n",
    "- `False` **and** `False` $\\to$ `False`"
   ]
  },
  {
   "cell_type": "markdown",
   "metadata": {},
   "source": [
    "## <u>OR</u> operator \n",
    "\n",
    "- `True` **or** `True` $\\to$ `True`\n",
    "- `True` **or** `False` $\\to$ `True`\n",
    "- `False` **or** `True` $\\to$ `True`\n",
    "- `False` **or** `False` $\\to$ `False`"
   ]
  },
  {
   "cell_type": "markdown",
   "metadata": {},
   "source": [
    "# Reserved words python"
   ]
  },
  {
   "cell_type": "code",
   "execution_count": null,
   "metadata": {
    "ExecuteTime": {
     "end_time": "2021-10-18T20:00:44.280888Z",
     "start_time": "2021-10-18T20:00:44.262935Z"
    }
   },
   "outputs": [],
   "source": [
    "list(range(5))"
   ]
  },
  {
   "cell_type": "code",
   "execution_count": null,
   "metadata": {
    "ExecuteTime": {
     "end_time": "2021-10-18T20:00:57.108973Z",
     "start_time": "2021-10-18T20:00:57.094014Z"
    }
   },
   "outputs": [],
   "source": [
    "range = 'Outra coisa'"
   ]
  },
  {
   "cell_type": "code",
   "execution_count": null,
   "metadata": {
    "ExecuteTime": {
     "end_time": "2021-10-18T20:00:57.934743Z",
     "start_time": "2021-10-18T20:00:57.927762Z"
    }
   },
   "outputs": [],
   "source": [
    "range(5)"
   ]
  },
  {
   "cell_type": "code",
   "execution_count": null,
   "metadata": {
    "ExecuteTime": {
     "end_time": "2021-10-18T20:14:03.742264Z",
     "start_time": "2021-10-18T20:14:03.727304Z"
    }
   },
   "outputs": [],
   "source": [
    "x=2\n",
    "x=4\n"
   ]
  },
  {
   "cell_type": "code",
   "execution_count": null,
   "metadata": {
    "ExecuteTime": {
     "end_time": "2021-10-18T20:14:04.579921Z",
     "start_time": "2021-10-18T20:14:04.574935Z"
    }
   },
   "outputs": [],
   "source": []
  },
  {
   "cell_type": "code",
   "execution_count": null,
   "metadata": {},
   "outputs": [],
   "source": []
  }
 ],
 "metadata": {
  "kernelspec": {
   "display_name": "Python 3 (ipykernel)",
   "language": "python",
   "name": "python3"
  },
  "language_info": {
   "codemirror_mode": {
    "name": "ipython",
    "version": 3
   },
   "file_extension": ".py",
   "mimetype": "text/x-python",
   "name": "python",
   "nbconvert_exporter": "python",
   "pygments_lexer": "ipython3",
   "version": "3.9.7"
  },
  "toc": {
   "base_numbering": 1,
   "nav_menu": {},
   "number_sections": true,
   "sideBar": true,
   "skip_h1_title": false,
   "title_cell": "Table of Contents",
   "title_sidebar": "Contents",
   "toc_cell": false,
   "toc_position": {
    "height": "calc(100% - 180px)",
    "left": "10px",
    "top": "150px",
    "width": "307.2px"
   },
   "toc_section_display": true,
   "toc_window_display": false
  },
  "varInspector": {
   "cols": {
    "lenName": 16,
    "lenType": 16,
    "lenVar": 40
   },
   "kernels_config": {
    "python": {
     "delete_cmd_postfix": "",
     "delete_cmd_prefix": "del ",
     "library": "var_list.py",
     "varRefreshCmd": "print(var_dic_list())"
    },
    "r": {
     "delete_cmd_postfix": ") ",
     "delete_cmd_prefix": "rm(",
     "library": "var_list.r",
     "varRefreshCmd": "cat(var_dic_list()) "
    }
   },
   "position": {
    "height": "250.4px",
    "left": "574.8px",
    "right": "20px",
    "top": "77px",
    "width": "360px"
   },
   "types_to_exclude": [
    "module",
    "function",
    "builtin_function_or_method",
    "instance",
    "_Feature"
   ],
   "window_display": false
  }
 },
 "nbformat": 4,
 "nbformat_minor": 2
}