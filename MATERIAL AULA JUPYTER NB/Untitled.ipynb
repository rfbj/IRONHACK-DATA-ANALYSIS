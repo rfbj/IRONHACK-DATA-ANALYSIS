{
 "cells": [
  {
   "cell_type": "code",
   "execution_count": 1,
   "id": "e40f8288",
   "metadata": {
    "ExecuteTime": {
     "end_time": "2022-02-07T12:36:49.872451Z",
     "start_time": "2022-02-07T12:36:44.945655Z"
    }
   },
   "outputs": [
    {
     "name": "stdout",
     "output_type": "stream",
     "text": [
      "Collecting cookiecutter\n",
      "  Downloading cookiecutter-1.7.3-py2.py3-none-any.whl (34 kB)\n",
      "Requirement already satisfied: requests>=2.23.0 in c:\\users\\rfbj\\appdata\\local\\programs\\python\\python310\\lib\\site-packages (from cookiecutter) (2.27.1)\n",
      "Requirement already satisfied: six>=1.10 in c:\\users\\rfbj\\appdata\\local\\programs\\python\\python310\\lib\\site-packages (from cookiecutter) (1.16.0)\n",
      "Collecting binaryornot>=0.4.4\n",
      "  Downloading binaryornot-0.4.4-py2.py3-none-any.whl (9.0 kB)\n",
      "Requirement already satisfied: Jinja2<4.0.0,>=2.7 in c:\\users\\rfbj\\appdata\\local\\programs\\python\\python310\\lib\\site-packages (from cookiecutter) (3.0.3)\n",
      "Collecting jinja2-time>=0.2.0\n",
      "  Downloading jinja2_time-0.2.0-py2.py3-none-any.whl (6.4 kB)\n",
      "Collecting poyo>=0.5.0\n",
      "  Downloading poyo-0.5.0-py2.py3-none-any.whl (10 kB)\n",
      "Requirement already satisfied: click>=7.0 in c:\\users\\rfbj\\appdata\\local\\programs\\python\\python310\\lib\\site-packages (from cookiecutter) (8.0.3)\n",
      "Collecting python-slugify>=4.0.0\n",
      "  Downloading python_slugify-5.0.2-py2.py3-none-any.whl (6.7 kB)\n",
      "Collecting chardet>=3.0.2\n",
      "  Downloading chardet-4.0.0-py2.py3-none-any.whl (178 kB)\n",
      "     -------------------------------------- 178.7/178.7 KB 5.4 MB/s eta 0:00:00\n",
      "Requirement already satisfied: colorama in c:\\users\\rfbj\\appdata\\local\\programs\\python\\python310\\lib\\site-packages (from click>=7.0->cookiecutter) (0.4.4)\n",
      "Requirement already satisfied: MarkupSafe>=2.0 in c:\\users\\rfbj\\appdata\\local\\programs\\python\\python310\\lib\\site-packages (from Jinja2<4.0.0,>=2.7->cookiecutter) (2.0.1)\n",
      "Collecting arrow\n",
      "  Downloading arrow-1.2.2-py3-none-any.whl (64 kB)\n",
      "     ---------------------------------------- 64.0/64.0 KB 3.6 MB/s eta 0:00:00\n",
      "Collecting text-unidecode>=1.3\n",
      "  Downloading text_unidecode-1.3-py2.py3-none-any.whl (78 kB)\n",
      "     ---------------------------------------- 78.2/78.2 KB 4.2 MB/s eta 0:00:00\n",
      "Requirement already satisfied: charset-normalizer~=2.0.0 in c:\\users\\rfbj\\appdata\\local\\programs\\python\\python310\\lib\\site-packages (from requests>=2.23.0->cookiecutter) (2.0.10)\n",
      "Requirement already satisfied: certifi>=2017.4.17 in c:\\users\\rfbj\\appdata\\local\\programs\\python\\python310\\lib\\site-packages (from requests>=2.23.0->cookiecutter) (2021.10.8)\n",
      "Requirement already satisfied: urllib3<1.27,>=1.21.1 in c:\\users\\rfbj\\appdata\\local\\programs\\python\\python310\\lib\\site-packages (from requests>=2.23.0->cookiecutter) (1.26.8)\n",
      "Requirement already satisfied: idna<4,>=2.5 in c:\\users\\rfbj\\appdata\\local\\programs\\python\\python310\\lib\\site-packages (from requests>=2.23.0->cookiecutter) (3.3)\n",
      "Requirement already satisfied: python-dateutil>=2.7.0 in c:\\users\\rfbj\\appdata\\local\\programs\\python\\python310\\lib\\site-packages (from arrow->jinja2-time>=0.2.0->cookiecutter) (2.8.2)\n",
      "Installing collected packages: text-unidecode, python-slugify, poyo, chardet, binaryornot, arrow, jinja2-time, cookiecutter\n",
      "Successfully installed arrow-1.2.2 binaryornot-0.4.4 chardet-4.0.0 cookiecutter-1.7.3 jinja2-time-0.2.0 poyo-0.5.0 python-slugify-5.0.2 text-unidecode-1.3\n"
     ]
    }
   ],
   "source": [
    "# from tqdm import tqdm\n",
    "# from multiprocess import Pool, cpu_count\n",
    "# import re\n",
    "# import numpy as np\n",
    "# import pandas as pd\n",
    "# import requests\n",
    "# from bs4 import BeautifulSoup\n",
    "# pool = Pool(processes=4)\n",
    "# url = 'https://github.com/CSSEGISandData/COVID-19/tree/master/csse_covid_19_data/csse_covid_19_daily_reports'\n",
    "\n",
    "\n",
    "# def get_data(url):\n",
    "#     response = requests.get(url)\n",
    "#     html = response.content\n",
    "#     soup = BeautifulSoup(html)\n",
    "#     csv_files = ['https://github.com' + tag['href'] for tag in soup.find_all('a') if tag['href'].endswith('.csv')]\n",
    "#     return csv_files\n",
    "\n",
    "# csv_files = get_data(url)\n",
    "\n",
    "# def gitdata(file):\n",
    "#         import re\n",
    "#         import numpy as np\n",
    "#         import pandas as pd\n",
    "#         import requests\n",
    "#         from bs4 import BeautifulSoup\n",
    "#         response = requests.get(file)\n",
    "#         html = response.content\n",
    "#         soup = BeautifulSoup(html)\n",
    "#         soup.find('div', attrs={'class':'BtnGroup'}).find('a')['href']\n",
    "#         csv_url = 'https://github.com' + soup.find_all('div', attrs={'class':'BtnGroup'})[-1].find_all('a')[0]['href']\n",
    "#         date = re.findall('\\d{2}-\\d{2}-\\d{4}', csv_url)[0].replace('-','_')\n",
    "#         filename = 'corona_' + date + '.csv'\n",
    "#         df = pd.read_csv(csv_url)\n",
    "        \n",
    "#         return df\n",
    "\n",
    "\n",
    "# #var = pool.map(gitdata,csv_files[:6])\n",
    "!pip install cookiecutter"
   ]
  },
  {
   "cell_type": "code",
   "execution_count": null,
   "id": "9f8d3a33",
   "metadata": {
    "ExecuteTime": {
     "start_time": "2022-02-04T20:30:01.139Z"
    }
   },
   "outputs": [
    {
     "name": "stderr",
     "output_type": "stream",
     "text": [
      "100%|████████████████████████████████████████████████████████████████████████████████| 744/744 [00:43<00:00, 17.10it/s]\n"
     ]
    }
   ],
   "source": [
    "var = pool.map(gitdata,tqdm(csv_files))"
   ]
  },
  {
   "cell_type": "code",
   "execution_count": 2,
   "id": "f5e080c5",
   "metadata": {
    "ExecuteTime": {
     "end_time": "2022-02-04T20:31:07.514334Z",
     "start_time": "2022-02-04T20:31:07.486408Z"
    }
   },
   "outputs": [
    {
     "ename": "NameError",
     "evalue": "name 'var' is not defined",
     "output_type": "error",
     "traceback": [
      "\u001b[1;31m---------------------------------------------------------------------------\u001b[0m",
      "\u001b[1;31mNameError\u001b[0m                                 Traceback (most recent call last)",
      "Input \u001b[1;32mIn [2]\u001b[0m, in \u001b[0;36m<module>\u001b[1;34m\u001b[0m\n\u001b[1;32m----> 1\u001b[0m \u001b[38;5;28mlen\u001b[39m(\u001b[43mvar\u001b[49m)\n",
      "\u001b[1;31mNameError\u001b[0m: name 'var' is not defined"
     ]
    },
    {
     "name": "stdout",
     "output_type": "stream",
     "text": [
      "ERROR! Session/line number was not unique in database. History logging moved to new session 121\n"
     ]
    }
   ],
   "source": [
    "len(var)"
   ]
  },
  {
   "cell_type": "code",
   "execution_count": 4,
   "id": "f6fd3974",
   "metadata": {
    "ExecuteTime": {
     "end_time": "2022-02-04T20:24:01.730786Z",
     "start_time": "2022-02-04T20:24:01.707371Z"
    }
   },
   "outputs": [
    {
     "data": {
      "text/plain": [
       "[1, 4, 9, 16, 25, 36]"
      ]
     },
     "execution_count": 4,
     "metadata": {},
     "output_type": "execute_result"
    }
   ],
   "source": [
    "x = pool.map(lambda x: x**2,[1,2,3,4,5,6])\n",
    "x\n"
   ]
  }
 ],
 "metadata": {
  "kernelspec": {
   "display_name": "Python 3 (ipykernel)",
   "language": "python",
   "name": "python3"
  },
  "language_info": {
   "codemirror_mode": {
    "name": "ipython",
    "version": 3
   },
   "file_extension": ".py",
   "mimetype": "text/x-python",
   "name": "python",
   "nbconvert_exporter": "python",
   "pygments_lexer": "ipython3",
   "version": "3.10.1"
  },
  "varInspector": {
   "cols": {
    "lenName": 16,
    "lenType": 16,
    "lenVar": 40
   },
   "kernels_config": {
    "python": {
     "delete_cmd_postfix": "",
     "delete_cmd_prefix": "del ",
     "library": "var_list.py",
     "varRefreshCmd": "print(var_dic_list())"
    },
    "r": {
     "delete_cmd_postfix": ") ",
     "delete_cmd_prefix": "rm(",
     "library": "var_list.r",
     "varRefreshCmd": "cat(var_dic_list()) "
    }
   },
   "types_to_exclude": [
    "module",
    "function",
    "builtin_function_or_method",
    "instance",
    "_Feature"
   ],
   "window_display": false
  }
 },
 "nbformat": 4,
 "nbformat_minor": 5
}
