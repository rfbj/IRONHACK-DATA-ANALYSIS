{
 "cells": [
  {
   "cell_type": "markdown",
   "metadata": {},
   "source": [
    "# Pandas"
   ]
  },
  {
   "cell_type": "markdown",
   "metadata": {},
   "source": [
    "## Installation"
   ]
  },
  {
   "cell_type": "code",
   "execution_count": 155,
   "metadata": {
    "ExecuteTime": {
     "end_time": "2022-01-18T12:48:48.695866Z",
     "start_time": "2022-01-18T12:48:48.690879Z"
    }
   },
   "outputs": [],
   "source": [
    "#pip install pandas --upgrade --user"
   ]
  },
  {
   "cell_type": "markdown",
   "metadata": {},
   "source": [
    "\n",
    "## Importing convetion"
   ]
  },
  {
   "cell_type": "code",
   "execution_count": 2,
   "metadata": {
    "ExecuteTime": {
     "end_time": "2022-01-18T14:39:08.002709Z",
     "start_time": "2022-01-18T14:39:07.988746Z"
    }
   },
   "outputs": [],
   "source": [
    "import pandas as pd\n",
    "import numpy as np"
   ]
  },
  {
   "cell_type": "markdown",
   "metadata": {},
   "source": [
    "# What is Pandas?\n",
    "\n",
    "Pandas can be thought as an enhanced version of numpy arrays. In this case, the rows and columns can be identified with labels instead of just simple integer indices."
   ]
  },
  {
   "cell_type": "markdown",
   "metadata": {},
   "source": [
    "There are **three** main pandas elements we **need** to understand.\n",
    "1. Pandas Series\n",
    "2. Pandas DataFrame\n",
    "3. Index"
   ]
  },
  {
   "cell_type": "markdown",
   "metadata": {},
   "source": [
    "# The Pandas Series"
   ]
  },
  {
   "cell_type": "markdown",
   "metadata": {},
   "source": [
    "A pandas series is a one-dimensional (**1-D**) indexed array."
   ]
  },
  {
   "cell_type": "code",
   "execution_count": 157,
   "metadata": {
    "ExecuteTime": {
     "end_time": "2022-01-18T12:48:50.350670Z",
     "start_time": "2022-01-18T12:48:50.337782Z"
    }
   },
   "outputs": [
    {
     "ename": "SyntaxError",
     "evalue": "invalid syntax (<ipython-input-157-bc888235687a>, line 1)",
     "output_type": "error",
     "traceback": [
      "\u001b[1;36m  File \u001b[1;32m\"<ipython-input-157-bc888235687a>\"\u001b[1;36m, line \u001b[1;32m1\u001b[0m\n\u001b[1;33m    pd.\u001b[0m\n\u001b[1;37m       ^\u001b[0m\n\u001b[1;31mSyntaxError\u001b[0m\u001b[1;31m:\u001b[0m invalid syntax\n"
     ]
    }
   ],
   "source": [
    "pd."
   ]
  },
  {
   "cell_type": "code",
   "execution_count": 3,
   "metadata": {
    "ExecuteTime": {
     "end_time": "2022-01-18T14:44:04.168795Z",
     "start_time": "2022-01-18T14:44:04.146850Z"
    }
   },
   "outputs": [
    {
     "name": "stderr",
     "output_type": "stream",
     "text": [
      "<ipython-input-3-fa15c544da3b>:1: DeprecationWarning: The default dtype for empty Series will be 'object' instead of 'float64' in a future version. Specify a dtype explicitly to silence this warning.\n",
      "  pd.Series()\n"
     ]
    },
    {
     "data": {
      "text/plain": [
       "Series([], dtype: float64)"
      ]
     },
     "execution_count": 3,
     "metadata": {},
     "output_type": "execute_result"
    }
   ],
   "source": [
    "pd.Series()"
   ]
  },
  {
   "cell_type": "markdown",
   "metadata": {},
   "source": [
    "## Creating a pandas Series from a list\n",
    "\n",
    "You'll start to recognize a pandas Series by its visual "
   ]
  },
  {
   "cell_type": "code",
   "execution_count": 7,
   "metadata": {
    "ExecuteTime": {
     "end_time": "2022-01-18T14:45:21.851761Z",
     "start_time": "2022-01-18T14:45:21.843783Z"
    },
    "cell_style": "split"
   },
   "outputs": [
    {
     "data": {
      "text/plain": [
       "array([5, 8, 3])"
      ]
     },
     "execution_count": 7,
     "metadata": {},
     "output_type": "execute_result"
    }
   ],
   "source": [
    "np.array([5,8,3])"
   ]
  },
  {
   "cell_type": "code",
   "execution_count": 10,
   "metadata": {
    "ExecuteTime": {
     "end_time": "2022-01-18T14:48:09.661856Z",
     "start_time": "2022-01-18T14:48:09.650885Z"
    },
    "cell_style": "split"
   },
   "outputs": [
    {
     "data": {
      "text/plain": [
       "0    5\n",
       "1    8\n",
       "2    3\n",
       "dtype: int64"
      ]
     },
     "execution_count": 10,
     "metadata": {},
     "output_type": "execute_result"
    }
   ],
   "source": [
    "pd.Series([5,8,3])"
   ]
  },
  {
   "cell_type": "markdown",
   "metadata": {},
   "source": [
    "`dtype` means the `data type` of what is inside your pandas Series."
   ]
  },
  {
   "cell_type": "code",
   "execution_count": 14,
   "metadata": {
    "ExecuteTime": {
     "end_time": "2022-01-18T14:50:58.266328Z",
     "start_time": "2022-01-18T14:50:58.257352Z"
    }
   },
   "outputs": [
    {
     "data": {
      "text/plain": [
       "0    Valor nao computado\n",
       "1                      2\n",
       "2                      3\n",
       "dtype: object"
      ]
     },
     "execution_count": 14,
     "metadata": {},
     "output_type": "execute_result"
    }
   ],
   "source": [
    "# As in lists, you don't need to have all of the same type inside a pandas series\n",
    "pd.Series(['Valor nao computado',2, 3])"
   ]
  },
  {
   "cell_type": "markdown",
   "metadata": {},
   "source": [
    "When you see `dtype: object`, it usually means you have a `str` inside your `Series`"
   ]
  },
  {
   "cell_type": "code",
   "execution_count": 15,
   "metadata": {
    "ExecuteTime": {
     "end_time": "2022-01-18T14:51:48.684562Z",
     "start_time": "2022-01-18T14:51:48.673591Z"
    }
   },
   "outputs": [],
   "source": [
    "data = pd.Series([10,23,3,43,25,136])"
   ]
  },
  {
   "cell_type": "code",
   "execution_count": 16,
   "metadata": {
    "ExecuteTime": {
     "end_time": "2022-01-18T14:51:49.213213Z",
     "start_time": "2022-01-18T14:51:49.204237Z"
    }
   },
   "outputs": [
    {
     "data": {
      "text/plain": [
       "0     10\n",
       "1     23\n",
       "2      3\n",
       "3     43\n",
       "4     25\n",
       "5    136\n",
       "dtype: int64"
      ]
     },
     "execution_count": 16,
     "metadata": {},
     "output_type": "execute_result"
    }
   ],
   "source": [
    "data"
   ]
  },
  {
   "cell_type": "code",
   "execution_count": 17,
   "metadata": {
    "ExecuteTime": {
     "end_time": "2022-01-18T14:51:52.830299Z",
     "start_time": "2022-01-18T14:51:52.811349Z"
    }
   },
   "outputs": [
    {
     "data": {
      "text/plain": [
       "pandas.core.series.Series"
      ]
     },
     "execution_count": 17,
     "metadata": {},
     "output_type": "execute_result"
    }
   ],
   "source": [
    "type(data)"
   ]
  },
  {
   "cell_type": "markdown",
   "metadata": {},
   "source": [
    "So, the `type` of `data` is a `pandas...Series` and the types of the data inside the `pandas.Series` is `int`"
   ]
  },
  {
   "cell_type": "markdown",
   "metadata": {},
   "source": [
    "## Accessing elements \n",
    "\n",
    "Can be done like a numpy array. "
   ]
  },
  {
   "cell_type": "code",
   "execution_count": 18,
   "metadata": {
    "ExecuteTime": {
     "end_time": "2022-01-18T14:52:52.683319Z",
     "start_time": "2022-01-18T14:52:52.668360Z"
    }
   },
   "outputs": [
    {
     "data": {
      "text/plain": [
       "0     10\n",
       "1     23\n",
       "2      3\n",
       "3     43\n",
       "4     25\n",
       "5    136\n",
       "dtype: int64"
      ]
     },
     "execution_count": 18,
     "metadata": {},
     "output_type": "execute_result"
    }
   ],
   "source": [
    "data"
   ]
  },
  {
   "cell_type": "code",
   "execution_count": 19,
   "metadata": {
    "ExecuteTime": {
     "end_time": "2022-01-18T14:53:07.338577Z",
     "start_time": "2022-01-18T14:53:07.329601Z"
    }
   },
   "outputs": [
    {
     "data": {
      "text/plain": [
       "10"
      ]
     },
     "execution_count": 19,
     "metadata": {},
     "output_type": "execute_result"
    }
   ],
   "source": [
    "data[0]"
   ]
  },
  {
   "cell_type": "code",
   "execution_count": 167,
   "metadata": {
    "ExecuteTime": {
     "end_time": "2022-01-18T12:48:54.474205Z",
     "start_time": "2022-01-18T12:48:54.465230Z"
    },
    "scrolled": true
   },
   "outputs": [
    {
     "data": {
      "text/plain": [
       "3     43\n",
       "4     25\n",
       "5    136\n",
       "dtype: int64"
      ]
     },
     "execution_count": 167,
     "metadata": {},
     "output_type": "execute_result"
    }
   ],
   "source": [
    "data[3:]"
   ]
  },
  {
   "cell_type": "code",
   "execution_count": 20,
   "metadata": {
    "ExecuteTime": {
     "end_time": "2022-01-18T14:53:57.275884Z",
     "start_time": "2022-01-18T14:53:57.026949Z"
    },
    "scrolled": true
   },
   "outputs": [
    {
     "ename": "KeyError",
     "evalue": "-1",
     "output_type": "error",
     "traceback": [
      "\u001b[1;31m---------------------------------------------------------------------------\u001b[0m",
      "\u001b[1;31mValueError\u001b[0m                                Traceback (most recent call last)",
      "\u001b[1;32m~\\AppData\\Roaming\\Python\\Python38\\site-packages\\pandas\\core\\indexes\\range.py\u001b[0m in \u001b[0;36mget_loc\u001b[1;34m(self, key, method, tolerance)\u001b[0m\n\u001b[0;32m    384\u001b[0m                 \u001b[1;32mtry\u001b[0m\u001b[1;33m:\u001b[0m\u001b[1;33m\u001b[0m\u001b[1;33m\u001b[0m\u001b[0m\n\u001b[1;32m--> 385\u001b[1;33m                     \u001b[1;32mreturn\u001b[0m \u001b[0mself\u001b[0m\u001b[1;33m.\u001b[0m\u001b[0m_range\u001b[0m\u001b[1;33m.\u001b[0m\u001b[0mindex\u001b[0m\u001b[1;33m(\u001b[0m\u001b[0mnew_key\u001b[0m\u001b[1;33m)\u001b[0m\u001b[1;33m\u001b[0m\u001b[1;33m\u001b[0m\u001b[0m\n\u001b[0m\u001b[0;32m    386\u001b[0m                 \u001b[1;32mexcept\u001b[0m \u001b[0mValueError\u001b[0m \u001b[1;32mas\u001b[0m \u001b[0merr\u001b[0m\u001b[1;33m:\u001b[0m\u001b[1;33m\u001b[0m\u001b[1;33m\u001b[0m\u001b[0m\n",
      "\u001b[1;31mValueError\u001b[0m: -1 is not in range",
      "\nThe above exception was the direct cause of the following exception:\n",
      "\u001b[1;31mKeyError\u001b[0m                                  Traceback (most recent call last)",
      "\u001b[1;32m<ipython-input-20-ae1b7cc684db>\u001b[0m in \u001b[0;36m<module>\u001b[1;34m\u001b[0m\n\u001b[1;32m----> 1\u001b[1;33m \u001b[0mdata\u001b[0m\u001b[1;33m[\u001b[0m\u001b[1;33m-\u001b[0m\u001b[1;36m1\u001b[0m\u001b[1;33m]\u001b[0m\u001b[1;33m\u001b[0m\u001b[1;33m\u001b[0m\u001b[0m\n\u001b[0m",
      "\u001b[1;32m~\\AppData\\Roaming\\Python\\Python38\\site-packages\\pandas\\core\\series.py\u001b[0m in \u001b[0;36m__getitem__\u001b[1;34m(self, key)\u001b[0m\n\u001b[0;32m    940\u001b[0m \u001b[1;33m\u001b[0m\u001b[0m\n\u001b[0;32m    941\u001b[0m         \u001b[1;32melif\u001b[0m \u001b[0mkey_is_scalar\u001b[0m\u001b[1;33m:\u001b[0m\u001b[1;33m\u001b[0m\u001b[1;33m\u001b[0m\u001b[0m\n\u001b[1;32m--> 942\u001b[1;33m             \u001b[1;32mreturn\u001b[0m \u001b[0mself\u001b[0m\u001b[1;33m.\u001b[0m\u001b[0m_get_value\u001b[0m\u001b[1;33m(\u001b[0m\u001b[0mkey\u001b[0m\u001b[1;33m)\u001b[0m\u001b[1;33m\u001b[0m\u001b[1;33m\u001b[0m\u001b[0m\n\u001b[0m\u001b[0;32m    943\u001b[0m \u001b[1;33m\u001b[0m\u001b[0m\n\u001b[0;32m    944\u001b[0m         \u001b[1;32mif\u001b[0m \u001b[0mis_hashable\u001b[0m\u001b[1;33m(\u001b[0m\u001b[0mkey\u001b[0m\u001b[1;33m)\u001b[0m\u001b[1;33m:\u001b[0m\u001b[1;33m\u001b[0m\u001b[1;33m\u001b[0m\u001b[0m\n",
      "\u001b[1;32m~\\AppData\\Roaming\\Python\\Python38\\site-packages\\pandas\\core\\series.py\u001b[0m in \u001b[0;36m_get_value\u001b[1;34m(self, label, takeable)\u001b[0m\n\u001b[0;32m   1049\u001b[0m \u001b[1;33m\u001b[0m\u001b[0m\n\u001b[0;32m   1050\u001b[0m         \u001b[1;31m# Similar to Index.get_value, but we do not fall back to positional\u001b[0m\u001b[1;33m\u001b[0m\u001b[1;33m\u001b[0m\u001b[1;33m\u001b[0m\u001b[0m\n\u001b[1;32m-> 1051\u001b[1;33m         \u001b[0mloc\u001b[0m \u001b[1;33m=\u001b[0m \u001b[0mself\u001b[0m\u001b[1;33m.\u001b[0m\u001b[0mindex\u001b[0m\u001b[1;33m.\u001b[0m\u001b[0mget_loc\u001b[0m\u001b[1;33m(\u001b[0m\u001b[0mlabel\u001b[0m\u001b[1;33m)\u001b[0m\u001b[1;33m\u001b[0m\u001b[1;33m\u001b[0m\u001b[0m\n\u001b[0m\u001b[0;32m   1052\u001b[0m         \u001b[1;32mreturn\u001b[0m \u001b[0mself\u001b[0m\u001b[1;33m.\u001b[0m\u001b[0mindex\u001b[0m\u001b[1;33m.\u001b[0m\u001b[0m_get_values_for_loc\u001b[0m\u001b[1;33m(\u001b[0m\u001b[0mself\u001b[0m\u001b[1;33m,\u001b[0m \u001b[0mloc\u001b[0m\u001b[1;33m,\u001b[0m \u001b[0mlabel\u001b[0m\u001b[1;33m)\u001b[0m\u001b[1;33m\u001b[0m\u001b[1;33m\u001b[0m\u001b[0m\n\u001b[0;32m   1053\u001b[0m \u001b[1;33m\u001b[0m\u001b[0m\n",
      "\u001b[1;32m~\\AppData\\Roaming\\Python\\Python38\\site-packages\\pandas\\core\\indexes\\range.py\u001b[0m in \u001b[0;36mget_loc\u001b[1;34m(self, key, method, tolerance)\u001b[0m\n\u001b[0;32m    385\u001b[0m                     \u001b[1;32mreturn\u001b[0m \u001b[0mself\u001b[0m\u001b[1;33m.\u001b[0m\u001b[0m_range\u001b[0m\u001b[1;33m.\u001b[0m\u001b[0mindex\u001b[0m\u001b[1;33m(\u001b[0m\u001b[0mnew_key\u001b[0m\u001b[1;33m)\u001b[0m\u001b[1;33m\u001b[0m\u001b[1;33m\u001b[0m\u001b[0m\n\u001b[0;32m    386\u001b[0m                 \u001b[1;32mexcept\u001b[0m \u001b[0mValueError\u001b[0m \u001b[1;32mas\u001b[0m \u001b[0merr\u001b[0m\u001b[1;33m:\u001b[0m\u001b[1;33m\u001b[0m\u001b[1;33m\u001b[0m\u001b[0m\n\u001b[1;32m--> 387\u001b[1;33m                     \u001b[1;32mraise\u001b[0m \u001b[0mKeyError\u001b[0m\u001b[1;33m(\u001b[0m\u001b[0mkey\u001b[0m\u001b[1;33m)\u001b[0m \u001b[1;32mfrom\u001b[0m \u001b[0merr\u001b[0m\u001b[1;33m\u001b[0m\u001b[1;33m\u001b[0m\u001b[0m\n\u001b[0m\u001b[0;32m    388\u001b[0m             \u001b[1;32mraise\u001b[0m \u001b[0mKeyError\u001b[0m\u001b[1;33m(\u001b[0m\u001b[0mkey\u001b[0m\u001b[1;33m)\u001b[0m\u001b[1;33m\u001b[0m\u001b[1;33m\u001b[0m\u001b[0m\n\u001b[0;32m    389\u001b[0m         \u001b[1;32mreturn\u001b[0m \u001b[0msuper\u001b[0m\u001b[1;33m(\u001b[0m\u001b[1;33m)\u001b[0m\u001b[1;33m.\u001b[0m\u001b[0mget_loc\u001b[0m\u001b[1;33m(\u001b[0m\u001b[0mkey\u001b[0m\u001b[1;33m,\u001b[0m \u001b[0mmethod\u001b[0m\u001b[1;33m=\u001b[0m\u001b[0mmethod\u001b[0m\u001b[1;33m,\u001b[0m \u001b[0mtolerance\u001b[0m\u001b[1;33m=\u001b[0m\u001b[0mtolerance\u001b[0m\u001b[1;33m)\u001b[0m\u001b[1;33m\u001b[0m\u001b[1;33m\u001b[0m\u001b[0m\n",
      "\u001b[1;31mKeyError\u001b[0m: -1"
     ]
    }
   ],
   "source": [
    "data[-1]"
   ]
  },
  {
   "cell_type": "code",
   "execution_count": 21,
   "metadata": {
    "ExecuteTime": {
     "end_time": "2022-01-18T14:54:35.504928Z",
     "start_time": "2022-01-18T14:54:35.488971Z"
    }
   },
   "outputs": [
    {
     "ename": "KeyError",
     "evalue": "'Raiana'",
     "output_type": "error",
     "traceback": [
      "\u001b[1;31m---------------------------------------------------------------------------\u001b[0m",
      "\u001b[1;31mKeyError\u001b[0m                                  Traceback (most recent call last)",
      "\u001b[1;32m<ipython-input-21-45900deb1ccb>\u001b[0m in \u001b[0;36m<module>\u001b[1;34m\u001b[0m\n\u001b[1;32m----> 1\u001b[1;33m \u001b[1;33m{\u001b[0m\u001b[1;34m'Pedro'\u001b[0m\u001b[1;33m:\u001b[0m\u001b[1;36m2\u001b[0m\u001b[1;33m}\u001b[0m\u001b[1;33m[\u001b[0m\u001b[1;34m'Raiana'\u001b[0m\u001b[1;33m]\u001b[0m\u001b[1;33m\u001b[0m\u001b[1;33m\u001b[0m\u001b[0m\n\u001b[0m",
      "\u001b[1;31mKeyError\u001b[0m: 'Raiana'"
     ]
    }
   ],
   "source": [
    "{'Pedro':2}['Raiana']"
   ]
  },
  {
   "cell_type": "markdown",
   "metadata": {},
   "source": [
    "Em resumo: pandas series pode ser considerado uma numpy array de 1-D"
   ]
  },
  {
   "cell_type": "markdown",
   "metadata": {},
   "source": [
    "### What is the difference then? Numpy array vs Pandas Series"
   ]
  },
  {
   "cell_type": "markdown",
   "metadata": {},
   "source": [
    "Mostly the index notation.\n",
    "\n",
    "Numpy arrays only have the **implicit** index associated with its location. By using a **explicit** index notation, Pandas Series are much more flexible. For example:"
   ]
  },
  {
   "cell_type": "markdown",
   "metadata": {},
   "source": [
    "## Index don't need to be numbers."
   ]
  },
  {
   "cell_type": "code",
   "execution_count": 23,
   "metadata": {
    "ExecuteTime": {
     "end_time": "2022-01-18T14:57:12.603637Z",
     "start_time": "2022-01-18T14:57:12.594660Z"
    }
   },
   "outputs": [
    {
     "data": {
      "text/plain": [
       "Isabela    5\n",
       "Rebeca     8\n",
       "Carlos     2\n",
       "dtype: int64"
      ]
     },
     "execution_count": 23,
     "metadata": {},
     "output_type": "execute_result"
    }
   ],
   "source": [
    "pd.Series([5,8,2] , index =['Isabela', 'Rebeca','Carlos'])"
   ]
  },
  {
   "cell_type": "code",
   "execution_count": 25,
   "metadata": {
    "ExecuteTime": {
     "end_time": "2022-01-18T15:01:41.298278Z",
     "start_time": "2022-01-18T15:01:41.278333Z"
    }
   },
   "outputs": [
    {
     "data": {
      "text/plain": [
       "Andre       1\n",
       "Joao        2\n",
       "Andre       3\n",
       "Vampirão    5\n",
       "Tieko       7\n",
       "Satiko      9\n",
       "dtype: int64"
      ]
     },
     "execution_count": 25,
     "metadata": {},
     "output_type": "execute_result"
    }
   ],
   "source": [
    "my_series = pd.Series(data=[1,2,3,5,7,9], index=['Andre','Joao','Andre','Vampirão','Tieko','Satiko']) #index argument\n",
    "my_series"
   ]
  },
  {
   "cell_type": "markdown",
   "metadata": {},
   "source": [
    "## Index don't need to be in sequence"
   ]
  },
  {
   "cell_type": "code",
   "execution_count": 41,
   "metadata": {
    "ExecuteTime": {
     "end_time": "2022-01-18T15:06:19.910167Z",
     "start_time": "2022-01-18T15:06:19.899196Z"
    }
   },
   "outputs": [],
   "source": [
    "data = pd.Series(data=[1,2,3,4], \n",
    "                 index=[1,7,4313,19])"
   ]
  },
  {
   "cell_type": "code",
   "execution_count": 33,
   "metadata": {
    "ExecuteTime": {
     "end_time": "2022-01-18T15:04:23.273854Z",
     "start_time": "2022-01-18T15:04:23.259892Z"
    }
   },
   "outputs": [
    {
     "data": {
      "text/plain": [
       "4    1\n",
       "3    2\n",
       "2    3\n",
       "1    4\n",
       "dtype: int64"
      ]
     },
     "execution_count": 33,
     "metadata": {},
     "output_type": "execute_result"
    }
   ],
   "source": [
    "data_reverse = pd.Series(data=[1,2,3,4], index = list(range(4,0,-1)))\n",
    "data_reverse"
   ]
  },
  {
   "cell_type": "code",
   "execution_count": 42,
   "metadata": {
    "ExecuteTime": {
     "end_time": "2022-01-18T15:06:21.360040Z",
     "start_time": "2022-01-18T15:06:21.354073Z"
    }
   },
   "outputs": [
    {
     "data": {
      "text/plain": [
       "1       1\n",
       "7       2\n",
       "4313    3\n",
       "19      4\n",
       "dtype: int64"
      ]
     },
     "execution_count": 42,
     "metadata": {},
     "output_type": "execute_result"
    }
   ],
   "source": [
    "data"
   ]
  },
  {
   "cell_type": "markdown",
   "metadata": {},
   "source": [
    "### Then how can I access these pandas series?"
   ]
  },
  {
   "cell_type": "code",
   "execution_count": 43,
   "metadata": {
    "ExecuteTime": {
     "end_time": "2022-01-18T15:06:30.584144Z",
     "start_time": "2022-01-18T15:06:30.570179Z"
    },
    "scrolled": false
   },
   "outputs": [
    {
     "data": {
      "text/plain": [
       "Andre       1\n",
       "Joao        2\n",
       "Andre       3\n",
       "Vampirão    5\n",
       "Tieko       7\n",
       "Satiko      9\n",
       "dtype: int64"
      ]
     },
     "execution_count": 43,
     "metadata": {},
     "output_type": "execute_result"
    }
   ],
   "source": [
    "my_series"
   ]
  },
  {
   "cell_type": "code",
   "execution_count": 44,
   "metadata": {
    "ExecuteTime": {
     "end_time": "2022-01-18T15:06:48.145992Z",
     "start_time": "2022-01-18T15:06:48.128040Z"
    }
   },
   "outputs": [
    {
     "data": {
      "text/plain": [
       "2"
      ]
     },
     "execution_count": 44,
     "metadata": {},
     "output_type": "execute_result"
    }
   ],
   "source": [
    "my_series[1]"
   ]
  },
  {
   "cell_type": "code",
   "execution_count": 45,
   "metadata": {
    "ExecuteTime": {
     "end_time": "2022-01-18T15:07:12.671026Z",
     "start_time": "2022-01-18T15:07:12.666085Z"
    },
    "scrolled": true
   },
   "outputs": [
    {
     "data": {
      "text/plain": [
       "2"
      ]
     },
     "execution_count": 45,
     "metadata": {},
     "output_type": "execute_result"
    }
   ],
   "source": [
    "my_series['Joao']"
   ]
  },
  {
   "cell_type": "code",
   "execution_count": 50,
   "metadata": {
    "ExecuteTime": {
     "end_time": "2022-01-18T15:07:45.000250Z",
     "start_time": "2022-01-18T15:07:44.993270Z"
    }
   },
   "outputs": [
    {
     "data": {
      "text/plain": [
       "Andre    1\n",
       "Andre    3\n",
       "dtype: int64"
      ]
     },
     "execution_count": 50,
     "metadata": {},
     "output_type": "execute_result"
    }
   ],
   "source": [
    "my_series['Andre']"
   ]
  },
  {
   "cell_type": "code",
   "execution_count": 179,
   "metadata": {
    "ExecuteTime": {
     "end_time": "2022-01-18T12:49:10.556674Z",
     "start_time": "2022-01-18T12:49:10.537724Z"
    }
   },
   "outputs": [
    {
     "data": {
      "text/plain": [
       "2.0"
      ]
     },
     "execution_count": 179,
     "metadata": {},
     "output_type": "execute_result"
    }
   ],
   "source": [
    "my_series['Andre'].mean()"
   ]
  },
  {
   "cell_type": "markdown",
   "metadata": {},
   "source": [
    "**NOTE:** One can think of a pandas series, then, as a form of dictionary, in which the indexes are keys and the rows are the values"
   ]
  },
  {
   "cell_type": "code",
   "execution_count": 51,
   "metadata": {
    "ExecuteTime": {
     "end_time": "2022-01-18T15:08:03.315160Z",
     "start_time": "2022-01-18T15:08:03.298205Z"
    }
   },
   "outputs": [
    {
     "data": {
      "text/plain": [
       "Andre       1\n",
       "Joao        2\n",
       "Andre       3\n",
       "Vampirão    5\n",
       "Tieko       7\n",
       "Satiko      9\n",
       "dtype: int64"
      ]
     },
     "execution_count": 51,
     "metadata": {},
     "output_type": "execute_result"
    }
   ],
   "source": [
    "my_series"
   ]
  },
  {
   "cell_type": "code",
   "execution_count": 52,
   "metadata": {
    "ExecuteTime": {
     "end_time": "2022-01-18T15:08:06.328924Z",
     "start_time": "2022-01-18T15:08:06.320946Z"
    }
   },
   "outputs": [
    {
     "data": {
      "text/plain": [
       "Index(['Andre', 'Joao', 'Andre', 'Vampirão', 'Tieko', 'Satiko'], dtype='object')"
      ]
     },
     "execution_count": 52,
     "metadata": {},
     "output_type": "execute_result"
    }
   ],
   "source": [
    "my_series.keys()"
   ]
  },
  {
   "cell_type": "code",
   "execution_count": 53,
   "metadata": {
    "ExecuteTime": {
     "end_time": "2022-01-18T15:08:11.883451Z",
     "start_time": "2022-01-18T15:08:11.866514Z"
    }
   },
   "outputs": [
    {
     "data": {
      "text/plain": [
       "array([1, 2, 3, 5, 7, 9], dtype=int64)"
      ]
     },
     "execution_count": 53,
     "metadata": {},
     "output_type": "execute_result"
    }
   ],
   "source": [
    "my_series.values"
   ]
  },
  {
   "cell_type": "code",
   "execution_count": 54,
   "metadata": {
    "ExecuteTime": {
     "end_time": "2022-01-18T15:08:45.922070Z",
     "start_time": "2022-01-18T15:08:45.913093Z"
    }
   },
   "outputs": [
    {
     "data": {
      "text/plain": [
       "Andre        3\n",
       "Joao         6\n",
       "Andre        9\n",
       "Vampirão    15\n",
       "Tieko       21\n",
       "Satiko      27\n",
       "dtype: int64"
      ]
     },
     "execution_count": 54,
     "metadata": {},
     "output_type": "execute_result"
    }
   ],
   "source": [
    "my_series * 3"
   ]
  },
  {
   "cell_type": "markdown",
   "metadata": {},
   "source": [
    "## Creating a pandas series from a dict."
   ]
  },
  {
   "cell_type": "code",
   "execution_count": 55,
   "metadata": {
    "ExecuteTime": {
     "end_time": "2022-01-18T15:09:42.867901Z",
     "start_time": "2022-01-18T15:09:42.861916Z"
    }
   },
   "outputs": [],
   "source": [
    "my_dict = {'JOAO': 20, \n",
    "           'ANDRE':10}"
   ]
  },
  {
   "cell_type": "code",
   "execution_count": 56,
   "metadata": {
    "ExecuteTime": {
     "end_time": "2022-01-18T15:09:46.972798Z",
     "start_time": "2022-01-18T15:09:46.961841Z"
    }
   },
   "outputs": [
    {
     "data": {
      "text/plain": [
       "{'JOAO': 20, 'ANDRE': 10}"
      ]
     },
     "execution_count": 56,
     "metadata": {},
     "output_type": "execute_result"
    }
   ],
   "source": [
    "my_dict"
   ]
  },
  {
   "cell_type": "code",
   "execution_count": 57,
   "metadata": {
    "ExecuteTime": {
     "end_time": "2022-01-18T15:09:48.093260Z",
     "start_time": "2022-01-18T15:09:48.075309Z"
    }
   },
   "outputs": [
    {
     "data": {
      "text/plain": [
       "JOAO     20\n",
       "ANDRE    10\n",
       "dtype: int64"
      ]
     },
     "execution_count": 57,
     "metadata": {},
     "output_type": "execute_result"
    }
   ],
   "source": [
    "pd.Series(my_dict)"
   ]
  },
  {
   "cell_type": "markdown",
   "metadata": {},
   "source": [
    "But what about > 1-D?\n"
   ]
  },
  {
   "cell_type": "markdown",
   "metadata": {},
   "source": [
    "# Pandas DataFrame\n"
   ]
  },
  {
   "cell_type": "markdown",
   "metadata": {},
   "source": [
    "Pandas Dataframes can be thought as a generalization of **2-D** numpy arrays. However, again, they bring flexibility on both the indices and column names."
   ]
  },
  {
   "cell_type": "code",
   "execution_count": 59,
   "metadata": {
    "ExecuteTime": {
     "end_time": "2022-01-18T15:11:48.429862Z",
     "start_time": "2022-01-18T15:11:48.418924Z"
    }
   },
   "outputs": [
    {
     "data": {
      "text/html": [
       "<div>\n",
       "<style scoped>\n",
       "    .dataframe tbody tr th:only-of-type {\n",
       "        vertical-align: middle;\n",
       "    }\n",
       "\n",
       "    .dataframe tbody tr th {\n",
       "        vertical-align: top;\n",
       "    }\n",
       "\n",
       "    .dataframe thead th {\n",
       "        text-align: right;\n",
       "    }\n",
       "</style>\n",
       "<table border=\"1\" class=\"dataframe\">\n",
       "  <thead>\n",
       "    <tr style=\"text-align: right;\">\n",
       "      <th></th>\n",
       "    </tr>\n",
       "  </thead>\n",
       "  <tbody>\n",
       "  </tbody>\n",
       "</table>\n",
       "</div>"
      ],
      "text/plain": [
       "Empty DataFrame\n",
       "Columns: []\n",
       "Index: []"
      ]
     },
     "execution_count": 59,
     "metadata": {},
     "output_type": "execute_result"
    }
   ],
   "source": [
    "pd.DataFrame()"
   ]
  },
  {
   "cell_type": "code",
   "execution_count": 60,
   "metadata": {
    "ExecuteTime": {
     "end_time": "2022-01-18T15:11:50.156803Z",
     "start_time": "2022-01-18T15:11:50.138851Z"
    }
   },
   "outputs": [
    {
     "data": {
      "text/plain": [
       "pandas.core.frame.DataFrame"
      ]
     },
     "execution_count": 60,
     "metadata": {},
     "output_type": "execute_result"
    }
   ],
   "source": [
    "type(pd.DataFrame())"
   ]
  },
  {
   "cell_type": "markdown",
   "metadata": {},
   "source": [
    "## Pandas DataFrame can be thought as a group of Pandas Series"
   ]
  },
  {
   "cell_type": "code",
   "execution_count": 61,
   "metadata": {
    "ExecuteTime": {
     "end_time": "2022-01-18T15:12:27.622207Z",
     "start_time": "2022-01-18T15:12:27.610260Z"
    }
   },
   "outputs": [],
   "source": [
    "my_dict = {'JOAO': 25, \n",
    "           'ANDRE':28}\n",
    "\n",
    "data = pd.Series(my_dict)"
   ]
  },
  {
   "cell_type": "code",
   "execution_count": 62,
   "metadata": {
    "ExecuteTime": {
     "end_time": "2022-01-18T15:12:30.314068Z",
     "start_time": "2022-01-18T15:12:30.298111Z"
    }
   },
   "outputs": [
    {
     "data": {
      "text/plain": [
       "JOAO     25\n",
       "ANDRE    28\n",
       "dtype: int64"
      ]
     },
     "execution_count": 62,
     "metadata": {},
     "output_type": "execute_result"
    }
   ],
   "source": [
    "data"
   ]
  },
  {
   "cell_type": "code",
   "execution_count": 63,
   "metadata": {
    "ExecuteTime": {
     "end_time": "2022-01-18T15:12:32.556042Z",
     "start_time": "2022-01-18T15:12:32.538089Z"
    }
   },
   "outputs": [],
   "source": [
    "another_dict = {'JOAO': 177,'ANDRE': 175}\n",
    "\n",
    "data_2 = pd.Series(another_dict)"
   ]
  },
  {
   "cell_type": "code",
   "execution_count": 64,
   "metadata": {
    "ExecuteTime": {
     "end_time": "2022-01-18T15:12:33.866879Z",
     "start_time": "2022-01-18T15:12:33.859898Z"
    }
   },
   "outputs": [
    {
     "data": {
      "text/plain": [
       "JOAO     177\n",
       "ANDRE    175\n",
       "dtype: int64"
      ]
     },
     "execution_count": 64,
     "metadata": {},
     "output_type": "execute_result"
    }
   ],
   "source": [
    "data_2"
   ]
  },
  {
   "cell_type": "code",
   "execution_count": 65,
   "metadata": {
    "ExecuteTime": {
     "end_time": "2022-01-18T15:12:53.679836Z",
     "start_time": "2022-01-18T15:12:53.673852Z"
    }
   },
   "outputs": [],
   "source": [
    "new_dict = {'Idade':data, 'Altura' : data_2}"
   ]
  },
  {
   "cell_type": "code",
   "execution_count": 66,
   "metadata": {
    "ExecuteTime": {
     "end_time": "2022-01-18T15:12:54.848192Z",
     "start_time": "2022-01-18T15:12:54.842208Z"
    }
   },
   "outputs": [
    {
     "data": {
      "text/plain": [
       "{'Idade': JOAO     25\n",
       " ANDRE    28\n",
       " dtype: int64,\n",
       " 'Altura': JOAO     177\n",
       " ANDRE    175\n",
       " dtype: int64}"
      ]
     },
     "execution_count": 66,
     "metadata": {},
     "output_type": "execute_result"
    }
   ],
   "source": [
    "new_dict"
   ]
  },
  {
   "cell_type": "code",
   "execution_count": 67,
   "metadata": {
    "ExecuteTime": {
     "end_time": "2022-01-18T15:13:00.218964Z",
     "start_time": "2022-01-18T15:13:00.211982Z"
    }
   },
   "outputs": [
    {
     "data": {
      "text/html": [
       "<div>\n",
       "<style scoped>\n",
       "    .dataframe tbody tr th:only-of-type {\n",
       "        vertical-align: middle;\n",
       "    }\n",
       "\n",
       "    .dataframe tbody tr th {\n",
       "        vertical-align: top;\n",
       "    }\n",
       "\n",
       "    .dataframe thead th {\n",
       "        text-align: right;\n",
       "    }\n",
       "</style>\n",
       "<table border=\"1\" class=\"dataframe\">\n",
       "  <thead>\n",
       "    <tr style=\"text-align: right;\">\n",
       "      <th></th>\n",
       "      <th>Idade</th>\n",
       "      <th>Altura</th>\n",
       "    </tr>\n",
       "  </thead>\n",
       "  <tbody>\n",
       "    <tr>\n",
       "      <th>JOAO</th>\n",
       "      <td>25</td>\n",
       "      <td>177</td>\n",
       "    </tr>\n",
       "    <tr>\n",
       "      <th>ANDRE</th>\n",
       "      <td>28</td>\n",
       "      <td>175</td>\n",
       "    </tr>\n",
       "  </tbody>\n",
       "</table>\n",
       "</div>"
      ],
      "text/plain": [
       "       Idade  Altura\n",
       "JOAO      25     177\n",
       "ANDRE     28     175"
      ]
     },
     "execution_count": 67,
     "metadata": {},
     "output_type": "execute_result"
    }
   ],
   "source": [
    "pd.DataFrame(new_dict)"
   ]
  },
  {
   "cell_type": "code",
   "execution_count": null,
   "metadata": {},
   "outputs": [],
   "source": []
  },
  {
   "cell_type": "code",
   "execution_count": null,
   "metadata": {},
   "outputs": [],
   "source": []
  },
  {
   "cell_type": "code",
   "execution_count": null,
   "metadata": {},
   "outputs": [],
   "source": []
  },
  {
   "cell_type": "markdown",
   "metadata": {},
   "source": [
    "# Create dataframe as a collection of Series"
   ]
  },
  {
   "cell_type": "code",
   "execution_count": 68,
   "metadata": {
    "ExecuteTime": {
     "end_time": "2022-01-18T15:13:37.825627Z",
     "start_time": "2022-01-18T15:13:37.818645Z"
    }
   },
   "outputs": [
    {
     "data": {
      "text/plain": [
       "{'idade': JOAO     25\n",
       " ANDRE    28\n",
       " dtype: int64,\n",
       " 'altura': JOAO     177\n",
       " ANDRE    175\n",
       " dtype: int64}"
      ]
     },
     "execution_count": 68,
     "metadata": {},
     "output_type": "execute_result"
    }
   ],
   "source": [
    "{'idade':data, 'altura':data_2}"
   ]
  },
  {
   "cell_type": "code",
   "execution_count": 84,
   "metadata": {
    "ExecuteTime": {
     "end_time": "2022-01-18T15:17:46.710465Z",
     "start_time": "2022-01-18T15:17:46.698497Z"
    },
    "scrolled": true
   },
   "outputs": [
    {
     "data": {
      "text/html": [
       "<div>\n",
       "<style scoped>\n",
       "    .dataframe tbody tr th:only-of-type {\n",
       "        vertical-align: middle;\n",
       "    }\n",
       "\n",
       "    .dataframe tbody tr th {\n",
       "        vertical-align: top;\n",
       "    }\n",
       "\n",
       "    .dataframe thead th {\n",
       "        text-align: right;\n",
       "    }\n",
       "</style>\n",
       "<table border=\"1\" class=\"dataframe\">\n",
       "  <thead>\n",
       "    <tr style=\"text-align: right;\">\n",
       "      <th></th>\n",
       "      <th>idade</th>\n",
       "      <th>altura</th>\n",
       "    </tr>\n",
       "  </thead>\n",
       "  <tbody>\n",
       "    <tr>\n",
       "      <th>JOAO</th>\n",
       "      <td>25</td>\n",
       "      <td>177</td>\n",
       "    </tr>\n",
       "    <tr>\n",
       "      <th>ANDRE</th>\n",
       "      <td>28</td>\n",
       "      <td>175</td>\n",
       "    </tr>\n",
       "  </tbody>\n",
       "</table>\n",
       "</div>"
      ],
      "text/plain": [
       "       idade  altura\n",
       "JOAO      25     177\n",
       "ANDRE     28     175"
      ]
     },
     "execution_count": 84,
     "metadata": {},
     "output_type": "execute_result"
    }
   ],
   "source": [
    "my_dataframe = pd.DataFrame({'idade':data, 'altura':data_2})\n",
    "my_dataframe "
   ]
  },
  {
   "cell_type": "code",
   "execution_count": 70,
   "metadata": {
    "ExecuteTime": {
     "end_time": "2022-01-18T15:14:18.216515Z",
     "start_time": "2022-01-18T15:14:18.202553Z"
    },
    "scrolled": true
   },
   "outputs": [
    {
     "data": {
      "text/html": [
       "<div>\n",
       "<style scoped>\n",
       "    .dataframe tbody tr th:only-of-type {\n",
       "        vertical-align: middle;\n",
       "    }\n",
       "\n",
       "    .dataframe tbody tr th {\n",
       "        vertical-align: top;\n",
       "    }\n",
       "\n",
       "    .dataframe thead th {\n",
       "        text-align: right;\n",
       "    }\n",
       "</style>\n",
       "<table border=\"1\" class=\"dataframe\">\n",
       "  <thead>\n",
       "    <tr style=\"text-align: right;\">\n",
       "      <th></th>\n",
       "      <th>A</th>\n",
       "      <th>B</th>\n",
       "      <th>C</th>\n",
       "    </tr>\n",
       "  </thead>\n",
       "  <tbody>\n",
       "    <tr>\n",
       "      <th>Primeiro</th>\n",
       "      <td>3</td>\n",
       "      <td>5</td>\n",
       "      <td>2</td>\n",
       "    </tr>\n",
       "    <tr>\n",
       "      <th>Segundo</th>\n",
       "      <td>5</td>\n",
       "      <td>8</td>\n",
       "      <td>9</td>\n",
       "    </tr>\n",
       "  </tbody>\n",
       "</table>\n",
       "</div>"
      ],
      "text/plain": [
       "          A  B  C\n",
       "Primeiro  3  5  2\n",
       "Segundo   5  8  9"
      ]
     },
     "execution_count": 70,
     "metadata": {},
     "output_type": "execute_result"
    }
   ],
   "source": [
    "pd.DataFrame([[3,5,2],[5,8,9]],index = ['Primeiro','Segundo'],columns=['A','B','C'])"
   ]
  },
  {
   "cell_type": "code",
   "execution_count": 71,
   "metadata": {
    "ExecuteTime": {
     "end_time": "2022-01-18T15:14:21.765126Z",
     "start_time": "2022-01-18T15:14:21.746177Z"
    }
   },
   "outputs": [
    {
     "data": {
      "text/html": [
       "<div>\n",
       "<style scoped>\n",
       "    .dataframe tbody tr th:only-of-type {\n",
       "        vertical-align: middle;\n",
       "    }\n",
       "\n",
       "    .dataframe tbody tr th {\n",
       "        vertical-align: top;\n",
       "    }\n",
       "\n",
       "    .dataframe thead th {\n",
       "        text-align: right;\n",
       "    }\n",
       "</style>\n",
       "<table border=\"1\" class=\"dataframe\">\n",
       "  <thead>\n",
       "    <tr style=\"text-align: right;\">\n",
       "      <th></th>\n",
       "      <th>0</th>\n",
       "      <th>1</th>\n",
       "      <th>2</th>\n",
       "      <th>3</th>\n",
       "      <th>4</th>\n",
       "      <th>5</th>\n",
       "      <th>6</th>\n",
       "      <th>7</th>\n",
       "    </tr>\n",
       "  </thead>\n",
       "  <tbody>\n",
       "    <tr>\n",
       "      <th>0</th>\n",
       "      <td>7</td>\n",
       "      <td>1</td>\n",
       "      <td>2</td>\n",
       "      <td>5</td>\n",
       "      <td>2</td>\n",
       "      <td>7</td>\n",
       "      <td>6</td>\n",
       "      <td>6</td>\n",
       "    </tr>\n",
       "    <tr>\n",
       "      <th>1</th>\n",
       "      <td>8</td>\n",
       "      <td>4</td>\n",
       "      <td>2</td>\n",
       "      <td>1</td>\n",
       "      <td>6</td>\n",
       "      <td>2</td>\n",
       "      <td>3</td>\n",
       "      <td>9</td>\n",
       "    </tr>\n",
       "    <tr>\n",
       "      <th>2</th>\n",
       "      <td>1</td>\n",
       "      <td>1</td>\n",
       "      <td>9</td>\n",
       "      <td>9</td>\n",
       "      <td>2</td>\n",
       "      <td>3</td>\n",
       "      <td>3</td>\n",
       "      <td>6</td>\n",
       "    </tr>\n",
       "    <tr>\n",
       "      <th>3</th>\n",
       "      <td>3</td>\n",
       "      <td>7</td>\n",
       "      <td>5</td>\n",
       "      <td>7</td>\n",
       "      <td>6</td>\n",
       "      <td>6</td>\n",
       "      <td>8</td>\n",
       "      <td>8</td>\n",
       "    </tr>\n",
       "    <tr>\n",
       "      <th>4</th>\n",
       "      <td>4</td>\n",
       "      <td>8</td>\n",
       "      <td>3</td>\n",
       "      <td>7</td>\n",
       "      <td>8</td>\n",
       "      <td>5</td>\n",
       "      <td>9</td>\n",
       "      <td>8</td>\n",
       "    </tr>\n",
       "  </tbody>\n",
       "</table>\n",
       "</div>"
      ],
      "text/plain": [
       "   0  1  2  3  4  5  6  7\n",
       "0  7  1  2  5  2  7  6  6\n",
       "1  8  4  2  1  6  2  3  9\n",
       "2  1  1  9  9  2  3  3  6\n",
       "3  3  7  5  7  6  6  8  8\n",
       "4  4  8  3  7  8  5  9  8"
      ]
     },
     "execution_count": 71,
     "metadata": {},
     "output_type": "execute_result"
    }
   ],
   "source": [
    "matriz = np.random.randint(1,10,(5,8))\n",
    "pd.DataFrame(matriz)"
   ]
  },
  {
   "cell_type": "markdown",
   "metadata": {},
   "source": [
    "**NOTE:**: So a dataframe can be thought of as a dictionary, in which `keys` are the `column names` and `values` are the `pandas Series` themselves"
   ]
  },
  {
   "cell_type": "code",
   "execution_count": 72,
   "metadata": {
    "ExecuteTime": {
     "end_time": "2022-01-18T15:14:34.845232Z",
     "start_time": "2022-01-18T15:14:34.834262Z"
    },
    "scrolled": true
   },
   "outputs": [
    {
     "data": {
      "text/html": [
       "<div>\n",
       "<style scoped>\n",
       "    .dataframe tbody tr th:only-of-type {\n",
       "        vertical-align: middle;\n",
       "    }\n",
       "\n",
       "    .dataframe tbody tr th {\n",
       "        vertical-align: top;\n",
       "    }\n",
       "\n",
       "    .dataframe thead th {\n",
       "        text-align: right;\n",
       "    }\n",
       "</style>\n",
       "<table border=\"1\" class=\"dataframe\">\n",
       "  <thead>\n",
       "    <tr style=\"text-align: right;\">\n",
       "      <th></th>\n",
       "      <th>idade</th>\n",
       "      <th>altura</th>\n",
       "    </tr>\n",
       "  </thead>\n",
       "  <tbody>\n",
       "    <tr>\n",
       "      <th>JOAO</th>\n",
       "      <td>25</td>\n",
       "      <td>177</td>\n",
       "    </tr>\n",
       "    <tr>\n",
       "      <th>ANDRE</th>\n",
       "      <td>28</td>\n",
       "      <td>175</td>\n",
       "    </tr>\n",
       "  </tbody>\n",
       "</table>\n",
       "</div>"
      ],
      "text/plain": [
       "       idade  altura\n",
       "JOAO      25     177\n",
       "ANDRE     28     175"
      ]
     },
     "execution_count": 72,
     "metadata": {},
     "output_type": "execute_result"
    }
   ],
   "source": [
    "my_dataframe"
   ]
  },
  {
   "cell_type": "code",
   "execution_count": 85,
   "metadata": {
    "ExecuteTime": {
     "end_time": "2022-01-18T15:17:51.533263Z",
     "start_time": "2022-01-18T15:17:51.521294Z"
    }
   },
   "outputs": [
    {
     "data": {
      "text/plain": [
       "JOAO     25\n",
       "ANDRE    28\n",
       "Name: idade, dtype: int64"
      ]
     },
     "execution_count": 85,
     "metadata": {},
     "output_type": "execute_result"
    }
   ],
   "source": [
    "my_dataframe['idade'] "
   ]
  },
  {
   "cell_type": "code",
   "execution_count": 86,
   "metadata": {
    "ExecuteTime": {
     "end_time": "2022-01-18T15:17:54.560729Z",
     "start_time": "2022-01-18T15:17:54.544772Z"
    }
   },
   "outputs": [
    {
     "data": {
      "text/plain": [
       "JOAO     25\n",
       "ANDRE    28\n",
       "Name: idade, dtype: int64"
      ]
     },
     "execution_count": 86,
     "metadata": {},
     "output_type": "execute_result"
    }
   ],
   "source": [
    "my_dataframe.idade"
   ]
  },
  {
   "cell_type": "markdown",
   "metadata": {},
   "source": [
    "# `Access` Methods: Accessing dataframes rows and columns\n",
    "\n",
    "These are the correct way to access data in a dataframe. You can specify both row and column. You can also specify only row."
   ]
  },
  {
   "cell_type": "markdown",
   "metadata": {
    "ExecuteTime": {
     "end_time": "2020-07-29T17:52:37.678499Z",
     "start_time": "2020-07-29T17:52:37.676498Z"
    }
   },
   "source": [
    "## `dataframe.loc[row_name, col_name]`"
   ]
  },
  {
   "cell_type": "code",
   "execution_count": 87,
   "metadata": {
    "ExecuteTime": {
     "end_time": "2022-01-18T15:19:22.833510Z",
     "start_time": "2022-01-18T15:19:22.824538Z"
    },
    "scrolled": true
   },
   "outputs": [
    {
     "data": {
      "text/html": [
       "<div>\n",
       "<style scoped>\n",
       "    .dataframe tbody tr th:only-of-type {\n",
       "        vertical-align: middle;\n",
       "    }\n",
       "\n",
       "    .dataframe tbody tr th {\n",
       "        vertical-align: top;\n",
       "    }\n",
       "\n",
       "    .dataframe thead th {\n",
       "        text-align: right;\n",
       "    }\n",
       "</style>\n",
       "<table border=\"1\" class=\"dataframe\">\n",
       "  <thead>\n",
       "    <tr style=\"text-align: right;\">\n",
       "      <th></th>\n",
       "      <th>idade</th>\n",
       "      <th>altura</th>\n",
       "    </tr>\n",
       "  </thead>\n",
       "  <tbody>\n",
       "    <tr>\n",
       "      <th>JOAO</th>\n",
       "      <td>25</td>\n",
       "      <td>177</td>\n",
       "    </tr>\n",
       "    <tr>\n",
       "      <th>ANDRE</th>\n",
       "      <td>28</td>\n",
       "      <td>175</td>\n",
       "    </tr>\n",
       "  </tbody>\n",
       "</table>\n",
       "</div>"
      ],
      "text/plain": [
       "       idade  altura\n",
       "JOAO      25     177\n",
       "ANDRE     28     175"
      ]
     },
     "execution_count": 87,
     "metadata": {},
     "output_type": "execute_result"
    }
   ],
   "source": [
    "my_dataframe"
   ]
  },
  {
   "cell_type": "code",
   "execution_count": 92,
   "metadata": {
    "ExecuteTime": {
     "end_time": "2022-01-18T15:20:39.812618Z",
     "start_time": "2022-01-18T15:20:39.794654Z"
    }
   },
   "outputs": [
    {
     "data": {
      "text/plain": [
       "26"
      ]
     },
     "execution_count": 92,
     "metadata": {},
     "output_type": "execute_result"
    }
   ],
   "source": [
    "my_dataframe['idade']['JOAO']"
   ]
  },
  {
   "cell_type": "code",
   "execution_count": 101,
   "metadata": {
    "ExecuteTime": {
     "end_time": "2022-01-18T15:24:21.140132Z",
     "start_time": "2022-01-18T15:24:21.129161Z"
    }
   },
   "outputs": [
    {
     "data": {
      "text/plain": [
       "26"
      ]
     },
     "execution_count": 101,
     "metadata": {},
     "output_type": "execute_result"
    }
   ],
   "source": [
    "my_dataframe.loc['JOAO', 'idade']"
   ]
  },
  {
   "cell_type": "code",
   "execution_count": 96,
   "metadata": {
    "ExecuteTime": {
     "end_time": "2022-01-18T15:23:25.874280Z",
     "start_time": "2022-01-18T15:23:25.865329Z"
    },
    "scrolled": true
   },
   "outputs": [
    {
     "data": {
      "text/html": [
       "<div>\n",
       "<style scoped>\n",
       "    .dataframe tbody tr th:only-of-type {\n",
       "        vertical-align: middle;\n",
       "    }\n",
       "\n",
       "    .dataframe tbody tr th {\n",
       "        vertical-align: top;\n",
       "    }\n",
       "\n",
       "    .dataframe thead th {\n",
       "        text-align: right;\n",
       "    }\n",
       "</style>\n",
       "<table border=\"1\" class=\"dataframe\">\n",
       "  <thead>\n",
       "    <tr style=\"text-align: right;\">\n",
       "      <th></th>\n",
       "      <th>idade</th>\n",
       "    </tr>\n",
       "  </thead>\n",
       "  <tbody>\n",
       "    <tr>\n",
       "      <th>JOAO</th>\n",
       "      <td>26</td>\n",
       "    </tr>\n",
       "    <tr>\n",
       "      <th>ANDRE</th>\n",
       "      <td>28</td>\n",
       "    </tr>\n",
       "  </tbody>\n",
       "</table>\n",
       "</div>"
      ],
      "text/plain": [
       "       idade\n",
       "JOAO      26\n",
       "ANDRE     28"
      ]
     },
     "execution_count": 96,
     "metadata": {},
     "output_type": "execute_result"
    }
   ],
   "source": [
    "my_dataframe.loc[:,['idade']]"
   ]
  },
  {
   "cell_type": "code",
   "execution_count": 97,
   "metadata": {
    "ExecuteTime": {
     "end_time": "2022-01-18T15:23:42.040827Z",
     "start_time": "2022-01-18T15:23:42.024870Z"
    }
   },
   "outputs": [
    {
     "data": {
      "text/plain": [
       "175"
      ]
     },
     "execution_count": 97,
     "metadata": {},
     "output_type": "execute_result"
    }
   ],
   "source": [
    "my_dataframe.loc['ANDRE', 'altura']"
   ]
  },
  {
   "cell_type": "code",
   "execution_count": 213,
   "metadata": {
    "ExecuteTime": {
     "end_time": "2022-01-18T12:50:15.713014Z",
     "start_time": "2022-01-18T12:50:15.707030Z"
    },
    "scrolled": true
   },
   "outputs": [
    {
     "data": {
      "text/html": [
       "<div>\n",
       "<style scoped>\n",
       "    .dataframe tbody tr th:only-of-type {\n",
       "        vertical-align: middle;\n",
       "    }\n",
       "\n",
       "    .dataframe tbody tr th {\n",
       "        vertical-align: top;\n",
       "    }\n",
       "\n",
       "    .dataframe thead th {\n",
       "        text-align: right;\n",
       "    }\n",
       "</style>\n",
       "<table border=\"1\" class=\"dataframe\">\n",
       "  <thead>\n",
       "    <tr style=\"text-align: right;\">\n",
       "      <th></th>\n",
       "      <th>idade</th>\n",
       "      <th>altura</th>\n",
       "    </tr>\n",
       "  </thead>\n",
       "  <tbody>\n",
       "    <tr>\n",
       "      <th>JOAO</th>\n",
       "      <td>25</td>\n",
       "      <td>177</td>\n",
       "    </tr>\n",
       "    <tr>\n",
       "      <th>ANDRE</th>\n",
       "      <td>28</td>\n",
       "      <td>175</td>\n",
       "    </tr>\n",
       "  </tbody>\n",
       "</table>\n",
       "</div>"
      ],
      "text/plain": [
       "       idade  altura\n",
       "JOAO      25     177\n",
       "ANDRE     28     175"
      ]
     },
     "execution_count": 213,
     "metadata": {},
     "output_type": "execute_result"
    }
   ],
   "source": [
    "my_dataframe"
   ]
  },
  {
   "cell_type": "code",
   "execution_count": 103,
   "metadata": {
    "ExecuteTime": {
     "end_time": "2022-01-18T15:24:43.424160Z",
     "start_time": "2022-01-18T15:24:43.409201Z"
    },
    "scrolled": true
   },
   "outputs": [
    {
     "data": {
      "text/html": [
       "<div>\n",
       "<style scoped>\n",
       "    .dataframe tbody tr th:only-of-type {\n",
       "        vertical-align: middle;\n",
       "    }\n",
       "\n",
       "    .dataframe tbody tr th {\n",
       "        vertical-align: top;\n",
       "    }\n",
       "\n",
       "    .dataframe thead th {\n",
       "        text-align: right;\n",
       "    }\n",
       "</style>\n",
       "<table border=\"1\" class=\"dataframe\">\n",
       "  <thead>\n",
       "    <tr style=\"text-align: right;\">\n",
       "      <th></th>\n",
       "      <th>idade</th>\n",
       "      <th>altura</th>\n",
       "    </tr>\n",
       "  </thead>\n",
       "  <tbody>\n",
       "    <tr>\n",
       "      <th>JOAO</th>\n",
       "      <td>26</td>\n",
       "      <td>177</td>\n",
       "    </tr>\n",
       "    <tr>\n",
       "      <th>ANDRE</th>\n",
       "      <td>28</td>\n",
       "      <td>175</td>\n",
       "    </tr>\n",
       "  </tbody>\n",
       "</table>\n",
       "</div>"
      ],
      "text/plain": [
       "       idade  altura\n",
       "JOAO      26     177\n",
       "ANDRE     28     175"
      ]
     },
     "execution_count": 103,
     "metadata": {},
     "output_type": "execute_result"
    }
   ],
   "source": [
    "my_dataframe.loc['JOAO':,:]"
   ]
  },
  {
   "cell_type": "markdown",
   "metadata": {},
   "source": [
    "## `dataframe.iloc[row_number, col_number]`"
   ]
  },
  {
   "cell_type": "code",
   "execution_count": 110,
   "metadata": {
    "ExecuteTime": {
     "end_time": "2022-01-18T15:27:17.757750Z",
     "start_time": "2022-01-18T15:27:17.750768Z"
    },
    "scrolled": true
   },
   "outputs": [
    {
     "data": {
      "text/html": [
       "<div>\n",
       "<style scoped>\n",
       "    .dataframe tbody tr th:only-of-type {\n",
       "        vertical-align: middle;\n",
       "    }\n",
       "\n",
       "    .dataframe tbody tr th {\n",
       "        vertical-align: top;\n",
       "    }\n",
       "\n",
       "    .dataframe thead th {\n",
       "        text-align: right;\n",
       "    }\n",
       "</style>\n",
       "<table border=\"1\" class=\"dataframe\">\n",
       "  <thead>\n",
       "    <tr style=\"text-align: right;\">\n",
       "      <th></th>\n",
       "      <th>idade</th>\n",
       "      <th>altura</th>\n",
       "    </tr>\n",
       "  </thead>\n",
       "  <tbody>\n",
       "    <tr>\n",
       "      <th>JOAO</th>\n",
       "      <td>26</td>\n",
       "      <td>177</td>\n",
       "    </tr>\n",
       "    <tr>\n",
       "      <th>ANDRE</th>\n",
       "      <td>28</td>\n",
       "      <td>175</td>\n",
       "    </tr>\n",
       "  </tbody>\n",
       "</table>\n",
       "</div>"
      ],
      "text/plain": [
       "       idade  altura\n",
       "JOAO      26     177\n",
       "ANDRE     28     175"
      ]
     },
     "execution_count": 110,
     "metadata": {},
     "output_type": "execute_result"
    }
   ],
   "source": [
    "my_dataframe"
   ]
  },
  {
   "cell_type": "code",
   "execution_count": 118,
   "metadata": {
    "ExecuteTime": {
     "end_time": "2022-01-18T15:29:05.973527Z",
     "start_time": "2022-01-18T15:29:05.953582Z"
    }
   },
   "outputs": [
    {
     "data": {
      "text/plain": [
       "idade      26\n",
       "altura    177\n",
       "Name: JOAO, dtype: int64"
      ]
     },
     "execution_count": 118,
     "metadata": {},
     "output_type": "execute_result"
    }
   ],
   "source": [
    "my_dataframe.iloc[0, :]"
   ]
  },
  {
   "cell_type": "code",
   "execution_count": 113,
   "metadata": {
    "ExecuteTime": {
     "end_time": "2022-01-18T15:27:40.468009Z",
     "start_time": "2022-01-18T15:27:40.458035Z"
    }
   },
   "outputs": [
    {
     "data": {
      "text/plain": [
       "175"
      ]
     },
     "execution_count": 113,
     "metadata": {},
     "output_type": "execute_result"
    }
   ],
   "source": [
    "my_dataframe.iloc[1, 1]"
   ]
  },
  {
   "cell_type": "code",
   "execution_count": 114,
   "metadata": {
    "ExecuteTime": {
     "end_time": "2022-01-18T15:27:42.282555Z",
     "start_time": "2022-01-18T15:27:42.265601Z"
    }
   },
   "outputs": [
    {
     "data": {
      "text/plain": [
       "175"
      ]
     },
     "execution_count": 114,
     "metadata": {},
     "output_type": "execute_result"
    }
   ],
   "source": [
    "my_dataframe.iloc[-1, 1]"
   ]
  },
  {
   "cell_type": "markdown",
   "metadata": {},
   "source": [
    "What is the difference of selecting a column via: `my_dataframe['idade']` vs `my_dataframe.loc[:, 'idade']`?"
   ]
  },
  {
   "cell_type": "code",
   "execution_count": 116,
   "metadata": {
    "ExecuteTime": {
     "end_time": "2022-01-18T15:28:02.662501Z",
     "start_time": "2022-01-18T15:28:02.656517Z"
    }
   },
   "outputs": [
    {
     "data": {
      "text/plain": [
       "JOAO     26\n",
       "ANDRE    28\n",
       "Name: idade, dtype: int64"
      ]
     },
     "execution_count": 116,
     "metadata": {},
     "output_type": "execute_result"
    }
   ],
   "source": [
    "#my_dataframe['idade']\n",
    "my_dataframe.loc[:, 'idade']"
   ]
  },
  {
   "cell_type": "markdown",
   "metadata": {},
   "source": [
    "# Creating dataframes"
   ]
  },
  {
   "cell_type": "markdown",
   "metadata": {},
   "source": [
    "## From a list in 1-D"
   ]
  },
  {
   "cell_type": "code",
   "execution_count": 220,
   "metadata": {
    "ExecuteTime": {
     "end_time": "2022-01-18T12:50:24.949820Z",
     "start_time": "2022-01-18T12:50:24.937852Z"
    }
   },
   "outputs": [],
   "source": [
    "my_list = [1,2,3]"
   ]
  },
  {
   "cell_type": "code",
   "execution_count": 221,
   "metadata": {
    "ExecuteTime": {
     "end_time": "2022-01-18T12:50:25.372753Z",
     "start_time": "2022-01-18T12:50:25.353805Z"
    }
   },
   "outputs": [
    {
     "data": {
      "text/plain": [
       "array([1, 2, 3])"
      ]
     },
     "execution_count": 221,
     "metadata": {},
     "output_type": "execute_result"
    }
   ],
   "source": [
    "np.array(my_list)"
   ]
  },
  {
   "cell_type": "code",
   "execution_count": 222,
   "metadata": {
    "ExecuteTime": {
     "end_time": "2022-01-18T12:50:25.658584Z",
     "start_time": "2022-01-18T12:50:25.649609Z"
    }
   },
   "outputs": [
    {
     "data": {
      "text/plain": [
       "(3,)"
      ]
     },
     "execution_count": 222,
     "metadata": {},
     "output_type": "execute_result"
    }
   ],
   "source": [
    "np.array(my_list).shape"
   ]
  },
  {
   "cell_type": "code",
   "execution_count": 223,
   "metadata": {
    "ExecuteTime": {
     "end_time": "2022-01-18T12:50:25.938829Z",
     "start_time": "2022-01-18T12:50:25.920894Z"
    }
   },
   "outputs": [
    {
     "data": {
      "text/plain": [
       "0    1\n",
       "1    2\n",
       "2    3\n",
       "dtype: int64"
      ]
     },
     "execution_count": 223,
     "metadata": {},
     "output_type": "execute_result"
    }
   ],
   "source": [
    "pd.Series(my_list)"
   ]
  },
  {
   "cell_type": "code",
   "execution_count": 224,
   "metadata": {
    "ExecuteTime": {
     "end_time": "2022-01-18T12:50:26.233864Z",
     "start_time": "2022-01-18T12:50:26.213917Z"
    }
   },
   "outputs": [
    {
     "data": {
      "text/html": [
       "<div>\n",
       "<style scoped>\n",
       "    .dataframe tbody tr th:only-of-type {\n",
       "        vertical-align: middle;\n",
       "    }\n",
       "\n",
       "    .dataframe tbody tr th {\n",
       "        vertical-align: top;\n",
       "    }\n",
       "\n",
       "    .dataframe thead th {\n",
       "        text-align: right;\n",
       "    }\n",
       "</style>\n",
       "<table border=\"1\" class=\"dataframe\">\n",
       "  <thead>\n",
       "    <tr style=\"text-align: right;\">\n",
       "      <th></th>\n",
       "      <th>0</th>\n",
       "    </tr>\n",
       "  </thead>\n",
       "  <tbody>\n",
       "    <tr>\n",
       "      <th>0</th>\n",
       "      <td>1</td>\n",
       "    </tr>\n",
       "    <tr>\n",
       "      <th>1</th>\n",
       "      <td>2</td>\n",
       "    </tr>\n",
       "    <tr>\n",
       "      <th>2</th>\n",
       "      <td>3</td>\n",
       "    </tr>\n",
       "  </tbody>\n",
       "</table>\n",
       "</div>"
      ],
      "text/plain": [
       "   0\n",
       "0  1\n",
       "1  2\n",
       "2  3"
      ]
     },
     "execution_count": 224,
     "metadata": {},
     "output_type": "execute_result"
    }
   ],
   "source": [
    "pd.DataFrame(data=my_list)"
   ]
  },
  {
   "cell_type": "code",
   "execution_count": 225,
   "metadata": {
    "ExecuteTime": {
     "end_time": "2022-01-18T12:50:27.189511Z",
     "start_time": "2022-01-18T12:50:27.177543Z"
    }
   },
   "outputs": [
    {
     "data": {
      "text/html": [
       "<div>\n",
       "<style scoped>\n",
       "    .dataframe tbody tr th:only-of-type {\n",
       "        vertical-align: middle;\n",
       "    }\n",
       "\n",
       "    .dataframe tbody tr th {\n",
       "        vertical-align: top;\n",
       "    }\n",
       "\n",
       "    .dataframe thead th {\n",
       "        text-align: right;\n",
       "    }\n",
       "</style>\n",
       "<table border=\"1\" class=\"dataframe\">\n",
       "  <thead>\n",
       "    <tr style=\"text-align: right;\">\n",
       "      <th></th>\n",
       "      <th>notas</th>\n",
       "    </tr>\n",
       "  </thead>\n",
       "  <tbody>\n",
       "    <tr>\n",
       "      <th>Andre</th>\n",
       "      <td>1</td>\n",
       "    </tr>\n",
       "    <tr>\n",
       "      <th>Maria</th>\n",
       "      <td>2</td>\n",
       "    </tr>\n",
       "    <tr>\n",
       "      <th>Joao</th>\n",
       "      <td>3</td>\n",
       "    </tr>\n",
       "  </tbody>\n",
       "</table>\n",
       "</div>"
      ],
      "text/plain": [
       "       notas\n",
       "Andre      1\n",
       "Maria      2\n",
       "Joao       3"
      ]
     },
     "execution_count": 225,
     "metadata": {},
     "output_type": "execute_result"
    }
   ],
   "source": [
    "pd.DataFrame(data=my_list, columns=['notas'], index=['Andre','Maria','Joao'])"
   ]
  },
  {
   "cell_type": "markdown",
   "metadata": {},
   "source": [
    "## From a list in > 1-D (let's remember numpy arrays here!)"
   ]
  },
  {
   "cell_type": "code",
   "execution_count": 119,
   "metadata": {
    "ExecuteTime": {
     "end_time": "2022-01-18T15:29:40.122829Z",
     "start_time": "2022-01-18T15:29:40.104876Z"
    }
   },
   "outputs": [],
   "source": [
    "my_list = [[1,2,3],\n",
    "           [-5,-6,-7]]"
   ]
  },
  {
   "cell_type": "code",
   "execution_count": 120,
   "metadata": {
    "ExecuteTime": {
     "end_time": "2022-01-18T15:29:41.846039Z",
     "start_time": "2022-01-18T15:29:41.832080Z"
    }
   },
   "outputs": [
    {
     "data": {
      "text/plain": [
       "array([[ 1,  2,  3],\n",
       "       [-5, -6, -7]])"
      ]
     },
     "execution_count": 120,
     "metadata": {},
     "output_type": "execute_result"
    }
   ],
   "source": [
    "np.array(my_list)"
   ]
  },
  {
   "cell_type": "code",
   "execution_count": 121,
   "metadata": {
    "ExecuteTime": {
     "end_time": "2022-01-18T15:29:42.702664Z",
     "start_time": "2022-01-18T15:29:42.696680Z"
    }
   },
   "outputs": [
    {
     "data": {
      "text/plain": [
       "(2, 3)"
      ]
     },
     "execution_count": 121,
     "metadata": {},
     "output_type": "execute_result"
    }
   ],
   "source": [
    "np.array(my_list).shape"
   ]
  },
  {
   "cell_type": "code",
   "execution_count": 122,
   "metadata": {
    "ExecuteTime": {
     "end_time": "2022-01-18T15:29:43.747600Z",
     "start_time": "2022-01-18T15:29:43.728650Z"
    }
   },
   "outputs": [
    {
     "data": {
      "text/html": [
       "<div>\n",
       "<style scoped>\n",
       "    .dataframe tbody tr th:only-of-type {\n",
       "        vertical-align: middle;\n",
       "    }\n",
       "\n",
       "    .dataframe tbody tr th {\n",
       "        vertical-align: top;\n",
       "    }\n",
       "\n",
       "    .dataframe thead th {\n",
       "        text-align: right;\n",
       "    }\n",
       "</style>\n",
       "<table border=\"1\" class=\"dataframe\">\n",
       "  <thead>\n",
       "    <tr style=\"text-align: right;\">\n",
       "      <th></th>\n",
       "      <th>idade</th>\n",
       "      <th>peso</th>\n",
       "      <th>altura</th>\n",
       "    </tr>\n",
       "  </thead>\n",
       "  <tbody>\n",
       "    <tr>\n",
       "      <th>0</th>\n",
       "      <td>1</td>\n",
       "      <td>2</td>\n",
       "      <td>3</td>\n",
       "    </tr>\n",
       "    <tr>\n",
       "      <th>1</th>\n",
       "      <td>-5</td>\n",
       "      <td>-6</td>\n",
       "      <td>-7</td>\n",
       "    </tr>\n",
       "  </tbody>\n",
       "</table>\n",
       "</div>"
      ],
      "text/plain": [
       "   idade  peso  altura\n",
       "0      1     2       3\n",
       "1     -5    -6      -7"
      ]
     },
     "execution_count": 122,
     "metadata": {},
     "output_type": "execute_result"
    }
   ],
   "source": [
    "df = pd.DataFrame(data=my_list, columns=['idade','peso','altura'])\n",
    "df"
   ]
  },
  {
   "cell_type": "code",
   "execution_count": 230,
   "metadata": {
    "ExecuteTime": {
     "end_time": "2022-01-18T12:50:32.968600Z",
     "start_time": "2022-01-18T12:50:32.962616Z"
    }
   },
   "outputs": [
    {
     "data": {
      "text/plain": [
       "(2, 3)"
      ]
     },
     "execution_count": 230,
     "metadata": {},
     "output_type": "execute_result"
    }
   ],
   "source": [
    "df.shape"
   ]
  },
  {
   "cell_type": "markdown",
   "metadata": {},
   "source": [
    "## From a dictionary composed by lists"
   ]
  },
  {
   "cell_type": "code",
   "execution_count": 123,
   "metadata": {
    "ExecuteTime": {
     "end_time": "2022-01-18T15:30:05.216005Z",
     "start_time": "2022-01-18T15:30:05.202042Z"
    }
   },
   "outputs": [
    {
     "data": {
      "text/html": [
       "<div>\n",
       "<style scoped>\n",
       "    .dataframe tbody tr th:only-of-type {\n",
       "        vertical-align: middle;\n",
       "    }\n",
       "\n",
       "    .dataframe tbody tr th {\n",
       "        vertical-align: top;\n",
       "    }\n",
       "\n",
       "    .dataframe thead th {\n",
       "        text-align: right;\n",
       "    }\n",
       "</style>\n",
       "<table border=\"1\" class=\"dataframe\">\n",
       "  <thead>\n",
       "    <tr style=\"text-align: right;\">\n",
       "      <th></th>\n",
       "      <th>ironhack_students</th>\n",
       "      <th>NOTA</th>\n",
       "    </tr>\n",
       "  </thead>\n",
       "  <tbody>\n",
       "    <tr>\n",
       "      <th>0</th>\n",
       "      <td>a</td>\n",
       "      <td>10.0</td>\n",
       "    </tr>\n",
       "    <tr>\n",
       "      <th>1</th>\n",
       "      <td>b</td>\n",
       "      <td>10.0</td>\n",
       "    </tr>\n",
       "    <tr>\n",
       "      <th>2</th>\n",
       "      <td>c</td>\n",
       "      <td>NaN</td>\n",
       "    </tr>\n",
       "  </tbody>\n",
       "</table>\n",
       "</div>"
      ],
      "text/plain": [
       "  ironhack_students  NOTA\n",
       "0                 a  10.0\n",
       "1                 b  10.0\n",
       "2                 c   NaN"
      ]
     },
     "execution_count": 123,
     "metadata": {},
     "output_type": "execute_result"
    }
   ],
   "source": [
    "pd.DataFrame({'ironhack_students': ['a','b','c'],\n",
    "              'NOTA':[10, 10, None]})"
   ]
  },
  {
   "cell_type": "markdown",
   "metadata": {},
   "source": [
    "## From a numpy array"
   ]
  },
  {
   "cell_type": "code",
   "execution_count": 124,
   "metadata": {
    "ExecuteTime": {
     "end_time": "2022-01-18T15:30:08.241183Z",
     "start_time": "2022-01-18T15:30:08.233214Z"
    }
   },
   "outputs": [
    {
     "data": {
      "text/plain": [
       "array([[1.09769905e-01, 8.23560212e-01, 4.72655129e-01, 1.09701124e-01],\n",
       "       [2.62275024e-01, 4.88557230e-01, 4.26120865e-01, 9.20615012e-02],\n",
       "       [2.18933952e-01, 6.04818926e-01, 5.22181674e-01, 4.77412298e-01],\n",
       "       [6.66762515e-01, 9.19310672e-01, 6.49391597e-04, 7.92251592e-01],\n",
       "       [2.77998483e-01, 3.88348172e-01, 1.63666990e-01, 2.90784435e-01]])"
      ]
     },
     "execution_count": 124,
     "metadata": {},
     "output_type": "execute_result"
    }
   ],
   "source": [
    "a = np.random.random(size=(5, 4))\n",
    "a"
   ]
  },
  {
   "cell_type": "code",
   "execution_count": 125,
   "metadata": {
    "ExecuteTime": {
     "end_time": "2022-01-18T15:30:11.423583Z",
     "start_time": "2022-01-18T15:30:11.417600Z"
    }
   },
   "outputs": [],
   "source": [
    "data = pd.DataFrame(a, columns=['altura', 'peso', 'idade', 'largura'])"
   ]
  },
  {
   "cell_type": "code",
   "execution_count": 126,
   "metadata": {
    "ExecuteTime": {
     "end_time": "2022-01-18T15:30:12.305841Z",
     "start_time": "2022-01-18T15:30:12.287889Z"
    }
   },
   "outputs": [
    {
     "data": {
      "text/html": [
       "<div>\n",
       "<style scoped>\n",
       "    .dataframe tbody tr th:only-of-type {\n",
       "        vertical-align: middle;\n",
       "    }\n",
       "\n",
       "    .dataframe tbody tr th {\n",
       "        vertical-align: top;\n",
       "    }\n",
       "\n",
       "    .dataframe thead th {\n",
       "        text-align: right;\n",
       "    }\n",
       "</style>\n",
       "<table border=\"1\" class=\"dataframe\">\n",
       "  <thead>\n",
       "    <tr style=\"text-align: right;\">\n",
       "      <th></th>\n",
       "      <th>altura</th>\n",
       "      <th>peso</th>\n",
       "      <th>idade</th>\n",
       "      <th>largura</th>\n",
       "    </tr>\n",
       "  </thead>\n",
       "  <tbody>\n",
       "    <tr>\n",
       "      <th>0</th>\n",
       "      <td>0.109770</td>\n",
       "      <td>0.823560</td>\n",
       "      <td>0.472655</td>\n",
       "      <td>0.109701</td>\n",
       "    </tr>\n",
       "    <tr>\n",
       "      <th>1</th>\n",
       "      <td>0.262275</td>\n",
       "      <td>0.488557</td>\n",
       "      <td>0.426121</td>\n",
       "      <td>0.092062</td>\n",
       "    </tr>\n",
       "    <tr>\n",
       "      <th>2</th>\n",
       "      <td>0.218934</td>\n",
       "      <td>0.604819</td>\n",
       "      <td>0.522182</td>\n",
       "      <td>0.477412</td>\n",
       "    </tr>\n",
       "    <tr>\n",
       "      <th>3</th>\n",
       "      <td>0.666763</td>\n",
       "      <td>0.919311</td>\n",
       "      <td>0.000649</td>\n",
       "      <td>0.792252</td>\n",
       "    </tr>\n",
       "    <tr>\n",
       "      <th>4</th>\n",
       "      <td>0.277998</td>\n",
       "      <td>0.388348</td>\n",
       "      <td>0.163667</td>\n",
       "      <td>0.290784</td>\n",
       "    </tr>\n",
       "  </tbody>\n",
       "</table>\n",
       "</div>"
      ],
      "text/plain": [
       "     altura      peso     idade   largura\n",
       "0  0.109770  0.823560  0.472655  0.109701\n",
       "1  0.262275  0.488557  0.426121  0.092062\n",
       "2  0.218934  0.604819  0.522182  0.477412\n",
       "3  0.666763  0.919311  0.000649  0.792252\n",
       "4  0.277998  0.388348  0.163667  0.290784"
      ]
     },
     "execution_count": 126,
     "metadata": {},
     "output_type": "execute_result"
    }
   ],
   "source": [
    "data"
   ]
  },
  {
   "cell_type": "markdown",
   "metadata": {},
   "source": [
    "### Accessing rows and columns:\n",
    "\n",
    "#### `.loc`\n",
    "\n",
    "remember: `.loc` receives `[row_name, column_name]`"
   ]
  },
  {
   "cell_type": "code",
   "execution_count": 128,
   "metadata": {
    "ExecuteTime": {
     "end_time": "2022-01-18T17:06:45.618543Z",
     "start_time": "2022-01-18T17:06:45.600591Z"
    },
    "scrolled": true
   },
   "outputs": [
    {
     "data": {
      "text/html": [
       "<div>\n",
       "<style scoped>\n",
       "    .dataframe tbody tr th:only-of-type {\n",
       "        vertical-align: middle;\n",
       "    }\n",
       "\n",
       "    .dataframe tbody tr th {\n",
       "        vertical-align: top;\n",
       "    }\n",
       "\n",
       "    .dataframe thead th {\n",
       "        text-align: right;\n",
       "    }\n",
       "</style>\n",
       "<table border=\"1\" class=\"dataframe\">\n",
       "  <thead>\n",
       "    <tr style=\"text-align: right;\">\n",
       "      <th></th>\n",
       "      <th>altura</th>\n",
       "      <th>peso</th>\n",
       "      <th>idade</th>\n",
       "      <th>largura</th>\n",
       "    </tr>\n",
       "  </thead>\n",
       "  <tbody>\n",
       "    <tr>\n",
       "      <th>0</th>\n",
       "      <td>0.109770</td>\n",
       "      <td>0.823560</td>\n",
       "      <td>0.472655</td>\n",
       "      <td>0.109701</td>\n",
       "    </tr>\n",
       "    <tr>\n",
       "      <th>1</th>\n",
       "      <td>0.262275</td>\n",
       "      <td>0.488557</td>\n",
       "      <td>0.426121</td>\n",
       "      <td>0.092062</td>\n",
       "    </tr>\n",
       "    <tr>\n",
       "      <th>2</th>\n",
       "      <td>0.218934</td>\n",
       "      <td>0.604819</td>\n",
       "      <td>0.522182</td>\n",
       "      <td>0.477412</td>\n",
       "    </tr>\n",
       "    <tr>\n",
       "      <th>3</th>\n",
       "      <td>0.666763</td>\n",
       "      <td>0.919311</td>\n",
       "      <td>0.000649</td>\n",
       "      <td>0.792252</td>\n",
       "    </tr>\n",
       "    <tr>\n",
       "      <th>4</th>\n",
       "      <td>0.277998</td>\n",
       "      <td>0.388348</td>\n",
       "      <td>0.163667</td>\n",
       "      <td>0.290784</td>\n",
       "    </tr>\n",
       "  </tbody>\n",
       "</table>\n",
       "</div>"
      ],
      "text/plain": [
       "     altura      peso     idade   largura\n",
       "0  0.109770  0.823560  0.472655  0.109701\n",
       "1  0.262275  0.488557  0.426121  0.092062\n",
       "2  0.218934  0.604819  0.522182  0.477412\n",
       "3  0.666763  0.919311  0.000649  0.792252\n",
       "4  0.277998  0.388348  0.163667  0.290784"
      ]
     },
     "execution_count": 128,
     "metadata": {},
     "output_type": "execute_result"
    }
   ],
   "source": [
    "data"
   ]
  },
  {
   "cell_type": "code",
   "execution_count": 129,
   "metadata": {
    "ExecuteTime": {
     "end_time": "2022-01-18T17:07:46.227623Z",
     "start_time": "2022-01-18T17:07:46.211666Z"
    },
    "scrolled": true
   },
   "outputs": [
    {
     "data": {
      "text/plain": [
       "0.60481892625221"
      ]
     },
     "execution_count": 129,
     "metadata": {},
     "output_type": "execute_result"
    }
   ],
   "source": [
    "# get third row and column `peso`\n",
    "data.loc[2,'peso']"
   ]
  },
  {
   "cell_type": "code",
   "execution_count": 132,
   "metadata": {
    "ExecuteTime": {
     "end_time": "2022-01-18T17:08:53.936967Z",
     "start_time": "2022-01-18T17:08:53.922007Z"
    },
    "scrolled": true
   },
   "outputs": [
    {
     "data": {
      "text/html": [
       "<div>\n",
       "<style scoped>\n",
       "    .dataframe tbody tr th:only-of-type {\n",
       "        vertical-align: middle;\n",
       "    }\n",
       "\n",
       "    .dataframe tbody tr th {\n",
       "        vertical-align: top;\n",
       "    }\n",
       "\n",
       "    .dataframe thead th {\n",
       "        text-align: right;\n",
       "    }\n",
       "</style>\n",
       "<table border=\"1\" class=\"dataframe\">\n",
       "  <thead>\n",
       "    <tr style=\"text-align: right;\">\n",
       "      <th></th>\n",
       "      <th>altura</th>\n",
       "      <th>peso</th>\n",
       "      <th>idade</th>\n",
       "      <th>largura</th>\n",
       "    </tr>\n",
       "  </thead>\n",
       "  <tbody>\n",
       "    <tr>\n",
       "      <th>2</th>\n",
       "      <td>0.218934</td>\n",
       "      <td>0.604819</td>\n",
       "      <td>0.522182</td>\n",
       "      <td>0.477412</td>\n",
       "    </tr>\n",
       "  </tbody>\n",
       "</table>\n",
       "</div>"
      ],
      "text/plain": [
       "     altura      peso     idade   largura\n",
       "2  0.218934  0.604819  0.522182  0.477412"
      ]
     },
     "execution_count": 132,
     "metadata": {},
     "output_type": "execute_result"
    }
   ],
   "source": [
    "# get entire third row\n",
    "#data.loc[2,['altura','peso','idade','largura']]\n",
    "#data.loc[2,:]\n",
    "data.loc[[2],:]"
   ]
  },
  {
   "cell_type": "code",
   "execution_count": 136,
   "metadata": {
    "ExecuteTime": {
     "end_time": "2022-01-18T17:10:39.662272Z",
     "start_time": "2022-01-18T17:10:39.641328Z"
    }
   },
   "outputs": [
    {
     "data": {
      "text/html": [
       "<div>\n",
       "<style scoped>\n",
       "    .dataframe tbody tr th:only-of-type {\n",
       "        vertical-align: middle;\n",
       "    }\n",
       "\n",
       "    .dataframe tbody tr th {\n",
       "        vertical-align: top;\n",
       "    }\n",
       "\n",
       "    .dataframe thead th {\n",
       "        text-align: right;\n",
       "    }\n",
       "</style>\n",
       "<table border=\"1\" class=\"dataframe\">\n",
       "  <thead>\n",
       "    <tr style=\"text-align: right;\">\n",
       "      <th></th>\n",
       "      <th>idade</th>\n",
       "    </tr>\n",
       "  </thead>\n",
       "  <tbody>\n",
       "    <tr>\n",
       "      <th>0</th>\n",
       "      <td>0.472655</td>\n",
       "    </tr>\n",
       "    <tr>\n",
       "      <th>1</th>\n",
       "      <td>0.426121</td>\n",
       "    </tr>\n",
       "    <tr>\n",
       "      <th>2</th>\n",
       "      <td>0.522182</td>\n",
       "    </tr>\n",
       "    <tr>\n",
       "      <th>3</th>\n",
       "      <td>0.000649</td>\n",
       "    </tr>\n",
       "    <tr>\n",
       "      <th>4</th>\n",
       "      <td>0.163667</td>\n",
       "    </tr>\n",
       "  </tbody>\n",
       "</table>\n",
       "</div>"
      ],
      "text/plain": [
       "      idade\n",
       "0  0.472655\n",
       "1  0.426121\n",
       "2  0.522182\n",
       "3  0.000649\n",
       "4  0.163667"
      ]
     },
     "execution_count": 136,
     "metadata": {},
     "output_type": "execute_result"
    }
   ],
   "source": [
    "# get entire `idade` column\n",
    "data.loc[:,['idade']]"
   ]
  },
  {
   "cell_type": "code",
   "execution_count": 138,
   "metadata": {
    "ExecuteTime": {
     "end_time": "2022-01-18T17:11:54.691927Z",
     "start_time": "2022-01-18T17:11:54.673976Z"
    }
   },
   "outputs": [
    {
     "data": {
      "text/html": [
       "<div>\n",
       "<style scoped>\n",
       "    .dataframe tbody tr th:only-of-type {\n",
       "        vertical-align: middle;\n",
       "    }\n",
       "\n",
       "    .dataframe tbody tr th {\n",
       "        vertical-align: top;\n",
       "    }\n",
       "\n",
       "    .dataframe thead th {\n",
       "        text-align: right;\n",
       "    }\n",
       "</style>\n",
       "<table border=\"1\" class=\"dataframe\">\n",
       "  <thead>\n",
       "    <tr style=\"text-align: right;\">\n",
       "      <th></th>\n",
       "      <th>peso</th>\n",
       "      <th>idade</th>\n",
       "      <th>largura</th>\n",
       "    </tr>\n",
       "  </thead>\n",
       "  <tbody>\n",
       "    <tr>\n",
       "      <th>0</th>\n",
       "      <td>0.823560</td>\n",
       "      <td>0.472655</td>\n",
       "      <td>0.109701</td>\n",
       "    </tr>\n",
       "    <tr>\n",
       "      <th>1</th>\n",
       "      <td>0.488557</td>\n",
       "      <td>0.426121</td>\n",
       "      <td>0.092062</td>\n",
       "    </tr>\n",
       "    <tr>\n",
       "      <th>2</th>\n",
       "      <td>0.604819</td>\n",
       "      <td>0.522182</td>\n",
       "      <td>0.477412</td>\n",
       "    </tr>\n",
       "    <tr>\n",
       "      <th>3</th>\n",
       "      <td>0.919311</td>\n",
       "      <td>0.000649</td>\n",
       "      <td>0.792252</td>\n",
       "    </tr>\n",
       "    <tr>\n",
       "      <th>4</th>\n",
       "      <td>0.388348</td>\n",
       "      <td>0.163667</td>\n",
       "      <td>0.290784</td>\n",
       "    </tr>\n",
       "  </tbody>\n",
       "</table>\n",
       "</div>"
      ],
      "text/plain": [
       "       peso     idade   largura\n",
       "0  0.823560  0.472655  0.109701\n",
       "1  0.488557  0.426121  0.092062\n",
       "2  0.604819  0.522182  0.477412\n",
       "3  0.919311  0.000649  0.792252\n",
       "4  0.388348  0.163667  0.290784"
      ]
     },
     "execution_count": 138,
     "metadata": {},
     "output_type": "execute_result"
    }
   ],
   "source": [
    "# get all rows from column `peso` up to `largura`\n",
    "#data.loc[:,'peso':'largura']\n",
    "#data.loc[:,['peso','idade','largura']]\n",
    "data.loc[:,'peso':'largura']"
   ]
  },
  {
   "cell_type": "code",
   "execution_count": 106,
   "metadata": {
    "ExecuteTime": {
     "end_time": "2022-01-18T12:36:11.134086Z",
     "start_time": "2022-01-18T12:36:11.124113Z"
    },
    "scrolled": true
   },
   "outputs": [
    {
     "data": {
      "text/html": [
       "<div>\n",
       "<style scoped>\n",
       "    .dataframe tbody tr th:only-of-type {\n",
       "        vertical-align: middle;\n",
       "    }\n",
       "\n",
       "    .dataframe tbody tr th {\n",
       "        vertical-align: top;\n",
       "    }\n",
       "\n",
       "    .dataframe thead th {\n",
       "        text-align: right;\n",
       "    }\n",
       "</style>\n",
       "<table border=\"1\" class=\"dataframe\">\n",
       "  <thead>\n",
       "    <tr style=\"text-align: right;\">\n",
       "      <th></th>\n",
       "      <th>peso</th>\n",
       "      <th>idade</th>\n",
       "      <th>largura</th>\n",
       "    </tr>\n",
       "  </thead>\n",
       "  <tbody>\n",
       "    <tr>\n",
       "      <th>0</th>\n",
       "      <td>0.034074</td>\n",
       "      <td>0.022657</td>\n",
       "      <td>0.095354</td>\n",
       "    </tr>\n",
       "    <tr>\n",
       "      <th>2</th>\n",
       "      <td>0.234287</td>\n",
       "      <td>0.496448</td>\n",
       "      <td>0.310047</td>\n",
       "    </tr>\n",
       "  </tbody>\n",
       "</table>\n",
       "</div>"
      ],
      "text/plain": [
       "       peso     idade   largura\n",
       "0  0.034074  0.022657  0.095354\n",
       "2  0.234287  0.496448  0.310047"
      ]
     },
     "execution_count": 106,
     "metadata": {},
     "output_type": "execute_result"
    }
   ],
   "source": [
    "data.loc[:3:2, 'peso':]"
   ]
  },
  {
   "cell_type": "code",
   "execution_count": null,
   "metadata": {},
   "outputs": [],
   "source": []
  },
  {
   "cell_type": "markdown",
   "metadata": {},
   "source": [
    "#### `.iloc`"
   ]
  },
  {
   "cell_type": "code",
   "execution_count": 140,
   "metadata": {
    "ExecuteTime": {
     "end_time": "2022-01-18T17:13:17.211435Z",
     "start_time": "2022-01-18T17:13:17.193483Z"
    }
   },
   "outputs": [
    {
     "data": {
      "text/html": [
       "<div>\n",
       "<style scoped>\n",
       "    .dataframe tbody tr th:only-of-type {\n",
       "        vertical-align: middle;\n",
       "    }\n",
       "\n",
       "    .dataframe tbody tr th {\n",
       "        vertical-align: top;\n",
       "    }\n",
       "\n",
       "    .dataframe thead th {\n",
       "        text-align: right;\n",
       "    }\n",
       "</style>\n",
       "<table border=\"1\" class=\"dataframe\">\n",
       "  <thead>\n",
       "    <tr style=\"text-align: right;\">\n",
       "      <th></th>\n",
       "      <th>altura</th>\n",
       "      <th>peso</th>\n",
       "      <th>idade</th>\n",
       "      <th>largura</th>\n",
       "    </tr>\n",
       "  </thead>\n",
       "  <tbody>\n",
       "    <tr>\n",
       "      <th>0</th>\n",
       "      <td>0.109770</td>\n",
       "      <td>0.823560</td>\n",
       "      <td>0.472655</td>\n",
       "      <td>0.109701</td>\n",
       "    </tr>\n",
       "    <tr>\n",
       "      <th>1</th>\n",
       "      <td>0.262275</td>\n",
       "      <td>0.488557</td>\n",
       "      <td>0.426121</td>\n",
       "      <td>0.092062</td>\n",
       "    </tr>\n",
       "    <tr>\n",
       "      <th>2</th>\n",
       "      <td>0.218934</td>\n",
       "      <td>0.604819</td>\n",
       "      <td>0.522182</td>\n",
       "      <td>0.477412</td>\n",
       "    </tr>\n",
       "    <tr>\n",
       "      <th>3</th>\n",
       "      <td>0.666763</td>\n",
       "      <td>0.919311</td>\n",
       "      <td>0.000649</td>\n",
       "      <td>0.792252</td>\n",
       "    </tr>\n",
       "  </tbody>\n",
       "</table>\n",
       "</div>"
      ],
      "text/plain": [
       "     altura      peso     idade   largura\n",
       "0  0.109770  0.823560  0.472655  0.109701\n",
       "1  0.262275  0.488557  0.426121  0.092062\n",
       "2  0.218934  0.604819  0.522182  0.477412\n",
       "3  0.666763  0.919311  0.000649  0.792252"
      ]
     },
     "execution_count": 140,
     "metadata": {},
     "output_type": "execute_result"
    }
   ],
   "source": [
    "data.iloc[0:4, :]\n",
    "data.loc[0:3,:]"
   ]
  },
  {
   "cell_type": "code",
   "execution_count": 108,
   "metadata": {
    "ExecuteTime": {
     "end_time": "2022-01-18T12:36:12.010163Z",
     "start_time": "2022-01-18T12:36:12.002184Z"
    }
   },
   "outputs": [
    {
     "data": {
      "text/html": [
       "<div>\n",
       "<style scoped>\n",
       "    .dataframe tbody tr th:only-of-type {\n",
       "        vertical-align: middle;\n",
       "    }\n",
       "\n",
       "    .dataframe tbody tr th {\n",
       "        vertical-align: top;\n",
       "    }\n",
       "\n",
       "    .dataframe thead th {\n",
       "        text-align: right;\n",
       "    }\n",
       "</style>\n",
       "<table border=\"1\" class=\"dataframe\">\n",
       "  <thead>\n",
       "    <tr style=\"text-align: right;\">\n",
       "      <th></th>\n",
       "      <th>peso</th>\n",
       "      <th>idade</th>\n",
       "      <th>largura</th>\n",
       "    </tr>\n",
       "  </thead>\n",
       "  <tbody>\n",
       "    <tr>\n",
       "      <th>0</th>\n",
       "      <td>0.034074</td>\n",
       "      <td>0.022657</td>\n",
       "      <td>0.095354</td>\n",
       "    </tr>\n",
       "    <tr>\n",
       "      <th>1</th>\n",
       "      <td>0.520528</td>\n",
       "      <td>0.004815</td>\n",
       "      <td>0.976007</td>\n",
       "    </tr>\n",
       "    <tr>\n",
       "      <th>2</th>\n",
       "      <td>0.234287</td>\n",
       "      <td>0.496448</td>\n",
       "      <td>0.310047</td>\n",
       "    </tr>\n",
       "    <tr>\n",
       "      <th>3</th>\n",
       "      <td>0.732967</td>\n",
       "      <td>0.733775</td>\n",
       "      <td>0.321665</td>\n",
       "    </tr>\n",
       "  </tbody>\n",
       "</table>\n",
       "</div>"
      ],
      "text/plain": [
       "       peso     idade   largura\n",
       "0  0.034074  0.022657  0.095354\n",
       "1  0.520528  0.004815  0.976007\n",
       "2  0.234287  0.496448  0.310047\n",
       "3  0.732967  0.733775  0.321665"
      ]
     },
     "execution_count": 108,
     "metadata": {},
     "output_type": "execute_result"
    }
   ],
   "source": [
    "data.iloc[0:4, 1:4]\n",
    "data.loc[0:3,'peso':'largura']"
   ]
  },
  {
   "cell_type": "code",
   "execution_count": 109,
   "metadata": {
    "ExecuteTime": {
     "end_time": "2022-01-18T12:36:12.231370Z",
     "start_time": "2022-01-18T12:36:12.209428Z"
    },
    "scrolled": true
   },
   "outputs": [
    {
     "data": {
      "text/html": [
       "<div>\n",
       "<style scoped>\n",
       "    .dataframe tbody tr th:only-of-type {\n",
       "        vertical-align: middle;\n",
       "    }\n",
       "\n",
       "    .dataframe tbody tr th {\n",
       "        vertical-align: top;\n",
       "    }\n",
       "\n",
       "    .dataframe thead th {\n",
       "        text-align: right;\n",
       "    }\n",
       "</style>\n",
       "<table border=\"1\" class=\"dataframe\">\n",
       "  <thead>\n",
       "    <tr style=\"text-align: right;\">\n",
       "      <th></th>\n",
       "      <th>altura</th>\n",
       "      <th>peso</th>\n",
       "      <th>idade</th>\n",
       "      <th>largura</th>\n",
       "    </tr>\n",
       "  </thead>\n",
       "  <tbody>\n",
       "    <tr>\n",
       "      <th>0</th>\n",
       "      <td>0.205258</td>\n",
       "      <td>0.034074</td>\n",
       "      <td>0.022657</td>\n",
       "      <td>0.095354</td>\n",
       "    </tr>\n",
       "    <tr>\n",
       "      <th>1</th>\n",
       "      <td>0.512434</td>\n",
       "      <td>0.520528</td>\n",
       "      <td>0.004815</td>\n",
       "      <td>0.976007</td>\n",
       "    </tr>\n",
       "    <tr>\n",
       "      <th>2</th>\n",
       "      <td>0.024348</td>\n",
       "      <td>0.234287</td>\n",
       "      <td>0.496448</td>\n",
       "      <td>0.310047</td>\n",
       "    </tr>\n",
       "    <tr>\n",
       "      <th>3</th>\n",
       "      <td>0.587896</td>\n",
       "      <td>0.732967</td>\n",
       "      <td>0.733775</td>\n",
       "      <td>0.321665</td>\n",
       "    </tr>\n",
       "    <tr>\n",
       "      <th>4</th>\n",
       "      <td>0.511667</td>\n",
       "      <td>0.723901</td>\n",
       "      <td>0.651273</td>\n",
       "      <td>0.335406</td>\n",
       "    </tr>\n",
       "  </tbody>\n",
       "</table>\n",
       "</div>"
      ],
      "text/plain": [
       "     altura      peso     idade   largura\n",
       "0  0.205258  0.034074  0.022657  0.095354\n",
       "1  0.512434  0.520528  0.004815  0.976007\n",
       "2  0.024348  0.234287  0.496448  0.310047\n",
       "3  0.587896  0.732967  0.733775  0.321665\n",
       "4  0.511667  0.723901  0.651273  0.335406"
      ]
     },
     "execution_count": 109,
     "metadata": {},
     "output_type": "execute_result"
    }
   ],
   "source": [
    "data"
   ]
  },
  {
   "cell_type": "code",
   "execution_count": 110,
   "metadata": {
    "ExecuteTime": {
     "end_time": "2022-01-18T12:36:12.406401Z",
     "start_time": "2022-01-18T12:36:12.393435Z"
    }
   },
   "outputs": [
    {
     "data": {
      "text/plain": [
       "altura     0.511667\n",
       "peso       0.723901\n",
       "idade      0.651273\n",
       "largura    0.335406\n",
       "Name: 4, dtype: float64"
      ]
     },
     "execution_count": 110,
     "metadata": {},
     "output_type": "execute_result"
    }
   ],
   "source": [
    "data.iloc[-1, :]"
   ]
  },
  {
   "cell_type": "markdown",
   "metadata": {},
   "source": [
    "## Math operations"
   ]
  },
  {
   "cell_type": "code",
   "execution_count": 141,
   "metadata": {
    "ExecuteTime": {
     "end_time": "2022-01-18T17:14:20.359597Z",
     "start_time": "2022-01-18T17:14:20.354610Z"
    }
   },
   "outputs": [],
   "source": [
    "data = np.random.random(size=(8, 4))"
   ]
  },
  {
   "cell_type": "code",
   "execution_count": 142,
   "metadata": {
    "ExecuteTime": {
     "end_time": "2022-01-18T17:15:22.088398Z",
     "start_time": "2022-01-18T17:15:22.076431Z"
    }
   },
   "outputs": [],
   "source": [
    "df = pd.DataFrame(data, columns=['Andre','Maria','Joao','Vamp'])"
   ]
  },
  {
   "cell_type": "code",
   "execution_count": 237,
   "metadata": {
    "ExecuteTime": {
     "end_time": "2022-01-18T12:51:18.938437Z",
     "start_time": "2022-01-18T12:51:18.921484Z"
    }
   },
   "outputs": [],
   "source": [
    "#df['Nova'] = ['oi']*8"
   ]
  },
  {
   "cell_type": "code",
   "execution_count": 143,
   "metadata": {
    "ExecuteTime": {
     "end_time": "2022-01-18T17:15:25.253869Z",
     "start_time": "2022-01-18T17:15:25.234881Z"
    }
   },
   "outputs": [
    {
     "data": {
      "text/html": [
       "<div>\n",
       "<style scoped>\n",
       "    .dataframe tbody tr th:only-of-type {\n",
       "        vertical-align: middle;\n",
       "    }\n",
       "\n",
       "    .dataframe tbody tr th {\n",
       "        vertical-align: top;\n",
       "    }\n",
       "\n",
       "    .dataframe thead th {\n",
       "        text-align: right;\n",
       "    }\n",
       "</style>\n",
       "<table border=\"1\" class=\"dataframe\">\n",
       "  <thead>\n",
       "    <tr style=\"text-align: right;\">\n",
       "      <th></th>\n",
       "      <th>Andre</th>\n",
       "      <th>Maria</th>\n",
       "      <th>Joao</th>\n",
       "      <th>Vamp</th>\n",
       "    </tr>\n",
       "  </thead>\n",
       "  <tbody>\n",
       "    <tr>\n",
       "      <th>0</th>\n",
       "      <td>0.292172</td>\n",
       "      <td>0.552395</td>\n",
       "      <td>0.714622</td>\n",
       "      <td>0.282644</td>\n",
       "    </tr>\n",
       "    <tr>\n",
       "      <th>1</th>\n",
       "      <td>0.283373</td>\n",
       "      <td>0.569280</td>\n",
       "      <td>0.042794</td>\n",
       "      <td>0.990881</td>\n",
       "    </tr>\n",
       "    <tr>\n",
       "      <th>2</th>\n",
       "      <td>0.846541</td>\n",
       "      <td>0.389849</td>\n",
       "      <td>0.177649</td>\n",
       "      <td>0.817783</td>\n",
       "    </tr>\n",
       "    <tr>\n",
       "      <th>3</th>\n",
       "      <td>0.873443</td>\n",
       "      <td>0.311711</td>\n",
       "      <td>0.845640</td>\n",
       "      <td>0.817717</td>\n",
       "    </tr>\n",
       "    <tr>\n",
       "      <th>4</th>\n",
       "      <td>0.982753</td>\n",
       "      <td>0.236437</td>\n",
       "      <td>0.661920</td>\n",
       "      <td>0.739851</td>\n",
       "    </tr>\n",
       "    <tr>\n",
       "      <th>5</th>\n",
       "      <td>0.537415</td>\n",
       "      <td>0.170579</td>\n",
       "      <td>0.381069</td>\n",
       "      <td>0.796863</td>\n",
       "    </tr>\n",
       "    <tr>\n",
       "      <th>6</th>\n",
       "      <td>0.971670</td>\n",
       "      <td>0.844352</td>\n",
       "      <td>0.035876</td>\n",
       "      <td>0.206618</td>\n",
       "    </tr>\n",
       "    <tr>\n",
       "      <th>7</th>\n",
       "      <td>0.297253</td>\n",
       "      <td>0.101070</td>\n",
       "      <td>0.172202</td>\n",
       "      <td>0.852029</td>\n",
       "    </tr>\n",
       "  </tbody>\n",
       "</table>\n",
       "</div>"
      ],
      "text/plain": [
       "      Andre     Maria      Joao      Vamp\n",
       "0  0.292172  0.552395  0.714622  0.282644\n",
       "1  0.283373  0.569280  0.042794  0.990881\n",
       "2  0.846541  0.389849  0.177649  0.817783\n",
       "3  0.873443  0.311711  0.845640  0.817717\n",
       "4  0.982753  0.236437  0.661920  0.739851\n",
       "5  0.537415  0.170579  0.381069  0.796863\n",
       "6  0.971670  0.844352  0.035876  0.206618\n",
       "7  0.297253  0.101070  0.172202  0.852029"
      ]
     },
     "execution_count": 143,
     "metadata": {},
     "output_type": "execute_result"
    }
   ],
   "source": [
    "df"
   ]
  },
  {
   "cell_type": "code",
   "execution_count": 144,
   "metadata": {
    "ExecuteTime": {
     "end_time": "2022-01-18T17:15:35.210831Z",
     "start_time": "2022-01-18T17:15:35.193876Z"
    }
   },
   "outputs": [
    {
     "data": {
      "text/plain": [
       "array([[0.29217199, 0.55239546, 0.71462167, 0.28264447],\n",
       "       [0.28337271, 0.56928015, 0.04279394, 0.99088118],\n",
       "       [0.84654087, 0.38984875, 0.177649  , 0.81778316],\n",
       "       [0.87344349, 0.31171149, 0.84564011, 0.81771652],\n",
       "       [0.98275342, 0.23643716, 0.66192   , 0.73985064],\n",
       "       [0.53741506, 0.17057919, 0.38106875, 0.79686316],\n",
       "       [0.97166951, 0.84435176, 0.03587626, 0.2066184 ],\n",
       "       [0.29725277, 0.10107015, 0.17220193, 0.85202894]])"
      ]
     },
     "execution_count": 144,
     "metadata": {},
     "output_type": "execute_result"
    }
   ],
   "source": [
    "data"
   ]
  },
  {
   "cell_type": "code",
   "execution_count": 148,
   "metadata": {
    "ExecuteTime": {
     "end_time": "2022-01-18T17:16:15.010929Z",
     "start_time": "2022-01-18T17:16:15.001953Z"
    }
   },
   "outputs": [
    {
     "data": {
      "text/plain": [
       "array([0.63557748, 0.39695926, 0.37897146, 0.68804831])"
      ]
     },
     "execution_count": 148,
     "metadata": {},
     "output_type": "execute_result"
    }
   ],
   "source": [
    "data.mean(axis=0)"
   ]
  },
  {
   "cell_type": "code",
   "execution_count": 149,
   "metadata": {
    "ExecuteTime": {
     "end_time": "2022-01-18T17:16:16.857785Z",
     "start_time": "2022-01-18T17:16:16.849804Z"
    }
   },
   "outputs": [
    {
     "data": {
      "text/plain": [
       "Andre    0.635577\n",
       "Maria    0.396959\n",
       "Joao     0.378971\n",
       "Vamp     0.688048\n",
       "dtype: float64"
      ]
     },
     "execution_count": 149,
     "metadata": {},
     "output_type": "execute_result"
    }
   ],
   "source": [
    "df.mean()"
   ]
  },
  {
   "cell_type": "code",
   "execution_count": 245,
   "metadata": {
    "ExecuteTime": {
     "end_time": "2022-01-18T12:53:19.572786Z",
     "start_time": "2022-01-18T12:53:19.553838Z"
    }
   },
   "outputs": [
    {
     "data": {
      "text/plain": [
       "0    0.609521\n",
       "1    0.599466\n",
       "2    0.411960\n",
       "3    0.213729\n",
       "4    0.549319\n",
       "5    0.702126\n",
       "6    0.464654\n",
       "7    0.636557\n",
       "dtype: float64"
      ]
     },
     "execution_count": 245,
     "metadata": {},
     "output_type": "execute_result"
    }
   ],
   "source": [
    "df.mean(axis=1)"
   ]
  },
  {
   "cell_type": "code",
   "execution_count": 150,
   "metadata": {
    "ExecuteTime": {
     "end_time": "2022-01-18T17:18:20.000894Z",
     "start_time": "2022-01-18T17:18:19.986950Z"
    },
    "scrolled": true
   },
   "outputs": [
    {
     "data": {
      "text/plain": [
       "0    0.210547\n",
       "1    0.407635\n",
       "2    0.328474\n",
       "3    0.267912\n",
       "4    0.310840\n",
       "5    0.263905\n",
       "6    0.462485\n",
       "7    0.340718\n",
       "dtype: float64"
      ]
     },
     "execution_count": 150,
     "metadata": {},
     "output_type": "execute_result"
    }
   ],
   "source": [
    "df.std(axis=1)"
   ]
  },
  {
   "cell_type": "code",
   "execution_count": 151,
   "metadata": {
    "ExecuteTime": {
     "end_time": "2022-01-18T17:18:29.169269Z",
     "start_time": "2022-01-18T17:18:29.152315Z"
    },
    "scrolled": false
   },
   "outputs": [
    {
     "data": {
      "text/html": [
       "<div>\n",
       "<style scoped>\n",
       "    .dataframe tbody tr th:only-of-type {\n",
       "        vertical-align: middle;\n",
       "    }\n",
       "\n",
       "    .dataframe tbody tr th {\n",
       "        vertical-align: top;\n",
       "    }\n",
       "\n",
       "    .dataframe thead th {\n",
       "        text-align: right;\n",
       "    }\n",
       "</style>\n",
       "<table border=\"1\" class=\"dataframe\">\n",
       "  <thead>\n",
       "    <tr style=\"text-align: right;\">\n",
       "      <th></th>\n",
       "      <th>Andre</th>\n",
       "      <th>Maria</th>\n",
       "      <th>Joao</th>\n",
       "      <th>Vamp</th>\n",
       "    </tr>\n",
       "  </thead>\n",
       "  <tbody>\n",
       "    <tr>\n",
       "      <th>0</th>\n",
       "      <td>0.292172</td>\n",
       "      <td>0.552395</td>\n",
       "      <td>0.714622</td>\n",
       "      <td>0.282644</td>\n",
       "    </tr>\n",
       "    <tr>\n",
       "      <th>1</th>\n",
       "      <td>0.283373</td>\n",
       "      <td>0.569280</td>\n",
       "      <td>0.042794</td>\n",
       "      <td>0.990881</td>\n",
       "    </tr>\n",
       "    <tr>\n",
       "      <th>2</th>\n",
       "      <td>0.846541</td>\n",
       "      <td>0.389849</td>\n",
       "      <td>0.177649</td>\n",
       "      <td>0.817783</td>\n",
       "    </tr>\n",
       "    <tr>\n",
       "      <th>3</th>\n",
       "      <td>0.873443</td>\n",
       "      <td>0.311711</td>\n",
       "      <td>0.845640</td>\n",
       "      <td>0.817717</td>\n",
       "    </tr>\n",
       "    <tr>\n",
       "      <th>4</th>\n",
       "      <td>0.982753</td>\n",
       "      <td>0.236437</td>\n",
       "      <td>0.661920</td>\n",
       "      <td>0.739851</td>\n",
       "    </tr>\n",
       "    <tr>\n",
       "      <th>5</th>\n",
       "      <td>0.537415</td>\n",
       "      <td>0.170579</td>\n",
       "      <td>0.381069</td>\n",
       "      <td>0.796863</td>\n",
       "    </tr>\n",
       "    <tr>\n",
       "      <th>6</th>\n",
       "      <td>0.971670</td>\n",
       "      <td>0.844352</td>\n",
       "      <td>0.035876</td>\n",
       "      <td>0.206618</td>\n",
       "    </tr>\n",
       "    <tr>\n",
       "      <th>7</th>\n",
       "      <td>0.297253</td>\n",
       "      <td>0.101070</td>\n",
       "      <td>0.172202</td>\n",
       "      <td>0.852029</td>\n",
       "    </tr>\n",
       "  </tbody>\n",
       "</table>\n",
       "</div>"
      ],
      "text/plain": [
       "      Andre     Maria      Joao      Vamp\n",
       "0  0.292172  0.552395  0.714622  0.282644\n",
       "1  0.283373  0.569280  0.042794  0.990881\n",
       "2  0.846541  0.389849  0.177649  0.817783\n",
       "3  0.873443  0.311711  0.845640  0.817717\n",
       "4  0.982753  0.236437  0.661920  0.739851\n",
       "5  0.537415  0.170579  0.381069  0.796863\n",
       "6  0.971670  0.844352  0.035876  0.206618\n",
       "7  0.297253  0.101070  0.172202  0.852029"
      ]
     },
     "execution_count": 151,
     "metadata": {},
     "output_type": "execute_result"
    }
   ],
   "source": [
    "df"
   ]
  },
  {
   "cell_type": "code",
   "execution_count": 154,
   "metadata": {
    "ExecuteTime": {
     "end_time": "2022-01-18T17:20:25.542905Z",
     "start_time": "2022-01-18T17:20:25.515978Z"
    },
    "scrolled": false
   },
   "outputs": [
    {
     "data": {
      "text/html": [
       "<div>\n",
       "<style scoped>\n",
       "    .dataframe tbody tr th:only-of-type {\n",
       "        vertical-align: middle;\n",
       "    }\n",
       "\n",
       "    .dataframe tbody tr th {\n",
       "        vertical-align: top;\n",
       "    }\n",
       "\n",
       "    .dataframe thead th {\n",
       "        text-align: right;\n",
       "    }\n",
       "</style>\n",
       "<table border=\"1\" class=\"dataframe\">\n",
       "  <thead>\n",
       "    <tr style=\"text-align: right;\">\n",
       "      <th></th>\n",
       "      <th>Andre</th>\n",
       "      <th>Maria</th>\n",
       "      <th>Joao</th>\n",
       "      <th>Vamp</th>\n",
       "    </tr>\n",
       "  </thead>\n",
       "  <tbody>\n",
       "    <tr>\n",
       "      <th>count</th>\n",
       "      <td>8.000000</td>\n",
       "      <td>8.000000</td>\n",
       "      <td>8.000000</td>\n",
       "      <td>8.000000</td>\n",
       "    </tr>\n",
       "    <tr>\n",
       "      <th>mean</th>\n",
       "      <td>0.635577</td>\n",
       "      <td>0.396959</td>\n",
       "      <td>0.378971</td>\n",
       "      <td>0.688048</td>\n",
       "    </tr>\n",
       "    <tr>\n",
       "      <th>std</th>\n",
       "      <td>0.316375</td>\n",
       "      <td>0.246663</td>\n",
       "      <td>0.321718</td>\n",
       "      <td>0.283573</td>\n",
       "    </tr>\n",
       "    <tr>\n",
       "      <th>min</th>\n",
       "      <td>0.283373</td>\n",
       "      <td>0.101070</td>\n",
       "      <td>0.035876</td>\n",
       "      <td>0.206618</td>\n",
       "    </tr>\n",
       "    <tr>\n",
       "      <th>25%</th>\n",
       "      <td>0.295983</td>\n",
       "      <td>0.219973</td>\n",
       "      <td>0.139850</td>\n",
       "      <td>0.625549</td>\n",
       "    </tr>\n",
       "    <tr>\n",
       "      <th>50%</th>\n",
       "      <td>0.691978</td>\n",
       "      <td>0.350780</td>\n",
       "      <td>0.279359</td>\n",
       "      <td>0.807290</td>\n",
       "    </tr>\n",
       "    <tr>\n",
       "      <th>75%</th>\n",
       "      <td>0.898000</td>\n",
       "      <td>0.556617</td>\n",
       "      <td>0.675095</td>\n",
       "      <td>0.826345</td>\n",
       "    </tr>\n",
       "    <tr>\n",
       "      <th>max</th>\n",
       "      <td>0.982753</td>\n",
       "      <td>0.844352</td>\n",
       "      <td>0.845640</td>\n",
       "      <td>0.990881</td>\n",
       "    </tr>\n",
       "  </tbody>\n",
       "</table>\n",
       "</div>"
      ],
      "text/plain": [
       "          Andre     Maria      Joao      Vamp\n",
       "count  8.000000  8.000000  8.000000  8.000000\n",
       "mean   0.635577  0.396959  0.378971  0.688048\n",
       "std    0.316375  0.246663  0.321718  0.283573\n",
       "min    0.283373  0.101070  0.035876  0.206618\n",
       "25%    0.295983  0.219973  0.139850  0.625549\n",
       "50%    0.691978  0.350780  0.279359  0.807290\n",
       "75%    0.898000  0.556617  0.675095  0.826345\n",
       "max    0.982753  0.844352  0.845640  0.990881"
      ]
     },
     "execution_count": 154,
     "metadata": {},
     "output_type": "execute_result"
    }
   ],
   "source": [
    "df.describe()"
   ]
  },
  {
   "cell_type": "code",
   "execution_count": 248,
   "metadata": {
    "ExecuteTime": {
     "end_time": "2022-01-18T12:58:11.569022Z",
     "start_time": "2022-01-18T12:58:11.548078Z"
    }
   },
   "outputs": [
    {
     "data": {
      "text/html": [
       "<div>\n",
       "<style scoped>\n",
       "    .dataframe tbody tr th:only-of-type {\n",
       "        vertical-align: middle;\n",
       "    }\n",
       "\n",
       "    .dataframe tbody tr th {\n",
       "        vertical-align: top;\n",
       "    }\n",
       "\n",
       "    .dataframe thead th {\n",
       "        text-align: right;\n",
       "    }\n",
       "</style>\n",
       "<table border=\"1\" class=\"dataframe\">\n",
       "  <thead>\n",
       "    <tr style=\"text-align: right;\">\n",
       "      <th></th>\n",
       "      <th>0</th>\n",
       "      <th>1</th>\n",
       "      <th>2</th>\n",
       "      <th>3</th>\n",
       "      <th>4</th>\n",
       "      <th>5</th>\n",
       "      <th>6</th>\n",
       "      <th>7</th>\n",
       "    </tr>\n",
       "  </thead>\n",
       "  <tbody>\n",
       "    <tr>\n",
       "      <th>Andre</th>\n",
       "      <td>0.614172</td>\n",
       "      <td>0.747136</td>\n",
       "      <td>0.561699</td>\n",
       "      <td>0.172714</td>\n",
       "      <td>0.347979</td>\n",
       "      <td>0.480251</td>\n",
       "      <td>0.201474</td>\n",
       "      <td>0.754445</td>\n",
       "    </tr>\n",
       "    <tr>\n",
       "      <th>Maria</th>\n",
       "      <td>0.840280</td>\n",
       "      <td>0.001302</td>\n",
       "      <td>0.910540</td>\n",
       "      <td>0.217560</td>\n",
       "      <td>0.813017</td>\n",
       "      <td>0.784102</td>\n",
       "      <td>0.693475</td>\n",
       "      <td>0.569147</td>\n",
       "    </tr>\n",
       "    <tr>\n",
       "      <th>Joao</th>\n",
       "      <td>0.249989</td>\n",
       "      <td>0.650419</td>\n",
       "      <td>0.090623</td>\n",
       "      <td>0.068880</td>\n",
       "      <td>0.316574</td>\n",
       "      <td>0.895065</td>\n",
       "      <td>0.143490</td>\n",
       "      <td>0.989829</td>\n",
       "    </tr>\n",
       "    <tr>\n",
       "      <th>Vamp</th>\n",
       "      <td>0.733642</td>\n",
       "      <td>0.999007</td>\n",
       "      <td>0.084976</td>\n",
       "      <td>0.395762</td>\n",
       "      <td>0.719704</td>\n",
       "      <td>0.649087</td>\n",
       "      <td>0.820180</td>\n",
       "      <td>0.232808</td>\n",
       "    </tr>\n",
       "  </tbody>\n",
       "</table>\n",
       "</div>"
      ],
      "text/plain": [
       "              0         1         2         3         4         5         6  \\\n",
       "Andre  0.614172  0.747136  0.561699  0.172714  0.347979  0.480251  0.201474   \n",
       "Maria  0.840280  0.001302  0.910540  0.217560  0.813017  0.784102  0.693475   \n",
       "Joao   0.249989  0.650419  0.090623  0.068880  0.316574  0.895065  0.143490   \n",
       "Vamp   0.733642  0.999007  0.084976  0.395762  0.719704  0.649087  0.820180   \n",
       "\n",
       "              7  \n",
       "Andre  0.754445  \n",
       "Maria  0.569147  \n",
       "Joao   0.989829  \n",
       "Vamp   0.232808  "
      ]
     },
     "execution_count": 248,
     "metadata": {},
     "output_type": "execute_result"
    }
   ],
   "source": [
    "df.T"
   ]
  },
  {
   "cell_type": "code",
   "execution_count": 155,
   "metadata": {
    "ExecuteTime": {
     "end_time": "2022-01-18T17:21:08.761541Z",
     "start_time": "2022-01-18T17:21:08.754560Z"
    }
   },
   "outputs": [],
   "source": [
    "df['Valido'] = np.random.choice(['Não Valido','Valido'],size=8)"
   ]
  },
  {
   "cell_type": "code",
   "execution_count": 161,
   "metadata": {
    "ExecuteTime": {
     "end_time": "2022-01-18T17:23:38.147333Z",
     "start_time": "2022-01-18T17:23:38.138357Z"
    }
   },
   "outputs": [
    {
     "data": {
      "text/html": [
       "<div>\n",
       "<style scoped>\n",
       "    .dataframe tbody tr th:only-of-type {\n",
       "        vertical-align: middle;\n",
       "    }\n",
       "\n",
       "    .dataframe tbody tr th {\n",
       "        vertical-align: top;\n",
       "    }\n",
       "\n",
       "    .dataframe thead th {\n",
       "        text-align: right;\n",
       "    }\n",
       "</style>\n",
       "<table border=\"1\" class=\"dataframe\">\n",
       "  <thead>\n",
       "    <tr style=\"text-align: right;\">\n",
       "      <th></th>\n",
       "      <th>Andre</th>\n",
       "      <th>Maria</th>\n",
       "      <th>Joao</th>\n",
       "      <th>Vamp</th>\n",
       "      <th>Valido</th>\n",
       "    </tr>\n",
       "  </thead>\n",
       "  <tbody>\n",
       "    <tr>\n",
       "      <th>0</th>\n",
       "      <td>0.292172</td>\n",
       "      <td>0.552395</td>\n",
       "      <td>0.714622</td>\n",
       "      <td>0.282644</td>\n",
       "      <td>Valido</td>\n",
       "    </tr>\n",
       "    <tr>\n",
       "      <th>1</th>\n",
       "      <td>0.283373</td>\n",
       "      <td>0.569280</td>\n",
       "      <td>0.042794</td>\n",
       "      <td>0.990881</td>\n",
       "      <td>Valido</td>\n",
       "    </tr>\n",
       "    <tr>\n",
       "      <th>2</th>\n",
       "      <td>0.846541</td>\n",
       "      <td>0.389849</td>\n",
       "      <td>0.177649</td>\n",
       "      <td>0.817783</td>\n",
       "      <td>Valido</td>\n",
       "    </tr>\n",
       "    <tr>\n",
       "      <th>3</th>\n",
       "      <td>0.873443</td>\n",
       "      <td>0.311711</td>\n",
       "      <td>0.845640</td>\n",
       "      <td>0.817717</td>\n",
       "      <td>Valido</td>\n",
       "    </tr>\n",
       "    <tr>\n",
       "      <th>4</th>\n",
       "      <td>0.982753</td>\n",
       "      <td>0.236437</td>\n",
       "      <td>0.661920</td>\n",
       "      <td>0.739851</td>\n",
       "      <td>Não Valido</td>\n",
       "    </tr>\n",
       "    <tr>\n",
       "      <th>5</th>\n",
       "      <td>0.537415</td>\n",
       "      <td>0.170579</td>\n",
       "      <td>0.381069</td>\n",
       "      <td>0.796863</td>\n",
       "      <td>Valido</td>\n",
       "    </tr>\n",
       "    <tr>\n",
       "      <th>6</th>\n",
       "      <td>0.971670</td>\n",
       "      <td>0.844352</td>\n",
       "      <td>0.035876</td>\n",
       "      <td>0.206618</td>\n",
       "      <td>Não Valido</td>\n",
       "    </tr>\n",
       "    <tr>\n",
       "      <th>7</th>\n",
       "      <td>0.297253</td>\n",
       "      <td>0.101070</td>\n",
       "      <td>0.172202</td>\n",
       "      <td>0.852029</td>\n",
       "      <td>Valido</td>\n",
       "    </tr>\n",
       "  </tbody>\n",
       "</table>\n",
       "</div>"
      ],
      "text/plain": [
       "      Andre     Maria      Joao      Vamp      Valido\n",
       "0  0.292172  0.552395  0.714622  0.282644      Valido\n",
       "1  0.283373  0.569280  0.042794  0.990881      Valido\n",
       "2  0.846541  0.389849  0.177649  0.817783      Valido\n",
       "3  0.873443  0.311711  0.845640  0.817717      Valido\n",
       "4  0.982753  0.236437  0.661920  0.739851  Não Valido\n",
       "5  0.537415  0.170579  0.381069  0.796863      Valido\n",
       "6  0.971670  0.844352  0.035876  0.206618  Não Valido\n",
       "7  0.297253  0.101070  0.172202  0.852029      Valido"
      ]
     },
     "execution_count": 161,
     "metadata": {},
     "output_type": "execute_result"
    }
   ],
   "source": [
    "df"
   ]
  },
  {
   "cell_type": "code",
   "execution_count": 165,
   "metadata": {
    "ExecuteTime": {
     "end_time": "2022-01-18T17:24:53.869510Z",
     "start_time": "2022-01-18T17:24:53.857511Z"
    }
   },
   "outputs": [],
   "source": [
    "df['Nulos'] = np.nan"
   ]
  },
  {
   "cell_type": "code",
   "execution_count": 166,
   "metadata": {
    "ExecuteTime": {
     "end_time": "2022-01-18T17:24:55.334753Z",
     "start_time": "2022-01-18T17:24:55.322785Z"
    }
   },
   "outputs": [
    {
     "data": {
      "text/html": [
       "<div>\n",
       "<style scoped>\n",
       "    .dataframe tbody tr th:only-of-type {\n",
       "        vertical-align: middle;\n",
       "    }\n",
       "\n",
       "    .dataframe tbody tr th {\n",
       "        vertical-align: top;\n",
       "    }\n",
       "\n",
       "    .dataframe thead th {\n",
       "        text-align: right;\n",
       "    }\n",
       "</style>\n",
       "<table border=\"1\" class=\"dataframe\">\n",
       "  <thead>\n",
       "    <tr style=\"text-align: right;\">\n",
       "      <th></th>\n",
       "      <th>Andre</th>\n",
       "      <th>Maria</th>\n",
       "      <th>Joao</th>\n",
       "      <th>Vamp</th>\n",
       "      <th>Valido</th>\n",
       "      <th>Nulos</th>\n",
       "    </tr>\n",
       "  </thead>\n",
       "  <tbody>\n",
       "    <tr>\n",
       "      <th>0</th>\n",
       "      <td>0.292172</td>\n",
       "      <td>0.552395</td>\n",
       "      <td>0.714622</td>\n",
       "      <td>0.282644</td>\n",
       "      <td>Valido</td>\n",
       "      <td>NaN</td>\n",
       "    </tr>\n",
       "    <tr>\n",
       "      <th>1</th>\n",
       "      <td>0.283373</td>\n",
       "      <td>0.569280</td>\n",
       "      <td>0.042794</td>\n",
       "      <td>0.990881</td>\n",
       "      <td>Valido</td>\n",
       "      <td>NaN</td>\n",
       "    </tr>\n",
       "    <tr>\n",
       "      <th>2</th>\n",
       "      <td>0.846541</td>\n",
       "      <td>0.389849</td>\n",
       "      <td>0.177649</td>\n",
       "      <td>0.817783</td>\n",
       "      <td>Valido</td>\n",
       "      <td>NaN</td>\n",
       "    </tr>\n",
       "    <tr>\n",
       "      <th>3</th>\n",
       "      <td>0.873443</td>\n",
       "      <td>0.311711</td>\n",
       "      <td>0.845640</td>\n",
       "      <td>0.817717</td>\n",
       "      <td>Valido</td>\n",
       "      <td>NaN</td>\n",
       "    </tr>\n",
       "    <tr>\n",
       "      <th>4</th>\n",
       "      <td>0.982753</td>\n",
       "      <td>0.236437</td>\n",
       "      <td>0.661920</td>\n",
       "      <td>0.739851</td>\n",
       "      <td>Não Valido</td>\n",
       "      <td>NaN</td>\n",
       "    </tr>\n",
       "    <tr>\n",
       "      <th>5</th>\n",
       "      <td>0.537415</td>\n",
       "      <td>0.170579</td>\n",
       "      <td>0.381069</td>\n",
       "      <td>0.796863</td>\n",
       "      <td>Valido</td>\n",
       "      <td>NaN</td>\n",
       "    </tr>\n",
       "    <tr>\n",
       "      <th>6</th>\n",
       "      <td>0.971670</td>\n",
       "      <td>0.844352</td>\n",
       "      <td>0.035876</td>\n",
       "      <td>0.206618</td>\n",
       "      <td>Não Valido</td>\n",
       "      <td>NaN</td>\n",
       "    </tr>\n",
       "    <tr>\n",
       "      <th>7</th>\n",
       "      <td>0.297253</td>\n",
       "      <td>0.101070</td>\n",
       "      <td>0.172202</td>\n",
       "      <td>0.852029</td>\n",
       "      <td>Valido</td>\n",
       "      <td>NaN</td>\n",
       "    </tr>\n",
       "  </tbody>\n",
       "</table>\n",
       "</div>"
      ],
      "text/plain": [
       "      Andre     Maria      Joao      Vamp      Valido  Nulos\n",
       "0  0.292172  0.552395  0.714622  0.282644      Valido    NaN\n",
       "1  0.283373  0.569280  0.042794  0.990881      Valido    NaN\n",
       "2  0.846541  0.389849  0.177649  0.817783      Valido    NaN\n",
       "3  0.873443  0.311711  0.845640  0.817717      Valido    NaN\n",
       "4  0.982753  0.236437  0.661920  0.739851  Não Valido    NaN\n",
       "5  0.537415  0.170579  0.381069  0.796863      Valido    NaN\n",
       "6  0.971670  0.844352  0.035876  0.206618  Não Valido    NaN\n",
       "7  0.297253  0.101070  0.172202  0.852029      Valido    NaN"
      ]
     },
     "execution_count": 166,
     "metadata": {},
     "output_type": "execute_result"
    }
   ],
   "source": [
    "df"
   ]
  },
  {
   "cell_type": "code",
   "execution_count": 167,
   "metadata": {
    "ExecuteTime": {
     "end_time": "2022-01-18T17:24:57.137501Z",
     "start_time": "2022-01-18T17:24:57.105829Z"
    }
   },
   "outputs": [
    {
     "data": {
      "text/html": [
       "<div>\n",
       "<style scoped>\n",
       "    .dataframe tbody tr th:only-of-type {\n",
       "        vertical-align: middle;\n",
       "    }\n",
       "\n",
       "    .dataframe tbody tr th {\n",
       "        vertical-align: top;\n",
       "    }\n",
       "\n",
       "    .dataframe thead th {\n",
       "        text-align: right;\n",
       "    }\n",
       "</style>\n",
       "<table border=\"1\" class=\"dataframe\">\n",
       "  <thead>\n",
       "    <tr style=\"text-align: right;\">\n",
       "      <th></th>\n",
       "      <th>Andre</th>\n",
       "      <th>Maria</th>\n",
       "      <th>Joao</th>\n",
       "      <th>Vamp</th>\n",
       "      <th>Nulos</th>\n",
       "    </tr>\n",
       "  </thead>\n",
       "  <tbody>\n",
       "    <tr>\n",
       "      <th>count</th>\n",
       "      <td>8.000000</td>\n",
       "      <td>8.000000</td>\n",
       "      <td>8.000000</td>\n",
       "      <td>8.000000</td>\n",
       "      <td>0.0</td>\n",
       "    </tr>\n",
       "    <tr>\n",
       "      <th>mean</th>\n",
       "      <td>0.635577</td>\n",
       "      <td>0.396959</td>\n",
       "      <td>0.378971</td>\n",
       "      <td>0.688048</td>\n",
       "      <td>NaN</td>\n",
       "    </tr>\n",
       "    <tr>\n",
       "      <th>std</th>\n",
       "      <td>0.316375</td>\n",
       "      <td>0.246663</td>\n",
       "      <td>0.321718</td>\n",
       "      <td>0.283573</td>\n",
       "      <td>NaN</td>\n",
       "    </tr>\n",
       "    <tr>\n",
       "      <th>min</th>\n",
       "      <td>0.283373</td>\n",
       "      <td>0.101070</td>\n",
       "      <td>0.035876</td>\n",
       "      <td>0.206618</td>\n",
       "      <td>NaN</td>\n",
       "    </tr>\n",
       "    <tr>\n",
       "      <th>25%</th>\n",
       "      <td>0.295983</td>\n",
       "      <td>0.219973</td>\n",
       "      <td>0.139850</td>\n",
       "      <td>0.625549</td>\n",
       "      <td>NaN</td>\n",
       "    </tr>\n",
       "    <tr>\n",
       "      <th>50%</th>\n",
       "      <td>0.691978</td>\n",
       "      <td>0.350780</td>\n",
       "      <td>0.279359</td>\n",
       "      <td>0.807290</td>\n",
       "      <td>NaN</td>\n",
       "    </tr>\n",
       "    <tr>\n",
       "      <th>75%</th>\n",
       "      <td>0.898000</td>\n",
       "      <td>0.556617</td>\n",
       "      <td>0.675095</td>\n",
       "      <td>0.826345</td>\n",
       "      <td>NaN</td>\n",
       "    </tr>\n",
       "    <tr>\n",
       "      <th>max</th>\n",
       "      <td>0.982753</td>\n",
       "      <td>0.844352</td>\n",
       "      <td>0.845640</td>\n",
       "      <td>0.990881</td>\n",
       "      <td>NaN</td>\n",
       "    </tr>\n",
       "  </tbody>\n",
       "</table>\n",
       "</div>"
      ],
      "text/plain": [
       "          Andre     Maria      Joao      Vamp  Nulos\n",
       "count  8.000000  8.000000  8.000000  8.000000    0.0\n",
       "mean   0.635577  0.396959  0.378971  0.688048    NaN\n",
       "std    0.316375  0.246663  0.321718  0.283573    NaN\n",
       "min    0.283373  0.101070  0.035876  0.206618    NaN\n",
       "25%    0.295983  0.219973  0.139850  0.625549    NaN\n",
       "50%    0.691978  0.350780  0.279359  0.807290    NaN\n",
       "75%    0.898000  0.556617  0.675095  0.826345    NaN\n",
       "max    0.982753  0.844352  0.845640  0.990881    NaN"
      ]
     },
     "execution_count": 167,
     "metadata": {},
     "output_type": "execute_result"
    }
   ],
   "source": [
    "df.describe()"
   ]
  },
  {
   "cell_type": "code",
   "execution_count": 168,
   "metadata": {
    "ExecuteTime": {
     "end_time": "2022-01-18T17:26:50.660122Z",
     "start_time": "2022-01-18T17:26:50.645163Z"
    },
    "cell_style": "split"
   },
   "outputs": [
    {
     "name": "stderr",
     "output_type": "stream",
     "text": [
      "<ipython-input-168-8be9c0a46bbe>:1: FutureWarning: Dropping of nuisance columns in DataFrame reductions (with 'numeric_only=None') is deprecated; in a future version this will raise TypeError.  Select only valid columns before calling the reduction.\n",
      "  df['Total'] = df.sum(axis=1)\n"
     ]
    },
    {
     "data": {
      "text/html": [
       "<div>\n",
       "<style scoped>\n",
       "    .dataframe tbody tr th:only-of-type {\n",
       "        vertical-align: middle;\n",
       "    }\n",
       "\n",
       "    .dataframe tbody tr th {\n",
       "        vertical-align: top;\n",
       "    }\n",
       "\n",
       "    .dataframe thead th {\n",
       "        text-align: right;\n",
       "    }\n",
       "</style>\n",
       "<table border=\"1\" class=\"dataframe\">\n",
       "  <thead>\n",
       "    <tr style=\"text-align: right;\">\n",
       "      <th></th>\n",
       "      <th>Andre</th>\n",
       "      <th>Maria</th>\n",
       "      <th>Joao</th>\n",
       "      <th>Vamp</th>\n",
       "      <th>Valido</th>\n",
       "      <th>Nulos</th>\n",
       "      <th>Total</th>\n",
       "    </tr>\n",
       "  </thead>\n",
       "  <tbody>\n",
       "    <tr>\n",
       "      <th>0</th>\n",
       "      <td>0.292172</td>\n",
       "      <td>0.552395</td>\n",
       "      <td>0.714622</td>\n",
       "      <td>0.282644</td>\n",
       "      <td>Valido</td>\n",
       "      <td>NaN</td>\n",
       "      <td>1.841834</td>\n",
       "    </tr>\n",
       "    <tr>\n",
       "      <th>1</th>\n",
       "      <td>0.283373</td>\n",
       "      <td>0.569280</td>\n",
       "      <td>0.042794</td>\n",
       "      <td>0.990881</td>\n",
       "      <td>Valido</td>\n",
       "      <td>NaN</td>\n",
       "      <td>1.886328</td>\n",
       "    </tr>\n",
       "    <tr>\n",
       "      <th>2</th>\n",
       "      <td>0.846541</td>\n",
       "      <td>0.389849</td>\n",
       "      <td>0.177649</td>\n",
       "      <td>0.817783</td>\n",
       "      <td>Valido</td>\n",
       "      <td>NaN</td>\n",
       "      <td>2.231822</td>\n",
       "    </tr>\n",
       "    <tr>\n",
       "      <th>3</th>\n",
       "      <td>0.873443</td>\n",
       "      <td>0.311711</td>\n",
       "      <td>0.845640</td>\n",
       "      <td>0.817717</td>\n",
       "      <td>Valido</td>\n",
       "      <td>NaN</td>\n",
       "      <td>2.848512</td>\n",
       "    </tr>\n",
       "    <tr>\n",
       "      <th>4</th>\n",
       "      <td>0.982753</td>\n",
       "      <td>0.236437</td>\n",
       "      <td>0.661920</td>\n",
       "      <td>0.739851</td>\n",
       "      <td>Não Valido</td>\n",
       "      <td>NaN</td>\n",
       "      <td>2.620961</td>\n",
       "    </tr>\n",
       "    <tr>\n",
       "      <th>5</th>\n",
       "      <td>0.537415</td>\n",
       "      <td>0.170579</td>\n",
       "      <td>0.381069</td>\n",
       "      <td>0.796863</td>\n",
       "      <td>Valido</td>\n",
       "      <td>NaN</td>\n",
       "      <td>1.885926</td>\n",
       "    </tr>\n",
       "    <tr>\n",
       "      <th>6</th>\n",
       "      <td>0.971670</td>\n",
       "      <td>0.844352</td>\n",
       "      <td>0.035876</td>\n",
       "      <td>0.206618</td>\n",
       "      <td>Não Valido</td>\n",
       "      <td>NaN</td>\n",
       "      <td>2.058516</td>\n",
       "    </tr>\n",
       "    <tr>\n",
       "      <th>7</th>\n",
       "      <td>0.297253</td>\n",
       "      <td>0.101070</td>\n",
       "      <td>0.172202</td>\n",
       "      <td>0.852029</td>\n",
       "      <td>Valido</td>\n",
       "      <td>NaN</td>\n",
       "      <td>1.422554</td>\n",
       "    </tr>\n",
       "  </tbody>\n",
       "</table>\n",
       "</div>"
      ],
      "text/plain": [
       "      Andre     Maria      Joao      Vamp      Valido  Nulos     Total\n",
       "0  0.292172  0.552395  0.714622  0.282644      Valido    NaN  1.841834\n",
       "1  0.283373  0.569280  0.042794  0.990881      Valido    NaN  1.886328\n",
       "2  0.846541  0.389849  0.177649  0.817783      Valido    NaN  2.231822\n",
       "3  0.873443  0.311711  0.845640  0.817717      Valido    NaN  2.848512\n",
       "4  0.982753  0.236437  0.661920  0.739851  Não Valido    NaN  2.620961\n",
       "5  0.537415  0.170579  0.381069  0.796863      Valido    NaN  1.885926\n",
       "6  0.971670  0.844352  0.035876  0.206618  Não Valido    NaN  2.058516\n",
       "7  0.297253  0.101070  0.172202  0.852029      Valido    NaN  1.422554"
      ]
     },
     "execution_count": 168,
     "metadata": {},
     "output_type": "execute_result"
    }
   ],
   "source": [
    "df['Total'] = df.sum(axis=1)\n",
    "df"
   ]
  },
  {
   "cell_type": "code",
   "execution_count": 128,
   "metadata": {
    "ExecuteTime": {
     "end_time": "2022-01-18T12:36:16.809111Z",
     "start_time": "2022-01-18T12:36:16.786171Z"
    },
    "cell_style": "split",
    "scrolled": true
   },
   "outputs": [
    {
     "data": {
      "text/html": [
       "<div>\n",
       "<style scoped>\n",
       "    .dataframe tbody tr th:only-of-type {\n",
       "        vertical-align: middle;\n",
       "    }\n",
       "\n",
       "    .dataframe tbody tr th {\n",
       "        vertical-align: top;\n",
       "    }\n",
       "\n",
       "    .dataframe thead th {\n",
       "        text-align: right;\n",
       "    }\n",
       "</style>\n",
       "<table border=\"1\" class=\"dataframe\">\n",
       "  <thead>\n",
       "    <tr style=\"text-align: right;\">\n",
       "      <th></th>\n",
       "      <th>Andre</th>\n",
       "      <th>Maria</th>\n",
       "      <th>Joao</th>\n",
       "      <th>Vamp</th>\n",
       "      <th>Valido</th>\n",
       "      <th>Total</th>\n",
       "    </tr>\n",
       "  </thead>\n",
       "  <tbody>\n",
       "    <tr>\n",
       "      <th>0</th>\n",
       "      <td>0.665483</td>\n",
       "      <td>0.293242</td>\n",
       "      <td>0.284131</td>\n",
       "      <td>0.383812</td>\n",
       "      <td>Valido</td>\n",
       "      <td>1.626668</td>\n",
       "    </tr>\n",
       "    <tr>\n",
       "      <th>1</th>\n",
       "      <td>0.625281</td>\n",
       "      <td>0.686599</td>\n",
       "      <td>0.251624</td>\n",
       "      <td>0.663646</td>\n",
       "      <td>Não Valido</td>\n",
       "      <td>2.227149</td>\n",
       "    </tr>\n",
       "    <tr>\n",
       "      <th>2</th>\n",
       "      <td>0.252446</td>\n",
       "      <td>0.157559</td>\n",
       "      <td>0.644287</td>\n",
       "      <td>0.801472</td>\n",
       "      <td>Não Valido</td>\n",
       "      <td>1.855765</td>\n",
       "    </tr>\n",
       "    <tr>\n",
       "      <th>3</th>\n",
       "      <td>0.655291</td>\n",
       "      <td>0.316513</td>\n",
       "      <td>0.253294</td>\n",
       "      <td>0.660937</td>\n",
       "      <td>Valido</td>\n",
       "      <td>1.886035</td>\n",
       "    </tr>\n",
       "    <tr>\n",
       "      <th>4</th>\n",
       "      <td>0.751603</td>\n",
       "      <td>0.019130</td>\n",
       "      <td>0.102802</td>\n",
       "      <td>0.792507</td>\n",
       "      <td>Valido</td>\n",
       "      <td>1.666042</td>\n",
       "    </tr>\n",
       "    <tr>\n",
       "      <th>5</th>\n",
       "      <td>0.513695</td>\n",
       "      <td>0.681081</td>\n",
       "      <td>0.582158</td>\n",
       "      <td>0.708621</td>\n",
       "      <td>Valido</td>\n",
       "      <td>2.485555</td>\n",
       "    </tr>\n",
       "    <tr>\n",
       "      <th>6</th>\n",
       "      <td>0.279895</td>\n",
       "      <td>0.519153</td>\n",
       "      <td>0.802368</td>\n",
       "      <td>0.843675</td>\n",
       "      <td>Valido</td>\n",
       "      <td>2.445091</td>\n",
       "    </tr>\n",
       "    <tr>\n",
       "      <th>7</th>\n",
       "      <td>0.182951</td>\n",
       "      <td>0.867378</td>\n",
       "      <td>0.134075</td>\n",
       "      <td>0.520207</td>\n",
       "      <td>Não Valido</td>\n",
       "      <td>1.704611</td>\n",
       "    </tr>\n",
       "  </tbody>\n",
       "</table>\n",
       "</div>"
      ],
      "text/plain": [
       "      Andre     Maria      Joao      Vamp      Valido     Total\n",
       "0  0.665483  0.293242  0.284131  0.383812      Valido  1.626668\n",
       "1  0.625281  0.686599  0.251624  0.663646  Não Valido  2.227149\n",
       "2  0.252446  0.157559  0.644287  0.801472  Não Valido  1.855765\n",
       "3  0.655291  0.316513  0.253294  0.660937      Valido  1.886035\n",
       "4  0.751603  0.019130  0.102802  0.792507      Valido  1.666042\n",
       "5  0.513695  0.681081  0.582158  0.708621      Valido  2.485555\n",
       "6  0.279895  0.519153  0.802368  0.843675      Valido  2.445091\n",
       "7  0.182951  0.867378  0.134075  0.520207  Não Valido  1.704611"
      ]
     },
     "execution_count": 128,
     "metadata": {},
     "output_type": "execute_result"
    }
   ],
   "source": [
    "df['Total'] = df['Andre'] +df['Maria']+df['Joao']+ df['Vamp']\n",
    "df"
   ]
  },
  {
   "cell_type": "code",
   "execution_count": 169,
   "metadata": {
    "ExecuteTime": {
     "end_time": "2022-01-18T17:27:26.210935Z",
     "start_time": "2022-01-18T17:27:26.200962Z"
    }
   },
   "outputs": [
    {
     "data": {
      "text/plain": [
       "Andre                                               5.08462\n",
       "Maria                                              3.175674\n",
       "Joao                                               3.031772\n",
       "Vamp                                               5.504386\n",
       "Valido    ValidoValidoValidoValidoNão ValidoValidoNão Va...\n",
       "Nulos                                                   0.0\n",
       "Total                                             16.796452\n",
       "dtype: object"
      ]
     },
     "execution_count": 169,
     "metadata": {},
     "output_type": "execute_result"
    }
   ],
   "source": [
    "df.sum(axis=0)"
   ]
  },
  {
   "cell_type": "code",
   "execution_count": 170,
   "metadata": {
    "ExecuteTime": {
     "end_time": "2022-01-18T17:27:54.038931Z",
     "start_time": "2022-01-18T17:27:54.024969Z"
    }
   },
   "outputs": [
    {
     "data": {
      "text/html": [
       "<div>\n",
       "<style scoped>\n",
       "    .dataframe tbody tr th:only-of-type {\n",
       "        vertical-align: middle;\n",
       "    }\n",
       "\n",
       "    .dataframe tbody tr th {\n",
       "        vertical-align: top;\n",
       "    }\n",
       "\n",
       "    .dataframe thead th {\n",
       "        text-align: right;\n",
       "    }\n",
       "</style>\n",
       "<table border=\"1\" class=\"dataframe\">\n",
       "  <thead>\n",
       "    <tr style=\"text-align: right;\">\n",
       "      <th></th>\n",
       "      <th>Andre</th>\n",
       "      <th>Maria</th>\n",
       "      <th>Joao</th>\n",
       "      <th>Vamp</th>\n",
       "      <th>Valido</th>\n",
       "      <th>Nulos</th>\n",
       "      <th>Total</th>\n",
       "    </tr>\n",
       "  </thead>\n",
       "  <tbody>\n",
       "    <tr>\n",
       "      <th>0</th>\n",
       "      <td>0.292172</td>\n",
       "      <td>0.552395</td>\n",
       "      <td>0.714622</td>\n",
       "      <td>0.282644</td>\n",
       "      <td>Valido</td>\n",
       "      <td>NaN</td>\n",
       "      <td>1.841834</td>\n",
       "    </tr>\n",
       "    <tr>\n",
       "      <th>1</th>\n",
       "      <td>0.283373</td>\n",
       "      <td>0.569280</td>\n",
       "      <td>0.042794</td>\n",
       "      <td>0.990881</td>\n",
       "      <td>Valido</td>\n",
       "      <td>NaN</td>\n",
       "      <td>1.886328</td>\n",
       "    </tr>\n",
       "    <tr>\n",
       "      <th>2</th>\n",
       "      <td>0.846541</td>\n",
       "      <td>0.389849</td>\n",
       "      <td>0.177649</td>\n",
       "      <td>0.817783</td>\n",
       "      <td>Valido</td>\n",
       "      <td>NaN</td>\n",
       "      <td>2.231822</td>\n",
       "    </tr>\n",
       "    <tr>\n",
       "      <th>3</th>\n",
       "      <td>0.873443</td>\n",
       "      <td>0.311711</td>\n",
       "      <td>0.845640</td>\n",
       "      <td>0.817717</td>\n",
       "      <td>Valido</td>\n",
       "      <td>NaN</td>\n",
       "      <td>2.848512</td>\n",
       "    </tr>\n",
       "    <tr>\n",
       "      <th>4</th>\n",
       "      <td>0.982753</td>\n",
       "      <td>0.236437</td>\n",
       "      <td>0.661920</td>\n",
       "      <td>0.739851</td>\n",
       "      <td>Não Valido</td>\n",
       "      <td>NaN</td>\n",
       "      <td>2.620961</td>\n",
       "    </tr>\n",
       "    <tr>\n",
       "      <th>5</th>\n",
       "      <td>0.537415</td>\n",
       "      <td>0.170579</td>\n",
       "      <td>0.381069</td>\n",
       "      <td>0.796863</td>\n",
       "      <td>Valido</td>\n",
       "      <td>NaN</td>\n",
       "      <td>1.885926</td>\n",
       "    </tr>\n",
       "    <tr>\n",
       "      <th>6</th>\n",
       "      <td>0.971670</td>\n",
       "      <td>0.844352</td>\n",
       "      <td>0.035876</td>\n",
       "      <td>0.206618</td>\n",
       "      <td>Não Valido</td>\n",
       "      <td>NaN</td>\n",
       "      <td>2.058516</td>\n",
       "    </tr>\n",
       "    <tr>\n",
       "      <th>7</th>\n",
       "      <td>0.297253</td>\n",
       "      <td>0.101070</td>\n",
       "      <td>0.172202</td>\n",
       "      <td>0.852029</td>\n",
       "      <td>Valido</td>\n",
       "      <td>NaN</td>\n",
       "      <td>1.422554</td>\n",
       "    </tr>\n",
       "    <tr>\n",
       "      <th>8</th>\n",
       "      <td>5.084620</td>\n",
       "      <td>3.175674</td>\n",
       "      <td>3.031772</td>\n",
       "      <td>5.504386</td>\n",
       "      <td>ValidoValidoValidoValidoNão ValidoValidoNão Va...</td>\n",
       "      <td>0.0</td>\n",
       "      <td>16.796452</td>\n",
       "    </tr>\n",
       "  </tbody>\n",
       "</table>\n",
       "</div>"
      ],
      "text/plain": [
       "      Andre     Maria      Joao      Vamp  \\\n",
       "0  0.292172  0.552395  0.714622  0.282644   \n",
       "1  0.283373  0.569280  0.042794  0.990881   \n",
       "2  0.846541  0.389849  0.177649  0.817783   \n",
       "3  0.873443  0.311711  0.845640  0.817717   \n",
       "4  0.982753  0.236437  0.661920  0.739851   \n",
       "5  0.537415  0.170579  0.381069  0.796863   \n",
       "6  0.971670  0.844352  0.035876  0.206618   \n",
       "7  0.297253  0.101070  0.172202  0.852029   \n",
       "8  5.084620  3.175674  3.031772  5.504386   \n",
       "\n",
       "                                              Valido  Nulos      Total  \n",
       "0                                             Valido    NaN   1.841834  \n",
       "1                                             Valido    NaN   1.886328  \n",
       "2                                             Valido    NaN   2.231822  \n",
       "3                                             Valido    NaN   2.848512  \n",
       "4                                         Não Valido    NaN   2.620961  \n",
       "5                                             Valido    NaN   1.885926  \n",
       "6                                         Não Valido    NaN   2.058516  \n",
       "7                                             Valido    NaN   1.422554  \n",
       "8  ValidoValidoValidoValidoNão ValidoValidoNão Va...    0.0  16.796452  "
      ]
     },
     "execution_count": 170,
     "metadata": {},
     "output_type": "execute_result"
    }
   ],
   "source": [
    "df.append(df.sum(axis=0),ignore_index=True)"
   ]
  },
  {
   "cell_type": "code",
   "execution_count": 171,
   "metadata": {
    "ExecuteTime": {
     "end_time": "2022-01-18T17:28:34.919710Z",
     "start_time": "2022-01-18T17:28:34.899767Z"
    },
    "scrolled": true
   },
   "outputs": [],
   "source": [
    "df = df.append(df.sum(axis=0),ignore_index=True)"
   ]
  },
  {
   "cell_type": "code",
   "execution_count": 172,
   "metadata": {
    "ExecuteTime": {
     "end_time": "2022-01-18T17:28:37.544800Z",
     "start_time": "2022-01-18T17:28:37.530843Z"
    }
   },
   "outputs": [
    {
     "data": {
      "text/html": [
       "<div>\n",
       "<style scoped>\n",
       "    .dataframe tbody tr th:only-of-type {\n",
       "        vertical-align: middle;\n",
       "    }\n",
       "\n",
       "    .dataframe tbody tr th {\n",
       "        vertical-align: top;\n",
       "    }\n",
       "\n",
       "    .dataframe thead th {\n",
       "        text-align: right;\n",
       "    }\n",
       "</style>\n",
       "<table border=\"1\" class=\"dataframe\">\n",
       "  <thead>\n",
       "    <tr style=\"text-align: right;\">\n",
       "      <th></th>\n",
       "      <th>Andre</th>\n",
       "      <th>Maria</th>\n",
       "      <th>Joao</th>\n",
       "      <th>Vamp</th>\n",
       "      <th>Valido</th>\n",
       "      <th>Nulos</th>\n",
       "      <th>Total</th>\n",
       "    </tr>\n",
       "  </thead>\n",
       "  <tbody>\n",
       "    <tr>\n",
       "      <th>0</th>\n",
       "      <td>0.292172</td>\n",
       "      <td>0.552395</td>\n",
       "      <td>0.714622</td>\n",
       "      <td>0.282644</td>\n",
       "      <td>Valido</td>\n",
       "      <td>NaN</td>\n",
       "      <td>1.841834</td>\n",
       "    </tr>\n",
       "    <tr>\n",
       "      <th>1</th>\n",
       "      <td>0.283373</td>\n",
       "      <td>0.569280</td>\n",
       "      <td>0.042794</td>\n",
       "      <td>0.990881</td>\n",
       "      <td>Valido</td>\n",
       "      <td>NaN</td>\n",
       "      <td>1.886328</td>\n",
       "    </tr>\n",
       "    <tr>\n",
       "      <th>2</th>\n",
       "      <td>0.846541</td>\n",
       "      <td>0.389849</td>\n",
       "      <td>0.177649</td>\n",
       "      <td>0.817783</td>\n",
       "      <td>Valido</td>\n",
       "      <td>NaN</td>\n",
       "      <td>2.231822</td>\n",
       "    </tr>\n",
       "    <tr>\n",
       "      <th>3</th>\n",
       "      <td>0.873443</td>\n",
       "      <td>0.311711</td>\n",
       "      <td>0.845640</td>\n",
       "      <td>0.817717</td>\n",
       "      <td>Valido</td>\n",
       "      <td>NaN</td>\n",
       "      <td>2.848512</td>\n",
       "    </tr>\n",
       "    <tr>\n",
       "      <th>4</th>\n",
       "      <td>0.982753</td>\n",
       "      <td>0.236437</td>\n",
       "      <td>0.661920</td>\n",
       "      <td>0.739851</td>\n",
       "      <td>Não Valido</td>\n",
       "      <td>NaN</td>\n",
       "      <td>2.620961</td>\n",
       "    </tr>\n",
       "    <tr>\n",
       "      <th>5</th>\n",
       "      <td>0.537415</td>\n",
       "      <td>0.170579</td>\n",
       "      <td>0.381069</td>\n",
       "      <td>0.796863</td>\n",
       "      <td>Valido</td>\n",
       "      <td>NaN</td>\n",
       "      <td>1.885926</td>\n",
       "    </tr>\n",
       "    <tr>\n",
       "      <th>6</th>\n",
       "      <td>0.971670</td>\n",
       "      <td>0.844352</td>\n",
       "      <td>0.035876</td>\n",
       "      <td>0.206618</td>\n",
       "      <td>Não Valido</td>\n",
       "      <td>NaN</td>\n",
       "      <td>2.058516</td>\n",
       "    </tr>\n",
       "    <tr>\n",
       "      <th>7</th>\n",
       "      <td>0.297253</td>\n",
       "      <td>0.101070</td>\n",
       "      <td>0.172202</td>\n",
       "      <td>0.852029</td>\n",
       "      <td>Valido</td>\n",
       "      <td>NaN</td>\n",
       "      <td>1.422554</td>\n",
       "    </tr>\n",
       "    <tr>\n",
       "      <th>8</th>\n",
       "      <td>5.084620</td>\n",
       "      <td>3.175674</td>\n",
       "      <td>3.031772</td>\n",
       "      <td>5.504386</td>\n",
       "      <td>ValidoValidoValidoValidoNão ValidoValidoNão Va...</td>\n",
       "      <td>0.0</td>\n",
       "      <td>16.796452</td>\n",
       "    </tr>\n",
       "  </tbody>\n",
       "</table>\n",
       "</div>"
      ],
      "text/plain": [
       "      Andre     Maria      Joao      Vamp  \\\n",
       "0  0.292172  0.552395  0.714622  0.282644   \n",
       "1  0.283373  0.569280  0.042794  0.990881   \n",
       "2  0.846541  0.389849  0.177649  0.817783   \n",
       "3  0.873443  0.311711  0.845640  0.817717   \n",
       "4  0.982753  0.236437  0.661920  0.739851   \n",
       "5  0.537415  0.170579  0.381069  0.796863   \n",
       "6  0.971670  0.844352  0.035876  0.206618   \n",
       "7  0.297253  0.101070  0.172202  0.852029   \n",
       "8  5.084620  3.175674  3.031772  5.504386   \n",
       "\n",
       "                                              Valido  Nulos      Total  \n",
       "0                                             Valido    NaN   1.841834  \n",
       "1                                             Valido    NaN   1.886328  \n",
       "2                                             Valido    NaN   2.231822  \n",
       "3                                             Valido    NaN   2.848512  \n",
       "4                                         Não Valido    NaN   2.620961  \n",
       "5                                             Valido    NaN   1.885926  \n",
       "6                                         Não Valido    NaN   2.058516  \n",
       "7                                             Valido    NaN   1.422554  \n",
       "8  ValidoValidoValidoValidoNão ValidoValidoNão Va...    0.0  16.796452  "
      ]
     },
     "execution_count": 172,
     "metadata": {},
     "output_type": "execute_result"
    }
   ],
   "source": [
    "df"
   ]
  },
  {
   "cell_type": "code",
   "execution_count": 174,
   "metadata": {
    "ExecuteTime": {
     "end_time": "2022-01-18T17:31:18.114298Z",
     "start_time": "2022-01-18T17:31:18.096345Z"
    }
   },
   "outputs": [],
   "source": [
    "df.index=[0,1,2,3,4,5,6,7,'Total']"
   ]
  },
  {
   "cell_type": "code",
   "execution_count": 173,
   "metadata": {
    "ExecuteTime": {
     "end_time": "2022-01-18T17:30:53.471828Z",
     "start_time": "2022-01-18T17:30:53.455884Z"
    }
   },
   "outputs": [
    {
     "data": {
      "text/html": [
       "<div>\n",
       "<style scoped>\n",
       "    .dataframe tbody tr th:only-of-type {\n",
       "        vertical-align: middle;\n",
       "    }\n",
       "\n",
       "    .dataframe tbody tr th {\n",
       "        vertical-align: top;\n",
       "    }\n",
       "\n",
       "    .dataframe thead th {\n",
       "        text-align: right;\n",
       "    }\n",
       "</style>\n",
       "<table border=\"1\" class=\"dataframe\">\n",
       "  <thead>\n",
       "    <tr style=\"text-align: right;\">\n",
       "      <th></th>\n",
       "      <th>Andre</th>\n",
       "      <th>Maria</th>\n",
       "      <th>Joao</th>\n",
       "      <th>Vamp</th>\n",
       "      <th>Valido</th>\n",
       "      <th>Nulos</th>\n",
       "      <th>Total</th>\n",
       "    </tr>\n",
       "  </thead>\n",
       "  <tbody>\n",
       "    <tr>\n",
       "      <th>0</th>\n",
       "      <td>0.292172</td>\n",
       "      <td>0.552395</td>\n",
       "      <td>0.714622</td>\n",
       "      <td>0.282644</td>\n",
       "      <td>Valido</td>\n",
       "      <td>NaN</td>\n",
       "      <td>1.841834</td>\n",
       "    </tr>\n",
       "    <tr>\n",
       "      <th>1</th>\n",
       "      <td>0.283373</td>\n",
       "      <td>0.569280</td>\n",
       "      <td>0.042794</td>\n",
       "      <td>0.990881</td>\n",
       "      <td>Valido</td>\n",
       "      <td>NaN</td>\n",
       "      <td>1.886328</td>\n",
       "    </tr>\n",
       "    <tr>\n",
       "      <th>2</th>\n",
       "      <td>0.846541</td>\n",
       "      <td>0.389849</td>\n",
       "      <td>0.177649</td>\n",
       "      <td>0.817783</td>\n",
       "      <td>Valido</td>\n",
       "      <td>NaN</td>\n",
       "      <td>2.231822</td>\n",
       "    </tr>\n",
       "    <tr>\n",
       "      <th>3</th>\n",
       "      <td>0.873443</td>\n",
       "      <td>0.311711</td>\n",
       "      <td>0.845640</td>\n",
       "      <td>0.817717</td>\n",
       "      <td>Valido</td>\n",
       "      <td>NaN</td>\n",
       "      <td>2.848512</td>\n",
       "    </tr>\n",
       "    <tr>\n",
       "      <th>4</th>\n",
       "      <td>0.982753</td>\n",
       "      <td>0.236437</td>\n",
       "      <td>0.661920</td>\n",
       "      <td>0.739851</td>\n",
       "      <td>Não Valido</td>\n",
       "      <td>NaN</td>\n",
       "      <td>2.620961</td>\n",
       "    </tr>\n",
       "    <tr>\n",
       "      <th>5</th>\n",
       "      <td>0.537415</td>\n",
       "      <td>0.170579</td>\n",
       "      <td>0.381069</td>\n",
       "      <td>0.796863</td>\n",
       "      <td>Valido</td>\n",
       "      <td>NaN</td>\n",
       "      <td>1.885926</td>\n",
       "    </tr>\n",
       "    <tr>\n",
       "      <th>6</th>\n",
       "      <td>0.971670</td>\n",
       "      <td>0.844352</td>\n",
       "      <td>0.035876</td>\n",
       "      <td>0.206618</td>\n",
       "      <td>Não Valido</td>\n",
       "      <td>NaN</td>\n",
       "      <td>2.058516</td>\n",
       "    </tr>\n",
       "    <tr>\n",
       "      <th>7</th>\n",
       "      <td>0.297253</td>\n",
       "      <td>0.101070</td>\n",
       "      <td>0.172202</td>\n",
       "      <td>0.852029</td>\n",
       "      <td>Valido</td>\n",
       "      <td>NaN</td>\n",
       "      <td>1.422554</td>\n",
       "    </tr>\n",
       "    <tr>\n",
       "      <th>Total</th>\n",
       "      <td>5.084620</td>\n",
       "      <td>3.175674</td>\n",
       "      <td>3.031772</td>\n",
       "      <td>5.504386</td>\n",
       "      <td>ValidoValidoValidoValidoNão ValidoValidoNão Va...</td>\n",
       "      <td>0.0</td>\n",
       "      <td>16.796452</td>\n",
       "    </tr>\n",
       "  </tbody>\n",
       "</table>\n",
       "</div>"
      ],
      "text/plain": [
       "          Andre     Maria      Joao      Vamp  \\\n",
       "0      0.292172  0.552395  0.714622  0.282644   \n",
       "1      0.283373  0.569280  0.042794  0.990881   \n",
       "2      0.846541  0.389849  0.177649  0.817783   \n",
       "3      0.873443  0.311711  0.845640  0.817717   \n",
       "4      0.982753  0.236437  0.661920  0.739851   \n",
       "5      0.537415  0.170579  0.381069  0.796863   \n",
       "6      0.971670  0.844352  0.035876  0.206618   \n",
       "7      0.297253  0.101070  0.172202  0.852029   \n",
       "Total  5.084620  3.175674  3.031772  5.504386   \n",
       "\n",
       "                                                  Valido  Nulos      Total  \n",
       "0                                                 Valido    NaN   1.841834  \n",
       "1                                                 Valido    NaN   1.886328  \n",
       "2                                                 Valido    NaN   2.231822  \n",
       "3                                                 Valido    NaN   2.848512  \n",
       "4                                             Não Valido    NaN   2.620961  \n",
       "5                                                 Valido    NaN   1.885926  \n",
       "6                                             Não Valido    NaN   2.058516  \n",
       "7                                                 Valido    NaN   1.422554  \n",
       "Total  ValidoValidoValidoValidoNão ValidoValidoNão Va...    0.0  16.796452  "
      ]
     },
     "execution_count": 173,
     "metadata": {},
     "output_type": "execute_result"
    }
   ],
   "source": [
    "df.rename({8:'Total'})"
   ]
  },
  {
   "cell_type": "code",
   "execution_count": 175,
   "metadata": {
    "ExecuteTime": {
     "end_time": "2022-01-18T17:31:19.467188Z",
     "start_time": "2022-01-18T17:31:19.449236Z"
    }
   },
   "outputs": [
    {
     "data": {
      "text/html": [
       "<div>\n",
       "<style scoped>\n",
       "    .dataframe tbody tr th:only-of-type {\n",
       "        vertical-align: middle;\n",
       "    }\n",
       "\n",
       "    .dataframe tbody tr th {\n",
       "        vertical-align: top;\n",
       "    }\n",
       "\n",
       "    .dataframe thead th {\n",
       "        text-align: right;\n",
       "    }\n",
       "</style>\n",
       "<table border=\"1\" class=\"dataframe\">\n",
       "  <thead>\n",
       "    <tr style=\"text-align: right;\">\n",
       "      <th></th>\n",
       "      <th>Andre</th>\n",
       "      <th>Maria</th>\n",
       "      <th>Joao</th>\n",
       "      <th>Vamp</th>\n",
       "      <th>Valido</th>\n",
       "      <th>Nulos</th>\n",
       "      <th>Total</th>\n",
       "    </tr>\n",
       "  </thead>\n",
       "  <tbody>\n",
       "    <tr>\n",
       "      <th>0</th>\n",
       "      <td>0.292172</td>\n",
       "      <td>0.552395</td>\n",
       "      <td>0.714622</td>\n",
       "      <td>0.282644</td>\n",
       "      <td>Valido</td>\n",
       "      <td>NaN</td>\n",
       "      <td>1.841834</td>\n",
       "    </tr>\n",
       "    <tr>\n",
       "      <th>1</th>\n",
       "      <td>0.283373</td>\n",
       "      <td>0.569280</td>\n",
       "      <td>0.042794</td>\n",
       "      <td>0.990881</td>\n",
       "      <td>Valido</td>\n",
       "      <td>NaN</td>\n",
       "      <td>1.886328</td>\n",
       "    </tr>\n",
       "    <tr>\n",
       "      <th>2</th>\n",
       "      <td>0.846541</td>\n",
       "      <td>0.389849</td>\n",
       "      <td>0.177649</td>\n",
       "      <td>0.817783</td>\n",
       "      <td>Valido</td>\n",
       "      <td>NaN</td>\n",
       "      <td>2.231822</td>\n",
       "    </tr>\n",
       "    <tr>\n",
       "      <th>3</th>\n",
       "      <td>0.873443</td>\n",
       "      <td>0.311711</td>\n",
       "      <td>0.845640</td>\n",
       "      <td>0.817717</td>\n",
       "      <td>Valido</td>\n",
       "      <td>NaN</td>\n",
       "      <td>2.848512</td>\n",
       "    </tr>\n",
       "    <tr>\n",
       "      <th>4</th>\n",
       "      <td>0.982753</td>\n",
       "      <td>0.236437</td>\n",
       "      <td>0.661920</td>\n",
       "      <td>0.739851</td>\n",
       "      <td>Não Valido</td>\n",
       "      <td>NaN</td>\n",
       "      <td>2.620961</td>\n",
       "    </tr>\n",
       "    <tr>\n",
       "      <th>5</th>\n",
       "      <td>0.537415</td>\n",
       "      <td>0.170579</td>\n",
       "      <td>0.381069</td>\n",
       "      <td>0.796863</td>\n",
       "      <td>Valido</td>\n",
       "      <td>NaN</td>\n",
       "      <td>1.885926</td>\n",
       "    </tr>\n",
       "    <tr>\n",
       "      <th>6</th>\n",
       "      <td>0.971670</td>\n",
       "      <td>0.844352</td>\n",
       "      <td>0.035876</td>\n",
       "      <td>0.206618</td>\n",
       "      <td>Não Valido</td>\n",
       "      <td>NaN</td>\n",
       "      <td>2.058516</td>\n",
       "    </tr>\n",
       "    <tr>\n",
       "      <th>7</th>\n",
       "      <td>0.297253</td>\n",
       "      <td>0.101070</td>\n",
       "      <td>0.172202</td>\n",
       "      <td>0.852029</td>\n",
       "      <td>Valido</td>\n",
       "      <td>NaN</td>\n",
       "      <td>1.422554</td>\n",
       "    </tr>\n",
       "    <tr>\n",
       "      <th>Total</th>\n",
       "      <td>5.084620</td>\n",
       "      <td>3.175674</td>\n",
       "      <td>3.031772</td>\n",
       "      <td>5.504386</td>\n",
       "      <td>ValidoValidoValidoValidoNão ValidoValidoNão Va...</td>\n",
       "      <td>0.0</td>\n",
       "      <td>16.796452</td>\n",
       "    </tr>\n",
       "  </tbody>\n",
       "</table>\n",
       "</div>"
      ],
      "text/plain": [
       "          Andre     Maria      Joao      Vamp  \\\n",
       "0      0.292172  0.552395  0.714622  0.282644   \n",
       "1      0.283373  0.569280  0.042794  0.990881   \n",
       "2      0.846541  0.389849  0.177649  0.817783   \n",
       "3      0.873443  0.311711  0.845640  0.817717   \n",
       "4      0.982753  0.236437  0.661920  0.739851   \n",
       "5      0.537415  0.170579  0.381069  0.796863   \n",
       "6      0.971670  0.844352  0.035876  0.206618   \n",
       "7      0.297253  0.101070  0.172202  0.852029   \n",
       "Total  5.084620  3.175674  3.031772  5.504386   \n",
       "\n",
       "                                                  Valido  Nulos      Total  \n",
       "0                                                 Valido    NaN   1.841834  \n",
       "1                                                 Valido    NaN   1.886328  \n",
       "2                                                 Valido    NaN   2.231822  \n",
       "3                                                 Valido    NaN   2.848512  \n",
       "4                                             Não Valido    NaN   2.620961  \n",
       "5                                                 Valido    NaN   1.885926  \n",
       "6                                             Não Valido    NaN   2.058516  \n",
       "7                                                 Valido    NaN   1.422554  \n",
       "Total  ValidoValidoValidoValidoNão ValidoValidoNão Va...    0.0  16.796452  "
      ]
     },
     "execution_count": 175,
     "metadata": {},
     "output_type": "execute_result"
    }
   ],
   "source": [
    "df"
   ]
  },
  {
   "cell_type": "markdown",
   "metadata": {},
   "source": [
    "# Pandas Index"
   ]
  },
  {
   "cell_type": "code",
   "execution_count": 176,
   "metadata": {
    "ExecuteTime": {
     "end_time": "2022-01-18T17:32:09.346578Z",
     "start_time": "2022-01-18T17:32:09.327629Z"
    }
   },
   "outputs": [
    {
     "data": {
      "text/plain": [
       "Index([0, 1, 2, 3, 4, 5, 6, 7, 'Total'], dtype='object')"
      ]
     },
     "execution_count": 176,
     "metadata": {},
     "output_type": "execute_result"
    }
   ],
   "source": [
    "df.index"
   ]
  },
  {
   "cell_type": "code",
   "execution_count": 177,
   "metadata": {
    "ExecuteTime": {
     "end_time": "2022-01-18T17:32:29.542464Z",
     "start_time": "2022-01-18T17:32:29.527509Z"
    }
   },
   "outputs": [
    {
     "data": {
      "text/plain": [
       "Int64Index([1, 2, 3], dtype='int64')"
      ]
     },
     "execution_count": 177,
     "metadata": {},
     "output_type": "execute_result"
    }
   ],
   "source": [
    "pd.Index([1,2,3])"
   ]
  },
  {
   "cell_type": "code",
   "execution_count": 178,
   "metadata": {
    "ExecuteTime": {
     "end_time": "2022-01-18T17:32:43.840308Z",
     "start_time": "2022-01-18T17:32:43.836326Z"
    }
   },
   "outputs": [],
   "source": [
    "df_2 = pd.DataFrame(data)"
   ]
  },
  {
   "cell_type": "code",
   "execution_count": 179,
   "metadata": {
    "ExecuteTime": {
     "end_time": "2022-01-18T17:32:44.630281Z",
     "start_time": "2022-01-18T17:32:44.617874Z"
    }
   },
   "outputs": [
    {
     "data": {
      "text/html": [
       "<div>\n",
       "<style scoped>\n",
       "    .dataframe tbody tr th:only-of-type {\n",
       "        vertical-align: middle;\n",
       "    }\n",
       "\n",
       "    .dataframe tbody tr th {\n",
       "        vertical-align: top;\n",
       "    }\n",
       "\n",
       "    .dataframe thead th {\n",
       "        text-align: right;\n",
       "    }\n",
       "</style>\n",
       "<table border=\"1\" class=\"dataframe\">\n",
       "  <thead>\n",
       "    <tr style=\"text-align: right;\">\n",
       "      <th></th>\n",
       "      <th>0</th>\n",
       "      <th>1</th>\n",
       "      <th>2</th>\n",
       "      <th>3</th>\n",
       "    </tr>\n",
       "  </thead>\n",
       "  <tbody>\n",
       "    <tr>\n",
       "      <th>0</th>\n",
       "      <td>0.292172</td>\n",
       "      <td>0.552395</td>\n",
       "      <td>0.714622</td>\n",
       "      <td>0.282644</td>\n",
       "    </tr>\n",
       "    <tr>\n",
       "      <th>1</th>\n",
       "      <td>0.283373</td>\n",
       "      <td>0.569280</td>\n",
       "      <td>0.042794</td>\n",
       "      <td>0.990881</td>\n",
       "    </tr>\n",
       "    <tr>\n",
       "      <th>2</th>\n",
       "      <td>0.846541</td>\n",
       "      <td>0.389849</td>\n",
       "      <td>0.177649</td>\n",
       "      <td>0.817783</td>\n",
       "    </tr>\n",
       "    <tr>\n",
       "      <th>3</th>\n",
       "      <td>0.873443</td>\n",
       "      <td>0.311711</td>\n",
       "      <td>0.845640</td>\n",
       "      <td>0.817717</td>\n",
       "    </tr>\n",
       "    <tr>\n",
       "      <th>4</th>\n",
       "      <td>0.982753</td>\n",
       "      <td>0.236437</td>\n",
       "      <td>0.661920</td>\n",
       "      <td>0.739851</td>\n",
       "    </tr>\n",
       "    <tr>\n",
       "      <th>5</th>\n",
       "      <td>0.537415</td>\n",
       "      <td>0.170579</td>\n",
       "      <td>0.381069</td>\n",
       "      <td>0.796863</td>\n",
       "    </tr>\n",
       "    <tr>\n",
       "      <th>6</th>\n",
       "      <td>0.971670</td>\n",
       "      <td>0.844352</td>\n",
       "      <td>0.035876</td>\n",
       "      <td>0.206618</td>\n",
       "    </tr>\n",
       "    <tr>\n",
       "      <th>7</th>\n",
       "      <td>0.297253</td>\n",
       "      <td>0.101070</td>\n",
       "      <td>0.172202</td>\n",
       "      <td>0.852029</td>\n",
       "    </tr>\n",
       "  </tbody>\n",
       "</table>\n",
       "</div>"
      ],
      "text/plain": [
       "          0         1         2         3\n",
       "0  0.292172  0.552395  0.714622  0.282644\n",
       "1  0.283373  0.569280  0.042794  0.990881\n",
       "2  0.846541  0.389849  0.177649  0.817783\n",
       "3  0.873443  0.311711  0.845640  0.817717\n",
       "4  0.982753  0.236437  0.661920  0.739851\n",
       "5  0.537415  0.170579  0.381069  0.796863\n",
       "6  0.971670  0.844352  0.035876  0.206618\n",
       "7  0.297253  0.101070  0.172202  0.852029"
      ]
     },
     "execution_count": 179,
     "metadata": {},
     "output_type": "execute_result"
    }
   ],
   "source": [
    "df_2"
   ]
  },
  {
   "cell_type": "code",
   "execution_count": 180,
   "metadata": {
    "ExecuteTime": {
     "end_time": "2022-01-18T17:33:20.417544Z",
     "start_time": "2022-01-18T17:33:20.400580Z"
    }
   },
   "outputs": [
    {
     "data": {
      "text/plain": [
       "RangeIndex(start=0, stop=8, step=1)"
      ]
     },
     "execution_count": 180,
     "metadata": {},
     "output_type": "execute_result"
    }
   ],
   "source": [
    "df_2.index"
   ]
  },
  {
   "cell_type": "code",
   "execution_count": 181,
   "metadata": {
    "ExecuteTime": {
     "end_time": "2022-01-18T17:33:22.492390Z",
     "start_time": "2022-01-18T17:33:22.482416Z"
    }
   },
   "outputs": [
    {
     "data": {
      "text/plain": [
       "array([0, 1, 2, 3, 4, 5, 6, 7], dtype=int64)"
      ]
     },
     "execution_count": 181,
     "metadata": {},
     "output_type": "execute_result"
    }
   ],
   "source": [
    "df_2.index.values"
   ]
  },
  {
   "cell_type": "code",
   "execution_count": 182,
   "metadata": {
    "ExecuteTime": {
     "end_time": "2022-01-18T17:33:45.080884Z",
     "start_time": "2022-01-18T17:33:45.065925Z"
    },
    "cell_style": "center"
   },
   "outputs": [
    {
     "data": {
      "text/plain": [
       "Index(['Andre', 'Maria', 'Joao', 'Vamp', 'Valido', 'Nulos', 'Total'], dtype='object')"
      ]
     },
     "execution_count": 182,
     "metadata": {},
     "output_type": "execute_result"
    }
   ],
   "source": [
    " df.columns"
   ]
  },
  {
   "cell_type": "code",
   "execution_count": 183,
   "metadata": {
    "ExecuteTime": {
     "end_time": "2022-01-18T17:34:02.424429Z",
     "start_time": "2022-01-18T17:34:02.417448Z"
    },
    "cell_style": "center"
   },
   "outputs": [
    {
     "data": {
      "text/plain": [
       "RangeIndex(start=0, stop=4, step=1)"
      ]
     },
     "execution_count": 183,
     "metadata": {},
     "output_type": "execute_result"
    }
   ],
   "source": [
    "df_2.columns"
   ]
  },
  {
   "cell_type": "markdown",
   "metadata": {},
   "source": [
    "# Rename columns"
   ]
  },
  {
   "cell_type": "code",
   "execution_count": 185,
   "metadata": {
    "ExecuteTime": {
     "end_time": "2022-01-18T17:36:39.494344Z",
     "start_time": "2022-01-18T17:36:39.480381Z"
    }
   },
   "outputs": [
    {
     "data": {
      "text/plain": [
       "RangeIndex(start=0, stop=4, step=1)"
      ]
     },
     "execution_count": 185,
     "metadata": {},
     "output_type": "execute_result"
    }
   ],
   "source": [
    "df_2.columns"
   ]
  },
  {
   "cell_type": "code",
   "execution_count": 190,
   "metadata": {
    "ExecuteTime": {
     "end_time": "2022-01-18T17:38:50.421397Z",
     "start_time": "2022-01-18T17:38:50.410426Z"
    }
   },
   "outputs": [],
   "source": [
    "df_2.columns = ['Oi','Tchau','Opa Tudo bem?','Otimo']"
   ]
  },
  {
   "cell_type": "code",
   "execution_count": 187,
   "metadata": {
    "ExecuteTime": {
     "end_time": "2022-01-18T17:37:35.991278Z",
     "start_time": "2022-01-18T17:37:35.975321Z"
    }
   },
   "outputs": [
    {
     "data": {
      "text/html": [
       "<div>\n",
       "<style scoped>\n",
       "    .dataframe tbody tr th:only-of-type {\n",
       "        vertical-align: middle;\n",
       "    }\n",
       "\n",
       "    .dataframe tbody tr th {\n",
       "        vertical-align: top;\n",
       "    }\n",
       "\n",
       "    .dataframe thead th {\n",
       "        text-align: right;\n",
       "    }\n",
       "</style>\n",
       "<table border=\"1\" class=\"dataframe\">\n",
       "  <thead>\n",
       "    <tr style=\"text-align: right;\">\n",
       "      <th></th>\n",
       "      <th>Oi</th>\n",
       "      <th>Tchau</th>\n",
       "      <th>Opa Tudo bem?</th>\n",
       "      <th>Otimo</th>\n",
       "    </tr>\n",
       "  </thead>\n",
       "  <tbody>\n",
       "    <tr>\n",
       "      <th>0</th>\n",
       "      <td>0.292172</td>\n",
       "      <td>0.552395</td>\n",
       "      <td>0.714622</td>\n",
       "      <td>0.282644</td>\n",
       "    </tr>\n",
       "    <tr>\n",
       "      <th>1</th>\n",
       "      <td>0.283373</td>\n",
       "      <td>0.569280</td>\n",
       "      <td>0.042794</td>\n",
       "      <td>0.990881</td>\n",
       "    </tr>\n",
       "    <tr>\n",
       "      <th>2</th>\n",
       "      <td>0.846541</td>\n",
       "      <td>0.389849</td>\n",
       "      <td>0.177649</td>\n",
       "      <td>0.817783</td>\n",
       "    </tr>\n",
       "    <tr>\n",
       "      <th>3</th>\n",
       "      <td>0.873443</td>\n",
       "      <td>0.311711</td>\n",
       "      <td>0.845640</td>\n",
       "      <td>0.817717</td>\n",
       "    </tr>\n",
       "    <tr>\n",
       "      <th>4</th>\n",
       "      <td>0.982753</td>\n",
       "      <td>0.236437</td>\n",
       "      <td>0.661920</td>\n",
       "      <td>0.739851</td>\n",
       "    </tr>\n",
       "    <tr>\n",
       "      <th>5</th>\n",
       "      <td>0.537415</td>\n",
       "      <td>0.170579</td>\n",
       "      <td>0.381069</td>\n",
       "      <td>0.796863</td>\n",
       "    </tr>\n",
       "    <tr>\n",
       "      <th>6</th>\n",
       "      <td>0.971670</td>\n",
       "      <td>0.844352</td>\n",
       "      <td>0.035876</td>\n",
       "      <td>0.206618</td>\n",
       "    </tr>\n",
       "    <tr>\n",
       "      <th>7</th>\n",
       "      <td>0.297253</td>\n",
       "      <td>0.101070</td>\n",
       "      <td>0.172202</td>\n",
       "      <td>0.852029</td>\n",
       "    </tr>\n",
       "  </tbody>\n",
       "</table>\n",
       "</div>"
      ],
      "text/plain": [
       "         Oi     Tchau  Opa Tudo bem?     Otimo\n",
       "0  0.292172  0.552395       0.714622  0.282644\n",
       "1  0.283373  0.569280       0.042794  0.990881\n",
       "2  0.846541  0.389849       0.177649  0.817783\n",
       "3  0.873443  0.311711       0.845640  0.817717\n",
       "4  0.982753  0.236437       0.661920  0.739851\n",
       "5  0.537415  0.170579       0.381069  0.796863\n",
       "6  0.971670  0.844352       0.035876  0.206618\n",
       "7  0.297253  0.101070       0.172202  0.852029"
      ]
     },
     "execution_count": 187,
     "metadata": {},
     "output_type": "execute_result"
    }
   ],
   "source": [
    "df_2"
   ]
  },
  {
   "cell_type": "code",
   "execution_count": null,
   "metadata": {},
   "outputs": [],
   "source": [
    "# Make all columns names lower case, without spaces or special characters  "
   ]
  },
  {
   "cell_type": "code",
   "execution_count": null,
   "metadata": {},
   "outputs": [],
   "source": [
    "df_2.columns = [x.lower() for x in df_2.columns]"
   ]
  },
  {
   "cell_type": "code",
   "execution_count": 198,
   "metadata": {
    "ExecuteTime": {
     "end_time": "2022-01-18T17:45:08.647745Z",
     "start_time": "2022-01-18T17:45:08.638767Z"
    }
   },
   "outputs": [
    {
     "data": {
      "text/plain": [
       "['oi', 'tchau', 'opa_tudo_bem', 'otimo']"
      ]
     },
     "execution_count": 198,
     "metadata": {},
     "output_type": "execute_result"
    }
   ],
   "source": [
    "[x.lower() if not ' ' in x else '_'.join(x.split()).lower().replace('?','') for x in df_2.columns ]"
   ]
  },
  {
   "cell_type": "code",
   "execution_count": null,
   "metadata": {},
   "outputs": [],
   "source": [
    "[x.lower() if not ' ' in x else '_'.join(x.split()).lower().replace('?','') for x in df_2.columns ]"
   ]
  },
  {
   "cell_type": "code",
   "execution_count": 202,
   "metadata": {
    "ExecuteTime": {
     "end_time": "2022-01-18T17:46:55.822752Z",
     "start_time": "2022-01-18T17:46:55.814773Z"
    }
   },
   "outputs": [
    {
     "data": {
      "text/plain": [
       "['oi', 'tchau', 'opa_tudo_bem', 'otimo']"
      ]
     },
     "execution_count": 202,
     "metadata": {},
     "output_type": "execute_result"
    }
   ],
   "source": [
    "[col.replace('?','').replace(' ','_').lower() for col in df_2.columns]"
   ]
  },
  {
   "cell_type": "code",
   "execution_count": 207,
   "metadata": {
    "ExecuteTime": {
     "end_time": "2022-01-18T17:51:59.524819Z",
     "start_time": "2022-01-18T17:51:59.520831Z"
    }
   },
   "outputs": [],
   "source": [
    "import re\n",
    "df_2.columns = [re.sub(' ','_',re.sub('[^\\w ]','', col.lower())) for col in df_2.columns]"
   ]
  },
  {
   "cell_type": "code",
   "execution_count": null,
   "metadata": {},
   "outputs": [],
   "source": []
  },
  {
   "cell_type": "code",
   "execution_count": null,
   "metadata": {},
   "outputs": [],
   "source": []
  },
  {
   "cell_type": "code",
   "execution_count": null,
   "metadata": {},
   "outputs": [],
   "source": []
  },
  {
   "cell_type": "code",
   "execution_count": null,
   "metadata": {},
   "outputs": [],
   "source": []
  },
  {
   "cell_type": "code",
   "execution_count": 208,
   "metadata": {
    "ExecuteTime": {
     "end_time": "2022-01-18T17:52:40.392268Z",
     "start_time": "2022-01-18T17:52:40.369328Z"
    }
   },
   "outputs": [
    {
     "data": {
      "text/html": [
       "<div>\n",
       "<style scoped>\n",
       "    .dataframe tbody tr th:only-of-type {\n",
       "        vertical-align: middle;\n",
       "    }\n",
       "\n",
       "    .dataframe tbody tr th {\n",
       "        vertical-align: top;\n",
       "    }\n",
       "\n",
       "    .dataframe thead th {\n",
       "        text-align: right;\n",
       "    }\n",
       "</style>\n",
       "<table border=\"1\" class=\"dataframe\">\n",
       "  <thead>\n",
       "    <tr style=\"text-align: right;\">\n",
       "      <th></th>\n",
       "      <th>coluna 1</th>\n",
       "      <th>tchau</th>\n",
       "      <th>opa_tudo_bem</th>\n",
       "      <th>otimo</th>\n",
       "    </tr>\n",
       "  </thead>\n",
       "  <tbody>\n",
       "    <tr>\n",
       "      <th>0</th>\n",
       "      <td>0.292172</td>\n",
       "      <td>0.552395</td>\n",
       "      <td>0.714622</td>\n",
       "      <td>0.282644</td>\n",
       "    </tr>\n",
       "    <tr>\n",
       "      <th>1</th>\n",
       "      <td>0.283373</td>\n",
       "      <td>0.569280</td>\n",
       "      <td>0.042794</td>\n",
       "      <td>0.990881</td>\n",
       "    </tr>\n",
       "    <tr>\n",
       "      <th>2</th>\n",
       "      <td>0.846541</td>\n",
       "      <td>0.389849</td>\n",
       "      <td>0.177649</td>\n",
       "      <td>0.817783</td>\n",
       "    </tr>\n",
       "    <tr>\n",
       "      <th>3</th>\n",
       "      <td>0.873443</td>\n",
       "      <td>0.311711</td>\n",
       "      <td>0.845640</td>\n",
       "      <td>0.817717</td>\n",
       "    </tr>\n",
       "    <tr>\n",
       "      <th>4</th>\n",
       "      <td>0.982753</td>\n",
       "      <td>0.236437</td>\n",
       "      <td>0.661920</td>\n",
       "      <td>0.739851</td>\n",
       "    </tr>\n",
       "    <tr>\n",
       "      <th>5</th>\n",
       "      <td>0.537415</td>\n",
       "      <td>0.170579</td>\n",
       "      <td>0.381069</td>\n",
       "      <td>0.796863</td>\n",
       "    </tr>\n",
       "    <tr>\n",
       "      <th>6</th>\n",
       "      <td>0.971670</td>\n",
       "      <td>0.844352</td>\n",
       "      <td>0.035876</td>\n",
       "      <td>0.206618</td>\n",
       "    </tr>\n",
       "    <tr>\n",
       "      <th>7</th>\n",
       "      <td>0.297253</td>\n",
       "      <td>0.101070</td>\n",
       "      <td>0.172202</td>\n",
       "      <td>0.852029</td>\n",
       "    </tr>\n",
       "  </tbody>\n",
       "</table>\n",
       "</div>"
      ],
      "text/plain": [
       "   coluna 1     tchau  opa_tudo_bem     otimo\n",
       "0  0.292172  0.552395      0.714622  0.282644\n",
       "1  0.283373  0.569280      0.042794  0.990881\n",
       "2  0.846541  0.389849      0.177649  0.817783\n",
       "3  0.873443  0.311711      0.845640  0.817717\n",
       "4  0.982753  0.236437      0.661920  0.739851\n",
       "5  0.537415  0.170579      0.381069  0.796863\n",
       "6  0.971670  0.844352      0.035876  0.206618\n",
       "7  0.297253  0.101070      0.172202  0.852029"
      ]
     },
     "execution_count": 208,
     "metadata": {},
     "output_type": "execute_result"
    }
   ],
   "source": [
    "df_2 = df_2.rename(columns = {'oi':'coluna 1'})"
   ]
  },
  {
   "cell_type": "code",
   "execution_count": 211,
   "metadata": {
    "ExecuteTime": {
     "end_time": "2022-01-18T17:53:42.919683Z",
     "start_time": "2022-01-18T17:53:42.904723Z"
    }
   },
   "outputs": [
    {
     "data": {
      "text/html": [
       "<div>\n",
       "<style scoped>\n",
       "    .dataframe tbody tr th:only-of-type {\n",
       "        vertical-align: middle;\n",
       "    }\n",
       "\n",
       "    .dataframe tbody tr th {\n",
       "        vertical-align: top;\n",
       "    }\n",
       "\n",
       "    .dataframe thead th {\n",
       "        text-align: right;\n",
       "    }\n",
       "</style>\n",
       "<table border=\"1\" class=\"dataframe\">\n",
       "  <thead>\n",
       "    <tr style=\"text-align: right;\">\n",
       "      <th></th>\n",
       "      <th>coluna 1</th>\n",
       "      <th>tchau</th>\n",
       "      <th>opa_tudo_bem</th>\n",
       "      <th>otimo</th>\n",
       "    </tr>\n",
       "  </thead>\n",
       "  <tbody>\n",
       "    <tr>\n",
       "      <th>0</th>\n",
       "      <td>0.292172</td>\n",
       "      <td>0.552395</td>\n",
       "      <td>0.714622</td>\n",
       "      <td>0.282644</td>\n",
       "    </tr>\n",
       "    <tr>\n",
       "      <th>1</th>\n",
       "      <td>0.283373</td>\n",
       "      <td>0.569280</td>\n",
       "      <td>0.042794</td>\n",
       "      <td>0.990881</td>\n",
       "    </tr>\n",
       "    <tr>\n",
       "      <th>2</th>\n",
       "      <td>0.846541</td>\n",
       "      <td>0.389849</td>\n",
       "      <td>0.177649</td>\n",
       "      <td>0.817783</td>\n",
       "    </tr>\n",
       "    <tr>\n",
       "      <th>3</th>\n",
       "      <td>0.873443</td>\n",
       "      <td>0.311711</td>\n",
       "      <td>0.845640</td>\n",
       "      <td>0.817717</td>\n",
       "    </tr>\n",
       "    <tr>\n",
       "      <th>4</th>\n",
       "      <td>0.982753</td>\n",
       "      <td>0.236437</td>\n",
       "      <td>0.661920</td>\n",
       "      <td>0.739851</td>\n",
       "    </tr>\n",
       "    <tr>\n",
       "      <th>5</th>\n",
       "      <td>0.537415</td>\n",
       "      <td>0.170579</td>\n",
       "      <td>0.381069</td>\n",
       "      <td>0.796863</td>\n",
       "    </tr>\n",
       "    <tr>\n",
       "      <th>6</th>\n",
       "      <td>0.971670</td>\n",
       "      <td>0.844352</td>\n",
       "      <td>0.035876</td>\n",
       "      <td>0.206618</td>\n",
       "    </tr>\n",
       "    <tr>\n",
       "      <th>7</th>\n",
       "      <td>0.297253</td>\n",
       "      <td>0.101070</td>\n",
       "      <td>0.172202</td>\n",
       "      <td>0.852029</td>\n",
       "    </tr>\n",
       "  </tbody>\n",
       "</table>\n",
       "</div>"
      ],
      "text/plain": [
       "   coluna 1     tchau  opa_tudo_bem     otimo\n",
       "0  0.292172  0.552395      0.714622  0.282644\n",
       "1  0.283373  0.569280      0.042794  0.990881\n",
       "2  0.846541  0.389849      0.177649  0.817783\n",
       "3  0.873443  0.311711      0.845640  0.817717\n",
       "4  0.982753  0.236437      0.661920  0.739851\n",
       "5  0.537415  0.170579      0.381069  0.796863\n",
       "6  0.971670  0.844352      0.035876  0.206618\n",
       "7  0.297253  0.101070      0.172202  0.852029"
      ]
     },
     "execution_count": 211,
     "metadata": {},
     "output_type": "execute_result"
    }
   ],
   "source": [
    "df_2.rename({'oi':'coluna 1'},axis=1)"
   ]
  },
  {
   "cell_type": "markdown",
   "metadata": {},
   "source": [
    "# Resumo\n",
    "* import pandas as pd\n",
    "* pd.Series(lista_valores,index=lista_index) - uma coluna\n",
    "* pd.Series(dicionario) \n",
    "* serie['index'] - pelo nome do indice\n",
    "* serie[index] - pela posição\n",
    "* pd.DataFrame(dicionario_de_series) - uma tabela\n",
    "* pd.DataFrame(dicionario_de_listas)\n",
    "* pd.DataFrame(listas_de_lista)\n",
    "* pd.DataFrame(array_2d)\n",
    "* dataframe['nome_da_coluna']['nome_linha']\n",
    "* dataframe.nome_da_coluna.nome_linha\n",
    "* dataframe.loc['nome_da_linha','nome_da_coluna'] - aceita slice\n",
    "* dataframe.loc[posição_linha,posição_coluna] - aceita slice\n",
    "* dataframe.operaçãomatemática() - assume axis=0(pela coluna)\n",
    "* dataframe.operaçãomatemática(axis=1)\n",
    "* dataframe.describe()\n",
    "* dataframe.T.describe()\n",
    "* dataframe.columns/datrame.index - retorna objeto tipo Index com nomes de colunas/linhas\n"
   ]
  },
  {
   "cell_type": "code",
   "execution_count": null,
   "metadata": {},
   "outputs": [],
   "source": []
  }
 ],
 "metadata": {
  "kernelspec": {
   "display_name": "Python 3",
   "language": "python",
   "name": "python3"
  },
  "language_info": {
   "codemirror_mode": {
    "name": "ipython",
    "version": 3
   },
   "file_extension": ".py",
   "mimetype": "text/x-python",
   "name": "python",
   "nbconvert_exporter": "python",
   "pygments_lexer": "ipython3",
   "version": "3.8.5"
  },
  "toc": {
   "base_numbering": 1,
   "nav_menu": {},
   "number_sections": true,
   "sideBar": true,
   "skip_h1_title": false,
   "title_cell": "Table of Contents",
   "title_sidebar": "Contents",
   "toc_cell": false,
   "toc_position": {},
   "toc_section_display": true,
   "toc_window_display": false
  },
  "varInspector": {
   "cols": {
    "lenName": 16,
    "lenType": 16,
    "lenVar": 40
   },
   "kernels_config": {
    "python": {
     "delete_cmd_postfix": "",
     "delete_cmd_prefix": "del ",
     "library": "var_list.py",
     "varRefreshCmd": "print(var_dic_list())"
    },
    "r": {
     "delete_cmd_postfix": ") ",
     "delete_cmd_prefix": "rm(",
     "library": "var_list.r",
     "varRefreshCmd": "cat(var_dic_list()) "
    }
   },
   "types_to_exclude": [
    "module",
    "function",
    "builtin_function_or_method",
    "instance",
    "_Feature"
   ],
   "window_display": false
  }
 },
 "nbformat": 4,
 "nbformat_minor": 2
}
