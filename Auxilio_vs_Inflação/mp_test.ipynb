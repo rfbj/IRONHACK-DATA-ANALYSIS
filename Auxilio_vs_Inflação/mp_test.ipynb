{
 "cells": [
  {
   "cell_type": "code",
   "execution_count": null,
   "metadata": {
    "collapsed": true,
    "pycharm": {
     "name": "#%%\n"
    }
   },
   "outputs": [],
   "source": [
    "from multiprocessing import Pool\n",
    "import requests\n",
    "import pandas as pd\n",
    "import time\n",
    "from ratelimit import limits, sleep_and_retry\n",
    "\n",
    "mesAno = [202004,202005,202006,202007,202008,202009,202010,202011,202012,202101,202102,202103,202104,202105,202106,202107,202108,202109,202110,202111,202112]\n",
    "\n",
    "codigoIbge = [1400100,1400605,1400506,1400233,1400704,1400407,1400282,1400159,1400027,1400050,1400308,1400175,1400456,1400209,1400472]\n",
    "\n",
    "dados = []\n",
    "dados2 = []\n",
    "results = [\"string\"]\n",
    "api_url = \"https://api.portaldatransparencia.gov.br/api-de-dados/auxilio-emergencial-beneficiario-por-municipio\"\n",
    "ONE_MINUTE = 60\n",
    "\n",
    "@sleep_and_retry\n",
    "@limits(calls=180, period=ONE_MINUTE)\n",
    "def call_api(api_url):\n",
    "    response = requests.get(api_url, params=params, headers=headers)\n",
    "\n",
    "    # if response.status_code != 200:\n",
    "    #     raise Exception('API response: {}'.format(response.status_code))\n",
    "    return response\n",
    "\n",
    "def get_data(mesAno,codigoIbge,pagina=0):\n",
    "\n",
    "    while len(results) != 0:\n",
    "\n",
    "        start = time.time()\n",
    "        pagina += 1\n",
    "        params = {\"mesAno\": mesAno, \"codigoIbge\": codigoIbge,\"pagina\":pagina}\n",
    "        headers = {\"chave-api-dados\": \"_7e44a488bb29946885b8d1789810b0ea\"}\n",
    "        #response = requests.get(api_url, params=params, headers=headers)\n",
    "        call_api(api_url)\n",
    "        results = response.json()\n",
    "        flat_data = pd.json_normalize(results)\n",
    "        dados.append(flat_data)\n",
    "        stop = time.time()\n",
    "        print(f\"Página {pagina} capturada com sucesso em {stop - start} segundos\")\n",
    "\n",
    "if __name__ == \"__main__\":\n",
    "    p = Pool(6)\n",
    "    start = time.time()\n",
    "    p.starmap(get_data,zip(mesAno,codigoIbge))\n",
    "    end = time.time()\n",
    "    print(f\"MP concluído em {end - start}\")\n",
    "    p.close()\n",
    "    p.join()"
   ]
  },
  {
   "cell_type": "code",
   "execution_count": null,
   "outputs": [],
   "source": [],
   "metadata": {
    "collapsed": false,
    "pycharm": {
     "name": "#%%\n"
    }
   }
  }
 ],
 "metadata": {
  "kernelspec": {
   "display_name": "Python 3",
   "language": "python",
   "name": "python3"
  },
  "language_info": {
   "codemirror_mode": {
    "name": "ipython",
    "version": 2
   },
   "file_extension": ".py",
   "mimetype": "text/x-python",
   "name": "python",
   "nbconvert_exporter": "python",
   "pygments_lexer": "ipython2",
   "version": "2.7.6"
  }
 },
 "nbformat": 4,
 "nbformat_minor": 0
}