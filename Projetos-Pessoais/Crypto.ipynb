{
 "cells": [
  {
   "cell_type": "code",
   "execution_count": 5,
   "metadata": {
    "collapsed": true
   },
   "outputs": [],
   "source": [
    "from binance import Client\n",
    "import pandas as pd\n",
    "import numpy as np\n",
    "client = Client()"
   ]
  },
  {
   "cell_type": "code",
   "execution_count": 7,
   "outputs": [],
   "source": [
    "def getdailydata(symbol):\n",
    "    frame = pd.DataFrame(client.get_historical_klines(symbol,\n",
    "                         \"1d\",\n",
    "                         \"3 years ago UTC\"))\n",
    "    frame = frame[[0,4]]\n",
    "    frame.columns = [\"Timestamp\", symbol]\n",
    "    frame = frame.set_index(\"Timestamp\")\n",
    "    frame = frame.astype(float)\n",
    "    return frame"
   ],
   "metadata": {
    "collapsed": false,
    "pycharm": {
     "name": "#%%\n"
    }
   }
  },
  {
   "cell_type": "code",
   "execution_count": 14,
   "outputs": [
    {
     "data": {
      "text/plain": "                BTCUSDT  ETHUSDT   BNBUSDT  XRPUSDT  ADAUSDT  SHIBUSDT\nTimestamp                                                             \n1551312000000   3813.69   135.34   10.2779  0.31390  0.04287       NaN\n1551398400000   3823.00   135.32   11.3111  0.31564  0.04300       NaN\n1551484800000   3819.93   132.56   11.7566  0.31382  0.04242       NaN\n1551571200000   3807.75   130.60   11.4511  0.31114  0.04206       NaN\n1551657600000   3715.30   125.65   11.4006  0.30207  0.04022       NaN\n...                 ...      ...       ...      ...      ...       ...\n1645574400000  37250.01  2579.71  365.6000  0.69670  0.86600  0.000025\n1645660800000  38327.21  2596.20  361.2000  0.69630  0.85300  0.000024\n1645747200000  39219.17  2768.49  375.0000  0.76990  0.89800  0.000025\n1645833600000  39116.72  2779.47  373.7000  0.75080  0.88700  0.000024\n1645920000000  39250.00  2791.37  374.3000  0.74850  0.89400  0.000025\n\n[1096 rows x 6 columns]",
      "text/html": "<div>\n<style scoped>\n    .dataframe tbody tr th:only-of-type {\n        vertical-align: middle;\n    }\n\n    .dataframe tbody tr th {\n        vertical-align: top;\n    }\n\n    .dataframe thead th {\n        text-align: right;\n    }\n</style>\n<table border=\"1\" class=\"dataframe\">\n  <thead>\n    <tr style=\"text-align: right;\">\n      <th></th>\n      <th>BTCUSDT</th>\n      <th>ETHUSDT</th>\n      <th>BNBUSDT</th>\n      <th>XRPUSDT</th>\n      <th>ADAUSDT</th>\n      <th>SHIBUSDT</th>\n    </tr>\n    <tr>\n      <th>Timestamp</th>\n      <th></th>\n      <th></th>\n      <th></th>\n      <th></th>\n      <th></th>\n      <th></th>\n    </tr>\n  </thead>\n  <tbody>\n    <tr>\n      <th>1551312000000</th>\n      <td>3813.69</td>\n      <td>135.34</td>\n      <td>10.2779</td>\n      <td>0.31390</td>\n      <td>0.04287</td>\n      <td>NaN</td>\n    </tr>\n    <tr>\n      <th>1551398400000</th>\n      <td>3823.00</td>\n      <td>135.32</td>\n      <td>11.3111</td>\n      <td>0.31564</td>\n      <td>0.04300</td>\n      <td>NaN</td>\n    </tr>\n    <tr>\n      <th>1551484800000</th>\n      <td>3819.93</td>\n      <td>132.56</td>\n      <td>11.7566</td>\n      <td>0.31382</td>\n      <td>0.04242</td>\n      <td>NaN</td>\n    </tr>\n    <tr>\n      <th>1551571200000</th>\n      <td>3807.75</td>\n      <td>130.60</td>\n      <td>11.4511</td>\n      <td>0.31114</td>\n      <td>0.04206</td>\n      <td>NaN</td>\n    </tr>\n    <tr>\n      <th>1551657600000</th>\n      <td>3715.30</td>\n      <td>125.65</td>\n      <td>11.4006</td>\n      <td>0.30207</td>\n      <td>0.04022</td>\n      <td>NaN</td>\n    </tr>\n    <tr>\n      <th>...</th>\n      <td>...</td>\n      <td>...</td>\n      <td>...</td>\n      <td>...</td>\n      <td>...</td>\n      <td>...</td>\n    </tr>\n    <tr>\n      <th>1645574400000</th>\n      <td>37250.01</td>\n      <td>2579.71</td>\n      <td>365.6000</td>\n      <td>0.69670</td>\n      <td>0.86600</td>\n      <td>0.000025</td>\n    </tr>\n    <tr>\n      <th>1645660800000</th>\n      <td>38327.21</td>\n      <td>2596.20</td>\n      <td>361.2000</td>\n      <td>0.69630</td>\n      <td>0.85300</td>\n      <td>0.000024</td>\n    </tr>\n    <tr>\n      <th>1645747200000</th>\n      <td>39219.17</td>\n      <td>2768.49</td>\n      <td>375.0000</td>\n      <td>0.76990</td>\n      <td>0.89800</td>\n      <td>0.000025</td>\n    </tr>\n    <tr>\n      <th>1645833600000</th>\n      <td>39116.72</td>\n      <td>2779.47</td>\n      <td>373.7000</td>\n      <td>0.75080</td>\n      <td>0.88700</td>\n      <td>0.000024</td>\n    </tr>\n    <tr>\n      <th>1645920000000</th>\n      <td>39250.00</td>\n      <td>2791.37</td>\n      <td>374.3000</td>\n      <td>0.74850</td>\n      <td>0.89400</td>\n      <td>0.000025</td>\n    </tr>\n  </tbody>\n</table>\n<p>1096 rows × 6 columns</p>\n</div>"
     },
     "execution_count": 14,
     "metadata": {},
     "output_type": "execute_result"
    }
   ],
   "source": [
    "symbols = ['BTCUSDT', 'ETHUSDT','BNBUSDT','XRPUSDT','ADAUSDT', 'SHIBUSDT']\n",
    "prices = []\n",
    "for symbol in symbols:\n",
    "    prices.append(getdailydata(symbol))\n",
    "df = pd.concat(prices,axis=1)\n",
    "df"
   ],
   "metadata": {
    "collapsed": false,
    "pycharm": {
     "name": "#%%\n"
    }
   }
  },
  {
   "cell_type": "code",
   "execution_count": 15,
   "outputs": [
    {
     "ename": "ModuleNotFoundError",
     "evalue": "No module named 'pypfopt'",
     "output_type": "error",
     "traceback": [
      "\u001B[1;31m---------------------------------------------------------------------------\u001B[0m",
      "\u001B[1;31mModuleNotFoundError\u001B[0m                       Traceback (most recent call last)",
      "Input \u001B[1;32mIn [15]\u001B[0m, in \u001B[0;36m<module>\u001B[1;34m\u001B[0m\n\u001B[1;32m----> 1\u001B[0m \u001B[38;5;28;01mfrom\u001B[39;00m \u001B[38;5;21;01mpypfopt\u001B[39;00m \u001B[38;5;28;01mimport\u001B[39;00m EfficientFrontier, risk_models, expected_returns, plotting\n",
      "\u001B[1;31mModuleNotFoundError\u001B[0m: No module named 'pypfopt'"
     ]
    }
   ],
   "source": [
    "from pypfopt import EfficientFrontier, risk_models, expected_returns, plotting"
   ],
   "metadata": {
    "collapsed": false,
    "pycharm": {
     "name": "#%%\n"
    }
   }
  },
  {
   "cell_type": "code",
   "execution_count": 33,
   "outputs": [
    {
     "name": "stdout",
     "output_type": "stream",
     "text": [
      "Looking in indexes: https://pypi.org/simple, https://pypi.ngc.nvidia.com\n",
      "Collecting qdldl\n",
      "  Downloading qdldl-0.1.5.post0.tar.gz (69 kB)\n",
      "     ---------------------------------------- 69.1/69.1 KB ? eta 0:00:00\n",
      "  Preparing metadata (setup.py): started\n",
      "  Preparing metadata (setup.py): finished with status 'done'\n",
      "Requirement already satisfied: numpy>=1.7 in c:\\users\\rfbj\\appdata\\local\\programs\\python\\python310\\lib\\site-packages (from qdldl) (1.22.1)\n",
      "Requirement already satisfied: scipy>=0.13.2 in c:\\users\\rfbj\\appdata\\local\\programs\\python\\python310\\lib\\site-packages (from qdldl) (1.7.3)\n",
      "Building wheels for collected packages: qdldl\n",
      "  Building wheel for qdldl (setup.py): started\n",
      "  Building wheel for qdldl (setup.py): finished with status 'error'\n",
      "  Running setup.py clean for qdldl\n",
      "Failed to build qdldl\n",
      "Installing collected packages: qdldl\n",
      "  Running setup.py install for qdldl: started\n",
      "  Running setup.py install for qdldl: finished with status 'error'\n"
     ]
    },
    {
     "name": "stderr",
     "output_type": "stream",
     "text": [
      "  error: subprocess-exited-with-error\n",
      "  \n",
      "  python setup.py bdist_wheel did not run successfully.\n",
      "  exit code: 1\n",
      "  \n",
      "  [54 lines of output]\n",
      "  running bdist_wheel\n",
      "  running build\n",
      "  running build_ext\n",
      "  Traceback (most recent call last):\n",
      "    File \"C:\\Users\\Rfbj\\AppData\\Local\\Temp\\pip-install-9o2s6nwk\\qdldl_9141f00987f2479cb3bd5ddef37472e4\\setup.py\", line 78, in build_extensions\n",
      "      check_output(['cmake', '--version'])\n",
      "    File \"C:\\Users\\Rfbj\\AppData\\Local\\Programs\\Python\\Python310\\lib\\subprocess.py\", line 420, in check_output\n",
      "      return run(*popenargs, stdout=PIPE, timeout=timeout, check=True,\n",
      "    File \"C:\\Users\\Rfbj\\AppData\\Local\\Programs\\Python\\Python310\\lib\\subprocess.py\", line 501, in run\n",
      "      with Popen(*popenargs, **kwargs) as process:\n",
      "    File \"C:\\Users\\Rfbj\\AppData\\Local\\Programs\\Python\\Python310\\lib\\subprocess.py\", line 966, in __init__\n",
      "      self._execute_child(args, executable, preexec_fn, close_fds,\n",
      "    File \"C:\\Users\\Rfbj\\AppData\\Local\\Programs\\Python\\Python310\\lib\\subprocess.py\", line 1435, in _execute_child\n",
      "      hp, ht, pid, tid = _winapi.CreateProcess(executable, args,\n",
      "  FileNotFoundError: [WinError 2] O sistema não pode encontrar o arquivo especificado\n",
      "  \n",
      "  During handling of the above exception, another exception occurred:\n",
      "  \n",
      "  Traceback (most recent call last):\n",
      "    File \"<string>\", line 2, in <module>\n",
      "    File \"<pip-setuptools-caller>\", line 34, in <module>\n",
      "    File \"C:\\Users\\Rfbj\\AppData\\Local\\Temp\\pip-install-9o2s6nwk\\qdldl_9141f00987f2479cb3bd5ddef37472e4\\setup.py\", line 110, in <module>\n",
      "      setup(name='qdldl',\n",
      "    File \"C:\\Users\\Rfbj\\AppData\\Local\\Programs\\Python\\Python310\\lib\\site-packages\\setuptools\\__init__.py\", line 155, in setup\n",
      "      return distutils.core.setup(**attrs)\n",
      "    File \"C:\\Users\\Rfbj\\AppData\\Local\\Programs\\Python\\Python310\\lib\\site-packages\\setuptools\\_distutils\\core.py\", line 148, in setup\n",
      "      return run_commands(dist)\n",
      "    File \"C:\\Users\\Rfbj\\AppData\\Local\\Programs\\Python\\Python310\\lib\\site-packages\\setuptools\\_distutils\\core.py\", line 163, in run_commands\n",
      "      dist.run_commands()\n",
      "    File \"C:\\Users\\Rfbj\\AppData\\Local\\Programs\\Python\\Python310\\lib\\site-packages\\setuptools\\_distutils\\dist.py\", line 967, in run_commands\n",
      "      self.run_command(cmd)\n",
      "    File \"C:\\Users\\Rfbj\\AppData\\Local\\Programs\\Python\\Python310\\lib\\site-packages\\setuptools\\_distutils\\dist.py\", line 986, in run_command\n",
      "      cmd_obj.run()\n",
      "    File \"C:\\Users\\Rfbj\\AppData\\Local\\Programs\\Python\\Python310\\lib\\site-packages\\wheel\\bdist_wheel.py\", line 299, in run\n",
      "      self.run_command('build')\n",
      "    File \"C:\\Users\\Rfbj\\AppData\\Local\\Programs\\Python\\Python310\\lib\\site-packages\\setuptools\\_distutils\\cmd.py\", line 313, in run_command\n",
      "      self.distribution.run_command(command)\n",
      "    File \"C:\\Users\\Rfbj\\AppData\\Local\\Programs\\Python\\Python310\\lib\\site-packages\\setuptools\\_distutils\\dist.py\", line 986, in run_command\n",
      "      cmd_obj.run()\n",
      "    File \"C:\\Users\\Rfbj\\AppData\\Local\\Programs\\Python\\Python310\\lib\\site-packages\\setuptools\\_distutils\\command\\build.py\", line 135, in run\n",
      "      self.run_command(cmd_name)\n",
      "    File \"C:\\Users\\Rfbj\\AppData\\Local\\Programs\\Python\\Python310\\lib\\site-packages\\setuptools\\_distutils\\cmd.py\", line 313, in run_command\n",
      "      self.distribution.run_command(command)\n",
      "    File \"C:\\Users\\Rfbj\\AppData\\Local\\Programs\\Python\\Python310\\lib\\site-packages\\setuptools\\_distutils\\dist.py\", line 986, in run_command\n",
      "      cmd_obj.run()\n",
      "    File \"C:\\Users\\Rfbj\\AppData\\Local\\Programs\\Python\\Python310\\lib\\site-packages\\setuptools\\command\\build_ext.py\", line 79, in run\n",
      "      _build_ext.run(self)\n",
      "    File \"C:\\Users\\Rfbj\\AppData\\Local\\Programs\\Python\\Python310\\lib\\site-packages\\Cython\\Distutils\\old_build_ext.py\", line 186, in run\n",
      "      _build_ext.build_ext.run(self)\n",
      "    File \"C:\\Users\\Rfbj\\AppData\\Local\\Programs\\Python\\Python310\\lib\\site-packages\\setuptools\\_distutils\\command\\build_ext.py\", line 339, in run\n",
      "      self.build_extensions()\n",
      "    File \"C:\\Users\\Rfbj\\AppData\\Local\\Temp\\pip-install-9o2s6nwk\\qdldl_9141f00987f2479cb3bd5ddef37472e4\\setup.py\", line 80, in build_extensions\n",
      "      raise RuntimeError(\"CMake must be installed to build qdldl\")\n",
      "  RuntimeError: CMake must be installed to build qdldl\n",
      "  [end of output]\n",
      "  \n",
      "  note: This error originates from a subprocess, and is likely not a problem with pip.\n",
      "  ERROR: Failed building wheel for qdldl\n",
      "  error: subprocess-exited-with-error\n",
      "  \n",
      "  Running setup.py install for qdldl did not run successfully.\n",
      "  exit code: 1\n",
      "  \n",
      "  [58 lines of output]\n",
      "  running install\n",
      "  C:\\Users\\Rfbj\\AppData\\Local\\Programs\\Python\\Python310\\lib\\site-packages\\setuptools\\command\\install.py:34: SetuptoolsDeprecationWarning: setup.py install is deprecated. Use build and pip and other standards-based tools.\n",
      "    warnings.warn(\n",
      "  running build\n",
      "  running build_ext\n",
      "  Traceback (most recent call last):\n",
      "    File \"C:\\Users\\Rfbj\\AppData\\Local\\Temp\\pip-install-9o2s6nwk\\qdldl_9141f00987f2479cb3bd5ddef37472e4\\setup.py\", line 78, in build_extensions\n",
      "      check_output(['cmake', '--version'])\n",
      "    File \"C:\\Users\\Rfbj\\AppData\\Local\\Programs\\Python\\Python310\\lib\\subprocess.py\", line 420, in check_output\n",
      "      return run(*popenargs, stdout=PIPE, timeout=timeout, check=True,\n",
      "    File \"C:\\Users\\Rfbj\\AppData\\Local\\Programs\\Python\\Python310\\lib\\subprocess.py\", line 501, in run\n",
      "      with Popen(*popenargs, **kwargs) as process:\n",
      "    File \"C:\\Users\\Rfbj\\AppData\\Local\\Programs\\Python\\Python310\\lib\\subprocess.py\", line 966, in __init__\n",
      "      self._execute_child(args, executable, preexec_fn, close_fds,\n",
      "    File \"C:\\Users\\Rfbj\\AppData\\Local\\Programs\\Python\\Python310\\lib\\subprocess.py\", line 1435, in _execute_child\n",
      "      hp, ht, pid, tid = _winapi.CreateProcess(executable, args,\n",
      "  FileNotFoundError: [WinError 2] O sistema não pode encontrar o arquivo especificado\n",
      "  \n",
      "  During handling of the above exception, another exception occurred:\n",
      "  \n",
      "  Traceback (most recent call last):\n",
      "    File \"<string>\", line 2, in <module>\n",
      "    File \"<pip-setuptools-caller>\", line 34, in <module>\n",
      "    File \"C:\\Users\\Rfbj\\AppData\\Local\\Temp\\pip-install-9o2s6nwk\\qdldl_9141f00987f2479cb3bd5ddef37472e4\\setup.py\", line 110, in <module>\n",
      "      setup(name='qdldl',\n",
      "    File \"C:\\Users\\Rfbj\\AppData\\Local\\Programs\\Python\\Python310\\lib\\site-packages\\setuptools\\__init__.py\", line 155, in setup\n",
      "      return distutils.core.setup(**attrs)\n",
      "    File \"C:\\Users\\Rfbj\\AppData\\Local\\Programs\\Python\\Python310\\lib\\site-packages\\setuptools\\_distutils\\core.py\", line 148, in setup\n",
      "      return run_commands(dist)\n",
      "    File \"C:\\Users\\Rfbj\\AppData\\Local\\Programs\\Python\\Python310\\lib\\site-packages\\setuptools\\_distutils\\core.py\", line 163, in run_commands\n",
      "      dist.run_commands()\n",
      "    File \"C:\\Users\\Rfbj\\AppData\\Local\\Programs\\Python\\Python310\\lib\\site-packages\\setuptools\\_distutils\\dist.py\", line 967, in run_commands\n",
      "      self.run_command(cmd)\n",
      "    File \"C:\\Users\\Rfbj\\AppData\\Local\\Programs\\Python\\Python310\\lib\\site-packages\\setuptools\\_distutils\\dist.py\", line 986, in run_command\n",
      "      cmd_obj.run()\n",
      "    File \"C:\\Users\\Rfbj\\AppData\\Local\\Programs\\Python\\Python310\\lib\\site-packages\\setuptools\\command\\install.py\", line 68, in run\n",
      "      return orig.install.run(self)\n",
      "    File \"C:\\Users\\Rfbj\\AppData\\Local\\Programs\\Python\\Python310\\lib\\site-packages\\setuptools\\_distutils\\command\\install.py\", line 670, in run\n",
      "      self.run_command('build')\n",
      "    File \"C:\\Users\\Rfbj\\AppData\\Local\\Programs\\Python\\Python310\\lib\\site-packages\\setuptools\\_distutils\\cmd.py\", line 313, in run_command\n",
      "      self.distribution.run_command(command)\n",
      "    File \"C:\\Users\\Rfbj\\AppData\\Local\\Programs\\Python\\Python310\\lib\\site-packages\\setuptools\\_distutils\\dist.py\", line 986, in run_command\n",
      "      cmd_obj.run()\n",
      "    File \"C:\\Users\\Rfbj\\AppData\\Local\\Programs\\Python\\Python310\\lib\\site-packages\\setuptools\\_distutils\\command\\build.py\", line 135, in run\n",
      "      self.run_command(cmd_name)\n",
      "    File \"C:\\Users\\Rfbj\\AppData\\Local\\Programs\\Python\\Python310\\lib\\site-packages\\setuptools\\_distutils\\cmd.py\", line 313, in run_command\n",
      "      self.distribution.run_command(command)\n",
      "    File \"C:\\Users\\Rfbj\\AppData\\Local\\Programs\\Python\\Python310\\lib\\site-packages\\setuptools\\_distutils\\dist.py\", line 986, in run_command\n",
      "      cmd_obj.run()\n",
      "    File \"C:\\Users\\Rfbj\\AppData\\Local\\Programs\\Python\\Python310\\lib\\site-packages\\setuptools\\command\\build_ext.py\", line 79, in run\n",
      "      _build_ext.run(self)\n",
      "    File \"C:\\Users\\Rfbj\\AppData\\Local\\Programs\\Python\\Python310\\lib\\site-packages\\Cython\\Distutils\\old_build_ext.py\", line 186, in run\n",
      "      _build_ext.build_ext.run(self)\n",
      "    File \"C:\\Users\\Rfbj\\AppData\\Local\\Programs\\Python\\Python310\\lib\\site-packages\\setuptools\\_distutils\\command\\build_ext.py\", line 339, in run\n",
      "      self.build_extensions()\n",
      "    File \"C:\\Users\\Rfbj\\AppData\\Local\\Temp\\pip-install-9o2s6nwk\\qdldl_9141f00987f2479cb3bd5ddef37472e4\\setup.py\", line 80, in build_extensions\n",
      "      raise RuntimeError(\"CMake must be installed to build qdldl\")\n",
      "  RuntimeError: CMake must be installed to build qdldl\n",
      "  [end of output]\n",
      "  \n",
      "  note: This error originates from a subprocess, and is likely not a problem with pip.\n",
      "error: legacy-install-failure\n",
      "\n",
      "Encountered error while trying to install package.\n",
      "\n",
      "qdldl\n",
      "\n",
      "note: This is an issue with the package mentioned above, not pip.\n",
      "hint: See above for output from the failure.\n"
     ]
    }
   ],
   "source": [
    "!pip install qdldl"
   ],
   "metadata": {
    "collapsed": false,
    "pycharm": {
     "name": "#%%\n"
    }
   }
  }
 ],
 "metadata": {
  "kernelspec": {
   "display_name": "Python 3",
   "language": "python",
   "name": "python3"
  },
  "language_info": {
   "codemirror_mode": {
    "name": "ipython",
    "version": 2
   },
   "file_extension": ".py",
   "mimetype": "text/x-python",
   "name": "python",
   "nbconvert_exporter": "python",
   "pygments_lexer": "ipython2",
   "version": "2.7.6"
  }
 },
 "nbformat": 4,
 "nbformat_minor": 0
}