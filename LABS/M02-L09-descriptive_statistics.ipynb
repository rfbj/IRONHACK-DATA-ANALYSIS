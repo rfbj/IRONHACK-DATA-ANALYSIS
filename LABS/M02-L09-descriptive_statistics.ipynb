{
 "cells": [
  {
   "cell_type": "markdown",
   "metadata": {},
   "source": [
    "# LAB | Descriptive statistics"
   ]
  },
  {
   "cell_type": "markdown",
   "metadata": {
    "colab_type": "text",
    "id": "iOwi3pSAMZOb"
   },
   "source": [
    "### Import libraries:"
   ]
  },
  {
   "cell_type": "code",
   "execution_count": null,
   "metadata": {},
   "outputs": [],
   "source": [
    "import pandas as pd\n",
    "import matplotlib.pyplot as plt\n",
    "import seaborn as sns\n",
    "import random"
   ]
  },
  {
   "cell_type": "markdown",
   "metadata": {},
   "source": [
    "## Roll the dice"
   ]
  },
  {
   "cell_type": "markdown",
   "metadata": {},
   "source": [
    "- We know that the probability of each number is the same (1/6), so the frequency of each number should be similar, and we should expect to see a uniform histogram. We can observe this when we increase the number of throws.\n",
    "- Run the function below that simulates a dice.\n",
    "- You will give the number of throws and it will return a dataframe with the results.\n",
    "```python\n",
    "def roll_the_dice(times):\n",
    "    list_results = random.choices(range(1,7), k=times)\n",
    "    df = pd.DataFrame(list_results, columns=['values'])\n",
    "    return df\n",
    "```"
   ]
  },
  {
   "cell_type": "code",
   "execution_count": null,
   "metadata": {},
   "outputs": [],
   "source": [
    "# Your code here"
   ]
  },
  {
   "cell_type": "markdown",
   "metadata": {},
   "source": [
    "## Roll 10 times\n",
    "- Run the function `roll_the_dice()` using `10` as parameter.\n",
    "- Store in a variable.\n",
    "- Use `.describe()` to generate descriptive statistics."
   ]
  },
  {
   "cell_type": "code",
   "execution_count": null,
   "metadata": {},
   "outputs": [],
   "source": [
    "# Your code here"
   ]
  },
  {
   "cell_type": "markdown",
   "metadata": {},
   "source": [
    "### Frequency distribution\n",
    "- Using the results of the function roll_the_dice(10), plot the `frequency distribution`.\n",
    "- You can use `sns.countplot()`.\n",
    "- Calculate the median and mean from the dataframe. Try to show this into your plot."
   ]
  },
  {
   "cell_type": "code",
   "execution_count": null,
   "metadata": {},
   "outputs": [],
   "source": [
    "# Your code here"
   ]
  },
  {
   "cell_type": "markdown",
   "metadata": {},
   "source": [
    "### Ordenate values\n",
    "- Using the results of the function roll_the_dice(10), plot the `throws and values` ordenate by values.\n",
    "- Sort the dataframe by the `values` column and store in a variable called df_sorted.\n",
    "- You can use `sns.barplot(df_sorted.index, df_sorted['values'],order=df_sorted.index)`."
   ]
  },
  {
   "cell_type": "code",
   "execution_count": null,
   "metadata": {},
   "outputs": [],
   "source": [
    "# Your code here"
   ]
  },
  {
   "cell_type": "markdown",
   "metadata": {},
   "source": [
    "## Roll 1000 times\n",
    "- Run the function `roll_the_dice()` using `1000` as parameter.\n",
    "- Store in a variable.\n",
    "- Use `.describe()` to generate descriptive statistics."
   ]
  },
  {
   "cell_type": "code",
   "execution_count": null,
   "metadata": {},
   "outputs": [],
   "source": [
    "# Your code here"
   ]
  },
  {
   "cell_type": "markdown",
   "metadata": {},
   "source": [
    "### Frequency distribution\n",
    "- Using the results of the function roll_the_dice(1000), plot the `frequency distribution`.\n",
    "- You can use `sns.countplot()`.\n",
    "- Calculate the median and mean from the dataframe. Try to show this into your plot."
   ]
  },
  {
   "cell_type": "code",
   "execution_count": null,
   "metadata": {},
   "outputs": [],
   "source": [
    "# Your code here"
   ]
  },
  {
   "cell_type": "markdown",
   "metadata": {},
   "source": [
    "### Ordenate values\n",
    "- Using the results of the function roll_the_dice(1000), plot the `throws and values` ordenate by values.\n",
    "- Sort the dataframe by the `values` column and store in a variable called df_sorted.\n",
    "- You can use `sns.barplot(df_sorted.index, df_sorted['values'],order=df_sorted.index)`."
   ]
  },
  {
   "cell_type": "code",
   "execution_count": null,
   "metadata": {},
   "outputs": [],
   "source": [
    "# Your code here"
   ]
  },
  {
   "cell_type": "markdown",
   "metadata": {},
   "source": [
    "_________________________________________________"
   ]
  },
  {
   "cell_type": "markdown",
   "metadata": {},
   "source": [
    "## Ages distribution\n",
    "- Now we will work with the `age_pop.csv` dataframe. \n",
    "- It contains the age values of 3 neighborhoods.\n",
    "- Read the csv and store in a variable."
   ]
  },
  {
   "cell_type": "code",
   "execution_count": null,
   "metadata": {},
   "outputs": [],
   "source": [
    "# Your code here"
   ]
  },
  {
   "cell_type": "markdown",
   "metadata": {},
   "source": [
    "- Split the dataframe for each region"
   ]
  },
  {
   "cell_type": "code",
   "execution_count": null,
   "metadata": {},
   "outputs": [],
   "source": [
    "# Your code here"
   ]
  },
  {
   "cell_type": "markdown",
   "metadata": {},
   "source": [
    "### Region 1\n",
    "- Using only the data from region 1 calculate the mean, median and standard deviation.\n",
    "- Plot the frequency distribution, you can use `plt.hist()`\n",
    "- Try to show into your plot the mean, median and standard deviation, you can use the `plt.axvline()`"
   ]
  },
  {
   "cell_type": "code",
   "execution_count": null,
   "metadata": {},
   "outputs": [],
   "source": [
    "# Your code here"
   ]
  },
  {
   "cell_type": "markdown",
   "metadata": {},
   "source": [
    "### Region 2\n",
    "- Using only the data from region 2 calculate the mean, median and standard deviation.\n",
    "- Plot the frequency distribution, you can use `plt.hist()`\n",
    "- Try to show into your plot the mean, median and standard deviation, you can use the `plt.axvline()`"
   ]
  },
  {
   "cell_type": "code",
   "execution_count": null,
   "metadata": {},
   "outputs": [],
   "source": [
    "# Your code here"
   ]
  },
  {
   "cell_type": "markdown",
   "metadata": {},
   "source": [
    "### Region 3\n",
    "- Using only the data from region 3 calculate the mean, median and standard deviation.\n",
    "- Plot the frequency distribution, you can use `plt.hist()`\n",
    "- Try to show into your plot the mean, median and standard deviation, you can use the `plt.axvline`()`"
   ]
  },
  {
   "cell_type": "code",
   "execution_count": null,
   "metadata": {},
   "outputs": [],
   "source": [
    "# Your code here"
   ]
  },
  {
   "cell_type": "markdown",
   "metadata": {},
   "source": [
    "### Quartiles\n",
    "- Calculate the first, second and third quartile for Region 3. Explain the results that you got."
   ]
  },
  {
   "cell_type": "code",
   "execution_count": null,
   "metadata": {},
   "outputs": [],
   "source": [
    "# Your code here"
   ]
  }
 ],
 "metadata": {
  "colab": {
   "collapsed_sections": [
    "ZHu8EsuWMZPY",
    "mvqVBzqzMZPa",
    "89a44p2xMZPc"
   ],
   "name": "main.ipynb",
   "provenance": []
  },
  "kernelspec": {
   "display_name": "Python 3",
   "language": "python",
   "name": "python3"
  },
  "language_info": {
   "codemirror_mode": {
    "name": "ipython",
    "version": 3
   },
   "file_extension": ".py",
   "mimetype": "text/x-python",
   "name": "python",
   "nbconvert_exporter": "python",
   "pygments_lexer": "ipython3",
   "version": "3.8.3"
  },
  "toc": {
   "base_numbering": 1,
   "nav_menu": {},
   "number_sections": true,
   "sideBar": true,
   "skip_h1_title": false,
   "title_cell": "Table of Contents",
   "title_sidebar": "Contents",
   "toc_cell": false,
   "toc_position": {},
   "toc_section_display": true,
   "toc_window_display": false
  },
  "varInspector": {
   "cols": {
    "lenName": 16,
    "lenType": 16,
    "lenVar": 40
   },
   "kernels_config": {
    "python": {
     "delete_cmd_postfix": "",
     "delete_cmd_prefix": "del ",
     "library": "var_list.py",
     "varRefreshCmd": "print(var_dic_list())"
    },
    "r": {
     "delete_cmd_postfix": ") ",
     "delete_cmd_prefix": "rm(",
     "library": "var_list.r",
     "varRefreshCmd": "cat(var_dic_list()) "
    }
   },
   "types_to_exclude": [
    "module",
    "function",
    "builtin_function_or_method",
    "instance",
    "_Feature"
   ],
   "window_display": false
  }
 },
 "nbformat": 4,
 "nbformat_minor": 1
}
