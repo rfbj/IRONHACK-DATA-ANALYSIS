{
 "cells": [
  {
   "cell_type": "markdown",
   "id": "0536ee19",
   "metadata": {},
   "source": [
    "# Darts Game"
   ]
  },
  {
   "cell_type": "raw",
   "id": "e6eed500",
   "metadata": {},
   "source": [
    "- User enters his name to start the game\n",
    "- User thows a dart\n",
    "    - Throw as a function?\n",
    "    - Throw - Loop - Random - Range (0-100)\n",
    "\n",
    "- Target is fix object\n",
    "- User gets points according to how close dart hits the center of the target\n",
    "    \n",
    "    Points:\n",
    "    \n",
    "    |_10_|_25_|_50_|_75_|_100_|_75_|_50_|_25_|_10_|\n",
    "    \n",
    "    Target:\n",
    "    \n",
    "    (    (    (    (    (BsEye)    )    )    )    )\n",
    "    \n",
    "    Range:\n",
    "    |_____________________100_____________________|\n",
    "    \n",
    "- consecutive hits multiply user points\n",
    "  - if hit --> hit += 1 -- consecutive bonus --> points * consecutive where consecutive = hit (if hit !=0)\n",
    "  \n",
    "- When user gets to 250 points he wins\n",
    "\n",
    "- When user wins he gets prompted whether or not he wants to play again\n",
    "\n",
    "OPTIONAL:\n",
    "\n",
    "- User can use point to buy powerups\n",
    "- Powerups lower targets range making it easier to hit bullseye(?)\n",
    "\n"
   ]
  },
  {
   "cell_type": "raw",
   "id": "361eff26",
   "metadata": {},
   "source": [
    " ____\n",
    " \\___\\_.:::::::.___\n",
    " /___/ ':::::::'     jgs\n",
    "\n",
    "\n",
    "\n",
    "    __________\n",
    "   /M\\\\\\M|||M//.\n",
    "  /MMM\\\\\\|||///M:.\n",
    " /MMMMM\\\\ | //MMMM:.              ______________________\n",
    "(=========+======<]]]]::::::::::<|||_|||_|||_|||_|||_|||>=========-\n",
    " \\#MMMM// | \\\\MMMM:'\n",
    "  \\#MM///|||\\\\\\M:'\n",
    "   \\M///M|||M\\\\'\n",
    "\n"
   ]
  },
  {
   "cell_type": "code",
   "execution_count": 14,
   "id": "5389b5d9",
   "metadata": {},
   "outputs": [
    {
     "name": "stdout",
     "output_type": "stream",
     "text": [
      "Please type your name to start the game: aaaaaaaaaaa\n",
      "        _  \\|/\n",
      "  -c/,=<<  ) \\\n",
      "   ( /    < ) |\n",
      "   //    \"(  _/\n",
      "  //_,___,/-' `\\_\n",
      " (___| aaaaaaaaaaa \\`\\\n",
      "     '--)        \\--\n",
      "        (         ) \\\n",
      "         \\=(===)==/\\ \\\n",
      "         |        >>(8\\=\n",
      "         |    ,    \\ \"\"\n",
      "         |   / \\    \\\n",
      "         |  /   \\    \\\n",
      "         |  \\    \\    \\\n",
      "         |___\\    \\____\\\n",
      "         ( )         ( )    \n",
      "\n",
      "    ,-'...`-,    ,-----.\n",
      "  ,' \\ _|_ / `.  |[100]|\n",
      " /`.,'\\ | /`.,'\\ `-----'  |\n",
      "(  /`. \\|/ ,'\\  )      |  H\n",
      "|--|--;=@=:--|--|   |  H  U\n",
      "(  \\,' /|\\ `./  )   H  U  |\n",
      " \\,'`./ | \\,'`./    U  | (|)\n",
      "  `. / ... \\ ,'     | (|)\n",
      "    '-._|_,-`      (|)\n",
      "\n"
     ]
    }
   ],
   "source": [
    "#Teste\n",
    "\n",
    "points = [100]\n",
    "print(fr\"\"\"\n",
    "    ,-'...`-,    ,-----.\n",
    "  ,' \\ _|_ / `.  |{points}|\n",
    " /`.,'\\ | /`.,'\\ `-----'  |\n",
    "(  /`. \\|/ ,'\\  )      |  H\n",
    "|--|--;=@=:--|--|   |  H  U\n",
    "(  \\,' /|\\ `./  )   H  U  |\n",
    " \\,'`./ | \\,'`./    U  | (|)\n",
    "  `. / ... \\ ,'     | (|)\n",
    "    '-._|_,-`      (|)\n",
    "\"\"\")"
   ]
  },
  {
   "cell_type": "code",
   "execution_count": null,
   "id": "d5a4160d",
   "metadata": {},
   "outputs": [],
   "source": [
    "#____________ Py_DARTS ____________#\n",
    "import random\n",
    "your_name = input(\"Please type your name to start the game: \")\n",
    "print(fr\"\"\" \n",
    "############ WELCOME TO PyDARTS ############        \n",
    "#                                          #\n",
    "#                                          #\n",
    "#                                          #\n",
    "#       _  \\|/                             #\n",
    "#  -c/,=<<  ) \\                            # \n",
    "#   ( /    < ) |                           #  \n",
    "#   //    \"(  _/                           #  \n",
    "#  //_,___,/-' `\\_                         #    \n",
    "# (___| {your_name} \\`\\                        #         \n",
    "#     '--)        \\--                      #       \n",
    "#        (         ) \\                     #        \n",
    "#         \\=(===)==/\\ \\                    #         \n",
    "#         |        >>(8\\=                  #           \n",
    "#         |    ,    \\ \"\"                   #          \n",
    "#         |   / \\    \\                     #        \n",
    "#         |  /   \\    \\                    #         \n",
    "#         |  \\    \\    \\                   #          \n",
    "#         |___\\    \\____\\                  #           \n",
    "#         ( )         ( )                  #               \n",
    "############################################\"\"\")\n",
    "\n",
    "while True:\n",
    "    pos_dart = random.sample(range(101),100)\n",
    "    print(pos_dart)\n",
    "\n",
    "def throw(number_of_times):\n",
    "    pass"
   ]
  },
  {
   "cell_type": "code",
   "execution_count": null,
   "id": "de69719e",
   "metadata": {},
   "outputs": [],
   "source": []
  }
 ],
 "metadata": {
  "kernelspec": {
   "display_name": "Python 3 (ipykernel)",
   "language": "python",
   "name": "python3"
  },
  "language_info": {
   "codemirror_mode": {
    "name": "ipython",
    "version": 3
   },
   "file_extension": ".py",
   "mimetype": "text/x-python",
   "name": "python",
   "nbconvert_exporter": "python",
   "pygments_lexer": "ipython3",
   "version": "3.9.7"
  }
 },
 "nbformat": 4,
 "nbformat_minor": 5
}
