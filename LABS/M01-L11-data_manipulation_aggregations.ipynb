{
 "cells": [
  {
   "cell_type": "markdown",
   "metadata": {
    "colab_type": "text",
    "id": "-T-avYysBKrm"
   },
   "source": [
    "# Lab-Data-Manipulation-Aggregations\n",
    "\n",
    "#### 1. Import Pandas package under the alias pd and Numpy under the alias np."
   ]
  },
  {
   "cell_type": "code",
   "execution_count": 121,
   "metadata": {
    "ExecuteTime": {
     "end_time": "2022-01-20T13:21:16.786605Z",
     "start_time": "2022-01-20T13:21:16.776632Z"
    },
    "colab": {},
    "colab_type": "code",
    "id": "_BQkvDpkBKrn"
   },
   "outputs": [],
   "source": [
    "import pandas as pd\n",
    "import numpy as np"
   ]
  },
  {
   "cell_type": "markdown",
   "metadata": {
    "colab_type": "text",
    "id": "-KF05CI9BKrr"
   },
   "source": [
    "#### 2. Define a variable called `path` that contains the path to the csv file you downloaded (apple_store.csv). "
   ]
  },
  {
   "cell_type": "code",
   "execution_count": 122,
   "metadata": {
    "ExecuteTime": {
     "end_time": "2022-01-20T13:21:19.645350Z",
     "start_time": "2022-01-20T13:21:19.630390Z"
    },
    "colab": {},
    "colab_type": "code",
    "id": "49qtHJglBKrs"
   },
   "outputs": [],
   "source": [
    "# your code here\n",
    "path = \"data/apple_store.csv\""
   ]
  },
  {
   "cell_type": "markdown",
   "metadata": {
    "colab_type": "text",
    "id": "XtXAc1oZBKru"
   },
   "source": [
    "#### 3. Using pandas, read the file into a dataframe.\n",
    "\n",
    "Assign the returned value to a variable called `data`."
   ]
  },
  {
   "cell_type": "code",
   "execution_count": 123,
   "metadata": {
    "ExecuteTime": {
     "end_time": "2022-01-20T13:21:23.340393Z",
     "start_time": "2022-01-20T13:21:23.298403Z"
    },
    "colab": {},
    "colab_type": "code",
    "id": "DAQSQudCBKru"
   },
   "outputs": [],
   "source": [
    "data = pd.read_csv(path)"
   ]
  },
  {
   "cell_type": "markdown",
   "metadata": {
    "colab_type": "text",
    "id": "oOb3E8DTBKrw"
   },
   "source": [
    "#### 4. Print the first 5 rows of `data` to see what the data look like.\n",
    "\n",
    "A data analyst usually does this to have a general understanding about what the data look like before digging deep."
   ]
  },
  {
   "cell_type": "code",
   "execution_count": 6,
   "metadata": {
    "ExecuteTime": {
     "end_time": "2022-01-20T10:37:53.419167Z",
     "start_time": "2022-01-20T10:37:53.396197Z"
    },
    "colab": {},
    "colab_type": "code",
    "id": "A5xH-ZEOBKrx"
   },
   "outputs": [
    {
     "data": {
      "text/html": [
       "<div>\n",
       "<style scoped>\n",
       "    .dataframe tbody tr th:only-of-type {\n",
       "        vertical-align: middle;\n",
       "    }\n",
       "\n",
       "    .dataframe tbody tr th {\n",
       "        vertical-align: top;\n",
       "    }\n",
       "\n",
       "    .dataframe thead th {\n",
       "        text-align: right;\n",
       "    }\n",
       "</style>\n",
       "<table border=\"1\" class=\"dataframe\">\n",
       "  <thead>\n",
       "    <tr style=\"text-align: right;\">\n",
       "      <th></th>\n",
       "      <th>id</th>\n",
       "      <th>track_name</th>\n",
       "      <th>size_bytes</th>\n",
       "      <th>price</th>\n",
       "      <th>rating_count_tot</th>\n",
       "      <th>rating_count_ver</th>\n",
       "      <th>user_rating</th>\n",
       "      <th>user_rating_ver</th>\n",
       "      <th>prime_genre</th>\n",
       "    </tr>\n",
       "  </thead>\n",
       "  <tbody>\n",
       "    <tr>\n",
       "      <th>0</th>\n",
       "      <td>281656475</td>\n",
       "      <td>PAC-MAN Premium</td>\n",
       "      <td>100788224</td>\n",
       "      <td>3.99</td>\n",
       "      <td>21292</td>\n",
       "      <td>26</td>\n",
       "      <td>4.0</td>\n",
       "      <td>4.5</td>\n",
       "      <td>Games</td>\n",
       "    </tr>\n",
       "    <tr>\n",
       "      <th>1</th>\n",
       "      <td>281796108</td>\n",
       "      <td>Evernote - stay organized</td>\n",
       "      <td>158578688</td>\n",
       "      <td>0.00</td>\n",
       "      <td>161065</td>\n",
       "      <td>26</td>\n",
       "      <td>4.0</td>\n",
       "      <td>3.5</td>\n",
       "      <td>Productivity</td>\n",
       "    </tr>\n",
       "    <tr>\n",
       "      <th>2</th>\n",
       "      <td>281940292</td>\n",
       "      <td>WeatherBug - Local Weather, Radar, Maps, Alerts</td>\n",
       "      <td>100524032</td>\n",
       "      <td>0.00</td>\n",
       "      <td>188583</td>\n",
       "      <td>2822</td>\n",
       "      <td>3.5</td>\n",
       "      <td>4.5</td>\n",
       "      <td>Weather</td>\n",
       "    </tr>\n",
       "    <tr>\n",
       "      <th>3</th>\n",
       "      <td>282614216</td>\n",
       "      <td>eBay: Best App to Buy, Sell, Save! Online Shop...</td>\n",
       "      <td>128512000</td>\n",
       "      <td>0.00</td>\n",
       "      <td>262241</td>\n",
       "      <td>649</td>\n",
       "      <td>4.0</td>\n",
       "      <td>4.5</td>\n",
       "      <td>Shopping</td>\n",
       "    </tr>\n",
       "    <tr>\n",
       "      <th>4</th>\n",
       "      <td>282935706</td>\n",
       "      <td>Bible</td>\n",
       "      <td>92774400</td>\n",
       "      <td>0.00</td>\n",
       "      <td>985920</td>\n",
       "      <td>5320</td>\n",
       "      <td>4.5</td>\n",
       "      <td>5.0</td>\n",
       "      <td>Reference</td>\n",
       "    </tr>\n",
       "  </tbody>\n",
       "</table>\n",
       "</div>"
      ],
      "text/plain": [
       "          id                                         track_name  size_bytes  \\\n",
       "0  281656475                                    PAC-MAN Premium   100788224   \n",
       "1  281796108                          Evernote - stay organized   158578688   \n",
       "2  281940292    WeatherBug - Local Weather, Radar, Maps, Alerts   100524032   \n",
       "3  282614216  eBay: Best App to Buy, Sell, Save! Online Shop...   128512000   \n",
       "4  282935706                                              Bible    92774400   \n",
       "\n",
       "   price  rating_count_tot  rating_count_ver  user_rating  user_rating_ver  \\\n",
       "0   3.99             21292                26          4.0              4.5   \n",
       "1   0.00            161065                26          4.0              3.5   \n",
       "2   0.00            188583              2822          3.5              4.5   \n",
       "3   0.00            262241               649          4.0              4.5   \n",
       "4   0.00            985920              5320          4.5              5.0   \n",
       "\n",
       "    prime_genre  \n",
       "0         Games  \n",
       "1  Productivity  \n",
       "2       Weather  \n",
       "3      Shopping  \n",
       "4     Reference  "
      ]
     },
     "execution_count": 6,
     "metadata": {},
     "output_type": "execute_result"
    }
   ],
   "source": [
    "# your code here\n",
    "data.head(5)"
   ]
  },
  {
   "cell_type": "markdown",
   "metadata": {
    "colab_type": "text",
    "id": "XPwkXWTNBKrz"
   },
   "source": [
    "#### 5. Print the summary of the data."
   ]
  },
  {
   "cell_type": "code",
   "execution_count": 7,
   "metadata": {
    "ExecuteTime": {
     "end_time": "2022-01-20T10:38:41.074894Z",
     "start_time": "2022-01-20T10:38:41.054926Z"
    },
    "colab": {},
    "colab_type": "code",
    "id": "5J8c1mjXBKrz"
   },
   "outputs": [
    {
     "data": {
      "text/plain": [
       "<bound method NDFrame.describe of               id                                         track_name  \\\n",
       "0      281656475                                    PAC-MAN Premium   \n",
       "1      281796108                          Evernote - stay organized   \n",
       "2      281940292    WeatherBug - Local Weather, Radar, Maps, Alerts   \n",
       "3      282614216  eBay: Best App to Buy, Sell, Save! Online Shop...   \n",
       "4      282935706                                              Bible   \n",
       "...          ...                                                ...   \n",
       "7192  1187617475                                              Kubik   \n",
       "7193  1187682390                                  VR Roller-Coaster   \n",
       "7194  1187779532              Bret Michaels Emojis + Lyric Keyboard   \n",
       "7195  1187838770          VR Roller Coaster World - Virtual Reality   \n",
       "7196  1188375727                       Escape the Sweet Shop Series   \n",
       "\n",
       "      size_bytes  price  rating_count_tot  rating_count_ver  user_rating  \\\n",
       "0      100788224   3.99             21292                26          4.0   \n",
       "1      158578688   0.00            161065                26          4.0   \n",
       "2      100524032   0.00            188583              2822          3.5   \n",
       "3      128512000   0.00            262241               649          4.0   \n",
       "4       92774400   0.00            985920              5320          4.5   \n",
       "...          ...    ...               ...               ...          ...   \n",
       "7192   126644224   0.00               142                75          4.5   \n",
       "7193   120760320   0.00                30                30          4.5   \n",
       "7194   111322112   1.99                15                 0          4.5   \n",
       "7195    97235968   0.00                85                32          4.5   \n",
       "7196    90898432   0.00                 3                 3          5.0   \n",
       "\n",
       "      user_rating_ver   prime_genre  \n",
       "0                 4.5         Games  \n",
       "1                 3.5  Productivity  \n",
       "2                 4.5       Weather  \n",
       "3                 4.5      Shopping  \n",
       "4                 5.0     Reference  \n",
       "...               ...           ...  \n",
       "7192              4.5         Games  \n",
       "7193              4.5         Games  \n",
       "7194              0.0     Utilities  \n",
       "7195              4.5         Games  \n",
       "7196              5.0         Games  \n",
       "\n",
       "[7197 rows x 9 columns]>"
      ]
     },
     "execution_count": 7,
     "metadata": {},
     "output_type": "execute_result"
    }
   ],
   "source": [
    "# your code here\n",
    "#describe sumariza a tabela\n",
    "data.describe"
   ]
  },
  {
   "cell_type": "markdown",
   "metadata": {
    "colab_type": "text",
    "id": "0VkKbby1BKr1"
   },
   "source": [
    "#### 6. Print the number of columns in the data."
   ]
  },
  {
   "cell_type": "code",
   "execution_count": 18,
   "metadata": {
    "ExecuteTime": {
     "end_time": "2022-01-20T10:55:55.561081Z",
     "start_time": "2022-01-20T10:55:55.547114Z"
    },
    "colab": {},
    "colab_type": "code",
    "id": "8-8_DhPqBKr1"
   },
   "outputs": [
    {
     "name": "stdout",
     "output_type": "stream",
     "text": [
      "########### data.columns ##########\n",
      " Index(['id', 'track_name', 'size_bytes', 'price', 'rating_count_tot',\n",
      "       'rating_count_ver', 'user_rating', 'user_rating_ver', 'prime_genre'],\n",
      "      dtype='object') \n",
      "\n",
      "\n",
      "\n",
      "########### data.shape - 1 for columns | 0 for index ##########\n",
      " 9 \n",
      "\n",
      "\n",
      "\n",
      "########### len - data.column ##########s\n",
      " 9 \n",
      "\n",
      "\n",
      "\n"
     ]
    }
   ],
   "source": [
    "# your code here\n",
    "print(\"########### data.shape - 1 for columns | 0 for index ##########\\n\", data.shape[1],\"\\n\\n\\n\")\n",
    "\n",
    "print(\"########### len - data.column ##########s\\n\", len(data.columns),\"\\n\\n\\n\")\n"
   ]
  },
  {
   "cell_type": "markdown",
   "metadata": {
    "colab_type": "text",
    "id": "EQxXv_GgBKr3"
   },
   "source": [
    "#### 7. Print all column names."
   ]
  },
  {
   "cell_type": "code",
   "execution_count": null,
   "metadata": {
    "colab": {},
    "colab_type": "code",
    "id": "WcBSxx4sBKr4"
   },
   "outputs": [],
   "source": [
    "# your code here\n",
    "print(\"########### data.columns ##########\\n\", data.columns,\"\\n\\n\\n\")"
   ]
  },
  {
   "cell_type": "markdown",
   "metadata": {
    "colab_type": "text",
    "id": "SimayS0JBKr6"
   },
   "source": [
    "#### 8.Now that we have a general understanding of the data, we'll start working on the challenge questions. How many apps are there in the data source? Print the number of observations of the data.\n",
    "\n",
    "**Hint**: Your code should return the number 7197."
   ]
  },
  {
   "cell_type": "code",
   "execution_count": 126,
   "metadata": {
    "ExecuteTime": {
     "end_time": "2022-01-20T13:23:13.780745Z",
     "start_time": "2022-01-20T13:23:13.766783Z"
    },
    "colab": {},
    "colab_type": "code",
    "id": "8-UhwXRnBKr6"
   },
   "outputs": [
    {
     "data": {
      "text/plain": [
       "7197"
      ]
     },
     "execution_count": 126,
     "metadata": {},
     "output_type": "execute_result"
    }
   ],
   "source": [
    "# your code here\n",
    "data.rename(columns={\"_name\":\"apps\"}, inplace=True)\n",
    "#data.rename({\"_name\":\"apps\"}, axis=\"columns\")\n",
    "#data.columns\n",
    "data[\"apps\"].count()"
   ]
  },
  {
   "cell_type": "markdown",
   "metadata": {
    "colab_type": "text",
    "id": "1QzPvfMeBKr9"
   },
   "source": [
    "#### 9. What is the average rating of all apps? \n",
    "\n",
    "First, read the `user_rating` column into a varialbe named `user_rating`."
   ]
  },
  {
   "cell_type": "code",
   "execution_count": 29,
   "metadata": {
    "ExecuteTime": {
     "end_time": "2022-01-20T11:05:03.712899Z",
     "start_time": "2022-01-20T11:05:03.696942Z"
    },
    "colab": {},
    "colab_type": "code",
    "id": "oO6mQltmBKr9"
   },
   "outputs": [
    {
     "data": {
      "text/plain": [
       "0       4.0\n",
       "1       4.0\n",
       "2       3.5\n",
       "3       4.0\n",
       "4       4.5\n",
       "       ... \n",
       "7192    4.5\n",
       "7193    4.5\n",
       "7194    4.5\n",
       "7195    4.5\n",
       "7196    5.0\n",
       "Name: user_rating, Length: 7197, dtype: float64"
      ]
     },
     "execution_count": 29,
     "metadata": {},
     "output_type": "execute_result"
    }
   ],
   "source": [
    "# your code here\n",
    "user_rating = data[\"user_rating\"]\n",
    "user_rating"
   ]
  },
  {
   "cell_type": "markdown",
   "metadata": {
    "colab_type": "text",
    "id": "hgwH0SZHBKr_"
   },
   "source": [
    "Now you can calculate the average of the `user_rating` data.\n",
    "\n",
    "**Hint**: Your code should return 3.526955675976101."
   ]
  },
  {
   "cell_type": "code",
   "execution_count": 31,
   "metadata": {
    "ExecuteTime": {
     "end_time": "2022-01-20T11:05:38.603598Z",
     "start_time": "2022-01-20T11:05:38.596646Z"
    },
    "colab": {},
    "colab_type": "code",
    "id": "prVHUI-NBKr_"
   },
   "outputs": [
    {
     "data": {
      "text/plain": [
       "3.526955675976101"
      ]
     },
     "execution_count": 31,
     "metadata": {},
     "output_type": "execute_result"
    }
   ],
   "source": [
    "# your code here\n",
    "user_rating.mean()"
   ]
  },
  {
   "cell_type": "markdown",
   "metadata": {
    "colab_type": "text",
    "id": "Eq6pTsyxBKsB"
   },
   "source": [
    "#### 10. How many apps have an average rating no less than 4?\n",
    "\n",
    "First, filter `user_rating` where its value >= 4. \n",
    "\n",
    "Assign the filtered dataframe to a new variable called `user_rating_high`."
   ]
  },
  {
   "cell_type": "code",
   "execution_count": 50,
   "metadata": {
    "ExecuteTime": {
     "end_time": "2022-01-20T11:16:26.033404Z",
     "start_time": "2022-01-20T11:16:25.997496Z"
    },
    "colab": {},
    "colab_type": "code",
    "id": "9bzYxyA_BKsC"
   },
   "outputs": [
    {
     "data": {
      "text/html": [
       "<div>\n",
       "<style scoped>\n",
       "    .dataframe tbody tr th:only-of-type {\n",
       "        vertical-align: middle;\n",
       "    }\n",
       "\n",
       "    .dataframe tbody tr th {\n",
       "        vertical-align: top;\n",
       "    }\n",
       "\n",
       "    .dataframe thead th {\n",
       "        text-align: right;\n",
       "    }\n",
       "</style>\n",
       "<table border=\"1\" class=\"dataframe\">\n",
       "  <thead>\n",
       "    <tr style=\"text-align: right;\">\n",
       "      <th></th>\n",
       "      <th>id</th>\n",
       "      <th>track_name</th>\n",
       "      <th>size_bytes</th>\n",
       "      <th>price</th>\n",
       "      <th>rating_count_tot</th>\n",
       "      <th>rating_count_ver</th>\n",
       "      <th>user_rating</th>\n",
       "      <th>user_rating_ver</th>\n",
       "      <th>prime_genre</th>\n",
       "    </tr>\n",
       "  </thead>\n",
       "  <tbody>\n",
       "    <tr>\n",
       "      <th>0</th>\n",
       "      <td>281656475</td>\n",
       "      <td>PAC-MAN Premium</td>\n",
       "      <td>100788224</td>\n",
       "      <td>3.99</td>\n",
       "      <td>21292</td>\n",
       "      <td>26</td>\n",
       "      <td>4.0</td>\n",
       "      <td>4.5</td>\n",
       "      <td>Games</td>\n",
       "    </tr>\n",
       "    <tr>\n",
       "      <th>1</th>\n",
       "      <td>281796108</td>\n",
       "      <td>Evernote - stay organized</td>\n",
       "      <td>158578688</td>\n",
       "      <td>0.00</td>\n",
       "      <td>161065</td>\n",
       "      <td>26</td>\n",
       "      <td>4.0</td>\n",
       "      <td>3.5</td>\n",
       "      <td>Productivity</td>\n",
       "    </tr>\n",
       "    <tr>\n",
       "      <th>3</th>\n",
       "      <td>282614216</td>\n",
       "      <td>eBay: Best App to Buy, Sell, Save! Online Shop...</td>\n",
       "      <td>128512000</td>\n",
       "      <td>0.00</td>\n",
       "      <td>262241</td>\n",
       "      <td>649</td>\n",
       "      <td>4.0</td>\n",
       "      <td>4.5</td>\n",
       "      <td>Shopping</td>\n",
       "    </tr>\n",
       "    <tr>\n",
       "      <th>4</th>\n",
       "      <td>282935706</td>\n",
       "      <td>Bible</td>\n",
       "      <td>92774400</td>\n",
       "      <td>0.00</td>\n",
       "      <td>985920</td>\n",
       "      <td>5320</td>\n",
       "      <td>4.5</td>\n",
       "      <td>5.0</td>\n",
       "      <td>Reference</td>\n",
       "    </tr>\n",
       "    <tr>\n",
       "      <th>5</th>\n",
       "      <td>283619399</td>\n",
       "      <td>Shanghai Mahjong</td>\n",
       "      <td>10485713</td>\n",
       "      <td>0.99</td>\n",
       "      <td>8253</td>\n",
       "      <td>5516</td>\n",
       "      <td>4.0</td>\n",
       "      <td>4.0</td>\n",
       "      <td>Games</td>\n",
       "    </tr>\n",
       "    <tr>\n",
       "      <th>...</th>\n",
       "      <td>...</td>\n",
       "      <td>...</td>\n",
       "      <td>...</td>\n",
       "      <td>...</td>\n",
       "      <td>...</td>\n",
       "      <td>...</td>\n",
       "      <td>...</td>\n",
       "      <td>...</td>\n",
       "      <td>...</td>\n",
       "    </tr>\n",
       "    <tr>\n",
       "      <th>7192</th>\n",
       "      <td>1187617475</td>\n",
       "      <td>Kubik</td>\n",
       "      <td>126644224</td>\n",
       "      <td>0.00</td>\n",
       "      <td>142</td>\n",
       "      <td>75</td>\n",
       "      <td>4.5</td>\n",
       "      <td>4.5</td>\n",
       "      <td>Games</td>\n",
       "    </tr>\n",
       "    <tr>\n",
       "      <th>7193</th>\n",
       "      <td>1187682390</td>\n",
       "      <td>VR Roller-Coaster</td>\n",
       "      <td>120760320</td>\n",
       "      <td>0.00</td>\n",
       "      <td>30</td>\n",
       "      <td>30</td>\n",
       "      <td>4.5</td>\n",
       "      <td>4.5</td>\n",
       "      <td>Games</td>\n",
       "    </tr>\n",
       "    <tr>\n",
       "      <th>7194</th>\n",
       "      <td>1187779532</td>\n",
       "      <td>Bret Michaels Emojis + Lyric Keyboard</td>\n",
       "      <td>111322112</td>\n",
       "      <td>1.99</td>\n",
       "      <td>15</td>\n",
       "      <td>0</td>\n",
       "      <td>4.5</td>\n",
       "      <td>0.0</td>\n",
       "      <td>Utilities</td>\n",
       "    </tr>\n",
       "    <tr>\n",
       "      <th>7195</th>\n",
       "      <td>1187838770</td>\n",
       "      <td>VR Roller Coaster World - Virtual Reality</td>\n",
       "      <td>97235968</td>\n",
       "      <td>0.00</td>\n",
       "      <td>85</td>\n",
       "      <td>32</td>\n",
       "      <td>4.5</td>\n",
       "      <td>4.5</td>\n",
       "      <td>Games</td>\n",
       "    </tr>\n",
       "    <tr>\n",
       "      <th>7196</th>\n",
       "      <td>1188375727</td>\n",
       "      <td>Escape the Sweet Shop Series</td>\n",
       "      <td>90898432</td>\n",
       "      <td>0.00</td>\n",
       "      <td>3</td>\n",
       "      <td>3</td>\n",
       "      <td>5.0</td>\n",
       "      <td>5.0</td>\n",
       "      <td>Games</td>\n",
       "    </tr>\n",
       "  </tbody>\n",
       "</table>\n",
       "<p>4781 rows × 9 columns</p>\n",
       "</div>"
      ],
      "text/plain": [
       "              id                                         track_name  \\\n",
       "0      281656475                                    PAC-MAN Premium   \n",
       "1      281796108                          Evernote - stay organized   \n",
       "3      282614216  eBay: Best App to Buy, Sell, Save! Online Shop...   \n",
       "4      282935706                                              Bible   \n",
       "5      283619399                                   Shanghai Mahjong   \n",
       "...          ...                                                ...   \n",
       "7192  1187617475                                              Kubik   \n",
       "7193  1187682390                                  VR Roller-Coaster   \n",
       "7194  1187779532              Bret Michaels Emojis + Lyric Keyboard   \n",
       "7195  1187838770          VR Roller Coaster World - Virtual Reality   \n",
       "7196  1188375727                       Escape the Sweet Shop Series   \n",
       "\n",
       "      size_bytes  price  rating_count_tot  rating_count_ver  user_rating  \\\n",
       "0      100788224   3.99             21292                26          4.0   \n",
       "1      158578688   0.00            161065                26          4.0   \n",
       "3      128512000   0.00            262241               649          4.0   \n",
       "4       92774400   0.00            985920              5320          4.5   \n",
       "5       10485713   0.99              8253              5516          4.0   \n",
       "...          ...    ...               ...               ...          ...   \n",
       "7192   126644224   0.00               142                75          4.5   \n",
       "7193   120760320   0.00                30                30          4.5   \n",
       "7194   111322112   1.99                15                 0          4.5   \n",
       "7195    97235968   0.00                85                32          4.5   \n",
       "7196    90898432   0.00                 3                 3          5.0   \n",
       "\n",
       "      user_rating_ver   prime_genre  \n",
       "0                 4.5         Games  \n",
       "1                 3.5  Productivity  \n",
       "3                 4.5      Shopping  \n",
       "4                 5.0     Reference  \n",
       "5                 4.0         Games  \n",
       "...               ...           ...  \n",
       "7192              4.5         Games  \n",
       "7193              4.5         Games  \n",
       "7194              0.0     Utilities  \n",
       "7195              4.5         Games  \n",
       "7196              5.0         Games  \n",
       "\n",
       "[4781 rows x 9 columns]"
      ]
     },
     "execution_count": 50,
     "metadata": {},
     "output_type": "execute_result"
    }
   ],
   "source": [
    "# your code here\n",
    "user_rating_high = data[data[\"user_rating\"] >= 4]\n",
    "user_rating_high"
   ]
  },
  {
   "cell_type": "markdown",
   "metadata": {
    "colab_type": "text",
    "id": "Cl67dQmnBKsD"
   },
   "source": [
    "Now obtain the length of `user_rating_high` which should return 4781."
   ]
  },
  {
   "cell_type": "code",
   "execution_count": 51,
   "metadata": {
    "ExecuteTime": {
     "end_time": "2022-01-20T11:16:59.290132Z",
     "start_time": "2022-01-20T11:16:59.279162Z"
    },
    "colab": {},
    "colab_type": "code",
    "id": "H5gaXTfRBKsE"
   },
   "outputs": [
    {
     "data": {
      "text/plain": [
       "4781"
      ]
     },
     "execution_count": 51,
     "metadata": {},
     "output_type": "execute_result"
    }
   ],
   "source": [
    "# your code here\n",
    "len(user_rating_high)"
   ]
  },
  {
   "cell_type": "markdown",
   "metadata": {
    "colab_type": "text",
    "id": "EDBFBHdiBKsF"
   },
   "source": [
    "#### 11. How many genres are there in total for all the apps?\n",
    "\n",
    "Define a new variable named `genres` that contains the `prime_genre` column of `data`. Google for how to obtain unique values of a dataframe column. "
   ]
  },
  {
   "cell_type": "code",
   "execution_count": 55,
   "metadata": {
    "ExecuteTime": {
     "end_time": "2022-01-20T11:19:26.252175Z",
     "start_time": "2022-01-20T11:19:26.233230Z"
    },
    "colab": {},
    "colab_type": "code",
    "id": "QuNCoOWaBKsG"
   },
   "outputs": [
    {
     "data": {
      "text/plain": [
       "array(['Games', 'Productivity', 'Weather', 'Shopping', 'Reference',\n",
       "       'Finance', 'Music', 'Utilities', 'Travel', 'Social Networking',\n",
       "       'Sports', 'Business', 'Health & Fitness', 'Entertainment',\n",
       "       'Photo & Video', 'Navigation', 'Education', 'Lifestyle',\n",
       "       'Food & Drink', 'News', 'Book', 'Medical', 'Catalogs'],\n",
       "      dtype=object)"
      ]
     },
     "execution_count": 55,
     "metadata": {},
     "output_type": "execute_result"
    }
   ],
   "source": [
    "# your code here\n",
    "genres = data[\"prime_genre\"]\n",
    "genres.unique()"
   ]
  },
  {
   "cell_type": "markdown",
   "metadata": {
    "colab_type": "text",
    "id": "ob1sVDSZBKsH"
   },
   "source": [
    "Print the length of the unique values of `genres`. Your code should return 23."
   ]
  },
  {
   "cell_type": "code",
   "execution_count": 57,
   "metadata": {
    "ExecuteTime": {
     "end_time": "2022-01-20T11:20:35.521758Z",
     "start_time": "2022-01-20T11:20:35.507794Z"
    },
    "colab": {},
    "colab_type": "code",
    "id": "eA0sNkYCBKsI"
   },
   "outputs": [
    {
     "data": {
      "text/plain": [
       "23"
      ]
     },
     "execution_count": 57,
     "metadata": {},
     "output_type": "execute_result"
    }
   ],
   "source": [
    "# your code here\n",
    "len(genres.unique())"
   ]
  },
  {
   "cell_type": "markdown",
   "metadata": {
    "colab_type": "text",
    "id": "RJs9r-ipBKsJ"
   },
   "source": [
    "#### 12. What are the top 3 genres that have the most number of apps?\n",
    "\n",
    "What you want to do is to count the number of occurrences of each unique genre values. Because you already know how to obtain the unique genre values, you can of course count the # of apps of each genre one by one. However, Pandas has a convient function to let you count all values of a dataframe column with a single command. Google for \"pandas count values\" to find the solution. Your code should return the following:\n",
    "\n",
    "```\n",
    "Games            3862\n",
    "Entertainment     535\n",
    "Education         453\n",
    "Name: prime_genre, dtype: int64\n",
    "```"
   ]
  },
  {
   "cell_type": "code",
   "execution_count": 112,
   "metadata": {
    "ExecuteTime": {
     "end_time": "2022-01-20T11:58:48.372112Z",
     "start_time": "2022-01-20T11:58:48.350141Z"
    },
    "colab": {},
    "colab_type": "code",
    "id": "ozyTheRuBKsK"
   },
   "outputs": [
    {
     "data": {
      "text/plain": [
       "Games            3862\n",
       "Entertainment     535\n",
       "Education         453\n",
       "Name: prime_genre, dtype: int64"
      ]
     },
     "execution_count": 112,
     "metadata": {},
     "output_type": "execute_result"
    }
   ],
   "source": [
    "# your code here\n",
    "#data[\"prime_genre\"].count()\n",
    "game_genres_values = genres.value_counts()\n",
    "genres.value_counts().head(3)"
   ]
  },
  {
   "cell_type": "markdown",
   "metadata": {
    "colab_type": "text",
    "id": "Jgoed3PTBKsM"
   },
   "source": [
    "#### 13. Which genre is most likely to contain free apps?\n",
    "\n",
    "First, filter `data` where the price is 0.00. Assign the filtered data to a new variable called `free_apps`. Then count the values in `free_apps`. Your code should return:\n",
    "\n",
    "```\n",
    "Games                2257\n",
    "Entertainment         334\n",
    "Photo & Video         167\n",
    "Social Networking     143\n",
    "Education             132\n",
    "Shopping              121\n",
    "Utilities             109\n",
    "Lifestyle              94\n",
    "Finance                84\n",
    "Sports                 79\n",
    "Health & Fitness       76\n",
    "Music                  67\n",
    "Book                   66\n",
    "Productivity           62\n",
    "News                   58\n",
    "Travel                 56\n",
    "Food & Drink           43\n",
    "Weather                31\n",
    "Navigation             20\n",
    "Reference              20\n",
    "Business               20\n",
    "Catalogs                9\n",
    "Medical                 8\n",
    "Name: prime_genre, dtype: int64\n",
    "```"
   ]
  },
  {
   "cell_type": "code",
   "execution_count": 114,
   "metadata": {
    "ExecuteTime": {
     "end_time": "2022-01-20T12:00:57.285226Z",
     "start_time": "2022-01-20T12:00:57.262286Z"
    },
    "colab": {},
    "colab_type": "code",
    "id": "SiXB6XVYBKsM"
   },
   "outputs": [
    {
     "data": {
      "text/plain": [
       "Games                2257\n",
       "Entertainment         334\n",
       "Photo & Video         167\n",
       "Social Networking     143\n",
       "Education             132\n",
       "Shopping              121\n",
       "Utilities             109\n",
       "Lifestyle              94\n",
       "Finance                84\n",
       "Sports                 79\n",
       "Health & Fitness       76\n",
       "Music                  67\n",
       "Book                   66\n",
       "Productivity           62\n",
       "News                   58\n",
       "Travel                 56\n",
       "Food & Drink           43\n",
       "Weather                31\n",
       "Business               20\n",
       "Reference              20\n",
       "Navigation             20\n",
       "Catalogs                9\n",
       "Medical                 8\n",
       "Name: prime_genre, dtype: int64"
      ]
     },
     "execution_count": 114,
     "metadata": {},
     "output_type": "execute_result"
    }
   ],
   "source": [
    "# your code here\n",
    "free_apps = data[data[\"price\"] == 0]\n",
    "free_apps_values = free_apps[\"prime_genre\"].value_counts()\n",
    "free_apps[\"prime_genre\"].value_counts()\n"
   ]
  },
  {
   "cell_type": "markdown",
   "metadata": {
    "colab_type": "text",
    "id": "ZTLrBhefBKsO"
   },
   "source": [
    "#### 14. Now you can calculate the proportion of the free apps in each genre based on the value counts you obtained in the previous two steps. \n",
    "\n",
    "Challenge yourself by achieving that with one line of code. The output should look like:\n",
    "\n",
    "```\n",
    "Shopping             0.991803\n",
    "Catalogs             0.900000\n",
    "Social Networking    0.856287\n",
    "Finance              0.807692\n",
    "News                 0.773333\n",
    "Sports               0.692982\n",
    "Travel               0.691358\n",
    "Food & Drink         0.682540\n",
    "Lifestyle            0.652778\n",
    "Entertainment        0.624299\n",
    "Book                 0.589286\n",
    "Games                0.584412\n",
    "Music                0.485507\n",
    "Photo & Video        0.478510\n",
    "Utilities            0.439516\n",
    "Navigation           0.434783\n",
    "Weather              0.430556\n",
    "Health & Fitness     0.422222\n",
    "Business             0.350877\n",
    "Productivity         0.348315\n",
    "Medical              0.347826\n",
    "Reference            0.312500\n",
    "Education            0.291391\n",
    "Name: prime_genre, dtype: float64\n",
    "```\n",
    "\n",
    "The numbers are interesting, aren't they?"
   ]
  },
  {
   "cell_type": "code",
   "execution_count": 120,
   "metadata": {
    "ExecuteTime": {
     "end_time": "2022-01-20T12:05:59.210807Z",
     "start_time": "2022-01-20T12:05:59.202856Z"
    }
   },
   "outputs": [
    {
     "data": {
      "text/plain": [
       "Shopping             0.991803\n",
       "Catalogs             0.900000\n",
       "Social Networking    0.856287\n",
       "Finance              0.807692\n",
       "News                 0.773333\n",
       "Sports               0.692982\n",
       "Travel               0.691358\n",
       "Food & Drink         0.682540\n",
       "Lifestyle            0.652778\n",
       "Entertainment        0.624299\n",
       "Book                 0.589286\n",
       "Games                0.584412\n",
       "Music                0.485507\n",
       "Photo & Video        0.478510\n",
       "Utilities            0.439516\n",
       "Navigation           0.434783\n",
       "Weather              0.430556\n",
       "Health & Fitness     0.422222\n",
       "Business             0.350877\n",
       "Productivity         0.348315\n",
       "Medical              0.347826\n",
       "Reference            0.312500\n",
       "Education            0.291391\n",
       "Name: prime_genre, dtype: float64"
      ]
     },
     "execution_count": 120,
     "metadata": {},
     "output_type": "execute_result"
    }
   ],
   "source": [
    "(free_apps_values/game_genres_values).sort_values(ascending=False)"
   ]
  },
  {
   "cell_type": "code",
   "execution_count": 111,
   "metadata": {
    "ExecuteTime": {
     "end_time": "2022-01-20T11:53:12.837108Z",
     "start_time": "2022-01-20T11:53:12.818162Z"
    },
    "colab": {},
    "colab_type": "code",
    "hide_input": true,
    "id": "ZWJvgy0RBKsO",
    "scrolled": true
   },
   "outputs": [
    {
     "data": {
      "text/plain": [
       "Games                3862\n",
       "Entertainment         535\n",
       "Education             453\n",
       "Photo & Video         349\n",
       "Utilities             248\n",
       "Health & Fitness      180\n",
       "Productivity          178\n",
       "Social Networking     167\n",
       "Lifestyle             144\n",
       "Music                 138\n",
       "Shopping              122\n",
       "Sports                114\n",
       "Book                  112\n",
       "Finance               104\n",
       "Travel                 81\n",
       "News                   75\n",
       "Weather                72\n",
       "Reference              64\n",
       "Food & Drink           63\n",
       "Business               57\n",
       "Navigation             46\n",
       "Medical                23\n",
       "Catalogs               10\n",
       "Name: prime_genre, dtype: int64"
      ]
     },
     "execution_count": 111,
     "metadata": {},
     "output_type": "execute_result"
    }
   ],
   "source": [
    "# your code here\n",
    "games_\n"
   ]
  },
  {
   "cell_type": "markdown",
   "metadata": {
    "colab_type": "text",
    "id": "ug4PLR_vBKsQ"
   },
   "source": [
    "#### 15. If a developer tries to make money by developing and selling Apple Store apps, in which genre should s/he develop the apps? Please assume all apps cost the same amount of time and expense to develop.\n",
    "\n",
    "We will leave this question to you. There are several way to solve it. Ideally your output should look like below:\n",
    "\n",
    "```\n",
    "    average_price              genre\n",
    "21       8.776087            Medical\n",
    "11       5.116316           Business\n",
    "4        4.836875          Reference\n",
    "6        4.835435              Music\n",
    "1        4.330562       Productivity\n",
    "15       4.124783         Navigation\n",
    "16       4.028234          Education\n",
    "12       1.916444   Health & Fitness\n",
    "20       1.790536               Book\n",
    "7        1.647621          Utilities\n",
    "2        1.605417            Weather\n",
    "18       1.552381       Food & Drink\n",
    "14       1.473295      Photo & Video\n",
    "0        1.432923              Games\n",
    "8        1.120370             Travel\n",
    "10       0.953070             Sports\n",
    "13       0.889701      Entertainment\n",
    "17       0.885417          Lifestyle\n",
    "22       0.799000           Catalogs\n",
    "19       0.517733               News\n",
    "5        0.421154            Finance\n",
    "9        0.339880  Social Networking\n",
    "3        0.016311           Shopping\n",
    "```"
   ]
  },
  {
   "cell_type": "code",
   "execution_count": 181,
   "metadata": {
    "ExecuteTime": {
     "end_time": "2022-01-20T13:59:20.003924Z",
     "start_time": "2022-01-20T13:59:19.988962Z"
    },
    "colab": {},
    "colab_type": "code",
    "id": "4oQMDdNsBKsQ"
   },
   "outputs": [
    {
     "data": {
      "text/plain": [
       "<pandas.core.groupby.generic.DataFrameGroupBy object at 0x000001F286807520>"
      ]
     },
     "execution_count": 181,
     "metadata": {},
     "output_type": "execute_result"
    }
   ],
   "source": [
    "# your code here\n",
    "#Assuming that higher rating counts indicates higher app downloads:\n",
    "make_money = data.groupby([\"price\", \"prime_genre\",\"rating_count_tot\"], as_index = False)#.agg(\"rating_count_tot\":\"\", \"prime_genre\", axis = \"columns\") \n",
    "\n",
    "make_money\n"
   ]
  },
  {
   "cell_type": "markdown",
   "metadata": {},
   "source": [
    "# Bonus Challenge\n",
    "\n",
    "### The second part of this lab consists of grouping and merging results to obtain valuable information."
   ]
  },
  {
   "cell_type": "code",
   "execution_count": null,
   "metadata": {},
   "outputs": [],
   "source": [
    "# setup from the M01-L10-data_manipulation_filtering\n",
    "\n",
    "ufo = pd.read_csv('data/ufo.csv', sep = ';')\n",
    "ufo = ufo.rename(columns = {'encounter_length': 'encounter_seconds'})\n",
    "ufo_vars = ufo.loc[:, ['year', 'month', 'state', 'country', 'ufo_shape', 'encounter_seconds']]\n",
    "ufo_us = ufo_vars.loc[ufo_vars['country'] == 'us', :]"
   ]
  },
  {
   "cell_type": "markdown",
   "metadata": {},
   "source": [
    "## Let's calculate the average of the encounter for each country.\n",
    "\n",
    "We should now group the results by the country column to see what is the mean encounter_seconds for each country. Do this using the `groupby` method of your dataframe `ufo_vars`. What is the average of the encounter for the us? And for Canada?\n",
    "\n",
    "Remember that after grouping by a column, you have to specify a `aggregating function`. If you don't do that, the results of the groupby will only be a `groupby` pandas object. For this case, we want the aggregating function to be the `mean` function and then the results will appear for us.\n",
    "\n",
    "Also remember that **if you don't** specify the `as_index=False` argument, the variables you use to group are going to become your new indexes.\n",
    "\n",
    "Expected output:\n",
    "\n",
    "\n",
    "|    | country   |    year |   month |   encounter_seconds |\n",
    "|---:|:----------|--------:|--------:|--------------------:|\n",
    "|  0 | au        | 2002.69 | 6.12825 |             3806.47 |\n",
    "|  1 | ca        | 2003.69 | 6.86167 |            28859.43 |\n",
    "|  2 | de        | 2001.54 | 6.24762 |            24255.98 |\n",
    "|  3 | gb        | 2003.65 | 6.5622  |            66061.32 |\n",
    "|  4 | us        | 2004.09 | 6.8616  |             5800.19 |"
   ]
  },
  {
   "cell_type": "code",
   "execution_count": null,
   "metadata": {},
   "outputs": [],
   "source": [
    "# your code here"
   ]
  },
  {
   "cell_type": "markdown",
   "metadata": {},
   "source": [
    "## Perform the same task, but instead of calculating the mean, count how many occurrances for each country.\n",
    "\n",
    "For this case, the aggregating function should be the `count` function. Try to understand the results for each column.\n",
    "\n",
    "Expected output:\n",
    "\n",
    "\n",
    "|    | country   |   year |   month |   state |   ufo_shape |   encounter_seconds |\n",
    "|---:|:----------|-------:|--------:|--------:|------------:|--------------------:|\n",
    "|  0 | au        |    538 |     538 |      10 |         527 |                 538 |\n",
    "|  1 | ca        |   3000 |    3000 |    2985 |        2955 |                3000 |\n",
    "|  2 | de        |    105 |     105 |       0 |         103 |                 105 |\n",
    "|  3 | gb        |   1905 |    1905 |      12 |        1855 |                1905 |\n",
    "|  4 | us        |  65114 |   65114 |   65114 |       63561 |               65112 |"
   ]
  },
  {
   "cell_type": "code",
   "execution_count": null,
   "metadata": {},
   "outputs": [],
   "source": [
    "# your code here"
   ]
  },
  {
   "cell_type": "markdown",
   "metadata": {},
   "source": [
    "## Perform the same task, but instead of calculating the mean, use the `.describe()` aggregating function to see the effects.\n",
    "\n",
    "The describe aggregating function will show you several important statistics for the grouped results, such as `mean`, `median`, `standard deviation`, `count`, `max`, `min`, and so on.\n",
    "\n",
    "*Hint: If it starts to get difficult to see the results, you can tranpose the resulting dataframe by just putting a `.T` at the end.*\n",
    "\n",
    "Expected output:\n",
    "\n",
    "\n",
    "|                   |   count |       mean |          std |      min |   25% |   50% |   75% |           max |\n",
    "|:------------------|--------:|-----------:|-------------:|---------:|------:|------:|------:|--------------:|\n",
    "| year              |   80332 | 2003.85    |     10.4268  | 1906     |  2001 |  2006 |  2011 | 2014          |\n",
    "| month             |   80332 |    6.83491 |      3.23486 |    1     |     4 |     7 |     9 |   12          |\n",
    "| encounter_seconds |   80329 | 9017.23    | 620228       |    0.001 |    30 |   180 |   600 |    97836000   |"
   ]
  },
  {
   "cell_type": "code",
   "execution_count": null,
   "metadata": {},
   "outputs": [],
   "source": [
    "# your code here"
   ]
  },
  {
   "cell_type": "markdown",
   "metadata": {},
   "source": [
    "## Now, let's get deeper in the analysis and group the results not only by country. But by `country` and `year`"
   ]
  },
  {
   "cell_type": "code",
   "execution_count": null,
   "metadata": {},
   "outputs": [],
   "source": [
    "# your code here"
   ]
  },
  {
   "cell_type": "markdown",
   "metadata": {},
   "source": [
    "# Which months are the ones with the highest numbers of occurrences?\n",
    "\n",
    "**Example of output:**\n",
    "\n",
    "\n",
    "|   month |   occurrences |\n",
    "|--------:|--------------:|\n",
    "|       7 |          9520 |\n",
    "|       8 |          8636 |\n",
    "|       6 |          8152 |\n",
    "|       9 |          7589 |\n",
    "|      10 |          7407 |\n",
    "|      11 |          6739 |\n",
    "|       1 |          5689 |\n",
    "|      12 |          5665 |\n",
    "|       4 |          5527 |\n",
    "|       3 |          5450 |\n",
    "|       5 |          5293 |\n",
    "|       2 |          4665 |"
   ]
  },
  {
   "cell_type": "code",
   "execution_count": null,
   "metadata": {},
   "outputs": [],
   "source": [
    "# your code here"
   ]
  },
  {
   "cell_type": "markdown",
   "metadata": {},
   "source": [
    "# Finally, you gathered information about the UFO dataset. Using your last result, try to bring that information for your original dataset."
   ]
  },
  {
   "cell_type": "markdown",
   "metadata": {},
   "source": [
    "1. Store the results of your previous analysis (the mean value for the encounter_seconds for each year and each country) in a dataframe called `avg_results`. \n",
    "\n",
    "Expected output:\n",
    "\n",
    "|     | country   |   year |   encounter_seconds |\n",
    "|----:|:----------|-------:|--------------------:|\n",
    "|   0 | au        |   1958 |      2700           |\n",
    "|   1 | au        |   1960 |       180           |\n",
    "|   2 | au        |   1967 |       300           |\n",
    "|   3 | au        |   1968 |       300           |\n",
    "|   4 | au        |   1972 |       403.333       | \n",
    "|   ... | ...        |   ... |       ...       | \n",
    "| 277 | us        |   2010 |      2271.99        |\n",
    "| 278 | us        |   2011 |      2544.29        |\n",
    "| 279 | us        |   2012 |     10640.6         |\n",
    "| 280 | us        |   2013 |      1266.39        |\n",
    "| 281 | us        |   2014 |       782.373       |"
   ]
  },
  {
   "cell_type": "code",
   "execution_count": null,
   "metadata": {},
   "outputs": [],
   "source": [
    "# your code here"
   ]
  },
  {
   "cell_type": "markdown",
   "metadata": {},
   "source": [
    "2. Rename the column named `encounter_seconds` to `avg_encounter_seconds`.\n",
    "\n",
    "Expected output:\n",
    "\n",
    "|     | country   |   year |   avg_encounter_seconds |\n",
    "|----:|:----------|-------:|--------------------:|\n",
    "|   0 | au        |   1958 |      2700           |\n",
    "|   1 | au        |   1960 |       180           |\n",
    "|   2 | au        |   1967 |       300           |\n",
    "|   3 | au        |   1968 |       300           |\n",
    "|   4 | au        |   1972 |       403.333       | \n",
    "|   ... | ...        |   ... |       ...       | \n",
    "| 277 | us        |   2010 |      2271.99        |\n",
    "| 278 | us        |   2011 |      2544.29        |\n",
    "| 279 | us        |   2012 |     10640.6         |\n",
    "| 280 | us        |   2013 |      1266.39        |\n",
    "| 281 | us        |   2014 |       782.373       |"
   ]
  },
  {
   "cell_type": "code",
   "execution_count": null,
   "metadata": {},
   "outputs": [],
   "source": [
    "# your code here"
   ]
  },
  {
   "cell_type": "markdown",
   "metadata": {},
   "source": [
    "3. Use the pd.merge( ... ) function to bring that new collected information to your original dataset.\n",
    "The pd.merge() function requires several arguments, let's understand the most important ones.\n",
    "\n",
    "`left` is the dataframe you want to bring information **to** - the table on the left. \n",
    "\n",
    "`right` is the dataframe you want to bring information **from** - the table on the right. \n",
    "\n",
    "`on` is the key you want to perform the merge. That is, if those values are **exactly equal** in both dataframes, then the information will be brought.\n",
    "\n",
    "Put your results on a dataframe called `merged_ufo`"
   ]
  },
  {
   "cell_type": "code",
   "execution_count": null,
   "metadata": {},
   "outputs": [],
   "source": [
    "# your code here"
   ]
  },
  {
   "cell_type": "markdown",
   "metadata": {},
   "source": [
    "Check how many rows the final result has and try to explain it. Did the dataset get smaller? Bigger? Or the same? Can you explain why? \n",
    "\n",
    "*hint: If you've found something weird, try looking back at your original dataframe and find something interesting on it.*"
   ]
  },
  {
   "cell_type": "code",
   "execution_count": null,
   "metadata": {},
   "outputs": [],
   "source": [
    "# your code here"
   ]
  },
  {
   "cell_type": "markdown",
   "metadata": {},
   "source": [
    "## Store the results into a new csv file called `ufo_enriched.csv`. \n",
    "\n",
    "Don't forget to use `index=False`."
   ]
  },
  {
   "cell_type": "code",
   "execution_count": null,
   "metadata": {},
   "outputs": [],
   "source": [
    "# your code here"
   ]
  }
 ],
 "metadata": {
  "colab": {
   "collapsed_sections": [],
   "name": "[challenge-1] pandas-deep-dive.ipynb",
   "provenance": []
  },
  "interpreter": {
   "hash": "ac59ebe37160ed0dfa835113d9b8498d9f09ceb179beaac4002f036b9467c963"
  },
  "kernelspec": {
   "display_name": "Python 3 (ipykernel)",
   "language": "python",
   "name": "python3"
  },
  "language_info": {
   "codemirror_mode": {
    "name": "ipython",
    "version": 3
   },
   "file_extension": ".py",
   "mimetype": "text/x-python",
   "name": "python",
   "nbconvert_exporter": "python",
   "pygments_lexer": "ipython3",
   "version": "3.10.1"
  },
  "varInspector": {
   "cols": {
    "lenName": 16,
    "lenType": 16,
    "lenVar": 40
   },
   "kernels_config": {
    "python": {
     "delete_cmd_postfix": "",
     "delete_cmd_prefix": "del ",
     "library": "var_list.py",
     "varRefreshCmd": "print(var_dic_list())"
    },
    "r": {
     "delete_cmd_postfix": ") ",
     "delete_cmd_prefix": "rm(",
     "library": "var_list.r",
     "varRefreshCmd": "cat(var_dic_list()) "
    }
   },
   "types_to_exclude": [
    "module",
    "function",
    "builtin_function_or_method",
    "instance",
    "_Feature"
   ],
   "window_display": false
  }
 },
 "nbformat": 4,
 "nbformat_minor": 2
}
