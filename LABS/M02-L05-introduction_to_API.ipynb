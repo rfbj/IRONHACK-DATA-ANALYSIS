{
 "cells": [
  {
   "cell_type": "markdown",
   "metadata": {},
   "source": [
    "# LAB | introduction to API"
   ]
  },
  {
   "cell_type": "markdown",
   "metadata": {},
   "source": [
    "Introduction:\n",
    "- In this lab we will work with New York Times API.\n",
    "- You can check the api documentation [here](https://developer.nytimes.com/apis)."
   ]
  },
  {
   "cell_type": "markdown",
   "metadata": {},
   "source": [
    "## Import libraries"
   ]
  },
  {
   "cell_type": "code",
   "execution_count": null,
   "metadata": {},
   "outputs": [],
   "source": [
    "# Your code here"
   ]
  },
  {
   "cell_type": "markdown",
   "metadata": {},
   "source": [
    "## Getting access to the API"
   ]
  },
  {
   "cell_type": "markdown",
   "metadata": {},
   "source": [
    "- Check the get started page [here](https://developer.nytimes.com/get-started)\n",
    "    - Create an account in the NYtimes developers \n",
    "    - Register apps. You can enable all APIs (Archive API, Article Search API, Books API ...)"
   ]
  },
  {
   "cell_type": "markdown",
   "metadata": {},
   "source": [
    "## Saving your key\n",
    "- After register the apps the website will return a API key.\n",
    "- We advise you to save the api key in the external file `your_key.txt` \n",
    "- **Be careful: Do not upload your key to a public repository in github**\n",
    "- After save you key in the `your_key.txt` file you can open and use the key with the code below:"
   ]
  },
  {
   "cell_type": "code",
   "execution_count": 2,
   "metadata": {},
   "outputs": [],
   "source": [
    "your_key = open('your_key.txt', 'r').read()"
   ]
  },
  {
   "cell_type": "code",
   "execution_count": 5,
   "metadata": {
    "ExecuteTime": {
     "end_time": "2022-02-01T20:06:59.424963Z",
     "start_time": "2022-02-01T20:06:59.399223Z"
    }
   },
   "outputs": [
    {
     "ename": "ModuleNotFoundError",
     "evalue": "No module named 'pwd'",
     "output_type": "error",
     "traceback": [
      "\u001b[1;31m---------------------------------------------------------------------------\u001b[0m",
      "\u001b[1;31mModuleNotFoundError\u001b[0m                       Traceback (most recent call last)",
      "Input \u001b[1;32mIn [5]\u001b[0m, in \u001b[0;36m<module>\u001b[1;34m\u001b[0m\n\u001b[1;32m----> 1\u001b[0m \u001b[38;5;28;01mfrom\u001b[39;00m \u001b[38;5;21;01mpwd\u001b[39;00m \u001b[38;5;28;01mimport\u001b[39;00m pwd1\n\u001b[0;32m      2\u001b[0m psw1\n",
      "\u001b[1;31mModuleNotFoundError\u001b[0m: No module named 'pwd'"
     ]
    }
   ],
   "source": [
    "from pwd import pwd1\n",
    "psw1"
   ]
  },
  {
   "cell_type": "markdown",
   "metadata": {},
   "source": [
    "______________________________"
   ]
  },
  {
   "cell_type": "markdown",
   "metadata": {},
   "source": [
    "## Archive API\n",
    "- Get all NYT article metadata for a given month.\n",
    "- You can check the documentation [here](https://developer.nytimes.com/docs/archive-product/1/routes/%7Byear%7D/%7Bmonth%7D.json/get)."
   ]
  },
  {
   "cell_type": "markdown",
   "metadata": {},
   "source": [
    "### Get articles\n",
    "\n",
    "- Use the code below to get the data.\n",
    "- You should assign a value for year and month.\n",
    "```python\n",
    "query_url_archive = f\"https://api.nytimes.com/svc/archive/v1/{year}/{month}.json?api-key={your_key}\"\n",
    "archive_request = requests.get(query_url_archive)\n",
    "archive_request\n",
    "```\n",
    "- You should get `<Response [200]>` as a result"
   ]
  },
  {
   "cell_type": "code",
   "execution_count": null,
   "metadata": {},
   "outputs": [],
   "source": [
    "# Your code here"
   ]
  },
  {
   "cell_type": "markdown",
   "metadata": {},
   "source": [
    "###  Reading the response\n",
    "- You should use `.json()` to get the information from your response"
   ]
  },
  {
   "cell_type": "code",
   "execution_count": null,
   "metadata": {},
   "outputs": [],
   "source": [
    "# Your code here"
   ]
  },
  {
   "cell_type": "markdown",
   "metadata": {},
   "source": [
    "### Creating a DataFrame\n",
    "- Create a dataframe from the request that you made.\n",
    "- **Hint**: You may need to enter in some keys from your json file"
   ]
  },
  {
   "cell_type": "code",
   "execution_count": null,
   "metadata": {},
   "outputs": [],
   "source": [
    "# Your code here"
   ]
  },
  {
   "cell_type": "markdown",
   "metadata": {},
   "source": [
    "### Working with the data\n",
    "- One of your dataframe columns shall be `news_desk`. \n",
    "- Group your dataframe by `news_desk` column and count the values.\n",
    "- What are the top 5 of this grouping"
   ]
  },
  {
   "cell_type": "code",
   "execution_count": null,
   "metadata": {},
   "outputs": [],
   "source": [
    "# Your code here"
   ]
  },
  {
   "cell_type": "markdown",
   "metadata": {},
   "source": [
    "______________________________"
   ]
  },
  {
   "cell_type": "markdown",
   "metadata": {},
   "source": [
    "# Books API\n",
    "- Get Best Sellers by date.\n",
    "- You can check the documentation [here](https://developer.nytimes.com/docs/books-product/1/routes/lists/%7Bdate%7D/%7Blist%7D.json/get)."
   ]
  },
  {
   "cell_type": "markdown",
   "metadata": {},
   "source": [
    "### Get books\n",
    "- Use the code below to get the data.\n",
    "- Use `hardcover-fiction` as `type_book`.\n",
    "```python\n",
    "query_url_book = f'https://api.nytimes.com/svc/books/v3/lists/{date}/{type_book}.json?api-key={your_key}'\n",
    "```\n"
   ]
  },
  {
   "cell_type": "code",
   "execution_count": null,
   "metadata": {},
   "outputs": [],
   "source": [
    "# Your code here"
   ]
  },
  {
   "cell_type": "markdown",
   "metadata": {},
   "source": [
    "## Creating a DataFrame\n",
    "- Create a dataframe from the request that you made.\n",
    "- Find the top 5 books of the day you chose and bring the title, author, publisher and description of the books.\n",
    "- **Hint**: You may need to enter in some keys from your json file."
   ]
  },
  {
   "cell_type": "code",
   "execution_count": null,
   "metadata": {},
   "outputs": [],
   "source": [
    "# Your code here"
   ]
  },
  {
   "cell_type": "markdown",
   "metadata": {},
   "source": [
    "______________________________"
   ]
  },
  {
   "cell_type": "markdown",
   "metadata": {},
   "source": [
    "# Movie Reviews API\n",
    "- Search New York Times movie reviews by keyword or opening date or filter by Critics' Picks.\n",
    "- You can check the documentation [here](https://developer.nytimes.com/docs/movie-reviews-api/1/overview)."
   ]
  },
  {
   "cell_type": "markdown",
   "metadata": {},
   "source": [
    "### Get movies reviews\n",
    "- Using the following list, search for movie reviews with `Movie Reviews API`.\n",
    "- Create a unique dataframe to store the results.\n",
    "```python\n",
    "list_movies = ['parasite', 'batman', 'avengers', 'pulp fiction', 'interstellar']\n",
    "```"
   ]
  },
  {
   "cell_type": "code",
   "execution_count": null,
   "metadata": {},
   "outputs": [],
   "source": [
    "# Your code here"
   ]
  }
 ],
 "metadata": {
  "kernelspec": {
   "display_name": "Python 3 (ipykernel)",
   "language": "python",
   "name": "python3"
  },
  "language_info": {
   "codemirror_mode": {
    "name": "ipython",
    "version": 3
   },
   "file_extension": ".py",
   "mimetype": "text/x-python",
   "name": "python",
   "nbconvert_exporter": "python",
   "pygments_lexer": "ipython3",
   "version": "3.10.1"
  },
  "varInspector": {
   "cols": {
    "lenName": 16,
    "lenType": 16,
    "lenVar": 40
   },
   "kernels_config": {
    "python": {
     "delete_cmd_postfix": "",
     "delete_cmd_prefix": "del ",
     "library": "var_list.py",
     "varRefreshCmd": "print(var_dic_list())"
    },
    "r": {
     "delete_cmd_postfix": ") ",
     "delete_cmd_prefix": "rm(",
     "library": "var_list.r",
     "varRefreshCmd": "cat(var_dic_list()) "
    }
   },
   "types_to_exclude": [
    "module",
    "function",
    "builtin_function_or_method",
    "instance",
    "_Feature"
   ],
   "window_display": false
  }
 },
 "nbformat": 4,
 "nbformat_minor": 4
}
