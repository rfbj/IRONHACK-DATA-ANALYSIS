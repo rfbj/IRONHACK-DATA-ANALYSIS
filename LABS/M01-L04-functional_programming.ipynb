{
 "cells": [
  {
   "cell_type": "markdown",
   "metadata": {
    "colab_type": "text",
    "id": "6I1W1y5zDCIN"
   },
   "source": [
    "# Before your start:\n",
    "- Comment as much as you can\n",
    "- Happy learning!"
   ]
  },
  {
   "cell_type": "code",
   "execution_count": 51,
   "metadata": {},
   "outputs": [],
   "source": [
    "#!pip install line_profiler\n"
   ]
  },
  {
   "cell_type": "code",
   "execution_count": 52,
   "metadata": {
    "colab": {},
    "colab_type": "code",
    "id": "1t-NDi5NDCIW",
    "scrolled": true
   },
   "outputs": [],
   "source": [
    "import numpy as np\n",
    "import pandas as pd\n"
   ]
  },
  {
   "cell_type": "markdown",
   "metadata": {
    "colab_type": "text",
    "id": "P53qCn3xDCIg"
   },
   "source": [
    "# Inside a function\n",
    "You are already familiar with several built in functions on python as well as libraries.  \n",
    "Let's try to figure out how they are made in pure python. "
   ]
  },
  {
   "cell_type": "markdown",
   "metadata": {
    "colab_type": "text",
    "id": "7Vq9tOLcDCIi"
   },
   "source": [
    "Create a function that `returns the count` of a list of numbers"
   ]
  },
  {
   "cell_type": "code",
   "execution_count": 53,
   "metadata": {},
   "outputs": [],
   "source": [
    "test_list = [1,2,3,4,5,6,7,8,9,10,12,13]"
   ]
  },
  {
   "cell_type": "code",
   "execution_count": 54,
   "metadata": {},
   "outputs": [
    {
     "name": "stdout",
     "output_type": "stream",
     "text": [
      "12\n",
      "12\n"
     ]
    }
   ],
   "source": [
    "# Your code here\n",
    "def count_list (_list):\n",
    "    \"\"\"#################\"\"\"\n",
    "    items = 0\n",
    "    for item in _list:\n",
    "        items += 1\n",
    "    return items\n",
    "\n",
    "count_list(test_list)\n",
    "\n",
    "def count_list2 (_list):\n",
    "    \"\"\"#################\"\"\"\n",
    "    return len(_list)\n",
    "\n",
    "\n",
    "print(count_list(test_list))\n",
    "\n",
    "print(count_list2(test_list))\n",
    "\n",
    "    "
   ]
  },
  {
   "cell_type": "markdown",
   "metadata": {
    "colab_type": "text",
    "id": "02PYrNc5DCIt"
   },
   "source": [
    "Create a function that `returns the mean` of a list of numbers"
   ]
  },
  {
   "cell_type": "code",
   "execution_count": 55,
   "metadata": {},
   "outputs": [
    {
     "name": "stdout",
     "output_type": "stream",
     "text": [
      "6.666666666666667\n",
      "6.666666666666667\n"
     ]
    }
   ],
   "source": [
    "# Your code here\n",
    "def mean_list (_list):\n",
    "    \"\"\"#################\"\"\"\n",
    "    items = 0\n",
    "    _sum = 0\n",
    "    for item in _list:\n",
    "        _sum += item\n",
    "        items += 1\n",
    "    return _sum/items\n",
    "#soma com um for os items da lista // também através do for soma o número de itens da lista // divide um pelo outro\n",
    "\n",
    "\n",
    "mean_list(test_list)\n",
    "\n",
    "def mean_list2 (_list):\n",
    "    \"\"\"#################\"\"\"\n",
    "    return (sum(_list))/len(_list)\n",
    "\n",
    "print(mean_list(test_list))\n",
    "print(mean_list2(test_list))\n"
   ]
  },
  {
   "cell_type": "markdown",
   "metadata": {
    "colab_type": "text",
    "id": "xy1rA4EeDCI5"
   },
   "source": [
    "Create a function that `returns the standard deviation` of a list of numbers using the previous functions you created. "
   ]
  },
  {
   "cell_type": "code",
   "execution_count": 56,
   "metadata": {},
   "outputs": [
    {
     "name": "stdout",
     "output_type": "stream",
     "text": [
      "3.704351795148811\n",
      "3.7043517951488116\n"
     ]
    }
   ],
   "source": [
    "# Your code here\n",
    "def std_dev (_list):\n",
    "    \"\"\"#################\"\"\"\n",
    "    new_list = []\n",
    "    mean = sum(_list)/len(_list)\n",
    "    for item in _list:\n",
    "        sub_mean = item - mean\n",
    "        sq_res = sub_mean**2\n",
    "        new_list.append(sq_res)\n",
    "    \n",
    "    return ((sum(new_list)/len(new_list))**(1/2))\n",
    "\n",
    "def std_dev2 (_list):\n",
    "    \"\"\"#################\"\"\"\n",
    "    return np.std(_list)\n",
    "\n",
    "print(std_dev(test_list))\n",
    "print(std_dev2(test_list))\n",
    "\n",
    "\n"
   ]
  },
  {
   "cell_type": "markdown",
   "metadata": {
    "colab_type": "text",
    "id": "Dro2ll4WDCJB"
   },
   "source": [
    "Create a function that `returns the count, mean and standard deviation` of a given list.  \n",
    "`Document this function` using triple quotes, your documentation should have description, parameters, returns and examples. "
   ]
  },
  {
   "cell_type": "code",
   "execution_count": 57,
   "metadata": {},
   "outputs": [
    {
     "data": {
      "text/plain": [
       "(12, 6.666666666666667, 3.704351795148811)"
      ]
     },
     "execution_count": 57,
     "metadata": {},
     "output_type": "execute_result"
    }
   ],
   "source": [
    "# Your code here\n",
    "def count_mean_stdev(_list):\n",
    "    \"\"\" This funcion returns the count, mean and standar deviation of a given list.\n",
    "    \n",
    "    Arguments:\n",
    "    \n",
    "    _list: Is the list provided by user\n",
    "    \n",
    "    Returns the result in the format COUNT, MEAN and STANDARD DEVIATION\n",
    "    \n",
    "    Example:\n",
    "    \n",
    "    count_mean_stdev((1,3,5,7,9,11)) = (6, 6.0, 3.415650255319866)\n",
    "    Where: \n",
    "    COUNT is 6\n",
    "    MEAN is 6.0\n",
    "    STANDARD DEVIATION is 3.415650255319866\n",
    "    \n",
    "    \"\"\"\n",
    "    cnt = count_list(_list)\n",
    "    mn = mean_list(_list)\n",
    "    std = std_dev(_list)\n",
    "    \n",
    "    return cnt, mn, std\n",
    "\n",
    "count_mean_stdev(test_list)\n",
    "    "
   ]
  },
  {
   "cell_type": "markdown",
   "metadata": {
    "colab_type": "text",
    "id": "-_YUdHo7DCJJ"
   },
   "source": [
    "# String Cleaning\n",
    "When working with textual data you will often have to clean it before being able to analyze it.  \n",
    "Create a function that receives a string and `returns that string in all lower case, without special characters and in alphabetical order`. "
   ]
  },
  {
   "cell_type": "code",
   "execution_count": 2,
   "metadata": {},
   "outputs": [],
   "source": [
    "test_string = \"xnsiAAx_vcdsmc oB.,/?xedxmew\""
   ]
  },
  {
   "cell_type": "code",
   "execution_count": 42,
   "metadata": {
    "scrolled": true
   },
   "outputs": [
    {
     "name": "stdout",
     "output_type": "stream",
     "text": [
      "2.52 µs ± 14.1 ns per loop (mean ± std. dev. of 7 runs, 100,000 loops each)\n"
     ]
    }
   ],
   "source": [
    "%%timeit\n",
    "import re\n",
    "# Your code here\n",
    "def string_cleaner(string):\n",
    "\n",
    "    #split_string = list(string.lower())\n",
    "    #print(split_string)\n",
    "    #split_string.sort() #sort não retorna nada, tenho que dar sort antes e depois printar a string\n",
    "    #clean_list = []\n",
    "    \n",
    "    clean_list = [i for i in string if i.isalpha()]\n",
    "    clean_list.sort()\n",
    "    #cl2 = sorted(string)\n",
    "    #print(cl2)\n",
    "    \n",
    "    #for i in split_string:\n",
    "    #    if i.isalpha():\n",
    "    #        clean_list.append(i)\n",
    "            \n",
    "    #print(split_string)\n",
    "    #print(clean_list)\n",
    "    \n",
    "    \n",
    "    return \"\".join(clean_list).lower()\n",
    "\n",
    "string_cleaner(test_string)"
   ]
  },
  {
   "cell_type": "code",
   "execution_count": 45,
   "metadata": {},
   "outputs": [
    {
     "name": "stdout",
     "output_type": "stream",
     "text": [
      "5.17 µs ± 10.7 ns per loop (mean ± std. dev. of 7 runs, 100,000 loops each)\n"
     ]
    }
   ],
   "source": [
    "%%timeit\n",
    "#% vale para a linha\n",
    "#%% vale para a célula\n",
    "from re import findall\n",
    "import tqdm\n",
    "\n",
    "#from tqdm.auto import tqdm\n",
    "\n",
    "def string_cleaner(string):\n",
    "    \n",
    "    clean_list = re.findall(\"[^\\W_]\",string)\n",
    "    clean_list.sort()\n",
    "    return \"\".join(clean_list).lower()\n",
    "\n",
    "string_cleaner(test_string)"
   ]
  },
  {
   "cell_type": "code",
   "execution_count": 46,
   "metadata": {},
   "outputs": [
    {
     "name": "stdout",
     "output_type": "stream",
     "text": [
      "3.06 µs ± 9.63 ns per loop (mean ± std. dev. of 7 runs, 100,000 loops each)\n"
     ]
    }
   ],
   "source": [
    "%%timeit\n",
    "# Your code here\n",
    "from tqdm.auto import tqdm\n",
    "\n",
    "def string_cleaner(string):\n",
    "\n",
    "    #split_string = list(string.lower())\n",
    "    #print(split_string)\n",
    "    #split_string.sort() #sort não retorna nada, tenho que dar sort antes e depois printar a string\n",
    "    #clean_list = []\n",
    "    \n",
    "    clean_list = sorted([i for i in string.lower() if i.isalpha()])\n",
    "    #clean_list.sort()\n",
    "    #cl2 = sorted(string)\n",
    "    #print(cl2)\n",
    "    \n",
    "    #for i in split_string:\n",
    "    #    if i.isalpha():\n",
    "    #        clean_list.append(i)\n",
    "            \n",
    "    #print(split_string)\n",
    "    #print(clean_list)\n",
    "    \n",
    "    \n",
    "    return \"\".join(clean_list)\n",
    "\n",
    "string_cleaner(test_string)"
   ]
  },
  {
   "cell_type": "markdown",
   "metadata": {
    "colab_type": "text",
    "id": "23s3vEQ-DCJO"
   },
   "source": [
    "# Classification\n",
    "Sometimes datasets provide very good and precise information but not in the way we need to use it.  \n",
    "In this challenge, `make a function` that takes the list below and turns it into a category list. \n",
    "You can use the median to set the center of your  scale:  \n",
    "`\"above the median\", \"median\", \"below the median\"`."
   ]
  },
  {
   "cell_type": "code",
   "execution_count": 47,
   "metadata": {},
   "outputs": [],
   "source": [
    "list_for_classification = [ 50, 120, 30, 10, 90, 70, 10]"
   ]
  },
  {
   "cell_type": "code",
   "execution_count": 58,
   "metadata": {},
   "outputs": [
    {
     "data": {
      "text/plain": [
       "50.0"
      ]
     },
     "execution_count": 58,
     "metadata": {},
     "output_type": "execute_result"
    }
   ],
   "source": [
    "# Your code here\n",
    "def categorized(list_):\n",
    "    \n",
    "    median = np.median(list_)\n",
    "    \n",
    "    cat_above_med =\n",
    "    \n",
    "    cat_med = \n",
    "    \n",
    "    cat_below_med = \n",
    "    \n",
    "    return np.median(list_)\n",
    "\n",
    "categorized(list_for_classification)"
   ]
  },
  {
   "cell_type": "markdown",
   "metadata": {
    "colab_type": "text",
    "id": "qgCz4w1XDCJU"
   },
   "source": [
    "# Recursion \n",
    "In some cases it is interesting to build a function that calls itself.  \n",
    "Use a `recursive function` that asks for an `input` from the users age.  \n",
    "Keeps asking it until the input is a `number between 0 and 150`. "
   ]
  },
  {
   "cell_type": "code",
   "execution_count": null,
   "metadata": {},
   "outputs": [],
   "source": [
    "# Your code here\n",
    "def recursive_age(age):\n",
    "    \"\"\"\n",
    "    \"\"\"\n",
    "    "
   ]
  },
  {
   "cell_type": "markdown",
   "metadata": {
    "colab_type": "text",
    "id": "k0oT8Xo2DCJa"
   },
   "source": [
    "# Global and local variables "
   ]
  },
  {
   "cell_type": "markdown",
   "metadata": {},
   "source": [
    "Make a function sort as words in alphabetical order.  \n",
    "Expected output:\n",
    "````python\n",
    "'AI Big Data Data Warehouse Machine Learning Pipeline'\n",
    "````"
   ]
  },
  {
   "cell_type": "markdown",
   "metadata": {},
   "source": [
    "Make the function using local variables"
   ]
  },
  {
   "cell_type": "code",
   "execution_count": null,
   "metadata": {},
   "outputs": [],
   "source": [
    "# Your code here\n",
    "def alphabetical_order_local():\n",
    "    loca_variable =  \"Big Data, Machine Learning, AI, Data Warehouse, Pipeline\"\n"
   ]
  },
  {
   "cell_type": "markdown",
   "metadata": {},
   "source": [
    "Make the function using global variables"
   ]
  },
  {
   "cell_type": "code",
   "execution_count": null,
   "metadata": {},
   "outputs": [],
   "source": [
    "# Your code here"
   ]
  },
  {
   "cell_type": "code",
   "execution_count": null,
   "metadata": {},
   "outputs": [],
   "source": [
    "global_variable = \"Big Data, Machine Learning, AI, Data Warehouse, Pipeline\"\n",
    "def alphabetical_order_global():"
   ]
  }
 ],
 "metadata": {
  "colab": {
   "name": "functional_programming.ipynb",
   "provenance": []
  },
  "kernelspec": {
   "display_name": "Python 3 (ipykernel)",
   "language": "python",
   "name": "python3"
  },
  "language_info": {
   "codemirror_mode": {
    "name": "ipython",
    "version": 3
   },
   "file_extension": ".py",
   "mimetype": "text/x-python",
   "name": "python",
   "nbconvert_exporter": "python",
   "pygments_lexer": "ipython3",
   "version": "3.10.1"
  },
  "toc": {
   "base_numbering": 1,
   "nav_menu": {},
   "number_sections": true,
   "sideBar": true,
   "skip_h1_title": false,
   "title_cell": "Table of Contents",
   "title_sidebar": "Contents",
   "toc_cell": false,
   "toc_position": {},
   "toc_section_display": true,
   "toc_window_display": false
  },
  "varInspector": {
   "cols": {
    "lenName": 16,
    "lenType": 16,
    "lenVar": 40
   },
   "kernels_config": {
    "python": {
     "delete_cmd_postfix": "",
     "delete_cmd_prefix": "del ",
     "library": "var_list.py",
     "varRefreshCmd": "print(var_dic_list())"
    },
    "r": {
     "delete_cmd_postfix": ") ",
     "delete_cmd_prefix": "rm(",
     "library": "var_list.r",
     "varRefreshCmd": "cat(var_dic_list()) "
    }
   },
   "types_to_exclude": [
    "module",
    "function",
    "builtin_function_or_method",
    "instance",
    "_Feature"
   ],
   "window_display": false
  }
 },
 "nbformat": 4,
 "nbformat_minor": 1
}
